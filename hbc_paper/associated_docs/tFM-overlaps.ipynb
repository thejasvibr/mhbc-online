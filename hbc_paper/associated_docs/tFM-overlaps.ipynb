{
 "cells": [
  {
   "cell_type": "markdown",
   "metadata": {},
   "source": [
    "This notebook is me trying to estimate the probability of echo-call overlap in the 2  and 3 bat cases. An overlap is defined in the sense of two sounds having an overlap in time, however small eg. even if sound A is from 0-3ms and sound B is from 3-6 ms, this is also considered an overlap. Essentially, it mimics the case of temporal masking, and is thus a worst-case scenario type assumption. \n",
    "\n",
    "The simulations place *N* sounds of given duration into a call+inter-pulse length window independently, and then check for overlaps among the sounds. For a given *M* runs, the number of runs with at least one overlap are counted and this rate is reported as the probability rate. \n",
    "\n",
    "Original date of notebook creation: 2020-12-26\n",
    "\n",
    "Author: Thejasvi Beleyur"
   ]
  },
  {
   "cell_type": "code",
   "execution_count": 1,
   "metadata": {},
   "outputs": [],
   "source": [
    "import joblib\n",
    "from joblib import Parallel, delayed\n",
    "import matplotlib.pyplot as plt\n",
    "plt.rcParams['agg.path.chunksize'] = 10000\n",
    "import numpy as np \n",
    "np.random.seed(82319)\n",
    "import pandas as pd"
   ]
  },
  {
   "cell_type": "code",
   "execution_count": 2,
   "metadata": {},
   "outputs": [],
   "source": [
    "%matplotlib notebook"
   ]
  },
  {
   "cell_type": "markdown",
   "metadata": {},
   "source": [
    "Let's recreate a situation where a tFM of 3.4 ms is emitted every 40ms. The 40 ms includes a typical inter-call-interval + the CF component duration too. "
   ]
  },
  {
   "cell_type": "code",
   "execution_count": 3,
   "metadata": {},
   "outputs": [],
   "source": [
    "tfm_duration = 3.4\n",
    "other_duration = 40\n",
    "\n",
    "p_occurence = tfm_duration/(tfm_duration+other_duration)"
   ]
  },
  {
   "cell_type": "code",
   "execution_count": 4,
   "metadata": {},
   "outputs": [
    {
     "name": "stdout",
     "output_type": "stream",
     "text": [
      "0.07834101382488479 0.006137314447110789\n"
     ]
    }
   ],
   "source": [
    "p_overlap = p_occurence**2\n",
    "print(p_occurence, p_overlap)"
   ]
  },
  {
   "cell_type": "markdown",
   "metadata": {},
   "source": [
    "### Checking if this actually holds up to what what I'm thinking it's telling me. \n",
    "Does the 'analytical' solution actually match what I'm thinking happens. Is this the probability of a 'perfect' overlap, or is it any kind of overlap.. including the slightest 'touching' of events? Let us simulate the situation and proceed. "
   ]
  },
  {
   "cell_type": "code",
   "execution_count": 5,
   "metadata": {},
   "outputs": [],
   "source": [
    "def create_one_sound_in_time(**kwargs):\n",
    "    '''\n",
    "    produces one sound as a set of time points that it occupies\n",
    "    '''\n",
    "    sound_durn = kwargs['sound_durn']\n",
    "    other_durn = kwargs['other_durn']\n",
    "    resolution = kwargs.get('resolution',.1)\n",
    "    \n",
    "    one_cycle_durn = sound_durn+other_durn\n",
    "    time_points = np.arange(0,other_durn-sound_durn+resolution,resolution)\n",
    "    sound_start = np.random.choice(time_points)\n",
    "    sound_end = sound_start+sound_durn\n",
    "    sound_set = set(np.arange(sound_start,sound_end+resolution,resolution))\n",
    "    return sound_set\n",
    "\n",
    "def create_n_sounds(num_sounds,**kwargs):\n",
    "    '''\n",
    "    Creates N sounds as sets with the time-points that the sounds occupy\n",
    "    '''\n",
    "    all_sounds = []\n",
    "    for each in range(num_sounds):\n",
    "        all_sounds.append(create_one_sound_in_time(**kwargs))\n",
    "    return all_sounds\n",
    "\n",
    "def check_for_overlap(n_sounds):\n",
    "    '''\n",
    "    Sound overlaps are checked by a brute-force approach that checks \n",
    "    for intersections between the tiem-points occupied by all set-pairs. \n",
    "    \n",
    "    eg. if 3 sounds, A,B and C are there, the AB, AC, pairs are \n",
    "    checked until an overlap is found. The search ends whne the first overlap \n",
    "    is found between sounds. \n",
    "    \n",
    "    The first sound is arbitrarily chosen to be the 'target' sound. \n",
    "    '''\n",
    "    overlap_found = False\n",
    "    \n",
    "    \n",
    "    overlaps  = [len(n_sounds[0].intersection(n_sounds[i]))>0 for i in range(1,len(n_sounds))]\n",
    "    if np.sum(overlaps)>0:\n",
    "        return True\n",
    "    else:\n",
    "        return False\n",
    "\n",
    "def prob_sound_overlaps(n_sounds,**kwargs):\n",
    "    '''\n",
    "    Calculates the probability of overlap between any two sounds. \n",
    "    '''\n",
    "    num_trials = kwargs['num_trials']\n",
    "    num_overlaps = 0\n",
    "    for i in range(num_trials):\n",
    "        sounds = create_n_sounds(n_sounds,**kwargs)\n",
    "\n",
    "        overlap_seen = check_for_overlap(sounds)\n",
    "        if overlap_seen:\n",
    "            num_overlaps += 1 \n",
    "    return num_overlaps/num_trials"
   ]
  },
  {
   "cell_type": "markdown",
   "metadata": {},
   "source": [
    "### For 2 bats"
   ]
  },
  {
   "cell_type": "code",
   "execution_count": 6,
   "metadata": {},
   "outputs": [
    {
     "name": "stdout",
     "output_type": "stream",
     "text": [
      "for silence40, the median overlap probability is: 0.0211\n",
      "for silence50, the median overlap probability is: 0.015525\n"
     ]
    }
   ],
   "source": [
    "call_durn = 3.4\n",
    "num_trials = 20000\n",
    "num_sounds = 2 \n",
    "silence_between_durns = [40,50]\n",
    "overlap_data = {}\n",
    "overlap_data['call_durn'] = np.tile(call_durn, len(silence_between_durns))\n",
    "overlap_data['inter_tfm_durn'] = silence_between_durns\n",
    "overlap_data['tfm_overlap_prob'] = []\n",
    "overlap_data['num_bats'] = np.tile(num_sounds,len(silence_between_durns))\n",
    "for silence_between in silence_between_durns:\n",
    "    # run 4  parallel calculations and get the median probability \n",
    "    overlap_probs = Parallel(n_jobs=4)(delayed(prob_sound_overlaps)(num_sounds,sound_durn=call_durn,other_durn=silence_between,num_trials=num_trials)for i in range(4))\n",
    "    print(f'for silence{silence_between}, the median overlap probability is: {np.median(overlap_probs)}')\n",
    "    overlap_data['tfm_overlap_prob'].append(np.median(overlap_probs))\n"
   ]
  },
  {
   "cell_type": "markdown",
   "metadata": {},
   "source": [
    "### For the 3 bat situation"
   ]
  },
  {
   "cell_type": "code",
   "execution_count": 7,
   "metadata": {},
   "outputs": [
    {
     "name": "stdout",
     "output_type": "stream",
     "text": [
      "for silence40, the median overlap probability is: 0.042800000000000005\n",
      "for silence50, the median overlap probability is: 0.030324999999999998\n"
     ]
    }
   ],
   "source": [
    "\n",
    "num_sounds = 3\n",
    "overlap_data3 = {}\n",
    "overlap_data3['call_durn'] = np.tile(call_durn, len(silence_between_durns))\n",
    "overlap_data3['inter_tfm_durn'] = silence_between_durns\n",
    "overlap_data3['tfm_overlap_prob'] = []\n",
    "overlap_data3['num_bats'] = np.tile(num_sounds,len(silence_between_durns))\n",
    "for silence_between in silence_between_durns:\n",
    "    # run 4  parallel calculations and get the median probability \n",
    "    overlap_probs = Parallel(n_jobs=4)(delayed(prob_sound_overlaps)(num_sounds,sound_durn=call_durn,other_durn=silence_between,num_trials=num_trials)for i in range(4))\n",
    "    print(f'for silence{silence_between}, the median overlap probability is: {np.median(overlap_probs)}')\n",
    "    overlap_data3['tfm_overlap_prob'].append(np.median(overlap_probs))\n"
   ]
  },
  {
   "cell_type": "code",
   "execution_count": 8,
   "metadata": {},
   "outputs": [
    {
     "data": {
      "text/html": [
       "<div>\n",
       "<style scoped>\n",
       "    .dataframe tbody tr th:only-of-type {\n",
       "        vertical-align: middle;\n",
       "    }\n",
       "\n",
       "    .dataframe tbody tr th {\n",
       "        vertical-align: top;\n",
       "    }\n",
       "\n",
       "    .dataframe thead th {\n",
       "        text-align: right;\n",
       "    }\n",
       "</style>\n",
       "<table border=\"1\" class=\"dataframe\">\n",
       "  <thead>\n",
       "    <tr style=\"text-align: right;\">\n",
       "      <th></th>\n",
       "      <th>call_durn</th>\n",
       "      <th>inter_tfm_durn</th>\n",
       "      <th>tfm_overlap_prob</th>\n",
       "      <th>num_bats</th>\n",
       "    </tr>\n",
       "  </thead>\n",
       "  <tbody>\n",
       "    <tr>\n",
       "      <th>0</th>\n",
       "      <td>3.4</td>\n",
       "      <td>40</td>\n",
       "      <td>0.021100</td>\n",
       "      <td>2</td>\n",
       "    </tr>\n",
       "    <tr>\n",
       "      <th>1</th>\n",
       "      <td>3.4</td>\n",
       "      <td>50</td>\n",
       "      <td>0.015525</td>\n",
       "      <td>2</td>\n",
       "    </tr>\n",
       "    <tr>\n",
       "      <th>2</th>\n",
       "      <td>3.4</td>\n",
       "      <td>40</td>\n",
       "      <td>0.042800</td>\n",
       "      <td>3</td>\n",
       "    </tr>\n",
       "    <tr>\n",
       "      <th>3</th>\n",
       "      <td>3.4</td>\n",
       "      <td>50</td>\n",
       "      <td>0.030325</td>\n",
       "      <td>3</td>\n",
       "    </tr>\n",
       "  </tbody>\n",
       "</table>\n",
       "</div>"
      ],
      "text/plain": [
       "   call_durn  inter_tfm_durn  tfm_overlap_prob  num_bats\n",
       "0        3.4              40          0.021100         2\n",
       "1        3.4              50          0.015525         2\n",
       "2        3.4              40          0.042800         3\n",
       "3        3.4              50          0.030325         3"
      ]
     },
     "execution_count": 8,
     "metadata": {},
     "output_type": "execute_result"
    }
   ],
   "source": [
    "overlap_probs = pd.concat((pd.DataFrame(overlap_data), pd.DataFrame(overlap_data3))).reset_index(drop=True)\n",
    "overlap_probs"
   ]
  },
  {
   "cell_type": "code",
   "execution_count": 9,
   "metadata": {},
   "outputs": [],
   "source": [
    "overlap_probs.to_csv('2-3bat_tfm_overlap_prob.csv')"
   ]
  }
 ],
 "metadata": {
  "kernelspec": {
   "display_name": "Python 3",
   "language": "python",
   "name": "python3"
  },
  "language_info": {
   "codemirror_mode": {
    "name": "ipython",
    "version": 3
   },
   "file_extension": ".py",
   "mimetype": "text/x-python",
   "name": "python",
   "nbconvert_exporter": "python",
   "pygments_lexer": "ipython3",
   "version": "3.7.0"
  }
 },
 "nbformat": 4,
 "nbformat_minor": 4
}
