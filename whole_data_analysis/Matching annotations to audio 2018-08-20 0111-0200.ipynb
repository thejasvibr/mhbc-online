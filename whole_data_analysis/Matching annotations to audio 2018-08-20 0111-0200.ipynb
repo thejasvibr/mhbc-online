{
 "cells": [
  {
   "attachments": {},
   "cell_type": "markdown",
   "metadata": {},
   "source": [
    "#### Author: Thejasvi Beleyur\n",
    "#### Last updated: 2020-03-18\n",
    "\n",
    "This notebook will detail all the steps required to get matching audio snippets for the annotations of bat flights made for 2018-08-20 between 01:11-02:00 hours. \n",
    "This notebook is a copy of 'Matching annotations to audio 2018-08-20 0300-0400.ipynb'. \n",
    "\n",
    "\n",
    "\n",
    "### Steps carried out before hand:\n",
    "1. Generating the video sync for the video file *OrlovaChukaDome_02_20180820_01.11.28-02.00.00[R][@42dd][1] ...avi* with frame-wise light intensities and time stamps\n",
    "\n",
    "2. Video annotations of the horseshoebats flying done by  Aditya Kanjoor. \n"
   ]
  },
  {
   "cell_type": "code",
   "execution_count": 1,
   "metadata": {},
   "outputs": [],
   "source": [
    "import matplotlib.pyplot as plt\n",
    "import natsort\n",
    "import numpy as np\n",
    "import pandas as pd \n",
    "from tqdm import tqdm\n",
    "\n",
    "package_folder = '../../../bin/'\n",
    "import os\n",
    "import sys \n",
    "sys.path.append(package_folder) # include the modules in the outer folder in the search path\n",
    "from process_video_annotations import video_sync_over_annotation_block\n",
    "\n"
   ]
  },
  {
   "cell_type": "code",
   "execution_count": 2,
   "metadata": {},
   "outputs": [],
   "source": [
    "%matplotlib notebook"
   ]
  },
  {
   "cell_type": "code",
   "execution_count": 3,
   "metadata": {},
   "outputs": [],
   "source": [
    "# loading the annotations\n",
    "annotations = pd.read_csv('annotations/corrected_HBC_video_annotations_Aditya/2018-08-20_0111-0200_Aditya_corrected.csv')"
   ]
  },
  {
   "cell_type": "code",
   "execution_count": 4,
   "metadata": {
    "scrolled": false
   },
   "outputs": [
    {
     "data": {
      "text/html": [
       "<div>\n",
       "<style scoped>\n",
       "    .dataframe tbody tr th:only-of-type {\n",
       "        vertical-align: middle;\n",
       "    }\n",
       "\n",
       "    .dataframe tbody tr th {\n",
       "        vertical-align: top;\n",
       "    }\n",
       "\n",
       "    .dataframe thead th {\n",
       "        text-align: right;\n",
       "    }\n",
       "</style>\n",
       "<table border=\"1\" class=\"dataframe\">\n",
       "  <thead>\n",
       "    <tr style=\"text-align: right;\">\n",
       "      <th></th>\n",
       "      <th>video_path</th>\n",
       "      <th>annotation_id</th>\n",
       "      <th>Sampling minute</th>\n",
       "      <th>timestamp from camera</th>\n",
       "      <th>start_timestamp</th>\n",
       "      <th>start_framenumber</th>\n",
       "      <th>end_timestamp</th>\n",
       "      <th>end_framenumber</th>\n",
       "      <th>no. of flying bats</th>\n",
       "      <th>bat behaviour</th>\n",
       "      <th>strength (1 - strong, 0-weak)</th>\n",
       "      <th>weak in (Behaviour Be, Number Bn)</th>\n",
       "      <th>Comments</th>\n",
       "      <th>Details on the comment</th>\n",
       "      <th>annotator</th>\n",
       "    </tr>\n",
       "  </thead>\n",
       "  <tbody>\n",
       "    <tr>\n",
       "      <th>0</th>\n",
       "      <td>OrlovaChukaDome_02_20180820_01.11.28-02.00.00[...</td>\n",
       "      <td>Aditya_2018-08-20_0111-0200_1</td>\n",
       "      <td>25</td>\n",
       "      <td>2</td>\n",
       "      <td>2018-08-20 01:25:46</td>\n",
       "      <td>9</td>\n",
       "      <td>2018-08-20 01:25:46</td>\n",
       "      <td>23.0</td>\n",
       "      <td>1.0</td>\n",
       "      <td>NaN</td>\n",
       "      <td>1.0</td>\n",
       "      <td>NaN</td>\n",
       "      <td>NaN</td>\n",
       "      <td>NaN</td>\n",
       "      <td>Aditya</td>\n",
       "    </tr>\n",
       "    <tr>\n",
       "      <th>1</th>\n",
       "      <td>OrlovaChukaDome_02_20180820_01.11.28-02.00.00[...</td>\n",
       "      <td>Aditya_2018-08-20_0111-0200_2</td>\n",
       "      <td>25</td>\n",
       "      <td>2</td>\n",
       "      <td>2018-08-20 01:25:47</td>\n",
       "      <td>5</td>\n",
       "      <td>2018-08-20 01:25:47</td>\n",
       "      <td>17.0</td>\n",
       "      <td>2.0</td>\n",
       "      <td>P</td>\n",
       "      <td>1.0</td>\n",
       "      <td>NaN</td>\n",
       "      <td>NaN</td>\n",
       "      <td>NaN</td>\n",
       "      <td>Aditya</td>\n",
       "    </tr>\n",
       "    <tr>\n",
       "      <th>2</th>\n",
       "      <td>OrlovaChukaDome_02_20180820_01.11.28-02.00.00[...</td>\n",
       "      <td>Aditya_2018-08-20_0111-0200_3</td>\n",
       "      <td>25</td>\n",
       "      <td>2</td>\n",
       "      <td>2018-08-20 01:25:47</td>\n",
       "      <td>24</td>\n",
       "      <td>2018-08-20 01:25:48</td>\n",
       "      <td>8.0</td>\n",
       "      <td>1.0</td>\n",
       "      <td>NaN</td>\n",
       "      <td>1.0</td>\n",
       "      <td>NaN</td>\n",
       "      <td>NaN</td>\n",
       "      <td>NaN</td>\n",
       "      <td>Aditya</td>\n",
       "    </tr>\n",
       "    <tr>\n",
       "      <th>3</th>\n",
       "      <td>OrlovaChukaDome_02_20180820_01.11.28-02.00.00[...</td>\n",
       "      <td>Aditya_2018-08-20_0111-0200_4</td>\n",
       "      <td>27</td>\n",
       "      <td>2</td>\n",
       "      <td>2018-08-20 01:27:20</td>\n",
       "      <td>17</td>\n",
       "      <td>2018-08-20 01:27:24</td>\n",
       "      <td>17.0</td>\n",
       "      <td>1.0</td>\n",
       "      <td>NaN</td>\n",
       "      <td>1.0</td>\n",
       "      <td>NaN</td>\n",
       "      <td>NaN</td>\n",
       "      <td>NaN</td>\n",
       "      <td>Aditya</td>\n",
       "    </tr>\n",
       "    <tr>\n",
       "      <th>4</th>\n",
       "      <td>OrlovaChukaDome_02_20180820_01.11.28-02.00.00[...</td>\n",
       "      <td>Aditya_2018-08-20_0111-0200_5</td>\n",
       "      <td>33</td>\n",
       "      <td>2</td>\n",
       "      <td>2018-08-20 01:33:06</td>\n",
       "      <td>1</td>\n",
       "      <td>2018-08-20 01:33:09</td>\n",
       "      <td>1.0</td>\n",
       "      <td>1.0</td>\n",
       "      <td>NaN</td>\n",
       "      <td>1.0</td>\n",
       "      <td>The time the shadow exits the cave is taken as...</td>\n",
       "      <td>NaN</td>\n",
       "      <td>NaN</td>\n",
       "      <td>Aditya</td>\n",
       "    </tr>\n",
       "  </tbody>\n",
       "</table>\n",
       "</div>"
      ],
      "text/plain": [
       "                                          video_path  \\\n",
       "0  OrlovaChukaDome_02_20180820_01.11.28-02.00.00[...   \n",
       "1  OrlovaChukaDome_02_20180820_01.11.28-02.00.00[...   \n",
       "2  OrlovaChukaDome_02_20180820_01.11.28-02.00.00[...   \n",
       "3  OrlovaChukaDome_02_20180820_01.11.28-02.00.00[...   \n",
       "4  OrlovaChukaDome_02_20180820_01.11.28-02.00.00[...   \n",
       "\n",
       "                   annotation_id  Sampling minute  timestamp from camera  \\\n",
       "0  Aditya_2018-08-20_0111-0200_1               25                      2   \n",
       "1  Aditya_2018-08-20_0111-0200_2               25                      2   \n",
       "2  Aditya_2018-08-20_0111-0200_3               25                      2   \n",
       "3  Aditya_2018-08-20_0111-0200_4               27                      2   \n",
       "4  Aditya_2018-08-20_0111-0200_5               33                      2   \n",
       "\n",
       "       start_timestamp  start_framenumber        end_timestamp  \\\n",
       "0  2018-08-20 01:25:46                  9  2018-08-20 01:25:46   \n",
       "1  2018-08-20 01:25:47                  5  2018-08-20 01:25:47   \n",
       "2  2018-08-20 01:25:47                 24  2018-08-20 01:25:48   \n",
       "3  2018-08-20 01:27:20                 17  2018-08-20 01:27:24   \n",
       "4  2018-08-20 01:33:06                  1  2018-08-20 01:33:09   \n",
       "\n",
       "   end_framenumber  no. of flying bats bat behaviour  \\\n",
       "0             23.0                 1.0           NaN   \n",
       "1             17.0                 2.0             P   \n",
       "2              8.0                 1.0           NaN   \n",
       "3             17.0                 1.0           NaN   \n",
       "4              1.0                 1.0           NaN   \n",
       "\n",
       "   strength (1 - strong, 0-weak)  \\\n",
       "0                            1.0   \n",
       "1                            1.0   \n",
       "2                            1.0   \n",
       "3                            1.0   \n",
       "4                            1.0   \n",
       "\n",
       "                   weak in (Behaviour Be, Number Bn) Comments  \\\n",
       "0                                                NaN      NaN   \n",
       "1                                                NaN      NaN   \n",
       "2                                                NaN      NaN   \n",
       "3                                                NaN      NaN   \n",
       "4  The time the shadow exits the cave is taken as...      NaN   \n",
       "\n",
       "   Details on the comment annotator  \n",
       "0                     NaN    Aditya  \n",
       "1                     NaN    Aditya  \n",
       "2                     NaN    Aditya  \n",
       "3                     NaN    Aditya  \n",
       "4                     NaN    Aditya  "
      ]
     },
     "execution_count": 4,
     "metadata": {},
     "output_type": "execute_result"
    }
   ],
   "source": [
    "annotations.head()"
   ]
  },
  {
   "cell_type": "code",
   "execution_count": 5,
   "metadata": {},
   "outputs": [
    {
     "data": {
      "text/plain": [
       "(161, 15)"
      ]
     },
     "execution_count": 5,
     "metadata": {},
     "output_type": "execute_result"
    }
   ],
   "source": [
    "annotations.shape"
   ]
  },
  {
   "cell_type": "code",
   "execution_count": 6,
   "metadata": {},
   "outputs": [],
   "source": [
    "annots_w_bats = annotations[annotations['no. of flying bats']>0].reset_index(drop=True)"
   ]
  },
  {
   "cell_type": "code",
   "execution_count": 7,
   "metadata": {},
   "outputs": [
    {
     "data": {
      "text/plain": [
       "(161, 15)"
      ]
     },
     "execution_count": 7,
     "metadata": {},
     "output_type": "execute_result"
    }
   ],
   "source": [
    "annotations.shape"
   ]
  },
  {
   "cell_type": "code",
   "execution_count": 8,
   "metadata": {},
   "outputs": [
    {
     "data": {
      "text/plain": [
       "(159, 15)"
      ]
     },
     "execution_count": 8,
     "metadata": {},
     "output_type": "execute_result"
    }
   ],
   "source": [
    "annots_w_bats.shape"
   ]
  },
  {
   "cell_type": "code",
   "execution_count": 9,
   "metadata": {},
   "outputs": [
    {
     "data": {
      "text/html": [
       "<div>\n",
       "<style scoped>\n",
       "    .dataframe tbody tr th:only-of-type {\n",
       "        vertical-align: middle;\n",
       "    }\n",
       "\n",
       "    .dataframe tbody tr th {\n",
       "        vertical-align: top;\n",
       "    }\n",
       "\n",
       "    .dataframe thead th {\n",
       "        text-align: right;\n",
       "    }\n",
       "</style>\n",
       "<table border=\"1\" class=\"dataframe\">\n",
       "  <thead>\n",
       "    <tr style=\"text-align: right;\">\n",
       "      <th></th>\n",
       "      <th>video_path</th>\n",
       "      <th>annotation_id</th>\n",
       "      <th>Sampling minute</th>\n",
       "      <th>timestamp from camera</th>\n",
       "      <th>start_timestamp</th>\n",
       "      <th>start_framenumber</th>\n",
       "      <th>end_timestamp</th>\n",
       "      <th>end_framenumber</th>\n",
       "      <th>no. of flying bats</th>\n",
       "      <th>bat behaviour</th>\n",
       "      <th>strength (1 - strong, 0-weak)</th>\n",
       "      <th>weak in (Behaviour Be, Number Bn)</th>\n",
       "      <th>Comments</th>\n",
       "      <th>Details on the comment</th>\n",
       "      <th>annotator</th>\n",
       "    </tr>\n",
       "  </thead>\n",
       "  <tbody>\n",
       "    <tr>\n",
       "      <th>0</th>\n",
       "      <td>OrlovaChukaDome_02_20180820_01.11.28-02.00.00[...</td>\n",
       "      <td>Aditya_2018-08-20_0111-0200_1</td>\n",
       "      <td>25</td>\n",
       "      <td>2</td>\n",
       "      <td>2018-08-20 01:25:46</td>\n",
       "      <td>9</td>\n",
       "      <td>2018-08-20 01:25:46</td>\n",
       "      <td>23.0</td>\n",
       "      <td>1.0</td>\n",
       "      <td>NaN</td>\n",
       "      <td>1.0</td>\n",
       "      <td>NaN</td>\n",
       "      <td>NaN</td>\n",
       "      <td>NaN</td>\n",
       "      <td>Aditya</td>\n",
       "    </tr>\n",
       "    <tr>\n",
       "      <th>1</th>\n",
       "      <td>OrlovaChukaDome_02_20180820_01.11.28-02.00.00[...</td>\n",
       "      <td>Aditya_2018-08-20_0111-0200_2</td>\n",
       "      <td>25</td>\n",
       "      <td>2</td>\n",
       "      <td>2018-08-20 01:25:47</td>\n",
       "      <td>5</td>\n",
       "      <td>2018-08-20 01:25:47</td>\n",
       "      <td>17.0</td>\n",
       "      <td>2.0</td>\n",
       "      <td>P</td>\n",
       "      <td>1.0</td>\n",
       "      <td>NaN</td>\n",
       "      <td>NaN</td>\n",
       "      <td>NaN</td>\n",
       "      <td>Aditya</td>\n",
       "    </tr>\n",
       "    <tr>\n",
       "      <th>2</th>\n",
       "      <td>OrlovaChukaDome_02_20180820_01.11.28-02.00.00[...</td>\n",
       "      <td>Aditya_2018-08-20_0111-0200_3</td>\n",
       "      <td>25</td>\n",
       "      <td>2</td>\n",
       "      <td>2018-08-20 01:25:47</td>\n",
       "      <td>24</td>\n",
       "      <td>2018-08-20 01:25:48</td>\n",
       "      <td>8.0</td>\n",
       "      <td>1.0</td>\n",
       "      <td>NaN</td>\n",
       "      <td>1.0</td>\n",
       "      <td>NaN</td>\n",
       "      <td>NaN</td>\n",
       "      <td>NaN</td>\n",
       "      <td>Aditya</td>\n",
       "    </tr>\n",
       "    <tr>\n",
       "      <th>3</th>\n",
       "      <td>OrlovaChukaDome_02_20180820_01.11.28-02.00.00[...</td>\n",
       "      <td>Aditya_2018-08-20_0111-0200_4</td>\n",
       "      <td>27</td>\n",
       "      <td>2</td>\n",
       "      <td>2018-08-20 01:27:20</td>\n",
       "      <td>17</td>\n",
       "      <td>2018-08-20 01:27:24</td>\n",
       "      <td>17.0</td>\n",
       "      <td>1.0</td>\n",
       "      <td>NaN</td>\n",
       "      <td>1.0</td>\n",
       "      <td>NaN</td>\n",
       "      <td>NaN</td>\n",
       "      <td>NaN</td>\n",
       "      <td>Aditya</td>\n",
       "    </tr>\n",
       "    <tr>\n",
       "      <th>4</th>\n",
       "      <td>OrlovaChukaDome_02_20180820_01.11.28-02.00.00[...</td>\n",
       "      <td>Aditya_2018-08-20_0111-0200_5</td>\n",
       "      <td>33</td>\n",
       "      <td>2</td>\n",
       "      <td>2018-08-20 01:33:06</td>\n",
       "      <td>1</td>\n",
       "      <td>2018-08-20 01:33:09</td>\n",
       "      <td>1.0</td>\n",
       "      <td>1.0</td>\n",
       "      <td>NaN</td>\n",
       "      <td>1.0</td>\n",
       "      <td>The time the shadow exits the cave is taken as...</td>\n",
       "      <td>NaN</td>\n",
       "      <td>NaN</td>\n",
       "      <td>Aditya</td>\n",
       "    </tr>\n",
       "  </tbody>\n",
       "</table>\n",
       "</div>"
      ],
      "text/plain": [
       "                                          video_path  \\\n",
       "0  OrlovaChukaDome_02_20180820_01.11.28-02.00.00[...   \n",
       "1  OrlovaChukaDome_02_20180820_01.11.28-02.00.00[...   \n",
       "2  OrlovaChukaDome_02_20180820_01.11.28-02.00.00[...   \n",
       "3  OrlovaChukaDome_02_20180820_01.11.28-02.00.00[...   \n",
       "4  OrlovaChukaDome_02_20180820_01.11.28-02.00.00[...   \n",
       "\n",
       "                   annotation_id  Sampling minute  timestamp from camera  \\\n",
       "0  Aditya_2018-08-20_0111-0200_1               25                      2   \n",
       "1  Aditya_2018-08-20_0111-0200_2               25                      2   \n",
       "2  Aditya_2018-08-20_0111-0200_3               25                      2   \n",
       "3  Aditya_2018-08-20_0111-0200_4               27                      2   \n",
       "4  Aditya_2018-08-20_0111-0200_5               33                      2   \n",
       "\n",
       "       start_timestamp  start_framenumber        end_timestamp  \\\n",
       "0  2018-08-20 01:25:46                  9  2018-08-20 01:25:46   \n",
       "1  2018-08-20 01:25:47                  5  2018-08-20 01:25:47   \n",
       "2  2018-08-20 01:25:47                 24  2018-08-20 01:25:48   \n",
       "3  2018-08-20 01:27:20                 17  2018-08-20 01:27:24   \n",
       "4  2018-08-20 01:33:06                  1  2018-08-20 01:33:09   \n",
       "\n",
       "   end_framenumber  no. of flying bats bat behaviour  \\\n",
       "0             23.0                 1.0           NaN   \n",
       "1             17.0                 2.0             P   \n",
       "2              8.0                 1.0           NaN   \n",
       "3             17.0                 1.0           NaN   \n",
       "4              1.0                 1.0           NaN   \n",
       "\n",
       "   strength (1 - strong, 0-weak)  \\\n",
       "0                            1.0   \n",
       "1                            1.0   \n",
       "2                            1.0   \n",
       "3                            1.0   \n",
       "4                            1.0   \n",
       "\n",
       "                   weak in (Behaviour Be, Number Bn) Comments  \\\n",
       "0                                                NaN      NaN   \n",
       "1                                                NaN      NaN   \n",
       "2                                                NaN      NaN   \n",
       "3                                                NaN      NaN   \n",
       "4  The time the shadow exits the cave is taken as...      NaN   \n",
       "\n",
       "   Details on the comment annotator  \n",
       "0                     NaN    Aditya  \n",
       "1                     NaN    Aditya  \n",
       "2                     NaN    Aditya  \n",
       "3                     NaN    Aditya  \n",
       "4                     NaN    Aditya  "
      ]
     },
     "execution_count": 9,
     "metadata": {},
     "output_type": "execute_result"
    }
   ],
   "source": [
    "annots_w_bats.head()"
   ]
  },
  {
   "cell_type": "markdown",
   "metadata": {},
   "source": [
    "### Carrying out the common-fps conversion:\n"
   ]
  },
  {
   "cell_type": "code",
   "execution_count": 10,
   "metadata": {},
   "outputs": [],
   "source": [
    "# load the video sync file with corrected timestamps\n",
    "video_sync_file = 'videosync_OrlovaChukaDome_01_20180820_01.11.28-02.00.00[R][@42dc][0].avi_[timestamp_corrected]_[signal_checked].csv'\n",
    "path_to_videosync = os.path.join('raw_sync','2018-08-19',\n",
    "                                 video_sync_file)\n",
    "video_sync = pd.read_csv(path_to_videosync)"
   ]
  },
  {
   "cell_type": "code",
   "execution_count": 11,
   "metadata": {},
   "outputs": [
    {
     "data": {
      "text/html": [
       "<div>\n",
       "<style scoped>\n",
       "    .dataframe tbody tr th:only-of-type {\n",
       "        vertical-align: middle;\n",
       "    }\n",
       "\n",
       "    .dataframe tbody tr th {\n",
       "        vertical-align: top;\n",
       "    }\n",
       "\n",
       "    .dataframe thead th {\n",
       "        text-align: right;\n",
       "    }\n",
       "</style>\n",
       "<table border=\"1\" class=\"dataframe\">\n",
       "  <thead>\n",
       "    <tr style=\"text-align: right;\">\n",
       "      <th></th>\n",
       "      <th>Unnamed: 0</th>\n",
       "      <th>frame_number</th>\n",
       "      <th>led_intensity</th>\n",
       "      <th>timestamp</th>\n",
       "      <th>timestamp_verified</th>\n",
       "      <th>user_suggestion</th>\n",
       "    </tr>\n",
       "  </thead>\n",
       "  <tbody>\n",
       "    <tr>\n",
       "      <th>0</th>\n",
       "      <td>0</td>\n",
       "      <td>15600</td>\n",
       "      <td>NaN</td>\n",
       "      <td>2018-08-20 01:23:21</td>\n",
       "      <td>2018-08-20 01:23:21</td>\n",
       "      <td>maybeokay</td>\n",
       "    </tr>\n",
       "    <tr>\n",
       "      <th>1</th>\n",
       "      <td>1</td>\n",
       "      <td>15601</td>\n",
       "      <td>NaN</td>\n",
       "      <td>2018-08-20 01:23:21</td>\n",
       "      <td>2018-08-20 01:23:21</td>\n",
       "      <td>maybeokay</td>\n",
       "    </tr>\n",
       "    <tr>\n",
       "      <th>2</th>\n",
       "      <td>2</td>\n",
       "      <td>15602</td>\n",
       "      <td>NaN</td>\n",
       "      <td>2018-08-20 01:23:21</td>\n",
       "      <td>2018-08-20 01:23:21</td>\n",
       "      <td>maybeokay</td>\n",
       "    </tr>\n",
       "    <tr>\n",
       "      <th>3</th>\n",
       "      <td>3</td>\n",
       "      <td>15603</td>\n",
       "      <td>NaN</td>\n",
       "      <td>2018-08-20 01:23:21</td>\n",
       "      <td>2018-08-20 01:23:21</td>\n",
       "      <td>maybeokay</td>\n",
       "    </tr>\n",
       "    <tr>\n",
       "      <th>4</th>\n",
       "      <td>4</td>\n",
       "      <td>15604</td>\n",
       "      <td>NaN</td>\n",
       "      <td>2018-08-20 01:23:21</td>\n",
       "      <td>2018-08-20 01:23:21</td>\n",
       "      <td>maybeokay</td>\n",
       "    </tr>\n",
       "  </tbody>\n",
       "</table>\n",
       "</div>"
      ],
      "text/plain": [
       "   Unnamed: 0  frame_number  led_intensity            timestamp  \\\n",
       "0           0         15600            NaN  2018-08-20 01:23:21   \n",
       "1           1         15601            NaN  2018-08-20 01:23:21   \n",
       "2           2         15602            NaN  2018-08-20 01:23:21   \n",
       "3           3         15603            NaN  2018-08-20 01:23:21   \n",
       "4           4         15604            NaN  2018-08-20 01:23:21   \n",
       "\n",
       "    timestamp_verified user_suggestion  \n",
       "0  2018-08-20 01:23:21       maybeokay  \n",
       "1  2018-08-20 01:23:21       maybeokay  \n",
       "2  2018-08-20 01:23:21       maybeokay  \n",
       "3  2018-08-20 01:23:21       maybeokay  \n",
       "4  2018-08-20 01:23:21       maybeokay  "
      ]
     },
     "execution_count": 11,
     "metadata": {},
     "output_type": "execute_result"
    }
   ],
   "source": [
    "video_sync.head()"
   ]
  },
  {
   "cell_type": "code",
   "execution_count": 12,
   "metadata": {
    "scrolled": true
   },
   "outputs": [
    {
     "name": "stderr",
     "output_type": "stream",
     "text": [
      "0it [00:00, ?it/s]/home/tbeleyur/anaconda2/envs/horseshoebat/lib/python2.7/site-packages/scipy/signal/signaltools.py:2223: FutureWarning: Using a non-tuple sequence for multidimensional indexing is deprecated; use `arr[tuple(seq)]` instead of `arr[seq]`. In the future this will be interpreted as an array index, `arr[np.array(seq)]`, which will result either in an error or a different result.\n",
      "  Y[sl] = X[sl]\n",
      "/home/tbeleyur/anaconda2/envs/horseshoebat/lib/python2.7/site-packages/scipy/signal/signaltools.py:2225: FutureWarning: Using a non-tuple sequence for multidimensional indexing is deprecated; use `arr[tuple(seq)]` instead of `arr[seq]`. In the future this will be interpreted as an array index, `arr[np.array(seq)]`, which will result either in an error or a different result.\n",
      "  Y[sl] = X[sl]\n",
      "/home/tbeleyur/anaconda2/envs/horseshoebat/lib/python2.7/site-packages/scipy/signal/signaltools.py:2233: FutureWarning: Using a non-tuple sequence for multidimensional indexing is deprecated; use `arr[tuple(seq)]` instead of `arr[seq]`. In the future this will be interpreted as an array index, `arr[np.array(seq)]`, which will result either in an error or a different result.\n",
      "  Y[sl] /= 2  # halve the component at -N/2\n",
      "/home/tbeleyur/anaconda2/envs/horseshoebat/lib/python2.7/site-packages/scipy/signal/signaltools.py:2234: FutureWarning: Using a non-tuple sequence for multidimensional indexing is deprecated; use `arr[tuple(seq)]` instead of `arr[seq]`. In the future this will be interpreted as an array index, `arr[np.array(seq)]`, which will result either in an error or a different result.\n",
      "  temp = Y[sl]\n",
      "/home/tbeleyur/anaconda2/envs/horseshoebat/lib/python2.7/site-packages/scipy/signal/signaltools.py:2236: FutureWarning: Using a non-tuple sequence for multidimensional indexing is deprecated; use `arr[tuple(seq)]` instead of `arr[seq]`. In the future this will be interpreted as an array index, `arr[np.array(seq)]`, which will result either in an error or a different result.\n",
      "  Y[sl] = temp  # set that equal to the component at -N/2\n",
      "1it [00:04,  4.70s/it]"
     ]
    },
    {
     "name": "stdout",
     "output_type": "stream",
     "text": [
      "Unable to process annotation: Aditya_2018-08-20_0111-0200_1\n"
     ]
    },
    {
     "name": "stderr",
     "output_type": "stream",
     "text": [
      "\r",
      "2it [00:10,  4.93s/it]"
     ]
    },
    {
     "name": "stdout",
     "output_type": "stream",
     "text": [
      "Saved annotation :Aditya_2018-08-20_0111-0200_2\n"
     ]
    },
    {
     "name": "stderr",
     "output_type": "stream",
     "text": [
      "\r",
      "3it [00:15,  5.05s/it]"
     ]
    },
    {
     "name": "stdout",
     "output_type": "stream",
     "text": [
      "Unable to process annotation: Aditya_2018-08-20_0111-0200_3\n"
     ]
    },
    {
     "name": "stderr",
     "output_type": "stream",
     "text": [
      "\r",
      "4it [00:20,  4.97s/it]"
     ]
    },
    {
     "name": "stdout",
     "output_type": "stream",
     "text": [
      "Saved annotation :Aditya_2018-08-20_0111-0200_4\n"
     ]
    },
    {
     "name": "stderr",
     "output_type": "stream",
     "text": [
      "\r",
      "5it [00:25,  5.00s/it]"
     ]
    },
    {
     "name": "stdout",
     "output_type": "stream",
     "text": [
      "Saved annotation :Aditya_2018-08-20_0111-0200_5\n"
     ]
    },
    {
     "name": "stderr",
     "output_type": "stream",
     "text": [
      "../../../bin/process_video_annotations.py:389: UserWarning: Some timestamps below min fps!\n",
      "  warnings.warn('Some timestamps below min fps!')\n",
      "../../../bin/process_video_annotations.py:310: UserWarning: FPS fell below the minimum required - ignoring this annotation\n",
      "  warnings.warn('FPS fell below the minimum required - ignoring this annotation')\n",
      "../../../bin/process_video_annotations.py:115: UserWarning: could not bring above annotation to common fps,                      please check a) if the corresponding audio file is present                        b) if the ON/OFF of the light signal is clean                           \n",
      "  ')\n",
      "\r",
      "6it [00:28,  4.44s/it]"
     ]
    },
    {
     "name": "stdout",
     "output_type": "stream",
     "text": [
      "('timestamps below min fps: ', array(['2018-08-20 01:34:25'], dtype=object))\n",
      "video_path                           OrlovaChukaDome_02_20180820_01.11.28-02.00.00[...\n",
      "annotation_id                                            Aditya_2018-08-20_0111-0200_6\n",
      "Sampling minute                                                                     34\n",
      "timestamp from camera                                                                2\n",
      "start_timestamp                                                    2018-08-20 01:34:20\n",
      "start_framenumber                                                                   25\n",
      "end_timestamp                                                      2018-08-20 01:34:32\n",
      "end_framenumber                                                                     15\n",
      "no. of flying bats                                                                   1\n",
      "bat behaviour                                                                      NaN\n",
      "strength (1 - strong, 0-weak)                                                        1\n",
      "weak in (Behaviour Be, Number Bn)                                                  NaN\n",
      "Comments                                                                           NaN\n",
      "Details on the comment                                                             NaN\n",
      "annotator                                                                       Aditya\n",
      "Name: 5, dtype: object\n",
      "video_path                           OrlovaChukaDome_02_20180820_01.11.28-02.00.00[...\n",
      "annotation_id                                            Aditya_2018-08-20_0111-0200_6\n",
      "Sampling minute                                                                     34\n",
      "timestamp from camera                                                                2\n",
      "start_timestamp                                                    2018-08-20 01:34:20\n",
      "start_framenumber                                                                   25\n",
      "end_timestamp                                                      2018-08-20 01:34:32\n",
      "end_framenumber                                                                     15\n",
      "no. of flying bats                                                                   1\n",
      "bat behaviour                                                                      NaN\n",
      "strength (1 - strong, 0-weak)                                                        1\n",
      "weak in (Behaviour Be, Number Bn)                                                  NaN\n",
      "Comments                                                                           NaN\n",
      "Details on the comment                                                             NaN\n",
      "annotator                                                                       Aditya\n",
      "Name: 5, dtype: object\n"
     ]
    },
    {
     "name": "stderr",
     "output_type": "stream",
     "text": [
      "\r",
      "7it [00:32,  4.43s/it]"
     ]
    },
    {
     "name": "stdout",
     "output_type": "stream",
     "text": [
      "Saved annotation :Aditya_2018-08-20_0111-0200_7\n"
     ]
    },
    {
     "name": "stderr",
     "output_type": "stream",
     "text": [
      "\r",
      "8it [00:38,  4.66s/it]"
     ]
    },
    {
     "name": "stdout",
     "output_type": "stream",
     "text": [
      "Unable to process annotation: Aditya_2018-08-20_0111-0200_8\n"
     ]
    },
    {
     "name": "stderr",
     "output_type": "stream",
     "text": [
      "\r",
      "9it [00:42,  4.53s/it]"
     ]
    },
    {
     "name": "stdout",
     "output_type": "stream",
     "text": [
      "Saved annotation :Aditya_2018-08-20_0111-0200_9\n"
     ]
    },
    {
     "name": "stderr",
     "output_type": "stream",
     "text": [
      "\r",
      "10it [00:46,  4.48s/it]"
     ]
    },
    {
     "name": "stdout",
     "output_type": "stream",
     "text": [
      "Unable to process annotation: Aditya_2018-08-20_0111-0200_10\n"
     ]
    },
    {
     "name": "stderr",
     "output_type": "stream",
     "text": [
      "\r",
      "11it [00:50,  4.42s/it]"
     ]
    },
    {
     "name": "stdout",
     "output_type": "stream",
     "text": [
      "Saved annotation :Aditya_2018-08-20_0111-0200_11\n"
     ]
    },
    {
     "name": "stderr",
     "output_type": "stream",
     "text": [
      "\r",
      "12it [00:54,  4.20s/it]"
     ]
    },
    {
     "name": "stdout",
     "output_type": "stream",
     "text": [
      "('timestamps below min fps: ', array(['2018-08-20 01:36:31'], dtype=object))\n",
      "video_path                           OrlovaChukaDome_02_20180820_01.11.28-02.00.00[...\n",
      "annotation_id                                           Aditya_2018-08-20_0111-0200_12\n",
      "Sampling minute                                                                     36\n",
      "timestamp from camera                                                                2\n",
      "start_timestamp                                                    2018-08-20 01:36:16\n",
      "start_framenumber                                                                   15\n",
      "end_timestamp                                                      2018-08-20 01:36:19\n",
      "end_framenumber                                                                      1\n",
      "no. of flying bats                                                                   1\n",
      "bat behaviour                                                                      NaN\n",
      "strength (1 - strong, 0-weak)                                                        1\n",
      "weak in (Behaviour Be, Number Bn)                                                  NaN\n",
      "Comments                                                                           NaN\n",
      "Details on the comment                                                             NaN\n",
      "annotator                                                                       Aditya\n",
      "Name: 11, dtype: object\n",
      "video_path                           OrlovaChukaDome_02_20180820_01.11.28-02.00.00[...\n",
      "annotation_id                                           Aditya_2018-08-20_0111-0200_12\n",
      "Sampling minute                                                                     36\n",
      "timestamp from camera                                                                2\n",
      "start_timestamp                                                    2018-08-20 01:36:16\n",
      "start_framenumber                                                                   15\n",
      "end_timestamp                                                      2018-08-20 01:36:19\n",
      "end_framenumber                                                                      1\n",
      "no. of flying bats                                                                   1\n",
      "bat behaviour                                                                      NaN\n",
      "strength (1 - strong, 0-weak)                                                        1\n",
      "weak in (Behaviour Be, Number Bn)                                                  NaN\n",
      "Comments                                                                           NaN\n",
      "Details on the comment                                                             NaN\n",
      "annotator                                                                       Aditya\n",
      "Name: 11, dtype: object\n"
     ]
    },
    {
     "name": "stderr",
     "output_type": "stream",
     "text": [
      "\r",
      "13it [00:58,  4.13s/it]"
     ]
    },
    {
     "name": "stdout",
     "output_type": "stream",
     "text": [
      "('timestamps below min fps: ', array(['2018-08-20 01:36:31'], dtype=object))\n",
      "video_path                           OrlovaChukaDome_02_20180820_01.11.28-02.00.00[...\n",
      "annotation_id                                           Aditya_2018-08-20_0111-0200_13\n",
      "Sampling minute                                                                     36\n",
      "timestamp from camera                                                                2\n",
      "start_timestamp                                                    2018-08-20 01:36:21\n",
      "start_framenumber                                                                   10\n",
      "end_timestamp                                                      2018-08-20 01:36:21\n",
      "end_framenumber                                                                     25\n",
      "no. of flying bats                                                                   1\n",
      "bat behaviour                                                                      NaN\n",
      "strength (1 - strong, 0-weak)                                                        1\n",
      "weak in (Behaviour Be, Number Bn)                                                  NaN\n",
      "Comments                                                                           NaN\n",
      "Details on the comment                                                             NaN\n",
      "annotator                                                                       Aditya\n",
      "Name: 12, dtype: object\n",
      "video_path                           OrlovaChukaDome_02_20180820_01.11.28-02.00.00[...\n",
      "annotation_id                                           Aditya_2018-08-20_0111-0200_13\n",
      "Sampling minute                                                                     36\n",
      "timestamp from camera                                                                2\n",
      "start_timestamp                                                    2018-08-20 01:36:21\n",
      "start_framenumber                                                                   10\n",
      "end_timestamp                                                      2018-08-20 01:36:21\n",
      "end_framenumber                                                                     25\n",
      "no. of flying bats                                                                   1\n",
      "bat behaviour                                                                      NaN\n",
      "strength (1 - strong, 0-weak)                                                        1\n",
      "weak in (Behaviour Be, Number Bn)                                                  NaN\n",
      "Comments                                                                           NaN\n",
      "Details on the comment                                                             NaN\n",
      "annotator                                                                       Aditya\n",
      "Name: 12, dtype: object\n"
     ]
    },
    {
     "name": "stderr",
     "output_type": "stream",
     "text": [
      "\r",
      "14it [01:02,  3.92s/it]"
     ]
    },
    {
     "name": "stdout",
     "output_type": "stream",
     "text": [
      "('timestamps below min fps: ', array(['2018-08-20 01:36:31'], dtype=object))\n",
      "video_path                           OrlovaChukaDome_02_20180820_01.11.28-02.00.00[...\n",
      "annotation_id                                           Aditya_2018-08-20_0111-0200_14\n",
      "Sampling minute                                                                     36\n",
      "timestamp from camera                                                                2\n",
      "start_timestamp                                                    2018-08-20 01:36:22\n",
      "start_framenumber                                                                   10\n",
      "end_timestamp                                                      2018-08-20 01:36:26\n",
      "end_framenumber                                                                      1\n",
      "no. of flying bats                                                                   1\n",
      "bat behaviour                                                                      NaN\n",
      "strength (1 - strong, 0-weak)                                                        1\n",
      "weak in (Behaviour Be, Number Bn)                                                  NaN\n",
      "Comments                                                                           NaN\n",
      "Details on the comment                                                             NaN\n",
      "annotator                                                                       Aditya\n",
      "Name: 13, dtype: object\n",
      "video_path                           OrlovaChukaDome_02_20180820_01.11.28-02.00.00[...\n",
      "annotation_id                                           Aditya_2018-08-20_0111-0200_14\n",
      "Sampling minute                                                                     36\n",
      "timestamp from camera                                                                2\n",
      "start_timestamp                                                    2018-08-20 01:36:22\n",
      "start_framenumber                                                                   10\n",
      "end_timestamp                                                      2018-08-20 01:36:26\n",
      "end_framenumber                                                                      1\n",
      "no. of flying bats                                                                   1\n",
      "bat behaviour                                                                      NaN\n",
      "strength (1 - strong, 0-weak)                                                        1\n",
      "weak in (Behaviour Be, Number Bn)                                                  NaN\n",
      "Comments                                                                           NaN\n",
      "Details on the comment                                                             NaN\n",
      "annotator                                                                       Aditya\n",
      "Name: 13, dtype: object\n"
     ]
    },
    {
     "name": "stderr",
     "output_type": "stream",
     "text": [
      "\r",
      "15it [01:05,  3.65s/it]"
     ]
    },
    {
     "name": "stdout",
     "output_type": "stream",
     "text": [
      "('timestamps below min fps: ', array(['2018-08-20 01:36:31'], dtype=object))\n",
      "video_path                           OrlovaChukaDome_02_20180820_01.11.28-02.00.00[...\n",
      "annotation_id                                           Aditya_2018-08-20_0111-0200_15\n",
      "Sampling minute                                                                     36\n",
      "timestamp from camera                                                                2\n",
      "start_timestamp                                                    2018-08-20 01:36:26\n",
      "start_framenumber                                                                   17\n",
      "end_timestamp                                                      2018-08-20 01:36:29\n",
      "end_framenumber                                                                     11\n",
      "no. of flying bats                                                                   1\n",
      "bat behaviour                                                                      NaN\n",
      "strength (1 - strong, 0-weak)                                                        1\n",
      "weak in (Behaviour Be, Number Bn)                                                  NaN\n",
      "Comments                                                                           NaN\n",
      "Details on the comment                                                             NaN\n",
      "annotator                                                                       Aditya\n",
      "Name: 14, dtype: object\n",
      "video_path                           OrlovaChukaDome_02_20180820_01.11.28-02.00.00[...\n",
      "annotation_id                                           Aditya_2018-08-20_0111-0200_15\n",
      "Sampling minute                                                                     36\n",
      "timestamp from camera                                                                2\n",
      "start_timestamp                                                    2018-08-20 01:36:26\n",
      "start_framenumber                                                                   17\n",
      "end_timestamp                                                      2018-08-20 01:36:29\n",
      "end_framenumber                                                                     11\n",
      "no. of flying bats                                                                   1\n",
      "bat behaviour                                                                      NaN\n",
      "strength (1 - strong, 0-weak)                                                        1\n",
      "weak in (Behaviour Be, Number Bn)                                                  NaN\n",
      "Comments                                                                           NaN\n",
      "Details on the comment                                                             NaN\n",
      "annotator                                                                       Aditya\n",
      "Name: 14, dtype: object\n"
     ]
    },
    {
     "name": "stderr",
     "output_type": "stream",
     "text": [
      "\r",
      "16it [01:09,  3.84s/it]"
     ]
    },
    {
     "name": "stdout",
     "output_type": "stream",
     "text": [
      "('timestamps below min fps: ', array(['2018-08-20 01:36:31'], dtype=object))\n",
      "video_path                           OrlovaChukaDome_02_20180820_01.11.28-02.00.00[...\n",
      "annotation_id                                           Aditya_2018-08-20_0111-0200_16\n",
      "Sampling minute                                                                     36\n",
      "timestamp from camera                                                                2\n",
      "start_timestamp                                                    2018-08-20 01:36:29\n",
      "start_framenumber                                                                   15\n",
      "end_timestamp                                                      2018-08-20 01:36:30\n",
      "end_framenumber                                                                      3\n",
      "no. of flying bats                                                                   1\n",
      "bat behaviour                                                                      NaN\n",
      "strength (1 - strong, 0-weak)                                                        1\n",
      "weak in (Behaviour Be, Number Bn)                                                  NaN\n",
      "Comments                                                                           NaN\n",
      "Details on the comment                                                             NaN\n",
      "annotator                                                                       Aditya\n",
      "Name: 15, dtype: object\n",
      "video_path                           OrlovaChukaDome_02_20180820_01.11.28-02.00.00[...\n",
      "annotation_id                                           Aditya_2018-08-20_0111-0200_16\n",
      "Sampling minute                                                                     36\n",
      "timestamp from camera                                                                2\n",
      "start_timestamp                                                    2018-08-20 01:36:29\n",
      "start_framenumber                                                                   15\n",
      "end_timestamp                                                      2018-08-20 01:36:30\n",
      "end_framenumber                                                                      3\n",
      "no. of flying bats                                                                   1\n",
      "bat behaviour                                                                      NaN\n",
      "strength (1 - strong, 0-weak)                                                        1\n",
      "weak in (Behaviour Be, Number Bn)                                                  NaN\n",
      "Comments                                                                           NaN\n",
      "Details on the comment                                                             NaN\n",
      "annotator                                                                       Aditya\n",
      "Name: 15, dtype: object\n"
     ]
    },
    {
     "name": "stderr",
     "output_type": "stream",
     "text": [
      "\r",
      "17it [01:13,  4.02s/it]"
     ]
    },
    {
     "name": "stdout",
     "output_type": "stream",
     "text": [
      "('timestamps below min fps: ', array(['2018-08-20 01:36:31'], dtype=object))\n",
      "video_path                           OrlovaChukaDome_02_20180820_01.11.28-02.00.00[...\n",
      "annotation_id                                           Aditya_2018-08-20_0111-0200_17\n",
      "Sampling minute                                                                     36\n",
      "timestamp from camera                                                                2\n",
      "start_timestamp                                                    2018-08-20 01:36:30\n",
      "start_framenumber                                                                   25\n",
      "end_timestamp                                                      2018-08-20 01:36:31\n",
      "end_framenumber                                                                     10\n",
      "no. of flying bats                                                                   1\n",
      "bat behaviour                                                                      NaN\n",
      "strength (1 - strong, 0-weak)                                                        1\n",
      "weak in (Behaviour Be, Number Bn)                                                  NaN\n",
      "Comments                                                                           NaN\n",
      "Details on the comment                                                             NaN\n",
      "annotator                                                                       Aditya\n",
      "Name: 16, dtype: object\n",
      "video_path                           OrlovaChukaDome_02_20180820_01.11.28-02.00.00[...\n",
      "annotation_id                                           Aditya_2018-08-20_0111-0200_17\n",
      "Sampling minute                                                                     36\n",
      "timestamp from camera                                                                2\n",
      "start_timestamp                                                    2018-08-20 01:36:30\n",
      "start_framenumber                                                                   25\n",
      "end_timestamp                                                      2018-08-20 01:36:31\n",
      "end_framenumber                                                                     10\n",
      "no. of flying bats                                                                   1\n",
      "bat behaviour                                                                      NaN\n",
      "strength (1 - strong, 0-weak)                                                        1\n",
      "weak in (Behaviour Be, Number Bn)                                                  NaN\n",
      "Comments                                                                           NaN\n",
      "Details on the comment                                                             NaN\n",
      "annotator                                                                       Aditya\n",
      "Name: 16, dtype: object\n"
     ]
    },
    {
     "name": "stderr",
     "output_type": "stream",
     "text": [
      "\r",
      "18it [01:17,  3.90s/it]"
     ]
    },
    {
     "name": "stdout",
     "output_type": "stream",
     "text": [
      "('timestamps below min fps: ', array(['2018-08-20 01:36:31'], dtype=object))\n",
      "video_path                           OrlovaChukaDome_02_20180820_01.11.28-02.00.00[...\n",
      "annotation_id                                           Aditya_2018-08-20_0111-0200_18\n",
      "Sampling minute                                                                     36\n",
      "timestamp from camera                                                                2\n",
      "start_timestamp                                                    2018-08-20 01:36:31\n",
      "start_framenumber                                                                   18\n",
      "end_timestamp                                                      2018-08-20 01:36:34\n",
      "end_framenumber                                                                     12\n",
      "no. of flying bats                                                                   1\n",
      "bat behaviour                                                                      NaN\n",
      "strength (1 - strong, 0-weak)                                                        1\n",
      "weak in (Behaviour Be, Number Bn)                                                  NaN\n",
      "Comments                                                                           NaN\n",
      "Details on the comment                                                             NaN\n",
      "annotator                                                                       Aditya\n",
      "Name: 17, dtype: object\n",
      "video_path                           OrlovaChukaDome_02_20180820_01.11.28-02.00.00[...\n",
      "annotation_id                                           Aditya_2018-08-20_0111-0200_18\n",
      "Sampling minute                                                                     36\n",
      "timestamp from camera                                                                2\n",
      "start_timestamp                                                    2018-08-20 01:36:31\n",
      "start_framenumber                                                                   18\n",
      "end_timestamp                                                      2018-08-20 01:36:34\n",
      "end_framenumber                                                                     12\n",
      "no. of flying bats                                                                   1\n",
      "bat behaviour                                                                      NaN\n",
      "strength (1 - strong, 0-weak)                                                        1\n",
      "weak in (Behaviour Be, Number Bn)                                                  NaN\n",
      "Comments                                                                           NaN\n",
      "Details on the comment                                                             NaN\n",
      "annotator                                                                       Aditya\n",
      "Name: 17, dtype: object\n"
     ]
    },
    {
     "name": "stderr",
     "output_type": "stream",
     "text": [
      "\r",
      "19it [01:20,  3.77s/it]"
     ]
    },
    {
     "name": "stdout",
     "output_type": "stream",
     "text": [
      "('timestamps below min fps: ', array(['2018-08-20 01:37:38'], dtype=object))\n",
      "video_path                           OrlovaChukaDome_02_20180820_01.11.28-02.00.00[...\n",
      "annotation_id                                           Aditya_2018-08-20_0111-0200_19\n",
      "Sampling minute                                                                     36\n",
      "timestamp from camera                                                                2\n",
      "start_timestamp                                                    2018-08-20 01:36:56\n",
      "start_framenumber                                                                    4\n",
      "end_timestamp                                                      2018-08-20 01:36:59\n",
      "end_framenumber                                                                     25\n",
      "no. of flying bats                                                                   1\n",
      "bat behaviour                                                                      NaN\n",
      "strength (1 - strong, 0-weak)                                                        1\n",
      "weak in (Behaviour Be, Number Bn)                                                  NaN\n",
      "Comments                                                                           NaN\n",
      "Details on the comment                                                             NaN\n",
      "annotator                                                                       Aditya\n",
      "Name: 18, dtype: object\n",
      "video_path                           OrlovaChukaDome_02_20180820_01.11.28-02.00.00[...\n",
      "annotation_id                                           Aditya_2018-08-20_0111-0200_19\n",
      "Sampling minute                                                                     36\n",
      "timestamp from camera                                                                2\n",
      "start_timestamp                                                    2018-08-20 01:36:56\n",
      "start_framenumber                                                                    4\n",
      "end_timestamp                                                      2018-08-20 01:36:59\n",
      "end_framenumber                                                                     25\n",
      "no. of flying bats                                                                   1\n",
      "bat behaviour                                                                      NaN\n",
      "strength (1 - strong, 0-weak)                                                        1\n",
      "weak in (Behaviour Be, Number Bn)                                                  NaN\n",
      "Comments                                                                           NaN\n",
      "Details on the comment                                                             NaN\n",
      "annotator                                                                       Aditya\n",
      "Name: 18, dtype: object\n"
     ]
    },
    {
     "name": "stderr",
     "output_type": "stream",
     "text": [
      "\r",
      "20it [01:24,  3.82s/it]"
     ]
    },
    {
     "name": "stdout",
     "output_type": "stream",
     "text": [
      "('timestamps below min fps: ', array(['2018-08-20 01:37:38'], dtype=object))\n",
      "video_path                           OrlovaChukaDome_02_20180820_01.11.28-02.00.00[...\n",
      "annotation_id                                           Aditya_2018-08-20_0111-0200_20\n",
      "Sampling minute                                                                     37\n",
      "timestamp from camera                                                                2\n",
      "start_timestamp                                                    2018-08-20 01:37:20\n",
      "start_framenumber                                                                    2\n",
      "end_timestamp                                                      2018-08-20 01:37:21\n",
      "end_framenumber                                                                     17\n",
      "no. of flying bats                                                                   1\n",
      "bat behaviour                                                                      NaN\n",
      "strength (1 - strong, 0-weak)                                                        0\n",
      "weak in (Behaviour Be, Number Bn)    The time the shadow exits the cave is taken as...\n",
      "Comments                                                                           NaN\n",
      "Details on the comment                                                             NaN\n",
      "annotator                                                                       Aditya\n",
      "Name: 19, dtype: object\n",
      "video_path                           OrlovaChukaDome_02_20180820_01.11.28-02.00.00[...\n",
      "annotation_id                                           Aditya_2018-08-20_0111-0200_20\n",
      "Sampling minute                                                                     37\n",
      "timestamp from camera                                                                2\n",
      "start_timestamp                                                    2018-08-20 01:37:20\n",
      "start_framenumber                                                                    2\n",
      "end_timestamp                                                      2018-08-20 01:37:21\n",
      "end_framenumber                                                                     17\n",
      "no. of flying bats                                                                   1\n",
      "bat behaviour                                                                      NaN\n",
      "strength (1 - strong, 0-weak)                                                        0\n",
      "weak in (Behaviour Be, Number Bn)    The time the shadow exits the cave is taken as...\n",
      "Comments                                                                           NaN\n",
      "Details on the comment                                                             NaN\n",
      "annotator                                                                       Aditya\n",
      "Name: 19, dtype: object\n"
     ]
    },
    {
     "name": "stderr",
     "output_type": "stream",
     "text": [
      "\r",
      "21it [01:28,  3.78s/it]"
     ]
    },
    {
     "name": "stdout",
     "output_type": "stream",
     "text": [
      "('timestamps below min fps: ', array(['2018-08-20 01:37:38'], dtype=object))\n",
      "video_path                           OrlovaChukaDome_02_20180820_01.11.28-02.00.00[...\n",
      "annotation_id                                           Aditya_2018-08-20_0111-0200_21\n",
      "Sampling minute                                                                     37\n",
      "timestamp from camera                                                                2\n",
      "start_timestamp                                                    2018-08-20 01:37:22\n",
      "start_framenumber                                                                    2\n",
      "end_timestamp                                                      2018-08-20 01:37:22\n",
      "end_framenumber                                                                     13\n",
      "no. of flying bats                                                                   1\n",
      "bat behaviour                                                                      NaN\n",
      "strength (1 - strong, 0-weak)                                                        0\n",
      "weak in (Behaviour Be, Number Bn)    The bat exits the cave at this point. Shadow s...\n",
      "Comments                                                                           NaN\n",
      "Details on the comment                                                             NaN\n",
      "annotator                                                                       Aditya\n",
      "Name: 20, dtype: object\n",
      "video_path                           OrlovaChukaDome_02_20180820_01.11.28-02.00.00[...\n",
      "annotation_id                                           Aditya_2018-08-20_0111-0200_21\n",
      "Sampling minute                                                                     37\n",
      "timestamp from camera                                                                2\n",
      "start_timestamp                                                    2018-08-20 01:37:22\n",
      "start_framenumber                                                                    2\n",
      "end_timestamp                                                      2018-08-20 01:37:22\n",
      "end_framenumber                                                                     13\n",
      "no. of flying bats                                                                   1\n",
      "bat behaviour                                                                      NaN\n",
      "strength (1 - strong, 0-weak)                                                        0\n",
      "weak in (Behaviour Be, Number Bn)    The bat exits the cave at this point. Shadow s...\n",
      "Comments                                                                           NaN\n",
      "Details on the comment                                                             NaN\n",
      "annotator                                                                       Aditya\n",
      "Name: 20, dtype: object\n"
     ]
    },
    {
     "name": "stderr",
     "output_type": "stream",
     "text": [
      "\r",
      "22it [01:31,  3.65s/it]"
     ]
    },
    {
     "name": "stdout",
     "output_type": "stream",
     "text": [
      "('timestamps below min fps: ', array(['2018-08-20 01:37:38'], dtype=object))\n",
      "video_path                           OrlovaChukaDome_02_20180820_01.11.28-02.00.00[...\n",
      "annotation_id                                           Aditya_2018-08-20_0111-0200_22\n",
      "Sampling minute                                                                     37\n",
      "timestamp from camera                                                                2\n",
      "start_timestamp                                                    2018-08-20 01:37:23\n",
      "start_framenumber                                                                    2\n",
      "end_timestamp                                                      2018-08-20 01:37:23\n",
      "end_framenumber                                                                     14\n",
      "no. of flying bats                                                                   1\n",
      "bat behaviour                                                                      NaN\n",
      "strength (1 - strong, 0-weak)                                                        1\n",
      "weak in (Behaviour Be, Number Bn)                       Could be the shadow of the bat\n",
      "Comments                                                                           NaN\n",
      "Details on the comment                                                             NaN\n",
      "annotator                                                                       Aditya\n",
      "Name: 21, dtype: object\n",
      "video_path                           OrlovaChukaDome_02_20180820_01.11.28-02.00.00[...\n",
      "annotation_id                                           Aditya_2018-08-20_0111-0200_22\n",
      "Sampling minute                                                                     37\n",
      "timestamp from camera                                                                2\n",
      "start_timestamp                                                    2018-08-20 01:37:23\n",
      "start_framenumber                                                                    2\n",
      "end_timestamp                                                      2018-08-20 01:37:23\n",
      "end_framenumber                                                                     14\n",
      "no. of flying bats                                                                   1\n",
      "bat behaviour                                                                      NaN\n",
      "strength (1 - strong, 0-weak)                                                        1\n",
      "weak in (Behaviour Be, Number Bn)                       Could be the shadow of the bat\n",
      "Comments                                                                           NaN\n",
      "Details on the comment                                                             NaN\n",
      "annotator                                                                       Aditya\n",
      "Name: 21, dtype: object\n"
     ]
    },
    {
     "name": "stderr",
     "output_type": "stream",
     "text": [
      "\r",
      "23it [01:36,  3.82s/it]"
     ]
    },
    {
     "name": "stdout",
     "output_type": "stream",
     "text": [
      "('timestamps below min fps: ', array(['2018-08-20 01:37:38'], dtype=object))\n",
      "video_path                           OrlovaChukaDome_02_20180820_01.11.28-02.00.00[...\n",
      "annotation_id                                           Aditya_2018-08-20_0111-0200_23\n",
      "Sampling minute                                                                     37\n",
      "timestamp from camera                                                                2\n",
      "start_timestamp                                                    2018-08-20 01:37:24\n",
      "start_framenumber                                                                    3\n",
      "end_timestamp                                                      2018-08-20 01:37:24\n",
      "end_framenumber                                                                     21\n",
      "no. of flying bats                                                                   1\n",
      "bat behaviour                                                                      NaN\n",
      "strength (1 - strong, 0-weak)                                                        1\n",
      "weak in (Behaviour Be, Number Bn)                                                  NaN\n",
      "Comments                                                                           NaN\n",
      "Details on the comment                                                             NaN\n",
      "annotator                                                                       Aditya\n",
      "Name: 22, dtype: object\n",
      "video_path                           OrlovaChukaDome_02_20180820_01.11.28-02.00.00[...\n",
      "annotation_id                                           Aditya_2018-08-20_0111-0200_23\n",
      "Sampling minute                                                                     37\n",
      "timestamp from camera                                                                2\n",
      "start_timestamp                                                    2018-08-20 01:37:24\n",
      "start_framenumber                                                                    3\n",
      "end_timestamp                                                      2018-08-20 01:37:24\n",
      "end_framenumber                                                                     21\n",
      "no. of flying bats                                                                   1\n",
      "bat behaviour                                                                      NaN\n",
      "strength (1 - strong, 0-weak)                                                        1\n",
      "weak in (Behaviour Be, Number Bn)                                                  NaN\n",
      "Comments                                                                           NaN\n",
      "Details on the comment                                                             NaN\n",
      "annotator                                                                       Aditya\n",
      "Name: 22, dtype: object\n"
     ]
    },
    {
     "name": "stderr",
     "output_type": "stream",
     "text": [
      "\r",
      "24it [01:39,  3.79s/it]"
     ]
    },
    {
     "name": "stdout",
     "output_type": "stream",
     "text": [
      "('timestamps below min fps: ', array(['2018-08-20 01:37:38'], dtype=object))\n",
      "video_path                           OrlovaChukaDome_02_20180820_01.11.28-02.00.00[...\n",
      "annotation_id                                           Aditya_2018-08-20_0111-0200_24\n",
      "Sampling minute                                                                     37\n",
      "timestamp from camera                                                                2\n",
      "start_timestamp                                                    2018-08-20 01:37:25\n",
      "start_framenumber                                                                   11\n",
      "end_timestamp                                                      2018-08-20 01:37:25\n",
      "end_framenumber                                                                     23\n",
      "no. of flying bats                                                                   1\n",
      "bat behaviour                                                                      NaN\n",
      "strength (1 - strong, 0-weak)                                                        1\n",
      "weak in (Behaviour Be, Number Bn)                                                  NaN\n",
      "Comments                                                                           NaN\n",
      "Details on the comment                                                             NaN\n",
      "annotator                                                                       Aditya\n",
      "Name: 23, dtype: object\n",
      "video_path                           OrlovaChukaDome_02_20180820_01.11.28-02.00.00[...\n",
      "annotation_id                                           Aditya_2018-08-20_0111-0200_24\n",
      "Sampling minute                                                                     37\n",
      "timestamp from camera                                                                2\n",
      "start_timestamp                                                    2018-08-20 01:37:25\n",
      "start_framenumber                                                                   11\n",
      "end_timestamp                                                      2018-08-20 01:37:25\n",
      "end_framenumber                                                                     23\n",
      "no. of flying bats                                                                   1\n",
      "bat behaviour                                                                      NaN\n",
      "strength (1 - strong, 0-weak)                                                        1\n",
      "weak in (Behaviour Be, Number Bn)                                                  NaN\n",
      "Comments                                                                           NaN\n",
      "Details on the comment                                                             NaN\n",
      "annotator                                                                       Aditya\n",
      "Name: 23, dtype: object\n"
     ]
    },
    {
     "name": "stderr",
     "output_type": "stream",
     "text": [
      "\r",
      "25it [01:43,  3.80s/it]"
     ]
    },
    {
     "name": "stdout",
     "output_type": "stream",
     "text": [
      "('timestamps below min fps: ', array(['2018-08-20 01:37:38'], dtype=object))\n",
      "video_path                           OrlovaChukaDome_02_20180820_01.11.28-02.00.00[...\n",
      "annotation_id                                           Aditya_2018-08-20_0111-0200_25\n",
      "Sampling minute                                                                     37\n",
      "timestamp from camera                                                                2\n",
      "start_timestamp                                                    2018-08-20 01:37:26\n",
      "start_framenumber                                                                    5\n",
      "end_timestamp                                                      2018-08-20 01:37:28\n",
      "end_framenumber                                                                     11\n",
      "no. of flying bats                                                                   2\n",
      "bat behaviour                                                                        T\n",
      "strength (1 - strong, 0-weak)                                                        1\n",
      "weak in (Behaviour Be, Number Bn)                                                  NaN\n",
      "Comments                                                                           NaN\n",
      "Details on the comment                                                             NaN\n",
      "annotator                                                                       Aditya\n",
      "Name: 24, dtype: object\n",
      "video_path                           OrlovaChukaDome_02_20180820_01.11.28-02.00.00[...\n",
      "annotation_id                                           Aditya_2018-08-20_0111-0200_25\n",
      "Sampling minute                                                                     37\n",
      "timestamp from camera                                                                2\n",
      "start_timestamp                                                    2018-08-20 01:37:26\n",
      "start_framenumber                                                                    5\n",
      "end_timestamp                                                      2018-08-20 01:37:28\n",
      "end_framenumber                                                                     11\n",
      "no. of flying bats                                                                   2\n",
      "bat behaviour                                                                        T\n",
      "strength (1 - strong, 0-weak)                                                        1\n",
      "weak in (Behaviour Be, Number Bn)                                                  NaN\n",
      "Comments                                                                           NaN\n",
      "Details on the comment                                                             NaN\n",
      "annotator                                                                       Aditya\n",
      "Name: 24, dtype: object\n"
     ]
    },
    {
     "name": "stderr",
     "output_type": "stream",
     "text": [
      "\r",
      "26it [01:47,  3.75s/it]"
     ]
    },
    {
     "name": "stdout",
     "output_type": "stream",
     "text": [
      "('timestamps below min fps: ', array(['2018-08-20 01:37:38'], dtype=object))\n",
      "video_path                           OrlovaChukaDome_02_20180820_01.11.28-02.00.00[...\n",
      "annotation_id                                           Aditya_2018-08-20_0111-0200_26\n",
      "Sampling minute                                                                     37\n",
      "timestamp from camera                                                                2\n",
      "start_timestamp                                                    2018-08-20 01:37:28\n",
      "start_framenumber                                                                   18\n",
      "end_timestamp                                                      2018-08-20 01:37:29\n",
      "end_framenumber                                                                      3\n",
      "no. of flying bats                                                                   1\n",
      "bat behaviour                                                                      NaN\n",
      "strength (1 - strong, 0-weak)                                                        1\n",
      "weak in (Behaviour Be, Number Bn)                                                  NaN\n",
      "Comments                                                                           NaN\n",
      "Details on the comment                                                             NaN\n",
      "annotator                                                                       Aditya\n",
      "Name: 25, dtype: object\n",
      "video_path                           OrlovaChukaDome_02_20180820_01.11.28-02.00.00[...\n",
      "annotation_id                                           Aditya_2018-08-20_0111-0200_26\n",
      "Sampling minute                                                                     37\n",
      "timestamp from camera                                                                2\n",
      "start_timestamp                                                    2018-08-20 01:37:28\n",
      "start_framenumber                                                                   18\n",
      "end_timestamp                                                      2018-08-20 01:37:29\n",
      "end_framenumber                                                                      3\n",
      "no. of flying bats                                                                   1\n",
      "bat behaviour                                                                      NaN\n",
      "strength (1 - strong, 0-weak)                                                        1\n",
      "weak in (Behaviour Be, Number Bn)                                                  NaN\n",
      "Comments                                                                           NaN\n",
      "Details on the comment                                                             NaN\n",
      "annotator                                                                       Aditya\n",
      "Name: 25, dtype: object\n"
     ]
    },
    {
     "name": "stderr",
     "output_type": "stream",
     "text": [
      "\r",
      "27it [01:50,  3.70s/it]"
     ]
    },
    {
     "name": "stdout",
     "output_type": "stream",
     "text": [
      "('timestamps below min fps: ', array(['2018-08-20 01:37:38'], dtype=object))\n",
      "video_path                           OrlovaChukaDome_02_20180820_01.11.28-02.00.00[...\n",
      "annotation_id                                           Aditya_2018-08-20_0111-0200_27\n",
      "Sampling minute                                                                     37\n",
      "timestamp from camera                                                                2\n",
      "start_timestamp                                                    2018-08-20 01:37:29\n",
      "start_framenumber                                                                   11\n",
      "end_timestamp                                                      2018-08-20 01:37:30\n",
      "end_framenumber                                                                     10\n",
      "no. of flying bats                                                                   2\n",
      "bat behaviour                                                                        H\n",
      "strength (1 - strong, 0-weak)                                                        1\n",
      "weak in (Behaviour Be, Number Bn)    One bat changes the trajectory as the other ba...\n",
      "Comments                                                                           NaN\n",
      "Details on the comment                                                             NaN\n",
      "annotator                                                                       Aditya\n",
      "Name: 26, dtype: object\n",
      "video_path                           OrlovaChukaDome_02_20180820_01.11.28-02.00.00[...\n",
      "annotation_id                                           Aditya_2018-08-20_0111-0200_27\n",
      "Sampling minute                                                                     37\n",
      "timestamp from camera                                                                2\n",
      "start_timestamp                                                    2018-08-20 01:37:29\n",
      "start_framenumber                                                                   11\n",
      "end_timestamp                                                      2018-08-20 01:37:30\n",
      "end_framenumber                                                                     10\n",
      "no. of flying bats                                                                   2\n",
      "bat behaviour                                                                        H\n",
      "strength (1 - strong, 0-weak)                                                        1\n",
      "weak in (Behaviour Be, Number Bn)    One bat changes the trajectory as the other ba...\n",
      "Comments                                                                           NaN\n",
      "Details on the comment                                                             NaN\n",
      "annotator                                                                       Aditya\n",
      "Name: 26, dtype: object\n"
     ]
    },
    {
     "name": "stderr",
     "output_type": "stream",
     "text": [
      "\r",
      "28it [01:54,  3.79s/it]"
     ]
    },
    {
     "name": "stdout",
     "output_type": "stream",
     "text": [
      "('timestamps below min fps: ', array(['2018-08-20 01:37:38'], dtype=object))\n",
      "video_path                           OrlovaChukaDome_02_20180820_01.11.28-02.00.00[...\n",
      "annotation_id                                           Aditya_2018-08-20_0111-0200_28\n",
      "Sampling minute                                                                     37\n",
      "timestamp from camera                                                                2\n",
      "start_timestamp                                                    2018-08-20 01:37:30\n",
      "start_framenumber                                                                   17\n",
      "end_timestamp                                                      2018-08-20 01:37:31\n",
      "end_framenumber                                                                      4\n",
      "no. of flying bats                                                                   1\n",
      "bat behaviour                                                                      NaN\n",
      "strength (1 - strong, 0-weak)                                                        1\n",
      "weak in (Behaviour Be, Number Bn)                                                  NaN\n",
      "Comments                                                                           NaN\n",
      "Details on the comment                                                             NaN\n",
      "annotator                                                                       Aditya\n",
      "Name: 27, dtype: object\n",
      "video_path                           OrlovaChukaDome_02_20180820_01.11.28-02.00.00[...\n",
      "annotation_id                                           Aditya_2018-08-20_0111-0200_28\n",
      "Sampling minute                                                                     37\n",
      "timestamp from camera                                                                2\n",
      "start_timestamp                                                    2018-08-20 01:37:30\n",
      "start_framenumber                                                                   17\n",
      "end_timestamp                                                      2018-08-20 01:37:31\n",
      "end_framenumber                                                                      4\n",
      "no. of flying bats                                                                   1\n",
      "bat behaviour                                                                      NaN\n",
      "strength (1 - strong, 0-weak)                                                        1\n",
      "weak in (Behaviour Be, Number Bn)                                                  NaN\n",
      "Comments                                                                           NaN\n",
      "Details on the comment                                                             NaN\n",
      "annotator                                                                       Aditya\n",
      "Name: 27, dtype: object\n"
     ]
    },
    {
     "name": "stderr",
     "output_type": "stream",
     "text": [
      "\r",
      "29it [01:58,  3.71s/it]"
     ]
    },
    {
     "name": "stdout",
     "output_type": "stream",
     "text": [
      "('timestamps below min fps: ', array(['2018-08-20 01:37:38'], dtype=object))\n",
      "video_path                           OrlovaChukaDome_02_20180820_01.11.28-02.00.00[...\n",
      "annotation_id                                           Aditya_2018-08-20_0111-0200_29\n",
      "Sampling minute                                                                     37\n",
      "timestamp from camera                                                                2\n",
      "start_timestamp                                                    2018-08-20 01:37:31\n",
      "start_framenumber                                                                   11\n",
      "end_timestamp                                                      2018-08-20 01:37:31\n",
      "end_framenumber                                                                     21\n",
      "no. of flying bats                                                                   2\n",
      "bat behaviour                                                                        P\n",
      "strength (1 - strong, 0-weak)                                                        1\n",
      "weak in (Behaviour Be, Number Bn)                                                  NaN\n",
      "Comments                                                                           NaN\n",
      "Details on the comment                                                             NaN\n",
      "annotator                                                                       Aditya\n",
      "Name: 28, dtype: object\n",
      "video_path                           OrlovaChukaDome_02_20180820_01.11.28-02.00.00[...\n",
      "annotation_id                                           Aditya_2018-08-20_0111-0200_29\n",
      "Sampling minute                                                                     37\n",
      "timestamp from camera                                                                2\n",
      "start_timestamp                                                    2018-08-20 01:37:31\n",
      "start_framenumber                                                                   11\n",
      "end_timestamp                                                      2018-08-20 01:37:31\n",
      "end_framenumber                                                                     21\n",
      "no. of flying bats                                                                   2\n",
      "bat behaviour                                                                        P\n",
      "strength (1 - strong, 0-weak)                                                        1\n",
      "weak in (Behaviour Be, Number Bn)                                                  NaN\n",
      "Comments                                                                           NaN\n",
      "Details on the comment                                                             NaN\n",
      "annotator                                                                       Aditya\n",
      "Name: 28, dtype: object\n"
     ]
    },
    {
     "name": "stderr",
     "output_type": "stream",
     "text": [
      "\r",
      "30it [02:01,  3.65s/it]"
     ]
    },
    {
     "name": "stdout",
     "output_type": "stream",
     "text": [
      "('timestamps below min fps: ', array(['2018-08-20 01:37:38'], dtype=object))\n",
      "video_path                           OrlovaChukaDome_02_20180820_01.11.28-02.00.00[...\n",
      "annotation_id                                           Aditya_2018-08-20_0111-0200_30\n",
      "Sampling minute                                                                     37\n",
      "timestamp from camera                                                                2\n",
      "start_timestamp                                                    2018-08-20 01:37:32\n",
      "start_framenumber                                                                   14\n",
      "end_timestamp                                                      2018-08-20 01:37:36\n",
      "end_framenumber                                                                     19\n",
      "no. of flying bats                                                                   2\n",
      "bat behaviour                                                                      T,P\n",
      "strength (1 - strong, 0-weak)                                                        1\n",
      "weak in (Behaviour Be, Number Bn)                                                  NaN\n",
      "Comments                                                                           NaN\n",
      "Details on the comment                                                             NaN\n",
      "annotator                                                                       Aditya\n",
      "Name: 29, dtype: object\n",
      "video_path                           OrlovaChukaDome_02_20180820_01.11.28-02.00.00[...\n",
      "annotation_id                                           Aditya_2018-08-20_0111-0200_30\n",
      "Sampling minute                                                                     37\n",
      "timestamp from camera                                                                2\n",
      "start_timestamp                                                    2018-08-20 01:37:32\n",
      "start_framenumber                                                                   14\n",
      "end_timestamp                                                      2018-08-20 01:37:36\n",
      "end_framenumber                                                                     19\n",
      "no. of flying bats                                                                   2\n",
      "bat behaviour                                                                      T,P\n",
      "strength (1 - strong, 0-weak)                                                        1\n",
      "weak in (Behaviour Be, Number Bn)                                                  NaN\n",
      "Comments                                                                           NaN\n",
      "Details on the comment                                                             NaN\n",
      "annotator                                                                       Aditya\n",
      "Name: 29, dtype: object\n"
     ]
    },
    {
     "name": "stderr",
     "output_type": "stream",
     "text": [
      "\r",
      "31it [02:05,  3.62s/it]"
     ]
    },
    {
     "name": "stdout",
     "output_type": "stream",
     "text": [
      "('timestamps below min fps: ', array(['2018-08-20 01:37:38'], dtype=object))\n",
      "video_path                           OrlovaChukaDome_02_20180820_01.11.28-02.00.00[...\n",
      "annotation_id                                           Aditya_2018-08-20_0111-0200_31\n",
      "Sampling minute                                                                     37\n",
      "timestamp from camera                                                                2\n",
      "start_timestamp                                                    2018-08-20 01:37:37\n",
      "start_framenumber                                                                    1\n",
      "end_timestamp                                                      2018-08-20 01:37:37\n",
      "end_framenumber                                                                     18\n",
      "no. of flying bats                                                                   1\n",
      "bat behaviour                                                                      NaN\n",
      "strength (1 - strong, 0-weak)                                                        1\n",
      "weak in (Behaviour Be, Number Bn)                                                  NaN\n",
      "Comments                             There was one more bat inside the cave. Now is...\n",
      "Details on the comment                                                             NaN\n",
      "annotator                                                                       Aditya\n",
      "Name: 30, dtype: object\n",
      "video_path                           OrlovaChukaDome_02_20180820_01.11.28-02.00.00[...\n",
      "annotation_id                                           Aditya_2018-08-20_0111-0200_31\n",
      "Sampling minute                                                                     37\n",
      "timestamp from camera                                                                2\n",
      "start_timestamp                                                    2018-08-20 01:37:37\n",
      "start_framenumber                                                                    1\n",
      "end_timestamp                                                      2018-08-20 01:37:37\n",
      "end_framenumber                                                                     18\n",
      "no. of flying bats                                                                   1\n",
      "bat behaviour                                                                      NaN\n",
      "strength (1 - strong, 0-weak)                                                        1\n",
      "weak in (Behaviour Be, Number Bn)                                                  NaN\n",
      "Comments                             There was one more bat inside the cave. Now is...\n",
      "Details on the comment                                                             NaN\n",
      "annotator                                                                       Aditya\n",
      "Name: 30, dtype: object\n"
     ]
    },
    {
     "name": "stderr",
     "output_type": "stream",
     "text": [
      "\r",
      "32it [02:08,  3.52s/it]"
     ]
    },
    {
     "name": "stdout",
     "output_type": "stream",
     "text": [
      "('timestamps below min fps: ', array(['2018-08-20 01:37:38'], dtype=object))\n",
      "video_path                           OrlovaChukaDome_02_20180820_01.11.28-02.00.00[...\n",
      "annotation_id                                           Aditya_2018-08-20_0111-0200_32\n",
      "Sampling minute                                                                     37\n",
      "timestamp from camera                                                                2\n",
      "start_timestamp                                                    2018-08-20 01:37:37\n",
      "start_framenumber                                                                   25\n",
      "end_timestamp                                                      2018-08-20 01:37:39\n",
      "end_framenumber                                                                      7\n",
      "no. of flying bats                                                                   2\n",
      "bat behaviour                                                                        T\n",
      "strength (1 - strong, 0-weak)                                                        1\n",
      "weak in (Behaviour Be, Number Bn)                                                  NaN\n",
      "Comments                                                                           NaN\n",
      "Details on the comment                                                             NaN\n",
      "annotator                                                                       Aditya\n",
      "Name: 31, dtype: object\n",
      "video_path                           OrlovaChukaDome_02_20180820_01.11.28-02.00.00[...\n",
      "annotation_id                                           Aditya_2018-08-20_0111-0200_32\n",
      "Sampling minute                                                                     37\n",
      "timestamp from camera                                                                2\n",
      "start_timestamp                                                    2018-08-20 01:37:37\n",
      "start_framenumber                                                                   25\n",
      "end_timestamp                                                      2018-08-20 01:37:39\n",
      "end_framenumber                                                                      7\n",
      "no. of flying bats                                                                   2\n",
      "bat behaviour                                                                        T\n",
      "strength (1 - strong, 0-weak)                                                        1\n",
      "weak in (Behaviour Be, Number Bn)                                                  NaN\n",
      "Comments                                                                           NaN\n",
      "Details on the comment                                                             NaN\n",
      "annotator                                                                       Aditya\n",
      "Name: 31, dtype: object\n"
     ]
    },
    {
     "name": "stderr",
     "output_type": "stream",
     "text": [
      "\r",
      "33it [02:13,  4.06s/it]"
     ]
    },
    {
     "name": "stdout",
     "output_type": "stream",
     "text": [
      "Saved annotation :Aditya_2018-08-20_0111-0200_33\n"
     ]
    },
    {
     "name": "stderr",
     "output_type": "stream",
     "text": [
      "\r",
      "34it [02:20,  4.66s/it]"
     ]
    },
    {
     "name": "stdout",
     "output_type": "stream",
     "text": [
      "Saved annotation :Aditya_2018-08-20_0111-0200_34\n"
     ]
    },
    {
     "name": "stderr",
     "output_type": "stream",
     "text": [
      "\r",
      "35it [02:25,  4.95s/it]"
     ]
    },
    {
     "name": "stdout",
     "output_type": "stream",
     "text": [
      "Saved annotation :Aditya_2018-08-20_0111-0200_35\n"
     ]
    },
    {
     "name": "stderr",
     "output_type": "stream",
     "text": [
      "\r",
      "36it [02:31,  5.35s/it]"
     ]
    },
    {
     "name": "stdout",
     "output_type": "stream",
     "text": [
      "Saved annotation :Aditya_2018-08-20_0111-0200_36\n"
     ]
    },
    {
     "name": "stderr",
     "output_type": "stream",
     "text": [
      "\r",
      "37it [02:39,  5.91s/it]"
     ]
    },
    {
     "name": "stdout",
     "output_type": "stream",
     "text": [
      "Saved annotation :Aditya_2018-08-20_0111-0200_37\n"
     ]
    },
    {
     "name": "stderr",
     "output_type": "stream",
     "text": [
      "\r",
      "38it [02:45,  6.17s/it]"
     ]
    },
    {
     "name": "stdout",
     "output_type": "stream",
     "text": [
      "Saved annotation :Aditya_2018-08-20_0111-0200_38\n"
     ]
    },
    {
     "name": "stderr",
     "output_type": "stream",
     "text": [
      "\r",
      "39it [02:51,  5.97s/it]"
     ]
    },
    {
     "name": "stdout",
     "output_type": "stream",
     "text": [
      "Saved annotation :Aditya_2018-08-20_0111-0200_39\n"
     ]
    },
    {
     "name": "stderr",
     "output_type": "stream",
     "text": [
      "\r",
      "40it [02:56,  5.81s/it]"
     ]
    },
    {
     "name": "stdout",
     "output_type": "stream",
     "text": [
      "Saved annotation :Aditya_2018-08-20_0111-0200_40\n"
     ]
    },
    {
     "name": "stderr",
     "output_type": "stream",
     "text": [
      "\r",
      "41it [03:02,  5.62s/it]"
     ]
    },
    {
     "name": "stdout",
     "output_type": "stream",
     "text": [
      "Unable to process annotation: Aditya_2018-08-20_0111-0200_41\n"
     ]
    },
    {
     "name": "stderr",
     "output_type": "stream",
     "text": [
      "\r",
      "42it [03:08,  5.97s/it]"
     ]
    },
    {
     "name": "stdout",
     "output_type": "stream",
     "text": [
      "Saved annotation :Aditya_2018-08-20_0111-0200_42\n"
     ]
    },
    {
     "name": "stderr",
     "output_type": "stream",
     "text": [
      "\r",
      "43it [03:14,  5.76s/it]"
     ]
    },
    {
     "name": "stdout",
     "output_type": "stream",
     "text": [
      "Saved annotation :Aditya_2018-08-20_0111-0200_43\n"
     ]
    },
    {
     "name": "stderr",
     "output_type": "stream",
     "text": [
      "\r",
      "44it [03:20,  6.00s/it]"
     ]
    },
    {
     "name": "stdout",
     "output_type": "stream",
     "text": [
      "Saved annotation :Aditya_2018-08-20_0111-0200_44\n"
     ]
    },
    {
     "name": "stderr",
     "output_type": "stream",
     "text": [
      "\r",
      "45it [03:25,  5.60s/it]"
     ]
    },
    {
     "name": "stdout",
     "output_type": "stream",
     "text": [
      "Saved annotation :Aditya_2018-08-20_0111-0200_45\n"
     ]
    },
    {
     "name": "stderr",
     "output_type": "stream",
     "text": [
      "\r",
      "46it [03:30,  5.60s/it]"
     ]
    },
    {
     "name": "stdout",
     "output_type": "stream",
     "text": [
      "Unable to process annotation: Aditya_2018-08-20_0111-0200_46\n"
     ]
    },
    {
     "name": "stderr",
     "output_type": "stream",
     "text": [
      "\r",
      "47it [03:36,  5.53s/it]"
     ]
    },
    {
     "name": "stdout",
     "output_type": "stream",
     "text": [
      "Saved annotation :Aditya_2018-08-20_0111-0200_47\n"
     ]
    },
    {
     "name": "stderr",
     "output_type": "stream",
     "text": [
      "\r",
      "48it [03:42,  5.77s/it]"
     ]
    },
    {
     "name": "stdout",
     "output_type": "stream",
     "text": [
      "Unable to process annotation: Aditya_2018-08-20_0111-0200_48\n"
     ]
    },
    {
     "name": "stderr",
     "output_type": "stream",
     "text": [
      "\r",
      "49it [03:48,  5.82s/it]"
     ]
    },
    {
     "name": "stdout",
     "output_type": "stream",
     "text": [
      "Saved annotation :Aditya_2018-08-20_0111-0200_49\n"
     ]
    },
    {
     "name": "stderr",
     "output_type": "stream",
     "text": [
      "\r",
      "50it [03:53,  5.53s/it]"
     ]
    },
    {
     "name": "stdout",
     "output_type": "stream",
     "text": [
      "Saved annotation :Aditya_2018-08-20_0111-0200_50\n"
     ]
    },
    {
     "name": "stderr",
     "output_type": "stream",
     "text": [
      "\r",
      "51it [03:57,  5.22s/it]"
     ]
    },
    {
     "name": "stdout",
     "output_type": "stream",
     "text": [
      "Saved annotation :Aditya_2018-08-20_0111-0200_51\n"
     ]
    },
    {
     "name": "stderr",
     "output_type": "stream",
     "text": [
      "\r",
      "52it [04:03,  5.45s/it]"
     ]
    },
    {
     "name": "stdout",
     "output_type": "stream",
     "text": [
      "Saved annotation :Aditya_2018-08-20_0111-0200_52\n"
     ]
    },
    {
     "name": "stderr",
     "output_type": "stream",
     "text": [
      "\r",
      "53it [04:09,  5.53s/it]"
     ]
    },
    {
     "name": "stdout",
     "output_type": "stream",
     "text": [
      "Saved annotation :Aditya_2018-08-20_0111-0200_53\n"
     ]
    },
    {
     "name": "stderr",
     "output_type": "stream",
     "text": [
      "\r",
      "54it [04:15,  5.62s/it]"
     ]
    },
    {
     "name": "stdout",
     "output_type": "stream",
     "text": [
      "Saved annotation :Aditya_2018-08-20_0111-0200_54\n"
     ]
    },
    {
     "name": "stderr",
     "output_type": "stream",
     "text": [
      "\r",
      "55it [04:21,  5.66s/it]"
     ]
    },
    {
     "name": "stdout",
     "output_type": "stream",
     "text": [
      "Saved annotation :Aditya_2018-08-20_0111-0200_55\n"
     ]
    },
    {
     "name": "stderr",
     "output_type": "stream",
     "text": [
      "\r",
      "56it [04:27,  5.78s/it]"
     ]
    },
    {
     "name": "stdout",
     "output_type": "stream",
     "text": [
      "Saved annotation :Aditya_2018-08-20_0111-0200_56\n"
     ]
    },
    {
     "name": "stderr",
     "output_type": "stream",
     "text": [
      "\r",
      "57it [04:33,  5.93s/it]"
     ]
    },
    {
     "name": "stdout",
     "output_type": "stream",
     "text": [
      "Unable to process annotation: Aditya_2018-08-20_0111-0200_57\n"
     ]
    },
    {
     "name": "stderr",
     "output_type": "stream",
     "text": [
      "\r",
      "58it [04:39,  5.82s/it]"
     ]
    },
    {
     "name": "stdout",
     "output_type": "stream",
     "text": [
      "Unable to process annotation: Aditya_2018-08-20_0111-0200_58\n"
     ]
    },
    {
     "name": "stderr",
     "output_type": "stream",
     "text": [
      "\r",
      "59it [04:45,  6.01s/it]"
     ]
    },
    {
     "name": "stdout",
     "output_type": "stream",
     "text": [
      "Unable to process annotation: Aditya_2018-08-20_0111-0200_59\n"
     ]
    },
    {
     "name": "stderr",
     "output_type": "stream",
     "text": [
      "\r",
      "60it [04:50,  5.83s/it]"
     ]
    },
    {
     "name": "stdout",
     "output_type": "stream",
     "text": [
      "Saved annotation :Aditya_2018-08-20_0111-0200_60\n"
     ]
    },
    {
     "name": "stderr",
     "output_type": "stream",
     "text": [
      "\r",
      "61it [04:55,  5.58s/it]"
     ]
    },
    {
     "name": "stdout",
     "output_type": "stream",
     "text": [
      "Saved annotation :Aditya_2018-08-20_0111-0200_61\n"
     ]
    },
    {
     "name": "stderr",
     "output_type": "stream",
     "text": [
      "\r",
      "62it [05:01,  5.43s/it]"
     ]
    },
    {
     "name": "stdout",
     "output_type": "stream",
     "text": [
      "Saved annotation :Aditya_2018-08-20_0111-0200_62\n"
     ]
    },
    {
     "name": "stderr",
     "output_type": "stream",
     "text": [
      "\r",
      "63it [05:06,  5.43s/it]"
     ]
    },
    {
     "name": "stdout",
     "output_type": "stream",
     "text": [
      "Saved annotation :Aditya_2018-08-20_0111-0200_63\n"
     ]
    },
    {
     "name": "stderr",
     "output_type": "stream",
     "text": [
      "\r",
      "64it [05:13,  5.88s/it]"
     ]
    },
    {
     "name": "stdout",
     "output_type": "stream",
     "text": [
      "Saved annotation :Aditya_2018-08-20_0111-0200_64\n"
     ]
    },
    {
     "name": "stderr",
     "output_type": "stream",
     "text": [
      "\r",
      "65it [05:18,  5.65s/it]"
     ]
    },
    {
     "name": "stdout",
     "output_type": "stream",
     "text": [
      "Saved annotation :Aditya_2018-08-20_0111-0200_65\n"
     ]
    },
    {
     "name": "stderr",
     "output_type": "stream",
     "text": [
      "\r",
      "66it [05:23,  5.42s/it]"
     ]
    },
    {
     "name": "stdout",
     "output_type": "stream",
     "text": [
      "Saved annotation :Aditya_2018-08-20_0111-0200_66\n"
     ]
    },
    {
     "name": "stderr",
     "output_type": "stream",
     "text": [
      "\r",
      "67it [05:28,  5.30s/it]"
     ]
    },
    {
     "name": "stdout",
     "output_type": "stream",
     "text": [
      "Unable to process annotation: Aditya_2018-08-20_0111-0200_67\n"
     ]
    },
    {
     "name": "stderr",
     "output_type": "stream",
     "text": [
      "\r",
      "68it [05:34,  5.43s/it]"
     ]
    },
    {
     "name": "stdout",
     "output_type": "stream",
     "text": [
      "Saved annotation :Aditya_2018-08-20_0111-0200_68\n"
     ]
    },
    {
     "name": "stderr",
     "output_type": "stream",
     "text": [
      "\r",
      "69it [05:40,  5.72s/it]"
     ]
    },
    {
     "name": "stdout",
     "output_type": "stream",
     "text": [
      "Saved annotation :Aditya_2018-08-20_0111-0200_69\n"
     ]
    },
    {
     "name": "stderr",
     "output_type": "stream",
     "text": [
      "\r",
      "70it [05:46,  5.79s/it]"
     ]
    },
    {
     "name": "stdout",
     "output_type": "stream",
     "text": [
      "Saved annotation :Aditya_2018-08-20_0111-0200_70\n"
     ]
    },
    {
     "name": "stderr",
     "output_type": "stream",
     "text": [
      "\r",
      "71it [05:52,  5.86s/it]"
     ]
    },
    {
     "name": "stdout",
     "output_type": "stream",
     "text": [
      "Saved annotation :Aditya_2018-08-20_0111-0200_71\n"
     ]
    },
    {
     "name": "stderr",
     "output_type": "stream",
     "text": [
      "\r",
      "72it [05:58,  5.93s/it]"
     ]
    },
    {
     "name": "stdout",
     "output_type": "stream",
     "text": [
      "Saved annotation :Aditya_2018-08-20_0111-0200_72\n"
     ]
    },
    {
     "name": "stderr",
     "output_type": "stream",
     "text": [
      "\r",
      "73it [06:04,  5.94s/it]"
     ]
    },
    {
     "name": "stdout",
     "output_type": "stream",
     "text": [
      "Saved annotation :Aditya_2018-08-20_0111-0200_73\n"
     ]
    },
    {
     "name": "stderr",
     "output_type": "stream",
     "text": [
      "\r",
      "74it [06:09,  5.66s/it]"
     ]
    },
    {
     "name": "stdout",
     "output_type": "stream",
     "text": [
      "Saved annotation :Aditya_2018-08-20_0111-0200_74\n"
     ]
    },
    {
     "name": "stderr",
     "output_type": "stream",
     "text": [
      "\r",
      "75it [06:14,  5.47s/it]"
     ]
    },
    {
     "name": "stdout",
     "output_type": "stream",
     "text": [
      "Saved annotation :Aditya_2018-08-20_0111-0200_76\n"
     ]
    },
    {
     "name": "stderr",
     "output_type": "stream",
     "text": [
      "\r",
      "76it [06:19,  5.33s/it]"
     ]
    },
    {
     "name": "stdout",
     "output_type": "stream",
     "text": [
      "Saved annotation :Aditya_2018-08-20_0111-0200_77\n"
     ]
    },
    {
     "name": "stderr",
     "output_type": "stream",
     "text": [
      "\r",
      "77it [06:22,  4.69s/it]"
     ]
    },
    {
     "name": "stdout",
     "output_type": "stream",
     "text": [
      "('timestamps below min fps: ', array(['2018-08-20 01:39:50'], dtype=object))\n",
      "video_path                           OrlovaChukaDome_02_20180820_01.11.28-02.00.00[...\n",
      "annotation_id                                           Aditya_2018-08-20_0111-0200_78\n",
      "Sampling minute                                                                     39\n",
      "timestamp from camera                                                                2\n",
      "start_timestamp                                                    2018-08-20 01:39:07\n",
      "start_framenumber                                                                   11\n",
      "end_timestamp                                                      2018-08-20 01:39:09\n",
      "end_framenumber                                                                     13\n",
      "no. of flying bats                                                                   1\n",
      "bat behaviour                                                                      NaN\n",
      "strength (1 - strong, 0-weak)                                                        1\n",
      "weak in (Behaviour Be, Number Bn)                                                  NaN\n",
      "Comments                                                                           NaN\n",
      "Details on the comment                                                             NaN\n",
      "annotator                                                                       Aditya\n",
      "Name: 76, dtype: object\n",
      "video_path                           OrlovaChukaDome_02_20180820_01.11.28-02.00.00[...\n",
      "annotation_id                                           Aditya_2018-08-20_0111-0200_78\n",
      "Sampling minute                                                                     39\n",
      "timestamp from camera                                                                2\n",
      "start_timestamp                                                    2018-08-20 01:39:07\n",
      "start_framenumber                                                                   11\n",
      "end_timestamp                                                      2018-08-20 01:39:09\n",
      "end_framenumber                                                                     13\n",
      "no. of flying bats                                                                   1\n",
      "bat behaviour                                                                      NaN\n",
      "strength (1 - strong, 0-weak)                                                        1\n",
      "weak in (Behaviour Be, Number Bn)                                                  NaN\n",
      "Comments                                                                           NaN\n",
      "Details on the comment                                                             NaN\n",
      "annotator                                                                       Aditya\n",
      "Name: 76, dtype: object\n"
     ]
    },
    {
     "name": "stderr",
     "output_type": "stream",
     "text": [
      "\r",
      "78it [06:25,  4.23s/it]"
     ]
    },
    {
     "name": "stdout",
     "output_type": "stream",
     "text": [
      "('timestamps below min fps: ', array(['2018-08-20 01:39:50'], dtype=object))\n",
      "video_path                           OrlovaChukaDome_02_20180820_01.11.28-02.00.00[...\n",
      "annotation_id                                           Aditya_2018-08-20_0111-0200_79\n",
      "Sampling minute                                                                     39\n",
      "timestamp from camera                                                                2\n",
      "start_timestamp                                                    2018-08-20 01:39:10\n",
      "start_framenumber                                                                   14\n",
      "end_timestamp                                                      2018-08-20 01:39:10\n",
      "end_framenumber                                                                     23\n",
      "no. of flying bats                                                                   1\n",
      "bat behaviour                                                                      NaN\n",
      "strength (1 - strong, 0-weak)                                                        1\n",
      "weak in (Behaviour Be, Number Bn)                                                  NaN\n",
      "Comments                                                                           NaN\n",
      "Details on the comment                                                             NaN\n",
      "annotator                                                                       Aditya\n",
      "Name: 77, dtype: object\n",
      "video_path                           OrlovaChukaDome_02_20180820_01.11.28-02.00.00[...\n",
      "annotation_id                                           Aditya_2018-08-20_0111-0200_79\n",
      "Sampling minute                                                                     39\n",
      "timestamp from camera                                                                2\n",
      "start_timestamp                                                    2018-08-20 01:39:10\n",
      "start_framenumber                                                                   14\n",
      "end_timestamp                                                      2018-08-20 01:39:10\n",
      "end_framenumber                                                                     23\n",
      "no. of flying bats                                                                   1\n",
      "bat behaviour                                                                      NaN\n",
      "strength (1 - strong, 0-weak)                                                        1\n",
      "weak in (Behaviour Be, Number Bn)                                                  NaN\n",
      "Comments                                                                           NaN\n",
      "Details on the comment                                                             NaN\n",
      "annotator                                                                       Aditya\n",
      "Name: 77, dtype: object\n"
     ]
    },
    {
     "name": "stderr",
     "output_type": "stream",
     "text": [
      "\r",
      "79it [06:29,  3.91s/it]"
     ]
    },
    {
     "name": "stdout",
     "output_type": "stream",
     "text": [
      "('timestamps below min fps: ', array(['2018-08-20 01:39:50'], dtype=object))\n",
      "video_path                           OrlovaChukaDome_02_20180820_01.11.28-02.00.00[...\n",
      "annotation_id                                           Aditya_2018-08-20_0111-0200_80\n",
      "Sampling minute                                                                     39\n",
      "timestamp from camera                                                                2\n",
      "start_timestamp                                                    2018-08-20 01:39:12\n",
      "start_framenumber                                                                   14\n",
      "end_timestamp                                                      2018-08-20 01:39:14\n",
      "end_framenumber                                                                      2\n",
      "no. of flying bats                                                                   1\n",
      "bat behaviour                                                                      NaN\n",
      "strength (1 - strong, 0-weak)                                                        1\n",
      "weak in (Behaviour Be, Number Bn)                                                  NaN\n",
      "Comments                                                                           NaN\n",
      "Details on the comment                                                             NaN\n",
      "annotator                                                                       Aditya\n",
      "Name: 78, dtype: object\n",
      "video_path                           OrlovaChukaDome_02_20180820_01.11.28-02.00.00[...\n",
      "annotation_id                                           Aditya_2018-08-20_0111-0200_80\n",
      "Sampling minute                                                                     39\n",
      "timestamp from camera                                                                2\n",
      "start_timestamp                                                    2018-08-20 01:39:12\n",
      "start_framenumber                                                                   14\n",
      "end_timestamp                                                      2018-08-20 01:39:14\n",
      "end_framenumber                                                                      2\n",
      "no. of flying bats                                                                   1\n",
      "bat behaviour                                                                      NaN\n",
      "strength (1 - strong, 0-weak)                                                        1\n",
      "weak in (Behaviour Be, Number Bn)                                                  NaN\n",
      "Comments                                                                           NaN\n",
      "Details on the comment                                                             NaN\n",
      "annotator                                                                       Aditya\n",
      "Name: 78, dtype: object\n"
     ]
    },
    {
     "name": "stderr",
     "output_type": "stream",
     "text": [
      "\r",
      "80it [06:32,  3.66s/it]"
     ]
    },
    {
     "name": "stdout",
     "output_type": "stream",
     "text": [
      "('timestamps below min fps: ', array(['2018-08-20 01:39:50'], dtype=object))\n",
      "video_path                           OrlovaChukaDome_02_20180820_01.11.28-02.00.00[...\n",
      "annotation_id                                           Aditya_2018-08-20_0111-0200_81\n",
      "Sampling minute                                                                     39\n",
      "timestamp from camera                                                                2\n",
      "start_timestamp                                                    2018-08-20 01:39:16\n",
      "start_framenumber                                                                    2\n",
      "end_timestamp                                                      2018-08-20 01:39:17\n",
      "end_framenumber                                                                     20\n",
      "no. of flying bats                                                                   1\n",
      "bat behaviour                                                                      NaN\n",
      "strength (1 - strong, 0-weak)                                                        1\n",
      "weak in (Behaviour Be, Number Bn)                                                  NaN\n",
      "Comments                                                                           NaN\n",
      "Details on the comment                                                             NaN\n",
      "annotator                                                                       Aditya\n",
      "Name: 79, dtype: object\n",
      "video_path                           OrlovaChukaDome_02_20180820_01.11.28-02.00.00[...\n",
      "annotation_id                                           Aditya_2018-08-20_0111-0200_81\n",
      "Sampling minute                                                                     39\n",
      "timestamp from camera                                                                2\n",
      "start_timestamp                                                    2018-08-20 01:39:16\n",
      "start_framenumber                                                                    2\n",
      "end_timestamp                                                      2018-08-20 01:39:17\n",
      "end_framenumber                                                                     20\n",
      "no. of flying bats                                                                   1\n",
      "bat behaviour                                                                      NaN\n",
      "strength (1 - strong, 0-weak)                                                        1\n",
      "weak in (Behaviour Be, Number Bn)                                                  NaN\n",
      "Comments                                                                           NaN\n",
      "Details on the comment                                                             NaN\n",
      "annotator                                                                       Aditya\n",
      "Name: 79, dtype: object\n"
     ]
    },
    {
     "name": "stderr",
     "output_type": "stream",
     "text": [
      "\r",
      "81it [06:35,  3.45s/it]"
     ]
    },
    {
     "name": "stdout",
     "output_type": "stream",
     "text": [
      "('timestamps below min fps: ', array(['2018-08-20 01:39:50'], dtype=object))\n",
      "video_path                           OrlovaChukaDome_02_20180820_01.11.28-02.00.00[...\n",
      "annotation_id                                           Aditya_2018-08-20_0111-0200_82\n",
      "Sampling minute                                                                     39\n",
      "timestamp from camera                                                                2\n",
      "start_timestamp                                                    2018-08-20 01:39:21\n",
      "start_framenumber                                                                   14\n",
      "end_timestamp                                                      2018-08-20 01:39:24\n",
      "end_framenumber                                                                     10\n",
      "no. of flying bats                                                                   1\n",
      "bat behaviour                                                                      NaN\n",
      "strength (1 - strong, 0-weak)                                                        1\n",
      "weak in (Behaviour Be, Number Bn)                                                  NaN\n",
      "Comments                                                                           NaN\n",
      "Details on the comment                                                             NaN\n",
      "annotator                                                                       Aditya\n",
      "Name: 80, dtype: object\n",
      "video_path                           OrlovaChukaDome_02_20180820_01.11.28-02.00.00[...\n",
      "annotation_id                                           Aditya_2018-08-20_0111-0200_82\n",
      "Sampling minute                                                                     39\n",
      "timestamp from camera                                                                2\n",
      "start_timestamp                                                    2018-08-20 01:39:21\n",
      "start_framenumber                                                                   14\n",
      "end_timestamp                                                      2018-08-20 01:39:24\n",
      "end_framenumber                                                                     10\n",
      "no. of flying bats                                                                   1\n",
      "bat behaviour                                                                      NaN\n",
      "strength (1 - strong, 0-weak)                                                        1\n",
      "weak in (Behaviour Be, Number Bn)                                                  NaN\n",
      "Comments                                                                           NaN\n",
      "Details on the comment                                                             NaN\n",
      "annotator                                                                       Aditya\n",
      "Name: 80, dtype: object\n"
     ]
    },
    {
     "name": "stderr",
     "output_type": "stream",
     "text": [
      "\r",
      "82it [06:38,  3.29s/it]"
     ]
    },
    {
     "name": "stdout",
     "output_type": "stream",
     "text": [
      "('timestamps below min fps: ', array(['2018-08-20 01:39:50'], dtype=object))\n",
      "video_path                           OrlovaChukaDome_02_20180820_01.11.28-02.00.00[...\n",
      "annotation_id                                           Aditya_2018-08-20_0111-0200_83\n",
      "Sampling minute                                                                     39\n",
      "timestamp from camera                                                                2\n",
      "start_timestamp                                                    2018-08-20 01:39:25\n",
      "start_framenumber                                                                   10\n",
      "end_timestamp                                                      2018-08-20 01:39:26\n",
      "end_framenumber                                                                     15\n",
      "no. of flying bats                                                                   1\n",
      "bat behaviour                                                                      NaN\n",
      "strength (1 - strong, 0-weak)                                                        1\n",
      "weak in (Behaviour Be, Number Bn)                                                  NaN\n",
      "Comments                                                                           NaN\n",
      "Details on the comment                                                             NaN\n",
      "annotator                                                                       Aditya\n",
      "Name: 81, dtype: object\n",
      "video_path                           OrlovaChukaDome_02_20180820_01.11.28-02.00.00[...\n",
      "annotation_id                                           Aditya_2018-08-20_0111-0200_83\n",
      "Sampling minute                                                                     39\n",
      "timestamp from camera                                                                2\n",
      "start_timestamp                                                    2018-08-20 01:39:25\n",
      "start_framenumber                                                                   10\n",
      "end_timestamp                                                      2018-08-20 01:39:26\n",
      "end_framenumber                                                                     15\n",
      "no. of flying bats                                                                   1\n",
      "bat behaviour                                                                      NaN\n",
      "strength (1 - strong, 0-weak)                                                        1\n",
      "weak in (Behaviour Be, Number Bn)                                                  NaN\n",
      "Comments                                                                           NaN\n",
      "Details on the comment                                                             NaN\n",
      "annotator                                                                       Aditya\n",
      "Name: 81, dtype: object\n"
     ]
    },
    {
     "name": "stderr",
     "output_type": "stream",
     "text": [
      "\r",
      "83it [06:41,  3.42s/it]"
     ]
    },
    {
     "name": "stdout",
     "output_type": "stream",
     "text": [
      "('timestamps below min fps: ', array(['2018-08-20 01:39:50'], dtype=object))\n",
      "video_path                           OrlovaChukaDome_02_20180820_01.11.28-02.00.00[...\n",
      "annotation_id                                           Aditya_2018-08-20_0111-0200_84\n",
      "Sampling minute                                                                     39\n",
      "timestamp from camera                                                                2\n",
      "start_timestamp                                                    2018-08-20 01:39:29\n",
      "start_framenumber                                                                   14\n",
      "end_timestamp                                                      2018-08-20 01:39:31\n",
      "end_framenumber                                                                      6\n",
      "no. of flying bats                                                                   1\n",
      "bat behaviour                                                                      NaN\n",
      "strength (1 - strong, 0-weak)                                                        1\n",
      "weak in (Behaviour Be, Number Bn)                                                  NaN\n",
      "Comments                                                                           NaN\n",
      "Details on the comment                                                             NaN\n",
      "annotator                                                                       Aditya\n",
      "Name: 82, dtype: object\n",
      "video_path                           OrlovaChukaDome_02_20180820_01.11.28-02.00.00[...\n",
      "annotation_id                                           Aditya_2018-08-20_0111-0200_84\n",
      "Sampling minute                                                                     39\n",
      "timestamp from camera                                                                2\n",
      "start_timestamp                                                    2018-08-20 01:39:29\n",
      "start_framenumber                                                                   14\n",
      "end_timestamp                                                      2018-08-20 01:39:31\n",
      "end_framenumber                                                                      6\n",
      "no. of flying bats                                                                   1\n",
      "bat behaviour                                                                      NaN\n",
      "strength (1 - strong, 0-weak)                                                        1\n",
      "weak in (Behaviour Be, Number Bn)                                                  NaN\n",
      "Comments                                                                           NaN\n",
      "Details on the comment                                                             NaN\n",
      "annotator                                                                       Aditya\n",
      "Name: 82, dtype: object\n"
     ]
    },
    {
     "name": "stderr",
     "output_type": "stream",
     "text": [
      "\r",
      "84it [06:45,  3.49s/it]"
     ]
    },
    {
     "name": "stdout",
     "output_type": "stream",
     "text": [
      "('timestamps below min fps: ', array(['2018-08-20 01:39:50'], dtype=object))\n",
      "video_path                           OrlovaChukaDome_02_20180820_01.11.28-02.00.00[...\n",
      "annotation_id                                           Aditya_2018-08-20_0111-0200_85\n",
      "Sampling minute                                                                     39\n",
      "timestamp from camera                                                                2\n",
      "start_timestamp                                                    2018-08-20 01:39:31\n",
      "start_framenumber                                                                   13\n",
      "end_timestamp                                                      2018-08-20 01:39:34\n",
      "end_framenumber                                                                     25\n",
      "no. of flying bats                                                                   2\n",
      "bat behaviour                                                                      T,P\n",
      "strength (1 - strong, 0-weak)                                                        1\n",
      "weak in (Behaviour Be, Number Bn)                                                  NaN\n",
      "Comments                                                                           NaN\n",
      "Details on the comment                                                             NaN\n",
      "annotator                                                                       Aditya\n",
      "Name: 83, dtype: object\n",
      "video_path                           OrlovaChukaDome_02_20180820_01.11.28-02.00.00[...\n",
      "annotation_id                                           Aditya_2018-08-20_0111-0200_85\n",
      "Sampling minute                                                                     39\n",
      "timestamp from camera                                                                2\n",
      "start_timestamp                                                    2018-08-20 01:39:31\n",
      "start_framenumber                                                                   13\n",
      "end_timestamp                                                      2018-08-20 01:39:34\n",
      "end_framenumber                                                                     25\n",
      "no. of flying bats                                                                   2\n",
      "bat behaviour                                                                      T,P\n",
      "strength (1 - strong, 0-weak)                                                        1\n",
      "weak in (Behaviour Be, Number Bn)                                                  NaN\n",
      "Comments                                                                           NaN\n",
      "Details on the comment                                                             NaN\n",
      "annotator                                                                       Aditya\n",
      "Name: 83, dtype: object\n"
     ]
    },
    {
     "name": "stderr",
     "output_type": "stream",
     "text": [
      "\r",
      "85it [06:49,  3.52s/it]"
     ]
    },
    {
     "name": "stdout",
     "output_type": "stream",
     "text": [
      "('timestamps below min fps: ', array(['2018-08-20 01:39:50'], dtype=object))\n",
      "video_path                           OrlovaChukaDome_02_20180820_01.11.28-02.00.00[...\n",
      "annotation_id                                           Aditya_2018-08-20_0111-0200_86\n",
      "Sampling minute                                                                     39\n",
      "timestamp from camera                                                                2\n",
      "start_timestamp                                                    2018-08-20 01:39:35\n",
      "start_framenumber                                                                    7\n",
      "end_timestamp                                                      2018-08-20 01:39:36\n",
      "end_framenumber                                                                     13\n",
      "no. of flying bats                                                                   1\n",
      "bat behaviour                                                                      NaN\n",
      "strength (1 - strong, 0-weak)                                                        1\n",
      "weak in (Behaviour Be, Number Bn)                                                  NaN\n",
      "Comments                                                                           NaN\n",
      "Details on the comment                                                             NaN\n",
      "annotator                                                                       Aditya\n",
      "Name: 84, dtype: object\n",
      "video_path                           OrlovaChukaDome_02_20180820_01.11.28-02.00.00[...\n",
      "annotation_id                                           Aditya_2018-08-20_0111-0200_86\n",
      "Sampling minute                                                                     39\n",
      "timestamp from camera                                                                2\n",
      "start_timestamp                                                    2018-08-20 01:39:35\n",
      "start_framenumber                                                                    7\n",
      "end_timestamp                                                      2018-08-20 01:39:36\n",
      "end_framenumber                                                                     13\n",
      "no. of flying bats                                                                   1\n",
      "bat behaviour                                                                      NaN\n",
      "strength (1 - strong, 0-weak)                                                        1\n",
      "weak in (Behaviour Be, Number Bn)                                                  NaN\n",
      "Comments                                                                           NaN\n",
      "Details on the comment                                                             NaN\n",
      "annotator                                                                       Aditya\n",
      "Name: 84, dtype: object\n"
     ]
    },
    {
     "name": "stderr",
     "output_type": "stream",
     "text": [
      "\r",
      "86it [06:52,  3.52s/it]"
     ]
    },
    {
     "name": "stdout",
     "output_type": "stream",
     "text": [
      "('timestamps below min fps: ', array(['2018-08-20 01:39:50'], dtype=object))\n",
      "video_path                           OrlovaChukaDome_02_20180820_01.11.28-02.00.00[...\n",
      "annotation_id                                           Aditya_2018-08-20_0111-0200_87\n",
      "Sampling minute                                                                     39\n",
      "timestamp from camera                                                                2\n",
      "start_timestamp                                                    2018-08-20 01:39:37\n",
      "start_framenumber                                                                   20\n",
      "end_timestamp                                                      2018-08-20 01:39:44\n",
      "end_framenumber                                                                     10\n",
      "no. of flying bats                                                                   2\n",
      "bat behaviour                                                                      T,P\n",
      "strength (1 - strong, 0-weak)                                                        1\n",
      "weak in (Behaviour Be, Number Bn)                                                  NaN\n",
      "Comments                             The bats both go inside the roosting area for ...\n",
      "Details on the comment                                                             NaN\n",
      "annotator                                                                       Aditya\n",
      "Name: 85, dtype: object\n",
      "video_path                           OrlovaChukaDome_02_20180820_01.11.28-02.00.00[...\n",
      "annotation_id                                           Aditya_2018-08-20_0111-0200_87\n",
      "Sampling minute                                                                     39\n",
      "timestamp from camera                                                                2\n",
      "start_timestamp                                                    2018-08-20 01:39:37\n",
      "start_framenumber                                                                   20\n",
      "end_timestamp                                                      2018-08-20 01:39:44\n",
      "end_framenumber                                                                     10\n",
      "no. of flying bats                                                                   2\n",
      "bat behaviour                                                                      T,P\n",
      "strength (1 - strong, 0-weak)                                                        1\n",
      "weak in (Behaviour Be, Number Bn)                                                  NaN\n",
      "Comments                             The bats both go inside the roosting area for ...\n",
      "Details on the comment                                                             NaN\n",
      "annotator                                                                       Aditya\n",
      "Name: 85, dtype: object\n"
     ]
    },
    {
     "name": "stderr",
     "output_type": "stream",
     "text": [
      "\r",
      "87it [06:56,  3.62s/it]"
     ]
    },
    {
     "name": "stdout",
     "output_type": "stream",
     "text": [
      "('timestamps below min fps: ', array(['2018-08-20 01:39:50'], dtype=object))\n",
      "video_path                           OrlovaChukaDome_02_20180820_01.11.28-02.00.00[...\n",
      "annotation_id                                           Aditya_2018-08-20_0111-0200_88\n",
      "Sampling minute                                                                     39\n",
      "timestamp from camera                                                                2\n",
      "start_timestamp                                                    2018-08-20 01:39:45\n",
      "start_framenumber                                                                    7\n",
      "end_timestamp                                                      2018-08-20 01:39:46\n",
      "end_framenumber                                                                     18\n",
      "no. of flying bats                                                                   1\n",
      "bat behaviour                                                                      NaN\n",
      "strength (1 - strong, 0-weak)                                                        1\n",
      "weak in (Behaviour Be, Number Bn)                                                  NaN\n",
      "Comments                                                                           NaN\n",
      "Details on the comment                                                             NaN\n",
      "annotator                                                                       Aditya\n",
      "Name: 86, dtype: object\n",
      "video_path                           OrlovaChukaDome_02_20180820_01.11.28-02.00.00[...\n",
      "annotation_id                                           Aditya_2018-08-20_0111-0200_88\n",
      "Sampling minute                                                                     39\n",
      "timestamp from camera                                                                2\n",
      "start_timestamp                                                    2018-08-20 01:39:45\n",
      "start_framenumber                                                                    7\n",
      "end_timestamp                                                      2018-08-20 01:39:46\n",
      "end_framenumber                                                                     18\n",
      "no. of flying bats                                                                   1\n",
      "bat behaviour                                                                      NaN\n",
      "strength (1 - strong, 0-weak)                                                        1\n",
      "weak in (Behaviour Be, Number Bn)                                                  NaN\n",
      "Comments                                                                           NaN\n",
      "Details on the comment                                                             NaN\n",
      "annotator                                                                       Aditya\n",
      "Name: 86, dtype: object\n"
     ]
    },
    {
     "name": "stderr",
     "output_type": "stream",
     "text": [
      "\r",
      "88it [06:59,  3.55s/it]"
     ]
    },
    {
     "name": "stdout",
     "output_type": "stream",
     "text": [
      "('timestamps below min fps: ', array(['2018-08-20 01:39:50'], dtype=object))\n",
      "video_path                           OrlovaChukaDome_02_20180820_01.11.28-02.00.00[...\n",
      "annotation_id                                           Aditya_2018-08-20_0111-0200_89\n",
      "Sampling minute                                                                     39\n",
      "timestamp from camera                                                                2\n",
      "start_timestamp                                                    2018-08-20 01:39:46\n",
      "start_framenumber                                                                   25\n",
      "end_timestamp                                                      2018-08-20 01:39:54\n",
      "end_framenumber                                                                     10\n",
      "no. of flying bats                                                                   2\n",
      "bat behaviour                                                                        P\n",
      "strength (1 - strong, 0-weak)                                                        1\n",
      "weak in (Behaviour Be, Number Bn)                                                  NaN\n",
      "Comments                                                                           NaN\n",
      "Details on the comment                                                             NaN\n",
      "annotator                                                                       Aditya\n",
      "Name: 87, dtype: object\n",
      "video_path                           OrlovaChukaDome_02_20180820_01.11.28-02.00.00[...\n",
      "annotation_id                                           Aditya_2018-08-20_0111-0200_89\n",
      "Sampling minute                                                                     39\n",
      "timestamp from camera                                                                2\n",
      "start_timestamp                                                    2018-08-20 01:39:46\n",
      "start_framenumber                                                                   25\n",
      "end_timestamp                                                      2018-08-20 01:39:54\n",
      "end_framenumber                                                                     10\n",
      "no. of flying bats                                                                   2\n",
      "bat behaviour                                                                        P\n",
      "strength (1 - strong, 0-weak)                                                        1\n",
      "weak in (Behaviour Be, Number Bn)                                                  NaN\n",
      "Comments                                                                           NaN\n",
      "Details on the comment                                                             NaN\n",
      "annotator                                                                       Aditya\n",
      "Name: 87, dtype: object\n"
     ]
    },
    {
     "name": "stderr",
     "output_type": "stream",
     "text": [
      "\r",
      "89it [07:04,  4.02s/it]"
     ]
    },
    {
     "name": "stdout",
     "output_type": "stream",
     "text": [
      "Unable to process annotation: Aditya_2018-08-20_0111-0200_90\n"
     ]
    },
    {
     "name": "stderr",
     "output_type": "stream",
     "text": [
      "\r",
      "90it [07:09,  4.18s/it]"
     ]
    },
    {
     "name": "stdout",
     "output_type": "stream",
     "text": [
      "Saved annotation :Aditya_2018-08-20_0111-0200_91\n"
     ]
    },
    {
     "name": "stderr",
     "output_type": "stream",
     "text": [
      "\r",
      "91it [07:14,  4.48s/it]"
     ]
    },
    {
     "name": "stdout",
     "output_type": "stream",
     "text": [
      "Unable to process annotation: Aditya_2018-08-20_0111-0200_92\n"
     ]
    },
    {
     "name": "stderr",
     "output_type": "stream",
     "text": [
      "\r",
      "92it [07:20,  4.82s/it]"
     ]
    },
    {
     "name": "stdout",
     "output_type": "stream",
     "text": [
      "Saved annotation :Aditya_2018-08-20_0111-0200_93\n"
     ]
    },
    {
     "name": "stderr",
     "output_type": "stream",
     "text": [
      "\r",
      "93it [07:25,  4.90s/it]"
     ]
    },
    {
     "name": "stdout",
     "output_type": "stream",
     "text": [
      "Saved annotation :Aditya_2018-08-20_0111-0200_94\n"
     ]
    },
    {
     "name": "stderr",
     "output_type": "stream",
     "text": [
      "\r",
      "94it [07:29,  4.78s/it]"
     ]
    },
    {
     "name": "stdout",
     "output_type": "stream",
     "text": [
      "Saved annotation :Aditya_2018-08-20_0111-0200_95\n"
     ]
    },
    {
     "name": "stderr",
     "output_type": "stream",
     "text": [
      "\r",
      "95it [07:34,  4.87s/it]"
     ]
    },
    {
     "name": "stdout",
     "output_type": "stream",
     "text": [
      "Saved annotation :Aditya_2018-08-20_0111-0200_96\n"
     ]
    },
    {
     "name": "stderr",
     "output_type": "stream",
     "text": [
      "\r",
      "96it [07:39,  4.90s/it]"
     ]
    },
    {
     "name": "stdout",
     "output_type": "stream",
     "text": [
      "Saved annotation :Aditya_2018-08-20_0111-0200_97\n"
     ]
    },
    {
     "name": "stderr",
     "output_type": "stream",
     "text": [
      "\r",
      "97it [07:44,  4.94s/it]"
     ]
    },
    {
     "name": "stdout",
     "output_type": "stream",
     "text": [
      "Unable to process annotation: Aditya_2018-08-20_0111-0200_98\n"
     ]
    },
    {
     "name": "stderr",
     "output_type": "stream",
     "text": [
      "\r",
      "98it [07:49,  4.90s/it]"
     ]
    },
    {
     "name": "stdout",
     "output_type": "stream",
     "text": [
      "Saved annotation :Aditya_2018-08-20_0111-0200_99\n"
     ]
    },
    {
     "name": "stderr",
     "output_type": "stream",
     "text": [
      "\r",
      "99it [07:54,  4.90s/it]"
     ]
    },
    {
     "name": "stdout",
     "output_type": "stream",
     "text": [
      "Saved annotation :Aditya_2018-08-20_0111-0200_100\n"
     ]
    },
    {
     "name": "stderr",
     "output_type": "stream",
     "text": [
      "\r",
      "100it [07:59,  4.80s/it]"
     ]
    },
    {
     "name": "stdout",
     "output_type": "stream",
     "text": [
      "Saved annotation :Aditya_2018-08-20_0111-0200_101\n"
     ]
    },
    {
     "name": "stderr",
     "output_type": "stream",
     "text": [
      "\r",
      "101it [08:04,  4.93s/it]"
     ]
    },
    {
     "name": "stdout",
     "output_type": "stream",
     "text": [
      "Saved annotation :Aditya_2018-08-20_0111-0200_102\n"
     ]
    },
    {
     "name": "stderr",
     "output_type": "stream",
     "text": [
      "\r",
      "102it [08:09,  5.07s/it]"
     ]
    },
    {
     "name": "stdout",
     "output_type": "stream",
     "text": [
      "Saved annotation :Aditya_2018-08-20_0111-0200_103\n"
     ]
    },
    {
     "name": "stderr",
     "output_type": "stream",
     "text": [
      "\r",
      "103it [08:15,  5.17s/it]"
     ]
    },
    {
     "name": "stdout",
     "output_type": "stream",
     "text": [
      "Saved annotation :Aditya_2018-08-20_0111-0200_104\n",
      "('2018-08-20 01:40:44', '2018-08-20 01:40:44')\n",
      "Unable to process annotation: Aditya_2018-08-20_0111-0200_105\n"
     ]
    },
    {
     "name": "stderr",
     "output_type": "stream",
     "text": [
      "../../../bin/process_video_annotations.py:289: UserWarning: The following timestamps are missing in the annotation\n",
      "  stacklevel=1)\n",
      "\r",
      "105it [08:16,  3.87s/it]"
     ]
    },
    {
     "name": "stdout",
     "output_type": "stream",
     "text": [
      "['2018-08-20 01:41:31']\n",
      "video_path                           OrlovaChukaDome_02_20180820_01.11.28-02.00.00[...\n",
      "annotation_id                                          Aditya_2018-08-20_0111-0200_106\n",
      "Sampling minute                                                                     40\n",
      "timestamp from camera                                                                2\n",
      "start_timestamp                                                    2018-08-20 01:40:55\n",
      "start_framenumber                                                                   21\n",
      "end_timestamp                                                      2018-08-20 01:40:56\n",
      "end_framenumber                                                                      6\n",
      "no. of flying bats                                                                   1\n",
      "bat behaviour                                                                      NaN\n",
      "strength (1 - strong, 0-weak)                                                        1\n",
      "weak in (Behaviour Be, Number Bn)                                                  NaN\n",
      "Comments                                                                           NaN\n",
      "Details on the comment                                                             NaN\n",
      "annotator                                                                       Aditya\n",
      "Name: 104, dtype: object\n"
     ]
    },
    {
     "name": "stderr",
     "output_type": "stream",
     "text": [
      "\r",
      "106it [08:18,  3.18s/it]"
     ]
    },
    {
     "name": "stdout",
     "output_type": "stream",
     "text": [
      "['2018-08-20 01:41:31']\n",
      "video_path                           OrlovaChukaDome_02_20180820_01.11.28-02.00.00[...\n",
      "annotation_id                                          Aditya_2018-08-20_0111-0200_107\n",
      "Sampling minute                                                                     40\n",
      "timestamp from camera                                                                2\n",
      "start_timestamp                                                    2018-08-20 01:40:56\n",
      "start_framenumber                                                                   13\n",
      "end_timestamp                                                      2018-08-20 01:41:04\n",
      "end_framenumber                                                                     11\n",
      "no. of flying bats                                                                   2\n",
      "bat behaviour                                                                      T,P\n",
      "strength (1 - strong, 0-weak)                                                        1\n",
      "weak in (Behaviour Be, Number Bn)                                                  NaN\n",
      "Comments                                                                           NaN\n",
      "Details on the comment                                                             NaN\n",
      "annotator                                                                       Aditya\n",
      "Name: 105, dtype: object\n"
     ]
    },
    {
     "name": "stderr",
     "output_type": "stream",
     "text": [
      "\r",
      "107it [08:20,  2.70s/it]"
     ]
    },
    {
     "name": "stdout",
     "output_type": "stream",
     "text": [
      "['2018-08-20 01:41:31']\n",
      "video_path                           OrlovaChukaDome_02_20180820_01.11.28-02.00.00[...\n",
      "annotation_id                                          Aditya_2018-08-20_0111-0200_108\n",
      "Sampling minute                                                                     41\n",
      "timestamp from camera                                                                2\n",
      "start_timestamp                                                    2018-08-20 01:41:04\n",
      "start_framenumber                                                                   18\n",
      "end_timestamp                                                      2018-08-20 01:41:15\n",
      "end_framenumber                                                                      6\n",
      "no. of flying bats                                                                   1\n",
      "bat behaviour                                                                      NaN\n",
      "strength (1 - strong, 0-weak)                                                        1\n",
      "weak in (Behaviour Be, Number Bn)                                                  NaN\n",
      "Comments                                                                           NaN\n",
      "Details on the comment                                                             NaN\n",
      "annotator                                                                       Aditya\n",
      "Name: 106, dtype: object\n"
     ]
    },
    {
     "name": "stderr",
     "output_type": "stream",
     "text": [
      "\r",
      "108it [08:23,  2.92s/it]"
     ]
    },
    {
     "name": "stdout",
     "output_type": "stream",
     "text": [
      "('timestamps below min fps: ', array(['2018-08-20 01:42:18'], dtype=object))\n",
      "video_path                           OrlovaChukaDome_02_20180820_01.11.28-02.00.00[...\n",
      "annotation_id                                          Aditya_2018-08-20_0111-0200_109\n",
      "Sampling minute                                                                     42\n",
      "timestamp from camera                                                                2\n",
      "start_timestamp                                                    2018-08-20 01:42:11\n",
      "start_framenumber                                                                    8\n",
      "end_timestamp                                                      2018-08-20 01:42:11\n",
      "end_framenumber                                                                     24\n",
      "no. of flying bats                                                                   1\n",
      "bat behaviour                                                                      NaN\n",
      "strength (1 - strong, 0-weak)                                                        1\n",
      "weak in (Behaviour Be, Number Bn)                                                  NaN\n",
      "Comments                                                                           NaN\n",
      "Details on the comment                                                             NaN\n",
      "annotator                                                                       Aditya\n",
      "Name: 107, dtype: object\n",
      "video_path                           OrlovaChukaDome_02_20180820_01.11.28-02.00.00[...\n",
      "annotation_id                                          Aditya_2018-08-20_0111-0200_109\n",
      "Sampling minute                                                                     42\n",
      "timestamp from camera                                                                2\n",
      "start_timestamp                                                    2018-08-20 01:42:11\n",
      "start_framenumber                                                                    8\n",
      "end_timestamp                                                      2018-08-20 01:42:11\n",
      "end_framenumber                                                                     24\n",
      "no. of flying bats                                                                   1\n",
      "bat behaviour                                                                      NaN\n",
      "strength (1 - strong, 0-weak)                                                        1\n",
      "weak in (Behaviour Be, Number Bn)                                                  NaN\n",
      "Comments                                                                           NaN\n",
      "Details on the comment                                                             NaN\n",
      "annotator                                                                       Aditya\n",
      "Name: 107, dtype: object\n"
     ]
    },
    {
     "name": "stderr",
     "output_type": "stream",
     "text": [
      "\r",
      "109it [08:27,  3.20s/it]"
     ]
    },
    {
     "name": "stdout",
     "output_type": "stream",
     "text": [
      "('timestamps below min fps: ', array(['2018-08-20 01:43:08'], dtype=object))\n",
      "video_path                           OrlovaChukaDome_02_20180820_01.11.28-02.00.00[...\n",
      "annotation_id                                          Aditya_2018-08-20_0111-0200_110\n",
      "Sampling minute                                                                     42\n",
      "timestamp from camera                                                                2\n",
      "start_timestamp                                                    2018-08-20 01:42:23\n",
      "start_framenumber                                                                   20\n",
      "end_timestamp                                                      2018-08-20 01:42:26\n",
      "end_framenumber                                                                      2\n",
      "no. of flying bats                                                                   1\n",
      "bat behaviour                                                                      NaN\n",
      "strength (1 - strong, 0-weak)                                                        1\n",
      "weak in (Behaviour Be, Number Bn)                                                  NaN\n",
      "Comments                                                                           NaN\n",
      "Details on the comment                                                             NaN\n",
      "annotator                                                                       Aditya\n",
      "Name: 108, dtype: object\n",
      "video_path                           OrlovaChukaDome_02_20180820_01.11.28-02.00.00[...\n",
      "annotation_id                                          Aditya_2018-08-20_0111-0200_110\n",
      "Sampling minute                                                                     42\n",
      "timestamp from camera                                                                2\n",
      "start_timestamp                                                    2018-08-20 01:42:23\n",
      "start_framenumber                                                                   20\n",
      "end_timestamp                                                      2018-08-20 01:42:26\n",
      "end_framenumber                                                                      2\n",
      "no. of flying bats                                                                   1\n",
      "bat behaviour                                                                      NaN\n",
      "strength (1 - strong, 0-weak)                                                        1\n",
      "weak in (Behaviour Be, Number Bn)                                                  NaN\n",
      "Comments                                                                           NaN\n",
      "Details on the comment                                                             NaN\n",
      "annotator                                                                       Aditya\n",
      "Name: 108, dtype: object\n"
     ]
    },
    {
     "name": "stderr",
     "output_type": "stream",
     "text": [
      "\r",
      "110it [08:32,  3.76s/it]"
     ]
    },
    {
     "name": "stdout",
     "output_type": "stream",
     "text": [
      "Saved annotation :Aditya_2018-08-20_0111-0200_111\n"
     ]
    },
    {
     "name": "stderr",
     "output_type": "stream",
     "text": [
      "\r",
      "111it [08:37,  4.11s/it]"
     ]
    },
    {
     "name": "stdout",
     "output_type": "stream",
     "text": [
      "Saved annotation :Aditya_2018-08-20_0111-0200_112\n"
     ]
    },
    {
     "name": "stderr",
     "output_type": "stream",
     "text": [
      "\r",
      "112it [08:43,  4.60s/it]"
     ]
    },
    {
     "name": "stdout",
     "output_type": "stream",
     "text": [
      "Saved annotation :Aditya_2018-08-20_0111-0200_113\n"
     ]
    },
    {
     "name": "stderr",
     "output_type": "stream",
     "text": [
      "\r",
      "113it [08:47,  4.56s/it]"
     ]
    },
    {
     "name": "stdout",
     "output_type": "stream",
     "text": [
      "Saved annotation :Aditya_2018-08-20_0111-0200_114\n"
     ]
    },
    {
     "name": "stderr",
     "output_type": "stream",
     "text": [
      "\r",
      "114it [08:52,  4.56s/it]"
     ]
    },
    {
     "name": "stdout",
     "output_type": "stream",
     "text": [
      "Saved annotation :Aditya_2018-08-20_0111-0200_115\n"
     ]
    },
    {
     "name": "stderr",
     "output_type": "stream",
     "text": [
      "\r",
      "115it [08:56,  4.53s/it]"
     ]
    },
    {
     "name": "stdout",
     "output_type": "stream",
     "text": [
      "Saved annotation :Aditya_2018-08-20_0111-0200_116\n"
     ]
    },
    {
     "name": "stderr",
     "output_type": "stream",
     "text": [
      "\r",
      "116it [09:01,  4.66s/it]"
     ]
    },
    {
     "name": "stdout",
     "output_type": "stream",
     "text": [
      "Saved annotation :Aditya_2018-08-20_0111-0200_118\n"
     ]
    },
    {
     "name": "stderr",
     "output_type": "stream",
     "text": [
      "\r",
      "117it [09:06,  4.86s/it]"
     ]
    },
    {
     "name": "stdout",
     "output_type": "stream",
     "text": [
      "Saved annotation :Aditya_2018-08-20_0111-0200_119\n"
     ]
    },
    {
     "name": "stderr",
     "output_type": "stream",
     "text": [
      "\r",
      "118it [09:12,  4.97s/it]"
     ]
    },
    {
     "name": "stdout",
     "output_type": "stream",
     "text": [
      "Saved annotation :Aditya_2018-08-20_0111-0200_120\n"
     ]
    },
    {
     "name": "stderr",
     "output_type": "stream",
     "text": [
      "\r",
      "119it [09:16,  4.84s/it]"
     ]
    },
    {
     "name": "stdout",
     "output_type": "stream",
     "text": [
      "Unable to process annotation: Aditya_2018-08-20_0111-0200_121\n"
     ]
    },
    {
     "name": "stderr",
     "output_type": "stream",
     "text": [
      "\r",
      "120it [09:21,  4.96s/it]"
     ]
    },
    {
     "name": "stdout",
     "output_type": "stream",
     "text": [
      "Saved annotation :Aditya_2018-08-20_0111-0200_122\n"
     ]
    },
    {
     "name": "stderr",
     "output_type": "stream",
     "text": [
      "\r",
      "121it [09:27,  5.06s/it]"
     ]
    },
    {
     "name": "stdout",
     "output_type": "stream",
     "text": [
      "Saved annotation :Aditya_2018-08-20_0111-0200_123\n"
     ]
    },
    {
     "name": "stderr",
     "output_type": "stream",
     "text": [
      "\r",
      "122it [09:31,  4.93s/it]"
     ]
    },
    {
     "name": "stdout",
     "output_type": "stream",
     "text": [
      "Unable to process annotation: Aditya_2018-08-20_0111-0200_124\n"
     ]
    },
    {
     "name": "stderr",
     "output_type": "stream",
     "text": [
      "\r",
      "123it [09:37,  5.25s/it]"
     ]
    },
    {
     "name": "stdout",
     "output_type": "stream",
     "text": [
      "Saved annotation :Aditya_2018-08-20_0111-0200_125\n"
     ]
    },
    {
     "name": "stderr",
     "output_type": "stream",
     "text": [
      "\r",
      "124it [09:43,  5.47s/it]"
     ]
    },
    {
     "name": "stdout",
     "output_type": "stream",
     "text": [
      "Saved annotation :Aditya_2018-08-20_0111-0200_126\n"
     ]
    },
    {
     "name": "stderr",
     "output_type": "stream",
     "text": [
      "\r",
      "125it [09:49,  5.46s/it]"
     ]
    },
    {
     "name": "stdout",
     "output_type": "stream",
     "text": [
      "Unable to process annotation: Aditya_2018-08-20_0111-0200_127\n"
     ]
    },
    {
     "name": "stderr",
     "output_type": "stream",
     "text": [
      "\r",
      "126it [09:54,  5.50s/it]"
     ]
    },
    {
     "name": "stdout",
     "output_type": "stream",
     "text": [
      "Unable to process annotation: Aditya_2018-08-20_0111-0200_128\n"
     ]
    },
    {
     "name": "stderr",
     "output_type": "stream",
     "text": [
      "\r",
      "127it [09:59,  5.37s/it]"
     ]
    },
    {
     "name": "stdout",
     "output_type": "stream",
     "text": [
      "Saved annotation :Aditya_2018-08-20_0111-0200_129\n"
     ]
    },
    {
     "name": "stderr",
     "output_type": "stream",
     "text": [
      "\r",
      "128it [10:05,  5.29s/it]"
     ]
    },
    {
     "name": "stdout",
     "output_type": "stream",
     "text": [
      "Unable to process annotation: Aditya_2018-08-20_0111-0200_130\n"
     ]
    },
    {
     "name": "stderr",
     "output_type": "stream",
     "text": [
      "\r",
      "129it [10:09,  5.06s/it]"
     ]
    },
    {
     "name": "stdout",
     "output_type": "stream",
     "text": [
      "Saved annotation :Aditya_2018-08-20_0111-0200_131\n"
     ]
    },
    {
     "name": "stderr",
     "output_type": "stream",
     "text": [
      "\r",
      "130it [10:14,  5.04s/it]"
     ]
    },
    {
     "name": "stdout",
     "output_type": "stream",
     "text": [
      "Saved annotation :Aditya_2018-08-20_0111-0200_132\n"
     ]
    },
    {
     "name": "stderr",
     "output_type": "stream",
     "text": [
      "\r",
      "131it [10:19,  5.06s/it]"
     ]
    },
    {
     "name": "stdout",
     "output_type": "stream",
     "text": [
      "Saved annotation :Aditya_2018-08-20_0111-0200_133\n"
     ]
    },
    {
     "name": "stderr",
     "output_type": "stream",
     "text": [
      "\r",
      "132it [10:25,  5.29s/it]"
     ]
    },
    {
     "name": "stdout",
     "output_type": "stream",
     "text": [
      "Saved annotation :Aditya_2018-08-20_0111-0200_134\n"
     ]
    },
    {
     "name": "stderr",
     "output_type": "stream",
     "text": [
      "\r",
      "133it [10:30,  5.31s/it]"
     ]
    },
    {
     "name": "stdout",
     "output_type": "stream",
     "text": [
      "Saved annotation :Aditya_2018-08-20_0111-0200_135\n"
     ]
    },
    {
     "name": "stderr",
     "output_type": "stream",
     "text": [
      "\r",
      "134it [10:36,  5.35s/it]"
     ]
    },
    {
     "name": "stdout",
     "output_type": "stream",
     "text": [
      "Saved annotation :Aditya_2018-08-20_0111-0200_136\n"
     ]
    },
    {
     "name": "stderr",
     "output_type": "stream",
     "text": [
      "\r",
      "135it [10:41,  5.35s/it]"
     ]
    },
    {
     "name": "stdout",
     "output_type": "stream",
     "text": [
      "Saved annotation :Aditya_2018-08-20_0111-0200_137\n"
     ]
    },
    {
     "name": "stderr",
     "output_type": "stream",
     "text": [
      "\r",
      "136it [10:47,  5.58s/it]"
     ]
    },
    {
     "name": "stdout",
     "output_type": "stream",
     "text": [
      "Unable to process annotation: Aditya_2018-08-20_0111-0200_138\n"
     ]
    },
    {
     "name": "stderr",
     "output_type": "stream",
     "text": [
      "\r",
      "137it [10:53,  5.56s/it]"
     ]
    },
    {
     "name": "stdout",
     "output_type": "stream",
     "text": [
      "Unable to process annotation: Aditya_2018-08-20_0111-0200_139\n"
     ]
    },
    {
     "name": "stderr",
     "output_type": "stream",
     "text": [
      "\r",
      "138it [10:57,  5.21s/it]"
     ]
    },
    {
     "name": "stdout",
     "output_type": "stream",
     "text": [
      "('timestamps below min fps: ', array(['2018-08-20 01:51:31'], dtype=object))\n",
      "video_path                           OrlovaChukaDome_02_20180820_01.11.28-02.00.00[...\n",
      "annotation_id                                          Aditya_2018-08-20_0111-0200_140\n",
      "Sampling minute                                                                     50\n",
      "timestamp from camera                                                                2\n",
      "start_timestamp                                                    2018-08-20 01:50:52\n",
      "start_framenumber                                                                   15\n",
      "end_timestamp                                                      2018-08-20 01:50:54\n",
      "end_framenumber                                                                      1\n",
      "no. of flying bats                                                                   1\n",
      "bat behaviour                                                                      NaN\n",
      "strength (1 - strong, 0-weak)                                                        1\n",
      "weak in (Behaviour Be, Number Bn)                                                  NaN\n",
      "Comments                                                                           NaN\n",
      "Details on the comment                                                             NaN\n",
      "annotator                                                                       Aditya\n",
      "Name: 137, dtype: object\n",
      "video_path                           OrlovaChukaDome_02_20180820_01.11.28-02.00.00[...\n",
      "annotation_id                                          Aditya_2018-08-20_0111-0200_140\n",
      "Sampling minute                                                                     50\n",
      "timestamp from camera                                                                2\n",
      "start_timestamp                                                    2018-08-20 01:50:52\n",
      "start_framenumber                                                                   15\n",
      "end_timestamp                                                      2018-08-20 01:50:54\n",
      "end_framenumber                                                                      1\n",
      "no. of flying bats                                                                   1\n",
      "bat behaviour                                                                      NaN\n",
      "strength (1 - strong, 0-weak)                                                        1\n",
      "weak in (Behaviour Be, Number Bn)                                                  NaN\n",
      "Comments                                                                           NaN\n",
      "Details on the comment                                                             NaN\n",
      "annotator                                                                       Aditya\n",
      "Name: 137, dtype: object\n"
     ]
    },
    {
     "name": "stderr",
     "output_type": "stream",
     "text": [
      "\r",
      "139it [11:02,  5.12s/it]"
     ]
    },
    {
     "name": "stdout",
     "output_type": "stream",
     "text": [
      "Unable to process annotation: Aditya_2018-08-20_0111-0200_141\n"
     ]
    },
    {
     "name": "stderr",
     "output_type": "stream",
     "text": [
      "\r",
      "140it [11:08,  5.48s/it]"
     ]
    },
    {
     "name": "stdout",
     "output_type": "stream",
     "text": [
      "Saved annotation :Aditya_2018-08-20_0111-0200_142\n"
     ]
    },
    {
     "name": "stderr",
     "output_type": "stream",
     "text": [
      "\r",
      "141it [11:14,  5.66s/it]"
     ]
    },
    {
     "name": "stdout",
     "output_type": "stream",
     "text": [
      "Unable to process annotation: Aditya_2018-08-20_0111-0200_143\n"
     ]
    },
    {
     "name": "stderr",
     "output_type": "stream",
     "text": [
      "\r",
      "142it [11:20,  5.67s/it]"
     ]
    },
    {
     "name": "stdout",
     "output_type": "stream",
     "text": [
      "Saved annotation :Aditya_2018-08-20_0111-0200_144\n"
     ]
    },
    {
     "name": "stderr",
     "output_type": "stream",
     "text": [
      "\r",
      "143it [11:25,  5.42s/it]"
     ]
    },
    {
     "name": "stdout",
     "output_type": "stream",
     "text": [
      "Saved annotation :Aditya_2018-08-20_0111-0200_145\n"
     ]
    },
    {
     "name": "stderr",
     "output_type": "stream",
     "text": [
      "\r",
      "144it [11:31,  5.47s/it]"
     ]
    },
    {
     "name": "stdout",
     "output_type": "stream",
     "text": [
      "Unable to process annotation: Aditya_2018-08-20_0111-0200_146\n"
     ]
    },
    {
     "name": "stderr",
     "output_type": "stream",
     "text": [
      "\r",
      "145it [11:35,  5.21s/it]"
     ]
    },
    {
     "name": "stdout",
     "output_type": "stream",
     "text": [
      "Unable to process annotation: Aditya_2018-08-20_0111-0200_147\n"
     ]
    },
    {
     "name": "stderr",
     "output_type": "stream",
     "text": [
      "\r",
      "146it [11:40,  4.94s/it]"
     ]
    },
    {
     "name": "stdout",
     "output_type": "stream",
     "text": [
      "Saved annotation :Aditya_2018-08-20_0111-0200_148\n"
     ]
    },
    {
     "name": "stderr",
     "output_type": "stream",
     "text": [
      "\r",
      "147it [11:46,  5.26s/it]"
     ]
    },
    {
     "name": "stdout",
     "output_type": "stream",
     "text": [
      "Saved annotation :Aditya_2018-08-20_0111-0200_149\n"
     ]
    },
    {
     "name": "stderr",
     "output_type": "stream",
     "text": [
      "\r",
      "148it [11:53,  5.90s/it]"
     ]
    },
    {
     "name": "stdout",
     "output_type": "stream",
     "text": [
      "Saved annotation :Aditya_2018-08-20_0111-0200_150\n"
     ]
    },
    {
     "name": "stderr",
     "output_type": "stream",
     "text": [
      "\r",
      "149it [11:59,  5.94s/it]"
     ]
    },
    {
     "name": "stdout",
     "output_type": "stream",
     "text": [
      "Unable to process annotation: Aditya_2018-08-20_0111-0200_151\n"
     ]
    },
    {
     "name": "stderr",
     "output_type": "stream",
     "text": [
      "\r",
      "150it [12:03,  5.50s/it]"
     ]
    },
    {
     "name": "stdout",
     "output_type": "stream",
     "text": [
      "Saved annotation :Aditya_2018-08-20_0111-0200_152\n"
     ]
    },
    {
     "name": "stderr",
     "output_type": "stream",
     "text": [
      "\r",
      "151it [12:08,  5.18s/it]"
     ]
    },
    {
     "name": "stdout",
     "output_type": "stream",
     "text": [
      "Unable to process annotation: Aditya_2018-08-20_0111-0200_153\n"
     ]
    },
    {
     "name": "stderr",
     "output_type": "stream",
     "text": [
      "\r",
      "152it [12:13,  5.20s/it]"
     ]
    },
    {
     "name": "stdout",
     "output_type": "stream",
     "text": [
      "Unable to process annotation: Aditya_2018-08-20_0111-0200_154\n"
     ]
    },
    {
     "name": "stderr",
     "output_type": "stream",
     "text": [
      "\r",
      "153it [12:18,  5.15s/it]"
     ]
    },
    {
     "name": "stdout",
     "output_type": "stream",
     "text": [
      "Saved annotation :Aditya_2018-08-20_0111-0200_155\n"
     ]
    },
    {
     "name": "stderr",
     "output_type": "stream",
     "text": [
      "\r",
      "154it [12:23,  5.21s/it]"
     ]
    },
    {
     "name": "stdout",
     "output_type": "stream",
     "text": [
      "Saved annotation :Aditya_2018-08-20_0111-0200_156\n"
     ]
    },
    {
     "name": "stderr",
     "output_type": "stream",
     "text": [
      "\r",
      "155it [12:29,  5.31s/it]"
     ]
    },
    {
     "name": "stdout",
     "output_type": "stream",
     "text": [
      "Saved annotation :Aditya_2018-08-20_0111-0200_157\n"
     ]
    },
    {
     "name": "stderr",
     "output_type": "stream",
     "text": [
      "\r",
      "156it [12:34,  5.17s/it]"
     ]
    },
    {
     "name": "stdout",
     "output_type": "stream",
     "text": [
      "Saved annotation :Aditya_2018-08-20_0111-0200_158\n"
     ]
    },
    {
     "name": "stderr",
     "output_type": "stream",
     "text": [
      "\r",
      "157it [12:39,  5.14s/it]"
     ]
    },
    {
     "name": "stdout",
     "output_type": "stream",
     "text": [
      "Unable to process annotation: Aditya_2018-08-20_0111-0200_159\n"
     ]
    },
    {
     "name": "stderr",
     "output_type": "stream",
     "text": [
      "\r",
      "158it [12:44,  5.23s/it]"
     ]
    },
    {
     "name": "stdout",
     "output_type": "stream",
     "text": [
      "Saved annotation :Aditya_2018-08-20_0111-0200_160\n"
     ]
    },
    {
     "name": "stderr",
     "output_type": "stream",
     "text": [
      "\r",
      "159it [12:46,  4.22s/it]"
     ]
    },
    {
     "name": "stdout",
     "output_type": "stream",
     "text": [
      "['2018-08-20 02:00:01', '2018-08-20 02:00:02', '2018-08-20 02:00:03', '2018-08-20 02:00:04', '2018-08-20 02:00:05']\n",
      "video_path                           OrlovaChukaDome_02_20180820_01.11.28-02.00.00[...\n",
      "annotation_id                                          Aditya_2018-08-20_0111-0200_161\n",
      "Sampling minute                                                                     59\n",
      "timestamp from camera                                                                2\n",
      "start_timestamp                                                    2018-08-20 01:59:20\n",
      "start_framenumber                                                                    1\n",
      "end_timestamp                                                      2018-08-20 01:59:27\n",
      "end_framenumber                                                                     10\n",
      "no. of flying bats                                                                   1\n",
      "bat behaviour                                                                      NaN\n",
      "strength (1 - strong, 0-weak)                                                        1\n",
      "weak in (Behaviour Be, Number Bn)                                                  NaN\n",
      "Comments                                                                           NaN\n",
      "Details on the comment                                                             NaN\n",
      "annotator                                                                       Aditya\n",
      "Name: 158, dtype: object\n"
     ]
    },
    {
     "name": "stderr",
     "output_type": "stream",
     "text": [
      "\n"
     ]
    }
   ],
   "source": [
    "kwargs = {'timestamp_pattern': '%Y-%m-%d %H:%M:%S'}\n",
    "kwargs['min_fps']= 21 # Hz\n",
    "kwargs['min_durn'] = 45.0 # seconds \n",
    "kwargs['common_fps'] = 25 # Hz\n",
    "kwargs['output_folder'] = './common_fps/Aditya_annotations/2018-08-19/'\n",
    "\n",
    "unprocessed_annotations = []\n",
    "\n",
    "for i, each_annotation in tqdm(annots_w_bats.iterrows()):\n",
    "    try:\n",
    "        success = video_sync_over_annotation_block(each_annotation,video_sync, \n",
    "                                                     **kwargs)\n",
    "    except :\n",
    "        unprocessed_annotations.append(i)\n",
    "        print('Unable to process annotation: %s'%annots_w_bats['annotation_id'][i])\n"
   ]
  },
  {
   "cell_type": "markdown",
   "metadata": {},
   "source": [
    "### Matching Audio from the common_fps files"
   ]
  },
  {
   "cell_type": "code",
   "execution_count": 13,
   "metadata": {},
   "outputs": [],
   "source": [
    "### Finding the matching audio snippet !! \n",
    "import glob \n",
    "import soundfile as sf\n",
    "from audio_for_videoannotation import match_video_sync_to_audio, search_for_best_fit\n",
    "\n",
    "#all_commonfps = glob.glob('common_fps_video_sync*') # get all the relevant common_fps_sync files\n",
    "all_commonfps = glob.glob('common_fps/Aditya_annotations/2018-08-19/common_fps_video_syncAditya_2018-08-20_011*')\n",
    "audio_folder = '/media/tbeleyur/THEJASVI_DATA_BACKUP_3/fieldwork_2018_002/horseshoe_bat/audio_non_spikey/2018-08-19/ch1/' # the current folder\n",
    "\n",
    "# the output folders\n",
    "audiosync_folder = './sync_audio/'\n",
    "audioannotation_folder = './annotation_audio/'\n",
    "fs = 250000 # change according to the recording sampling rate in Hz!! \n"
   ]
  },
  {
   "cell_type": "code",
   "execution_count": 14,
   "metadata": {
    "scrolled": true
   },
   "outputs": [],
   "source": [
    "all_ccs = []\n",
    "files_to_run = sorted(all_commonfps)\n",
    "\n",
    "def generate_matching_audio(each_commonfps, audio_folder, \n",
    "                           **kwargs):\n",
    "    '''\n",
    "    '''\n",
    "    print(each_commonfps)\n",
    "    try:\n",
    "        video_sync = pd.read_csv(each_commonfps)\n",
    "        best_audio, syncblock_audio, crosscoef = match_video_sync_to_audio(video_sync, audio_folder, \n",
    "                                                                           **kwargs)\n",
    "        all_ccs.append(crosscoef)\n",
    "        fname  = os.path.split(each_commonfps)[-1]\n",
    "        annotation_id = '-'.join(os.path.split(fname)[-1].split('common_fps_video_sync')[-1:])[:-4]\n",
    "\n",
    "        audiosync_folder = kwargs.get('audiosync_folder', 'sync_audio')\n",
    "        audioannotation_folder = kwargs.get('audioannotation_folder', 'annotation_audio')\n",
    "\n",
    "    \n",
    "        audio_file_base_name = annotation_id+'.WAV'\n",
    "        sf.write(audiosync_folder+'matching_sync_'+audio_file_base_name, syncblock_audio,fs)\n",
    "        sf.write(audioannotation_folder+'matching_annotaudio_'+audio_file_base_name, best_audio,fs)\n",
    "        return(True)\n",
    "    except:\n",
    "        print('Could not save ', each_commonfps)\n",
    "        return(False)\n",
    "\n"
   ]
  },
  {
   "cell_type": "code",
   "execution_count": 15,
   "metadata": {},
   "outputs": [
    {
     "data": {
      "text/plain": [
       "['/media/tbeleyur/THEJASVI_DATA_BACKUP_3/fieldwork_2018_002/horseshoe_bat/audio_non_spikey/2018-08-19/ch1/non_spikey_T0000007.WAV',\n",
       " '/media/tbeleyur/THEJASVI_DATA_BACKUP_3/fieldwork_2018_002/horseshoe_bat/audio_non_spikey/2018-08-19/ch1/non_spikey_T0000008.WAV',\n",
       " '/media/tbeleyur/THEJASVI_DATA_BACKUP_3/fieldwork_2018_002/horseshoe_bat/audio_non_spikey/2018-08-19/ch1/non_spikey_T0000009.WAV',\n",
       " '/media/tbeleyur/THEJASVI_DATA_BACKUP_3/fieldwork_2018_002/horseshoe_bat/audio_non_spikey/2018-08-19/ch1/non_spikey_T0000010.WAV',\n",
       " '/media/tbeleyur/THEJASVI_DATA_BACKUP_3/fieldwork_2018_002/horseshoe_bat/audio_non_spikey/2018-08-19/ch1/non_spikey_T0000011.WAV',\n",
       " '/media/tbeleyur/THEJASVI_DATA_BACKUP_3/fieldwork_2018_002/horseshoe_bat/audio_non_spikey/2018-08-19/ch1/non_spikey_T0000012.WAV',\n",
       " '/media/tbeleyur/THEJASVI_DATA_BACKUP_3/fieldwork_2018_002/horseshoe_bat/audio_non_spikey/2018-08-19/ch1/non_spikey_T0000013.WAV',\n",
       " '/media/tbeleyur/THEJASVI_DATA_BACKUP_3/fieldwork_2018_002/horseshoe_bat/audio_non_spikey/2018-08-19/ch1/non_spikey_T0000014.WAV',\n",
       " '/media/tbeleyur/THEJASVI_DATA_BACKUP_3/fieldwork_2018_002/horseshoe_bat/audio_non_spikey/2018-08-19/ch1/non_spikey_T0000015.WAV',\n",
       " '/media/tbeleyur/THEJASVI_DATA_BACKUP_3/fieldwork_2018_002/horseshoe_bat/audio_non_spikey/2018-08-19/ch1/non_spikey_T0000016.WAV',\n",
       " '/media/tbeleyur/THEJASVI_DATA_BACKUP_3/fieldwork_2018_002/horseshoe_bat/audio_non_spikey/2018-08-19/ch1/non_spikey_T0000017.WAV',\n",
       " '/media/tbeleyur/THEJASVI_DATA_BACKUP_3/fieldwork_2018_002/horseshoe_bat/audio_non_spikey/2018-08-19/ch1/non_spikey_T0000018.WAV',\n",
       " '/media/tbeleyur/THEJASVI_DATA_BACKUP_3/fieldwork_2018_002/horseshoe_bat/audio_non_spikey/2018-08-19/ch1/non_spikey_T0000019.WAV',\n",
       " '/media/tbeleyur/THEJASVI_DATA_BACKUP_3/fieldwork_2018_002/horseshoe_bat/audio_non_spikey/2018-08-19/ch1/non_spikey_T0000020.WAV',\n",
       " '/media/tbeleyur/THEJASVI_DATA_BACKUP_3/fieldwork_2018_002/horseshoe_bat/audio_non_spikey/2018-08-19/ch1/non_spikey_T0000021.WAV',\n",
       " '/media/tbeleyur/THEJASVI_DATA_BACKUP_3/fieldwork_2018_002/horseshoe_bat/audio_non_spikey/2018-08-19/ch1/non_spikey_T0000023.WAV',\n",
       " '/media/tbeleyur/THEJASVI_DATA_BACKUP_3/fieldwork_2018_002/horseshoe_bat/audio_non_spikey/2018-08-19/ch1/non_spikey_T0000024.WAV',\n",
       " '/media/tbeleyur/THEJASVI_DATA_BACKUP_3/fieldwork_2018_002/horseshoe_bat/audio_non_spikey/2018-08-19/ch1/non_spikey_T0000025.WAV',\n",
       " '/media/tbeleyur/THEJASVI_DATA_BACKUP_3/fieldwork_2018_002/horseshoe_bat/audio_non_spikey/2018-08-19/ch1/non_spikey_T0000026.WAV',\n",
       " '/media/tbeleyur/THEJASVI_DATA_BACKUP_3/fieldwork_2018_002/horseshoe_bat/audio_non_spikey/2018-08-19/ch1/non_spikey_T0000027.WAV',\n",
       " '/media/tbeleyur/THEJASVI_DATA_BACKUP_3/fieldwork_2018_002/horseshoe_bat/audio_non_spikey/2018-08-19/ch1/non_spikey_T0000028.WAV',\n",
       " '/media/tbeleyur/THEJASVI_DATA_BACKUP_3/fieldwork_2018_002/horseshoe_bat/audio_non_spikey/2018-08-19/ch1/non_spikey_T0000029.WAV',\n",
       " '/media/tbeleyur/THEJASVI_DATA_BACKUP_3/fieldwork_2018_002/horseshoe_bat/audio_non_spikey/2018-08-19/ch1/non_spikey_T0000030.WAV',\n",
       " '/media/tbeleyur/THEJASVI_DATA_BACKUP_3/fieldwork_2018_002/horseshoe_bat/audio_non_spikey/2018-08-19/ch1/non_spikey_T0000031.WAV',\n",
       " '/media/tbeleyur/THEJASVI_DATA_BACKUP_3/fieldwork_2018_002/horseshoe_bat/audio_non_spikey/2018-08-19/ch1/non_spikey_T0000032.WAV',\n",
       " '/media/tbeleyur/THEJASVI_DATA_BACKUP_3/fieldwork_2018_002/horseshoe_bat/audio_non_spikey/2018-08-19/ch1/non_spikey_T0000033.WAV',\n",
       " '/media/tbeleyur/THEJASVI_DATA_BACKUP_3/fieldwork_2018_002/horseshoe_bat/audio_non_spikey/2018-08-19/ch1/non_spikey_T0000034.WAV',\n",
       " '/media/tbeleyur/THEJASVI_DATA_BACKUP_3/fieldwork_2018_002/horseshoe_bat/audio_non_spikey/2018-08-19/ch1/non_spikey_T0000035.WAV',\n",
       " '/media/tbeleyur/THEJASVI_DATA_BACKUP_3/fieldwork_2018_002/horseshoe_bat/audio_non_spikey/2018-08-19/ch1/non_spikey_T0000036.WAV',\n",
       " '/media/tbeleyur/THEJASVI_DATA_BACKUP_3/fieldwork_2018_002/horseshoe_bat/audio_non_spikey/2018-08-19/ch1/non_spikey_T0000037.WAV',\n",
       " '/media/tbeleyur/THEJASVI_DATA_BACKUP_3/fieldwork_2018_002/horseshoe_bat/audio_non_spikey/2018-08-19/ch1/non_spikey_T0000039.WAV',\n",
       " '/media/tbeleyur/THEJASVI_DATA_BACKUP_3/fieldwork_2018_002/horseshoe_bat/audio_non_spikey/2018-08-19/ch1/non_spikey_T0000040.WAV',\n",
       " '/media/tbeleyur/THEJASVI_DATA_BACKUP_3/fieldwork_2018_002/horseshoe_bat/audio_non_spikey/2018-08-19/ch1/non_spikey_T0000041.WAV',\n",
       " '/media/tbeleyur/THEJASVI_DATA_BACKUP_3/fieldwork_2018_002/horseshoe_bat/audio_non_spikey/2018-08-19/ch1/non_spikey_T0000042.WAV',\n",
       " '/media/tbeleyur/THEJASVI_DATA_BACKUP_3/fieldwork_2018_002/horseshoe_bat/audio_non_spikey/2018-08-19/ch1/non_spikey_T0000043.WAV',\n",
       " '/media/tbeleyur/THEJASVI_DATA_BACKUP_3/fieldwork_2018_002/horseshoe_bat/audio_non_spikey/2018-08-19/ch1/non_spikey_T0000044.WAV',\n",
       " '/media/tbeleyur/THEJASVI_DATA_BACKUP_3/fieldwork_2018_002/horseshoe_bat/audio_non_spikey/2018-08-19/ch1/non_spikey_T0000045.WAV',\n",
       " '/media/tbeleyur/THEJASVI_DATA_BACKUP_3/fieldwork_2018_002/horseshoe_bat/audio_non_spikey/2018-08-19/ch1/non_spikey_T0000046.WAV',\n",
       " '/media/tbeleyur/THEJASVI_DATA_BACKUP_3/fieldwork_2018_002/horseshoe_bat/audio_non_spikey/2018-08-19/ch1/non_spikey_T0000047.WAV',\n",
       " '/media/tbeleyur/THEJASVI_DATA_BACKUP_3/fieldwork_2018_002/horseshoe_bat/audio_non_spikey/2018-08-19/ch1/non_spikey_T0000048.WAV',\n",
       " '/media/tbeleyur/THEJASVI_DATA_BACKUP_3/fieldwork_2018_002/horseshoe_bat/audio_non_spikey/2018-08-19/ch1/non_spikey_T0000049.WAV',\n",
       " '/media/tbeleyur/THEJASVI_DATA_BACKUP_3/fieldwork_2018_002/horseshoe_bat/audio_non_spikey/2018-08-19/ch1/non_spikey_T0000050.WAV',\n",
       " '/media/tbeleyur/THEJASVI_DATA_BACKUP_3/fieldwork_2018_002/horseshoe_bat/audio_non_spikey/2018-08-19/ch1/non_spikey_T0000051.WAV',\n",
       " '/media/tbeleyur/THEJASVI_DATA_BACKUP_3/fieldwork_2018_002/horseshoe_bat/audio_non_spikey/2018-08-19/ch1/non_spikey_T0000052.WAV',\n",
       " '/media/tbeleyur/THEJASVI_DATA_BACKUP_3/fieldwork_2018_002/horseshoe_bat/audio_non_spikey/2018-08-19/ch1/non_spikey_T0000053.WAV',\n",
       " '/media/tbeleyur/THEJASVI_DATA_BACKUP_3/fieldwork_2018_002/horseshoe_bat/audio_non_spikey/2018-08-19/ch1/non_spikey_T0000006.WAV',\n",
       " '/media/tbeleyur/THEJASVI_DATA_BACKUP_3/fieldwork_2018_002/horseshoe_bat/audio_non_spikey/2018-08-19/ch1/non_spikey_T0000022.WAV',\n",
       " '/media/tbeleyur/THEJASVI_DATA_BACKUP_3/fieldwork_2018_002/horseshoe_bat/audio_non_spikey/2018-08-19/ch1/non_spikey_T0000038.WAV',\n",
       " '/media/tbeleyur/THEJASVI_DATA_BACKUP_3/fieldwork_2018_002/horseshoe_bat/audio_non_spikey/2018-08-19/ch1/non_spikey_T0000054.WAV',\n",
       " '/media/tbeleyur/THEJASVI_DATA_BACKUP_3/fieldwork_2018_002/horseshoe_bat/audio_non_spikey/2018-08-19/ch1/non_spikey_T0000070.WAV',\n",
       " '/media/tbeleyur/THEJASVI_DATA_BACKUP_3/fieldwork_2018_002/horseshoe_bat/audio_non_spikey/2018-08-19/ch1/non_spikey_T0000086.WAV',\n",
       " '/media/tbeleyur/THEJASVI_DATA_BACKUP_3/fieldwork_2018_002/horseshoe_bat/audio_non_spikey/2018-08-19/ch1/non_spikey_T0000102.WAV',\n",
       " '/media/tbeleyur/THEJASVI_DATA_BACKUP_3/fieldwork_2018_002/horseshoe_bat/audio_non_spikey/2018-08-19/ch1/non_spikey_T0000118.WAV',\n",
       " '/media/tbeleyur/THEJASVI_DATA_BACKUP_3/fieldwork_2018_002/horseshoe_bat/audio_non_spikey/2018-08-19/ch1/non_spikey_T0000055.WAV',\n",
       " '/media/tbeleyur/THEJASVI_DATA_BACKUP_3/fieldwork_2018_002/horseshoe_bat/audio_non_spikey/2018-08-19/ch1/non_spikey_T0000056.WAV',\n",
       " '/media/tbeleyur/THEJASVI_DATA_BACKUP_3/fieldwork_2018_002/horseshoe_bat/audio_non_spikey/2018-08-19/ch1/non_spikey_T0000057.WAV',\n",
       " '/media/tbeleyur/THEJASVI_DATA_BACKUP_3/fieldwork_2018_002/horseshoe_bat/audio_non_spikey/2018-08-19/ch1/non_spikey_T0000058.WAV',\n",
       " '/media/tbeleyur/THEJASVI_DATA_BACKUP_3/fieldwork_2018_002/horseshoe_bat/audio_non_spikey/2018-08-19/ch1/non_spikey_T0000059.WAV',\n",
       " '/media/tbeleyur/THEJASVI_DATA_BACKUP_3/fieldwork_2018_002/horseshoe_bat/audio_non_spikey/2018-08-19/ch1/non_spikey_T0000060.WAV',\n",
       " '/media/tbeleyur/THEJASVI_DATA_BACKUP_3/fieldwork_2018_002/horseshoe_bat/audio_non_spikey/2018-08-19/ch1/non_spikey_T0000061.WAV',\n",
       " '/media/tbeleyur/THEJASVI_DATA_BACKUP_3/fieldwork_2018_002/horseshoe_bat/audio_non_spikey/2018-08-19/ch1/non_spikey_T0000062.WAV',\n",
       " '/media/tbeleyur/THEJASVI_DATA_BACKUP_3/fieldwork_2018_002/horseshoe_bat/audio_non_spikey/2018-08-19/ch1/non_spikey_T0000063.WAV',\n",
       " '/media/tbeleyur/THEJASVI_DATA_BACKUP_3/fieldwork_2018_002/horseshoe_bat/audio_non_spikey/2018-08-19/ch1/non_spikey_T0000064.WAV',\n",
       " '/media/tbeleyur/THEJASVI_DATA_BACKUP_3/fieldwork_2018_002/horseshoe_bat/audio_non_spikey/2018-08-19/ch1/non_spikey_T0000065.WAV',\n",
       " '/media/tbeleyur/THEJASVI_DATA_BACKUP_3/fieldwork_2018_002/horseshoe_bat/audio_non_spikey/2018-08-19/ch1/non_spikey_T0000066.WAV',\n",
       " '/media/tbeleyur/THEJASVI_DATA_BACKUP_3/fieldwork_2018_002/horseshoe_bat/audio_non_spikey/2018-08-19/ch1/non_spikey_T0000067.WAV',\n",
       " '/media/tbeleyur/THEJASVI_DATA_BACKUP_3/fieldwork_2018_002/horseshoe_bat/audio_non_spikey/2018-08-19/ch1/non_spikey_T0000068.WAV',\n",
       " '/media/tbeleyur/THEJASVI_DATA_BACKUP_3/fieldwork_2018_002/horseshoe_bat/audio_non_spikey/2018-08-19/ch1/non_spikey_T0000069.WAV',\n",
       " '/media/tbeleyur/THEJASVI_DATA_BACKUP_3/fieldwork_2018_002/horseshoe_bat/audio_non_spikey/2018-08-19/ch1/non_spikey_T0000071.WAV',\n",
       " '/media/tbeleyur/THEJASVI_DATA_BACKUP_3/fieldwork_2018_002/horseshoe_bat/audio_non_spikey/2018-08-19/ch1/non_spikey_T0000072.WAV',\n",
       " '/media/tbeleyur/THEJASVI_DATA_BACKUP_3/fieldwork_2018_002/horseshoe_bat/audio_non_spikey/2018-08-19/ch1/non_spikey_T0000073.WAV',\n",
       " '/media/tbeleyur/THEJASVI_DATA_BACKUP_3/fieldwork_2018_002/horseshoe_bat/audio_non_spikey/2018-08-19/ch1/non_spikey_T0000074.WAV',\n",
       " '/media/tbeleyur/THEJASVI_DATA_BACKUP_3/fieldwork_2018_002/horseshoe_bat/audio_non_spikey/2018-08-19/ch1/non_spikey_T0000075.WAV',\n",
       " '/media/tbeleyur/THEJASVI_DATA_BACKUP_3/fieldwork_2018_002/horseshoe_bat/audio_non_spikey/2018-08-19/ch1/non_spikey_T0000076.WAV',\n",
       " '/media/tbeleyur/THEJASVI_DATA_BACKUP_3/fieldwork_2018_002/horseshoe_bat/audio_non_spikey/2018-08-19/ch1/non_spikey_T0000077.WAV',\n",
       " '/media/tbeleyur/THEJASVI_DATA_BACKUP_3/fieldwork_2018_002/horseshoe_bat/audio_non_spikey/2018-08-19/ch1/non_spikey_T0000078.WAV',\n",
       " '/media/tbeleyur/THEJASVI_DATA_BACKUP_3/fieldwork_2018_002/horseshoe_bat/audio_non_spikey/2018-08-19/ch1/non_spikey_T0000079.WAV',\n",
       " '/media/tbeleyur/THEJASVI_DATA_BACKUP_3/fieldwork_2018_002/horseshoe_bat/audio_non_spikey/2018-08-19/ch1/non_spikey_T0000080.WAV',\n",
       " '/media/tbeleyur/THEJASVI_DATA_BACKUP_3/fieldwork_2018_002/horseshoe_bat/audio_non_spikey/2018-08-19/ch1/non_spikey_T0000081.WAV',\n",
       " '/media/tbeleyur/THEJASVI_DATA_BACKUP_3/fieldwork_2018_002/horseshoe_bat/audio_non_spikey/2018-08-19/ch1/non_spikey_T0000082.WAV',\n",
       " '/media/tbeleyur/THEJASVI_DATA_BACKUP_3/fieldwork_2018_002/horseshoe_bat/audio_non_spikey/2018-08-19/ch1/non_spikey_T0000083.WAV',\n",
       " '/media/tbeleyur/THEJASVI_DATA_BACKUP_3/fieldwork_2018_002/horseshoe_bat/audio_non_spikey/2018-08-19/ch1/non_spikey_T0000084.WAV',\n",
       " '/media/tbeleyur/THEJASVI_DATA_BACKUP_3/fieldwork_2018_002/horseshoe_bat/audio_non_spikey/2018-08-19/ch1/non_spikey_T0000085.WAV',\n",
       " '/media/tbeleyur/THEJASVI_DATA_BACKUP_3/fieldwork_2018_002/horseshoe_bat/audio_non_spikey/2018-08-19/ch1/non_spikey_T0000001.WAV',\n",
       " '/media/tbeleyur/THEJASVI_DATA_BACKUP_3/fieldwork_2018_002/horseshoe_bat/audio_non_spikey/2018-08-19/ch1/non_spikey_T0000002.WAV',\n",
       " '/media/tbeleyur/THEJASVI_DATA_BACKUP_3/fieldwork_2018_002/horseshoe_bat/audio_non_spikey/2018-08-19/ch1/non_spikey_T0000003.WAV',\n",
       " '/media/tbeleyur/THEJASVI_DATA_BACKUP_3/fieldwork_2018_002/horseshoe_bat/audio_non_spikey/2018-08-19/ch1/non_spikey_T0000004.WAV',\n",
       " '/media/tbeleyur/THEJASVI_DATA_BACKUP_3/fieldwork_2018_002/horseshoe_bat/audio_non_spikey/2018-08-19/ch1/non_spikey_T0000005.WAV',\n",
       " '/media/tbeleyur/THEJASVI_DATA_BACKUP_3/fieldwork_2018_002/horseshoe_bat/audio_non_spikey/2018-08-19/ch1/non_spikey_T0000087.WAV',\n",
       " '/media/tbeleyur/THEJASVI_DATA_BACKUP_3/fieldwork_2018_002/horseshoe_bat/audio_non_spikey/2018-08-19/ch1/non_spikey_T0000088.WAV',\n",
       " '/media/tbeleyur/THEJASVI_DATA_BACKUP_3/fieldwork_2018_002/horseshoe_bat/audio_non_spikey/2018-08-19/ch1/non_spikey_T0000089.WAV',\n",
       " '/media/tbeleyur/THEJASVI_DATA_BACKUP_3/fieldwork_2018_002/horseshoe_bat/audio_non_spikey/2018-08-19/ch1/non_spikey_T0000090.WAV',\n",
       " '/media/tbeleyur/THEJASVI_DATA_BACKUP_3/fieldwork_2018_002/horseshoe_bat/audio_non_spikey/2018-08-19/ch1/non_spikey_T0000091.WAV',\n",
       " '/media/tbeleyur/THEJASVI_DATA_BACKUP_3/fieldwork_2018_002/horseshoe_bat/audio_non_spikey/2018-08-19/ch1/non_spikey_T0000092.WAV',\n",
       " '/media/tbeleyur/THEJASVI_DATA_BACKUP_3/fieldwork_2018_002/horseshoe_bat/audio_non_spikey/2018-08-19/ch1/non_spikey_T0000093.WAV',\n",
       " '/media/tbeleyur/THEJASVI_DATA_BACKUP_3/fieldwork_2018_002/horseshoe_bat/audio_non_spikey/2018-08-19/ch1/non_spikey_T0000094.WAV',\n",
       " '/media/tbeleyur/THEJASVI_DATA_BACKUP_3/fieldwork_2018_002/horseshoe_bat/audio_non_spikey/2018-08-19/ch1/non_spikey_T0000095.WAV',\n",
       " '/media/tbeleyur/THEJASVI_DATA_BACKUP_3/fieldwork_2018_002/horseshoe_bat/audio_non_spikey/2018-08-19/ch1/non_spikey_T0000096.WAV',\n",
       " '/media/tbeleyur/THEJASVI_DATA_BACKUP_3/fieldwork_2018_002/horseshoe_bat/audio_non_spikey/2018-08-19/ch1/non_spikey_T0000097.WAV',\n",
       " '/media/tbeleyur/THEJASVI_DATA_BACKUP_3/fieldwork_2018_002/horseshoe_bat/audio_non_spikey/2018-08-19/ch1/non_spikey_T0000098.WAV',\n",
       " '/media/tbeleyur/THEJASVI_DATA_BACKUP_3/fieldwork_2018_002/horseshoe_bat/audio_non_spikey/2018-08-19/ch1/non_spikey_T0000099.WAV',\n",
       " '/media/tbeleyur/THEJASVI_DATA_BACKUP_3/fieldwork_2018_002/horseshoe_bat/audio_non_spikey/2018-08-19/ch1/non_spikey_T0000100.WAV',\n",
       " '/media/tbeleyur/THEJASVI_DATA_BACKUP_3/fieldwork_2018_002/horseshoe_bat/audio_non_spikey/2018-08-19/ch1/non_spikey_T0000101.WAV',\n",
       " '/media/tbeleyur/THEJASVI_DATA_BACKUP_3/fieldwork_2018_002/horseshoe_bat/audio_non_spikey/2018-08-19/ch1/non_spikey_T0000103.WAV',\n",
       " '/media/tbeleyur/THEJASVI_DATA_BACKUP_3/fieldwork_2018_002/horseshoe_bat/audio_non_spikey/2018-08-19/ch1/non_spikey_T0000104.WAV',\n",
       " '/media/tbeleyur/THEJASVI_DATA_BACKUP_3/fieldwork_2018_002/horseshoe_bat/audio_non_spikey/2018-08-19/ch1/non_spikey_T0000105.WAV',\n",
       " '/media/tbeleyur/THEJASVI_DATA_BACKUP_3/fieldwork_2018_002/horseshoe_bat/audio_non_spikey/2018-08-19/ch1/non_spikey_T0000106.WAV',\n",
       " '/media/tbeleyur/THEJASVI_DATA_BACKUP_3/fieldwork_2018_002/horseshoe_bat/audio_non_spikey/2018-08-19/ch1/non_spikey_T0000107.WAV',\n",
       " '/media/tbeleyur/THEJASVI_DATA_BACKUP_3/fieldwork_2018_002/horseshoe_bat/audio_non_spikey/2018-08-19/ch1/non_spikey_T0000108.WAV',\n",
       " '/media/tbeleyur/THEJASVI_DATA_BACKUP_3/fieldwork_2018_002/horseshoe_bat/audio_non_spikey/2018-08-19/ch1/non_spikey_T0000109.WAV',\n",
       " '/media/tbeleyur/THEJASVI_DATA_BACKUP_3/fieldwork_2018_002/horseshoe_bat/audio_non_spikey/2018-08-19/ch1/non_spikey_T0000110.WAV',\n",
       " '/media/tbeleyur/THEJASVI_DATA_BACKUP_3/fieldwork_2018_002/horseshoe_bat/audio_non_spikey/2018-08-19/ch1/non_spikey_T0000111.WAV',\n",
       " '/media/tbeleyur/THEJASVI_DATA_BACKUP_3/fieldwork_2018_002/horseshoe_bat/audio_non_spikey/2018-08-19/ch1/non_spikey_T0000112.WAV',\n",
       " '/media/tbeleyur/THEJASVI_DATA_BACKUP_3/fieldwork_2018_002/horseshoe_bat/audio_non_spikey/2018-08-19/ch1/non_spikey_T0000113.WAV',\n",
       " '/media/tbeleyur/THEJASVI_DATA_BACKUP_3/fieldwork_2018_002/horseshoe_bat/audio_non_spikey/2018-08-19/ch1/non_spikey_T0000114.WAV',\n",
       " '/media/tbeleyur/THEJASVI_DATA_BACKUP_3/fieldwork_2018_002/horseshoe_bat/audio_non_spikey/2018-08-19/ch1/non_spikey_T0000115.WAV',\n",
       " '/media/tbeleyur/THEJASVI_DATA_BACKUP_3/fieldwork_2018_002/horseshoe_bat/audio_non_spikey/2018-08-19/ch1/non_spikey_T0000116.WAV',\n",
       " '/media/tbeleyur/THEJASVI_DATA_BACKUP_3/fieldwork_2018_002/horseshoe_bat/audio_non_spikey/2018-08-19/ch1/non_spikey_T0000117.WAV',\n",
       " '/media/tbeleyur/THEJASVI_DATA_BACKUP_3/fieldwork_2018_002/horseshoe_bat/audio_non_spikey/2018-08-19/ch1/non_spikey_T0000119.WAV',\n",
       " '/media/tbeleyur/THEJASVI_DATA_BACKUP_3/fieldwork_2018_002/horseshoe_bat/audio_non_spikey/2018-08-19/ch1/non_spikey_T0000120.WAV',\n",
       " '/media/tbeleyur/THEJASVI_DATA_BACKUP_3/fieldwork_2018_002/horseshoe_bat/audio_non_spikey/2018-08-19/ch1/non_spikey_T0000121.WAV',\n",
       " '/media/tbeleyur/THEJASVI_DATA_BACKUP_3/fieldwork_2018_002/horseshoe_bat/audio_non_spikey/2018-08-19/ch1/non_spikey_T0000122.WAV',\n",
       " '/media/tbeleyur/THEJASVI_DATA_BACKUP_3/fieldwork_2018_002/horseshoe_bat/audio_non_spikey/2018-08-19/ch1/non_spikey_T0000123.WAV',\n",
       " '/media/tbeleyur/THEJASVI_DATA_BACKUP_3/fieldwork_2018_002/horseshoe_bat/audio_non_spikey/2018-08-19/ch1/non_spikey_T0000124.WAV',\n",
       " '/media/tbeleyur/THEJASVI_DATA_BACKUP_3/fieldwork_2018_002/horseshoe_bat/audio_non_spikey/2018-08-19/ch1/non_spikey_T0000125.WAV',\n",
       " '/media/tbeleyur/THEJASVI_DATA_BACKUP_3/fieldwork_2018_002/horseshoe_bat/audio_non_spikey/2018-08-19/ch1/non_spikey_T0000126.WAV',\n",
       " '/media/tbeleyur/THEJASVI_DATA_BACKUP_3/fieldwork_2018_002/horseshoe_bat/audio_non_spikey/2018-08-19/ch1/non_spikey_T0000127.WAV',\n",
       " '/media/tbeleyur/THEJASVI_DATA_BACKUP_3/fieldwork_2018_002/horseshoe_bat/audio_non_spikey/2018-08-19/ch1/non_spikey_T0000128.WAV',\n",
       " '/media/tbeleyur/THEJASVI_DATA_BACKUP_3/fieldwork_2018_002/horseshoe_bat/audio_non_spikey/2018-08-19/ch1/non_spikey_T0000129.WAV',\n",
       " '/media/tbeleyur/THEJASVI_DATA_BACKUP_3/fieldwork_2018_002/horseshoe_bat/audio_non_spikey/2018-08-19/ch1/non_spikey_T0000130.WAV',\n",
       " '/media/tbeleyur/THEJASVI_DATA_BACKUP_3/fieldwork_2018_002/horseshoe_bat/audio_non_spikey/2018-08-19/ch1/non_spikey_T0000131.WAV',\n",
       " '/media/tbeleyur/THEJASVI_DATA_BACKUP_3/fieldwork_2018_002/horseshoe_bat/audio_non_spikey/2018-08-19/ch1/non_spikey_T0000132.WAV',\n",
       " '/media/tbeleyur/THEJASVI_DATA_BACKUP_3/fieldwork_2018_002/horseshoe_bat/audio_non_spikey/2018-08-19/ch1/non_spikey_T0000133.WAV',\n",
       " '/media/tbeleyur/THEJASVI_DATA_BACKUP_3/fieldwork_2018_002/horseshoe_bat/audio_non_spikey/2018-08-19/ch1/non_spikey_T0000134.WAV']"
      ]
     },
     "execution_count": 15,
     "metadata": {},
     "output_type": "execute_result"
    }
   ],
   "source": [
    "glob.glob(audio_folder+'*.WAV')"
   ]
  },
  {
   "cell_type": "code",
   "execution_count": 16,
   "metadata": {
    "scrolled": true
   },
   "outputs": [
    {
     "data": {
      "text/plain": [
       "['make_non_spikey_2018-08-20_audio_conversion.py',\n",
       " 'non_spikey_T0000001.WAV',\n",
       " 'non_spikey_T0000002.WAV',\n",
       " 'non_spikey_T0000003.WAV',\n",
       " 'non_spikey_T0000004.WAV',\n",
       " 'non_spikey_T0000005.WAV',\n",
       " 'non_spikey_T0000006.WAV',\n",
       " 'non_spikey_T0000007.WAV',\n",
       " 'non_spikey_T0000008.WAV',\n",
       " 'non_spikey_T0000009.WAV',\n",
       " 'non_spikey_T0000010.WAV',\n",
       " 'non_spikey_T0000011.WAV',\n",
       " 'non_spikey_T0000012.WAV',\n",
       " 'non_spikey_T0000013.WAV',\n",
       " 'non_spikey_T0000014.WAV',\n",
       " 'non_spikey_T0000015.WAV',\n",
       " 'non_spikey_T0000016.WAV',\n",
       " 'non_spikey_T0000017.WAV',\n",
       " 'non_spikey_T0000018.WAV',\n",
       " 'non_spikey_T0000019.WAV',\n",
       " 'non_spikey_T0000020.WAV',\n",
       " 'non_spikey_T0000021.WAV',\n",
       " 'non_spikey_T0000022.WAV',\n",
       " 'non_spikey_T0000023.WAV',\n",
       " 'non_spikey_T0000024.WAV',\n",
       " 'non_spikey_T0000025.WAV',\n",
       " 'non_spikey_T0000026.WAV',\n",
       " 'non_spikey_T0000027.WAV',\n",
       " 'non_spikey_T0000028.WAV',\n",
       " 'non_spikey_T0000029.WAV',\n",
       " 'non_spikey_T0000030.WAV',\n",
       " 'non_spikey_T0000031.WAV',\n",
       " 'non_spikey_T0000032.WAV',\n",
       " 'non_spikey_T0000033.WAV',\n",
       " 'non_spikey_T0000034.WAV',\n",
       " 'non_spikey_T0000035.WAV',\n",
       " 'non_spikey_T0000036.WAV',\n",
       " 'non_spikey_T0000037.WAV',\n",
       " 'non_spikey_T0000038.WAV',\n",
       " 'non_spikey_T0000039.WAV',\n",
       " 'non_spikey_T0000040.WAV',\n",
       " 'non_spikey_T0000041.WAV',\n",
       " 'non_spikey_T0000042.WAV',\n",
       " 'non_spikey_T0000043.WAV',\n",
       " 'non_spikey_T0000044.WAV',\n",
       " 'non_spikey_T0000045.WAV',\n",
       " 'non_spikey_T0000046.WAV',\n",
       " 'non_spikey_T0000047.WAV',\n",
       " 'non_spikey_T0000048.WAV',\n",
       " 'non_spikey_T0000049.WAV',\n",
       " 'non_spikey_T0000050.WAV',\n",
       " 'non_spikey_T0000051.WAV',\n",
       " 'non_spikey_T0000052.WAV',\n",
       " 'non_spikey_T0000053.WAV',\n",
       " 'non_spikey_T0000054.WAV',\n",
       " 'non_spikey_T0000055.WAV',\n",
       " 'non_spikey_T0000056.WAV',\n",
       " 'non_spikey_T0000057.WAV',\n",
       " 'non_spikey_T0000058.WAV',\n",
       " 'non_spikey_T0000059.WAV',\n",
       " 'non_spikey_T0000060.WAV',\n",
       " 'non_spikey_T0000061.WAV',\n",
       " 'non_spikey_T0000062.WAV',\n",
       " 'non_spikey_T0000063.WAV',\n",
       " 'non_spikey_T0000064.WAV',\n",
       " 'non_spikey_T0000065.WAV',\n",
       " 'non_spikey_T0000066.WAV',\n",
       " 'non_spikey_T0000067.WAV',\n",
       " 'non_spikey_T0000068.WAV',\n",
       " 'non_spikey_T0000069.WAV',\n",
       " 'non_spikey_T0000070.WAV',\n",
       " 'non_spikey_T0000071.WAV',\n",
       " 'non_spikey_T0000072.WAV',\n",
       " 'non_spikey_T0000073.WAV',\n",
       " 'non_spikey_T0000074.WAV',\n",
       " 'non_spikey_T0000075.WAV',\n",
       " 'non_spikey_T0000076.WAV',\n",
       " 'non_spikey_T0000077.WAV',\n",
       " 'non_spikey_T0000078.WAV',\n",
       " 'non_spikey_T0000079.WAV',\n",
       " 'non_spikey_T0000080.WAV',\n",
       " 'non_spikey_T0000081.WAV',\n",
       " 'non_spikey_T0000082.WAV',\n",
       " 'non_spikey_T0000083.WAV',\n",
       " 'non_spikey_T0000084.WAV',\n",
       " 'non_spikey_T0000085.WAV',\n",
       " 'non_spikey_T0000086.WAV',\n",
       " 'non_spikey_T0000087.WAV',\n",
       " 'non_spikey_T0000088.WAV',\n",
       " 'non_spikey_T0000089.WAV',\n",
       " 'non_spikey_T0000090.WAV',\n",
       " 'non_spikey_T0000091.WAV',\n",
       " 'non_spikey_T0000092.WAV',\n",
       " 'non_spikey_T0000093.WAV',\n",
       " 'non_spikey_T0000094.WAV',\n",
       " 'non_spikey_T0000095.WAV',\n",
       " 'non_spikey_T0000096.WAV',\n",
       " 'non_spikey_T0000097.WAV',\n",
       " 'non_spikey_T0000098.WAV',\n",
       " 'non_spikey_T0000099.WAV',\n",
       " 'non_spikey_T0000100.WAV',\n",
       " 'non_spikey_T0000101.WAV',\n",
       " 'non_spikey_T0000102.WAV',\n",
       " 'non_spikey_T0000103.WAV',\n",
       " 'non_spikey_T0000104.WAV',\n",
       " 'non_spikey_T0000105.WAV',\n",
       " 'non_spikey_T0000106.WAV',\n",
       " 'non_spikey_T0000107.WAV',\n",
       " 'non_spikey_T0000108.WAV',\n",
       " 'non_spikey_T0000109.WAV',\n",
       " 'non_spikey_T0000110.WAV',\n",
       " 'non_spikey_T0000111.WAV',\n",
       " 'non_spikey_T0000112.WAV',\n",
       " 'non_spikey_T0000113.WAV',\n",
       " 'non_spikey_T0000114.WAV',\n",
       " 'non_spikey_T0000115.WAV',\n",
       " 'non_spikey_T0000116.WAV',\n",
       " 'non_spikey_T0000117.WAV',\n",
       " 'non_spikey_T0000118.WAV',\n",
       " 'non_spikey_T0000119.WAV',\n",
       " 'non_spikey_T0000120.WAV',\n",
       " 'non_spikey_T0000121.WAV',\n",
       " 'non_spikey_T0000122.WAV',\n",
       " 'non_spikey_T0000123.WAV',\n",
       " 'non_spikey_T0000124.WAV',\n",
       " 'non_spikey_T0000125.WAV',\n",
       " 'non_spikey_T0000126.WAV',\n",
       " 'non_spikey_T0000127.WAV',\n",
       " 'non_spikey_T0000128.WAV',\n",
       " 'non_spikey_T0000129.WAV',\n",
       " 'non_spikey_T0000130.WAV',\n",
       " 'non_spikey_T0000131.WAV',\n",
       " 'non_spikey_T0000132.WAV',\n",
       " 'non_spikey_T0000133.WAV',\n",
       " 'non_spikey_T0000134.WAV']"
      ]
     },
     "execution_count": 16,
     "metadata": {},
     "output_type": "execute_result"
    }
   ],
   "source": [
    "natsort.natsorted(os.listdir(audio_folder))"
   ]
  },
  {
   "cell_type": "code",
   "execution_count": 17,
   "metadata": {
    "scrolled": true
   },
   "outputs": [
    {
     "data": {
      "text/plain": [
       "['common_fps/Aditya_annotations/2018-08-19/common_fps_video_syncAditya_2018-08-20_0111-0200_103.csv',\n",
       " 'common_fps/Aditya_annotations/2018-08-19/common_fps_video_syncAditya_2018-08-20_0111-0200_61.csv',\n",
       " 'common_fps/Aditya_annotations/2018-08-19/common_fps_video_syncAditya_2018-08-20_0111-0200_133.csv',\n",
       " 'common_fps/Aditya_annotations/2018-08-19/common_fps_video_syncAditya_2018-08-20_0111-0200_93.csv',\n",
       " 'common_fps/Aditya_annotations/2018-08-19/common_fps_video_syncAditya_2018-08-20_0111-0200_70.csv',\n",
       " 'common_fps/Aditya_annotations/2018-08-19/common_fps_video_syncAditya_2018-08-20_0111-0200_114.csv',\n",
       " 'common_fps/Aditya_annotations/2018-08-19/common_fps_video_syncAditya_2018-08-20_0111-0200_42.csv',\n",
       " 'common_fps/Aditya_annotations/2018-08-19/common_fps_video_syncAditya_2018-08-20_0111-0200_56.csv',\n",
       " 'common_fps/Aditya_annotations/2018-08-19/common_fps_video_syncAditya_2018-08-20_0111-0200_38.csv',\n",
       " 'common_fps/Aditya_annotations/2018-08-19/common_fps_video_syncAditya_2018-08-20_0111-0200_111.csv',\n",
       " 'common_fps/Aditya_annotations/2018-08-19/common_fps_video_syncAditya_2018-08-20_0111-0200_36.csv',\n",
       " 'common_fps/Aditya_annotations/2018-08-19/common_fps_video_syncAditya_2018-08-20_0111-0200_43.csv',\n",
       " 'common_fps/Aditya_annotations/2018-08-19/common_fps_video_syncAditya_2018-08-20_0111-0200_155.csv',\n",
       " 'common_fps/Aditya_annotations/2018-08-19/common_fps_video_syncAditya_2018-08-20_0111-0200_142.csv',\n",
       " 'common_fps/Aditya_annotations/2018-08-19/common_fps_video_syncAditya_2018-08-20_0111-0200_49.csv',\n",
       " 'common_fps/Aditya_annotations/2018-08-19/common_fps_video_syncAditya_2018-08-20_0111-0200_60.csv',\n",
       " 'common_fps/Aditya_annotations/2018-08-19/common_fps_video_syncAditya_2018-08-20_0111-0200_118.csv',\n",
       " 'common_fps/Aditya_annotations/2018-08-19/common_fps_video_syncAditya_2018-08-20_0111-0200_72.csv',\n",
       " 'common_fps/Aditya_annotations/2018-08-19/common_fps_video_syncAditya_2018-08-20_0111-0200_74.csv',\n",
       " 'common_fps/Aditya_annotations/2018-08-19/common_fps_video_syncAditya_2018-08-20_0111-0200_101.csv',\n",
       " 'common_fps/Aditya_annotations/2018-08-19/common_fps_video_syncAditya_2018-08-20_0111-0200_95.csv',\n",
       " 'common_fps/Aditya_annotations/2018-08-19/common_fps_video_syncAditya_2018-08-20_0111-0200_53.csv',\n",
       " 'common_fps/Aditya_annotations/2018-08-19/common_fps_video_syncAditya_2018-08-20_0111-0200_76.csv',\n",
       " 'common_fps/Aditya_annotations/2018-08-19/common_fps_video_syncAditya_2018-08-20_0111-0200_65.csv',\n",
       " 'common_fps/Aditya_annotations/2018-08-19/common_fps_video_syncAditya_2018-08-20_0111-0200_9.csv',\n",
       " 'common_fps/Aditya_annotations/2018-08-19/common_fps_video_syncAditya_2018-08-20_0111-0200_4.csv',\n",
       " 'common_fps/Aditya_annotations/2018-08-19/common_fps_video_syncAditya_2018-08-20_0111-0200_158.csv',\n",
       " 'common_fps/Aditya_annotations/2018-08-19/common_fps_video_syncAditya_2018-08-20_0111-0200_149.csv',\n",
       " 'common_fps/Aditya_annotations/2018-08-19/common_fps_video_syncAditya_2018-08-20_0111-0200_69.csv',\n",
       " 'common_fps/Aditya_annotations/2018-08-19/common_fps_video_syncAditya_2018-08-20_0111-0200_47.csv',\n",
       " 'common_fps/Aditya_annotations/2018-08-19/common_fps_video_syncAditya_2018-08-20_0111-0200_71.csv',\n",
       " 'common_fps/Aditya_annotations/2018-08-19/common_fps_video_syncAditya_2018-08-20_0111-0200_44.csv',\n",
       " 'common_fps/Aditya_annotations/2018-08-19/common_fps_video_syncAditya_2018-08-20_0111-0200_100.csv',\n",
       " 'common_fps/Aditya_annotations/2018-08-19/common_fps_video_syncAditya_2018-08-20_0111-0200_55.csv',\n",
       " 'common_fps/Aditya_annotations/2018-08-19/common_fps_video_syncAditya_2018-08-20_0111-0200_131.csv',\n",
       " 'common_fps/Aditya_annotations/2018-08-19/common_fps_video_syncAditya_2018-08-20_0111-0200_63.csv',\n",
       " 'common_fps/Aditya_annotations/2018-08-19/common_fps_video_syncAditya_2018-08-20_0111-0200_112.csv',\n",
       " 'common_fps/Aditya_annotations/2018-08-19/common_fps_video_syncAditya_2018-08-20_0111-0200_148.csv',\n",
       " 'common_fps/Aditya_annotations/2018-08-19/common_fps_video_syncAditya_2018-08-20_0111-0200_157.csv',\n",
       " 'common_fps/Aditya_annotations/2018-08-19/common_fps_video_syncAditya_2018-08-20_0111-0200_152.csv',\n",
       " 'common_fps/Aditya_annotations/2018-08-19/common_fps_video_syncAditya_2018-08-20_0111-0200_39.csv',\n",
       " 'common_fps/Aditya_annotations/2018-08-19/common_fps_video_syncAditya_2018-08-20_0111-0200_115.csv',\n",
       " 'common_fps/Aditya_annotations/2018-08-19/common_fps_video_syncAditya_2018-08-20_0111-0200_156.csv',\n",
       " 'common_fps/Aditya_annotations/2018-08-19/common_fps_video_syncAditya_2018-08-20_0111-0200_135.csv',\n",
       " 'common_fps/Aditya_annotations/2018-08-19/common_fps_video_syncAditya_2018-08-20_0111-0200_102.csv',\n",
       " 'common_fps/Aditya_annotations/2018-08-19/common_fps_video_syncAditya_2018-08-20_0111-0200_129.csv',\n",
       " 'common_fps/Aditya_annotations/2018-08-19/common_fps_video_syncAditya_2018-08-20_0111-0200_116.csv',\n",
       " 'common_fps/Aditya_annotations/2018-08-19/common_fps_video_syncAditya_2018-08-20_0111-0200_33.csv',\n",
       " 'common_fps/Aditya_annotations/2018-08-19/common_fps_video_syncAditya_2018-08-20_0111-0200_77.csv',\n",
       " 'common_fps/Aditya_annotations/2018-08-19/common_fps_video_syncAditya_2018-08-20_0111-0200_91.csv',\n",
       " 'common_fps/Aditya_annotations/2018-08-19/common_fps_video_syncAditya_2018-08-20_0111-0200_104.csv',\n",
       " 'common_fps/Aditya_annotations/2018-08-19/common_fps_video_syncAditya_2018-08-20_0111-0200_66.csv',\n",
       " 'common_fps/Aditya_annotations/2018-08-19/common_fps_video_syncAditya_2018-08-20_0111-0200_45.csv',\n",
       " 'common_fps/Aditya_annotations/2018-08-19/common_fps_video_syncAditya_2018-08-20_0111-0200_62.csv',\n",
       " 'common_fps/Aditya_annotations/2018-08-19/common_fps_video_syncAditya_2018-08-20_0111-0200_160.csv',\n",
       " 'common_fps/Aditya_annotations/2018-08-19/common_fps_video_syncAditya_2018-08-20_0111-0200_94.csv',\n",
       " 'common_fps/Aditya_annotations/2018-08-19/common_fps_video_syncAditya_2018-08-20_0111-0200_51.csv',\n",
       " 'common_fps/Aditya_annotations/2018-08-19/common_fps_video_syncAditya_2018-08-20_0111-0200_137.csv',\n",
       " 'common_fps/Aditya_annotations/2018-08-19/common_fps_video_syncAditya_2018-08-20_0111-0200_113.csv',\n",
       " 'common_fps/Aditya_annotations/2018-08-19/common_fps_video_syncAditya_2018-08-20_0111-0200_52.csv',\n",
       " 'common_fps/Aditya_annotations/2018-08-19/common_fps_video_syncAditya_2018-08-20_0111-0200_5.csv',\n",
       " 'common_fps/Aditya_annotations/2018-08-19/common_fps_video_syncAditya_2018-08-20_0111-0200_144.csv',\n",
       " 'common_fps/Aditya_annotations/2018-08-19/common_fps_video_syncAditya_2018-08-20_0111-0200_35.csv',\n",
       " 'common_fps/Aditya_annotations/2018-08-19/common_fps_video_syncAditya_2018-08-20_0111-0200_125.csv',\n",
       " 'common_fps/Aditya_annotations/2018-08-19/common_fps_video_syncAditya_2018-08-20_0111-0200_134.csv',\n",
       " 'common_fps/Aditya_annotations/2018-08-19/common_fps_video_syncAditya_2018-08-20_0111-0200_145.csv',\n",
       " 'common_fps/Aditya_annotations/2018-08-19/common_fps_video_syncAditya_2018-08-20_0111-0200_132.csv',\n",
       " 'common_fps/Aditya_annotations/2018-08-19/common_fps_video_syncAditya_2018-08-20_0111-0200_126.csv',\n",
       " 'common_fps/Aditya_annotations/2018-08-19/common_fps_video_syncAditya_2018-08-20_0111-0200_99.csv',\n",
       " 'common_fps/Aditya_annotations/2018-08-19/common_fps_video_syncAditya_2018-08-20_0111-0200_120.csv',\n",
       " 'common_fps/Aditya_annotations/2018-08-19/common_fps_video_syncAditya_2018-08-20_0111-0200_34.csv',\n",
       " 'common_fps/Aditya_annotations/2018-08-19/common_fps_video_syncAditya_2018-08-20_0111-0200_50.csv',\n",
       " 'common_fps/Aditya_annotations/2018-08-19/common_fps_video_syncAditya_2018-08-20_0111-0200_37.csv',\n",
       " 'common_fps/Aditya_annotations/2018-08-19/common_fps_video_syncAditya_2018-08-20_0111-0200_150.csv',\n",
       " 'common_fps/Aditya_annotations/2018-08-19/common_fps_video_syncAditya_2018-08-20_0111-0200_68.csv',\n",
       " 'common_fps/Aditya_annotations/2018-08-19/common_fps_video_syncAditya_2018-08-20_0111-0200_73.csv',\n",
       " 'common_fps/Aditya_annotations/2018-08-19/common_fps_video_syncAditya_2018-08-20_0111-0200_119.csv',\n",
       " 'common_fps/Aditya_annotations/2018-08-19/common_fps_video_syncAditya_2018-08-20_0111-0200_96.csv',\n",
       " 'common_fps/Aditya_annotations/2018-08-19/common_fps_video_syncAditya_2018-08-20_0111-0200_122.csv',\n",
       " 'common_fps/Aditya_annotations/2018-08-19/common_fps_video_syncAditya_2018-08-20_0111-0200_54.csv',\n",
       " 'common_fps/Aditya_annotations/2018-08-19/common_fps_video_syncAditya_2018-08-20_0111-0200_11.csv',\n",
       " 'common_fps/Aditya_annotations/2018-08-19/common_fps_video_syncAditya_2018-08-20_0111-0200_64.csv',\n",
       " 'common_fps/Aditya_annotations/2018-08-19/common_fps_video_syncAditya_2018-08-20_0111-0200_2.csv',\n",
       " 'common_fps/Aditya_annotations/2018-08-19/common_fps_video_syncAditya_2018-08-20_0111-0200_123.csv',\n",
       " 'common_fps/Aditya_annotations/2018-08-19/common_fps_video_syncAditya_2018-08-20_0111-0200_40.csv',\n",
       " 'common_fps/Aditya_annotations/2018-08-19/common_fps_video_syncAditya_2018-08-20_0111-0200_7.csv',\n",
       " 'common_fps/Aditya_annotations/2018-08-19/common_fps_video_syncAditya_2018-08-20_0111-0200_97.csv',\n",
       " 'common_fps/Aditya_annotations/2018-08-19/common_fps_video_syncAditya_2018-08-20_0111-0200_136.csv']"
      ]
     },
     "execution_count": 17,
     "metadata": {},
     "output_type": "execute_result"
    }
   ],
   "source": [
    "all_commonfps"
   ]
  },
  {
   "cell_type": "code",
   "execution_count": 18,
   "metadata": {},
   "outputs": [
    {
     "data": {
      "text/plain": [
       "'/media/tbeleyur/THEJASVI_DATA_BACKUP_3/fieldwork_2018_002/horseshoe_bat/audio_non_spikey/2018-08-19/ch1/'"
      ]
     },
     "execution_count": 18,
     "metadata": {},
     "output_type": "execute_result"
    }
   ],
   "source": [
    "audio_folder"
   ]
  },
  {
   "cell_type": "code",
   "execution_count": 19,
   "metadata": {},
   "outputs": [
    {
     "data": {
      "text/plain": [
       "88"
      ]
     },
     "execution_count": 19,
     "metadata": {},
     "output_type": "execute_result"
    }
   ],
   "source": [
    "len(all_commonfps)"
   ]
  },
  {
   "cell_type": "code",
   "execution_count": 20,
   "metadata": {
    "scrolled": true
   },
   "outputs": [
    {
     "data": {
      "text/plain": [
       "['common_fps/Aditya_annotations/2018-08-19/common_fps_video_syncAditya_2018-08-20_0111-0200_2.csv',\n",
       " 'common_fps/Aditya_annotations/2018-08-19/common_fps_video_syncAditya_2018-08-20_0111-0200_4.csv',\n",
       " 'common_fps/Aditya_annotations/2018-08-19/common_fps_video_syncAditya_2018-08-20_0111-0200_5.csv',\n",
       " 'common_fps/Aditya_annotations/2018-08-19/common_fps_video_syncAditya_2018-08-20_0111-0200_7.csv',\n",
       " 'common_fps/Aditya_annotations/2018-08-19/common_fps_video_syncAditya_2018-08-20_0111-0200_9.csv',\n",
       " 'common_fps/Aditya_annotations/2018-08-19/common_fps_video_syncAditya_2018-08-20_0111-0200_11.csv',\n",
       " 'common_fps/Aditya_annotations/2018-08-19/common_fps_video_syncAditya_2018-08-20_0111-0200_33.csv',\n",
       " 'common_fps/Aditya_annotations/2018-08-19/common_fps_video_syncAditya_2018-08-20_0111-0200_34.csv',\n",
       " 'common_fps/Aditya_annotations/2018-08-19/common_fps_video_syncAditya_2018-08-20_0111-0200_35.csv',\n",
       " 'common_fps/Aditya_annotations/2018-08-19/common_fps_video_syncAditya_2018-08-20_0111-0200_36.csv',\n",
       " 'common_fps/Aditya_annotations/2018-08-19/common_fps_video_syncAditya_2018-08-20_0111-0200_37.csv',\n",
       " 'common_fps/Aditya_annotations/2018-08-19/common_fps_video_syncAditya_2018-08-20_0111-0200_38.csv',\n",
       " 'common_fps/Aditya_annotations/2018-08-19/common_fps_video_syncAditya_2018-08-20_0111-0200_39.csv',\n",
       " 'common_fps/Aditya_annotations/2018-08-19/common_fps_video_syncAditya_2018-08-20_0111-0200_40.csv',\n",
       " 'common_fps/Aditya_annotations/2018-08-19/common_fps_video_syncAditya_2018-08-20_0111-0200_42.csv',\n",
       " 'common_fps/Aditya_annotations/2018-08-19/common_fps_video_syncAditya_2018-08-20_0111-0200_43.csv',\n",
       " 'common_fps/Aditya_annotations/2018-08-19/common_fps_video_syncAditya_2018-08-20_0111-0200_44.csv',\n",
       " 'common_fps/Aditya_annotations/2018-08-19/common_fps_video_syncAditya_2018-08-20_0111-0200_45.csv',\n",
       " 'common_fps/Aditya_annotations/2018-08-19/common_fps_video_syncAditya_2018-08-20_0111-0200_47.csv',\n",
       " 'common_fps/Aditya_annotations/2018-08-19/common_fps_video_syncAditya_2018-08-20_0111-0200_49.csv',\n",
       " 'common_fps/Aditya_annotations/2018-08-19/common_fps_video_syncAditya_2018-08-20_0111-0200_50.csv',\n",
       " 'common_fps/Aditya_annotations/2018-08-19/common_fps_video_syncAditya_2018-08-20_0111-0200_51.csv',\n",
       " 'common_fps/Aditya_annotations/2018-08-19/common_fps_video_syncAditya_2018-08-20_0111-0200_52.csv',\n",
       " 'common_fps/Aditya_annotations/2018-08-19/common_fps_video_syncAditya_2018-08-20_0111-0200_53.csv',\n",
       " 'common_fps/Aditya_annotations/2018-08-19/common_fps_video_syncAditya_2018-08-20_0111-0200_54.csv',\n",
       " 'common_fps/Aditya_annotations/2018-08-19/common_fps_video_syncAditya_2018-08-20_0111-0200_55.csv',\n",
       " 'common_fps/Aditya_annotations/2018-08-19/common_fps_video_syncAditya_2018-08-20_0111-0200_56.csv',\n",
       " 'common_fps/Aditya_annotations/2018-08-19/common_fps_video_syncAditya_2018-08-20_0111-0200_60.csv',\n",
       " 'common_fps/Aditya_annotations/2018-08-19/common_fps_video_syncAditya_2018-08-20_0111-0200_61.csv',\n",
       " 'common_fps/Aditya_annotations/2018-08-19/common_fps_video_syncAditya_2018-08-20_0111-0200_62.csv',\n",
       " 'common_fps/Aditya_annotations/2018-08-19/common_fps_video_syncAditya_2018-08-20_0111-0200_63.csv',\n",
       " 'common_fps/Aditya_annotations/2018-08-19/common_fps_video_syncAditya_2018-08-20_0111-0200_64.csv',\n",
       " 'common_fps/Aditya_annotations/2018-08-19/common_fps_video_syncAditya_2018-08-20_0111-0200_65.csv',\n",
       " 'common_fps/Aditya_annotations/2018-08-19/common_fps_video_syncAditya_2018-08-20_0111-0200_66.csv',\n",
       " 'common_fps/Aditya_annotations/2018-08-19/common_fps_video_syncAditya_2018-08-20_0111-0200_68.csv',\n",
       " 'common_fps/Aditya_annotations/2018-08-19/common_fps_video_syncAditya_2018-08-20_0111-0200_69.csv',\n",
       " 'common_fps/Aditya_annotations/2018-08-19/common_fps_video_syncAditya_2018-08-20_0111-0200_70.csv',\n",
       " 'common_fps/Aditya_annotations/2018-08-19/common_fps_video_syncAditya_2018-08-20_0111-0200_71.csv',\n",
       " 'common_fps/Aditya_annotations/2018-08-19/common_fps_video_syncAditya_2018-08-20_0111-0200_72.csv',\n",
       " 'common_fps/Aditya_annotations/2018-08-19/common_fps_video_syncAditya_2018-08-20_0111-0200_73.csv',\n",
       " 'common_fps/Aditya_annotations/2018-08-19/common_fps_video_syncAditya_2018-08-20_0111-0200_74.csv',\n",
       " 'common_fps/Aditya_annotations/2018-08-19/common_fps_video_syncAditya_2018-08-20_0111-0200_76.csv',\n",
       " 'common_fps/Aditya_annotations/2018-08-19/common_fps_video_syncAditya_2018-08-20_0111-0200_77.csv',\n",
       " 'common_fps/Aditya_annotations/2018-08-19/common_fps_video_syncAditya_2018-08-20_0111-0200_91.csv',\n",
       " 'common_fps/Aditya_annotations/2018-08-19/common_fps_video_syncAditya_2018-08-20_0111-0200_93.csv',\n",
       " 'common_fps/Aditya_annotations/2018-08-19/common_fps_video_syncAditya_2018-08-20_0111-0200_94.csv',\n",
       " 'common_fps/Aditya_annotations/2018-08-19/common_fps_video_syncAditya_2018-08-20_0111-0200_95.csv',\n",
       " 'common_fps/Aditya_annotations/2018-08-19/common_fps_video_syncAditya_2018-08-20_0111-0200_96.csv',\n",
       " 'common_fps/Aditya_annotations/2018-08-19/common_fps_video_syncAditya_2018-08-20_0111-0200_97.csv',\n",
       " 'common_fps/Aditya_annotations/2018-08-19/common_fps_video_syncAditya_2018-08-20_0111-0200_99.csv',\n",
       " 'common_fps/Aditya_annotations/2018-08-19/common_fps_video_syncAditya_2018-08-20_0111-0200_100.csv',\n",
       " 'common_fps/Aditya_annotations/2018-08-19/common_fps_video_syncAditya_2018-08-20_0111-0200_101.csv',\n",
       " 'common_fps/Aditya_annotations/2018-08-19/common_fps_video_syncAditya_2018-08-20_0111-0200_102.csv',\n",
       " 'common_fps/Aditya_annotations/2018-08-19/common_fps_video_syncAditya_2018-08-20_0111-0200_103.csv',\n",
       " 'common_fps/Aditya_annotations/2018-08-19/common_fps_video_syncAditya_2018-08-20_0111-0200_104.csv',\n",
       " 'common_fps/Aditya_annotations/2018-08-19/common_fps_video_syncAditya_2018-08-20_0111-0200_111.csv',\n",
       " 'common_fps/Aditya_annotations/2018-08-19/common_fps_video_syncAditya_2018-08-20_0111-0200_112.csv',\n",
       " 'common_fps/Aditya_annotations/2018-08-19/common_fps_video_syncAditya_2018-08-20_0111-0200_113.csv',\n",
       " 'common_fps/Aditya_annotations/2018-08-19/common_fps_video_syncAditya_2018-08-20_0111-0200_114.csv',\n",
       " 'common_fps/Aditya_annotations/2018-08-19/common_fps_video_syncAditya_2018-08-20_0111-0200_115.csv',\n",
       " 'common_fps/Aditya_annotations/2018-08-19/common_fps_video_syncAditya_2018-08-20_0111-0200_116.csv',\n",
       " 'common_fps/Aditya_annotations/2018-08-19/common_fps_video_syncAditya_2018-08-20_0111-0200_118.csv',\n",
       " 'common_fps/Aditya_annotations/2018-08-19/common_fps_video_syncAditya_2018-08-20_0111-0200_119.csv',\n",
       " 'common_fps/Aditya_annotations/2018-08-19/common_fps_video_syncAditya_2018-08-20_0111-0200_120.csv',\n",
       " 'common_fps/Aditya_annotations/2018-08-19/common_fps_video_syncAditya_2018-08-20_0111-0200_122.csv',\n",
       " 'common_fps/Aditya_annotations/2018-08-19/common_fps_video_syncAditya_2018-08-20_0111-0200_123.csv',\n",
       " 'common_fps/Aditya_annotations/2018-08-19/common_fps_video_syncAditya_2018-08-20_0111-0200_125.csv',\n",
       " 'common_fps/Aditya_annotations/2018-08-19/common_fps_video_syncAditya_2018-08-20_0111-0200_126.csv',\n",
       " 'common_fps/Aditya_annotations/2018-08-19/common_fps_video_syncAditya_2018-08-20_0111-0200_129.csv',\n",
       " 'common_fps/Aditya_annotations/2018-08-19/common_fps_video_syncAditya_2018-08-20_0111-0200_131.csv',\n",
       " 'common_fps/Aditya_annotations/2018-08-19/common_fps_video_syncAditya_2018-08-20_0111-0200_132.csv',\n",
       " 'common_fps/Aditya_annotations/2018-08-19/common_fps_video_syncAditya_2018-08-20_0111-0200_133.csv',\n",
       " 'common_fps/Aditya_annotations/2018-08-19/common_fps_video_syncAditya_2018-08-20_0111-0200_134.csv',\n",
       " 'common_fps/Aditya_annotations/2018-08-19/common_fps_video_syncAditya_2018-08-20_0111-0200_135.csv',\n",
       " 'common_fps/Aditya_annotations/2018-08-19/common_fps_video_syncAditya_2018-08-20_0111-0200_136.csv',\n",
       " 'common_fps/Aditya_annotations/2018-08-19/common_fps_video_syncAditya_2018-08-20_0111-0200_137.csv',\n",
       " 'common_fps/Aditya_annotations/2018-08-19/common_fps_video_syncAditya_2018-08-20_0111-0200_142.csv',\n",
       " 'common_fps/Aditya_annotations/2018-08-19/common_fps_video_syncAditya_2018-08-20_0111-0200_144.csv',\n",
       " 'common_fps/Aditya_annotations/2018-08-19/common_fps_video_syncAditya_2018-08-20_0111-0200_145.csv',\n",
       " 'common_fps/Aditya_annotations/2018-08-19/common_fps_video_syncAditya_2018-08-20_0111-0200_148.csv',\n",
       " 'common_fps/Aditya_annotations/2018-08-19/common_fps_video_syncAditya_2018-08-20_0111-0200_149.csv',\n",
       " 'common_fps/Aditya_annotations/2018-08-19/common_fps_video_syncAditya_2018-08-20_0111-0200_150.csv',\n",
       " 'common_fps/Aditya_annotations/2018-08-19/common_fps_video_syncAditya_2018-08-20_0111-0200_152.csv',\n",
       " 'common_fps/Aditya_annotations/2018-08-19/common_fps_video_syncAditya_2018-08-20_0111-0200_155.csv',\n",
       " 'common_fps/Aditya_annotations/2018-08-19/common_fps_video_syncAditya_2018-08-20_0111-0200_156.csv',\n",
       " 'common_fps/Aditya_annotations/2018-08-19/common_fps_video_syncAditya_2018-08-20_0111-0200_157.csv',\n",
       " 'common_fps/Aditya_annotations/2018-08-19/common_fps_video_syncAditya_2018-08-20_0111-0200_158.csv',\n",
       " 'common_fps/Aditya_annotations/2018-08-19/common_fps_video_syncAditya_2018-08-20_0111-0200_160.csv']"
      ]
     },
     "execution_count": 20,
     "metadata": {},
     "output_type": "execute_result"
    }
   ],
   "source": [
    "natsort.natsorted(all_commonfps)"
   ]
  },
  {
   "cell_type": "markdown",
   "metadata": {},
   "source": [
    "### A slight change in how annotations are matched to audio. \n"
   ]
  },
  {
   "cell_type": "code",
   "execution_count": 21,
   "metadata": {},
   "outputs": [],
   "source": [
    "sorted_commonfps = natsort.natsorted(all_commonfps)\n",
    "\n",
    "common_fps_chunks = np.array_split(np.array(sorted_commonfps),4) # split the commonfps files into 10 minutes bins\n"
   ]
  },
  {
   "cell_type": "code",
   "execution_count": 22,
   "metadata": {},
   "outputs": [
    {
     "name": "stdout",
     "output_type": "stream",
     "text": [
      "common_fps/Aditya_annotations/2018-08-19/common_fps_video_syncAditya_2018-08-20_0111-0200_2.csv,....common_fps/Aditya_annotations/2018-08-19/common_fps_video_syncAditya_2018-08-20_0111-0200_51.csv\n",
      "\n",
      "start: 2018-08-20 01:25:47....End:2018-08-20 01:38:43\n",
      "\n",
      "\n",
      "common_fps/Aditya_annotations/2018-08-19/common_fps_video_syncAditya_2018-08-20_0111-0200_52.csv,....common_fps/Aditya_annotations/2018-08-19/common_fps_video_syncAditya_2018-08-20_0111-0200_91.csv\n",
      "\n",
      "start: 2018-08-20 01:37:59....End:2018-08-20 01:40:41\n",
      "\n",
      "\n",
      "common_fps/Aditya_annotations/2018-08-19/common_fps_video_syncAditya_2018-08-20_0111-0200_93.csv,....common_fps/Aditya_annotations/2018-08-19/common_fps_video_syncAditya_2018-08-20_0111-0200_123.csv\n",
      "\n",
      "start: 2018-08-20 01:40:07....End:2018-08-20 01:49:15\n",
      "\n",
      "\n",
      "common_fps/Aditya_annotations/2018-08-19/common_fps_video_syncAditya_2018-08-20_0111-0200_125.csv,....common_fps/Aditya_annotations/2018-08-19/common_fps_video_syncAditya_2018-08-20_0111-0200_160.csv\n",
      "\n",
      "start: 2018-08-20 01:48:36....End:2018-08-20 01:59:16\n",
      "\n",
      "\n"
     ]
    }
   ],
   "source": [
    "# get annotation number of first and last annoration for each chunks\n",
    "for each in common_fps_chunks:\n",
    "    print(each[0] + ',....' + each[-1] +'\\n' )\n",
    "    first_annot = pd.read_csv(each[0])['timestamp_verified'][0]\n",
    "    last_annot = pd.read_csv(each[-1])['timestamp_verified']\n",
    "    print('start: '+first_annot+\n",
    "          '....End:'+last_annot[last_annot.shape[0]-1]+ '\\n'+'\\n')"
   ]
  },
  {
   "cell_type": "code",
   "execution_count": 23,
   "metadata": {},
   "outputs": [],
   "source": [
    "file_ranges_for_chunks = [('non_spikey_T0000001','non_spikey_T0000020'),\n",
    "                          ('non_spikey_T0000010','non_spikey_T0000025'),\n",
    "                          ('non_spikey_T0000010','non_spikey_T0000030'),\n",
    "                          ('non_spikey_T0000020','non_spikey_T0000040'),] # the corresponding audio file range for each 10 minute bin\n"
   ]
  },
  {
   "cell_type": "code",
   "execution_count": 25,
   "metadata": {
    "scrolled": true
   },
   "outputs": [
    {
     "name": "stdout",
     "output_type": "stream",
     "text": [
      "common_fps/Aditya_annotations/2018-08-19/common_fps_video_syncAditya_2018-08-20_0111-0200_2.csv\n",
      "('video_fps obtained is :', 25)\n",
      "Did not find user-provided sample rate - getting it from first file that matches format!\n",
      "('sampling rate is : ', 250000)\n",
      ".....finding best audio segment.....\n"
     ]
    },
    {
     "name": "stderr",
     "output_type": "stream",
     "text": [
      "\r",
      "  0%|          | 0/19 [00:00<?, ?it/s]"
     ]
    },
    {
     "name": "stdout",
     "output_type": "stream",
     "text": [
      "('max mins for upsampled video', -0.5100592815773753, 1.0)\n",
      "('max mins', -1.0, 0.9711352874397832)\n"
     ]
    },
    {
     "name": "stderr",
     "output_type": "stream",
     "text": [
      "/home/tbeleyur/anaconda2/envs/horseshoebat/lib/python2.7/site-packages/scipy/signal/signaltools.py:491: FutureWarning: Using a non-tuple sequence for multidimensional indexing is deprecated; use `arr[tuple(seq)]` instead of `arr[seq]`. In the future this will be interpreted as an array index, `arr[np.array(seq)]`, which will result either in an error or a different result.\n",
      "  return x[reverse].conj()\n",
      "  5%|▌         | 1/19 [00:13<04:09, 13.87s/it]"
     ]
    },
    {
     "name": "stdout",
     "output_type": "stream",
     "text": [
      "('max mins', -0.9771084664316616, 1.0)\n"
     ]
    },
    {
     "name": "stderr",
     "output_type": "stream",
     "text": [
      "\r",
      " 11%|█         | 2/19 [00:23<03:34, 12.63s/it]"
     ]
    },
    {
     "name": "stdout",
     "output_type": "stream",
     "text": [
      "('max mins', -0.9627106086984951, 1.0)\n"
     ]
    },
    {
     "name": "stderr",
     "output_type": "stream",
     "text": [
      "\r",
      " 16%|█▌        | 3/19 [00:33<03:07, 11.75s/it]"
     ]
    },
    {
     "name": "stdout",
     "output_type": "stream",
     "text": [
      "('max mins', -0.9589112402803294, 1.0)\n"
     ]
    },
    {
     "name": "stderr",
     "output_type": "stream",
     "text": [
      "\r",
      " 21%|██        | 4/19 [00:43<02:48, 11.26s/it]"
     ]
    },
    {
     "name": "stdout",
     "output_type": "stream",
     "text": [
      "('max mins', -0.9209354173005149, 1.0)\n"
     ]
    },
    {
     "name": "stderr",
     "output_type": "stream",
     "text": [
      "\r",
      " 26%|██▋       | 5/19 [00:54<02:36, 11.14s/it]"
     ]
    },
    {
     "name": "stdout",
     "output_type": "stream",
     "text": [
      "('max mins', -0.9402689997179013, 1.0)\n"
     ]
    },
    {
     "name": "stderr",
     "output_type": "stream",
     "text": [
      "\r",
      " 32%|███▏      | 6/19 [01:03<02:16, 10.47s/it]"
     ]
    },
    {
     "name": "stdout",
     "output_type": "stream",
     "text": [
      "('max mins', -0.9554307157828478, 1.0)\n"
     ]
    },
    {
     "name": "stderr",
     "output_type": "stream",
     "text": [
      "\r",
      " 37%|███▋      | 7/19 [01:12<02:01, 10.13s/it]"
     ]
    },
    {
     "name": "stdout",
     "output_type": "stream",
     "text": [
      "('max mins', -1.0, 0.9896982833853051)\n"
     ]
    },
    {
     "name": "stderr",
     "output_type": "stream",
     "text": [
      "\r",
      " 42%|████▏     | 8/19 [01:23<01:53, 10.31s/it]"
     ]
    },
    {
     "name": "stdout",
     "output_type": "stream",
     "text": [
      "('max mins', -0.9770317631352243, 1.0)\n"
     ]
    },
    {
     "name": "stderr",
     "output_type": "stream",
     "text": [
      "\r",
      " 47%|████▋     | 9/19 [01:33<01:44, 10.43s/it]"
     ]
    },
    {
     "name": "stdout",
     "output_type": "stream",
     "text": [
      "('max mins', -0.9604330112349305, 1.0)\n"
     ]
    },
    {
     "name": "stderr",
     "output_type": "stream",
     "text": [
      "\r",
      " 53%|█████▎    | 10/19 [01:44<01:35, 10.57s/it]"
     ]
    },
    {
     "name": "stdout",
     "output_type": "stream",
     "text": [
      "('max mins', -1.0, 0.9813355482916202)\n"
     ]
    },
    {
     "name": "stderr",
     "output_type": "stream",
     "text": [
      "\r",
      " 58%|█████▊    | 11/19 [01:54<01:22, 10.26s/it]"
     ]
    },
    {
     "name": "stdout",
     "output_type": "stream",
     "text": [
      "('max mins', -1.0, 0.9916817204346738)\n"
     ]
    },
    {
     "name": "stderr",
     "output_type": "stream",
     "text": [
      "\r",
      " 63%|██████▎   | 12/19 [02:03<01:09,  9.88s/it]"
     ]
    },
    {
     "name": "stdout",
     "output_type": "stream",
     "text": [
      "('max mins', -1.0, 0.9832754746981707)\n"
     ]
    },
    {
     "name": "stderr",
     "output_type": "stream",
     "text": [
      "\r",
      " 68%|██████▊   | 13/19 [02:12<00:57,  9.55s/it]"
     ]
    },
    {
     "name": "stdout",
     "output_type": "stream",
     "text": [
      "('max mins', -1.0, 0.9966273079495607)\n"
     ]
    },
    {
     "name": "stderr",
     "output_type": "stream",
     "text": [
      "\r",
      " 74%|███████▎  | 14/19 [02:20<00:46,  9.33s/it]"
     ]
    },
    {
     "name": "stdout",
     "output_type": "stream",
     "text": [
      "('max mins', -1.0, 0.9947318403602488)\n"
     ]
    },
    {
     "name": "stderr",
     "output_type": "stream",
     "text": [
      "\r",
      " 79%|███████▉  | 15/19 [02:29<00:36,  9.15s/it]"
     ]
    },
    {
     "name": "stdout",
     "output_type": "stream",
     "text": [
      "('max mins', -0.9679249511255772, 1.0)\n"
     ]
    },
    {
     "name": "stderr",
     "output_type": "stream",
     "text": [
      "\r",
      " 84%|████████▍ | 16/19 [02:38<00:27,  9.02s/it]"
     ]
    },
    {
     "name": "stdout",
     "output_type": "stream",
     "text": [
      "('max mins', -0.9414557285434305, 1.0)\n"
     ]
    },
    {
     "name": "stderr",
     "output_type": "stream",
     "text": [
      "\r",
      " 89%|████████▉ | 17/19 [02:47<00:17,  8.96s/it]"
     ]
    },
    {
     "name": "stdout",
     "output_type": "stream",
     "text": [
      "('max mins', -0.9536997290119662, 1.0)\n"
     ]
    },
    {
     "name": "stderr",
     "output_type": "stream",
     "text": [
      "\r",
      " 95%|█████████▍| 18/19 [02:55<00:08,  8.88s/it]"
     ]
    },
    {
     "name": "stdout",
     "output_type": "stream",
     "text": [
      "('max mins', -0.963978928481249, 1.0)\n"
     ]
    },
    {
     "name": "stderr",
     "output_type": "stream",
     "text": [
      "100%|██████████| 19/19 [03:04<00:00,  8.84s/it]\n"
     ]
    },
    {
     "name": "stdout",
     "output_type": "stream",
     "text": [
      "('Best file pairs are: ', 'non_spikey_T0000019.WAV*non_spikey_T0000020.WAV')\n",
      "Start and end indices around peak:                  start index: 1183308\t\t          end index: 12683308                  total samples:30015488\n"
     ]
    },
    {
     "name": "stderr",
     "output_type": "stream",
     "text": [
      "../../../bin/audio_for_videoannotation.py:175: UserWarning: The AV sync may not be very great - please check again. The value was :0.14377230640716124\n",
      "  warnings.warn(warning_msg, stacklevel=1)\n"
     ]
    },
    {
     "name": "stdout",
     "output_type": "stream",
     "text": [
      "common_fps/Aditya_annotations/2018-08-19/common_fps_video_syncAditya_2018-08-20_0111-0200_4.csv\n",
      "('video_fps obtained is :', 25)\n",
      "Did not find user-provided sample rate - getting it from first file that matches format!\n",
      "('sampling rate is : ', 250000)\n",
      ".....finding best audio segment.....\n"
     ]
    },
    {
     "name": "stderr",
     "output_type": "stream",
     "text": [
      "\r",
      "  0%|          | 0/19 [00:00<?, ?it/s]"
     ]
    },
    {
     "name": "stdout",
     "output_type": "stream",
     "text": [
      "('max mins for upsampled video', -0.166565721463379, 1.0)\n",
      "('max mins', -1.0, 0.9711352874397832)\n"
     ]
    },
    {
     "name": "stderr",
     "output_type": "stream",
     "text": [
      "\r",
      "  5%|▌         | 1/19 [00:08<02:41,  8.98s/it]"
     ]
    },
    {
     "name": "stdout",
     "output_type": "stream",
     "text": [
      "('max mins', -0.9771084664316616, 1.0)\n"
     ]
    },
    {
     "name": "stderr",
     "output_type": "stream",
     "text": [
      "\r",
      " 11%|█         | 2/19 [00:13<02:09,  7.64s/it]"
     ]
    },
    {
     "name": "stdout",
     "output_type": "stream",
     "text": [
      "('max mins', -0.9627106086984951, 1.0)\n"
     ]
    },
    {
     "name": "stderr",
     "output_type": "stream",
     "text": [
      "\r",
      " 16%|█▌        | 3/19 [00:17<01:46,  6.68s/it]"
     ]
    },
    {
     "name": "stdout",
     "output_type": "stream",
     "text": [
      "('max mins', -0.9589112402803294, 1.0)\n"
     ]
    },
    {
     "name": "stderr",
     "output_type": "stream",
     "text": [
      "\r",
      " 21%|██        | 4/19 [00:22<01:29,  6.00s/it]"
     ]
    },
    {
     "name": "stdout",
     "output_type": "stream",
     "text": [
      "('max mins', -0.9209354173005149, 1.0)\n"
     ]
    },
    {
     "name": "stderr",
     "output_type": "stream",
     "text": [
      "\r",
      " 26%|██▋       | 5/19 [00:26<01:17,  5.52s/it]"
     ]
    },
    {
     "name": "stdout",
     "output_type": "stream",
     "text": [
      "('max mins', -0.9402689997179013, 1.0)\n"
     ]
    },
    {
     "name": "stderr",
     "output_type": "stream",
     "text": [
      "\r",
      " 32%|███▏      | 6/19 [00:31<01:07,  5.19s/it]"
     ]
    },
    {
     "name": "stdout",
     "output_type": "stream",
     "text": [
      "('max mins', -0.9554307157828478, 1.0)\n"
     ]
    },
    {
     "name": "stderr",
     "output_type": "stream",
     "text": [
      "\r",
      " 37%|███▋      | 7/19 [00:35<00:59,  4.97s/it]"
     ]
    },
    {
     "name": "stdout",
     "output_type": "stream",
     "text": [
      "('max mins', -1.0, 0.9896982833853051)\n"
     ]
    },
    {
     "name": "stderr",
     "output_type": "stream",
     "text": [
      "\r",
      " 42%|████▏     | 8/19 [00:40<00:52,  4.80s/it]"
     ]
    },
    {
     "name": "stdout",
     "output_type": "stream",
     "text": [
      "('max mins', -0.9770317631352243, 1.0)\n"
     ]
    },
    {
     "name": "stderr",
     "output_type": "stream",
     "text": [
      "\r",
      " 47%|████▋     | 9/19 [00:44<00:46,  4.69s/it]"
     ]
    },
    {
     "name": "stdout",
     "output_type": "stream",
     "text": [
      "('max mins', -0.9604330112349305, 1.0)\n"
     ]
    },
    {
     "name": "stderr",
     "output_type": "stream",
     "text": [
      "\r",
      " 53%|█████▎    | 10/19 [00:48<00:41,  4.61s/it]"
     ]
    },
    {
     "name": "stdout",
     "output_type": "stream",
     "text": [
      "('max mins', -1.0, 0.9813355482916202)\n"
     ]
    },
    {
     "name": "stderr",
     "output_type": "stream",
     "text": [
      "\r",
      " 58%|█████▊    | 11/19 [00:53<00:36,  4.56s/it]"
     ]
    },
    {
     "name": "stdout",
     "output_type": "stream",
     "text": [
      "('max mins', -1.0, 0.9916817204346738)\n"
     ]
    },
    {
     "name": "stderr",
     "output_type": "stream",
     "text": [
      "\r",
      " 63%|██████▎   | 12/19 [00:57<00:31,  4.52s/it]"
     ]
    },
    {
     "name": "stdout",
     "output_type": "stream",
     "text": [
      "('max mins', -1.0, 0.9832754746981707)\n"
     ]
    },
    {
     "name": "stderr",
     "output_type": "stream",
     "text": [
      "\r",
      " 68%|██████▊   | 13/19 [01:02<00:26,  4.49s/it]"
     ]
    },
    {
     "name": "stdout",
     "output_type": "stream",
     "text": [
      "('max mins', -1.0, 0.9966273079495607)\n"
     ]
    },
    {
     "name": "stderr",
     "output_type": "stream",
     "text": [
      "\r",
      " 74%|███████▎  | 14/19 [01:06<00:22,  4.47s/it]"
     ]
    },
    {
     "name": "stdout",
     "output_type": "stream",
     "text": [
      "('max mins', -1.0, 0.9947318403602488)\n"
     ]
    },
    {
     "name": "stderr",
     "output_type": "stream",
     "text": [
      "\r",
      " 79%|███████▉  | 15/19 [01:11<00:17,  4.46s/it]"
     ]
    },
    {
     "name": "stdout",
     "output_type": "stream",
     "text": [
      "('max mins', -0.9679249511255772, 1.0)\n"
     ]
    },
    {
     "name": "stderr",
     "output_type": "stream",
     "text": [
      "\r",
      " 84%|████████▍ | 16/19 [01:15<00:13,  4.45s/it]"
     ]
    },
    {
     "name": "stdout",
     "output_type": "stream",
     "text": [
      "('max mins', -0.9414557285434305, 1.0)\n"
     ]
    },
    {
     "name": "stderr",
     "output_type": "stream",
     "text": [
      "\r",
      " 89%|████████▉ | 17/19 [01:19<00:08,  4.44s/it]"
     ]
    },
    {
     "name": "stdout",
     "output_type": "stream",
     "text": [
      "('max mins', -0.9536997290119662, 1.0)\n"
     ]
    },
    {
     "name": "stderr",
     "output_type": "stream",
     "text": [
      "\r",
      " 95%|█████████▍| 18/19 [01:24<00:04,  4.43s/it]"
     ]
    },
    {
     "name": "stdout",
     "output_type": "stream",
     "text": [
      "('max mins', -0.963978928481249, 1.0)\n"
     ]
    },
    {
     "name": "stderr",
     "output_type": "stream",
     "text": [
      "100%|██████████| 19/19 [01:28<00:00,  4.43s/it]\n"
     ]
    },
    {
     "name": "stdout",
     "output_type": "stream",
     "text": [
      "('Best file pairs are: ', 'non_spikey_T0000001.WAV*non_spikey_T0000002.WAV')\n",
      "Start and end indices around peak:                  start index: 5868112\t\t          end index: 17368112                  total samples:30015776\n"
     ]
    },
    {
     "name": "stderr",
     "output_type": "stream",
     "text": [
      "../../../bin/audio_for_videoannotation.py:175: UserWarning: The AV sync may not be very great - please check again. The value was :0.1584734841569382\n",
      "  warnings.warn(warning_msg, stacklevel=1)\n"
     ]
    },
    {
     "name": "stdout",
     "output_type": "stream",
     "text": [
      "common_fps/Aditya_annotations/2018-08-19/common_fps_video_syncAditya_2018-08-20_0111-0200_5.csv\n",
      "('video_fps obtained is :', 25)\n",
      "Did not find user-provided sample rate - getting it from first file that matches format!\n",
      "('sampling rate is : ', 250000)\n",
      ".....finding best audio segment.....\n"
     ]
    },
    {
     "name": "stderr",
     "output_type": "stream",
     "text": [
      "\r",
      "  0%|          | 0/19 [00:00<?, ?it/s]"
     ]
    },
    {
     "name": "stdout",
     "output_type": "stream",
     "text": [
      "('max mins for upsampled video', -0.2892619751672964, 1.0)\n",
      "('max mins', -1.0, 0.9711352874397832)\n"
     ]
    },
    {
     "name": "stderr",
     "output_type": "stream",
     "text": [
      "\r",
      "  5%|▌         | 1/19 [00:04<01:19,  4.42s/it]"
     ]
    },
    {
     "name": "stdout",
     "output_type": "stream",
     "text": [
      "('max mins', -0.9771084664316616, 1.0)\n"
     ]
    },
    {
     "name": "stderr",
     "output_type": "stream",
     "text": [
      "\r",
      " 11%|█         | 2/19 [00:08<01:15,  4.41s/it]"
     ]
    },
    {
     "name": "stdout",
     "output_type": "stream",
     "text": [
      "('max mins', -0.9627106086984951, 1.0)\n"
     ]
    },
    {
     "name": "stderr",
     "output_type": "stream",
     "text": [
      "\r",
      " 16%|█▌        | 3/19 [00:13<01:10,  4.42s/it]"
     ]
    },
    {
     "name": "stdout",
     "output_type": "stream",
     "text": [
      "('max mins', -0.9589112402803294, 1.0)\n"
     ]
    },
    {
     "name": "stderr",
     "output_type": "stream",
     "text": [
      "\r",
      " 21%|██        | 4/19 [00:17<01:06,  4.42s/it]"
     ]
    },
    {
     "name": "stdout",
     "output_type": "stream",
     "text": [
      "('max mins', -0.9209354173005149, 1.0)\n"
     ]
    },
    {
     "name": "stderr",
     "output_type": "stream",
     "text": [
      "\r",
      " 26%|██▋       | 5/19 [00:22<01:01,  4.42s/it]"
     ]
    },
    {
     "name": "stdout",
     "output_type": "stream",
     "text": [
      "('max mins', -0.9402689997179013, 1.0)\n"
     ]
    },
    {
     "name": "stderr",
     "output_type": "stream",
     "text": [
      "\r",
      " 32%|███▏      | 6/19 [00:26<00:57,  4.42s/it]"
     ]
    },
    {
     "name": "stdout",
     "output_type": "stream",
     "text": [
      "('max mins', -0.9554307157828478, 1.0)\n"
     ]
    },
    {
     "name": "stderr",
     "output_type": "stream",
     "text": [
      "\r",
      " 37%|███▋      | 7/19 [00:31<00:53,  4.45s/it]"
     ]
    },
    {
     "name": "stdout",
     "output_type": "stream",
     "text": [
      "('max mins', -1.0, 0.9896982833853051)\n"
     ]
    },
    {
     "name": "stderr",
     "output_type": "stream",
     "text": [
      "\r",
      " 42%|████▏     | 8/19 [00:35<00:48,  4.45s/it]"
     ]
    },
    {
     "name": "stdout",
     "output_type": "stream",
     "text": [
      "('max mins', -0.9770317631352243, 1.0)\n"
     ]
    },
    {
     "name": "stderr",
     "output_type": "stream",
     "text": [
      "\r",
      " 47%|████▋     | 9/19 [00:39<00:44,  4.47s/it]"
     ]
    },
    {
     "name": "stdout",
     "output_type": "stream",
     "text": [
      "('max mins', -0.9604330112349305, 1.0)\n"
     ]
    },
    {
     "name": "stderr",
     "output_type": "stream",
     "text": [
      "\r",
      " 53%|█████▎    | 10/19 [00:44<00:40,  4.45s/it]"
     ]
    },
    {
     "name": "stdout",
     "output_type": "stream",
     "text": [
      "('max mins', -1.0, 0.9813355482916202)\n"
     ]
    },
    {
     "name": "stderr",
     "output_type": "stream",
     "text": [
      "\r",
      " 58%|█████▊    | 11/19 [00:48<00:35,  4.45s/it]"
     ]
    },
    {
     "name": "stdout",
     "output_type": "stream",
     "text": [
      "('max mins', -1.0, 0.9916817204346738)\n"
     ]
    },
    {
     "name": "stderr",
     "output_type": "stream",
     "text": [
      "\r",
      " 63%|██████▎   | 12/19 [00:53<00:31,  4.44s/it]"
     ]
    },
    {
     "name": "stdout",
     "output_type": "stream",
     "text": [
      "('max mins', -1.0, 0.9832754746981707)\n"
     ]
    },
    {
     "name": "stderr",
     "output_type": "stream",
     "text": [
      "\r",
      " 68%|██████▊   | 13/19 [00:57<00:26,  4.43s/it]"
     ]
    },
    {
     "name": "stdout",
     "output_type": "stream",
     "text": [
      "('max mins', -1.0, 0.9966273079495607)\n"
     ]
    },
    {
     "name": "stderr",
     "output_type": "stream",
     "text": [
      "\r",
      " 74%|███████▎  | 14/19 [01:02<00:22,  4.43s/it]"
     ]
    },
    {
     "name": "stdout",
     "output_type": "stream",
     "text": [
      "('max mins', -1.0, 0.9947318403602488)\n"
     ]
    },
    {
     "name": "stderr",
     "output_type": "stream",
     "text": [
      "\r",
      " 79%|███████▉  | 15/19 [01:06<00:17,  4.42s/it]"
     ]
    },
    {
     "name": "stdout",
     "output_type": "stream",
     "text": [
      "('max mins', -0.9679249511255772, 1.0)\n"
     ]
    },
    {
     "name": "stderr",
     "output_type": "stream",
     "text": [
      "\r",
      " 84%|████████▍ | 16/19 [01:10<00:13,  4.42s/it]"
     ]
    },
    {
     "name": "stdout",
     "output_type": "stream",
     "text": [
      "('max mins', -0.9414557285434305, 1.0)\n"
     ]
    },
    {
     "name": "stderr",
     "output_type": "stream",
     "text": [
      "\r",
      " 89%|████████▉ | 17/19 [01:15<00:08,  4.42s/it]"
     ]
    },
    {
     "name": "stdout",
     "output_type": "stream",
     "text": [
      "('max mins', -0.9536997290119662, 1.0)\n"
     ]
    },
    {
     "name": "stderr",
     "output_type": "stream",
     "text": [
      "\r",
      " 95%|█████████▍| 18/19 [01:19<00:04,  4.42s/it]"
     ]
    },
    {
     "name": "stdout",
     "output_type": "stream",
     "text": [
      "('max mins', -0.963978928481249, 1.0)\n"
     ]
    },
    {
     "name": "stderr",
     "output_type": "stream",
     "text": [
      "100%|██████████| 19/19 [01:24<00:00,  4.42s/it]\n"
     ]
    },
    {
     "name": "stdout",
     "output_type": "stream",
     "text": [
      "('Best file pairs are: ', 'non_spikey_T0000018.WAV*non_spikey_T0000019.WAV')\n",
      "Start and end indices around peak:                  start index: 8460942\t\t          end index: 19960942                  total samples:30015488\n"
     ]
    },
    {
     "name": "stderr",
     "output_type": "stream",
     "text": [
      "../../../bin/audio_for_videoannotation.py:175: UserWarning: The AV sync may not be very great - please check again. The value was :0.19469372606316213\n",
      "  warnings.warn(warning_msg, stacklevel=1)\n"
     ]
    },
    {
     "name": "stdout",
     "output_type": "stream",
     "text": [
      "common_fps/Aditya_annotations/2018-08-19/common_fps_video_syncAditya_2018-08-20_0111-0200_7.csv\n",
      "('video_fps obtained is :', 25)\n",
      "Did not find user-provided sample rate - getting it from first file that matches format!\n",
      "('sampling rate is : ', 250000)\n",
      ".....finding best audio segment.....\n"
     ]
    },
    {
     "name": "stderr",
     "output_type": "stream",
     "text": [
      "\r",
      "  0%|          | 0/19 [00:00<?, ?it/s]"
     ]
    },
    {
     "name": "stdout",
     "output_type": "stream",
     "text": [
      "('max mins for upsampled video', -1.0, 0.9511987242409629)\n",
      "('max mins', -1.0, 0.9711352874397832)\n"
     ]
    },
    {
     "name": "stderr",
     "output_type": "stream",
     "text": [
      "\r",
      "  5%|▌         | 1/19 [00:04<01:19,  4.40s/it]"
     ]
    },
    {
     "name": "stdout",
     "output_type": "stream",
     "text": [
      "('max mins', -0.9771084664316616, 1.0)\n"
     ]
    },
    {
     "name": "stderr",
     "output_type": "stream",
     "text": [
      "\r",
      " 11%|█         | 2/19 [00:08<01:14,  4.40s/it]"
     ]
    },
    {
     "name": "stdout",
     "output_type": "stream",
     "text": [
      "('max mins', -0.9627106086984951, 1.0)\n"
     ]
    },
    {
     "name": "stderr",
     "output_type": "stream",
     "text": [
      "\r",
      " 16%|█▌        | 3/19 [00:13<01:10,  4.40s/it]"
     ]
    },
    {
     "name": "stdout",
     "output_type": "stream",
     "text": [
      "('max mins', -0.9589112402803294, 1.0)\n"
     ]
    },
    {
     "name": "stderr",
     "output_type": "stream",
     "text": [
      "\r",
      " 21%|██        | 4/19 [00:17<01:06,  4.40s/it]"
     ]
    },
    {
     "name": "stdout",
     "output_type": "stream",
     "text": [
      "('max mins', -0.9209354173005149, 1.0)\n"
     ]
    },
    {
     "name": "stderr",
     "output_type": "stream",
     "text": [
      "\r",
      " 26%|██▋       | 5/19 [00:22<01:01,  4.41s/it]"
     ]
    },
    {
     "name": "stdout",
     "output_type": "stream",
     "text": [
      "('max mins', -0.9402689997179013, 1.0)\n"
     ]
    },
    {
     "name": "stderr",
     "output_type": "stream",
     "text": [
      "\r",
      " 32%|███▏      | 6/19 [00:26<00:57,  4.41s/it]"
     ]
    },
    {
     "name": "stdout",
     "output_type": "stream",
     "text": [
      "('max mins', -0.9554307157828478, 1.0)\n"
     ]
    },
    {
     "name": "stderr",
     "output_type": "stream",
     "text": [
      "\r",
      " 37%|███▋      | 7/19 [00:30<00:52,  4.41s/it]"
     ]
    },
    {
     "name": "stdout",
     "output_type": "stream",
     "text": [
      "('max mins', -1.0, 0.9896982833853051)\n"
     ]
    },
    {
     "name": "stderr",
     "output_type": "stream",
     "text": [
      "\r",
      " 42%|████▏     | 8/19 [00:35<00:48,  4.42s/it]"
     ]
    },
    {
     "name": "stdout",
     "output_type": "stream",
     "text": [
      "('max mins', -0.9770317631352243, 1.0)\n"
     ]
    },
    {
     "name": "stderr",
     "output_type": "stream",
     "text": [
      "\r",
      " 47%|████▋     | 9/19 [00:39<00:44,  4.41s/it]"
     ]
    },
    {
     "name": "stdout",
     "output_type": "stream",
     "text": [
      "('max mins', -0.9604330112349305, 1.0)\n"
     ]
    },
    {
     "name": "stderr",
     "output_type": "stream",
     "text": [
      "\r",
      " 53%|█████▎    | 10/19 [00:44<00:39,  4.41s/it]"
     ]
    },
    {
     "name": "stdout",
     "output_type": "stream",
     "text": [
      "('max mins', -1.0, 0.9813355482916202)\n"
     ]
    },
    {
     "name": "stderr",
     "output_type": "stream",
     "text": [
      "\r",
      " 58%|█████▊    | 11/19 [00:48<00:35,  4.41s/it]"
     ]
    },
    {
     "name": "stdout",
     "output_type": "stream",
     "text": [
      "('max mins', -1.0, 0.9916817204346738)\n"
     ]
    },
    {
     "name": "stderr",
     "output_type": "stream",
     "text": [
      "\r",
      " 63%|██████▎   | 12/19 [00:52<00:30,  4.42s/it]"
     ]
    },
    {
     "name": "stdout",
     "output_type": "stream",
     "text": [
      "('max mins', -1.0, 0.9832754746981707)\n"
     ]
    },
    {
     "name": "stderr",
     "output_type": "stream",
     "text": [
      "\r",
      " 68%|██████▊   | 13/19 [00:57<00:26,  4.41s/it]"
     ]
    },
    {
     "name": "stdout",
     "output_type": "stream",
     "text": [
      "('max mins', -1.0, 0.9966273079495607)\n"
     ]
    },
    {
     "name": "stderr",
     "output_type": "stream",
     "text": [
      "\r",
      " 74%|███████▎  | 14/19 [01:01<00:22,  4.43s/it]"
     ]
    },
    {
     "name": "stdout",
     "output_type": "stream",
     "text": [
      "('max mins', -1.0, 0.9947318403602488)\n"
     ]
    },
    {
     "name": "stderr",
     "output_type": "stream",
     "text": [
      "\r",
      " 79%|███████▉  | 15/19 [01:06<00:17,  4.44s/it]"
     ]
    },
    {
     "name": "stdout",
     "output_type": "stream",
     "text": [
      "('max mins', -0.9679249511255772, 1.0)\n"
     ]
    },
    {
     "name": "stderr",
     "output_type": "stream",
     "text": [
      "\r",
      " 84%|████████▍ | 16/19 [01:11<00:13,  4.65s/it]"
     ]
    },
    {
     "name": "stdout",
     "output_type": "stream",
     "text": [
      "('max mins', -0.9414557285434305, 1.0)\n"
     ]
    },
    {
     "name": "stderr",
     "output_type": "stream",
     "text": [
      "\r",
      " 89%|████████▉ | 17/19 [01:15<00:09,  4.58s/it]"
     ]
    },
    {
     "name": "stdout",
     "output_type": "stream",
     "text": [
      "('max mins', -0.9536997290119662, 1.0)\n"
     ]
    },
    {
     "name": "stderr",
     "output_type": "stream",
     "text": [
      "\r",
      " 95%|█████████▍| 18/19 [01:20<00:04,  4.53s/it]"
     ]
    },
    {
     "name": "stdout",
     "output_type": "stream",
     "text": [
      "('max mins', -0.963978928481249, 1.0)\n"
     ]
    },
    {
     "name": "stderr",
     "output_type": "stream",
     "text": [
      "100%|██████████| 19/19 [01:24<00:00,  4.49s/it]\n"
     ]
    },
    {
     "name": "stdout",
     "output_type": "stream",
     "text": [
      "('Best file pairs are: ', 'non_spikey_T0000004.WAV*non_spikey_T0000005.WAV')\n",
      "Start and end indices around peak:                  start index: 14014698\t\t          end index: 25514698                  total samples:30015488\n"
     ]
    },
    {
     "name": "stderr",
     "output_type": "stream",
     "text": [
      "../../../bin/audio_for_videoannotation.py:175: UserWarning: The AV sync may not be very great - please check again. The value was :0.21161945718305272\n",
      "  warnings.warn(warning_msg, stacklevel=1)\n"
     ]
    },
    {
     "name": "stdout",
     "output_type": "stream",
     "text": [
      "common_fps/Aditya_annotations/2018-08-19/common_fps_video_syncAditya_2018-08-20_0111-0200_9.csv\n",
      "('video_fps obtained is :', 25)\n",
      "Did not find user-provided sample rate - getting it from first file that matches format!\n",
      "('sampling rate is : ', 250000)\n",
      ".....finding best audio segment.....\n"
     ]
    },
    {
     "name": "stderr",
     "output_type": "stream",
     "text": [
      "\r",
      "  0%|          | 0/19 [00:00<?, ?it/s]"
     ]
    },
    {
     "name": "stdout",
     "output_type": "stream",
     "text": [
      "('max mins for upsampled video', -1.0, 0.9116579935346072)\n",
      "('max mins', -1.0, 0.9711352874397832)\n"
     ]
    },
    {
     "name": "stderr",
     "output_type": "stream",
     "text": [
      "\r",
      "  5%|▌         | 1/19 [00:04<01:18,  4.38s/it]"
     ]
    },
    {
     "name": "stdout",
     "output_type": "stream",
     "text": [
      "('max mins', -0.9771084664316616, 1.0)\n"
     ]
    },
    {
     "name": "stderr",
     "output_type": "stream",
     "text": [
      "\r",
      " 11%|█         | 2/19 [00:08<01:14,  4.39s/it]"
     ]
    },
    {
     "name": "stdout",
     "output_type": "stream",
     "text": [
      "('max mins', -0.9627106086984951, 1.0)\n"
     ]
    },
    {
     "name": "stderr",
     "output_type": "stream",
     "text": [
      "\r",
      " 16%|█▌        | 3/19 [00:13<01:10,  4.39s/it]"
     ]
    },
    {
     "name": "stdout",
     "output_type": "stream",
     "text": [
      "('max mins', -0.9589112402803294, 1.0)\n"
     ]
    },
    {
     "name": "stderr",
     "output_type": "stream",
     "text": [
      "\r",
      " 21%|██        | 4/19 [00:17<01:05,  4.38s/it]"
     ]
    },
    {
     "name": "stdout",
     "output_type": "stream",
     "text": [
      "('max mins', -0.9209354173005149, 1.0)\n"
     ]
    },
    {
     "name": "stderr",
     "output_type": "stream",
     "text": [
      "\r",
      " 26%|██▋       | 5/19 [00:21<01:01,  4.39s/it]"
     ]
    },
    {
     "name": "stdout",
     "output_type": "stream",
     "text": [
      "('max mins', -0.9402689997179013, 1.0)\n"
     ]
    },
    {
     "name": "stderr",
     "output_type": "stream",
     "text": [
      "\r",
      " 32%|███▏      | 6/19 [00:26<00:57,  4.39s/it]"
     ]
    },
    {
     "name": "stdout",
     "output_type": "stream",
     "text": [
      "('max mins', -0.9554307157828478, 1.0)\n"
     ]
    },
    {
     "name": "stderr",
     "output_type": "stream",
     "text": [
      "\r",
      " 37%|███▋      | 7/19 [00:30<00:52,  4.39s/it]"
     ]
    },
    {
     "name": "stdout",
     "output_type": "stream",
     "text": [
      "('max mins', -1.0, 0.9896982833853051)\n"
     ]
    },
    {
     "name": "stderr",
     "output_type": "stream",
     "text": [
      "\r",
      " 42%|████▏     | 8/19 [00:35<00:48,  4.41s/it]"
     ]
    },
    {
     "name": "stdout",
     "output_type": "stream",
     "text": [
      "('max mins', -0.9770317631352243, 1.0)\n"
     ]
    },
    {
     "name": "stderr",
     "output_type": "stream",
     "text": [
      "\r",
      " 47%|████▋     | 9/19 [00:39<00:44,  4.40s/it]"
     ]
    },
    {
     "name": "stdout",
     "output_type": "stream",
     "text": [
      "('max mins', -0.9604330112349305, 1.0)\n"
     ]
    },
    {
     "name": "stderr",
     "output_type": "stream",
     "text": [
      "\r",
      " 53%|█████▎    | 10/19 [00:43<00:39,  4.40s/it]"
     ]
    },
    {
     "name": "stdout",
     "output_type": "stream",
     "text": [
      "('max mins', -1.0, 0.9813355482916202)\n"
     ]
    },
    {
     "name": "stderr",
     "output_type": "stream",
     "text": [
      "\r",
      " 58%|█████▊    | 11/19 [00:48<00:35,  4.40s/it]"
     ]
    },
    {
     "name": "stdout",
     "output_type": "stream",
     "text": [
      "('max mins', -1.0, 0.9916817204346738)\n"
     ]
    },
    {
     "name": "stderr",
     "output_type": "stream",
     "text": [
      "\r",
      " 63%|██████▎   | 12/19 [00:52<00:30,  4.40s/it]"
     ]
    },
    {
     "name": "stdout",
     "output_type": "stream",
     "text": [
      "('max mins', -1.0, 0.9832754746981707)\n"
     ]
    },
    {
     "name": "stderr",
     "output_type": "stream",
     "text": [
      "\r",
      " 68%|██████▊   | 13/19 [00:57<00:26,  4.39s/it]"
     ]
    },
    {
     "name": "stdout",
     "output_type": "stream",
     "text": [
      "('max mins', -1.0, 0.9966273079495607)\n"
     ]
    },
    {
     "name": "stderr",
     "output_type": "stream",
     "text": [
      "\r",
      " 74%|███████▎  | 14/19 [01:01<00:21,  4.40s/it]"
     ]
    },
    {
     "name": "stdout",
     "output_type": "stream",
     "text": [
      "('max mins', -1.0, 0.9947318403602488)\n"
     ]
    },
    {
     "name": "stderr",
     "output_type": "stream",
     "text": [
      "\r",
      " 79%|███████▉  | 15/19 [01:05<00:17,  4.40s/it]"
     ]
    },
    {
     "name": "stdout",
     "output_type": "stream",
     "text": [
      "('max mins', -0.9679249511255772, 1.0)\n"
     ]
    },
    {
     "name": "stderr",
     "output_type": "stream",
     "text": [
      "\r",
      " 84%|████████▍ | 16/19 [01:10<00:13,  4.40s/it]"
     ]
    },
    {
     "name": "stdout",
     "output_type": "stream",
     "text": [
      "('max mins', -0.9414557285434305, 1.0)\n"
     ]
    },
    {
     "name": "stderr",
     "output_type": "stream",
     "text": [
      "\r",
      " 89%|████████▉ | 17/19 [01:14<00:08,  4.40s/it]"
     ]
    },
    {
     "name": "stdout",
     "output_type": "stream",
     "text": [
      "('max mins', -0.9536997290119662, 1.0)\n"
     ]
    },
    {
     "name": "stderr",
     "output_type": "stream",
     "text": [
      "\r",
      " 95%|█████████▍| 18/19 [01:19<00:04,  4.41s/it]"
     ]
    },
    {
     "name": "stdout",
     "output_type": "stream",
     "text": [
      "('max mins', -0.963978928481249, 1.0)\n"
     ]
    },
    {
     "name": "stderr",
     "output_type": "stream",
     "text": [
      "100%|██████████| 19/19 [01:23<00:00,  4.40s/it]\n"
     ]
    },
    {
     "name": "stdout",
     "output_type": "stream",
     "text": [
      "('Best file pairs are: ', 'non_spikey_T0000004.WAV*non_spikey_T0000005.WAV')\n",
      "Start and end indices around peak:                  start index: 17809912\t\t          end index: 29309912                  total samples:30015488\n"
     ]
    },
    {
     "name": "stderr",
     "output_type": "stream",
     "text": [
      "../../../bin/audio_for_videoannotation.py:175: UserWarning: The AV sync may not be very great - please check again. The value was :0.21580660595084433\n",
      "  warnings.warn(warning_msg, stacklevel=1)\n"
     ]
    },
    {
     "name": "stdout",
     "output_type": "stream",
     "text": [
      "common_fps/Aditya_annotations/2018-08-19/common_fps_video_syncAditya_2018-08-20_0111-0200_11.csv\n",
      "('video_fps obtained is :', 25)\n",
      "Did not find user-provided sample rate - getting it from first file that matches format!\n",
      "('sampling rate is : ', 250000)\n",
      ".....finding best audio segment.....\n"
     ]
    },
    {
     "name": "stderr",
     "output_type": "stream",
     "text": [
      "\r",
      "  0%|          | 0/19 [00:00<?, ?it/s]"
     ]
    },
    {
     "name": "stdout",
     "output_type": "stream",
     "text": [
      "('max mins for upsampled video', -1.0, 0.8987254693601625)\n",
      "('max mins', -1.0, 0.9711352874397832)\n"
     ]
    },
    {
     "name": "stderr",
     "output_type": "stream",
     "text": [
      "\r",
      "  5%|▌         | 1/19 [00:04<01:18,  4.36s/it]"
     ]
    },
    {
     "name": "stdout",
     "output_type": "stream",
     "text": [
      "('max mins', -0.9771084664316616, 1.0)\n"
     ]
    },
    {
     "name": "stderr",
     "output_type": "stream",
     "text": [
      "\r",
      " 11%|█         | 2/19 [00:08<01:14,  4.37s/it]"
     ]
    },
    {
     "name": "stdout",
     "output_type": "stream",
     "text": [
      "('max mins', -0.9627106086984951, 1.0)\n"
     ]
    },
    {
     "name": "stderr",
     "output_type": "stream",
     "text": [
      "\r",
      " 16%|█▌        | 3/19 [00:13<01:10,  4.42s/it]"
     ]
    },
    {
     "name": "stdout",
     "output_type": "stream",
     "text": [
      "('max mins', -0.9589112402803294, 1.0)\n"
     ]
    },
    {
     "name": "stderr",
     "output_type": "stream",
     "text": [
      "\r",
      " 21%|██        | 4/19 [00:17<01:06,  4.42s/it]"
     ]
    },
    {
     "name": "stdout",
     "output_type": "stream",
     "text": [
      "('max mins', -0.9209354173005149, 1.0)\n"
     ]
    },
    {
     "name": "stderr",
     "output_type": "stream",
     "text": [
      "\r",
      " 26%|██▋       | 5/19 [00:22<01:01,  4.42s/it]"
     ]
    },
    {
     "name": "stdout",
     "output_type": "stream",
     "text": [
      "('max mins', -0.9402689997179013, 1.0)\n"
     ]
    },
    {
     "name": "stderr",
     "output_type": "stream",
     "text": [
      "\r",
      " 32%|███▏      | 6/19 [00:26<00:57,  4.41s/it]"
     ]
    },
    {
     "name": "stdout",
     "output_type": "stream",
     "text": [
      "('max mins', -0.9554307157828478, 1.0)\n"
     ]
    },
    {
     "name": "stderr",
     "output_type": "stream",
     "text": [
      "\r",
      " 37%|███▋      | 7/19 [00:30<00:52,  4.41s/it]"
     ]
    },
    {
     "name": "stdout",
     "output_type": "stream",
     "text": [
      "('max mins', -1.0, 0.9896982833853051)\n"
     ]
    },
    {
     "name": "stderr",
     "output_type": "stream",
     "text": [
      "\r",
      " 42%|████▏     | 8/19 [00:35<00:48,  4.40s/it]"
     ]
    },
    {
     "name": "stdout",
     "output_type": "stream",
     "text": [
      "('max mins', -0.9770317631352243, 1.0)\n"
     ]
    },
    {
     "name": "stderr",
     "output_type": "stream",
     "text": [
      "\r",
      " 47%|████▋     | 9/19 [00:39<00:44,  4.40s/it]"
     ]
    },
    {
     "name": "stdout",
     "output_type": "stream",
     "text": [
      "('max mins', -0.9604330112349305, 1.0)\n"
     ]
    },
    {
     "name": "stderr",
     "output_type": "stream",
     "text": [
      "\r",
      " 53%|█████▎    | 10/19 [00:44<00:39,  4.40s/it]"
     ]
    },
    {
     "name": "stdout",
     "output_type": "stream",
     "text": [
      "('max mins', -1.0, 0.9813355482916202)\n"
     ]
    },
    {
     "name": "stderr",
     "output_type": "stream",
     "text": [
      "\r",
      " 58%|█████▊    | 11/19 [00:48<00:35,  4.40s/it]"
     ]
    },
    {
     "name": "stdout",
     "output_type": "stream",
     "text": [
      "('max mins', -1.0, 0.9916817204346738)\n"
     ]
    },
    {
     "name": "stderr",
     "output_type": "stream",
     "text": [
      "\r",
      " 63%|██████▎   | 12/19 [00:52<00:30,  4.40s/it]"
     ]
    },
    {
     "name": "stdout",
     "output_type": "stream",
     "text": [
      "('max mins', -1.0, 0.9832754746981707)\n"
     ]
    },
    {
     "name": "stderr",
     "output_type": "stream",
     "text": [
      "\r",
      " 68%|██████▊   | 13/19 [00:57<00:26,  4.40s/it]"
     ]
    },
    {
     "name": "stdout",
     "output_type": "stream",
     "text": [
      "('max mins', -1.0, 0.9966273079495607)\n"
     ]
    },
    {
     "name": "stderr",
     "output_type": "stream",
     "text": [
      "\r",
      " 74%|███████▎  | 14/19 [01:01<00:21,  4.40s/it]"
     ]
    },
    {
     "name": "stdout",
     "output_type": "stream",
     "text": [
      "('max mins', -1.0, 0.9947318403602488)\n"
     ]
    },
    {
     "name": "stderr",
     "output_type": "stream",
     "text": [
      "\r",
      " 79%|███████▉  | 15/19 [01:06<00:17,  4.43s/it]"
     ]
    },
    {
     "name": "stdout",
     "output_type": "stream",
     "text": [
      "('max mins', -0.9679249511255772, 1.0)\n"
     ]
    },
    {
     "name": "stderr",
     "output_type": "stream",
     "text": [
      "\r",
      " 84%|████████▍ | 16/19 [01:10<00:13,  4.42s/it]"
     ]
    },
    {
     "name": "stdout",
     "output_type": "stream",
     "text": [
      "('max mins', -0.9414557285434305, 1.0)\n"
     ]
    },
    {
     "name": "stderr",
     "output_type": "stream",
     "text": [
      "\r",
      " 89%|████████▉ | 17/19 [01:14<00:08,  4.41s/it]"
     ]
    },
    {
     "name": "stdout",
     "output_type": "stream",
     "text": [
      "('max mins', -0.9536997290119662, 1.0)\n"
     ]
    },
    {
     "name": "stderr",
     "output_type": "stream",
     "text": [
      "\r",
      " 95%|█████████▍| 18/19 [01:19<00:04,  4.40s/it]"
     ]
    },
    {
     "name": "stdout",
     "output_type": "stream",
     "text": [
      "('max mins', -0.963978928481249, 1.0)\n"
     ]
    },
    {
     "name": "stderr",
     "output_type": "stream",
     "text": [
      "100%|██████████| 19/19 [01:23<00:00,  4.40s/it]\n"
     ]
    },
    {
     "name": "stdout",
     "output_type": "stream",
     "text": [
      "('Best file pairs are: ', 'non_spikey_T0000004.WAV*non_spikey_T0000005.WAV')\n",
      "Start and end indices around peak:                  start index: 17014466\t\t          end index: 28514466                  total samples:30015488\n"
     ]
    },
    {
     "name": "stderr",
     "output_type": "stream",
     "text": [
      "../../../bin/audio_for_videoannotation.py:175: UserWarning: The AV sync may not be very great - please check again. The value was :0.22852384069655923\n",
      "  warnings.warn(warning_msg, stacklevel=1)\n"
     ]
    },
    {
     "name": "stdout",
     "output_type": "stream",
     "text": [
      "common_fps/Aditya_annotations/2018-08-19/common_fps_video_syncAditya_2018-08-20_0111-0200_33.csv\n",
      "('video_fps obtained is :', 25)\n",
      "Did not find user-provided sample rate - getting it from first file that matches format!\n",
      "('sampling rate is : ', 250000)\n",
      ".....finding best audio segment.....\n"
     ]
    },
    {
     "name": "stderr",
     "output_type": "stream",
     "text": [
      "\r",
      "  0%|          | 0/19 [00:00<?, ?it/s]"
     ]
    },
    {
     "name": "stdout",
     "output_type": "stream",
     "text": [
      "('max mins for upsampled video', -1.0, 0.9526160122079301)\n",
      "('max mins', -1.0, 0.9711352874397832)\n"
     ]
    },
    {
     "name": "stderr",
     "output_type": "stream",
     "text": [
      "\r",
      "  5%|▌         | 1/19 [00:04<01:18,  4.36s/it]"
     ]
    },
    {
     "name": "stdout",
     "output_type": "stream",
     "text": [
      "('max mins', -0.9771084664316616, 1.0)\n"
     ]
    },
    {
     "name": "stderr",
     "output_type": "stream",
     "text": [
      "\r",
      " 11%|█         | 2/19 [00:08<01:14,  4.37s/it]"
     ]
    },
    {
     "name": "stdout",
     "output_type": "stream",
     "text": [
      "('max mins', -0.9627106086984951, 1.0)\n"
     ]
    },
    {
     "name": "stderr",
     "output_type": "stream",
     "text": [
      "\r",
      " 16%|█▌        | 3/19 [00:13<01:09,  4.37s/it]"
     ]
    },
    {
     "name": "stdout",
     "output_type": "stream",
     "text": [
      "('max mins', -0.9589112402803294, 1.0)\n"
     ]
    },
    {
     "name": "stderr",
     "output_type": "stream",
     "text": [
      "\r",
      " 21%|██        | 4/19 [00:17<01:05,  4.38s/it]"
     ]
    },
    {
     "name": "stdout",
     "output_type": "stream",
     "text": [
      "('max mins', -0.9209354173005149, 1.0)\n"
     ]
    },
    {
     "name": "stderr",
     "output_type": "stream",
     "text": [
      "\r",
      " 26%|██▋       | 5/19 [00:21<01:01,  4.38s/it]"
     ]
    },
    {
     "name": "stdout",
     "output_type": "stream",
     "text": [
      "('max mins', -0.9402689997179013, 1.0)\n"
     ]
    },
    {
     "name": "stderr",
     "output_type": "stream",
     "text": [
      "\r",
      " 32%|███▏      | 6/19 [00:26<00:56,  4.38s/it]"
     ]
    },
    {
     "name": "stdout",
     "output_type": "stream",
     "text": [
      "('max mins', -0.9554307157828478, 1.0)\n"
     ]
    },
    {
     "name": "stderr",
     "output_type": "stream",
     "text": [
      "\r",
      " 37%|███▋      | 7/19 [00:30<00:52,  4.38s/it]"
     ]
    },
    {
     "name": "stdout",
     "output_type": "stream",
     "text": [
      "('max mins', -1.0, 0.9896982833853051)\n"
     ]
    },
    {
     "name": "stderr",
     "output_type": "stream",
     "text": [
      "\r",
      " 42%|████▏     | 8/19 [00:35<00:48,  4.38s/it]"
     ]
    },
    {
     "name": "stdout",
     "output_type": "stream",
     "text": [
      "('max mins', -0.9770317631352243, 1.0)\n"
     ]
    },
    {
     "name": "stderr",
     "output_type": "stream",
     "text": [
      "\r",
      " 47%|████▋     | 9/19 [00:39<00:43,  4.38s/it]"
     ]
    },
    {
     "name": "stdout",
     "output_type": "stream",
     "text": [
      "('max mins', -0.9604330112349305, 1.0)\n"
     ]
    },
    {
     "name": "stderr",
     "output_type": "stream",
     "text": [
      "\r",
      " 53%|█████▎    | 10/19 [00:43<00:39,  4.39s/it]"
     ]
    },
    {
     "name": "stdout",
     "output_type": "stream",
     "text": [
      "('max mins', -1.0, 0.9813355482916202)\n"
     ]
    },
    {
     "name": "stderr",
     "output_type": "stream",
     "text": [
      "\r",
      " 58%|█████▊    | 11/19 [00:48<00:35,  4.47s/it]"
     ]
    },
    {
     "name": "stdout",
     "output_type": "stream",
     "text": [
      "('max mins', -1.0, 0.9916817204346738)\n"
     ]
    },
    {
     "name": "stderr",
     "output_type": "stream",
     "text": [
      "\r",
      " 63%|██████▎   | 12/19 [00:52<00:31,  4.45s/it]"
     ]
    },
    {
     "name": "stdout",
     "output_type": "stream",
     "text": [
      "('max mins', -1.0, 0.9832754746981707)\n"
     ]
    },
    {
     "name": "stderr",
     "output_type": "stream",
     "text": [
      "\r",
      " 68%|██████▊   | 13/19 [00:57<00:26,  4.43s/it]"
     ]
    },
    {
     "name": "stdout",
     "output_type": "stream",
     "text": [
      "('max mins', -1.0, 0.9966273079495607)\n"
     ]
    },
    {
     "name": "stderr",
     "output_type": "stream",
     "text": [
      "\r",
      " 74%|███████▎  | 14/19 [01:01<00:22,  4.41s/it]"
     ]
    },
    {
     "name": "stdout",
     "output_type": "stream",
     "text": [
      "('max mins', -1.0, 0.9947318403602488)\n"
     ]
    },
    {
     "name": "stderr",
     "output_type": "stream",
     "text": [
      "\r",
      " 79%|███████▉  | 15/19 [01:06<00:17,  4.41s/it]"
     ]
    },
    {
     "name": "stdout",
     "output_type": "stream",
     "text": [
      "('max mins', -0.9679249511255772, 1.0)\n"
     ]
    },
    {
     "name": "stderr",
     "output_type": "stream",
     "text": [
      "\r",
      " 84%|████████▍ | 16/19 [01:10<00:13,  4.40s/it]"
     ]
    },
    {
     "name": "stdout",
     "output_type": "stream",
     "text": [
      "('max mins', -0.9414557285434305, 1.0)\n"
     ]
    },
    {
     "name": "stderr",
     "output_type": "stream",
     "text": [
      "\r",
      " 89%|████████▉ | 17/19 [01:14<00:08,  4.40s/it]"
     ]
    },
    {
     "name": "stdout",
     "output_type": "stream",
     "text": [
      "('max mins', -0.9536997290119662, 1.0)\n"
     ]
    },
    {
     "name": "stderr",
     "output_type": "stream",
     "text": [
      "\r",
      " 95%|█████████▍| 18/19 [01:19<00:04,  4.39s/it]"
     ]
    },
    {
     "name": "stdout",
     "output_type": "stream",
     "text": [
      "('max mins', -0.963978928481249, 1.0)\n"
     ]
    },
    {
     "name": "stderr",
     "output_type": "stream",
     "text": [
      "100%|██████████| 19/19 [01:23<00:00,  4.39s/it]\n"
     ]
    },
    {
     "name": "stdout",
     "output_type": "stream",
     "text": [
      "('Best file pairs are: ', 'non_spikey_T0000006.WAV*non_spikey_T0000007.WAV')\n",
      "Start and end indices around peak:                  start index: 2646712\t\t          end index: 14146712                  total samples:30015488\n"
     ]
    },
    {
     "name": "stderr",
     "output_type": "stream",
     "text": [
      "../../../bin/audio_for_videoannotation.py:175: UserWarning: The AV sync may not be very great - please check again. The value was :0.24423800267482262\n",
      "  warnings.warn(warning_msg, stacklevel=1)\n"
     ]
    },
    {
     "name": "stdout",
     "output_type": "stream",
     "text": [
      "common_fps/Aditya_annotations/2018-08-19/common_fps_video_syncAditya_2018-08-20_0111-0200_34.csv\n",
      "('video_fps obtained is :', 25)\n",
      "Did not find user-provided sample rate - getting it from first file that matches format!\n",
      "('sampling rate is : ', 250000)\n",
      ".....finding best audio segment.....\n"
     ]
    },
    {
     "name": "stderr",
     "output_type": "stream",
     "text": [
      "\r",
      "  0%|          | 0/19 [00:00<?, ?it/s]"
     ]
    },
    {
     "name": "stdout",
     "output_type": "stream",
     "text": [
      "('max mins for upsampled video', -1.0, 0.955493716370414)\n",
      "('max mins', -1.0, 0.9711352874397832)\n"
     ]
    },
    {
     "name": "stderr",
     "output_type": "stream",
     "text": [
      "\r",
      "  5%|▌         | 1/19 [00:04<01:18,  4.38s/it]"
     ]
    },
    {
     "name": "stdout",
     "output_type": "stream",
     "text": [
      "('max mins', -0.9771084664316616, 1.0)\n"
     ]
    },
    {
     "name": "stderr",
     "output_type": "stream",
     "text": [
      "\r",
      " 11%|█         | 2/19 [00:08<01:14,  4.38s/it]"
     ]
    },
    {
     "name": "stdout",
     "output_type": "stream",
     "text": [
      "('max mins', -0.9627106086984951, 1.0)\n"
     ]
    },
    {
     "name": "stderr",
     "output_type": "stream",
     "text": [
      "\r",
      " 16%|█▌        | 3/19 [00:13<01:10,  4.38s/it]"
     ]
    },
    {
     "name": "stdout",
     "output_type": "stream",
     "text": [
      "('max mins', -0.9589112402803294, 1.0)\n"
     ]
    },
    {
     "name": "stderr",
     "output_type": "stream",
     "text": [
      "\r",
      " 21%|██        | 4/19 [00:17<01:05,  4.39s/it]"
     ]
    },
    {
     "name": "stdout",
     "output_type": "stream",
     "text": [
      "('max mins', -0.9209354173005149, 1.0)\n"
     ]
    },
    {
     "name": "stderr",
     "output_type": "stream",
     "text": [
      "\r",
      " 26%|██▋       | 5/19 [00:21<01:01,  4.38s/it]"
     ]
    },
    {
     "name": "stdout",
     "output_type": "stream",
     "text": [
      "('max mins', -0.9402689997179013, 1.0)\n"
     ]
    },
    {
     "name": "stderr",
     "output_type": "stream",
     "text": [
      "\r",
      " 32%|███▏      | 6/19 [00:26<00:56,  4.38s/it]"
     ]
    },
    {
     "name": "stdout",
     "output_type": "stream",
     "text": [
      "('max mins', -0.9554307157828478, 1.0)\n"
     ]
    },
    {
     "name": "stderr",
     "output_type": "stream",
     "text": [
      "\r",
      " 37%|███▋      | 7/19 [00:30<00:52,  4.40s/it]"
     ]
    },
    {
     "name": "stdout",
     "output_type": "stream",
     "text": [
      "('max mins', -1.0, 0.9896982833853051)\n"
     ]
    },
    {
     "name": "stderr",
     "output_type": "stream",
     "text": [
      "\r",
      " 42%|████▏     | 8/19 [00:35<00:48,  4.40s/it]"
     ]
    },
    {
     "name": "stdout",
     "output_type": "stream",
     "text": [
      "('max mins', -0.9770317631352243, 1.0)\n"
     ]
    },
    {
     "name": "stderr",
     "output_type": "stream",
     "text": [
      "\r",
      " 47%|████▋     | 9/19 [00:39<00:43,  4.39s/it]"
     ]
    },
    {
     "name": "stdout",
     "output_type": "stream",
     "text": [
      "('max mins', -0.9604330112349305, 1.0)\n"
     ]
    },
    {
     "name": "stderr",
     "output_type": "stream",
     "text": [
      "\r",
      " 53%|█████▎    | 10/19 [00:43<00:39,  4.39s/it]"
     ]
    },
    {
     "name": "stdout",
     "output_type": "stream",
     "text": [
      "('max mins', -1.0, 0.9813355482916202)\n"
     ]
    },
    {
     "name": "stderr",
     "output_type": "stream",
     "text": [
      "\r",
      " 58%|█████▊    | 11/19 [00:48<00:35,  4.39s/it]"
     ]
    },
    {
     "name": "stdout",
     "output_type": "stream",
     "text": [
      "('max mins', -1.0, 0.9916817204346738)\n"
     ]
    },
    {
     "name": "stderr",
     "output_type": "stream",
     "text": [
      "\r",
      " 63%|██████▎   | 12/19 [00:52<00:30,  4.39s/it]"
     ]
    },
    {
     "name": "stdout",
     "output_type": "stream",
     "text": [
      "('max mins', -1.0, 0.9832754746981707)\n"
     ]
    },
    {
     "name": "stderr",
     "output_type": "stream",
     "text": [
      "\r",
      " 68%|██████▊   | 13/19 [00:57<00:26,  4.39s/it]"
     ]
    },
    {
     "name": "stdout",
     "output_type": "stream",
     "text": [
      "('max mins', -1.0, 0.9966273079495607)\n"
     ]
    },
    {
     "name": "stderr",
     "output_type": "stream",
     "text": [
      "\r",
      " 74%|███████▎  | 14/19 [01:01<00:21,  4.39s/it]"
     ]
    },
    {
     "name": "stdout",
     "output_type": "stream",
     "text": [
      "('max mins', -1.0, 0.9947318403602488)\n"
     ]
    },
    {
     "name": "stderr",
     "output_type": "stream",
     "text": [
      "\r",
      " 79%|███████▉  | 15/19 [01:05<00:17,  4.39s/it]"
     ]
    },
    {
     "name": "stdout",
     "output_type": "stream",
     "text": [
      "('max mins', -0.9679249511255772, 1.0)\n"
     ]
    },
    {
     "name": "stderr",
     "output_type": "stream",
     "text": [
      "\r",
      " 84%|████████▍ | 16/19 [01:10<00:13,  4.39s/it]"
     ]
    },
    {
     "name": "stdout",
     "output_type": "stream",
     "text": [
      "('max mins', -0.9414557285434305, 1.0)\n"
     ]
    },
    {
     "name": "stderr",
     "output_type": "stream",
     "text": [
      "\r",
      " 89%|████████▉ | 17/19 [01:14<00:08,  4.39s/it]"
     ]
    },
    {
     "name": "stdout",
     "output_type": "stream",
     "text": [
      "('max mins', -0.9536997290119662, 1.0)\n"
     ]
    },
    {
     "name": "stderr",
     "output_type": "stream",
     "text": [
      "\r",
      " 95%|█████████▍| 18/19 [01:19<00:04,  4.39s/it]"
     ]
    },
    {
     "name": "stdout",
     "output_type": "stream",
     "text": [
      "('max mins', -0.963978928481249, 1.0)\n"
     ]
    },
    {
     "name": "stderr",
     "output_type": "stream",
     "text": [
      "100%|██████████| 19/19 [01:23<00:00,  4.41s/it]\n"
     ]
    },
    {
     "name": "stdout",
     "output_type": "stream",
     "text": [
      "('Best file pairs are: ', 'non_spikey_T0000017.WAV*non_spikey_T0000018.WAV')\n",
      "Start and end indices around peak:                  start index: 4897741\t\t          end index: 16397741                  total samples:30015488\n"
     ]
    },
    {
     "name": "stderr",
     "output_type": "stream",
     "text": [
      "../../../bin/audio_for_videoannotation.py:175: UserWarning: The AV sync may not be very great - please check again. The value was :0.24503609258321413\n",
      "  warnings.warn(warning_msg, stacklevel=1)\n"
     ]
    },
    {
     "name": "stdout",
     "output_type": "stream",
     "text": [
      "common_fps/Aditya_annotations/2018-08-19/common_fps_video_syncAditya_2018-08-20_0111-0200_35.csv\n",
      "('video_fps obtained is :', 25)\n",
      "Did not find user-provided sample rate - getting it from first file that matches format!\n",
      "('sampling rate is : ', 250000)\n",
      ".....finding best audio segment.....\n"
     ]
    },
    {
     "name": "stderr",
     "output_type": "stream",
     "text": [
      "\r",
      "  0%|          | 0/19 [00:00<?, ?it/s]"
     ]
    },
    {
     "name": "stdout",
     "output_type": "stream",
     "text": [
      "('max mins for upsampled video', -1.0, 0.9573350064827741)\n",
      "('max mins', -1.0, 0.9711352874397832)\n"
     ]
    },
    {
     "name": "stderr",
     "output_type": "stream",
     "text": [
      "\r",
      "  5%|▌         | 1/19 [00:04<01:19,  4.41s/it]"
     ]
    },
    {
     "name": "stdout",
     "output_type": "stream",
     "text": [
      "('max mins', -0.9771084664316616, 1.0)\n"
     ]
    },
    {
     "name": "stderr",
     "output_type": "stream",
     "text": [
      "\r",
      " 11%|█         | 2/19 [00:08<01:14,  4.40s/it]"
     ]
    },
    {
     "name": "stdout",
     "output_type": "stream",
     "text": [
      "('max mins', -0.9627106086984951, 1.0)\n"
     ]
    },
    {
     "name": "stderr",
     "output_type": "stream",
     "text": [
      "\r",
      " 16%|█▌        | 3/19 [00:13<01:10,  4.40s/it]"
     ]
    },
    {
     "name": "stdout",
     "output_type": "stream",
     "text": [
      "('max mins', -0.9589112402803294, 1.0)\n"
     ]
    },
    {
     "name": "stderr",
     "output_type": "stream",
     "text": [
      "\r",
      " 21%|██        | 4/19 [00:17<01:05,  4.39s/it]"
     ]
    },
    {
     "name": "stdout",
     "output_type": "stream",
     "text": [
      "('max mins', -0.9209354173005149, 1.0)\n"
     ]
    },
    {
     "name": "stderr",
     "output_type": "stream",
     "text": [
      "\r",
      " 26%|██▋       | 5/19 [00:21<01:01,  4.38s/it]"
     ]
    },
    {
     "name": "stdout",
     "output_type": "stream",
     "text": [
      "('max mins', -0.9402689997179013, 1.0)\n"
     ]
    },
    {
     "name": "stderr",
     "output_type": "stream",
     "text": [
      "\r",
      " 32%|███▏      | 6/19 [00:26<00:56,  4.38s/it]"
     ]
    },
    {
     "name": "stdout",
     "output_type": "stream",
     "text": [
      "('max mins', -0.9554307157828478, 1.0)\n"
     ]
    },
    {
     "name": "stderr",
     "output_type": "stream",
     "text": [
      "\r",
      " 37%|███▋      | 7/19 [00:30<00:52,  4.38s/it]"
     ]
    },
    {
     "name": "stdout",
     "output_type": "stream",
     "text": [
      "('max mins', -1.0, 0.9896982833853051)\n"
     ]
    },
    {
     "name": "stderr",
     "output_type": "stream",
     "text": [
      "\r",
      " 42%|████▏     | 8/19 [00:35<00:48,  4.38s/it]"
     ]
    },
    {
     "name": "stdout",
     "output_type": "stream",
     "text": [
      "('max mins', -0.9770317631352243, 1.0)\n"
     ]
    },
    {
     "name": "stderr",
     "output_type": "stream",
     "text": [
      "\r",
      " 47%|████▋     | 9/19 [00:39<00:43,  4.38s/it]"
     ]
    },
    {
     "name": "stdout",
     "output_type": "stream",
     "text": [
      "('max mins', -0.9604330112349305, 1.0)\n"
     ]
    },
    {
     "name": "stderr",
     "output_type": "stream",
     "text": [
      "\r",
      " 53%|█████▎    | 10/19 [00:43<00:39,  4.38s/it]"
     ]
    },
    {
     "name": "stdout",
     "output_type": "stream",
     "text": [
      "('max mins', -1.0, 0.9813355482916202)\n"
     ]
    },
    {
     "name": "stderr",
     "output_type": "stream",
     "text": [
      "\r",
      " 58%|█████▊    | 11/19 [00:48<00:34,  4.37s/it]"
     ]
    },
    {
     "name": "stdout",
     "output_type": "stream",
     "text": [
      "('max mins', -1.0, 0.9916817204346738)\n"
     ]
    },
    {
     "name": "stderr",
     "output_type": "stream",
     "text": [
      "\r",
      " 63%|██████▎   | 12/19 [00:52<00:30,  4.37s/it]"
     ]
    },
    {
     "name": "stdout",
     "output_type": "stream",
     "text": [
      "('max mins', -1.0, 0.9832754746981707)\n"
     ]
    },
    {
     "name": "stderr",
     "output_type": "stream",
     "text": [
      "\r",
      " 68%|██████▊   | 13/19 [00:56<00:26,  4.37s/it]"
     ]
    },
    {
     "name": "stdout",
     "output_type": "stream",
     "text": [
      "('max mins', -1.0, 0.9966273079495607)\n"
     ]
    },
    {
     "name": "stderr",
     "output_type": "stream",
     "text": [
      "\r",
      " 74%|███████▎  | 14/19 [01:01<00:21,  4.37s/it]"
     ]
    },
    {
     "name": "stdout",
     "output_type": "stream",
     "text": [
      "('max mins', -1.0, 0.9947318403602488)\n"
     ]
    },
    {
     "name": "stderr",
     "output_type": "stream",
     "text": [
      "\r",
      " 79%|███████▉  | 15/19 [01:05<00:17,  4.37s/it]"
     ]
    },
    {
     "name": "stdout",
     "output_type": "stream",
     "text": [
      "('max mins', -0.9679249511255772, 1.0)\n"
     ]
    },
    {
     "name": "stderr",
     "output_type": "stream",
     "text": [
      "\r",
      " 84%|████████▍ | 16/19 [01:10<00:13,  4.37s/it]"
     ]
    },
    {
     "name": "stdout",
     "output_type": "stream",
     "text": [
      "('max mins', -0.9414557285434305, 1.0)\n"
     ]
    },
    {
     "name": "stderr",
     "output_type": "stream",
     "text": [
      "\r",
      " 89%|████████▉ | 17/19 [01:14<00:08,  4.37s/it]"
     ]
    },
    {
     "name": "stdout",
     "output_type": "stream",
     "text": [
      "('max mins', -0.9536997290119662, 1.0)\n"
     ]
    },
    {
     "name": "stderr",
     "output_type": "stream",
     "text": [
      "\r",
      " 95%|█████████▍| 18/19 [01:18<00:04,  4.37s/it]"
     ]
    },
    {
     "name": "stdout",
     "output_type": "stream",
     "text": [
      "('max mins', -0.963978928481249, 1.0)\n"
     ]
    },
    {
     "name": "stderr",
     "output_type": "stream",
     "text": [
      "100%|██████████| 19/19 [01:23<00:00,  4.38s/it]\n"
     ]
    },
    {
     "name": "stdout",
     "output_type": "stream",
     "text": [
      "('Best file pairs are: ', 'non_spikey_T0000017.WAV*non_spikey_T0000018.WAV')\n",
      "Start and end indices around peak:                  start index: 5148498\t\t          end index: 16648498                  total samples:30015488\n"
     ]
    },
    {
     "name": "stderr",
     "output_type": "stream",
     "text": [
      "../../../bin/audio_for_videoannotation.py:175: UserWarning: The AV sync may not be very great - please check again. The value was :0.23400020617377965\n",
      "  warnings.warn(warning_msg, stacklevel=1)\n"
     ]
    },
    {
     "name": "stdout",
     "output_type": "stream",
     "text": [
      "common_fps/Aditya_annotations/2018-08-19/common_fps_video_syncAditya_2018-08-20_0111-0200_36.csv\n",
      "('video_fps obtained is :', 25)\n",
      "Did not find user-provided sample rate - getting it from first file that matches format!\n",
      "('sampling rate is : ', 250000)\n",
      ".....finding best audio segment.....\n"
     ]
    },
    {
     "name": "stderr",
     "output_type": "stream",
     "text": [
      "\r",
      "  0%|          | 0/19 [00:00<?, ?it/s]"
     ]
    },
    {
     "name": "stdout",
     "output_type": "stream",
     "text": [
      "('max mins for upsampled video', -1.0, 0.9518302874409261)\n",
      "('max mins', -1.0, 0.9711352874397832)\n"
     ]
    },
    {
     "name": "stderr",
     "output_type": "stream",
     "text": [
      "\r",
      "  5%|▌         | 1/19 [00:04<01:18,  4.38s/it]"
     ]
    },
    {
     "name": "stdout",
     "output_type": "stream",
     "text": [
      "('max mins', -0.9771084664316616, 1.0)\n"
     ]
    },
    {
     "name": "stderr",
     "output_type": "stream",
     "text": [
      "\r",
      " 11%|█         | 2/19 [00:08<01:14,  4.39s/it]"
     ]
    },
    {
     "name": "stdout",
     "output_type": "stream",
     "text": [
      "('max mins', -0.9627106086984951, 1.0)\n"
     ]
    },
    {
     "name": "stderr",
     "output_type": "stream",
     "text": [
      "\r",
      " 16%|█▌        | 3/19 [00:13<01:10,  4.39s/it]"
     ]
    },
    {
     "name": "stdout",
     "output_type": "stream",
     "text": [
      "('max mins', -0.9589112402803294, 1.0)\n"
     ]
    },
    {
     "name": "stderr",
     "output_type": "stream",
     "text": [
      "\r",
      " 21%|██        | 4/19 [00:17<01:05,  4.39s/it]"
     ]
    },
    {
     "name": "stdout",
     "output_type": "stream",
     "text": [
      "('max mins', -0.9209354173005149, 1.0)\n"
     ]
    },
    {
     "name": "stderr",
     "output_type": "stream",
     "text": [
      "\r",
      " 26%|██▋       | 5/19 [00:21<01:01,  4.39s/it]"
     ]
    },
    {
     "name": "stdout",
     "output_type": "stream",
     "text": [
      "('max mins', -0.9402689997179013, 1.0)\n"
     ]
    },
    {
     "name": "stderr",
     "output_type": "stream",
     "text": [
      "\r",
      " 32%|███▏      | 6/19 [00:26<00:57,  4.43s/it]"
     ]
    },
    {
     "name": "stdout",
     "output_type": "stream",
     "text": [
      "('max mins', -0.9554307157828478, 1.0)\n"
     ]
    },
    {
     "name": "stderr",
     "output_type": "stream",
     "text": [
      "\r",
      " 37%|███▋      | 7/19 [00:30<00:53,  4.42s/it]"
     ]
    },
    {
     "name": "stdout",
     "output_type": "stream",
     "text": [
      "('max mins', -1.0, 0.9896982833853051)\n"
     ]
    },
    {
     "name": "stderr",
     "output_type": "stream",
     "text": [
      "\r",
      " 42%|████▏     | 8/19 [00:35<00:48,  4.41s/it]"
     ]
    },
    {
     "name": "stdout",
     "output_type": "stream",
     "text": [
      "('max mins', -0.9770317631352243, 1.0)\n"
     ]
    },
    {
     "name": "stderr",
     "output_type": "stream",
     "text": [
      "\r",
      " 47%|████▋     | 9/19 [00:39<00:43,  4.40s/it]"
     ]
    },
    {
     "name": "stdout",
     "output_type": "stream",
     "text": [
      "('max mins', -0.9604330112349305, 1.0)\n"
     ]
    },
    {
     "name": "stderr",
     "output_type": "stream",
     "text": [
      "\r",
      " 53%|█████▎    | 10/19 [00:44<00:39,  4.39s/it]"
     ]
    },
    {
     "name": "stdout",
     "output_type": "stream",
     "text": [
      "('max mins', -1.0, 0.9813355482916202)\n"
     ]
    },
    {
     "name": "stderr",
     "output_type": "stream",
     "text": [
      "\r",
      " 58%|█████▊    | 11/19 [00:48<00:35,  4.38s/it]"
     ]
    },
    {
     "name": "stdout",
     "output_type": "stream",
     "text": [
      "('max mins', -1.0, 0.9916817204346738)\n"
     ]
    },
    {
     "name": "stderr",
     "output_type": "stream",
     "text": [
      "\r",
      " 63%|██████▎   | 12/19 [00:52<00:30,  4.38s/it]"
     ]
    },
    {
     "name": "stdout",
     "output_type": "stream",
     "text": [
      "('max mins', -1.0, 0.9832754746981707)\n"
     ]
    },
    {
     "name": "stderr",
     "output_type": "stream",
     "text": [
      "\r",
      " 68%|██████▊   | 13/19 [00:57<00:26,  4.38s/it]"
     ]
    },
    {
     "name": "stdout",
     "output_type": "stream",
     "text": [
      "('max mins', -1.0, 0.9966273079495607)\n"
     ]
    },
    {
     "name": "stderr",
     "output_type": "stream",
     "text": [
      "\r",
      " 74%|███████▎  | 14/19 [01:01<00:21,  4.38s/it]"
     ]
    },
    {
     "name": "stdout",
     "output_type": "stream",
     "text": [
      "('max mins', -1.0, 0.9947318403602488)\n"
     ]
    },
    {
     "name": "stderr",
     "output_type": "stream",
     "text": [
      "\r",
      " 79%|███████▉  | 15/19 [01:05<00:17,  4.38s/it]"
     ]
    },
    {
     "name": "stdout",
     "output_type": "stream",
     "text": [
      "('max mins', -0.9679249511255772, 1.0)\n"
     ]
    },
    {
     "name": "stderr",
     "output_type": "stream",
     "text": [
      "\r",
      " 84%|████████▍ | 16/19 [01:10<00:13,  4.37s/it]"
     ]
    },
    {
     "name": "stdout",
     "output_type": "stream",
     "text": [
      "('max mins', -0.9414557285434305, 1.0)\n"
     ]
    },
    {
     "name": "stderr",
     "output_type": "stream",
     "text": [
      "\r",
      " 89%|████████▉ | 17/19 [01:14<00:08,  4.37s/it]"
     ]
    },
    {
     "name": "stdout",
     "output_type": "stream",
     "text": [
      "('max mins', -0.9536997290119662, 1.0)\n"
     ]
    },
    {
     "name": "stderr",
     "output_type": "stream",
     "text": [
      "\r",
      " 95%|█████████▍| 18/19 [01:18<00:04,  4.37s/it]"
     ]
    },
    {
     "name": "stdout",
     "output_type": "stream",
     "text": [
      "('max mins', -0.963978928481249, 1.0)\n"
     ]
    },
    {
     "name": "stderr",
     "output_type": "stream",
     "text": [
      "100%|██████████| 19/19 [01:23<00:00,  4.36s/it]\n"
     ]
    },
    {
     "name": "stdout",
     "output_type": "stream",
     "text": [
      "('Best file pairs are: ', 'non_spikey_T0000017.WAV*non_spikey_T0000018.WAV')\n",
      "Start and end indices around peak:                  start index: 5398414\t\t          end index: 16898414                  total samples:30015488\n"
     ]
    },
    {
     "name": "stderr",
     "output_type": "stream",
     "text": [
      "../../../bin/audio_for_videoannotation.py:175: UserWarning: The AV sync may not be very great - please check again. The value was :0.22559267468775068\n",
      "  warnings.warn(warning_msg, stacklevel=1)\n"
     ]
    },
    {
     "name": "stdout",
     "output_type": "stream",
     "text": [
      "common_fps/Aditya_annotations/2018-08-19/common_fps_video_syncAditya_2018-08-20_0111-0200_37.csv\n",
      "('video_fps obtained is :', 25)\n",
      "Did not find user-provided sample rate - getting it from first file that matches format!\n",
      "('sampling rate is : ', 250000)\n",
      ".....finding best audio segment.....\n"
     ]
    },
    {
     "name": "stderr",
     "output_type": "stream",
     "text": [
      "\r",
      "  0%|          | 0/19 [00:00<?, ?it/s]"
     ]
    },
    {
     "name": "stdout",
     "output_type": "stream",
     "text": [
      "('max mins for upsampled video', -1.0, 0.9733738158189837)\n",
      "('max mins', -1.0, 0.9711352874397832)\n"
     ]
    },
    {
     "name": "stderr",
     "output_type": "stream",
     "text": [
      "\r",
      "  5%|▌         | 1/19 [00:04<01:18,  4.39s/it]"
     ]
    },
    {
     "name": "stdout",
     "output_type": "stream",
     "text": [
      "('max mins', -0.9771084664316616, 1.0)\n"
     ]
    },
    {
     "name": "stderr",
     "output_type": "stream",
     "text": [
      "\r",
      " 11%|█         | 2/19 [00:08<01:14,  4.40s/it]"
     ]
    },
    {
     "name": "stdout",
     "output_type": "stream",
     "text": [
      "('max mins', -0.9627106086984951, 1.0)\n"
     ]
    },
    {
     "name": "stderr",
     "output_type": "stream",
     "text": [
      "\r",
      " 16%|█▌        | 3/19 [00:13<01:10,  4.40s/it]"
     ]
    },
    {
     "name": "stdout",
     "output_type": "stream",
     "text": [
      "('max mins', -0.9589112402803294, 1.0)\n"
     ]
    },
    {
     "name": "stderr",
     "output_type": "stream",
     "text": [
      "\r",
      " 21%|██        | 4/19 [00:17<01:05,  4.39s/it]"
     ]
    },
    {
     "name": "stdout",
     "output_type": "stream",
     "text": [
      "('max mins', -0.9209354173005149, 1.0)\n"
     ]
    },
    {
     "name": "stderr",
     "output_type": "stream",
     "text": [
      "\r",
      " 26%|██▋       | 5/19 [00:21<01:01,  4.38s/it]"
     ]
    },
    {
     "name": "stdout",
     "output_type": "stream",
     "text": [
      "('max mins', -0.9402689997179013, 1.0)\n"
     ]
    },
    {
     "name": "stderr",
     "output_type": "stream",
     "text": [
      "\r",
      " 32%|███▏      | 6/19 [00:26<00:56,  4.38s/it]"
     ]
    },
    {
     "name": "stdout",
     "output_type": "stream",
     "text": [
      "('max mins', -0.9554307157828478, 1.0)\n"
     ]
    },
    {
     "name": "stderr",
     "output_type": "stream",
     "text": [
      "\r",
      " 37%|███▋      | 7/19 [00:30<00:52,  4.38s/it]"
     ]
    },
    {
     "name": "stdout",
     "output_type": "stream",
     "text": [
      "('max mins', -1.0, 0.9896982833853051)\n"
     ]
    },
    {
     "name": "stderr",
     "output_type": "stream",
     "text": [
      "\r",
      " 42%|████▏     | 8/19 [00:35<00:48,  4.38s/it]"
     ]
    },
    {
     "name": "stdout",
     "output_type": "stream",
     "text": [
      "('max mins', -0.9770317631352243, 1.0)\n"
     ]
    },
    {
     "name": "stderr",
     "output_type": "stream",
     "text": [
      "\r",
      " 47%|████▋     | 9/19 [00:39<00:43,  4.37s/it]"
     ]
    },
    {
     "name": "stdout",
     "output_type": "stream",
     "text": [
      "('max mins', -0.9604330112349305, 1.0)\n"
     ]
    },
    {
     "name": "stderr",
     "output_type": "stream",
     "text": [
      "\r",
      " 53%|█████▎    | 10/19 [00:43<00:39,  4.37s/it]"
     ]
    },
    {
     "name": "stdout",
     "output_type": "stream",
     "text": [
      "('max mins', -1.0, 0.9813355482916202)\n"
     ]
    },
    {
     "name": "stderr",
     "output_type": "stream",
     "text": [
      "\r",
      " 58%|█████▊    | 11/19 [00:48<00:34,  4.37s/it]"
     ]
    },
    {
     "name": "stdout",
     "output_type": "stream",
     "text": [
      "('max mins', -1.0, 0.9916817204346738)\n"
     ]
    },
    {
     "name": "stderr",
     "output_type": "stream",
     "text": [
      "\r",
      " 63%|██████▎   | 12/19 [00:52<00:30,  4.37s/it]"
     ]
    },
    {
     "name": "stdout",
     "output_type": "stream",
     "text": [
      "('max mins', -1.0, 0.9832754746981707)\n"
     ]
    },
    {
     "name": "stderr",
     "output_type": "stream",
     "text": [
      "\r",
      " 68%|██████▊   | 13/19 [00:56<00:26,  4.38s/it]"
     ]
    },
    {
     "name": "stdout",
     "output_type": "stream",
     "text": [
      "('max mins', -1.0, 0.9966273079495607)\n"
     ]
    },
    {
     "name": "stderr",
     "output_type": "stream",
     "text": [
      "\r",
      " 74%|███████▎  | 14/19 [01:01<00:22,  4.44s/it]"
     ]
    },
    {
     "name": "stdout",
     "output_type": "stream",
     "text": [
      "('max mins', -1.0, 0.9947318403602488)\n"
     ]
    },
    {
     "name": "stderr",
     "output_type": "stream",
     "text": [
      "\r",
      " 79%|███████▉  | 15/19 [01:05<00:17,  4.43s/it]"
     ]
    },
    {
     "name": "stdout",
     "output_type": "stream",
     "text": [
      "('max mins', -0.9679249511255772, 1.0)\n"
     ]
    },
    {
     "name": "stderr",
     "output_type": "stream",
     "text": [
      "\r",
      " 84%|████████▍ | 16/19 [01:10<00:13,  4.41s/it]"
     ]
    },
    {
     "name": "stdout",
     "output_type": "stream",
     "text": [
      "('max mins', -0.9414557285434305, 1.0)\n"
     ]
    },
    {
     "name": "stderr",
     "output_type": "stream",
     "text": [
      "\r",
      " 89%|████████▉ | 17/19 [01:14<00:08,  4.40s/it]"
     ]
    },
    {
     "name": "stdout",
     "output_type": "stream",
     "text": [
      "('max mins', -0.9536997290119662, 1.0)\n"
     ]
    },
    {
     "name": "stderr",
     "output_type": "stream",
     "text": [
      "\r",
      " 95%|█████████▍| 18/19 [01:19<00:04,  4.39s/it]"
     ]
    },
    {
     "name": "stdout",
     "output_type": "stream",
     "text": [
      "('max mins', -0.963978928481249, 1.0)\n"
     ]
    },
    {
     "name": "stderr",
     "output_type": "stream",
     "text": [
      "100%|██████████| 19/19 [01:23<00:00,  4.39s/it]\n"
     ]
    },
    {
     "name": "stdout",
     "output_type": "stream",
     "text": [
      "('Best file pairs are: ', 'non_spikey_T0000016.WAV*non_spikey_T0000017.WAV')\n",
      "Start and end indices around peak:                  start index: 5352478\t\t          end index: 16852478                  total samples:30015488\n"
     ]
    },
    {
     "name": "stderr",
     "output_type": "stream",
     "text": [
      "../../../bin/audio_for_videoannotation.py:175: UserWarning: The AV sync may not be very great - please check again. The value was :0.2320235824592605\n",
      "  warnings.warn(warning_msg, stacklevel=1)\n"
     ]
    },
    {
     "name": "stdout",
     "output_type": "stream",
     "text": [
      "common_fps/Aditya_annotations/2018-08-19/common_fps_video_syncAditya_2018-08-20_0111-0200_38.csv\n",
      "('video_fps obtained is :', 25)\n",
      "Did not find user-provided sample rate - getting it from first file that matches format!\n",
      "('sampling rate is : ', 250000)\n",
      ".....finding best audio segment.....\n"
     ]
    },
    {
     "name": "stderr",
     "output_type": "stream",
     "text": [
      "\r",
      "  0%|          | 0/19 [00:00<?, ?it/s]"
     ]
    },
    {
     "name": "stdout",
     "output_type": "stream",
     "text": [
      "('max mins for upsampled video', -1.0, 0.9594265419629052)\n",
      "('max mins', -1.0, 0.9711352874397832)\n"
     ]
    },
    {
     "name": "stderr",
     "output_type": "stream",
     "text": [
      "\r",
      "  5%|▌         | 1/19 [00:04<01:18,  4.38s/it]"
     ]
    },
    {
     "name": "stdout",
     "output_type": "stream",
     "text": [
      "('max mins', -0.9771084664316616, 1.0)\n"
     ]
    },
    {
     "name": "stderr",
     "output_type": "stream",
     "text": [
      "\r",
      " 11%|█         | 2/19 [00:08<01:14,  4.40s/it]"
     ]
    },
    {
     "name": "stdout",
     "output_type": "stream",
     "text": [
      "('max mins', -0.9627106086984951, 1.0)\n"
     ]
    },
    {
     "name": "stderr",
     "output_type": "stream",
     "text": [
      "\r",
      " 16%|█▌        | 3/19 [00:13<01:10,  4.39s/it]"
     ]
    },
    {
     "name": "stdout",
     "output_type": "stream",
     "text": [
      "('max mins', -0.9589112402803294, 1.0)\n"
     ]
    },
    {
     "name": "stderr",
     "output_type": "stream",
     "text": [
      "\r",
      " 21%|██        | 4/19 [00:17<01:05,  4.38s/it]"
     ]
    },
    {
     "name": "stdout",
     "output_type": "stream",
     "text": [
      "('max mins', -0.9209354173005149, 1.0)\n"
     ]
    },
    {
     "name": "stderr",
     "output_type": "stream",
     "text": [
      "\r",
      " 26%|██▋       | 5/19 [00:21<01:01,  4.37s/it]"
     ]
    },
    {
     "name": "stdout",
     "output_type": "stream",
     "text": [
      "('max mins', -0.9402689997179013, 1.0)\n"
     ]
    },
    {
     "name": "stderr",
     "output_type": "stream",
     "text": [
      "\r",
      " 32%|███▏      | 6/19 [00:26<00:56,  4.37s/it]"
     ]
    },
    {
     "name": "stdout",
     "output_type": "stream",
     "text": [
      "('max mins', -0.9554307157828478, 1.0)\n"
     ]
    },
    {
     "name": "stderr",
     "output_type": "stream",
     "text": [
      "\r",
      " 37%|███▋      | 7/19 [00:30<00:52,  4.37s/it]"
     ]
    },
    {
     "name": "stdout",
     "output_type": "stream",
     "text": [
      "('max mins', -1.0, 0.9896982833853051)\n"
     ]
    },
    {
     "name": "stderr",
     "output_type": "stream",
     "text": [
      "\r",
      " 42%|████▏     | 8/19 [00:35<00:48,  4.37s/it]"
     ]
    },
    {
     "name": "stdout",
     "output_type": "stream",
     "text": [
      "('max mins', -0.9770317631352243, 1.0)\n"
     ]
    },
    {
     "name": "stderr",
     "output_type": "stream",
     "text": [
      "\r",
      " 47%|████▋     | 9/19 [00:39<00:43,  4.37s/it]"
     ]
    },
    {
     "name": "stdout",
     "output_type": "stream",
     "text": [
      "('max mins', -0.9604330112349305, 1.0)\n"
     ]
    },
    {
     "name": "stderr",
     "output_type": "stream",
     "text": [
      "\r",
      " 53%|█████▎    | 10/19 [00:43<00:39,  4.37s/it]"
     ]
    },
    {
     "name": "stdout",
     "output_type": "stream",
     "text": [
      "('max mins', -1.0, 0.9813355482916202)\n"
     ]
    },
    {
     "name": "stderr",
     "output_type": "stream",
     "text": [
      "\r",
      " 58%|█████▊    | 11/19 [00:48<00:34,  4.37s/it]"
     ]
    },
    {
     "name": "stdout",
     "output_type": "stream",
     "text": [
      "('max mins', -1.0, 0.9916817204346738)\n"
     ]
    },
    {
     "name": "stderr",
     "output_type": "stream",
     "text": [
      "\r",
      " 63%|██████▎   | 12/19 [00:52<00:30,  4.37s/it]"
     ]
    },
    {
     "name": "stdout",
     "output_type": "stream",
     "text": [
      "('max mins', -1.0, 0.9832754746981707)\n"
     ]
    },
    {
     "name": "stderr",
     "output_type": "stream",
     "text": [
      "\r",
      " 68%|██████▊   | 13/19 [00:56<00:26,  4.37s/it]"
     ]
    },
    {
     "name": "stdout",
     "output_type": "stream",
     "text": [
      "('max mins', -1.0, 0.9966273079495607)\n"
     ]
    },
    {
     "name": "stderr",
     "output_type": "stream",
     "text": [
      "\r",
      " 74%|███████▎  | 14/19 [01:01<00:21,  4.37s/it]"
     ]
    },
    {
     "name": "stdout",
     "output_type": "stream",
     "text": [
      "('max mins', -1.0, 0.9947318403602488)\n"
     ]
    },
    {
     "name": "stderr",
     "output_type": "stream",
     "text": [
      "\r",
      " 79%|███████▉  | 15/19 [01:05<00:17,  4.39s/it]"
     ]
    },
    {
     "name": "stdout",
     "output_type": "stream",
     "text": [
      "('max mins', -0.9679249511255772, 1.0)\n"
     ]
    },
    {
     "name": "stderr",
     "output_type": "stream",
     "text": [
      "\r",
      " 84%|████████▍ | 16/19 [01:10<00:13,  4.38s/it]"
     ]
    },
    {
     "name": "stdout",
     "output_type": "stream",
     "text": [
      "('max mins', -0.9414557285434305, 1.0)\n"
     ]
    },
    {
     "name": "stderr",
     "output_type": "stream",
     "text": [
      "\r",
      " 89%|████████▉ | 17/19 [01:14<00:08,  4.38s/it]"
     ]
    },
    {
     "name": "stdout",
     "output_type": "stream",
     "text": [
      "('max mins', -0.9536997290119662, 1.0)\n"
     ]
    },
    {
     "name": "stderr",
     "output_type": "stream",
     "text": [
      "\r",
      " 95%|█████████▍| 18/19 [01:18<00:04,  4.37s/it]"
     ]
    },
    {
     "name": "stdout",
     "output_type": "stream",
     "text": [
      "('max mins', -0.963978928481249, 1.0)\n"
     ]
    },
    {
     "name": "stderr",
     "output_type": "stream",
     "text": [
      "100%|██████████| 19/19 [01:23<00:00,  4.37s/it]\n"
     ]
    },
    {
     "name": "stdout",
     "output_type": "stream",
     "text": [
      "('Best file pairs are: ', 'non_spikey_T0000016.WAV*non_spikey_T0000017.WAV')\n",
      "Start and end indices around peak:                  start index: 5602892\t\t          end index: 17102892                  total samples:30015488\n"
     ]
    },
    {
     "name": "stderr",
     "output_type": "stream",
     "text": [
      "../../../bin/audio_for_videoannotation.py:175: UserWarning: The AV sync may not be very great - please check again. The value was :0.22976312453679734\n",
      "  warnings.warn(warning_msg, stacklevel=1)\n"
     ]
    },
    {
     "name": "stdout",
     "output_type": "stream",
     "text": [
      "common_fps/Aditya_annotations/2018-08-19/common_fps_video_syncAditya_2018-08-20_0111-0200_39.csv\n",
      "('video_fps obtained is :', 25)\n",
      "Did not find user-provided sample rate - getting it from first file that matches format!\n",
      "('sampling rate is : ', 250000)\n",
      ".....finding best audio segment.....\n"
     ]
    },
    {
     "name": "stderr",
     "output_type": "stream",
     "text": [
      "\r",
      "  0%|          | 0/19 [00:00<?, ?it/s]"
     ]
    },
    {
     "name": "stdout",
     "output_type": "stream",
     "text": [
      "('max mins for upsampled video', -1.0, 0.9586993616265692)\n",
      "('max mins', -1.0, 0.9711352874397832)\n"
     ]
    },
    {
     "name": "stderr",
     "output_type": "stream",
     "text": [
      "\r",
      "  5%|▌         | 1/19 [00:04<01:18,  4.35s/it]"
     ]
    },
    {
     "name": "stdout",
     "output_type": "stream",
     "text": [
      "('max mins', -0.9771084664316616, 1.0)\n"
     ]
    },
    {
     "name": "stderr",
     "output_type": "stream",
     "text": [
      "\r",
      " 11%|█         | 2/19 [00:08<01:15,  4.43s/it]"
     ]
    },
    {
     "name": "stdout",
     "output_type": "stream",
     "text": [
      "('max mins', -0.9627106086984951, 1.0)\n"
     ]
    },
    {
     "name": "stderr",
     "output_type": "stream",
     "text": [
      "\r",
      " 16%|█▌        | 3/19 [00:13<01:10,  4.42s/it]"
     ]
    },
    {
     "name": "stdout",
     "output_type": "stream",
     "text": [
      "('max mins', -0.9589112402803294, 1.0)\n"
     ]
    },
    {
     "name": "stderr",
     "output_type": "stream",
     "text": [
      "\r",
      " 21%|██        | 4/19 [00:17<01:06,  4.40s/it]"
     ]
    },
    {
     "name": "stdout",
     "output_type": "stream",
     "text": [
      "('max mins', -0.9209354173005149, 1.0)\n"
     ]
    },
    {
     "name": "stderr",
     "output_type": "stream",
     "text": [
      "\r",
      " 26%|██▋       | 5/19 [00:22<01:01,  4.39s/it]"
     ]
    },
    {
     "name": "stdout",
     "output_type": "stream",
     "text": [
      "('max mins', -0.9402689997179013, 1.0)\n"
     ]
    },
    {
     "name": "stderr",
     "output_type": "stream",
     "text": [
      "\r",
      " 32%|███▏      | 6/19 [00:26<00:57,  4.39s/it]"
     ]
    },
    {
     "name": "stdout",
     "output_type": "stream",
     "text": [
      "('max mins', -0.9554307157828478, 1.0)\n"
     ]
    },
    {
     "name": "stderr",
     "output_type": "stream",
     "text": [
      "\r",
      " 37%|███▋      | 7/19 [00:30<00:52,  4.38s/it]"
     ]
    },
    {
     "name": "stdout",
     "output_type": "stream",
     "text": [
      "('max mins', -1.0, 0.9896982833853051)\n"
     ]
    },
    {
     "name": "stderr",
     "output_type": "stream",
     "text": [
      "\r",
      " 42%|████▏     | 8/19 [00:35<00:48,  4.38s/it]"
     ]
    },
    {
     "name": "stdout",
     "output_type": "stream",
     "text": [
      "('max mins', -0.9770317631352243, 1.0)\n"
     ]
    },
    {
     "name": "stderr",
     "output_type": "stream",
     "text": [
      "\r",
      " 47%|████▋     | 9/19 [00:39<00:43,  4.37s/it]"
     ]
    },
    {
     "name": "stdout",
     "output_type": "stream",
     "text": [
      "('max mins', -0.9604330112349305, 1.0)\n"
     ]
    },
    {
     "name": "stderr",
     "output_type": "stream",
     "text": [
      "\r",
      " 53%|█████▎    | 10/19 [00:43<00:39,  4.37s/it]"
     ]
    },
    {
     "name": "stdout",
     "output_type": "stream",
     "text": [
      "('max mins', -1.0, 0.9813355482916202)\n"
     ]
    },
    {
     "name": "stderr",
     "output_type": "stream",
     "text": [
      "\r",
      " 58%|█████▊    | 11/19 [00:48<00:34,  4.37s/it]"
     ]
    },
    {
     "name": "stdout",
     "output_type": "stream",
     "text": [
      "('max mins', -1.0, 0.9916817204346738)\n"
     ]
    },
    {
     "name": "stderr",
     "output_type": "stream",
     "text": [
      "\r",
      " 63%|██████▎   | 12/19 [00:52<00:30,  4.37s/it]"
     ]
    },
    {
     "name": "stdout",
     "output_type": "stream",
     "text": [
      "('max mins', -1.0, 0.9832754746981707)\n"
     ]
    },
    {
     "name": "stderr",
     "output_type": "stream",
     "text": [
      "\r",
      " 68%|██████▊   | 13/19 [00:57<00:26,  4.37s/it]"
     ]
    },
    {
     "name": "stdout",
     "output_type": "stream",
     "text": [
      "('max mins', -1.0, 0.9966273079495607)\n"
     ]
    },
    {
     "name": "stderr",
     "output_type": "stream",
     "text": [
      "\r",
      " 74%|███████▎  | 14/19 [01:01<00:21,  4.38s/it]"
     ]
    },
    {
     "name": "stdout",
     "output_type": "stream",
     "text": [
      "('max mins', -1.0, 0.9947318403602488)\n"
     ]
    },
    {
     "name": "stderr",
     "output_type": "stream",
     "text": [
      "\r",
      " 79%|███████▉  | 15/19 [01:05<00:17,  4.37s/it]"
     ]
    },
    {
     "name": "stdout",
     "output_type": "stream",
     "text": [
      "('max mins', -0.9679249511255772, 1.0)\n"
     ]
    },
    {
     "name": "stderr",
     "output_type": "stream",
     "text": [
      "\r",
      " 84%|████████▍ | 16/19 [01:10<00:13,  4.37s/it]"
     ]
    },
    {
     "name": "stdout",
     "output_type": "stream",
     "text": [
      "('max mins', -0.9414557285434305, 1.0)\n"
     ]
    },
    {
     "name": "stderr",
     "output_type": "stream",
     "text": [
      "\r",
      " 89%|████████▉ | 17/19 [01:14<00:08,  4.38s/it]"
     ]
    },
    {
     "name": "stdout",
     "output_type": "stream",
     "text": [
      "('max mins', -0.9536997290119662, 1.0)\n"
     ]
    },
    {
     "name": "stderr",
     "output_type": "stream",
     "text": [
      "\r",
      " 95%|█████████▍| 18/19 [01:18<00:04,  4.38s/it]"
     ]
    },
    {
     "name": "stdout",
     "output_type": "stream",
     "text": [
      "('max mins', -0.963978928481249, 1.0)\n"
     ]
    },
    {
     "name": "stderr",
     "output_type": "stream",
     "text": [
      "100%|██████████| 19/19 [01:23<00:00,  4.37s/it]\n"
     ]
    },
    {
     "name": "stdout",
     "output_type": "stream",
     "text": [
      "('Best file pairs are: ', 'non_spikey_T0000016.WAV*non_spikey_T0000017.WAV')\n",
      "Start and end indices around peak:                  start index: 5849564\t\t          end index: 17349564                  total samples:30015488\n"
     ]
    },
    {
     "name": "stderr",
     "output_type": "stream",
     "text": [
      "../../../bin/audio_for_videoannotation.py:175: UserWarning: The AV sync may not be very great - please check again. The value was :0.23370776284523834\n",
      "  warnings.warn(warning_msg, stacklevel=1)\n"
     ]
    },
    {
     "name": "stdout",
     "output_type": "stream",
     "text": [
      "common_fps/Aditya_annotations/2018-08-19/common_fps_video_syncAditya_2018-08-20_0111-0200_40.csv\n",
      "('video_fps obtained is :', 25)\n",
      "Did not find user-provided sample rate - getting it from first file that matches format!\n",
      "('sampling rate is : ', 250000)\n",
      ".....finding best audio segment.....\n"
     ]
    },
    {
     "name": "stderr",
     "output_type": "stream",
     "text": [
      "\r",
      "  0%|          | 0/19 [00:00<?, ?it/s]"
     ]
    },
    {
     "name": "stdout",
     "output_type": "stream",
     "text": [
      "('max mins for upsampled video', -1.0, 0.962221996334798)\n",
      "('max mins', -1.0, 0.9711352874397832)\n"
     ]
    },
    {
     "name": "stderr",
     "output_type": "stream",
     "text": [
      "\r",
      "  5%|▌         | 1/19 [00:04<01:18,  4.39s/it]"
     ]
    },
    {
     "name": "stdout",
     "output_type": "stream",
     "text": [
      "('max mins', -0.9771084664316616, 1.0)\n"
     ]
    },
    {
     "name": "stderr",
     "output_type": "stream",
     "text": [
      "\r",
      " 11%|█         | 2/19 [00:08<01:14,  4.39s/it]"
     ]
    },
    {
     "name": "stdout",
     "output_type": "stream",
     "text": [
      "('max mins', -0.9627106086984951, 1.0)\n"
     ]
    },
    {
     "name": "stderr",
     "output_type": "stream",
     "text": [
      "\r",
      " 16%|█▌        | 3/19 [00:13<01:10,  4.39s/it]"
     ]
    },
    {
     "name": "stdout",
     "output_type": "stream",
     "text": [
      "('max mins', -0.9589112402803294, 1.0)\n"
     ]
    },
    {
     "name": "stderr",
     "output_type": "stream",
     "text": [
      "\r",
      " 21%|██        | 4/19 [00:17<01:05,  4.40s/it]"
     ]
    },
    {
     "name": "stdout",
     "output_type": "stream",
     "text": [
      "('max mins', -0.9209354173005149, 1.0)\n"
     ]
    },
    {
     "name": "stderr",
     "output_type": "stream",
     "text": [
      "\r",
      " 26%|██▋       | 5/19 [00:22<01:01,  4.40s/it]"
     ]
    },
    {
     "name": "stdout",
     "output_type": "stream",
     "text": [
      "('max mins', -0.9402689997179013, 1.0)\n"
     ]
    },
    {
     "name": "stderr",
     "output_type": "stream",
     "text": [
      "\r",
      " 32%|███▏      | 6/19 [00:26<00:57,  4.40s/it]"
     ]
    },
    {
     "name": "stdout",
     "output_type": "stream",
     "text": [
      "('max mins', -0.9554307157828478, 1.0)\n"
     ]
    },
    {
     "name": "stderr",
     "output_type": "stream",
     "text": [
      "\r",
      " 37%|███▋      | 7/19 [00:30<00:52,  4.40s/it]"
     ]
    },
    {
     "name": "stdout",
     "output_type": "stream",
     "text": [
      "('max mins', -1.0, 0.9896982833853051)\n"
     ]
    },
    {
     "name": "stderr",
     "output_type": "stream",
     "text": [
      "\r",
      " 42%|████▏     | 8/19 [00:35<00:48,  4.40s/it]"
     ]
    },
    {
     "name": "stdout",
     "output_type": "stream",
     "text": [
      "('max mins', -0.9770317631352243, 1.0)\n"
     ]
    },
    {
     "name": "stderr",
     "output_type": "stream",
     "text": [
      "\r",
      " 47%|████▋     | 9/19 [00:39<00:44,  4.40s/it]"
     ]
    },
    {
     "name": "stdout",
     "output_type": "stream",
     "text": [
      "('max mins', -0.9604330112349305, 1.0)\n"
     ]
    },
    {
     "name": "stderr",
     "output_type": "stream",
     "text": [
      "\r",
      " 53%|█████▎    | 10/19 [00:44<00:40,  4.49s/it]"
     ]
    },
    {
     "name": "stdout",
     "output_type": "stream",
     "text": [
      "('max mins', -1.0, 0.9813355482916202)\n"
     ]
    },
    {
     "name": "stderr",
     "output_type": "stream",
     "text": [
      "\r",
      " 58%|█████▊    | 11/19 [00:48<00:35,  4.47s/it]"
     ]
    },
    {
     "name": "stdout",
     "output_type": "stream",
     "text": [
      "('max mins', -1.0, 0.9916817204346738)\n"
     ]
    },
    {
     "name": "stderr",
     "output_type": "stream",
     "text": [
      "\r",
      " 63%|██████▎   | 12/19 [00:53<00:31,  4.45s/it]"
     ]
    },
    {
     "name": "stdout",
     "output_type": "stream",
     "text": [
      "('max mins', -1.0, 0.9832754746981707)\n"
     ]
    },
    {
     "name": "stderr",
     "output_type": "stream",
     "text": [
      "\r",
      " 68%|██████▊   | 13/19 [00:57<00:26,  4.43s/it]"
     ]
    },
    {
     "name": "stdout",
     "output_type": "stream",
     "text": [
      "('max mins', -1.0, 0.9966273079495607)\n"
     ]
    },
    {
     "name": "stderr",
     "output_type": "stream",
     "text": [
      "\r",
      " 74%|███████▎  | 14/19 [01:01<00:22,  4.42s/it]"
     ]
    },
    {
     "name": "stdout",
     "output_type": "stream",
     "text": [
      "('max mins', -1.0, 0.9947318403602488)\n"
     ]
    },
    {
     "name": "stderr",
     "output_type": "stream",
     "text": [
      "\r",
      " 79%|███████▉  | 15/19 [01:06<00:17,  4.42s/it]"
     ]
    },
    {
     "name": "stdout",
     "output_type": "stream",
     "text": [
      "('max mins', -0.9679249511255772, 1.0)\n"
     ]
    },
    {
     "name": "stderr",
     "output_type": "stream",
     "text": [
      "\r",
      " 84%|████████▍ | 16/19 [01:10<00:13,  4.41s/it]"
     ]
    },
    {
     "name": "stdout",
     "output_type": "stream",
     "text": [
      "('max mins', -0.9414557285434305, 1.0)\n"
     ]
    },
    {
     "name": "stderr",
     "output_type": "stream",
     "text": [
      "\r",
      " 89%|████████▉ | 17/19 [01:15<00:08,  4.41s/it]"
     ]
    },
    {
     "name": "stdout",
     "output_type": "stream",
     "text": [
      "('max mins', -0.9536997290119662, 1.0)\n"
     ]
    },
    {
     "name": "stderr",
     "output_type": "stream",
     "text": [
      "\r",
      " 95%|█████████▍| 18/19 [01:19<00:04,  4.41s/it]"
     ]
    },
    {
     "name": "stdout",
     "output_type": "stream",
     "text": [
      "('max mins', -0.963978928481249, 1.0)\n"
     ]
    },
    {
     "name": "stderr",
     "output_type": "stream",
     "text": [
      "100%|██████████| 19/19 [01:23<00:00,  4.41s/it]\n"
     ]
    },
    {
     "name": "stdout",
     "output_type": "stream",
     "text": [
      "('Best file pairs are: ', 'non_spikey_T0000003.WAV*non_spikey_T0000004.WAV')\n",
      "Start and end indices around peak:                  start index: 8029514\t\t          end index: 19529514                  total samples:30015488\n"
     ]
    },
    {
     "name": "stderr",
     "output_type": "stream",
     "text": [
      "../../../bin/audio_for_videoannotation.py:175: UserWarning: The AV sync may not be very great - please check again. The value was :0.21951950122423727\n",
      "  warnings.warn(warning_msg, stacklevel=1)\n"
     ]
    },
    {
     "name": "stdout",
     "output_type": "stream",
     "text": [
      "common_fps/Aditya_annotations/2018-08-19/common_fps_video_syncAditya_2018-08-20_0111-0200_42.csv\n",
      "('video_fps obtained is :', 25)\n",
      "Did not find user-provided sample rate - getting it from first file that matches format!\n",
      "('sampling rate is : ', 250000)\n",
      ".....finding best audio segment.....\n"
     ]
    },
    {
     "name": "stderr",
     "output_type": "stream",
     "text": [
      "\r",
      "  0%|          | 0/19 [00:00<?, ?it/s]"
     ]
    },
    {
     "name": "stdout",
     "output_type": "stream",
     "text": [
      "('max mins for upsampled video', -1.0, 0.9405326758222974)\n",
      "('max mins', -1.0, 0.9711352874397832)\n"
     ]
    },
    {
     "name": "stderr",
     "output_type": "stream",
     "text": [
      "\r",
      "  5%|▌         | 1/19 [00:04<01:19,  4.41s/it]"
     ]
    },
    {
     "name": "stdout",
     "output_type": "stream",
     "text": [
      "('max mins', -0.9771084664316616, 1.0)\n"
     ]
    },
    {
     "name": "stderr",
     "output_type": "stream",
     "text": [
      "\r",
      " 11%|█         | 2/19 [00:08<01:14,  4.41s/it]"
     ]
    },
    {
     "name": "stdout",
     "output_type": "stream",
     "text": [
      "('max mins', -0.9627106086984951, 1.0)\n"
     ]
    },
    {
     "name": "stderr",
     "output_type": "stream",
     "text": [
      "\r",
      " 16%|█▌        | 3/19 [00:13<01:10,  4.41s/it]"
     ]
    },
    {
     "name": "stdout",
     "output_type": "stream",
     "text": [
      "('max mins', -0.9589112402803294, 1.0)\n"
     ]
    },
    {
     "name": "stderr",
     "output_type": "stream",
     "text": [
      "\r",
      " 21%|██        | 4/19 [00:17<01:06,  4.41s/it]"
     ]
    },
    {
     "name": "stdout",
     "output_type": "stream",
     "text": [
      "('max mins', -0.9209354173005149, 1.0)\n"
     ]
    },
    {
     "name": "stderr",
     "output_type": "stream",
     "text": [
      "\r",
      " 26%|██▋       | 5/19 [00:22<01:01,  4.41s/it]"
     ]
    },
    {
     "name": "stdout",
     "output_type": "stream",
     "text": [
      "('max mins', -0.9402689997179013, 1.0)\n"
     ]
    },
    {
     "name": "stderr",
     "output_type": "stream",
     "text": [
      "\r",
      " 32%|███▏      | 6/19 [00:26<00:57,  4.41s/it]"
     ]
    },
    {
     "name": "stdout",
     "output_type": "stream",
     "text": [
      "('max mins', -0.9554307157828478, 1.0)\n"
     ]
    },
    {
     "name": "stderr",
     "output_type": "stream",
     "text": [
      "\r",
      " 37%|███▋      | 7/19 [00:30<00:52,  4.41s/it]"
     ]
    },
    {
     "name": "stdout",
     "output_type": "stream",
     "text": [
      "('max mins', -1.0, 0.9896982833853051)\n"
     ]
    },
    {
     "name": "stderr",
     "output_type": "stream",
     "text": [
      "\r",
      " 42%|████▏     | 8/19 [00:35<00:48,  4.41s/it]"
     ]
    },
    {
     "name": "stdout",
     "output_type": "stream",
     "text": [
      "('max mins', -0.9770317631352243, 1.0)\n"
     ]
    },
    {
     "name": "stderr",
     "output_type": "stream",
     "text": [
      "\r",
      " 47%|████▋     | 9/19 [00:39<00:44,  4.41s/it]"
     ]
    },
    {
     "name": "stdout",
     "output_type": "stream",
     "text": [
      "('max mins', -0.9604330112349305, 1.0)\n"
     ]
    },
    {
     "name": "stderr",
     "output_type": "stream",
     "text": [
      "\r",
      " 53%|█████▎    | 10/19 [00:44<00:39,  4.42s/it]"
     ]
    },
    {
     "name": "stdout",
     "output_type": "stream",
     "text": [
      "('max mins', -1.0, 0.9813355482916202)\n"
     ]
    },
    {
     "name": "stderr",
     "output_type": "stream",
     "text": [
      "\r",
      " 58%|█████▊    | 11/19 [00:48<00:35,  4.42s/it]"
     ]
    },
    {
     "name": "stdout",
     "output_type": "stream",
     "text": [
      "('max mins', -1.0, 0.9916817204346738)\n"
     ]
    },
    {
     "name": "stderr",
     "output_type": "stream",
     "text": [
      "\r",
      " 63%|██████▎   | 12/19 [00:52<00:30,  4.42s/it]"
     ]
    },
    {
     "name": "stdout",
     "output_type": "stream",
     "text": [
      "('max mins', -1.0, 0.9832754746981707)\n"
     ]
    },
    {
     "name": "stderr",
     "output_type": "stream",
     "text": [
      "\r",
      " 68%|██████▊   | 13/19 [00:57<00:26,  4.42s/it]"
     ]
    },
    {
     "name": "stdout",
     "output_type": "stream",
     "text": [
      "('max mins', -1.0, 0.9966273079495607)\n"
     ]
    },
    {
     "name": "stderr",
     "output_type": "stream",
     "text": [
      "\r",
      " 74%|███████▎  | 14/19 [01:01<00:22,  4.42s/it]"
     ]
    },
    {
     "name": "stdout",
     "output_type": "stream",
     "text": [
      "('max mins', -1.0, 0.9947318403602488)\n"
     ]
    },
    {
     "name": "stderr",
     "output_type": "stream",
     "text": [
      "\r",
      " 79%|███████▉  | 15/19 [01:06<00:17,  4.41s/it]"
     ]
    },
    {
     "name": "stdout",
     "output_type": "stream",
     "text": [
      "('max mins', -0.9679249511255772, 1.0)\n"
     ]
    },
    {
     "name": "stderr",
     "output_type": "stream",
     "text": [
      "\r",
      " 84%|████████▍ | 16/19 [01:10<00:13,  4.41s/it]"
     ]
    },
    {
     "name": "stdout",
     "output_type": "stream",
     "text": [
      "('max mins', -0.9414557285434305, 1.0)\n"
     ]
    },
    {
     "name": "stderr",
     "output_type": "stream",
     "text": [
      "\r",
      " 89%|████████▉ | 17/19 [01:15<00:08,  4.50s/it]"
     ]
    },
    {
     "name": "stdout",
     "output_type": "stream",
     "text": [
      "('max mins', -0.9536997290119662, 1.0)\n"
     ]
    },
    {
     "name": "stderr",
     "output_type": "stream",
     "text": [
      "\r",
      " 95%|█████████▍| 18/19 [01:19<00:04,  4.47s/it]"
     ]
    },
    {
     "name": "stdout",
     "output_type": "stream",
     "text": [
      "('max mins', -0.963978928481249, 1.0)\n"
     ]
    },
    {
     "name": "stderr",
     "output_type": "stream",
     "text": [
      "100%|██████████| 19/19 [01:24<00:00,  4.52s/it]\n"
     ]
    },
    {
     "name": "stdout",
     "output_type": "stream",
     "text": [
      "('Best file pairs are: ', 'non_spikey_T0000008.WAV*non_spikey_T0000009.WAV')\n",
      "Start and end indices around peak:                  start index: 16141104\t\t          end index: 27641104                  total samples:30015488\n"
     ]
    },
    {
     "name": "stderr",
     "output_type": "stream",
     "text": [
      "../../../bin/audio_for_videoannotation.py:175: UserWarning: The AV sync may not be very great - please check again. The value was :0.23165262736449627\n",
      "  warnings.warn(warning_msg, stacklevel=1)\n"
     ]
    },
    {
     "name": "stdout",
     "output_type": "stream",
     "text": [
      "common_fps/Aditya_annotations/2018-08-19/common_fps_video_syncAditya_2018-08-20_0111-0200_43.csv\n",
      "('video_fps obtained is :', 25)\n",
      "Did not find user-provided sample rate - getting it from first file that matches format!\n",
      "('sampling rate is : ', 250000)\n",
      ".....finding best audio segment.....\n"
     ]
    },
    {
     "name": "stderr",
     "output_type": "stream",
     "text": [
      "\r",
      "  0%|          | 0/19 [00:00<?, ?it/s]"
     ]
    },
    {
     "name": "stdout",
     "output_type": "stream",
     "text": [
      "('max mins for upsampled video', -1.0, 0.9520276601203694)\n",
      "('max mins', -1.0, 0.9711352874397832)\n"
     ]
    },
    {
     "name": "stderr",
     "output_type": "stream",
     "text": [
      "\r",
      "  5%|▌         | 1/19 [00:04<01:18,  4.36s/it]"
     ]
    },
    {
     "name": "stdout",
     "output_type": "stream",
     "text": [
      "('max mins', -0.9771084664316616, 1.0)\n"
     ]
    },
    {
     "name": "stderr",
     "output_type": "stream",
     "text": [
      "\r",
      " 11%|█         | 2/19 [00:08<01:14,  4.36s/it]"
     ]
    },
    {
     "name": "stdout",
     "output_type": "stream",
     "text": [
      "('max mins', -0.9627106086984951, 1.0)\n"
     ]
    },
    {
     "name": "stderr",
     "output_type": "stream",
     "text": [
      "\r",
      " 16%|█▌        | 3/19 [00:13<01:09,  4.37s/it]"
     ]
    },
    {
     "name": "stdout",
     "output_type": "stream",
     "text": [
      "('max mins', -0.9589112402803294, 1.0)\n"
     ]
    },
    {
     "name": "stderr",
     "output_type": "stream",
     "text": [
      "\r",
      " 21%|██        | 4/19 [00:17<01:05,  4.37s/it]"
     ]
    },
    {
     "name": "stdout",
     "output_type": "stream",
     "text": [
      "('max mins', -0.9209354173005149, 1.0)\n"
     ]
    },
    {
     "name": "stderr",
     "output_type": "stream",
     "text": [
      "\r",
      " 26%|██▋       | 5/19 [00:21<01:01,  4.38s/it]"
     ]
    },
    {
     "name": "stdout",
     "output_type": "stream",
     "text": [
      "('max mins', -0.9402689997179013, 1.0)\n"
     ]
    },
    {
     "name": "stderr",
     "output_type": "stream",
     "text": [
      "\r",
      " 32%|███▏      | 6/19 [00:26<00:56,  4.38s/it]"
     ]
    },
    {
     "name": "stdout",
     "output_type": "stream",
     "text": [
      "('max mins', -0.9554307157828478, 1.0)\n"
     ]
    },
    {
     "name": "stderr",
     "output_type": "stream",
     "text": [
      "\r",
      " 37%|███▋      | 7/19 [00:30<00:52,  4.38s/it]"
     ]
    },
    {
     "name": "stdout",
     "output_type": "stream",
     "text": [
      "('max mins', -1.0, 0.9896982833853051)\n"
     ]
    },
    {
     "name": "stderr",
     "output_type": "stream",
     "text": [
      "\r",
      " 42%|████▏     | 8/19 [00:35<00:48,  4.38s/it]"
     ]
    },
    {
     "name": "stdout",
     "output_type": "stream",
     "text": [
      "('max mins', -0.9770317631352243, 1.0)\n"
     ]
    },
    {
     "name": "stderr",
     "output_type": "stream",
     "text": [
      "\r",
      " 47%|████▋     | 9/19 [00:39<00:43,  4.38s/it]"
     ]
    },
    {
     "name": "stdout",
     "output_type": "stream",
     "text": [
      "('max mins', -0.9604330112349305, 1.0)\n"
     ]
    },
    {
     "name": "stderr",
     "output_type": "stream",
     "text": [
      "\r",
      " 53%|█████▎    | 10/19 [00:43<00:39,  4.39s/it]"
     ]
    },
    {
     "name": "stdout",
     "output_type": "stream",
     "text": [
      "('max mins', -1.0, 0.9813355482916202)\n"
     ]
    },
    {
     "name": "stderr",
     "output_type": "stream",
     "text": [
      "\r",
      " 58%|█████▊    | 11/19 [00:48<00:35,  4.39s/it]"
     ]
    },
    {
     "name": "stdout",
     "output_type": "stream",
     "text": [
      "('max mins', -1.0, 0.9916817204346738)\n"
     ]
    },
    {
     "name": "stderr",
     "output_type": "stream",
     "text": [
      "\r",
      " 63%|██████▎   | 12/19 [00:52<00:30,  4.40s/it]"
     ]
    },
    {
     "name": "stdout",
     "output_type": "stream",
     "text": [
      "('max mins', -1.0, 0.9832754746981707)\n"
     ]
    },
    {
     "name": "stderr",
     "output_type": "stream",
     "text": [
      "\r",
      " 68%|██████▊   | 13/19 [00:57<00:26,  4.39s/it]"
     ]
    },
    {
     "name": "stdout",
     "output_type": "stream",
     "text": [
      "('max mins', -1.0, 0.9966273079495607)\n"
     ]
    },
    {
     "name": "stderr",
     "output_type": "stream",
     "text": [
      "\r",
      " 74%|███████▎  | 14/19 [01:01<00:21,  4.39s/it]"
     ]
    },
    {
     "name": "stdout",
     "output_type": "stream",
     "text": [
      "('max mins', -1.0, 0.9947318403602488)\n"
     ]
    },
    {
     "name": "stderr",
     "output_type": "stream",
     "text": [
      "\r",
      " 79%|███████▉  | 15/19 [01:05<00:17,  4.39s/it]"
     ]
    },
    {
     "name": "stdout",
     "output_type": "stream",
     "text": [
      "('max mins', -0.9679249511255772, 1.0)\n"
     ]
    },
    {
     "name": "stderr",
     "output_type": "stream",
     "text": [
      "\r",
      " 84%|████████▍ | 16/19 [01:10<00:13,  4.43s/it]"
     ]
    },
    {
     "name": "stdout",
     "output_type": "stream",
     "text": [
      "('max mins', -0.9414557285434305, 1.0)\n"
     ]
    },
    {
     "name": "stderr",
     "output_type": "stream",
     "text": [
      "\r",
      " 89%|████████▉ | 17/19 [01:14<00:08,  4.41s/it]"
     ]
    },
    {
     "name": "stdout",
     "output_type": "stream",
     "text": [
      "('max mins', -0.9536997290119662, 1.0)\n"
     ]
    },
    {
     "name": "stderr",
     "output_type": "stream",
     "text": [
      "\r",
      " 95%|█████████▍| 18/19 [01:19<00:04,  4.40s/it]"
     ]
    },
    {
     "name": "stdout",
     "output_type": "stream",
     "text": [
      "('max mins', -0.963978928481249, 1.0)\n"
     ]
    },
    {
     "name": "stderr",
     "output_type": "stream",
     "text": [
      "100%|██████████| 19/19 [01:23<00:00,  4.39s/it]\n"
     ]
    },
    {
     "name": "stdout",
     "output_type": "stream",
     "text": [
      "('Best file pairs are: ', 'non_spikey_T0000008.WAV*non_spikey_T0000009.WAV')\n",
      "Start and end indices around peak:                  start index: 16389472\t\t          end index: 27889472                  total samples:30015488\n"
     ]
    },
    {
     "name": "stderr",
     "output_type": "stream",
     "text": [
      "../../../bin/audio_for_videoannotation.py:175: UserWarning: The AV sync may not be very great - please check again. The value was :0.2330105851624347\n",
      "  warnings.warn(warning_msg, stacklevel=1)\n"
     ]
    },
    {
     "name": "stdout",
     "output_type": "stream",
     "text": [
      "common_fps/Aditya_annotations/2018-08-19/common_fps_video_syncAditya_2018-08-20_0111-0200_44.csv\n",
      "('video_fps obtained is :', 25)\n",
      "Did not find user-provided sample rate - getting it from first file that matches format!\n",
      "('sampling rate is : ', 250000)\n",
      ".....finding best audio segment.....\n"
     ]
    },
    {
     "name": "stderr",
     "output_type": "stream",
     "text": [
      "\r",
      "  0%|          | 0/19 [00:00<?, ?it/s]"
     ]
    },
    {
     "name": "stdout",
     "output_type": "stream",
     "text": [
      "('max mins for upsampled video', -1.0, 0.9544303855653521)\n",
      "('max mins', -1.0, 0.9711352874397832)\n"
     ]
    },
    {
     "name": "stderr",
     "output_type": "stream",
     "text": [
      "\r",
      "  5%|▌         | 1/19 [00:04<01:18,  4.35s/it]"
     ]
    },
    {
     "name": "stdout",
     "output_type": "stream",
     "text": [
      "('max mins', -0.9771084664316616, 1.0)\n"
     ]
    },
    {
     "name": "stderr",
     "output_type": "stream",
     "text": [
      "\r",
      " 11%|█         | 2/19 [00:08<01:14,  4.37s/it]"
     ]
    },
    {
     "name": "stdout",
     "output_type": "stream",
     "text": [
      "('max mins', -0.9627106086984951, 1.0)\n"
     ]
    },
    {
     "name": "stderr",
     "output_type": "stream",
     "text": [
      "\r",
      " 16%|█▌        | 3/19 [00:13<01:09,  4.37s/it]"
     ]
    },
    {
     "name": "stdout",
     "output_type": "stream",
     "text": [
      "('max mins', -0.9589112402803294, 1.0)\n"
     ]
    },
    {
     "name": "stderr",
     "output_type": "stream",
     "text": [
      "\r",
      " 21%|██        | 4/19 [00:17<01:05,  4.37s/it]"
     ]
    },
    {
     "name": "stdout",
     "output_type": "stream",
     "text": [
      "('max mins', -0.9209354173005149, 1.0)\n"
     ]
    },
    {
     "name": "stderr",
     "output_type": "stream",
     "text": [
      "\r",
      " 26%|██▋       | 5/19 [00:22<01:02,  4.47s/it]"
     ]
    },
    {
     "name": "stdout",
     "output_type": "stream",
     "text": [
      "('max mins', -0.9402689997179013, 1.0)\n"
     ]
    },
    {
     "name": "stderr",
     "output_type": "stream",
     "text": [
      "\r",
      " 32%|███▏      | 6/19 [00:26<00:57,  4.44s/it]"
     ]
    },
    {
     "name": "stdout",
     "output_type": "stream",
     "text": [
      "('max mins', -0.9554307157828478, 1.0)\n"
     ]
    },
    {
     "name": "stderr",
     "output_type": "stream",
     "text": [
      "\r",
      " 37%|███▋      | 7/19 [00:30<00:52,  4.42s/it]"
     ]
    },
    {
     "name": "stdout",
     "output_type": "stream",
     "text": [
      "('max mins', -1.0, 0.9896982833853051)\n"
     ]
    },
    {
     "name": "stderr",
     "output_type": "stream",
     "text": [
      "\r",
      " 42%|████▏     | 8/19 [00:35<00:48,  4.41s/it]"
     ]
    },
    {
     "name": "stdout",
     "output_type": "stream",
     "text": [
      "('max mins', -0.9770317631352243, 1.0)\n"
     ]
    },
    {
     "name": "stderr",
     "output_type": "stream",
     "text": [
      "\r",
      " 47%|████▋     | 9/19 [00:39<00:44,  4.40s/it]"
     ]
    },
    {
     "name": "stdout",
     "output_type": "stream",
     "text": [
      "('max mins', -0.9604330112349305, 1.0)\n"
     ]
    },
    {
     "name": "stderr",
     "output_type": "stream",
     "text": [
      "\r",
      " 53%|█████▎    | 10/19 [00:44<00:39,  4.40s/it]"
     ]
    },
    {
     "name": "stdout",
     "output_type": "stream",
     "text": [
      "('max mins', -1.0, 0.9813355482916202)\n"
     ]
    },
    {
     "name": "stderr",
     "output_type": "stream",
     "text": [
      "\r",
      " 58%|█████▊    | 11/19 [00:48<00:35,  4.39s/it]"
     ]
    },
    {
     "name": "stdout",
     "output_type": "stream",
     "text": [
      "('max mins', -1.0, 0.9916817204346738)\n"
     ]
    },
    {
     "name": "stderr",
     "output_type": "stream",
     "text": [
      "\r",
      " 63%|██████▎   | 12/19 [00:52<00:30,  4.38s/it]"
     ]
    },
    {
     "name": "stdout",
     "output_type": "stream",
     "text": [
      "('max mins', -1.0, 0.9832754746981707)\n"
     ]
    },
    {
     "name": "stderr",
     "output_type": "stream",
     "text": [
      "\r",
      " 68%|██████▊   | 13/19 [00:57<00:26,  4.38s/it]"
     ]
    },
    {
     "name": "stdout",
     "output_type": "stream",
     "text": [
      "('max mins', -1.0, 0.9966273079495607)\n"
     ]
    },
    {
     "name": "stderr",
     "output_type": "stream",
     "text": [
      "\r",
      " 74%|███████▎  | 14/19 [01:02<00:22,  4.50s/it]"
     ]
    },
    {
     "name": "stdout",
     "output_type": "stream",
     "text": [
      "('max mins', -1.0, 0.9947318403602488)\n"
     ]
    },
    {
     "name": "stderr",
     "output_type": "stream",
     "text": [
      "\r",
      " 79%|███████▉  | 15/19 [01:06<00:17,  4.46s/it]"
     ]
    },
    {
     "name": "stdout",
     "output_type": "stream",
     "text": [
      "('max mins', -0.9679249511255772, 1.0)\n"
     ]
    },
    {
     "name": "stderr",
     "output_type": "stream",
     "text": [
      "\r",
      " 84%|████████▍ | 16/19 [01:10<00:13,  4.44s/it]"
     ]
    },
    {
     "name": "stdout",
     "output_type": "stream",
     "text": [
      "('max mins', -0.9414557285434305, 1.0)\n"
     ]
    },
    {
     "name": "stderr",
     "output_type": "stream",
     "text": [
      "\r",
      " 89%|████████▉ | 17/19 [01:15<00:08,  4.42s/it]"
     ]
    },
    {
     "name": "stdout",
     "output_type": "stream",
     "text": [
      "('max mins', -0.9536997290119662, 1.0)\n"
     ]
    },
    {
     "name": "stderr",
     "output_type": "stream",
     "text": [
      "\r",
      " 95%|█████████▍| 18/19 [01:19<00:04,  4.41s/it]"
     ]
    },
    {
     "name": "stdout",
     "output_type": "stream",
     "text": [
      "('max mins', -0.963978928481249, 1.0)\n"
     ]
    },
    {
     "name": "stderr",
     "output_type": "stream",
     "text": [
      "100%|██████████| 19/19 [01:23<00:00,  4.40s/it]\n"
     ]
    },
    {
     "name": "stdout",
     "output_type": "stream",
     "text": [
      "('Best file pairs are: ', 'non_spikey_T0000008.WAV*non_spikey_T0000009.WAV')\n",
      "Start and end indices around peak:                  start index: 16638243\t\t          end index: 28138243                  total samples:30015488\n"
     ]
    },
    {
     "name": "stderr",
     "output_type": "stream",
     "text": [
      "../../../bin/audio_for_videoannotation.py:175: UserWarning: The AV sync may not be very great - please check again. The value was :0.23539005827375992\n",
      "  warnings.warn(warning_msg, stacklevel=1)\n"
     ]
    },
    {
     "name": "stdout",
     "output_type": "stream",
     "text": [
      "common_fps/Aditya_annotations/2018-08-19/common_fps_video_syncAditya_2018-08-20_0111-0200_45.csv\n",
      "('video_fps obtained is :', 25)\n",
      "Did not find user-provided sample rate - getting it from first file that matches format!\n",
      "('sampling rate is : ', 250000)\n",
      ".....finding best audio segment.....\n"
     ]
    },
    {
     "name": "stderr",
     "output_type": "stream",
     "text": [
      "\r",
      "  0%|          | 0/19 [00:00<?, ?it/s]"
     ]
    },
    {
     "name": "stdout",
     "output_type": "stream",
     "text": [
      "('max mins for upsampled video', -1.0, 0.9518777931826324)\n",
      "('max mins', -1.0, 0.9711352874397832)\n"
     ]
    },
    {
     "name": "stderr",
     "output_type": "stream",
     "text": [
      "\r",
      "  5%|▌         | 1/19 [00:04<01:18,  4.37s/it]"
     ]
    },
    {
     "name": "stdout",
     "output_type": "stream",
     "text": [
      "('max mins', -0.9771084664316616, 1.0)\n"
     ]
    },
    {
     "name": "stderr",
     "output_type": "stream",
     "text": [
      "\r",
      " 11%|█         | 2/19 [00:08<01:14,  4.36s/it]"
     ]
    },
    {
     "name": "stdout",
     "output_type": "stream",
     "text": [
      "('max mins', -0.9627106086984951, 1.0)\n"
     ]
    },
    {
     "name": "stderr",
     "output_type": "stream",
     "text": [
      "\r",
      " 16%|█▌        | 3/19 [00:13<01:09,  4.36s/it]"
     ]
    },
    {
     "name": "stdout",
     "output_type": "stream",
     "text": [
      "('max mins', -0.9589112402803294, 1.0)\n"
     ]
    },
    {
     "name": "stderr",
     "output_type": "stream",
     "text": [
      "\r",
      " 21%|██        | 4/19 [00:17<01:05,  4.37s/it]"
     ]
    },
    {
     "name": "stdout",
     "output_type": "stream",
     "text": [
      "('max mins', -0.9209354173005149, 1.0)\n"
     ]
    },
    {
     "name": "stderr",
     "output_type": "stream",
     "text": [
      "\r",
      " 26%|██▋       | 5/19 [00:21<01:01,  4.37s/it]"
     ]
    },
    {
     "name": "stdout",
     "output_type": "stream",
     "text": [
      "('max mins', -0.9402689997179013, 1.0)\n"
     ]
    },
    {
     "name": "stderr",
     "output_type": "stream",
     "text": [
      "\r",
      " 32%|███▏      | 6/19 [00:26<00:56,  4.37s/it]"
     ]
    },
    {
     "name": "stdout",
     "output_type": "stream",
     "text": [
      "('max mins', -0.9554307157828478, 1.0)\n"
     ]
    },
    {
     "name": "stderr",
     "output_type": "stream",
     "text": [
      "\r",
      " 37%|███▋      | 7/19 [00:30<00:52,  4.37s/it]"
     ]
    },
    {
     "name": "stdout",
     "output_type": "stream",
     "text": [
      "('max mins', -1.0, 0.9896982833853051)\n"
     ]
    },
    {
     "name": "stderr",
     "output_type": "stream",
     "text": [
      "\r",
      " 42%|████▏     | 8/19 [00:34<00:48,  4.37s/it]"
     ]
    },
    {
     "name": "stdout",
     "output_type": "stream",
     "text": [
      "('max mins', -0.9770317631352243, 1.0)\n"
     ]
    },
    {
     "name": "stderr",
     "output_type": "stream",
     "text": [
      "\r",
      " 47%|████▋     | 9/19 [00:39<00:43,  4.37s/it]"
     ]
    },
    {
     "name": "stdout",
     "output_type": "stream",
     "text": [
      "('max mins', -0.9604330112349305, 1.0)\n"
     ]
    },
    {
     "name": "stderr",
     "output_type": "stream",
     "text": [
      "\r",
      " 53%|█████▎    | 10/19 [00:43<00:39,  4.37s/it]"
     ]
    },
    {
     "name": "stdout",
     "output_type": "stream",
     "text": [
      "('max mins', -1.0, 0.9813355482916202)\n"
     ]
    },
    {
     "name": "stderr",
     "output_type": "stream",
     "text": [
      "\r",
      " 58%|█████▊    | 11/19 [00:48<00:34,  4.36s/it]"
     ]
    },
    {
     "name": "stdout",
     "output_type": "stream",
     "text": [
      "('max mins', -1.0, 0.9916817204346738)\n"
     ]
    },
    {
     "name": "stderr",
     "output_type": "stream",
     "text": [
      "\r",
      " 63%|██████▎   | 12/19 [00:52<00:30,  4.39s/it]"
     ]
    },
    {
     "name": "stdout",
     "output_type": "stream",
     "text": [
      "('max mins', -1.0, 0.9832754746981707)\n"
     ]
    },
    {
     "name": "stderr",
     "output_type": "stream",
     "text": [
      "\r",
      " 68%|██████▊   | 13/19 [00:56<00:26,  4.40s/it]"
     ]
    },
    {
     "name": "stdout",
     "output_type": "stream",
     "text": [
      "('max mins', -1.0, 0.9966273079495607)\n"
     ]
    },
    {
     "name": "stderr",
     "output_type": "stream",
     "text": [
      "\r",
      " 74%|███████▎  | 14/19 [01:01<00:21,  4.39s/it]"
     ]
    },
    {
     "name": "stdout",
     "output_type": "stream",
     "text": [
      "('max mins', -1.0, 0.9947318403602488)\n"
     ]
    },
    {
     "name": "stderr",
     "output_type": "stream",
     "text": [
      "\r",
      " 79%|███████▉  | 15/19 [01:05<00:17,  4.39s/it]"
     ]
    },
    {
     "name": "stdout",
     "output_type": "stream",
     "text": [
      "('max mins', -0.9679249511255772, 1.0)\n"
     ]
    },
    {
     "name": "stderr",
     "output_type": "stream",
     "text": [
      "\r",
      " 84%|████████▍ | 16/19 [01:10<00:13,  4.38s/it]"
     ]
    },
    {
     "name": "stdout",
     "output_type": "stream",
     "text": [
      "('max mins', -0.9414557285434305, 1.0)\n"
     ]
    },
    {
     "name": "stderr",
     "output_type": "stream",
     "text": [
      "\r",
      " 89%|████████▉ | 17/19 [01:14<00:08,  4.38s/it]"
     ]
    },
    {
     "name": "stdout",
     "output_type": "stream",
     "text": [
      "('max mins', -0.9536997290119662, 1.0)\n"
     ]
    },
    {
     "name": "stderr",
     "output_type": "stream",
     "text": [
      "\r",
      " 95%|█████████▍| 18/19 [01:18<00:04,  4.38s/it]"
     ]
    },
    {
     "name": "stdout",
     "output_type": "stream",
     "text": [
      "('max mins', -0.963978928481249, 1.0)\n"
     ]
    },
    {
     "name": "stderr",
     "output_type": "stream",
     "text": [
      "100%|██████████| 19/19 [01:23<00:00,  4.38s/it]\n"
     ]
    },
    {
     "name": "stdout",
     "output_type": "stream",
     "text": [
      "('Best file pairs are: ', 'non_spikey_T0000008.WAV*non_spikey_T0000009.WAV')\n",
      "Start and end indices around peak:                  start index: 16888243\t\t          end index: 28388243                  total samples:30015488\n"
     ]
    },
    {
     "name": "stderr",
     "output_type": "stream",
     "text": [
      "../../../bin/audio_for_videoannotation.py:175: UserWarning: The AV sync may not be very great - please check again. The value was :0.2285187049638535\n",
      "  warnings.warn(warning_msg, stacklevel=1)\n"
     ]
    },
    {
     "name": "stdout",
     "output_type": "stream",
     "text": [
      "common_fps/Aditya_annotations/2018-08-19/common_fps_video_syncAditya_2018-08-20_0111-0200_47.csv\n",
      "('video_fps obtained is :', 25)\n",
      "Did not find user-provided sample rate - getting it from first file that matches format!\n",
      "('sampling rate is : ', 250000)\n",
      ".....finding best audio segment.....\n"
     ]
    },
    {
     "name": "stderr",
     "output_type": "stream",
     "text": [
      "\r",
      "  0%|          | 0/19 [00:00<?, ?it/s]"
     ]
    },
    {
     "name": "stdout",
     "output_type": "stream",
     "text": [
      "('max mins for upsampled video', -1.0, 0.9439945015018677)\n",
      "('max mins', -1.0, 0.9711352874397832)\n"
     ]
    },
    {
     "name": "stderr",
     "output_type": "stream",
     "text": [
      "\r",
      "  5%|▌         | 1/19 [00:04<01:18,  4.35s/it]"
     ]
    },
    {
     "name": "stdout",
     "output_type": "stream",
     "text": [
      "('max mins', -0.9771084664316616, 1.0)\n"
     ]
    },
    {
     "name": "stderr",
     "output_type": "stream",
     "text": [
      "\r",
      " 11%|█         | 2/19 [00:08<01:13,  4.35s/it]"
     ]
    },
    {
     "name": "stdout",
     "output_type": "stream",
     "text": [
      "('max mins', -0.9627106086984951, 1.0)\n"
     ]
    },
    {
     "name": "stderr",
     "output_type": "stream",
     "text": [
      "\r",
      " 16%|█▌        | 3/19 [00:13<01:09,  4.36s/it]"
     ]
    },
    {
     "name": "stdout",
     "output_type": "stream",
     "text": [
      "('max mins', -0.9589112402803294, 1.0)\n"
     ]
    },
    {
     "name": "stderr",
     "output_type": "stream",
     "text": [
      "\r",
      " 21%|██        | 4/19 [00:17<01:05,  4.36s/it]"
     ]
    },
    {
     "name": "stdout",
     "output_type": "stream",
     "text": [
      "('max mins', -0.9209354173005149, 1.0)\n"
     ]
    },
    {
     "name": "stderr",
     "output_type": "stream",
     "text": [
      "\r",
      " 26%|██▋       | 5/19 [00:21<01:01,  4.36s/it]"
     ]
    },
    {
     "name": "stdout",
     "output_type": "stream",
     "text": [
      "('max mins', -0.9402689997179013, 1.0)\n"
     ]
    },
    {
     "name": "stderr",
     "output_type": "stream",
     "text": [
      "\r",
      " 32%|███▏      | 6/19 [00:26<00:56,  4.37s/it]"
     ]
    },
    {
     "name": "stdout",
     "output_type": "stream",
     "text": [
      "('max mins', -0.9554307157828478, 1.0)\n"
     ]
    },
    {
     "name": "stderr",
     "output_type": "stream",
     "text": [
      "\r",
      " 37%|███▋      | 7/19 [00:30<00:52,  4.37s/it]"
     ]
    },
    {
     "name": "stdout",
     "output_type": "stream",
     "text": [
      "('max mins', -1.0, 0.9896982833853051)\n"
     ]
    },
    {
     "name": "stderr",
     "output_type": "stream",
     "text": [
      "\r",
      " 42%|████▏     | 8/19 [00:34<00:48,  4.37s/it]"
     ]
    },
    {
     "name": "stdout",
     "output_type": "stream",
     "text": [
      "('max mins', -0.9770317631352243, 1.0)\n"
     ]
    },
    {
     "name": "stderr",
     "output_type": "stream",
     "text": [
      "\r",
      " 47%|████▋     | 9/19 [00:39<00:43,  4.37s/it]"
     ]
    },
    {
     "name": "stdout",
     "output_type": "stream",
     "text": [
      "('max mins', -0.9604330112349305, 1.0)\n"
     ]
    },
    {
     "name": "stderr",
     "output_type": "stream",
     "text": [
      "\r",
      " 53%|█████▎    | 10/19 [00:43<00:39,  4.37s/it]"
     ]
    },
    {
     "name": "stdout",
     "output_type": "stream",
     "text": [
      "('max mins', -1.0, 0.9813355482916202)\n"
     ]
    },
    {
     "name": "stderr",
     "output_type": "stream",
     "text": [
      "\r",
      " 58%|█████▊    | 11/19 [00:48<00:34,  4.36s/it]"
     ]
    },
    {
     "name": "stdout",
     "output_type": "stream",
     "text": [
      "('max mins', -1.0, 0.9916817204346738)\n"
     ]
    },
    {
     "name": "stderr",
     "output_type": "stream",
     "text": [
      "\r",
      " 63%|██████▎   | 12/19 [00:52<00:30,  4.37s/it]"
     ]
    },
    {
     "name": "stdout",
     "output_type": "stream",
     "text": [
      "('max mins', -1.0, 0.9832754746981707)\n"
     ]
    },
    {
     "name": "stderr",
     "output_type": "stream",
     "text": [
      "\r",
      " 68%|██████▊   | 13/19 [00:57<00:26,  4.46s/it]"
     ]
    },
    {
     "name": "stdout",
     "output_type": "stream",
     "text": [
      "('max mins', -1.0, 0.9966273079495607)\n"
     ]
    },
    {
     "name": "stderr",
     "output_type": "stream",
     "text": [
      "\r",
      " 74%|███████▎  | 14/19 [01:01<00:22,  4.43s/it]"
     ]
    },
    {
     "name": "stdout",
     "output_type": "stream",
     "text": [
      "('max mins', -1.0, 0.9947318403602488)\n"
     ]
    },
    {
     "name": "stderr",
     "output_type": "stream",
     "text": [
      "\r",
      " 79%|███████▉  | 15/19 [01:05<00:17,  4.41s/it]"
     ]
    },
    {
     "name": "stdout",
     "output_type": "stream",
     "text": [
      "('max mins', -0.9679249511255772, 1.0)\n"
     ]
    },
    {
     "name": "stderr",
     "output_type": "stream",
     "text": [
      "\r",
      " 84%|████████▍ | 16/19 [01:10<00:13,  4.39s/it]"
     ]
    },
    {
     "name": "stdout",
     "output_type": "stream",
     "text": [
      "('max mins', -0.9414557285434305, 1.0)\n"
     ]
    },
    {
     "name": "stderr",
     "output_type": "stream",
     "text": [
      "\r",
      " 89%|████████▉ | 17/19 [01:14<00:08,  4.39s/it]"
     ]
    },
    {
     "name": "stdout",
     "output_type": "stream",
     "text": [
      "('max mins', -0.9536997290119662, 1.0)\n"
     ]
    },
    {
     "name": "stderr",
     "output_type": "stream",
     "text": [
      "\r",
      " 95%|█████████▍| 18/19 [01:18<00:04,  4.38s/it]"
     ]
    },
    {
     "name": "stdout",
     "output_type": "stream",
     "text": [
      "('max mins', -0.963978928481249, 1.0)\n"
     ]
    },
    {
     "name": "stderr",
     "output_type": "stream",
     "text": [
      "100%|██████████| 19/19 [01:23<00:00,  4.37s/it]\n"
     ]
    },
    {
     "name": "stdout",
     "output_type": "stream",
     "text": [
      "('Best file pairs are: ', 'non_spikey_T0000008.WAV*non_spikey_T0000009.WAV')\n",
      "Start and end indices around peak:                  start index: 17386319\t\t          end index: 28886319                  total samples:30015488\n"
     ]
    },
    {
     "name": "stderr",
     "output_type": "stream",
     "text": [
      "../../../bin/audio_for_videoannotation.py:175: UserWarning: The AV sync may not be very great - please check again. The value was :0.23413983569099114\n",
      "  warnings.warn(warning_msg, stacklevel=1)\n"
     ]
    },
    {
     "name": "stdout",
     "output_type": "stream",
     "text": [
      "common_fps/Aditya_annotations/2018-08-19/common_fps_video_syncAditya_2018-08-20_0111-0200_49.csv\n",
      "('video_fps obtained is :', 25)\n",
      "Did not find user-provided sample rate - getting it from first file that matches format!\n",
      "('sampling rate is : ', 250000)\n",
      ".....finding best audio segment.....\n"
     ]
    },
    {
     "name": "stderr",
     "output_type": "stream",
     "text": [
      "\r",
      "  0%|          | 0/19 [00:00<?, ?it/s]"
     ]
    },
    {
     "name": "stdout",
     "output_type": "stream",
     "text": [
      "('max mins for upsampled video', -0.9853844719379065, 1.0)\n",
      "('max mins', -1.0, 0.9711352874397832)\n"
     ]
    },
    {
     "name": "stderr",
     "output_type": "stream",
     "text": [
      "\r",
      "  5%|▌         | 1/19 [00:04<01:19,  4.41s/it]"
     ]
    },
    {
     "name": "stdout",
     "output_type": "stream",
     "text": [
      "('max mins', -0.9771084664316616, 1.0)\n"
     ]
    },
    {
     "name": "stderr",
     "output_type": "stream",
     "text": [
      "\r",
      " 11%|█         | 2/19 [00:08<01:14,  4.41s/it]"
     ]
    },
    {
     "name": "stdout",
     "output_type": "stream",
     "text": [
      "('max mins', -0.9627106086984951, 1.0)\n"
     ]
    },
    {
     "name": "stderr",
     "output_type": "stream",
     "text": [
      "\r",
      " 16%|█▌        | 3/19 [00:13<01:10,  4.40s/it]"
     ]
    },
    {
     "name": "stdout",
     "output_type": "stream",
     "text": [
      "('max mins', -0.9589112402803294, 1.0)\n"
     ]
    },
    {
     "name": "stderr",
     "output_type": "stream",
     "text": [
      "\r",
      " 21%|██        | 4/19 [00:17<01:05,  4.39s/it]"
     ]
    },
    {
     "name": "stdout",
     "output_type": "stream",
     "text": [
      "('max mins', -0.9209354173005149, 1.0)\n"
     ]
    },
    {
     "name": "stderr",
     "output_type": "stream",
     "text": [
      "\r",
      " 26%|██▋       | 5/19 [00:21<01:01,  4.38s/it]"
     ]
    },
    {
     "name": "stdout",
     "output_type": "stream",
     "text": [
      "('max mins', -0.9402689997179013, 1.0)\n"
     ]
    },
    {
     "name": "stderr",
     "output_type": "stream",
     "text": [
      "\r",
      " 32%|███▏      | 6/19 [00:26<00:56,  4.38s/it]"
     ]
    },
    {
     "name": "stdout",
     "output_type": "stream",
     "text": [
      "('max mins', -0.9554307157828478, 1.0)\n"
     ]
    },
    {
     "name": "stderr",
     "output_type": "stream",
     "text": [
      "\r",
      " 37%|███▋      | 7/19 [00:30<00:52,  4.38s/it]"
     ]
    },
    {
     "name": "stdout",
     "output_type": "stream",
     "text": [
      "('max mins', -1.0, 0.9896982833853051)\n"
     ]
    },
    {
     "name": "stderr",
     "output_type": "stream",
     "text": [
      "\r",
      " 42%|████▏     | 8/19 [00:35<00:48,  4.38s/it]"
     ]
    },
    {
     "name": "stdout",
     "output_type": "stream",
     "text": [
      "('max mins', -0.9770317631352243, 1.0)\n"
     ]
    },
    {
     "name": "stderr",
     "output_type": "stream",
     "text": [
      "\r",
      " 47%|████▋     | 9/19 [00:39<00:43,  4.38s/it]"
     ]
    },
    {
     "name": "stdout",
     "output_type": "stream",
     "text": [
      "('max mins', -0.9604330112349305, 1.0)\n"
     ]
    },
    {
     "name": "stderr",
     "output_type": "stream",
     "text": [
      "\r",
      " 53%|█████▎    | 10/19 [00:43<00:39,  4.38s/it]"
     ]
    },
    {
     "name": "stdout",
     "output_type": "stream",
     "text": [
      "('max mins', -1.0, 0.9813355482916202)\n"
     ]
    },
    {
     "name": "stderr",
     "output_type": "stream",
     "text": [
      "\r",
      " 58%|█████▊    | 11/19 [00:48<00:35,  4.39s/it]"
     ]
    },
    {
     "name": "stdout",
     "output_type": "stream",
     "text": [
      "('max mins', -1.0, 0.9916817204346738)\n"
     ]
    },
    {
     "name": "stderr",
     "output_type": "stream",
     "text": [
      "\r",
      " 63%|██████▎   | 12/19 [00:52<00:30,  4.38s/it]"
     ]
    },
    {
     "name": "stdout",
     "output_type": "stream",
     "text": [
      "('max mins', -1.0, 0.9832754746981707)\n"
     ]
    },
    {
     "name": "stderr",
     "output_type": "stream",
     "text": [
      "\r",
      " 68%|██████▊   | 13/19 [00:56<00:26,  4.38s/it]"
     ]
    },
    {
     "name": "stdout",
     "output_type": "stream",
     "text": [
      "('max mins', -1.0, 0.9966273079495607)\n"
     ]
    },
    {
     "name": "stderr",
     "output_type": "stream",
     "text": [
      "\r",
      " 74%|███████▎  | 14/19 [01:01<00:21,  4.38s/it]"
     ]
    },
    {
     "name": "stdout",
     "output_type": "stream",
     "text": [
      "('max mins', -1.0, 0.9947318403602488)\n"
     ]
    },
    {
     "name": "stderr",
     "output_type": "stream",
     "text": [
      "\r",
      " 79%|███████▉  | 15/19 [01:05<00:17,  4.38s/it]"
     ]
    },
    {
     "name": "stdout",
     "output_type": "stream",
     "text": [
      "('max mins', -0.9679249511255772, 1.0)\n"
     ]
    },
    {
     "name": "stderr",
     "output_type": "stream",
     "text": [
      "\r",
      " 84%|████████▍ | 16/19 [01:10<00:13,  4.37s/it]"
     ]
    },
    {
     "name": "stdout",
     "output_type": "stream",
     "text": [
      "('max mins', -0.9414557285434305, 1.0)\n"
     ]
    },
    {
     "name": "stderr",
     "output_type": "stream",
     "text": [
      "\r",
      " 89%|████████▉ | 17/19 [01:14<00:08,  4.37s/it]"
     ]
    },
    {
     "name": "stdout",
     "output_type": "stream",
     "text": [
      "('max mins', -0.9536997290119662, 1.0)\n"
     ]
    },
    {
     "name": "stderr",
     "output_type": "stream",
     "text": [
      "\r",
      " 95%|█████████▍| 18/19 [01:18<00:04,  4.37s/it]"
     ]
    },
    {
     "name": "stdout",
     "output_type": "stream",
     "text": [
      "('max mins', -0.963978928481249, 1.0)\n"
     ]
    },
    {
     "name": "stderr",
     "output_type": "stream",
     "text": [
      "100%|██████████| 19/19 [01:23<00:00,  4.37s/it]\n"
     ]
    },
    {
     "name": "stdout",
     "output_type": "stream",
     "text": [
      "('Best file pairs are: ', 'non_spikey_T0000008.WAV*non_spikey_T0000009.WAV')\n",
      "Start and end indices around peak:                  start index: 17884686\t\t          end index: 29384686                  total samples:30015488\n"
     ]
    },
    {
     "name": "stderr",
     "output_type": "stream",
     "text": [
      "../../../bin/audio_for_videoannotation.py:175: UserWarning: The AV sync may not be very great - please check again. The value was :0.22961221838768228\n",
      "  warnings.warn(warning_msg, stacklevel=1)\n"
     ]
    },
    {
     "name": "stdout",
     "output_type": "stream",
     "text": [
      "common_fps/Aditya_annotations/2018-08-19/common_fps_video_syncAditya_2018-08-20_0111-0200_50.csv\n",
      "('video_fps obtained is :', 25)\n",
      "Did not find user-provided sample rate - getting it from first file that matches format!\n",
      "('sampling rate is : ', 250000)\n",
      ".....finding best audio segment.....\n"
     ]
    },
    {
     "name": "stderr",
     "output_type": "stream",
     "text": [
      "\r",
      "  0%|          | 0/19 [00:00<?, ?it/s]"
     ]
    },
    {
     "name": "stdout",
     "output_type": "stream",
     "text": [
      "('max mins for upsampled video', -1.0, 0.9889038458403968)\n",
      "('max mins', -1.0, 0.9711352874397832)\n"
     ]
    },
    {
     "name": "stderr",
     "output_type": "stream",
     "text": [
      "\r",
      "  5%|▌         | 1/19 [00:04<01:18,  4.35s/it]"
     ]
    },
    {
     "name": "stdout",
     "output_type": "stream",
     "text": [
      "('max mins', -0.9771084664316616, 1.0)\n"
     ]
    },
    {
     "name": "stderr",
     "output_type": "stream",
     "text": [
      "\r",
      " 11%|█         | 2/19 [00:08<01:14,  4.36s/it]"
     ]
    },
    {
     "name": "stdout",
     "output_type": "stream",
     "text": [
      "('max mins', -0.9627106086984951, 1.0)\n"
     ]
    },
    {
     "name": "stderr",
     "output_type": "stream",
     "text": [
      "\r",
      " 16%|█▌        | 3/19 [00:13<01:09,  4.35s/it]"
     ]
    },
    {
     "name": "stdout",
     "output_type": "stream",
     "text": [
      "('max mins', -0.9589112402803294, 1.0)\n"
     ]
    },
    {
     "name": "stderr",
     "output_type": "stream",
     "text": [
      "\r",
      " 21%|██        | 4/19 [00:17<01:05,  4.35s/it]"
     ]
    },
    {
     "name": "stdout",
     "output_type": "stream",
     "text": [
      "('max mins', -0.9209354173005149, 1.0)\n"
     ]
    },
    {
     "name": "stderr",
     "output_type": "stream",
     "text": [
      "\r",
      " 26%|██▋       | 5/19 [00:21<01:00,  4.35s/it]"
     ]
    },
    {
     "name": "stdout",
     "output_type": "stream",
     "text": [
      "('max mins', -0.9402689997179013, 1.0)\n"
     ]
    },
    {
     "name": "stderr",
     "output_type": "stream",
     "text": [
      "\r",
      " 32%|███▏      | 6/19 [00:26<00:56,  4.36s/it]"
     ]
    },
    {
     "name": "stdout",
     "output_type": "stream",
     "text": [
      "('max mins', -0.9554307157828478, 1.0)\n"
     ]
    },
    {
     "name": "stderr",
     "output_type": "stream",
     "text": [
      "\r",
      " 37%|███▋      | 7/19 [00:30<00:52,  4.36s/it]"
     ]
    },
    {
     "name": "stdout",
     "output_type": "stream",
     "text": [
      "('max mins', -1.0, 0.9896982833853051)\n"
     ]
    },
    {
     "name": "stderr",
     "output_type": "stream",
     "text": [
      "\r",
      " 42%|████▏     | 8/19 [00:35<00:49,  4.47s/it]"
     ]
    },
    {
     "name": "stdout",
     "output_type": "stream",
     "text": [
      "('max mins', -0.9770317631352243, 1.0)\n"
     ]
    },
    {
     "name": "stderr",
     "output_type": "stream",
     "text": [
      "\r",
      " 47%|████▋     | 9/19 [00:39<00:44,  4.45s/it]"
     ]
    },
    {
     "name": "stdout",
     "output_type": "stream",
     "text": [
      "('max mins', -0.9604330112349305, 1.0)\n"
     ]
    },
    {
     "name": "stderr",
     "output_type": "stream",
     "text": [
      "\r",
      " 53%|█████▎    | 10/19 [00:44<00:39,  4.42s/it]"
     ]
    },
    {
     "name": "stdout",
     "output_type": "stream",
     "text": [
      "('max mins', -1.0, 0.9813355482916202)\n"
     ]
    },
    {
     "name": "stderr",
     "output_type": "stream",
     "text": [
      "\r",
      " 58%|█████▊    | 11/19 [00:48<00:35,  4.41s/it]"
     ]
    },
    {
     "name": "stdout",
     "output_type": "stream",
     "text": [
      "('max mins', -1.0, 0.9916817204346738)\n"
     ]
    },
    {
     "name": "stderr",
     "output_type": "stream",
     "text": [
      "\r",
      " 63%|██████▎   | 12/19 [00:52<00:30,  4.40s/it]"
     ]
    },
    {
     "name": "stdout",
     "output_type": "stream",
     "text": [
      "('max mins', -1.0, 0.9832754746981707)\n"
     ]
    },
    {
     "name": "stderr",
     "output_type": "stream",
     "text": [
      "\r",
      " 68%|██████▊   | 13/19 [00:57<00:26,  4.39s/it]"
     ]
    },
    {
     "name": "stdout",
     "output_type": "stream",
     "text": [
      "('max mins', -1.0, 0.9966273079495607)\n"
     ]
    },
    {
     "name": "stderr",
     "output_type": "stream",
     "text": [
      "\r",
      " 74%|███████▎  | 14/19 [01:01<00:21,  4.38s/it]"
     ]
    },
    {
     "name": "stdout",
     "output_type": "stream",
     "text": [
      "('max mins', -1.0, 0.9947318403602488)\n"
     ]
    },
    {
     "name": "stderr",
     "output_type": "stream",
     "text": [
      "\r",
      " 79%|███████▉  | 15/19 [01:05<00:17,  4.37s/it]"
     ]
    },
    {
     "name": "stdout",
     "output_type": "stream",
     "text": [
      "('max mins', -0.9679249511255772, 1.0)\n"
     ]
    },
    {
     "name": "stderr",
     "output_type": "stream",
     "text": [
      "\r",
      " 84%|████████▍ | 16/19 [01:10<00:13,  4.36s/it]"
     ]
    },
    {
     "name": "stdout",
     "output_type": "stream",
     "text": [
      "('max mins', -0.9414557285434305, 1.0)\n"
     ]
    },
    {
     "name": "stderr",
     "output_type": "stream",
     "text": [
      "\r",
      " 89%|████████▉ | 17/19 [01:14<00:08,  4.36s/it]"
     ]
    },
    {
     "name": "stdout",
     "output_type": "stream",
     "text": [
      "('max mins', -0.9536997290119662, 1.0)\n"
     ]
    },
    {
     "name": "stderr",
     "output_type": "stream",
     "text": [
      "\r",
      " 95%|█████████▍| 18/19 [01:18<00:04,  4.37s/it]"
     ]
    },
    {
     "name": "stdout",
     "output_type": "stream",
     "text": [
      "('max mins', -0.963978928481249, 1.0)\n"
     ]
    },
    {
     "name": "stderr",
     "output_type": "stream",
     "text": [
      "100%|██████████| 19/19 [01:23<00:00,  4.36s/it]\n"
     ]
    },
    {
     "name": "stdout",
     "output_type": "stream",
     "text": [
      "('Best file pairs are: ', 'non_spikey_T0000008.WAV*non_spikey_T0000009.WAV')\n",
      "Start and end indices around peak:                  start index: 18134597\t\t          end index: 29634597                  total samples:30015488\n"
     ]
    },
    {
     "name": "stderr",
     "output_type": "stream",
     "text": [
      "../../../bin/audio_for_videoannotation.py:175: UserWarning: The AV sync may not be very great - please check again. The value was :0.2344634298730753\n",
      "  warnings.warn(warning_msg, stacklevel=1)\n"
     ]
    },
    {
     "name": "stdout",
     "output_type": "stream",
     "text": [
      "common_fps/Aditya_annotations/2018-08-19/common_fps_video_syncAditya_2018-08-20_0111-0200_51.csv\n",
      "('video_fps obtained is :', 25)\n",
      "Did not find user-provided sample rate - getting it from first file that matches format!\n",
      "('sampling rate is : ', 250000)\n",
      ".....finding best audio segment.....\n"
     ]
    },
    {
     "name": "stderr",
     "output_type": "stream",
     "text": [
      "\r",
      "  0%|          | 0/19 [00:00<?, ?it/s]"
     ]
    },
    {
     "name": "stdout",
     "output_type": "stream",
     "text": [
      "('max mins for upsampled video', -1.0, 0.9974477431736875)\n",
      "('max mins', -1.0, 0.9711352874397832)\n"
     ]
    },
    {
     "name": "stderr",
     "output_type": "stream",
     "text": [
      "\r",
      "  5%|▌         | 1/19 [00:04<01:17,  4.33s/it]"
     ]
    },
    {
     "name": "stdout",
     "output_type": "stream",
     "text": [
      "('max mins', -0.9771084664316616, 1.0)\n"
     ]
    },
    {
     "name": "stderr",
     "output_type": "stream",
     "text": [
      "\r",
      " 11%|█         | 2/19 [00:08<01:13,  4.34s/it]"
     ]
    },
    {
     "name": "stdout",
     "output_type": "stream",
     "text": [
      "('max mins', -0.9627106086984951, 1.0)\n"
     ]
    },
    {
     "name": "stderr",
     "output_type": "stream",
     "text": [
      "\r",
      " 16%|█▌        | 3/19 [00:13<01:09,  4.35s/it]"
     ]
    },
    {
     "name": "stdout",
     "output_type": "stream",
     "text": [
      "('max mins', -0.9589112402803294, 1.0)\n"
     ]
    },
    {
     "name": "stderr",
     "output_type": "stream",
     "text": [
      "\r",
      " 21%|██        | 4/19 [00:17<01:05,  4.35s/it]"
     ]
    },
    {
     "name": "stdout",
     "output_type": "stream",
     "text": [
      "('max mins', -0.9209354173005149, 1.0)\n"
     ]
    },
    {
     "name": "stderr",
     "output_type": "stream",
     "text": [
      "\r",
      " 26%|██▋       | 5/19 [00:21<01:00,  4.35s/it]"
     ]
    },
    {
     "name": "stdout",
     "output_type": "stream",
     "text": [
      "('max mins', -0.9402689997179013, 1.0)\n"
     ]
    },
    {
     "name": "stderr",
     "output_type": "stream",
     "text": [
      "\r",
      " 32%|███▏      | 6/19 [00:26<00:56,  4.35s/it]"
     ]
    },
    {
     "name": "stdout",
     "output_type": "stream",
     "text": [
      "('max mins', -0.9554307157828478, 1.0)\n"
     ]
    },
    {
     "name": "stderr",
     "output_type": "stream",
     "text": [
      "\r",
      " 37%|███▋      | 7/19 [00:30<00:52,  4.36s/it]"
     ]
    },
    {
     "name": "stdout",
     "output_type": "stream",
     "text": [
      "('max mins', -1.0, 0.9896982833853051)\n"
     ]
    },
    {
     "name": "stderr",
     "output_type": "stream",
     "text": [
      "\r",
      " 42%|████▏     | 8/19 [00:34<00:47,  4.36s/it]"
     ]
    },
    {
     "name": "stdout",
     "output_type": "stream",
     "text": [
      "('max mins', -0.9770317631352243, 1.0)\n"
     ]
    },
    {
     "name": "stderr",
     "output_type": "stream",
     "text": [
      "\r",
      " 47%|████▋     | 9/19 [00:39<00:43,  4.36s/it]"
     ]
    },
    {
     "name": "stdout",
     "output_type": "stream",
     "text": [
      "('max mins', -0.9604330112349305, 1.0)\n"
     ]
    },
    {
     "name": "stderr",
     "output_type": "stream",
     "text": [
      "\r",
      " 53%|█████▎    | 10/19 [00:43<00:39,  4.36s/it]"
     ]
    },
    {
     "name": "stdout",
     "output_type": "stream",
     "text": [
      "('max mins', -1.0, 0.9813355482916202)\n"
     ]
    },
    {
     "name": "stderr",
     "output_type": "stream",
     "text": [
      "\r",
      " 58%|█████▊    | 11/19 [00:47<00:34,  4.36s/it]"
     ]
    },
    {
     "name": "stdout",
     "output_type": "stream",
     "text": [
      "('max mins', -1.0, 0.9916817204346738)\n"
     ]
    },
    {
     "name": "stderr",
     "output_type": "stream",
     "text": [
      "\r",
      " 63%|██████▎   | 12/19 [00:52<00:30,  4.36s/it]"
     ]
    },
    {
     "name": "stdout",
     "output_type": "stream",
     "text": [
      "('max mins', -1.0, 0.9832754746981707)\n"
     ]
    },
    {
     "name": "stderr",
     "output_type": "stream",
     "text": [
      "\r",
      " 68%|██████▊   | 13/19 [00:56<00:26,  4.36s/it]"
     ]
    },
    {
     "name": "stdout",
     "output_type": "stream",
     "text": [
      "('max mins', -1.0, 0.9966273079495607)\n"
     ]
    },
    {
     "name": "stderr",
     "output_type": "stream",
     "text": [
      "\r",
      " 74%|███████▎  | 14/19 [01:01<00:21,  4.36s/it]"
     ]
    },
    {
     "name": "stdout",
     "output_type": "stream",
     "text": [
      "('max mins', -1.0, 0.9947318403602488)\n"
     ]
    },
    {
     "name": "stderr",
     "output_type": "stream",
     "text": [
      "\r",
      " 79%|███████▉  | 15/19 [01:05<00:17,  4.36s/it]"
     ]
    },
    {
     "name": "stdout",
     "output_type": "stream",
     "text": [
      "('max mins', -0.9679249511255772, 1.0)\n"
     ]
    },
    {
     "name": "stderr",
     "output_type": "stream",
     "text": [
      "\r",
      " 84%|████████▍ | 16/19 [01:10<00:13,  4.50s/it]"
     ]
    },
    {
     "name": "stdout",
     "output_type": "stream",
     "text": [
      "('max mins', -0.9414557285434305, 1.0)\n"
     ]
    },
    {
     "name": "stderr",
     "output_type": "stream",
     "text": [
      "\r",
      " 89%|████████▉ | 17/19 [01:14<00:08,  4.47s/it]"
     ]
    },
    {
     "name": "stdout",
     "output_type": "stream",
     "text": [
      "('max mins', -0.9536997290119662, 1.0)\n"
     ]
    },
    {
     "name": "stderr",
     "output_type": "stream",
     "text": [
      "\r",
      " 95%|█████████▍| 18/19 [01:18<00:04,  4.44s/it]"
     ]
    },
    {
     "name": "stdout",
     "output_type": "stream",
     "text": [
      "('max mins', -0.963978928481249, 1.0)\n"
     ]
    },
    {
     "name": "stderr",
     "output_type": "stream",
     "text": [
      "100%|██████████| 19/19 [01:23<00:00,  4.42s/it]\n"
     ]
    },
    {
     "name": "stdout",
     "output_type": "stream",
     "text": [
      "('Best file pairs are: ', 'non_spikey_T0000008.WAV*non_spikey_T0000009.WAV')\n",
      "Start and end indices around peak:                  start index: 18384592\t\t          end index: 29884592                  total samples:30015488\n"
     ]
    },
    {
     "name": "stderr",
     "output_type": "stream",
     "text": [
      "../../../bin/audio_for_videoannotation.py:175: UserWarning: The AV sync may not be very great - please check again. The value was :0.21678249889575177\n",
      "  warnings.warn(warning_msg, stacklevel=1)\n"
     ]
    },
    {
     "name": "stdout",
     "output_type": "stream",
     "text": [
      "common_fps/Aditya_annotations/2018-08-19/common_fps_video_syncAditya_2018-08-20_0111-0200_52.csv\n",
      "('video_fps obtained is :', 25)\n",
      "Did not find user-provided sample rate - getting it from first file that matches format!\n",
      "('sampling rate is : ', 250000)\n",
      ".....finding best audio segment.....\n"
     ]
    },
    {
     "name": "stderr",
     "output_type": "stream",
     "text": [
      "\r",
      "  0%|          | 0/15 [00:00<?, ?it/s]"
     ]
    },
    {
     "name": "stdout",
     "output_type": "stream",
     "text": [
      "('max mins for upsampled video', -1.0, 0.9953064284793091)\n",
      "('max mins', -0.9604330112349305, 1.0)\n"
     ]
    },
    {
     "name": "stderr",
     "output_type": "stream",
     "text": [
      "\r",
      "  7%|▋         | 1/15 [00:04<01:00,  4.35s/it]"
     ]
    },
    {
     "name": "stdout",
     "output_type": "stream",
     "text": [
      "('max mins', -1.0, 0.9813355482916202)\n"
     ]
    },
    {
     "name": "stderr",
     "output_type": "stream",
     "text": [
      "\r",
      " 13%|█▎        | 2/15 [00:08<00:56,  4.35s/it]"
     ]
    },
    {
     "name": "stdout",
     "output_type": "stream",
     "text": [
      "('max mins', -1.0, 0.9916817204346738)\n"
     ]
    },
    {
     "name": "stderr",
     "output_type": "stream",
     "text": [
      "\r",
      " 20%|██        | 3/15 [00:13<00:52,  4.36s/it]"
     ]
    },
    {
     "name": "stdout",
     "output_type": "stream",
     "text": [
      "('max mins', -1.0, 0.9832754746981707)\n"
     ]
    },
    {
     "name": "stderr",
     "output_type": "stream",
     "text": [
      "\r",
      " 27%|██▋       | 4/15 [00:17<00:47,  4.36s/it]"
     ]
    },
    {
     "name": "stdout",
     "output_type": "stream",
     "text": [
      "('max mins', -1.0, 0.9966273079495607)\n"
     ]
    },
    {
     "name": "stderr",
     "output_type": "stream",
     "text": [
      "\r",
      " 33%|███▎      | 5/15 [00:21<00:43,  4.37s/it]"
     ]
    },
    {
     "name": "stdout",
     "output_type": "stream",
     "text": [
      "('max mins', -1.0, 0.9947318403602488)\n"
     ]
    },
    {
     "name": "stderr",
     "output_type": "stream",
     "text": [
      "\r",
      " 40%|████      | 6/15 [00:26<00:39,  4.37s/it]"
     ]
    },
    {
     "name": "stdout",
     "output_type": "stream",
     "text": [
      "('max mins', -0.9679249511255772, 1.0)\n"
     ]
    },
    {
     "name": "stderr",
     "output_type": "stream",
     "text": [
      "\r",
      " 47%|████▋     | 7/15 [00:30<00:34,  4.37s/it]"
     ]
    },
    {
     "name": "stdout",
     "output_type": "stream",
     "text": [
      "('max mins', -0.9414557285434305, 1.0)\n"
     ]
    },
    {
     "name": "stderr",
     "output_type": "stream",
     "text": [
      "\r",
      " 53%|█████▎    | 8/15 [00:34<00:30,  4.36s/it]"
     ]
    },
    {
     "name": "stdout",
     "output_type": "stream",
     "text": [
      "('max mins', -0.9536997290119662, 1.0)\n"
     ]
    },
    {
     "name": "stderr",
     "output_type": "stream",
     "text": [
      "\r",
      " 60%|██████    | 9/15 [00:39<00:26,  4.37s/it]"
     ]
    },
    {
     "name": "stdout",
     "output_type": "stream",
     "text": [
      "('max mins', -0.963978928481249, 1.0)\n"
     ]
    },
    {
     "name": "stderr",
     "output_type": "stream",
     "text": [
      "\r",
      " 67%|██████▋   | 10/15 [00:43<00:21,  4.37s/it]"
     ]
    },
    {
     "name": "stdout",
     "output_type": "stream",
     "text": [
      "('max mins', -1.0, 0.9687355577573609)\n"
     ]
    },
    {
     "name": "stderr",
     "output_type": "stream",
     "text": [
      "\r",
      " 73%|███████▎  | 11/15 [00:52<00:23,  5.80s/it]"
     ]
    },
    {
     "name": "stdout",
     "output_type": "stream",
     "text": [
      "('max mins', -1.0, 0.9546987452164709)\n"
     ]
    },
    {
     "name": "stderr",
     "output_type": "stream",
     "text": [
      "\r",
      " 80%|████████  | 12/15 [01:01<00:19,  6.63s/it]"
     ]
    },
    {
     "name": "stdout",
     "output_type": "stream",
     "text": [
      "('max mins', -0.9809947712224186, 1.0)\n"
     ]
    },
    {
     "name": "stderr",
     "output_type": "stream",
     "text": [
      "\r",
      " 87%|████████▋ | 13/15 [01:09<00:14,  7.22s/it]"
     ]
    },
    {
     "name": "stdout",
     "output_type": "stream",
     "text": [
      "('max mins', -0.9761683827416775, 1.0)\n"
     ]
    },
    {
     "name": "stderr",
     "output_type": "stream",
     "text": [
      "\r",
      " 93%|█████████▎| 14/15 [01:18<00:07,  7.66s/it]"
     ]
    },
    {
     "name": "stdout",
     "output_type": "stream",
     "text": [
      "('max mins', -1.0, 0.9979458402066035)\n"
     ]
    },
    {
     "name": "stderr",
     "output_type": "stream",
     "text": [
      "100%|██████████| 15/15 [01:27<00:00,  7.97s/it]\n"
     ]
    },
    {
     "name": "stdout",
     "output_type": "stream",
     "text": [
      "('Best file pairs are: ', 'non_spikey_T0000021.WAV*non_spikey_T0000022.WAV')\n",
      "Unable to get proper audio match for video segment!\n",
      "('Could not save ', 'common_fps/Aditya_annotations/2018-08-19/common_fps_video_syncAditya_2018-08-20_0111-0200_52.csv')\n",
      "common_fps/Aditya_annotations/2018-08-19/common_fps_video_syncAditya_2018-08-20_0111-0200_53.csv\n",
      "('video_fps obtained is :', 25)\n",
      "Did not find user-provided sample rate - getting it from first file that matches format!\n",
      "('sampling rate is : ', 250000)\n",
      ".....finding best audio segment.....\n"
     ]
    },
    {
     "name": "stderr",
     "output_type": "stream",
     "text": [
      "\r",
      "  0%|          | 0/15 [00:00<?, ?it/s]"
     ]
    },
    {
     "name": "stdout",
     "output_type": "stream",
     "text": [
      "('max mins for upsampled video', -1.0, 0.9476714249010397)\n",
      "('max mins', -0.9604330112349305, 1.0)\n"
     ]
    },
    {
     "name": "stderr",
     "output_type": "stream",
     "text": [
      "\r",
      "  7%|▋         | 1/15 [00:04<01:01,  4.38s/it]"
     ]
    },
    {
     "name": "stdout",
     "output_type": "stream",
     "text": [
      "('max mins', -1.0, 0.9813355482916202)\n"
     ]
    },
    {
     "name": "stderr",
     "output_type": "stream",
     "text": [
      "\r",
      " 13%|█▎        | 2/15 [00:08<00:56,  4.38s/it]"
     ]
    },
    {
     "name": "stdout",
     "output_type": "stream",
     "text": [
      "('max mins', -1.0, 0.9916817204346738)\n"
     ]
    },
    {
     "name": "stderr",
     "output_type": "stream",
     "text": [
      "\r",
      " 20%|██        | 3/15 [00:13<00:53,  4.44s/it]"
     ]
    },
    {
     "name": "stdout",
     "output_type": "stream",
     "text": [
      "('max mins', -1.0, 0.9832754746981707)\n"
     ]
    },
    {
     "name": "stderr",
     "output_type": "stream",
     "text": [
      "\r",
      " 27%|██▋       | 4/15 [00:17<00:48,  4.45s/it]"
     ]
    },
    {
     "name": "stdout",
     "output_type": "stream",
     "text": [
      "('max mins', -1.0, 0.9966273079495607)\n"
     ]
    },
    {
     "name": "stderr",
     "output_type": "stream",
     "text": [
      "\r",
      " 33%|███▎      | 5/15 [00:22<00:44,  4.43s/it]"
     ]
    },
    {
     "name": "stdout",
     "output_type": "stream",
     "text": [
      "('max mins', -1.0, 0.9947318403602488)\n"
     ]
    },
    {
     "name": "stderr",
     "output_type": "stream",
     "text": [
      "\r",
      " 40%|████      | 6/15 [00:26<00:39,  4.43s/it]"
     ]
    },
    {
     "name": "stdout",
     "output_type": "stream",
     "text": [
      "('max mins', -0.9679249511255772, 1.0)\n"
     ]
    },
    {
     "name": "stderr",
     "output_type": "stream",
     "text": [
      "\r",
      " 47%|████▋     | 7/15 [00:31<00:35,  4.42s/it]"
     ]
    },
    {
     "name": "stdout",
     "output_type": "stream",
     "text": [
      "('max mins', -0.9414557285434305, 1.0)\n"
     ]
    },
    {
     "name": "stderr",
     "output_type": "stream",
     "text": [
      "\r",
      " 53%|█████▎    | 8/15 [00:35<00:30,  4.41s/it]"
     ]
    },
    {
     "name": "stdout",
     "output_type": "stream",
     "text": [
      "('max mins', -0.9536997290119662, 1.0)\n"
     ]
    },
    {
     "name": "stderr",
     "output_type": "stream",
     "text": [
      "\r",
      " 60%|██████    | 9/15 [00:39<00:26,  4.41s/it]"
     ]
    },
    {
     "name": "stdout",
     "output_type": "stream",
     "text": [
      "('max mins', -0.963978928481249, 1.0)\n"
     ]
    },
    {
     "name": "stderr",
     "output_type": "stream",
     "text": [
      "\r",
      " 67%|██████▋   | 10/15 [00:44<00:22,  4.40s/it]"
     ]
    },
    {
     "name": "stdout",
     "output_type": "stream",
     "text": [
      "('max mins', -1.0, 0.9687355577573609)\n"
     ]
    },
    {
     "name": "stderr",
     "output_type": "stream",
     "text": [
      "\r",
      " 73%|███████▎  | 11/15 [00:48<00:17,  4.40s/it]"
     ]
    },
    {
     "name": "stdout",
     "output_type": "stream",
     "text": [
      "('max mins', -1.0, 0.9546987452164709)\n"
     ]
    },
    {
     "name": "stderr",
     "output_type": "stream",
     "text": [
      "\r",
      " 80%|████████  | 12/15 [00:52<00:13,  4.40s/it]"
     ]
    },
    {
     "name": "stdout",
     "output_type": "stream",
     "text": [
      "('max mins', -0.9809947712224186, 1.0)\n"
     ]
    },
    {
     "name": "stderr",
     "output_type": "stream",
     "text": [
      "\r",
      " 87%|████████▋ | 13/15 [00:57<00:08,  4.40s/it]"
     ]
    },
    {
     "name": "stdout",
     "output_type": "stream",
     "text": [
      "('max mins', -0.9761683827416775, 1.0)\n"
     ]
    },
    {
     "name": "stderr",
     "output_type": "stream",
     "text": [
      "\r",
      " 93%|█████████▎| 14/15 [01:01<00:04,  4.40s/it]"
     ]
    },
    {
     "name": "stdout",
     "output_type": "stream",
     "text": [
      "('max mins', -1.0, 0.9979458402066035)\n"
     ]
    },
    {
     "name": "stderr",
     "output_type": "stream",
     "text": [
      "100%|██████████| 15/15 [01:06<00:00,  4.40s/it]\n"
     ]
    },
    {
     "name": "stdout",
     "output_type": "stream",
     "text": [
      "('Best file pairs are: ', 'non_spikey_T0000024.WAV*non_spikey_T0000025.WAV')\n",
      "Unable to get proper audio match for video segment!\n",
      "('Could not save ', 'common_fps/Aditya_annotations/2018-08-19/common_fps_video_syncAditya_2018-08-20_0111-0200_53.csv')\n",
      "common_fps/Aditya_annotations/2018-08-19/common_fps_video_syncAditya_2018-08-20_0111-0200_54.csv\n",
      "('video_fps obtained is :', 25)\n",
      "Did not find user-provided sample rate - getting it from first file that matches format!\n",
      "('sampling rate is : ', 250000)\n",
      ".....finding best audio segment.....\n"
     ]
    },
    {
     "name": "stderr",
     "output_type": "stream",
     "text": [
      "\r",
      "  0%|          | 0/15 [00:00<?, ?it/s]"
     ]
    },
    {
     "name": "stdout",
     "output_type": "stream",
     "text": [
      "('max mins for upsampled video', -1.0, 0.9550589598743717)\n",
      "('max mins', -0.9604330112349305, 1.0)\n"
     ]
    },
    {
     "name": "stderr",
     "output_type": "stream",
     "text": [
      "\r",
      "  7%|▋         | 1/15 [00:04<01:01,  4.38s/it]"
     ]
    },
    {
     "name": "stdout",
     "output_type": "stream",
     "text": [
      "('max mins', -1.0, 0.9813355482916202)\n"
     ]
    },
    {
     "name": "stderr",
     "output_type": "stream",
     "text": [
      "\r",
      " 13%|█▎        | 2/15 [00:08<00:56,  4.38s/it]"
     ]
    },
    {
     "name": "stdout",
     "output_type": "stream",
     "text": [
      "('max mins', -1.0, 0.9916817204346738)\n"
     ]
    },
    {
     "name": "stderr",
     "output_type": "stream",
     "text": [
      "\r",
      " 20%|██        | 3/15 [00:13<00:52,  4.39s/it]"
     ]
    },
    {
     "name": "stdout",
     "output_type": "stream",
     "text": [
      "('max mins', -1.0, 0.9832754746981707)\n"
     ]
    },
    {
     "name": "stderr",
     "output_type": "stream",
     "text": [
      "\r",
      " 27%|██▋       | 4/15 [00:17<00:48,  4.39s/it]"
     ]
    },
    {
     "name": "stdout",
     "output_type": "stream",
     "text": [
      "('max mins', -1.0, 0.9966273079495607)\n"
     ]
    },
    {
     "name": "stderr",
     "output_type": "stream",
     "text": [
      "\r",
      " 33%|███▎      | 5/15 [00:21<00:43,  4.39s/it]"
     ]
    },
    {
     "name": "stdout",
     "output_type": "stream",
     "text": [
      "('max mins', -1.0, 0.9947318403602488)\n"
     ]
    },
    {
     "name": "stderr",
     "output_type": "stream",
     "text": [
      "\r",
      " 40%|████      | 6/15 [00:26<00:39,  4.40s/it]"
     ]
    },
    {
     "name": "stdout",
     "output_type": "stream",
     "text": [
      "('max mins', -0.9679249511255772, 1.0)\n"
     ]
    },
    {
     "name": "stderr",
     "output_type": "stream",
     "text": [
      "\r",
      " 47%|████▋     | 7/15 [00:30<00:35,  4.40s/it]"
     ]
    },
    {
     "name": "stdout",
     "output_type": "stream",
     "text": [
      "('max mins', -0.9414557285434305, 1.0)\n"
     ]
    },
    {
     "name": "stderr",
     "output_type": "stream",
     "text": [
      "\r",
      " 53%|█████▎    | 8/15 [00:35<00:30,  4.39s/it]"
     ]
    },
    {
     "name": "stdout",
     "output_type": "stream",
     "text": [
      "('max mins', -0.9536997290119662, 1.0)\n"
     ]
    },
    {
     "name": "stderr",
     "output_type": "stream",
     "text": [
      "\r",
      " 60%|██████    | 9/15 [00:39<00:26,  4.40s/it]"
     ]
    },
    {
     "name": "stdout",
     "output_type": "stream",
     "text": [
      "('max mins', -0.963978928481249, 1.0)\n"
     ]
    },
    {
     "name": "stderr",
     "output_type": "stream",
     "text": [
      "\r",
      " 67%|██████▋   | 10/15 [00:43<00:21,  4.40s/it]"
     ]
    },
    {
     "name": "stdout",
     "output_type": "stream",
     "text": [
      "('max mins', -1.0, 0.9687355577573609)\n"
     ]
    },
    {
     "name": "stderr",
     "output_type": "stream",
     "text": [
      "\r",
      " 73%|███████▎  | 11/15 [00:48<00:17,  4.39s/it]"
     ]
    },
    {
     "name": "stdout",
     "output_type": "stream",
     "text": [
      "('max mins', -1.0, 0.9546987452164709)\n"
     ]
    },
    {
     "name": "stderr",
     "output_type": "stream",
     "text": [
      "\r",
      " 80%|████████  | 12/15 [00:52<00:13,  4.41s/it]"
     ]
    },
    {
     "name": "stdout",
     "output_type": "stream",
     "text": [
      "('max mins', -0.9809947712224186, 1.0)\n"
     ]
    },
    {
     "name": "stderr",
     "output_type": "stream",
     "text": [
      "\r",
      " 87%|████████▋ | 13/15 [00:57<00:08,  4.44s/it]"
     ]
    },
    {
     "name": "stdout",
     "output_type": "stream",
     "text": [
      "('max mins', -0.9761683827416775, 1.0)\n"
     ]
    },
    {
     "name": "stderr",
     "output_type": "stream",
     "text": [
      "\r",
      " 93%|█████████▎| 14/15 [01:02<00:04,  4.64s/it]"
     ]
    },
    {
     "name": "stdout",
     "output_type": "stream",
     "text": [
      "('max mins', -1.0, 0.9979458402066035)\n"
     ]
    },
    {
     "name": "stderr",
     "output_type": "stream",
     "text": [
      "100%|██████████| 15/15 [01:08<00:00,  4.96s/it]\n"
     ]
    },
    {
     "name": "stdout",
     "output_type": "stream",
     "text": [
      "('Best file pairs are: ', 'non_spikey_T0000010.WAV*non_spikey_T0000011.WAV')\n",
      "Start and end indices around peak:                  start index: 8140808\t\t          end index: 19640808                  total samples:30015488\n"
     ]
    },
    {
     "name": "stderr",
     "output_type": "stream",
     "text": [
      "../../../bin/audio_for_videoannotation.py:175: UserWarning: The AV sync may not be very great - please check again. The value was :0.21022102384501193\n",
      "  warnings.warn(warning_msg, stacklevel=1)\n"
     ]
    },
    {
     "name": "stdout",
     "output_type": "stream",
     "text": [
      "common_fps/Aditya_annotations/2018-08-19/common_fps_video_syncAditya_2018-08-20_0111-0200_55.csv\n",
      "('video_fps obtained is :', 25)\n",
      "Did not find user-provided sample rate - getting it from first file that matches format!\n",
      "('sampling rate is : ', 250000)\n",
      ".....finding best audio segment.....\n"
     ]
    },
    {
     "name": "stderr",
     "output_type": "stream",
     "text": [
      "\r",
      "  0%|          | 0/15 [00:00<?, ?it/s]"
     ]
    },
    {
     "name": "stdout",
     "output_type": "stream",
     "text": [
      "('max mins for upsampled video', -1.0, 0.9488461950135921)\n",
      "('max mins', -0.9604330112349305, 1.0)\n"
     ]
    },
    {
     "name": "stderr",
     "output_type": "stream",
     "text": [
      "\r",
      "  7%|▋         | 1/15 [00:05<01:10,  5.00s/it]"
     ]
    },
    {
     "name": "stdout",
     "output_type": "stream",
     "text": [
      "('max mins', -1.0, 0.9813355482916202)\n"
     ]
    },
    {
     "name": "stderr",
     "output_type": "stream",
     "text": [
      "\r",
      " 13%|█▎        | 2/15 [00:09<01:04,  4.99s/it]"
     ]
    },
    {
     "name": "stdout",
     "output_type": "stream",
     "text": [
      "('max mins', -1.0, 0.9916817204346738)\n"
     ]
    },
    {
     "name": "stderr",
     "output_type": "stream",
     "text": [
      "\r",
      " 20%|██        | 3/15 [00:15<01:00,  5.05s/it]"
     ]
    },
    {
     "name": "stdout",
     "output_type": "stream",
     "text": [
      "('max mins', -1.0, 0.9832754746981707)\n"
     ]
    },
    {
     "name": "stderr",
     "output_type": "stream",
     "text": [
      "\r",
      " 27%|██▋       | 4/15 [00:20<00:56,  5.09s/it]"
     ]
    },
    {
     "name": "stdout",
     "output_type": "stream",
     "text": [
      "('max mins', -1.0, 0.9966273079495607)\n"
     ]
    },
    {
     "name": "stderr",
     "output_type": "stream",
     "text": [
      "\r",
      " 33%|███▎      | 5/15 [00:25<00:50,  5.08s/it]"
     ]
    },
    {
     "name": "stdout",
     "output_type": "stream",
     "text": [
      "('max mins', -1.0, 0.9947318403602488)\n"
     ]
    },
    {
     "name": "stderr",
     "output_type": "stream",
     "text": [
      "\r",
      " 40%|████      | 6/15 [00:30<00:45,  5.08s/it]"
     ]
    },
    {
     "name": "stdout",
     "output_type": "stream",
     "text": [
      "('max mins', -0.9679249511255772, 1.0)\n"
     ]
    },
    {
     "name": "stderr",
     "output_type": "stream",
     "text": [
      "\r",
      " 47%|████▋     | 7/15 [00:35<00:40,  5.08s/it]"
     ]
    },
    {
     "name": "stdout",
     "output_type": "stream",
     "text": [
      "('max mins', -0.9414557285434305, 1.0)\n"
     ]
    },
    {
     "name": "stderr",
     "output_type": "stream",
     "text": [
      "\r",
      " 53%|█████▎    | 8/15 [00:40<00:35,  5.05s/it]"
     ]
    },
    {
     "name": "stdout",
     "output_type": "stream",
     "text": [
      "('max mins', -0.9536997290119662, 1.0)\n"
     ]
    },
    {
     "name": "stderr",
     "output_type": "stream",
     "text": [
      "\r",
      " 60%|██████    | 9/15 [00:45<00:29,  4.87s/it]"
     ]
    },
    {
     "name": "stdout",
     "output_type": "stream",
     "text": [
      "('max mins', -0.963978928481249, 1.0)\n"
     ]
    },
    {
     "name": "stderr",
     "output_type": "stream",
     "text": [
      "\r",
      " 67%|██████▋   | 10/15 [00:49<00:23,  4.74s/it]"
     ]
    },
    {
     "name": "stdout",
     "output_type": "stream",
     "text": [
      "('max mins', -1.0, 0.9687355577573609)\n"
     ]
    },
    {
     "name": "stderr",
     "output_type": "stream",
     "text": [
      "\r",
      " 73%|███████▎  | 11/15 [00:53<00:18,  4.65s/it]"
     ]
    },
    {
     "name": "stdout",
     "output_type": "stream",
     "text": [
      "('max mins', -1.0, 0.9546987452164709)\n"
     ]
    },
    {
     "name": "stderr",
     "output_type": "stream",
     "text": [
      "\r",
      " 80%|████████  | 12/15 [00:58<00:13,  4.58s/it]"
     ]
    },
    {
     "name": "stdout",
     "output_type": "stream",
     "text": [
      "('max mins', -0.9809947712224186, 1.0)\n"
     ]
    },
    {
     "name": "stderr",
     "output_type": "stream",
     "text": [
      "\r",
      " 87%|████████▋ | 13/15 [01:02<00:09,  4.53s/it]"
     ]
    },
    {
     "name": "stdout",
     "output_type": "stream",
     "text": [
      "('max mins', -0.9761683827416775, 1.0)\n"
     ]
    },
    {
     "name": "stderr",
     "output_type": "stream",
     "text": [
      "\r",
      " 93%|█████████▎| 14/15 [01:07<00:04,  4.49s/it]"
     ]
    },
    {
     "name": "stdout",
     "output_type": "stream",
     "text": [
      "('max mins', -1.0, 0.9979458402066035)\n"
     ]
    },
    {
     "name": "stderr",
     "output_type": "stream",
     "text": [
      "100%|██████████| 15/15 [01:11<00:00,  4.47s/it]\n"
     ]
    },
    {
     "name": "stdout",
     "output_type": "stream",
     "text": [
      "('Best file pairs are: ', 'non_spikey_T0000024.WAV*non_spikey_T0000025.WAV')\n",
      "Unable to get proper audio match for video segment!\n",
      "('Could not save ', 'common_fps/Aditya_annotations/2018-08-19/common_fps_video_syncAditya_2018-08-20_0111-0200_55.csv')\n",
      "common_fps/Aditya_annotations/2018-08-19/common_fps_video_syncAditya_2018-08-20_0111-0200_56.csv\n",
      "('video_fps obtained is :', 25)\n",
      "Did not find user-provided sample rate - getting it from first file that matches format!\n",
      "('sampling rate is : ', 250000)\n",
      ".....finding best audio segment.....\n"
     ]
    },
    {
     "name": "stderr",
     "output_type": "stream",
     "text": [
      "\r",
      "  0%|          | 0/15 [00:00<?, ?it/s]"
     ]
    },
    {
     "name": "stdout",
     "output_type": "stream",
     "text": [
      "('max mins for upsampled video', -1.0, 0.9439528602178452)\n",
      "('max mins', -0.9604330112349305, 1.0)\n"
     ]
    },
    {
     "name": "stderr",
     "output_type": "stream",
     "text": [
      "\r",
      "  7%|▋         | 1/15 [00:04<01:01,  4.40s/it]"
     ]
    },
    {
     "name": "stdout",
     "output_type": "stream",
     "text": [
      "('max mins', -1.0, 0.9813355482916202)\n"
     ]
    },
    {
     "name": "stderr",
     "output_type": "stream",
     "text": [
      "\r",
      " 13%|█▎        | 2/15 [00:08<00:57,  4.40s/it]"
     ]
    },
    {
     "name": "stdout",
     "output_type": "stream",
     "text": [
      "('max mins', -1.0, 0.9916817204346738)\n"
     ]
    },
    {
     "name": "stderr",
     "output_type": "stream",
     "text": [
      "\r",
      " 20%|██        | 3/15 [00:13<00:52,  4.41s/it]"
     ]
    },
    {
     "name": "stdout",
     "output_type": "stream",
     "text": [
      "('max mins', -1.0, 0.9832754746981707)\n"
     ]
    },
    {
     "name": "stderr",
     "output_type": "stream",
     "text": [
      "\r",
      " 27%|██▋       | 4/15 [00:17<00:48,  4.41s/it]"
     ]
    },
    {
     "name": "stdout",
     "output_type": "stream",
     "text": [
      "('max mins', -1.0, 0.9966273079495607)\n"
     ]
    },
    {
     "name": "stderr",
     "output_type": "stream",
     "text": [
      "\r",
      " 33%|███▎      | 5/15 [00:22<00:44,  4.41s/it]"
     ]
    },
    {
     "name": "stdout",
     "output_type": "stream",
     "text": [
      "('max mins', -1.0, 0.9947318403602488)\n"
     ]
    },
    {
     "name": "stderr",
     "output_type": "stream",
     "text": [
      "\r",
      " 40%|████      | 6/15 [00:26<00:39,  4.41s/it]"
     ]
    },
    {
     "name": "stdout",
     "output_type": "stream",
     "text": [
      "('max mins', -0.9679249511255772, 1.0)\n"
     ]
    },
    {
     "name": "stderr",
     "output_type": "stream",
     "text": [
      "\r",
      " 47%|████▋     | 7/15 [00:30<00:35,  4.41s/it]"
     ]
    },
    {
     "name": "stdout",
     "output_type": "stream",
     "text": [
      "('max mins', -0.9414557285434305, 1.0)\n"
     ]
    },
    {
     "name": "stderr",
     "output_type": "stream",
     "text": [
      "\r",
      " 53%|█████▎    | 8/15 [00:35<00:30,  4.42s/it]"
     ]
    },
    {
     "name": "stdout",
     "output_type": "stream",
     "text": [
      "('max mins', -0.9536997290119662, 1.0)\n"
     ]
    },
    {
     "name": "stderr",
     "output_type": "stream",
     "text": [
      "\r",
      " 60%|██████    | 9/15 [00:39<00:26,  4.42s/it]"
     ]
    },
    {
     "name": "stdout",
     "output_type": "stream",
     "text": [
      "('max mins', -0.963978928481249, 1.0)\n"
     ]
    },
    {
     "name": "stderr",
     "output_type": "stream",
     "text": [
      "\r",
      " 67%|██████▋   | 10/15 [00:44<00:22,  4.55s/it]"
     ]
    },
    {
     "name": "stdout",
     "output_type": "stream",
     "text": [
      "('max mins', -1.0, 0.9687355577573609)\n"
     ]
    },
    {
     "name": "stderr",
     "output_type": "stream",
     "text": [
      "\r",
      " 73%|███████▎  | 11/15 [00:49<00:18,  4.51s/it]"
     ]
    },
    {
     "name": "stdout",
     "output_type": "stream",
     "text": [
      "('max mins', -1.0, 0.9546987452164709)\n"
     ]
    },
    {
     "name": "stderr",
     "output_type": "stream",
     "text": [
      "\r",
      " 80%|████████  | 12/15 [00:53<00:13,  4.49s/it]"
     ]
    },
    {
     "name": "stdout",
     "output_type": "stream",
     "text": [
      "('max mins', -0.9809947712224186, 1.0)\n"
     ]
    },
    {
     "name": "stderr",
     "output_type": "stream",
     "text": [
      "\r",
      " 87%|████████▋ | 13/15 [00:57<00:08,  4.47s/it]"
     ]
    },
    {
     "name": "stdout",
     "output_type": "stream",
     "text": [
      "('max mins', -0.9761683827416775, 1.0)\n"
     ]
    },
    {
     "name": "stderr",
     "output_type": "stream",
     "text": [
      "\r",
      " 93%|█████████▎| 14/15 [01:02<00:04,  4.45s/it]"
     ]
    },
    {
     "name": "stdout",
     "output_type": "stream",
     "text": [
      "('max mins', -1.0, 0.9979458402066035)\n"
     ]
    },
    {
     "name": "stderr",
     "output_type": "stream",
     "text": [
      "100%|██████████| 15/15 [01:06<00:00,  4.44s/it]\n"
     ]
    },
    {
     "name": "stdout",
     "output_type": "stream",
     "text": [
      "('Best file pairs are: ', 'non_spikey_T0000024.WAV*non_spikey_T0000025.WAV')\n",
      "Start and end indices around peak:                  start index: 10746222\t\t          end index: 22246222                  total samples:30015488\n"
     ]
    },
    {
     "name": "stderr",
     "output_type": "stream",
     "text": [
      "../../../bin/audio_for_videoannotation.py:175: UserWarning: The AV sync may not be very great - please check again. The value was :0.22862369259166587\n",
      "  warnings.warn(warning_msg, stacklevel=1)\n"
     ]
    },
    {
     "name": "stdout",
     "output_type": "stream",
     "text": [
      "common_fps/Aditya_annotations/2018-08-19/common_fps_video_syncAditya_2018-08-20_0111-0200_60.csv\n",
      "('video_fps obtained is :', 25)\n",
      "Did not find user-provided sample rate - getting it from first file that matches format!\n",
      "('sampling rate is : ', 250000)\n",
      ".....finding best audio segment.....\n"
     ]
    },
    {
     "name": "stderr",
     "output_type": "stream",
     "text": [
      "\r",
      "  0%|          | 0/15 [00:00<?, ?it/s]"
     ]
    },
    {
     "name": "stdout",
     "output_type": "stream",
     "text": [
      "('max mins for upsampled video', -1.0, 0.9247459982396973)\n",
      "('max mins', -0.9604330112349305, 1.0)\n"
     ]
    },
    {
     "name": "stderr",
     "output_type": "stream",
     "text": [
      "\r",
      "  7%|▋         | 1/15 [00:04<01:01,  4.37s/it]"
     ]
    },
    {
     "name": "stdout",
     "output_type": "stream",
     "text": [
      "('max mins', -1.0, 0.9813355482916202)\n"
     ]
    },
    {
     "name": "stderr",
     "output_type": "stream",
     "text": [
      "\r",
      " 13%|█▎        | 2/15 [00:08<00:56,  4.38s/it]"
     ]
    },
    {
     "name": "stdout",
     "output_type": "stream",
     "text": [
      "('max mins', -1.0, 0.9916817204346738)\n"
     ]
    },
    {
     "name": "stderr",
     "output_type": "stream",
     "text": [
      "\r",
      " 20%|██        | 3/15 [00:13<00:52,  4.39s/it]"
     ]
    },
    {
     "name": "stdout",
     "output_type": "stream",
     "text": [
      "('max mins', -1.0, 0.9832754746981707)\n"
     ]
    },
    {
     "name": "stderr",
     "output_type": "stream",
     "text": [
      "\r",
      " 27%|██▋       | 4/15 [00:17<00:48,  4.41s/it]"
     ]
    },
    {
     "name": "stdout",
     "output_type": "stream",
     "text": [
      "('max mins', -1.0, 0.9966273079495607)\n"
     ]
    },
    {
     "name": "stderr",
     "output_type": "stream",
     "text": [
      "\r",
      " 33%|███▎      | 5/15 [00:22<00:44,  4.41s/it]"
     ]
    },
    {
     "name": "stdout",
     "output_type": "stream",
     "text": [
      "('max mins', -1.0, 0.9947318403602488)\n"
     ]
    },
    {
     "name": "stderr",
     "output_type": "stream",
     "text": [
      "\r",
      " 40%|████      | 6/15 [00:26<00:39,  4.40s/it]"
     ]
    },
    {
     "name": "stdout",
     "output_type": "stream",
     "text": [
      "('max mins', -0.9679249511255772, 1.0)\n"
     ]
    },
    {
     "name": "stderr",
     "output_type": "stream",
     "text": [
      "\r",
      " 47%|████▋     | 7/15 [00:30<00:35,  4.40s/it]"
     ]
    },
    {
     "name": "stdout",
     "output_type": "stream",
     "text": [
      "('max mins', -0.9414557285434305, 1.0)\n"
     ]
    },
    {
     "name": "stderr",
     "output_type": "stream",
     "text": [
      "\r",
      " 53%|█████▎    | 8/15 [00:35<00:30,  4.40s/it]"
     ]
    },
    {
     "name": "stdout",
     "output_type": "stream",
     "text": [
      "('max mins', -0.9536997290119662, 1.0)\n"
     ]
    },
    {
     "name": "stderr",
     "output_type": "stream",
     "text": [
      "\r",
      " 60%|██████    | 9/15 [00:39<00:26,  4.40s/it]"
     ]
    },
    {
     "name": "stdout",
     "output_type": "stream",
     "text": [
      "('max mins', -0.963978928481249, 1.0)\n"
     ]
    },
    {
     "name": "stderr",
     "output_type": "stream",
     "text": [
      "\r",
      " 67%|██████▋   | 10/15 [00:44<00:22,  4.41s/it]"
     ]
    },
    {
     "name": "stdout",
     "output_type": "stream",
     "text": [
      "('max mins', -1.0, 0.9687355577573609)\n"
     ]
    },
    {
     "name": "stderr",
     "output_type": "stream",
     "text": [
      "\r",
      " 73%|███████▎  | 11/15 [00:48<00:17,  4.41s/it]"
     ]
    },
    {
     "name": "stdout",
     "output_type": "stream",
     "text": [
      "('max mins', -1.0, 0.9546987452164709)\n"
     ]
    },
    {
     "name": "stderr",
     "output_type": "stream",
     "text": [
      "\r",
      " 80%|████████  | 12/15 [00:52<00:13,  4.40s/it]"
     ]
    },
    {
     "name": "stdout",
     "output_type": "stream",
     "text": [
      "('max mins', -0.9809947712224186, 1.0)\n"
     ]
    },
    {
     "name": "stderr",
     "output_type": "stream",
     "text": [
      "\r",
      " 87%|████████▋ | 13/15 [00:57<00:08,  4.40s/it]"
     ]
    },
    {
     "name": "stdout",
     "output_type": "stream",
     "text": [
      "('max mins', -0.9761683827416775, 1.0)\n"
     ]
    },
    {
     "name": "stderr",
     "output_type": "stream",
     "text": [
      "\r",
      " 93%|█████████▎| 14/15 [01:01<00:04,  4.40s/it]"
     ]
    },
    {
     "name": "stdout",
     "output_type": "stream",
     "text": [
      "('max mins', -1.0, 0.9979458402066035)\n"
     ]
    },
    {
     "name": "stderr",
     "output_type": "stream",
     "text": [
      "100%|██████████| 15/15 [01:06<00:00,  4.40s/it]\n"
     ]
    },
    {
     "name": "stdout",
     "output_type": "stream",
     "text": [
      "('Best file pairs are: ', 'non_spikey_T0000016.WAV*non_spikey_T0000017.WAV')\n",
      "Start and end indices around peak:                  start index: 18409518\t\t          end index: 29909518                  total samples:30015488\n"
     ]
    },
    {
     "name": "stderr",
     "output_type": "stream",
     "text": [
      "../../../bin/audio_for_videoannotation.py:175: UserWarning: The AV sync may not be very great - please check again. The value was :0.19822702426673808\n",
      "  warnings.warn(warning_msg, stacklevel=1)\n"
     ]
    },
    {
     "name": "stdout",
     "output_type": "stream",
     "text": [
      "common_fps/Aditya_annotations/2018-08-19/common_fps_video_syncAditya_2018-08-20_0111-0200_61.csv\n",
      "('video_fps obtained is :', 25)\n",
      "Did not find user-provided sample rate - getting it from first file that matches format!\n",
      "('sampling rate is : ', 250000)\n",
      ".....finding best audio segment.....\n"
     ]
    },
    {
     "name": "stderr",
     "output_type": "stream",
     "text": [
      "\r",
      "  0%|          | 0/15 [00:00<?, ?it/s]"
     ]
    },
    {
     "name": "stdout",
     "output_type": "stream",
     "text": [
      "('max mins for upsampled video', -1.0, 0.9407455436396256)\n",
      "('max mins', -0.9604330112349305, 1.0)\n"
     ]
    },
    {
     "name": "stderr",
     "output_type": "stream",
     "text": [
      "\r",
      "  7%|▋         | 1/15 [00:04<01:01,  4.37s/it]"
     ]
    },
    {
     "name": "stdout",
     "output_type": "stream",
     "text": [
      "('max mins', -1.0, 0.9813355482916202)\n"
     ]
    },
    {
     "name": "stderr",
     "output_type": "stream",
     "text": [
      "\r",
      " 13%|█▎        | 2/15 [00:08<00:56,  4.37s/it]"
     ]
    },
    {
     "name": "stdout",
     "output_type": "stream",
     "text": [
      "('max mins', -1.0, 0.9916817204346738)\n"
     ]
    },
    {
     "name": "stderr",
     "output_type": "stream",
     "text": [
      "\r",
      " 20%|██        | 3/15 [00:13<00:52,  4.37s/it]"
     ]
    },
    {
     "name": "stdout",
     "output_type": "stream",
     "text": [
      "('max mins', -1.0, 0.9832754746981707)\n"
     ]
    },
    {
     "name": "stderr",
     "output_type": "stream",
     "text": [
      "\r",
      " 27%|██▋       | 4/15 [00:17<00:48,  4.38s/it]"
     ]
    },
    {
     "name": "stdout",
     "output_type": "stream",
     "text": [
      "('max mins', -1.0, 0.9966273079495607)\n"
     ]
    },
    {
     "name": "stderr",
     "output_type": "stream",
     "text": [
      "\r",
      " 33%|███▎      | 5/15 [00:22<00:44,  4.41s/it]"
     ]
    },
    {
     "name": "stdout",
     "output_type": "stream",
     "text": [
      "('max mins', -1.0, 0.9947318403602488)\n"
     ]
    },
    {
     "name": "stderr",
     "output_type": "stream",
     "text": [
      "\r",
      " 40%|████      | 6/15 [00:26<00:39,  4.42s/it]"
     ]
    },
    {
     "name": "stdout",
     "output_type": "stream",
     "text": [
      "('max mins', -0.9679249511255772, 1.0)\n"
     ]
    },
    {
     "name": "stderr",
     "output_type": "stream",
     "text": [
      "\r",
      " 47%|████▋     | 7/15 [00:30<00:35,  4.41s/it]"
     ]
    },
    {
     "name": "stdout",
     "output_type": "stream",
     "text": [
      "('max mins', -0.9414557285434305, 1.0)\n"
     ]
    },
    {
     "name": "stderr",
     "output_type": "stream",
     "text": [
      "\r",
      " 53%|█████▎    | 8/15 [00:35<00:30,  4.41s/it]"
     ]
    },
    {
     "name": "stdout",
     "output_type": "stream",
     "text": [
      "('max mins', -0.9536997290119662, 1.0)\n"
     ]
    },
    {
     "name": "stderr",
     "output_type": "stream",
     "text": [
      "\r",
      " 60%|██████    | 9/15 [00:39<00:26,  4.40s/it]"
     ]
    },
    {
     "name": "stdout",
     "output_type": "stream",
     "text": [
      "('max mins', -0.963978928481249, 1.0)\n"
     ]
    },
    {
     "name": "stderr",
     "output_type": "stream",
     "text": [
      "\r",
      " 67%|██████▋   | 10/15 [00:43<00:21,  4.39s/it]"
     ]
    },
    {
     "name": "stdout",
     "output_type": "stream",
     "text": [
      "('max mins', -1.0, 0.9687355577573609)\n"
     ]
    },
    {
     "name": "stderr",
     "output_type": "stream",
     "text": [
      "\r",
      " 73%|███████▎  | 11/15 [00:48<00:17,  4.39s/it]"
     ]
    },
    {
     "name": "stdout",
     "output_type": "stream",
     "text": [
      "('max mins', -1.0, 0.9546987452164709)\n"
     ]
    },
    {
     "name": "stderr",
     "output_type": "stream",
     "text": [
      "\r",
      " 80%|████████  | 12/15 [00:52<00:13,  4.39s/it]"
     ]
    },
    {
     "name": "stdout",
     "output_type": "stream",
     "text": [
      "('max mins', -0.9809947712224186, 1.0)\n"
     ]
    },
    {
     "name": "stderr",
     "output_type": "stream",
     "text": [
      "\r",
      " 87%|████████▋ | 13/15 [00:57<00:08,  4.39s/it]"
     ]
    },
    {
     "name": "stdout",
     "output_type": "stream",
     "text": [
      "('max mins', -0.9761683827416775, 1.0)\n"
     ]
    },
    {
     "name": "stderr",
     "output_type": "stream",
     "text": [
      "\r",
      " 93%|█████████▎| 14/15 [01:01<00:04,  4.39s/it]"
     ]
    },
    {
     "name": "stdout",
     "output_type": "stream",
     "text": [
      "('max mins', -1.0, 0.9979458402066035)\n"
     ]
    },
    {
     "name": "stderr",
     "output_type": "stream",
     "text": [
      "100%|██████████| 15/15 [01:05<00:00,  4.39s/it]\n"
     ]
    },
    {
     "name": "stdout",
     "output_type": "stream",
     "text": [
      "('Best file pairs are: ', 'non_spikey_T0000017.WAV*non_spikey_T0000018.WAV')\n",
      "Start and end indices around peak:                  start index: 3654508\t\t          end index: 15154508                  total samples:30015488\n"
     ]
    },
    {
     "name": "stderr",
     "output_type": "stream",
     "text": [
      "../../../bin/audio_for_videoannotation.py:175: UserWarning: The AV sync may not be very great - please check again. The value was :0.21574487417943058\n",
      "  warnings.warn(warning_msg, stacklevel=1)\n"
     ]
    },
    {
     "name": "stdout",
     "output_type": "stream",
     "text": [
      "common_fps/Aditya_annotations/2018-08-19/common_fps_video_syncAditya_2018-08-20_0111-0200_62.csv\n",
      "('video_fps obtained is :', 25)\n",
      "Did not find user-provided sample rate - getting it from first file that matches format!\n",
      "('sampling rate is : ', 250000)\n",
      ".....finding best audio segment.....\n"
     ]
    },
    {
     "name": "stderr",
     "output_type": "stream",
     "text": [
      "\r",
      "  0%|          | 0/15 [00:00<?, ?it/s]"
     ]
    },
    {
     "name": "stdout",
     "output_type": "stream",
     "text": [
      "('max mins for upsampled video', -1.0, 0.9567468379072167)\n",
      "('max mins', -0.9604330112349305, 1.0)\n"
     ]
    },
    {
     "name": "stderr",
     "output_type": "stream",
     "text": [
      "\r",
      "  7%|▋         | 1/15 [00:04<01:01,  4.37s/it]"
     ]
    },
    {
     "name": "stdout",
     "output_type": "stream",
     "text": [
      "('max mins', -1.0, 0.9813355482916202)\n"
     ]
    },
    {
     "name": "stderr",
     "output_type": "stream",
     "text": [
      "\r",
      " 13%|█▎        | 2/15 [00:08<00:56,  4.38s/it]"
     ]
    },
    {
     "name": "stdout",
     "output_type": "stream",
     "text": [
      "('max mins', -1.0, 0.9916817204346738)\n"
     ]
    },
    {
     "name": "stderr",
     "output_type": "stream",
     "text": [
      "\r",
      " 20%|██        | 3/15 [00:13<00:52,  4.38s/it]"
     ]
    },
    {
     "name": "stdout",
     "output_type": "stream",
     "text": [
      "('max mins', -1.0, 0.9832754746981707)\n"
     ]
    },
    {
     "name": "stderr",
     "output_type": "stream",
     "text": [
      "\r",
      " 27%|██▋       | 4/15 [00:17<00:48,  4.38s/it]"
     ]
    },
    {
     "name": "stdout",
     "output_type": "stream",
     "text": [
      "('max mins', -1.0, 0.9966273079495607)\n"
     ]
    },
    {
     "name": "stderr",
     "output_type": "stream",
     "text": [
      "\r",
      " 33%|███▎      | 5/15 [00:21<00:43,  4.39s/it]"
     ]
    },
    {
     "name": "stdout",
     "output_type": "stream",
     "text": [
      "('max mins', -1.0, 0.9947318403602488)\n"
     ]
    },
    {
     "name": "stderr",
     "output_type": "stream",
     "text": [
      "\r",
      " 40%|████      | 6/15 [00:26<00:39,  4.40s/it]"
     ]
    },
    {
     "name": "stdout",
     "output_type": "stream",
     "text": [
      "('max mins', -0.9679249511255772, 1.0)\n"
     ]
    },
    {
     "name": "stderr",
     "output_type": "stream",
     "text": [
      "\r",
      " 47%|████▋     | 7/15 [00:30<00:35,  4.40s/it]"
     ]
    },
    {
     "name": "stdout",
     "output_type": "stream",
     "text": [
      "('max mins', -0.9414557285434305, 1.0)\n"
     ]
    },
    {
     "name": "stderr",
     "output_type": "stream",
     "text": [
      "\r",
      " 53%|█████▎    | 8/15 [00:35<00:30,  4.40s/it]"
     ]
    },
    {
     "name": "stdout",
     "output_type": "stream",
     "text": [
      "('max mins', -0.9536997290119662, 1.0)\n"
     ]
    },
    {
     "name": "stderr",
     "output_type": "stream",
     "text": [
      "\r",
      " 60%|██████    | 9/15 [00:39<00:26,  4.40s/it]"
     ]
    },
    {
     "name": "stdout",
     "output_type": "stream",
     "text": [
      "('max mins', -0.963978928481249, 1.0)\n"
     ]
    },
    {
     "name": "stderr",
     "output_type": "stream",
     "text": [
      "\r",
      " 67%|██████▋   | 10/15 [00:43<00:21,  4.39s/it]"
     ]
    },
    {
     "name": "stdout",
     "output_type": "stream",
     "text": [
      "('max mins', -1.0, 0.9687355577573609)\n"
     ]
    },
    {
     "name": "stderr",
     "output_type": "stream",
     "text": [
      "\r",
      " 73%|███████▎  | 11/15 [00:48<00:17,  4.39s/it]"
     ]
    },
    {
     "name": "stdout",
     "output_type": "stream",
     "text": [
      "('max mins', -1.0, 0.9546987452164709)\n"
     ]
    },
    {
     "name": "stderr",
     "output_type": "stream",
     "text": [
      "\r",
      " 80%|████████  | 12/15 [00:52<00:13,  4.39s/it]"
     ]
    },
    {
     "name": "stdout",
     "output_type": "stream",
     "text": [
      "('max mins', -0.9809947712224186, 1.0)\n"
     ]
    },
    {
     "name": "stderr",
     "output_type": "stream",
     "text": [
      "\r",
      " 87%|████████▋ | 13/15 [00:57<00:08,  4.39s/it]"
     ]
    },
    {
     "name": "stdout",
     "output_type": "stream",
     "text": [
      "('max mins', -0.9761683827416775, 1.0)\n"
     ]
    },
    {
     "name": "stderr",
     "output_type": "stream",
     "text": [
      "\r",
      " 93%|█████████▎| 14/15 [01:01<00:04,  4.40s/it]"
     ]
    },
    {
     "name": "stdout",
     "output_type": "stream",
     "text": [
      "('max mins', -1.0, 0.9979458402066035)\n"
     ]
    },
    {
     "name": "stderr",
     "output_type": "stream",
     "text": [
      "100%|██████████| 15/15 [01:05<00:00,  4.39s/it]\n"
     ]
    },
    {
     "name": "stdout",
     "output_type": "stream",
     "text": [
      "('Best file pairs are: ', 'non_spikey_T0000017.WAV*non_spikey_T0000018.WAV')\n",
      "Start and end indices around peak:                  start index: 4657723\t\t          end index: 16157723                  total samples:30015488\n"
     ]
    },
    {
     "name": "stderr",
     "output_type": "stream",
     "text": [
      "../../../bin/audio_for_videoannotation.py:175: UserWarning: The AV sync may not be very great - please check again. The value was :0.23465171483045127\n",
      "  warnings.warn(warning_msg, stacklevel=1)\n"
     ]
    },
    {
     "name": "stdout",
     "output_type": "stream",
     "text": [
      "common_fps/Aditya_annotations/2018-08-19/common_fps_video_syncAditya_2018-08-20_0111-0200_63.csv\n",
      "('video_fps obtained is :', 25)\n",
      "Did not find user-provided sample rate - getting it from first file that matches format!\n",
      "('sampling rate is : ', 250000)\n",
      ".....finding best audio segment.....\n"
     ]
    },
    {
     "name": "stderr",
     "output_type": "stream",
     "text": [
      "\r",
      "  0%|          | 0/15 [00:00<?, ?it/s]"
     ]
    },
    {
     "name": "stdout",
     "output_type": "stream",
     "text": [
      "('max mins for upsampled video', -1.0, 0.8861780261912061)\n",
      "('max mins', -0.9604330112349305, 1.0)\n"
     ]
    },
    {
     "name": "stderr",
     "output_type": "stream",
     "text": [
      "\r",
      "  7%|▋         | 1/15 [00:04<01:08,  4.90s/it]"
     ]
    },
    {
     "name": "stdout",
     "output_type": "stream",
     "text": [
      "('max mins', -1.0, 0.9813355482916202)\n"
     ]
    },
    {
     "name": "stderr",
     "output_type": "stream",
     "text": [
      "\r",
      " 13%|█▎        | 2/15 [00:09<01:01,  4.75s/it]"
     ]
    },
    {
     "name": "stdout",
     "output_type": "stream",
     "text": [
      "('max mins', -1.0, 0.9916817204346738)\n"
     ]
    },
    {
     "name": "stderr",
     "output_type": "stream",
     "text": [
      "\r",
      " 20%|██        | 3/15 [00:13<00:55,  4.64s/it]"
     ]
    },
    {
     "name": "stdout",
     "output_type": "stream",
     "text": [
      "('max mins', -1.0, 0.9832754746981707)\n"
     ]
    },
    {
     "name": "stderr",
     "output_type": "stream",
     "text": [
      "\r",
      " 27%|██▋       | 4/15 [00:18<00:50,  4.57s/it]"
     ]
    },
    {
     "name": "stdout",
     "output_type": "stream",
     "text": [
      "('max mins', -1.0, 0.9966273079495607)\n"
     ]
    },
    {
     "name": "stderr",
     "output_type": "stream",
     "text": [
      "\r",
      " 33%|███▎      | 5/15 [00:22<00:45,  4.52s/it]"
     ]
    },
    {
     "name": "stdout",
     "output_type": "stream",
     "text": [
      "('max mins', -1.0, 0.9947318403602488)\n"
     ]
    },
    {
     "name": "stderr",
     "output_type": "stream",
     "text": [
      "\r",
      " 40%|████      | 6/15 [00:26<00:40,  4.48s/it]"
     ]
    },
    {
     "name": "stdout",
     "output_type": "stream",
     "text": [
      "('max mins', -0.9679249511255772, 1.0)\n"
     ]
    },
    {
     "name": "stderr",
     "output_type": "stream",
     "text": [
      "\r",
      " 47%|████▋     | 7/15 [00:31<00:35,  4.45s/it]"
     ]
    },
    {
     "name": "stdout",
     "output_type": "stream",
     "text": [
      "('max mins', -0.9414557285434305, 1.0)\n"
     ]
    },
    {
     "name": "stderr",
     "output_type": "stream",
     "text": [
      "\r",
      " 53%|█████▎    | 8/15 [00:35<00:31,  4.43s/it]"
     ]
    },
    {
     "name": "stdout",
     "output_type": "stream",
     "text": [
      "('max mins', -0.9536997290119662, 1.0)\n"
     ]
    },
    {
     "name": "stderr",
     "output_type": "stream",
     "text": [
      "\r",
      " 60%|██████    | 9/15 [00:40<00:26,  4.42s/it]"
     ]
    },
    {
     "name": "stdout",
     "output_type": "stream",
     "text": [
      "('max mins', -0.963978928481249, 1.0)\n"
     ]
    },
    {
     "name": "stderr",
     "output_type": "stream",
     "text": [
      "\r",
      " 67%|██████▋   | 10/15 [00:44<00:22,  4.41s/it]"
     ]
    },
    {
     "name": "stdout",
     "output_type": "stream",
     "text": [
      "('max mins', -1.0, 0.9687355577573609)\n"
     ]
    },
    {
     "name": "stderr",
     "output_type": "stream",
     "text": [
      "\r",
      " 73%|███████▎  | 11/15 [00:48<00:17,  4.40s/it]"
     ]
    },
    {
     "name": "stdout",
     "output_type": "stream",
     "text": [
      "('max mins', -1.0, 0.9546987452164709)\n"
     ]
    },
    {
     "name": "stderr",
     "output_type": "stream",
     "text": [
      "\r",
      " 80%|████████  | 12/15 [00:53<00:13,  4.40s/it]"
     ]
    },
    {
     "name": "stdout",
     "output_type": "stream",
     "text": [
      "('max mins', -0.9809947712224186, 1.0)\n"
     ]
    },
    {
     "name": "stderr",
     "output_type": "stream",
     "text": [
      "\r",
      " 87%|████████▋ | 13/15 [00:57<00:08,  4.40s/it]"
     ]
    },
    {
     "name": "stdout",
     "output_type": "stream",
     "text": [
      "('max mins', -0.9761683827416775, 1.0)\n"
     ]
    },
    {
     "name": "stderr",
     "output_type": "stream",
     "text": [
      "\r",
      " 93%|█████████▎| 14/15 [01:02<00:04,  4.40s/it]"
     ]
    },
    {
     "name": "stdout",
     "output_type": "stream",
     "text": [
      "('max mins', -1.0, 0.9979458402066035)\n"
     ]
    },
    {
     "name": "stderr",
     "output_type": "stream",
     "text": [
      "100%|██████████| 15/15 [01:06<00:00,  4.40s/it]\n"
     ]
    },
    {
     "name": "stdout",
     "output_type": "stream",
     "text": [
      "('Best file pairs are: ', 'non_spikey_T0000018.WAV*non_spikey_T0000019.WAV')\n",
      "Start and end indices around peak:                  start index: 5873574\t\t          end index: 17373574                  total samples:30015488\n"
     ]
    },
    {
     "name": "stderr",
     "output_type": "stream",
     "text": [
      "../../../bin/audio_for_videoannotation.py:175: UserWarning: The AV sync may not be very great - please check again. The value was :0.2238457302816247\n",
      "  warnings.warn(warning_msg, stacklevel=1)\n"
     ]
    },
    {
     "name": "stdout",
     "output_type": "stream",
     "text": [
      "common_fps/Aditya_annotations/2018-08-19/common_fps_video_syncAditya_2018-08-20_0111-0200_64.csv\n",
      "('video_fps obtained is :', 25)\n",
      "Did not find user-provided sample rate - getting it from first file that matches format!\n",
      "('sampling rate is : ', 250000)\n",
      ".....finding best audio segment.....\n"
     ]
    },
    {
     "name": "stderr",
     "output_type": "stream",
     "text": [
      "\r",
      "  0%|          | 0/15 [00:00<?, ?it/s]"
     ]
    },
    {
     "name": "stdout",
     "output_type": "stream",
     "text": [
      "('max mins for upsampled video', -1.0, 0.9021008574143304)\n",
      "('max mins', -0.9604330112349305, 1.0)\n"
     ]
    },
    {
     "name": "stderr",
     "output_type": "stream",
     "text": [
      "\r",
      "  7%|▋         | 1/15 [00:04<01:01,  4.37s/it]"
     ]
    },
    {
     "name": "stdout",
     "output_type": "stream",
     "text": [
      "('max mins', -1.0, 0.9813355482916202)\n"
     ]
    },
    {
     "name": "stderr",
     "output_type": "stream",
     "text": [
      "\r",
      " 13%|█▎        | 2/15 [00:08<00:56,  4.38s/it]"
     ]
    },
    {
     "name": "stdout",
     "output_type": "stream",
     "text": [
      "('max mins', -1.0, 0.9916817204346738)\n"
     ]
    },
    {
     "name": "stderr",
     "output_type": "stream",
     "text": [
      "\r",
      " 20%|██        | 3/15 [00:13<00:52,  4.38s/it]"
     ]
    },
    {
     "name": "stdout",
     "output_type": "stream",
     "text": [
      "('max mins', -1.0, 0.9832754746981707)\n"
     ]
    },
    {
     "name": "stderr",
     "output_type": "stream",
     "text": [
      "\r",
      " 27%|██▋       | 4/15 [00:17<00:48,  4.38s/it]"
     ]
    },
    {
     "name": "stdout",
     "output_type": "stream",
     "text": [
      "('max mins', -1.0, 0.9966273079495607)\n"
     ]
    },
    {
     "name": "stderr",
     "output_type": "stream",
     "text": [
      "\r",
      " 33%|███▎      | 5/15 [00:21<00:43,  4.38s/it]"
     ]
    },
    {
     "name": "stdout",
     "output_type": "stream",
     "text": [
      "('max mins', -1.0, 0.9947318403602488)\n"
     ]
    },
    {
     "name": "stderr",
     "output_type": "stream",
     "text": [
      "\r",
      " 40%|████      | 6/15 [00:26<00:39,  4.38s/it]"
     ]
    },
    {
     "name": "stdout",
     "output_type": "stream",
     "text": [
      "('max mins', -0.9679249511255772, 1.0)\n"
     ]
    },
    {
     "name": "stderr",
     "output_type": "stream",
     "text": [
      "\r",
      " 47%|████▋     | 7/15 [00:30<00:35,  4.38s/it]"
     ]
    },
    {
     "name": "stdout",
     "output_type": "stream",
     "text": [
      "('max mins', -0.9414557285434305, 1.0)\n"
     ]
    },
    {
     "name": "stderr",
     "output_type": "stream",
     "text": [
      "\r",
      " 53%|█████▎    | 8/15 [00:35<00:30,  4.38s/it]"
     ]
    },
    {
     "name": "stdout",
     "output_type": "stream",
     "text": [
      "('max mins', -0.9536997290119662, 1.0)\n"
     ]
    },
    {
     "name": "stderr",
     "output_type": "stream",
     "text": [
      "\r",
      " 60%|██████    | 9/15 [00:39<00:26,  4.41s/it]"
     ]
    },
    {
     "name": "stdout",
     "output_type": "stream",
     "text": [
      "('max mins', -0.963978928481249, 1.0)\n"
     ]
    },
    {
     "name": "stderr",
     "output_type": "stream",
     "text": [
      "\r",
      " 67%|██████▋   | 10/15 [00:43<00:22,  4.40s/it]"
     ]
    },
    {
     "name": "stdout",
     "output_type": "stream",
     "text": [
      "('max mins', -1.0, 0.9687355577573609)\n"
     ]
    },
    {
     "name": "stderr",
     "output_type": "stream",
     "text": [
      "\r",
      " 73%|███████▎  | 11/15 [00:48<00:17,  4.40s/it]"
     ]
    },
    {
     "name": "stdout",
     "output_type": "stream",
     "text": [
      "('max mins', -1.0, 0.9546987452164709)\n"
     ]
    },
    {
     "name": "stderr",
     "output_type": "stream",
     "text": [
      "\r",
      " 80%|████████  | 12/15 [00:52<00:13,  4.39s/it]"
     ]
    },
    {
     "name": "stdout",
     "output_type": "stream",
     "text": [
      "('max mins', -0.9809947712224186, 1.0)\n"
     ]
    },
    {
     "name": "stderr",
     "output_type": "stream",
     "text": [
      "\r",
      " 87%|████████▋ | 13/15 [00:57<00:09,  4.53s/it]"
     ]
    },
    {
     "name": "stdout",
     "output_type": "stream",
     "text": [
      "('max mins', -0.9761683827416775, 1.0)\n"
     ]
    },
    {
     "name": "stderr",
     "output_type": "stream",
     "text": [
      "\r",
      " 93%|█████████▎| 14/15 [01:01<00:04,  4.49s/it]"
     ]
    },
    {
     "name": "stdout",
     "output_type": "stream",
     "text": [
      "('max mins', -1.0, 0.9979458402066035)\n"
     ]
    },
    {
     "name": "stderr",
     "output_type": "stream",
     "text": [
      "100%|██████████| 15/15 [01:06<00:00,  4.47s/it]\n"
     ]
    },
    {
     "name": "stdout",
     "output_type": "stream",
     "text": [
      "('Best file pairs are: ', 'non_spikey_T0000018.WAV*non_spikey_T0000019.WAV')\n",
      "Start and end indices around peak:                  start index: 6123429\t\t          end index: 17623429                  total samples:30015488\n"
     ]
    },
    {
     "name": "stderr",
     "output_type": "stream",
     "text": [
      "../../../bin/audio_for_videoannotation.py:175: UserWarning: The AV sync may not be very great - please check again. The value was :0.22472885257197314\n",
      "  warnings.warn(warning_msg, stacklevel=1)\n"
     ]
    },
    {
     "name": "stdout",
     "output_type": "stream",
     "text": [
      "common_fps/Aditya_annotations/2018-08-19/common_fps_video_syncAditya_2018-08-20_0111-0200_65.csv\n",
      "('video_fps obtained is :', 25)\n",
      "Did not find user-provided sample rate - getting it from first file that matches format!\n",
      "('sampling rate is : ', 250000)\n",
      ".....finding best audio segment.....\n"
     ]
    },
    {
     "name": "stderr",
     "output_type": "stream",
     "text": [
      "\r",
      "  0%|          | 0/15 [00:00<?, ?it/s]"
     ]
    },
    {
     "name": "stdout",
     "output_type": "stream",
     "text": [
      "('max mins for upsampled video', -1.0, 0.9013439343832584)\n",
      "('max mins', -0.9604330112349305, 1.0)\n"
     ]
    },
    {
     "name": "stderr",
     "output_type": "stream",
     "text": [
      "\r",
      "  7%|▋         | 1/15 [00:04<01:01,  4.37s/it]"
     ]
    },
    {
     "name": "stdout",
     "output_type": "stream",
     "text": [
      "('max mins', -1.0, 0.9813355482916202)\n"
     ]
    },
    {
     "name": "stderr",
     "output_type": "stream",
     "text": [
      "\r",
      " 13%|█▎        | 2/15 [00:08<00:56,  4.37s/it]"
     ]
    },
    {
     "name": "stdout",
     "output_type": "stream",
     "text": [
      "('max mins', -1.0, 0.9916817204346738)\n"
     ]
    },
    {
     "name": "stderr",
     "output_type": "stream",
     "text": [
      "\r",
      " 20%|██        | 3/15 [00:13<00:52,  4.37s/it]"
     ]
    },
    {
     "name": "stdout",
     "output_type": "stream",
     "text": [
      "('max mins', -1.0, 0.9832754746981707)\n"
     ]
    },
    {
     "name": "stderr",
     "output_type": "stream",
     "text": [
      "\r",
      " 27%|██▋       | 4/15 [00:17<00:48,  4.40s/it]"
     ]
    },
    {
     "name": "stdout",
     "output_type": "stream",
     "text": [
      "('max mins', -1.0, 0.9966273079495607)\n"
     ]
    },
    {
     "name": "stderr",
     "output_type": "stream",
     "text": [
      "\r",
      " 33%|███▎      | 5/15 [00:21<00:43,  4.39s/it]"
     ]
    },
    {
     "name": "stdout",
     "output_type": "stream",
     "text": [
      "('max mins', -1.0, 0.9947318403602488)\n"
     ]
    },
    {
     "name": "stderr",
     "output_type": "stream",
     "text": [
      "\r",
      " 40%|████      | 6/15 [00:26<00:39,  4.39s/it]"
     ]
    },
    {
     "name": "stdout",
     "output_type": "stream",
     "text": [
      "('max mins', -0.9679249511255772, 1.0)\n"
     ]
    },
    {
     "name": "stderr",
     "output_type": "stream",
     "text": [
      "\r",
      " 47%|████▋     | 7/15 [00:30<00:35,  4.39s/it]"
     ]
    },
    {
     "name": "stdout",
     "output_type": "stream",
     "text": [
      "('max mins', -0.9414557285434305, 1.0)\n"
     ]
    },
    {
     "name": "stderr",
     "output_type": "stream",
     "text": [
      "\r",
      " 53%|█████▎    | 8/15 [00:35<00:30,  4.38s/it]"
     ]
    },
    {
     "name": "stdout",
     "output_type": "stream",
     "text": [
      "('max mins', -0.9536997290119662, 1.0)\n"
     ]
    },
    {
     "name": "stderr",
     "output_type": "stream",
     "text": [
      "\r",
      " 60%|██████    | 9/15 [00:39<00:26,  4.39s/it]"
     ]
    },
    {
     "name": "stdout",
     "output_type": "stream",
     "text": [
      "('max mins', -0.963978928481249, 1.0)\n"
     ]
    },
    {
     "name": "stderr",
     "output_type": "stream",
     "text": [
      "\r",
      " 67%|██████▋   | 10/15 [00:43<00:21,  4.39s/it]"
     ]
    },
    {
     "name": "stdout",
     "output_type": "stream",
     "text": [
      "('max mins', -1.0, 0.9687355577573609)\n"
     ]
    },
    {
     "name": "stderr",
     "output_type": "stream",
     "text": [
      "\r",
      " 73%|███████▎  | 11/15 [00:48<00:17,  4.38s/it]"
     ]
    },
    {
     "name": "stdout",
     "output_type": "stream",
     "text": [
      "('max mins', -1.0, 0.9546987452164709)\n"
     ]
    },
    {
     "name": "stderr",
     "output_type": "stream",
     "text": [
      "\r",
      " 80%|████████  | 12/15 [00:52<00:13,  4.38s/it]"
     ]
    },
    {
     "name": "stdout",
     "output_type": "stream",
     "text": [
      "('max mins', -0.9809947712224186, 1.0)\n"
     ]
    },
    {
     "name": "stderr",
     "output_type": "stream",
     "text": [
      "\r",
      " 87%|████████▋ | 13/15 [00:57<00:08,  4.38s/it]"
     ]
    },
    {
     "name": "stdout",
     "output_type": "stream",
     "text": [
      "('max mins', -0.9761683827416775, 1.0)\n"
     ]
    },
    {
     "name": "stderr",
     "output_type": "stream",
     "text": [
      "\r",
      " 93%|█████████▎| 14/15 [01:01<00:04,  4.39s/it]"
     ]
    },
    {
     "name": "stdout",
     "output_type": "stream",
     "text": [
      "('max mins', -1.0, 0.9979458402066035)\n"
     ]
    },
    {
     "name": "stderr",
     "output_type": "stream",
     "text": [
      "100%|██████████| 15/15 [01:05<00:00,  4.39s/it]\n"
     ]
    },
    {
     "name": "stdout",
     "output_type": "stream",
     "text": [
      "('Best file pairs are: ', 'non_spikey_T0000018.WAV*non_spikey_T0000019.WAV')\n",
      "Start and end indices around peak:                  start index: 6373439\t\t          end index: 17873439                  total samples:30015488\n"
     ]
    },
    {
     "name": "stderr",
     "output_type": "stream",
     "text": [
      "../../../bin/audio_for_videoannotation.py:175: UserWarning: The AV sync may not be very great - please check again. The value was :0.22334376831447592\n",
      "  warnings.warn(warning_msg, stacklevel=1)\n"
     ]
    },
    {
     "name": "stdout",
     "output_type": "stream",
     "text": [
      "common_fps/Aditya_annotations/2018-08-19/common_fps_video_syncAditya_2018-08-20_0111-0200_66.csv\n",
      "('video_fps obtained is :', 25)\n",
      "Did not find user-provided sample rate - getting it from first file that matches format!\n",
      "('sampling rate is : ', 250000)\n",
      ".....finding best audio segment.....\n"
     ]
    },
    {
     "name": "stderr",
     "output_type": "stream",
     "text": [
      "\r",
      "  0%|          | 0/15 [00:00<?, ?it/s]"
     ]
    },
    {
     "name": "stdout",
     "output_type": "stream",
     "text": [
      "('max mins for upsampled video', -1.0, 0.9424677934934177)\n",
      "('max mins', -0.9604330112349305, 1.0)\n"
     ]
    },
    {
     "name": "stderr",
     "output_type": "stream",
     "text": [
      "\r",
      "  7%|▋         | 1/15 [00:04<01:01,  4.37s/it]"
     ]
    },
    {
     "name": "stdout",
     "output_type": "stream",
     "text": [
      "('max mins', -1.0, 0.9813355482916202)\n"
     ]
    },
    {
     "name": "stderr",
     "output_type": "stream",
     "text": [
      "\r",
      " 13%|█▎        | 2/15 [00:08<00:56,  4.38s/it]"
     ]
    },
    {
     "name": "stdout",
     "output_type": "stream",
     "text": [
      "('max mins', -1.0, 0.9916817204346738)\n"
     ]
    },
    {
     "name": "stderr",
     "output_type": "stream",
     "text": [
      "\r",
      " 20%|██        | 3/15 [00:13<00:52,  4.38s/it]"
     ]
    },
    {
     "name": "stdout",
     "output_type": "stream",
     "text": [
      "('max mins', -1.0, 0.9832754746981707)\n"
     ]
    },
    {
     "name": "stderr",
     "output_type": "stream",
     "text": [
      "\r",
      " 27%|██▋       | 4/15 [00:17<00:48,  4.38s/it]"
     ]
    },
    {
     "name": "stdout",
     "output_type": "stream",
     "text": [
      "('max mins', -1.0, 0.9966273079495607)\n"
     ]
    },
    {
     "name": "stderr",
     "output_type": "stream",
     "text": [
      "\r",
      " 33%|███▎      | 5/15 [00:21<00:43,  4.38s/it]"
     ]
    },
    {
     "name": "stdout",
     "output_type": "stream",
     "text": [
      "('max mins', -1.0, 0.9947318403602488)\n"
     ]
    },
    {
     "name": "stderr",
     "output_type": "stream",
     "text": [
      "\r",
      " 40%|████      | 6/15 [00:26<00:39,  4.38s/it]"
     ]
    },
    {
     "name": "stdout",
     "output_type": "stream",
     "text": [
      "('max mins', -0.9679249511255772, 1.0)\n"
     ]
    },
    {
     "name": "stderr",
     "output_type": "stream",
     "text": [
      "\r",
      " 47%|████▋     | 7/15 [00:30<00:35,  4.38s/it]"
     ]
    },
    {
     "name": "stdout",
     "output_type": "stream",
     "text": [
      "('max mins', -0.9414557285434305, 1.0)\n"
     ]
    },
    {
     "name": "stderr",
     "output_type": "stream",
     "text": [
      "\r",
      " 53%|█████▎    | 8/15 [00:35<00:30,  4.43s/it]"
     ]
    },
    {
     "name": "stdout",
     "output_type": "stream",
     "text": [
      "('max mins', -0.9536997290119662, 1.0)\n"
     ]
    },
    {
     "name": "stderr",
     "output_type": "stream",
     "text": [
      "\r",
      " 60%|██████    | 9/15 [00:39<00:26,  4.43s/it]"
     ]
    },
    {
     "name": "stdout",
     "output_type": "stream",
     "text": [
      "('max mins', -0.963978928481249, 1.0)\n"
     ]
    },
    {
     "name": "stderr",
     "output_type": "stream",
     "text": [
      "\r",
      " 67%|██████▋   | 10/15 [00:44<00:22,  4.41s/it]"
     ]
    },
    {
     "name": "stdout",
     "output_type": "stream",
     "text": [
      "('max mins', -1.0, 0.9687355577573609)\n"
     ]
    },
    {
     "name": "stderr",
     "output_type": "stream",
     "text": [
      "\r",
      " 73%|███████▎  | 11/15 [00:48<00:17,  4.41s/it]"
     ]
    },
    {
     "name": "stdout",
     "output_type": "stream",
     "text": [
      "('max mins', -1.0, 0.9546987452164709)\n"
     ]
    },
    {
     "name": "stderr",
     "output_type": "stream",
     "text": [
      "\r",
      " 80%|████████  | 12/15 [00:52<00:13,  4.40s/it]"
     ]
    },
    {
     "name": "stdout",
     "output_type": "stream",
     "text": [
      "('max mins', -0.9809947712224186, 1.0)\n"
     ]
    },
    {
     "name": "stderr",
     "output_type": "stream",
     "text": [
      "\r",
      " 87%|████████▋ | 13/15 [00:57<00:08,  4.40s/it]"
     ]
    },
    {
     "name": "stdout",
     "output_type": "stream",
     "text": [
      "('max mins', -0.9761683827416775, 1.0)\n"
     ]
    },
    {
     "name": "stderr",
     "output_type": "stream",
     "text": [
      "\r",
      " 93%|█████████▎| 14/15 [01:01<00:04,  4.39s/it]"
     ]
    },
    {
     "name": "stdout",
     "output_type": "stream",
     "text": [
      "('max mins', -1.0, 0.9979458402066035)\n"
     ]
    },
    {
     "name": "stderr",
     "output_type": "stream",
     "text": [
      "100%|██████████| 15/15 [01:05<00:00,  4.39s/it]\n"
     ]
    },
    {
     "name": "stdout",
     "output_type": "stream",
     "text": [
      "('Best file pairs are: ', 'non_spikey_T0000017.WAV*non_spikey_T0000018.WAV')\n",
      "Start and end indices around peak:                  start index: 7659022\t\t          end index: 19159022                  total samples:30015488\n"
     ]
    },
    {
     "name": "stderr",
     "output_type": "stream",
     "text": [
      "../../../bin/audio_for_videoannotation.py:175: UserWarning: The AV sync may not be very great - please check again. The value was :0.2306293319832146\n",
      "  warnings.warn(warning_msg, stacklevel=1)\n"
     ]
    },
    {
     "name": "stdout",
     "output_type": "stream",
     "text": [
      "common_fps/Aditya_annotations/2018-08-19/common_fps_video_syncAditya_2018-08-20_0111-0200_68.csv\n",
      "('video_fps obtained is :', 25)\n",
      "Did not find user-provided sample rate - getting it from first file that matches format!\n",
      "('sampling rate is : ', 250000)\n",
      ".....finding best audio segment.....\n"
     ]
    },
    {
     "name": "stderr",
     "output_type": "stream",
     "text": [
      "\r",
      "  0%|          | 0/15 [00:00<?, ?it/s]"
     ]
    },
    {
     "name": "stdout",
     "output_type": "stream",
     "text": [
      "('max mins for upsampled video', -1.0, 0.9402005355079667)\n",
      "('max mins', -0.9604330112349305, 1.0)\n"
     ]
    },
    {
     "name": "stderr",
     "output_type": "stream",
     "text": [
      "\r",
      "  7%|▋         | 1/15 [00:04<01:00,  4.35s/it]"
     ]
    },
    {
     "name": "stdout",
     "output_type": "stream",
     "text": [
      "('max mins', -1.0, 0.9813355482916202)\n"
     ]
    },
    {
     "name": "stderr",
     "output_type": "stream",
     "text": [
      "\r",
      " 13%|█▎        | 2/15 [00:08<00:56,  4.36s/it]"
     ]
    },
    {
     "name": "stdout",
     "output_type": "stream",
     "text": [
      "('max mins', -1.0, 0.9916817204346738)\n"
     ]
    },
    {
     "name": "stderr",
     "output_type": "stream",
     "text": [
      "\r",
      " 20%|██        | 3/15 [00:13<00:52,  4.36s/it]"
     ]
    },
    {
     "name": "stdout",
     "output_type": "stream",
     "text": [
      "('max mins', -1.0, 0.9832754746981707)\n"
     ]
    },
    {
     "name": "stderr",
     "output_type": "stream",
     "text": [
      "\r",
      " 27%|██▋       | 4/15 [00:17<00:48,  4.37s/it]"
     ]
    },
    {
     "name": "stdout",
     "output_type": "stream",
     "text": [
      "('max mins', -1.0, 0.9966273079495607)\n"
     ]
    },
    {
     "name": "stderr",
     "output_type": "stream",
     "text": [
      "\r",
      " 33%|███▎      | 5/15 [00:21<00:43,  4.37s/it]"
     ]
    },
    {
     "name": "stdout",
     "output_type": "stream",
     "text": [
      "('max mins', -1.0, 0.9947318403602488)\n"
     ]
    },
    {
     "name": "stderr",
     "output_type": "stream",
     "text": [
      "\r",
      " 40%|████      | 6/15 [00:26<00:39,  4.37s/it]"
     ]
    },
    {
     "name": "stdout",
     "output_type": "stream",
     "text": [
      "('max mins', -0.9679249511255772, 1.0)\n"
     ]
    },
    {
     "name": "stderr",
     "output_type": "stream",
     "text": [
      "\r",
      " 47%|████▋     | 7/15 [00:30<00:34,  4.37s/it]"
     ]
    },
    {
     "name": "stdout",
     "output_type": "stream",
     "text": [
      "('max mins', -0.9414557285434305, 1.0)\n"
     ]
    },
    {
     "name": "stderr",
     "output_type": "stream",
     "text": [
      "\r",
      " 53%|█████▎    | 8/15 [00:34<00:30,  4.37s/it]"
     ]
    },
    {
     "name": "stdout",
     "output_type": "stream",
     "text": [
      "('max mins', -0.9536997290119662, 1.0)\n"
     ]
    },
    {
     "name": "stderr",
     "output_type": "stream",
     "text": [
      "\r",
      " 60%|██████    | 9/15 [00:39<00:26,  4.38s/it]"
     ]
    },
    {
     "name": "stdout",
     "output_type": "stream",
     "text": [
      "('max mins', -0.963978928481249, 1.0)\n"
     ]
    },
    {
     "name": "stderr",
     "output_type": "stream",
     "text": [
      "\r",
      " 67%|██████▋   | 10/15 [00:43<00:21,  4.38s/it]"
     ]
    },
    {
     "name": "stdout",
     "output_type": "stream",
     "text": [
      "('max mins', -1.0, 0.9687355577573609)\n"
     ]
    },
    {
     "name": "stderr",
     "output_type": "stream",
     "text": [
      "\r",
      " 73%|███████▎  | 11/15 [00:48<00:17,  4.38s/it]"
     ]
    },
    {
     "name": "stdout",
     "output_type": "stream",
     "text": [
      "('max mins', -1.0, 0.9546987452164709)\n"
     ]
    },
    {
     "name": "stderr",
     "output_type": "stream",
     "text": [
      "\r",
      " 80%|████████  | 12/15 [00:52<00:13,  4.38s/it]"
     ]
    },
    {
     "name": "stdout",
     "output_type": "stream",
     "text": [
      "('max mins', -0.9809947712224186, 1.0)\n"
     ]
    },
    {
     "name": "stderr",
     "output_type": "stream",
     "text": [
      "\r",
      " 87%|████████▋ | 13/15 [00:56<00:08,  4.38s/it]"
     ]
    },
    {
     "name": "stdout",
     "output_type": "stream",
     "text": [
      "('max mins', -0.9761683827416775, 1.0)\n"
     ]
    },
    {
     "name": "stderr",
     "output_type": "stream",
     "text": [
      "\r",
      " 93%|█████████▎| 14/15 [01:01<00:04,  4.38s/it]"
     ]
    },
    {
     "name": "stdout",
     "output_type": "stream",
     "text": [
      "('max mins', -1.0, 0.9979458402066035)\n"
     ]
    },
    {
     "name": "stderr",
     "output_type": "stream",
     "text": [
      "100%|██████████| 15/15 [01:05<00:00,  4.38s/it]\n"
     ]
    },
    {
     "name": "stdout",
     "output_type": "stream",
     "text": [
      "('Best file pairs are: ', 'non_spikey_T0000020.WAV*non_spikey_T0000021.WAV')\n",
      "Start and end indices around peak:                  start index: 1971303\t\t          end index: 13471303                  total samples:30015488\n"
     ]
    },
    {
     "name": "stderr",
     "output_type": "stream",
     "text": [
      "../../../bin/audio_for_videoannotation.py:175: UserWarning: The AV sync may not be very great - please check again. The value was :0.2281071613089067\n",
      "  warnings.warn(warning_msg, stacklevel=1)\n"
     ]
    },
    {
     "name": "stdout",
     "output_type": "stream",
     "text": [
      "common_fps/Aditya_annotations/2018-08-19/common_fps_video_syncAditya_2018-08-20_0111-0200_69.csv\n",
      "('video_fps obtained is :', 25)\n",
      "Did not find user-provided sample rate - getting it from first file that matches format!\n",
      "('sampling rate is : ', 250000)\n",
      ".....finding best audio segment.....\n"
     ]
    },
    {
     "name": "stderr",
     "output_type": "stream",
     "text": [
      "\r",
      "  0%|          | 0/15 [00:00<?, ?it/s]"
     ]
    },
    {
     "name": "stdout",
     "output_type": "stream",
     "text": [
      "('max mins for upsampled video', -1.0, 0.9362974054865905)\n",
      "('max mins', -0.9604330112349305, 1.0)\n"
     ]
    },
    {
     "name": "stderr",
     "output_type": "stream",
     "text": [
      "\r",
      "  7%|▋         | 1/15 [00:04<01:01,  4.36s/it]"
     ]
    },
    {
     "name": "stdout",
     "output_type": "stream",
     "text": [
      "('max mins', -1.0, 0.9813355482916202)\n"
     ]
    },
    {
     "name": "stderr",
     "output_type": "stream",
     "text": [
      "\r",
      " 13%|█▎        | 2/15 [00:08<00:56,  4.37s/it]"
     ]
    },
    {
     "name": "stdout",
     "output_type": "stream",
     "text": [
      "('max mins', -1.0, 0.9916817204346738)\n"
     ]
    },
    {
     "name": "stderr",
     "output_type": "stream",
     "text": [
      "\r",
      " 20%|██        | 3/15 [00:13<00:52,  4.37s/it]"
     ]
    },
    {
     "name": "stdout",
     "output_type": "stream",
     "text": [
      "('max mins', -1.0, 0.9832754746981707)\n"
     ]
    },
    {
     "name": "stderr",
     "output_type": "stream",
     "text": [
      "\r",
      " 27%|██▋       | 4/15 [00:17<00:48,  4.41s/it]"
     ]
    },
    {
     "name": "stdout",
     "output_type": "stream",
     "text": [
      "('max mins', -1.0, 0.9966273079495607)\n"
     ]
    },
    {
     "name": "stderr",
     "output_type": "stream",
     "text": [
      "\r",
      " 33%|███▎      | 5/15 [00:22<00:44,  4.42s/it]"
     ]
    },
    {
     "name": "stdout",
     "output_type": "stream",
     "text": [
      "('max mins', -1.0, 0.9947318403602488)\n"
     ]
    },
    {
     "name": "stderr",
     "output_type": "stream",
     "text": [
      "\r",
      " 40%|████      | 6/15 [00:26<00:39,  4.41s/it]"
     ]
    },
    {
     "name": "stdout",
     "output_type": "stream",
     "text": [
      "('max mins', -0.9679249511255772, 1.0)\n"
     ]
    },
    {
     "name": "stderr",
     "output_type": "stream",
     "text": [
      "\r",
      " 47%|████▋     | 7/15 [00:30<00:35,  4.41s/it]"
     ]
    },
    {
     "name": "stdout",
     "output_type": "stream",
     "text": [
      "('max mins', -0.9414557285434305, 1.0)\n"
     ]
    },
    {
     "name": "stderr",
     "output_type": "stream",
     "text": [
      "\r",
      " 53%|█████▎    | 8/15 [00:35<00:30,  4.40s/it]"
     ]
    },
    {
     "name": "stdout",
     "output_type": "stream",
     "text": [
      "('max mins', -0.9536997290119662, 1.0)\n"
     ]
    },
    {
     "name": "stderr",
     "output_type": "stream",
     "text": [
      "\r",
      " 60%|██████    | 9/15 [00:39<00:26,  4.40s/it]"
     ]
    },
    {
     "name": "stdout",
     "output_type": "stream",
     "text": [
      "('max mins', -0.963978928481249, 1.0)\n"
     ]
    },
    {
     "name": "stderr",
     "output_type": "stream",
     "text": [
      "\r",
      " 67%|██████▋   | 10/15 [00:44<00:21,  4.39s/it]"
     ]
    },
    {
     "name": "stdout",
     "output_type": "stream",
     "text": [
      "('max mins', -1.0, 0.9687355577573609)\n"
     ]
    },
    {
     "name": "stderr",
     "output_type": "stream",
     "text": [
      "\r",
      " 73%|███████▎  | 11/15 [00:48<00:17,  4.39s/it]"
     ]
    },
    {
     "name": "stdout",
     "output_type": "stream",
     "text": [
      "('max mins', -1.0, 0.9546987452164709)\n"
     ]
    },
    {
     "name": "stderr",
     "output_type": "stream",
     "text": [
      "\r",
      " 80%|████████  | 12/15 [00:52<00:13,  4.39s/it]"
     ]
    },
    {
     "name": "stdout",
     "output_type": "stream",
     "text": [
      "('max mins', -0.9809947712224186, 1.0)\n"
     ]
    },
    {
     "name": "stderr",
     "output_type": "stream",
     "text": [
      "\r",
      " 87%|████████▋ | 13/15 [00:57<00:08,  4.39s/it]"
     ]
    },
    {
     "name": "stdout",
     "output_type": "stream",
     "text": [
      "('max mins', -0.9761683827416775, 1.0)\n"
     ]
    },
    {
     "name": "stderr",
     "output_type": "stream",
     "text": [
      "\r",
      " 93%|█████████▎| 14/15 [01:01<00:04,  4.41s/it]"
     ]
    },
    {
     "name": "stdout",
     "output_type": "stream",
     "text": [
      "('max mins', -1.0, 0.9979458402066035)\n"
     ]
    },
    {
     "name": "stderr",
     "output_type": "stream",
     "text": [
      "100%|██████████| 15/15 [01:06<00:00,  4.43s/it]\n"
     ]
    },
    {
     "name": "stdout",
     "output_type": "stream",
     "text": [
      "('Best file pairs are: ', 'non_spikey_T0000014.WAV*non_spikey_T0000015.WAV')\n",
      "Start and end indices around peak:                  start index: 10092486\t\t          end index: 21592486                  total samples:30015488\n"
     ]
    },
    {
     "name": "stderr",
     "output_type": "stream",
     "text": [
      "../../../bin/audio_for_videoannotation.py:175: UserWarning: The AV sync may not be very great - please check again. The value was :0.22375449131124295\n",
      "  warnings.warn(warning_msg, stacklevel=1)\n"
     ]
    },
    {
     "name": "stdout",
     "output_type": "stream",
     "text": [
      "common_fps/Aditya_annotations/2018-08-19/common_fps_video_syncAditya_2018-08-20_0111-0200_70.csv\n",
      "('video_fps obtained is :', 25)\n",
      "Did not find user-provided sample rate - getting it from first file that matches format!\n",
      "('sampling rate is : ', 250000)\n",
      ".....finding best audio segment.....\n"
     ]
    },
    {
     "name": "stderr",
     "output_type": "stream",
     "text": [
      "\r",
      "  0%|          | 0/15 [00:00<?, ?it/s]"
     ]
    },
    {
     "name": "stdout",
     "output_type": "stream",
     "text": [
      "('max mins for upsampled video', -1.0, 0.94280389351321)\n",
      "('max mins', -0.9604330112349305, 1.0)\n"
     ]
    },
    {
     "name": "stderr",
     "output_type": "stream",
     "text": [
      "\r",
      "  7%|▋         | 1/15 [00:04<01:00,  4.35s/it]"
     ]
    },
    {
     "name": "stdout",
     "output_type": "stream",
     "text": [
      "('max mins', -1.0, 0.9813355482916202)\n"
     ]
    },
    {
     "name": "stderr",
     "output_type": "stream",
     "text": [
      "\r",
      " 13%|█▎        | 2/15 [00:08<00:56,  4.36s/it]"
     ]
    },
    {
     "name": "stdout",
     "output_type": "stream",
     "text": [
      "('max mins', -1.0, 0.9916817204346738)\n"
     ]
    },
    {
     "name": "stderr",
     "output_type": "stream",
     "text": [
      "\r",
      " 20%|██        | 3/15 [00:13<00:52,  4.38s/it]"
     ]
    },
    {
     "name": "stdout",
     "output_type": "stream",
     "text": [
      "('max mins', -1.0, 0.9832754746981707)\n"
     ]
    },
    {
     "name": "stderr",
     "output_type": "stream",
     "text": [
      "\r",
      " 27%|██▋       | 4/15 [00:17<00:48,  4.38s/it]"
     ]
    },
    {
     "name": "stdout",
     "output_type": "stream",
     "text": [
      "('max mins', -1.0, 0.9966273079495607)\n"
     ]
    },
    {
     "name": "stderr",
     "output_type": "stream",
     "text": [
      "\r",
      " 33%|███▎      | 5/15 [00:21<00:43,  4.38s/it]"
     ]
    },
    {
     "name": "stdout",
     "output_type": "stream",
     "text": [
      "('max mins', -1.0, 0.9947318403602488)\n"
     ]
    },
    {
     "name": "stderr",
     "output_type": "stream",
     "text": [
      "\r",
      " 40%|████      | 6/15 [00:26<00:39,  4.38s/it]"
     ]
    },
    {
     "name": "stdout",
     "output_type": "stream",
     "text": [
      "('max mins', -0.9679249511255772, 1.0)\n"
     ]
    },
    {
     "name": "stderr",
     "output_type": "stream",
     "text": [
      "\r",
      " 47%|████▋     | 7/15 [00:30<00:35,  4.38s/it]"
     ]
    },
    {
     "name": "stdout",
     "output_type": "stream",
     "text": [
      "('max mins', -0.9414557285434305, 1.0)\n"
     ]
    },
    {
     "name": "stderr",
     "output_type": "stream",
     "text": [
      "\r",
      " 53%|█████▎    | 8/15 [00:35<00:30,  4.38s/it]"
     ]
    },
    {
     "name": "stdout",
     "output_type": "stream",
     "text": [
      "('max mins', -0.9536997290119662, 1.0)\n"
     ]
    },
    {
     "name": "stderr",
     "output_type": "stream",
     "text": [
      "\r",
      " 60%|██████    | 9/15 [00:39<00:26,  4.38s/it]"
     ]
    },
    {
     "name": "stdout",
     "output_type": "stream",
     "text": [
      "('max mins', -0.963978928481249, 1.0)\n"
     ]
    },
    {
     "name": "stderr",
     "output_type": "stream",
     "text": [
      "\r",
      " 67%|██████▋   | 10/15 [00:43<00:21,  4.38s/it]"
     ]
    },
    {
     "name": "stdout",
     "output_type": "stream",
     "text": [
      "('max mins', -1.0, 0.9687355577573609)\n"
     ]
    },
    {
     "name": "stderr",
     "output_type": "stream",
     "text": [
      "\r",
      " 73%|███████▎  | 11/15 [00:48<00:17,  4.38s/it]"
     ]
    },
    {
     "name": "stdout",
     "output_type": "stream",
     "text": [
      "('max mins', -1.0, 0.9546987452164709)\n"
     ]
    },
    {
     "name": "stderr",
     "output_type": "stream",
     "text": [
      "\r",
      " 80%|████████  | 12/15 [00:52<00:13,  4.37s/it]"
     ]
    },
    {
     "name": "stdout",
     "output_type": "stream",
     "text": [
      "('max mins', -0.9809947712224186, 1.0)\n"
     ]
    },
    {
     "name": "stderr",
     "output_type": "stream",
     "text": [
      "\r",
      " 87%|████████▋ | 13/15 [00:56<00:08,  4.37s/it]"
     ]
    },
    {
     "name": "stdout",
     "output_type": "stream",
     "text": [
      "('max mins', -0.9761683827416775, 1.0)\n"
     ]
    },
    {
     "name": "stderr",
     "output_type": "stream",
     "text": [
      "\r",
      " 93%|█████████▎| 14/15 [01:01<00:04,  4.53s/it]"
     ]
    },
    {
     "name": "stdout",
     "output_type": "stream",
     "text": [
      "('max mins', -1.0, 0.9979458402066035)\n"
     ]
    },
    {
     "name": "stderr",
     "output_type": "stream",
     "text": [
      "100%|██████████| 15/15 [01:06<00:00,  4.72s/it]\n"
     ]
    },
    {
     "name": "stdout",
     "output_type": "stream",
     "text": [
      "('Best file pairs are: ', 'non_spikey_T0000020.WAV*non_spikey_T0000021.WAV')\n",
      "Start and end indices around peak:                  start index: 6940230\t\t          end index: 18440230                  total samples:30015488\n"
     ]
    },
    {
     "name": "stderr",
     "output_type": "stream",
     "text": [
      "../../../bin/audio_for_videoannotation.py:175: UserWarning: The AV sync may not be very great - please check again. The value was :0.21280869744856465\n",
      "  warnings.warn(warning_msg, stacklevel=1)\n"
     ]
    },
    {
     "name": "stdout",
     "output_type": "stream",
     "text": [
      "common_fps/Aditya_annotations/2018-08-19/common_fps_video_syncAditya_2018-08-20_0111-0200_71.csv\n",
      "('video_fps obtained is :', 25)\n",
      "Did not find user-provided sample rate - getting it from first file that matches format!\n",
      "('sampling rate is : ', 250000)\n",
      ".....finding best audio segment.....\n"
     ]
    },
    {
     "name": "stderr",
     "output_type": "stream",
     "text": [
      "\r",
      "  0%|          | 0/15 [00:00<?, ?it/s]"
     ]
    },
    {
     "name": "stdout",
     "output_type": "stream",
     "text": [
      "('max mins for upsampled video', -1.0, 0.9325054592149444)\n",
      "('max mins', -0.9604330112349305, 1.0)\n"
     ]
    },
    {
     "name": "stderr",
     "output_type": "stream",
     "text": [
      "\r",
      "  7%|▋         | 1/15 [00:04<01:03,  4.50s/it]"
     ]
    },
    {
     "name": "stdout",
     "output_type": "stream",
     "text": [
      "('max mins', -1.0, 0.9813355482916202)\n"
     ]
    },
    {
     "name": "stderr",
     "output_type": "stream",
     "text": [
      "\r",
      " 13%|█▎        | 2/15 [00:08<00:58,  4.46s/it]"
     ]
    },
    {
     "name": "stdout",
     "output_type": "stream",
     "text": [
      "('max mins', -1.0, 0.9916817204346738)\n"
     ]
    },
    {
     "name": "stderr",
     "output_type": "stream",
     "text": [
      "\r",
      " 20%|██        | 3/15 [00:13<00:53,  4.43s/it]"
     ]
    },
    {
     "name": "stdout",
     "output_type": "stream",
     "text": [
      "('max mins', -1.0, 0.9832754746981707)\n"
     ]
    },
    {
     "name": "stderr",
     "output_type": "stream",
     "text": [
      "\r",
      " 27%|██▋       | 4/15 [00:17<00:48,  4.41s/it]"
     ]
    },
    {
     "name": "stdout",
     "output_type": "stream",
     "text": [
      "('max mins', -1.0, 0.9966273079495607)\n"
     ]
    },
    {
     "name": "stderr",
     "output_type": "stream",
     "text": [
      "\r",
      " 33%|███▎      | 5/15 [00:21<00:44,  4.40s/it]"
     ]
    },
    {
     "name": "stdout",
     "output_type": "stream",
     "text": [
      "('max mins', -1.0, 0.9947318403602488)\n"
     ]
    },
    {
     "name": "stderr",
     "output_type": "stream",
     "text": [
      "\r",
      " 40%|████      | 6/15 [00:26<00:39,  4.39s/it]"
     ]
    },
    {
     "name": "stdout",
     "output_type": "stream",
     "text": [
      "('max mins', -0.9679249511255772, 1.0)\n"
     ]
    },
    {
     "name": "stderr",
     "output_type": "stream",
     "text": [
      "\r",
      " 47%|████▋     | 7/15 [00:30<00:35,  4.38s/it]"
     ]
    },
    {
     "name": "stdout",
     "output_type": "stream",
     "text": [
      "('max mins', -0.9414557285434305, 1.0)\n"
     ]
    },
    {
     "name": "stderr",
     "output_type": "stream",
     "text": [
      "\r",
      " 53%|█████▎    | 8/15 [00:35<00:30,  4.37s/it]"
     ]
    },
    {
     "name": "stdout",
     "output_type": "stream",
     "text": [
      "('max mins', -0.9536997290119662, 1.0)\n"
     ]
    },
    {
     "name": "stderr",
     "output_type": "stream",
     "text": [
      "\r",
      " 60%|██████    | 9/15 [00:39<00:26,  4.37s/it]"
     ]
    },
    {
     "name": "stdout",
     "output_type": "stream",
     "text": [
      "('max mins', -0.963978928481249, 1.0)\n"
     ]
    },
    {
     "name": "stderr",
     "output_type": "stream",
     "text": [
      "\r",
      " 67%|██████▋   | 10/15 [00:43<00:21,  4.37s/it]"
     ]
    },
    {
     "name": "stdout",
     "output_type": "stream",
     "text": [
      "('max mins', -1.0, 0.9687355577573609)\n"
     ]
    },
    {
     "name": "stderr",
     "output_type": "stream",
     "text": [
      "\r",
      " 73%|███████▎  | 11/15 [00:48<00:17,  4.37s/it]"
     ]
    },
    {
     "name": "stdout",
     "output_type": "stream",
     "text": [
      "('max mins', -1.0, 0.9546987452164709)\n"
     ]
    },
    {
     "name": "stderr",
     "output_type": "stream",
     "text": [
      "\r",
      " 80%|████████  | 12/15 [00:52<00:13,  4.37s/it]"
     ]
    },
    {
     "name": "stdout",
     "output_type": "stream",
     "text": [
      "('max mins', -0.9809947712224186, 1.0)\n"
     ]
    },
    {
     "name": "stderr",
     "output_type": "stream",
     "text": [
      "\r",
      " 87%|████████▋ | 13/15 [00:56<00:08,  4.37s/it]"
     ]
    },
    {
     "name": "stdout",
     "output_type": "stream",
     "text": [
      "('max mins', -0.9761683827416775, 1.0)\n"
     ]
    },
    {
     "name": "stderr",
     "output_type": "stream",
     "text": [
      "\r",
      " 93%|█████████▎| 14/15 [01:01<00:04,  4.37s/it]"
     ]
    },
    {
     "name": "stdout",
     "output_type": "stream",
     "text": [
      "('max mins', -1.0, 0.9979458402066035)\n"
     ]
    },
    {
     "name": "stderr",
     "output_type": "stream",
     "text": [
      "100%|██████████| 15/15 [01:05<00:00,  4.37s/it]\n"
     ]
    },
    {
     "name": "stdout",
     "output_type": "stream",
     "text": [
      "('Best file pairs are: ', 'non_spikey_T0000020.WAV*non_spikey_T0000021.WAV')\n",
      "Start and end indices around peak:                  start index: 7195280\t\t          end index: 18695280                  total samples:30015488\n"
     ]
    },
    {
     "name": "stderr",
     "output_type": "stream",
     "text": [
      "../../../bin/audio_for_videoannotation.py:175: UserWarning: The AV sync may not be very great - please check again. The value was :0.22533308377071254\n",
      "  warnings.warn(warning_msg, stacklevel=1)\n"
     ]
    },
    {
     "name": "stdout",
     "output_type": "stream",
     "text": [
      "common_fps/Aditya_annotations/2018-08-19/common_fps_video_syncAditya_2018-08-20_0111-0200_72.csv\n",
      "('video_fps obtained is :', 25)\n",
      "Did not find user-provided sample rate - getting it from first file that matches format!\n",
      "('sampling rate is : ', 250000)\n",
      ".....finding best audio segment.....\n"
     ]
    },
    {
     "name": "stderr",
     "output_type": "stream",
     "text": [
      "\r",
      "  0%|          | 0/15 [00:00<?, ?it/s]"
     ]
    },
    {
     "name": "stdout",
     "output_type": "stream",
     "text": [
      "('max mins for upsampled video', -1.0, 0.9330151022521828)\n",
      "('max mins', -0.9604330112349305, 1.0)\n"
     ]
    },
    {
     "name": "stderr",
     "output_type": "stream",
     "text": [
      "\r",
      "  7%|▋         | 1/15 [00:04<01:00,  4.34s/it]"
     ]
    },
    {
     "name": "stdout",
     "output_type": "stream",
     "text": [
      "('max mins', -1.0, 0.9813355482916202)\n"
     ]
    },
    {
     "name": "stderr",
     "output_type": "stream",
     "text": [
      "\r",
      " 13%|█▎        | 2/15 [00:08<00:56,  4.35s/it]"
     ]
    },
    {
     "name": "stdout",
     "output_type": "stream",
     "text": [
      "('max mins', -1.0, 0.9916817204346738)\n"
     ]
    },
    {
     "name": "stderr",
     "output_type": "stream",
     "text": [
      "\r",
      " 20%|██        | 3/15 [00:13<00:52,  4.35s/it]"
     ]
    },
    {
     "name": "stdout",
     "output_type": "stream",
     "text": [
      "('max mins', -1.0, 0.9832754746981707)\n"
     ]
    },
    {
     "name": "stderr",
     "output_type": "stream",
     "text": [
      "\r",
      " 27%|██▋       | 4/15 [00:17<00:47,  4.35s/it]"
     ]
    },
    {
     "name": "stdout",
     "output_type": "stream",
     "text": [
      "('max mins', -1.0, 0.9966273079495607)\n"
     ]
    },
    {
     "name": "stderr",
     "output_type": "stream",
     "text": [
      "\r",
      " 33%|███▎      | 5/15 [00:21<00:43,  4.35s/it]"
     ]
    },
    {
     "name": "stdout",
     "output_type": "stream",
     "text": [
      "('max mins', -1.0, 0.9947318403602488)\n"
     ]
    },
    {
     "name": "stderr",
     "output_type": "stream",
     "text": [
      "\r",
      " 40%|████      | 6/15 [00:26<00:39,  4.35s/it]"
     ]
    },
    {
     "name": "stdout",
     "output_type": "stream",
     "text": [
      "('max mins', -0.9679249511255772, 1.0)\n"
     ]
    },
    {
     "name": "stderr",
     "output_type": "stream",
     "text": [
      "\r",
      " 47%|████▋     | 7/15 [00:30<00:34,  4.36s/it]"
     ]
    },
    {
     "name": "stdout",
     "output_type": "stream",
     "text": [
      "('max mins', -0.9414557285434305, 1.0)\n"
     ]
    },
    {
     "name": "stderr",
     "output_type": "stream",
     "text": [
      "\r",
      " 53%|█████▎    | 8/15 [00:34<00:30,  4.36s/it]"
     ]
    },
    {
     "name": "stdout",
     "output_type": "stream",
     "text": [
      "('max mins', -0.9536997290119662, 1.0)\n"
     ]
    },
    {
     "name": "stderr",
     "output_type": "stream",
     "text": [
      "\r",
      " 60%|██████    | 9/15 [00:39<00:26,  4.35s/it]"
     ]
    },
    {
     "name": "stdout",
     "output_type": "stream",
     "text": [
      "('max mins', -0.963978928481249, 1.0)\n"
     ]
    },
    {
     "name": "stderr",
     "output_type": "stream",
     "text": [
      "\r",
      " 67%|██████▋   | 10/15 [00:43<00:21,  4.36s/it]"
     ]
    },
    {
     "name": "stdout",
     "output_type": "stream",
     "text": [
      "('max mins', -1.0, 0.9687355577573609)\n"
     ]
    },
    {
     "name": "stderr",
     "output_type": "stream",
     "text": [
      "\r",
      " 73%|███████▎  | 11/15 [00:47<00:17,  4.36s/it]"
     ]
    },
    {
     "name": "stdout",
     "output_type": "stream",
     "text": [
      "('max mins', -1.0, 0.9546987452164709)\n"
     ]
    },
    {
     "name": "stderr",
     "output_type": "stream",
     "text": [
      "\r",
      " 80%|████████  | 12/15 [00:52<00:13,  4.41s/it]"
     ]
    },
    {
     "name": "stdout",
     "output_type": "stream",
     "text": [
      "('max mins', -0.9809947712224186, 1.0)\n"
     ]
    },
    {
     "name": "stderr",
     "output_type": "stream",
     "text": [
      "\r",
      " 87%|████████▋ | 13/15 [00:56<00:08,  4.40s/it]"
     ]
    },
    {
     "name": "stdout",
     "output_type": "stream",
     "text": [
      "('max mins', -0.9761683827416775, 1.0)\n"
     ]
    },
    {
     "name": "stderr",
     "output_type": "stream",
     "text": [
      "\r",
      " 93%|█████████▎| 14/15 [01:01<00:04,  4.39s/it]"
     ]
    },
    {
     "name": "stdout",
     "output_type": "stream",
     "text": [
      "('max mins', -1.0, 0.9979458402066035)\n"
     ]
    },
    {
     "name": "stderr",
     "output_type": "stream",
     "text": [
      "100%|██████████| 15/15 [01:05<00:00,  4.38s/it]\n"
     ]
    },
    {
     "name": "stdout",
     "output_type": "stream",
     "text": [
      "('Best file pairs are: ', 'non_spikey_T0000022.WAV*non_spikey_T0000023.WAV')\n",
      "Start and end indices around peak:                  start index: 16255317\t\t          end index: 27755317                  total samples:30015488\n"
     ]
    },
    {
     "name": "stderr",
     "output_type": "stream",
     "text": [
      "../../../bin/audio_for_videoannotation.py:175: UserWarning: The AV sync may not be very great - please check again. The value was :0.24051083978067414\n",
      "  warnings.warn(warning_msg, stacklevel=1)\n"
     ]
    },
    {
     "name": "stdout",
     "output_type": "stream",
     "text": [
      "common_fps/Aditya_annotations/2018-08-19/common_fps_video_syncAditya_2018-08-20_0111-0200_73.csv\n",
      "('video_fps obtained is :', 25)\n",
      "Did not find user-provided sample rate - getting it from first file that matches format!\n",
      "('sampling rate is : ', 250000)\n",
      ".....finding best audio segment.....\n"
     ]
    },
    {
     "name": "stderr",
     "output_type": "stream",
     "text": [
      "\r",
      "  0%|          | 0/15 [00:00<?, ?it/s]"
     ]
    },
    {
     "name": "stdout",
     "output_type": "stream",
     "text": [
      "('max mins for upsampled video', -1.0, 0.9467189839484708)\n",
      "('max mins', -0.9604330112349305, 1.0)\n"
     ]
    },
    {
     "name": "stderr",
     "output_type": "stream",
     "text": [
      "\r",
      "  7%|▋         | 1/15 [00:04<01:00,  4.34s/it]"
     ]
    },
    {
     "name": "stdout",
     "output_type": "stream",
     "text": [
      "('max mins', -1.0, 0.9813355482916202)\n"
     ]
    },
    {
     "name": "stderr",
     "output_type": "stream",
     "text": [
      "\r",
      " 13%|█▎        | 2/15 [00:08<00:56,  4.34s/it]"
     ]
    },
    {
     "name": "stdout",
     "output_type": "stream",
     "text": [
      "('max mins', -1.0, 0.9916817204346738)\n"
     ]
    },
    {
     "name": "stderr",
     "output_type": "stream",
     "text": [
      "\r",
      " 20%|██        | 3/15 [00:13<00:52,  4.35s/it]"
     ]
    },
    {
     "name": "stdout",
     "output_type": "stream",
     "text": [
      "('max mins', -1.0, 0.9832754746981707)\n"
     ]
    },
    {
     "name": "stderr",
     "output_type": "stream",
     "text": [
      "\r",
      " 27%|██▋       | 4/15 [00:17<00:47,  4.36s/it]"
     ]
    },
    {
     "name": "stdout",
     "output_type": "stream",
     "text": [
      "('max mins', -1.0, 0.9966273079495607)\n"
     ]
    },
    {
     "name": "stderr",
     "output_type": "stream",
     "text": [
      "\r",
      " 33%|███▎      | 5/15 [00:21<00:43,  4.36s/it]"
     ]
    },
    {
     "name": "stdout",
     "output_type": "stream",
     "text": [
      "('max mins', -1.0, 0.9947318403602488)\n"
     ]
    },
    {
     "name": "stderr",
     "output_type": "stream",
     "text": [
      "\r",
      " 40%|████      | 6/15 [00:26<00:39,  4.36s/it]"
     ]
    },
    {
     "name": "stdout",
     "output_type": "stream",
     "text": [
      "('max mins', -0.9679249511255772, 1.0)\n"
     ]
    },
    {
     "name": "stderr",
     "output_type": "stream",
     "text": [
      "\r",
      " 47%|████▋     | 7/15 [00:30<00:34,  4.37s/it]"
     ]
    },
    {
     "name": "stdout",
     "output_type": "stream",
     "text": [
      "('max mins', -0.9414557285434305, 1.0)\n"
     ]
    },
    {
     "name": "stderr",
     "output_type": "stream",
     "text": [
      "\r",
      " 53%|█████▎    | 8/15 [00:34<00:30,  4.37s/it]"
     ]
    },
    {
     "name": "stdout",
     "output_type": "stream",
     "text": [
      "('max mins', -0.9536997290119662, 1.0)\n"
     ]
    },
    {
     "name": "stderr",
     "output_type": "stream",
     "text": [
      "\r",
      " 60%|██████    | 9/15 [00:39<00:26,  4.37s/it]"
     ]
    },
    {
     "name": "stdout",
     "output_type": "stream",
     "text": [
      "('max mins', -0.963978928481249, 1.0)\n"
     ]
    },
    {
     "name": "stderr",
     "output_type": "stream",
     "text": [
      "\r",
      " 67%|██████▋   | 10/15 [00:43<00:21,  4.37s/it]"
     ]
    },
    {
     "name": "stdout",
     "output_type": "stream",
     "text": [
      "('max mins', -1.0, 0.9687355577573609)\n"
     ]
    },
    {
     "name": "stderr",
     "output_type": "stream",
     "text": [
      "\r",
      " 73%|███████▎  | 11/15 [00:48<00:17,  4.37s/it]"
     ]
    },
    {
     "name": "stdout",
     "output_type": "stream",
     "text": [
      "('max mins', -1.0, 0.9546987452164709)\n"
     ]
    },
    {
     "name": "stderr",
     "output_type": "stream",
     "text": [
      "\r",
      " 80%|████████  | 12/15 [00:52<00:13,  4.37s/it]"
     ]
    },
    {
     "name": "stdout",
     "output_type": "stream",
     "text": [
      "('max mins', -0.9809947712224186, 1.0)\n"
     ]
    },
    {
     "name": "stderr",
     "output_type": "stream",
     "text": [
      "\r",
      " 87%|████████▋ | 13/15 [00:56<00:08,  4.37s/it]"
     ]
    },
    {
     "name": "stdout",
     "output_type": "stream",
     "text": [
      "('max mins', -0.9761683827416775, 1.0)\n"
     ]
    },
    {
     "name": "stderr",
     "output_type": "stream",
     "text": [
      "\r",
      " 93%|█████████▎| 14/15 [01:01<00:04,  4.37s/it]"
     ]
    },
    {
     "name": "stdout",
     "output_type": "stream",
     "text": [
      "('max mins', -1.0, 0.9979458402066035)\n"
     ]
    },
    {
     "name": "stderr",
     "output_type": "stream",
     "text": [
      "100%|██████████| 15/15 [01:05<00:00,  4.37s/it]\n"
     ]
    },
    {
     "name": "stdout",
     "output_type": "stream",
     "text": [
      "('Best file pairs are: ', 'non_spikey_T0000022.WAV*non_spikey_T0000023.WAV')\n",
      "Start and end indices around peak:                  start index: 16756562\t\t          end index: 28256562                  total samples:30015488\n"
     ]
    },
    {
     "name": "stderr",
     "output_type": "stream",
     "text": [
      "../../../bin/audio_for_videoannotation.py:175: UserWarning: The AV sync may not be very great - please check again. The value was :0.22899585555508778\n",
      "  warnings.warn(warning_msg, stacklevel=1)\n"
     ]
    },
    {
     "name": "stdout",
     "output_type": "stream",
     "text": [
      "common_fps/Aditya_annotations/2018-08-19/common_fps_video_syncAditya_2018-08-20_0111-0200_74.csv\n",
      "('video_fps obtained is :', 25)\n",
      "Did not find user-provided sample rate - getting it from first file that matches format!\n",
      "('sampling rate is : ', 250000)\n",
      ".....finding best audio segment.....\n"
     ]
    },
    {
     "name": "stderr",
     "output_type": "stream",
     "text": [
      "\r",
      "  0%|          | 0/15 [00:00<?, ?it/s]"
     ]
    },
    {
     "name": "stdout",
     "output_type": "stream",
     "text": [
      "('max mins for upsampled video', -1.0, 0.9201935259001277)\n",
      "('max mins', -0.9604330112349305, 1.0)\n"
     ]
    },
    {
     "name": "stderr",
     "output_type": "stream",
     "text": [
      "\r",
      "  7%|▋         | 1/15 [00:04<01:00,  4.33s/it]"
     ]
    },
    {
     "name": "stdout",
     "output_type": "stream",
     "text": [
      "('max mins', -1.0, 0.9813355482916202)\n"
     ]
    },
    {
     "name": "stderr",
     "output_type": "stream",
     "text": [
      "\r",
      " 13%|█▎        | 2/15 [00:08<00:56,  4.34s/it]"
     ]
    },
    {
     "name": "stdout",
     "output_type": "stream",
     "text": [
      "('max mins', -1.0, 0.9916817204346738)\n"
     ]
    },
    {
     "name": "stderr",
     "output_type": "stream",
     "text": [
      "\r",
      " 20%|██        | 3/15 [00:13<00:52,  4.36s/it]"
     ]
    },
    {
     "name": "stdout",
     "output_type": "stream",
     "text": [
      "('max mins', -1.0, 0.9832754746981707)\n"
     ]
    },
    {
     "name": "stderr",
     "output_type": "stream",
     "text": [
      "\r",
      " 27%|██▋       | 4/15 [00:17<00:47,  4.36s/it]"
     ]
    },
    {
     "name": "stdout",
     "output_type": "stream",
     "text": [
      "('max mins', -1.0, 0.9966273079495607)\n"
     ]
    },
    {
     "name": "stderr",
     "output_type": "stream",
     "text": [
      "\r",
      " 33%|███▎      | 5/15 [00:21<00:43,  4.36s/it]"
     ]
    },
    {
     "name": "stdout",
     "output_type": "stream",
     "text": [
      "('max mins', -1.0, 0.9947318403602488)\n"
     ]
    },
    {
     "name": "stderr",
     "output_type": "stream",
     "text": [
      "\r",
      " 40%|████      | 6/15 [00:26<00:39,  4.36s/it]"
     ]
    },
    {
     "name": "stdout",
     "output_type": "stream",
     "text": [
      "('max mins', -0.9679249511255772, 1.0)\n"
     ]
    },
    {
     "name": "stderr",
     "output_type": "stream",
     "text": [
      "\r",
      " 47%|████▋     | 7/15 [00:30<00:35,  4.41s/it]"
     ]
    },
    {
     "name": "stdout",
     "output_type": "stream",
     "text": [
      "('max mins', -0.9414557285434305, 1.0)\n"
     ]
    },
    {
     "name": "stderr",
     "output_type": "stream",
     "text": [
      "\r",
      " 53%|█████▎    | 8/15 [00:35<00:30,  4.42s/it]"
     ]
    },
    {
     "name": "stdout",
     "output_type": "stream",
     "text": [
      "('max mins', -0.9536997290119662, 1.0)\n"
     ]
    },
    {
     "name": "stderr",
     "output_type": "stream",
     "text": [
      "\r",
      " 60%|██████    | 9/15 [00:39<00:26,  4.40s/it]"
     ]
    },
    {
     "name": "stdout",
     "output_type": "stream",
     "text": [
      "('max mins', -0.963978928481249, 1.0)\n"
     ]
    },
    {
     "name": "stderr",
     "output_type": "stream",
     "text": [
      "\r",
      " 67%|██████▋   | 10/15 [00:43<00:21,  4.39s/it]"
     ]
    },
    {
     "name": "stdout",
     "output_type": "stream",
     "text": [
      "('max mins', -1.0, 0.9687355577573609)\n"
     ]
    },
    {
     "name": "stderr",
     "output_type": "stream",
     "text": [
      "\r",
      " 73%|███████▎  | 11/15 [00:48<00:17,  4.38s/it]"
     ]
    },
    {
     "name": "stdout",
     "output_type": "stream",
     "text": [
      "('max mins', -1.0, 0.9546987452164709)\n"
     ]
    },
    {
     "name": "stderr",
     "output_type": "stream",
     "text": [
      "\r",
      " 80%|████████  | 12/15 [00:52<00:13,  4.38s/it]"
     ]
    },
    {
     "name": "stdout",
     "output_type": "stream",
     "text": [
      "('max mins', -0.9809947712224186, 1.0)\n"
     ]
    },
    {
     "name": "stderr",
     "output_type": "stream",
     "text": [
      "\r",
      " 87%|████████▋ | 13/15 [00:56<00:08,  4.37s/it]"
     ]
    },
    {
     "name": "stdout",
     "output_type": "stream",
     "text": [
      "('max mins', -0.9761683827416775, 1.0)\n"
     ]
    },
    {
     "name": "stderr",
     "output_type": "stream",
     "text": [
      "\r",
      " 93%|█████████▎| 14/15 [01:01<00:04,  4.37s/it]"
     ]
    },
    {
     "name": "stdout",
     "output_type": "stream",
     "text": [
      "('max mins', -1.0, 0.9979458402066035)\n"
     ]
    },
    {
     "name": "stderr",
     "output_type": "stream",
     "text": [
      "100%|██████████| 15/15 [01:05<00:00,  4.37s/it]\n"
     ]
    },
    {
     "name": "stdout",
     "output_type": "stream",
     "text": [
      "('Best file pairs are: ', 'non_spikey_T0000022.WAV*non_spikey_T0000023.WAV')\n",
      "Start and end indices around peak:                  start index: 17256347\t\t          end index: 28756347                  total samples:30015488\n"
     ]
    },
    {
     "name": "stderr",
     "output_type": "stream",
     "text": [
      "../../../bin/audio_for_videoannotation.py:175: UserWarning: The AV sync may not be very great - please check again. The value was :0.22936865942454915\n",
      "  warnings.warn(warning_msg, stacklevel=1)\n"
     ]
    },
    {
     "name": "stdout",
     "output_type": "stream",
     "text": [
      "common_fps/Aditya_annotations/2018-08-19/common_fps_video_syncAditya_2018-08-20_0111-0200_76.csv\n",
      "('video_fps obtained is :', 25)\n",
      "Did not find user-provided sample rate - getting it from first file that matches format!\n",
      "('sampling rate is : ', 250000)\n",
      ".....finding best audio segment.....\n"
     ]
    },
    {
     "name": "stderr",
     "output_type": "stream",
     "text": [
      "\r",
      "  0%|          | 0/15 [00:00<?, ?it/s]"
     ]
    },
    {
     "name": "stdout",
     "output_type": "stream",
     "text": [
      "('max mins for upsampled video', -1.0, 0.966263923094762)\n",
      "('max mins', -0.9604330112349305, 1.0)\n"
     ]
    },
    {
     "name": "stderr",
     "output_type": "stream",
     "text": [
      "\r",
      "  7%|▋         | 1/15 [00:04<01:00,  4.34s/it]"
     ]
    },
    {
     "name": "stdout",
     "output_type": "stream",
     "text": [
      "('max mins', -1.0, 0.9813355482916202)\n"
     ]
    },
    {
     "name": "stderr",
     "output_type": "stream",
     "text": [
      "\r",
      " 13%|█▎        | 2/15 [00:08<00:56,  4.35s/it]"
     ]
    },
    {
     "name": "stdout",
     "output_type": "stream",
     "text": [
      "('max mins', -1.0, 0.9916817204346738)\n"
     ]
    },
    {
     "name": "stderr",
     "output_type": "stream",
     "text": [
      "\r",
      " 20%|██        | 3/15 [00:13<00:52,  4.35s/it]"
     ]
    },
    {
     "name": "stdout",
     "output_type": "stream",
     "text": [
      "('max mins', -1.0, 0.9832754746981707)\n"
     ]
    },
    {
     "name": "stderr",
     "output_type": "stream",
     "text": [
      "\r",
      " 27%|██▋       | 4/15 [00:17<00:47,  4.35s/it]"
     ]
    },
    {
     "name": "stdout",
     "output_type": "stream",
     "text": [
      "('max mins', -1.0, 0.9966273079495607)\n"
     ]
    },
    {
     "name": "stderr",
     "output_type": "stream",
     "text": [
      "\r",
      " 33%|███▎      | 5/15 [00:21<00:43,  4.35s/it]"
     ]
    },
    {
     "name": "stdout",
     "output_type": "stream",
     "text": [
      "('max mins', -1.0, 0.9947318403602488)\n"
     ]
    },
    {
     "name": "stderr",
     "output_type": "stream",
     "text": [
      "\r",
      " 40%|████      | 6/15 [00:26<00:39,  4.35s/it]"
     ]
    },
    {
     "name": "stdout",
     "output_type": "stream",
     "text": [
      "('max mins', -0.9679249511255772, 1.0)\n"
     ]
    },
    {
     "name": "stderr",
     "output_type": "stream",
     "text": [
      "\r",
      " 47%|████▋     | 7/15 [00:30<00:34,  4.35s/it]"
     ]
    },
    {
     "name": "stdout",
     "output_type": "stream",
     "text": [
      "('max mins', -0.9414557285434305, 1.0)\n"
     ]
    },
    {
     "name": "stderr",
     "output_type": "stream",
     "text": [
      "\r",
      " 53%|█████▎    | 8/15 [00:34<00:30,  4.35s/it]"
     ]
    },
    {
     "name": "stdout",
     "output_type": "stream",
     "text": [
      "('max mins', -0.9536997290119662, 1.0)\n"
     ]
    },
    {
     "name": "stderr",
     "output_type": "stream",
     "text": [
      "\r",
      " 60%|██████    | 9/15 [00:39<00:26,  4.36s/it]"
     ]
    },
    {
     "name": "stdout",
     "output_type": "stream",
     "text": [
      "('max mins', -0.963978928481249, 1.0)\n"
     ]
    },
    {
     "name": "stderr",
     "output_type": "stream",
     "text": [
      "\r",
      " 67%|██████▋   | 10/15 [00:43<00:21,  4.36s/it]"
     ]
    },
    {
     "name": "stdout",
     "output_type": "stream",
     "text": [
      "('max mins', -1.0, 0.9687355577573609)\n"
     ]
    },
    {
     "name": "stderr",
     "output_type": "stream",
     "text": [
      "\r",
      " 73%|███████▎  | 11/15 [00:47<00:17,  4.36s/it]"
     ]
    },
    {
     "name": "stdout",
     "output_type": "stream",
     "text": [
      "('max mins', -1.0, 0.9546987452164709)\n"
     ]
    },
    {
     "name": "stderr",
     "output_type": "stream",
     "text": [
      "\r",
      " 80%|████████  | 12/15 [00:52<00:13,  4.36s/it]"
     ]
    },
    {
     "name": "stdout",
     "output_type": "stream",
     "text": [
      "('max mins', -0.9809947712224186, 1.0)\n"
     ]
    },
    {
     "name": "stderr",
     "output_type": "stream",
     "text": [
      "\r",
      " 87%|████████▋ | 13/15 [00:56<00:08,  4.36s/it]"
     ]
    },
    {
     "name": "stdout",
     "output_type": "stream",
     "text": [
      "('max mins', -0.9761683827416775, 1.0)\n"
     ]
    },
    {
     "name": "stderr",
     "output_type": "stream",
     "text": [
      "\r",
      " 93%|█████████▎| 14/15 [01:01<00:04,  4.36s/it]"
     ]
    },
    {
     "name": "stdout",
     "output_type": "stream",
     "text": [
      "('max mins', -1.0, 0.9979458402066035)\n"
     ]
    },
    {
     "name": "stderr",
     "output_type": "stream",
     "text": [
      "100%|██████████| 15/15 [01:05<00:00,  4.36s/it]\n"
     ]
    },
    {
     "name": "stdout",
     "output_type": "stream",
     "text": [
      "('Best file pairs are: ', 'non_spikey_T0000023.WAV*non_spikey_T0000024.WAV')\n",
      "Start and end indices around peak:                  start index: 6565875\t\t          end index: 18065875                  total samples:30015488\n"
     ]
    },
    {
     "name": "stderr",
     "output_type": "stream",
     "text": [
      "../../../bin/audio_for_videoannotation.py:175: UserWarning: The AV sync may not be very great - please check again. The value was :0.24133691828021755\n",
      "  warnings.warn(warning_msg, stacklevel=1)\n"
     ]
    },
    {
     "name": "stdout",
     "output_type": "stream",
     "text": [
      "common_fps/Aditya_annotations/2018-08-19/common_fps_video_syncAditya_2018-08-20_0111-0200_77.csv\n",
      "('video_fps obtained is :', 25)\n",
      "Did not find user-provided sample rate - getting it from first file that matches format!\n",
      "('sampling rate is : ', 250000)\n",
      ".....finding best audio segment.....\n"
     ]
    },
    {
     "name": "stderr",
     "output_type": "stream",
     "text": [
      "\r",
      "  0%|          | 0/15 [00:00<?, ?it/s]"
     ]
    },
    {
     "name": "stdout",
     "output_type": "stream",
     "text": [
      "('max mins for upsampled video', -1.0, 0.9601240615515478)\n",
      "('max mins', -0.9604330112349305, 1.0)\n"
     ]
    },
    {
     "name": "stderr",
     "output_type": "stream",
     "text": [
      "\r",
      "  7%|▋         | 1/15 [00:04<01:00,  4.34s/it]"
     ]
    },
    {
     "name": "stdout",
     "output_type": "stream",
     "text": [
      "('max mins', -1.0, 0.9813355482916202)\n"
     ]
    },
    {
     "name": "stderr",
     "output_type": "stream",
     "text": [
      "\r",
      " 13%|█▎        | 2/15 [00:08<00:56,  4.35s/it]"
     ]
    },
    {
     "name": "stdout",
     "output_type": "stream",
     "text": [
      "('max mins', -1.0, 0.9916817204346738)\n"
     ]
    },
    {
     "name": "stderr",
     "output_type": "stream",
     "text": [
      "\r",
      " 20%|██        | 3/15 [00:13<00:52,  4.40s/it]"
     ]
    },
    {
     "name": "stdout",
     "output_type": "stream",
     "text": [
      "('max mins', -1.0, 0.9832754746981707)\n"
     ]
    },
    {
     "name": "stderr",
     "output_type": "stream",
     "text": [
      "\r",
      " 27%|██▋       | 4/15 [00:17<00:48,  4.40s/it]"
     ]
    },
    {
     "name": "stdout",
     "output_type": "stream",
     "text": [
      "('max mins', -1.0, 0.9966273079495607)\n"
     ]
    },
    {
     "name": "stderr",
     "output_type": "stream",
     "text": [
      "\r",
      " 33%|███▎      | 5/15 [00:21<00:43,  4.39s/it]"
     ]
    },
    {
     "name": "stdout",
     "output_type": "stream",
     "text": [
      "('max mins', -1.0, 0.9947318403602488)\n"
     ]
    },
    {
     "name": "stderr",
     "output_type": "stream",
     "text": [
      "\r",
      " 40%|████      | 6/15 [00:26<00:39,  4.37s/it]"
     ]
    },
    {
     "name": "stdout",
     "output_type": "stream",
     "text": [
      "('max mins', -0.9679249511255772, 1.0)\n"
     ]
    },
    {
     "name": "stderr",
     "output_type": "stream",
     "text": [
      "\r",
      " 47%|████▋     | 7/15 [00:30<00:34,  4.37s/it]"
     ]
    },
    {
     "name": "stdout",
     "output_type": "stream",
     "text": [
      "('max mins', -0.9414557285434305, 1.0)\n"
     ]
    },
    {
     "name": "stderr",
     "output_type": "stream",
     "text": [
      "\r",
      " 53%|█████▎    | 8/15 [00:35<00:30,  4.36s/it]"
     ]
    },
    {
     "name": "stdout",
     "output_type": "stream",
     "text": [
      "('max mins', -0.9536997290119662, 1.0)\n"
     ]
    },
    {
     "name": "stderr",
     "output_type": "stream",
     "text": [
      "\r",
      " 60%|██████    | 9/15 [00:39<00:26,  4.36s/it]"
     ]
    },
    {
     "name": "stdout",
     "output_type": "stream",
     "text": [
      "('max mins', -0.963978928481249, 1.0)\n"
     ]
    },
    {
     "name": "stderr",
     "output_type": "stream",
     "text": [
      "\r",
      " 67%|██████▋   | 10/15 [00:43<00:21,  4.35s/it]"
     ]
    },
    {
     "name": "stdout",
     "output_type": "stream",
     "text": [
      "('max mins', -1.0, 0.9687355577573609)\n"
     ]
    },
    {
     "name": "stderr",
     "output_type": "stream",
     "text": [
      "\r",
      " 73%|███████▎  | 11/15 [00:48<00:17,  4.35s/it]"
     ]
    },
    {
     "name": "stdout",
     "output_type": "stream",
     "text": [
      "('max mins', -1.0, 0.9546987452164709)\n"
     ]
    },
    {
     "name": "stderr",
     "output_type": "stream",
     "text": [
      "\r",
      " 80%|████████  | 12/15 [00:52<00:13,  4.35s/it]"
     ]
    },
    {
     "name": "stdout",
     "output_type": "stream",
     "text": [
      "('max mins', -0.9809947712224186, 1.0)\n"
     ]
    },
    {
     "name": "stderr",
     "output_type": "stream",
     "text": [
      "\r",
      " 87%|████████▋ | 13/15 [00:56<00:08,  4.34s/it]"
     ]
    },
    {
     "name": "stdout",
     "output_type": "stream",
     "text": [
      "('max mins', -0.9761683827416775, 1.0)\n"
     ]
    },
    {
     "name": "stderr",
     "output_type": "stream",
     "text": [
      "\r",
      " 93%|█████████▎| 14/15 [01:01<00:04,  4.34s/it]"
     ]
    },
    {
     "name": "stdout",
     "output_type": "stream",
     "text": [
      "('max mins', -1.0, 0.9979458402066035)\n"
     ]
    },
    {
     "name": "stderr",
     "output_type": "stream",
     "text": [
      "100%|██████████| 15/15 [01:05<00:00,  4.34s/it]\n"
     ]
    },
    {
     "name": "stdout",
     "output_type": "stream",
     "text": [
      "('Best file pairs are: ', 'non_spikey_T0000016.WAV*non_spikey_T0000017.WAV')\n",
      "Start and end indices around peak:                  start index: 13567084\t\t          end index: 25067084                  total samples:30015488\n"
     ]
    },
    {
     "name": "stderr",
     "output_type": "stream",
     "text": [
      "../../../bin/audio_for_videoannotation.py:175: UserWarning: The AV sync may not be very great - please check again. The value was :0.2347560245069433\n",
      "  warnings.warn(warning_msg, stacklevel=1)\n"
     ]
    },
    {
     "name": "stdout",
     "output_type": "stream",
     "text": [
      "common_fps/Aditya_annotations/2018-08-19/common_fps_video_syncAditya_2018-08-20_0111-0200_91.csv\n",
      "('video_fps obtained is :', 25)\n",
      "Did not find user-provided sample rate - getting it from first file that matches format!\n",
      "('sampling rate is : ', 250000)\n",
      ".....finding best audio segment.....\n"
     ]
    },
    {
     "name": "stderr",
     "output_type": "stream",
     "text": [
      "\r",
      "  0%|          | 0/15 [00:00<?, ?it/s]"
     ]
    },
    {
     "name": "stdout",
     "output_type": "stream",
     "text": [
      "('max mins for upsampled video', -0.9991629208604665, 1.0)\n",
      "('max mins', -0.9604330112349305, 1.0)\n"
     ]
    },
    {
     "name": "stderr",
     "output_type": "stream",
     "text": [
      "\r",
      "  7%|▋         | 1/15 [00:04<01:01,  4.37s/it]"
     ]
    },
    {
     "name": "stdout",
     "output_type": "stream",
     "text": [
      "('max mins', -1.0, 0.9813355482916202)\n"
     ]
    },
    {
     "name": "stderr",
     "output_type": "stream",
     "text": [
      "\r",
      " 13%|█▎        | 2/15 [00:08<00:56,  4.37s/it]"
     ]
    },
    {
     "name": "stdout",
     "output_type": "stream",
     "text": [
      "('max mins', -1.0, 0.9916817204346738)\n"
     ]
    },
    {
     "name": "stderr",
     "output_type": "stream",
     "text": [
      "\r",
      " 20%|██        | 3/15 [00:13<00:52,  4.37s/it]"
     ]
    },
    {
     "name": "stdout",
     "output_type": "stream",
     "text": [
      "('max mins', -1.0, 0.9832754746981707)\n"
     ]
    },
    {
     "name": "stderr",
     "output_type": "stream",
     "text": [
      "\r",
      " 27%|██▋       | 4/15 [00:17<00:48,  4.37s/it]"
     ]
    },
    {
     "name": "stdout",
     "output_type": "stream",
     "text": [
      "('max mins', -1.0, 0.9966273079495607)\n"
     ]
    },
    {
     "name": "stderr",
     "output_type": "stream",
     "text": [
      "\r",
      " 33%|███▎      | 5/15 [00:21<00:43,  4.37s/it]"
     ]
    },
    {
     "name": "stdout",
     "output_type": "stream",
     "text": [
      "('max mins', -1.0, 0.9947318403602488)\n"
     ]
    },
    {
     "name": "stderr",
     "output_type": "stream",
     "text": [
      "\r",
      " 40%|████      | 6/15 [00:26<00:39,  4.37s/it]"
     ]
    },
    {
     "name": "stdout",
     "output_type": "stream",
     "text": [
      "('max mins', -0.9679249511255772, 1.0)\n"
     ]
    },
    {
     "name": "stderr",
     "output_type": "stream",
     "text": [
      "\r",
      " 47%|████▋     | 7/15 [00:30<00:34,  4.36s/it]"
     ]
    },
    {
     "name": "stdout",
     "output_type": "stream",
     "text": [
      "('max mins', -0.9414557285434305, 1.0)\n"
     ]
    },
    {
     "name": "stderr",
     "output_type": "stream",
     "text": [
      "\r",
      " 53%|█████▎    | 8/15 [00:34<00:30,  4.37s/it]"
     ]
    },
    {
     "name": "stdout",
     "output_type": "stream",
     "text": [
      "('max mins', -0.9536997290119662, 1.0)\n"
     ]
    },
    {
     "name": "stderr",
     "output_type": "stream",
     "text": [
      "\r",
      " 60%|██████    | 9/15 [00:39<00:26,  4.36s/it]"
     ]
    },
    {
     "name": "stdout",
     "output_type": "stream",
     "text": [
      "('max mins', -0.963978928481249, 1.0)\n"
     ]
    },
    {
     "name": "stderr",
     "output_type": "stream",
     "text": [
      "\r",
      " 67%|██████▋   | 10/15 [00:43<00:21,  4.36s/it]"
     ]
    },
    {
     "name": "stdout",
     "output_type": "stream",
     "text": [
      "('max mins', -1.0, 0.9687355577573609)\n"
     ]
    },
    {
     "name": "stderr",
     "output_type": "stream",
     "text": [
      "\r",
      " 73%|███████▎  | 11/15 [00:48<00:17,  4.36s/it]"
     ]
    },
    {
     "name": "stdout",
     "output_type": "stream",
     "text": [
      "('max mins', -1.0, 0.9546987452164709)\n"
     ]
    },
    {
     "name": "stderr",
     "output_type": "stream",
     "text": [
      "\r",
      " 80%|████████  | 12/15 [00:52<00:13,  4.36s/it]"
     ]
    },
    {
     "name": "stdout",
     "output_type": "stream",
     "text": [
      "('max mins', -0.9809947712224186, 1.0)\n"
     ]
    },
    {
     "name": "stderr",
     "output_type": "stream",
     "text": [
      "\r",
      " 87%|████████▋ | 13/15 [00:56<00:08,  4.36s/it]"
     ]
    },
    {
     "name": "stdout",
     "output_type": "stream",
     "text": [
      "('max mins', -0.9761683827416775, 1.0)\n"
     ]
    },
    {
     "name": "stderr",
     "output_type": "stream",
     "text": [
      "\r",
      " 93%|█████████▎| 14/15 [01:01<00:04,  4.36s/it]"
     ]
    },
    {
     "name": "stdout",
     "output_type": "stream",
     "text": [
      "('max mins', -1.0, 0.9979458402066035)\n"
     ]
    },
    {
     "name": "stderr",
     "output_type": "stream",
     "text": [
      "100%|██████████| 15/15 [01:05<00:00,  4.52s/it]\n"
     ]
    },
    {
     "name": "stdout",
     "output_type": "stream",
     "text": [
      "('Best file pairs are: ', 'non_spikey_T0000015.WAV*non_spikey_T0000016.WAV')\n",
      "Start and end indices around peak:                  start index: 9076662\t\t          end index: 20576662                  total samples:30015488\n"
     ]
    },
    {
     "name": "stderr",
     "output_type": "stream",
     "text": [
      "../../../bin/audio_for_videoannotation.py:175: UserWarning: The AV sync may not be very great - please check again. The value was :0.22561552922580025\n",
      "  warnings.warn(warning_msg, stacklevel=1)\n"
     ]
    },
    {
     "name": "stdout",
     "output_type": "stream",
     "text": [
      "common_fps/Aditya_annotations/2018-08-19/common_fps_video_syncAditya_2018-08-20_0111-0200_93.csv\n",
      "('video_fps obtained is :', 25)\n",
      "Did not find user-provided sample rate - getting it from first file that matches format!\n",
      "('sampling rate is : ', 250000)\n",
      ".....finding best audio segment.....\n"
     ]
    },
    {
     "name": "stderr",
     "output_type": "stream",
     "text": [
      "\r",
      "  0%|          | 0/20 [00:00<?, ?it/s]"
     ]
    },
    {
     "name": "stdout",
     "output_type": "stream",
     "text": [
      "('max mins for upsampled video', -1.0, 0.975323627926542)\n",
      "('max mins', -0.9604330112349305, 1.0)\n"
     ]
    },
    {
     "name": "stderr",
     "output_type": "stream",
     "text": [
      "\r",
      "  5%|▌         | 1/20 [00:04<01:23,  4.40s/it]"
     ]
    },
    {
     "name": "stdout",
     "output_type": "stream",
     "text": [
      "('max mins', -1.0, 0.9813355482916202)\n"
     ]
    },
    {
     "name": "stderr",
     "output_type": "stream",
     "text": [
      "\r",
      " 10%|█         | 2/20 [00:08<01:19,  4.39s/it]"
     ]
    },
    {
     "name": "stdout",
     "output_type": "stream",
     "text": [
      "('max mins', -1.0, 0.9916817204346738)\n"
     ]
    },
    {
     "name": "stderr",
     "output_type": "stream",
     "text": [
      "\r",
      " 15%|█▌        | 3/20 [00:13<01:14,  4.40s/it]"
     ]
    },
    {
     "name": "stdout",
     "output_type": "stream",
     "text": [
      "('max mins', -1.0, 0.9832754746981707)\n"
     ]
    },
    {
     "name": "stderr",
     "output_type": "stream",
     "text": [
      "\r",
      " 20%|██        | 4/20 [00:17<01:10,  4.39s/it]"
     ]
    },
    {
     "name": "stdout",
     "output_type": "stream",
     "text": [
      "('max mins', -1.0, 0.9966273079495607)\n"
     ]
    },
    {
     "name": "stderr",
     "output_type": "stream",
     "text": [
      "\r",
      " 25%|██▌       | 5/20 [00:21<01:05,  4.39s/it]"
     ]
    },
    {
     "name": "stdout",
     "output_type": "stream",
     "text": [
      "('max mins', -1.0, 0.9947318403602488)\n"
     ]
    },
    {
     "name": "stderr",
     "output_type": "stream",
     "text": [
      "\r",
      " 30%|███       | 6/20 [00:26<01:01,  4.39s/it]"
     ]
    },
    {
     "name": "stdout",
     "output_type": "stream",
     "text": [
      "('max mins', -0.9679249511255772, 1.0)\n"
     ]
    },
    {
     "name": "stderr",
     "output_type": "stream",
     "text": [
      "\r",
      " 35%|███▌      | 7/20 [00:30<00:56,  4.38s/it]"
     ]
    },
    {
     "name": "stdout",
     "output_type": "stream",
     "text": [
      "('max mins', -0.9414557285434305, 1.0)\n"
     ]
    },
    {
     "name": "stderr",
     "output_type": "stream",
     "text": [
      "\r",
      " 40%|████      | 8/20 [00:35<00:52,  4.38s/it]"
     ]
    },
    {
     "name": "stdout",
     "output_type": "stream",
     "text": [
      "('max mins', -0.9536997290119662, 1.0)\n"
     ]
    },
    {
     "name": "stderr",
     "output_type": "stream",
     "text": [
      "\r",
      " 45%|████▌     | 9/20 [00:39<00:48,  4.39s/it]"
     ]
    },
    {
     "name": "stdout",
     "output_type": "stream",
     "text": [
      "('max mins', -0.963978928481249, 1.0)\n"
     ]
    },
    {
     "name": "stderr",
     "output_type": "stream",
     "text": [
      "\r",
      " 50%|█████     | 10/20 [00:43<00:43,  4.39s/it]"
     ]
    },
    {
     "name": "stdout",
     "output_type": "stream",
     "text": [
      "('max mins', -1.0, 0.9687355577573609)\n"
     ]
    },
    {
     "name": "stderr",
     "output_type": "stream",
     "text": [
      "\r",
      " 55%|█████▌    | 11/20 [00:48<00:39,  4.39s/it]"
     ]
    },
    {
     "name": "stdout",
     "output_type": "stream",
     "text": [
      "('max mins', -1.0, 0.9546987452164709)\n"
     ]
    },
    {
     "name": "stderr",
     "output_type": "stream",
     "text": [
      "\r",
      " 60%|██████    | 12/20 [00:52<00:35,  4.38s/it]"
     ]
    },
    {
     "name": "stdout",
     "output_type": "stream",
     "text": [
      "('max mins', -0.9809947712224186, 1.0)\n"
     ]
    },
    {
     "name": "stderr",
     "output_type": "stream",
     "text": [
      "\r",
      " 65%|██████▌   | 13/20 [00:57<00:30,  4.38s/it]"
     ]
    },
    {
     "name": "stdout",
     "output_type": "stream",
     "text": [
      "('max mins', -0.9761683827416775, 1.0)\n"
     ]
    },
    {
     "name": "stderr",
     "output_type": "stream",
     "text": [
      "\r",
      " 70%|███████   | 14/20 [01:01<00:26,  4.38s/it]"
     ]
    },
    {
     "name": "stdout",
     "output_type": "stream",
     "text": [
      "('max mins', -1.0, 0.9979458402066035)\n"
     ]
    },
    {
     "name": "stderr",
     "output_type": "stream",
     "text": [
      "\r",
      " 75%|███████▌  | 15/20 [01:05<00:21,  4.38s/it]"
     ]
    },
    {
     "name": "stdout",
     "output_type": "stream",
     "text": [
      "('max mins', -1.0, 0.9835242294300514)\n"
     ]
    },
    {
     "name": "stderr",
     "output_type": "stream",
     "text": [
      "\r",
      " 80%|████████  | 16/20 [01:14<00:23,  5.82s/it]"
     ]
    },
    {
     "name": "stdout",
     "output_type": "stream",
     "text": [
      "('max mins', -1.0, 0.9794161216354017)\n"
     ]
    },
    {
     "name": "stderr",
     "output_type": "stream",
     "text": [
      "\r",
      " 85%|████████▌ | 17/20 [01:23<00:19,  6.65s/it]"
     ]
    },
    {
     "name": "stdout",
     "output_type": "stream",
     "text": [
      "('max mins', -0.9539498961100137, 1.0)\n"
     ]
    },
    {
     "name": "stderr",
     "output_type": "stream",
     "text": [
      "\r",
      " 90%|█████████ | 18/20 [01:32<00:14,  7.26s/it]"
     ]
    },
    {
     "name": "stdout",
     "output_type": "stream",
     "text": [
      "('max mins', -0.9996854119274982, 1.0)\n"
     ]
    },
    {
     "name": "stderr",
     "output_type": "stream",
     "text": [
      "\r",
      " 95%|█████████▌| 19/20 [01:40<00:07,  7.67s/it]"
     ]
    },
    {
     "name": "stdout",
     "output_type": "stream",
     "text": [
      "('max mins', -1.0, 0.9791724417691637)\n"
     ]
    },
    {
     "name": "stderr",
     "output_type": "stream",
     "text": [
      "100%|██████████| 20/20 [01:49<00:00,  7.96s/it]\n"
     ]
    },
    {
     "name": "stdout",
     "output_type": "stream",
     "text": [
      "('Best file pairs are: ', 'non_spikey_T0000024.WAV*non_spikey_T0000025.WAV')\n",
      "Start and end indices around peak:                  start index: 5936446\t\t          end index: 17436446                  total samples:30015488\n"
     ]
    },
    {
     "name": "stderr",
     "output_type": "stream",
     "text": [
      "../../../bin/audio_for_videoannotation.py:175: UserWarning: The AV sync may not be very great - please check again. The value was :0.24062804935232493\n",
      "  warnings.warn(warning_msg, stacklevel=1)\n"
     ]
    },
    {
     "name": "stdout",
     "output_type": "stream",
     "text": [
      "common_fps/Aditya_annotations/2018-08-19/common_fps_video_syncAditya_2018-08-20_0111-0200_94.csv\n",
      "('video_fps obtained is :', 25)\n",
      "Did not find user-provided sample rate - getting it from first file that matches format!\n",
      "('sampling rate is : ', 250000)\n",
      ".....finding best audio segment.....\n"
     ]
    },
    {
     "name": "stderr",
     "output_type": "stream",
     "text": [
      "\r",
      "  0%|          | 0/20 [00:00<?, ?it/s]"
     ]
    },
    {
     "name": "stdout",
     "output_type": "stream",
     "text": [
      "('max mins for upsampled video', -1.0, 0.9815094951510658)\n",
      "('max mins', -0.9604330112349305, 1.0)\n"
     ]
    },
    {
     "name": "stderr",
     "output_type": "stream",
     "text": [
      "\r",
      "  5%|▌         | 1/20 [00:05<01:35,  5.01s/it]"
     ]
    },
    {
     "name": "stdout",
     "output_type": "stream",
     "text": [
      "('max mins', -1.0, 0.9813355482916202)\n"
     ]
    },
    {
     "name": "stderr",
     "output_type": "stream",
     "text": [
      "\r",
      " 10%|█         | 2/20 [00:09<01:26,  4.82s/it]"
     ]
    },
    {
     "name": "stdout",
     "output_type": "stream",
     "text": [
      "('max mins', -1.0, 0.9916817204346738)\n"
     ]
    },
    {
     "name": "stderr",
     "output_type": "stream",
     "text": [
      "\r",
      " 15%|█▌        | 3/20 [00:13<01:19,  4.69s/it]"
     ]
    },
    {
     "name": "stdout",
     "output_type": "stream",
     "text": [
      "('max mins', -1.0, 0.9832754746981707)\n"
     ]
    },
    {
     "name": "stderr",
     "output_type": "stream",
     "text": [
      "\r",
      " 20%|██        | 4/20 [00:18<01:13,  4.60s/it]"
     ]
    },
    {
     "name": "stdout",
     "output_type": "stream",
     "text": [
      "('max mins', -1.0, 0.9966273079495607)\n"
     ]
    },
    {
     "name": "stderr",
     "output_type": "stream",
     "text": [
      "\r",
      " 25%|██▌       | 5/20 [00:22<01:07,  4.53s/it]"
     ]
    },
    {
     "name": "stdout",
     "output_type": "stream",
     "text": [
      "('max mins', -1.0, 0.9947318403602488)\n"
     ]
    },
    {
     "name": "stderr",
     "output_type": "stream",
     "text": [
      "\r",
      " 30%|███       | 6/20 [00:26<01:02,  4.49s/it]"
     ]
    },
    {
     "name": "stdout",
     "output_type": "stream",
     "text": [
      "('max mins', -0.9679249511255772, 1.0)\n"
     ]
    },
    {
     "name": "stderr",
     "output_type": "stream",
     "text": [
      "\r",
      " 35%|███▌      | 7/20 [00:31<00:57,  4.45s/it]"
     ]
    },
    {
     "name": "stdout",
     "output_type": "stream",
     "text": [
      "('max mins', -0.9414557285434305, 1.0)\n"
     ]
    },
    {
     "name": "stderr",
     "output_type": "stream",
     "text": [
      "\r",
      " 40%|████      | 8/20 [00:35<00:53,  4.43s/it]"
     ]
    },
    {
     "name": "stdout",
     "output_type": "stream",
     "text": [
      "('max mins', -0.9536997290119662, 1.0)\n"
     ]
    },
    {
     "name": "stderr",
     "output_type": "stream",
     "text": [
      "\r",
      " 45%|████▌     | 9/20 [00:40<00:48,  4.41s/it]"
     ]
    },
    {
     "name": "stdout",
     "output_type": "stream",
     "text": [
      "('max mins', -0.963978928481249, 1.0)\n"
     ]
    },
    {
     "name": "stderr",
     "output_type": "stream",
     "text": [
      "\r",
      " 50%|█████     | 10/20 [00:44<00:43,  4.40s/it]"
     ]
    },
    {
     "name": "stdout",
     "output_type": "stream",
     "text": [
      "('max mins', -1.0, 0.9687355577573609)\n"
     ]
    },
    {
     "name": "stderr",
     "output_type": "stream",
     "text": [
      "\r",
      " 55%|█████▌    | 11/20 [00:48<00:39,  4.39s/it]"
     ]
    },
    {
     "name": "stdout",
     "output_type": "stream",
     "text": [
      "('max mins', -1.0, 0.9546987452164709)\n"
     ]
    },
    {
     "name": "stderr",
     "output_type": "stream",
     "text": [
      "\r",
      " 60%|██████    | 12/20 [00:53<00:35,  4.39s/it]"
     ]
    },
    {
     "name": "stdout",
     "output_type": "stream",
     "text": [
      "('max mins', -0.9809947712224186, 1.0)\n"
     ]
    },
    {
     "name": "stderr",
     "output_type": "stream",
     "text": [
      "\r",
      " 65%|██████▌   | 13/20 [00:57<00:30,  4.39s/it]"
     ]
    },
    {
     "name": "stdout",
     "output_type": "stream",
     "text": [
      "('max mins', -0.9761683827416775, 1.0)\n"
     ]
    },
    {
     "name": "stderr",
     "output_type": "stream",
     "text": [
      "\r",
      " 70%|███████   | 14/20 [01:01<00:26,  4.38s/it]"
     ]
    },
    {
     "name": "stdout",
     "output_type": "stream",
     "text": [
      "('max mins', -1.0, 0.9979458402066035)\n"
     ]
    },
    {
     "name": "stderr",
     "output_type": "stream",
     "text": [
      "\r",
      " 75%|███████▌  | 15/20 [01:06<00:21,  4.38s/it]"
     ]
    },
    {
     "name": "stdout",
     "output_type": "stream",
     "text": [
      "('max mins', -1.0, 0.9835242294300514)\n"
     ]
    },
    {
     "name": "stderr",
     "output_type": "stream",
     "text": [
      "\r",
      " 80%|████████  | 16/20 [01:10<00:17,  4.38s/it]"
     ]
    },
    {
     "name": "stdout",
     "output_type": "stream",
     "text": [
      "('max mins', -1.0, 0.9794161216354017)\n"
     ]
    },
    {
     "name": "stderr",
     "output_type": "stream",
     "text": [
      "\r",
      " 85%|████████▌ | 17/20 [01:15<00:13,  4.38s/it]"
     ]
    },
    {
     "name": "stdout",
     "output_type": "stream",
     "text": [
      "('max mins', -0.9539498961100137, 1.0)\n"
     ]
    },
    {
     "name": "stderr",
     "output_type": "stream",
     "text": [
      "\r",
      " 90%|█████████ | 18/20 [01:19<00:08,  4.38s/it]"
     ]
    },
    {
     "name": "stdout",
     "output_type": "stream",
     "text": [
      "('max mins', -0.9996854119274982, 1.0)\n"
     ]
    },
    {
     "name": "stderr",
     "output_type": "stream",
     "text": [
      "\r",
      " 95%|█████████▌| 19/20 [01:23<00:04,  4.38s/it]"
     ]
    },
    {
     "name": "stdout",
     "output_type": "stream",
     "text": [
      "('max mins', -1.0, 0.9791724417691637)\n"
     ]
    },
    {
     "name": "stderr",
     "output_type": "stream",
     "text": [
      "100%|██████████| 20/20 [01:28<00:00,  4.38s/it]\n"
     ]
    },
    {
     "name": "stdout",
     "output_type": "stream",
     "text": [
      "('Best file pairs are: ', 'non_spikey_T0000024.WAV*non_spikey_T0000025.WAV')\n",
      "Start and end indices around peak:                  start index: 6186462\t\t          end index: 17686462                  total samples:30015488\n"
     ]
    },
    {
     "name": "stderr",
     "output_type": "stream",
     "text": [
      "../../../bin/audio_for_videoannotation.py:175: UserWarning: The AV sync may not be very great - please check again. The value was :0.24148229089673168\n",
      "  warnings.warn(warning_msg, stacklevel=1)\n"
     ]
    },
    {
     "name": "stdout",
     "output_type": "stream",
     "text": [
      "common_fps/Aditya_annotations/2018-08-19/common_fps_video_syncAditya_2018-08-20_0111-0200_95.csv\n",
      "('video_fps obtained is :', 25)\n",
      "Did not find user-provided sample rate - getting it from first file that matches format!\n",
      "('sampling rate is : ', 250000)\n",
      ".....finding best audio segment.....\n"
     ]
    },
    {
     "name": "stderr",
     "output_type": "stream",
     "text": [
      "\r",
      "  0%|          | 0/20 [00:00<?, ?it/s]"
     ]
    },
    {
     "name": "stdout",
     "output_type": "stream",
     "text": [
      "('max mins for upsampled video', -1.0, 0.9978800327094817)\n",
      "('max mins', -0.9604330112349305, 1.0)\n"
     ]
    },
    {
     "name": "stderr",
     "output_type": "stream",
     "text": [
      "\r",
      "  5%|▌         | 1/20 [00:04<01:22,  4.35s/it]"
     ]
    },
    {
     "name": "stdout",
     "output_type": "stream",
     "text": [
      "('max mins', -1.0, 0.9813355482916202)\n"
     ]
    },
    {
     "name": "stderr",
     "output_type": "stream",
     "text": [
      "\r",
      " 10%|█         | 2/20 [00:08<01:18,  4.36s/it]"
     ]
    },
    {
     "name": "stdout",
     "output_type": "stream",
     "text": [
      "('max mins', -1.0, 0.9916817204346738)\n"
     ]
    },
    {
     "name": "stderr",
     "output_type": "stream",
     "text": [
      "\r",
      " 15%|█▌        | 3/20 [00:13<01:14,  4.36s/it]"
     ]
    },
    {
     "name": "stdout",
     "output_type": "stream",
     "text": [
      "('max mins', -1.0, 0.9832754746981707)\n"
     ]
    },
    {
     "name": "stderr",
     "output_type": "stream",
     "text": [
      "\r",
      " 20%|██        | 4/20 [00:17<01:09,  4.36s/it]"
     ]
    },
    {
     "name": "stdout",
     "output_type": "stream",
     "text": [
      "('max mins', -1.0, 0.9966273079495607)\n"
     ]
    },
    {
     "name": "stderr",
     "output_type": "stream",
     "text": [
      "\r",
      " 25%|██▌       | 5/20 [00:21<01:05,  4.37s/it]"
     ]
    },
    {
     "name": "stdout",
     "output_type": "stream",
     "text": [
      "('max mins', -1.0, 0.9947318403602488)\n"
     ]
    },
    {
     "name": "stderr",
     "output_type": "stream",
     "text": [
      "\r",
      " 30%|███       | 6/20 [00:26<01:01,  4.37s/it]"
     ]
    },
    {
     "name": "stdout",
     "output_type": "stream",
     "text": [
      "('max mins', -0.9679249511255772, 1.0)\n"
     ]
    },
    {
     "name": "stderr",
     "output_type": "stream",
     "text": [
      "\r",
      " 35%|███▌      | 7/20 [00:30<00:57,  4.41s/it]"
     ]
    },
    {
     "name": "stdout",
     "output_type": "stream",
     "text": [
      "('max mins', -0.9414557285434305, 1.0)\n"
     ]
    },
    {
     "name": "stderr",
     "output_type": "stream",
     "text": [
      "\r",
      " 40%|████      | 8/20 [00:35<00:53,  4.42s/it]"
     ]
    },
    {
     "name": "stdout",
     "output_type": "stream",
     "text": [
      "('max mins', -0.9536997290119662, 1.0)\n"
     ]
    },
    {
     "name": "stderr",
     "output_type": "stream",
     "text": [
      "\r",
      " 45%|████▌     | 9/20 [00:39<00:48,  4.40s/it]"
     ]
    },
    {
     "name": "stdout",
     "output_type": "stream",
     "text": [
      "('max mins', -0.963978928481249, 1.0)\n"
     ]
    },
    {
     "name": "stderr",
     "output_type": "stream",
     "text": [
      "\r",
      " 50%|█████     | 10/20 [00:43<00:43,  4.39s/it]"
     ]
    },
    {
     "name": "stdout",
     "output_type": "stream",
     "text": [
      "('max mins', -1.0, 0.9687355577573609)\n"
     ]
    },
    {
     "name": "stderr",
     "output_type": "stream",
     "text": [
      "\r",
      " 55%|█████▌    | 11/20 [00:48<00:39,  4.38s/it]"
     ]
    },
    {
     "name": "stdout",
     "output_type": "stream",
     "text": [
      "('max mins', -1.0, 0.9546987452164709)\n"
     ]
    },
    {
     "name": "stderr",
     "output_type": "stream",
     "text": [
      "\r",
      " 60%|██████    | 12/20 [00:52<00:35,  4.38s/it]"
     ]
    },
    {
     "name": "stdout",
     "output_type": "stream",
     "text": [
      "('max mins', -0.9809947712224186, 1.0)\n"
     ]
    },
    {
     "name": "stderr",
     "output_type": "stream",
     "text": [
      "\r",
      " 65%|██████▌   | 13/20 [00:56<00:30,  4.37s/it]"
     ]
    },
    {
     "name": "stdout",
     "output_type": "stream",
     "text": [
      "('max mins', -0.9761683827416775, 1.0)\n"
     ]
    },
    {
     "name": "stderr",
     "output_type": "stream",
     "text": [
      "\r",
      " 70%|███████   | 14/20 [01:01<00:26,  4.37s/it]"
     ]
    },
    {
     "name": "stdout",
     "output_type": "stream",
     "text": [
      "('max mins', -1.0, 0.9979458402066035)\n"
     ]
    },
    {
     "name": "stderr",
     "output_type": "stream",
     "text": [
      "\r",
      " 75%|███████▌  | 15/20 [01:05<00:21,  4.37s/it]"
     ]
    },
    {
     "name": "stdout",
     "output_type": "stream",
     "text": [
      "('max mins', -1.0, 0.9835242294300514)\n"
     ]
    },
    {
     "name": "stderr",
     "output_type": "stream",
     "text": [
      "\r",
      " 80%|████████  | 16/20 [01:10<00:17,  4.37s/it]"
     ]
    },
    {
     "name": "stdout",
     "output_type": "stream",
     "text": [
      "('max mins', -1.0, 0.9794161216354017)\n"
     ]
    },
    {
     "name": "stderr",
     "output_type": "stream",
     "text": [
      "\r",
      " 85%|████████▌ | 17/20 [01:14<00:13,  4.37s/it]"
     ]
    },
    {
     "name": "stdout",
     "output_type": "stream",
     "text": [
      "('max mins', -0.9539498961100137, 1.0)\n"
     ]
    },
    {
     "name": "stderr",
     "output_type": "stream",
     "text": [
      "\r",
      " 90%|█████████ | 18/20 [01:18<00:08,  4.37s/it]"
     ]
    },
    {
     "name": "stdout",
     "output_type": "stream",
     "text": [
      "('max mins', -0.9996854119274982, 1.0)\n"
     ]
    },
    {
     "name": "stderr",
     "output_type": "stream",
     "text": [
      "\r",
      " 95%|█████████▌| 19/20 [01:23<00:04,  4.37s/it]"
     ]
    },
    {
     "name": "stdout",
     "output_type": "stream",
     "text": [
      "('max mins', -1.0, 0.9791724417691637)\n"
     ]
    },
    {
     "name": "stderr",
     "output_type": "stream",
     "text": [
      "100%|██████████| 20/20 [01:27<00:00,  4.37s/it]\n"
     ]
    },
    {
     "name": "stdout",
     "output_type": "stream",
     "text": [
      "('Best file pairs are: ', 'non_spikey_T0000023.WAV*non_spikey_T0000024.WAV')\n",
      "Start and end indices around peak:                  start index: 13471592\t\t          end index: 24971592                  total samples:30015488\n"
     ]
    },
    {
     "name": "stderr",
     "output_type": "stream",
     "text": [
      "../../../bin/audio_for_videoannotation.py:175: UserWarning: The AV sync may not be very great - please check again. The value was :0.2490722702231039\n",
      "  warnings.warn(warning_msg, stacklevel=1)\n"
     ]
    },
    {
     "name": "stdout",
     "output_type": "stream",
     "text": [
      "common_fps/Aditya_annotations/2018-08-19/common_fps_video_syncAditya_2018-08-20_0111-0200_96.csv\n",
      "('video_fps obtained is :', 25)\n",
      "Did not find user-provided sample rate - getting it from first file that matches format!\n",
      "('sampling rate is : ', 250000)\n",
      ".....finding best audio segment.....\n"
     ]
    },
    {
     "name": "stderr",
     "output_type": "stream",
     "text": [
      "\r",
      "  0%|          | 0/20 [00:00<?, ?it/s]"
     ]
    },
    {
     "name": "stdout",
     "output_type": "stream",
     "text": [
      "('max mins for upsampled video', -1.0, 0.9825663074373685)\n",
      "('max mins', -0.9604330112349305, 1.0)\n"
     ]
    },
    {
     "name": "stderr",
     "output_type": "stream",
     "text": [
      "\r",
      "  5%|▌         | 1/20 [00:04<01:22,  4.34s/it]"
     ]
    },
    {
     "name": "stdout",
     "output_type": "stream",
     "text": [
      "('max mins', -1.0, 0.9813355482916202)\n"
     ]
    },
    {
     "name": "stderr",
     "output_type": "stream",
     "text": [
      "\r",
      " 10%|█         | 2/20 [00:08<01:18,  4.35s/it]"
     ]
    },
    {
     "name": "stdout",
     "output_type": "stream",
     "text": [
      "('max mins', -1.0, 0.9916817204346738)\n"
     ]
    },
    {
     "name": "stderr",
     "output_type": "stream",
     "text": [
      "\r",
      " 15%|█▌        | 3/20 [00:13<01:14,  4.36s/it]"
     ]
    },
    {
     "name": "stdout",
     "output_type": "stream",
     "text": [
      "('max mins', -1.0, 0.9832754746981707)\n"
     ]
    },
    {
     "name": "stderr",
     "output_type": "stream",
     "text": [
      "\r",
      " 20%|██        | 4/20 [00:17<01:09,  4.36s/it]"
     ]
    },
    {
     "name": "stdout",
     "output_type": "stream",
     "text": [
      "('max mins', -1.0, 0.9966273079495607)\n"
     ]
    },
    {
     "name": "stderr",
     "output_type": "stream",
     "text": [
      "\r",
      " 25%|██▌       | 5/20 [00:21<01:05,  4.36s/it]"
     ]
    },
    {
     "name": "stdout",
     "output_type": "stream",
     "text": [
      "('max mins', -1.0, 0.9947318403602488)\n"
     ]
    },
    {
     "name": "stderr",
     "output_type": "stream",
     "text": [
      "\r",
      " 30%|███       | 6/20 [00:26<01:01,  4.37s/it]"
     ]
    },
    {
     "name": "stdout",
     "output_type": "stream",
     "text": [
      "('max mins', -0.9679249511255772, 1.0)\n"
     ]
    },
    {
     "name": "stderr",
     "output_type": "stream",
     "text": [
      "\r",
      " 35%|███▌      | 7/20 [00:30<00:56,  4.37s/it]"
     ]
    },
    {
     "name": "stdout",
     "output_type": "stream",
     "text": [
      "('max mins', -0.9414557285434305, 1.0)\n"
     ]
    },
    {
     "name": "stderr",
     "output_type": "stream",
     "text": [
      "\r",
      " 40%|████      | 8/20 [00:34<00:52,  4.37s/it]"
     ]
    },
    {
     "name": "stdout",
     "output_type": "stream",
     "text": [
      "('max mins', -0.9536997290119662, 1.0)\n"
     ]
    },
    {
     "name": "stderr",
     "output_type": "stream",
     "text": [
      "\r",
      " 45%|████▌     | 9/20 [00:39<00:48,  4.38s/it]"
     ]
    },
    {
     "name": "stdout",
     "output_type": "stream",
     "text": [
      "('max mins', -0.963978928481249, 1.0)\n"
     ]
    },
    {
     "name": "stderr",
     "output_type": "stream",
     "text": [
      "\r",
      " 50%|█████     | 10/20 [00:43<00:43,  4.38s/it]"
     ]
    },
    {
     "name": "stdout",
     "output_type": "stream",
     "text": [
      "('max mins', -1.0, 0.9687355577573609)\n"
     ]
    },
    {
     "name": "stderr",
     "output_type": "stream",
     "text": [
      "\r",
      " 55%|█████▌    | 11/20 [00:48<00:39,  4.38s/it]"
     ]
    },
    {
     "name": "stdout",
     "output_type": "stream",
     "text": [
      "('max mins', -1.0, 0.9546987452164709)\n"
     ]
    },
    {
     "name": "stderr",
     "output_type": "stream",
     "text": [
      "\r",
      " 60%|██████    | 12/20 [00:52<00:35,  4.41s/it]"
     ]
    },
    {
     "name": "stdout",
     "output_type": "stream",
     "text": [
      "('max mins', -0.9809947712224186, 1.0)\n"
     ]
    },
    {
     "name": "stderr",
     "output_type": "stream",
     "text": [
      "\r",
      " 65%|██████▌   | 13/20 [00:56<00:30,  4.39s/it]"
     ]
    },
    {
     "name": "stdout",
     "output_type": "stream",
     "text": [
      "('max mins', -0.9761683827416775, 1.0)\n"
     ]
    },
    {
     "name": "stderr",
     "output_type": "stream",
     "text": [
      "\r",
      " 70%|███████   | 14/20 [01:01<00:27,  4.53s/it]"
     ]
    },
    {
     "name": "stdout",
     "output_type": "stream",
     "text": [
      "('max mins', -1.0, 0.9979458402066035)\n"
     ]
    },
    {
     "name": "stderr",
     "output_type": "stream",
     "text": [
      "\r",
      " 75%|███████▌  | 15/20 [01:06<00:22,  4.49s/it]"
     ]
    },
    {
     "name": "stdout",
     "output_type": "stream",
     "text": [
      "('max mins', -1.0, 0.9835242294300514)\n"
     ]
    },
    {
     "name": "stderr",
     "output_type": "stream",
     "text": [
      "\r",
      " 80%|████████  | 16/20 [01:10<00:17,  4.45s/it]"
     ]
    },
    {
     "name": "stdout",
     "output_type": "stream",
     "text": [
      "('max mins', -1.0, 0.9794161216354017)\n"
     ]
    },
    {
     "name": "stderr",
     "output_type": "stream",
     "text": [
      "\r",
      " 85%|████████▌ | 17/20 [01:14<00:13,  4.43s/it]"
     ]
    },
    {
     "name": "stdout",
     "output_type": "stream",
     "text": [
      "('max mins', -0.9539498961100137, 1.0)\n"
     ]
    },
    {
     "name": "stderr",
     "output_type": "stream",
     "text": [
      "\r",
      " 90%|█████████ | 18/20 [01:19<00:08,  4.41s/it]"
     ]
    },
    {
     "name": "stdout",
     "output_type": "stream",
     "text": [
      "('max mins', -0.9996854119274982, 1.0)\n"
     ]
    },
    {
     "name": "stderr",
     "output_type": "stream",
     "text": [
      "\r",
      " 95%|█████████▌| 19/20 [01:23<00:04,  4.40s/it]"
     ]
    },
    {
     "name": "stdout",
     "output_type": "stream",
     "text": [
      "('max mins', -1.0, 0.9791724417691637)\n"
     ]
    },
    {
     "name": "stderr",
     "output_type": "stream",
     "text": [
      "100%|██████████| 20/20 [01:28<00:00,  4.39s/it]\n"
     ]
    },
    {
     "name": "stdout",
     "output_type": "stream",
     "text": [
      "('Best file pairs are: ', 'non_spikey_T0000023.WAV*non_spikey_T0000024.WAV')\n",
      "Start and end indices around peak:                  start index: 13721663\t\t          end index: 25221663                  total samples:30015488\n"
     ]
    },
    {
     "name": "stderr",
     "output_type": "stream",
     "text": [
      "../../../bin/audio_for_videoannotation.py:175: UserWarning: The AV sync may not be very great - please check again. The value was :0.24387237230945066\n",
      "  warnings.warn(warning_msg, stacklevel=1)\n"
     ]
    },
    {
     "name": "stdout",
     "output_type": "stream",
     "text": [
      "common_fps/Aditya_annotations/2018-08-19/common_fps_video_syncAditya_2018-08-20_0111-0200_97.csv\n",
      "('video_fps obtained is :', 25)\n",
      "Did not find user-provided sample rate - getting it from first file that matches format!\n",
      "('sampling rate is : ', 250000)\n",
      ".....finding best audio segment.....\n"
     ]
    },
    {
     "name": "stderr",
     "output_type": "stream",
     "text": [
      "\r",
      "  0%|          | 0/20 [00:00<?, ?it/s]"
     ]
    },
    {
     "name": "stdout",
     "output_type": "stream",
     "text": [
      "('max mins for upsampled video', -1.0, 0.9782602067317311)\n",
      "('max mins', -0.9604330112349305, 1.0)\n"
     ]
    },
    {
     "name": "stderr",
     "output_type": "stream",
     "text": [
      "\r",
      "  5%|▌         | 1/20 [00:04<01:22,  4.36s/it]"
     ]
    },
    {
     "name": "stdout",
     "output_type": "stream",
     "text": [
      "('max mins', -1.0, 0.9813355482916202)\n"
     ]
    },
    {
     "name": "stderr",
     "output_type": "stream",
     "text": [
      "\r",
      " 10%|█         | 2/20 [00:08<01:18,  4.36s/it]"
     ]
    },
    {
     "name": "stdout",
     "output_type": "stream",
     "text": [
      "('max mins', -1.0, 0.9916817204346738)\n"
     ]
    },
    {
     "name": "stderr",
     "output_type": "stream",
     "text": [
      "\r",
      " 15%|█▌        | 3/20 [00:13<01:14,  4.36s/it]"
     ]
    },
    {
     "name": "stdout",
     "output_type": "stream",
     "text": [
      "('max mins', -1.0, 0.9832754746981707)\n"
     ]
    },
    {
     "name": "stderr",
     "output_type": "stream",
     "text": [
      "\r",
      " 20%|██        | 4/20 [00:17<01:09,  4.37s/it]"
     ]
    },
    {
     "name": "stdout",
     "output_type": "stream",
     "text": [
      "('max mins', -1.0, 0.9966273079495607)\n"
     ]
    },
    {
     "name": "stderr",
     "output_type": "stream",
     "text": [
      "\r",
      " 25%|██▌       | 5/20 [00:21<01:05,  4.37s/it]"
     ]
    },
    {
     "name": "stdout",
     "output_type": "stream",
     "text": [
      "('max mins', -1.0, 0.9947318403602488)\n"
     ]
    },
    {
     "name": "stderr",
     "output_type": "stream",
     "text": [
      "\r",
      " 30%|███       | 6/20 [00:26<01:01,  4.37s/it]"
     ]
    },
    {
     "name": "stdout",
     "output_type": "stream",
     "text": [
      "('max mins', -0.9679249511255772, 1.0)\n"
     ]
    },
    {
     "name": "stderr",
     "output_type": "stream",
     "text": [
      "\r",
      " 35%|███▌      | 7/20 [00:30<00:56,  4.37s/it]"
     ]
    },
    {
     "name": "stdout",
     "output_type": "stream",
     "text": [
      "('max mins', -0.9414557285434305, 1.0)\n"
     ]
    },
    {
     "name": "stderr",
     "output_type": "stream",
     "text": [
      "\r",
      " 40%|████      | 8/20 [00:34<00:52,  4.37s/it]"
     ]
    },
    {
     "name": "stdout",
     "output_type": "stream",
     "text": [
      "('max mins', -0.9536997290119662, 1.0)\n"
     ]
    },
    {
     "name": "stderr",
     "output_type": "stream",
     "text": [
      "\r",
      " 45%|████▌     | 9/20 [00:39<00:48,  4.36s/it]"
     ]
    },
    {
     "name": "stdout",
     "output_type": "stream",
     "text": [
      "('max mins', -0.963978928481249, 1.0)\n"
     ]
    },
    {
     "name": "stderr",
     "output_type": "stream",
     "text": [
      "\r",
      " 50%|█████     | 10/20 [00:43<00:43,  4.37s/it]"
     ]
    },
    {
     "name": "stdout",
     "output_type": "stream",
     "text": [
      "('max mins', -1.0, 0.9687355577573609)\n"
     ]
    },
    {
     "name": "stderr",
     "output_type": "stream",
     "text": [
      "\r",
      " 55%|█████▌    | 11/20 [00:48<00:39,  4.36s/it]"
     ]
    },
    {
     "name": "stdout",
     "output_type": "stream",
     "text": [
      "('max mins', -1.0, 0.9546987452164709)\n"
     ]
    },
    {
     "name": "stderr",
     "output_type": "stream",
     "text": [
      "\r",
      " 60%|██████    | 12/20 [00:52<00:34,  4.37s/it]"
     ]
    },
    {
     "name": "stdout",
     "output_type": "stream",
     "text": [
      "('max mins', -0.9809947712224186, 1.0)\n"
     ]
    },
    {
     "name": "stderr",
     "output_type": "stream",
     "text": [
      "\r",
      " 65%|██████▌   | 13/20 [00:56<00:30,  4.37s/it]"
     ]
    },
    {
     "name": "stdout",
     "output_type": "stream",
     "text": [
      "('max mins', -0.9761683827416775, 1.0)\n"
     ]
    },
    {
     "name": "stderr",
     "output_type": "stream",
     "text": [
      "\r",
      " 70%|███████   | 14/20 [01:01<00:26,  4.37s/it]"
     ]
    },
    {
     "name": "stdout",
     "output_type": "stream",
     "text": [
      "('max mins', -1.0, 0.9979458402066035)\n"
     ]
    },
    {
     "name": "stderr",
     "output_type": "stream",
     "text": [
      "\r",
      " 75%|███████▌  | 15/20 [01:05<00:21,  4.37s/it]"
     ]
    },
    {
     "name": "stdout",
     "output_type": "stream",
     "text": [
      "('max mins', -1.0, 0.9835242294300514)\n"
     ]
    },
    {
     "name": "stderr",
     "output_type": "stream",
     "text": [
      "\r",
      " 80%|████████  | 16/20 [01:09<00:17,  4.37s/it]"
     ]
    },
    {
     "name": "stdout",
     "output_type": "stream",
     "text": [
      "('max mins', -1.0, 0.9794161216354017)\n"
     ]
    },
    {
     "name": "stderr",
     "output_type": "stream",
     "text": [
      "\r",
      " 85%|████████▌ | 17/20 [01:14<00:13,  4.37s/it]"
     ]
    },
    {
     "name": "stdout",
     "output_type": "stream",
     "text": [
      "('max mins', -0.9539498961100137, 1.0)\n"
     ]
    },
    {
     "name": "stderr",
     "output_type": "stream",
     "text": [
      "\r",
      " 90%|█████████ | 18/20 [01:18<00:08,  4.37s/it]"
     ]
    },
    {
     "name": "stdout",
     "output_type": "stream",
     "text": [
      "('max mins', -0.9996854119274982, 1.0)\n"
     ]
    },
    {
     "name": "stderr",
     "output_type": "stream",
     "text": [
      "\r",
      " 95%|█████████▌| 19/20 [01:22<00:04,  4.37s/it]"
     ]
    },
    {
     "name": "stdout",
     "output_type": "stream",
     "text": [
      "('max mins', -1.0, 0.9791724417691637)\n"
     ]
    },
    {
     "name": "stderr",
     "output_type": "stream",
     "text": [
      "100%|██████████| 20/20 [01:27<00:00,  4.37s/it]\n"
     ]
    },
    {
     "name": "stdout",
     "output_type": "stream",
     "text": [
      "('Best file pairs are: ', 'non_spikey_T0000023.WAV*non_spikey_T0000024.WAV')\n",
      "Start and end indices around peak:                  start index: 14723530\t\t          end index: 26223530                  total samples:30015488\n"
     ]
    },
    {
     "name": "stderr",
     "output_type": "stream",
     "text": [
      "../../../bin/audio_for_videoannotation.py:175: UserWarning: The AV sync may not be very great - please check again. The value was :0.24044428779634605\n",
      "  warnings.warn(warning_msg, stacklevel=1)\n"
     ]
    },
    {
     "name": "stdout",
     "output_type": "stream",
     "text": [
      "common_fps/Aditya_annotations/2018-08-19/common_fps_video_syncAditya_2018-08-20_0111-0200_99.csv\n",
      "('video_fps obtained is :', 25)\n",
      "Did not find user-provided sample rate - getting it from first file that matches format!\n",
      "('sampling rate is : ', 250000)\n",
      ".....finding best audio segment.....\n"
     ]
    },
    {
     "name": "stderr",
     "output_type": "stream",
     "text": [
      "\r",
      "  0%|          | 0/20 [00:00<?, ?it/s]"
     ]
    },
    {
     "name": "stdout",
     "output_type": "stream",
     "text": [
      "('max mins for upsampled video', -1.0, 0.9497063159366593)\n",
      "('max mins', -0.9604330112349305, 1.0)\n"
     ]
    },
    {
     "name": "stderr",
     "output_type": "stream",
     "text": [
      "\r",
      "  5%|▌         | 1/20 [00:04<01:24,  4.43s/it]"
     ]
    },
    {
     "name": "stdout",
     "output_type": "stream",
     "text": [
      "('max mins', -1.0, 0.9813355482916202)\n"
     ]
    },
    {
     "name": "stderr",
     "output_type": "stream",
     "text": [
      "\r",
      " 10%|█         | 2/20 [00:08<01:19,  4.41s/it]"
     ]
    },
    {
     "name": "stdout",
     "output_type": "stream",
     "text": [
      "('max mins', -1.0, 0.9916817204346738)\n"
     ]
    },
    {
     "name": "stderr",
     "output_type": "stream",
     "text": [
      "\r",
      " 15%|█▌        | 3/20 [00:13<01:14,  4.40s/it]"
     ]
    },
    {
     "name": "stdout",
     "output_type": "stream",
     "text": [
      "('max mins', -1.0, 0.9832754746981707)\n"
     ]
    },
    {
     "name": "stderr",
     "output_type": "stream",
     "text": [
      "\r",
      " 20%|██        | 4/20 [00:17<01:10,  4.39s/it]"
     ]
    },
    {
     "name": "stdout",
     "output_type": "stream",
     "text": [
      "('max mins', -1.0, 0.9966273079495607)\n"
     ]
    },
    {
     "name": "stderr",
     "output_type": "stream",
     "text": [
      "\r",
      " 25%|██▌       | 5/20 [00:21<01:05,  4.38s/it]"
     ]
    },
    {
     "name": "stdout",
     "output_type": "stream",
     "text": [
      "('max mins', -1.0, 0.9947318403602488)\n"
     ]
    },
    {
     "name": "stderr",
     "output_type": "stream",
     "text": [
      "\r",
      " 30%|███       | 6/20 [00:26<01:01,  4.38s/it]"
     ]
    },
    {
     "name": "stdout",
     "output_type": "stream",
     "text": [
      "('max mins', -0.9679249511255772, 1.0)\n"
     ]
    },
    {
     "name": "stderr",
     "output_type": "stream",
     "text": [
      "\r",
      " 35%|███▌      | 7/20 [00:30<00:56,  4.38s/it]"
     ]
    },
    {
     "name": "stdout",
     "output_type": "stream",
     "text": [
      "('max mins', -0.9414557285434305, 1.0)\n"
     ]
    },
    {
     "name": "stderr",
     "output_type": "stream",
     "text": [
      "\r",
      " 40%|████      | 8/20 [00:35<00:52,  4.37s/it]"
     ]
    },
    {
     "name": "stdout",
     "output_type": "stream",
     "text": [
      "('max mins', -0.9536997290119662, 1.0)\n"
     ]
    },
    {
     "name": "stderr",
     "output_type": "stream",
     "text": [
      "\r",
      " 45%|████▌     | 9/20 [00:39<00:48,  4.37s/it]"
     ]
    },
    {
     "name": "stdout",
     "output_type": "stream",
     "text": [
      "('max mins', -0.963978928481249, 1.0)\n"
     ]
    },
    {
     "name": "stderr",
     "output_type": "stream",
     "text": [
      "\r",
      " 50%|█████     | 10/20 [00:43<00:43,  4.37s/it]"
     ]
    },
    {
     "name": "stdout",
     "output_type": "stream",
     "text": [
      "('max mins', -1.0, 0.9687355577573609)\n"
     ]
    },
    {
     "name": "stderr",
     "output_type": "stream",
     "text": [
      "\r",
      " 55%|█████▌    | 11/20 [00:48<00:39,  4.37s/it]"
     ]
    },
    {
     "name": "stdout",
     "output_type": "stream",
     "text": [
      "('max mins', -1.0, 0.9546987452164709)\n"
     ]
    },
    {
     "name": "stderr",
     "output_type": "stream",
     "text": [
      "\r",
      " 60%|██████    | 12/20 [00:52<00:34,  4.37s/it]"
     ]
    },
    {
     "name": "stdout",
     "output_type": "stream",
     "text": [
      "('max mins', -0.9809947712224186, 1.0)\n"
     ]
    },
    {
     "name": "stderr",
     "output_type": "stream",
     "text": [
      "\r",
      " 65%|██████▌   | 13/20 [00:56<00:30,  4.37s/it]"
     ]
    },
    {
     "name": "stdout",
     "output_type": "stream",
     "text": [
      "('max mins', -0.9761683827416775, 1.0)\n"
     ]
    },
    {
     "name": "stderr",
     "output_type": "stream",
     "text": [
      "\r",
      " 70%|███████   | 14/20 [01:01<00:26,  4.37s/it]"
     ]
    },
    {
     "name": "stdout",
     "output_type": "stream",
     "text": [
      "('max mins', -1.0, 0.9979458402066035)\n"
     ]
    },
    {
     "name": "stderr",
     "output_type": "stream",
     "text": [
      "\r",
      " 75%|███████▌  | 15/20 [01:05<00:21,  4.37s/it]"
     ]
    },
    {
     "name": "stdout",
     "output_type": "stream",
     "text": [
      "('max mins', -1.0, 0.9835242294300514)\n"
     ]
    },
    {
     "name": "stderr",
     "output_type": "stream",
     "text": [
      "\r",
      " 80%|████████  | 16/20 [01:09<00:17,  4.37s/it]"
     ]
    },
    {
     "name": "stdout",
     "output_type": "stream",
     "text": [
      "('max mins', -1.0, 0.9794161216354017)\n"
     ]
    },
    {
     "name": "stderr",
     "output_type": "stream",
     "text": [
      "\r",
      " 85%|████████▌ | 17/20 [01:14<00:13,  4.37s/it]"
     ]
    },
    {
     "name": "stdout",
     "output_type": "stream",
     "text": [
      "('max mins', -0.9539498961100137, 1.0)\n"
     ]
    },
    {
     "name": "stderr",
     "output_type": "stream",
     "text": [
      "\r",
      " 90%|█████████ | 18/20 [01:18<00:08,  4.37s/it]"
     ]
    },
    {
     "name": "stdout",
     "output_type": "stream",
     "text": [
      "('max mins', -0.9996854119274982, 1.0)\n"
     ]
    },
    {
     "name": "stderr",
     "output_type": "stream",
     "text": [
      "\r",
      " 95%|█████████▌| 19/20 [01:23<00:04,  4.37s/it]"
     ]
    },
    {
     "name": "stdout",
     "output_type": "stream",
     "text": [
      "('max mins', -1.0, 0.9791724417691637)\n"
     ]
    },
    {
     "name": "stderr",
     "output_type": "stream",
     "text": [
      "100%|██████████| 20/20 [01:27<00:00,  4.37s/it]\n"
     ]
    },
    {
     "name": "stdout",
     "output_type": "stream",
     "text": [
      "('Best file pairs are: ', 'non_spikey_T0000024.WAV*non_spikey_T0000025.WAV')\n",
      "Start and end indices around peak:                  start index: 1630801\t\t          end index: 13130801                  total samples:30015488\n"
     ]
    },
    {
     "name": "stderr",
     "output_type": "stream",
     "text": [
      "../../../bin/audio_for_videoannotation.py:175: UserWarning: The AV sync may not be very great - please check again. The value was :0.2245985897437294\n",
      "  warnings.warn(warning_msg, stacklevel=1)\n"
     ]
    },
    {
     "name": "stdout",
     "output_type": "stream",
     "text": [
      "common_fps/Aditya_annotations/2018-08-19/common_fps_video_syncAditya_2018-08-20_0111-0200_100.csv\n",
      "('video_fps obtained is :', 25)\n",
      "Did not find user-provided sample rate - getting it from first file that matches format!\n",
      "('sampling rate is : ', 250000)\n",
      ".....finding best audio segment.....\n"
     ]
    },
    {
     "name": "stderr",
     "output_type": "stream",
     "text": [
      "\r",
      "  0%|          | 0/20 [00:00<?, ?it/s]"
     ]
    },
    {
     "name": "stdout",
     "output_type": "stream",
     "text": [
      "('max mins for upsampled video', -1.0, 0.9389136736102345)\n",
      "('max mins', -0.9604330112349305, 1.0)\n"
     ]
    },
    {
     "name": "stderr",
     "output_type": "stream",
     "text": [
      "\r",
      "  5%|▌         | 1/20 [00:04<01:22,  4.34s/it]"
     ]
    },
    {
     "name": "stdout",
     "output_type": "stream",
     "text": [
      "('max mins', -1.0, 0.9813355482916202)\n"
     ]
    },
    {
     "name": "stderr",
     "output_type": "stream",
     "text": [
      "\r",
      " 10%|█         | 2/20 [00:08<01:18,  4.34s/it]"
     ]
    },
    {
     "name": "stdout",
     "output_type": "stream",
     "text": [
      "('max mins', -1.0, 0.9916817204346738)\n"
     ]
    },
    {
     "name": "stderr",
     "output_type": "stream",
     "text": [
      "\r",
      " 15%|█▌        | 3/20 [00:13<01:13,  4.35s/it]"
     ]
    },
    {
     "name": "stdout",
     "output_type": "stream",
     "text": [
      "('max mins', -1.0, 0.9832754746981707)\n"
     ]
    },
    {
     "name": "stderr",
     "output_type": "stream",
     "text": [
      "\r",
      " 20%|██        | 4/20 [00:17<01:09,  4.35s/it]"
     ]
    },
    {
     "name": "stdout",
     "output_type": "stream",
     "text": [
      "('max mins', -1.0, 0.9966273079495607)\n"
     ]
    },
    {
     "name": "stderr",
     "output_type": "stream",
     "text": [
      "\r",
      " 25%|██▌       | 5/20 [00:21<01:05,  4.36s/it]"
     ]
    },
    {
     "name": "stdout",
     "output_type": "stream",
     "text": [
      "('max mins', -1.0, 0.9947318403602488)\n"
     ]
    },
    {
     "name": "stderr",
     "output_type": "stream",
     "text": [
      "\r",
      " 30%|███       | 6/20 [00:26<01:01,  4.36s/it]"
     ]
    },
    {
     "name": "stdout",
     "output_type": "stream",
     "text": [
      "('max mins', -0.9679249511255772, 1.0)\n"
     ]
    },
    {
     "name": "stderr",
     "output_type": "stream",
     "text": [
      "\r",
      " 35%|███▌      | 7/20 [00:31<00:59,  4.56s/it]"
     ]
    },
    {
     "name": "stdout",
     "output_type": "stream",
     "text": [
      "('max mins', -0.9414557285434305, 1.0)\n"
     ]
    },
    {
     "name": "stderr",
     "output_type": "stream",
     "text": [
      "\r",
      " 40%|████      | 8/20 [00:35<00:54,  4.51s/it]"
     ]
    },
    {
     "name": "stdout",
     "output_type": "stream",
     "text": [
      "('max mins', -0.9536997290119662, 1.0)\n"
     ]
    },
    {
     "name": "stderr",
     "output_type": "stream",
     "text": [
      "\r",
      " 45%|████▌     | 9/20 [00:39<00:49,  4.46s/it]"
     ]
    },
    {
     "name": "stdout",
     "output_type": "stream",
     "text": [
      "('max mins', -0.963978928481249, 1.0)\n"
     ]
    },
    {
     "name": "stderr",
     "output_type": "stream",
     "text": [
      "\r",
      " 50%|█████     | 10/20 [00:44<00:44,  4.43s/it]"
     ]
    },
    {
     "name": "stdout",
     "output_type": "stream",
     "text": [
      "('max mins', -1.0, 0.9687355577573609)\n"
     ]
    },
    {
     "name": "stderr",
     "output_type": "stream",
     "text": [
      "\r",
      " 55%|█████▌    | 11/20 [00:48<00:39,  4.42s/it]"
     ]
    },
    {
     "name": "stdout",
     "output_type": "stream",
     "text": [
      "('max mins', -1.0, 0.9546987452164709)\n"
     ]
    },
    {
     "name": "stderr",
     "output_type": "stream",
     "text": [
      "\r",
      " 60%|██████    | 12/20 [00:53<00:35,  4.40s/it]"
     ]
    },
    {
     "name": "stdout",
     "output_type": "stream",
     "text": [
      "('max mins', -0.9809947712224186, 1.0)\n"
     ]
    },
    {
     "name": "stderr",
     "output_type": "stream",
     "text": [
      "\r",
      " 65%|██████▌   | 13/20 [00:57<00:30,  4.40s/it]"
     ]
    },
    {
     "name": "stdout",
     "output_type": "stream",
     "text": [
      "('max mins', -0.9761683827416775, 1.0)\n"
     ]
    },
    {
     "name": "stderr",
     "output_type": "stream",
     "text": [
      "\r",
      " 70%|███████   | 14/20 [01:01<00:26,  4.39s/it]"
     ]
    },
    {
     "name": "stdout",
     "output_type": "stream",
     "text": [
      "('max mins', -1.0, 0.9979458402066035)\n"
     ]
    },
    {
     "name": "stderr",
     "output_type": "stream",
     "text": [
      "\r",
      " 75%|███████▌  | 15/20 [01:06<00:22,  4.42s/it]"
     ]
    },
    {
     "name": "stdout",
     "output_type": "stream",
     "text": [
      "('max mins', -1.0, 0.9835242294300514)\n"
     ]
    },
    {
     "name": "stderr",
     "output_type": "stream",
     "text": [
      "\r",
      " 80%|████████  | 16/20 [01:10<00:17,  4.41s/it]"
     ]
    },
    {
     "name": "stdout",
     "output_type": "stream",
     "text": [
      "('max mins', -1.0, 0.9794161216354017)\n"
     ]
    },
    {
     "name": "stderr",
     "output_type": "stream",
     "text": [
      "\r",
      " 85%|████████▌ | 17/20 [01:15<00:13,  4.39s/it]"
     ]
    },
    {
     "name": "stdout",
     "output_type": "stream",
     "text": [
      "('max mins', -0.9539498961100137, 1.0)\n"
     ]
    },
    {
     "name": "stderr",
     "output_type": "stream",
     "text": [
      "\r",
      " 90%|█████████ | 18/20 [01:19<00:08,  4.38s/it]"
     ]
    },
    {
     "name": "stdout",
     "output_type": "stream",
     "text": [
      "('max mins', -0.9996854119274982, 1.0)\n"
     ]
    },
    {
     "name": "stderr",
     "output_type": "stream",
     "text": [
      "\r",
      " 95%|█████████▌| 19/20 [01:23<00:04,  4.38s/it]"
     ]
    },
    {
     "name": "stdout",
     "output_type": "stream",
     "text": [
      "('max mins', -1.0, 0.9791724417691637)\n"
     ]
    },
    {
     "name": "stderr",
     "output_type": "stream",
     "text": [
      "100%|██████████| 20/20 [01:28<00:00,  4.37s/it]\n"
     ]
    },
    {
     "name": "stdout",
     "output_type": "stream",
     "text": [
      "('Best file pairs are: ', 'non_spikey_T0000020.WAV*non_spikey_T0000021.WAV')\n",
      "Start and end indices around peak:                  start index: 10115526\t\t          end index: 21615526                  total samples:30015488\n"
     ]
    },
    {
     "name": "stderr",
     "output_type": "stream",
     "text": [
      "../../../bin/audio_for_videoannotation.py:175: UserWarning: The AV sync may not be very great - please check again. The value was :0.23598949766622315\n",
      "  warnings.warn(warning_msg, stacklevel=1)\n"
     ]
    },
    {
     "name": "stdout",
     "output_type": "stream",
     "text": [
      "common_fps/Aditya_annotations/2018-08-19/common_fps_video_syncAditya_2018-08-20_0111-0200_101.csv\n",
      "('video_fps obtained is :', 25)\n",
      "Did not find user-provided sample rate - getting it from first file that matches format!\n",
      "('sampling rate is : ', 250000)\n",
      ".....finding best audio segment.....\n"
     ]
    },
    {
     "name": "stderr",
     "output_type": "stream",
     "text": [
      "\r",
      "  0%|          | 0/20 [00:00<?, ?it/s]"
     ]
    },
    {
     "name": "stdout",
     "output_type": "stream",
     "text": [
      "('max mins for upsampled video', -1.0, 0.9316273793990539)\n",
      "('max mins', -0.9604330112349305, 1.0)\n"
     ]
    },
    {
     "name": "stderr",
     "output_type": "stream",
     "text": [
      "\r",
      "  5%|▌         | 1/20 [00:04<01:22,  4.34s/it]"
     ]
    },
    {
     "name": "stdout",
     "output_type": "stream",
     "text": [
      "('max mins', -1.0, 0.9813355482916202)\n"
     ]
    },
    {
     "name": "stderr",
     "output_type": "stream",
     "text": [
      "\r",
      " 10%|█         | 2/20 [00:08<01:18,  4.35s/it]"
     ]
    },
    {
     "name": "stdout",
     "output_type": "stream",
     "text": [
      "('max mins', -1.0, 0.9916817204346738)\n"
     ]
    },
    {
     "name": "stderr",
     "output_type": "stream",
     "text": [
      "\r",
      " 15%|█▌        | 3/20 [00:13<01:14,  4.36s/it]"
     ]
    },
    {
     "name": "stdout",
     "output_type": "stream",
     "text": [
      "('max mins', -1.0, 0.9832754746981707)\n"
     ]
    },
    {
     "name": "stderr",
     "output_type": "stream",
     "text": [
      "\r",
      " 20%|██        | 4/20 [00:17<01:09,  4.36s/it]"
     ]
    },
    {
     "name": "stdout",
     "output_type": "stream",
     "text": [
      "('max mins', -1.0, 0.9966273079495607)\n"
     ]
    },
    {
     "name": "stderr",
     "output_type": "stream",
     "text": [
      "\r",
      " 25%|██▌       | 5/20 [00:21<01:05,  4.36s/it]"
     ]
    },
    {
     "name": "stdout",
     "output_type": "stream",
     "text": [
      "('max mins', -1.0, 0.9947318403602488)\n"
     ]
    },
    {
     "name": "stderr",
     "output_type": "stream",
     "text": [
      "\r",
      " 30%|███       | 6/20 [00:26<01:01,  4.36s/it]"
     ]
    },
    {
     "name": "stdout",
     "output_type": "stream",
     "text": [
      "('max mins', -0.9679249511255772, 1.0)\n"
     ]
    },
    {
     "name": "stderr",
     "output_type": "stream",
     "text": [
      "\r",
      " 35%|███▌      | 7/20 [00:30<00:56,  4.36s/it]"
     ]
    },
    {
     "name": "stdout",
     "output_type": "stream",
     "text": [
      "('max mins', -0.9414557285434305, 1.0)\n"
     ]
    },
    {
     "name": "stderr",
     "output_type": "stream",
     "text": [
      "\r",
      " 40%|████      | 8/20 [00:34<00:52,  4.36s/it]"
     ]
    },
    {
     "name": "stdout",
     "output_type": "stream",
     "text": [
      "('max mins', -0.9536997290119662, 1.0)\n"
     ]
    },
    {
     "name": "stderr",
     "output_type": "stream",
     "text": [
      "\r",
      " 45%|████▌     | 9/20 [00:39<00:48,  4.37s/it]"
     ]
    },
    {
     "name": "stdout",
     "output_type": "stream",
     "text": [
      "('max mins', -0.963978928481249, 1.0)\n"
     ]
    },
    {
     "name": "stderr",
     "output_type": "stream",
     "text": [
      "\r",
      " 50%|█████     | 10/20 [00:44<00:45,  4.51s/it]"
     ]
    },
    {
     "name": "stdout",
     "output_type": "stream",
     "text": [
      "('max mins', -1.0, 0.9687355577573609)\n"
     ]
    },
    {
     "name": "stderr",
     "output_type": "stream",
     "text": [
      "\r",
      " 55%|█████▌    | 11/20 [00:48<00:40,  4.54s/it]"
     ]
    },
    {
     "name": "stdout",
     "output_type": "stream",
     "text": [
      "('max mins', -1.0, 0.9546987452164709)\n"
     ]
    },
    {
     "name": "stderr",
     "output_type": "stream",
     "text": [
      "\r",
      " 60%|██████    | 12/20 [00:53<00:36,  4.60s/it]"
     ]
    },
    {
     "name": "stdout",
     "output_type": "stream",
     "text": [
      "('max mins', -0.9809947712224186, 1.0)\n"
     ]
    },
    {
     "name": "stderr",
     "output_type": "stream",
     "text": [
      "\r",
      " 65%|██████▌   | 13/20 [00:59<00:35,  5.03s/it]"
     ]
    },
    {
     "name": "stdout",
     "output_type": "stream",
     "text": [
      "('max mins', -0.9761683827416775, 1.0)\n"
     ]
    },
    {
     "name": "stderr",
     "output_type": "stream",
     "text": [
      "\r",
      " 70%|███████   | 14/20 [01:05<00:32,  5.35s/it]"
     ]
    },
    {
     "name": "stdout",
     "output_type": "stream",
     "text": [
      "('max mins', -1.0, 0.9979458402066035)\n"
     ]
    },
    {
     "name": "stderr",
     "output_type": "stream",
     "text": [
      "\r",
      " 75%|███████▌  | 15/20 [01:11<00:27,  5.45s/it]"
     ]
    },
    {
     "name": "stdout",
     "output_type": "stream",
     "text": [
      "('max mins', -1.0, 0.9835242294300514)\n"
     ]
    },
    {
     "name": "stderr",
     "output_type": "stream",
     "text": [
      "\r",
      " 80%|████████  | 16/20 [01:16<00:20,  5.24s/it]"
     ]
    },
    {
     "name": "stdout",
     "output_type": "stream",
     "text": [
      "('max mins', -1.0, 0.9794161216354017)\n"
     ]
    },
    {
     "name": "stderr",
     "output_type": "stream",
     "text": [
      "\r",
      " 85%|████████▌ | 17/20 [01:20<00:14,  4.99s/it]"
     ]
    },
    {
     "name": "stdout",
     "output_type": "stream",
     "text": [
      "('max mins', -0.9539498961100137, 1.0)\n"
     ]
    },
    {
     "name": "stderr",
     "output_type": "stream",
     "text": [
      "\r",
      " 90%|█████████ | 18/20 [01:24<00:09,  4.81s/it]"
     ]
    },
    {
     "name": "stdout",
     "output_type": "stream",
     "text": [
      "('max mins', -0.9996854119274982, 1.0)\n"
     ]
    },
    {
     "name": "stderr",
     "output_type": "stream",
     "text": [
      "\r",
      " 95%|█████████▌| 19/20 [01:29<00:04,  4.69s/it]"
     ]
    },
    {
     "name": "stdout",
     "output_type": "stream",
     "text": [
      "('max mins', -1.0, 0.9791724417691637)\n"
     ]
    },
    {
     "name": "stderr",
     "output_type": "stream",
     "text": [
      "100%|██████████| 20/20 [01:33<00:00,  4.60s/it]\n"
     ]
    },
    {
     "name": "stdout",
     "output_type": "stream",
     "text": [
      "('Best file pairs are: ', 'non_spikey_T0000020.WAV*non_spikey_T0000021.WAV')\n",
      "Start and end indices around peak:                  start index: 10363085\t\t          end index: 21863085                  total samples:30015488\n"
     ]
    },
    {
     "name": "stderr",
     "output_type": "stream",
     "text": [
      "../../../bin/audio_for_videoannotation.py:175: UserWarning: The AV sync may not be very great - please check again. The value was :0.23304599375907678\n",
      "  warnings.warn(warning_msg, stacklevel=1)\n"
     ]
    },
    {
     "name": "stdout",
     "output_type": "stream",
     "text": [
      "common_fps/Aditya_annotations/2018-08-19/common_fps_video_syncAditya_2018-08-20_0111-0200_102.csv\n",
      "('video_fps obtained is :', 25)\n",
      "Did not find user-provided sample rate - getting it from first file that matches format!\n",
      "('sampling rate is : ', 250000)\n",
      ".....finding best audio segment.....\n"
     ]
    },
    {
     "name": "stderr",
     "output_type": "stream",
     "text": [
      "\r",
      "  0%|          | 0/20 [00:00<?, ?it/s]"
     ]
    },
    {
     "name": "stdout",
     "output_type": "stream",
     "text": [
      "('max mins for upsampled video', -1.0, 0.9316273793990539)\n",
      "('max mins', -0.9604330112349305, 1.0)\n"
     ]
    },
    {
     "name": "stderr",
     "output_type": "stream",
     "text": [
      "\r",
      "  5%|▌         | 1/20 [00:04<01:22,  4.35s/it]"
     ]
    },
    {
     "name": "stdout",
     "output_type": "stream",
     "text": [
      "('max mins', -1.0, 0.9813355482916202)\n"
     ]
    },
    {
     "name": "stderr",
     "output_type": "stream",
     "text": [
      "\r",
      " 10%|█         | 2/20 [00:08<01:18,  4.36s/it]"
     ]
    },
    {
     "name": "stdout",
     "output_type": "stream",
     "text": [
      "('max mins', -1.0, 0.9916817204346738)\n"
     ]
    },
    {
     "name": "stderr",
     "output_type": "stream",
     "text": [
      "\r",
      " 15%|█▌        | 3/20 [00:13<01:14,  4.37s/it]"
     ]
    },
    {
     "name": "stdout",
     "output_type": "stream",
     "text": [
      "('max mins', -1.0, 0.9832754746981707)\n"
     ]
    },
    {
     "name": "stderr",
     "output_type": "stream",
     "text": [
      "\r",
      " 20%|██        | 4/20 [00:17<01:09,  4.37s/it]"
     ]
    },
    {
     "name": "stdout",
     "output_type": "stream",
     "text": [
      "('max mins', -1.0, 0.9966273079495607)\n"
     ]
    },
    {
     "name": "stderr",
     "output_type": "stream",
     "text": [
      "\r",
      " 25%|██▌       | 5/20 [00:21<01:05,  4.38s/it]"
     ]
    },
    {
     "name": "stdout",
     "output_type": "stream",
     "text": [
      "('max mins', -1.0, 0.9947318403602488)\n"
     ]
    },
    {
     "name": "stderr",
     "output_type": "stream",
     "text": [
      "\r",
      " 30%|███       | 6/20 [00:26<01:01,  4.39s/it]"
     ]
    },
    {
     "name": "stdout",
     "output_type": "stream",
     "text": [
      "('max mins', -0.9679249511255772, 1.0)\n"
     ]
    },
    {
     "name": "stderr",
     "output_type": "stream",
     "text": [
      "\r",
      " 35%|███▌      | 7/20 [00:30<00:57,  4.38s/it]"
     ]
    },
    {
     "name": "stdout",
     "output_type": "stream",
     "text": [
      "('max mins', -0.9414557285434305, 1.0)\n"
     ]
    },
    {
     "name": "stderr",
     "output_type": "stream",
     "text": [
      "\r",
      " 40%|████      | 8/20 [00:35<00:52,  4.38s/it]"
     ]
    },
    {
     "name": "stdout",
     "output_type": "stream",
     "text": [
      "('max mins', -0.9536997290119662, 1.0)\n"
     ]
    },
    {
     "name": "stderr",
     "output_type": "stream",
     "text": [
      "\r",
      " 45%|████▌     | 9/20 [00:39<00:48,  4.38s/it]"
     ]
    },
    {
     "name": "stdout",
     "output_type": "stream",
     "text": [
      "('max mins', -0.963978928481249, 1.0)\n"
     ]
    },
    {
     "name": "stderr",
     "output_type": "stream",
     "text": [
      "\r",
      " 50%|█████     | 10/20 [00:43<00:43,  4.38s/it]"
     ]
    },
    {
     "name": "stdout",
     "output_type": "stream",
     "text": [
      "('max mins', -1.0, 0.9687355577573609)\n"
     ]
    },
    {
     "name": "stderr",
     "output_type": "stream",
     "text": [
      "\r",
      " 55%|█████▌    | 11/20 [00:48<00:39,  4.41s/it]"
     ]
    },
    {
     "name": "stdout",
     "output_type": "stream",
     "text": [
      "('max mins', -1.0, 0.9546987452164709)\n"
     ]
    },
    {
     "name": "stderr",
     "output_type": "stream",
     "text": [
      "\r",
      " 60%|██████    | 12/20 [00:52<00:35,  4.40s/it]"
     ]
    },
    {
     "name": "stdout",
     "output_type": "stream",
     "text": [
      "('max mins', -0.9809947712224186, 1.0)\n"
     ]
    },
    {
     "name": "stderr",
     "output_type": "stream",
     "text": [
      "\r",
      " 65%|██████▌   | 13/20 [00:57<00:32,  4.62s/it]"
     ]
    },
    {
     "name": "stdout",
     "output_type": "stream",
     "text": [
      "('max mins', -0.9761683827416775, 1.0)\n"
     ]
    },
    {
     "name": "stderr",
     "output_type": "stream",
     "text": [
      "\r",
      " 70%|███████   | 14/20 [01:02<00:27,  4.55s/it]"
     ]
    },
    {
     "name": "stdout",
     "output_type": "stream",
     "text": [
      "('max mins', -1.0, 0.9979458402066035)\n"
     ]
    },
    {
     "name": "stderr",
     "output_type": "stream",
     "text": [
      "\r",
      " 75%|███████▌  | 15/20 [01:06<00:22,  4.50s/it]"
     ]
    },
    {
     "name": "stdout",
     "output_type": "stream",
     "text": [
      "('max mins', -1.0, 0.9835242294300514)\n"
     ]
    },
    {
     "name": "stderr",
     "output_type": "stream",
     "text": [
      "\r",
      " 80%|████████  | 16/20 [01:10<00:17,  4.46s/it]"
     ]
    },
    {
     "name": "stdout",
     "output_type": "stream",
     "text": [
      "('max mins', -1.0, 0.9794161216354017)\n"
     ]
    },
    {
     "name": "stderr",
     "output_type": "stream",
     "text": [
      "\r",
      " 85%|████████▌ | 17/20 [01:15<00:13,  4.44s/it]"
     ]
    },
    {
     "name": "stdout",
     "output_type": "stream",
     "text": [
      "('max mins', -0.9539498961100137, 1.0)\n"
     ]
    },
    {
     "name": "stderr",
     "output_type": "stream",
     "text": [
      "\r",
      " 90%|█████████ | 18/20 [01:19<00:08,  4.46s/it]"
     ]
    },
    {
     "name": "stdout",
     "output_type": "stream",
     "text": [
      "('max mins', -0.9996854119274982, 1.0)\n"
     ]
    },
    {
     "name": "stderr",
     "output_type": "stream",
     "text": [
      "\r",
      " 95%|█████████▌| 19/20 [01:24<00:04,  4.49s/it]"
     ]
    },
    {
     "name": "stdout",
     "output_type": "stream",
     "text": [
      "('max mins', -1.0, 0.9791724417691637)\n"
     ]
    },
    {
     "name": "stderr",
     "output_type": "stream",
     "text": [
      "100%|██████████| 20/20 [01:28<00:00,  4.46s/it]\n"
     ]
    },
    {
     "name": "stdout",
     "output_type": "stream",
     "text": [
      "('Best file pairs are: ', 'non_spikey_T0000020.WAV*non_spikey_T0000021.WAV')\n",
      "Start and end indices around peak:                  start index: 10363085\t\t          end index: 21863085                  total samples:30015488\n",
      "common_fps/Aditya_annotations/2018-08-19/common_fps_video_syncAditya_2018-08-20_0111-0200_103.csv\n",
      "('video_fps obtained is :', 25)\n",
      "Did not find user-provided sample rate - getting it from first file that matches format!\n",
      "('sampling rate is : ', 250000)\n",
      ".....finding best audio segment.....\n"
     ]
    },
    {
     "name": "stderr",
     "output_type": "stream",
     "text": [
      "\r",
      "  0%|          | 0/20 [00:00<?, ?it/s]"
     ]
    },
    {
     "name": "stdout",
     "output_type": "stream",
     "text": [
      "('max mins for upsampled video', -1.0, 0.9318069365625233)\n",
      "('max mins', -0.9604330112349305, 1.0)\n"
     ]
    },
    {
     "name": "stderr",
     "output_type": "stream",
     "text": [
      "\r",
      "  5%|▌         | 1/20 [00:04<01:22,  4.35s/it]"
     ]
    },
    {
     "name": "stdout",
     "output_type": "stream",
     "text": [
      "('max mins', -1.0, 0.9813355482916202)\n"
     ]
    },
    {
     "name": "stderr",
     "output_type": "stream",
     "text": [
      "\r",
      " 10%|█         | 2/20 [00:08<01:18,  4.37s/it]"
     ]
    },
    {
     "name": "stdout",
     "output_type": "stream",
     "text": [
      "('max mins', -1.0, 0.9916817204346738)\n"
     ]
    },
    {
     "name": "stderr",
     "output_type": "stream",
     "text": [
      "\r",
      " 15%|█▌        | 3/20 [00:13<01:15,  4.44s/it]"
     ]
    },
    {
     "name": "stdout",
     "output_type": "stream",
     "text": [
      "('max mins', -1.0, 0.9832754746981707)\n"
     ]
    },
    {
     "name": "stderr",
     "output_type": "stream",
     "text": [
      "\r",
      " 20%|██        | 4/20 [00:18<01:14,  4.66s/it]"
     ]
    },
    {
     "name": "stdout",
     "output_type": "stream",
     "text": [
      "('max mins', -1.0, 0.9966273079495607)\n"
     ]
    },
    {
     "name": "stderr",
     "output_type": "stream",
     "text": [
      "\r",
      " 25%|██▌       | 5/20 [00:24<01:13,  4.92s/it]"
     ]
    },
    {
     "name": "stdout",
     "output_type": "stream",
     "text": [
      "('max mins', -1.0, 0.9947318403602488)\n"
     ]
    },
    {
     "name": "stderr",
     "output_type": "stream",
     "text": [
      "\r",
      " 30%|███       | 6/20 [00:28<01:06,  4.77s/it]"
     ]
    },
    {
     "name": "stdout",
     "output_type": "stream",
     "text": [
      "('max mins', -0.9679249511255772, 1.0)\n"
     ]
    },
    {
     "name": "stderr",
     "output_type": "stream",
     "text": [
      "\r",
      " 35%|███▌      | 7/20 [00:33<01:02,  4.80s/it]"
     ]
    },
    {
     "name": "stdout",
     "output_type": "stream",
     "text": [
      "('max mins', -0.9414557285434305, 1.0)\n"
     ]
    },
    {
     "name": "stderr",
     "output_type": "stream",
     "text": [
      "\r",
      " 40%|████      | 8/20 [00:38<00:59,  4.93s/it]"
     ]
    },
    {
     "name": "stdout",
     "output_type": "stream",
     "text": [
      "('max mins', -0.9536997290119662, 1.0)\n"
     ]
    },
    {
     "name": "stderr",
     "output_type": "stream",
     "text": [
      "\r",
      " 45%|████▌     | 9/20 [00:43<00:55,  5.03s/it]"
     ]
    },
    {
     "name": "stdout",
     "output_type": "stream",
     "text": [
      "('max mins', -0.963978928481249, 1.0)\n"
     ]
    },
    {
     "name": "stderr",
     "output_type": "stream",
     "text": [
      "\r",
      " 50%|█████     | 10/20 [00:48<00:49,  4.94s/it]"
     ]
    },
    {
     "name": "stdout",
     "output_type": "stream",
     "text": [
      "('max mins', -1.0, 0.9687355577573609)\n"
     ]
    },
    {
     "name": "stderr",
     "output_type": "stream",
     "text": [
      "\r",
      " 55%|█████▌    | 11/20 [00:53<00:44,  4.98s/it]"
     ]
    },
    {
     "name": "stdout",
     "output_type": "stream",
     "text": [
      "('max mins', -1.0, 0.9546987452164709)\n"
     ]
    },
    {
     "name": "stderr",
     "output_type": "stream",
     "text": [
      "\r",
      " 60%|██████    | 12/20 [00:58<00:40,  5.07s/it]"
     ]
    },
    {
     "name": "stdout",
     "output_type": "stream",
     "text": [
      "('max mins', -0.9809947712224186, 1.0)\n"
     ]
    },
    {
     "name": "stderr",
     "output_type": "stream",
     "text": [
      "\r",
      " 65%|██████▌   | 13/20 [01:03<00:34,  4.88s/it]"
     ]
    },
    {
     "name": "stdout",
     "output_type": "stream",
     "text": [
      "('max mins', -0.9761683827416775, 1.0)\n"
     ]
    },
    {
     "name": "stderr",
     "output_type": "stream",
     "text": [
      "\r",
      " 70%|███████   | 14/20 [01:07<00:28,  4.74s/it]"
     ]
    },
    {
     "name": "stdout",
     "output_type": "stream",
     "text": [
      "('max mins', -1.0, 0.9979458402066035)\n"
     ]
    },
    {
     "name": "stderr",
     "output_type": "stream",
     "text": [
      "\r",
      " 75%|███████▌  | 15/20 [01:12<00:23,  4.64s/it]"
     ]
    },
    {
     "name": "stdout",
     "output_type": "stream",
     "text": [
      "('max mins', -1.0, 0.9835242294300514)\n"
     ]
    },
    {
     "name": "stderr",
     "output_type": "stream",
     "text": [
      "\r",
      " 80%|████████  | 16/20 [01:17<00:19,  4.82s/it]"
     ]
    },
    {
     "name": "stdout",
     "output_type": "stream",
     "text": [
      "('max mins', -1.0, 0.9794161216354017)\n"
     ]
    },
    {
     "name": "stderr",
     "output_type": "stream",
     "text": [
      "\r",
      " 85%|████████▌ | 17/20 [01:22<00:14,  4.90s/it]"
     ]
    },
    {
     "name": "stdout",
     "output_type": "stream",
     "text": [
      "('max mins', -0.9539498961100137, 1.0)\n"
     ]
    },
    {
     "name": "stderr",
     "output_type": "stream",
     "text": [
      "\r",
      " 90%|█████████ | 18/20 [01:28<00:10,  5.19s/it]"
     ]
    },
    {
     "name": "stdout",
     "output_type": "stream",
     "text": [
      "('max mins', -0.9996854119274982, 1.0)\n"
     ]
    },
    {
     "name": "stderr",
     "output_type": "stream",
     "text": [
      "\r",
      " 95%|█████████▌| 19/20 [01:33<00:05,  5.20s/it]"
     ]
    },
    {
     "name": "stdout",
     "output_type": "stream",
     "text": [
      "('max mins', -1.0, 0.9791724417691637)\n"
     ]
    },
    {
     "name": "stderr",
     "output_type": "stream",
     "text": [
      "100%|██████████| 20/20 [01:39<00:00,  5.29s/it]\n"
     ]
    },
    {
     "name": "stdout",
     "output_type": "stream",
     "text": [
      "('Best file pairs are: ', 'non_spikey_T0000020.WAV*non_spikey_T0000021.WAV')\n",
      "Start and end indices around peak:                  start index: 10862290\t\t          end index: 22362290                  total samples:30015488\n"
     ]
    },
    {
     "name": "stderr",
     "output_type": "stream",
     "text": [
      "../../../bin/audio_for_videoannotation.py:175: UserWarning: The AV sync may not be very great - please check again. The value was :0.25080191546468195\n",
      "  warnings.warn(warning_msg, stacklevel=1)\n"
     ]
    },
    {
     "name": "stdout",
     "output_type": "stream",
     "text": [
      "common_fps/Aditya_annotations/2018-08-19/common_fps_video_syncAditya_2018-08-20_0111-0200_104.csv\n",
      "('video_fps obtained is :', 25)\n",
      "Did not find user-provided sample rate - getting it from first file that matches format!\n",
      "('sampling rate is : ', 250000)\n",
      ".....finding best audio segment.....\n"
     ]
    },
    {
     "name": "stderr",
     "output_type": "stream",
     "text": [
      "\r",
      "  0%|          | 0/20 [00:00<?, ?it/s]"
     ]
    },
    {
     "name": "stdout",
     "output_type": "stream",
     "text": [
      "('max mins for upsampled video', -1.0, 0.9294485482702401)\n",
      "('max mins', -0.9604330112349305, 1.0)\n"
     ]
    },
    {
     "name": "stderr",
     "output_type": "stream",
     "text": [
      "\r",
      "  5%|▌         | 1/20 [00:05<01:37,  5.11s/it]"
     ]
    },
    {
     "name": "stdout",
     "output_type": "stream",
     "text": [
      "('max mins', -1.0, 0.9813355482916202)\n"
     ]
    },
    {
     "name": "stderr",
     "output_type": "stream",
     "text": [
      "\r",
      " 10%|█         | 2/20 [00:10<01:32,  5.14s/it]"
     ]
    },
    {
     "name": "stdout",
     "output_type": "stream",
     "text": [
      "('max mins', -1.0, 0.9916817204346738)\n"
     ]
    },
    {
     "name": "stderr",
     "output_type": "stream",
     "text": [
      "\r",
      " 15%|█▌        | 3/20 [00:15<01:28,  5.20s/it]"
     ]
    },
    {
     "name": "stdout",
     "output_type": "stream",
     "text": [
      "('max mins', -1.0, 0.9832754746981707)\n"
     ]
    },
    {
     "name": "stderr",
     "output_type": "stream",
     "text": [
      "\r",
      " 20%|██        | 4/20 [00:20<01:20,  5.01s/it]"
     ]
    },
    {
     "name": "stdout",
     "output_type": "stream",
     "text": [
      "('max mins', -1.0, 0.9966273079495607)\n"
     ]
    },
    {
     "name": "stderr",
     "output_type": "stream",
     "text": [
      "\r",
      " 25%|██▌       | 5/20 [00:24<01:13,  4.87s/it]"
     ]
    },
    {
     "name": "stdout",
     "output_type": "stream",
     "text": [
      "('max mins', -1.0, 0.9947318403602488)\n"
     ]
    },
    {
     "name": "stderr",
     "output_type": "stream",
     "text": [
      "\r",
      " 30%|███       | 6/20 [00:29<01:07,  4.83s/it]"
     ]
    },
    {
     "name": "stdout",
     "output_type": "stream",
     "text": [
      "('max mins', -0.9679249511255772, 1.0)\n"
     ]
    },
    {
     "name": "stderr",
     "output_type": "stream",
     "text": [
      "\r",
      " 35%|███▌      | 7/20 [00:34<01:01,  4.73s/it]"
     ]
    },
    {
     "name": "stdout",
     "output_type": "stream",
     "text": [
      "('max mins', -0.9414557285434305, 1.0)\n"
     ]
    },
    {
     "name": "stderr",
     "output_type": "stream",
     "text": [
      "\r",
      " 40%|████      | 8/20 [00:38<00:57,  4.78s/it]"
     ]
    },
    {
     "name": "stdout",
     "output_type": "stream",
     "text": [
      "('max mins', -0.9536997290119662, 1.0)\n"
     ]
    },
    {
     "name": "stderr",
     "output_type": "stream",
     "text": [
      "\r",
      " 45%|████▌     | 9/20 [00:44<00:54,  4.95s/it]"
     ]
    },
    {
     "name": "stdout",
     "output_type": "stream",
     "text": [
      "('max mins', -0.963978928481249, 1.0)\n"
     ]
    },
    {
     "name": "stderr",
     "output_type": "stream",
     "text": [
      "\r",
      " 50%|█████     | 10/20 [00:49<00:50,  5.04s/it]"
     ]
    },
    {
     "name": "stdout",
     "output_type": "stream",
     "text": [
      "('max mins', -1.0, 0.9687355577573609)\n"
     ]
    },
    {
     "name": "stderr",
     "output_type": "stream",
     "text": [
      "\r",
      " 55%|█████▌    | 11/20 [00:54<00:45,  5.04s/it]"
     ]
    },
    {
     "name": "stdout",
     "output_type": "stream",
     "text": [
      "('max mins', -1.0, 0.9546987452164709)\n"
     ]
    },
    {
     "name": "stderr",
     "output_type": "stream",
     "text": [
      "\r",
      " 60%|██████    | 12/20 [00:59<00:40,  5.04s/it]"
     ]
    },
    {
     "name": "stdout",
     "output_type": "stream",
     "text": [
      "('max mins', -0.9809947712224186, 1.0)\n"
     ]
    },
    {
     "name": "stderr",
     "output_type": "stream",
     "text": [
      "\r",
      " 65%|██████▌   | 13/20 [01:05<00:37,  5.30s/it]"
     ]
    },
    {
     "name": "stdout",
     "output_type": "stream",
     "text": [
      "('max mins', -0.9761683827416775, 1.0)\n"
     ]
    },
    {
     "name": "stderr",
     "output_type": "stream",
     "text": [
      "\r",
      " 70%|███████   | 14/20 [01:10<00:30,  5.12s/it]"
     ]
    },
    {
     "name": "stdout",
     "output_type": "stream",
     "text": [
      "('max mins', -1.0, 0.9979458402066035)\n"
     ]
    },
    {
     "name": "stderr",
     "output_type": "stream",
     "text": [
      "\r",
      " 75%|███████▌  | 15/20 [01:14<00:24,  4.99s/it]"
     ]
    },
    {
     "name": "stdout",
     "output_type": "stream",
     "text": [
      "('max mins', -1.0, 0.9835242294300514)\n"
     ]
    },
    {
     "name": "stderr",
     "output_type": "stream",
     "text": [
      "\r",
      " 80%|████████  | 16/20 [01:19<00:20,  5.01s/it]"
     ]
    },
    {
     "name": "stdout",
     "output_type": "stream",
     "text": [
      "('max mins', -1.0, 0.9794161216354017)\n"
     ]
    },
    {
     "name": "stderr",
     "output_type": "stream",
     "text": [
      "\r",
      " 85%|████████▌ | 17/20 [01:25<00:15,  5.04s/it]"
     ]
    },
    {
     "name": "stdout",
     "output_type": "stream",
     "text": [
      "('max mins', -0.9539498961100137, 1.0)\n"
     ]
    },
    {
     "name": "stderr",
     "output_type": "stream",
     "text": [
      "\r",
      " 90%|█████████ | 18/20 [01:29<00:09,  5.00s/it]"
     ]
    },
    {
     "name": "stdout",
     "output_type": "stream",
     "text": [
      "('max mins', -0.9996854119274982, 1.0)\n"
     ]
    },
    {
     "name": "stderr",
     "output_type": "stream",
     "text": [
      "\r",
      " 95%|█████████▌| 19/20 [01:35<00:05,  5.18s/it]"
     ]
    },
    {
     "name": "stdout",
     "output_type": "stream",
     "text": [
      "('max mins', -1.0, 0.9791724417691637)\n"
     ]
    },
    {
     "name": "stderr",
     "output_type": "stream",
     "text": [
      "100%|██████████| 20/20 [01:40<00:00,  5.20s/it]\n"
     ]
    },
    {
     "name": "stdout",
     "output_type": "stream",
     "text": [
      "('Best file pairs are: ', 'non_spikey_T0000025.WAV*non_spikey_T0000026.WAV')\n",
      "Unable to get proper audio match for video segment!\n",
      "('Could not save ', 'common_fps/Aditya_annotations/2018-08-19/common_fps_video_syncAditya_2018-08-20_0111-0200_104.csv')\n",
      "common_fps/Aditya_annotations/2018-08-19/common_fps_video_syncAditya_2018-08-20_0111-0200_111.csv\n",
      "('video_fps obtained is :', 25)\n",
      "Did not find user-provided sample rate - getting it from first file that matches format!\n",
      "('sampling rate is : ', 250000)\n",
      ".....finding best audio segment.....\n"
     ]
    },
    {
     "name": "stderr",
     "output_type": "stream",
     "text": [
      "\r",
      "  0%|          | 0/20 [00:00<?, ?it/s]"
     ]
    },
    {
     "name": "stdout",
     "output_type": "stream",
     "text": [
      "('max mins for upsampled video', -1.0, 0.9657933989788433)\n",
      "('max mins', -0.9604330112349305, 1.0)\n"
     ]
    },
    {
     "name": "stderr",
     "output_type": "stream",
     "text": [
      "\r",
      "  5%|▌         | 1/20 [00:05<01:39,  5.23s/it]"
     ]
    },
    {
     "name": "stdout",
     "output_type": "stream",
     "text": [
      "('max mins', -1.0, 0.9813355482916202)\n"
     ]
    },
    {
     "name": "stderr",
     "output_type": "stream",
     "text": [
      "\r",
      " 10%|█         | 2/20 [00:09<01:30,  5.02s/it]"
     ]
    },
    {
     "name": "stdout",
     "output_type": "stream",
     "text": [
      "('max mins', -1.0, 0.9916817204346738)\n"
     ]
    },
    {
     "name": "stderr",
     "output_type": "stream",
     "text": [
      "\r",
      " 15%|█▌        | 3/20 [00:14<01:22,  4.86s/it]"
     ]
    },
    {
     "name": "stdout",
     "output_type": "stream",
     "text": [
      "('max mins', -1.0, 0.9832754746981707)\n"
     ]
    },
    {
     "name": "stderr",
     "output_type": "stream",
     "text": [
      "\r",
      " 20%|██        | 4/20 [00:18<01:16,  4.76s/it]"
     ]
    },
    {
     "name": "stdout",
     "output_type": "stream",
     "text": [
      "('max mins', -1.0, 0.9966273079495607)\n"
     ]
    },
    {
     "name": "stderr",
     "output_type": "stream",
     "text": [
      "\r",
      " 25%|██▌       | 5/20 [00:24<01:13,  4.90s/it]"
     ]
    },
    {
     "name": "stdout",
     "output_type": "stream",
     "text": [
      "('max mins', -1.0, 0.9947318403602488)\n"
     ]
    },
    {
     "name": "stderr",
     "output_type": "stream",
     "text": [
      "\r",
      " 30%|███       | 6/20 [00:29<01:11,  5.14s/it]"
     ]
    },
    {
     "name": "stdout",
     "output_type": "stream",
     "text": [
      "('max mins', -0.9679249511255772, 1.0)\n"
     ]
    },
    {
     "name": "stderr",
     "output_type": "stream",
     "text": [
      "\r",
      " 35%|███▌      | 7/20 [00:35<01:09,  5.34s/it]"
     ]
    },
    {
     "name": "stdout",
     "output_type": "stream",
     "text": [
      "('max mins', -0.9414557285434305, 1.0)\n"
     ]
    },
    {
     "name": "stderr",
     "output_type": "stream",
     "text": [
      "\r",
      " 40%|████      | 8/20 [00:41<01:06,  5.53s/it]"
     ]
    },
    {
     "name": "stdout",
     "output_type": "stream",
     "text": [
      "('max mins', -0.9536997290119662, 1.0)\n"
     ]
    },
    {
     "name": "stderr",
     "output_type": "stream",
     "text": [
      "\r",
      " 45%|████▌     | 9/20 [00:47<01:00,  5.52s/it]"
     ]
    },
    {
     "name": "stdout",
     "output_type": "stream",
     "text": [
      "('max mins', -0.963978928481249, 1.0)\n"
     ]
    },
    {
     "name": "stderr",
     "output_type": "stream",
     "text": [
      "\r",
      " 50%|█████     | 10/20 [00:52<00:54,  5.45s/it]"
     ]
    },
    {
     "name": "stdout",
     "output_type": "stream",
     "text": [
      "('max mins', -1.0, 0.9687355577573609)\n"
     ]
    },
    {
     "name": "stderr",
     "output_type": "stream",
     "text": [
      "\r",
      " 55%|█████▌    | 11/20 [00:58<00:50,  5.62s/it]"
     ]
    },
    {
     "name": "stdout",
     "output_type": "stream",
     "text": [
      "('max mins', -1.0, 0.9546987452164709)\n"
     ]
    },
    {
     "name": "stderr",
     "output_type": "stream",
     "text": [
      "\r",
      " 60%|██████    | 12/20 [01:03<00:42,  5.37s/it]"
     ]
    },
    {
     "name": "stdout",
     "output_type": "stream",
     "text": [
      "('max mins', -0.9809947712224186, 1.0)\n"
     ]
    },
    {
     "name": "stderr",
     "output_type": "stream",
     "text": [
      "\r",
      " 65%|██████▌   | 13/20 [01:07<00:36,  5.18s/it]"
     ]
    },
    {
     "name": "stdout",
     "output_type": "stream",
     "text": [
      "('max mins', -0.9761683827416775, 1.0)\n"
     ]
    },
    {
     "name": "stderr",
     "output_type": "stream",
     "text": [
      "\r",
      " 70%|███████   | 14/20 [01:13<00:31,  5.22s/it]"
     ]
    },
    {
     "name": "stdout",
     "output_type": "stream",
     "text": [
      "('max mins', -1.0, 0.9979458402066035)\n"
     ]
    },
    {
     "name": "stderr",
     "output_type": "stream",
     "text": [
      "\r",
      " 75%|███████▌  | 15/20 [01:18<00:25,  5.15s/it]"
     ]
    },
    {
     "name": "stdout",
     "output_type": "stream",
     "text": [
      "('max mins', -1.0, 0.9835242294300514)\n"
     ]
    },
    {
     "name": "stderr",
     "output_type": "stream",
     "text": [
      "\r",
      " 80%|████████  | 16/20 [01:22<00:19,  4.98s/it]"
     ]
    },
    {
     "name": "stdout",
     "output_type": "stream",
     "text": [
      "('max mins', -1.0, 0.9794161216354017)\n"
     ]
    },
    {
     "name": "stderr",
     "output_type": "stream",
     "text": [
      "\r",
      " 85%|████████▌ | 17/20 [01:27<00:14,  4.88s/it]"
     ]
    },
    {
     "name": "stdout",
     "output_type": "stream",
     "text": [
      "('max mins', -0.9539498961100137, 1.0)\n"
     ]
    },
    {
     "name": "stderr",
     "output_type": "stream",
     "text": [
      "\r",
      " 90%|█████████ | 18/20 [01:32<00:09,  4.82s/it]"
     ]
    },
    {
     "name": "stdout",
     "output_type": "stream",
     "text": [
      "('max mins', -0.9996854119274982, 1.0)\n"
     ]
    },
    {
     "name": "stderr",
     "output_type": "stream",
     "text": [
      "\r",
      " 95%|█████████▌| 19/20 [01:36<00:04,  4.72s/it]"
     ]
    },
    {
     "name": "stdout",
     "output_type": "stream",
     "text": [
      "('max mins', -1.0, 0.9791724417691637)\n"
     ]
    },
    {
     "name": "stderr",
     "output_type": "stream",
     "text": [
      "100%|██████████| 20/20 [01:41<00:00,  4.69s/it]\n"
     ]
    },
    {
     "name": "stdout",
     "output_type": "stream",
     "text": [
      "('Best file pairs are: ', 'non_spikey_T0000026.WAV*non_spikey_T0000027.WAV')\n",
      "Start and end indices around peak:                  start index: 8742563\t\t          end index: 20242563                  total samples:30015488\n"
     ]
    },
    {
     "name": "stderr",
     "output_type": "stream",
     "text": [
      "../../../bin/audio_for_videoannotation.py:175: UserWarning: The AV sync may not be very great - please check again. The value was :0.263830865089722\n",
      "  warnings.warn(warning_msg, stacklevel=1)\n"
     ]
    },
    {
     "name": "stdout",
     "output_type": "stream",
     "text": [
      "common_fps/Aditya_annotations/2018-08-19/common_fps_video_syncAditya_2018-08-20_0111-0200_112.csv\n",
      "('video_fps obtained is :', 25)\n",
      "Did not find user-provided sample rate - getting it from first file that matches format!\n",
      "('sampling rate is : ', 250000)\n",
      ".....finding best audio segment.....\n"
     ]
    },
    {
     "name": "stderr",
     "output_type": "stream",
     "text": [
      "\r",
      "  0%|          | 0/20 [00:00<?, ?it/s]"
     ]
    },
    {
     "name": "stdout",
     "output_type": "stream",
     "text": [
      "('max mins for upsampled video', -1.0, 0.9670335659483864)\n",
      "('max mins', -0.9604330112349305, 1.0)\n"
     ]
    },
    {
     "name": "stderr",
     "output_type": "stream",
     "text": [
      "\r",
      "  5%|▌         | 1/20 [00:04<01:24,  4.46s/it]"
     ]
    },
    {
     "name": "stdout",
     "output_type": "stream",
     "text": [
      "('max mins', -1.0, 0.9813355482916202)\n"
     ]
    },
    {
     "name": "stderr",
     "output_type": "stream",
     "text": [
      "\r",
      " 10%|█         | 2/20 [00:09<01:21,  4.54s/it]"
     ]
    },
    {
     "name": "stdout",
     "output_type": "stream",
     "text": [
      "('max mins', -1.0, 0.9916817204346738)\n"
     ]
    },
    {
     "name": "stderr",
     "output_type": "stream",
     "text": [
      "\r",
      " 15%|█▌        | 3/20 [00:14<01:18,  4.64s/it]"
     ]
    },
    {
     "name": "stdout",
     "output_type": "stream",
     "text": [
      "('max mins', -1.0, 0.9832754746981707)\n"
     ]
    },
    {
     "name": "stderr",
     "output_type": "stream",
     "text": [
      "\r",
      " 20%|██        | 4/20 [00:18<01:13,  4.61s/it]"
     ]
    },
    {
     "name": "stdout",
     "output_type": "stream",
     "text": [
      "('max mins', -1.0, 0.9966273079495607)\n"
     ]
    },
    {
     "name": "stderr",
     "output_type": "stream",
     "text": [
      "\r",
      " 25%|██▌       | 5/20 [00:23<01:09,  4.62s/it]"
     ]
    },
    {
     "name": "stdout",
     "output_type": "stream",
     "text": [
      "('max mins', -1.0, 0.9947318403602488)\n"
     ]
    },
    {
     "name": "stderr",
     "output_type": "stream",
     "text": [
      "\r",
      " 30%|███       | 6/20 [00:27<01:04,  4.60s/it]"
     ]
    },
    {
     "name": "stdout",
     "output_type": "stream",
     "text": [
      "('max mins', -0.9679249511255772, 1.0)\n"
     ]
    },
    {
     "name": "stderr",
     "output_type": "stream",
     "text": [
      "\r",
      " 35%|███▌      | 7/20 [00:32<01:01,  4.73s/it]"
     ]
    },
    {
     "name": "stdout",
     "output_type": "stream",
     "text": [
      "('max mins', -0.9414557285434305, 1.0)\n"
     ]
    },
    {
     "name": "stderr",
     "output_type": "stream",
     "text": [
      "\r",
      " 40%|████      | 8/20 [00:38<01:00,  5.02s/it]"
     ]
    },
    {
     "name": "stdout",
     "output_type": "stream",
     "text": [
      "('max mins', -0.9536997290119662, 1.0)\n"
     ]
    },
    {
     "name": "stderr",
     "output_type": "stream",
     "text": [
      "\r",
      " 45%|████▌     | 9/20 [00:43<00:53,  4.91s/it]"
     ]
    },
    {
     "name": "stdout",
     "output_type": "stream",
     "text": [
      "('max mins', -0.963978928481249, 1.0)\n"
     ]
    },
    {
     "name": "stderr",
     "output_type": "stream",
     "text": [
      "\r",
      " 50%|█████     | 10/20 [00:48<00:48,  4.90s/it]"
     ]
    },
    {
     "name": "stdout",
     "output_type": "stream",
     "text": [
      "('max mins', -1.0, 0.9687355577573609)\n"
     ]
    },
    {
     "name": "stderr",
     "output_type": "stream",
     "text": [
      "\r",
      " 55%|█████▌    | 11/20 [00:53<00:45,  5.06s/it]"
     ]
    },
    {
     "name": "stdout",
     "output_type": "stream",
     "text": [
      "('max mins', -1.0, 0.9546987452164709)\n"
     ]
    },
    {
     "name": "stderr",
     "output_type": "stream",
     "text": [
      "\r",
      " 60%|██████    | 12/20 [00:58<00:39,  4.92s/it]"
     ]
    },
    {
     "name": "stdout",
     "output_type": "stream",
     "text": [
      "('max mins', -0.9809947712224186, 1.0)\n"
     ]
    },
    {
     "name": "stderr",
     "output_type": "stream",
     "text": [
      "\r",
      " 65%|██████▌   | 13/20 [01:02<00:33,  4.80s/it]"
     ]
    },
    {
     "name": "stdout",
     "output_type": "stream",
     "text": [
      "('max mins', -0.9761683827416775, 1.0)\n"
     ]
    },
    {
     "name": "stderr",
     "output_type": "stream",
     "text": [
      "\r",
      " 70%|███████   | 14/20 [01:07<00:28,  4.76s/it]"
     ]
    },
    {
     "name": "stdout",
     "output_type": "stream",
     "text": [
      "('max mins', -1.0, 0.9979458402066035)\n"
     ]
    },
    {
     "name": "stderr",
     "output_type": "stream",
     "text": [
      "\r",
      " 75%|███████▌  | 15/20 [01:12<00:24,  4.97s/it]"
     ]
    },
    {
     "name": "stdout",
     "output_type": "stream",
     "text": [
      "('max mins', -1.0, 0.9835242294300514)\n"
     ]
    },
    {
     "name": "stderr",
     "output_type": "stream",
     "text": [
      "\r",
      " 80%|████████  | 16/20 [01:18<00:20,  5.12s/it]"
     ]
    },
    {
     "name": "stdout",
     "output_type": "stream",
     "text": [
      "('max mins', -1.0, 0.9794161216354017)\n"
     ]
    },
    {
     "name": "stderr",
     "output_type": "stream",
     "text": [
      "\r",
      " 85%|████████▌ | 17/20 [01:23<00:15,  5.15s/it]"
     ]
    },
    {
     "name": "stdout",
     "output_type": "stream",
     "text": [
      "('max mins', -0.9539498961100137, 1.0)\n"
     ]
    },
    {
     "name": "stderr",
     "output_type": "stream",
     "text": [
      "\r",
      " 90%|█████████ | 18/20 [01:28<00:10,  5.25s/it]"
     ]
    },
    {
     "name": "stdout",
     "output_type": "stream",
     "text": [
      "('max mins', -0.9996854119274982, 1.0)\n"
     ]
    },
    {
     "name": "stderr",
     "output_type": "stream",
     "text": [
      "\r",
      " 95%|█████████▌| 19/20 [01:33<00:05,  5.10s/it]"
     ]
    },
    {
     "name": "stdout",
     "output_type": "stream",
     "text": [
      "('max mins', -1.0, 0.9791724417691637)\n"
     ]
    },
    {
     "name": "stderr",
     "output_type": "stream",
     "text": [
      "100%|██████████| 20/20 [01:38<00:00,  4.99s/it]\n"
     ]
    },
    {
     "name": "stdout",
     "output_type": "stream",
     "text": [
      "('Best file pairs are: ', 'non_spikey_T0000021.WAV*non_spikey_T0000022.WAV')\n",
      "Start and end indices around peak:                  start index: 13206605\t\t          end index: 24706605                  total samples:30015488\n"
     ]
    },
    {
     "name": "stderr",
     "output_type": "stream",
     "text": [
      "../../../bin/audio_for_videoannotation.py:175: UserWarning: The AV sync may not be very great - please check again. The value was :0.2069682078730699\n",
      "  warnings.warn(warning_msg, stacklevel=1)\n"
     ]
    },
    {
     "name": "stdout",
     "output_type": "stream",
     "text": [
      "common_fps/Aditya_annotations/2018-08-19/common_fps_video_syncAditya_2018-08-20_0111-0200_113.csv\n",
      "('video_fps obtained is :', 25)\n",
      "Did not find user-provided sample rate - getting it from first file that matches format!\n",
      "('sampling rate is : ', 250000)\n",
      ".....finding best audio segment.....\n"
     ]
    },
    {
     "name": "stderr",
     "output_type": "stream",
     "text": [
      "\r",
      "  0%|          | 0/20 [00:00<?, ?it/s]"
     ]
    },
    {
     "name": "stdout",
     "output_type": "stream",
     "text": [
      "('max mins for upsampled video', -0.8788749408501245, 1.0)\n",
      "('max mins', -0.9604330112349305, 1.0)\n"
     ]
    },
    {
     "name": "stderr",
     "output_type": "stream",
     "text": [
      "\r",
      "  5%|▌         | 1/20 [00:04<01:26,  4.56s/it]"
     ]
    },
    {
     "name": "stdout",
     "output_type": "stream",
     "text": [
      "('max mins', -1.0, 0.9813355482916202)\n"
     ]
    },
    {
     "name": "stderr",
     "output_type": "stream",
     "text": [
      "\r",
      " 10%|█         | 2/20 [00:09<01:22,  4.58s/it]"
     ]
    },
    {
     "name": "stdout",
     "output_type": "stream",
     "text": [
      "('max mins', -1.0, 0.9916817204346738)\n"
     ]
    },
    {
     "name": "stderr",
     "output_type": "stream",
     "text": [
      "\r",
      " 15%|█▌        | 3/20 [00:13<01:18,  4.60s/it]"
     ]
    },
    {
     "name": "stdout",
     "output_type": "stream",
     "text": [
      "('max mins', -1.0, 0.9832754746981707)\n"
     ]
    },
    {
     "name": "stderr",
     "output_type": "stream",
     "text": [
      "\r",
      " 20%|██        | 4/20 [00:18<01:14,  4.63s/it]"
     ]
    },
    {
     "name": "stdout",
     "output_type": "stream",
     "text": [
      "('max mins', -1.0, 0.9966273079495607)\n"
     ]
    },
    {
     "name": "stderr",
     "output_type": "stream",
     "text": [
      "\r",
      " 25%|██▌       | 5/20 [00:23<01:10,  4.68s/it]"
     ]
    },
    {
     "name": "stdout",
     "output_type": "stream",
     "text": [
      "('max mins', -1.0, 0.9947318403602488)\n"
     ]
    },
    {
     "name": "stderr",
     "output_type": "stream",
     "text": [
      "\r",
      " 30%|███       | 6/20 [00:27<01:05,  4.66s/it]"
     ]
    },
    {
     "name": "stdout",
     "output_type": "stream",
     "text": [
      "('max mins', -0.9679249511255772, 1.0)\n"
     ]
    },
    {
     "name": "stderr",
     "output_type": "stream",
     "text": [
      "\r",
      " 35%|███▌      | 7/20 [00:32<01:00,  4.64s/it]"
     ]
    },
    {
     "name": "stdout",
     "output_type": "stream",
     "text": [
      "('max mins', -0.9414557285434305, 1.0)\n"
     ]
    },
    {
     "name": "stderr",
     "output_type": "stream",
     "text": [
      "\r",
      " 40%|████      | 8/20 [00:37<00:56,  4.71s/it]"
     ]
    },
    {
     "name": "stdout",
     "output_type": "stream",
     "text": [
      "('max mins', -0.9536997290119662, 1.0)\n"
     ]
    },
    {
     "name": "stderr",
     "output_type": "stream",
     "text": [
      "\r",
      " 45%|████▌     | 9/20 [00:42<00:52,  4.76s/it]"
     ]
    },
    {
     "name": "stdout",
     "output_type": "stream",
     "text": [
      "('max mins', -0.963978928481249, 1.0)\n"
     ]
    },
    {
     "name": "stderr",
     "output_type": "stream",
     "text": [
      "\r",
      " 50%|█████     | 10/20 [00:46<00:47,  4.71s/it]"
     ]
    },
    {
     "name": "stdout",
     "output_type": "stream",
     "text": [
      "('max mins', -1.0, 0.9687355577573609)\n"
     ]
    },
    {
     "name": "stderr",
     "output_type": "stream",
     "text": [
      "\r",
      " 55%|█████▌    | 11/20 [00:51<00:41,  4.66s/it]"
     ]
    },
    {
     "name": "stdout",
     "output_type": "stream",
     "text": [
      "('max mins', -1.0, 0.9546987452164709)\n"
     ]
    },
    {
     "name": "stderr",
     "output_type": "stream",
     "text": [
      "\r",
      " 60%|██████    | 12/20 [00:56<00:37,  4.67s/it]"
     ]
    },
    {
     "name": "stdout",
     "output_type": "stream",
     "text": [
      "('max mins', -0.9809947712224186, 1.0)\n"
     ]
    },
    {
     "name": "stderr",
     "output_type": "stream",
     "text": [
      "\r",
      " 65%|██████▌   | 13/20 [01:01<00:33,  4.77s/it]"
     ]
    },
    {
     "name": "stdout",
     "output_type": "stream",
     "text": [
      "('max mins', -0.9761683827416775, 1.0)\n"
     ]
    },
    {
     "name": "stderr",
     "output_type": "stream",
     "text": [
      "\r",
      " 70%|███████   | 14/20 [01:05<00:28,  4.68s/it]"
     ]
    },
    {
     "name": "stdout",
     "output_type": "stream",
     "text": [
      "('max mins', -1.0, 0.9979458402066035)\n"
     ]
    },
    {
     "name": "stderr",
     "output_type": "stream",
     "text": [
      "\r",
      " 75%|███████▌  | 15/20 [01:10<00:23,  4.64s/it]"
     ]
    },
    {
     "name": "stdout",
     "output_type": "stream",
     "text": [
      "('max mins', -1.0, 0.9835242294300514)\n"
     ]
    },
    {
     "name": "stderr",
     "output_type": "stream",
     "text": [
      "\r",
      " 80%|████████  | 16/20 [01:14<00:18,  4.61s/it]"
     ]
    },
    {
     "name": "stdout",
     "output_type": "stream",
     "text": [
      "('max mins', -1.0, 0.9794161216354017)\n"
     ]
    },
    {
     "name": "stderr",
     "output_type": "stream",
     "text": [
      "\r",
      " 85%|████████▌ | 17/20 [01:19<00:13,  4.62s/it]"
     ]
    },
    {
     "name": "stdout",
     "output_type": "stream",
     "text": [
      "('max mins', -0.9539498961100137, 1.0)\n"
     ]
    },
    {
     "name": "stderr",
     "output_type": "stream",
     "text": [
      "\r",
      " 90%|█████████ | 18/20 [01:23<00:09,  4.64s/it]"
     ]
    },
    {
     "name": "stdout",
     "output_type": "stream",
     "text": [
      "('max mins', -0.9996854119274982, 1.0)\n"
     ]
    },
    {
     "name": "stderr",
     "output_type": "stream",
     "text": [
      "\r",
      " 95%|█████████▌| 19/20 [01:29<00:04,  4.78s/it]"
     ]
    },
    {
     "name": "stdout",
     "output_type": "stream",
     "text": [
      "('max mins', -1.0, 0.9791724417691637)\n"
     ]
    },
    {
     "name": "stderr",
     "output_type": "stream",
     "text": [
      "100%|██████████| 20/20 [01:33<00:00,  4.68s/it]\n"
     ]
    },
    {
     "name": "stdout",
     "output_type": "stream",
     "text": [
      "('Best file pairs are: ', 'non_spikey_T0000015.WAV*non_spikey_T0000016.WAV')\n",
      "Start and end indices around peak:                  start index: 8987215\t\t          end index: 20487215                  total samples:30015488\n"
     ]
    },
    {
     "name": "stderr",
     "output_type": "stream",
     "text": [
      "../../../bin/audio_for_videoannotation.py:175: UserWarning: The AV sync may not be very great - please check again. The value was :0.19546133121578887\n",
      "  warnings.warn(warning_msg, stacklevel=1)\n"
     ]
    },
    {
     "name": "stdout",
     "output_type": "stream",
     "text": [
      "common_fps/Aditya_annotations/2018-08-19/common_fps_video_syncAditya_2018-08-20_0111-0200_114.csv\n",
      "('video_fps obtained is :', 25)\n",
      "Did not find user-provided sample rate - getting it from first file that matches format!\n",
      "('sampling rate is : ', 250000)\n",
      ".....finding best audio segment.....\n"
     ]
    },
    {
     "name": "stderr",
     "output_type": "stream",
     "text": [
      "\r",
      "  0%|          | 0/20 [00:00<?, ?it/s]"
     ]
    },
    {
     "name": "stdout",
     "output_type": "stream",
     "text": [
      "('max mins for upsampled video', -0.8740030176141925, 1.0)\n",
      "('max mins', -0.9604330112349305, 1.0)\n"
     ]
    },
    {
     "name": "stderr",
     "output_type": "stream",
     "text": [
      "\r",
      "  5%|▌         | 1/20 [00:04<01:22,  4.37s/it]"
     ]
    },
    {
     "name": "stdout",
     "output_type": "stream",
     "text": [
      "('max mins', -1.0, 0.9813355482916202)\n"
     ]
    },
    {
     "name": "stderr",
     "output_type": "stream",
     "text": [
      "\r",
      " 10%|█         | 2/20 [00:08<01:18,  4.38s/it]"
     ]
    },
    {
     "name": "stdout",
     "output_type": "stream",
     "text": [
      "('max mins', -1.0, 0.9916817204346738)\n"
     ]
    },
    {
     "name": "stderr",
     "output_type": "stream",
     "text": [
      "\r",
      " 15%|█▌        | 3/20 [00:13<01:14,  4.38s/it]"
     ]
    },
    {
     "name": "stdout",
     "output_type": "stream",
     "text": [
      "('max mins', -1.0, 0.9832754746981707)\n"
     ]
    },
    {
     "name": "stderr",
     "output_type": "stream",
     "text": [
      "\r",
      " 20%|██        | 4/20 [00:17<01:10,  4.38s/it]"
     ]
    },
    {
     "name": "stdout",
     "output_type": "stream",
     "text": [
      "('max mins', -1.0, 0.9966273079495607)\n"
     ]
    },
    {
     "name": "stderr",
     "output_type": "stream",
     "text": [
      "\r",
      " 25%|██▌       | 5/20 [00:21<01:05,  4.39s/it]"
     ]
    },
    {
     "name": "stdout",
     "output_type": "stream",
     "text": [
      "('max mins', -1.0, 0.9947318403602488)\n"
     ]
    },
    {
     "name": "stderr",
     "output_type": "stream",
     "text": [
      "\r",
      " 30%|███       | 6/20 [00:26<01:01,  4.38s/it]"
     ]
    },
    {
     "name": "stdout",
     "output_type": "stream",
     "text": [
      "('max mins', -0.9679249511255772, 1.0)\n"
     ]
    },
    {
     "name": "stderr",
     "output_type": "stream",
     "text": [
      "\r",
      " 35%|███▌      | 7/20 [00:30<00:57,  4.39s/it]"
     ]
    },
    {
     "name": "stdout",
     "output_type": "stream",
     "text": [
      "('max mins', -0.9414557285434305, 1.0)\n"
     ]
    },
    {
     "name": "stderr",
     "output_type": "stream",
     "text": [
      "\r",
      " 40%|████      | 8/20 [00:35<00:52,  4.39s/it]"
     ]
    },
    {
     "name": "stdout",
     "output_type": "stream",
     "text": [
      "('max mins', -0.9536997290119662, 1.0)\n"
     ]
    },
    {
     "name": "stderr",
     "output_type": "stream",
     "text": [
      "\r",
      " 45%|████▌     | 9/20 [00:39<00:48,  4.39s/it]"
     ]
    },
    {
     "name": "stdout",
     "output_type": "stream",
     "text": [
      "('max mins', -0.963978928481249, 1.0)\n"
     ]
    },
    {
     "name": "stderr",
     "output_type": "stream",
     "text": [
      "\r",
      " 50%|█████     | 10/20 [00:43<00:43,  4.39s/it]"
     ]
    },
    {
     "name": "stdout",
     "output_type": "stream",
     "text": [
      "('max mins', -1.0, 0.9687355577573609)\n"
     ]
    },
    {
     "name": "stderr",
     "output_type": "stream",
     "text": [
      "\r",
      " 55%|█████▌    | 11/20 [00:48<00:39,  4.38s/it]"
     ]
    },
    {
     "name": "stdout",
     "output_type": "stream",
     "text": [
      "('max mins', -1.0, 0.9546987452164709)\n"
     ]
    },
    {
     "name": "stderr",
     "output_type": "stream",
     "text": [
      "\r",
      " 60%|██████    | 12/20 [00:52<00:35,  4.38s/it]"
     ]
    },
    {
     "name": "stdout",
     "output_type": "stream",
     "text": [
      "('max mins', -0.9809947712224186, 1.0)\n"
     ]
    },
    {
     "name": "stderr",
     "output_type": "stream",
     "text": [
      "\r",
      " 65%|██████▌   | 13/20 [00:57<00:30,  4.38s/it]"
     ]
    },
    {
     "name": "stdout",
     "output_type": "stream",
     "text": [
      "('max mins', -0.9761683827416775, 1.0)\n"
     ]
    },
    {
     "name": "stderr",
     "output_type": "stream",
     "text": [
      "\r",
      " 70%|███████   | 14/20 [01:01<00:26,  4.38s/it]"
     ]
    },
    {
     "name": "stdout",
     "output_type": "stream",
     "text": [
      "('max mins', -1.0, 0.9979458402066035)\n"
     ]
    },
    {
     "name": "stderr",
     "output_type": "stream",
     "text": [
      "\r",
      " 75%|███████▌  | 15/20 [01:05<00:21,  4.38s/it]"
     ]
    },
    {
     "name": "stdout",
     "output_type": "stream",
     "text": [
      "('max mins', -1.0, 0.9835242294300514)\n"
     ]
    },
    {
     "name": "stderr",
     "output_type": "stream",
     "text": [
      "\r",
      " 80%|████████  | 16/20 [01:10<00:17,  4.38s/it]"
     ]
    },
    {
     "name": "stdout",
     "output_type": "stream",
     "text": [
      "('max mins', -1.0, 0.9794161216354017)\n"
     ]
    },
    {
     "name": "stderr",
     "output_type": "stream",
     "text": [
      "\r",
      " 85%|████████▌ | 17/20 [01:14<00:13,  4.38s/it]"
     ]
    },
    {
     "name": "stdout",
     "output_type": "stream",
     "text": [
      "('max mins', -0.9539498961100137, 1.0)\n"
     ]
    },
    {
     "name": "stderr",
     "output_type": "stream",
     "text": [
      "\r",
      " 90%|█████████ | 18/20 [01:19<00:08,  4.43s/it]"
     ]
    },
    {
     "name": "stdout",
     "output_type": "stream",
     "text": [
      "('max mins', -0.9996854119274982, 1.0)\n"
     ]
    },
    {
     "name": "stderr",
     "output_type": "stream",
     "text": [
      "\r",
      " 95%|█████████▌| 19/20 [01:23<00:04,  4.51s/it]"
     ]
    },
    {
     "name": "stdout",
     "output_type": "stream",
     "text": [
      "('max mins', -1.0, 0.9791724417691637)\n"
     ]
    },
    {
     "name": "stderr",
     "output_type": "stream",
     "text": [
      "100%|██████████| 20/20 [01:28<00:00,  4.47s/it]\n"
     ]
    },
    {
     "name": "stdout",
     "output_type": "stream",
     "text": [
      "('Best file pairs are: ', 'non_spikey_T0000028.WAV*non_spikey_T0000029.WAV')\n",
      "Unable to get proper audio match for video segment!\n",
      "('Could not save ', 'common_fps/Aditya_annotations/2018-08-19/common_fps_video_syncAditya_2018-08-20_0111-0200_114.csv')\n",
      "common_fps/Aditya_annotations/2018-08-19/common_fps_video_syncAditya_2018-08-20_0111-0200_115.csv\n",
      "('video_fps obtained is :', 25)\n",
      "Did not find user-provided sample rate - getting it from first file that matches format!\n",
      "('sampling rate is : ', 250000)\n",
      ".....finding best audio segment.....\n"
     ]
    },
    {
     "name": "stderr",
     "output_type": "stream",
     "text": [
      "\r",
      "  0%|          | 0/20 [00:00<?, ?it/s]"
     ]
    },
    {
     "name": "stdout",
     "output_type": "stream",
     "text": [
      "('max mins for upsampled video', -0.8738336812212858, 1.0)\n",
      "('max mins', -0.9604330112349305, 1.0)\n"
     ]
    },
    {
     "name": "stderr",
     "output_type": "stream",
     "text": [
      "\r",
      "  5%|▌         | 1/20 [00:04<01:22,  4.36s/it]"
     ]
    },
    {
     "name": "stdout",
     "output_type": "stream",
     "text": [
      "('max mins', -1.0, 0.9813355482916202)\n"
     ]
    },
    {
     "name": "stderr",
     "output_type": "stream",
     "text": [
      "\r",
      " 10%|█         | 2/20 [00:08<01:18,  4.37s/it]"
     ]
    },
    {
     "name": "stdout",
     "output_type": "stream",
     "text": [
      "('max mins', -1.0, 0.9916817204346738)\n"
     ]
    },
    {
     "name": "stderr",
     "output_type": "stream",
     "text": [
      "\r",
      " 15%|█▌        | 3/20 [00:13<01:14,  4.38s/it]"
     ]
    },
    {
     "name": "stdout",
     "output_type": "stream",
     "text": [
      "('max mins', -1.0, 0.9832754746981707)\n"
     ]
    },
    {
     "name": "stderr",
     "output_type": "stream",
     "text": [
      "\r",
      " 20%|██        | 4/20 [00:17<01:10,  4.39s/it]"
     ]
    },
    {
     "name": "stdout",
     "output_type": "stream",
     "text": [
      "('max mins', -1.0, 0.9966273079495607)\n"
     ]
    },
    {
     "name": "stderr",
     "output_type": "stream",
     "text": [
      "\r",
      " 25%|██▌       | 5/20 [00:22<01:06,  4.45s/it]"
     ]
    },
    {
     "name": "stdout",
     "output_type": "stream",
     "text": [
      "('max mins', -1.0, 0.9947318403602488)\n"
     ]
    },
    {
     "name": "stderr",
     "output_type": "stream",
     "text": [
      "\r",
      " 30%|███       | 6/20 [00:26<01:02,  4.44s/it]"
     ]
    },
    {
     "name": "stdout",
     "output_type": "stream",
     "text": [
      "('max mins', -0.9679249511255772, 1.0)\n"
     ]
    },
    {
     "name": "stderr",
     "output_type": "stream",
     "text": [
      "\r",
      " 35%|███▌      | 7/20 [00:30<00:57,  4.42s/it]"
     ]
    },
    {
     "name": "stdout",
     "output_type": "stream",
     "text": [
      "('max mins', -0.9414557285434305, 1.0)\n"
     ]
    },
    {
     "name": "stderr",
     "output_type": "stream",
     "text": [
      "\r",
      " 40%|████      | 8/20 [00:35<00:53,  4.42s/it]"
     ]
    },
    {
     "name": "stdout",
     "output_type": "stream",
     "text": [
      "('max mins', -0.9536997290119662, 1.0)\n"
     ]
    },
    {
     "name": "stderr",
     "output_type": "stream",
     "text": [
      "\r",
      " 45%|████▌     | 9/20 [00:39<00:48,  4.41s/it]"
     ]
    },
    {
     "name": "stdout",
     "output_type": "stream",
     "text": [
      "('max mins', -0.963978928481249, 1.0)\n"
     ]
    },
    {
     "name": "stderr",
     "output_type": "stream",
     "text": [
      "\r",
      " 50%|█████     | 10/20 [00:44<00:44,  4.41s/it]"
     ]
    },
    {
     "name": "stdout",
     "output_type": "stream",
     "text": [
      "('max mins', -1.0, 0.9687355577573609)\n"
     ]
    },
    {
     "name": "stderr",
     "output_type": "stream",
     "text": [
      "\r",
      " 55%|█████▌    | 11/20 [00:48<00:39,  4.41s/it]"
     ]
    },
    {
     "name": "stdout",
     "output_type": "stream",
     "text": [
      "('max mins', -1.0, 0.9546987452164709)\n"
     ]
    },
    {
     "name": "stderr",
     "output_type": "stream",
     "text": [
      "\r",
      " 60%|██████    | 12/20 [00:52<00:35,  4.41s/it]"
     ]
    },
    {
     "name": "stdout",
     "output_type": "stream",
     "text": [
      "('max mins', -0.9809947712224186, 1.0)\n"
     ]
    },
    {
     "name": "stderr",
     "output_type": "stream",
     "text": [
      "\r",
      " 65%|██████▌   | 13/20 [00:57<00:30,  4.41s/it]"
     ]
    },
    {
     "name": "stdout",
     "output_type": "stream",
     "text": [
      "('max mins', -0.9761683827416775, 1.0)\n"
     ]
    },
    {
     "name": "stderr",
     "output_type": "stream",
     "text": [
      "\r",
      " 70%|███████   | 14/20 [01:01<00:26,  4.40s/it]"
     ]
    },
    {
     "name": "stdout",
     "output_type": "stream",
     "text": [
      "('max mins', -1.0, 0.9979458402066035)\n"
     ]
    },
    {
     "name": "stderr",
     "output_type": "stream",
     "text": [
      "\r",
      " 75%|███████▌  | 15/20 [01:06<00:21,  4.40s/it]"
     ]
    },
    {
     "name": "stdout",
     "output_type": "stream",
     "text": [
      "('max mins', -1.0, 0.9835242294300514)\n"
     ]
    },
    {
     "name": "stderr",
     "output_type": "stream",
     "text": [
      "\r",
      " 80%|████████  | 16/20 [01:10<00:17,  4.39s/it]"
     ]
    },
    {
     "name": "stdout",
     "output_type": "stream",
     "text": [
      "('max mins', -1.0, 0.9794161216354017)\n"
     ]
    },
    {
     "name": "stderr",
     "output_type": "stream",
     "text": [
      "\r",
      " 85%|████████▌ | 17/20 [01:14<00:13,  4.39s/it]"
     ]
    },
    {
     "name": "stdout",
     "output_type": "stream",
     "text": [
      "('max mins', -0.9539498961100137, 1.0)\n"
     ]
    },
    {
     "name": "stderr",
     "output_type": "stream",
     "text": [
      "\r",
      " 90%|█████████ | 18/20 [01:19<00:08,  4.39s/it]"
     ]
    },
    {
     "name": "stdout",
     "output_type": "stream",
     "text": [
      "('max mins', -0.9996854119274982, 1.0)\n"
     ]
    },
    {
     "name": "stderr",
     "output_type": "stream",
     "text": [
      "\r",
      " 95%|█████████▌| 19/20 [01:23<00:04,  4.39s/it]"
     ]
    },
    {
     "name": "stdout",
     "output_type": "stream",
     "text": [
      "('max mins', -1.0, 0.9791724417691637)\n"
     ]
    },
    {
     "name": "stderr",
     "output_type": "stream",
     "text": [
      "100%|██████████| 20/20 [01:28<00:00,  4.40s/it]\n"
     ]
    },
    {
     "name": "stdout",
     "output_type": "stream",
     "text": [
      "('Best file pairs are: ', 'non_spikey_T0000023.WAV*non_spikey_T0000024.WAV')\n",
      "Start and end indices around peak:                  start index: 8495850\t\t          end index: 19995850                  total samples:30015488\n"
     ]
    },
    {
     "name": "stderr",
     "output_type": "stream",
     "text": [
      "../../../bin/audio_for_videoannotation.py:175: UserWarning: The AV sync may not be very great - please check again. The value was :0.2169583185791494\n",
      "  warnings.warn(warning_msg, stacklevel=1)\n"
     ]
    },
    {
     "name": "stdout",
     "output_type": "stream",
     "text": [
      "common_fps/Aditya_annotations/2018-08-19/common_fps_video_syncAditya_2018-08-20_0111-0200_116.csv\n",
      "('video_fps obtained is :', 25)\n",
      "Did not find user-provided sample rate - getting it from first file that matches format!\n",
      "('sampling rate is : ', 250000)\n",
      ".....finding best audio segment.....\n"
     ]
    },
    {
     "name": "stderr",
     "output_type": "stream",
     "text": [
      "\r",
      "  0%|          | 0/20 [00:00<?, ?it/s]"
     ]
    },
    {
     "name": "stdout",
     "output_type": "stream",
     "text": [
      "('max mins for upsampled video', -0.8765137952435345, 1.0)\n",
      "('max mins', -0.9604330112349305, 1.0)\n"
     ]
    },
    {
     "name": "stderr",
     "output_type": "stream",
     "text": [
      "\r",
      "  5%|▌         | 1/20 [00:04<01:22,  4.35s/it]"
     ]
    },
    {
     "name": "stdout",
     "output_type": "stream",
     "text": [
      "('max mins', -1.0, 0.9813355482916202)\n"
     ]
    },
    {
     "name": "stderr",
     "output_type": "stream",
     "text": [
      "\r",
      " 10%|█         | 2/20 [00:08<01:18,  4.36s/it]"
     ]
    },
    {
     "name": "stdout",
     "output_type": "stream",
     "text": [
      "('max mins', -1.0, 0.9916817204346738)\n"
     ]
    },
    {
     "name": "stderr",
     "output_type": "stream",
     "text": [
      "\r",
      " 15%|█▌        | 3/20 [00:13<01:14,  4.38s/it]"
     ]
    },
    {
     "name": "stdout",
     "output_type": "stream",
     "text": [
      "('max mins', -1.0, 0.9832754746981707)\n"
     ]
    },
    {
     "name": "stderr",
     "output_type": "stream",
     "text": [
      "\r",
      " 20%|██        | 4/20 [00:17<01:10,  4.43s/it]"
     ]
    },
    {
     "name": "stdout",
     "output_type": "stream",
     "text": [
      "('max mins', -1.0, 0.9966273079495607)\n"
     ]
    },
    {
     "name": "stderr",
     "output_type": "stream",
     "text": [
      "\r",
      " 25%|██▌       | 5/20 [00:22<01:07,  4.51s/it]"
     ]
    },
    {
     "name": "stdout",
     "output_type": "stream",
     "text": [
      "('max mins', -1.0, 0.9947318403602488)\n"
     ]
    },
    {
     "name": "stderr",
     "output_type": "stream",
     "text": [
      "\r",
      " 30%|███       | 6/20 [00:26<01:02,  4.47s/it]"
     ]
    },
    {
     "name": "stdout",
     "output_type": "stream",
     "text": [
      "('max mins', -0.9679249511255772, 1.0)\n"
     ]
    },
    {
     "name": "stderr",
     "output_type": "stream",
     "text": [
      "\r",
      " 35%|███▌      | 7/20 [00:31<00:57,  4.45s/it]"
     ]
    },
    {
     "name": "stdout",
     "output_type": "stream",
     "text": [
      "('max mins', -0.9414557285434305, 1.0)\n"
     ]
    },
    {
     "name": "stderr",
     "output_type": "stream",
     "text": [
      "\r",
      " 40%|████      | 8/20 [00:35<00:53,  4.43s/it]"
     ]
    },
    {
     "name": "stdout",
     "output_type": "stream",
     "text": [
      "('max mins', -0.9536997290119662, 1.0)\n"
     ]
    },
    {
     "name": "stderr",
     "output_type": "stream",
     "text": [
      "\r",
      " 45%|████▌     | 9/20 [00:40<00:48,  4.43s/it]"
     ]
    },
    {
     "name": "stdout",
     "output_type": "stream",
     "text": [
      "('max mins', -0.963978928481249, 1.0)\n"
     ]
    },
    {
     "name": "stderr",
     "output_type": "stream",
     "text": [
      "\r",
      " 50%|█████     | 10/20 [00:44<00:44,  4.46s/it]"
     ]
    },
    {
     "name": "stdout",
     "output_type": "stream",
     "text": [
      "('max mins', -1.0, 0.9687355577573609)\n"
     ]
    },
    {
     "name": "stderr",
     "output_type": "stream",
     "text": [
      "\r",
      " 55%|█████▌    | 11/20 [00:48<00:39,  4.44s/it]"
     ]
    },
    {
     "name": "stdout",
     "output_type": "stream",
     "text": [
      "('max mins', -1.0, 0.9546987452164709)\n"
     ]
    },
    {
     "name": "stderr",
     "output_type": "stream",
     "text": [
      "\r",
      " 60%|██████    | 12/20 [00:53<00:35,  4.42s/it]"
     ]
    },
    {
     "name": "stdout",
     "output_type": "stream",
     "text": [
      "('max mins', -0.9809947712224186, 1.0)\n"
     ]
    },
    {
     "name": "stderr",
     "output_type": "stream",
     "text": [
      "\r",
      " 65%|██████▌   | 13/20 [00:57<00:30,  4.41s/it]"
     ]
    },
    {
     "name": "stdout",
     "output_type": "stream",
     "text": [
      "('max mins', -0.9761683827416775, 1.0)\n"
     ]
    },
    {
     "name": "stderr",
     "output_type": "stream",
     "text": [
      "\r",
      " 70%|███████   | 14/20 [01:02<00:26,  4.40s/it]"
     ]
    },
    {
     "name": "stdout",
     "output_type": "stream",
     "text": [
      "('max mins', -1.0, 0.9979458402066035)\n"
     ]
    },
    {
     "name": "stderr",
     "output_type": "stream",
     "text": [
      "\r",
      " 75%|███████▌  | 15/20 [01:07<00:23,  4.75s/it]"
     ]
    },
    {
     "name": "stdout",
     "output_type": "stream",
     "text": [
      "('max mins', -1.0, 0.9835242294300514)\n"
     ]
    },
    {
     "name": "stderr",
     "output_type": "stream",
     "text": [
      "\r",
      " 80%|████████  | 16/20 [01:12<00:18,  4.70s/it]"
     ]
    },
    {
     "name": "stdout",
     "output_type": "stream",
     "text": [
      "('max mins', -1.0, 0.9794161216354017)\n"
     ]
    },
    {
     "name": "stderr",
     "output_type": "stream",
     "text": [
      "\r",
      " 85%|████████▌ | 17/20 [01:16<00:13,  4.62s/it]"
     ]
    },
    {
     "name": "stdout",
     "output_type": "stream",
     "text": [
      "('max mins', -0.9539498961100137, 1.0)\n"
     ]
    },
    {
     "name": "stderr",
     "output_type": "stream",
     "text": [
      "\r",
      " 90%|█████████ | 18/20 [01:21<00:09,  4.63s/it]"
     ]
    },
    {
     "name": "stdout",
     "output_type": "stream",
     "text": [
      "('max mins', -0.9996854119274982, 1.0)\n"
     ]
    },
    {
     "name": "stderr",
     "output_type": "stream",
     "text": [
      "\r",
      " 95%|█████████▌| 19/20 [01:25<00:04,  4.58s/it]"
     ]
    },
    {
     "name": "stdout",
     "output_type": "stream",
     "text": [
      "('max mins', -1.0, 0.9791724417691637)\n"
     ]
    },
    {
     "name": "stderr",
     "output_type": "stream",
     "text": [
      "100%|██████████| 20/20 [01:30<00:00,  4.53s/it]\n"
     ]
    },
    {
     "name": "stdout",
     "output_type": "stream",
     "text": [
      "('Best file pairs are: ', 'non_spikey_T0000023.WAV*non_spikey_T0000024.WAV')\n",
      "Start and end indices around peak:                  start index: 8748333\t\t          end index: 20248333                  total samples:30015488\n"
     ]
    },
    {
     "name": "stderr",
     "output_type": "stream",
     "text": [
      "../../../bin/audio_for_videoannotation.py:175: UserWarning: The AV sync may not be very great - please check again. The value was :0.22044808715408717\n",
      "  warnings.warn(warning_msg, stacklevel=1)\n"
     ]
    },
    {
     "name": "stdout",
     "output_type": "stream",
     "text": [
      "common_fps/Aditya_annotations/2018-08-19/common_fps_video_syncAditya_2018-08-20_0111-0200_118.csv\n",
      "('video_fps obtained is :', 25)\n",
      "Did not find user-provided sample rate - getting it from first file that matches format!\n",
      "('sampling rate is : ', 250000)\n",
      ".....finding best audio segment.....\n"
     ]
    },
    {
     "name": "stderr",
     "output_type": "stream",
     "text": [
      "\r",
      "  0%|          | 0/20 [00:00<?, ?it/s]"
     ]
    },
    {
     "name": "stdout",
     "output_type": "stream",
     "text": [
      "('max mins for upsampled video', -1.0, 0.9646810388485911)\n",
      "('max mins', -0.9604330112349305, 1.0)\n"
     ]
    },
    {
     "name": "stderr",
     "output_type": "stream",
     "text": [
      "\r",
      "  5%|▌         | 1/20 [00:04<01:23,  4.39s/it]"
     ]
    },
    {
     "name": "stdout",
     "output_type": "stream",
     "text": [
      "('max mins', -1.0, 0.9813355482916202)\n"
     ]
    },
    {
     "name": "stderr",
     "output_type": "stream",
     "text": [
      "\r",
      " 10%|█         | 2/20 [00:08<01:19,  4.39s/it]"
     ]
    },
    {
     "name": "stdout",
     "output_type": "stream",
     "text": [
      "('max mins', -1.0, 0.9916817204346738)\n"
     ]
    },
    {
     "name": "stderr",
     "output_type": "stream",
     "text": [
      "\r",
      " 15%|█▌        | 3/20 [00:13<01:14,  4.39s/it]"
     ]
    },
    {
     "name": "stdout",
     "output_type": "stream",
     "text": [
      "('max mins', -1.0, 0.9832754746981707)\n"
     ]
    },
    {
     "name": "stderr",
     "output_type": "stream",
     "text": [
      "\r",
      " 20%|██        | 4/20 [00:17<01:10,  4.39s/it]"
     ]
    },
    {
     "name": "stdout",
     "output_type": "stream",
     "text": [
      "('max mins', -1.0, 0.9966273079495607)\n"
     ]
    },
    {
     "name": "stderr",
     "output_type": "stream",
     "text": [
      "\r",
      " 25%|██▌       | 5/20 [00:22<01:07,  4.53s/it]"
     ]
    },
    {
     "name": "stdout",
     "output_type": "stream",
     "text": [
      "('max mins', -1.0, 0.9947318403602488)\n"
     ]
    },
    {
     "name": "stderr",
     "output_type": "stream",
     "text": [
      "\r",
      " 30%|███       | 6/20 [00:27<01:04,  4.63s/it]"
     ]
    },
    {
     "name": "stdout",
     "output_type": "stream",
     "text": [
      "('max mins', -0.9679249511255772, 1.0)\n"
     ]
    },
    {
     "name": "stderr",
     "output_type": "stream",
     "text": [
      "\r",
      " 35%|███▌      | 7/20 [00:32<01:03,  4.89s/it]"
     ]
    },
    {
     "name": "stdout",
     "output_type": "stream",
     "text": [
      "('max mins', -0.9414557285434305, 1.0)\n"
     ]
    },
    {
     "name": "stderr",
     "output_type": "stream",
     "text": [
      "\r",
      " 40%|████      | 8/20 [00:37<00:59,  4.97s/it]"
     ]
    },
    {
     "name": "stdout",
     "output_type": "stream",
     "text": [
      "('max mins', -0.9536997290119662, 1.0)\n"
     ]
    },
    {
     "name": "stderr",
     "output_type": "stream",
     "text": [
      "\r",
      " 45%|████▌     | 9/20 [00:43<00:56,  5.13s/it]"
     ]
    },
    {
     "name": "stdout",
     "output_type": "stream",
     "text": [
      "('max mins', -0.963978928481249, 1.0)\n"
     ]
    },
    {
     "name": "stderr",
     "output_type": "stream",
     "text": [
      "\r",
      " 50%|█████     | 10/20 [00:50<00:56,  5.67s/it]"
     ]
    },
    {
     "name": "stdout",
     "output_type": "stream",
     "text": [
      "('max mins', -1.0, 0.9687355577573609)\n"
     ]
    },
    {
     "name": "stderr",
     "output_type": "stream",
     "text": [
      "\r",
      " 55%|█████▌    | 11/20 [00:55<00:50,  5.61s/it]"
     ]
    },
    {
     "name": "stdout",
     "output_type": "stream",
     "text": [
      "('max mins', -1.0, 0.9546987452164709)\n"
     ]
    },
    {
     "name": "stderr",
     "output_type": "stream",
     "text": [
      "\r",
      " 60%|██████    | 12/20 [01:01<00:46,  5.77s/it]"
     ]
    },
    {
     "name": "stdout",
     "output_type": "stream",
     "text": [
      "('max mins', -0.9809947712224186, 1.0)\n"
     ]
    },
    {
     "name": "stderr",
     "output_type": "stream",
     "text": [
      "\r",
      " 65%|██████▌   | 13/20 [01:06<00:38,  5.54s/it]"
     ]
    },
    {
     "name": "stdout",
     "output_type": "stream",
     "text": [
      "('max mins', -0.9761683827416775, 1.0)\n"
     ]
    },
    {
     "name": "stderr",
     "output_type": "stream",
     "text": [
      "\r",
      " 70%|███████   | 14/20 [01:11<00:31,  5.22s/it]"
     ]
    },
    {
     "name": "stdout",
     "output_type": "stream",
     "text": [
      "('max mins', -1.0, 0.9979458402066035)\n"
     ]
    },
    {
     "name": "stderr",
     "output_type": "stream",
     "text": [
      "\r",
      " 75%|███████▌  | 15/20 [01:16<00:25,  5.09s/it]"
     ]
    },
    {
     "name": "stdout",
     "output_type": "stream",
     "text": [
      "('max mins', -1.0, 0.9835242294300514)\n"
     ]
    },
    {
     "name": "stderr",
     "output_type": "stream",
     "text": [
      "\r",
      " 80%|████████  | 16/20 [01:21<00:20,  5.03s/it]"
     ]
    },
    {
     "name": "stdout",
     "output_type": "stream",
     "text": [
      "('max mins', -1.0, 0.9794161216354017)\n"
     ]
    },
    {
     "name": "stderr",
     "output_type": "stream",
     "text": [
      "\r",
      " 85%|████████▌ | 17/20 [01:26<00:15,  5.00s/it]"
     ]
    },
    {
     "name": "stdout",
     "output_type": "stream",
     "text": [
      "('max mins', -0.9539498961100137, 1.0)\n"
     ]
    },
    {
     "name": "stderr",
     "output_type": "stream",
     "text": [
      "\r",
      " 90%|█████████ | 18/20 [01:31<00:10,  5.06s/it]"
     ]
    },
    {
     "name": "stdout",
     "output_type": "stream",
     "text": [
      "('max mins', -0.9996854119274982, 1.0)\n"
     ]
    },
    {
     "name": "stderr",
     "output_type": "stream",
     "text": [
      "\r",
      " 95%|█████████▌| 19/20 [01:36<00:05,  5.07s/it]"
     ]
    },
    {
     "name": "stdout",
     "output_type": "stream",
     "text": [
      "('max mins', -1.0, 0.9791724417691637)\n"
     ]
    },
    {
     "name": "stderr",
     "output_type": "stream",
     "text": [
      "100%|██████████| 20/20 [01:40<00:00,  4.92s/it]\n"
     ]
    },
    {
     "name": "stdout",
     "output_type": "stream",
     "text": [
      "('Best file pairs are: ', 'non_spikey_T0000020.WAV*non_spikey_T0000021.WAV')\n",
      "Start and end indices around peak:                  start index: 16527614\t\t          end index: 28027614                  total samples:30015488\n"
     ]
    },
    {
     "name": "stderr",
     "output_type": "stream",
     "text": [
      "../../../bin/audio_for_videoannotation.py:175: UserWarning: The AV sync may not be very great - please check again. The value was :0.22875078337670876\n",
      "  warnings.warn(warning_msg, stacklevel=1)\n"
     ]
    },
    {
     "name": "stdout",
     "output_type": "stream",
     "text": [
      "common_fps/Aditya_annotations/2018-08-19/common_fps_video_syncAditya_2018-08-20_0111-0200_119.csv\n",
      "('video_fps obtained is :', 25)\n",
      "Did not find user-provided sample rate - getting it from first file that matches format!\n",
      "('sampling rate is : ', 250000)\n",
      ".....finding best audio segment.....\n"
     ]
    },
    {
     "name": "stderr",
     "output_type": "stream",
     "text": [
      "\r",
      "  0%|          | 0/20 [00:00<?, ?it/s]"
     ]
    },
    {
     "name": "stdout",
     "output_type": "stream",
     "text": [
      "('max mins for upsampled video', -1.0, 0.9660436565413214)\n",
      "('max mins', -0.9604330112349305, 1.0)\n"
     ]
    },
    {
     "name": "stderr",
     "output_type": "stream",
     "text": [
      "\r",
      "  5%|▌         | 1/20 [00:04<01:24,  4.46s/it]"
     ]
    },
    {
     "name": "stdout",
     "output_type": "stream",
     "text": [
      "('max mins', -1.0, 0.9813355482916202)\n"
     ]
    },
    {
     "name": "stderr",
     "output_type": "stream",
     "text": [
      "\r",
      " 10%|█         | 2/20 [00:09<01:21,  4.54s/it]"
     ]
    },
    {
     "name": "stdout",
     "output_type": "stream",
     "text": [
      "('max mins', -1.0, 0.9916817204346738)\n"
     ]
    },
    {
     "name": "stderr",
     "output_type": "stream",
     "text": [
      "\r",
      " 15%|█▌        | 3/20 [00:13<01:17,  4.58s/it]"
     ]
    },
    {
     "name": "stdout",
     "output_type": "stream",
     "text": [
      "('max mins', -1.0, 0.9832754746981707)\n"
     ]
    },
    {
     "name": "stderr",
     "output_type": "stream",
     "text": [
      "\r",
      " 20%|██        | 4/20 [00:19<01:18,  4.89s/it]"
     ]
    },
    {
     "name": "stdout",
     "output_type": "stream",
     "text": [
      "('max mins', -1.0, 0.9966273079495607)\n"
     ]
    },
    {
     "name": "stderr",
     "output_type": "stream",
     "text": [
      "\r",
      " 25%|██▌       | 5/20 [00:24<01:13,  4.90s/it]"
     ]
    },
    {
     "name": "stdout",
     "output_type": "stream",
     "text": [
      "('max mins', -1.0, 0.9947318403602488)\n"
     ]
    },
    {
     "name": "stderr",
     "output_type": "stream",
     "text": [
      "\r",
      " 30%|███       | 6/20 [00:29<01:07,  4.81s/it]"
     ]
    },
    {
     "name": "stdout",
     "output_type": "stream",
     "text": [
      "('max mins', -0.9679249511255772, 1.0)\n"
     ]
    },
    {
     "name": "stderr",
     "output_type": "stream",
     "text": [
      "\r",
      " 35%|███▌      | 7/20 [00:33<01:01,  4.77s/it]"
     ]
    },
    {
     "name": "stdout",
     "output_type": "stream",
     "text": [
      "('max mins', -0.9414557285434305, 1.0)\n"
     ]
    },
    {
     "name": "stderr",
     "output_type": "stream",
     "text": [
      "\r",
      " 40%|████      | 8/20 [00:38<00:59,  4.93s/it]"
     ]
    },
    {
     "name": "stdout",
     "output_type": "stream",
     "text": [
      "('max mins', -0.9536997290119662, 1.0)\n"
     ]
    },
    {
     "name": "stderr",
     "output_type": "stream",
     "text": [
      "\r",
      " 45%|████▌     | 9/20 [00:43<00:52,  4.81s/it]"
     ]
    },
    {
     "name": "stdout",
     "output_type": "stream",
     "text": [
      "('max mins', -0.963978928481249, 1.0)\n"
     ]
    },
    {
     "name": "stderr",
     "output_type": "stream",
     "text": [
      "\r",
      " 50%|█████     | 10/20 [00:48<00:47,  4.79s/it]"
     ]
    },
    {
     "name": "stdout",
     "output_type": "stream",
     "text": [
      "('max mins', -1.0, 0.9687355577573609)\n"
     ]
    },
    {
     "name": "stderr",
     "output_type": "stream",
     "text": [
      "\r",
      " 55%|█████▌    | 11/20 [00:53<00:43,  4.81s/it]"
     ]
    },
    {
     "name": "stdout",
     "output_type": "stream",
     "text": [
      "('max mins', -1.0, 0.9546987452164709)\n"
     ]
    },
    {
     "name": "stderr",
     "output_type": "stream",
     "text": [
      "\r",
      " 60%|██████    | 12/20 [00:58<00:38,  4.85s/it]"
     ]
    },
    {
     "name": "stdout",
     "output_type": "stream",
     "text": [
      "('max mins', -0.9809947712224186, 1.0)\n"
     ]
    },
    {
     "name": "stderr",
     "output_type": "stream",
     "text": [
      "\r",
      " 65%|██████▌   | 13/20 [01:04<00:37,  5.36s/it]"
     ]
    },
    {
     "name": "stdout",
     "output_type": "stream",
     "text": [
      "('max mins', -0.9761683827416775, 1.0)\n"
     ]
    },
    {
     "name": "stderr",
     "output_type": "stream",
     "text": [
      "\r",
      " 70%|███████   | 14/20 [01:09<00:30,  5.14s/it]"
     ]
    },
    {
     "name": "stdout",
     "output_type": "stream",
     "text": [
      "('max mins', -1.0, 0.9979458402066035)\n"
     ]
    },
    {
     "name": "stderr",
     "output_type": "stream",
     "text": [
      "\r",
      " 75%|███████▌  | 15/20 [01:15<00:27,  5.46s/it]"
     ]
    },
    {
     "name": "stdout",
     "output_type": "stream",
     "text": [
      "('max mins', -1.0, 0.9835242294300514)\n"
     ]
    },
    {
     "name": "stderr",
     "output_type": "stream",
     "text": [
      "\r",
      " 80%|████████  | 16/20 [01:21<00:22,  5.63s/it]"
     ]
    },
    {
     "name": "stdout",
     "output_type": "stream",
     "text": [
      "('max mins', -1.0, 0.9794161216354017)\n"
     ]
    },
    {
     "name": "stderr",
     "output_type": "stream",
     "text": [
      "\r",
      " 85%|████████▌ | 17/20 [01:28<00:18,  6.02s/it]"
     ]
    },
    {
     "name": "stdout",
     "output_type": "stream",
     "text": [
      "('max mins', -0.9539498961100137, 1.0)\n"
     ]
    },
    {
     "name": "stderr",
     "output_type": "stream",
     "text": [
      "\r",
      " 90%|█████████ | 18/20 [01:33<00:11,  5.73s/it]"
     ]
    },
    {
     "name": "stdout",
     "output_type": "stream",
     "text": [
      "('max mins', -0.9996854119274982, 1.0)\n"
     ]
    },
    {
     "name": "stderr",
     "output_type": "stream",
     "text": [
      "\r",
      " 95%|█████████▌| 19/20 [01:38<00:05,  5.39s/it]"
     ]
    },
    {
     "name": "stdout",
     "output_type": "stream",
     "text": [
      "('max mins', -1.0, 0.9791724417691637)\n"
     ]
    },
    {
     "name": "stderr",
     "output_type": "stream",
     "text": [
      "100%|██████████| 20/20 [01:42<00:00,  5.12s/it]\n"
     ]
    },
    {
     "name": "stdout",
     "output_type": "stream",
     "text": [
      "('Best file pairs are: ', 'non_spikey_T0000010.WAV*non_spikey_T0000011.WAV')\n",
      "Unable to get proper audio match for video segment!\n",
      "('Could not save ', 'common_fps/Aditya_annotations/2018-08-19/common_fps_video_syncAditya_2018-08-20_0111-0200_119.csv')\n",
      "common_fps/Aditya_annotations/2018-08-19/common_fps_video_syncAditya_2018-08-20_0111-0200_120.csv\n",
      "('video_fps obtained is :', 25)\n",
      "Did not find user-provided sample rate - getting it from first file that matches format!\n",
      "('sampling rate is : ', 250000)\n",
      ".....finding best audio segment.....\n"
     ]
    },
    {
     "name": "stderr",
     "output_type": "stream",
     "text": [
      "\r",
      "  0%|          | 0/20 [00:00<?, ?it/s]"
     ]
    },
    {
     "name": "stdout",
     "output_type": "stream",
     "text": [
      "('max mins for upsampled video', -0.9769000056190545, 1.0)\n",
      "('max mins', -0.9604330112349305, 1.0)\n"
     ]
    },
    {
     "name": "stderr",
     "output_type": "stream",
     "text": [
      "\r",
      "  5%|▌         | 1/20 [00:04<01:23,  4.39s/it]"
     ]
    },
    {
     "name": "stdout",
     "output_type": "stream",
     "text": [
      "('max mins', -1.0, 0.9813355482916202)\n"
     ]
    },
    {
     "name": "stderr",
     "output_type": "stream",
     "text": [
      "\r",
      " 10%|█         | 2/20 [00:08<01:19,  4.39s/it]"
     ]
    },
    {
     "name": "stdout",
     "output_type": "stream",
     "text": [
      "('max mins', -1.0, 0.9916817204346738)\n"
     ]
    },
    {
     "name": "stderr",
     "output_type": "stream",
     "text": [
      "\r",
      " 15%|█▌        | 3/20 [00:13<01:14,  4.40s/it]"
     ]
    },
    {
     "name": "stdout",
     "output_type": "stream",
     "text": [
      "('max mins', -1.0, 0.9832754746981707)\n"
     ]
    },
    {
     "name": "stderr",
     "output_type": "stream",
     "text": [
      "\r",
      " 20%|██        | 4/20 [00:17<01:10,  4.40s/it]"
     ]
    },
    {
     "name": "stdout",
     "output_type": "stream",
     "text": [
      "('max mins', -1.0, 0.9966273079495607)\n"
     ]
    },
    {
     "name": "stderr",
     "output_type": "stream",
     "text": [
      "\r",
      " 25%|██▌       | 5/20 [00:22<01:05,  4.40s/it]"
     ]
    },
    {
     "name": "stdout",
     "output_type": "stream",
     "text": [
      "('max mins', -1.0, 0.9947318403602488)\n"
     ]
    },
    {
     "name": "stderr",
     "output_type": "stream",
     "text": [
      "\r",
      " 30%|███       | 6/20 [00:26<01:01,  4.41s/it]"
     ]
    },
    {
     "name": "stdout",
     "output_type": "stream",
     "text": [
      "('max mins', -0.9679249511255772, 1.0)\n"
     ]
    },
    {
     "name": "stderr",
     "output_type": "stream",
     "text": [
      "\r",
      " 35%|███▌      | 7/20 [00:31<00:58,  4.53s/it]"
     ]
    },
    {
     "name": "stdout",
     "output_type": "stream",
     "text": [
      "('max mins', -0.9414557285434305, 1.0)\n"
     ]
    },
    {
     "name": "stderr",
     "output_type": "stream",
     "text": [
      "\r",
      " 40%|████      | 8/20 [00:35<00:54,  4.58s/it]"
     ]
    },
    {
     "name": "stdout",
     "output_type": "stream",
     "text": [
      "('max mins', -0.9536997290119662, 1.0)\n"
     ]
    },
    {
     "name": "stderr",
     "output_type": "stream",
     "text": [
      "\r",
      " 45%|████▌     | 9/20 [00:40<00:49,  4.52s/it]"
     ]
    },
    {
     "name": "stdout",
     "output_type": "stream",
     "text": [
      "('max mins', -0.963978928481249, 1.0)\n"
     ]
    },
    {
     "name": "stderr",
     "output_type": "stream",
     "text": [
      "\r",
      " 50%|█████     | 10/20 [00:44<00:44,  4.49s/it]"
     ]
    },
    {
     "name": "stdout",
     "output_type": "stream",
     "text": [
      "('max mins', -1.0, 0.9687355577573609)\n"
     ]
    },
    {
     "name": "stderr",
     "output_type": "stream",
     "text": [
      "\r",
      " 55%|█████▌    | 11/20 [00:49<00:40,  4.47s/it]"
     ]
    },
    {
     "name": "stdout",
     "output_type": "stream",
     "text": [
      "('max mins', -1.0, 0.9546987452164709)\n"
     ]
    },
    {
     "name": "stderr",
     "output_type": "stream",
     "text": [
      "\r",
      " 60%|██████    | 12/20 [00:53<00:35,  4.44s/it]"
     ]
    },
    {
     "name": "stdout",
     "output_type": "stream",
     "text": [
      "('max mins', -0.9809947712224186, 1.0)\n"
     ]
    },
    {
     "name": "stderr",
     "output_type": "stream",
     "text": [
      "\r",
      " 65%|██████▌   | 13/20 [00:58<00:32,  4.62s/it]"
     ]
    },
    {
     "name": "stdout",
     "output_type": "stream",
     "text": [
      "('max mins', -0.9761683827416775, 1.0)\n"
     ]
    },
    {
     "name": "stderr",
     "output_type": "stream",
     "text": [
      "\r",
      " 70%|███████   | 14/20 [01:04<00:29,  4.90s/it]"
     ]
    },
    {
     "name": "stdout",
     "output_type": "stream",
     "text": [
      "('max mins', -1.0, 0.9979458402066035)\n"
     ]
    },
    {
     "name": "stderr",
     "output_type": "stream",
     "text": [
      "\r",
      " 75%|███████▌  | 15/20 [01:09<00:24,  4.90s/it]"
     ]
    },
    {
     "name": "stdout",
     "output_type": "stream",
     "text": [
      "('max mins', -1.0, 0.9835242294300514)\n"
     ]
    },
    {
     "name": "stderr",
     "output_type": "stream",
     "text": [
      "\r",
      " 80%|████████  | 16/20 [01:14<00:19,  4.95s/it]"
     ]
    },
    {
     "name": "stdout",
     "output_type": "stream",
     "text": [
      "('max mins', -1.0, 0.9794161216354017)\n"
     ]
    },
    {
     "name": "stderr",
     "output_type": "stream",
     "text": [
      "\r",
      " 85%|████████▌ | 17/20 [01:20<00:15,  5.26s/it]"
     ]
    },
    {
     "name": "stdout",
     "output_type": "stream",
     "text": [
      "('max mins', -0.9539498961100137, 1.0)\n"
     ]
    },
    {
     "name": "stderr",
     "output_type": "stream",
     "text": [
      "\r",
      " 90%|█████████ | 18/20 [01:24<00:10,  5.03s/it]"
     ]
    },
    {
     "name": "stdout",
     "output_type": "stream",
     "text": [
      "('max mins', -0.9996854119274982, 1.0)\n"
     ]
    },
    {
     "name": "stderr",
     "output_type": "stream",
     "text": [
      "\r",
      " 95%|█████████▌| 19/20 [01:29<00:04,  4.94s/it]"
     ]
    },
    {
     "name": "stdout",
     "output_type": "stream",
     "text": [
      "('max mins', -1.0, 0.9791724417691637)\n"
     ]
    },
    {
     "name": "stderr",
     "output_type": "stream",
     "text": [
      "100%|██████████| 20/20 [01:33<00:00,  4.78s/it]\n"
     ]
    },
    {
     "name": "stdout",
     "output_type": "stream",
     "text": [
      "('Best file pairs are: ', 'non_spikey_T0000010.WAV*non_spikey_T0000011.WAV')\n",
      "Start and end indices around peak:                  start index: 8733500\t\t          end index: 20233500                  total samples:30015488\n"
     ]
    },
    {
     "name": "stderr",
     "output_type": "stream",
     "text": [
      "../../../bin/audio_for_videoannotation.py:175: UserWarning: The AV sync may not be very great - please check again. The value was :0.41217213576889433\n",
      "  warnings.warn(warning_msg, stacklevel=1)\n"
     ]
    },
    {
     "name": "stdout",
     "output_type": "stream",
     "text": [
      "common_fps/Aditya_annotations/2018-08-19/common_fps_video_syncAditya_2018-08-20_0111-0200_122.csv\n",
      "('video_fps obtained is :', 25)\n",
      "Did not find user-provided sample rate - getting it from first file that matches format!\n",
      "('sampling rate is : ', 250000)\n",
      ".....finding best audio segment.....\n"
     ]
    },
    {
     "name": "stderr",
     "output_type": "stream",
     "text": [
      "\r",
      "  0%|          | 0/20 [00:00<?, ?it/s]"
     ]
    },
    {
     "name": "stdout",
     "output_type": "stream",
     "text": [
      "('max mins for upsampled video', -0.9881424623613124, 1.0)\n",
      "('max mins', -0.9604330112349305, 1.0)\n"
     ]
    },
    {
     "name": "stderr",
     "output_type": "stream",
     "text": [
      "\r",
      "  5%|▌         | 1/20 [00:05<01:38,  5.16s/it]"
     ]
    },
    {
     "name": "stdout",
     "output_type": "stream",
     "text": [
      "('max mins', -1.0, 0.9813355482916202)\n"
     ]
    },
    {
     "name": "stderr",
     "output_type": "stream",
     "text": [
      "\r",
      " 10%|█         | 2/20 [00:10<01:36,  5.34s/it]"
     ]
    },
    {
     "name": "stdout",
     "output_type": "stream",
     "text": [
      "('max mins', -1.0, 0.9916817204346738)\n"
     ]
    },
    {
     "name": "stderr",
     "output_type": "stream",
     "text": [
      "\r",
      " 15%|█▌        | 3/20 [00:15<01:27,  5.16s/it]"
     ]
    },
    {
     "name": "stdout",
     "output_type": "stream",
     "text": [
      "('max mins', -1.0, 0.9832754746981707)\n"
     ]
    },
    {
     "name": "stderr",
     "output_type": "stream",
     "text": [
      "\r",
      " 20%|██        | 4/20 [00:20<01:21,  5.10s/it]"
     ]
    },
    {
     "name": "stdout",
     "output_type": "stream",
     "text": [
      "('max mins', -1.0, 0.9966273079495607)\n"
     ]
    },
    {
     "name": "stderr",
     "output_type": "stream",
     "text": [
      "\r",
      " 25%|██▌       | 5/20 [00:27<01:22,  5.53s/it]"
     ]
    },
    {
     "name": "stdout",
     "output_type": "stream",
     "text": [
      "('max mins', -1.0, 0.9947318403602488)\n"
     ]
    },
    {
     "name": "stderr",
     "output_type": "stream",
     "text": [
      "\r",
      " 30%|███       | 6/20 [00:31<01:13,  5.22s/it]"
     ]
    },
    {
     "name": "stdout",
     "output_type": "stream",
     "text": [
      "('max mins', -0.9679249511255772, 1.0)\n"
     ]
    },
    {
     "name": "stderr",
     "output_type": "stream",
     "text": [
      "\r",
      " 35%|███▌      | 7/20 [00:36<01:04,  4.98s/it]"
     ]
    },
    {
     "name": "stdout",
     "output_type": "stream",
     "text": [
      "('max mins', -0.9414557285434305, 1.0)\n"
     ]
    },
    {
     "name": "stderr",
     "output_type": "stream",
     "text": [
      "\r",
      " 40%|████      | 8/20 [00:40<00:57,  4.81s/it]"
     ]
    },
    {
     "name": "stdout",
     "output_type": "stream",
     "text": [
      "('max mins', -0.9536997290119662, 1.0)\n"
     ]
    },
    {
     "name": "stderr",
     "output_type": "stream",
     "text": [
      "\r",
      " 45%|████▌     | 9/20 [00:44<00:51,  4.69s/it]"
     ]
    },
    {
     "name": "stdout",
     "output_type": "stream",
     "text": [
      "('max mins', -0.963978928481249, 1.0)\n"
     ]
    },
    {
     "name": "stderr",
     "output_type": "stream",
     "text": [
      "\r",
      " 50%|█████     | 10/20 [00:50<00:50,  5.06s/it]"
     ]
    },
    {
     "name": "stdout",
     "output_type": "stream",
     "text": [
      "('max mins', -1.0, 0.9687355577573609)\n"
     ]
    },
    {
     "name": "stderr",
     "output_type": "stream",
     "text": [
      "\r",
      " 55%|█████▌    | 11/20 [00:55<00:45,  5.00s/it]"
     ]
    },
    {
     "name": "stdout",
     "output_type": "stream",
     "text": [
      "('max mins', -1.0, 0.9546987452164709)\n"
     ]
    },
    {
     "name": "stderr",
     "output_type": "stream",
     "text": [
      "\r",
      " 60%|██████    | 12/20 [01:00<00:39,  4.92s/it]"
     ]
    },
    {
     "name": "stdout",
     "output_type": "stream",
     "text": [
      "('max mins', -0.9809947712224186, 1.0)\n"
     ]
    },
    {
     "name": "stderr",
     "output_type": "stream",
     "text": [
      "\r",
      " 65%|██████▌   | 13/20 [01:05<00:34,  4.91s/it]"
     ]
    },
    {
     "name": "stdout",
     "output_type": "stream",
     "text": [
      "('max mins', -0.9761683827416775, 1.0)\n"
     ]
    },
    {
     "name": "stderr",
     "output_type": "stream",
     "text": [
      "\r",
      " 70%|███████   | 14/20 [01:09<00:28,  4.76s/it]"
     ]
    },
    {
     "name": "stdout",
     "output_type": "stream",
     "text": [
      "('max mins', -1.0, 0.9979458402066035)\n"
     ]
    },
    {
     "name": "stderr",
     "output_type": "stream",
     "text": [
      "\r",
      " 75%|███████▌  | 15/20 [01:14<00:23,  4.79s/it]"
     ]
    },
    {
     "name": "stdout",
     "output_type": "stream",
     "text": [
      "('max mins', -1.0, 0.9835242294300514)\n"
     ]
    },
    {
     "name": "stderr",
     "output_type": "stream",
     "text": [
      "\r",
      " 80%|████████  | 16/20 [01:20<00:19,  4.99s/it]"
     ]
    },
    {
     "name": "stdout",
     "output_type": "stream",
     "text": [
      "('max mins', -1.0, 0.9794161216354017)\n"
     ]
    },
    {
     "name": "stderr",
     "output_type": "stream",
     "text": [
      "\r",
      " 85%|████████▌ | 17/20 [01:24<00:14,  4.91s/it]"
     ]
    },
    {
     "name": "stdout",
     "output_type": "stream",
     "text": [
      "('max mins', -0.9539498961100137, 1.0)\n"
     ]
    },
    {
     "name": "stderr",
     "output_type": "stream",
     "text": [
      "\r",
      " 90%|█████████ | 18/20 [01:30<00:10,  5.12s/it]"
     ]
    },
    {
     "name": "stdout",
     "output_type": "stream",
     "text": [
      "('max mins', -0.9996854119274982, 1.0)\n"
     ]
    },
    {
     "name": "stderr",
     "output_type": "stream",
     "text": [
      "\r",
      " 95%|█████████▌| 19/20 [01:35<00:05,  5.23s/it]"
     ]
    },
    {
     "name": "stdout",
     "output_type": "stream",
     "text": [
      "('max mins', -1.0, 0.9791724417691637)\n"
     ]
    },
    {
     "name": "stderr",
     "output_type": "stream",
     "text": [
      "100%|██████████| 20/20 [01:42<00:00,  5.75s/it]\n"
     ]
    },
    {
     "name": "stdout",
     "output_type": "stream",
     "text": [
      "('Best file pairs are: ', 'non_spikey_T0000010.WAV*non_spikey_T0000011.WAV')\n",
      "Start and end indices around peak:                  start index: 10200658\t\t          end index: 21700658                  total samples:30015488\n"
     ]
    },
    {
     "name": "stderr",
     "output_type": "stream",
     "text": [
      "../../../bin/audio_for_videoannotation.py:175: UserWarning: The AV sync may not be very great - please check again. The value was :0.3824127630918429\n",
      "  warnings.warn(warning_msg, stacklevel=1)\n"
     ]
    },
    {
     "name": "stdout",
     "output_type": "stream",
     "text": [
      "common_fps/Aditya_annotations/2018-08-19/common_fps_video_syncAditya_2018-08-20_0111-0200_123.csv\n",
      "('video_fps obtained is :', 25)\n",
      "Did not find user-provided sample rate - getting it from first file that matches format!\n",
      "('sampling rate is : ', 250000)\n",
      ".....finding best audio segment.....\n"
     ]
    },
    {
     "name": "stderr",
     "output_type": "stream",
     "text": [
      "\r",
      "  0%|          | 0/20 [00:00<?, ?it/s]"
     ]
    },
    {
     "name": "stdout",
     "output_type": "stream",
     "text": [
      "('max mins for upsampled video', -1.0, 0.9785526280432366)\n",
      "('max mins', -0.9604330112349305, 1.0)\n"
     ]
    },
    {
     "name": "stderr",
     "output_type": "stream",
     "text": [
      "\r",
      "  5%|▌         | 1/20 [00:04<01:24,  4.46s/it]"
     ]
    },
    {
     "name": "stdout",
     "output_type": "stream",
     "text": [
      "('max mins', -1.0, 0.9813355482916202)\n"
     ]
    },
    {
     "name": "stderr",
     "output_type": "stream",
     "text": [
      "\r",
      " 10%|█         | 2/20 [00:08<01:20,  4.46s/it]"
     ]
    },
    {
     "name": "stdout",
     "output_type": "stream",
     "text": [
      "('max mins', -1.0, 0.9916817204346738)\n"
     ]
    },
    {
     "name": "stderr",
     "output_type": "stream",
     "text": [
      "\r",
      " 15%|█▌        | 3/20 [00:13<01:15,  4.46s/it]"
     ]
    },
    {
     "name": "stdout",
     "output_type": "stream",
     "text": [
      "('max mins', -1.0, 0.9832754746981707)\n"
     ]
    },
    {
     "name": "stderr",
     "output_type": "stream",
     "text": [
      "\r",
      " 20%|██        | 4/20 [00:18<01:12,  4.53s/it]"
     ]
    },
    {
     "name": "stdout",
     "output_type": "stream",
     "text": [
      "('max mins', -1.0, 0.9966273079495607)\n"
     ]
    },
    {
     "name": "stderr",
     "output_type": "stream",
     "text": [
      "\r",
      " 25%|██▌       | 5/20 [00:23<01:13,  4.87s/it]"
     ]
    },
    {
     "name": "stdout",
     "output_type": "stream",
     "text": [
      "('max mins', -1.0, 0.9947318403602488)\n"
     ]
    },
    {
     "name": "stderr",
     "output_type": "stream",
     "text": [
      "\r",
      " 30%|███       | 6/20 [00:30<01:14,  5.30s/it]"
     ]
    },
    {
     "name": "stdout",
     "output_type": "stream",
     "text": [
      "('max mins', -0.9679249511255772, 1.0)\n"
     ]
    },
    {
     "name": "stderr",
     "output_type": "stream",
     "text": [
      "\r",
      " 35%|███▌      | 7/20 [00:35<01:07,  5.23s/it]"
     ]
    },
    {
     "name": "stdout",
     "output_type": "stream",
     "text": [
      "('max mins', -0.9414557285434305, 1.0)\n"
     ]
    },
    {
     "name": "stderr",
     "output_type": "stream",
     "text": [
      "\r",
      " 40%|████      | 8/20 [00:40<01:03,  5.26s/it]"
     ]
    },
    {
     "name": "stdout",
     "output_type": "stream",
     "text": [
      "('max mins', -0.9536997290119662, 1.0)\n"
     ]
    },
    {
     "name": "stderr",
     "output_type": "stream",
     "text": [
      "\r",
      " 45%|████▌     | 9/20 [00:45<00:57,  5.21s/it]"
     ]
    },
    {
     "name": "stdout",
     "output_type": "stream",
     "text": [
      "('max mins', -0.963978928481249, 1.0)\n"
     ]
    },
    {
     "name": "stderr",
     "output_type": "stream",
     "text": [
      "\r",
      " 50%|█████     | 10/20 [00:49<00:49,  4.97s/it]"
     ]
    },
    {
     "name": "stdout",
     "output_type": "stream",
     "text": [
      "('max mins', -1.0, 0.9687355577573609)\n"
     ]
    },
    {
     "name": "stderr",
     "output_type": "stream",
     "text": [
      "\r",
      " 55%|█████▌    | 11/20 [00:54<00:44,  4.98s/it]"
     ]
    },
    {
     "name": "stdout",
     "output_type": "stream",
     "text": [
      "('max mins', -1.0, 0.9546987452164709)\n"
     ]
    },
    {
     "name": "stderr",
     "output_type": "stream",
     "text": [
      "\r",
      " 60%|██████    | 12/20 [01:00<00:40,  5.11s/it]"
     ]
    },
    {
     "name": "stdout",
     "output_type": "stream",
     "text": [
      "('max mins', -0.9809947712224186, 1.0)\n"
     ]
    },
    {
     "name": "stderr",
     "output_type": "stream",
     "text": [
      "\r",
      " 65%|██████▌   | 13/20 [01:05<00:35,  5.10s/it]"
     ]
    },
    {
     "name": "stdout",
     "output_type": "stream",
     "text": [
      "('max mins', -0.9761683827416775, 1.0)\n"
     ]
    },
    {
     "name": "stderr",
     "output_type": "stream",
     "text": [
      "\r",
      " 70%|███████   | 14/20 [01:11<00:31,  5.31s/it]"
     ]
    },
    {
     "name": "stdout",
     "output_type": "stream",
     "text": [
      "('max mins', -1.0, 0.9979458402066035)\n"
     ]
    },
    {
     "name": "stderr",
     "output_type": "stream",
     "text": [
      "\r",
      " 75%|███████▌  | 15/20 [01:15<00:25,  5.12s/it]"
     ]
    },
    {
     "name": "stdout",
     "output_type": "stream",
     "text": [
      "('max mins', -1.0, 0.9835242294300514)\n"
     ]
    },
    {
     "name": "stderr",
     "output_type": "stream",
     "text": [
      "\r",
      " 80%|████████  | 16/20 [01:21<00:20,  5.20s/it]"
     ]
    },
    {
     "name": "stdout",
     "output_type": "stream",
     "text": [
      "('max mins', -1.0, 0.9794161216354017)\n"
     ]
    },
    {
     "name": "stderr",
     "output_type": "stream",
     "text": [
      "\r",
      " 85%|████████▌ | 17/20 [01:25<00:15,  5.03s/it]"
     ]
    },
    {
     "name": "stdout",
     "output_type": "stream",
     "text": [
      "('max mins', -0.9539498961100137, 1.0)\n"
     ]
    },
    {
     "name": "stderr",
     "output_type": "stream",
     "text": [
      "\r",
      " 90%|█████████ | 18/20 [01:31<00:10,  5.29s/it]"
     ]
    },
    {
     "name": "stdout",
     "output_type": "stream",
     "text": [
      "('max mins', -0.9996854119274982, 1.0)\n"
     ]
    },
    {
     "name": "stderr",
     "output_type": "stream",
     "text": [
      "\r",
      " 95%|█████████▌| 19/20 [01:36<00:05,  5.23s/it]"
     ]
    },
    {
     "name": "stdout",
     "output_type": "stream",
     "text": [
      "('max mins', -1.0, 0.9791724417691637)\n"
     ]
    },
    {
     "name": "stderr",
     "output_type": "stream",
     "text": [
      "100%|██████████| 20/20 [01:42<00:00,  5.23s/it]\n"
     ]
    },
    {
     "name": "stdout",
     "output_type": "stream",
     "text": [
      "('Best file pairs are: ', 'non_spikey_T0000010.WAV*non_spikey_T0000011.WAV')\n",
      "Start and end indices around peak:                  start index: 10948363\t\t          end index: 22448363                  total samples:30015488\n"
     ]
    },
    {
     "name": "stderr",
     "output_type": "stream",
     "text": [
      "../../../bin/audio_for_videoannotation.py:175: UserWarning: The AV sync may not be very great - please check again. The value was :0.36693756370238645\n",
      "  warnings.warn(warning_msg, stacklevel=1)\n"
     ]
    },
    {
     "name": "stdout",
     "output_type": "stream",
     "text": [
      "common_fps/Aditya_annotations/2018-08-19/common_fps_video_syncAditya_2018-08-20_0111-0200_125.csv\n",
      "('video_fps obtained is :', 25)\n",
      "Did not find user-provided sample rate - getting it from first file that matches format!\n",
      "('sampling rate is : ', 250000)\n",
      ".....finding best audio segment.....\n"
     ]
    },
    {
     "name": "stderr",
     "output_type": "stream",
     "text": [
      "\r",
      "  0%|          | 0/20 [00:00<?, ?it/s]"
     ]
    },
    {
     "name": "stdout",
     "output_type": "stream",
     "text": [
      "('max mins for upsampled video', -1.0, 0.9627398755434124)\n",
      "('max mins', -1.0, 0.9687355577573609)\n"
     ]
    },
    {
     "name": "stderr",
     "output_type": "stream",
     "text": [
      "\r",
      "  5%|▌         | 1/20 [00:06<01:58,  6.26s/it]"
     ]
    },
    {
     "name": "stdout",
     "output_type": "stream",
     "text": [
      "('max mins', -1.0, 0.9546987452164709)\n"
     ]
    },
    {
     "name": "stderr",
     "output_type": "stream",
     "text": [
      "\r",
      " 10%|█         | 2/20 [00:11<01:47,  5.98s/it]"
     ]
    },
    {
     "name": "stdout",
     "output_type": "stream",
     "text": [
      "('max mins', -0.9809947712224186, 1.0)\n"
     ]
    },
    {
     "name": "stderr",
     "output_type": "stream",
     "text": [
      "\r",
      " 15%|█▌        | 3/20 [00:16<01:36,  5.67s/it]"
     ]
    },
    {
     "name": "stdout",
     "output_type": "stream",
     "text": [
      "('max mins', -0.9761683827416775, 1.0)\n"
     ]
    },
    {
     "name": "stderr",
     "output_type": "stream",
     "text": [
      "\r",
      " 20%|██        | 4/20 [00:22<01:30,  5.67s/it]"
     ]
    },
    {
     "name": "stdout",
     "output_type": "stream",
     "text": [
      "('max mins', -1.0, 0.9979458402066035)\n"
     ]
    },
    {
     "name": "stderr",
     "output_type": "stream",
     "text": [
      "\r",
      " 25%|██▌       | 5/20 [00:27<01:21,  5.43s/it]"
     ]
    },
    {
     "name": "stdout",
     "output_type": "stream",
     "text": [
      "('max mins', -1.0, 0.9835242294300514)\n"
     ]
    },
    {
     "name": "stderr",
     "output_type": "stream",
     "text": [
      "\r",
      " 30%|███       | 6/20 [00:32<01:15,  5.39s/it]"
     ]
    },
    {
     "name": "stdout",
     "output_type": "stream",
     "text": [
      "('max mins', -1.0, 0.9794161216354017)\n"
     ]
    },
    {
     "name": "stderr",
     "output_type": "stream",
     "text": [
      "\r",
      " 35%|███▌      | 7/20 [00:37<01:09,  5.33s/it]"
     ]
    },
    {
     "name": "stdout",
     "output_type": "stream",
     "text": [
      "('max mins', -0.9539498961100137, 1.0)\n"
     ]
    },
    {
     "name": "stderr",
     "output_type": "stream",
     "text": [
      "\r",
      " 40%|████      | 8/20 [00:43<01:06,  5.52s/it]"
     ]
    },
    {
     "name": "stdout",
     "output_type": "stream",
     "text": [
      "('max mins', -0.9996854119274982, 1.0)\n"
     ]
    },
    {
     "name": "stderr",
     "output_type": "stream",
     "text": [
      "\r",
      " 45%|████▌     | 9/20 [00:48<00:58,  5.36s/it]"
     ]
    },
    {
     "name": "stdout",
     "output_type": "stream",
     "text": [
      "('max mins', -1.0, 0.9791724417691637)\n"
     ]
    },
    {
     "name": "stderr",
     "output_type": "stream",
     "text": [
      "\r",
      " 50%|█████     | 10/20 [00:54<00:54,  5.42s/it]"
     ]
    },
    {
     "name": "stdout",
     "output_type": "stream",
     "text": [
      "('max mins', -0.974005632614949, 1.0)\n"
     ]
    },
    {
     "name": "stderr",
     "output_type": "stream",
     "text": [
      "\r",
      " 55%|█████▌    | 11/20 [01:07<01:11,  7.90s/it]"
     ]
    },
    {
     "name": "stdout",
     "output_type": "stream",
     "text": [
      "('max mins', -1.0, 0.9886612045571966)\n"
     ]
    },
    {
     "name": "stderr",
     "output_type": "stream",
     "text": [
      "\r",
      " 60%|██████    | 12/20 [01:17<01:08,  8.60s/it]"
     ]
    },
    {
     "name": "stdout",
     "output_type": "stream",
     "text": [
      "('max mins', -1.0, 0.9791690486863055)\n"
     ]
    },
    {
     "name": "stderr",
     "output_type": "stream",
     "text": [
      "\r",
      " 65%|██████▌   | 13/20 [01:27<01:03,  9.01s/it]"
     ]
    },
    {
     "name": "stdout",
     "output_type": "stream",
     "text": [
      "('max mins', -1.0, 0.9545874949719761)\n"
     ]
    },
    {
     "name": "stderr",
     "output_type": "stream",
     "text": [
      "\r",
      " 70%|███████   | 14/20 [01:36<00:53,  8.96s/it]"
     ]
    },
    {
     "name": "stdout",
     "output_type": "stream",
     "text": [
      "('max mins', -1.0, 0.9768979047462234)\n"
     ]
    },
    {
     "name": "stderr",
     "output_type": "stream",
     "text": [
      "\r",
      " 75%|███████▌  | 15/20 [01:45<00:45,  9.02s/it]"
     ]
    },
    {
     "name": "stdout",
     "output_type": "stream",
     "text": [
      "('max mins', -0.9936673943340251, 1.0)\n"
     ]
    },
    {
     "name": "stderr",
     "output_type": "stream",
     "text": [
      "\r",
      " 80%|████████  | 16/20 [01:55<00:36,  9.10s/it]"
     ]
    },
    {
     "name": "stdout",
     "output_type": "stream",
     "text": [
      "('max mins', -0.9884825570880318, 1.0)\n"
     ]
    },
    {
     "name": "stderr",
     "output_type": "stream",
     "text": [
      "\r",
      " 85%|████████▌ | 17/20 [02:04<00:27,  9.14s/it]"
     ]
    },
    {
     "name": "stdout",
     "output_type": "stream",
     "text": [
      "('max mins', -0.9857245825266355, 1.0)\n"
     ]
    },
    {
     "name": "stderr",
     "output_type": "stream",
     "text": [
      "\r",
      " 90%|█████████ | 18/20 [02:14<00:18,  9.31s/it]"
     ]
    },
    {
     "name": "stdout",
     "output_type": "stream",
     "text": [
      "('max mins', -1.0, 0.9795481018740736)\n"
     ]
    },
    {
     "name": "stderr",
     "output_type": "stream",
     "text": [
      "\r",
      " 95%|█████████▌| 19/20 [02:22<00:09,  9.16s/it]"
     ]
    },
    {
     "name": "stdout",
     "output_type": "stream",
     "text": [
      "('max mins', -0.9963263934933122, 1.0)\n"
     ]
    },
    {
     "name": "stderr",
     "output_type": "stream",
     "text": [
      "100%|██████████| 20/20 [02:31<00:00,  9.05s/it]\n"
     ]
    },
    {
     "name": "stdout",
     "output_type": "stream",
     "text": [
      "('Best file pairs are: ', 'non_spikey_T0000025.WAV*non_spikey_T0000026.WAV')\n",
      "Unable to get proper audio match for video segment!\n",
      "('Could not save ', 'common_fps/Aditya_annotations/2018-08-19/common_fps_video_syncAditya_2018-08-20_0111-0200_125.csv')\n",
      "common_fps/Aditya_annotations/2018-08-19/common_fps_video_syncAditya_2018-08-20_0111-0200_126.csv\n",
      "('video_fps obtained is :', 25)\n",
      "Did not find user-provided sample rate - getting it from first file that matches format!\n",
      "('sampling rate is : ', 250000)\n",
      ".....finding best audio segment.....\n"
     ]
    },
    {
     "name": "stderr",
     "output_type": "stream",
     "text": [
      "\r",
      "  0%|          | 0/20 [00:00<?, ?it/s]"
     ]
    },
    {
     "name": "stdout",
     "output_type": "stream",
     "text": [
      "('max mins for upsampled video', -1.0, 0.9827218421418822)\n",
      "('max mins', -1.0, 0.9687355577573609)\n"
     ]
    },
    {
     "name": "stderr",
     "output_type": "stream",
     "text": [
      "\r",
      "  5%|▌         | 1/20 [00:04<01:25,  4.48s/it]"
     ]
    },
    {
     "name": "stdout",
     "output_type": "stream",
     "text": [
      "('max mins', -1.0, 0.9546987452164709)\n"
     ]
    },
    {
     "name": "stderr",
     "output_type": "stream",
     "text": [
      "\r",
      " 10%|█         | 2/20 [00:08<01:20,  4.48s/it]"
     ]
    },
    {
     "name": "stdout",
     "output_type": "stream",
     "text": [
      "('max mins', -0.9809947712224186, 1.0)\n"
     ]
    },
    {
     "name": "stderr",
     "output_type": "stream",
     "text": [
      "\r",
      " 15%|█▌        | 3/20 [00:14<01:19,  4.68s/it]"
     ]
    },
    {
     "name": "stdout",
     "output_type": "stream",
     "text": [
      "('max mins', -0.9761683827416775, 1.0)\n"
     ]
    },
    {
     "name": "stderr",
     "output_type": "stream",
     "text": [
      "\r",
      " 20%|██        | 4/20 [00:19<01:17,  4.86s/it]"
     ]
    },
    {
     "name": "stdout",
     "output_type": "stream",
     "text": [
      "('max mins', -1.0, 0.9979458402066035)\n"
     ]
    },
    {
     "name": "stderr",
     "output_type": "stream",
     "text": [
      "\r",
      " 25%|██▌       | 5/20 [00:24<01:14,  4.94s/it]"
     ]
    },
    {
     "name": "stdout",
     "output_type": "stream",
     "text": [
      "('max mins', -1.0, 0.9835242294300514)\n"
     ]
    },
    {
     "name": "stderr",
     "output_type": "stream",
     "text": [
      "\r",
      " 30%|███       | 6/20 [00:30<01:13,  5.22s/it]"
     ]
    },
    {
     "name": "stdout",
     "output_type": "stream",
     "text": [
      "('max mins', -1.0, 0.9794161216354017)\n"
     ]
    },
    {
     "name": "stderr",
     "output_type": "stream",
     "text": [
      "\r",
      " 35%|███▌      | 7/20 [00:36<01:10,  5.41s/it]"
     ]
    },
    {
     "name": "stdout",
     "output_type": "stream",
     "text": [
      "('max mins', -0.9539498961100137, 1.0)\n"
     ]
    },
    {
     "name": "stderr",
     "output_type": "stream",
     "text": [
      "\r",
      " 40%|████      | 8/20 [00:41<01:04,  5.35s/it]"
     ]
    },
    {
     "name": "stdout",
     "output_type": "stream",
     "text": [
      "('max mins', -0.9996854119274982, 1.0)\n"
     ]
    },
    {
     "name": "stderr",
     "output_type": "stream",
     "text": [
      "\r",
      " 45%|████▌     | 9/20 [00:46<00:57,  5.26s/it]"
     ]
    },
    {
     "name": "stdout",
     "output_type": "stream",
     "text": [
      "('max mins', -1.0, 0.9791724417691637)\n"
     ]
    },
    {
     "name": "stderr",
     "output_type": "stream",
     "text": [
      "\r",
      " 50%|█████     | 10/20 [00:51<00:51,  5.15s/it]"
     ]
    },
    {
     "name": "stdout",
     "output_type": "stream",
     "text": [
      "('max mins', -0.974005632614949, 1.0)\n"
     ]
    },
    {
     "name": "stderr",
     "output_type": "stream",
     "text": [
      "\r",
      " 55%|█████▌    | 11/20 [00:56<00:45,  5.08s/it]"
     ]
    },
    {
     "name": "stdout",
     "output_type": "stream",
     "text": [
      "('max mins', -1.0, 0.9886612045571966)\n"
     ]
    },
    {
     "name": "stderr",
     "output_type": "stream",
     "text": [
      "\r",
      " 60%|██████    | 12/20 [01:01<00:40,  5.05s/it]"
     ]
    },
    {
     "name": "stdout",
     "output_type": "stream",
     "text": [
      "('max mins', -1.0, 0.9791690486863055)\n"
     ]
    },
    {
     "name": "stderr",
     "output_type": "stream",
     "text": [
      "\r",
      " 65%|██████▌   | 13/20 [01:06<00:35,  5.09s/it]"
     ]
    },
    {
     "name": "stdout",
     "output_type": "stream",
     "text": [
      "('max mins', -1.0, 0.9545874949719761)\n"
     ]
    },
    {
     "name": "stderr",
     "output_type": "stream",
     "text": [
      "\r",
      " 70%|███████   | 14/20 [01:10<00:29,  4.91s/it]"
     ]
    },
    {
     "name": "stdout",
     "output_type": "stream",
     "text": [
      "('max mins', -1.0, 0.9768979047462234)\n"
     ]
    },
    {
     "name": "stderr",
     "output_type": "stream",
     "text": [
      "\r",
      " 75%|███████▌  | 15/20 [01:15<00:23,  4.79s/it]"
     ]
    },
    {
     "name": "stdout",
     "output_type": "stream",
     "text": [
      "('max mins', -0.9936673943340251, 1.0)\n"
     ]
    },
    {
     "name": "stderr",
     "output_type": "stream",
     "text": [
      "\r",
      " 80%|████████  | 16/20 [01:19<00:18,  4.70s/it]"
     ]
    },
    {
     "name": "stdout",
     "output_type": "stream",
     "text": [
      "('max mins', -0.9884825570880318, 1.0)\n"
     ]
    },
    {
     "name": "stderr",
     "output_type": "stream",
     "text": [
      "\r",
      " 85%|████████▌ | 17/20 [01:24<00:14,  4.80s/it]"
     ]
    },
    {
     "name": "stdout",
     "output_type": "stream",
     "text": [
      "('max mins', -0.9857245825266355, 1.0)\n"
     ]
    },
    {
     "name": "stderr",
     "output_type": "stream",
     "text": [
      "\r",
      " 90%|█████████ | 18/20 [01:29<00:09,  4.75s/it]"
     ]
    },
    {
     "name": "stdout",
     "output_type": "stream",
     "text": [
      "('max mins', -1.0, 0.9795481018740736)\n"
     ]
    },
    {
     "name": "stderr",
     "output_type": "stream",
     "text": [
      "\r",
      " 95%|█████████▌| 19/20 [01:35<00:04,  4.96s/it]"
     ]
    },
    {
     "name": "stdout",
     "output_type": "stream",
     "text": [
      "('max mins', -0.9963263934933122, 1.0)\n"
     ]
    },
    {
     "name": "stderr",
     "output_type": "stream",
     "text": [
      "100%|██████████| 20/20 [01:40<00:00,  5.13s/it]\n"
     ]
    },
    {
     "name": "stdout",
     "output_type": "stream",
     "text": [
      "('Best file pairs are: ', 'non_spikey_T0000026.WAV*non_spikey_T0000027.WAV')\n",
      "Start and end indices around peak:                  start index: 4817120\t\t          end index: 16317120                  total samples:30015488\n"
     ]
    },
    {
     "name": "stderr",
     "output_type": "stream",
     "text": [
      "../../../bin/audio_for_videoannotation.py:175: UserWarning: The AV sync may not be very great - please check again. The value was :0.24593128088480645\n",
      "  warnings.warn(warning_msg, stacklevel=1)\n"
     ]
    },
    {
     "name": "stdout",
     "output_type": "stream",
     "text": [
      "common_fps/Aditya_annotations/2018-08-19/common_fps_video_syncAditya_2018-08-20_0111-0200_129.csv\n",
      "('video_fps obtained is :', 25)\n",
      "Did not find user-provided sample rate - getting it from first file that matches format!\n",
      "('sampling rate is : ', 250000)\n",
      ".....finding best audio segment.....\n"
     ]
    },
    {
     "name": "stderr",
     "output_type": "stream",
     "text": [
      "\r",
      "  0%|          | 0/20 [00:00<?, ?it/s]"
     ]
    },
    {
     "name": "stdout",
     "output_type": "stream",
     "text": [
      "('max mins for upsampled video', -0.9724813778587403, 1.0)\n",
      "('max mins', -1.0, 0.9687355577573609)\n"
     ]
    },
    {
     "name": "stderr",
     "output_type": "stream",
     "text": [
      "\r",
      "  5%|▌         | 1/20 [00:05<01:40,  5.29s/it]"
     ]
    },
    {
     "name": "stdout",
     "output_type": "stream",
     "text": [
      "('max mins', -1.0, 0.9546987452164709)\n"
     ]
    },
    {
     "name": "stderr",
     "output_type": "stream",
     "text": [
      "\r",
      " 10%|█         | 2/20 [00:10<01:33,  5.22s/it]"
     ]
    },
    {
     "name": "stdout",
     "output_type": "stream",
     "text": [
      "('max mins', -0.9809947712224186, 1.0)\n"
     ]
    },
    {
     "name": "stderr",
     "output_type": "stream",
     "text": [
      "\r",
      " 15%|█▌        | 3/20 [00:14<01:24,  5.00s/it]"
     ]
    },
    {
     "name": "stdout",
     "output_type": "stream",
     "text": [
      "('max mins', -0.9761683827416775, 1.0)\n"
     ]
    },
    {
     "name": "stderr",
     "output_type": "stream",
     "text": [
      "\r",
      " 20%|██        | 4/20 [00:19<01:17,  4.84s/it]"
     ]
    },
    {
     "name": "stdout",
     "output_type": "stream",
     "text": [
      "('max mins', -1.0, 0.9979458402066035)\n"
     ]
    },
    {
     "name": "stderr",
     "output_type": "stream",
     "text": [
      "\r",
      " 25%|██▌       | 5/20 [00:23<01:11,  4.74s/it]"
     ]
    },
    {
     "name": "stdout",
     "output_type": "stream",
     "text": [
      "('max mins', -1.0, 0.9835242294300514)\n"
     ]
    },
    {
     "name": "stderr",
     "output_type": "stream",
     "text": [
      "\r",
      " 30%|███       | 6/20 [00:28<01:06,  4.78s/it]"
     ]
    },
    {
     "name": "stdout",
     "output_type": "stream",
     "text": [
      "('max mins', -1.0, 0.9794161216354017)\n"
     ]
    },
    {
     "name": "stderr",
     "output_type": "stream",
     "text": [
      "\r",
      " 35%|███▌      | 7/20 [00:33<01:01,  4.73s/it]"
     ]
    },
    {
     "name": "stdout",
     "output_type": "stream",
     "text": [
      "('max mins', -0.9539498961100137, 1.0)\n"
     ]
    },
    {
     "name": "stderr",
     "output_type": "stream",
     "text": [
      "\r",
      " 40%|████      | 8/20 [00:38<00:58,  4.86s/it]"
     ]
    },
    {
     "name": "stdout",
     "output_type": "stream",
     "text": [
      "('max mins', -0.9996854119274982, 1.0)\n"
     ]
    },
    {
     "name": "stderr",
     "output_type": "stream",
     "text": [
      "\r",
      " 45%|████▌     | 9/20 [00:43<00:54,  4.92s/it]"
     ]
    },
    {
     "name": "stdout",
     "output_type": "stream",
     "text": [
      "('max mins', -1.0, 0.9791724417691637)\n"
     ]
    },
    {
     "name": "stderr",
     "output_type": "stream",
     "text": [
      "\r",
      " 50%|█████     | 10/20 [00:48<00:49,  4.97s/it]"
     ]
    },
    {
     "name": "stdout",
     "output_type": "stream",
     "text": [
      "('max mins', -0.974005632614949, 1.0)\n"
     ]
    },
    {
     "name": "stderr",
     "output_type": "stream",
     "text": [
      "\r",
      " 55%|█████▌    | 11/20 [00:53<00:45,  5.05s/it]"
     ]
    },
    {
     "name": "stdout",
     "output_type": "stream",
     "text": [
      "('max mins', -1.0, 0.9886612045571966)\n"
     ]
    },
    {
     "name": "stderr",
     "output_type": "stream",
     "text": [
      "\r",
      " 60%|██████    | 12/20 [00:58<00:39,  4.98s/it]"
     ]
    },
    {
     "name": "stdout",
     "output_type": "stream",
     "text": [
      "('max mins', -1.0, 0.9791690486863055)\n"
     ]
    },
    {
     "name": "stderr",
     "output_type": "stream",
     "text": [
      "\r",
      " 65%|██████▌   | 13/20 [01:03<00:34,  4.96s/it]"
     ]
    },
    {
     "name": "stdout",
     "output_type": "stream",
     "text": [
      "('max mins', -1.0, 0.9545874949719761)\n"
     ]
    },
    {
     "name": "stderr",
     "output_type": "stream",
     "text": [
      "\r",
      " 70%|███████   | 14/20 [01:09<00:31,  5.18s/it]"
     ]
    },
    {
     "name": "stdout",
     "output_type": "stream",
     "text": [
      "('max mins', -1.0, 0.9768979047462234)\n"
     ]
    },
    {
     "name": "stderr",
     "output_type": "stream",
     "text": [
      "\r",
      " 75%|███████▌  | 15/20 [01:14<00:25,  5.17s/it]"
     ]
    },
    {
     "name": "stdout",
     "output_type": "stream",
     "text": [
      "('max mins', -0.9936673943340251, 1.0)\n"
     ]
    },
    {
     "name": "stderr",
     "output_type": "stream",
     "text": [
      "\r",
      " 80%|████████  | 16/20 [01:19<00:20,  5.09s/it]"
     ]
    },
    {
     "name": "stdout",
     "output_type": "stream",
     "text": [
      "('max mins', -0.9884825570880318, 1.0)\n"
     ]
    },
    {
     "name": "stderr",
     "output_type": "stream",
     "text": [
      "\r",
      " 85%|████████▌ | 17/20 [01:24<00:15,  5.12s/it]"
     ]
    },
    {
     "name": "stdout",
     "output_type": "stream",
     "text": [
      "('max mins', -0.9857245825266355, 1.0)\n"
     ]
    },
    {
     "name": "stderr",
     "output_type": "stream",
     "text": [
      "\r",
      " 90%|█████████ | 18/20 [01:29<00:10,  5.14s/it]"
     ]
    },
    {
     "name": "stdout",
     "output_type": "stream",
     "text": [
      "('max mins', -1.0, 0.9795481018740736)\n"
     ]
    },
    {
     "name": "stderr",
     "output_type": "stream",
     "text": [
      "\r",
      " 95%|█████████▌| 19/20 [01:35<00:05,  5.31s/it]"
     ]
    },
    {
     "name": "stdout",
     "output_type": "stream",
     "text": [
      "('max mins', -0.9963263934933122, 1.0)\n"
     ]
    },
    {
     "name": "stderr",
     "output_type": "stream",
     "text": [
      "100%|██████████| 20/20 [01:40<00:00,  5.18s/it]\n"
     ]
    },
    {
     "name": "stdout",
     "output_type": "stream",
     "text": [
      "('Best file pairs are: ', 'non_spikey_T0000031.WAV*non_spikey_T0000032.WAV')\n",
      "Start and end indices around peak:                  start index: 5478828\t\t          end index: 16978828                  total samples:30015488\n"
     ]
    },
    {
     "name": "stderr",
     "output_type": "stream",
     "text": [
      "../../../bin/audio_for_videoannotation.py:175: UserWarning: The AV sync may not be very great - please check again. The value was :0.21701080010399476\n",
      "  warnings.warn(warning_msg, stacklevel=1)\n"
     ]
    },
    {
     "name": "stdout",
     "output_type": "stream",
     "text": [
      "common_fps/Aditya_annotations/2018-08-19/common_fps_video_syncAditya_2018-08-20_0111-0200_131.csv\n",
      "('video_fps obtained is :', 25)\n",
      "Did not find user-provided sample rate - getting it from first file that matches format!\n",
      "('sampling rate is : ', 250000)\n",
      ".....finding best audio segment.....\n"
     ]
    },
    {
     "name": "stderr",
     "output_type": "stream",
     "text": [
      "\r",
      "  0%|          | 0/20 [00:00<?, ?it/s]"
     ]
    },
    {
     "name": "stdout",
     "output_type": "stream",
     "text": [
      "('max mins for upsampled video', -0.9954355075055281, 1.0)\n",
      "('max mins', -1.0, 0.9687355577573609)\n"
     ]
    },
    {
     "name": "stderr",
     "output_type": "stream",
     "text": [
      "\r",
      "  5%|▌         | 1/20 [00:05<01:44,  5.52s/it]"
     ]
    },
    {
     "name": "stdout",
     "output_type": "stream",
     "text": [
      "('max mins', -1.0, 0.9546987452164709)\n"
     ]
    },
    {
     "name": "stderr",
     "output_type": "stream",
     "text": [
      "\r",
      " 10%|█         | 2/20 [00:10<01:36,  5.38s/it]"
     ]
    },
    {
     "name": "stdout",
     "output_type": "stream",
     "text": [
      "('max mins', -0.9809947712224186, 1.0)\n"
     ]
    },
    {
     "name": "stderr",
     "output_type": "stream",
     "text": [
      "\r",
      " 15%|█▌        | 3/20 [00:15<01:31,  5.36s/it]"
     ]
    },
    {
     "name": "stdout",
     "output_type": "stream",
     "text": [
      "('max mins', -0.9761683827416775, 1.0)\n"
     ]
    },
    {
     "name": "stderr",
     "output_type": "stream",
     "text": [
      "\r",
      " 20%|██        | 4/20 [00:20<01:23,  5.23s/it]"
     ]
    },
    {
     "name": "stdout",
     "output_type": "stream",
     "text": [
      "('max mins', -1.0, 0.9979458402066035)\n"
     ]
    },
    {
     "name": "stderr",
     "output_type": "stream",
     "text": [
      "\r",
      " 25%|██▌       | 5/20 [00:26<01:18,  5.24s/it]"
     ]
    },
    {
     "name": "stdout",
     "output_type": "stream",
     "text": [
      "('max mins', -1.0, 0.9835242294300514)\n"
     ]
    },
    {
     "name": "stderr",
     "output_type": "stream",
     "text": [
      "\r",
      " 30%|███       | 6/20 [00:30<01:10,  5.00s/it]"
     ]
    },
    {
     "name": "stdout",
     "output_type": "stream",
     "text": [
      "('max mins', -1.0, 0.9794161216354017)\n"
     ]
    },
    {
     "name": "stderr",
     "output_type": "stream",
     "text": [
      "\r",
      " 35%|███▌      | 7/20 [00:34<01:02,  4.84s/it]"
     ]
    },
    {
     "name": "stdout",
     "output_type": "stream",
     "text": [
      "('max mins', -0.9539498961100137, 1.0)\n"
     ]
    },
    {
     "name": "stderr",
     "output_type": "stream",
     "text": [
      "\r",
      " 40%|████      | 8/20 [00:39<00:56,  4.72s/it]"
     ]
    },
    {
     "name": "stdout",
     "output_type": "stream",
     "text": [
      "('max mins', -0.9996854119274982, 1.0)\n"
     ]
    },
    {
     "name": "stderr",
     "output_type": "stream",
     "text": [
      "\r",
      " 45%|████▌     | 9/20 [00:43<00:51,  4.64s/it]"
     ]
    },
    {
     "name": "stdout",
     "output_type": "stream",
     "text": [
      "('max mins', -1.0, 0.9791724417691637)\n"
     ]
    },
    {
     "name": "stderr",
     "output_type": "stream",
     "text": [
      "\r",
      " 50%|█████     | 10/20 [00:48<00:45,  4.58s/it]"
     ]
    },
    {
     "name": "stdout",
     "output_type": "stream",
     "text": [
      "('max mins', -0.974005632614949, 1.0)\n"
     ]
    },
    {
     "name": "stderr",
     "output_type": "stream",
     "text": [
      "\r",
      " 55%|█████▌    | 11/20 [00:52<00:40,  4.55s/it]"
     ]
    },
    {
     "name": "stdout",
     "output_type": "stream",
     "text": [
      "('max mins', -1.0, 0.9886612045571966)\n"
     ]
    },
    {
     "name": "stderr",
     "output_type": "stream",
     "text": [
      "\r",
      " 60%|██████    | 12/20 [00:57<00:36,  4.52s/it]"
     ]
    },
    {
     "name": "stdout",
     "output_type": "stream",
     "text": [
      "('max mins', -1.0, 0.9791690486863055)\n"
     ]
    },
    {
     "name": "stderr",
     "output_type": "stream",
     "text": [
      "\r",
      " 65%|██████▌   | 13/20 [01:01<00:31,  4.50s/it]"
     ]
    },
    {
     "name": "stdout",
     "output_type": "stream",
     "text": [
      "('max mins', -1.0, 0.9545874949719761)\n"
     ]
    },
    {
     "name": "stderr",
     "output_type": "stream",
     "text": [
      "\r",
      " 70%|███████   | 14/20 [01:06<00:26,  4.48s/it]"
     ]
    },
    {
     "name": "stdout",
     "output_type": "stream",
     "text": [
      "('max mins', -1.0, 0.9768979047462234)\n"
     ]
    },
    {
     "name": "stderr",
     "output_type": "stream",
     "text": [
      "\r",
      " 75%|███████▌  | 15/20 [01:10<00:22,  4.47s/it]"
     ]
    },
    {
     "name": "stdout",
     "output_type": "stream",
     "text": [
      "('max mins', -0.9936673943340251, 1.0)\n"
     ]
    },
    {
     "name": "stderr",
     "output_type": "stream",
     "text": [
      "\r",
      " 80%|████████  | 16/20 [01:15<00:17,  4.47s/it]"
     ]
    },
    {
     "name": "stdout",
     "output_type": "stream",
     "text": [
      "('max mins', -0.9884825570880318, 1.0)\n"
     ]
    },
    {
     "name": "stderr",
     "output_type": "stream",
     "text": [
      "\r",
      " 85%|████████▌ | 17/20 [01:19<00:13,  4.46s/it]"
     ]
    },
    {
     "name": "stdout",
     "output_type": "stream",
     "text": [
      "('max mins', -0.9857245825266355, 1.0)\n"
     ]
    },
    {
     "name": "stderr",
     "output_type": "stream",
     "text": [
      "\r",
      " 90%|█████████ | 18/20 [01:23<00:08,  4.45s/it]"
     ]
    },
    {
     "name": "stdout",
     "output_type": "stream",
     "text": [
      "('max mins', -1.0, 0.9795481018740736)\n"
     ]
    },
    {
     "name": "stderr",
     "output_type": "stream",
     "text": [
      "\r",
      " 95%|█████████▌| 19/20 [01:28<00:04,  4.45s/it]"
     ]
    },
    {
     "name": "stdout",
     "output_type": "stream",
     "text": [
      "('max mins', -0.9963263934933122, 1.0)\n"
     ]
    },
    {
     "name": "stderr",
     "output_type": "stream",
     "text": [
      "100%|██████████| 20/20 [01:32<00:00,  4.44s/it]\n"
     ]
    },
    {
     "name": "stdout",
     "output_type": "stream",
     "text": [
      "('Best file pairs are: ', 'non_spikey_T0000023.WAV*non_spikey_T0000024.WAV')\n",
      "Unable to get proper audio match for video segment!\n",
      "('Could not save ', 'common_fps/Aditya_annotations/2018-08-19/common_fps_video_syncAditya_2018-08-20_0111-0200_131.csv')\n",
      "common_fps/Aditya_annotations/2018-08-19/common_fps_video_syncAditya_2018-08-20_0111-0200_132.csv\n",
      "('video_fps obtained is :', 25)\n",
      "Did not find user-provided sample rate - getting it from first file that matches format!\n",
      "('sampling rate is : ', 250000)\n",
      ".....finding best audio segment.....\n"
     ]
    },
    {
     "name": "stderr",
     "output_type": "stream",
     "text": [
      "\r",
      "  0%|          | 0/20 [00:00<?, ?it/s]"
     ]
    },
    {
     "name": "stdout",
     "output_type": "stream",
     "text": [
      "('max mins for upsampled video', -0.9954355075055281, 1.0)\n",
      "('max mins', -1.0, 0.9687355577573609)\n"
     ]
    },
    {
     "name": "stderr",
     "output_type": "stream",
     "text": [
      "\r",
      "  5%|▌         | 1/20 [00:04<01:24,  4.43s/it]"
     ]
    },
    {
     "name": "stdout",
     "output_type": "stream",
     "text": [
      "('max mins', -1.0, 0.9546987452164709)\n"
     ]
    },
    {
     "name": "stderr",
     "output_type": "stream",
     "text": [
      "\r",
      " 10%|█         | 2/20 [00:08<01:19,  4.43s/it]"
     ]
    },
    {
     "name": "stdout",
     "output_type": "stream",
     "text": [
      "('max mins', -0.9809947712224186, 1.0)\n"
     ]
    },
    {
     "name": "stderr",
     "output_type": "stream",
     "text": [
      "\r",
      " 15%|█▌        | 3/20 [00:13<01:15,  4.43s/it]"
     ]
    },
    {
     "name": "stdout",
     "output_type": "stream",
     "text": [
      "('max mins', -0.9761683827416775, 1.0)\n"
     ]
    },
    {
     "name": "stderr",
     "output_type": "stream",
     "text": [
      "\r",
      " 20%|██        | 4/20 [00:17<01:10,  4.43s/it]"
     ]
    },
    {
     "name": "stdout",
     "output_type": "stream",
     "text": [
      "('max mins', -1.0, 0.9979458402066035)\n"
     ]
    },
    {
     "name": "stderr",
     "output_type": "stream",
     "text": [
      "\r",
      " 25%|██▌       | 5/20 [00:22<01:06,  4.44s/it]"
     ]
    },
    {
     "name": "stdout",
     "output_type": "stream",
     "text": [
      "('max mins', -1.0, 0.9835242294300514)\n"
     ]
    },
    {
     "name": "stderr",
     "output_type": "stream",
     "text": [
      "\r",
      " 30%|███       | 6/20 [00:26<01:02,  4.44s/it]"
     ]
    },
    {
     "name": "stdout",
     "output_type": "stream",
     "text": [
      "('max mins', -1.0, 0.9794161216354017)\n"
     ]
    },
    {
     "name": "stderr",
     "output_type": "stream",
     "text": [
      "\r",
      " 35%|███▌      | 7/20 [00:31<01:01,  4.71s/it]"
     ]
    },
    {
     "name": "stdout",
     "output_type": "stream",
     "text": [
      "('max mins', -0.9539498961100137, 1.0)\n"
     ]
    },
    {
     "name": "stderr",
     "output_type": "stream",
     "text": [
      "\r",
      " 40%|████      | 8/20 [00:36<00:55,  4.66s/it]"
     ]
    },
    {
     "name": "stdout",
     "output_type": "stream",
     "text": [
      "('max mins', -0.9996854119274982, 1.0)\n"
     ]
    },
    {
     "name": "stderr",
     "output_type": "stream",
     "text": [
      "\r",
      " 45%|████▌     | 9/20 [00:40<00:50,  4.60s/it]"
     ]
    },
    {
     "name": "stdout",
     "output_type": "stream",
     "text": [
      "('max mins', -1.0, 0.9791724417691637)\n"
     ]
    },
    {
     "name": "stderr",
     "output_type": "stream",
     "text": [
      "\r",
      " 50%|█████     | 10/20 [00:45<00:45,  4.55s/it]"
     ]
    },
    {
     "name": "stdout",
     "output_type": "stream",
     "text": [
      "('max mins', -0.974005632614949, 1.0)\n"
     ]
    },
    {
     "name": "stderr",
     "output_type": "stream",
     "text": [
      "\r",
      " 55%|█████▌    | 11/20 [00:49<00:40,  4.52s/it]"
     ]
    },
    {
     "name": "stdout",
     "output_type": "stream",
     "text": [
      "('max mins', -1.0, 0.9886612045571966)\n"
     ]
    },
    {
     "name": "stderr",
     "output_type": "stream",
     "text": [
      "\r",
      " 60%|██████    | 12/20 [00:54<00:35,  4.50s/it]"
     ]
    },
    {
     "name": "stdout",
     "output_type": "stream",
     "text": [
      "('max mins', -1.0, 0.9791690486863055)\n"
     ]
    },
    {
     "name": "stderr",
     "output_type": "stream",
     "text": [
      "\r",
      " 65%|██████▌   | 13/20 [00:58<00:31,  4.48s/it]"
     ]
    },
    {
     "name": "stdout",
     "output_type": "stream",
     "text": [
      "('max mins', -1.0, 0.9545874949719761)\n"
     ]
    },
    {
     "name": "stderr",
     "output_type": "stream",
     "text": [
      "\r",
      " 70%|███████   | 14/20 [01:03<00:26,  4.47s/it]"
     ]
    },
    {
     "name": "stdout",
     "output_type": "stream",
     "text": [
      "('max mins', -1.0, 0.9768979047462234)\n"
     ]
    },
    {
     "name": "stderr",
     "output_type": "stream",
     "text": [
      "\r",
      " 75%|███████▌  | 15/20 [01:07<00:22,  4.46s/it]"
     ]
    },
    {
     "name": "stdout",
     "output_type": "stream",
     "text": [
      "('max mins', -0.9936673943340251, 1.0)\n"
     ]
    },
    {
     "name": "stderr",
     "output_type": "stream",
     "text": [
      "\r",
      " 80%|████████  | 16/20 [01:12<00:17,  4.45s/it]"
     ]
    },
    {
     "name": "stdout",
     "output_type": "stream",
     "text": [
      "('max mins', -0.9884825570880318, 1.0)\n"
     ]
    },
    {
     "name": "stderr",
     "output_type": "stream",
     "text": [
      "\r",
      " 85%|████████▌ | 17/20 [01:16<00:13,  4.45s/it]"
     ]
    },
    {
     "name": "stdout",
     "output_type": "stream",
     "text": [
      "('max mins', -0.9857245825266355, 1.0)\n"
     ]
    },
    {
     "name": "stderr",
     "output_type": "stream",
     "text": [
      "\r",
      " 90%|█████████ | 18/20 [01:20<00:08,  4.45s/it]"
     ]
    },
    {
     "name": "stdout",
     "output_type": "stream",
     "text": [
      "('max mins', -1.0, 0.9795481018740736)\n"
     ]
    },
    {
     "name": "stderr",
     "output_type": "stream",
     "text": [
      "\r",
      " 95%|█████████▌| 19/20 [01:25<00:04,  4.45s/it]"
     ]
    },
    {
     "name": "stdout",
     "output_type": "stream",
     "text": [
      "('max mins', -0.9963263934933122, 1.0)\n"
     ]
    },
    {
     "name": "stderr",
     "output_type": "stream",
     "text": [
      "100%|██████████| 20/20 [01:29<00:00,  4.45s/it]\n"
     ]
    },
    {
     "name": "stdout",
     "output_type": "stream",
     "text": [
      "('Best file pairs are: ', 'non_spikey_T0000023.WAV*non_spikey_T0000024.WAV')\n",
      "Unable to get proper audio match for video segment!\n",
      "('Could not save ', 'common_fps/Aditya_annotations/2018-08-19/common_fps_video_syncAditya_2018-08-20_0111-0200_132.csv')\n",
      "common_fps/Aditya_annotations/2018-08-19/common_fps_video_syncAditya_2018-08-20_0111-0200_133.csv\n",
      "('video_fps obtained is :', 25)\n",
      "Did not find user-provided sample rate - getting it from first file that matches format!\n",
      "('sampling rate is : ', 250000)\n",
      ".....finding best audio segment.....\n"
     ]
    },
    {
     "name": "stderr",
     "output_type": "stream",
     "text": [
      "\r",
      "  0%|          | 0/20 [00:00<?, ?it/s]"
     ]
    },
    {
     "name": "stdout",
     "output_type": "stream",
     "text": [
      "('max mins for upsampled video', -0.99228347729565, 1.0)\n",
      "('max mins', -1.0, 0.9687355577573609)\n"
     ]
    },
    {
     "name": "stderr",
     "output_type": "stream",
     "text": [
      "\r",
      "  5%|▌         | 1/20 [00:04<01:24,  4.44s/it]"
     ]
    },
    {
     "name": "stdout",
     "output_type": "stream",
     "text": [
      "('max mins', -1.0, 0.9546987452164709)\n"
     ]
    },
    {
     "name": "stderr",
     "output_type": "stream",
     "text": [
      "\r",
      " 10%|█         | 2/20 [00:08<01:19,  4.44s/it]"
     ]
    },
    {
     "name": "stdout",
     "output_type": "stream",
     "text": [
      "('max mins', -0.9809947712224186, 1.0)\n"
     ]
    },
    {
     "name": "stderr",
     "output_type": "stream",
     "text": [
      "\r",
      " 15%|█▌        | 3/20 [00:13<01:15,  4.45s/it]"
     ]
    },
    {
     "name": "stdout",
     "output_type": "stream",
     "text": [
      "('max mins', -0.9761683827416775, 1.0)\n"
     ]
    },
    {
     "name": "stderr",
     "output_type": "stream",
     "text": [
      "\r",
      " 20%|██        | 4/20 [00:17<01:11,  4.45s/it]"
     ]
    },
    {
     "name": "stdout",
     "output_type": "stream",
     "text": [
      "('max mins', -1.0, 0.9979458402066035)\n"
     ]
    },
    {
     "name": "stderr",
     "output_type": "stream",
     "text": [
      "\r",
      " 25%|██▌       | 5/20 [00:22<01:06,  4.45s/it]"
     ]
    },
    {
     "name": "stdout",
     "output_type": "stream",
     "text": [
      "('max mins', -1.0, 0.9835242294300514)\n"
     ]
    },
    {
     "name": "stderr",
     "output_type": "stream",
     "text": [
      "\r",
      " 30%|███       | 6/20 [00:26<01:02,  4.44s/it]"
     ]
    },
    {
     "name": "stdout",
     "output_type": "stream",
     "text": [
      "('max mins', -1.0, 0.9794161216354017)\n"
     ]
    },
    {
     "name": "stderr",
     "output_type": "stream",
     "text": [
      "\r",
      " 35%|███▌      | 7/20 [00:31<00:57,  4.44s/it]"
     ]
    },
    {
     "name": "stdout",
     "output_type": "stream",
     "text": [
      "('max mins', -0.9539498961100137, 1.0)\n"
     ]
    },
    {
     "name": "stderr",
     "output_type": "stream",
     "text": [
      "\r",
      " 40%|████      | 8/20 [00:35<00:53,  4.46s/it]"
     ]
    },
    {
     "name": "stdout",
     "output_type": "stream",
     "text": [
      "('max mins', -0.9996854119274982, 1.0)\n"
     ]
    },
    {
     "name": "stderr",
     "output_type": "stream",
     "text": [
      "\r",
      " 45%|████▌     | 9/20 [00:40<00:49,  4.46s/it]"
     ]
    },
    {
     "name": "stdout",
     "output_type": "stream",
     "text": [
      "('max mins', -1.0, 0.9791724417691637)\n"
     ]
    },
    {
     "name": "stderr",
     "output_type": "stream",
     "text": [
      "\r",
      " 50%|█████     | 10/20 [00:44<00:44,  4.45s/it]"
     ]
    },
    {
     "name": "stdout",
     "output_type": "stream",
     "text": [
      "('max mins', -0.974005632614949, 1.0)\n"
     ]
    },
    {
     "name": "stderr",
     "output_type": "stream",
     "text": [
      "\r",
      " 55%|█████▌    | 11/20 [00:49<00:40,  4.48s/it]"
     ]
    },
    {
     "name": "stdout",
     "output_type": "stream",
     "text": [
      "('max mins', -1.0, 0.9886612045571966)\n"
     ]
    },
    {
     "name": "stderr",
     "output_type": "stream",
     "text": [
      "\r",
      " 60%|██████    | 12/20 [00:53<00:36,  4.61s/it]"
     ]
    },
    {
     "name": "stdout",
     "output_type": "stream",
     "text": [
      "('max mins', -1.0, 0.9791690486863055)\n"
     ]
    },
    {
     "name": "stderr",
     "output_type": "stream",
     "text": [
      "\r",
      " 65%|██████▌   | 13/20 [00:58<00:33,  4.73s/it]"
     ]
    },
    {
     "name": "stdout",
     "output_type": "stream",
     "text": [
      "('max mins', -1.0, 0.9545874949719761)\n"
     ]
    },
    {
     "name": "stderr",
     "output_type": "stream",
     "text": [
      "\r",
      " 70%|███████   | 14/20 [01:03<00:28,  4.73s/it]"
     ]
    },
    {
     "name": "stdout",
     "output_type": "stream",
     "text": [
      "('max mins', -1.0, 0.9768979047462234)\n"
     ]
    },
    {
     "name": "stderr",
     "output_type": "stream",
     "text": [
      "\r",
      " 75%|███████▌  | 15/20 [01:08<00:23,  4.65s/it]"
     ]
    },
    {
     "name": "stdout",
     "output_type": "stream",
     "text": [
      "('max mins', -0.9936673943340251, 1.0)\n"
     ]
    },
    {
     "name": "stderr",
     "output_type": "stream",
     "text": [
      "\r",
      " 80%|████████  | 16/20 [01:12<00:18,  4.59s/it]"
     ]
    },
    {
     "name": "stdout",
     "output_type": "stream",
     "text": [
      "('max mins', -0.9884825570880318, 1.0)\n"
     ]
    },
    {
     "name": "stderr",
     "output_type": "stream",
     "text": [
      "\r",
      " 85%|████████▌ | 17/20 [01:17<00:13,  4.54s/it]"
     ]
    },
    {
     "name": "stdout",
     "output_type": "stream",
     "text": [
      "('max mins', -0.9857245825266355, 1.0)\n"
     ]
    },
    {
     "name": "stderr",
     "output_type": "stream",
     "text": [
      "\r",
      " 90%|█████████ | 18/20 [01:21<00:09,  4.51s/it]"
     ]
    },
    {
     "name": "stdout",
     "output_type": "stream",
     "text": [
      "('max mins', -1.0, 0.9795481018740736)\n"
     ]
    },
    {
     "name": "stderr",
     "output_type": "stream",
     "text": [
      "\r",
      " 95%|█████████▌| 19/20 [01:25<00:04,  4.48s/it]"
     ]
    },
    {
     "name": "stdout",
     "output_type": "stream",
     "text": [
      "('max mins', -0.9963263934933122, 1.0)\n"
     ]
    },
    {
     "name": "stderr",
     "output_type": "stream",
     "text": [
      "100%|██████████| 20/20 [01:30<00:00,  4.47s/it]\n"
     ]
    },
    {
     "name": "stdout",
     "output_type": "stream",
     "text": [
      "('Best file pairs are: ', 'non_spikey_T0000022.WAV*non_spikey_T0000023.WAV')\n",
      "Start and end indices around peak:                  start index: 15159326\t\t          end index: 26659326                  total samples:30015488\n"
     ]
    },
    {
     "name": "stderr",
     "output_type": "stream",
     "text": [
      "../../../bin/audio_for_videoannotation.py:175: UserWarning: The AV sync may not be very great - please check again. The value was :0.2744859492732661\n",
      "  warnings.warn(warning_msg, stacklevel=1)\n"
     ]
    },
    {
     "name": "stdout",
     "output_type": "stream",
     "text": [
      "common_fps/Aditya_annotations/2018-08-19/common_fps_video_syncAditya_2018-08-20_0111-0200_134.csv\n",
      "('video_fps obtained is :', 25)\n",
      "Did not find user-provided sample rate - getting it from first file that matches format!\n",
      "('sampling rate is : ', 250000)\n",
      ".....finding best audio segment.....\n"
     ]
    },
    {
     "name": "stderr",
     "output_type": "stream",
     "text": [
      "\r",
      "  0%|          | 0/20 [00:00<?, ?it/s]"
     ]
    },
    {
     "name": "stdout",
     "output_type": "stream",
     "text": [
      "('max mins for upsampled video', -0.984218059927149, 1.0)\n",
      "('max mins', -1.0, 0.9687355577573609)\n"
     ]
    },
    {
     "name": "stderr",
     "output_type": "stream",
     "text": [
      "\r",
      "  5%|▌         | 1/20 [00:04<01:23,  4.40s/it]"
     ]
    },
    {
     "name": "stdout",
     "output_type": "stream",
     "text": [
      "('max mins', -1.0, 0.9546987452164709)\n"
     ]
    },
    {
     "name": "stderr",
     "output_type": "stream",
     "text": [
      "\r",
      " 10%|█         | 2/20 [00:08<01:19,  4.41s/it]"
     ]
    },
    {
     "name": "stdout",
     "output_type": "stream",
     "text": [
      "('max mins', -0.9809947712224186, 1.0)\n"
     ]
    },
    {
     "name": "stderr",
     "output_type": "stream",
     "text": [
      "\r",
      " 15%|█▌        | 3/20 [00:13<01:15,  4.41s/it]"
     ]
    },
    {
     "name": "stdout",
     "output_type": "stream",
     "text": [
      "('max mins', -0.9761683827416775, 1.0)\n"
     ]
    },
    {
     "name": "stderr",
     "output_type": "stream",
     "text": [
      "\r",
      " 20%|██        | 4/20 [00:17<01:10,  4.41s/it]"
     ]
    },
    {
     "name": "stdout",
     "output_type": "stream",
     "text": [
      "('max mins', -1.0, 0.9979458402066035)\n"
     ]
    },
    {
     "name": "stderr",
     "output_type": "stream",
     "text": [
      "\r",
      " 25%|██▌       | 5/20 [00:22<01:06,  4.42s/it]"
     ]
    },
    {
     "name": "stdout",
     "output_type": "stream",
     "text": [
      "('max mins', -1.0, 0.9835242294300514)\n"
     ]
    },
    {
     "name": "stderr",
     "output_type": "stream",
     "text": [
      "\r",
      " 30%|███       | 6/20 [00:26<01:01,  4.42s/it]"
     ]
    },
    {
     "name": "stdout",
     "output_type": "stream",
     "text": [
      "('max mins', -1.0, 0.9794161216354017)\n"
     ]
    },
    {
     "name": "stderr",
     "output_type": "stream",
     "text": [
      "\r",
      " 35%|███▌      | 7/20 [00:30<00:57,  4.42s/it]"
     ]
    },
    {
     "name": "stdout",
     "output_type": "stream",
     "text": [
      "('max mins', -0.9539498961100137, 1.0)\n"
     ]
    },
    {
     "name": "stderr",
     "output_type": "stream",
     "text": [
      "\r",
      " 40%|████      | 8/20 [00:35<00:53,  4.42s/it]"
     ]
    },
    {
     "name": "stdout",
     "output_type": "stream",
     "text": [
      "('max mins', -0.9996854119274982, 1.0)\n"
     ]
    },
    {
     "name": "stderr",
     "output_type": "stream",
     "text": [
      "\r",
      " 45%|████▌     | 9/20 [00:39<00:48,  4.42s/it]"
     ]
    },
    {
     "name": "stdout",
     "output_type": "stream",
     "text": [
      "('max mins', -1.0, 0.9791724417691637)\n"
     ]
    },
    {
     "name": "stderr",
     "output_type": "stream",
     "text": [
      "\r",
      " 50%|█████     | 10/20 [00:44<00:44,  4.43s/it]"
     ]
    },
    {
     "name": "stdout",
     "output_type": "stream",
     "text": [
      "('max mins', -0.974005632614949, 1.0)\n"
     ]
    },
    {
     "name": "stderr",
     "output_type": "stream",
     "text": [
      "\r",
      " 55%|█████▌    | 11/20 [00:48<00:39,  4.43s/it]"
     ]
    },
    {
     "name": "stdout",
     "output_type": "stream",
     "text": [
      "('max mins', -1.0, 0.9886612045571966)\n"
     ]
    },
    {
     "name": "stderr",
     "output_type": "stream",
     "text": [
      "\r",
      " 60%|██████    | 12/20 [00:53<00:35,  4.42s/it]"
     ]
    },
    {
     "name": "stdout",
     "output_type": "stream",
     "text": [
      "('max mins', -1.0, 0.9791690486863055)\n"
     ]
    },
    {
     "name": "stderr",
     "output_type": "stream",
     "text": [
      "\r",
      " 65%|██████▌   | 13/20 [00:57<00:30,  4.42s/it]"
     ]
    },
    {
     "name": "stdout",
     "output_type": "stream",
     "text": [
      "('max mins', -1.0, 0.9545874949719761)\n"
     ]
    },
    {
     "name": "stderr",
     "output_type": "stream",
     "text": [
      "\r",
      " 70%|███████   | 14/20 [01:01<00:26,  4.42s/it]"
     ]
    },
    {
     "name": "stdout",
     "output_type": "stream",
     "text": [
      "('max mins', -1.0, 0.9768979047462234)\n"
     ]
    },
    {
     "name": "stderr",
     "output_type": "stream",
     "text": [
      "\r",
      " 75%|███████▌  | 15/20 [01:06<00:22,  4.41s/it]"
     ]
    },
    {
     "name": "stdout",
     "output_type": "stream",
     "text": [
      "('max mins', -0.9936673943340251, 1.0)\n"
     ]
    },
    {
     "name": "stderr",
     "output_type": "stream",
     "text": [
      "\r",
      " 80%|████████  | 16/20 [01:10<00:17,  4.41s/it]"
     ]
    },
    {
     "name": "stdout",
     "output_type": "stream",
     "text": [
      "('max mins', -0.9884825570880318, 1.0)\n"
     ]
    },
    {
     "name": "stderr",
     "output_type": "stream",
     "text": [
      "\r",
      " 85%|████████▌ | 17/20 [01:15<00:13,  4.42s/it]"
     ]
    },
    {
     "name": "stdout",
     "output_type": "stream",
     "text": [
      "('max mins', -0.9857245825266355, 1.0)\n"
     ]
    },
    {
     "name": "stderr",
     "output_type": "stream",
     "text": [
      "\r",
      " 90%|█████████ | 18/20 [01:19<00:08,  4.41s/it]"
     ]
    },
    {
     "name": "stdout",
     "output_type": "stream",
     "text": [
      "('max mins', -1.0, 0.9795481018740736)\n"
     ]
    },
    {
     "name": "stderr",
     "output_type": "stream",
     "text": [
      "\r",
      " 95%|█████████▌| 19/20 [01:23<00:04,  4.43s/it]"
     ]
    },
    {
     "name": "stdout",
     "output_type": "stream",
     "text": [
      "('max mins', -0.9963263934933122, 1.0)\n"
     ]
    },
    {
     "name": "stderr",
     "output_type": "stream",
     "text": [
      "100%|██████████| 20/20 [01:29<00:00,  4.62s/it]\n"
     ]
    },
    {
     "name": "stdout",
     "output_type": "stream",
     "text": [
      "('Best file pairs are: ', 'non_spikey_T0000022.WAV*non_spikey_T0000023.WAV')\n",
      "Start and end indices around peak:                  start index: 15411590\t\t          end index: 26911590                  total samples:30015488\n"
     ]
    },
    {
     "name": "stderr",
     "output_type": "stream",
     "text": [
      "../../../bin/audio_for_videoannotation.py:175: UserWarning: The AV sync may not be very great - please check again. The value was :0.25926649111680283\n",
      "  warnings.warn(warning_msg, stacklevel=1)\n"
     ]
    },
    {
     "name": "stdout",
     "output_type": "stream",
     "text": [
      "common_fps/Aditya_annotations/2018-08-19/common_fps_video_syncAditya_2018-08-20_0111-0200_135.csv\n",
      "('video_fps obtained is :', 25)\n",
      "Did not find user-provided sample rate - getting it from first file that matches format!\n",
      "('sampling rate is : ', 250000)\n",
      ".....finding best audio segment.....\n"
     ]
    },
    {
     "name": "stderr",
     "output_type": "stream",
     "text": [
      "\r",
      "  0%|          | 0/20 [00:00<?, ?it/s]"
     ]
    },
    {
     "name": "stdout",
     "output_type": "stream",
     "text": [
      "('max mins for upsampled video', -0.9516233545007539, 1.0)\n",
      "('max mins', -1.0, 0.9687355577573609)\n"
     ]
    },
    {
     "name": "stderr",
     "output_type": "stream",
     "text": [
      "\r",
      "  5%|▌         | 1/20 [00:04<01:23,  4.42s/it]"
     ]
    },
    {
     "name": "stdout",
     "output_type": "stream",
     "text": [
      "('max mins', -1.0, 0.9546987452164709)\n"
     ]
    },
    {
     "name": "stderr",
     "output_type": "stream",
     "text": [
      "\r",
      " 10%|█         | 2/20 [00:08<01:19,  4.42s/it]"
     ]
    },
    {
     "name": "stdout",
     "output_type": "stream",
     "text": [
      "('max mins', -0.9809947712224186, 1.0)\n"
     ]
    },
    {
     "name": "stderr",
     "output_type": "stream",
     "text": [
      "\r",
      " 15%|█▌        | 3/20 [00:13<01:15,  4.41s/it]"
     ]
    },
    {
     "name": "stdout",
     "output_type": "stream",
     "text": [
      "('max mins', -0.9761683827416775, 1.0)\n"
     ]
    },
    {
     "name": "stderr",
     "output_type": "stream",
     "text": [
      "\r",
      " 20%|██        | 4/20 [00:17<01:10,  4.41s/it]"
     ]
    },
    {
     "name": "stdout",
     "output_type": "stream",
     "text": [
      "('max mins', -1.0, 0.9979458402066035)\n"
     ]
    },
    {
     "name": "stderr",
     "output_type": "stream",
     "text": [
      "\r",
      " 25%|██▌       | 5/20 [00:22<01:06,  4.41s/it]"
     ]
    },
    {
     "name": "stdout",
     "output_type": "stream",
     "text": [
      "('max mins', -1.0, 0.9835242294300514)\n"
     ]
    },
    {
     "name": "stderr",
     "output_type": "stream",
     "text": [
      "\r",
      " 30%|███       | 6/20 [00:26<01:01,  4.41s/it]"
     ]
    },
    {
     "name": "stdout",
     "output_type": "stream",
     "text": [
      "('max mins', -1.0, 0.9794161216354017)\n"
     ]
    },
    {
     "name": "stderr",
     "output_type": "stream",
     "text": [
      "\r",
      " 35%|███▌      | 7/20 [00:30<00:57,  4.41s/it]"
     ]
    },
    {
     "name": "stdout",
     "output_type": "stream",
     "text": [
      "('max mins', -0.9539498961100137, 1.0)\n"
     ]
    },
    {
     "name": "stderr",
     "output_type": "stream",
     "text": [
      "\r",
      " 40%|████      | 8/20 [00:35<00:52,  4.41s/it]"
     ]
    },
    {
     "name": "stdout",
     "output_type": "stream",
     "text": [
      "('max mins', -0.9996854119274982, 1.0)\n"
     ]
    },
    {
     "name": "stderr",
     "output_type": "stream",
     "text": [
      "\r",
      " 45%|████▌     | 9/20 [00:39<00:48,  4.41s/it]"
     ]
    },
    {
     "name": "stdout",
     "output_type": "stream",
     "text": [
      "('max mins', -1.0, 0.9791724417691637)\n"
     ]
    },
    {
     "name": "stderr",
     "output_type": "stream",
     "text": [
      "\r",
      " 50%|█████     | 10/20 [00:44<00:44,  4.41s/it]"
     ]
    },
    {
     "name": "stdout",
     "output_type": "stream",
     "text": [
      "('max mins', -0.974005632614949, 1.0)\n"
     ]
    },
    {
     "name": "stderr",
     "output_type": "stream",
     "text": [
      "\r",
      " 55%|█████▌    | 11/20 [00:48<00:39,  4.41s/it]"
     ]
    },
    {
     "name": "stdout",
     "output_type": "stream",
     "text": [
      "('max mins', -1.0, 0.9886612045571966)\n"
     ]
    },
    {
     "name": "stderr",
     "output_type": "stream",
     "text": [
      "\r",
      " 60%|██████    | 12/20 [00:52<00:35,  4.41s/it]"
     ]
    },
    {
     "name": "stdout",
     "output_type": "stream",
     "text": [
      "('max mins', -1.0, 0.9791690486863055)\n"
     ]
    },
    {
     "name": "stderr",
     "output_type": "stream",
     "text": [
      "\r",
      " 65%|██████▌   | 13/20 [00:57<00:30,  4.41s/it]"
     ]
    },
    {
     "name": "stdout",
     "output_type": "stream",
     "text": [
      "('max mins', -1.0, 0.9545874949719761)\n"
     ]
    },
    {
     "name": "stderr",
     "output_type": "stream",
     "text": [
      "\r",
      " 70%|███████   | 14/20 [01:01<00:26,  4.41s/it]"
     ]
    },
    {
     "name": "stdout",
     "output_type": "stream",
     "text": [
      "('max mins', -1.0, 0.9768979047462234)\n"
     ]
    },
    {
     "name": "stderr",
     "output_type": "stream",
     "text": [
      "\r",
      " 75%|███████▌  | 15/20 [01:06<00:22,  4.41s/it]"
     ]
    },
    {
     "name": "stdout",
     "output_type": "stream",
     "text": [
      "('max mins', -0.9936673943340251, 1.0)\n"
     ]
    },
    {
     "name": "stderr",
     "output_type": "stream",
     "text": [
      "\r",
      " 80%|████████  | 16/20 [01:10<00:17,  4.41s/it]"
     ]
    },
    {
     "name": "stdout",
     "output_type": "stream",
     "text": [
      "('max mins', -0.9884825570880318, 1.0)\n"
     ]
    },
    {
     "name": "stderr",
     "output_type": "stream",
     "text": [
      "\r",
      " 85%|████████▌ | 17/20 [01:14<00:13,  4.41s/it]"
     ]
    },
    {
     "name": "stdout",
     "output_type": "stream",
     "text": [
      "('max mins', -0.9857245825266355, 1.0)\n"
     ]
    },
    {
     "name": "stderr",
     "output_type": "stream",
     "text": [
      "\r",
      " 90%|█████████ | 18/20 [01:19<00:08,  4.41s/it]"
     ]
    },
    {
     "name": "stdout",
     "output_type": "stream",
     "text": [
      "('max mins', -1.0, 0.9795481018740736)\n"
     ]
    },
    {
     "name": "stderr",
     "output_type": "stream",
     "text": [
      "\r",
      " 95%|█████████▌| 19/20 [01:23<00:04,  4.41s/it]"
     ]
    },
    {
     "name": "stdout",
     "output_type": "stream",
     "text": [
      "('max mins', -0.9963263934933122, 1.0)\n"
     ]
    },
    {
     "name": "stderr",
     "output_type": "stream",
     "text": [
      "100%|██████████| 20/20 [01:28<00:00,  4.41s/it]\n"
     ]
    },
    {
     "name": "stdout",
     "output_type": "stream",
     "text": [
      "('Best file pairs are: ', 'non_spikey_T0000025.WAV*non_spikey_T0000026.WAV')\n",
      "Start and end indices around peak:                  start index: 13048955\t\t          end index: 24548955                  total samples:30015488\n"
     ]
    },
    {
     "name": "stderr",
     "output_type": "stream",
     "text": [
      "../../../bin/audio_for_videoannotation.py:175: UserWarning: The AV sync may not be very great - please check again. The value was :0.25639253113774735\n",
      "  warnings.warn(warning_msg, stacklevel=1)\n"
     ]
    },
    {
     "name": "stdout",
     "output_type": "stream",
     "text": [
      "common_fps/Aditya_annotations/2018-08-19/common_fps_video_syncAditya_2018-08-20_0111-0200_136.csv\n",
      "('video_fps obtained is :', 25)\n",
      "Did not find user-provided sample rate - getting it from first file that matches format!\n",
      "('sampling rate is : ', 250000)\n",
      ".....finding best audio segment.....\n"
     ]
    },
    {
     "name": "stderr",
     "output_type": "stream",
     "text": [
      "\r",
      "  0%|          | 0/20 [00:00<?, ?it/s]"
     ]
    },
    {
     "name": "stdout",
     "output_type": "stream",
     "text": [
      "('max mins for upsampled video', -0.9185516701213589, 1.0)\n",
      "('max mins', -1.0, 0.9687355577573609)\n"
     ]
    },
    {
     "name": "stderr",
     "output_type": "stream",
     "text": [
      "\r",
      "  5%|▌         | 1/20 [00:04<01:23,  4.41s/it]"
     ]
    },
    {
     "name": "stdout",
     "output_type": "stream",
     "text": [
      "('max mins', -1.0, 0.9546987452164709)\n"
     ]
    },
    {
     "name": "stderr",
     "output_type": "stream",
     "text": [
      "\r",
      " 10%|█         | 2/20 [00:08<01:19,  4.41s/it]"
     ]
    },
    {
     "name": "stdout",
     "output_type": "stream",
     "text": [
      "('max mins', -0.9809947712224186, 1.0)\n"
     ]
    },
    {
     "name": "stderr",
     "output_type": "stream",
     "text": [
      "\r",
      " 15%|█▌        | 3/20 [00:13<01:15,  4.41s/it]"
     ]
    },
    {
     "name": "stdout",
     "output_type": "stream",
     "text": [
      "('max mins', -0.9761683827416775, 1.0)\n"
     ]
    },
    {
     "name": "stderr",
     "output_type": "stream",
     "text": [
      "\r",
      " 20%|██        | 4/20 [00:17<01:10,  4.42s/it]"
     ]
    },
    {
     "name": "stdout",
     "output_type": "stream",
     "text": [
      "('max mins', -1.0, 0.9979458402066035)\n"
     ]
    },
    {
     "name": "stderr",
     "output_type": "stream",
     "text": [
      "\r",
      " 25%|██▌       | 5/20 [00:22<01:10,  4.68s/it]"
     ]
    },
    {
     "name": "stdout",
     "output_type": "stream",
     "text": [
      "('max mins', -1.0, 0.9835242294300514)\n"
     ]
    },
    {
     "name": "stderr",
     "output_type": "stream",
     "text": [
      "\r",
      " 30%|███       | 6/20 [00:27<01:04,  4.61s/it]"
     ]
    },
    {
     "name": "stdout",
     "output_type": "stream",
     "text": [
      "('max mins', -1.0, 0.9794161216354017)\n"
     ]
    },
    {
     "name": "stderr",
     "output_type": "stream",
     "text": [
      "\r",
      " 35%|███▌      | 7/20 [00:31<00:59,  4.55s/it]"
     ]
    },
    {
     "name": "stdout",
     "output_type": "stream",
     "text": [
      "('max mins', -0.9539498961100137, 1.0)\n"
     ]
    },
    {
     "name": "stderr",
     "output_type": "stream",
     "text": [
      "\r",
      " 40%|████      | 8/20 [00:36<00:54,  4.50s/it]"
     ]
    },
    {
     "name": "stdout",
     "output_type": "stream",
     "text": [
      "('max mins', -0.9996854119274982, 1.0)\n"
     ]
    },
    {
     "name": "stderr",
     "output_type": "stream",
     "text": [
      "\r",
      " 45%|████▌     | 9/20 [00:40<00:49,  4.48s/it]"
     ]
    },
    {
     "name": "stdout",
     "output_type": "stream",
     "text": [
      "('max mins', -1.0, 0.9791724417691637)\n"
     ]
    },
    {
     "name": "stderr",
     "output_type": "stream",
     "text": [
      "\r",
      " 50%|█████     | 10/20 [00:45<00:44,  4.46s/it]"
     ]
    },
    {
     "name": "stdout",
     "output_type": "stream",
     "text": [
      "('max mins', -0.974005632614949, 1.0)\n"
     ]
    },
    {
     "name": "stderr",
     "output_type": "stream",
     "text": [
      "\r",
      " 55%|█████▌    | 11/20 [00:49<00:40,  4.45s/it]"
     ]
    },
    {
     "name": "stdout",
     "output_type": "stream",
     "text": [
      "('max mins', -1.0, 0.9886612045571966)\n"
     ]
    },
    {
     "name": "stderr",
     "output_type": "stream",
     "text": [
      "\r",
      " 60%|██████    | 12/20 [00:53<00:35,  4.43s/it]"
     ]
    },
    {
     "name": "stdout",
     "output_type": "stream",
     "text": [
      "('max mins', -1.0, 0.9791690486863055)\n"
     ]
    },
    {
     "name": "stderr",
     "output_type": "stream",
     "text": [
      "\r",
      " 65%|██████▌   | 13/20 [00:58<00:31,  4.44s/it]"
     ]
    },
    {
     "name": "stdout",
     "output_type": "stream",
     "text": [
      "('max mins', -1.0, 0.9545874949719761)\n"
     ]
    },
    {
     "name": "stderr",
     "output_type": "stream",
     "text": [
      "\r",
      " 70%|███████   | 14/20 [01:02<00:26,  4.43s/it]"
     ]
    },
    {
     "name": "stdout",
     "output_type": "stream",
     "text": [
      "('max mins', -1.0, 0.9768979047462234)\n"
     ]
    },
    {
     "name": "stderr",
     "output_type": "stream",
     "text": [
      "\r",
      " 75%|███████▌  | 15/20 [01:07<00:22,  4.42s/it]"
     ]
    },
    {
     "name": "stdout",
     "output_type": "stream",
     "text": [
      "('max mins', -0.9936673943340251, 1.0)\n"
     ]
    },
    {
     "name": "stderr",
     "output_type": "stream",
     "text": [
      "\r",
      " 80%|████████  | 16/20 [01:11<00:17,  4.42s/it]"
     ]
    },
    {
     "name": "stdout",
     "output_type": "stream",
     "text": [
      "('max mins', -0.9884825570880318, 1.0)\n"
     ]
    },
    {
     "name": "stderr",
     "output_type": "stream",
     "text": [
      "\r",
      " 85%|████████▌ | 17/20 [01:15<00:13,  4.42s/it]"
     ]
    },
    {
     "name": "stdout",
     "output_type": "stream",
     "text": [
      "('max mins', -0.9857245825266355, 1.0)\n"
     ]
    },
    {
     "name": "stderr",
     "output_type": "stream",
     "text": [
      "\r",
      " 90%|█████████ | 18/20 [01:20<00:08,  4.43s/it]"
     ]
    },
    {
     "name": "stdout",
     "output_type": "stream",
     "text": [
      "('max mins', -1.0, 0.9795481018740736)\n"
     ]
    },
    {
     "name": "stderr",
     "output_type": "stream",
     "text": [
      "\r",
      " 95%|█████████▌| 19/20 [01:24<00:04,  4.42s/it]"
     ]
    },
    {
     "name": "stdout",
     "output_type": "stream",
     "text": [
      "('max mins', -0.9963263934933122, 1.0)\n"
     ]
    },
    {
     "name": "stderr",
     "output_type": "stream",
     "text": [
      "100%|██████████| 20/20 [01:29<00:00,  4.42s/it]\n"
     ]
    },
    {
     "name": "stdout",
     "output_type": "stream",
     "text": [
      "('Best file pairs are: ', 'non_spikey_T0000034.WAV*non_spikey_T0000035.WAV')\n",
      "Start and end indices around peak:                  start index: 8916404\t\t          end index: 20416404                  total samples:30015488\n"
     ]
    },
    {
     "name": "stderr",
     "output_type": "stream",
     "text": [
      "../../../bin/audio_for_videoannotation.py:175: UserWarning: The AV sync may not be very great - please check again. The value was :0.2300762612576437\n",
      "  warnings.warn(warning_msg, stacklevel=1)\n"
     ]
    },
    {
     "name": "stdout",
     "output_type": "stream",
     "text": [
      "common_fps/Aditya_annotations/2018-08-19/common_fps_video_syncAditya_2018-08-20_0111-0200_137.csv\n",
      "('video_fps obtained is :', 25)\n",
      "Did not find user-provided sample rate - getting it from first file that matches format!\n",
      "('sampling rate is : ', 250000)\n",
      ".....finding best audio segment.....\n"
     ]
    },
    {
     "name": "stderr",
     "output_type": "stream",
     "text": [
      "\r",
      "  0%|          | 0/20 [00:00<?, ?it/s]"
     ]
    },
    {
     "name": "stdout",
     "output_type": "stream",
     "text": [
      "('max mins for upsampled video', -1.0, 0.8912116298539993)\n",
      "('max mins', -1.0, 0.9687355577573609)\n"
     ]
    },
    {
     "name": "stderr",
     "output_type": "stream",
     "text": [
      "\r",
      "  5%|▌         | 1/20 [00:04<01:23,  4.40s/it]"
     ]
    },
    {
     "name": "stdout",
     "output_type": "stream",
     "text": [
      "('max mins', -1.0, 0.9546987452164709)\n"
     ]
    },
    {
     "name": "stderr",
     "output_type": "stream",
     "text": [
      "\r",
      " 10%|█         | 2/20 [00:08<01:19,  4.40s/it]"
     ]
    },
    {
     "name": "stdout",
     "output_type": "stream",
     "text": [
      "('max mins', -0.9809947712224186, 1.0)\n"
     ]
    },
    {
     "name": "stderr",
     "output_type": "stream",
     "text": [
      "\r",
      " 15%|█▌        | 3/20 [00:13<01:14,  4.40s/it]"
     ]
    },
    {
     "name": "stdout",
     "output_type": "stream",
     "text": [
      "('max mins', -0.9761683827416775, 1.0)\n"
     ]
    },
    {
     "name": "stderr",
     "output_type": "stream",
     "text": [
      "\r",
      " 20%|██        | 4/20 [00:17<01:10,  4.40s/it]"
     ]
    },
    {
     "name": "stdout",
     "output_type": "stream",
     "text": [
      "('max mins', -1.0, 0.9979458402066035)\n"
     ]
    },
    {
     "name": "stderr",
     "output_type": "stream",
     "text": [
      "\r",
      " 25%|██▌       | 5/20 [00:22<01:06,  4.43s/it]"
     ]
    },
    {
     "name": "stdout",
     "output_type": "stream",
     "text": [
      "('max mins', -1.0, 0.9835242294300514)\n"
     ]
    },
    {
     "name": "stderr",
     "output_type": "stream",
     "text": [
      "\r",
      " 30%|███       | 6/20 [00:26<01:02,  4.44s/it]"
     ]
    },
    {
     "name": "stdout",
     "output_type": "stream",
     "text": [
      "('max mins', -1.0, 0.9794161216354017)\n"
     ]
    },
    {
     "name": "stderr",
     "output_type": "stream",
     "text": [
      "\r",
      " 35%|███▌      | 7/20 [00:30<00:57,  4.43s/it]"
     ]
    },
    {
     "name": "stdout",
     "output_type": "stream",
     "text": [
      "('max mins', -0.9539498961100137, 1.0)\n"
     ]
    },
    {
     "name": "stderr",
     "output_type": "stream",
     "text": [
      "\r",
      " 40%|████      | 8/20 [00:35<00:53,  4.43s/it]"
     ]
    },
    {
     "name": "stdout",
     "output_type": "stream",
     "text": [
      "('max mins', -0.9996854119274982, 1.0)\n"
     ]
    },
    {
     "name": "stderr",
     "output_type": "stream",
     "text": [
      "\r",
      " 45%|████▌     | 9/20 [00:39<00:48,  4.43s/it]"
     ]
    },
    {
     "name": "stdout",
     "output_type": "stream",
     "text": [
      "('max mins', -1.0, 0.9791724417691637)\n"
     ]
    },
    {
     "name": "stderr",
     "output_type": "stream",
     "text": [
      "\r",
      " 50%|█████     | 10/20 [00:44<00:44,  4.42s/it]"
     ]
    },
    {
     "name": "stdout",
     "output_type": "stream",
     "text": [
      "('max mins', -0.974005632614949, 1.0)\n"
     ]
    },
    {
     "name": "stderr",
     "output_type": "stream",
     "text": [
      "\r",
      " 55%|█████▌    | 11/20 [00:49<00:40,  4.53s/it]"
     ]
    },
    {
     "name": "stdout",
     "output_type": "stream",
     "text": [
      "('max mins', -1.0, 0.9886612045571966)\n"
     ]
    },
    {
     "name": "stderr",
     "output_type": "stream",
     "text": [
      "\r",
      " 60%|██████    | 12/20 [00:53<00:36,  4.61s/it]"
     ]
    },
    {
     "name": "stdout",
     "output_type": "stream",
     "text": [
      "('max mins', -1.0, 0.9791690486863055)\n"
     ]
    },
    {
     "name": "stderr",
     "output_type": "stream",
     "text": [
      "\r",
      " 65%|██████▌   | 13/20 [00:58<00:31,  4.55s/it]"
     ]
    },
    {
     "name": "stdout",
     "output_type": "stream",
     "text": [
      "('max mins', -1.0, 0.9545874949719761)\n"
     ]
    },
    {
     "name": "stderr",
     "output_type": "stream",
     "text": [
      "\r",
      " 70%|███████   | 14/20 [01:02<00:27,  4.51s/it]"
     ]
    },
    {
     "name": "stdout",
     "output_type": "stream",
     "text": [
      "('max mins', -1.0, 0.9768979047462234)\n"
     ]
    },
    {
     "name": "stderr",
     "output_type": "stream",
     "text": [
      "\r",
      " 75%|███████▌  | 15/20 [01:07<00:22,  4.49s/it]"
     ]
    },
    {
     "name": "stdout",
     "output_type": "stream",
     "text": [
      "('max mins', -0.9936673943340251, 1.0)\n"
     ]
    },
    {
     "name": "stderr",
     "output_type": "stream",
     "text": [
      "\r",
      " 80%|████████  | 16/20 [01:11<00:17,  4.46s/it]"
     ]
    },
    {
     "name": "stdout",
     "output_type": "stream",
     "text": [
      "('max mins', -0.9884825570880318, 1.0)\n"
     ]
    },
    {
     "name": "stderr",
     "output_type": "stream",
     "text": [
      "\r",
      " 85%|████████▌ | 17/20 [01:15<00:13,  4.45s/it]"
     ]
    },
    {
     "name": "stdout",
     "output_type": "stream",
     "text": [
      "('max mins', -0.9857245825266355, 1.0)\n"
     ]
    },
    {
     "name": "stderr",
     "output_type": "stream",
     "text": [
      "\r",
      " 90%|█████████ | 18/20 [01:20<00:09,  4.50s/it]"
     ]
    },
    {
     "name": "stdout",
     "output_type": "stream",
     "text": [
      "('max mins', -1.0, 0.9795481018740736)\n"
     ]
    },
    {
     "name": "stderr",
     "output_type": "stream",
     "text": [
      "\r",
      " 95%|█████████▌| 19/20 [01:25<00:04,  4.78s/it]"
     ]
    },
    {
     "name": "stdout",
     "output_type": "stream",
     "text": [
      "('max mins', -0.9963263934933122, 1.0)\n"
     ]
    },
    {
     "name": "stderr",
     "output_type": "stream",
     "text": [
      "100%|██████████| 20/20 [01:31<00:00,  5.12s/it]\n"
     ]
    },
    {
     "name": "stdout",
     "output_type": "stream",
     "text": [
      "('Best file pairs are: ', 'non_spikey_T0000029.WAV*non_spikey_T0000030.WAV')\n",
      "Start and end indices around peak:                  start index: 6938617\t\t          end index: 18438617                  total samples:30015488\n"
     ]
    },
    {
     "name": "stderr",
     "output_type": "stream",
     "text": [
      "../../../bin/audio_for_videoannotation.py:175: UserWarning: The AV sync may not be very great - please check again. The value was :0.21535306610068333\n",
      "  warnings.warn(warning_msg, stacklevel=1)\n"
     ]
    },
    {
     "name": "stdout",
     "output_type": "stream",
     "text": [
      "common_fps/Aditya_annotations/2018-08-19/common_fps_video_syncAditya_2018-08-20_0111-0200_142.csv\n",
      "('video_fps obtained is :', 25)\n",
      "Did not find user-provided sample rate - getting it from first file that matches format!\n",
      "('sampling rate is : ', 250000)\n",
      ".....finding best audio segment.....\n"
     ]
    },
    {
     "name": "stderr",
     "output_type": "stream",
     "text": [
      "\r",
      "  0%|          | 0/20 [00:00<?, ?it/s]"
     ]
    },
    {
     "name": "stdout",
     "output_type": "stream",
     "text": [
      "('max mins for upsampled video', -1.0, 0.8364485293349683)\n",
      "('max mins', -1.0, 0.9687355577573609)\n"
     ]
    },
    {
     "name": "stderr",
     "output_type": "stream",
     "text": [
      "\r",
      "  5%|▌         | 1/20 [00:04<01:23,  4.42s/it]"
     ]
    },
    {
     "name": "stdout",
     "output_type": "stream",
     "text": [
      "('max mins', -1.0, 0.9546987452164709)\n"
     ]
    },
    {
     "name": "stderr",
     "output_type": "stream",
     "text": [
      "\r",
      " 10%|█         | 2/20 [00:08<01:20,  4.45s/it]"
     ]
    },
    {
     "name": "stdout",
     "output_type": "stream",
     "text": [
      "('max mins', -0.9809947712224186, 1.0)\n"
     ]
    },
    {
     "name": "stderr",
     "output_type": "stream",
     "text": [
      "\r",
      " 15%|█▌        | 3/20 [00:13<01:17,  4.55s/it]"
     ]
    },
    {
     "name": "stdout",
     "output_type": "stream",
     "text": [
      "('max mins', -0.9761683827416775, 1.0)\n"
     ]
    },
    {
     "name": "stderr",
     "output_type": "stream",
     "text": [
      "\r",
      " 20%|██        | 4/20 [00:19<01:20,  5.04s/it]"
     ]
    },
    {
     "name": "stdout",
     "output_type": "stream",
     "text": [
      "('max mins', -1.0, 0.9979458402066035)\n"
     ]
    },
    {
     "name": "stderr",
     "output_type": "stream",
     "text": [
      "\r",
      " 25%|██▌       | 5/20 [00:26<01:23,  5.57s/it]"
     ]
    },
    {
     "name": "stdout",
     "output_type": "stream",
     "text": [
      "('max mins', -1.0, 0.9835242294300514)\n"
     ]
    },
    {
     "name": "stderr",
     "output_type": "stream",
     "text": [
      "\r",
      " 30%|███       | 6/20 [00:32<01:18,  5.61s/it]"
     ]
    },
    {
     "name": "stdout",
     "output_type": "stream",
     "text": [
      "('max mins', -1.0, 0.9794161216354017)\n"
     ]
    },
    {
     "name": "stderr",
     "output_type": "stream",
     "text": [
      "\r",
      " 35%|███▌      | 7/20 [00:37<01:09,  5.35s/it]"
     ]
    },
    {
     "name": "stdout",
     "output_type": "stream",
     "text": [
      "('max mins', -0.9539498961100137, 1.0)\n"
     ]
    },
    {
     "name": "stderr",
     "output_type": "stream",
     "text": [
      "\r",
      " 40%|████      | 8/20 [00:42<01:04,  5.37s/it]"
     ]
    },
    {
     "name": "stdout",
     "output_type": "stream",
     "text": [
      "('max mins', -0.9996854119274982, 1.0)\n"
     ]
    },
    {
     "name": "stderr",
     "output_type": "stream",
     "text": [
      "\r",
      " 45%|████▌     | 9/20 [00:48<01:00,  5.49s/it]"
     ]
    },
    {
     "name": "stdout",
     "output_type": "stream",
     "text": [
      "('max mins', -1.0, 0.9791724417691637)\n"
     ]
    },
    {
     "name": "stderr",
     "output_type": "stream",
     "text": [
      "\r",
      " 50%|█████     | 10/20 [00:54<00:56,  5.62s/it]"
     ]
    },
    {
     "name": "stdout",
     "output_type": "stream",
     "text": [
      "('max mins', -0.974005632614949, 1.0)\n"
     ]
    },
    {
     "name": "stderr",
     "output_type": "stream",
     "text": [
      "\r",
      " 55%|█████▌    | 11/20 [01:00<00:51,  5.68s/it]"
     ]
    },
    {
     "name": "stdout",
     "output_type": "stream",
     "text": [
      "('max mins', -1.0, 0.9886612045571966)\n"
     ]
    },
    {
     "name": "stderr",
     "output_type": "stream",
     "text": [
      "\r",
      " 60%|██████    | 12/20 [01:05<00:45,  5.70s/it]"
     ]
    },
    {
     "name": "stdout",
     "output_type": "stream",
     "text": [
      "('max mins', -1.0, 0.9791690486863055)\n"
     ]
    },
    {
     "name": "stderr",
     "output_type": "stream",
     "text": [
      "\r",
      " 65%|██████▌   | 13/20 [01:11<00:40,  5.76s/it]"
     ]
    },
    {
     "name": "stdout",
     "output_type": "stream",
     "text": [
      "('max mins', -1.0, 0.9545874949719761)\n"
     ]
    },
    {
     "name": "stderr",
     "output_type": "stream",
     "text": [
      "\r",
      " 70%|███████   | 14/20 [01:18<00:36,  6.05s/it]"
     ]
    },
    {
     "name": "stdout",
     "output_type": "stream",
     "text": [
      "('max mins', -1.0, 0.9768979047462234)\n"
     ]
    },
    {
     "name": "stderr",
     "output_type": "stream",
     "text": [
      "\r",
      " 75%|███████▌  | 15/20 [01:24<00:29,  5.96s/it]"
     ]
    },
    {
     "name": "stdout",
     "output_type": "stream",
     "text": [
      "('max mins', -0.9936673943340251, 1.0)\n"
     ]
    },
    {
     "name": "stderr",
     "output_type": "stream",
     "text": [
      "\r",
      " 80%|████████  | 16/20 [01:30<00:23,  5.93s/it]"
     ]
    },
    {
     "name": "stdout",
     "output_type": "stream",
     "text": [
      "('max mins', -0.9884825570880318, 1.0)\n"
     ]
    },
    {
     "name": "stderr",
     "output_type": "stream",
     "text": [
      "\r",
      " 85%|████████▌ | 17/20 [01:35<00:17,  5.92s/it]"
     ]
    },
    {
     "name": "stdout",
     "output_type": "stream",
     "text": [
      "('max mins', -0.9857245825266355, 1.0)\n"
     ]
    },
    {
     "name": "stderr",
     "output_type": "stream",
     "text": [
      "\r",
      " 90%|█████████ | 18/20 [01:41<00:11,  5.88s/it]"
     ]
    },
    {
     "name": "stdout",
     "output_type": "stream",
     "text": [
      "('max mins', -1.0, 0.9795481018740736)\n"
     ]
    },
    {
     "name": "stderr",
     "output_type": "stream",
     "text": [
      "\r",
      " 95%|█████████▌| 19/20 [01:47<00:05,  5.84s/it]"
     ]
    },
    {
     "name": "stdout",
     "output_type": "stream",
     "text": [
      "('max mins', -0.9963263934933122, 1.0)\n"
     ]
    },
    {
     "name": "stderr",
     "output_type": "stream",
     "text": [
      "100%|██████████| 20/20 [01:53<00:00,  5.80s/it]\n"
     ]
    },
    {
     "name": "stdout",
     "output_type": "stream",
     "text": [
      "('Best file pairs are: ', 'non_spikey_T0000032.WAV*non_spikey_T0000033.WAV')\n",
      "Start and end indices around peak:                  start index: 8828613\t\t          end index: 20328613                  total samples:30015488\n"
     ]
    },
    {
     "name": "stderr",
     "output_type": "stream",
     "text": [
      "../../../bin/audio_for_videoannotation.py:175: UserWarning: The AV sync may not be very great - please check again. The value was :0.22541348969035124\n",
      "  warnings.warn(warning_msg, stacklevel=1)\n"
     ]
    },
    {
     "name": "stdout",
     "output_type": "stream",
     "text": [
      "common_fps/Aditya_annotations/2018-08-19/common_fps_video_syncAditya_2018-08-20_0111-0200_144.csv\n",
      "('video_fps obtained is :', 25)\n",
      "Did not find user-provided sample rate - getting it from first file that matches format!\n",
      "('sampling rate is : ', 250000)\n",
      ".....finding best audio segment.....\n"
     ]
    },
    {
     "name": "stderr",
     "output_type": "stream",
     "text": [
      "\r",
      "  0%|          | 0/20 [00:00<?, ?it/s]"
     ]
    },
    {
     "name": "stdout",
     "output_type": "stream",
     "text": [
      "('max mins for upsampled video', -1.0, 0.8838080235091812)\n",
      "('max mins', -1.0, 0.9687355577573609)\n"
     ]
    },
    {
     "name": "stderr",
     "output_type": "stream",
     "text": [
      "\r",
      "  5%|▌         | 1/20 [00:05<01:47,  5.67s/it]"
     ]
    },
    {
     "name": "stdout",
     "output_type": "stream",
     "text": [
      "('max mins', -1.0, 0.9546987452164709)\n"
     ]
    },
    {
     "name": "stderr",
     "output_type": "stream",
     "text": [
      "\r",
      " 10%|█         | 2/20 [00:11<01:42,  5.70s/it]"
     ]
    },
    {
     "name": "stdout",
     "output_type": "stream",
     "text": [
      "('max mins', -0.9809947712224186, 1.0)\n"
     ]
    },
    {
     "name": "stderr",
     "output_type": "stream",
     "text": [
      "\r",
      " 15%|█▌        | 3/20 [00:17<01:37,  5.71s/it]"
     ]
    },
    {
     "name": "stdout",
     "output_type": "stream",
     "text": [
      "('max mins', -0.9761683827416775, 1.0)\n"
     ]
    },
    {
     "name": "stderr",
     "output_type": "stream",
     "text": [
      "\r",
      " 20%|██        | 4/20 [00:23<01:31,  5.75s/it]"
     ]
    },
    {
     "name": "stdout",
     "output_type": "stream",
     "text": [
      "('max mins', -1.0, 0.9979458402066035)\n"
     ]
    },
    {
     "name": "stderr",
     "output_type": "stream",
     "text": [
      "\r",
      " 25%|██▌       | 5/20 [00:28<01:26,  5.75s/it]"
     ]
    },
    {
     "name": "stdout",
     "output_type": "stream",
     "text": [
      "('max mins', -1.0, 0.9835242294300514)\n"
     ]
    },
    {
     "name": "stderr",
     "output_type": "stream",
     "text": [
      "\r",
      " 30%|███       | 6/20 [00:34<01:20,  5.74s/it]"
     ]
    },
    {
     "name": "stdout",
     "output_type": "stream",
     "text": [
      "('max mins', -1.0, 0.9794161216354017)\n"
     ]
    },
    {
     "name": "stderr",
     "output_type": "stream",
     "text": [
      "\r",
      " 35%|███▌      | 7/20 [00:40<01:14,  5.76s/it]"
     ]
    },
    {
     "name": "stdout",
     "output_type": "stream",
     "text": [
      "('max mins', -0.9539498961100137, 1.0)\n"
     ]
    },
    {
     "name": "stderr",
     "output_type": "stream",
     "text": [
      "\r",
      " 40%|████      | 8/20 [00:46<01:10,  5.84s/it]"
     ]
    },
    {
     "name": "stdout",
     "output_type": "stream",
     "text": [
      "('max mins', -0.9996854119274982, 1.0)\n"
     ]
    },
    {
     "name": "stderr",
     "output_type": "stream",
     "text": [
      "\r",
      " 45%|████▌     | 9/20 [00:52<01:04,  5.82s/it]"
     ]
    },
    {
     "name": "stdout",
     "output_type": "stream",
     "text": [
      "('max mins', -1.0, 0.9791724417691637)\n"
     ]
    },
    {
     "name": "stderr",
     "output_type": "stream",
     "text": [
      "\r",
      " 50%|█████     | 10/20 [00:57<00:58,  5.80s/it]"
     ]
    },
    {
     "name": "stdout",
     "output_type": "stream",
     "text": [
      "('max mins', -0.974005632614949, 1.0)\n"
     ]
    },
    {
     "name": "stderr",
     "output_type": "stream",
     "text": [
      "\r",
      " 55%|█████▌    | 11/20 [01:03<00:51,  5.78s/it]"
     ]
    },
    {
     "name": "stdout",
     "output_type": "stream",
     "text": [
      "('max mins', -1.0, 0.9886612045571966)\n"
     ]
    },
    {
     "name": "stderr",
     "output_type": "stream",
     "text": [
      "\r",
      " 60%|██████    | 12/20 [01:09<00:46,  5.79s/it]"
     ]
    },
    {
     "name": "stdout",
     "output_type": "stream",
     "text": [
      "('max mins', -1.0, 0.9791690486863055)\n"
     ]
    },
    {
     "name": "stderr",
     "output_type": "stream",
     "text": [
      "\r",
      " 65%|██████▌   | 13/20 [01:15<00:41,  5.89s/it]"
     ]
    },
    {
     "name": "stdout",
     "output_type": "stream",
     "text": [
      "('max mins', -1.0, 0.9545874949719761)\n"
     ]
    },
    {
     "name": "stderr",
     "output_type": "stream",
     "text": [
      "\r",
      " 70%|███████   | 14/20 [01:21<00:36,  6.05s/it]"
     ]
    },
    {
     "name": "stdout",
     "output_type": "stream",
     "text": [
      "('max mins', -1.0, 0.9768979047462234)\n"
     ]
    },
    {
     "name": "stderr",
     "output_type": "stream",
     "text": [
      "\r",
      " 75%|███████▌  | 15/20 [01:27<00:29,  5.96s/it]"
     ]
    },
    {
     "name": "stdout",
     "output_type": "stream",
     "text": [
      "('max mins', -0.9936673943340251, 1.0)\n"
     ]
    },
    {
     "name": "stderr",
     "output_type": "stream",
     "text": [
      "\r",
      " 80%|████████  | 16/20 [01:33<00:23,  5.93s/it]"
     ]
    },
    {
     "name": "stdout",
     "output_type": "stream",
     "text": [
      "('max mins', -0.9884825570880318, 1.0)\n"
     ]
    },
    {
     "name": "stderr",
     "output_type": "stream",
     "text": [
      "\r",
      " 85%|████████▌ | 17/20 [01:39<00:17,  5.89s/it]"
     ]
    },
    {
     "name": "stdout",
     "output_type": "stream",
     "text": [
      "('max mins', -0.9857245825266355, 1.0)\n"
     ]
    },
    {
     "name": "stderr",
     "output_type": "stream",
     "text": [
      "\r",
      " 90%|█████████ | 18/20 [01:45<00:11,  5.83s/it]"
     ]
    },
    {
     "name": "stdout",
     "output_type": "stream",
     "text": [
      "('max mins', -1.0, 0.9795481018740736)\n"
     ]
    },
    {
     "name": "stderr",
     "output_type": "stream",
     "text": [
      "\r",
      " 95%|█████████▌| 19/20 [01:51<00:05,  5.90s/it]"
     ]
    },
    {
     "name": "stdout",
     "output_type": "stream",
     "text": [
      "('max mins', -0.9963263934933122, 1.0)\n"
     ]
    },
    {
     "name": "stderr",
     "output_type": "stream",
     "text": [
      "100%|██████████| 20/20 [01:56<00:00,  5.87s/it]\n"
     ]
    },
    {
     "name": "stdout",
     "output_type": "stream",
     "text": [
      "('Best file pairs are: ', 'non_spikey_T0000037.WAV*non_spikey_T0000038.WAV')\n",
      "Start and end indices around peak:                  start index: 8583911\t\t          end index: 20083911                  total samples:30015488\n"
     ]
    },
    {
     "name": "stderr",
     "output_type": "stream",
     "text": [
      "../../../bin/audio_for_videoannotation.py:175: UserWarning: The AV sync may not be very great - please check again. The value was :0.21750797363083885\n",
      "  warnings.warn(warning_msg, stacklevel=1)\n"
     ]
    },
    {
     "name": "stdout",
     "output_type": "stream",
     "text": [
      "common_fps/Aditya_annotations/2018-08-19/common_fps_video_syncAditya_2018-08-20_0111-0200_145.csv\n",
      "('video_fps obtained is :', 25)\n",
      "Did not find user-provided sample rate - getting it from first file that matches format!\n",
      "('sampling rate is : ', 250000)\n",
      ".....finding best audio segment.....\n"
     ]
    },
    {
     "name": "stderr",
     "output_type": "stream",
     "text": [
      "\r",
      "  0%|          | 0/20 [00:00<?, ?it/s]"
     ]
    },
    {
     "name": "stdout",
     "output_type": "stream",
     "text": [
      "('max mins for upsampled video', -1.0, 0.8838080235091812)\n",
      "('max mins', -1.0, 0.9687355577573609)\n"
     ]
    },
    {
     "name": "stderr",
     "output_type": "stream",
     "text": [
      "\r",
      "  5%|▌         | 1/20 [00:05<01:50,  5.81s/it]"
     ]
    },
    {
     "name": "stdout",
     "output_type": "stream",
     "text": [
      "('max mins', -1.0, 0.9546987452164709)\n"
     ]
    },
    {
     "name": "stderr",
     "output_type": "stream",
     "text": [
      "\r",
      " 10%|█         | 2/20 [00:11<01:44,  5.79s/it]"
     ]
    },
    {
     "name": "stdout",
     "output_type": "stream",
     "text": [
      "('max mins', -0.9809947712224186, 1.0)\n"
     ]
    },
    {
     "name": "stderr",
     "output_type": "stream",
     "text": [
      "\r",
      " 15%|█▌        | 3/20 [00:17<01:38,  5.80s/it]"
     ]
    },
    {
     "name": "stdout",
     "output_type": "stream",
     "text": [
      "('max mins', -0.9761683827416775, 1.0)\n"
     ]
    },
    {
     "name": "stderr",
     "output_type": "stream",
     "text": [
      "\r",
      " 20%|██        | 4/20 [00:23<01:32,  5.81s/it]"
     ]
    },
    {
     "name": "stdout",
     "output_type": "stream",
     "text": [
      "('max mins', -1.0, 0.9979458402066035)\n"
     ]
    },
    {
     "name": "stderr",
     "output_type": "stream",
     "text": [
      "\r",
      " 25%|██▌       | 5/20 [00:28<01:26,  5.78s/it]"
     ]
    },
    {
     "name": "stdout",
     "output_type": "stream",
     "text": [
      "('max mins', -1.0, 0.9835242294300514)\n"
     ]
    },
    {
     "name": "stderr",
     "output_type": "stream",
     "text": [
      "\r",
      " 30%|███       | 6/20 [00:34<01:20,  5.78s/it]"
     ]
    },
    {
     "name": "stdout",
     "output_type": "stream",
     "text": [
      "('max mins', -1.0, 0.9794161216354017)\n"
     ]
    },
    {
     "name": "stderr",
     "output_type": "stream",
     "text": [
      "\r",
      " 35%|███▌      | 7/20 [00:40<01:14,  5.76s/it]"
     ]
    },
    {
     "name": "stdout",
     "output_type": "stream",
     "text": [
      "('max mins', -0.9539498961100137, 1.0)\n"
     ]
    },
    {
     "name": "stderr",
     "output_type": "stream",
     "text": [
      "\r",
      " 40%|████      | 8/20 [00:46<01:09,  5.78s/it]"
     ]
    },
    {
     "name": "stdout",
     "output_type": "stream",
     "text": [
      "('max mins', -0.9996854119274982, 1.0)\n"
     ]
    },
    {
     "name": "stderr",
     "output_type": "stream",
     "text": [
      "\r",
      " 45%|████▌     | 9/20 [00:51<01:03,  5.74s/it]"
     ]
    },
    {
     "name": "stdout",
     "output_type": "stream",
     "text": [
      "('max mins', -1.0, 0.9791724417691637)\n"
     ]
    },
    {
     "name": "stderr",
     "output_type": "stream",
     "text": [
      "\r",
      " 50%|█████     | 10/20 [00:57<00:57,  5.76s/it]"
     ]
    },
    {
     "name": "stdout",
     "output_type": "stream",
     "text": [
      "('max mins', -0.974005632614949, 1.0)\n"
     ]
    },
    {
     "name": "stderr",
     "output_type": "stream",
     "text": [
      "\r",
      " 55%|█████▌    | 11/20 [01:03<00:51,  5.78s/it]"
     ]
    },
    {
     "name": "stdout",
     "output_type": "stream",
     "text": [
      "('max mins', -1.0, 0.9886612045571966)\n"
     ]
    },
    {
     "name": "stderr",
     "output_type": "stream",
     "text": [
      "\r",
      " 60%|██████    | 12/20 [01:09<00:46,  5.80s/it]"
     ]
    },
    {
     "name": "stdout",
     "output_type": "stream",
     "text": [
      "('max mins', -1.0, 0.9791690486863055)\n"
     ]
    },
    {
     "name": "stderr",
     "output_type": "stream",
     "text": [
      "\r",
      " 65%|██████▌   | 13/20 [01:15<00:41,  5.98s/it]"
     ]
    },
    {
     "name": "stdout",
     "output_type": "stream",
     "text": [
      "('max mins', -1.0, 0.9545874949719761)\n"
     ]
    },
    {
     "name": "stderr",
     "output_type": "stream",
     "text": [
      "\r",
      " 70%|███████   | 14/20 [01:21<00:36,  6.03s/it]"
     ]
    },
    {
     "name": "stdout",
     "output_type": "stream",
     "text": [
      "('max mins', -1.0, 0.9768979047462234)\n"
     ]
    },
    {
     "name": "stderr",
     "output_type": "stream",
     "text": [
      "\r",
      " 75%|███████▌  | 15/20 [01:27<00:29,  5.94s/it]"
     ]
    },
    {
     "name": "stdout",
     "output_type": "stream",
     "text": [
      "('max mins', -0.9936673943340251, 1.0)\n"
     ]
    },
    {
     "name": "stderr",
     "output_type": "stream",
     "text": [
      "\r",
      " 80%|████████  | 16/20 [01:33<00:23,  5.92s/it]"
     ]
    },
    {
     "name": "stdout",
     "output_type": "stream",
     "text": [
      "('max mins', -0.9884825570880318, 1.0)\n"
     ]
    },
    {
     "name": "stderr",
     "output_type": "stream",
     "text": [
      "\r",
      " 85%|████████▌ | 17/20 [01:39<00:17,  5.87s/it]"
     ]
    },
    {
     "name": "stdout",
     "output_type": "stream",
     "text": [
      "('max mins', -0.9857245825266355, 1.0)\n"
     ]
    },
    {
     "name": "stderr",
     "output_type": "stream",
     "text": [
      "\r",
      " 90%|█████████ | 18/20 [01:45<00:11,  5.85s/it]"
     ]
    },
    {
     "name": "stdout",
     "output_type": "stream",
     "text": [
      "('max mins', -1.0, 0.9795481018740736)\n"
     ]
    },
    {
     "name": "stderr",
     "output_type": "stream",
     "text": [
      "\r",
      " 95%|█████████▌| 19/20 [01:50<00:05,  5.81s/it]"
     ]
    },
    {
     "name": "stdout",
     "output_type": "stream",
     "text": [
      "('max mins', -0.9963263934933122, 1.0)\n"
     ]
    },
    {
     "name": "stderr",
     "output_type": "stream",
     "text": [
      "100%|██████████| 20/20 [01:56<00:00,  5.78s/it]\n"
     ]
    },
    {
     "name": "stdout",
     "output_type": "stream",
     "text": [
      "('Best file pairs are: ', 'non_spikey_T0000037.WAV*non_spikey_T0000038.WAV')\n",
      "Start and end indices around peak:                  start index: 8583911\t\t          end index: 20083911                  total samples:30015488\n",
      "common_fps/Aditya_annotations/2018-08-19/common_fps_video_syncAditya_2018-08-20_0111-0200_148.csv\n",
      "('video_fps obtained is :', 25)\n",
      "Did not find user-provided sample rate - getting it from first file that matches format!\n",
      "('sampling rate is : ', 250000)\n",
      ".....finding best audio segment.....\n"
     ]
    },
    {
     "name": "stderr",
     "output_type": "stream",
     "text": [
      "\r",
      "  0%|          | 0/20 [00:00<?, ?it/s]"
     ]
    },
    {
     "name": "stdout",
     "output_type": "stream",
     "text": [
      "('max mins for upsampled video', -1.0, 0.9073164455983046)\n",
      "('max mins', -1.0, 0.9687355577573609)\n"
     ]
    },
    {
     "name": "stderr",
     "output_type": "stream",
     "text": [
      "\r",
      "  5%|▌         | 1/20 [00:05<01:49,  5.75s/it]"
     ]
    },
    {
     "name": "stdout",
     "output_type": "stream",
     "text": [
      "('max mins', -1.0, 0.9546987452164709)\n"
     ]
    },
    {
     "name": "stderr",
     "output_type": "stream",
     "text": [
      "\r",
      " 10%|█         | 2/20 [00:11<01:44,  5.79s/it]"
     ]
    },
    {
     "name": "stdout",
     "output_type": "stream",
     "text": [
      "('max mins', -0.9809947712224186, 1.0)\n"
     ]
    },
    {
     "name": "stderr",
     "output_type": "stream",
     "text": [
      "\r",
      " 15%|█▌        | 3/20 [00:17<01:38,  5.77s/it]"
     ]
    },
    {
     "name": "stdout",
     "output_type": "stream",
     "text": [
      "('max mins', -0.9761683827416775, 1.0)\n"
     ]
    },
    {
     "name": "stderr",
     "output_type": "stream",
     "text": [
      "\r",
      " 20%|██        | 4/20 [00:23<01:32,  5.79s/it]"
     ]
    },
    {
     "name": "stdout",
     "output_type": "stream",
     "text": [
      "('max mins', -1.0, 0.9979458402066035)\n"
     ]
    },
    {
     "name": "stderr",
     "output_type": "stream",
     "text": [
      "\r",
      " 25%|██▌       | 5/20 [00:28<01:26,  5.77s/it]"
     ]
    },
    {
     "name": "stdout",
     "output_type": "stream",
     "text": [
      "('max mins', -1.0, 0.9835242294300514)\n"
     ]
    },
    {
     "name": "stderr",
     "output_type": "stream",
     "text": [
      "\r",
      " 30%|███       | 6/20 [00:35<01:22,  5.88s/it]"
     ]
    },
    {
     "name": "stdout",
     "output_type": "stream",
     "text": [
      "('max mins', -1.0, 0.9794161216354017)\n"
     ]
    },
    {
     "name": "stderr",
     "output_type": "stream",
     "text": [
      "\r",
      " 35%|███▌      | 7/20 [00:41<01:17,  5.95s/it]"
     ]
    },
    {
     "name": "stdout",
     "output_type": "stream",
     "text": [
      "('max mins', -0.9539498961100137, 1.0)\n"
     ]
    },
    {
     "name": "stderr",
     "output_type": "stream",
     "text": [
      "\r",
      " 40%|████      | 8/20 [00:47<01:11,  5.98s/it]"
     ]
    },
    {
     "name": "stdout",
     "output_type": "stream",
     "text": [
      "('max mins', -0.9996854119274982, 1.0)\n"
     ]
    },
    {
     "name": "stderr",
     "output_type": "stream",
     "text": [
      "\r",
      " 45%|████▌     | 9/20 [00:53<01:07,  6.10s/it]"
     ]
    },
    {
     "name": "stdout",
     "output_type": "stream",
     "text": [
      "('max mins', -1.0, 0.9791724417691637)\n"
     ]
    },
    {
     "name": "stderr",
     "output_type": "stream",
     "text": [
      "\r",
      " 50%|█████     | 10/20 [01:00<01:02,  6.21s/it]"
     ]
    },
    {
     "name": "stdout",
     "output_type": "stream",
     "text": [
      "('max mins', -0.974005632614949, 1.0)\n"
     ]
    },
    {
     "name": "stderr",
     "output_type": "stream",
     "text": [
      "\r",
      " 55%|█████▌    | 11/20 [01:06<00:56,  6.28s/it]"
     ]
    },
    {
     "name": "stdout",
     "output_type": "stream",
     "text": [
      "('max mins', -1.0, 0.9886612045571966)\n"
     ]
    },
    {
     "name": "stderr",
     "output_type": "stream",
     "text": [
      "\r",
      " 60%|██████    | 12/20 [01:13<00:50,  6.37s/it]"
     ]
    },
    {
     "name": "stdout",
     "output_type": "stream",
     "text": [
      "('max mins', -1.0, 0.9791690486863055)\n"
     ]
    },
    {
     "name": "stderr",
     "output_type": "stream",
     "text": [
      "\r",
      " 65%|██████▌   | 13/20 [01:19<00:45,  6.46s/it]"
     ]
    },
    {
     "name": "stdout",
     "output_type": "stream",
     "text": [
      "('max mins', -1.0, 0.9545874949719761)\n"
     ]
    },
    {
     "name": "stderr",
     "output_type": "stream",
     "text": [
      "\r",
      " 70%|███████   | 14/20 [01:25<00:38,  6.40s/it]"
     ]
    },
    {
     "name": "stdout",
     "output_type": "stream",
     "text": [
      "('max mins', -1.0, 0.9768979047462234)\n"
     ]
    },
    {
     "name": "stderr",
     "output_type": "stream",
     "text": [
      "\r",
      " 75%|███████▌  | 15/20 [01:32<00:31,  6.36s/it]"
     ]
    },
    {
     "name": "stdout",
     "output_type": "stream",
     "text": [
      "('max mins', -0.9936673943340251, 1.0)\n"
     ]
    },
    {
     "name": "stderr",
     "output_type": "stream",
     "text": [
      "\r",
      " 80%|████████  | 16/20 [01:38<00:25,  6.38s/it]"
     ]
    },
    {
     "name": "stdout",
     "output_type": "stream",
     "text": [
      "('max mins', -0.9884825570880318, 1.0)\n"
     ]
    },
    {
     "name": "stderr",
     "output_type": "stream",
     "text": [
      "\r",
      " 85%|████████▌ | 17/20 [01:45<00:19,  6.51s/it]"
     ]
    },
    {
     "name": "stdout",
     "output_type": "stream",
     "text": [
      "('max mins', -0.9857245825266355, 1.0)\n"
     ]
    },
    {
     "name": "stderr",
     "output_type": "stream",
     "text": [
      "\r",
      " 90%|█████████ | 18/20 [01:51<00:12,  6.38s/it]"
     ]
    },
    {
     "name": "stdout",
     "output_type": "stream",
     "text": [
      "('max mins', -1.0, 0.9795481018740736)\n"
     ]
    },
    {
     "name": "stderr",
     "output_type": "stream",
     "text": [
      "\r",
      " 95%|█████████▌| 19/20 [01:57<00:06,  6.24s/it]"
     ]
    },
    {
     "name": "stdout",
     "output_type": "stream",
     "text": [
      "('max mins', -0.9963263934933122, 1.0)\n"
     ]
    },
    {
     "name": "stderr",
     "output_type": "stream",
     "text": [
      "100%|██████████| 20/20 [02:03<00:00,  6.31s/it]\n"
     ]
    },
    {
     "name": "stdout",
     "output_type": "stream",
     "text": [
      "('Best file pairs are: ', 'non_spikey_T0000039.WAV*non_spikey_T0000040.WAV')\n",
      "Start and end indices around peak:                  start index: 14365818\t\t          end index: 25865818                  total samples:30015488\n"
     ]
    },
    {
     "name": "stderr",
     "output_type": "stream",
     "text": [
      "../../../bin/audio_for_videoannotation.py:175: UserWarning: The AV sync may not be very great - please check again. The value was :0.2023755958685258\n",
      "  warnings.warn(warning_msg, stacklevel=1)\n"
     ]
    },
    {
     "name": "stdout",
     "output_type": "stream",
     "text": [
      "common_fps/Aditya_annotations/2018-08-19/common_fps_video_syncAditya_2018-08-20_0111-0200_149.csv\n",
      "('video_fps obtained is :', 25)\n",
      "Did not find user-provided sample rate - getting it from first file that matches format!\n",
      "('sampling rate is : ', 250000)\n",
      ".....finding best audio segment.....\n"
     ]
    },
    {
     "name": "stderr",
     "output_type": "stream",
     "text": [
      "\r",
      "  0%|          | 0/20 [00:00<?, ?it/s]"
     ]
    },
    {
     "name": "stdout",
     "output_type": "stream",
     "text": [
      "('max mins for upsampled video', -1.0, 0.8965609470100935)\n",
      "('max mins', -1.0, 0.9687355577573609)\n"
     ]
    },
    {
     "name": "stderr",
     "output_type": "stream",
     "text": [
      "\r",
      "  5%|▌         | 1/20 [00:06<01:57,  6.19s/it]"
     ]
    },
    {
     "name": "stdout",
     "output_type": "stream",
     "text": [
      "('max mins', -1.0, 0.9546987452164709)\n"
     ]
    },
    {
     "name": "stderr",
     "output_type": "stream",
     "text": [
      "\r",
      " 10%|█         | 2/20 [00:12<01:52,  6.25s/it]"
     ]
    },
    {
     "name": "stdout",
     "output_type": "stream",
     "text": [
      "('max mins', -0.9809947712224186, 1.0)\n"
     ]
    },
    {
     "name": "stderr",
     "output_type": "stream",
     "text": [
      "\r",
      " 15%|█▌        | 3/20 [00:18<01:46,  6.26s/it]"
     ]
    },
    {
     "name": "stdout",
     "output_type": "stream",
     "text": [
      "('max mins', -0.9761683827416775, 1.0)\n"
     ]
    },
    {
     "name": "stderr",
     "output_type": "stream",
     "text": [
      "\r",
      " 20%|██        | 4/20 [00:25<01:40,  6.30s/it]"
     ]
    },
    {
     "name": "stdout",
     "output_type": "stream",
     "text": [
      "('max mins', -1.0, 0.9979458402066035)\n"
     ]
    },
    {
     "name": "stderr",
     "output_type": "stream",
     "text": [
      "\r",
      " 25%|██▌       | 5/20 [00:31<01:34,  6.32s/it]"
     ]
    },
    {
     "name": "stdout",
     "output_type": "stream",
     "text": [
      "('max mins', -1.0, 0.9835242294300514)\n"
     ]
    },
    {
     "name": "stderr",
     "output_type": "stream",
     "text": [
      "\r",
      " 30%|███       | 6/20 [00:38<01:29,  6.37s/it]"
     ]
    },
    {
     "name": "stdout",
     "output_type": "stream",
     "text": [
      "('max mins', -1.0, 0.9794161216354017)\n"
     ]
    },
    {
     "name": "stderr",
     "output_type": "stream",
     "text": [
      "\r",
      " 35%|███▌      | 7/20 [00:44<01:21,  6.30s/it]"
     ]
    },
    {
     "name": "stdout",
     "output_type": "stream",
     "text": [
      "('max mins', -0.9539498961100137, 1.0)\n"
     ]
    },
    {
     "name": "stderr",
     "output_type": "stream",
     "text": [
      "\r",
      " 40%|████      | 8/20 [00:50<01:13,  6.15s/it]"
     ]
    },
    {
     "name": "stdout",
     "output_type": "stream",
     "text": [
      "('max mins', -0.9996854119274982, 1.0)\n"
     ]
    },
    {
     "name": "stderr",
     "output_type": "stream",
     "text": [
      "\r",
      " 45%|████▌     | 9/20 [00:56<01:09,  6.30s/it]"
     ]
    },
    {
     "name": "stdout",
     "output_type": "stream",
     "text": [
      "('max mins', -1.0, 0.9791724417691637)\n"
     ]
    },
    {
     "name": "stderr",
     "output_type": "stream",
     "text": [
      "\r",
      " 50%|█████     | 10/20 [01:03<01:03,  6.34s/it]"
     ]
    },
    {
     "name": "stdout",
     "output_type": "stream",
     "text": [
      "('max mins', -0.974005632614949, 1.0)\n"
     ]
    },
    {
     "name": "stderr",
     "output_type": "stream",
     "text": [
      "\r",
      " 55%|█████▌    | 11/20 [01:10<00:59,  6.62s/it]"
     ]
    },
    {
     "name": "stdout",
     "output_type": "stream",
     "text": [
      "('max mins', -1.0, 0.9886612045571966)\n"
     ]
    },
    {
     "name": "stderr",
     "output_type": "stream",
     "text": [
      "\r",
      " 60%|██████    | 12/20 [01:16<00:52,  6.58s/it]"
     ]
    },
    {
     "name": "stdout",
     "output_type": "stream",
     "text": [
      "('max mins', -1.0, 0.9791690486863055)\n"
     ]
    },
    {
     "name": "stderr",
     "output_type": "stream",
     "text": [
      "\r",
      " 65%|██████▌   | 13/20 [01:23<00:45,  6.49s/it]"
     ]
    },
    {
     "name": "stdout",
     "output_type": "stream",
     "text": [
      "('max mins', -1.0, 0.9545874949719761)\n"
     ]
    },
    {
     "name": "stderr",
     "output_type": "stream",
     "text": [
      "\r",
      " 70%|███████   | 14/20 [01:29<00:38,  6.43s/it]"
     ]
    },
    {
     "name": "stdout",
     "output_type": "stream",
     "text": [
      "('max mins', -1.0, 0.9768979047462234)\n"
     ]
    },
    {
     "name": "stderr",
     "output_type": "stream",
     "text": [
      "\r",
      " 75%|███████▌  | 15/20 [01:35<00:32,  6.42s/it]"
     ]
    },
    {
     "name": "stdout",
     "output_type": "stream",
     "text": [
      "('max mins', -0.9936673943340251, 1.0)\n"
     ]
    },
    {
     "name": "stderr",
     "output_type": "stream",
     "text": [
      "\r",
      " 80%|████████  | 16/20 [01:42<00:25,  6.38s/it]"
     ]
    },
    {
     "name": "stdout",
     "output_type": "stream",
     "text": [
      "('max mins', -0.9884825570880318, 1.0)\n"
     ]
    },
    {
     "name": "stderr",
     "output_type": "stream",
     "text": [
      "\r",
      " 85%|████████▌ | 17/20 [01:48<00:19,  6.37s/it]"
     ]
    },
    {
     "name": "stdout",
     "output_type": "stream",
     "text": [
      "('max mins', -0.9857245825266355, 1.0)\n"
     ]
    },
    {
     "name": "stderr",
     "output_type": "stream",
     "text": [
      "\r",
      " 90%|█████████ | 18/20 [01:54<00:12,  6.35s/it]"
     ]
    },
    {
     "name": "stdout",
     "output_type": "stream",
     "text": [
      "('max mins', -1.0, 0.9795481018740736)\n"
     ]
    },
    {
     "name": "stderr",
     "output_type": "stream",
     "text": [
      "\r",
      " 95%|█████████▌| 19/20 [02:01<00:06,  6.32s/it]"
     ]
    },
    {
     "name": "stdout",
     "output_type": "stream",
     "text": [
      "('max mins', -0.9963263934933122, 1.0)\n"
     ]
    },
    {
     "name": "stderr",
     "output_type": "stream",
     "text": [
      "100%|██████████| 20/20 [02:07<00:00,  6.29s/it]\n"
     ]
    },
    {
     "name": "stdout",
     "output_type": "stream",
     "text": [
      "('Best file pairs are: ', 'non_spikey_T0000026.WAV*non_spikey_T0000027.WAV')\n",
      "Start and end indices around peak:                  start index: 12140486\t\t          end index: 23640486                  total samples:30015488\n"
     ]
    },
    {
     "name": "stderr",
     "output_type": "stream",
     "text": [
      "../../../bin/audio_for_videoannotation.py:175: UserWarning: The AV sync may not be very great - please check again. The value was :0.21898040350540676\n",
      "  warnings.warn(warning_msg, stacklevel=1)\n"
     ]
    },
    {
     "name": "stdout",
     "output_type": "stream",
     "text": [
      "common_fps/Aditya_annotations/2018-08-19/common_fps_video_syncAditya_2018-08-20_0111-0200_150.csv\n",
      "('video_fps obtained is :', 25)\n",
      "Did not find user-provided sample rate - getting it from first file that matches format!\n",
      "('sampling rate is : ', 250000)\n",
      ".....finding best audio segment.....\n"
     ]
    },
    {
     "name": "stderr",
     "output_type": "stream",
     "text": [
      "\r",
      "  0%|          | 0/20 [00:00<?, ?it/s]"
     ]
    },
    {
     "name": "stdout",
     "output_type": "stream",
     "text": [
      "('max mins for upsampled video', -1.0, 0.8965609470100935)\n",
      "('max mins', -1.0, 0.9687355577573609)\n"
     ]
    },
    {
     "name": "stderr",
     "output_type": "stream",
     "text": [
      "\r",
      "  5%|▌         | 1/20 [00:06<02:06,  6.66s/it]"
     ]
    },
    {
     "name": "stdout",
     "output_type": "stream",
     "text": [
      "('max mins', -1.0, 0.9546987452164709)\n"
     ]
    },
    {
     "name": "stderr",
     "output_type": "stream",
     "text": [
      "\r",
      " 10%|█         | 2/20 [00:13<01:59,  6.62s/it]"
     ]
    },
    {
     "name": "stdout",
     "output_type": "stream",
     "text": [
      "('max mins', -0.9809947712224186, 1.0)\n"
     ]
    },
    {
     "name": "stderr",
     "output_type": "stream",
     "text": [
      "\r",
      " 15%|█▌        | 3/20 [00:19<01:52,  6.61s/it]"
     ]
    },
    {
     "name": "stdout",
     "output_type": "stream",
     "text": [
      "('max mins', -0.9761683827416775, 1.0)\n"
     ]
    },
    {
     "name": "stderr",
     "output_type": "stream",
     "text": [
      "\r",
      " 20%|██        | 4/20 [00:26<01:45,  6.56s/it]"
     ]
    },
    {
     "name": "stdout",
     "output_type": "stream",
     "text": [
      "('max mins', -1.0, 0.9979458402066035)\n"
     ]
    },
    {
     "name": "stderr",
     "output_type": "stream",
     "text": [
      "\r",
      " 25%|██▌       | 5/20 [00:32<01:38,  6.59s/it]"
     ]
    },
    {
     "name": "stdout",
     "output_type": "stream",
     "text": [
      "('max mins', -1.0, 0.9835242294300514)\n"
     ]
    },
    {
     "name": "stderr",
     "output_type": "stream",
     "text": [
      "\r",
      " 30%|███       | 6/20 [00:39<01:31,  6.51s/it]"
     ]
    },
    {
     "name": "stdout",
     "output_type": "stream",
     "text": [
      "('max mins', -1.0, 0.9794161216354017)\n"
     ]
    },
    {
     "name": "stderr",
     "output_type": "stream",
     "text": [
      "\r",
      " 35%|███▌      | 7/20 [00:45<01:24,  6.46s/it]"
     ]
    },
    {
     "name": "stdout",
     "output_type": "stream",
     "text": [
      "('max mins', -0.9539498961100137, 1.0)\n"
     ]
    },
    {
     "name": "stderr",
     "output_type": "stream",
     "text": [
      "\r",
      " 40%|████      | 8/20 [00:51<01:17,  6.45s/it]"
     ]
    },
    {
     "name": "stdout",
     "output_type": "stream",
     "text": [
      "('max mins', -0.9996854119274982, 1.0)\n"
     ]
    },
    {
     "name": "stderr",
     "output_type": "stream",
     "text": [
      "\r",
      " 45%|████▌     | 9/20 [00:59<01:15,  6.83s/it]"
     ]
    },
    {
     "name": "stdout",
     "output_type": "stream",
     "text": [
      "('max mins', -1.0, 0.9791724417691637)\n"
     ]
    },
    {
     "name": "stderr",
     "output_type": "stream",
     "text": [
      "\r",
      " 50%|█████     | 10/20 [01:06<01:06,  6.69s/it]"
     ]
    },
    {
     "name": "stdout",
     "output_type": "stream",
     "text": [
      "('max mins', -0.974005632614949, 1.0)\n"
     ]
    },
    {
     "name": "stderr",
     "output_type": "stream",
     "text": [
      "\r",
      " 55%|█████▌    | 11/20 [01:12<00:58,  6.54s/it]"
     ]
    },
    {
     "name": "stdout",
     "output_type": "stream",
     "text": [
      "('max mins', -1.0, 0.9886612045571966)\n"
     ]
    },
    {
     "name": "stderr",
     "output_type": "stream",
     "text": [
      "\r",
      " 60%|██████    | 12/20 [01:18<00:50,  6.35s/it]"
     ]
    },
    {
     "name": "stdout",
     "output_type": "stream",
     "text": [
      "('max mins', -1.0, 0.9791690486863055)\n"
     ]
    },
    {
     "name": "stderr",
     "output_type": "stream",
     "text": [
      "\r",
      " 65%|██████▌   | 13/20 [01:24<00:43,  6.22s/it]"
     ]
    },
    {
     "name": "stdout",
     "output_type": "stream",
     "text": [
      "('max mins', -1.0, 0.9545874949719761)\n"
     ]
    },
    {
     "name": "stderr",
     "output_type": "stream",
     "text": [
      "\r",
      " 70%|███████   | 14/20 [01:29<00:36,  6.10s/it]"
     ]
    },
    {
     "name": "stdout",
     "output_type": "stream",
     "text": [
      "('max mins', -1.0, 0.9768979047462234)\n"
     ]
    },
    {
     "name": "stderr",
     "output_type": "stream",
     "text": [
      "\r",
      " 75%|███████▌  | 15/20 [01:35<00:30,  6.03s/it]"
     ]
    },
    {
     "name": "stdout",
     "output_type": "stream",
     "text": [
      "('max mins', -0.9936673943340251, 1.0)\n"
     ]
    },
    {
     "name": "stderr",
     "output_type": "stream",
     "text": [
      "\r",
      " 80%|████████  | 16/20 [01:41<00:24,  6.04s/it]"
     ]
    },
    {
     "name": "stdout",
     "output_type": "stream",
     "text": [
      "('max mins', -0.9884825570880318, 1.0)\n"
     ]
    },
    {
     "name": "stderr",
     "output_type": "stream",
     "text": [
      "\r",
      " 85%|████████▌ | 17/20 [01:48<00:18,  6.15s/it]"
     ]
    },
    {
     "name": "stdout",
     "output_type": "stream",
     "text": [
      "('max mins', -0.9857245825266355, 1.0)\n"
     ]
    },
    {
     "name": "stderr",
     "output_type": "stream",
     "text": [
      "\r",
      " 90%|█████████ | 18/20 [01:54<00:12,  6.07s/it]"
     ]
    },
    {
     "name": "stdout",
     "output_type": "stream",
     "text": [
      "('max mins', -1.0, 0.9795481018740736)\n"
     ]
    },
    {
     "name": "stderr",
     "output_type": "stream",
     "text": [
      "\r",
      " 95%|█████████▌| 19/20 [01:59<00:06,  6.00s/it]"
     ]
    },
    {
     "name": "stdout",
     "output_type": "stream",
     "text": [
      "('max mins', -0.9963263934933122, 1.0)\n"
     ]
    },
    {
     "name": "stderr",
     "output_type": "stream",
     "text": [
      "100%|██████████| 20/20 [02:05<00:00,  5.92s/it]\n"
     ]
    },
    {
     "name": "stdout",
     "output_type": "stream",
     "text": [
      "('Best file pairs are: ', 'non_spikey_T0000026.WAV*non_spikey_T0000027.WAV')\n",
      "Start and end indices around peak:                  start index: 12140486\t\t          end index: 23640486                  total samples:30015488\n",
      "common_fps/Aditya_annotations/2018-08-19/common_fps_video_syncAditya_2018-08-20_0111-0200_152.csv\n",
      "('video_fps obtained is :', 25)\n",
      "Did not find user-provided sample rate - getting it from first file that matches format!\n",
      "('sampling rate is : ', 250000)\n",
      ".....finding best audio segment.....\n"
     ]
    },
    {
     "name": "stderr",
     "output_type": "stream",
     "text": [
      "\r",
      "  0%|          | 0/20 [00:00<?, ?it/s]"
     ]
    },
    {
     "name": "stdout",
     "output_type": "stream",
     "text": [
      "('max mins for upsampled video', -1.0, 0.8956439397569013)\n",
      "('max mins', -1.0, 0.9687355577573609)\n"
     ]
    },
    {
     "name": "stderr",
     "output_type": "stream",
     "text": [
      "\r",
      "  5%|▌         | 1/20 [00:05<01:51,  5.85s/it]"
     ]
    },
    {
     "name": "stdout",
     "output_type": "stream",
     "text": [
      "('max mins', -1.0, 0.9546987452164709)\n"
     ]
    },
    {
     "name": "stderr",
     "output_type": "stream",
     "text": [
      "\r",
      " 10%|█         | 2/20 [00:11<01:44,  5.83s/it]"
     ]
    },
    {
     "name": "stdout",
     "output_type": "stream",
     "text": [
      "('max mins', -0.9809947712224186, 1.0)\n"
     ]
    },
    {
     "name": "stderr",
     "output_type": "stream",
     "text": [
      "\r",
      " 15%|█▌        | 3/20 [00:17<01:40,  5.89s/it]"
     ]
    },
    {
     "name": "stdout",
     "output_type": "stream",
     "text": [
      "('max mins', -0.9761683827416775, 1.0)\n"
     ]
    },
    {
     "name": "stderr",
     "output_type": "stream",
     "text": [
      "\r",
      " 20%|██        | 4/20 [00:23<01:35,  5.97s/it]"
     ]
    },
    {
     "name": "stdout",
     "output_type": "stream",
     "text": [
      "('max mins', -1.0, 0.9979458402066035)\n"
     ]
    },
    {
     "name": "stderr",
     "output_type": "stream",
     "text": [
      "\r",
      " 25%|██▌       | 5/20 [00:30<01:32,  6.15s/it]"
     ]
    },
    {
     "name": "stdout",
     "output_type": "stream",
     "text": [
      "('max mins', -1.0, 0.9835242294300514)\n"
     ]
    },
    {
     "name": "stderr",
     "output_type": "stream",
     "text": [
      "\r",
      " 30%|███       | 6/20 [00:36<01:27,  6.22s/it]"
     ]
    },
    {
     "name": "stdout",
     "output_type": "stream",
     "text": [
      "('max mins', -1.0, 0.9794161216354017)\n"
     ]
    },
    {
     "name": "stderr",
     "output_type": "stream",
     "text": [
      "\r",
      " 35%|███▌      | 7/20 [00:42<01:20,  6.21s/it]"
     ]
    },
    {
     "name": "stdout",
     "output_type": "stream",
     "text": [
      "('max mins', -0.9539498961100137, 1.0)\n"
     ]
    },
    {
     "name": "stderr",
     "output_type": "stream",
     "text": [
      "\r",
      " 40%|████      | 8/20 [00:50<01:19,  6.59s/it]"
     ]
    },
    {
     "name": "stdout",
     "output_type": "stream",
     "text": [
      "('max mins', -0.9996854119274982, 1.0)\n"
     ]
    },
    {
     "name": "stderr",
     "output_type": "stream",
     "text": [
      "\r",
      " 45%|████▌     | 9/20 [00:56<01:11,  6.53s/it]"
     ]
    },
    {
     "name": "stdout",
     "output_type": "stream",
     "text": [
      "('max mins', -1.0, 0.9791724417691637)\n"
     ]
    },
    {
     "name": "stderr",
     "output_type": "stream",
     "text": [
      "\r",
      " 50%|█████     | 10/20 [01:03<01:05,  6.54s/it]"
     ]
    },
    {
     "name": "stdout",
     "output_type": "stream",
     "text": [
      "('max mins', -0.974005632614949, 1.0)\n"
     ]
    },
    {
     "name": "stderr",
     "output_type": "stream",
     "text": [
      "\r",
      " 55%|█████▌    | 11/20 [01:09<00:58,  6.46s/it]"
     ]
    },
    {
     "name": "stdout",
     "output_type": "stream",
     "text": [
      "('max mins', -1.0, 0.9886612045571966)\n"
     ]
    },
    {
     "name": "stderr",
     "output_type": "stream",
     "text": [
      "\r",
      " 60%|██████    | 12/20 [01:16<00:52,  6.53s/it]"
     ]
    },
    {
     "name": "stdout",
     "output_type": "stream",
     "text": [
      "('max mins', -1.0, 0.9791690486863055)\n"
     ]
    },
    {
     "name": "stderr",
     "output_type": "stream",
     "text": [
      "\r",
      " 65%|██████▌   | 13/20 [01:21<00:41,  5.97s/it]"
     ]
    },
    {
     "name": "stdout",
     "output_type": "stream",
     "text": [
      "('max mins', -1.0, 0.9545874949719761)\n"
     ]
    },
    {
     "name": "stderr",
     "output_type": "stream",
     "text": [
      "\r",
      " 70%|███████   | 14/20 [01:25<00:33,  5.51s/it]"
     ]
    },
    {
     "name": "stdout",
     "output_type": "stream",
     "text": [
      "('max mins', -1.0, 0.9768979047462234)\n"
     ]
    },
    {
     "name": "stderr",
     "output_type": "stream",
     "text": [
      "\r",
      " 75%|███████▌  | 15/20 [01:29<00:25,  5.18s/it]"
     ]
    },
    {
     "name": "stdout",
     "output_type": "stream",
     "text": [
      "('max mins', -0.9936673943340251, 1.0)\n"
     ]
    },
    {
     "name": "stderr",
     "output_type": "stream",
     "text": [
      "\r",
      " 80%|████████  | 16/20 [01:34<00:19,  4.95s/it]"
     ]
    },
    {
     "name": "stdout",
     "output_type": "stream",
     "text": [
      "('max mins', -0.9884825570880318, 1.0)\n"
     ]
    },
    {
     "name": "stderr",
     "output_type": "stream",
     "text": [
      "\r",
      " 85%|████████▌ | 17/20 [01:38<00:14,  4.79s/it]"
     ]
    },
    {
     "name": "stdout",
     "output_type": "stream",
     "text": [
      "('max mins', -0.9857245825266355, 1.0)\n"
     ]
    },
    {
     "name": "stderr",
     "output_type": "stream",
     "text": [
      "\r",
      " 90%|█████████ | 18/20 [01:43<00:09,  4.68s/it]"
     ]
    },
    {
     "name": "stdout",
     "output_type": "stream",
     "text": [
      "('max mins', -1.0, 0.9795481018740736)\n"
     ]
    },
    {
     "name": "stderr",
     "output_type": "stream",
     "text": [
      "\r",
      " 95%|█████████▌| 19/20 [01:47<00:04,  4.61s/it]"
     ]
    },
    {
     "name": "stdout",
     "output_type": "stream",
     "text": [
      "('max mins', -0.9963263934933122, 1.0)\n"
     ]
    },
    {
     "name": "stderr",
     "output_type": "stream",
     "text": [
      "100%|██████████| 20/20 [01:52<00:00,  4.55s/it]\n"
     ]
    },
    {
     "name": "stdout",
     "output_type": "stream",
     "text": [
      "('Best file pairs are: ', 'non_spikey_T0000026.WAV*non_spikey_T0000027.WAV')\n",
      "Start and end indices around peak:                  start index: 13892280\t\t          end index: 25392280                  total samples:30015488\n"
     ]
    },
    {
     "name": "stderr",
     "output_type": "stream",
     "text": [
      "../../../bin/audio_for_videoannotation.py:175: UserWarning: The AV sync may not be very great - please check again. The value was :0.2487994837171335\n",
      "  warnings.warn(warning_msg, stacklevel=1)\n"
     ]
    },
    {
     "name": "stdout",
     "output_type": "stream",
     "text": [
      "common_fps/Aditya_annotations/2018-08-19/common_fps_video_syncAditya_2018-08-20_0111-0200_155.csv\n",
      "('video_fps obtained is :', 25)\n",
      "Did not find user-provided sample rate - getting it from first file that matches format!\n",
      "('sampling rate is : ', 250000)\n",
      ".....finding best audio segment.....\n"
     ]
    },
    {
     "name": "stderr",
     "output_type": "stream",
     "text": [
      "\r",
      "  0%|          | 0/20 [00:00<?, ?it/s]"
     ]
    },
    {
     "name": "stdout",
     "output_type": "stream",
     "text": [
      "('max mins for upsampled video', -0.9945861679333133, 1.0)\n",
      "('max mins', -1.0, 0.9687355577573609)\n"
     ]
    },
    {
     "name": "stderr",
     "output_type": "stream",
     "text": [
      "\r",
      "  5%|▌         | 1/20 [00:04<01:24,  4.43s/it]"
     ]
    },
    {
     "name": "stdout",
     "output_type": "stream",
     "text": [
      "('max mins', -1.0, 0.9546987452164709)\n"
     ]
    },
    {
     "name": "stderr",
     "output_type": "stream",
     "text": [
      "\r",
      " 10%|█         | 2/20 [00:08<01:19,  4.44s/it]"
     ]
    },
    {
     "name": "stdout",
     "output_type": "stream",
     "text": [
      "('max mins', -0.9809947712224186, 1.0)\n"
     ]
    },
    {
     "name": "stderr",
     "output_type": "stream",
     "text": [
      "\r",
      " 15%|█▌        | 3/20 [00:13<01:15,  4.43s/it]"
     ]
    },
    {
     "name": "stdout",
     "output_type": "stream",
     "text": [
      "('max mins', -0.9761683827416775, 1.0)\n"
     ]
    },
    {
     "name": "stderr",
     "output_type": "stream",
     "text": [
      "\r",
      " 20%|██        | 4/20 [00:17<01:10,  4.43s/it]"
     ]
    },
    {
     "name": "stdout",
     "output_type": "stream",
     "text": [
      "('max mins', -1.0, 0.9979458402066035)\n"
     ]
    },
    {
     "name": "stderr",
     "output_type": "stream",
     "text": [
      "\r",
      " 25%|██▌       | 5/20 [00:22<01:06,  4.43s/it]"
     ]
    },
    {
     "name": "stdout",
     "output_type": "stream",
     "text": [
      "('max mins', -1.0, 0.9835242294300514)\n"
     ]
    },
    {
     "name": "stderr",
     "output_type": "stream",
     "text": [
      "\r",
      " 30%|███       | 6/20 [00:26<01:01,  4.42s/it]"
     ]
    },
    {
     "name": "stdout",
     "output_type": "stream",
     "text": [
      "('max mins', -1.0, 0.9794161216354017)\n"
     ]
    },
    {
     "name": "stderr",
     "output_type": "stream",
     "text": [
      "\r",
      " 35%|███▌      | 7/20 [00:31<00:57,  4.43s/it]"
     ]
    },
    {
     "name": "stdout",
     "output_type": "stream",
     "text": [
      "('max mins', -0.9539498961100137, 1.0)\n"
     ]
    },
    {
     "name": "stderr",
     "output_type": "stream",
     "text": [
      "\r",
      " 40%|████      | 8/20 [00:35<00:53,  4.43s/it]"
     ]
    },
    {
     "name": "stdout",
     "output_type": "stream",
     "text": [
      "('max mins', -0.9996854119274982, 1.0)\n"
     ]
    },
    {
     "name": "stderr",
     "output_type": "stream",
     "text": [
      "\r",
      " 45%|████▌     | 9/20 [00:39<00:48,  4.43s/it]"
     ]
    },
    {
     "name": "stdout",
     "output_type": "stream",
     "text": [
      "('max mins', -1.0, 0.9791724417691637)\n"
     ]
    },
    {
     "name": "stderr",
     "output_type": "stream",
     "text": [
      "\r",
      " 50%|█████     | 10/20 [00:44<00:44,  4.42s/it]"
     ]
    },
    {
     "name": "stdout",
     "output_type": "stream",
     "text": [
      "('max mins', -0.974005632614949, 1.0)\n"
     ]
    },
    {
     "name": "stderr",
     "output_type": "stream",
     "text": [
      "\r",
      " 55%|█████▌    | 11/20 [00:48<00:39,  4.44s/it]"
     ]
    },
    {
     "name": "stdout",
     "output_type": "stream",
     "text": [
      "('max mins', -1.0, 0.9886612045571966)\n"
     ]
    },
    {
     "name": "stderr",
     "output_type": "stream",
     "text": [
      "\r",
      " 60%|██████    | 12/20 [00:53<00:37,  4.64s/it]"
     ]
    },
    {
     "name": "stdout",
     "output_type": "stream",
     "text": [
      "('max mins', -1.0, 0.9791690486863055)\n"
     ]
    },
    {
     "name": "stderr",
     "output_type": "stream",
     "text": [
      "\r",
      " 65%|██████▌   | 13/20 [00:58<00:32,  4.58s/it]"
     ]
    },
    {
     "name": "stdout",
     "output_type": "stream",
     "text": [
      "('max mins', -1.0, 0.9545874949719761)\n"
     ]
    },
    {
     "name": "stderr",
     "output_type": "stream",
     "text": [
      "\r",
      " 70%|███████   | 14/20 [01:02<00:27,  4.54s/it]"
     ]
    },
    {
     "name": "stdout",
     "output_type": "stream",
     "text": [
      "('max mins', -1.0, 0.9768979047462234)\n"
     ]
    },
    {
     "name": "stderr",
     "output_type": "stream",
     "text": [
      "\r",
      " 75%|███████▌  | 15/20 [01:07<00:22,  4.51s/it]"
     ]
    },
    {
     "name": "stdout",
     "output_type": "stream",
     "text": [
      "('max mins', -0.9936673943340251, 1.0)\n"
     ]
    },
    {
     "name": "stderr",
     "output_type": "stream",
     "text": [
      "\r",
      " 80%|████████  | 16/20 [01:11<00:17,  4.48s/it]"
     ]
    },
    {
     "name": "stdout",
     "output_type": "stream",
     "text": [
      "('max mins', -0.9884825570880318, 1.0)\n"
     ]
    },
    {
     "name": "stderr",
     "output_type": "stream",
     "text": [
      "\r",
      " 85%|████████▌ | 17/20 [01:16<00:13,  4.46s/it]"
     ]
    },
    {
     "name": "stdout",
     "output_type": "stream",
     "text": [
      "('max mins', -0.9857245825266355, 1.0)\n"
     ]
    },
    {
     "name": "stderr",
     "output_type": "stream",
     "text": [
      "\r",
      " 90%|█████████ | 18/20 [01:20<00:08,  4.45s/it]"
     ]
    },
    {
     "name": "stdout",
     "output_type": "stream",
     "text": [
      "('max mins', -1.0, 0.9795481018740736)\n"
     ]
    },
    {
     "name": "stderr",
     "output_type": "stream",
     "text": [
      "\r",
      " 95%|█████████▌| 19/20 [01:24<00:04,  4.44s/it]"
     ]
    },
    {
     "name": "stdout",
     "output_type": "stream",
     "text": [
      "('max mins', -0.9963263934933122, 1.0)\n"
     ]
    },
    {
     "name": "stderr",
     "output_type": "stream",
     "text": [
      "100%|██████████| 20/20 [01:29<00:00,  4.44s/it]\n"
     ]
    },
    {
     "name": "stdout",
     "output_type": "stream",
     "text": [
      "('Best file pairs are: ', 'non_spikey_T0000028.WAV*non_spikey_T0000029.WAV')\n",
      "Start and end indices around peak:                  start index: 12020659\t\t          end index: 23520659                  total samples:30015488\n"
     ]
    },
    {
     "name": "stderr",
     "output_type": "stream",
     "text": [
      "../../../bin/audio_for_videoannotation.py:175: UserWarning: The AV sync may not be very great - please check again. The value was :0.20310230861599\n",
      "  warnings.warn(warning_msg, stacklevel=1)\n"
     ]
    },
    {
     "name": "stdout",
     "output_type": "stream",
     "text": [
      "common_fps/Aditya_annotations/2018-08-19/common_fps_video_syncAditya_2018-08-20_0111-0200_156.csv\n",
      "('video_fps obtained is :', 25)\n",
      "Did not find user-provided sample rate - getting it from first file that matches format!\n",
      "('sampling rate is : ', 250000)\n",
      ".....finding best audio segment.....\n"
     ]
    },
    {
     "name": "stderr",
     "output_type": "stream",
     "text": [
      "\r",
      "  0%|          | 0/20 [00:00<?, ?it/s]"
     ]
    },
    {
     "name": "stdout",
     "output_type": "stream",
     "text": [
      "('max mins for upsampled video', -1.0, 0.9358248347359212)\n",
      "('max mins', -1.0, 0.9687355577573609)\n"
     ]
    },
    {
     "name": "stderr",
     "output_type": "stream",
     "text": [
      "\r",
      "  5%|▌         | 1/20 [00:04<01:24,  4.43s/it]"
     ]
    },
    {
     "name": "stdout",
     "output_type": "stream",
     "text": [
      "('max mins', -1.0, 0.9546987452164709)\n"
     ]
    },
    {
     "name": "stderr",
     "output_type": "stream",
     "text": [
      "\r",
      " 10%|█         | 2/20 [00:08<01:19,  4.43s/it]"
     ]
    },
    {
     "name": "stdout",
     "output_type": "stream",
     "text": [
      "('max mins', -0.9809947712224186, 1.0)\n"
     ]
    },
    {
     "name": "stderr",
     "output_type": "stream",
     "text": [
      "\r",
      " 15%|█▌        | 3/20 [00:13<01:15,  4.43s/it]"
     ]
    },
    {
     "name": "stdout",
     "output_type": "stream",
     "text": [
      "('max mins', -0.9761683827416775, 1.0)\n"
     ]
    },
    {
     "name": "stderr",
     "output_type": "stream",
     "text": [
      "\r",
      " 20%|██        | 4/20 [00:17<01:10,  4.43s/it]"
     ]
    },
    {
     "name": "stdout",
     "output_type": "stream",
     "text": [
      "('max mins', -1.0, 0.9979458402066035)\n"
     ]
    },
    {
     "name": "stderr",
     "output_type": "stream",
     "text": [
      "\r",
      " 25%|██▌       | 5/20 [00:22<01:06,  4.43s/it]"
     ]
    },
    {
     "name": "stdout",
     "output_type": "stream",
     "text": [
      "('max mins', -1.0, 0.9835242294300514)\n"
     ]
    },
    {
     "name": "stderr",
     "output_type": "stream",
     "text": [
      "\r",
      " 30%|███       | 6/20 [00:26<01:02,  4.43s/it]"
     ]
    },
    {
     "name": "stdout",
     "output_type": "stream",
     "text": [
      "('max mins', -1.0, 0.9794161216354017)\n"
     ]
    },
    {
     "name": "stderr",
     "output_type": "stream",
     "text": [
      "\r",
      " 35%|███▌      | 7/20 [00:31<00:57,  4.43s/it]"
     ]
    },
    {
     "name": "stdout",
     "output_type": "stream",
     "text": [
      "('max mins', -0.9539498961100137, 1.0)\n"
     ]
    },
    {
     "name": "stderr",
     "output_type": "stream",
     "text": [
      "\r",
      " 40%|████      | 8/20 [00:35<00:53,  4.43s/it]"
     ]
    },
    {
     "name": "stdout",
     "output_type": "stream",
     "text": [
      "('max mins', -0.9996854119274982, 1.0)\n"
     ]
    },
    {
     "name": "stderr",
     "output_type": "stream",
     "text": [
      "\r",
      " 45%|████▌     | 9/20 [00:39<00:48,  4.44s/it]"
     ]
    },
    {
     "name": "stdout",
     "output_type": "stream",
     "text": [
      "('max mins', -1.0, 0.9791724417691637)\n"
     ]
    },
    {
     "name": "stderr",
     "output_type": "stream",
     "text": [
      "\r",
      " 50%|█████     | 10/20 [00:44<00:44,  4.44s/it]"
     ]
    },
    {
     "name": "stdout",
     "output_type": "stream",
     "text": [
      "('max mins', -0.974005632614949, 1.0)\n"
     ]
    },
    {
     "name": "stderr",
     "output_type": "stream",
     "text": [
      "\r",
      " 55%|█████▌    | 11/20 [00:48<00:39,  4.44s/it]"
     ]
    },
    {
     "name": "stdout",
     "output_type": "stream",
     "text": [
      "('max mins', -1.0, 0.9886612045571966)\n"
     ]
    },
    {
     "name": "stderr",
     "output_type": "stream",
     "text": [
      "\r",
      " 60%|██████    | 12/20 [00:53<00:35,  4.43s/it]"
     ]
    },
    {
     "name": "stdout",
     "output_type": "stream",
     "text": [
      "('max mins', -1.0, 0.9791690486863055)\n"
     ]
    },
    {
     "name": "stderr",
     "output_type": "stream",
     "text": [
      "\r",
      " 65%|██████▌   | 13/20 [00:57<00:31,  4.44s/it]"
     ]
    },
    {
     "name": "stdout",
     "output_type": "stream",
     "text": [
      "('max mins', -1.0, 0.9545874949719761)\n"
     ]
    },
    {
     "name": "stderr",
     "output_type": "stream",
     "text": [
      "\r",
      " 70%|███████   | 14/20 [01:02<00:26,  4.44s/it]"
     ]
    },
    {
     "name": "stdout",
     "output_type": "stream",
     "text": [
      "('max mins', -1.0, 0.9768979047462234)\n"
     ]
    },
    {
     "name": "stderr",
     "output_type": "stream",
     "text": [
      "\r",
      " 75%|███████▌  | 15/20 [01:06<00:22,  4.43s/it]"
     ]
    },
    {
     "name": "stdout",
     "output_type": "stream",
     "text": [
      "('max mins', -0.9936673943340251, 1.0)\n"
     ]
    },
    {
     "name": "stderr",
     "output_type": "stream",
     "text": [
      "\r",
      " 80%|████████  | 16/20 [01:10<00:17,  4.44s/it]"
     ]
    },
    {
     "name": "stdout",
     "output_type": "stream",
     "text": [
      "('max mins', -0.9884825570880318, 1.0)\n"
     ]
    },
    {
     "name": "stderr",
     "output_type": "stream",
     "text": [
      "\r",
      " 85%|████████▌ | 17/20 [01:15<00:13,  4.43s/it]"
     ]
    },
    {
     "name": "stdout",
     "output_type": "stream",
     "text": [
      "('max mins', -0.9857245825266355, 1.0)\n"
     ]
    },
    {
     "name": "stderr",
     "output_type": "stream",
     "text": [
      "\r",
      " 90%|█████████ | 18/20 [01:20<00:09,  4.69s/it]"
     ]
    },
    {
     "name": "stdout",
     "output_type": "stream",
     "text": [
      "('max mins', -1.0, 0.9795481018740736)\n"
     ]
    },
    {
     "name": "stderr",
     "output_type": "stream",
     "text": [
      "\r",
      " 95%|█████████▌| 19/20 [01:25<00:04,  4.63s/it]"
     ]
    },
    {
     "name": "stdout",
     "output_type": "stream",
     "text": [
      "('max mins', -0.9963263934933122, 1.0)\n"
     ]
    },
    {
     "name": "stderr",
     "output_type": "stream",
     "text": [
      "100%|██████████| 20/20 [01:29<00:00,  4.57s/it]\n"
     ]
    },
    {
     "name": "stdout",
     "output_type": "stream",
     "text": [
      "('Best file pairs are: ', 'non_spikey_T0000024.WAV*non_spikey_T0000025.WAV')\n",
      "Start and end indices around peak:                  start index: 13608265\t\t          end index: 25108265                  total samples:30015488\n"
     ]
    },
    {
     "name": "stderr",
     "output_type": "stream",
     "text": [
      "../../../bin/audio_for_videoannotation.py:175: UserWarning: The AV sync may not be very great - please check again. The value was :0.21229109055544174\n",
      "  warnings.warn(warning_msg, stacklevel=1)\n"
     ]
    },
    {
     "name": "stdout",
     "output_type": "stream",
     "text": [
      "common_fps/Aditya_annotations/2018-08-19/common_fps_video_syncAditya_2018-08-20_0111-0200_157.csv\n",
      "('video_fps obtained is :', 25)\n",
      "Did not find user-provided sample rate - getting it from first file that matches format!\n",
      "('sampling rate is : ', 250000)\n",
      ".....finding best audio segment.....\n"
     ]
    },
    {
     "name": "stderr",
     "output_type": "stream",
     "text": [
      "\r",
      "  0%|          | 0/20 [00:00<?, ?it/s]"
     ]
    },
    {
     "name": "stdout",
     "output_type": "stream",
     "text": [
      "('max mins for upsampled video', -1.0, 0.8172542160914218)\n",
      "('max mins', -1.0, 0.9687355577573609)\n"
     ]
    },
    {
     "name": "stderr",
     "output_type": "stream",
     "text": [
      "\r",
      "  5%|▌         | 1/20 [00:04<01:24,  4.43s/it]"
     ]
    },
    {
     "name": "stdout",
     "output_type": "stream",
     "text": [
      "('max mins', -1.0, 0.9546987452164709)\n"
     ]
    },
    {
     "name": "stderr",
     "output_type": "stream",
     "text": [
      "\r",
      " 10%|█         | 2/20 [00:08<01:19,  4.43s/it]"
     ]
    },
    {
     "name": "stdout",
     "output_type": "stream",
     "text": [
      "('max mins', -0.9809947712224186, 1.0)\n"
     ]
    },
    {
     "name": "stderr",
     "output_type": "stream",
     "text": [
      "\r",
      " 15%|█▌        | 3/20 [00:13<01:15,  4.43s/it]"
     ]
    },
    {
     "name": "stdout",
     "output_type": "stream",
     "text": [
      "('max mins', -0.9761683827416775, 1.0)\n"
     ]
    },
    {
     "name": "stderr",
     "output_type": "stream",
     "text": [
      "\r",
      " 20%|██        | 4/20 [00:17<01:11,  4.45s/it]"
     ]
    },
    {
     "name": "stdout",
     "output_type": "stream",
     "text": [
      "('max mins', -1.0, 0.9979458402066035)\n"
     ]
    },
    {
     "name": "stderr",
     "output_type": "stream",
     "text": [
      "\r",
      " 25%|██▌       | 5/20 [00:22<01:06,  4.44s/it]"
     ]
    },
    {
     "name": "stdout",
     "output_type": "stream",
     "text": [
      "('max mins', -1.0, 0.9835242294300514)\n"
     ]
    },
    {
     "name": "stderr",
     "output_type": "stream",
     "text": [
      "\r",
      " 30%|███       | 6/20 [00:26<01:02,  4.44s/it]"
     ]
    },
    {
     "name": "stdout",
     "output_type": "stream",
     "text": [
      "('max mins', -1.0, 0.9794161216354017)\n"
     ]
    },
    {
     "name": "stderr",
     "output_type": "stream",
     "text": [
      "\r",
      " 35%|███▌      | 7/20 [00:31<00:57,  4.44s/it]"
     ]
    },
    {
     "name": "stdout",
     "output_type": "stream",
     "text": [
      "('max mins', -0.9539498961100137, 1.0)\n"
     ]
    },
    {
     "name": "stderr",
     "output_type": "stream",
     "text": [
      "\r",
      " 40%|████      | 8/20 [00:35<00:53,  4.44s/it]"
     ]
    },
    {
     "name": "stdout",
     "output_type": "stream",
     "text": [
      "('max mins', -0.9996854119274982, 1.0)\n"
     ]
    },
    {
     "name": "stderr",
     "output_type": "stream",
     "text": [
      "\r",
      " 45%|████▌     | 9/20 [00:39<00:48,  4.44s/it]"
     ]
    },
    {
     "name": "stdout",
     "output_type": "stream",
     "text": [
      "('max mins', -1.0, 0.9791724417691637)\n"
     ]
    },
    {
     "name": "stderr",
     "output_type": "stream",
     "text": [
      "\r",
      " 50%|█████     | 10/20 [00:44<00:44,  4.44s/it]"
     ]
    },
    {
     "name": "stdout",
     "output_type": "stream",
     "text": [
      "('max mins', -0.974005632614949, 1.0)\n"
     ]
    },
    {
     "name": "stderr",
     "output_type": "stream",
     "text": [
      "\r",
      " 55%|█████▌    | 11/20 [00:48<00:39,  4.43s/it]"
     ]
    },
    {
     "name": "stdout",
     "output_type": "stream",
     "text": [
      "('max mins', -1.0, 0.9886612045571966)\n"
     ]
    },
    {
     "name": "stderr",
     "output_type": "stream",
     "text": [
      "\r",
      " 60%|██████    | 12/20 [00:53<00:35,  4.43s/it]"
     ]
    },
    {
     "name": "stdout",
     "output_type": "stream",
     "text": [
      "('max mins', -1.0, 0.9791690486863055)\n"
     ]
    },
    {
     "name": "stderr",
     "output_type": "stream",
     "text": [
      "\r",
      " 65%|██████▌   | 13/20 [00:57<00:31,  4.43s/it]"
     ]
    },
    {
     "name": "stdout",
     "output_type": "stream",
     "text": [
      "('max mins', -1.0, 0.9545874949719761)\n"
     ]
    },
    {
     "name": "stderr",
     "output_type": "stream",
     "text": [
      "\r",
      " 70%|███████   | 14/20 [01:02<00:26,  4.43s/it]"
     ]
    },
    {
     "name": "stdout",
     "output_type": "stream",
     "text": [
      "('max mins', -1.0, 0.9768979047462234)\n"
     ]
    },
    {
     "name": "stderr",
     "output_type": "stream",
     "text": [
      "\r",
      " 75%|███████▌  | 15/20 [01:06<00:22,  4.44s/it]"
     ]
    },
    {
     "name": "stdout",
     "output_type": "stream",
     "text": [
      "('max mins', -0.9936673943340251, 1.0)\n"
     ]
    },
    {
     "name": "stderr",
     "output_type": "stream",
     "text": [
      "\r",
      " 80%|████████  | 16/20 [01:11<00:17,  4.44s/it]"
     ]
    },
    {
     "name": "stdout",
     "output_type": "stream",
     "text": [
      "('max mins', -0.9884825570880318, 1.0)\n"
     ]
    },
    {
     "name": "stderr",
     "output_type": "stream",
     "text": [
      "\r",
      " 85%|████████▌ | 17/20 [01:15<00:13,  4.44s/it]"
     ]
    },
    {
     "name": "stdout",
     "output_type": "stream",
     "text": [
      "('max mins', -0.9857245825266355, 1.0)\n"
     ]
    },
    {
     "name": "stderr",
     "output_type": "stream",
     "text": [
      "\r",
      " 90%|█████████ | 18/20 [01:19<00:08,  4.44s/it]"
     ]
    },
    {
     "name": "stdout",
     "output_type": "stream",
     "text": [
      "('max mins', -1.0, 0.9795481018740736)\n"
     ]
    },
    {
     "name": "stderr",
     "output_type": "stream",
     "text": [
      "\r",
      " 95%|█████████▌| 19/20 [01:24<00:04,  4.47s/it]"
     ]
    },
    {
     "name": "stdout",
     "output_type": "stream",
     "text": [
      "('max mins', -0.9963263934933122, 1.0)\n"
     ]
    },
    {
     "name": "stderr",
     "output_type": "stream",
     "text": [
      "100%|██████████| 20/20 [01:28<00:00,  4.47s/it]\n"
     ]
    },
    {
     "name": "stdout",
     "output_type": "stream",
     "text": [
      "('Best file pairs are: ', 'non_spikey_T0000024.WAV*non_spikey_T0000025.WAV')\n",
      "Start and end indices around peak:                  start index: 15358108\t\t          end index: 26858108                  total samples:30015488\n"
     ]
    },
    {
     "name": "stderr",
     "output_type": "stream",
     "text": [
      "../../../bin/audio_for_videoannotation.py:175: UserWarning: The AV sync may not be very great - please check again. The value was :0.189788813103843\n",
      "  warnings.warn(warning_msg, stacklevel=1)\n"
     ]
    },
    {
     "name": "stdout",
     "output_type": "stream",
     "text": [
      "common_fps/Aditya_annotations/2018-08-19/common_fps_video_syncAditya_2018-08-20_0111-0200_158.csv\n",
      "('video_fps obtained is :', 25)\n",
      "Did not find user-provided sample rate - getting it from first file that matches format!\n",
      "('sampling rate is : ', 250000)\n",
      ".....finding best audio segment.....\n"
     ]
    },
    {
     "name": "stderr",
     "output_type": "stream",
     "text": [
      "\r",
      "  0%|          | 0/20 [00:00<?, ?it/s]"
     ]
    },
    {
     "name": "stdout",
     "output_type": "stream",
     "text": [
      "('max mins for upsampled video', -1.0, 0.8573586634564677)\n",
      "('max mins', -1.0, 0.9687355577573609)\n"
     ]
    },
    {
     "name": "stderr",
     "output_type": "stream",
     "text": [
      "\r",
      "  5%|▌         | 1/20 [00:04<01:23,  4.42s/it]"
     ]
    },
    {
     "name": "stdout",
     "output_type": "stream",
     "text": [
      "('max mins', -1.0, 0.9546987452164709)\n"
     ]
    },
    {
     "name": "stderr",
     "output_type": "stream",
     "text": [
      "\r",
      " 10%|█         | 2/20 [00:08<01:19,  4.43s/it]"
     ]
    },
    {
     "name": "stdout",
     "output_type": "stream",
     "text": [
      "('max mins', -0.9809947712224186, 1.0)\n"
     ]
    },
    {
     "name": "stderr",
     "output_type": "stream",
     "text": [
      "\r",
      " 15%|█▌        | 3/20 [00:14<01:21,  4.78s/it]"
     ]
    },
    {
     "name": "stdout",
     "output_type": "stream",
     "text": [
      "('max mins', -0.9761683827416775, 1.0)\n"
     ]
    },
    {
     "name": "stderr",
     "output_type": "stream",
     "text": [
      "\r",
      " 20%|██        | 4/20 [00:18<01:14,  4.68s/it]"
     ]
    },
    {
     "name": "stdout",
     "output_type": "stream",
     "text": [
      "('max mins', -1.0, 0.9979458402066035)\n"
     ]
    },
    {
     "name": "stderr",
     "output_type": "stream",
     "text": [
      "\r",
      " 25%|██▌       | 5/20 [00:23<01:09,  4.61s/it]"
     ]
    },
    {
     "name": "stdout",
     "output_type": "stream",
     "text": [
      "('max mins', -1.0, 0.9835242294300514)\n"
     ]
    },
    {
     "name": "stderr",
     "output_type": "stream",
     "text": [
      "\r",
      " 30%|███       | 6/20 [00:27<01:03,  4.55s/it]"
     ]
    },
    {
     "name": "stdout",
     "output_type": "stream",
     "text": [
      "('max mins', -1.0, 0.9794161216354017)\n"
     ]
    },
    {
     "name": "stderr",
     "output_type": "stream",
     "text": [
      "\r",
      " 35%|███▌      | 7/20 [00:32<00:58,  4.52s/it]"
     ]
    },
    {
     "name": "stdout",
     "output_type": "stream",
     "text": [
      "('max mins', -0.9539498961100137, 1.0)\n"
     ]
    },
    {
     "name": "stderr",
     "output_type": "stream",
     "text": [
      "\r",
      " 40%|████      | 8/20 [00:36<00:53,  4.49s/it]"
     ]
    },
    {
     "name": "stdout",
     "output_type": "stream",
     "text": [
      "('max mins', -0.9996854119274982, 1.0)\n"
     ]
    },
    {
     "name": "stderr",
     "output_type": "stream",
     "text": [
      "\r",
      " 45%|████▌     | 9/20 [00:41<00:49,  4.47s/it]"
     ]
    },
    {
     "name": "stdout",
     "output_type": "stream",
     "text": [
      "('max mins', -1.0, 0.9791724417691637)\n"
     ]
    },
    {
     "name": "stderr",
     "output_type": "stream",
     "text": [
      "\r",
      " 50%|█████     | 10/20 [00:45<00:44,  4.46s/it]"
     ]
    },
    {
     "name": "stdout",
     "output_type": "stream",
     "text": [
      "('max mins', -0.974005632614949, 1.0)\n"
     ]
    },
    {
     "name": "stderr",
     "output_type": "stream",
     "text": [
      "\r",
      " 55%|█████▌    | 11/20 [00:49<00:40,  4.45s/it]"
     ]
    },
    {
     "name": "stdout",
     "output_type": "stream",
     "text": [
      "('max mins', -1.0, 0.9886612045571966)\n"
     ]
    },
    {
     "name": "stderr",
     "output_type": "stream",
     "text": [
      "\r",
      " 60%|██████    | 12/20 [00:54<00:35,  4.45s/it]"
     ]
    },
    {
     "name": "stdout",
     "output_type": "stream",
     "text": [
      "('max mins', -1.0, 0.9791690486863055)\n"
     ]
    },
    {
     "name": "stderr",
     "output_type": "stream",
     "text": [
      "\r",
      " 65%|██████▌   | 13/20 [00:58<00:31,  4.45s/it]"
     ]
    },
    {
     "name": "stdout",
     "output_type": "stream",
     "text": [
      "('max mins', -1.0, 0.9545874949719761)\n"
     ]
    },
    {
     "name": "stderr",
     "output_type": "stream",
     "text": [
      "\r",
      " 70%|███████   | 14/20 [01:03<00:26,  4.44s/it]"
     ]
    },
    {
     "name": "stdout",
     "output_type": "stream",
     "text": [
      "('max mins', -1.0, 0.9768979047462234)\n"
     ]
    },
    {
     "name": "stderr",
     "output_type": "stream",
     "text": [
      "\r",
      " 75%|███████▌  | 15/20 [01:07<00:22,  4.44s/it]"
     ]
    },
    {
     "name": "stdout",
     "output_type": "stream",
     "text": [
      "('max mins', -0.9936673943340251, 1.0)\n"
     ]
    },
    {
     "name": "stderr",
     "output_type": "stream",
     "text": [
      "\r",
      " 80%|████████  | 16/20 [01:12<00:17,  4.44s/it]"
     ]
    },
    {
     "name": "stdout",
     "output_type": "stream",
     "text": [
      "('max mins', -0.9884825570880318, 1.0)\n"
     ]
    },
    {
     "name": "stderr",
     "output_type": "stream",
     "text": [
      "\r",
      " 85%|████████▌ | 17/20 [01:16<00:13,  4.44s/it]"
     ]
    },
    {
     "name": "stdout",
     "output_type": "stream",
     "text": [
      "('max mins', -0.9857245825266355, 1.0)\n"
     ]
    },
    {
     "name": "stderr",
     "output_type": "stream",
     "text": [
      "\r",
      " 90%|█████████ | 18/20 [01:20<00:08,  4.43s/it]"
     ]
    },
    {
     "name": "stdout",
     "output_type": "stream",
     "text": [
      "('max mins', -1.0, 0.9795481018740736)\n"
     ]
    },
    {
     "name": "stderr",
     "output_type": "stream",
     "text": [
      "\r",
      " 95%|█████████▌| 19/20 [01:25<00:04,  4.43s/it]"
     ]
    },
    {
     "name": "stdout",
     "output_type": "stream",
     "text": [
      "('max mins', -0.9963263934933122, 1.0)\n"
     ]
    },
    {
     "name": "stderr",
     "output_type": "stream",
     "text": [
      "100%|██████████| 20/20 [01:29<00:00,  4.43s/it]\n"
     ]
    },
    {
     "name": "stdout",
     "output_type": "stream",
     "text": [
      "('Best file pairs are: ', 'non_spikey_T0000024.WAV*non_spikey_T0000025.WAV')\n",
      "Start and end indices around peak:                  start index: 16108271\t\t          end index: 27608271                  total samples:30015488\n"
     ]
    },
    {
     "name": "stderr",
     "output_type": "stream",
     "text": [
      "../../../bin/audio_for_videoannotation.py:175: UserWarning: The AV sync may not be very great - please check again. The value was :0.19833880656874855\n",
      "  warnings.warn(warning_msg, stacklevel=1)\n"
     ]
    },
    {
     "name": "stdout",
     "output_type": "stream",
     "text": [
      "common_fps/Aditya_annotations/2018-08-19/common_fps_video_syncAditya_2018-08-20_0111-0200_160.csv\n",
      "('video_fps obtained is :', 25)\n",
      "Did not find user-provided sample rate - getting it from first file that matches format!\n",
      "('sampling rate is : ', 250000)\n",
      ".....finding best audio segment.....\n"
     ]
    },
    {
     "name": "stderr",
     "output_type": "stream",
     "text": [
      "\r",
      "  0%|          | 0/20 [00:00<?, ?it/s]"
     ]
    },
    {
     "name": "stdout",
     "output_type": "stream",
     "text": [
      "('max mins for upsampled video', -1.0, 0.8733982499593768)\n",
      "('max mins', -1.0, 0.9687355577573609)\n"
     ]
    },
    {
     "name": "stderr",
     "output_type": "stream",
     "text": [
      "\r",
      "  5%|▌         | 1/20 [00:06<02:10,  6.85s/it]"
     ]
    },
    {
     "name": "stdout",
     "output_type": "stream",
     "text": [
      "('max mins', -1.0, 0.9546987452164709)\n"
     ]
    },
    {
     "name": "stderr",
     "output_type": "stream",
     "text": [
      "\r",
      " 10%|█         | 2/20 [00:12<01:57,  6.51s/it]"
     ]
    },
    {
     "name": "stdout",
     "output_type": "stream",
     "text": [
      "('max mins', -0.9809947712224186, 1.0)\n"
     ]
    },
    {
     "name": "stderr",
     "output_type": "stream",
     "text": [
      "\r",
      " 15%|█▌        | 3/20 [00:18<01:46,  6.26s/it]"
     ]
    },
    {
     "name": "stdout",
     "output_type": "stream",
     "text": [
      "('max mins', -0.9761683827416775, 1.0)\n"
     ]
    },
    {
     "name": "stderr",
     "output_type": "stream",
     "text": [
      "\r",
      " 20%|██        | 4/20 [00:23<01:37,  6.09s/it]"
     ]
    },
    {
     "name": "stdout",
     "output_type": "stream",
     "text": [
      "('max mins', -1.0, 0.9979458402066035)\n"
     ]
    },
    {
     "name": "stderr",
     "output_type": "stream",
     "text": [
      "\r",
      " 25%|██▌       | 5/20 [00:29<01:29,  5.97s/it]"
     ]
    },
    {
     "name": "stdout",
     "output_type": "stream",
     "text": [
      "('max mins', -1.0, 0.9835242294300514)\n"
     ]
    },
    {
     "name": "stderr",
     "output_type": "stream",
     "text": [
      "\r",
      " 30%|███       | 6/20 [00:35<01:22,  5.89s/it]"
     ]
    },
    {
     "name": "stdout",
     "output_type": "stream",
     "text": [
      "('max mins', -1.0, 0.9794161216354017)\n"
     ]
    },
    {
     "name": "stderr",
     "output_type": "stream",
     "text": [
      "\r",
      " 35%|███▌      | 7/20 [00:42<01:20,  6.21s/it]"
     ]
    },
    {
     "name": "stdout",
     "output_type": "stream",
     "text": [
      "('max mins', -0.9539498961100137, 1.0)\n"
     ]
    },
    {
     "name": "stderr",
     "output_type": "stream",
     "text": [
      "\r",
      " 40%|████      | 8/20 [00:47<01:12,  6.06s/it]"
     ]
    },
    {
     "name": "stdout",
     "output_type": "stream",
     "text": [
      "('max mins', -0.9996854119274982, 1.0)\n"
     ]
    },
    {
     "name": "stderr",
     "output_type": "stream",
     "text": [
      "\r",
      " 45%|████▌     | 9/20 [00:53<01:05,  5.95s/it]"
     ]
    },
    {
     "name": "stdout",
     "output_type": "stream",
     "text": [
      "('max mins', -1.0, 0.9791724417691637)\n"
     ]
    },
    {
     "name": "stderr",
     "output_type": "stream",
     "text": [
      "\r",
      " 50%|█████     | 10/20 [00:59<00:58,  5.87s/it]"
     ]
    },
    {
     "name": "stdout",
     "output_type": "stream",
     "text": [
      "('max mins', -0.974005632614949, 1.0)\n"
     ]
    },
    {
     "name": "stderr",
     "output_type": "stream",
     "text": [
      "\r",
      " 55%|█████▌    | 11/20 [01:05<00:52,  5.81s/it]"
     ]
    },
    {
     "name": "stdout",
     "output_type": "stream",
     "text": [
      "('max mins', -1.0, 0.9886612045571966)\n"
     ]
    },
    {
     "name": "stderr",
     "output_type": "stream",
     "text": [
      "\r",
      " 60%|██████    | 12/20 [01:10<00:46,  5.78s/it]"
     ]
    },
    {
     "name": "stdout",
     "output_type": "stream",
     "text": [
      "('max mins', -1.0, 0.9791690486863055)\n"
     ]
    },
    {
     "name": "stderr",
     "output_type": "stream",
     "text": [
      "\r",
      " 65%|██████▌   | 13/20 [01:16<00:40,  5.75s/it]"
     ]
    },
    {
     "name": "stdout",
     "output_type": "stream",
     "text": [
      "('max mins', -1.0, 0.9545874949719761)\n"
     ]
    },
    {
     "name": "stderr",
     "output_type": "stream",
     "text": [
      "\r",
      " 70%|███████   | 14/20 [01:22<00:34,  5.73s/it]"
     ]
    },
    {
     "name": "stdout",
     "output_type": "stream",
     "text": [
      "('max mins', -1.0, 0.9768979047462234)\n"
     ]
    },
    {
     "name": "stderr",
     "output_type": "stream",
     "text": [
      "\r",
      " 75%|███████▌  | 15/20 [01:27<00:28,  5.72s/it]"
     ]
    },
    {
     "name": "stdout",
     "output_type": "stream",
     "text": [
      "('max mins', -0.9936673943340251, 1.0)\n"
     ]
    },
    {
     "name": "stderr",
     "output_type": "stream",
     "text": [
      "\r",
      " 80%|████████  | 16/20 [01:33<00:22,  5.71s/it]"
     ]
    },
    {
     "name": "stdout",
     "output_type": "stream",
     "text": [
      "('max mins', -0.9884825570880318, 1.0)\n"
     ]
    },
    {
     "name": "stderr",
     "output_type": "stream",
     "text": [
      "\r",
      " 85%|████████▌ | 17/20 [01:39<00:17,  5.71s/it]"
     ]
    },
    {
     "name": "stdout",
     "output_type": "stream",
     "text": [
      "('max mins', -0.9857245825266355, 1.0)\n"
     ]
    },
    {
     "name": "stderr",
     "output_type": "stream",
     "text": [
      "\r",
      " 90%|█████████ | 18/20 [01:44<00:11,  5.71s/it]"
     ]
    },
    {
     "name": "stdout",
     "output_type": "stream",
     "text": [
      "('max mins', -1.0, 0.9795481018740736)\n"
     ]
    },
    {
     "name": "stderr",
     "output_type": "stream",
     "text": [
      "\r",
      " 95%|█████████▌| 19/20 [01:50<00:05,  5.70s/it]"
     ]
    },
    {
     "name": "stdout",
     "output_type": "stream",
     "text": [
      "('max mins', -0.9963263934933122, 1.0)\n"
     ]
    },
    {
     "name": "stderr",
     "output_type": "stream",
     "text": [
      "100%|██████████| 20/20 [01:56<00:00,  5.70s/it]\n"
     ]
    },
    {
     "name": "stdout",
     "output_type": "stream",
     "text": [
      "('Best file pairs are: ', 'non_spikey_T0000020.WAV*non_spikey_T0000021.WAV')\n",
      "Unable to get proper audio match for video segment!\n",
      "('Could not save ', 'common_fps/Aditya_annotations/2018-08-19/common_fps_video_syncAditya_2018-08-20_0111-0200_160.csv')\n"
     ]
    }
   ],
   "source": [
    "for commonfps_set, file_range in zip(common_fps_chunks, file_ranges_for_chunks):\n",
    "    for each in commonfps_set:\n",
    "        generate_matching_audio(each, audio_folder, audio_sync_spikey=False, \n",
    "                                file_subset=file_range,\n",
    "                                audio_fileformat='*.WAV',\n",
    "                              audiosync_folder='sync_audio/Aditya_annotations/',\n",
    "                               audioannotation_folder='annotation_audio/Aditya_annotations/')"
   ]
  },
  {
   "cell_type": "code",
   "execution_count": 26,
   "metadata": {},
   "outputs": [],
   "source": [
    "import datetime as dt"
   ]
  },
  {
   "cell_type": "code",
   "execution_count": 27,
   "metadata": {},
   "outputs": [
    {
     "name": "stdout",
     "output_type": "stream",
     "text": [
      "('Notebook saved: ', datetime.datetime(2020, 3, 18, 17, 44, 33, 492621))\n"
     ]
    }
   ],
   "source": [
    "print('Notebook saved: ', dt.datetime.now())"
   ]
  },
  {
   "cell_type": "code",
   "execution_count": null,
   "metadata": {},
   "outputs": [],
   "source": []
  }
 ],
 "metadata": {
  "kernelspec": {
   "display_name": "horseshoebat",
   "language": "python",
   "name": "horseshoebat"
  },
  "language_info": {
   "codemirror_mode": {
    "name": "ipython",
    "version": 2
   },
   "file_extension": ".py",
   "mimetype": "text/x-python",
   "name": "python",
   "nbconvert_exporter": "python",
   "pygments_lexer": "ipython2",
   "version": "2.7.15"
  }
 },
 "nbformat": 4,
 "nbformat_minor": 2
}
