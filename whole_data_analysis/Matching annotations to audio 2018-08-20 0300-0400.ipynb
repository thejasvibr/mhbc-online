{
 "cells": [
  {
   "cell_type": "markdown",
   "metadata": {},
   "source": [
    "#### Author: Thejasvi Beleyur\n",
    "#### Last updated: 2020-03-18\n",
    "\n",
    "This notebook will detail all the steps required to get matching audio snippets for the annotations of bat flights made for 2018-08-20 between 03:00-04:00 hours. \n",
    "This notebook is a copy of 'Matching annotations to audio 2018-08-20 0200-0300.ipynb'. \n",
    "\n",
    "\n",
    "\n",
    "### Steps carried out before hand:\n",
    "1. Generating the video sync for the video file *OrlovaChukaDome_02_20180820_03.00.00-04.00.00[R][@49b6][1]\n",
    "...avi* with frame-wise light intensities and time stamps\n",
    "\n",
    "2. Video annotations of the horseshoebats flying done by  Aditya Kanjoor. \n"
   ]
  },
  {
   "cell_type": "code",
   "execution_count": 1,
   "metadata": {},
   "outputs": [],
   "source": [
    "import matplotlib.pyplot as plt\n",
    "import natsort\n",
    "import numpy as np\n",
    "import pandas as pd \n",
    "from tqdm import tqdm\n",
    "\n",
    "package_folder = '../../../bin/'\n",
    "import os\n",
    "import sys \n",
    "sys.path.append(package_folder) # include the modules in the outer folder in the search path\n",
    "from process_video_annotations import video_sync_over_annotation_block\n",
    "\n"
   ]
  },
  {
   "cell_type": "code",
   "execution_count": 2,
   "metadata": {},
   "outputs": [],
   "source": [
    "%matplotlib notebook"
   ]
  },
  {
   "cell_type": "code",
   "execution_count": 3,
   "metadata": {},
   "outputs": [],
   "source": [
    "# loading the annotations\n",
    "annotations = pd.read_csv('annotations/corrected_HBC_video_annotations_Aditya/2018-08-20_0300-0400_Aditya_corrected.csv')"
   ]
  },
  {
   "cell_type": "code",
   "execution_count": 4,
   "metadata": {
    "scrolled": false
   },
   "outputs": [
    {
     "data": {
      "text/html": [
       "<div>\n",
       "<style scoped>\n",
       "    .dataframe tbody tr th:only-of-type {\n",
       "        vertical-align: middle;\n",
       "    }\n",
       "\n",
       "    .dataframe tbody tr th {\n",
       "        vertical-align: top;\n",
       "    }\n",
       "\n",
       "    .dataframe thead th {\n",
       "        text-align: right;\n",
       "    }\n",
       "</style>\n",
       "<table border=\"1\" class=\"dataframe\">\n",
       "  <thead>\n",
       "    <tr style=\"text-align: right;\">\n",
       "      <th></th>\n",
       "      <th>video_path</th>\n",
       "      <th>annotation_id</th>\n",
       "      <th>Sampling minute</th>\n",
       "      <th>timestamp from camera</th>\n",
       "      <th>start_timestamp</th>\n",
       "      <th>start_framenumber</th>\n",
       "      <th>end_timestamp</th>\n",
       "      <th>end_framenumber</th>\n",
       "      <th>no. of flying bats</th>\n",
       "      <th>bat behaviour</th>\n",
       "      <th>strength (1 - strong, 0-weak)</th>\n",
       "      <th>weak in (Behaviour Be, Number Bn)</th>\n",
       "      <th>Comments</th>\n",
       "      <th>Details on the comment</th>\n",
       "      <th>annotator</th>\n",
       "    </tr>\n",
       "  </thead>\n",
       "  <tbody>\n",
       "    <tr>\n",
       "      <th>0</th>\n",
       "      <td>OrlovaChukaDome_02_20180820_03.00.00-04.00.00[...</td>\n",
       "      <td>Aditya_2018-08-20_0300-0400_1</td>\n",
       "      <td>0</td>\n",
       "      <td>2</td>\n",
       "      <td>2018-08-20 03:00:16</td>\n",
       "      <td>2</td>\n",
       "      <td>2018-08-20 03:00:17</td>\n",
       "      <td>4</td>\n",
       "      <td>1</td>\n",
       "      <td>NaN</td>\n",
       "      <td>1</td>\n",
       "      <td>NaN</td>\n",
       "      <td>NaN</td>\n",
       "      <td>NaN</td>\n",
       "      <td>Aditya</td>\n",
       "    </tr>\n",
       "    <tr>\n",
       "      <th>1</th>\n",
       "      <td>OrlovaChukaDome_02_20180820_03.00.00-04.00.00[...</td>\n",
       "      <td>Aditya_2018-08-20_0300-0400_2</td>\n",
       "      <td>0</td>\n",
       "      <td>2</td>\n",
       "      <td>2018-08-20 03:00:50</td>\n",
       "      <td>11</td>\n",
       "      <td>2018-08-20 03:00:50</td>\n",
       "      <td>22</td>\n",
       "      <td>1</td>\n",
       "      <td>NaN</td>\n",
       "      <td>1</td>\n",
       "      <td>NaN</td>\n",
       "      <td>NaN</td>\n",
       "      <td>NaN</td>\n",
       "      <td>Aditya</td>\n",
       "    </tr>\n",
       "    <tr>\n",
       "      <th>2</th>\n",
       "      <td>OrlovaChukaDome_02_20180820_03.00.00-04.00.00[...</td>\n",
       "      <td>Aditya_2018-08-20_0300-0400_3</td>\n",
       "      <td>0</td>\n",
       "      <td>2</td>\n",
       "      <td>2018-08-20 03:00:51</td>\n",
       "      <td>4</td>\n",
       "      <td>2018-08-20 03:00:53</td>\n",
       "      <td>19</td>\n",
       "      <td>2</td>\n",
       "      <td>NaN</td>\n",
       "      <td>1</td>\n",
       "      <td>NaN</td>\n",
       "      <td>NaN</td>\n",
       "      <td>NaN</td>\n",
       "      <td>Aditya</td>\n",
       "    </tr>\n",
       "    <tr>\n",
       "      <th>3</th>\n",
       "      <td>OrlovaChukaDome_02_20180820_03.00.00-04.00.00[...</td>\n",
       "      <td>Aditya_2018-08-20_0300-0400_4</td>\n",
       "      <td>0</td>\n",
       "      <td>2</td>\n",
       "      <td>2018-08-20 03:00:54</td>\n",
       "      <td>1</td>\n",
       "      <td>2018-08-20 03:00:54</td>\n",
       "      <td>11</td>\n",
       "      <td>1</td>\n",
       "      <td>NaN</td>\n",
       "      <td>1</td>\n",
       "      <td>NaN</td>\n",
       "      <td>NaN</td>\n",
       "      <td>NaN</td>\n",
       "      <td>Aditya</td>\n",
       "    </tr>\n",
       "    <tr>\n",
       "      <th>4</th>\n",
       "      <td>OrlovaChukaDome_02_20180820_03.00.00-04.00.00[...</td>\n",
       "      <td>Aditya_2018-08-20_0300-0400_5</td>\n",
       "      <td>3</td>\n",
       "      <td>2</td>\n",
       "      <td>2018-08-20 03:03:12</td>\n",
       "      <td>22</td>\n",
       "      <td>2018-08-20 03:03:13</td>\n",
       "      <td>7</td>\n",
       "      <td>1</td>\n",
       "      <td>NaN</td>\n",
       "      <td>1</td>\n",
       "      <td>NaN</td>\n",
       "      <td>NaN</td>\n",
       "      <td>NaN</td>\n",
       "      <td>Aditya</td>\n",
       "    </tr>\n",
       "  </tbody>\n",
       "</table>\n",
       "</div>"
      ],
      "text/plain": [
       "                                          video_path  \\\n",
       "0  OrlovaChukaDome_02_20180820_03.00.00-04.00.00[...   \n",
       "1  OrlovaChukaDome_02_20180820_03.00.00-04.00.00[...   \n",
       "2  OrlovaChukaDome_02_20180820_03.00.00-04.00.00[...   \n",
       "3  OrlovaChukaDome_02_20180820_03.00.00-04.00.00[...   \n",
       "4  OrlovaChukaDome_02_20180820_03.00.00-04.00.00[...   \n",
       "\n",
       "                   annotation_id  Sampling minute  timestamp from camera  \\\n",
       "0  Aditya_2018-08-20_0300-0400_1                0                      2   \n",
       "1  Aditya_2018-08-20_0300-0400_2                0                      2   \n",
       "2  Aditya_2018-08-20_0300-0400_3                0                      2   \n",
       "3  Aditya_2018-08-20_0300-0400_4                0                      2   \n",
       "4  Aditya_2018-08-20_0300-0400_5                3                      2   \n",
       "\n",
       "       start_timestamp  start_framenumber        end_timestamp  \\\n",
       "0  2018-08-20 03:00:16                  2  2018-08-20 03:00:17   \n",
       "1  2018-08-20 03:00:50                 11  2018-08-20 03:00:50   \n",
       "2  2018-08-20 03:00:51                  4  2018-08-20 03:00:53   \n",
       "3  2018-08-20 03:00:54                  1  2018-08-20 03:00:54   \n",
       "4  2018-08-20 03:03:12                 22  2018-08-20 03:03:13   \n",
       "\n",
       "   end_framenumber  no. of flying bats bat behaviour  \\\n",
       "0                4                   1           NaN   \n",
       "1               22                   1           NaN   \n",
       "2               19                   2           NaN   \n",
       "3               11                   1           NaN   \n",
       "4                7                   1           NaN   \n",
       "\n",
       "   strength (1 - strong, 0-weak) weak in (Behaviour Be, Number Bn) Comments  \\\n",
       "0                              1                               NaN      NaN   \n",
       "1                              1                               NaN      NaN   \n",
       "2                              1                               NaN      NaN   \n",
       "3                              1                               NaN      NaN   \n",
       "4                              1                               NaN      NaN   \n",
       "\n",
       "   Details on the comment annotator  \n",
       "0                     NaN    Aditya  \n",
       "1                     NaN    Aditya  \n",
       "2                     NaN    Aditya  \n",
       "3                     NaN    Aditya  \n",
       "4                     NaN    Aditya  "
      ]
     },
     "execution_count": 4,
     "metadata": {},
     "output_type": "execute_result"
    }
   ],
   "source": [
    "annotations.head()"
   ]
  },
  {
   "cell_type": "code",
   "execution_count": 5,
   "metadata": {},
   "outputs": [
    {
     "data": {
      "text/plain": [
       "(114, 15)"
      ]
     },
     "execution_count": 5,
     "metadata": {},
     "output_type": "execute_result"
    }
   ],
   "source": [
    "annotations.shape"
   ]
  },
  {
   "cell_type": "code",
   "execution_count": 6,
   "metadata": {},
   "outputs": [],
   "source": [
    "annots_w_bats = annotations[annotations['no. of flying bats']>0].reset_index(drop=True)"
   ]
  },
  {
   "cell_type": "code",
   "execution_count": 7,
   "metadata": {},
   "outputs": [
    {
     "data": {
      "text/plain": [
       "(114, 15)"
      ]
     },
     "execution_count": 7,
     "metadata": {},
     "output_type": "execute_result"
    }
   ],
   "source": [
    "annotations.shape"
   ]
  },
  {
   "cell_type": "code",
   "execution_count": 8,
   "metadata": {},
   "outputs": [
    {
     "data": {
      "text/plain": [
       "(114, 15)"
      ]
     },
     "execution_count": 8,
     "metadata": {},
     "output_type": "execute_result"
    }
   ],
   "source": [
    "annots_w_bats.shape"
   ]
  },
  {
   "cell_type": "code",
   "execution_count": 9,
   "metadata": {},
   "outputs": [
    {
     "data": {
      "text/html": [
       "<div>\n",
       "<style scoped>\n",
       "    .dataframe tbody tr th:only-of-type {\n",
       "        vertical-align: middle;\n",
       "    }\n",
       "\n",
       "    .dataframe tbody tr th {\n",
       "        vertical-align: top;\n",
       "    }\n",
       "\n",
       "    .dataframe thead th {\n",
       "        text-align: right;\n",
       "    }\n",
       "</style>\n",
       "<table border=\"1\" class=\"dataframe\">\n",
       "  <thead>\n",
       "    <tr style=\"text-align: right;\">\n",
       "      <th></th>\n",
       "      <th>video_path</th>\n",
       "      <th>annotation_id</th>\n",
       "      <th>Sampling minute</th>\n",
       "      <th>timestamp from camera</th>\n",
       "      <th>start_timestamp</th>\n",
       "      <th>start_framenumber</th>\n",
       "      <th>end_timestamp</th>\n",
       "      <th>end_framenumber</th>\n",
       "      <th>no. of flying bats</th>\n",
       "      <th>bat behaviour</th>\n",
       "      <th>strength (1 - strong, 0-weak)</th>\n",
       "      <th>weak in (Behaviour Be, Number Bn)</th>\n",
       "      <th>Comments</th>\n",
       "      <th>Details on the comment</th>\n",
       "      <th>annotator</th>\n",
       "    </tr>\n",
       "  </thead>\n",
       "  <tbody>\n",
       "    <tr>\n",
       "      <th>0</th>\n",
       "      <td>OrlovaChukaDome_02_20180820_03.00.00-04.00.00[...</td>\n",
       "      <td>Aditya_2018-08-20_0300-0400_1</td>\n",
       "      <td>0</td>\n",
       "      <td>2</td>\n",
       "      <td>2018-08-20 03:00:16</td>\n",
       "      <td>2</td>\n",
       "      <td>2018-08-20 03:00:17</td>\n",
       "      <td>4</td>\n",
       "      <td>1</td>\n",
       "      <td>NaN</td>\n",
       "      <td>1</td>\n",
       "      <td>NaN</td>\n",
       "      <td>NaN</td>\n",
       "      <td>NaN</td>\n",
       "      <td>Aditya</td>\n",
       "    </tr>\n",
       "    <tr>\n",
       "      <th>1</th>\n",
       "      <td>OrlovaChukaDome_02_20180820_03.00.00-04.00.00[...</td>\n",
       "      <td>Aditya_2018-08-20_0300-0400_2</td>\n",
       "      <td>0</td>\n",
       "      <td>2</td>\n",
       "      <td>2018-08-20 03:00:50</td>\n",
       "      <td>11</td>\n",
       "      <td>2018-08-20 03:00:50</td>\n",
       "      <td>22</td>\n",
       "      <td>1</td>\n",
       "      <td>NaN</td>\n",
       "      <td>1</td>\n",
       "      <td>NaN</td>\n",
       "      <td>NaN</td>\n",
       "      <td>NaN</td>\n",
       "      <td>Aditya</td>\n",
       "    </tr>\n",
       "    <tr>\n",
       "      <th>2</th>\n",
       "      <td>OrlovaChukaDome_02_20180820_03.00.00-04.00.00[...</td>\n",
       "      <td>Aditya_2018-08-20_0300-0400_3</td>\n",
       "      <td>0</td>\n",
       "      <td>2</td>\n",
       "      <td>2018-08-20 03:00:51</td>\n",
       "      <td>4</td>\n",
       "      <td>2018-08-20 03:00:53</td>\n",
       "      <td>19</td>\n",
       "      <td>2</td>\n",
       "      <td>NaN</td>\n",
       "      <td>1</td>\n",
       "      <td>NaN</td>\n",
       "      <td>NaN</td>\n",
       "      <td>NaN</td>\n",
       "      <td>Aditya</td>\n",
       "    </tr>\n",
       "    <tr>\n",
       "      <th>3</th>\n",
       "      <td>OrlovaChukaDome_02_20180820_03.00.00-04.00.00[...</td>\n",
       "      <td>Aditya_2018-08-20_0300-0400_4</td>\n",
       "      <td>0</td>\n",
       "      <td>2</td>\n",
       "      <td>2018-08-20 03:00:54</td>\n",
       "      <td>1</td>\n",
       "      <td>2018-08-20 03:00:54</td>\n",
       "      <td>11</td>\n",
       "      <td>1</td>\n",
       "      <td>NaN</td>\n",
       "      <td>1</td>\n",
       "      <td>NaN</td>\n",
       "      <td>NaN</td>\n",
       "      <td>NaN</td>\n",
       "      <td>Aditya</td>\n",
       "    </tr>\n",
       "    <tr>\n",
       "      <th>4</th>\n",
       "      <td>OrlovaChukaDome_02_20180820_03.00.00-04.00.00[...</td>\n",
       "      <td>Aditya_2018-08-20_0300-0400_5</td>\n",
       "      <td>3</td>\n",
       "      <td>2</td>\n",
       "      <td>2018-08-20 03:03:12</td>\n",
       "      <td>22</td>\n",
       "      <td>2018-08-20 03:03:13</td>\n",
       "      <td>7</td>\n",
       "      <td>1</td>\n",
       "      <td>NaN</td>\n",
       "      <td>1</td>\n",
       "      <td>NaN</td>\n",
       "      <td>NaN</td>\n",
       "      <td>NaN</td>\n",
       "      <td>Aditya</td>\n",
       "    </tr>\n",
       "  </tbody>\n",
       "</table>\n",
       "</div>"
      ],
      "text/plain": [
       "                                          video_path  \\\n",
       "0  OrlovaChukaDome_02_20180820_03.00.00-04.00.00[...   \n",
       "1  OrlovaChukaDome_02_20180820_03.00.00-04.00.00[...   \n",
       "2  OrlovaChukaDome_02_20180820_03.00.00-04.00.00[...   \n",
       "3  OrlovaChukaDome_02_20180820_03.00.00-04.00.00[...   \n",
       "4  OrlovaChukaDome_02_20180820_03.00.00-04.00.00[...   \n",
       "\n",
       "                   annotation_id  Sampling minute  timestamp from camera  \\\n",
       "0  Aditya_2018-08-20_0300-0400_1                0                      2   \n",
       "1  Aditya_2018-08-20_0300-0400_2                0                      2   \n",
       "2  Aditya_2018-08-20_0300-0400_3                0                      2   \n",
       "3  Aditya_2018-08-20_0300-0400_4                0                      2   \n",
       "4  Aditya_2018-08-20_0300-0400_5                3                      2   \n",
       "\n",
       "       start_timestamp  start_framenumber        end_timestamp  \\\n",
       "0  2018-08-20 03:00:16                  2  2018-08-20 03:00:17   \n",
       "1  2018-08-20 03:00:50                 11  2018-08-20 03:00:50   \n",
       "2  2018-08-20 03:00:51                  4  2018-08-20 03:00:53   \n",
       "3  2018-08-20 03:00:54                  1  2018-08-20 03:00:54   \n",
       "4  2018-08-20 03:03:12                 22  2018-08-20 03:03:13   \n",
       "\n",
       "   end_framenumber  no. of flying bats bat behaviour  \\\n",
       "0                4                   1           NaN   \n",
       "1               22                   1           NaN   \n",
       "2               19                   2           NaN   \n",
       "3               11                   1           NaN   \n",
       "4                7                   1           NaN   \n",
       "\n",
       "   strength (1 - strong, 0-weak) weak in (Behaviour Be, Number Bn) Comments  \\\n",
       "0                              1                               NaN      NaN   \n",
       "1                              1                               NaN      NaN   \n",
       "2                              1                               NaN      NaN   \n",
       "3                              1                               NaN      NaN   \n",
       "4                              1                               NaN      NaN   \n",
       "\n",
       "   Details on the comment annotator  \n",
       "0                     NaN    Aditya  \n",
       "1                     NaN    Aditya  \n",
       "2                     NaN    Aditya  \n",
       "3                     NaN    Aditya  \n",
       "4                     NaN    Aditya  "
      ]
     },
     "execution_count": 9,
     "metadata": {},
     "output_type": "execute_result"
    }
   ],
   "source": [
    "annots_w_bats.head()"
   ]
  },
  {
   "cell_type": "markdown",
   "metadata": {},
   "source": [
    "### Carrying out the common-fps conversion:\n"
   ]
  },
  {
   "cell_type": "code",
   "execution_count": 10,
   "metadata": {},
   "outputs": [],
   "source": [
    "# load the video sync file with corrected timestamps\n",
    "video_sync_file = 'videosync_OrlovaChukaDome_01_20180820_03.00.00-04.00.00[R][@49b5][0].avi_[timestamp_corrected]_[signal_checked].csv'\n",
    "path_to_videosync = os.path.join('raw_sync','2018-08-19',\n",
    "                                 video_sync_file)\n",
    "video_sync = pd.read_csv(path_to_videosync)"
   ]
  },
  {
   "cell_type": "code",
   "execution_count": 11,
   "metadata": {},
   "outputs": [
    {
     "data": {
      "text/html": [
       "<div>\n",
       "<style scoped>\n",
       "    .dataframe tbody tr th:only-of-type {\n",
       "        vertical-align: middle;\n",
       "    }\n",
       "\n",
       "    .dataframe tbody tr th {\n",
       "        vertical-align: top;\n",
       "    }\n",
       "\n",
       "    .dataframe thead th {\n",
       "        text-align: right;\n",
       "    }\n",
       "</style>\n",
       "<table border=\"1\" class=\"dataframe\">\n",
       "  <thead>\n",
       "    <tr style=\"text-align: right;\">\n",
       "      <th></th>\n",
       "      <th>Unnamed: 0</th>\n",
       "      <th>frame_number</th>\n",
       "      <th>led_intensity</th>\n",
       "      <th>timestamp</th>\n",
       "      <th>timestamp_verified</th>\n",
       "    </tr>\n",
       "  </thead>\n",
       "  <tbody>\n",
       "    <tr>\n",
       "      <th>0</th>\n",
       "      <td>0</td>\n",
       "      <td>1</td>\n",
       "      <td>0.000100</td>\n",
       "      <td>2018-08-20 03:00:00</td>\n",
       "      <td>2018-08-20 03:00:00</td>\n",
       "    </tr>\n",
       "    <tr>\n",
       "      <th>1</th>\n",
       "      <td>1</td>\n",
       "      <td>2</td>\n",
       "      <td>0.000100</td>\n",
       "      <td>2018-08-20 03:00:00</td>\n",
       "      <td>2018-08-20 03:00:00</td>\n",
       "    </tr>\n",
       "    <tr>\n",
       "      <th>2</th>\n",
       "      <td>2</td>\n",
       "      <td>3</td>\n",
       "      <td>0.000101</td>\n",
       "      <td>2018-08-20 03:00:00</td>\n",
       "      <td>2018-08-20 03:00:00</td>\n",
       "    </tr>\n",
       "    <tr>\n",
       "      <th>3</th>\n",
       "      <td>3</td>\n",
       "      <td>4</td>\n",
       "      <td>0.000100</td>\n",
       "      <td>2018-08-20 03:00:00</td>\n",
       "      <td>2018-08-20 03:00:00</td>\n",
       "    </tr>\n",
       "    <tr>\n",
       "      <th>4</th>\n",
       "      <td>4</td>\n",
       "      <td>5</td>\n",
       "      <td>0.000100</td>\n",
       "      <td>2018-08-20 03:00:00</td>\n",
       "      <td>2018-08-20 03:00:00</td>\n",
       "    </tr>\n",
       "  </tbody>\n",
       "</table>\n",
       "</div>"
      ],
      "text/plain": [
       "   Unnamed: 0  frame_number  led_intensity            timestamp  \\\n",
       "0           0             1       0.000100  2018-08-20 03:00:00   \n",
       "1           1             2       0.000100  2018-08-20 03:00:00   \n",
       "2           2             3       0.000101  2018-08-20 03:00:00   \n",
       "3           3             4       0.000100  2018-08-20 03:00:00   \n",
       "4           4             5       0.000100  2018-08-20 03:00:00   \n",
       "\n",
       "    timestamp_verified  \n",
       "0  2018-08-20 03:00:00  \n",
       "1  2018-08-20 03:00:00  \n",
       "2  2018-08-20 03:00:00  \n",
       "3  2018-08-20 03:00:00  \n",
       "4  2018-08-20 03:00:00  "
      ]
     },
     "execution_count": 11,
     "metadata": {},
     "output_type": "execute_result"
    }
   ],
   "source": [
    "video_sync.head()"
   ]
  },
  {
   "cell_type": "code",
   "execution_count": 12,
   "metadata": {
    "scrolled": true
   },
   "outputs": [
    {
     "name": "stderr",
     "output_type": "stream",
     "text": [
      "0it [00:00, ?it/s]/home/tbeleyur/anaconda2/envs/horseshoebat/lib/python2.7/site-packages/scipy/signal/signaltools.py:2223: FutureWarning: Using a non-tuple sequence for multidimensional indexing is deprecated; use `arr[tuple(seq)]` instead of `arr[seq]`. In the future this will be interpreted as an array index, `arr[np.array(seq)]`, which will result either in an error or a different result.\n",
      "  Y[sl] = X[sl]\n",
      "/home/tbeleyur/anaconda2/envs/horseshoebat/lib/python2.7/site-packages/scipy/signal/signaltools.py:2225: FutureWarning: Using a non-tuple sequence for multidimensional indexing is deprecated; use `arr[tuple(seq)]` instead of `arr[seq]`. In the future this will be interpreted as an array index, `arr[np.array(seq)]`, which will result either in an error or a different result.\n",
      "  Y[sl] = X[sl]\n",
      "/home/tbeleyur/anaconda2/envs/horseshoebat/lib/python2.7/site-packages/scipy/signal/signaltools.py:2233: FutureWarning: Using a non-tuple sequence for multidimensional indexing is deprecated; use `arr[tuple(seq)]` instead of `arr[seq]`. In the future this will be interpreted as an array index, `arr[np.array(seq)]`, which will result either in an error or a different result.\n",
      "  Y[sl] /= 2  # halve the component at -N/2\n",
      "/home/tbeleyur/anaconda2/envs/horseshoebat/lib/python2.7/site-packages/scipy/signal/signaltools.py:2234: FutureWarning: Using a non-tuple sequence for multidimensional indexing is deprecated; use `arr[tuple(seq)]` instead of `arr[seq]`. In the future this will be interpreted as an array index, `arr[np.array(seq)]`, which will result either in an error or a different result.\n",
      "  temp = Y[sl]\n",
      "/home/tbeleyur/anaconda2/envs/horseshoebat/lib/python2.7/site-packages/scipy/signal/signaltools.py:2236: FutureWarning: Using a non-tuple sequence for multidimensional indexing is deprecated; use `arr[tuple(seq)]` instead of `arr[seq]`. In the future this will be interpreted as an array index, `arr[np.array(seq)]`, which will result either in an error or a different result.\n",
      "  Y[sl] = temp  # set that equal to the component at -N/2\n",
      "1it [00:06,  6.26s/it]"
     ]
    },
    {
     "name": "stdout",
     "output_type": "stream",
     "text": [
      "Saved annotation :Aditya_2018-08-20_0300-0400_1\n"
     ]
    },
    {
     "name": "stderr",
     "output_type": "stream",
     "text": [
      "../../../bin/process_video_annotations.py:389: UserWarning: Some timestamps below min fps!\n",
      "  warnings.warn('Some timestamps below min fps!')\n",
      "../../../bin/process_video_annotations.py:310: UserWarning: FPS fell below the minimum required - ignoring this annotation\n",
      "  warnings.warn('FPS fell below the minimum required - ignoring this annotation')\n",
      "../../../bin/process_video_annotations.py:115: UserWarning: could not bring above annotation to common fps,                      please check a) if the corresponding audio file is present                        b) if the ON/OFF of the light signal is clean                           \n",
      "  ')\n",
      "\r",
      "2it [00:10,  5.57s/it]"
     ]
    },
    {
     "name": "stdout",
     "output_type": "stream",
     "text": [
      "('timestamps below min fps: ', array(['2018-08-20 03:01:31'], dtype=object))\n",
      "video_path                           OrlovaChukaDome_02_20180820_03.00.00-04.00.00[...\n",
      "annotation_id                                            Aditya_2018-08-20_0300-0400_2\n",
      "Sampling minute                                                                      0\n",
      "timestamp from camera                                                                2\n",
      "start_timestamp                                                    2018-08-20 03:00:50\n",
      "start_framenumber                                                                   11\n",
      "end_timestamp                                                      2018-08-20 03:00:50\n",
      "end_framenumber                                                                     22\n",
      "no. of flying bats                                                                   1\n",
      "bat behaviour                                                                      NaN\n",
      "strength (1 - strong, 0-weak)                                                        1\n",
      "weak in (Behaviour Be, Number Bn)                                                  NaN\n",
      "Comments                                                                           NaN\n",
      "Details on the comment                                                             NaN\n",
      "annotator                                                                       Aditya\n",
      "Name: 1, dtype: object\n",
      "video_path                           OrlovaChukaDome_02_20180820_03.00.00-04.00.00[...\n",
      "annotation_id                                            Aditya_2018-08-20_0300-0400_2\n",
      "Sampling minute                                                                      0\n",
      "timestamp from camera                                                                2\n",
      "start_timestamp                                                    2018-08-20 03:00:50\n",
      "start_framenumber                                                                   11\n",
      "end_timestamp                                                      2018-08-20 03:00:50\n",
      "end_framenumber                                                                     22\n",
      "no. of flying bats                                                                   1\n",
      "bat behaviour                                                                      NaN\n",
      "strength (1 - strong, 0-weak)                                                        1\n",
      "weak in (Behaviour Be, Number Bn)                                                  NaN\n",
      "Comments                                                                           NaN\n",
      "Details on the comment                                                             NaN\n",
      "annotator                                                                       Aditya\n",
      "Name: 1, dtype: object\n"
     ]
    },
    {
     "name": "stderr",
     "output_type": "stream",
     "text": [
      "\r",
      "3it [00:14,  5.06s/it]"
     ]
    },
    {
     "name": "stdout",
     "output_type": "stream",
     "text": [
      "('timestamps below min fps: ', array(['2018-08-20 03:01:31'], dtype=object))\n",
      "video_path                           OrlovaChukaDome_02_20180820_03.00.00-04.00.00[...\n",
      "annotation_id                                            Aditya_2018-08-20_0300-0400_3\n",
      "Sampling minute                                                                      0\n",
      "timestamp from camera                                                                2\n",
      "start_timestamp                                                    2018-08-20 03:00:51\n",
      "start_framenumber                                                                    4\n",
      "end_timestamp                                                      2018-08-20 03:00:53\n",
      "end_framenumber                                                                     19\n",
      "no. of flying bats                                                                   2\n",
      "bat behaviour                                                                      NaN\n",
      "strength (1 - strong, 0-weak)                                                        1\n",
      "weak in (Behaviour Be, Number Bn)                                                  NaN\n",
      "Comments                                                                           NaN\n",
      "Details on the comment                                                             NaN\n",
      "annotator                                                                       Aditya\n",
      "Name: 2, dtype: object\n",
      "video_path                           OrlovaChukaDome_02_20180820_03.00.00-04.00.00[...\n",
      "annotation_id                                            Aditya_2018-08-20_0300-0400_3\n",
      "Sampling minute                                                                      0\n",
      "timestamp from camera                                                                2\n",
      "start_timestamp                                                    2018-08-20 03:00:51\n",
      "start_framenumber                                                                    4\n",
      "end_timestamp                                                      2018-08-20 03:00:53\n",
      "end_framenumber                                                                     19\n",
      "no. of flying bats                                                                   2\n",
      "bat behaviour                                                                      NaN\n",
      "strength (1 - strong, 0-weak)                                                        1\n",
      "weak in (Behaviour Be, Number Bn)                                                  NaN\n",
      "Comments                                                                           NaN\n",
      "Details on the comment                                                             NaN\n",
      "annotator                                                                       Aditya\n",
      "Name: 2, dtype: object\n"
     ]
    },
    {
     "name": "stderr",
     "output_type": "stream",
     "text": [
      "\r",
      "4it [00:17,  4.69s/it]"
     ]
    },
    {
     "name": "stdout",
     "output_type": "stream",
     "text": [
      "('timestamps below min fps: ', array(['2018-08-20 03:01:31'], dtype=object))\n",
      "video_path                           OrlovaChukaDome_02_20180820_03.00.00-04.00.00[...\n",
      "annotation_id                                            Aditya_2018-08-20_0300-0400_4\n",
      "Sampling minute                                                                      0\n",
      "timestamp from camera                                                                2\n",
      "start_timestamp                                                    2018-08-20 03:00:54\n",
      "start_framenumber                                                                    1\n",
      "end_timestamp                                                      2018-08-20 03:00:54\n",
      "end_framenumber                                                                     11\n",
      "no. of flying bats                                                                   1\n",
      "bat behaviour                                                                      NaN\n",
      "strength (1 - strong, 0-weak)                                                        1\n",
      "weak in (Behaviour Be, Number Bn)                                                  NaN\n",
      "Comments                                                                           NaN\n",
      "Details on the comment                                                             NaN\n",
      "annotator                                                                       Aditya\n",
      "Name: 3, dtype: object\n",
      "video_path                           OrlovaChukaDome_02_20180820_03.00.00-04.00.00[...\n",
      "annotation_id                                            Aditya_2018-08-20_0300-0400_4\n",
      "Sampling minute                                                                      0\n",
      "timestamp from camera                                                                2\n",
      "start_timestamp                                                    2018-08-20 03:00:54\n",
      "start_framenumber                                                                    1\n",
      "end_timestamp                                                      2018-08-20 03:00:54\n",
      "end_framenumber                                                                     11\n",
      "no. of flying bats                                                                   1\n",
      "bat behaviour                                                                      NaN\n",
      "strength (1 - strong, 0-weak)                                                        1\n",
      "weak in (Behaviour Be, Number Bn)                                                  NaN\n",
      "Comments                                                                           NaN\n",
      "Details on the comment                                                             NaN\n",
      "annotator                                                                       Aditya\n",
      "Name: 3, dtype: object\n"
     ]
    },
    {
     "name": "stderr",
     "output_type": "stream",
     "text": [
      "\r",
      "5it [00:23,  5.05s/it]"
     ]
    },
    {
     "name": "stdout",
     "output_type": "stream",
     "text": [
      "Unable to process annotation: Aditya_2018-08-20_0300-0400_5\n"
     ]
    },
    {
     "name": "stderr",
     "output_type": "stream",
     "text": [
      "\r",
      "6it [00:29,  5.32s/it]"
     ]
    },
    {
     "name": "stdout",
     "output_type": "stream",
     "text": [
      "Saved annotation :Aditya_2018-08-20_0300-0400_6\n",
      "('2018-08-20 03:03:33', '2018-08-20 03:03:04')\n",
      "Unable to process annotation: Aditya_2018-08-20_0300-0400_7\n"
     ]
    },
    {
     "name": "stderr",
     "output_type": "stream",
     "text": [
      "\r",
      "8it [00:35,  4.62s/it]"
     ]
    },
    {
     "name": "stdout",
     "output_type": "stream",
     "text": [
      "Unable to process annotation: Aditya_2018-08-20_0300-0400_8\n"
     ]
    },
    {
     "name": "stderr",
     "output_type": "stream",
     "text": [
      "\r",
      "9it [00:41,  5.01s/it]"
     ]
    },
    {
     "name": "stdout",
     "output_type": "stream",
     "text": [
      "Saved annotation :Aditya_2018-08-20_0300-0400_9\n"
     ]
    },
    {
     "name": "stderr",
     "output_type": "stream",
     "text": [
      "\r",
      "10it [00:47,  5.29s/it]"
     ]
    },
    {
     "name": "stdout",
     "output_type": "stream",
     "text": [
      "Saved annotation :Aditya_2018-08-20_0300-0400_10\n"
     ]
    },
    {
     "name": "stderr",
     "output_type": "stream",
     "text": [
      "\r",
      "11it [00:53,  5.49s/it]"
     ]
    },
    {
     "name": "stdout",
     "output_type": "stream",
     "text": [
      "Unable to process annotation: Aditya_2018-08-20_0300-0400_11\n"
     ]
    },
    {
     "name": "stderr",
     "output_type": "stream",
     "text": [
      "\r",
      "12it [00:57,  5.00s/it]"
     ]
    },
    {
     "name": "stdout",
     "output_type": "stream",
     "text": [
      "('timestamps below min fps: ', array(['2018-08-20 03:06:31'], dtype=object))\n",
      "video_path                           OrlovaChukaDome_02_20180820_03.00.00-04.00.00[...\n",
      "annotation_id                                           Aditya_2018-08-20_0300-0400_12\n",
      "Sampling minute                                                                      5\n",
      "timestamp from camera                                                                2\n",
      "start_timestamp                                                    2018-08-20 03:05:53\n",
      "start_framenumber                                                                    2\n",
      "end_timestamp                                                      2018-08-20 03:05:54\n",
      "end_framenumber                                                                     22\n",
      "no. of flying bats                                                                   1\n",
      "bat behaviour                                                                      NaN\n",
      "strength (1 - strong, 0-weak)                                                        1\n",
      "weak in (Behaviour Be, Number Bn)                                                  NaN\n",
      "Comments                                                                           NaN\n",
      "Details on the comment                                                             NaN\n",
      "annotator                                                                       Aditya\n",
      "Name: 11, dtype: object\n",
      "video_path                           OrlovaChukaDome_02_20180820_03.00.00-04.00.00[...\n",
      "annotation_id                                           Aditya_2018-08-20_0300-0400_12\n",
      "Sampling minute                                                                      5\n",
      "timestamp from camera                                                                2\n",
      "start_timestamp                                                    2018-08-20 03:05:53\n",
      "start_framenumber                                                                    2\n",
      "end_timestamp                                                      2018-08-20 03:05:54\n",
      "end_framenumber                                                                     22\n",
      "no. of flying bats                                                                   1\n",
      "bat behaviour                                                                      NaN\n",
      "strength (1 - strong, 0-weak)                                                        1\n",
      "weak in (Behaviour Be, Number Bn)                                                  NaN\n",
      "Comments                                                                           NaN\n",
      "Details on the comment                                                             NaN\n",
      "annotator                                                                       Aditya\n",
      "Name: 11, dtype: object\n"
     ]
    },
    {
     "name": "stderr",
     "output_type": "stream",
     "text": [
      "\r",
      "13it [01:03,  5.28s/it]"
     ]
    },
    {
     "name": "stdout",
     "output_type": "stream",
     "text": [
      "Saved annotation :Aditya_2018-08-20_0300-0400_13\n"
     ]
    },
    {
     "name": "stderr",
     "output_type": "stream",
     "text": [
      "\r",
      "14it [01:09,  5.48s/it]"
     ]
    },
    {
     "name": "stdout",
     "output_type": "stream",
     "text": [
      "Saved annotation :Aditya_2018-08-20_0300-0400_14\n"
     ]
    },
    {
     "name": "stderr",
     "output_type": "stream",
     "text": [
      "\r",
      "15it [01:15,  5.62s/it]"
     ]
    },
    {
     "name": "stdout",
     "output_type": "stream",
     "text": [
      "Unable to process annotation: Aditya_2018-08-20_0300-0400_15\n"
     ]
    },
    {
     "name": "stderr",
     "output_type": "stream",
     "text": [
      "\r",
      "16it [01:21,  5.71s/it]"
     ]
    },
    {
     "name": "stdout",
     "output_type": "stream",
     "text": [
      "Saved annotation :Aditya_2018-08-20_0300-0400_16\n"
     ]
    },
    {
     "name": "stderr",
     "output_type": "stream",
     "text": [
      "\r",
      "17it [01:27,  5.81s/it]"
     ]
    },
    {
     "name": "stdout",
     "output_type": "stream",
     "text": [
      "Unable to process annotation: Aditya_2018-08-20_0300-0400_17\n"
     ]
    },
    {
     "name": "stderr",
     "output_type": "stream",
     "text": [
      "\r",
      "18it [01:33,  5.88s/it]"
     ]
    },
    {
     "name": "stdout",
     "output_type": "stream",
     "text": [
      "Saved annotation :Aditya_2018-08-20_0300-0400_18\n"
     ]
    },
    {
     "name": "stderr",
     "output_type": "stream",
     "text": [
      "\r",
      "19it [01:41,  6.46s/it]"
     ]
    },
    {
     "name": "stdout",
     "output_type": "stream",
     "text": [
      "Saved annotation :Aditya_2018-08-20_0300-0400_19\n"
     ]
    },
    {
     "name": "stderr",
     "output_type": "stream",
     "text": [
      "\r",
      "20it [01:46,  6.02s/it]"
     ]
    },
    {
     "name": "stdout",
     "output_type": "stream",
     "text": [
      "('timestamps below min fps: ', array(['2018-08-20 03:11:31'], dtype=object))\n",
      "video_path                           OrlovaChukaDome_02_20180820_03.00.00-04.00.00[...\n",
      "annotation_id                                           Aditya_2018-08-20_0300-0400_20\n",
      "Sampling minute                                                                     11\n",
      "timestamp from camera                                                                2\n",
      "start_timestamp                                                    2018-08-20 03:11:03\n",
      "start_framenumber                                                                   22\n",
      "end_timestamp                                                      2018-08-20 03:11:04\n",
      "end_framenumber                                                                     16\n",
      "no. of flying bats                                                                   1\n",
      "bat behaviour                                                                      NaN\n",
      "strength (1 - strong, 0-weak)                                                        1\n",
      "weak in (Behaviour Be, Number Bn)                                                  NaN\n",
      "Comments                                                                           NaN\n",
      "Details on the comment                                                             NaN\n",
      "annotator                                                                       Aditya\n",
      "Name: 19, dtype: object\n",
      "video_path                           OrlovaChukaDome_02_20180820_03.00.00-04.00.00[...\n",
      "annotation_id                                           Aditya_2018-08-20_0300-0400_20\n",
      "Sampling minute                                                                     11\n",
      "timestamp from camera                                                                2\n",
      "start_timestamp                                                    2018-08-20 03:11:03\n",
      "start_framenumber                                                                   22\n",
      "end_timestamp                                                      2018-08-20 03:11:04\n",
      "end_framenumber                                                                     16\n",
      "no. of flying bats                                                                   1\n",
      "bat behaviour                                                                      NaN\n",
      "strength (1 - strong, 0-weak)                                                        1\n",
      "weak in (Behaviour Be, Number Bn)                                                  NaN\n",
      "Comments                                                                           NaN\n",
      "Details on the comment                                                             NaN\n",
      "annotator                                                                       Aditya\n",
      "Name: 19, dtype: object\n"
     ]
    },
    {
     "name": "stderr",
     "output_type": "stream",
     "text": [
      "\r",
      "21it [01:49,  5.37s/it]"
     ]
    },
    {
     "name": "stdout",
     "output_type": "stream",
     "text": [
      "('timestamps below min fps: ', array(['2018-08-20 03:11:31'], dtype=object))\n",
      "video_path                           OrlovaChukaDome_02_20180820_03.00.00-04.00.00[...\n",
      "annotation_id                                           Aditya_2018-08-20_0300-0400_21\n",
      "Sampling minute                                                                     11\n",
      "timestamp from camera                                                                2\n",
      "start_timestamp                                                    2018-08-20 03:11:31\n",
      "start_framenumber                                                                   11\n",
      "end_timestamp                                                      2018-08-20 03:11:32\n",
      "end_framenumber                                                                     12\n",
      "no. of flying bats                                                                   1\n",
      "bat behaviour                                                                      NaN\n",
      "strength (1 - strong, 0-weak)                                                        1\n",
      "weak in (Behaviour Be, Number Bn)                                                  NaN\n",
      "Comments                                                                           NaN\n",
      "Details on the comment                                                             NaN\n",
      "annotator                                                                       Aditya\n",
      "Name: 20, dtype: object\n",
      "video_path                           OrlovaChukaDome_02_20180820_03.00.00-04.00.00[...\n",
      "annotation_id                                           Aditya_2018-08-20_0300-0400_21\n",
      "Sampling minute                                                                     11\n",
      "timestamp from camera                                                                2\n",
      "start_timestamp                                                    2018-08-20 03:11:31\n",
      "start_framenumber                                                                   11\n",
      "end_timestamp                                                      2018-08-20 03:11:32\n",
      "end_framenumber                                                                     12\n",
      "no. of flying bats                                                                   1\n",
      "bat behaviour                                                                      NaN\n",
      "strength (1 - strong, 0-weak)                                                        1\n",
      "weak in (Behaviour Be, Number Bn)                                                  NaN\n",
      "Comments                                                                           NaN\n",
      "Details on the comment                                                             NaN\n",
      "annotator                                                                       Aditya\n",
      "Name: 20, dtype: object\n"
     ]
    },
    {
     "name": "stderr",
     "output_type": "stream",
     "text": [
      "\r",
      "22it [01:55,  5.54s/it]"
     ]
    },
    {
     "name": "stdout",
     "output_type": "stream",
     "text": [
      "Unable to process annotation: Aditya_2018-08-20_0300-0400_22\n"
     ]
    },
    {
     "name": "stderr",
     "output_type": "stream",
     "text": [
      "\r",
      "23it [02:01,  5.65s/it]"
     ]
    },
    {
     "name": "stdout",
     "output_type": "stream",
     "text": [
      "Saved annotation :Aditya_2018-08-20_0300-0400_23\n"
     ]
    },
    {
     "name": "stderr",
     "output_type": "stream",
     "text": [
      "\r",
      "24it [02:07,  5.73s/it]"
     ]
    },
    {
     "name": "stdout",
     "output_type": "stream",
     "text": [
      "Saved annotation :Aditya_2018-08-20_0300-0400_24\n"
     ]
    },
    {
     "name": "stderr",
     "output_type": "stream",
     "text": [
      "\r",
      "25it [02:13,  5.80s/it]"
     ]
    },
    {
     "name": "stdout",
     "output_type": "stream",
     "text": [
      "Saved annotation :Aditya_2018-08-20_0300-0400_25\n"
     ]
    },
    {
     "name": "stderr",
     "output_type": "stream",
     "text": [
      "\r",
      "26it [02:19,  5.84s/it]"
     ]
    },
    {
     "name": "stdout",
     "output_type": "stream",
     "text": [
      "Saved annotation :Aditya_2018-08-20_0300-0400_26\n"
     ]
    },
    {
     "name": "stderr",
     "output_type": "stream",
     "text": [
      "\r",
      "27it [02:25,  5.88s/it]"
     ]
    },
    {
     "name": "stdout",
     "output_type": "stream",
     "text": [
      "Saved annotation :Aditya_2018-08-20_0300-0400_27\n"
     ]
    },
    {
     "name": "stderr",
     "output_type": "stream",
     "text": [
      "\r",
      "28it [02:31,  5.90s/it]"
     ]
    },
    {
     "name": "stdout",
     "output_type": "stream",
     "text": [
      "Saved annotation :Aditya_2018-08-20_0300-0400_28\n"
     ]
    },
    {
     "name": "stderr",
     "output_type": "stream",
     "text": [
      "\r",
      "29it [02:37,  5.91s/it]"
     ]
    },
    {
     "name": "stdout",
     "output_type": "stream",
     "text": [
      "Saved annotation :Aditya_2018-08-20_0300-0400_29\n"
     ]
    },
    {
     "name": "stderr",
     "output_type": "stream",
     "text": [
      "\r",
      "30it [02:43,  5.91s/it]"
     ]
    },
    {
     "name": "stdout",
     "output_type": "stream",
     "text": [
      "Saved annotation :Aditya_2018-08-20_0300-0400_30\n"
     ]
    },
    {
     "name": "stderr",
     "output_type": "stream",
     "text": [
      "\r",
      "31it [02:49,  5.91s/it]"
     ]
    },
    {
     "name": "stdout",
     "output_type": "stream",
     "text": [
      "Saved annotation :Aditya_2018-08-20_0300-0400_31\n"
     ]
    },
    {
     "name": "stderr",
     "output_type": "stream",
     "text": [
      "\r",
      "32it [02:55,  5.94s/it]"
     ]
    },
    {
     "name": "stdout",
     "output_type": "stream",
     "text": [
      "Saved annotation :Aditya_2018-08-20_0300-0400_32\n"
     ]
    },
    {
     "name": "stderr",
     "output_type": "stream",
     "text": [
      "\r",
      "33it [03:01,  5.95s/it]"
     ]
    },
    {
     "name": "stdout",
     "output_type": "stream",
     "text": [
      "Saved annotation :Aditya_2018-08-20_0300-0400_33\n"
     ]
    },
    {
     "name": "stderr",
     "output_type": "stream",
     "text": [
      "\r",
      "34it [03:07,  5.96s/it]"
     ]
    },
    {
     "name": "stdout",
     "output_type": "stream",
     "text": [
      "Saved annotation :Aditya_2018-08-20_0300-0400_34\n"
     ]
    },
    {
     "name": "stderr",
     "output_type": "stream",
     "text": [
      "\r",
      "35it [03:13,  5.97s/it]"
     ]
    },
    {
     "name": "stdout",
     "output_type": "stream",
     "text": [
      "Saved annotation :Aditya_2018-08-20_0300-0400_35\n"
     ]
    },
    {
     "name": "stderr",
     "output_type": "stream",
     "text": [
      "\r",
      "36it [03:19,  5.98s/it]"
     ]
    },
    {
     "name": "stdout",
     "output_type": "stream",
     "text": [
      "Saved annotation :Aditya_2018-08-20_0300-0400_36\n"
     ]
    },
    {
     "name": "stderr",
     "output_type": "stream",
     "text": [
      "\r",
      "37it [03:25,  5.99s/it]"
     ]
    },
    {
     "name": "stdout",
     "output_type": "stream",
     "text": [
      "Unable to process annotation: Aditya_2018-08-20_0300-0400_37\n"
     ]
    },
    {
     "name": "stderr",
     "output_type": "stream",
     "text": [
      "\r",
      "38it [03:31,  5.98s/it]"
     ]
    },
    {
     "name": "stdout",
     "output_type": "stream",
     "text": [
      "Saved annotation :Aditya_2018-08-20_0300-0400_38\n"
     ]
    },
    {
     "name": "stderr",
     "output_type": "stream",
     "text": [
      "\r",
      "39it [03:37,  6.07s/it]"
     ]
    },
    {
     "name": "stdout",
     "output_type": "stream",
     "text": [
      "Saved annotation :Aditya_2018-08-20_0300-0400_39\n"
     ]
    },
    {
     "name": "stderr",
     "output_type": "stream",
     "text": [
      "\r",
      "40it [03:43,  6.05s/it]"
     ]
    },
    {
     "name": "stdout",
     "output_type": "stream",
     "text": [
      "Unable to process annotation: Aditya_2018-08-20_0300-0400_40\n"
     ]
    },
    {
     "name": "stderr",
     "output_type": "stream",
     "text": [
      "\r",
      "41it [03:49,  6.03s/it]"
     ]
    },
    {
     "name": "stdout",
     "output_type": "stream",
     "text": [
      "Saved annotation :Aditya_2018-08-20_0300-0400_41\n"
     ]
    },
    {
     "name": "stderr",
     "output_type": "stream",
     "text": [
      "\r",
      "42it [03:55,  6.01s/it]"
     ]
    },
    {
     "name": "stdout",
     "output_type": "stream",
     "text": [
      "Saved annotation :Aditya_2018-08-20_0300-0400_42\n"
     ]
    },
    {
     "name": "stderr",
     "output_type": "stream",
     "text": [
      "\r",
      "43it [03:59,  5.36s/it]"
     ]
    },
    {
     "name": "stdout",
     "output_type": "stream",
     "text": [
      "('timestamps below min fps: ', array(['2018-08-20 03:26:31'], dtype=object))\n",
      "video_path                           OrlovaChukaDome_02_20180820_03.00.00-04.00.00[...\n",
      "annotation_id                                           Aditya_2018-08-20_0300-0400_43\n",
      "Sampling minute                                                                     25\n",
      "timestamp from camera                                                                2\n",
      "start_timestamp                                                    2018-08-20 03:25:50\n",
      "start_framenumber                                                                   10\n",
      "end_timestamp                                                      2018-08-20 03:25:50\n",
      "end_framenumber                                                                     23\n",
      "no. of flying bats                                                                   1\n",
      "bat behaviour                                                                      NaN\n",
      "strength (1 - strong, 0-weak)                                                        1\n",
      "weak in (Behaviour Be, Number Bn)                                                  NaN\n",
      "Comments                                                                           NaN\n",
      "Details on the comment                                                             NaN\n",
      "annotator                                                                       Aditya\n",
      "Name: 42, dtype: object\n",
      "video_path                           OrlovaChukaDome_02_20180820_03.00.00-04.00.00[...\n",
      "annotation_id                                           Aditya_2018-08-20_0300-0400_43\n",
      "Sampling minute                                                                     25\n",
      "timestamp from camera                                                                2\n",
      "start_timestamp                                                    2018-08-20 03:25:50\n",
      "start_framenumber                                                                   10\n",
      "end_timestamp                                                      2018-08-20 03:25:50\n",
      "end_framenumber                                                                     23\n",
      "no. of flying bats                                                                   1\n",
      "bat behaviour                                                                      NaN\n",
      "strength (1 - strong, 0-weak)                                                        1\n",
      "weak in (Behaviour Be, Number Bn)                                                  NaN\n",
      "Comments                                                                           NaN\n",
      "Details on the comment                                                             NaN\n",
      "annotator                                                                       Aditya\n",
      "Name: 42, dtype: object\n"
     ]
    },
    {
     "name": "stderr",
     "output_type": "stream",
     "text": [
      "\r",
      "44it [04:03,  4.90s/it]"
     ]
    },
    {
     "name": "stdout",
     "output_type": "stream",
     "text": [
      "('timestamps below min fps: ', array(['2018-08-20 03:26:31'], dtype=object))\n",
      "video_path                           OrlovaChukaDome_02_20180820_03.00.00-04.00.00[...\n",
      "annotation_id                                           Aditya_2018-08-20_0300-0400_44\n",
      "Sampling minute                                                                     25\n",
      "timestamp from camera                                                                2\n",
      "start_timestamp                                                    2018-08-20 03:25:51\n",
      "start_framenumber                                                                    5\n",
      "end_timestamp                                                      2018-08-20 03:25:51\n",
      "end_framenumber                                                                     12\n",
      "no. of flying bats                                                                   1\n",
      "bat behaviour                                                                      NaN\n",
      "strength (1 - strong, 0-weak)                                                        1\n",
      "weak in (Behaviour Be, Number Bn)                                                  NaN\n",
      "Comments                                                                           NaN\n",
      "Details on the comment                                                             NaN\n",
      "annotator                                                                       Aditya\n",
      "Name: 43, dtype: object\n",
      "video_path                           OrlovaChukaDome_02_20180820_03.00.00-04.00.00[...\n",
      "annotation_id                                           Aditya_2018-08-20_0300-0400_44\n",
      "Sampling minute                                                                     25\n",
      "timestamp from camera                                                                2\n",
      "start_timestamp                                                    2018-08-20 03:25:51\n",
      "start_framenumber                                                                    5\n",
      "end_timestamp                                                      2018-08-20 03:25:51\n",
      "end_framenumber                                                                     12\n",
      "no. of flying bats                                                                   1\n",
      "bat behaviour                                                                      NaN\n",
      "strength (1 - strong, 0-weak)                                                        1\n",
      "weak in (Behaviour Be, Number Bn)                                                  NaN\n",
      "Comments                                                                           NaN\n",
      "Details on the comment                                                             NaN\n",
      "annotator                                                                       Aditya\n",
      "Name: 43, dtype: object\n"
     ]
    },
    {
     "name": "stderr",
     "output_type": "stream",
     "text": [
      "\r",
      "45it [04:06,  4.60s/it]"
     ]
    },
    {
     "name": "stdout",
     "output_type": "stream",
     "text": [
      "('timestamps below min fps: ', array(['2018-08-20 03:26:31'], dtype=object))\n",
      "video_path                           OrlovaChukaDome_02_20180820_03.00.00-04.00.00[...\n",
      "annotation_id                                           Aditya_2018-08-20_0300-0400_45\n",
      "Sampling minute                                                                     25\n",
      "timestamp from camera                                                                2\n",
      "start_timestamp                                                    2018-08-20 03:25:55\n",
      "start_framenumber                                                                   15\n",
      "end_timestamp                                                      2018-08-20 03:25:55\n",
      "end_framenumber                                                                     22\n",
      "no. of flying bats                                                                   2\n",
      "bat behaviour                                                                        P\n",
      "strength (1 - strong, 0-weak)                                                        1\n",
      "weak in (Behaviour Be, Number Bn)                                                  NaN\n",
      "Comments                                                                           NaN\n",
      "Details on the comment                                                             NaN\n",
      "annotator                                                                       Aditya\n",
      "Name: 44, dtype: object\n",
      "video_path                           OrlovaChukaDome_02_20180820_03.00.00-04.00.00[...\n",
      "annotation_id                                           Aditya_2018-08-20_0300-0400_45\n",
      "Sampling minute                                                                     25\n",
      "timestamp from camera                                                                2\n",
      "start_timestamp                                                    2018-08-20 03:25:55\n",
      "start_framenumber                                                                   15\n",
      "end_timestamp                                                      2018-08-20 03:25:55\n",
      "end_framenumber                                                                     22\n",
      "no. of flying bats                                                                   2\n",
      "bat behaviour                                                                        P\n",
      "strength (1 - strong, 0-weak)                                                        1\n",
      "weak in (Behaviour Be, Number Bn)                                                  NaN\n",
      "Comments                                                                           NaN\n",
      "Details on the comment                                                             NaN\n",
      "annotator                                                                       Aditya\n",
      "Name: 44, dtype: object\n"
     ]
    },
    {
     "name": "stderr",
     "output_type": "stream",
     "text": [
      "\r",
      "46it [04:10,  4.38s/it]"
     ]
    },
    {
     "name": "stdout",
     "output_type": "stream",
     "text": [
      "('timestamps below min fps: ', array(['2018-08-20 03:26:31'], dtype=object))\n",
      "video_path                           OrlovaChukaDome_02_20180820_03.00.00-04.00.00[...\n",
      "annotation_id                                           Aditya_2018-08-20_0300-0400_46\n",
      "Sampling minute                                                                     25\n",
      "timestamp from camera                                                                2\n",
      "start_timestamp                                                    2018-08-20 03:25:56\n",
      "start_framenumber                                                                    8\n",
      "end_timestamp                                                      2018-08-20 03:25:57\n",
      "end_framenumber                                                                     18\n",
      "no. of flying bats                                                                   1\n",
      "bat behaviour                                                                      NaN\n",
      "strength (1 - strong, 0-weak)                                                        1\n",
      "weak in (Behaviour Be, Number Bn)                                                  NaN\n",
      "Comments                                                                           NaN\n",
      "Details on the comment                                                             NaN\n",
      "annotator                                                                       Aditya\n",
      "Name: 45, dtype: object\n",
      "video_path                           OrlovaChukaDome_02_20180820_03.00.00-04.00.00[...\n",
      "annotation_id                                           Aditya_2018-08-20_0300-0400_46\n",
      "Sampling minute                                                                     25\n",
      "timestamp from camera                                                                2\n",
      "start_timestamp                                                    2018-08-20 03:25:56\n",
      "start_framenumber                                                                    8\n",
      "end_timestamp                                                      2018-08-20 03:25:57\n",
      "end_framenumber                                                                     18\n",
      "no. of flying bats                                                                   1\n",
      "bat behaviour                                                                      NaN\n",
      "strength (1 - strong, 0-weak)                                                        1\n",
      "weak in (Behaviour Be, Number Bn)                                                  NaN\n",
      "Comments                                                                           NaN\n",
      "Details on the comment                                                             NaN\n",
      "annotator                                                                       Aditya\n",
      "Name: 45, dtype: object\n"
     ]
    },
    {
     "name": "stderr",
     "output_type": "stream",
     "text": [
      "\r",
      "47it [04:14,  4.23s/it]"
     ]
    },
    {
     "name": "stdout",
     "output_type": "stream",
     "text": [
      "('timestamps below min fps: ', array(['2018-08-20 03:26:31'], dtype=object))\n",
      "video_path                           OrlovaChukaDome_02_20180820_03.00.00-04.00.00[...\n",
      "annotation_id                                           Aditya_2018-08-20_0300-0400_47\n",
      "Sampling minute                                                                     26\n",
      "timestamp from camera                                                                2\n",
      "start_timestamp                                                    2018-08-20 03:26:00\n",
      "start_framenumber                                                                   21\n",
      "end_timestamp                                                      2018-08-20 03:26:01\n",
      "end_framenumber                                                                     24\n",
      "no. of flying bats                                                                   1\n",
      "bat behaviour                                                                      NaN\n",
      "strength (1 - strong, 0-weak)                                                        1\n",
      "weak in (Behaviour Be, Number Bn)                                                  NaN\n",
      "Comments                                                                           NaN\n",
      "Details on the comment                                                             NaN\n",
      "annotator                                                                       Aditya\n",
      "Name: 46, dtype: object\n",
      "video_path                           OrlovaChukaDome_02_20180820_03.00.00-04.00.00[...\n",
      "annotation_id                                           Aditya_2018-08-20_0300-0400_47\n",
      "Sampling minute                                                                     26\n",
      "timestamp from camera                                                                2\n",
      "start_timestamp                                                    2018-08-20 03:26:00\n",
      "start_framenumber                                                                   21\n",
      "end_timestamp                                                      2018-08-20 03:26:01\n",
      "end_framenumber                                                                     24\n",
      "no. of flying bats                                                                   1\n",
      "bat behaviour                                                                      NaN\n",
      "strength (1 - strong, 0-weak)                                                        1\n",
      "weak in (Behaviour Be, Number Bn)                                                  NaN\n",
      "Comments                                                                           NaN\n",
      "Details on the comment                                                             NaN\n",
      "annotator                                                                       Aditya\n",
      "Name: 46, dtype: object\n"
     ]
    },
    {
     "name": "stderr",
     "output_type": "stream",
     "text": [
      "\r",
      "48it [04:18,  4.13s/it]"
     ]
    },
    {
     "name": "stdout",
     "output_type": "stream",
     "text": [
      "('timestamps below min fps: ', array(['2018-08-20 03:26:31'], dtype=object))\n",
      "video_path                           OrlovaChukaDome_02_20180820_03.00.00-04.00.00[...\n",
      "annotation_id                                           Aditya_2018-08-20_0300-0400_48\n",
      "Sampling minute                                                                     26\n",
      "timestamp from camera                                                                2\n",
      "start_timestamp                                                    2018-08-20 03:26:07\n",
      "start_framenumber                                                                    3\n",
      "end_timestamp                                                      2018-08-20 03:26:08\n",
      "end_framenumber                                                                      1\n",
      "no. of flying bats                                                                   1\n",
      "bat behaviour                                                                      NaN\n",
      "strength (1 - strong, 0-weak)                                                        0\n",
      "weak in (Behaviour Be, Number Bn)                                                   Bn\n",
      "Comments                             There was a shadow going out of the cave  brie...\n",
      "Details on the comment                                                             NaN\n",
      "annotator                                                                       Aditya\n",
      "Name: 47, dtype: object\n",
      "video_path                           OrlovaChukaDome_02_20180820_03.00.00-04.00.00[...\n",
      "annotation_id                                           Aditya_2018-08-20_0300-0400_48\n",
      "Sampling minute                                                                     26\n",
      "timestamp from camera                                                                2\n",
      "start_timestamp                                                    2018-08-20 03:26:07\n",
      "start_framenumber                                                                    3\n",
      "end_timestamp                                                      2018-08-20 03:26:08\n",
      "end_framenumber                                                                      1\n",
      "no. of flying bats                                                                   1\n",
      "bat behaviour                                                                      NaN\n",
      "strength (1 - strong, 0-weak)                                                        0\n",
      "weak in (Behaviour Be, Number Bn)                                                   Bn\n",
      "Comments                             There was a shadow going out of the cave  brie...\n",
      "Details on the comment                                                             NaN\n",
      "annotator                                                                       Aditya\n",
      "Name: 47, dtype: object\n"
     ]
    },
    {
     "name": "stderr",
     "output_type": "stream",
     "text": [
      "\r",
      "49it [04:22,  4.06s/it]"
     ]
    },
    {
     "name": "stdout",
     "output_type": "stream",
     "text": [
      "('timestamps below min fps: ', array(['2018-08-20 03:26:31'], dtype=object))\n",
      "video_path                           OrlovaChukaDome_02_20180820_03.00.00-04.00.00[...\n",
      "annotation_id                                           Aditya_2018-08-20_0300-0400_49\n",
      "Sampling minute                                                                     26\n",
      "timestamp from camera                                                                2\n",
      "start_timestamp                                                    2018-08-20 03:26:10\n",
      "start_framenumber                                                                   21\n",
      "end_timestamp                                                      2018-08-20 03:26:11\n",
      "end_framenumber                                                                     11\n",
      "no. of flying bats                                                                   1\n",
      "bat behaviour                                                                      NaN\n",
      "strength (1 - strong, 0-weak)                                                        1\n",
      "weak in (Behaviour Be, Number Bn)                                                  NaN\n",
      "Comments                                                                           NaN\n",
      "Details on the comment                                                             NaN\n",
      "annotator                                                                       Aditya\n",
      "Name: 48, dtype: object\n",
      "video_path                           OrlovaChukaDome_02_20180820_03.00.00-04.00.00[...\n",
      "annotation_id                                           Aditya_2018-08-20_0300-0400_49\n",
      "Sampling minute                                                                     26\n",
      "timestamp from camera                                                                2\n",
      "start_timestamp                                                    2018-08-20 03:26:10\n",
      "start_framenumber                                                                   21\n",
      "end_timestamp                                                      2018-08-20 03:26:11\n",
      "end_framenumber                                                                     11\n",
      "no. of flying bats                                                                   1\n",
      "bat behaviour                                                                      NaN\n",
      "strength (1 - strong, 0-weak)                                                        1\n",
      "weak in (Behaviour Be, Number Bn)                                                  NaN\n",
      "Comments                                                                           NaN\n",
      "Details on the comment                                                             NaN\n",
      "annotator                                                                       Aditya\n",
      "Name: 48, dtype: object\n"
     ]
    },
    {
     "name": "stderr",
     "output_type": "stream",
     "text": [
      "\r",
      "50it [04:26,  4.01s/it]"
     ]
    },
    {
     "name": "stdout",
     "output_type": "stream",
     "text": [
      "('timestamps below min fps: ', array(['2018-08-20 03:26:31'], dtype=object))\n",
      "video_path                           OrlovaChukaDome_02_20180820_03.00.00-04.00.00[...\n",
      "annotation_id                                           Aditya_2018-08-20_0300-0400_50\n",
      "Sampling minute                                                                     26\n",
      "timestamp from camera                                                                2\n",
      "start_timestamp                                                    2018-08-20 03:26:11\n",
      "start_framenumber                                                                   18\n",
      "end_timestamp                                                      2018-08-20 03:26:18\n",
      "end_framenumber                                                                     12\n",
      "no. of flying bats                                                                   2\n",
      "bat behaviour                                                                      P,T\n",
      "strength (1 - strong, 0-weak)                                                        1\n",
      "weak in (Behaviour Be, Number Bn)                                                  NaN\n",
      "Comments                             The bats goes in and out of the roosting site ...\n",
      "Details on the comment                                                             NaN\n",
      "annotator                                                                       Aditya\n",
      "Name: 49, dtype: object\n",
      "video_path                           OrlovaChukaDome_02_20180820_03.00.00-04.00.00[...\n",
      "annotation_id                                           Aditya_2018-08-20_0300-0400_50\n",
      "Sampling minute                                                                     26\n",
      "timestamp from camera                                                                2\n",
      "start_timestamp                                                    2018-08-20 03:26:11\n",
      "start_framenumber                                                                   18\n",
      "end_timestamp                                                      2018-08-20 03:26:18\n",
      "end_framenumber                                                                     12\n",
      "no. of flying bats                                                                   2\n",
      "bat behaviour                                                                      P,T\n",
      "strength (1 - strong, 0-weak)                                                        1\n",
      "weak in (Behaviour Be, Number Bn)                                                  NaN\n",
      "Comments                             The bats goes in and out of the roosting site ...\n",
      "Details on the comment                                                             NaN\n",
      "annotator                                                                       Aditya\n",
      "Name: 49, dtype: object\n"
     ]
    },
    {
     "name": "stderr",
     "output_type": "stream",
     "text": [
      "\r",
      "51it [04:30,  3.96s/it]"
     ]
    },
    {
     "name": "stdout",
     "output_type": "stream",
     "text": [
      "('timestamps below min fps: ', array(['2018-08-20 03:26:31'], dtype=object))\n",
      "video_path                           OrlovaChukaDome_02_20180820_03.00.00-04.00.00[...\n",
      "annotation_id                                           Aditya_2018-08-20_0300-0400_51\n",
      "Sampling minute                                                                     26\n",
      "timestamp from camera                                                                2\n",
      "start_timestamp                                                    2018-08-20 03:26:18\n",
      "start_framenumber                                                                   19\n",
      "end_timestamp                                                      2018-08-20 03:26:22\n",
      "end_framenumber                                                                     20\n",
      "no. of flying bats                                                                   1\n",
      "bat behaviour                                                                      NaN\n",
      "strength (1 - strong, 0-weak)                                                        1\n",
      "weak in (Behaviour Be, Number Bn)                                                  NaN\n",
      "Comments                                                                           NaN\n",
      "Details on the comment                                                             NaN\n",
      "annotator                                                                       Aditya\n",
      "Name: 50, dtype: object\n",
      "video_path                           OrlovaChukaDome_02_20180820_03.00.00-04.00.00[...\n",
      "annotation_id                                           Aditya_2018-08-20_0300-0400_51\n",
      "Sampling minute                                                                     26\n",
      "timestamp from camera                                                                2\n",
      "start_timestamp                                                    2018-08-20 03:26:18\n",
      "start_framenumber                                                                   19\n",
      "end_timestamp                                                      2018-08-20 03:26:22\n",
      "end_framenumber                                                                     20\n",
      "no. of flying bats                                                                   1\n",
      "bat behaviour                                                                      NaN\n",
      "strength (1 - strong, 0-weak)                                                        1\n",
      "weak in (Behaviour Be, Number Bn)                                                  NaN\n",
      "Comments                                                                           NaN\n",
      "Details on the comment                                                             NaN\n",
      "annotator                                                                       Aditya\n",
      "Name: 50, dtype: object\n"
     ]
    },
    {
     "name": "stderr",
     "output_type": "stream",
     "text": [
      "\r",
      "52it [04:34,  3.92s/it]"
     ]
    },
    {
     "name": "stdout",
     "output_type": "stream",
     "text": [
      "('timestamps below min fps: ', array(['2018-08-20 03:26:31'], dtype=object))\n",
      "video_path                           OrlovaChukaDome_02_20180820_03.00.00-04.00.00[...\n",
      "annotation_id                                           Aditya_2018-08-20_0300-0400_52\n",
      "Sampling minute                                                                     26\n",
      "timestamp from camera                                                                2\n",
      "start_timestamp                                                    2018-08-20 03:26:23\n",
      "start_framenumber                                                                    2\n",
      "end_timestamp                                                      2018-08-20 03:26:29\n",
      "end_framenumber                                                                     25\n",
      "no. of flying bats                                                                   2\n",
      "bat behaviour                                                                      P,T\n",
      "strength (1 - strong, 0-weak)                                                        1\n",
      "weak in (Behaviour Be, Number Bn)                                                  NaN\n",
      "Comments                                                                           NaN\n",
      "Details on the comment                                                             NaN\n",
      "annotator                                                                       Aditya\n",
      "Name: 51, dtype: object\n",
      "video_path                           OrlovaChukaDome_02_20180820_03.00.00-04.00.00[...\n",
      "annotation_id                                           Aditya_2018-08-20_0300-0400_52\n",
      "Sampling minute                                                                     26\n",
      "timestamp from camera                                                                2\n",
      "start_timestamp                                                    2018-08-20 03:26:23\n",
      "start_framenumber                                                                    2\n",
      "end_timestamp                                                      2018-08-20 03:26:29\n",
      "end_framenumber                                                                     25\n",
      "no. of flying bats                                                                   2\n",
      "bat behaviour                                                                      P,T\n",
      "strength (1 - strong, 0-weak)                                                        1\n",
      "weak in (Behaviour Be, Number Bn)                                                  NaN\n",
      "Comments                                                                           NaN\n",
      "Details on the comment                                                             NaN\n",
      "annotator                                                                       Aditya\n",
      "Name: 51, dtype: object\n"
     ]
    },
    {
     "name": "stderr",
     "output_type": "stream",
     "text": [
      "\r",
      "53it [04:37,  3.90s/it]"
     ]
    },
    {
     "name": "stdout",
     "output_type": "stream",
     "text": [
      "('timestamps below min fps: ', array(['2018-08-20 03:26:31'], dtype=object))\n",
      "video_path                           OrlovaChukaDome_02_20180820_03.00.00-04.00.00[...\n",
      "annotation_id                                           Aditya_2018-08-20_0300-0400_53\n",
      "Sampling minute                                                                     26\n",
      "timestamp from camera                                                                2\n",
      "start_timestamp                                                    2018-08-20 03:26:30\n",
      "start_framenumber                                                                    7\n",
      "end_timestamp                                                      2018-08-20 03:26:33\n",
      "end_framenumber                                                                      8\n",
      "no. of flying bats                                                                   1\n",
      "bat behaviour                                                                      NaN\n",
      "strength (1 - strong, 0-weak)                                                        1\n",
      "weak in (Behaviour Be, Number Bn)                                                  NaN\n",
      "Comments                                                                           NaN\n",
      "Details on the comment                                                             NaN\n",
      "annotator                                                                       Aditya\n",
      "Name: 52, dtype: object\n",
      "video_path                           OrlovaChukaDome_02_20180820_03.00.00-04.00.00[...\n",
      "annotation_id                                           Aditya_2018-08-20_0300-0400_53\n",
      "Sampling minute                                                                     26\n",
      "timestamp from camera                                                                2\n",
      "start_timestamp                                                    2018-08-20 03:26:30\n",
      "start_framenumber                                                                    7\n",
      "end_timestamp                                                      2018-08-20 03:26:33\n",
      "end_framenumber                                                                      8\n",
      "no. of flying bats                                                                   1\n",
      "bat behaviour                                                                      NaN\n",
      "strength (1 - strong, 0-weak)                                                        1\n",
      "weak in (Behaviour Be, Number Bn)                                                  NaN\n",
      "Comments                                                                           NaN\n",
      "Details on the comment                                                             NaN\n",
      "annotator                                                                       Aditya\n",
      "Name: 52, dtype: object\n"
     ]
    },
    {
     "name": "stderr",
     "output_type": "stream",
     "text": [
      "\r",
      "54it [04:43,  4.51s/it]"
     ]
    },
    {
     "name": "stdout",
     "output_type": "stream",
     "text": [
      "Unable to process annotation: Aditya_2018-08-20_0300-0400_54\n"
     ]
    },
    {
     "name": "stderr",
     "output_type": "stream",
     "text": [
      "\r",
      "55it [04:49,  4.95s/it]"
     ]
    },
    {
     "name": "stdout",
     "output_type": "stream",
     "text": [
      "Saved annotation :Aditya_2018-08-20_0300-0400_55\n"
     ]
    },
    {
     "name": "stderr",
     "output_type": "stream",
     "text": [
      "\r",
      "56it [04:55,  5.26s/it]"
     ]
    },
    {
     "name": "stdout",
     "output_type": "stream",
     "text": [
      "Saved annotation :Aditya_2018-08-20_0300-0400_56\n"
     ]
    },
    {
     "name": "stderr",
     "output_type": "stream",
     "text": [
      "\r",
      "57it [05:01,  5.47s/it]"
     ]
    },
    {
     "name": "stdout",
     "output_type": "stream",
     "text": [
      "Saved annotation :Aditya_2018-08-20_0300-0400_57\n"
     ]
    },
    {
     "name": "stderr",
     "output_type": "stream",
     "text": [
      "\r",
      "58it [05:07,  5.63s/it]"
     ]
    },
    {
     "name": "stdout",
     "output_type": "stream",
     "text": [
      "Saved annotation :Aditya_2018-08-20_0300-0400_58\n"
     ]
    },
    {
     "name": "stderr",
     "output_type": "stream",
     "text": [
      "\r",
      "59it [05:13,  5.74s/it]"
     ]
    },
    {
     "name": "stdout",
     "output_type": "stream",
     "text": [
      "Unable to process annotation: Aditya_2018-08-20_0300-0400_59\n"
     ]
    },
    {
     "name": "stderr",
     "output_type": "stream",
     "text": [
      "\r",
      "60it [05:19,  5.81s/it]"
     ]
    },
    {
     "name": "stdout",
     "output_type": "stream",
     "text": [
      "Unable to process annotation: Aditya_2018-08-20_0300-0400_60\n"
     ]
    },
    {
     "name": "stderr",
     "output_type": "stream",
     "text": [
      "\r",
      "61it [05:25,  5.87s/it]"
     ]
    },
    {
     "name": "stdout",
     "output_type": "stream",
     "text": [
      "Saved annotation :Aditya_2018-08-20_0300-0400_61\n"
     ]
    },
    {
     "name": "stderr",
     "output_type": "stream",
     "text": [
      "\r",
      "62it [05:29,  5.27s/it]"
     ]
    },
    {
     "name": "stdout",
     "output_type": "stream",
     "text": [
      "('timestamps below min fps: ', array(['2018-08-20 03:31:31'], dtype=object))\n",
      "video_path                           OrlovaChukaDome_02_20180820_03.00.00-04.00.00[...\n",
      "annotation_id                                           Aditya_2018-08-20_0300-0400_62\n",
      "Sampling minute                                                                     30\n",
      "timestamp from camera                                                                2\n",
      "start_timestamp                                                    2018-08-20 03:30:52\n",
      "start_framenumber                                                                   21\n",
      "end_timestamp                                                      2018-08-20 03:30:53\n",
      "end_framenumber                                                                      7\n",
      "no. of flying bats                                                                   1\n",
      "bat behaviour                                                                      NaN\n",
      "strength (1 - strong, 0-weak)                                                        1\n",
      "weak in (Behaviour Be, Number Bn)                                                  NaN\n",
      "Comments                               The first bat is not visible. Hanging somewhere\n",
      "Details on the comment                                                             NaN\n",
      "annotator                                                                       Aditya\n",
      "Name: 61, dtype: object\n",
      "video_path                           OrlovaChukaDome_02_20180820_03.00.00-04.00.00[...\n",
      "annotation_id                                           Aditya_2018-08-20_0300-0400_62\n",
      "Sampling minute                                                                     30\n",
      "timestamp from camera                                                                2\n",
      "start_timestamp                                                    2018-08-20 03:30:52\n",
      "start_framenumber                                                                   21\n",
      "end_timestamp                                                      2018-08-20 03:30:53\n",
      "end_framenumber                                                                      7\n",
      "no. of flying bats                                                                   1\n",
      "bat behaviour                                                                      NaN\n",
      "strength (1 - strong, 0-weak)                                                        1\n",
      "weak in (Behaviour Be, Number Bn)                                                  NaN\n",
      "Comments                               The first bat is not visible. Hanging somewhere\n",
      "Details on the comment                                                             NaN\n",
      "annotator                                                                       Aditya\n",
      "Name: 61, dtype: object\n"
     ]
    },
    {
     "name": "stderr",
     "output_type": "stream",
     "text": [
      "\r",
      "63it [05:33,  4.88s/it]"
     ]
    },
    {
     "name": "stdout",
     "output_type": "stream",
     "text": [
      "('timestamps below min fps: ', array(['2018-08-20 03:31:31'], dtype=object))\n",
      "video_path                           OrlovaChukaDome_02_20180820_03.00.00-04.00.00[...\n",
      "annotation_id                                           Aditya_2018-08-20_0300-0400_63\n",
      "Sampling minute                                                                     30\n",
      "timestamp from camera                                                                2\n",
      "start_timestamp                                                    2018-08-20 03:30:53\n",
      "start_framenumber                                                                   14\n",
      "end_timestamp                                                      2018-08-20 03:30:54\n",
      "end_framenumber                                                                      2\n",
      "no. of flying bats                                                                   2\n",
      "bat behaviour                                                                        P\n",
      "strength (1 - strong, 0-weak)                                                        1\n",
      "weak in (Behaviour Be, Number Bn)                                                  NaN\n",
      "Comments                                                                           NaN\n",
      "Details on the comment                                                             NaN\n",
      "annotator                                                                       Aditya\n",
      "Name: 62, dtype: object\n",
      "video_path                           OrlovaChukaDome_02_20180820_03.00.00-04.00.00[...\n",
      "annotation_id                                           Aditya_2018-08-20_0300-0400_63\n",
      "Sampling minute                                                                     30\n",
      "timestamp from camera                                                                2\n",
      "start_timestamp                                                    2018-08-20 03:30:53\n",
      "start_framenumber                                                                   14\n",
      "end_timestamp                                                      2018-08-20 03:30:54\n",
      "end_framenumber                                                                      2\n",
      "no. of flying bats                                                                   2\n",
      "bat behaviour                                                                        P\n",
      "strength (1 - strong, 0-weak)                                                        1\n",
      "weak in (Behaviour Be, Number Bn)                                                  NaN\n",
      "Comments                                                                           NaN\n",
      "Details on the comment                                                             NaN\n",
      "annotator                                                                       Aditya\n",
      "Name: 62, dtype: object\n"
     ]
    },
    {
     "name": "stderr",
     "output_type": "stream",
     "text": [
      "\r",
      "64it [05:37,  4.66s/it]"
     ]
    },
    {
     "name": "stdout",
     "output_type": "stream",
     "text": [
      "('timestamps below min fps: ', array(['2018-08-20 03:31:31'], dtype=object))\n",
      "video_path                           OrlovaChukaDome_02_20180820_03.00.00-04.00.00[...\n",
      "annotation_id                                           Aditya_2018-08-20_0300-0400_64\n",
      "Sampling minute                                                                     30\n",
      "timestamp from camera                                                                2\n",
      "start_timestamp                                                    2018-08-20 03:30:54\n",
      "start_framenumber                                                                    9\n",
      "end_timestamp                                                      2018-08-20 03:30:54\n",
      "end_framenumber                                                                     14\n",
      "no. of flying bats                                                                   3\n",
      "bat behaviour                                                                      T,P\n",
      "strength (1 - strong, 0-weak)                                                        1\n",
      "weak in (Behaviour Be, Number Bn)                                                  NaN\n",
      "Comments                                                                           NaN\n",
      "Details on the comment                                                             NaN\n",
      "annotator                                                                       Aditya\n",
      "Name: 63, dtype: object\n",
      "video_path                           OrlovaChukaDome_02_20180820_03.00.00-04.00.00[...\n",
      "annotation_id                                           Aditya_2018-08-20_0300-0400_64\n",
      "Sampling minute                                                                     30\n",
      "timestamp from camera                                                                2\n",
      "start_timestamp                                                    2018-08-20 03:30:54\n",
      "start_framenumber                                                                    9\n",
      "end_timestamp                                                      2018-08-20 03:30:54\n",
      "end_framenumber                                                                     14\n",
      "no. of flying bats                                                                   3\n",
      "bat behaviour                                                                      T,P\n",
      "strength (1 - strong, 0-weak)                                                        1\n",
      "weak in (Behaviour Be, Number Bn)                                                  NaN\n",
      "Comments                                                                           NaN\n",
      "Details on the comment                                                             NaN\n",
      "annotator                                                                       Aditya\n",
      "Name: 63, dtype: object\n"
     ]
    },
    {
     "name": "stderr",
     "output_type": "stream",
     "text": [
      "\r",
      "65it [05:41,  4.42s/it]"
     ]
    },
    {
     "name": "stdout",
     "output_type": "stream",
     "text": [
      "('timestamps below min fps: ', array(['2018-08-20 03:31:31'], dtype=object))\n",
      "video_path                           OrlovaChukaDome_02_20180820_03.00.00-04.00.00[...\n",
      "annotation_id                                           Aditya_2018-08-20_0300-0400_65\n",
      "Sampling minute                                                                     30\n",
      "timestamp from camera                                                                2\n",
      "start_timestamp                                                    2018-08-20 03:30:54\n",
      "start_framenumber                                                                   21\n",
      "end_timestamp                                                      2018-08-20 03:30:54\n",
      "end_framenumber                                                                     25\n",
      "no. of flying bats                                                                   2\n",
      "bat behaviour                                                                        P\n",
      "strength (1 - strong, 0-weak)                                                        0\n",
      "weak in (Behaviour Be, Number Bn)                                                  NaN\n",
      "Comments                                                                           NaN\n",
      "Details on the comment                                                             NaN\n",
      "annotator                                                                       Aditya\n",
      "Name: 64, dtype: object\n",
      "video_path                           OrlovaChukaDome_02_20180820_03.00.00-04.00.00[...\n",
      "annotation_id                                           Aditya_2018-08-20_0300-0400_65\n",
      "Sampling minute                                                                     30\n",
      "timestamp from camera                                                                2\n",
      "start_timestamp                                                    2018-08-20 03:30:54\n",
      "start_framenumber                                                                   21\n",
      "end_timestamp                                                      2018-08-20 03:30:54\n",
      "end_framenumber                                                                     25\n",
      "no. of flying bats                                                                   2\n",
      "bat behaviour                                                                        P\n",
      "strength (1 - strong, 0-weak)                                                        0\n",
      "weak in (Behaviour Be, Number Bn)                                                  NaN\n",
      "Comments                                                                           NaN\n",
      "Details on the comment                                                             NaN\n",
      "annotator                                                                       Aditya\n",
      "Name: 64, dtype: object\n"
     ]
    },
    {
     "name": "stderr",
     "output_type": "stream",
     "text": [
      "\r",
      "66it [05:45,  4.26s/it]"
     ]
    },
    {
     "name": "stdout",
     "output_type": "stream",
     "text": [
      "('timestamps below min fps: ', array(['2018-08-20 03:31:31'], dtype=object))\n",
      "video_path                           OrlovaChukaDome_02_20180820_03.00.00-04.00.00[...\n",
      "annotation_id                                           Aditya_2018-08-20_0300-0400_66\n",
      "Sampling minute                                                                     30\n",
      "timestamp from camera                                                                2\n",
      "start_timestamp                                                    2018-08-20 03:30:55\n",
      "start_framenumber                                                                    7\n",
      "end_timestamp                                                      2018-08-20 03:30:55\n",
      "end_framenumber                                                                     21\n",
      "no. of flying bats                                                                   1\n",
      "bat behaviour                                                                      NaN\n",
      "strength (1 - strong, 0-weak)                                                        1\n",
      "weak in (Behaviour Be, Number Bn)                                                  NaN\n",
      "Comments                                                                           NaN\n",
      "Details on the comment                                                             NaN\n",
      "annotator                                                                       Aditya\n",
      "Name: 65, dtype: object\n",
      "video_path                           OrlovaChukaDome_02_20180820_03.00.00-04.00.00[...\n",
      "annotation_id                                           Aditya_2018-08-20_0300-0400_66\n",
      "Sampling minute                                                                     30\n",
      "timestamp from camera                                                                2\n",
      "start_timestamp                                                    2018-08-20 03:30:55\n",
      "start_framenumber                                                                    7\n",
      "end_timestamp                                                      2018-08-20 03:30:55\n",
      "end_framenumber                                                                     21\n",
      "no. of flying bats                                                                   1\n",
      "bat behaviour                                                                      NaN\n",
      "strength (1 - strong, 0-weak)                                                        1\n",
      "weak in (Behaviour Be, Number Bn)                                                  NaN\n",
      "Comments                                                                           NaN\n",
      "Details on the comment                                                             NaN\n",
      "annotator                                                                       Aditya\n",
      "Name: 65, dtype: object\n"
     ]
    },
    {
     "name": "stderr",
     "output_type": "stream",
     "text": [
      "\r",
      "67it [05:49,  4.14s/it]"
     ]
    },
    {
     "name": "stdout",
     "output_type": "stream",
     "text": [
      "('timestamps below min fps: ', array(['2018-08-20 03:31:31'], dtype=object))\n",
      "video_path                           OrlovaChukaDome_02_20180820_03.00.00-04.00.00[...\n",
      "annotation_id                                           Aditya_2018-08-20_0300-0400_67\n",
      "Sampling minute                                                                     31\n",
      "timestamp from camera                                                                2\n",
      "start_timestamp                                                    2018-08-20 03:31:18\n",
      "start_framenumber                                                                   20\n",
      "end_timestamp                                                      2018-08-20 03:31:19\n",
      "end_framenumber                                                                     16\n",
      "no. of flying bats                                                                   1\n",
      "bat behaviour                                                                      NaN\n",
      "strength (1 - strong, 0-weak)                                                        1\n",
      "weak in (Behaviour Be, Number Bn)                                                  NaN\n",
      "Comments                                                                           NaN\n",
      "Details on the comment                                                             NaN\n",
      "annotator                                                                       Aditya\n",
      "Name: 66, dtype: object\n",
      "video_path                           OrlovaChukaDome_02_20180820_03.00.00-04.00.00[...\n",
      "annotation_id                                           Aditya_2018-08-20_0300-0400_67\n",
      "Sampling minute                                                                     31\n",
      "timestamp from camera                                                                2\n",
      "start_timestamp                                                    2018-08-20 03:31:18\n",
      "start_framenumber                                                                   20\n",
      "end_timestamp                                                      2018-08-20 03:31:19\n",
      "end_framenumber                                                                     16\n",
      "no. of flying bats                                                                   1\n",
      "bat behaviour                                                                      NaN\n",
      "strength (1 - strong, 0-weak)                                                        1\n",
      "weak in (Behaviour Be, Number Bn)                                                  NaN\n",
      "Comments                                                                           NaN\n",
      "Details on the comment                                                             NaN\n",
      "annotator                                                                       Aditya\n",
      "Name: 66, dtype: object\n"
     ]
    },
    {
     "name": "stderr",
     "output_type": "stream",
     "text": [
      "\r",
      "68it [05:53,  4.07s/it]"
     ]
    },
    {
     "name": "stdout",
     "output_type": "stream",
     "text": [
      "('timestamps below min fps: ', array(['2018-08-20 03:31:31'], dtype=object))\n",
      "video_path                           OrlovaChukaDome_02_20180820_03.00.00-04.00.00[...\n",
      "annotation_id                                           Aditya_2018-08-20_0300-0400_68\n",
      "Sampling minute                                                                     31\n",
      "timestamp from camera                                                                2\n",
      "start_timestamp                                                    2018-08-20 03:31:20\n",
      "start_framenumber                                                                    1\n",
      "end_timestamp                                                      2018-08-20 03:31:20\n",
      "end_framenumber                                                                     23\n",
      "no. of flying bats                                                                   1\n",
      "bat behaviour                                                                      NaN\n",
      "strength (1 - strong, 0-weak)                                                        1\n",
      "weak in (Behaviour Be, Number Bn)                                                  NaN\n",
      "Comments                               The shadow is seen in the cave for a bit longer\n",
      "Details on the comment                                                             NaN\n",
      "annotator                                                                       Aditya\n",
      "Name: 67, dtype: object\n",
      "video_path                           OrlovaChukaDome_02_20180820_03.00.00-04.00.00[...\n",
      "annotation_id                                           Aditya_2018-08-20_0300-0400_68\n",
      "Sampling minute                                                                     31\n",
      "timestamp from camera                                                                2\n",
      "start_timestamp                                                    2018-08-20 03:31:20\n",
      "start_framenumber                                                                    1\n",
      "end_timestamp                                                      2018-08-20 03:31:20\n",
      "end_framenumber                                                                     23\n",
      "no. of flying bats                                                                   1\n",
      "bat behaviour                                                                      NaN\n",
      "strength (1 - strong, 0-weak)                                                        1\n",
      "weak in (Behaviour Be, Number Bn)                                                  NaN\n",
      "Comments                               The shadow is seen in the cave for a bit longer\n",
      "Details on the comment                                                             NaN\n",
      "annotator                                                                       Aditya\n",
      "Name: 67, dtype: object\n"
     ]
    },
    {
     "name": "stderr",
     "output_type": "stream",
     "text": [
      "\r",
      "69it [05:59,  4.63s/it]"
     ]
    },
    {
     "name": "stdout",
     "output_type": "stream",
     "text": [
      "Saved annotation :Aditya_2018-08-20_0300-0400_69\n"
     ]
    },
    {
     "name": "stderr",
     "output_type": "stream",
     "text": [
      "\r",
      "70it [06:05,  5.04s/it]"
     ]
    },
    {
     "name": "stdout",
     "output_type": "stream",
     "text": [
      "Saved annotation :Aditya_2018-08-20_0300-0400_70\n"
     ]
    },
    {
     "name": "stderr",
     "output_type": "stream",
     "text": [
      "\r",
      "71it [06:11,  5.32s/it]"
     ]
    },
    {
     "name": "stdout",
     "output_type": "stream",
     "text": [
      "Saved annotation :Aditya_2018-08-20_0300-0400_71\n"
     ]
    },
    {
     "name": "stderr",
     "output_type": "stream",
     "text": [
      "\r",
      "72it [06:17,  5.53s/it]"
     ]
    },
    {
     "name": "stdout",
     "output_type": "stream",
     "text": [
      "Saved annotation :Aditya_2018-08-20_0300-0400_72\n"
     ]
    },
    {
     "name": "stderr",
     "output_type": "stream",
     "text": [
      "\r",
      "73it [06:23,  5.67s/it]"
     ]
    },
    {
     "name": "stdout",
     "output_type": "stream",
     "text": [
      "Saved annotation :Aditya_2018-08-20_0300-0400_73\n"
     ]
    },
    {
     "name": "stderr",
     "output_type": "stream",
     "text": [
      "\r",
      "74it [06:29,  5.75s/it]"
     ]
    },
    {
     "name": "stdout",
     "output_type": "stream",
     "text": [
      "Saved annotation :Aditya_2018-08-20_0300-0400_74\n"
     ]
    },
    {
     "name": "stderr",
     "output_type": "stream",
     "text": [
      "\r",
      "75it [06:34,  5.81s/it]"
     ]
    },
    {
     "name": "stdout",
     "output_type": "stream",
     "text": [
      "Saved annotation :Aditya_2018-08-20_0300-0400_75\n"
     ]
    },
    {
     "name": "stderr",
     "output_type": "stream",
     "text": [
      "\r",
      "76it [06:40,  5.85s/it]"
     ]
    },
    {
     "name": "stdout",
     "output_type": "stream",
     "text": [
      "Unable to process annotation: Aditya_2018-08-20_0300-0400_76\n"
     ]
    },
    {
     "name": "stderr",
     "output_type": "stream",
     "text": [
      "\r",
      "77it [06:46,  5.90s/it]"
     ]
    },
    {
     "name": "stdout",
     "output_type": "stream",
     "text": [
      "Unable to process annotation: Aditya_2018-08-20_0300-0400_77\n"
     ]
    },
    {
     "name": "stderr",
     "output_type": "stream",
     "text": [
      "\r",
      "78it [06:52,  5.91s/it]"
     ]
    },
    {
     "name": "stdout",
     "output_type": "stream",
     "text": [
      "Saved annotation :Aditya_2018-08-20_0300-0400_78\n"
     ]
    },
    {
     "name": "stderr",
     "output_type": "stream",
     "text": [
      "\r",
      "79it [06:58,  5.95s/it]"
     ]
    },
    {
     "name": "stdout",
     "output_type": "stream",
     "text": [
      "Saved annotation :Aditya_2018-08-20_0300-0400_79\n"
     ]
    },
    {
     "name": "stderr",
     "output_type": "stream",
     "text": [
      "\r",
      "80it [07:04,  5.95s/it]"
     ]
    },
    {
     "name": "stdout",
     "output_type": "stream",
     "text": [
      "Saved annotation :Aditya_2018-08-20_0300-0400_80\n"
     ]
    },
    {
     "name": "stderr",
     "output_type": "stream",
     "text": [
      "\r",
      "81it [07:10,  5.95s/it]"
     ]
    },
    {
     "name": "stdout",
     "output_type": "stream",
     "text": [
      "Saved annotation :Aditya_2018-08-20_0300-0400_81\n"
     ]
    },
    {
     "name": "stderr",
     "output_type": "stream",
     "text": [
      "\r",
      "82it [07:16,  5.96s/it]"
     ]
    },
    {
     "name": "stdout",
     "output_type": "stream",
     "text": [
      "Unable to process annotation: Aditya_2018-08-20_0300-0400_82\n"
     ]
    },
    {
     "name": "stderr",
     "output_type": "stream",
     "text": [
      "\r",
      "83it [07:22,  5.97s/it]"
     ]
    },
    {
     "name": "stdout",
     "output_type": "stream",
     "text": [
      "Saved annotation :Aditya_2018-08-20_0300-0400_83\n"
     ]
    },
    {
     "name": "stderr",
     "output_type": "stream",
     "text": [
      "\r",
      "84it [07:28,  5.98s/it]"
     ]
    },
    {
     "name": "stdout",
     "output_type": "stream",
     "text": [
      "Saved annotation :Aditya_2018-08-20_0300-0400_84\n"
     ]
    },
    {
     "name": "stderr",
     "output_type": "stream",
     "text": [
      "\r",
      "85it [07:35,  6.05s/it]"
     ]
    },
    {
     "name": "stdout",
     "output_type": "stream",
     "text": [
      "Saved annotation :Aditya_2018-08-20_0300-0400_85\n"
     ]
    },
    {
     "name": "stderr",
     "output_type": "stream",
     "text": [
      "\r",
      "86it [07:39,  5.43s/it]"
     ]
    },
    {
     "name": "stdout",
     "output_type": "stream",
     "text": [
      "('timestamps below min fps: ', array(['2018-08-20 03:36:31'], dtype=object))\n",
      "video_path                           OrlovaChukaDome_02_20180820_03.00.00-04.00.00[...\n",
      "annotation_id                                           Aditya_2018-08-20_0300-0400_86\n",
      "Sampling minute                                                                     35\n",
      "timestamp from camera                                                                2\n",
      "start_timestamp                                                    2018-08-20 03:35:47\n",
      "start_framenumber                                                                    9\n",
      "end_timestamp                                                      2018-08-20 03:35:47\n",
      "end_framenumber                                                                     21\n",
      "no. of flying bats                                                                   1\n",
      "bat behaviour                                                                      NaN\n",
      "strength (1 - strong, 0-weak)                                                        1\n",
      "weak in (Behaviour Be, Number Bn)                                                  NaN\n",
      "Comments                                                                           NaN\n",
      "Details on the comment                                                             NaN\n",
      "annotator                                                                       Aditya\n",
      "Name: 85, dtype: object\n",
      "video_path                           OrlovaChukaDome_02_20180820_03.00.00-04.00.00[...\n",
      "annotation_id                                           Aditya_2018-08-20_0300-0400_86\n",
      "Sampling minute                                                                     35\n",
      "timestamp from camera                                                                2\n",
      "start_timestamp                                                    2018-08-20 03:35:47\n",
      "start_framenumber                                                                    9\n",
      "end_timestamp                                                      2018-08-20 03:35:47\n",
      "end_framenumber                                                                     21\n",
      "no. of flying bats                                                                   1\n",
      "bat behaviour                                                                      NaN\n",
      "strength (1 - strong, 0-weak)                                                        1\n",
      "weak in (Behaviour Be, Number Bn)                                                  NaN\n",
      "Comments                                                                           NaN\n",
      "Details on the comment                                                             NaN\n",
      "annotator                                                                       Aditya\n",
      "Name: 85, dtype: object\n"
     ]
    },
    {
     "name": "stderr",
     "output_type": "stream",
     "text": [
      "\r",
      "87it [07:42,  4.96s/it]"
     ]
    },
    {
     "name": "stdout",
     "output_type": "stream",
     "text": [
      "('timestamps below min fps: ', array(['2018-08-20 03:37:49'], dtype=object))\n",
      "video_path                           OrlovaChukaDome_02_20180820_03.00.00-04.00.00[...\n",
      "annotation_id                                           Aditya_2018-08-20_0300-0400_87\n",
      "Sampling minute                                                                     37\n",
      "timestamp from camera                                                                2\n",
      "start_timestamp                                                    2018-08-20 03:37:39\n",
      "start_framenumber                                                                    6\n",
      "end_timestamp                                                      2018-08-20 03:37:40\n",
      "end_framenumber                                                                      2\n",
      "no. of flying bats                                                                   1\n",
      "bat behaviour                                                                      NaN\n",
      "strength (1 - strong, 0-weak)                                                        1\n",
      "weak in (Behaviour Be, Number Bn)                                                  NaN\n",
      "Comments                                                                           NaN\n",
      "Details on the comment                                                             NaN\n",
      "annotator                                                                       Aditya\n",
      "Name: 86, dtype: object\n",
      "video_path                           OrlovaChukaDome_02_20180820_03.00.00-04.00.00[...\n",
      "annotation_id                                           Aditya_2018-08-20_0300-0400_87\n",
      "Sampling minute                                                                     37\n",
      "timestamp from camera                                                                2\n",
      "start_timestamp                                                    2018-08-20 03:37:39\n",
      "start_framenumber                                                                    6\n",
      "end_timestamp                                                      2018-08-20 03:37:40\n",
      "end_framenumber                                                                      2\n",
      "no. of flying bats                                                                   1\n",
      "bat behaviour                                                                      NaN\n",
      "strength (1 - strong, 0-weak)                                                        1\n",
      "weak in (Behaviour Be, Number Bn)                                                  NaN\n",
      "Comments                                                                           NaN\n",
      "Details on the comment                                                             NaN\n",
      "annotator                                                                       Aditya\n",
      "Name: 86, dtype: object\n"
     ]
    },
    {
     "name": "stderr",
     "output_type": "stream",
     "text": [
      "\r",
      "88it [07:46,  4.62s/it]"
     ]
    },
    {
     "name": "stdout",
     "output_type": "stream",
     "text": [
      "('timestamps below min fps: ', array(['2018-08-20 03:37:49'], dtype=object))\n",
      "video_path                           OrlovaChukaDome_02_20180820_03.00.00-04.00.00[...\n",
      "annotation_id                                           Aditya_2018-08-20_0300-0400_88\n",
      "Sampling minute                                                                     37\n",
      "timestamp from camera                                                                2\n",
      "start_timestamp                                                    2018-08-20 03:37:40\n",
      "start_framenumber                                                                    9\n",
      "end_timestamp                                                      2018-08-20 03:37:40\n",
      "end_framenumber                                                                     21\n",
      "no. of flying bats                                                                   2\n",
      "bat behaviour                                                                        P\n",
      "strength (1 - strong, 0-weak)                                                        1\n",
      "weak in (Behaviour Be, Number Bn)                                                  NaN\n",
      "Comments                                                                           NaN\n",
      "Details on the comment                                                             NaN\n",
      "annotator                                                                       Aditya\n",
      "Name: 87, dtype: object\n",
      "video_path                           OrlovaChukaDome_02_20180820_03.00.00-04.00.00[...\n",
      "annotation_id                                           Aditya_2018-08-20_0300-0400_88\n",
      "Sampling minute                                                                     37\n",
      "timestamp from camera                                                                2\n",
      "start_timestamp                                                    2018-08-20 03:37:40\n",
      "start_framenumber                                                                    9\n",
      "end_timestamp                                                      2018-08-20 03:37:40\n",
      "end_framenumber                                                                     21\n",
      "no. of flying bats                                                                   2\n",
      "bat behaviour                                                                        P\n",
      "strength (1 - strong, 0-weak)                                                        1\n",
      "weak in (Behaviour Be, Number Bn)                                                  NaN\n",
      "Comments                                                                           NaN\n",
      "Details on the comment                                                             NaN\n",
      "annotator                                                                       Aditya\n",
      "Name: 87, dtype: object\n"
     ]
    },
    {
     "name": "stderr",
     "output_type": "stream",
     "text": [
      "\r",
      "89it [07:50,  4.39s/it]"
     ]
    },
    {
     "name": "stdout",
     "output_type": "stream",
     "text": [
      "('timestamps below min fps: ', array(['2018-08-20 03:37:49'], dtype=object))\n",
      "video_path                           OrlovaChukaDome_02_20180820_03.00.00-04.00.00[...\n",
      "annotation_id                                           Aditya_2018-08-20_0300-0400_89\n",
      "Sampling minute                                                                     37\n",
      "timestamp from camera                                                                2\n",
      "start_timestamp                                                    2018-08-20 03:37:41\n",
      "start_framenumber                                                                    3\n",
      "end_timestamp                                                      2018-08-20 03:37:42\n",
      "end_framenumber                                                                      6\n",
      "no. of flying bats                                                                   1\n",
      "bat behaviour                                                                      NaN\n",
      "strength (1 - strong, 0-weak)                                                        1\n",
      "weak in (Behaviour Be, Number Bn)                                                  NaN\n",
      "Comments                                                                           NaN\n",
      "Details on the comment                                                             NaN\n",
      "annotator                                                                       Aditya\n",
      "Name: 88, dtype: object\n",
      "video_path                           OrlovaChukaDome_02_20180820_03.00.00-04.00.00[...\n",
      "annotation_id                                           Aditya_2018-08-20_0300-0400_89\n",
      "Sampling minute                                                                     37\n",
      "timestamp from camera                                                                2\n",
      "start_timestamp                                                    2018-08-20 03:37:41\n",
      "start_framenumber                                                                    3\n",
      "end_timestamp                                                      2018-08-20 03:37:42\n",
      "end_framenumber                                                                      6\n",
      "no. of flying bats                                                                   1\n",
      "bat behaviour                                                                      NaN\n",
      "strength (1 - strong, 0-weak)                                                        1\n",
      "weak in (Behaviour Be, Number Bn)                                                  NaN\n",
      "Comments                                                                           NaN\n",
      "Details on the comment                                                             NaN\n",
      "annotator                                                                       Aditya\n",
      "Name: 88, dtype: object\n"
     ]
    },
    {
     "name": "stderr",
     "output_type": "stream",
     "text": [
      "\r",
      "90it [07:56,  4.88s/it]"
     ]
    },
    {
     "name": "stdout",
     "output_type": "stream",
     "text": [
      "Saved annotation :Aditya_2018-08-20_0300-0400_90\n"
     ]
    },
    {
     "name": "stderr",
     "output_type": "stream",
     "text": [
      "\r",
      "91it [08:02,  5.21s/it]"
     ]
    },
    {
     "name": "stdout",
     "output_type": "stream",
     "text": [
      "Saved annotation :Aditya_2018-08-20_0300-0400_91\n"
     ]
    },
    {
     "name": "stderr",
     "output_type": "stream",
     "text": [
      "\r",
      "92it [08:08,  5.45s/it]"
     ]
    },
    {
     "name": "stdout",
     "output_type": "stream",
     "text": [
      "Saved annotation :Aditya_2018-08-20_0300-0400_92\n"
     ]
    },
    {
     "name": "stderr",
     "output_type": "stream",
     "text": [
      "\r",
      "93it [08:12,  4.98s/it]"
     ]
    },
    {
     "name": "stdout",
     "output_type": "stream",
     "text": [
      "('timestamps below min fps: ', array(['2018-08-20 03:40:03', '2018-08-20 03:40:11'], dtype=object))\n",
      "video_path                           OrlovaChukaDome_02_20180820_03.00.00-04.00.00[...\n",
      "annotation_id                                           Aditya_2018-08-20_0300-0400_93\n",
      "Sampling minute                                                                     39\n",
      "timestamp from camera                                                                2\n",
      "start_timestamp                                                    2018-08-20 03:39:45\n",
      "start_framenumber                                                                    9\n",
      "end_timestamp                                                      2018-08-20 03:39:47\n",
      "end_framenumber                                                                     13\n",
      "no. of flying bats                                                                   1\n",
      "bat behaviour                                                                      NaN\n",
      "strength (1 - strong, 0-weak)                                                        1\n",
      "weak in (Behaviour Be, Number Bn)                                                  NaN\n",
      "Comments                                                                           NaN\n",
      "Details on the comment                                                             NaN\n",
      "annotator                                                                       Aditya\n",
      "Name: 92, dtype: object\n",
      "video_path                           OrlovaChukaDome_02_20180820_03.00.00-04.00.00[...\n",
      "annotation_id                                           Aditya_2018-08-20_0300-0400_93\n",
      "Sampling minute                                                                     39\n",
      "timestamp from camera                                                                2\n",
      "start_timestamp                                                    2018-08-20 03:39:45\n",
      "start_framenumber                                                                    9\n",
      "end_timestamp                                                      2018-08-20 03:39:47\n",
      "end_framenumber                                                                     13\n",
      "no. of flying bats                                                                   1\n",
      "bat behaviour                                                                      NaN\n",
      "strength (1 - strong, 0-weak)                                                        1\n",
      "weak in (Behaviour Be, Number Bn)                                                  NaN\n",
      "Comments                                                                           NaN\n",
      "Details on the comment                                                             NaN\n",
      "annotator                                                                       Aditya\n",
      "Name: 92, dtype: object\n"
     ]
    },
    {
     "name": "stderr",
     "output_type": "stream",
     "text": [
      "\r",
      "94it [08:16,  4.64s/it]"
     ]
    },
    {
     "name": "stdout",
     "output_type": "stream",
     "text": [
      "('timestamps below min fps: ', array(['2018-08-20 03:40:03', '2018-08-20 03:40:11'], dtype=object))\n",
      "video_path                           OrlovaChukaDome_02_20180820_03.00.00-04.00.00[...\n",
      "annotation_id                                           Aditya_2018-08-20_0300-0400_94\n",
      "Sampling minute                                                                     39\n",
      "timestamp from camera                                                                2\n",
      "start_timestamp                                                    2018-08-20 03:39:50\n",
      "start_framenumber                                                                   17\n",
      "end_timestamp                                                      2018-08-20 03:39:53\n",
      "end_framenumber                                                                      3\n",
      "no. of flying bats                                                                   1\n",
      "bat behaviour                                                                      NaN\n",
      "strength (1 - strong, 0-weak)                                                        1\n",
      "weak in (Behaviour Be, Number Bn)                                                  NaN\n",
      "Comments                                                                           NaN\n",
      "Details on the comment                                                             NaN\n",
      "annotator                                                                       Aditya\n",
      "Name: 93, dtype: object\n",
      "video_path                           OrlovaChukaDome_02_20180820_03.00.00-04.00.00[...\n",
      "annotation_id                                           Aditya_2018-08-20_0300-0400_94\n",
      "Sampling minute                                                                     39\n",
      "timestamp from camera                                                                2\n",
      "start_timestamp                                                    2018-08-20 03:39:50\n",
      "start_framenumber                                                                   17\n",
      "end_timestamp                                                      2018-08-20 03:39:53\n",
      "end_framenumber                                                                      3\n",
      "no. of flying bats                                                                   1\n",
      "bat behaviour                                                                      NaN\n",
      "strength (1 - strong, 0-weak)                                                        1\n",
      "weak in (Behaviour Be, Number Bn)                                                  NaN\n",
      "Comments                                                                           NaN\n",
      "Details on the comment                                                             NaN\n",
      "annotator                                                                       Aditya\n",
      "Name: 93, dtype: object\n"
     ]
    },
    {
     "name": "stderr",
     "output_type": "stream",
     "text": [
      "\r",
      "95it [08:22,  5.02s/it]"
     ]
    },
    {
     "name": "stdout",
     "output_type": "stream",
     "text": [
      "Unable to process annotation: Aditya_2018-08-20_0300-0400_95\n"
     ]
    },
    {
     "name": "stderr",
     "output_type": "stream",
     "text": [
      "../../../bin/process_video_annotations.py:289: UserWarning: The following timestamps are missing in the annotation\n",
      "  stacklevel=1)\n",
      "\r",
      "96it [08:24,  4.10s/it]"
     ]
    },
    {
     "name": "stdout",
     "output_type": "stream",
     "text": [
      "('2018-08-20 03:54:01', '...to...', '2018-08-20 03:54:46')\n",
      "video_path                           OrlovaChukaDome_02_20180820_03.00.00-04.00.00[...\n",
      "annotation_id                                           Aditya_2018-08-20_0300-0400_96\n",
      "Sampling minute                                                                     54\n",
      "timestamp from camera                                                                2\n",
      "start_timestamp                                                    2018-08-20 03:54:01\n",
      "start_framenumber                                                                   19\n",
      "end_timestamp                                                      2018-08-20 03:54:02\n",
      "end_framenumber                                                                      6\n",
      "no. of flying bats                                                                   1\n",
      "bat behaviour                                                                      NaN\n",
      "strength (1 - strong, 0-weak)                                                        1\n",
      "weak in (Behaviour Be, Number Bn)                                                  NaN\n",
      "Comments                                                                           NaN\n",
      "Details on the comment                                                             NaN\n",
      "annotator                                                                       Aditya\n",
      "Name: 95, dtype: object\n"
     ]
    },
    {
     "name": "stderr",
     "output_type": "stream",
     "text": [
      "\r",
      "97it [08:26,  3.45s/it]"
     ]
    },
    {
     "name": "stdout",
     "output_type": "stream",
     "text": [
      "('2018-08-20 03:55:12', '...to...', '2018-08-20 03:55:11')\n",
      "video_path                           OrlovaChukaDome_02_20180820_03.00.00-04.00.00[...\n",
      "annotation_id                                           Aditya_2018-08-20_0300-0400_97\n",
      "Sampling minute                                                                     54\n",
      "timestamp from camera                                                                2\n",
      "start_timestamp                                                    2018-08-20 03:54:30\n",
      "start_framenumber                                                                    7\n",
      "end_timestamp                                                      2018-08-20 03:54:32\n",
      "end_framenumber                                                                     17\n",
      "no. of flying bats                                                                   1\n",
      "bat behaviour                                                                      NaN\n",
      "strength (1 - strong, 0-weak)                                                        1\n",
      "weak in (Behaviour Be, Number Bn)                                                  NaN\n",
      "Comments                                                                           NaN\n",
      "Details on the comment                                                             NaN\n",
      "annotator                                                                       Aditya\n",
      "Name: 96, dtype: object\n"
     ]
    },
    {
     "name": "stderr",
     "output_type": "stream",
     "text": [
      "\r",
      "98it [08:28,  3.01s/it]"
     ]
    },
    {
     "name": "stdout",
     "output_type": "stream",
     "text": [
      "('2018-08-20 03:55:12', '...to...', '2018-08-20 03:55:11')\n",
      "video_path                           OrlovaChukaDome_02_20180820_03.00.00-04.00.00[...\n",
      "annotation_id                                           Aditya_2018-08-20_0300-0400_98\n",
      "Sampling minute                                                                     54\n",
      "timestamp from camera                                                                2\n",
      "start_timestamp                                                    2018-08-20 03:54:59\n",
      "start_framenumber                                                                    7\n",
      "end_timestamp                                                      2018-08-20 03:54:59\n",
      "end_framenumber                                                                     19\n",
      "no. of flying bats                                                                   1\n",
      "bat behaviour                                                                      NaN\n",
      "strength (1 - strong, 0-weak)                                                        1\n",
      "weak in (Behaviour Be, Number Bn)                                                  NaN\n",
      "Comments                                                                           NaN\n",
      "Details on the comment                                                             NaN\n",
      "annotator                                                                       Aditya\n",
      "Name: 97, dtype: object\n"
     ]
    },
    {
     "name": "stderr",
     "output_type": "stream",
     "text": [
      "\r",
      "99it [08:30,  2.69s/it]"
     ]
    },
    {
     "name": "stdout",
     "output_type": "stream",
     "text": [
      "('2018-08-20 03:55:12', '...to...', '2018-08-20 03:55:11')\n",
      "video_path                           OrlovaChukaDome_02_20180820_03.00.00-04.00.00[...\n",
      "annotation_id                                           Aditya_2018-08-20_0300-0400_99\n",
      "Sampling minute                                                                     55\n",
      "timestamp from camera                                                                2\n",
      "start_timestamp                                                    2018-08-20 03:55:11\n",
      "start_framenumber                                                                   12\n",
      "end_timestamp                                                      2018-08-20 03:55:11\n",
      "end_framenumber                                                                     19\n",
      "no. of flying bats                                                                   1\n",
      "bat behaviour                                                                      NaN\n",
      "strength (1 - strong, 0-weak)                                                        1\n",
      "weak in (Behaviour Be, Number Bn)                                                  NaN\n",
      "Comments                                                                           NaN\n",
      "Details on the comment                                                             NaN\n",
      "annotator                                                                       Aditya\n",
      "Name: 98, dtype: object\n"
     ]
    },
    {
     "name": "stderr",
     "output_type": "stream",
     "text": [
      "\r",
      "100it [08:31,  2.46s/it]"
     ]
    },
    {
     "name": "stdout",
     "output_type": "stream",
     "text": [
      "('2018-08-20 03:55:12', '...to...', '2018-08-20 03:55:57')\n",
      "video_path                           OrlovaChukaDome_02_20180820_03.00.00-04.00.00[...\n",
      "annotation_id                                          Aditya_2018-08-20_0300-0400_100\n",
      "Sampling minute                                                                     55\n",
      "timestamp from camera                                                                2\n",
      "start_timestamp                                                    2018-08-20 03:55:12\n",
      "start_framenumber                                                                    1\n",
      "end_timestamp                                                      2018-08-20 03:55:12\n",
      "end_framenumber                                                                     13\n",
      "no. of flying bats                                                                   2\n",
      "bat behaviour                                                                        P\n",
      "strength (1 - strong, 0-weak)                                                        1\n",
      "weak in (Behaviour Be, Number Bn)                                                  NaN\n",
      "Comments                                                                           NaN\n",
      "Details on the comment                                                             NaN\n",
      "annotator                                                                       Aditya\n",
      "Name: 99, dtype: object\n"
     ]
    },
    {
     "name": "stderr",
     "output_type": "stream",
     "text": [
      "\r",
      "101it [08:33,  2.32s/it]"
     ]
    },
    {
     "name": "stdout",
     "output_type": "stream",
     "text": [
      "('2018-08-20 03:55:12', '...to...', '2018-08-20 03:55:57')\n",
      "video_path                           OrlovaChukaDome_02_20180820_03.00.00-04.00.00[...\n",
      "annotation_id                                          Aditya_2018-08-20_0300-0400_101\n",
      "Sampling minute                                                                     55\n",
      "timestamp from camera                                                                2\n",
      "start_timestamp                                                    2018-08-20 03:55:12\n",
      "start_framenumber                                                                   20\n",
      "end_timestamp                                                      2018-08-20 03:55:13\n",
      "end_framenumber                                                                     11\n",
      "no. of flying bats                                                                   1\n",
      "bat behaviour                                                                      NaN\n",
      "strength (1 - strong, 0-weak)                                                        1\n",
      "weak in (Behaviour Be, Number Bn)                                                  NaN\n",
      "Comments                                                                           NaN\n",
      "Details on the comment                                                             NaN\n",
      "annotator                                                                       Aditya\n",
      "Name: 100, dtype: object\n"
     ]
    },
    {
     "name": "stderr",
     "output_type": "stream",
     "text": [
      "\r",
      "102it [08:35,  2.21s/it]"
     ]
    },
    {
     "name": "stdout",
     "output_type": "stream",
     "text": [
      "('2018-08-20 03:55:19', '...to...', '2018-08-20 03:56:04')\n",
      "video_path                           OrlovaChukaDome_02_20180820_03.00.00-04.00.00[...\n",
      "annotation_id                                          Aditya_2018-08-20_0300-0400_102\n",
      "Sampling minute                                                                     55\n",
      "timestamp from camera                                                                2\n",
      "start_timestamp                                                    2018-08-20 03:55:19\n",
      "start_framenumber                                                                    3\n",
      "end_timestamp                                                      2018-08-20 03:55:19\n",
      "end_framenumber                                                                     18\n",
      "no. of flying bats                                                                   1\n",
      "bat behaviour                                                                      NaN\n",
      "strength (1 - strong, 0-weak)                                                        1\n",
      "weak in (Behaviour Be, Number Bn)                                                  NaN\n",
      "Comments                                                                           NaN\n",
      "Details on the comment                                                             NaN\n",
      "annotator                                                                       Aditya\n",
      "Name: 101, dtype: object\n"
     ]
    },
    {
     "name": "stderr",
     "output_type": "stream",
     "text": [
      "\r",
      "103it [08:37,  2.13s/it]"
     ]
    },
    {
     "name": "stdout",
     "output_type": "stream",
     "text": [
      "('2018-08-20 03:55:54', '...to...', '2018-08-20 03:56:39')\n",
      "video_path                           OrlovaChukaDome_02_20180820_03.00.00-04.00.00[...\n",
      "annotation_id                                          Aditya_2018-08-20_0300-0400_103\n",
      "Sampling minute                                                                     55\n",
      "timestamp from camera                                                                2\n",
      "start_timestamp                                                    2018-08-20 03:55:54\n",
      "start_framenumber                                                                    7\n",
      "end_timestamp                                                      2018-08-20 03:55:55\n",
      "end_framenumber                                                                     22\n",
      "no. of flying bats                                                                   1\n",
      "bat behaviour                                                                      NaN\n",
      "strength (1 - strong, 0-weak)                                                        1\n",
      "weak in (Behaviour Be, Number Bn)                                                  NaN\n",
      "Comments                                                                           NaN\n",
      "Details on the comment                                                             NaN\n",
      "annotator                                                                       Aditya\n",
      "Name: 102, dtype: object\n"
     ]
    },
    {
     "name": "stderr",
     "output_type": "stream",
     "text": [
      "\r",
      "104it [08:39,  2.08s/it]"
     ]
    },
    {
     "name": "stdout",
     "output_type": "stream",
     "text": [
      "('2018-08-20 03:57:20', '...to...', '2018-08-20 03:57:19')\n",
      "video_path                           OrlovaChukaDome_02_20180820_03.00.00-04.00.00[...\n",
      "annotation_id                                          Aditya_2018-08-20_0300-0400_104\n",
      "Sampling minute                                                                     56\n",
      "timestamp from camera                                                                2\n",
      "start_timestamp                                                    2018-08-20 03:56:53\n",
      "start_framenumber                                                                   18\n",
      "end_timestamp                                                      2018-08-20 03:56:54\n",
      "end_framenumber                                                                     16\n",
      "no. of flying bats                                                                   1\n",
      "bat behaviour                                                                      NaN\n",
      "strength (1 - strong, 0-weak)                                                        1\n",
      "weak in (Behaviour Be, Number Bn)                                                  NaN\n",
      "Comments                                             there is one bat inside the roost\n",
      "Details on the comment                                                             NaN\n",
      "annotator                                                                       Aditya\n",
      "Name: 103, dtype: object\n"
     ]
    },
    {
     "name": "stderr",
     "output_type": "stream",
     "text": [
      "\r",
      "105it [08:41,  2.04s/it]"
     ]
    },
    {
     "name": "stdout",
     "output_type": "stream",
     "text": [
      "('2018-08-20 03:57:20', '...to...', '2018-08-20 03:57:19')\n",
      "video_path                           OrlovaChukaDome_02_20180820_03.00.00-04.00.00[...\n",
      "annotation_id                                          Aditya_2018-08-20_0300-0400_105\n",
      "Sampling minute                                                                     56\n",
      "timestamp from camera                                                                2\n",
      "start_timestamp                                                    2018-08-20 03:56:54\n",
      "start_framenumber                                                                   23\n",
      "end_timestamp                                                      2018-08-20 03:56:55\n",
      "end_framenumber                                                                     20\n",
      "no. of flying bats                                                                   1\n",
      "bat behaviour                                                                      NaN\n",
      "strength (1 - strong, 0-weak)                                                        1\n",
      "weak in (Behaviour Be, Number Bn)                                                  NaN\n",
      "Comments                                                                           NaN\n",
      "Details on the comment                                                             NaN\n",
      "annotator                                                                       Aditya\n",
      "Name: 104, dtype: object\n"
     ]
    },
    {
     "name": "stderr",
     "output_type": "stream",
     "text": [
      "\r",
      "106it [08:43,  2.01s/it]"
     ]
    },
    {
     "name": "stdout",
     "output_type": "stream",
     "text": [
      "('2018-08-20 03:57:20', '...to...', '2018-08-20 03:57:19')\n",
      "video_path                           OrlovaChukaDome_02_20180820_03.00.00-04.00.00[...\n",
      "annotation_id                                          Aditya_2018-08-20_0300-0400_106\n",
      "Sampling minute                                                                     57\n",
      "timestamp from camera                                                                2\n",
      "start_timestamp                                                    2018-08-20 03:57:05\n",
      "start_framenumber                                                                    7\n",
      "end_timestamp                                                      2018-08-20 03:57:05\n",
      "end_framenumber                                                                     19\n",
      "no. of flying bats                                                                   1\n",
      "bat behaviour                                                                      NaN\n",
      "strength (1 - strong, 0-weak)                                                        1\n",
      "weak in (Behaviour Be, Number Bn)                                                  NaN\n",
      "Comments                                                                           NaN\n",
      "Details on the comment                                                             NaN\n",
      "annotator                                                                       Aditya\n",
      "Name: 105, dtype: object\n"
     ]
    },
    {
     "name": "stderr",
     "output_type": "stream",
     "text": [
      "\r",
      "107it [08:45,  1.99s/it]"
     ]
    },
    {
     "name": "stdout",
     "output_type": "stream",
     "text": [
      "('2018-08-20 03:57:20', '...to...', '2018-08-20 03:57:19')\n",
      "video_path                           OrlovaChukaDome_02_20180820_03.00.00-04.00.00[...\n",
      "annotation_id                                          Aditya_2018-08-20_0300-0400_107\n",
      "Sampling minute                                                                     57\n",
      "timestamp from camera                                                                2\n",
      "start_timestamp                                                    2018-08-20 03:57:06\n",
      "start_framenumber                                                                   10\n",
      "end_timestamp                                                      2018-08-20 03:57:06\n",
      "end_framenumber                                                                     13\n",
      "no. of flying bats                                                                   3\n",
      "bat behaviour                                                                        T\n",
      "strength (1 - strong, 0-weak)                                                        0\n",
      "weak in (Behaviour Be, Number Bn)                                                  NaN\n",
      "Comments                             Only a few frames after buffer zone is introdu...\n",
      "Details on the comment                                                             NaN\n",
      "annotator                                                                       Aditya\n",
      "Name: 106, dtype: object\n"
     ]
    },
    {
     "name": "stderr",
     "output_type": "stream",
     "text": [
      "\r",
      "108it [08:47,  1.98s/it]"
     ]
    },
    {
     "name": "stdout",
     "output_type": "stream",
     "text": [
      "('2018-08-20 03:57:20', '...to...', '2018-08-20 03:57:19')\n",
      "video_path                           OrlovaChukaDome_02_20180820_03.00.00-04.00.00[...\n",
      "annotation_id                                          Aditya_2018-08-20_0300-0400_108\n",
      "Sampling minute                                                                     57\n",
      "timestamp from camera                                                                2\n",
      "start_timestamp                                                    2018-08-20 03:57:06\n",
      "start_framenumber                                                                   20\n",
      "end_timestamp                                                      2018-08-20 03:57:10\n",
      "end_framenumber                                                                     19\n",
      "no. of flying bats                                                                   2\n",
      "bat behaviour                                                                      T,P\n",
      "strength (1 - strong, 0-weak)                                                        1\n",
      "weak in (Behaviour Be, Number Bn)                                                  NaN\n",
      "Comments                                                                           NaN\n",
      "Details on the comment                                                             NaN\n",
      "annotator                                                                       Aditya\n",
      "Name: 107, dtype: object\n"
     ]
    },
    {
     "name": "stderr",
     "output_type": "stream",
     "text": [
      "\r",
      "109it [08:49,  1.97s/it]"
     ]
    },
    {
     "name": "stdout",
     "output_type": "stream",
     "text": [
      "('2018-08-20 03:57:20', '...to...', '2018-08-20 03:57:19')\n",
      "video_path                           OrlovaChukaDome_02_20180820_03.00.00-04.00.00[...\n",
      "annotation_id                                          Aditya_2018-08-20_0300-0400_109\n",
      "Sampling minute                                                                     57\n",
      "timestamp from camera                                                                2\n",
      "start_timestamp                                                    2018-08-20 03:57:14\n",
      "start_framenumber                                                                    9\n",
      "end_timestamp                                                      2018-08-20 03:57:16\n",
      "end_framenumber                                                                      4\n",
      "no. of flying bats                                                                   1\n",
      "bat behaviour                                                                      NaN\n",
      "strength (1 - strong, 0-weak)                                                        1\n",
      "weak in (Behaviour Be, Number Bn)                                                  NaN\n",
      "Comments                                                                           NaN\n",
      "Details on the comment                                                             NaN\n",
      "annotator                                                                       Aditya\n",
      "Name: 108, dtype: object\n"
     ]
    },
    {
     "name": "stderr",
     "output_type": "stream",
     "text": [
      "\r",
      "110it [08:51,  1.96s/it]"
     ]
    },
    {
     "name": "stdout",
     "output_type": "stream",
     "text": [
      "('2018-08-20 03:57:27', '...to...', '2018-08-20 03:58:12')\n",
      "video_path                           OrlovaChukaDome_02_20180820_03.00.00-04.00.00[...\n",
      "annotation_id                                          Aditya_2018-08-20_0300-0400_110\n",
      "Sampling minute                                                                     57\n",
      "timestamp from camera                                                                2\n",
      "start_timestamp                                                    2018-08-20 03:57:27\n",
      "start_framenumber                                                                   23\n",
      "end_timestamp                                                      2018-08-20 03:57:28\n",
      "end_framenumber                                                                     10\n",
      "no. of flying bats                                                                   1\n",
      "bat behaviour                                                                      NaN\n",
      "strength (1 - strong, 0-weak)                                                        1\n",
      "weak in (Behaviour Be, Number Bn)                                                  NaN\n",
      "Comments                                                                           NaN\n",
      "Details on the comment                                                             NaN\n",
      "annotator                                                                       Aditya\n",
      "Name: 109, dtype: object\n"
     ]
    },
    {
     "name": "stderr",
     "output_type": "stream",
     "text": [
      "\r",
      "111it [08:53,  1.96s/it]"
     ]
    },
    {
     "name": "stdout",
     "output_type": "stream",
     "text": [
      "('2018-08-20 03:57:28', '...to...', '2018-08-20 03:58:13')\n",
      "video_path                           OrlovaChukaDome_02_20180820_03.00.00-04.00.00[...\n",
      "annotation_id                                          Aditya_2018-08-20_0300-0400_111\n",
      "Sampling minute                                                                     57\n",
      "timestamp from camera                                                                2\n",
      "start_timestamp                                                    2018-08-20 03:57:28\n",
      "start_framenumber                                                                   17\n",
      "end_timestamp                                                      2018-08-20 03:57:29\n",
      "end_framenumber                                                                      5\n",
      "no. of flying bats                                                                   2\n",
      "bat behaviour                                                                      T,P\n",
      "strength (1 - strong, 0-weak)                                                        1\n",
      "weak in (Behaviour Be, Number Bn)                                                  NaN\n",
      "Comments                                                                           NaN\n",
      "Details on the comment                                                             NaN\n",
      "annotator                                                                       Aditya\n",
      "Name: 110, dtype: object\n"
     ]
    },
    {
     "name": "stderr",
     "output_type": "stream",
     "text": [
      "\r",
      "112it [08:55,  1.95s/it]"
     ]
    },
    {
     "name": "stdout",
     "output_type": "stream",
     "text": [
      "('2018-08-20 03:57:29', '...to...', '2018-08-20 03:58:14')\n",
      "video_path                           OrlovaChukaDome_02_20180820_03.00.00-04.00.00[...\n",
      "annotation_id                                          Aditya_2018-08-20_0300-0400_112\n",
      "Sampling minute                                                                     57\n",
      "timestamp from camera                                                                2\n",
      "start_timestamp                                                    2018-08-20 03:57:29\n",
      "start_framenumber                                                                   12\n",
      "end_timestamp                                                      2018-08-20 03:57:29\n",
      "end_framenumber                                                                     15\n",
      "no. of flying bats                                                                   1\n",
      "bat behaviour                                                                      NaN\n",
      "strength (1 - strong, 0-weak)                                                        0\n",
      "weak in (Behaviour Be, Number Bn)                                                  NaN\n",
      "Comments                                                                           NaN\n",
      "Details on the comment                                                             NaN\n",
      "annotator                                                                       Aditya\n",
      "Name: 111, dtype: object\n"
     ]
    },
    {
     "name": "stderr",
     "output_type": "stream",
     "text": [
      "\r",
      "113it [08:57,  1.96s/it]"
     ]
    },
    {
     "name": "stdout",
     "output_type": "stream",
     "text": [
      "('2018-08-20 03:57:37', '...to...', '2018-08-20 03:58:22')\n",
      "video_path                           OrlovaChukaDome_02_20180820_03.00.00-04.00.00[...\n",
      "annotation_id                                          Aditya_2018-08-20_0300-0400_113\n",
      "Sampling minute                                                                     57\n",
      "timestamp from camera                                                                2\n",
      "start_timestamp                                                    2018-08-20 03:57:37\n",
      "start_framenumber                                                                   25\n",
      "end_timestamp                                                      2018-08-20 03:57:38\n",
      "end_framenumber                                                                      8\n",
      "no. of flying bats                                                                   1\n",
      "bat behaviour                                                                      NaN\n",
      "strength (1 - strong, 0-weak)                                                        1\n",
      "weak in (Behaviour Be, Number Bn)                                                  NaN\n",
      "Comments                                                                           NaN\n",
      "Details on the comment                                                             NaN\n",
      "annotator                                                                       Aditya\n",
      "Name: 112, dtype: object\n"
     ]
    },
    {
     "name": "stderr",
     "output_type": "stream",
     "text": [
      "\r",
      "114it [08:59,  1.96s/it]"
     ]
    },
    {
     "name": "stdout",
     "output_type": "stream",
     "text": [
      "('2018-08-20 03:57:38', '...to...', '2018-08-20 03:58:23')\n",
      "video_path                           OrlovaChukaDome_02_20180820_03.00.00-04.00.00[...\n",
      "annotation_id                                          Aditya_2018-08-20_0300-0400_114\n",
      "Sampling minute                                                                     57\n",
      "timestamp from camera                                                                2\n",
      "start_timestamp                                                    2018-08-20 03:57:38\n",
      "start_framenumber                                                                   15\n",
      "end_timestamp                                                      2018-08-20 03:57:38\n",
      "end_framenumber                                                                     25\n",
      "no. of flying bats                                                                   2\n",
      "bat behaviour                                                                        P\n",
      "strength (1 - strong, 0-weak)                                                        0\n",
      "weak in (Behaviour Be, Number Bn)                                                Bn.Be\n",
      "Comments                                                                           NaN\n",
      "Details on the comment                                                             NaN\n",
      "annotator                                                                       Aditya\n",
      "Name: 113, dtype: object\n"
     ]
    },
    {
     "name": "stderr",
     "output_type": "stream",
     "text": [
      "\n"
     ]
    }
   ],
   "source": [
    "kwargs = {'timestamp_pattern': '%Y-%m-%d %H:%M:%S'}\n",
    "kwargs['min_fps']= 21 # Hz\n",
    "kwargs['min_durn'] = 45.0 # seconds \n",
    "kwargs['common_fps'] = 25 # Hz\n",
    "kwargs['output_folder'] = './common_fps/Aditya_annotations/2018-08-19/'\n",
    "\n",
    "unprocessed_annotations = []\n",
    "\n",
    "for i, each_annotation in tqdm(annots_w_bats.iterrows()):\n",
    "    try:\n",
    "        success = video_sync_over_annotation_block(each_annotation,video_sync, \n",
    "                                                     **kwargs)\n",
    "    except :\n",
    "        unprocessed_annotations.append(i)\n",
    "        print('Unable to process annotation: %s'%annots_w_bats['annotation_id'][i])\n"
   ]
  },
  {
   "cell_type": "markdown",
   "metadata": {},
   "source": [
    "### Matching Audio from the common_fps files"
   ]
  },
  {
   "cell_type": "code",
   "execution_count": 13,
   "metadata": {},
   "outputs": [],
   "source": [
    "### Finding the matching audio snippet !! \n",
    "import glob \n",
    "import soundfile as sf\n",
    "from audio_for_videoannotation import match_video_sync_to_audio, search_for_best_fit\n",
    "\n",
    "#all_commonfps = glob.glob('common_fps_video_sync*') # get all the relevant common_fps_sync files\n",
    "all_commonfps = glob.glob('common_fps/Aditya_annotations/2018-08-19/common_fps_video_syncAditya_2018-08-20_030*')\n",
    "audio_folder = '/media/tbeleyur/THEJASVI_DATA_BACKUP_3/fieldwork_2018_002/horseshoe_bat/audio_non_spikey/2018-08-19/ch1/' # the current folder\n",
    "\n",
    "# the output folders\n",
    "audiosync_folder = './sync_audio/'\n",
    "audioannotation_folder = './annotation_audio/'\n",
    "fs = 250000 # change according to the recording sampling rate in Hz!! \n"
   ]
  },
  {
   "cell_type": "code",
   "execution_count": 14,
   "metadata": {
    "scrolled": true
   },
   "outputs": [],
   "source": [
    "all_ccs = []\n",
    "files_to_run = sorted(all_commonfps)\n",
    "\n",
    "def generate_matching_audio(each_commonfps, audio_folder, \n",
    "                           **kwargs):\n",
    "    '''\n",
    "    '''\n",
    "    print(each_commonfps)\n",
    "    try:\n",
    "        video_sync = pd.read_csv(each_commonfps)\n",
    "        best_audio, syncblock_audio, crosscoef = match_video_sync_to_audio(video_sync, audio_folder, \n",
    "                                                                           **kwargs)\n",
    "        all_ccs.append(crosscoef)\n",
    "        fname  = os.path.split(each_commonfps)[-1]\n",
    "        annotation_id = '-'.join(os.path.split(fname)[-1].split('common_fps_video_sync')[-1:])[:-4]\n",
    "\n",
    "        audiosync_folder = kwargs.get('audiosync_folder', 'sync_audio')\n",
    "        audioannotation_folder = kwargs.get('audioannotation_folder', 'annotation_audio')\n",
    "\n",
    "    \n",
    "        audio_file_base_name = annotation_id+'.WAV'\n",
    "        sf.write(audiosync_folder+'matching_sync_'+audio_file_base_name, syncblock_audio,fs)\n",
    "        sf.write(audioannotation_folder+'matching_annotaudio_'+audio_file_base_name, best_audio,fs)\n",
    "        return(True)\n",
    "    except:\n",
    "        print('Could not save ', each_commonfps)\n",
    "        return(False)\n",
    "\n"
   ]
  },
  {
   "cell_type": "code",
   "execution_count": 15,
   "metadata": {},
   "outputs": [
    {
     "data": {
      "text/plain": [
       "['/media/tbeleyur/THEJASVI_DATA_BACKUP_3/fieldwork_2018_002/horseshoe_bat/audio_non_spikey/2018-08-19/ch1/non_spikey_T0000007.WAV',\n",
       " '/media/tbeleyur/THEJASVI_DATA_BACKUP_3/fieldwork_2018_002/horseshoe_bat/audio_non_spikey/2018-08-19/ch1/non_spikey_T0000008.WAV',\n",
       " '/media/tbeleyur/THEJASVI_DATA_BACKUP_3/fieldwork_2018_002/horseshoe_bat/audio_non_spikey/2018-08-19/ch1/non_spikey_T0000009.WAV',\n",
       " '/media/tbeleyur/THEJASVI_DATA_BACKUP_3/fieldwork_2018_002/horseshoe_bat/audio_non_spikey/2018-08-19/ch1/non_spikey_T0000010.WAV',\n",
       " '/media/tbeleyur/THEJASVI_DATA_BACKUP_3/fieldwork_2018_002/horseshoe_bat/audio_non_spikey/2018-08-19/ch1/non_spikey_T0000011.WAV',\n",
       " '/media/tbeleyur/THEJASVI_DATA_BACKUP_3/fieldwork_2018_002/horseshoe_bat/audio_non_spikey/2018-08-19/ch1/non_spikey_T0000012.WAV',\n",
       " '/media/tbeleyur/THEJASVI_DATA_BACKUP_3/fieldwork_2018_002/horseshoe_bat/audio_non_spikey/2018-08-19/ch1/non_spikey_T0000013.WAV',\n",
       " '/media/tbeleyur/THEJASVI_DATA_BACKUP_3/fieldwork_2018_002/horseshoe_bat/audio_non_spikey/2018-08-19/ch1/non_spikey_T0000014.WAV',\n",
       " '/media/tbeleyur/THEJASVI_DATA_BACKUP_3/fieldwork_2018_002/horseshoe_bat/audio_non_spikey/2018-08-19/ch1/non_spikey_T0000015.WAV',\n",
       " '/media/tbeleyur/THEJASVI_DATA_BACKUP_3/fieldwork_2018_002/horseshoe_bat/audio_non_spikey/2018-08-19/ch1/non_spikey_T0000016.WAV',\n",
       " '/media/tbeleyur/THEJASVI_DATA_BACKUP_3/fieldwork_2018_002/horseshoe_bat/audio_non_spikey/2018-08-19/ch1/non_spikey_T0000017.WAV',\n",
       " '/media/tbeleyur/THEJASVI_DATA_BACKUP_3/fieldwork_2018_002/horseshoe_bat/audio_non_spikey/2018-08-19/ch1/non_spikey_T0000018.WAV',\n",
       " '/media/tbeleyur/THEJASVI_DATA_BACKUP_3/fieldwork_2018_002/horseshoe_bat/audio_non_spikey/2018-08-19/ch1/non_spikey_T0000019.WAV',\n",
       " '/media/tbeleyur/THEJASVI_DATA_BACKUP_3/fieldwork_2018_002/horseshoe_bat/audio_non_spikey/2018-08-19/ch1/non_spikey_T0000020.WAV',\n",
       " '/media/tbeleyur/THEJASVI_DATA_BACKUP_3/fieldwork_2018_002/horseshoe_bat/audio_non_spikey/2018-08-19/ch1/non_spikey_T0000021.WAV',\n",
       " '/media/tbeleyur/THEJASVI_DATA_BACKUP_3/fieldwork_2018_002/horseshoe_bat/audio_non_spikey/2018-08-19/ch1/non_spikey_T0000023.WAV',\n",
       " '/media/tbeleyur/THEJASVI_DATA_BACKUP_3/fieldwork_2018_002/horseshoe_bat/audio_non_spikey/2018-08-19/ch1/non_spikey_T0000024.WAV',\n",
       " '/media/tbeleyur/THEJASVI_DATA_BACKUP_3/fieldwork_2018_002/horseshoe_bat/audio_non_spikey/2018-08-19/ch1/non_spikey_T0000025.WAV',\n",
       " '/media/tbeleyur/THEJASVI_DATA_BACKUP_3/fieldwork_2018_002/horseshoe_bat/audio_non_spikey/2018-08-19/ch1/non_spikey_T0000026.WAV',\n",
       " '/media/tbeleyur/THEJASVI_DATA_BACKUP_3/fieldwork_2018_002/horseshoe_bat/audio_non_spikey/2018-08-19/ch1/non_spikey_T0000027.WAV',\n",
       " '/media/tbeleyur/THEJASVI_DATA_BACKUP_3/fieldwork_2018_002/horseshoe_bat/audio_non_spikey/2018-08-19/ch1/non_spikey_T0000028.WAV',\n",
       " '/media/tbeleyur/THEJASVI_DATA_BACKUP_3/fieldwork_2018_002/horseshoe_bat/audio_non_spikey/2018-08-19/ch1/non_spikey_T0000029.WAV',\n",
       " '/media/tbeleyur/THEJASVI_DATA_BACKUP_3/fieldwork_2018_002/horseshoe_bat/audio_non_spikey/2018-08-19/ch1/non_spikey_T0000030.WAV',\n",
       " '/media/tbeleyur/THEJASVI_DATA_BACKUP_3/fieldwork_2018_002/horseshoe_bat/audio_non_spikey/2018-08-19/ch1/non_spikey_T0000031.WAV',\n",
       " '/media/tbeleyur/THEJASVI_DATA_BACKUP_3/fieldwork_2018_002/horseshoe_bat/audio_non_spikey/2018-08-19/ch1/non_spikey_T0000032.WAV',\n",
       " '/media/tbeleyur/THEJASVI_DATA_BACKUP_3/fieldwork_2018_002/horseshoe_bat/audio_non_spikey/2018-08-19/ch1/non_spikey_T0000033.WAV',\n",
       " '/media/tbeleyur/THEJASVI_DATA_BACKUP_3/fieldwork_2018_002/horseshoe_bat/audio_non_spikey/2018-08-19/ch1/non_spikey_T0000034.WAV',\n",
       " '/media/tbeleyur/THEJASVI_DATA_BACKUP_3/fieldwork_2018_002/horseshoe_bat/audio_non_spikey/2018-08-19/ch1/non_spikey_T0000035.WAV',\n",
       " '/media/tbeleyur/THEJASVI_DATA_BACKUP_3/fieldwork_2018_002/horseshoe_bat/audio_non_spikey/2018-08-19/ch1/non_spikey_T0000036.WAV',\n",
       " '/media/tbeleyur/THEJASVI_DATA_BACKUP_3/fieldwork_2018_002/horseshoe_bat/audio_non_spikey/2018-08-19/ch1/non_spikey_T0000037.WAV',\n",
       " '/media/tbeleyur/THEJASVI_DATA_BACKUP_3/fieldwork_2018_002/horseshoe_bat/audio_non_spikey/2018-08-19/ch1/non_spikey_T0000039.WAV',\n",
       " '/media/tbeleyur/THEJASVI_DATA_BACKUP_3/fieldwork_2018_002/horseshoe_bat/audio_non_spikey/2018-08-19/ch1/non_spikey_T0000040.WAV',\n",
       " '/media/tbeleyur/THEJASVI_DATA_BACKUP_3/fieldwork_2018_002/horseshoe_bat/audio_non_spikey/2018-08-19/ch1/non_spikey_T0000041.WAV',\n",
       " '/media/tbeleyur/THEJASVI_DATA_BACKUP_3/fieldwork_2018_002/horseshoe_bat/audio_non_spikey/2018-08-19/ch1/non_spikey_T0000042.WAV',\n",
       " '/media/tbeleyur/THEJASVI_DATA_BACKUP_3/fieldwork_2018_002/horseshoe_bat/audio_non_spikey/2018-08-19/ch1/non_spikey_T0000043.WAV',\n",
       " '/media/tbeleyur/THEJASVI_DATA_BACKUP_3/fieldwork_2018_002/horseshoe_bat/audio_non_spikey/2018-08-19/ch1/non_spikey_T0000044.WAV',\n",
       " '/media/tbeleyur/THEJASVI_DATA_BACKUP_3/fieldwork_2018_002/horseshoe_bat/audio_non_spikey/2018-08-19/ch1/non_spikey_T0000045.WAV',\n",
       " '/media/tbeleyur/THEJASVI_DATA_BACKUP_3/fieldwork_2018_002/horseshoe_bat/audio_non_spikey/2018-08-19/ch1/non_spikey_T0000046.WAV',\n",
       " '/media/tbeleyur/THEJASVI_DATA_BACKUP_3/fieldwork_2018_002/horseshoe_bat/audio_non_spikey/2018-08-19/ch1/non_spikey_T0000047.WAV',\n",
       " '/media/tbeleyur/THEJASVI_DATA_BACKUP_3/fieldwork_2018_002/horseshoe_bat/audio_non_spikey/2018-08-19/ch1/non_spikey_T0000048.WAV',\n",
       " '/media/tbeleyur/THEJASVI_DATA_BACKUP_3/fieldwork_2018_002/horseshoe_bat/audio_non_spikey/2018-08-19/ch1/non_spikey_T0000049.WAV',\n",
       " '/media/tbeleyur/THEJASVI_DATA_BACKUP_3/fieldwork_2018_002/horseshoe_bat/audio_non_spikey/2018-08-19/ch1/non_spikey_T0000050.WAV',\n",
       " '/media/tbeleyur/THEJASVI_DATA_BACKUP_3/fieldwork_2018_002/horseshoe_bat/audio_non_spikey/2018-08-19/ch1/non_spikey_T0000051.WAV',\n",
       " '/media/tbeleyur/THEJASVI_DATA_BACKUP_3/fieldwork_2018_002/horseshoe_bat/audio_non_spikey/2018-08-19/ch1/non_spikey_T0000052.WAV',\n",
       " '/media/tbeleyur/THEJASVI_DATA_BACKUP_3/fieldwork_2018_002/horseshoe_bat/audio_non_spikey/2018-08-19/ch1/non_spikey_T0000053.WAV',\n",
       " '/media/tbeleyur/THEJASVI_DATA_BACKUP_3/fieldwork_2018_002/horseshoe_bat/audio_non_spikey/2018-08-19/ch1/non_spikey_T0000006.WAV',\n",
       " '/media/tbeleyur/THEJASVI_DATA_BACKUP_3/fieldwork_2018_002/horseshoe_bat/audio_non_spikey/2018-08-19/ch1/non_spikey_T0000022.WAV',\n",
       " '/media/tbeleyur/THEJASVI_DATA_BACKUP_3/fieldwork_2018_002/horseshoe_bat/audio_non_spikey/2018-08-19/ch1/non_spikey_T0000038.WAV',\n",
       " '/media/tbeleyur/THEJASVI_DATA_BACKUP_3/fieldwork_2018_002/horseshoe_bat/audio_non_spikey/2018-08-19/ch1/non_spikey_T0000054.WAV',\n",
       " '/media/tbeleyur/THEJASVI_DATA_BACKUP_3/fieldwork_2018_002/horseshoe_bat/audio_non_spikey/2018-08-19/ch1/non_spikey_T0000070.WAV',\n",
       " '/media/tbeleyur/THEJASVI_DATA_BACKUP_3/fieldwork_2018_002/horseshoe_bat/audio_non_spikey/2018-08-19/ch1/non_spikey_T0000086.WAV',\n",
       " '/media/tbeleyur/THEJASVI_DATA_BACKUP_3/fieldwork_2018_002/horseshoe_bat/audio_non_spikey/2018-08-19/ch1/non_spikey_T0000102.WAV',\n",
       " '/media/tbeleyur/THEJASVI_DATA_BACKUP_3/fieldwork_2018_002/horseshoe_bat/audio_non_spikey/2018-08-19/ch1/non_spikey_T0000118.WAV',\n",
       " '/media/tbeleyur/THEJASVI_DATA_BACKUP_3/fieldwork_2018_002/horseshoe_bat/audio_non_spikey/2018-08-19/ch1/non_spikey_T0000055.WAV',\n",
       " '/media/tbeleyur/THEJASVI_DATA_BACKUP_3/fieldwork_2018_002/horseshoe_bat/audio_non_spikey/2018-08-19/ch1/non_spikey_T0000056.WAV',\n",
       " '/media/tbeleyur/THEJASVI_DATA_BACKUP_3/fieldwork_2018_002/horseshoe_bat/audio_non_spikey/2018-08-19/ch1/non_spikey_T0000057.WAV',\n",
       " '/media/tbeleyur/THEJASVI_DATA_BACKUP_3/fieldwork_2018_002/horseshoe_bat/audio_non_spikey/2018-08-19/ch1/non_spikey_T0000058.WAV',\n",
       " '/media/tbeleyur/THEJASVI_DATA_BACKUP_3/fieldwork_2018_002/horseshoe_bat/audio_non_spikey/2018-08-19/ch1/non_spikey_T0000059.WAV',\n",
       " '/media/tbeleyur/THEJASVI_DATA_BACKUP_3/fieldwork_2018_002/horseshoe_bat/audio_non_spikey/2018-08-19/ch1/non_spikey_T0000060.WAV',\n",
       " '/media/tbeleyur/THEJASVI_DATA_BACKUP_3/fieldwork_2018_002/horseshoe_bat/audio_non_spikey/2018-08-19/ch1/non_spikey_T0000061.WAV',\n",
       " '/media/tbeleyur/THEJASVI_DATA_BACKUP_3/fieldwork_2018_002/horseshoe_bat/audio_non_spikey/2018-08-19/ch1/non_spikey_T0000062.WAV',\n",
       " '/media/tbeleyur/THEJASVI_DATA_BACKUP_3/fieldwork_2018_002/horseshoe_bat/audio_non_spikey/2018-08-19/ch1/non_spikey_T0000063.WAV',\n",
       " '/media/tbeleyur/THEJASVI_DATA_BACKUP_3/fieldwork_2018_002/horseshoe_bat/audio_non_spikey/2018-08-19/ch1/non_spikey_T0000064.WAV',\n",
       " '/media/tbeleyur/THEJASVI_DATA_BACKUP_3/fieldwork_2018_002/horseshoe_bat/audio_non_spikey/2018-08-19/ch1/non_spikey_T0000065.WAV',\n",
       " '/media/tbeleyur/THEJASVI_DATA_BACKUP_3/fieldwork_2018_002/horseshoe_bat/audio_non_spikey/2018-08-19/ch1/non_spikey_T0000066.WAV',\n",
       " '/media/tbeleyur/THEJASVI_DATA_BACKUP_3/fieldwork_2018_002/horseshoe_bat/audio_non_spikey/2018-08-19/ch1/non_spikey_T0000067.WAV',\n",
       " '/media/tbeleyur/THEJASVI_DATA_BACKUP_3/fieldwork_2018_002/horseshoe_bat/audio_non_spikey/2018-08-19/ch1/non_spikey_T0000068.WAV',\n",
       " '/media/tbeleyur/THEJASVI_DATA_BACKUP_3/fieldwork_2018_002/horseshoe_bat/audio_non_spikey/2018-08-19/ch1/non_spikey_T0000069.WAV',\n",
       " '/media/tbeleyur/THEJASVI_DATA_BACKUP_3/fieldwork_2018_002/horseshoe_bat/audio_non_spikey/2018-08-19/ch1/non_spikey_T0000071.WAV',\n",
       " '/media/tbeleyur/THEJASVI_DATA_BACKUP_3/fieldwork_2018_002/horseshoe_bat/audio_non_spikey/2018-08-19/ch1/non_spikey_T0000072.WAV',\n",
       " '/media/tbeleyur/THEJASVI_DATA_BACKUP_3/fieldwork_2018_002/horseshoe_bat/audio_non_spikey/2018-08-19/ch1/non_spikey_T0000073.WAV',\n",
       " '/media/tbeleyur/THEJASVI_DATA_BACKUP_3/fieldwork_2018_002/horseshoe_bat/audio_non_spikey/2018-08-19/ch1/non_spikey_T0000074.WAV',\n",
       " '/media/tbeleyur/THEJASVI_DATA_BACKUP_3/fieldwork_2018_002/horseshoe_bat/audio_non_spikey/2018-08-19/ch1/non_spikey_T0000075.WAV',\n",
       " '/media/tbeleyur/THEJASVI_DATA_BACKUP_3/fieldwork_2018_002/horseshoe_bat/audio_non_spikey/2018-08-19/ch1/non_spikey_T0000076.WAV',\n",
       " '/media/tbeleyur/THEJASVI_DATA_BACKUP_3/fieldwork_2018_002/horseshoe_bat/audio_non_spikey/2018-08-19/ch1/non_spikey_T0000077.WAV',\n",
       " '/media/tbeleyur/THEJASVI_DATA_BACKUP_3/fieldwork_2018_002/horseshoe_bat/audio_non_spikey/2018-08-19/ch1/non_spikey_T0000078.WAV',\n",
       " '/media/tbeleyur/THEJASVI_DATA_BACKUP_3/fieldwork_2018_002/horseshoe_bat/audio_non_spikey/2018-08-19/ch1/non_spikey_T0000079.WAV',\n",
       " '/media/tbeleyur/THEJASVI_DATA_BACKUP_3/fieldwork_2018_002/horseshoe_bat/audio_non_spikey/2018-08-19/ch1/non_spikey_T0000080.WAV',\n",
       " '/media/tbeleyur/THEJASVI_DATA_BACKUP_3/fieldwork_2018_002/horseshoe_bat/audio_non_spikey/2018-08-19/ch1/non_spikey_T0000081.WAV',\n",
       " '/media/tbeleyur/THEJASVI_DATA_BACKUP_3/fieldwork_2018_002/horseshoe_bat/audio_non_spikey/2018-08-19/ch1/non_spikey_T0000082.WAV',\n",
       " '/media/tbeleyur/THEJASVI_DATA_BACKUP_3/fieldwork_2018_002/horseshoe_bat/audio_non_spikey/2018-08-19/ch1/non_spikey_T0000083.WAV',\n",
       " '/media/tbeleyur/THEJASVI_DATA_BACKUP_3/fieldwork_2018_002/horseshoe_bat/audio_non_spikey/2018-08-19/ch1/non_spikey_T0000084.WAV',\n",
       " '/media/tbeleyur/THEJASVI_DATA_BACKUP_3/fieldwork_2018_002/horseshoe_bat/audio_non_spikey/2018-08-19/ch1/non_spikey_T0000085.WAV',\n",
       " '/media/tbeleyur/THEJASVI_DATA_BACKUP_3/fieldwork_2018_002/horseshoe_bat/audio_non_spikey/2018-08-19/ch1/non_spikey_T0000001.WAV',\n",
       " '/media/tbeleyur/THEJASVI_DATA_BACKUP_3/fieldwork_2018_002/horseshoe_bat/audio_non_spikey/2018-08-19/ch1/non_spikey_T0000002.WAV',\n",
       " '/media/tbeleyur/THEJASVI_DATA_BACKUP_3/fieldwork_2018_002/horseshoe_bat/audio_non_spikey/2018-08-19/ch1/non_spikey_T0000003.WAV',\n",
       " '/media/tbeleyur/THEJASVI_DATA_BACKUP_3/fieldwork_2018_002/horseshoe_bat/audio_non_spikey/2018-08-19/ch1/non_spikey_T0000004.WAV',\n",
       " '/media/tbeleyur/THEJASVI_DATA_BACKUP_3/fieldwork_2018_002/horseshoe_bat/audio_non_spikey/2018-08-19/ch1/non_spikey_T0000005.WAV',\n",
       " '/media/tbeleyur/THEJASVI_DATA_BACKUP_3/fieldwork_2018_002/horseshoe_bat/audio_non_spikey/2018-08-19/ch1/non_spikey_T0000087.WAV',\n",
       " '/media/tbeleyur/THEJASVI_DATA_BACKUP_3/fieldwork_2018_002/horseshoe_bat/audio_non_spikey/2018-08-19/ch1/non_spikey_T0000088.WAV',\n",
       " '/media/tbeleyur/THEJASVI_DATA_BACKUP_3/fieldwork_2018_002/horseshoe_bat/audio_non_spikey/2018-08-19/ch1/non_spikey_T0000089.WAV',\n",
       " '/media/tbeleyur/THEJASVI_DATA_BACKUP_3/fieldwork_2018_002/horseshoe_bat/audio_non_spikey/2018-08-19/ch1/non_spikey_T0000090.WAV',\n",
       " '/media/tbeleyur/THEJASVI_DATA_BACKUP_3/fieldwork_2018_002/horseshoe_bat/audio_non_spikey/2018-08-19/ch1/non_spikey_T0000091.WAV',\n",
       " '/media/tbeleyur/THEJASVI_DATA_BACKUP_3/fieldwork_2018_002/horseshoe_bat/audio_non_spikey/2018-08-19/ch1/non_spikey_T0000092.WAV',\n",
       " '/media/tbeleyur/THEJASVI_DATA_BACKUP_3/fieldwork_2018_002/horseshoe_bat/audio_non_spikey/2018-08-19/ch1/non_spikey_T0000093.WAV',\n",
       " '/media/tbeleyur/THEJASVI_DATA_BACKUP_3/fieldwork_2018_002/horseshoe_bat/audio_non_spikey/2018-08-19/ch1/non_spikey_T0000094.WAV',\n",
       " '/media/tbeleyur/THEJASVI_DATA_BACKUP_3/fieldwork_2018_002/horseshoe_bat/audio_non_spikey/2018-08-19/ch1/non_spikey_T0000095.WAV',\n",
       " '/media/tbeleyur/THEJASVI_DATA_BACKUP_3/fieldwork_2018_002/horseshoe_bat/audio_non_spikey/2018-08-19/ch1/non_spikey_T0000096.WAV',\n",
       " '/media/tbeleyur/THEJASVI_DATA_BACKUP_3/fieldwork_2018_002/horseshoe_bat/audio_non_spikey/2018-08-19/ch1/non_spikey_T0000097.WAV',\n",
       " '/media/tbeleyur/THEJASVI_DATA_BACKUP_3/fieldwork_2018_002/horseshoe_bat/audio_non_spikey/2018-08-19/ch1/non_spikey_T0000098.WAV',\n",
       " '/media/tbeleyur/THEJASVI_DATA_BACKUP_3/fieldwork_2018_002/horseshoe_bat/audio_non_spikey/2018-08-19/ch1/non_spikey_T0000099.WAV',\n",
       " '/media/tbeleyur/THEJASVI_DATA_BACKUP_3/fieldwork_2018_002/horseshoe_bat/audio_non_spikey/2018-08-19/ch1/non_spikey_T0000100.WAV',\n",
       " '/media/tbeleyur/THEJASVI_DATA_BACKUP_3/fieldwork_2018_002/horseshoe_bat/audio_non_spikey/2018-08-19/ch1/non_spikey_T0000101.WAV',\n",
       " '/media/tbeleyur/THEJASVI_DATA_BACKUP_3/fieldwork_2018_002/horseshoe_bat/audio_non_spikey/2018-08-19/ch1/non_spikey_T0000103.WAV',\n",
       " '/media/tbeleyur/THEJASVI_DATA_BACKUP_3/fieldwork_2018_002/horseshoe_bat/audio_non_spikey/2018-08-19/ch1/non_spikey_T0000104.WAV',\n",
       " '/media/tbeleyur/THEJASVI_DATA_BACKUP_3/fieldwork_2018_002/horseshoe_bat/audio_non_spikey/2018-08-19/ch1/non_spikey_T0000105.WAV',\n",
       " '/media/tbeleyur/THEJASVI_DATA_BACKUP_3/fieldwork_2018_002/horseshoe_bat/audio_non_spikey/2018-08-19/ch1/non_spikey_T0000106.WAV',\n",
       " '/media/tbeleyur/THEJASVI_DATA_BACKUP_3/fieldwork_2018_002/horseshoe_bat/audio_non_spikey/2018-08-19/ch1/non_spikey_T0000107.WAV',\n",
       " '/media/tbeleyur/THEJASVI_DATA_BACKUP_3/fieldwork_2018_002/horseshoe_bat/audio_non_spikey/2018-08-19/ch1/non_spikey_T0000108.WAV',\n",
       " '/media/tbeleyur/THEJASVI_DATA_BACKUP_3/fieldwork_2018_002/horseshoe_bat/audio_non_spikey/2018-08-19/ch1/non_spikey_T0000109.WAV',\n",
       " '/media/tbeleyur/THEJASVI_DATA_BACKUP_3/fieldwork_2018_002/horseshoe_bat/audio_non_spikey/2018-08-19/ch1/non_spikey_T0000110.WAV',\n",
       " '/media/tbeleyur/THEJASVI_DATA_BACKUP_3/fieldwork_2018_002/horseshoe_bat/audio_non_spikey/2018-08-19/ch1/non_spikey_T0000111.WAV',\n",
       " '/media/tbeleyur/THEJASVI_DATA_BACKUP_3/fieldwork_2018_002/horseshoe_bat/audio_non_spikey/2018-08-19/ch1/non_spikey_T0000112.WAV',\n",
       " '/media/tbeleyur/THEJASVI_DATA_BACKUP_3/fieldwork_2018_002/horseshoe_bat/audio_non_spikey/2018-08-19/ch1/non_spikey_T0000113.WAV',\n",
       " '/media/tbeleyur/THEJASVI_DATA_BACKUP_3/fieldwork_2018_002/horseshoe_bat/audio_non_spikey/2018-08-19/ch1/non_spikey_T0000114.WAV',\n",
       " '/media/tbeleyur/THEJASVI_DATA_BACKUP_3/fieldwork_2018_002/horseshoe_bat/audio_non_spikey/2018-08-19/ch1/non_spikey_T0000115.WAV',\n",
       " '/media/tbeleyur/THEJASVI_DATA_BACKUP_3/fieldwork_2018_002/horseshoe_bat/audio_non_spikey/2018-08-19/ch1/non_spikey_T0000116.WAV',\n",
       " '/media/tbeleyur/THEJASVI_DATA_BACKUP_3/fieldwork_2018_002/horseshoe_bat/audio_non_spikey/2018-08-19/ch1/non_spikey_T0000117.WAV',\n",
       " '/media/tbeleyur/THEJASVI_DATA_BACKUP_3/fieldwork_2018_002/horseshoe_bat/audio_non_spikey/2018-08-19/ch1/non_spikey_T0000119.WAV',\n",
       " '/media/tbeleyur/THEJASVI_DATA_BACKUP_3/fieldwork_2018_002/horseshoe_bat/audio_non_spikey/2018-08-19/ch1/non_spikey_T0000120.WAV',\n",
       " '/media/tbeleyur/THEJASVI_DATA_BACKUP_3/fieldwork_2018_002/horseshoe_bat/audio_non_spikey/2018-08-19/ch1/non_spikey_T0000121.WAV',\n",
       " '/media/tbeleyur/THEJASVI_DATA_BACKUP_3/fieldwork_2018_002/horseshoe_bat/audio_non_spikey/2018-08-19/ch1/non_spikey_T0000122.WAV',\n",
       " '/media/tbeleyur/THEJASVI_DATA_BACKUP_3/fieldwork_2018_002/horseshoe_bat/audio_non_spikey/2018-08-19/ch1/non_spikey_T0000123.WAV',\n",
       " '/media/tbeleyur/THEJASVI_DATA_BACKUP_3/fieldwork_2018_002/horseshoe_bat/audio_non_spikey/2018-08-19/ch1/non_spikey_T0000124.WAV',\n",
       " '/media/tbeleyur/THEJASVI_DATA_BACKUP_3/fieldwork_2018_002/horseshoe_bat/audio_non_spikey/2018-08-19/ch1/non_spikey_T0000125.WAV',\n",
       " '/media/tbeleyur/THEJASVI_DATA_BACKUP_3/fieldwork_2018_002/horseshoe_bat/audio_non_spikey/2018-08-19/ch1/non_spikey_T0000126.WAV',\n",
       " '/media/tbeleyur/THEJASVI_DATA_BACKUP_3/fieldwork_2018_002/horseshoe_bat/audio_non_spikey/2018-08-19/ch1/non_spikey_T0000127.WAV',\n",
       " '/media/tbeleyur/THEJASVI_DATA_BACKUP_3/fieldwork_2018_002/horseshoe_bat/audio_non_spikey/2018-08-19/ch1/non_spikey_T0000128.WAV',\n",
       " '/media/tbeleyur/THEJASVI_DATA_BACKUP_3/fieldwork_2018_002/horseshoe_bat/audio_non_spikey/2018-08-19/ch1/non_spikey_T0000129.WAV',\n",
       " '/media/tbeleyur/THEJASVI_DATA_BACKUP_3/fieldwork_2018_002/horseshoe_bat/audio_non_spikey/2018-08-19/ch1/non_spikey_T0000130.WAV',\n",
       " '/media/tbeleyur/THEJASVI_DATA_BACKUP_3/fieldwork_2018_002/horseshoe_bat/audio_non_spikey/2018-08-19/ch1/non_spikey_T0000131.WAV',\n",
       " '/media/tbeleyur/THEJASVI_DATA_BACKUP_3/fieldwork_2018_002/horseshoe_bat/audio_non_spikey/2018-08-19/ch1/non_spikey_T0000132.WAV',\n",
       " '/media/tbeleyur/THEJASVI_DATA_BACKUP_3/fieldwork_2018_002/horseshoe_bat/audio_non_spikey/2018-08-19/ch1/non_spikey_T0000133.WAV',\n",
       " '/media/tbeleyur/THEJASVI_DATA_BACKUP_3/fieldwork_2018_002/horseshoe_bat/audio_non_spikey/2018-08-19/ch1/non_spikey_T0000134.WAV']"
      ]
     },
     "execution_count": 15,
     "metadata": {},
     "output_type": "execute_result"
    }
   ],
   "source": [
    "glob.glob(audio_folder+'*.WAV')"
   ]
  },
  {
   "cell_type": "code",
   "execution_count": 16,
   "metadata": {
    "scrolled": true
   },
   "outputs": [
    {
     "data": {
      "text/plain": [
       "['make_non_spikey_2018-08-20_audio_conversion.py',\n",
       " 'non_spikey_T0000001.WAV',\n",
       " 'non_spikey_T0000002.WAV',\n",
       " 'non_spikey_T0000003.WAV',\n",
       " 'non_spikey_T0000004.WAV',\n",
       " 'non_spikey_T0000005.WAV',\n",
       " 'non_spikey_T0000006.WAV',\n",
       " 'non_spikey_T0000007.WAV',\n",
       " 'non_spikey_T0000008.WAV',\n",
       " 'non_spikey_T0000009.WAV',\n",
       " 'non_spikey_T0000010.WAV',\n",
       " 'non_spikey_T0000011.WAV',\n",
       " 'non_spikey_T0000012.WAV',\n",
       " 'non_spikey_T0000013.WAV',\n",
       " 'non_spikey_T0000014.WAV',\n",
       " 'non_spikey_T0000015.WAV',\n",
       " 'non_spikey_T0000016.WAV',\n",
       " 'non_spikey_T0000017.WAV',\n",
       " 'non_spikey_T0000018.WAV',\n",
       " 'non_spikey_T0000019.WAV',\n",
       " 'non_spikey_T0000020.WAV',\n",
       " 'non_spikey_T0000021.WAV',\n",
       " 'non_spikey_T0000022.WAV',\n",
       " 'non_spikey_T0000023.WAV',\n",
       " 'non_spikey_T0000024.WAV',\n",
       " 'non_spikey_T0000025.WAV',\n",
       " 'non_spikey_T0000026.WAV',\n",
       " 'non_spikey_T0000027.WAV',\n",
       " 'non_spikey_T0000028.WAV',\n",
       " 'non_spikey_T0000029.WAV',\n",
       " 'non_spikey_T0000030.WAV',\n",
       " 'non_spikey_T0000031.WAV',\n",
       " 'non_spikey_T0000032.WAV',\n",
       " 'non_spikey_T0000033.WAV',\n",
       " 'non_spikey_T0000034.WAV',\n",
       " 'non_spikey_T0000035.WAV',\n",
       " 'non_spikey_T0000036.WAV',\n",
       " 'non_spikey_T0000037.WAV',\n",
       " 'non_spikey_T0000038.WAV',\n",
       " 'non_spikey_T0000039.WAV',\n",
       " 'non_spikey_T0000040.WAV',\n",
       " 'non_spikey_T0000041.WAV',\n",
       " 'non_spikey_T0000042.WAV',\n",
       " 'non_spikey_T0000043.WAV',\n",
       " 'non_spikey_T0000044.WAV',\n",
       " 'non_spikey_T0000045.WAV',\n",
       " 'non_spikey_T0000046.WAV',\n",
       " 'non_spikey_T0000047.WAV',\n",
       " 'non_spikey_T0000048.WAV',\n",
       " 'non_spikey_T0000049.WAV',\n",
       " 'non_spikey_T0000050.WAV',\n",
       " 'non_spikey_T0000051.WAV',\n",
       " 'non_spikey_T0000052.WAV',\n",
       " 'non_spikey_T0000053.WAV',\n",
       " 'non_spikey_T0000054.WAV',\n",
       " 'non_spikey_T0000055.WAV',\n",
       " 'non_spikey_T0000056.WAV',\n",
       " 'non_spikey_T0000057.WAV',\n",
       " 'non_spikey_T0000058.WAV',\n",
       " 'non_spikey_T0000059.WAV',\n",
       " 'non_spikey_T0000060.WAV',\n",
       " 'non_spikey_T0000061.WAV',\n",
       " 'non_spikey_T0000062.WAV',\n",
       " 'non_spikey_T0000063.WAV',\n",
       " 'non_spikey_T0000064.WAV',\n",
       " 'non_spikey_T0000065.WAV',\n",
       " 'non_spikey_T0000066.WAV',\n",
       " 'non_spikey_T0000067.WAV',\n",
       " 'non_spikey_T0000068.WAV',\n",
       " 'non_spikey_T0000069.WAV',\n",
       " 'non_spikey_T0000070.WAV',\n",
       " 'non_spikey_T0000071.WAV',\n",
       " 'non_spikey_T0000072.WAV',\n",
       " 'non_spikey_T0000073.WAV',\n",
       " 'non_spikey_T0000074.WAV',\n",
       " 'non_spikey_T0000075.WAV',\n",
       " 'non_spikey_T0000076.WAV',\n",
       " 'non_spikey_T0000077.WAV',\n",
       " 'non_spikey_T0000078.WAV',\n",
       " 'non_spikey_T0000079.WAV',\n",
       " 'non_spikey_T0000080.WAV',\n",
       " 'non_spikey_T0000081.WAV',\n",
       " 'non_spikey_T0000082.WAV',\n",
       " 'non_spikey_T0000083.WAV',\n",
       " 'non_spikey_T0000084.WAV',\n",
       " 'non_spikey_T0000085.WAV',\n",
       " 'non_spikey_T0000086.WAV',\n",
       " 'non_spikey_T0000087.WAV',\n",
       " 'non_spikey_T0000088.WAV',\n",
       " 'non_spikey_T0000089.WAV',\n",
       " 'non_spikey_T0000090.WAV',\n",
       " 'non_spikey_T0000091.WAV',\n",
       " 'non_spikey_T0000092.WAV',\n",
       " 'non_spikey_T0000093.WAV',\n",
       " 'non_spikey_T0000094.WAV',\n",
       " 'non_spikey_T0000095.WAV',\n",
       " 'non_spikey_T0000096.WAV',\n",
       " 'non_spikey_T0000097.WAV',\n",
       " 'non_spikey_T0000098.WAV',\n",
       " 'non_spikey_T0000099.WAV',\n",
       " 'non_spikey_T0000100.WAV',\n",
       " 'non_spikey_T0000101.WAV',\n",
       " 'non_spikey_T0000102.WAV',\n",
       " 'non_spikey_T0000103.WAV',\n",
       " 'non_spikey_T0000104.WAV',\n",
       " 'non_spikey_T0000105.WAV',\n",
       " 'non_spikey_T0000106.WAV',\n",
       " 'non_spikey_T0000107.WAV',\n",
       " 'non_spikey_T0000108.WAV',\n",
       " 'non_spikey_T0000109.WAV',\n",
       " 'non_spikey_T0000110.WAV',\n",
       " 'non_spikey_T0000111.WAV',\n",
       " 'non_spikey_T0000112.WAV',\n",
       " 'non_spikey_T0000113.WAV',\n",
       " 'non_spikey_T0000114.WAV',\n",
       " 'non_spikey_T0000115.WAV',\n",
       " 'non_spikey_T0000116.WAV',\n",
       " 'non_spikey_T0000117.WAV',\n",
       " 'non_spikey_T0000118.WAV',\n",
       " 'non_spikey_T0000119.WAV',\n",
       " 'non_spikey_T0000120.WAV',\n",
       " 'non_spikey_T0000121.WAV',\n",
       " 'non_spikey_T0000122.WAV',\n",
       " 'non_spikey_T0000123.WAV',\n",
       " 'non_spikey_T0000124.WAV',\n",
       " 'non_spikey_T0000125.WAV',\n",
       " 'non_spikey_T0000126.WAV',\n",
       " 'non_spikey_T0000127.WAV',\n",
       " 'non_spikey_T0000128.WAV',\n",
       " 'non_spikey_T0000129.WAV',\n",
       " 'non_spikey_T0000130.WAV',\n",
       " 'non_spikey_T0000131.WAV',\n",
       " 'non_spikey_T0000132.WAV',\n",
       " 'non_spikey_T0000133.WAV',\n",
       " 'non_spikey_T0000134.WAV']"
      ]
     },
     "execution_count": 16,
     "metadata": {},
     "output_type": "execute_result"
    }
   ],
   "source": [
    "natsort.natsorted(os.listdir(audio_folder))"
   ]
  },
  {
   "cell_type": "code",
   "execution_count": 17,
   "metadata": {
    "scrolled": true
   },
   "outputs": [
    {
     "data": {
      "text/plain": [
       "['common_fps/Aditya_annotations/2018-08-19/common_fps_video_syncAditya_2018-08-20_0300-0400_25.csv',\n",
       " 'common_fps/Aditya_annotations/2018-08-19/common_fps_video_syncAditya_2018-08-20_0300-0400_30.csv',\n",
       " 'common_fps/Aditya_annotations/2018-08-19/common_fps_video_syncAditya_2018-08-20_0300-0400_13.csv',\n",
       " 'common_fps/Aditya_annotations/2018-08-19/common_fps_video_syncAditya_2018-08-20_0300-0400_91.csv',\n",
       " 'common_fps/Aditya_annotations/2018-08-19/common_fps_video_syncAditya_2018-08-20_0300-0400_33.csv',\n",
       " 'common_fps/Aditya_annotations/2018-08-19/common_fps_video_syncAditya_2018-08-20_0300-0400_71.csv',\n",
       " 'common_fps/Aditya_annotations/2018-08-19/common_fps_video_syncAditya_2018-08-20_0300-0400_29.csv',\n",
       " 'common_fps/Aditya_annotations/2018-08-19/common_fps_video_syncAditya_2018-08-20_0300-0400_27.csv',\n",
       " 'common_fps/Aditya_annotations/2018-08-19/common_fps_video_syncAditya_2018-08-20_0300-0400_38.csv',\n",
       " 'common_fps/Aditya_annotations/2018-08-19/common_fps_video_syncAditya_2018-08-20_0300-0400_85.csv',\n",
       " 'common_fps/Aditya_annotations/2018-08-19/common_fps_video_syncAditya_2018-08-20_0300-0400_34.csv',\n",
       " 'common_fps/Aditya_annotations/2018-08-19/common_fps_video_syncAditya_2018-08-20_0300-0400_1.csv',\n",
       " 'common_fps/Aditya_annotations/2018-08-19/common_fps_video_syncAditya_2018-08-20_0300-0400_55.csv',\n",
       " 'common_fps/Aditya_annotations/2018-08-19/common_fps_video_syncAditya_2018-08-20_0300-0400_9.csv',\n",
       " 'common_fps/Aditya_annotations/2018-08-19/common_fps_video_syncAditya_2018-08-20_0300-0400_31.csv',\n",
       " 'common_fps/Aditya_annotations/2018-08-19/common_fps_video_syncAditya_2018-08-20_0300-0400_57.csv',\n",
       " 'common_fps/Aditya_annotations/2018-08-19/common_fps_video_syncAditya_2018-08-20_0300-0400_90.csv',\n",
       " 'common_fps/Aditya_annotations/2018-08-19/common_fps_video_syncAditya_2018-08-20_0300-0400_18.csv',\n",
       " 'common_fps/Aditya_annotations/2018-08-19/common_fps_video_syncAditya_2018-08-20_0300-0400_42.csv',\n",
       " 'common_fps/Aditya_annotations/2018-08-19/common_fps_video_syncAditya_2018-08-20_0300-0400_72.csv',\n",
       " 'common_fps/Aditya_annotations/2018-08-19/common_fps_video_syncAditya_2018-08-20_0300-0400_73.csv',\n",
       " 'common_fps/Aditya_annotations/2018-08-19/common_fps_video_syncAditya_2018-08-20_0300-0400_14.csv',\n",
       " 'common_fps/Aditya_annotations/2018-08-19/common_fps_video_syncAditya_2018-08-20_0300-0400_28.csv',\n",
       " 'common_fps/Aditya_annotations/2018-08-19/common_fps_video_syncAditya_2018-08-20_0300-0400_75.csv',\n",
       " 'common_fps/Aditya_annotations/2018-08-19/common_fps_video_syncAditya_2018-08-20_0300-0400_35.csv',\n",
       " 'common_fps/Aditya_annotations/2018-08-19/common_fps_video_syncAditya_2018-08-20_0300-0400_56.csv',\n",
       " 'common_fps/Aditya_annotations/2018-08-19/common_fps_video_syncAditya_2018-08-20_0300-0400_81.csv',\n",
       " 'common_fps/Aditya_annotations/2018-08-19/common_fps_video_syncAditya_2018-08-20_0300-0400_58.csv',\n",
       " 'common_fps/Aditya_annotations/2018-08-19/common_fps_video_syncAditya_2018-08-20_0300-0400_83.csv',\n",
       " 'common_fps/Aditya_annotations/2018-08-19/common_fps_video_syncAditya_2018-08-20_0300-0400_19.csv',\n",
       " 'common_fps/Aditya_annotations/2018-08-19/common_fps_video_syncAditya_2018-08-20_0300-0400_39.csv',\n",
       " 'common_fps/Aditya_annotations/2018-08-19/common_fps_video_syncAditya_2018-08-20_0300-0400_10.csv',\n",
       " 'common_fps/Aditya_annotations/2018-08-19/common_fps_video_syncAditya_2018-08-20_0300-0400_74.csv',\n",
       " 'common_fps/Aditya_annotations/2018-08-19/common_fps_video_syncAditya_2018-08-20_0300-0400_16.csv',\n",
       " 'common_fps/Aditya_annotations/2018-08-19/common_fps_video_syncAditya_2018-08-20_0300-0400_80.csv',\n",
       " 'common_fps/Aditya_annotations/2018-08-19/common_fps_video_syncAditya_2018-08-20_0300-0400_84.csv',\n",
       " 'common_fps/Aditya_annotations/2018-08-19/common_fps_video_syncAditya_2018-08-20_0300-0400_41.csv',\n",
       " 'common_fps/Aditya_annotations/2018-08-19/common_fps_video_syncAditya_2018-08-20_0300-0400_79.csv',\n",
       " 'common_fps/Aditya_annotations/2018-08-19/common_fps_video_syncAditya_2018-08-20_0300-0400_70.csv',\n",
       " 'common_fps/Aditya_annotations/2018-08-19/common_fps_video_syncAditya_2018-08-20_0300-0400_26.csv',\n",
       " 'common_fps/Aditya_annotations/2018-08-19/common_fps_video_syncAditya_2018-08-20_0300-0400_61.csv',\n",
       " 'common_fps/Aditya_annotations/2018-08-19/common_fps_video_syncAditya_2018-08-20_0300-0400_78.csv',\n",
       " 'common_fps/Aditya_annotations/2018-08-19/common_fps_video_syncAditya_2018-08-20_0300-0400_69.csv',\n",
       " 'common_fps/Aditya_annotations/2018-08-19/common_fps_video_syncAditya_2018-08-20_0300-0400_32.csv',\n",
       " 'common_fps/Aditya_annotations/2018-08-19/common_fps_video_syncAditya_2018-08-20_0300-0400_6.csv',\n",
       " 'common_fps/Aditya_annotations/2018-08-19/common_fps_video_syncAditya_2018-08-20_0300-0400_24.csv',\n",
       " 'common_fps/Aditya_annotations/2018-08-19/common_fps_video_syncAditya_2018-08-20_0300-0400_36.csv',\n",
       " 'common_fps/Aditya_annotations/2018-08-19/common_fps_video_syncAditya_2018-08-20_0300-0400_23.csv',\n",
       " 'common_fps/Aditya_annotations/2018-08-19/common_fps_video_syncAditya_2018-08-20_0300-0400_92.csv']"
      ]
     },
     "execution_count": 17,
     "metadata": {},
     "output_type": "execute_result"
    }
   ],
   "source": [
    "all_commonfps"
   ]
  },
  {
   "cell_type": "code",
   "execution_count": 18,
   "metadata": {},
   "outputs": [
    {
     "data": {
      "text/plain": [
       "'/media/tbeleyur/THEJASVI_DATA_BACKUP_3/fieldwork_2018_002/horseshoe_bat/audio_non_spikey/2018-08-19/ch1/'"
      ]
     },
     "execution_count": 18,
     "metadata": {},
     "output_type": "execute_result"
    }
   ],
   "source": [
    "audio_folder"
   ]
  },
  {
   "cell_type": "code",
   "execution_count": 19,
   "metadata": {},
   "outputs": [
    {
     "data": {
      "text/plain": [
       "49"
      ]
     },
     "execution_count": 19,
     "metadata": {},
     "output_type": "execute_result"
    }
   ],
   "source": [
    "len(all_commonfps)"
   ]
  },
  {
   "cell_type": "code",
   "execution_count": 20,
   "metadata": {
    "scrolled": true
   },
   "outputs": [
    {
     "data": {
      "text/plain": [
       "['common_fps/Aditya_annotations/2018-08-19/common_fps_video_syncAditya_2018-08-20_0300-0400_1.csv',\n",
       " 'common_fps/Aditya_annotations/2018-08-19/common_fps_video_syncAditya_2018-08-20_0300-0400_6.csv',\n",
       " 'common_fps/Aditya_annotations/2018-08-19/common_fps_video_syncAditya_2018-08-20_0300-0400_9.csv',\n",
       " 'common_fps/Aditya_annotations/2018-08-19/common_fps_video_syncAditya_2018-08-20_0300-0400_10.csv',\n",
       " 'common_fps/Aditya_annotations/2018-08-19/common_fps_video_syncAditya_2018-08-20_0300-0400_13.csv',\n",
       " 'common_fps/Aditya_annotations/2018-08-19/common_fps_video_syncAditya_2018-08-20_0300-0400_14.csv',\n",
       " 'common_fps/Aditya_annotations/2018-08-19/common_fps_video_syncAditya_2018-08-20_0300-0400_16.csv',\n",
       " 'common_fps/Aditya_annotations/2018-08-19/common_fps_video_syncAditya_2018-08-20_0300-0400_18.csv',\n",
       " 'common_fps/Aditya_annotations/2018-08-19/common_fps_video_syncAditya_2018-08-20_0300-0400_19.csv',\n",
       " 'common_fps/Aditya_annotations/2018-08-19/common_fps_video_syncAditya_2018-08-20_0300-0400_23.csv',\n",
       " 'common_fps/Aditya_annotations/2018-08-19/common_fps_video_syncAditya_2018-08-20_0300-0400_24.csv',\n",
       " 'common_fps/Aditya_annotations/2018-08-19/common_fps_video_syncAditya_2018-08-20_0300-0400_25.csv',\n",
       " 'common_fps/Aditya_annotations/2018-08-19/common_fps_video_syncAditya_2018-08-20_0300-0400_26.csv',\n",
       " 'common_fps/Aditya_annotations/2018-08-19/common_fps_video_syncAditya_2018-08-20_0300-0400_27.csv',\n",
       " 'common_fps/Aditya_annotations/2018-08-19/common_fps_video_syncAditya_2018-08-20_0300-0400_28.csv',\n",
       " 'common_fps/Aditya_annotations/2018-08-19/common_fps_video_syncAditya_2018-08-20_0300-0400_29.csv',\n",
       " 'common_fps/Aditya_annotations/2018-08-19/common_fps_video_syncAditya_2018-08-20_0300-0400_30.csv',\n",
       " 'common_fps/Aditya_annotations/2018-08-19/common_fps_video_syncAditya_2018-08-20_0300-0400_31.csv',\n",
       " 'common_fps/Aditya_annotations/2018-08-19/common_fps_video_syncAditya_2018-08-20_0300-0400_32.csv',\n",
       " 'common_fps/Aditya_annotations/2018-08-19/common_fps_video_syncAditya_2018-08-20_0300-0400_33.csv',\n",
       " 'common_fps/Aditya_annotations/2018-08-19/common_fps_video_syncAditya_2018-08-20_0300-0400_34.csv',\n",
       " 'common_fps/Aditya_annotations/2018-08-19/common_fps_video_syncAditya_2018-08-20_0300-0400_35.csv',\n",
       " 'common_fps/Aditya_annotations/2018-08-19/common_fps_video_syncAditya_2018-08-20_0300-0400_36.csv',\n",
       " 'common_fps/Aditya_annotations/2018-08-19/common_fps_video_syncAditya_2018-08-20_0300-0400_38.csv',\n",
       " 'common_fps/Aditya_annotations/2018-08-19/common_fps_video_syncAditya_2018-08-20_0300-0400_39.csv',\n",
       " 'common_fps/Aditya_annotations/2018-08-19/common_fps_video_syncAditya_2018-08-20_0300-0400_41.csv',\n",
       " 'common_fps/Aditya_annotations/2018-08-19/common_fps_video_syncAditya_2018-08-20_0300-0400_42.csv',\n",
       " 'common_fps/Aditya_annotations/2018-08-19/common_fps_video_syncAditya_2018-08-20_0300-0400_55.csv',\n",
       " 'common_fps/Aditya_annotations/2018-08-19/common_fps_video_syncAditya_2018-08-20_0300-0400_56.csv',\n",
       " 'common_fps/Aditya_annotations/2018-08-19/common_fps_video_syncAditya_2018-08-20_0300-0400_57.csv',\n",
       " 'common_fps/Aditya_annotations/2018-08-19/common_fps_video_syncAditya_2018-08-20_0300-0400_58.csv',\n",
       " 'common_fps/Aditya_annotations/2018-08-19/common_fps_video_syncAditya_2018-08-20_0300-0400_61.csv',\n",
       " 'common_fps/Aditya_annotations/2018-08-19/common_fps_video_syncAditya_2018-08-20_0300-0400_69.csv',\n",
       " 'common_fps/Aditya_annotations/2018-08-19/common_fps_video_syncAditya_2018-08-20_0300-0400_70.csv',\n",
       " 'common_fps/Aditya_annotations/2018-08-19/common_fps_video_syncAditya_2018-08-20_0300-0400_71.csv',\n",
       " 'common_fps/Aditya_annotations/2018-08-19/common_fps_video_syncAditya_2018-08-20_0300-0400_72.csv',\n",
       " 'common_fps/Aditya_annotations/2018-08-19/common_fps_video_syncAditya_2018-08-20_0300-0400_73.csv',\n",
       " 'common_fps/Aditya_annotations/2018-08-19/common_fps_video_syncAditya_2018-08-20_0300-0400_74.csv',\n",
       " 'common_fps/Aditya_annotations/2018-08-19/common_fps_video_syncAditya_2018-08-20_0300-0400_75.csv',\n",
       " 'common_fps/Aditya_annotations/2018-08-19/common_fps_video_syncAditya_2018-08-20_0300-0400_78.csv',\n",
       " 'common_fps/Aditya_annotations/2018-08-19/common_fps_video_syncAditya_2018-08-20_0300-0400_79.csv',\n",
       " 'common_fps/Aditya_annotations/2018-08-19/common_fps_video_syncAditya_2018-08-20_0300-0400_80.csv',\n",
       " 'common_fps/Aditya_annotations/2018-08-19/common_fps_video_syncAditya_2018-08-20_0300-0400_81.csv',\n",
       " 'common_fps/Aditya_annotations/2018-08-19/common_fps_video_syncAditya_2018-08-20_0300-0400_83.csv',\n",
       " 'common_fps/Aditya_annotations/2018-08-19/common_fps_video_syncAditya_2018-08-20_0300-0400_84.csv',\n",
       " 'common_fps/Aditya_annotations/2018-08-19/common_fps_video_syncAditya_2018-08-20_0300-0400_85.csv',\n",
       " 'common_fps/Aditya_annotations/2018-08-19/common_fps_video_syncAditya_2018-08-20_0300-0400_90.csv',\n",
       " 'common_fps/Aditya_annotations/2018-08-19/common_fps_video_syncAditya_2018-08-20_0300-0400_91.csv',\n",
       " 'common_fps/Aditya_annotations/2018-08-19/common_fps_video_syncAditya_2018-08-20_0300-0400_92.csv']"
      ]
     },
     "execution_count": 20,
     "metadata": {},
     "output_type": "execute_result"
    }
   ],
   "source": [
    "natsort.natsorted(all_commonfps)"
   ]
  },
  {
   "cell_type": "markdown",
   "metadata": {},
   "source": [
    "### A slight change in how annotations are matched to audio. \n"
   ]
  },
  {
   "cell_type": "code",
   "execution_count": 21,
   "metadata": {},
   "outputs": [],
   "source": [
    "sorted_commonfps = natsort.natsorted(all_commonfps)\n",
    "\n",
    "common_fps_chunks = np.array_split(np.array(sorted_commonfps),4) # split the commonfps files into 10 minutes bins\n"
   ]
  },
  {
   "cell_type": "code",
   "execution_count": 42,
   "metadata": {},
   "outputs": [
    {
     "name": "stdout",
     "output_type": "stream",
     "text": [
      "common_fps/Aditya_annotations/2018-08-19/common_fps_video_syncAditya_2018-08-20_0300-0400_1.csv,....common_fps/Aditya_annotations/2018-08-19/common_fps_video_syncAditya_2018-08-20_0300-0400_26.csv\n",
      "\n",
      "start: 2018-08-20 03:00:16....End:2018-08-20 03:15:00\n",
      "\n",
      "\n",
      "common_fps/Aditya_annotations/2018-08-19/common_fps_video_syncAditya_2018-08-20_0300-0400_27.csv,....common_fps/Aditya_annotations/2018-08-19/common_fps_video_syncAditya_2018-08-20_0300-0400_39.csv\n",
      "\n",
      "start: 2018-08-20 03:16:50....End:2018-08-20 03:23:28\n",
      "\n",
      "\n",
      "common_fps/Aditya_annotations/2018-08-19/common_fps_video_syncAditya_2018-08-20_0300-0400_41.csv,....common_fps/Aditya_annotations/2018-08-19/common_fps_video_syncAditya_2018-08-20_0300-0400_73.csv\n",
      "\n",
      "start: 2018-08-20 03:24:06....End:2018-08-20 03:33:41\n",
      "\n",
      "\n",
      "common_fps/Aditya_annotations/2018-08-19/common_fps_video_syncAditya_2018-08-20_0300-0400_74.csv,....common_fps/Aditya_annotations/2018-08-19/common_fps_video_syncAditya_2018-08-20_0300-0400_92.csv\n",
      "\n",
      "start: 2018-08-20 03:33:04....End:2018-08-20 03:39:08\n",
      "\n",
      "\n"
     ]
    }
   ],
   "source": [
    "# get annotation number of first and last annoration for each chunks\n",
    "for each in common_fps_chunks:\n",
    "    print(each[0] + ',....' + each[-1] +'\\n' )\n",
    "    first_annot = pd.read_csv(each[0])['timestamp_verified'][0]\n",
    "    last_annot = pd.read_csv(each[-1])['timestamp_verified']\n",
    "    print('start: '+first_annot+\n",
    "          '....End:'+last_annot[last_annot.shape[0]-1]+ '\\n'+'\\n')"
   ]
  },
  {
   "cell_type": "code",
   "execution_count": 32,
   "metadata": {},
   "outputs": [
    {
     "data": {
      "text/plain": [
       "'2018-08-20 03:14:15'"
      ]
     },
     "execution_count": 32,
     "metadata": {},
     "output_type": "execute_result"
    }
   ],
   "source": [
    "pd.read_csv(each[-1])['timestamp_verified']"
   ]
  },
  {
   "cell_type": "code",
   "execution_count": 43,
   "metadata": {},
   "outputs": [],
   "source": [
    "file_ranges_for_chunks = [('non_spikey_T0000092','non_spikey_T0000115'),\n",
    "                          ('non_spikey_T0000105','non_spikey_T0000125'),\n",
    "                          ('non_spikey_T0000115','non_spikey_T0000134'),\n",
    "                          ('non_spikey_T0000125','non_spikey_T0000134'),] # the corresponding audio file range for each 10 minute bin\n"
   ]
  },
  {
   "cell_type": "code",
   "execution_count": 44,
   "metadata": {
    "scrolled": false
   },
   "outputs": [
    {
     "name": "stdout",
     "output_type": "stream",
     "text": [
      "common_fps/Aditya_annotations/2018-08-19/common_fps_video_syncAditya_2018-08-20_0300-0400_1.csv\n",
      "('video_fps obtained is :', 25)\n",
      "Did not find user-provided sample rate - getting it from first file that matches format!\n",
      "('sampling rate is : ', 250000)\n",
      ".....finding best audio segment.....\n"
     ]
    },
    {
     "name": "stderr",
     "output_type": "stream",
     "text": [
      "\r",
      "  0%|          | 0/23 [00:00<?, ?it/s]"
     ]
    },
    {
     "name": "stdout",
     "output_type": "stream",
     "text": [
      "('max mins for upsampled video', -0.7431066075250137, 1.0)\n",
      "('max mins', -0.9948413437389053, 1.0)\n"
     ]
    },
    {
     "name": "stderr",
     "output_type": "stream",
     "text": [
      "/home/tbeleyur/anaconda2/envs/horseshoebat/lib/python2.7/site-packages/scipy/signal/signaltools.py:491: FutureWarning: Using a non-tuple sequence for multidimensional indexing is deprecated; use `arr[tuple(seq)]` instead of `arr[seq]`. In the future this will be interpreted as an array index, `arr[np.array(seq)]`, which will result either in an error or a different result.\n",
      "  return x[reverse].conj()\n",
      "  4%|▍         | 1/23 [00:05<02:06,  5.76s/it]"
     ]
    },
    {
     "name": "stdout",
     "output_type": "stream",
     "text": [
      "('max mins', -1.0, 0.9715677166831985)\n"
     ]
    },
    {
     "name": "stderr",
     "output_type": "stream",
     "text": [
      "\r",
      "  9%|▊         | 2/23 [00:11<02:00,  5.73s/it]"
     ]
    },
    {
     "name": "stdout",
     "output_type": "stream",
     "text": [
      "('max mins', -1.0, 0.9695486417782936)\n"
     ]
    },
    {
     "name": "stderr",
     "output_type": "stream",
     "text": [
      "\r",
      " 13%|█▎        | 3/23 [00:16<01:50,  5.52s/it]"
     ]
    },
    {
     "name": "stdout",
     "output_type": "stream",
     "text": [
      "('max mins', -1.0, 0.9499969530777875)\n"
     ]
    },
    {
     "name": "stderr",
     "output_type": "stream",
     "text": [
      "\r",
      " 17%|█▋        | 4/23 [00:21<01:41,  5.32s/it]"
     ]
    },
    {
     "name": "stdout",
     "output_type": "stream",
     "text": [
      "('max mins', -1.0, 0.9746472961620164)\n"
     ]
    },
    {
     "name": "stderr",
     "output_type": "stream",
     "text": [
      "\r",
      " 22%|██▏       | 5/23 [00:27<01:39,  5.54s/it]"
     ]
    },
    {
     "name": "stdout",
     "output_type": "stream",
     "text": [
      "('max mins', -0.9694428020840912, 1.0)\n"
     ]
    },
    {
     "name": "stderr",
     "output_type": "stream",
     "text": [
      "\r",
      " 26%|██▌       | 6/23 [00:33<01:37,  5.71s/it]"
     ]
    },
    {
     "name": "stdout",
     "output_type": "stream",
     "text": [
      "('max mins', -1.0, 0.986671678438572)\n"
     ]
    },
    {
     "name": "stderr",
     "output_type": "stream",
     "text": [
      "\r",
      " 30%|███       | 7/23 [00:38<01:28,  5.52s/it]"
     ]
    },
    {
     "name": "stdout",
     "output_type": "stream",
     "text": [
      "('max mins', -1.0, 0.9799961304452885)\n"
     ]
    },
    {
     "name": "stderr",
     "output_type": "stream",
     "text": [
      "\r",
      " 35%|███▍      | 8/23 [00:43<01:20,  5.38s/it]"
     ]
    },
    {
     "name": "stdout",
     "output_type": "stream",
     "text": [
      "('max mins', -0.9433253572934795, 1.0)\n"
     ]
    },
    {
     "name": "stderr",
     "output_type": "stream",
     "text": [
      "\r",
      " 39%|███▉      | 9/23 [00:52<01:31,  6.54s/it]"
     ]
    },
    {
     "name": "stdout",
     "output_type": "stream",
     "text": [
      "('max mins', -0.9394159942519527, 1.0)\n"
     ]
    },
    {
     "name": "stderr",
     "output_type": "stream",
     "text": [
      "\r",
      " 43%|████▎     | 10/23 [01:01<01:33,  7.20s/it]"
     ]
    },
    {
     "name": "stdout",
     "output_type": "stream",
     "text": [
      "('max mins', -0.9802683633999575, 1.0)\n"
     ]
    },
    {
     "name": "stderr",
     "output_type": "stream",
     "text": [
      "\r",
      " 48%|████▊     | 11/23 [01:10<01:32,  7.69s/it]"
     ]
    },
    {
     "name": "stdout",
     "output_type": "stream",
     "text": [
      "('max mins', -0.9827055924599887, 1.0)\n"
     ]
    },
    {
     "name": "stderr",
     "output_type": "stream",
     "text": [
      "\r",
      " 52%|█████▏    | 12/23 [01:19<01:28,  8.04s/it]"
     ]
    },
    {
     "name": "stdout",
     "output_type": "stream",
     "text": [
      "('max mins', -0.9451426207355637, 1.0)\n"
     ]
    },
    {
     "name": "stderr",
     "output_type": "stream",
     "text": [
      "\r",
      " 57%|█████▋    | 13/23 [01:28<01:22,  8.25s/it]"
     ]
    },
    {
     "name": "stdout",
     "output_type": "stream",
     "text": [
      "('max mins', -0.9617203121839379, 1.0)\n"
     ]
    },
    {
     "name": "stderr",
     "output_type": "stream",
     "text": [
      "\r",
      " 61%|██████    | 14/23 [01:36<01:15,  8.39s/it]"
     ]
    },
    {
     "name": "stdout",
     "output_type": "stream",
     "text": [
      "('max mins', -0.9837532490329566, 1.0)\n"
     ]
    },
    {
     "name": "stderr",
     "output_type": "stream",
     "text": [
      "\r",
      " 65%|██████▌   | 15/23 [01:45<01:07,  8.49s/it]"
     ]
    },
    {
     "name": "stdout",
     "output_type": "stream",
     "text": [
      "('max mins', -0.9615598038589722, 1.0)\n"
     ]
    },
    {
     "name": "stderr",
     "output_type": "stream",
     "text": [
      "\r",
      " 70%|██████▉   | 16/23 [01:54<00:59,  8.56s/it]"
     ]
    },
    {
     "name": "stdout",
     "output_type": "stream",
     "text": [
      "('max mins', -0.9963540111630391, 1.0)\n"
     ]
    },
    {
     "name": "stderr",
     "output_type": "stream",
     "text": [
      "\r",
      " 74%|███████▍  | 17/23 [02:02<00:51,  8.62s/it]"
     ]
    },
    {
     "name": "stdout",
     "output_type": "stream",
     "text": [
      "('max mins', -1.0, 0.9887857234341407)\n"
     ]
    },
    {
     "name": "stderr",
     "output_type": "stream",
     "text": [
      "\r",
      " 78%|███████▊  | 18/23 [02:11<00:43,  8.63s/it]"
     ]
    },
    {
     "name": "stdout",
     "output_type": "stream",
     "text": [
      "('max mins', -1.0, 0.9453077658223246)\n"
     ]
    },
    {
     "name": "stderr",
     "output_type": "stream",
     "text": [
      "\r",
      " 83%|████████▎ | 19/23 [02:20<00:34,  8.66s/it]"
     ]
    },
    {
     "name": "stdout",
     "output_type": "stream",
     "text": [
      "('max mins', -1.0, 0.9696416970600548)\n"
     ]
    },
    {
     "name": "stderr",
     "output_type": "stream",
     "text": [
      "\r",
      " 87%|████████▋ | 20/23 [02:29<00:26,  8.68s/it]"
     ]
    },
    {
     "name": "stdout",
     "output_type": "stream",
     "text": [
      "('max mins', -0.9206378346384267, 1.0)\n"
     ]
    },
    {
     "name": "stderr",
     "output_type": "stream",
     "text": [
      "\r",
      " 91%|█████████▏| 21/23 [02:37<00:17,  8.69s/it]"
     ]
    },
    {
     "name": "stdout",
     "output_type": "stream",
     "text": [
      "('max mins', -0.9634479508648188, 1.0)\n"
     ]
    },
    {
     "name": "stderr",
     "output_type": "stream",
     "text": [
      "\r",
      " 96%|█████████▌| 22/23 [02:46<00:08,  8.70s/it]"
     ]
    },
    {
     "name": "stdout",
     "output_type": "stream",
     "text": [
      "('max mins', -0.9410304929219014, 1.0)\n"
     ]
    },
    {
     "name": "stderr",
     "output_type": "stream",
     "text": [
      "100%|██████████| 23/23 [02:55<00:00,  8.70s/it]\n"
     ]
    },
    {
     "name": "stdout",
     "output_type": "stream",
     "text": [
      "('Best file pairs are: ', 'non_spikey_T0000093.WAV*non_spikey_T0000094.WAV')\n",
      "Start and end indices around peak:                  start index: 17768114\t\t          end index: 29268114                  total samples:30015488\n",
      "('AV Sync was above threshold: ', 0.8617756845401605)\n",
      "common_fps/Aditya_annotations/2018-08-19/common_fps_video_syncAditya_2018-08-20_0300-0400_6.csv\n",
      "('video_fps obtained is :', 25)\n",
      "Did not find user-provided sample rate - getting it from first file that matches format!\n",
      "('sampling rate is : ', 250000)\n",
      ".....finding best audio segment.....\n"
     ]
    },
    {
     "name": "stderr",
     "output_type": "stream",
     "text": [
      "\r",
      "  0%|          | 0/23 [00:00<?, ?it/s]"
     ]
    },
    {
     "name": "stdout",
     "output_type": "stream",
     "text": [
      "('max mins for upsampled video', -0.7278121031010205, 1.0)\n",
      "('max mins', -0.9948413437389053, 1.0)\n"
     ]
    },
    {
     "name": "stderr",
     "output_type": "stream",
     "text": [
      "\r",
      "  4%|▍         | 1/23 [00:04<01:38,  4.46s/it]"
     ]
    },
    {
     "name": "stdout",
     "output_type": "stream",
     "text": [
      "('max mins', -1.0, 0.9715677166831985)\n"
     ]
    },
    {
     "name": "stderr",
     "output_type": "stream",
     "text": [
      "\r",
      "  9%|▊         | 2/23 [00:08<01:33,  4.45s/it]"
     ]
    },
    {
     "name": "stdout",
     "output_type": "stream",
     "text": [
      "('max mins', -1.0, 0.9695486417782936)\n"
     ]
    },
    {
     "name": "stderr",
     "output_type": "stream",
     "text": [
      "\r",
      " 13%|█▎        | 3/23 [00:13<01:28,  4.44s/it]"
     ]
    },
    {
     "name": "stdout",
     "output_type": "stream",
     "text": [
      "('max mins', -1.0, 0.9499969530777875)\n"
     ]
    },
    {
     "name": "stderr",
     "output_type": "stream",
     "text": [
      "\r",
      " 17%|█▋        | 4/23 [00:17<01:24,  4.43s/it]"
     ]
    },
    {
     "name": "stdout",
     "output_type": "stream",
     "text": [
      "('max mins', -1.0, 0.9746472961620164)\n"
     ]
    },
    {
     "name": "stderr",
     "output_type": "stream",
     "text": [
      "\r",
      " 22%|██▏       | 5/23 [00:22<01:19,  4.42s/it]"
     ]
    },
    {
     "name": "stdout",
     "output_type": "stream",
     "text": [
      "('max mins', -0.9694428020840912, 1.0)\n"
     ]
    },
    {
     "name": "stderr",
     "output_type": "stream",
     "text": [
      "\r",
      " 26%|██▌       | 6/23 [00:26<01:15,  4.42s/it]"
     ]
    },
    {
     "name": "stdout",
     "output_type": "stream",
     "text": [
      "('max mins', -1.0, 0.986671678438572)\n"
     ]
    },
    {
     "name": "stderr",
     "output_type": "stream",
     "text": [
      "\r",
      " 30%|███       | 7/23 [00:30<01:10,  4.41s/it]"
     ]
    },
    {
     "name": "stdout",
     "output_type": "stream",
     "text": [
      "('max mins', -1.0, 0.9799961304452885)\n"
     ]
    },
    {
     "name": "stderr",
     "output_type": "stream",
     "text": [
      "\r",
      " 35%|███▍      | 8/23 [00:35<01:06,  4.41s/it]"
     ]
    },
    {
     "name": "stdout",
     "output_type": "stream",
     "text": [
      "('max mins', -0.9433253572934795, 1.0)\n"
     ]
    },
    {
     "name": "stderr",
     "output_type": "stream",
     "text": [
      "\r",
      " 39%|███▉      | 9/23 [00:39<01:01,  4.41s/it]"
     ]
    },
    {
     "name": "stdout",
     "output_type": "stream",
     "text": [
      "('max mins', -0.9394159942519527, 1.0)\n"
     ]
    },
    {
     "name": "stderr",
     "output_type": "stream",
     "text": [
      "\r",
      " 43%|████▎     | 10/23 [00:44<00:57,  4.41s/it]"
     ]
    },
    {
     "name": "stdout",
     "output_type": "stream",
     "text": [
      "('max mins', -0.9802683633999575, 1.0)\n"
     ]
    },
    {
     "name": "stderr",
     "output_type": "stream",
     "text": [
      "\r",
      " 48%|████▊     | 11/23 [00:48<00:52,  4.41s/it]"
     ]
    },
    {
     "name": "stdout",
     "output_type": "stream",
     "text": [
      "('max mins', -0.9827055924599887, 1.0)\n"
     ]
    },
    {
     "name": "stderr",
     "output_type": "stream",
     "text": [
      "\r",
      " 52%|█████▏    | 12/23 [00:52<00:48,  4.41s/it]"
     ]
    },
    {
     "name": "stdout",
     "output_type": "stream",
     "text": [
      "('max mins', -0.9451426207355637, 1.0)\n"
     ]
    },
    {
     "name": "stderr",
     "output_type": "stream",
     "text": [
      "\r",
      " 57%|█████▋    | 13/23 [00:57<00:44,  4.41s/it]"
     ]
    },
    {
     "name": "stdout",
     "output_type": "stream",
     "text": [
      "('max mins', -0.9617203121839379, 1.0)\n"
     ]
    },
    {
     "name": "stderr",
     "output_type": "stream",
     "text": [
      "\r",
      " 61%|██████    | 14/23 [01:01<00:39,  4.41s/it]"
     ]
    },
    {
     "name": "stdout",
     "output_type": "stream",
     "text": [
      "('max mins', -0.9837532490329566, 1.0)\n"
     ]
    },
    {
     "name": "stderr",
     "output_type": "stream",
     "text": [
      "\r",
      " 65%|██████▌   | 15/23 [01:06<00:35,  4.41s/it]"
     ]
    },
    {
     "name": "stdout",
     "output_type": "stream",
     "text": [
      "('max mins', -0.9615598038589722, 1.0)\n"
     ]
    },
    {
     "name": "stderr",
     "output_type": "stream",
     "text": [
      "\r",
      " 70%|██████▉   | 16/23 [01:10<00:30,  4.42s/it]"
     ]
    },
    {
     "name": "stdout",
     "output_type": "stream",
     "text": [
      "('max mins', -0.9963540111630391, 1.0)\n"
     ]
    },
    {
     "name": "stderr",
     "output_type": "stream",
     "text": [
      "\r",
      " 74%|███████▍  | 17/23 [01:15<00:26,  4.43s/it]"
     ]
    },
    {
     "name": "stdout",
     "output_type": "stream",
     "text": [
      "('max mins', -1.0, 0.9887857234341407)\n"
     ]
    },
    {
     "name": "stderr",
     "output_type": "stream",
     "text": [
      "\r",
      " 78%|███████▊  | 18/23 [01:19<00:22,  4.42s/it]"
     ]
    },
    {
     "name": "stdout",
     "output_type": "stream",
     "text": [
      "('max mins', -1.0, 0.9453077658223246)\n"
     ]
    },
    {
     "name": "stderr",
     "output_type": "stream",
     "text": [
      "\r",
      " 83%|████████▎ | 19/23 [01:24<00:17,  4.49s/it]"
     ]
    },
    {
     "name": "stdout",
     "output_type": "stream",
     "text": [
      "('max mins', -1.0, 0.9696416970600548)\n"
     ]
    },
    {
     "name": "stderr",
     "output_type": "stream",
     "text": [
      "\r",
      " 87%|████████▋ | 20/23 [01:28<00:13,  4.47s/it]"
     ]
    },
    {
     "name": "stdout",
     "output_type": "stream",
     "text": [
      "('max mins', -0.9206378346384267, 1.0)\n"
     ]
    },
    {
     "name": "stderr",
     "output_type": "stream",
     "text": [
      "\r",
      " 91%|█████████▏| 21/23 [01:32<00:08,  4.45s/it]"
     ]
    },
    {
     "name": "stdout",
     "output_type": "stream",
     "text": [
      "('max mins', -0.9634479508648188, 1.0)\n"
     ]
    },
    {
     "name": "stderr",
     "output_type": "stream",
     "text": [
      "\r",
      " 96%|█████████▌| 22/23 [01:37<00:04,  4.44s/it]"
     ]
    },
    {
     "name": "stdout",
     "output_type": "stream",
     "text": [
      "('max mins', -0.9410304929219014, 1.0)\n"
     ]
    },
    {
     "name": "stderr",
     "output_type": "stream",
     "text": [
      "100%|██████████| 23/23 [01:41<00:00,  4.43s/it]\n"
     ]
    },
    {
     "name": "stdout",
     "output_type": "stream",
     "text": [
      "('Best file pairs are: ', 'non_spikey_T0000097.WAV*non_spikey_T0000098.WAV')\n",
      "Start and end indices around peak:                  start index: 5205589\t\t          end index: 16705589                  total samples:30015488\n",
      "('AV Sync was above threshold: ', 0.8698435395487786)\n",
      "common_fps/Aditya_annotations/2018-08-19/common_fps_video_syncAditya_2018-08-20_0300-0400_9.csv\n",
      "('video_fps obtained is :', 25)\n",
      "Did not find user-provided sample rate - getting it from first file that matches format!\n",
      "('sampling rate is : ', 250000)\n",
      ".....finding best audio segment.....\n"
     ]
    },
    {
     "name": "stderr",
     "output_type": "stream",
     "text": [
      "\r",
      "  0%|          | 0/23 [00:00<?, ?it/s]"
     ]
    },
    {
     "name": "stdout",
     "output_type": "stream",
     "text": [
      "('max mins for upsampled video', -0.8756354686321652, 1.0)\n",
      "('max mins', -0.9948413437389053, 1.0)\n"
     ]
    },
    {
     "name": "stderr",
     "output_type": "stream",
     "text": [
      "\r",
      "  4%|▍         | 1/23 [00:04<01:37,  4.44s/it]"
     ]
    },
    {
     "name": "stdout",
     "output_type": "stream",
     "text": [
      "('max mins', -1.0, 0.9715677166831985)\n"
     ]
    },
    {
     "name": "stderr",
     "output_type": "stream",
     "text": [
      "\r",
      "  9%|▊         | 2/23 [00:08<01:33,  4.43s/it]"
     ]
    },
    {
     "name": "stdout",
     "output_type": "stream",
     "text": [
      "('max mins', -1.0, 0.9695486417782936)\n"
     ]
    },
    {
     "name": "stderr",
     "output_type": "stream",
     "text": [
      "\r",
      " 13%|█▎        | 3/23 [00:13<01:28,  4.42s/it]"
     ]
    },
    {
     "name": "stdout",
     "output_type": "stream",
     "text": [
      "('max mins', -1.0, 0.9499969530777875)\n"
     ]
    },
    {
     "name": "stderr",
     "output_type": "stream",
     "text": [
      "\r",
      " 17%|█▋        | 4/23 [00:17<01:23,  4.42s/it]"
     ]
    },
    {
     "name": "stdout",
     "output_type": "stream",
     "text": [
      "('max mins', -1.0, 0.9746472961620164)\n"
     ]
    },
    {
     "name": "stderr",
     "output_type": "stream",
     "text": [
      "\r",
      " 22%|██▏       | 5/23 [00:22<01:19,  4.42s/it]"
     ]
    },
    {
     "name": "stdout",
     "output_type": "stream",
     "text": [
      "('max mins', -0.9694428020840912, 1.0)\n"
     ]
    },
    {
     "name": "stderr",
     "output_type": "stream",
     "text": [
      "\r",
      " 26%|██▌       | 6/23 [00:26<01:14,  4.41s/it]"
     ]
    },
    {
     "name": "stdout",
     "output_type": "stream",
     "text": [
      "('max mins', -1.0, 0.986671678438572)\n"
     ]
    },
    {
     "name": "stderr",
     "output_type": "stream",
     "text": [
      "\r",
      " 30%|███       | 7/23 [00:30<01:10,  4.41s/it]"
     ]
    },
    {
     "name": "stdout",
     "output_type": "stream",
     "text": [
      "('max mins', -1.0, 0.9799961304452885)\n"
     ]
    },
    {
     "name": "stderr",
     "output_type": "stream",
     "text": [
      "\r",
      " 35%|███▍      | 8/23 [00:35<01:06,  4.41s/it]"
     ]
    },
    {
     "name": "stdout",
     "output_type": "stream",
     "text": [
      "('max mins', -0.9433253572934795, 1.0)\n"
     ]
    },
    {
     "name": "stderr",
     "output_type": "stream",
     "text": [
      "\r",
      " 39%|███▉      | 9/23 [00:39<01:01,  4.41s/it]"
     ]
    },
    {
     "name": "stdout",
     "output_type": "stream",
     "text": [
      "('max mins', -0.9394159942519527, 1.0)\n"
     ]
    },
    {
     "name": "stderr",
     "output_type": "stream",
     "text": [
      "\r",
      " 43%|████▎     | 10/23 [00:44<00:57,  4.40s/it]"
     ]
    },
    {
     "name": "stdout",
     "output_type": "stream",
     "text": [
      "('max mins', -0.9802683633999575, 1.0)\n"
     ]
    },
    {
     "name": "stderr",
     "output_type": "stream",
     "text": [
      "\r",
      " 48%|████▊     | 11/23 [00:48<00:52,  4.40s/it]"
     ]
    },
    {
     "name": "stdout",
     "output_type": "stream",
     "text": [
      "('max mins', -0.9827055924599887, 1.0)\n"
     ]
    },
    {
     "name": "stderr",
     "output_type": "stream",
     "text": [
      "\r",
      " 52%|█████▏    | 12/23 [00:52<00:48,  4.41s/it]"
     ]
    },
    {
     "name": "stdout",
     "output_type": "stream",
     "text": [
      "('max mins', -0.9451426207355637, 1.0)\n"
     ]
    },
    {
     "name": "stderr",
     "output_type": "stream",
     "text": [
      "\r",
      " 57%|█████▋    | 13/23 [00:57<00:44,  4.41s/it]"
     ]
    },
    {
     "name": "stdout",
     "output_type": "stream",
     "text": [
      "('max mins', -0.9617203121839379, 1.0)\n"
     ]
    },
    {
     "name": "stderr",
     "output_type": "stream",
     "text": [
      "\r",
      " 61%|██████    | 14/23 [01:01<00:39,  4.41s/it]"
     ]
    },
    {
     "name": "stdout",
     "output_type": "stream",
     "text": [
      "('max mins', -0.9837532490329566, 1.0)\n"
     ]
    },
    {
     "name": "stderr",
     "output_type": "stream",
     "text": [
      "\r",
      " 65%|██████▌   | 15/23 [01:06<00:35,  4.41s/it]"
     ]
    },
    {
     "name": "stdout",
     "output_type": "stream",
     "text": [
      "('max mins', -0.9615598038589722, 1.0)\n"
     ]
    },
    {
     "name": "stderr",
     "output_type": "stream",
     "text": [
      "\r",
      " 70%|██████▉   | 16/23 [01:10<00:30,  4.41s/it]"
     ]
    },
    {
     "name": "stdout",
     "output_type": "stream",
     "text": [
      "('max mins', -0.9963540111630391, 1.0)\n"
     ]
    },
    {
     "name": "stderr",
     "output_type": "stream",
     "text": [
      "\r",
      " 74%|███████▍  | 17/23 [01:14<00:26,  4.41s/it]"
     ]
    },
    {
     "name": "stdout",
     "output_type": "stream",
     "text": [
      "('max mins', -1.0, 0.9887857234341407)\n"
     ]
    },
    {
     "name": "stderr",
     "output_type": "stream",
     "text": [
      "\r",
      " 78%|███████▊  | 18/23 [01:19<00:22,  4.41s/it]"
     ]
    },
    {
     "name": "stdout",
     "output_type": "stream",
     "text": [
      "('max mins', -1.0, 0.9453077658223246)\n"
     ]
    },
    {
     "name": "stderr",
     "output_type": "stream",
     "text": [
      "\r",
      " 83%|████████▎ | 19/23 [01:23<00:17,  4.41s/it]"
     ]
    },
    {
     "name": "stdout",
     "output_type": "stream",
     "text": [
      "('max mins', -1.0, 0.9696416970600548)\n"
     ]
    },
    {
     "name": "stderr",
     "output_type": "stream",
     "text": [
      "\r",
      " 87%|████████▋ | 20/23 [01:28<00:13,  4.41s/it]"
     ]
    },
    {
     "name": "stdout",
     "output_type": "stream",
     "text": [
      "('max mins', -0.9206378346384267, 1.0)\n"
     ]
    },
    {
     "name": "stderr",
     "output_type": "stream",
     "text": [
      "\r",
      " 91%|█████████▏| 21/23 [01:32<00:08,  4.41s/it]"
     ]
    },
    {
     "name": "stdout",
     "output_type": "stream",
     "text": [
      "('max mins', -0.9634479508648188, 1.0)\n"
     ]
    },
    {
     "name": "stderr",
     "output_type": "stream",
     "text": [
      "\r",
      " 96%|█████████▌| 22/23 [01:37<00:04,  4.43s/it]"
     ]
    },
    {
     "name": "stdout",
     "output_type": "stream",
     "text": [
      "('max mins', -0.9410304929219014, 1.0)\n"
     ]
    },
    {
     "name": "stderr",
     "output_type": "stream",
     "text": [
      "100%|██████████| 23/23 [01:41<00:00,  4.47s/it]\n"
     ]
    },
    {
     "name": "stdout",
     "output_type": "stream",
     "text": [
      "('Best file pairs are: ', 'non_spikey_T0000098.WAV*non_spikey_T0000099.WAV')\n",
      "Start and end indices around peak:                  start index: 11684258\t\t          end index: 23184258                  total samples:30015488\n",
      "('AV Sync was above threshold: ', 0.8643557596552416)\n",
      "common_fps/Aditya_annotations/2018-08-19/common_fps_video_syncAditya_2018-08-20_0300-0400_10.csv\n",
      "('video_fps obtained is :', 25)\n",
      "Did not find user-provided sample rate - getting it from first file that matches format!\n",
      "('sampling rate is : ', 250000)\n",
      ".....finding best audio segment.....\n"
     ]
    },
    {
     "name": "stderr",
     "output_type": "stream",
     "text": [
      "\r",
      "  0%|          | 0/23 [00:00<?, ?it/s]"
     ]
    },
    {
     "name": "stdout",
     "output_type": "stream",
     "text": [
      "('max mins for upsampled video', -0.8876432276013885, 1.0)\n",
      "('max mins', -0.9948413437389053, 1.0)\n"
     ]
    },
    {
     "name": "stderr",
     "output_type": "stream",
     "text": [
      "\r",
      "  4%|▍         | 1/23 [00:04<01:37,  4.42s/it]"
     ]
    },
    {
     "name": "stdout",
     "output_type": "stream",
     "text": [
      "('max mins', -1.0, 0.9715677166831985)\n"
     ]
    },
    {
     "name": "stderr",
     "output_type": "stream",
     "text": [
      "\r",
      "  9%|▊         | 2/23 [00:08<01:32,  4.42s/it]"
     ]
    },
    {
     "name": "stdout",
     "output_type": "stream",
     "text": [
      "('max mins', -1.0, 0.9695486417782936)\n"
     ]
    },
    {
     "name": "stderr",
     "output_type": "stream",
     "text": [
      "\r",
      " 13%|█▎        | 3/23 [00:13<01:28,  4.43s/it]"
     ]
    },
    {
     "name": "stdout",
     "output_type": "stream",
     "text": [
      "('max mins', -1.0, 0.9499969530777875)\n"
     ]
    },
    {
     "name": "stderr",
     "output_type": "stream",
     "text": [
      "\r",
      " 17%|█▋        | 4/23 [00:18<01:27,  4.59s/it]"
     ]
    },
    {
     "name": "stdout",
     "output_type": "stream",
     "text": [
      "('max mins', -1.0, 0.9746472961620164)\n"
     ]
    },
    {
     "name": "stderr",
     "output_type": "stream",
     "text": [
      "\r",
      " 22%|██▏       | 5/23 [00:23<01:28,  4.91s/it]"
     ]
    },
    {
     "name": "stdout",
     "output_type": "stream",
     "text": [
      "('max mins', -0.9694428020840912, 1.0)\n"
     ]
    },
    {
     "name": "stderr",
     "output_type": "stream",
     "text": [
      "\r",
      " 26%|██▌       | 6/23 [00:28<01:24,  4.96s/it]"
     ]
    },
    {
     "name": "stdout",
     "output_type": "stream",
     "text": [
      "('max mins', -1.0, 0.986671678438572)\n"
     ]
    },
    {
     "name": "stderr",
     "output_type": "stream",
     "text": [
      "\r",
      " 30%|███       | 7/23 [00:34<01:19,  5.00s/it]"
     ]
    },
    {
     "name": "stdout",
     "output_type": "stream",
     "text": [
      "('max mins', -1.0, 0.9799961304452885)\n"
     ]
    },
    {
     "name": "stderr",
     "output_type": "stream",
     "text": [
      "\r",
      " 35%|███▍      | 8/23 [00:38<01:12,  4.81s/it]"
     ]
    },
    {
     "name": "stdout",
     "output_type": "stream",
     "text": [
      "('max mins', -0.9433253572934795, 1.0)\n"
     ]
    },
    {
     "name": "stderr",
     "output_type": "stream",
     "text": [
      "\r",
      " 39%|███▉      | 9/23 [00:42<01:05,  4.68s/it]"
     ]
    },
    {
     "name": "stdout",
     "output_type": "stream",
     "text": [
      "('max mins', -0.9394159942519527, 1.0)\n"
     ]
    },
    {
     "name": "stderr",
     "output_type": "stream",
     "text": [
      "\r",
      " 43%|████▎     | 10/23 [00:47<00:59,  4.59s/it]"
     ]
    },
    {
     "name": "stdout",
     "output_type": "stream",
     "text": [
      "('max mins', -0.9802683633999575, 1.0)\n"
     ]
    },
    {
     "name": "stderr",
     "output_type": "stream",
     "text": [
      "\r",
      " 48%|████▊     | 11/23 [00:51<00:54,  4.53s/it]"
     ]
    },
    {
     "name": "stdout",
     "output_type": "stream",
     "text": [
      "('max mins', -0.9827055924599887, 1.0)\n"
     ]
    },
    {
     "name": "stderr",
     "output_type": "stream",
     "text": [
      "\r",
      " 52%|█████▏    | 12/23 [00:55<00:49,  4.49s/it]"
     ]
    },
    {
     "name": "stdout",
     "output_type": "stream",
     "text": [
      "('max mins', -0.9451426207355637, 1.0)\n"
     ]
    },
    {
     "name": "stderr",
     "output_type": "stream",
     "text": [
      "\r",
      " 57%|█████▋    | 13/23 [01:00<00:46,  4.63s/it]"
     ]
    },
    {
     "name": "stdout",
     "output_type": "stream",
     "text": [
      "('max mins', -0.9617203121839379, 1.0)\n"
     ]
    },
    {
     "name": "stderr",
     "output_type": "stream",
     "text": [
      "\r",
      " 61%|██████    | 14/23 [01:06<00:43,  4.78s/it]"
     ]
    },
    {
     "name": "stdout",
     "output_type": "stream",
     "text": [
      "('max mins', -0.9837532490329566, 1.0)\n"
     ]
    },
    {
     "name": "stderr",
     "output_type": "stream",
     "text": [
      "\r",
      " 65%|██████▌   | 15/23 [01:11<00:39,  4.89s/it]"
     ]
    },
    {
     "name": "stdout",
     "output_type": "stream",
     "text": [
      "('max mins', -0.9615598038589722, 1.0)\n"
     ]
    },
    {
     "name": "stderr",
     "output_type": "stream",
     "text": [
      "\r",
      " 70%|██████▉   | 16/23 [01:15<00:33,  4.72s/it]"
     ]
    },
    {
     "name": "stdout",
     "output_type": "stream",
     "text": [
      "('max mins', -0.9963540111630391, 1.0)\n"
     ]
    },
    {
     "name": "stderr",
     "output_type": "stream",
     "text": [
      "\r",
      " 74%|███████▍  | 17/23 [01:19<00:27,  4.61s/it]"
     ]
    },
    {
     "name": "stdout",
     "output_type": "stream",
     "text": [
      "('max mins', -1.0, 0.9887857234341407)\n"
     ]
    },
    {
     "name": "stderr",
     "output_type": "stream",
     "text": [
      "\r",
      " 78%|███████▊  | 18/23 [01:24<00:22,  4.53s/it]"
     ]
    },
    {
     "name": "stdout",
     "output_type": "stream",
     "text": [
      "('max mins', -1.0, 0.9453077658223246)\n"
     ]
    },
    {
     "name": "stderr",
     "output_type": "stream",
     "text": [
      "\r",
      " 83%|████████▎ | 19/23 [01:28<00:17,  4.47s/it]"
     ]
    },
    {
     "name": "stdout",
     "output_type": "stream",
     "text": [
      "('max mins', -1.0, 0.9696416970600548)\n"
     ]
    },
    {
     "name": "stderr",
     "output_type": "stream",
     "text": [
      "\r",
      " 87%|████████▋ | 20/23 [01:32<00:13,  4.43s/it]"
     ]
    },
    {
     "name": "stdout",
     "output_type": "stream",
     "text": [
      "('max mins', -0.9206378346384267, 1.0)\n"
     ]
    },
    {
     "name": "stderr",
     "output_type": "stream",
     "text": [
      "\r",
      " 91%|█████████▏| 21/23 [01:37<00:08,  4.41s/it]"
     ]
    },
    {
     "name": "stdout",
     "output_type": "stream",
     "text": [
      "('max mins', -0.9634479508648188, 1.0)\n"
     ]
    },
    {
     "name": "stderr",
     "output_type": "stream",
     "text": [
      "\r",
      " 96%|█████████▌| 22/23 [01:41<00:04,  4.39s/it]"
     ]
    },
    {
     "name": "stdout",
     "output_type": "stream",
     "text": [
      "('max mins', -0.9410304929219014, 1.0)\n"
     ]
    },
    {
     "name": "stderr",
     "output_type": "stream",
     "text": [
      "100%|██████████| 23/23 [01:45<00:00,  4.38s/it]\n"
     ]
    },
    {
     "name": "stdout",
     "output_type": "stream",
     "text": [
      "('Best file pairs are: ', 'non_spikey_T0000098.WAV*non_spikey_T0000099.WAV')\n",
      "Start and end indices around peak:                  start index: 12683705\t\t          end index: 24183705                  total samples:30015488\n",
      "('AV Sync was above threshold: ', 0.8787866364948665)\n",
      "common_fps/Aditya_annotations/2018-08-19/common_fps_video_syncAditya_2018-08-20_0300-0400_13.csv\n",
      "('video_fps obtained is :', 25)\n",
      "Did not find user-provided sample rate - getting it from first file that matches format!\n",
      "('sampling rate is : ', 250000)\n",
      ".....finding best audio segment.....\n"
     ]
    },
    {
     "name": "stderr",
     "output_type": "stream",
     "text": [
      "\r",
      "  0%|          | 0/23 [00:00<?, ?it/s]"
     ]
    },
    {
     "name": "stdout",
     "output_type": "stream",
     "text": [
      "('max mins for upsampled video', -1.0, 0.638728380634003)\n",
      "('max mins', -0.9948413437389053, 1.0)\n"
     ]
    },
    {
     "name": "stderr",
     "output_type": "stream",
     "text": [
      "\r",
      "  4%|▍         | 1/23 [00:04<01:39,  4.54s/it]"
     ]
    },
    {
     "name": "stdout",
     "output_type": "stream",
     "text": [
      "('max mins', -1.0, 0.9715677166831985)\n"
     ]
    },
    {
     "name": "stderr",
     "output_type": "stream",
     "text": [
      "\r",
      "  9%|▊         | 2/23 [00:08<01:34,  4.49s/it]"
     ]
    },
    {
     "name": "stdout",
     "output_type": "stream",
     "text": [
      "('max mins', -1.0, 0.9695486417782936)\n"
     ]
    },
    {
     "name": "stderr",
     "output_type": "stream",
     "text": [
      "\r",
      " 13%|█▎        | 3/23 [00:13<01:28,  4.45s/it]"
     ]
    },
    {
     "name": "stdout",
     "output_type": "stream",
     "text": [
      "('max mins', -1.0, 0.9499969530777875)\n"
     ]
    },
    {
     "name": "stderr",
     "output_type": "stream",
     "text": [
      "\r",
      " 17%|█▋        | 4/23 [00:17<01:23,  4.41s/it]"
     ]
    },
    {
     "name": "stdout",
     "output_type": "stream",
     "text": [
      "('max mins', -1.0, 0.9746472961620164)\n"
     ]
    },
    {
     "name": "stderr",
     "output_type": "stream",
     "text": [
      "\r",
      " 22%|██▏       | 5/23 [00:21<01:18,  4.39s/it]"
     ]
    },
    {
     "name": "stdout",
     "output_type": "stream",
     "text": [
      "('max mins', -0.9694428020840912, 1.0)\n"
     ]
    },
    {
     "name": "stderr",
     "output_type": "stream",
     "text": [
      "\r",
      " 26%|██▌       | 6/23 [00:26<01:14,  4.37s/it]"
     ]
    },
    {
     "name": "stdout",
     "output_type": "stream",
     "text": [
      "('max mins', -1.0, 0.986671678438572)\n"
     ]
    },
    {
     "name": "stderr",
     "output_type": "stream",
     "text": [
      "\r",
      " 30%|███       | 7/23 [00:30<01:09,  4.36s/it]"
     ]
    },
    {
     "name": "stdout",
     "output_type": "stream",
     "text": [
      "('max mins', -1.0, 0.9799961304452885)\n"
     ]
    },
    {
     "name": "stderr",
     "output_type": "stream",
     "text": [
      "\r",
      " 35%|███▍      | 8/23 [00:34<01:05,  4.35s/it]"
     ]
    },
    {
     "name": "stdout",
     "output_type": "stream",
     "text": [
      "('max mins', -0.9433253572934795, 1.0)\n"
     ]
    },
    {
     "name": "stderr",
     "output_type": "stream",
     "text": [
      "\r",
      " 39%|███▉      | 9/23 [00:39<01:00,  4.35s/it]"
     ]
    },
    {
     "name": "stdout",
     "output_type": "stream",
     "text": [
      "('max mins', -0.9394159942519527, 1.0)\n"
     ]
    },
    {
     "name": "stderr",
     "output_type": "stream",
     "text": [
      "\r",
      " 43%|████▎     | 10/23 [00:43<00:56,  4.34s/it]"
     ]
    },
    {
     "name": "stdout",
     "output_type": "stream",
     "text": [
      "('max mins', -0.9802683633999575, 1.0)\n"
     ]
    },
    {
     "name": "stderr",
     "output_type": "stream",
     "text": [
      "\r",
      " 48%|████▊     | 11/23 [00:47<00:52,  4.34s/it]"
     ]
    },
    {
     "name": "stdout",
     "output_type": "stream",
     "text": [
      "('max mins', -0.9827055924599887, 1.0)\n"
     ]
    },
    {
     "name": "stderr",
     "output_type": "stream",
     "text": [
      "\r",
      " 52%|█████▏    | 12/23 [00:52<00:47,  4.34s/it]"
     ]
    },
    {
     "name": "stdout",
     "output_type": "stream",
     "text": [
      "('max mins', -0.9451426207355637, 1.0)\n"
     ]
    },
    {
     "name": "stderr",
     "output_type": "stream",
     "text": [
      "\r",
      " 57%|█████▋    | 13/23 [00:56<00:43,  4.34s/it]"
     ]
    },
    {
     "name": "stdout",
     "output_type": "stream",
     "text": [
      "('max mins', -0.9617203121839379, 1.0)\n"
     ]
    },
    {
     "name": "stderr",
     "output_type": "stream",
     "text": [
      "\r",
      " 61%|██████    | 14/23 [01:00<00:39,  4.35s/it]"
     ]
    },
    {
     "name": "stdout",
     "output_type": "stream",
     "text": [
      "('max mins', -0.9837532490329566, 1.0)\n"
     ]
    },
    {
     "name": "stderr",
     "output_type": "stream",
     "text": [
      "\r",
      " 65%|██████▌   | 15/23 [01:05<00:34,  4.34s/it]"
     ]
    },
    {
     "name": "stdout",
     "output_type": "stream",
     "text": [
      "('max mins', -0.9615598038589722, 1.0)\n"
     ]
    },
    {
     "name": "stderr",
     "output_type": "stream",
     "text": [
      "\r",
      " 70%|██████▉   | 16/23 [01:09<00:30,  4.34s/it]"
     ]
    },
    {
     "name": "stdout",
     "output_type": "stream",
     "text": [
      "('max mins', -0.9963540111630391, 1.0)\n"
     ]
    },
    {
     "name": "stderr",
     "output_type": "stream",
     "text": [
      "\r",
      " 74%|███████▍  | 17/23 [01:13<00:26,  4.34s/it]"
     ]
    },
    {
     "name": "stdout",
     "output_type": "stream",
     "text": [
      "('max mins', -1.0, 0.9887857234341407)\n"
     ]
    },
    {
     "name": "stderr",
     "output_type": "stream",
     "text": [
      "\r",
      " 78%|███████▊  | 18/23 [01:18<00:21,  4.34s/it]"
     ]
    },
    {
     "name": "stdout",
     "output_type": "stream",
     "text": [
      "('max mins', -1.0, 0.9453077658223246)\n"
     ]
    },
    {
     "name": "stderr",
     "output_type": "stream",
     "text": [
      "\r",
      " 83%|████████▎ | 19/23 [01:22<00:17,  4.34s/it]"
     ]
    },
    {
     "name": "stdout",
     "output_type": "stream",
     "text": [
      "('max mins', -1.0, 0.9696416970600548)\n"
     ]
    },
    {
     "name": "stderr",
     "output_type": "stream",
     "text": [
      "\r",
      " 87%|████████▋ | 20/23 [01:27<00:13,  4.34s/it]"
     ]
    },
    {
     "name": "stdout",
     "output_type": "stream",
     "text": [
      "('max mins', -0.9206378346384267, 1.0)\n"
     ]
    },
    {
     "name": "stderr",
     "output_type": "stream",
     "text": [
      "\r",
      " 91%|█████████▏| 21/23 [01:31<00:08,  4.34s/it]"
     ]
    },
    {
     "name": "stdout",
     "output_type": "stream",
     "text": [
      "('max mins', -0.9634479508648188, 1.0)\n"
     ]
    },
    {
     "name": "stderr",
     "output_type": "stream",
     "text": [
      "\r",
      " 96%|█████████▌| 22/23 [01:35<00:04,  4.36s/it]"
     ]
    },
    {
     "name": "stdout",
     "output_type": "stream",
     "text": [
      "('max mins', -0.9410304929219014, 1.0)\n"
     ]
    },
    {
     "name": "stderr",
     "output_type": "stream",
     "text": [
      "100%|██████████| 23/23 [01:40<00:00,  4.35s/it]\n"
     ]
    },
    {
     "name": "stdout",
     "output_type": "stream",
     "text": [
      "('Best file pairs are: ', 'non_spikey_T0000100.WAV*non_spikey_T0000101.WAV')\n",
      "Start and end indices around peak:                  start index: 15667605\t\t          end index: 27167605                  total samples:30015488\n",
      "('AV Sync was above threshold: ', 0.8815136886891806)\n",
      "common_fps/Aditya_annotations/2018-08-19/common_fps_video_syncAditya_2018-08-20_0300-0400_14.csv\n",
      "('video_fps obtained is :', 25)\n",
      "Did not find user-provided sample rate - getting it from first file that matches format!\n",
      "('sampling rate is : ', 250000)\n",
      ".....finding best audio segment.....\n"
     ]
    },
    {
     "name": "stderr",
     "output_type": "stream",
     "text": [
      "\r",
      "  0%|          | 0/23 [00:00<?, ?it/s]"
     ]
    },
    {
     "name": "stdout",
     "output_type": "stream",
     "text": [
      "('max mins for upsampled video', -1.0, 0.638728380634003)\n",
      "('max mins', -0.9948413437389053, 1.0)\n"
     ]
    },
    {
     "name": "stderr",
     "output_type": "stream",
     "text": [
      "\r",
      "  4%|▍         | 1/23 [00:04<01:35,  4.36s/it]"
     ]
    },
    {
     "name": "stdout",
     "output_type": "stream",
     "text": [
      "('max mins', -1.0, 0.9715677166831985)\n"
     ]
    },
    {
     "name": "stderr",
     "output_type": "stream",
     "text": [
      "\r",
      "  9%|▊         | 2/23 [00:08<01:31,  4.36s/it]"
     ]
    },
    {
     "name": "stdout",
     "output_type": "stream",
     "text": [
      "('max mins', -1.0, 0.9695486417782936)\n"
     ]
    },
    {
     "name": "stderr",
     "output_type": "stream",
     "text": [
      "\r",
      " 13%|█▎        | 3/23 [00:13<01:27,  4.35s/it]"
     ]
    },
    {
     "name": "stdout",
     "output_type": "stream",
     "text": [
      "('max mins', -1.0, 0.9499969530777875)\n"
     ]
    },
    {
     "name": "stderr",
     "output_type": "stream",
     "text": [
      "\r",
      " 17%|█▋        | 4/23 [00:17<01:22,  4.34s/it]"
     ]
    },
    {
     "name": "stdout",
     "output_type": "stream",
     "text": [
      "('max mins', -1.0, 0.9746472961620164)\n"
     ]
    },
    {
     "name": "stderr",
     "output_type": "stream",
     "text": [
      "\r",
      " 22%|██▏       | 5/23 [00:21<01:19,  4.41s/it]"
     ]
    },
    {
     "name": "stdout",
     "output_type": "stream",
     "text": [
      "('max mins', -0.9694428020840912, 1.0)\n"
     ]
    },
    {
     "name": "stderr",
     "output_type": "stream",
     "text": [
      "\r",
      " 26%|██▌       | 6/23 [00:26<01:14,  4.40s/it]"
     ]
    },
    {
     "name": "stdout",
     "output_type": "stream",
     "text": [
      "('max mins', -1.0, 0.986671678438572)\n"
     ]
    },
    {
     "name": "stderr",
     "output_type": "stream",
     "text": [
      "\r",
      " 30%|███       | 7/23 [00:30<01:10,  4.38s/it]"
     ]
    },
    {
     "name": "stdout",
     "output_type": "stream",
     "text": [
      "('max mins', -1.0, 0.9799961304452885)\n"
     ]
    },
    {
     "name": "stderr",
     "output_type": "stream",
     "text": [
      "\r",
      " 35%|███▍      | 8/23 [00:34<01:05,  4.36s/it]"
     ]
    },
    {
     "name": "stdout",
     "output_type": "stream",
     "text": [
      "('max mins', -0.9433253572934795, 1.0)\n"
     ]
    },
    {
     "name": "stderr",
     "output_type": "stream",
     "text": [
      "\r",
      " 39%|███▉      | 9/23 [00:39<01:01,  4.36s/it]"
     ]
    },
    {
     "name": "stdout",
     "output_type": "stream",
     "text": [
      "('max mins', -0.9394159942519527, 1.0)\n"
     ]
    },
    {
     "name": "stderr",
     "output_type": "stream",
     "text": [
      "\r",
      " 43%|████▎     | 10/23 [00:43<00:56,  4.35s/it]"
     ]
    },
    {
     "name": "stdout",
     "output_type": "stream",
     "text": [
      "('max mins', -0.9802683633999575, 1.0)\n"
     ]
    },
    {
     "name": "stderr",
     "output_type": "stream",
     "text": [
      "\r",
      " 48%|████▊     | 11/23 [00:48<00:52,  4.35s/it]"
     ]
    },
    {
     "name": "stdout",
     "output_type": "stream",
     "text": [
      "('max mins', -0.9827055924599887, 1.0)\n"
     ]
    },
    {
     "name": "stderr",
     "output_type": "stream",
     "text": [
      "\r",
      " 52%|█████▏    | 12/23 [00:52<00:47,  4.35s/it]"
     ]
    },
    {
     "name": "stdout",
     "output_type": "stream",
     "text": [
      "('max mins', -0.9451426207355637, 1.0)\n"
     ]
    },
    {
     "name": "stderr",
     "output_type": "stream",
     "text": [
      "\r",
      " 57%|█████▋    | 13/23 [00:56<00:43,  4.36s/it]"
     ]
    },
    {
     "name": "stdout",
     "output_type": "stream",
     "text": [
      "('max mins', -0.9617203121839379, 1.0)\n"
     ]
    },
    {
     "name": "stderr",
     "output_type": "stream",
     "text": [
      "\r",
      " 61%|██████    | 14/23 [01:01<00:39,  4.36s/it]"
     ]
    },
    {
     "name": "stdout",
     "output_type": "stream",
     "text": [
      "('max mins', -0.9837532490329566, 1.0)\n"
     ]
    },
    {
     "name": "stderr",
     "output_type": "stream",
     "text": [
      "\r",
      " 65%|██████▌   | 15/23 [01:05<00:34,  4.35s/it]"
     ]
    },
    {
     "name": "stdout",
     "output_type": "stream",
     "text": [
      "('max mins', -0.9615598038589722, 1.0)\n"
     ]
    },
    {
     "name": "stderr",
     "output_type": "stream",
     "text": [
      "\r",
      " 70%|██████▉   | 16/23 [01:09<00:30,  4.35s/it]"
     ]
    },
    {
     "name": "stdout",
     "output_type": "stream",
     "text": [
      "('max mins', -0.9963540111630391, 1.0)\n"
     ]
    },
    {
     "name": "stderr",
     "output_type": "stream",
     "text": [
      "\r",
      " 74%|███████▍  | 17/23 [01:14<00:26,  4.35s/it]"
     ]
    },
    {
     "name": "stdout",
     "output_type": "stream",
     "text": [
      "('max mins', -1.0, 0.9887857234341407)\n"
     ]
    },
    {
     "name": "stderr",
     "output_type": "stream",
     "text": [
      "\r",
      " 78%|███████▊  | 18/23 [01:18<00:21,  4.34s/it]"
     ]
    },
    {
     "name": "stdout",
     "output_type": "stream",
     "text": [
      "('max mins', -1.0, 0.9453077658223246)\n"
     ]
    },
    {
     "name": "stderr",
     "output_type": "stream",
     "text": [
      "\r",
      " 83%|████████▎ | 19/23 [01:22<00:17,  4.34s/it]"
     ]
    },
    {
     "name": "stdout",
     "output_type": "stream",
     "text": [
      "('max mins', -1.0, 0.9696416970600548)\n"
     ]
    },
    {
     "name": "stderr",
     "output_type": "stream",
     "text": [
      "\r",
      " 87%|████████▋ | 20/23 [01:27<00:13,  4.34s/it]"
     ]
    },
    {
     "name": "stdout",
     "output_type": "stream",
     "text": [
      "('max mins', -0.9206378346384267, 1.0)\n"
     ]
    },
    {
     "name": "stderr",
     "output_type": "stream",
     "text": [
      "\r",
      " 91%|█████████▏| 21/23 [01:31<00:08,  4.34s/it]"
     ]
    },
    {
     "name": "stdout",
     "output_type": "stream",
     "text": [
      "('max mins', -0.9634479508648188, 1.0)\n"
     ]
    },
    {
     "name": "stderr",
     "output_type": "stream",
     "text": [
      "\r",
      " 96%|█████████▌| 22/23 [01:35<00:04,  4.33s/it]"
     ]
    },
    {
     "name": "stdout",
     "output_type": "stream",
     "text": [
      "('max mins', -0.9410304929219014, 1.0)\n"
     ]
    },
    {
     "name": "stderr",
     "output_type": "stream",
     "text": [
      "100%|██████████| 23/23 [01:40<00:00,  4.35s/it]\n"
     ]
    },
    {
     "name": "stdout",
     "output_type": "stream",
     "text": [
      "('Best file pairs are: ', 'non_spikey_T0000100.WAV*non_spikey_T0000101.WAV')\n",
      "Start and end indices around peak:                  start index: 15667605\t\t          end index: 27167605                  total samples:30015488\n",
      "('AV Sync was above threshold: ', 0.8815136886891806)\n",
      "common_fps/Aditya_annotations/2018-08-19/common_fps_video_syncAditya_2018-08-20_0300-0400_16.csv\n",
      "('video_fps obtained is :', 25)\n",
      "Did not find user-provided sample rate - getting it from first file that matches format!\n",
      "('sampling rate is : ', 250000)\n",
      ".....finding best audio segment.....\n"
     ]
    },
    {
     "name": "stderr",
     "output_type": "stream",
     "text": [
      "\r",
      "  0%|          | 0/23 [00:00<?, ?it/s]"
     ]
    },
    {
     "name": "stdout",
     "output_type": "stream",
     "text": [
      "('max mins for upsampled video', -0.7992968652133796, 1.0)\n",
      "('max mins', -0.9948413437389053, 1.0)\n"
     ]
    },
    {
     "name": "stderr",
     "output_type": "stream",
     "text": [
      "\r",
      "  4%|▍         | 1/23 [00:04<01:35,  4.35s/it]"
     ]
    },
    {
     "name": "stdout",
     "output_type": "stream",
     "text": [
      "('max mins', -1.0, 0.9715677166831985)\n"
     ]
    },
    {
     "name": "stderr",
     "output_type": "stream",
     "text": [
      "\r",
      "  9%|▊         | 2/23 [00:08<01:31,  4.35s/it]"
     ]
    },
    {
     "name": "stdout",
     "output_type": "stream",
     "text": [
      "('max mins', -1.0, 0.9695486417782936)\n"
     ]
    },
    {
     "name": "stderr",
     "output_type": "stream",
     "text": [
      "\r",
      " 13%|█▎        | 3/23 [00:13<01:26,  4.35s/it]"
     ]
    },
    {
     "name": "stdout",
     "output_type": "stream",
     "text": [
      "('max mins', -1.0, 0.9499969530777875)\n"
     ]
    },
    {
     "name": "stderr",
     "output_type": "stream",
     "text": [
      "\r",
      " 17%|█▋        | 4/23 [00:17<01:22,  4.35s/it]"
     ]
    },
    {
     "name": "stdout",
     "output_type": "stream",
     "text": [
      "('max mins', -1.0, 0.9746472961620164)\n"
     ]
    },
    {
     "name": "stderr",
     "output_type": "stream",
     "text": [
      "\r",
      " 22%|██▏       | 5/23 [00:21<01:18,  4.34s/it]"
     ]
    },
    {
     "name": "stdout",
     "output_type": "stream",
     "text": [
      "('max mins', -0.9694428020840912, 1.0)\n"
     ]
    },
    {
     "name": "stderr",
     "output_type": "stream",
     "text": [
      "\r",
      " 26%|██▌       | 6/23 [00:26<01:14,  4.35s/it]"
     ]
    },
    {
     "name": "stdout",
     "output_type": "stream",
     "text": [
      "('max mins', -1.0, 0.986671678438572)\n"
     ]
    },
    {
     "name": "stderr",
     "output_type": "stream",
     "text": [
      "\r",
      " 30%|███       | 7/23 [00:30<01:09,  4.35s/it]"
     ]
    },
    {
     "name": "stdout",
     "output_type": "stream",
     "text": [
      "('max mins', -1.0, 0.9799961304452885)\n"
     ]
    },
    {
     "name": "stderr",
     "output_type": "stream",
     "text": [
      "\r",
      " 35%|███▍      | 8/23 [00:34<01:05,  4.35s/it]"
     ]
    },
    {
     "name": "stdout",
     "output_type": "stream",
     "text": [
      "('max mins', -0.9433253572934795, 1.0)\n"
     ]
    },
    {
     "name": "stderr",
     "output_type": "stream",
     "text": [
      "\r",
      " 39%|███▉      | 9/23 [00:39<01:01,  4.40s/it]"
     ]
    },
    {
     "name": "stdout",
     "output_type": "stream",
     "text": [
      "('max mins', -0.9394159942519527, 1.0)\n"
     ]
    },
    {
     "name": "stderr",
     "output_type": "stream",
     "text": [
      "\r",
      " 43%|████▎     | 10/23 [00:43<00:56,  4.38s/it]"
     ]
    },
    {
     "name": "stdout",
     "output_type": "stream",
     "text": [
      "('max mins', -0.9802683633999575, 1.0)\n"
     ]
    },
    {
     "name": "stderr",
     "output_type": "stream",
     "text": [
      "\r",
      " 48%|████▊     | 11/23 [00:47<00:52,  4.37s/it]"
     ]
    },
    {
     "name": "stdout",
     "output_type": "stream",
     "text": [
      "('max mins', -0.9827055924599887, 1.0)\n"
     ]
    },
    {
     "name": "stderr",
     "output_type": "stream",
     "text": [
      "\r",
      " 52%|█████▏    | 12/23 [00:52<00:47,  4.36s/it]"
     ]
    },
    {
     "name": "stdout",
     "output_type": "stream",
     "text": [
      "('max mins', -0.9451426207355637, 1.0)\n"
     ]
    },
    {
     "name": "stderr",
     "output_type": "stream",
     "text": [
      "\r",
      " 57%|█████▋    | 13/23 [00:56<00:43,  4.35s/it]"
     ]
    },
    {
     "name": "stdout",
     "output_type": "stream",
     "text": [
      "('max mins', -0.9617203121839379, 1.0)\n"
     ]
    },
    {
     "name": "stderr",
     "output_type": "stream",
     "text": [
      "\r",
      " 61%|██████    | 14/23 [01:01<00:39,  4.35s/it]"
     ]
    },
    {
     "name": "stdout",
     "output_type": "stream",
     "text": [
      "('max mins', -0.9837532490329566, 1.0)\n"
     ]
    },
    {
     "name": "stderr",
     "output_type": "stream",
     "text": [
      "\r",
      " 65%|██████▌   | 15/23 [01:05<00:34,  4.35s/it]"
     ]
    },
    {
     "name": "stdout",
     "output_type": "stream",
     "text": [
      "('max mins', -0.9615598038589722, 1.0)\n"
     ]
    },
    {
     "name": "stderr",
     "output_type": "stream",
     "text": [
      "\r",
      " 70%|██████▉   | 16/23 [01:09<00:30,  4.35s/it]"
     ]
    },
    {
     "name": "stdout",
     "output_type": "stream",
     "text": [
      "('max mins', -0.9963540111630391, 1.0)\n"
     ]
    },
    {
     "name": "stderr",
     "output_type": "stream",
     "text": [
      "\r",
      " 74%|███████▍  | 17/23 [01:14<00:26,  4.35s/it]"
     ]
    },
    {
     "name": "stdout",
     "output_type": "stream",
     "text": [
      "('max mins', -1.0, 0.9887857234341407)\n"
     ]
    },
    {
     "name": "stderr",
     "output_type": "stream",
     "text": [
      "\r",
      " 78%|███████▊  | 18/23 [01:18<00:21,  4.35s/it]"
     ]
    },
    {
     "name": "stdout",
     "output_type": "stream",
     "text": [
      "('max mins', -1.0, 0.9453077658223246)\n"
     ]
    },
    {
     "name": "stderr",
     "output_type": "stream",
     "text": [
      "\r",
      " 83%|████████▎ | 19/23 [01:22<00:17,  4.35s/it]"
     ]
    },
    {
     "name": "stdout",
     "output_type": "stream",
     "text": [
      "('max mins', -1.0, 0.9696416970600548)\n"
     ]
    },
    {
     "name": "stderr",
     "output_type": "stream",
     "text": [
      "\r",
      " 87%|████████▋ | 20/23 [01:27<00:13,  4.36s/it]"
     ]
    },
    {
     "name": "stdout",
     "output_type": "stream",
     "text": [
      "('max mins', -0.9206378346384267, 1.0)\n"
     ]
    },
    {
     "name": "stderr",
     "output_type": "stream",
     "text": [
      "\r",
      " 91%|█████████▏| 21/23 [01:31<00:08,  4.35s/it]"
     ]
    },
    {
     "name": "stdout",
     "output_type": "stream",
     "text": [
      "('max mins', -0.9634479508648188, 1.0)\n"
     ]
    },
    {
     "name": "stderr",
     "output_type": "stream",
     "text": [
      "\r",
      " 96%|█████████▌| 22/23 [01:35<00:04,  4.35s/it]"
     ]
    },
    {
     "name": "stdout",
     "output_type": "stream",
     "text": [
      "('max mins', -0.9410304929219014, 1.0)\n"
     ]
    },
    {
     "name": "stderr",
     "output_type": "stream",
     "text": [
      "100%|██████████| 23/23 [01:40<00:00,  4.34s/it]\n"
     ]
    },
    {
     "name": "stdout",
     "output_type": "stream",
     "text": [
      "('Best file pairs are: ', 'non_spikey_T0000101.WAV*non_spikey_T0000102.WAV')\n",
      "Start and end indices around peak:                  start index: 4407325\t\t          end index: 15907325                  total samples:30015488\n",
      "('AV Sync was above threshold: ', 0.8546924866026101)\n",
      "common_fps/Aditya_annotations/2018-08-19/common_fps_video_syncAditya_2018-08-20_0300-0400_18.csv\n",
      "('video_fps obtained is :', 25)\n",
      "Did not find user-provided sample rate - getting it from first file that matches format!\n",
      "('sampling rate is : ', 250000)\n",
      ".....finding best audio segment.....\n"
     ]
    },
    {
     "name": "stderr",
     "output_type": "stream",
     "text": [
      "\r",
      "  0%|          | 0/23 [00:00<?, ?it/s]"
     ]
    },
    {
     "name": "stdout",
     "output_type": "stream",
     "text": [
      "('max mins for upsampled video', -0.7919547140650546, 1.0)\n",
      "('max mins', -0.9948413437389053, 1.0)\n"
     ]
    },
    {
     "name": "stderr",
     "output_type": "stream",
     "text": [
      "\r",
      "  4%|▍         | 1/23 [00:04<01:35,  4.33s/it]"
     ]
    },
    {
     "name": "stdout",
     "output_type": "stream",
     "text": [
      "('max mins', -1.0, 0.9715677166831985)\n"
     ]
    },
    {
     "name": "stderr",
     "output_type": "stream",
     "text": [
      "\r",
      "  9%|▊         | 2/23 [00:08<01:32,  4.39s/it]"
     ]
    },
    {
     "name": "stdout",
     "output_type": "stream",
     "text": [
      "('max mins', -1.0, 0.9695486417782936)\n"
     ]
    },
    {
     "name": "stderr",
     "output_type": "stream",
     "text": [
      "\r",
      " 13%|█▎        | 3/23 [00:13<01:27,  4.38s/it]"
     ]
    },
    {
     "name": "stdout",
     "output_type": "stream",
     "text": [
      "('max mins', -1.0, 0.9499969530777875)\n"
     ]
    },
    {
     "name": "stderr",
     "output_type": "stream",
     "text": [
      "\r",
      " 17%|█▋        | 4/23 [00:17<01:23,  4.37s/it]"
     ]
    },
    {
     "name": "stdout",
     "output_type": "stream",
     "text": [
      "('max mins', -1.0, 0.9746472961620164)\n"
     ]
    },
    {
     "name": "stderr",
     "output_type": "stream",
     "text": [
      "\r",
      " 22%|██▏       | 5/23 [00:21<01:18,  4.36s/it]"
     ]
    },
    {
     "name": "stdout",
     "output_type": "stream",
     "text": [
      "('max mins', -0.9694428020840912, 1.0)\n"
     ]
    },
    {
     "name": "stderr",
     "output_type": "stream",
     "text": [
      "\r",
      " 26%|██▌       | 6/23 [00:26<01:13,  4.35s/it]"
     ]
    },
    {
     "name": "stdout",
     "output_type": "stream",
     "text": [
      "('max mins', -1.0, 0.986671678438572)\n"
     ]
    },
    {
     "name": "stderr",
     "output_type": "stream",
     "text": [
      "\r",
      " 30%|███       | 7/23 [00:30<01:09,  4.35s/it]"
     ]
    },
    {
     "name": "stdout",
     "output_type": "stream",
     "text": [
      "('max mins', -1.0, 0.9799961304452885)\n"
     ]
    },
    {
     "name": "stderr",
     "output_type": "stream",
     "text": [
      "\r",
      " 35%|███▍      | 8/23 [00:34<01:05,  4.34s/it]"
     ]
    },
    {
     "name": "stdout",
     "output_type": "stream",
     "text": [
      "('max mins', -0.9433253572934795, 1.0)\n"
     ]
    },
    {
     "name": "stderr",
     "output_type": "stream",
     "text": [
      "\r",
      " 39%|███▉      | 9/23 [00:39<01:00,  4.34s/it]"
     ]
    },
    {
     "name": "stdout",
     "output_type": "stream",
     "text": [
      "('max mins', -0.9394159942519527, 1.0)\n"
     ]
    },
    {
     "name": "stderr",
     "output_type": "stream",
     "text": [
      "\r",
      " 43%|████▎     | 10/23 [00:43<00:56,  4.34s/it]"
     ]
    },
    {
     "name": "stdout",
     "output_type": "stream",
     "text": [
      "('max mins', -0.9802683633999575, 1.0)\n"
     ]
    },
    {
     "name": "stderr",
     "output_type": "stream",
     "text": [
      "\r",
      " 48%|████▊     | 11/23 [00:47<00:52,  4.34s/it]"
     ]
    },
    {
     "name": "stdout",
     "output_type": "stream",
     "text": [
      "('max mins', -0.9827055924599887, 1.0)\n"
     ]
    },
    {
     "name": "stderr",
     "output_type": "stream",
     "text": [
      "\r",
      " 52%|█████▏    | 12/23 [00:52<00:48,  4.37s/it]"
     ]
    },
    {
     "name": "stdout",
     "output_type": "stream",
     "text": [
      "('max mins', -0.9451426207355637, 1.0)\n"
     ]
    },
    {
     "name": "stderr",
     "output_type": "stream",
     "text": [
      "\r",
      " 57%|█████▋    | 13/23 [00:56<00:44,  4.42s/it]"
     ]
    },
    {
     "name": "stdout",
     "output_type": "stream",
     "text": [
      "('max mins', -0.9617203121839379, 1.0)\n"
     ]
    },
    {
     "name": "stderr",
     "output_type": "stream",
     "text": [
      "\r",
      " 61%|██████    | 14/23 [01:01<00:39,  4.40s/it]"
     ]
    },
    {
     "name": "stdout",
     "output_type": "stream",
     "text": [
      "('max mins', -0.9837532490329566, 1.0)\n"
     ]
    },
    {
     "name": "stderr",
     "output_type": "stream",
     "text": [
      "\r",
      " 65%|██████▌   | 15/23 [01:05<00:35,  4.38s/it]"
     ]
    },
    {
     "name": "stdout",
     "output_type": "stream",
     "text": [
      "('max mins', -0.9615598038589722, 1.0)\n"
     ]
    },
    {
     "name": "stderr",
     "output_type": "stream",
     "text": [
      "\r",
      " 70%|██████▉   | 16/23 [01:09<00:30,  4.36s/it]"
     ]
    },
    {
     "name": "stdout",
     "output_type": "stream",
     "text": [
      "('max mins', -0.9963540111630391, 1.0)\n"
     ]
    },
    {
     "name": "stderr",
     "output_type": "stream",
     "text": [
      "\r",
      " 74%|███████▍  | 17/23 [01:14<00:26,  4.36s/it]"
     ]
    },
    {
     "name": "stdout",
     "output_type": "stream",
     "text": [
      "('max mins', -1.0, 0.9887857234341407)\n"
     ]
    },
    {
     "name": "stderr",
     "output_type": "stream",
     "text": [
      "\r",
      " 78%|███████▊  | 18/23 [01:18<00:21,  4.35s/it]"
     ]
    },
    {
     "name": "stdout",
     "output_type": "stream",
     "text": [
      "('max mins', -1.0, 0.9453077658223246)\n"
     ]
    },
    {
     "name": "stderr",
     "output_type": "stream",
     "text": [
      "\r",
      " 83%|████████▎ | 19/23 [01:22<00:17,  4.35s/it]"
     ]
    },
    {
     "name": "stdout",
     "output_type": "stream",
     "text": [
      "('max mins', -1.0, 0.9696416970600548)\n"
     ]
    },
    {
     "name": "stderr",
     "output_type": "stream",
     "text": [
      "\r",
      " 87%|████████▋ | 20/23 [01:27<00:13,  4.34s/it]"
     ]
    },
    {
     "name": "stdout",
     "output_type": "stream",
     "text": [
      "('max mins', -0.9206378346384267, 1.0)\n"
     ]
    },
    {
     "name": "stderr",
     "output_type": "stream",
     "text": [
      "\r",
      " 91%|█████████▏| 21/23 [01:31<00:08,  4.34s/it]"
     ]
    },
    {
     "name": "stdout",
     "output_type": "stream",
     "text": [
      "('max mins', -0.9634479508648188, 1.0)\n"
     ]
    },
    {
     "name": "stderr",
     "output_type": "stream",
     "text": [
      "\r",
      " 96%|█████████▌| 22/23 [01:35<00:04,  4.34s/it]"
     ]
    },
    {
     "name": "stdout",
     "output_type": "stream",
     "text": [
      "('max mins', -0.9410304929219014, 1.0)\n"
     ]
    },
    {
     "name": "stderr",
     "output_type": "stream",
     "text": [
      "100%|██████████| 23/23 [01:40<00:00,  4.34s/it]\n"
     ]
    },
    {
     "name": "stdout",
     "output_type": "stream",
     "text": [
      "('Best file pairs are: ', 'non_spikey_T0000103.WAV*non_spikey_T0000104.WAV')\n",
      "Start and end indices around peak:                  start index: 578456\t\t          end index: 12078456                  total samples:30015488\n",
      "('AV Sync was above threshold: ', 0.79954416259385)\n",
      "common_fps/Aditya_annotations/2018-08-19/common_fps_video_syncAditya_2018-08-20_0300-0400_19.csv\n",
      "('video_fps obtained is :', 25)\n",
      "Did not find user-provided sample rate - getting it from first file that matches format!\n",
      "('sampling rate is : ', 250000)\n",
      ".....finding best audio segment.....\n"
     ]
    },
    {
     "name": "stderr",
     "output_type": "stream",
     "text": [
      "\r",
      "  0%|          | 0/23 [00:00<?, ?it/s]"
     ]
    },
    {
     "name": "stdout",
     "output_type": "stream",
     "text": [
      "('max mins for upsampled video', -0.8712812973983718, 1.0)\n",
      "('max mins', -0.9948413437389053, 1.0)\n"
     ]
    },
    {
     "name": "stderr",
     "output_type": "stream",
     "text": [
      "\r",
      "  4%|▍         | 1/23 [00:04<01:35,  4.35s/it]"
     ]
    },
    {
     "name": "stdout",
     "output_type": "stream",
     "text": [
      "('max mins', -1.0, 0.9715677166831985)\n"
     ]
    },
    {
     "name": "stderr",
     "output_type": "stream",
     "text": [
      "\r",
      "  9%|▊         | 2/23 [00:08<01:31,  4.35s/it]"
     ]
    },
    {
     "name": "stdout",
     "output_type": "stream",
     "text": [
      "('max mins', -1.0, 0.9695486417782936)\n"
     ]
    },
    {
     "name": "stderr",
     "output_type": "stream",
     "text": [
      "\r",
      " 13%|█▎        | 3/23 [00:13<01:26,  4.35s/it]"
     ]
    },
    {
     "name": "stdout",
     "output_type": "stream",
     "text": [
      "('max mins', -1.0, 0.9499969530777875)\n"
     ]
    },
    {
     "name": "stderr",
     "output_type": "stream",
     "text": [
      "\r",
      " 17%|█▋        | 4/23 [00:17<01:22,  4.34s/it]"
     ]
    },
    {
     "name": "stdout",
     "output_type": "stream",
     "text": [
      "('max mins', -1.0, 0.9746472961620164)\n"
     ]
    },
    {
     "name": "stderr",
     "output_type": "stream",
     "text": [
      "\r",
      " 22%|██▏       | 5/23 [00:21<01:18,  4.34s/it]"
     ]
    },
    {
     "name": "stdout",
     "output_type": "stream",
     "text": [
      "('max mins', -0.9694428020840912, 1.0)\n"
     ]
    },
    {
     "name": "stderr",
     "output_type": "stream",
     "text": [
      "\r",
      " 26%|██▌       | 6/23 [00:26<01:13,  4.33s/it]"
     ]
    },
    {
     "name": "stdout",
     "output_type": "stream",
     "text": [
      "('max mins', -1.0, 0.986671678438572)\n"
     ]
    },
    {
     "name": "stderr",
     "output_type": "stream",
     "text": [
      "\r",
      " 30%|███       | 7/23 [00:30<01:09,  4.33s/it]"
     ]
    },
    {
     "name": "stdout",
     "output_type": "stream",
     "text": [
      "('max mins', -1.0, 0.9799961304452885)\n"
     ]
    },
    {
     "name": "stderr",
     "output_type": "stream",
     "text": [
      "\r",
      " 35%|███▍      | 8/23 [00:34<01:05,  4.33s/it]"
     ]
    },
    {
     "name": "stdout",
     "output_type": "stream",
     "text": [
      "('max mins', -0.9433253572934795, 1.0)\n"
     ]
    },
    {
     "name": "stderr",
     "output_type": "stream",
     "text": [
      "\r",
      " 39%|███▉      | 9/23 [00:39<01:00,  4.33s/it]"
     ]
    },
    {
     "name": "stdout",
     "output_type": "stream",
     "text": [
      "('max mins', -0.9394159942519527, 1.0)\n"
     ]
    },
    {
     "name": "stderr",
     "output_type": "stream",
     "text": [
      "\r",
      " 43%|████▎     | 10/23 [00:43<00:56,  4.33s/it]"
     ]
    },
    {
     "name": "stdout",
     "output_type": "stream",
     "text": [
      "('max mins', -0.9802683633999575, 1.0)\n"
     ]
    },
    {
     "name": "stderr",
     "output_type": "stream",
     "text": [
      "\r",
      " 48%|████▊     | 11/23 [00:47<00:51,  4.33s/it]"
     ]
    },
    {
     "name": "stdout",
     "output_type": "stream",
     "text": [
      "('max mins', -0.9827055924599887, 1.0)\n"
     ]
    },
    {
     "name": "stderr",
     "output_type": "stream",
     "text": [
      "\r",
      " 52%|█████▏    | 12/23 [00:52<00:47,  4.33s/it]"
     ]
    },
    {
     "name": "stdout",
     "output_type": "stream",
     "text": [
      "('max mins', -0.9451426207355637, 1.0)\n"
     ]
    },
    {
     "name": "stderr",
     "output_type": "stream",
     "text": [
      "\r",
      " 57%|█████▋    | 13/23 [00:56<00:43,  4.35s/it]"
     ]
    },
    {
     "name": "stdout",
     "output_type": "stream",
     "text": [
      "('max mins', -0.9617203121839379, 1.0)\n"
     ]
    },
    {
     "name": "stderr",
     "output_type": "stream",
     "text": [
      "\r",
      " 61%|██████    | 14/23 [01:00<00:39,  4.35s/it]"
     ]
    },
    {
     "name": "stdout",
     "output_type": "stream",
     "text": [
      "('max mins', -0.9837532490329566, 1.0)\n"
     ]
    },
    {
     "name": "stderr",
     "output_type": "stream",
     "text": [
      "\r",
      " 65%|██████▌   | 15/23 [01:05<00:34,  4.34s/it]"
     ]
    },
    {
     "name": "stdout",
     "output_type": "stream",
     "text": [
      "('max mins', -0.9615598038589722, 1.0)\n"
     ]
    },
    {
     "name": "stderr",
     "output_type": "stream",
     "text": [
      "\r",
      " 70%|██████▉   | 16/23 [01:09<00:31,  4.46s/it]"
     ]
    },
    {
     "name": "stdout",
     "output_type": "stream",
     "text": [
      "('max mins', -0.9963540111630391, 1.0)\n"
     ]
    },
    {
     "name": "stderr",
     "output_type": "stream",
     "text": [
      "\r",
      " 74%|███████▍  | 17/23 [01:14<00:26,  4.44s/it]"
     ]
    },
    {
     "name": "stdout",
     "output_type": "stream",
     "text": [
      "('max mins', -1.0, 0.9887857234341407)\n"
     ]
    },
    {
     "name": "stderr",
     "output_type": "stream",
     "text": [
      "\r",
      " 78%|███████▊  | 18/23 [01:18<00:22,  4.40s/it]"
     ]
    },
    {
     "name": "stdout",
     "output_type": "stream",
     "text": [
      "('max mins', -1.0, 0.9453077658223246)\n"
     ]
    },
    {
     "name": "stderr",
     "output_type": "stream",
     "text": [
      "\r",
      " 83%|████████▎ | 19/23 [01:22<00:17,  4.38s/it]"
     ]
    },
    {
     "name": "stdout",
     "output_type": "stream",
     "text": [
      "('max mins', -1.0, 0.9696416970600548)\n"
     ]
    },
    {
     "name": "stderr",
     "output_type": "stream",
     "text": [
      "\r",
      " 87%|████████▋ | 20/23 [01:27<00:13,  4.38s/it]"
     ]
    },
    {
     "name": "stdout",
     "output_type": "stream",
     "text": [
      "('max mins', -0.9206378346384267, 1.0)\n"
     ]
    },
    {
     "name": "stderr",
     "output_type": "stream",
     "text": [
      "\r",
      " 91%|█████████▏| 21/23 [01:31<00:08,  4.36s/it]"
     ]
    },
    {
     "name": "stdout",
     "output_type": "stream",
     "text": [
      "('max mins', -0.9634479508648188, 1.0)\n"
     ]
    },
    {
     "name": "stderr",
     "output_type": "stream",
     "text": [
      "\r",
      " 96%|█████████▌| 22/23 [01:35<00:04,  4.36s/it]"
     ]
    },
    {
     "name": "stdout",
     "output_type": "stream",
     "text": [
      "('max mins', -0.9410304929219014, 1.0)\n"
     ]
    },
    {
     "name": "stderr",
     "output_type": "stream",
     "text": [
      "100%|██████████| 23/23 [01:40<00:00,  4.35s/it]\n"
     ]
    },
    {
     "name": "stdout",
     "output_type": "stream",
     "text": [
      "('Best file pairs are: ', 'non_spikey_T0000103.WAV*non_spikey_T0000104.WAV')\n",
      "Start and end indices around peak:                  start index: 15519859\t\t          end index: 27019859                  total samples:30015488\n",
      "('AV Sync was above threshold: ', 0.6246394510508625)\n",
      "common_fps/Aditya_annotations/2018-08-19/common_fps_video_syncAditya_2018-08-20_0300-0400_23.csv\n",
      "('video_fps obtained is :', 25)\n",
      "Did not find user-provided sample rate - getting it from first file that matches format!\n",
      "('sampling rate is : ', 250000)\n",
      ".....finding best audio segment.....\n"
     ]
    },
    {
     "name": "stderr",
     "output_type": "stream",
     "text": [
      "\r",
      "  0%|          | 0/23 [00:00<?, ?it/s]"
     ]
    },
    {
     "name": "stdout",
     "output_type": "stream",
     "text": [
      "('max mins for upsampled video', -1.0, 0.9912674860271056)\n",
      "('max mins', -0.9948413437389053, 1.0)\n"
     ]
    },
    {
     "name": "stderr",
     "output_type": "stream",
     "text": [
      "\r",
      "  4%|▍         | 1/23 [00:04<01:36,  4.41s/it]"
     ]
    },
    {
     "name": "stdout",
     "output_type": "stream",
     "text": [
      "('max mins', -1.0, 0.9715677166831985)\n"
     ]
    },
    {
     "name": "stderr",
     "output_type": "stream",
     "text": [
      "\r",
      "  9%|▊         | 2/23 [00:08<01:32,  4.39s/it]"
     ]
    },
    {
     "name": "stdout",
     "output_type": "stream",
     "text": [
      "('max mins', -1.0, 0.9695486417782936)\n"
     ]
    },
    {
     "name": "stderr",
     "output_type": "stream",
     "text": [
      "\r",
      " 13%|█▎        | 3/23 [00:13<01:27,  4.38s/it]"
     ]
    },
    {
     "name": "stdout",
     "output_type": "stream",
     "text": [
      "('max mins', -1.0, 0.9499969530777875)\n"
     ]
    },
    {
     "name": "stderr",
     "output_type": "stream",
     "text": [
      "\r",
      " 17%|█▋        | 4/23 [00:17<01:23,  4.37s/it]"
     ]
    },
    {
     "name": "stdout",
     "output_type": "stream",
     "text": [
      "('max mins', -1.0, 0.9746472961620164)\n"
     ]
    },
    {
     "name": "stderr",
     "output_type": "stream",
     "text": [
      "\r",
      " 22%|██▏       | 5/23 [00:21<01:18,  4.36s/it]"
     ]
    },
    {
     "name": "stdout",
     "output_type": "stream",
     "text": [
      "('max mins', -0.9694428020840912, 1.0)\n"
     ]
    },
    {
     "name": "stderr",
     "output_type": "stream",
     "text": [
      "\r",
      " 26%|██▌       | 6/23 [00:26<01:13,  4.35s/it]"
     ]
    },
    {
     "name": "stdout",
     "output_type": "stream",
     "text": [
      "('max mins', -1.0, 0.986671678438572)\n"
     ]
    },
    {
     "name": "stderr",
     "output_type": "stream",
     "text": [
      "\r",
      " 30%|███       | 7/23 [00:30<01:09,  4.34s/it]"
     ]
    },
    {
     "name": "stdout",
     "output_type": "stream",
     "text": [
      "('max mins', -1.0, 0.9799961304452885)\n"
     ]
    },
    {
     "name": "stderr",
     "output_type": "stream",
     "text": [
      "\r",
      " 35%|███▍      | 8/23 [00:34<01:05,  4.34s/it]"
     ]
    },
    {
     "name": "stdout",
     "output_type": "stream",
     "text": [
      "('max mins', -0.9433253572934795, 1.0)\n"
     ]
    },
    {
     "name": "stderr",
     "output_type": "stream",
     "text": [
      "\r",
      " 39%|███▉      | 9/23 [00:39<01:00,  4.33s/it]"
     ]
    },
    {
     "name": "stdout",
     "output_type": "stream",
     "text": [
      "('max mins', -0.9394159942519527, 1.0)\n"
     ]
    },
    {
     "name": "stderr",
     "output_type": "stream",
     "text": [
      "\r",
      " 43%|████▎     | 10/23 [00:43<00:56,  4.33s/it]"
     ]
    },
    {
     "name": "stdout",
     "output_type": "stream",
     "text": [
      "('max mins', -0.9802683633999575, 1.0)\n"
     ]
    },
    {
     "name": "stderr",
     "output_type": "stream",
     "text": [
      "\r",
      " 48%|████▊     | 11/23 [00:47<00:51,  4.33s/it]"
     ]
    },
    {
     "name": "stdout",
     "output_type": "stream",
     "text": [
      "('max mins', -0.9827055924599887, 1.0)\n"
     ]
    },
    {
     "name": "stderr",
     "output_type": "stream",
     "text": [
      "\r",
      " 52%|█████▏    | 12/23 [00:52<00:47,  4.33s/it]"
     ]
    },
    {
     "name": "stdout",
     "output_type": "stream",
     "text": [
      "('max mins', -0.9451426207355637, 1.0)\n"
     ]
    },
    {
     "name": "stderr",
     "output_type": "stream",
     "text": [
      "\r",
      " 57%|█████▋    | 13/23 [00:56<00:43,  4.33s/it]"
     ]
    },
    {
     "name": "stdout",
     "output_type": "stream",
     "text": [
      "('max mins', -0.9617203121839379, 1.0)\n"
     ]
    },
    {
     "name": "stderr",
     "output_type": "stream",
     "text": [
      "\r",
      " 61%|██████    | 14/23 [01:00<00:38,  4.33s/it]"
     ]
    },
    {
     "name": "stdout",
     "output_type": "stream",
     "text": [
      "('max mins', -0.9837532490329566, 1.0)\n"
     ]
    },
    {
     "name": "stderr",
     "output_type": "stream",
     "text": [
      "\r",
      " 65%|██████▌   | 15/23 [01:05<00:34,  4.33s/it]"
     ]
    },
    {
     "name": "stdout",
     "output_type": "stream",
     "text": [
      "('max mins', -0.9615598038589722, 1.0)\n"
     ]
    },
    {
     "name": "stderr",
     "output_type": "stream",
     "text": [
      "\r",
      " 70%|██████▉   | 16/23 [01:09<00:30,  4.33s/it]"
     ]
    },
    {
     "name": "stdout",
     "output_type": "stream",
     "text": [
      "('max mins', -0.9963540111630391, 1.0)\n"
     ]
    },
    {
     "name": "stderr",
     "output_type": "stream",
     "text": [
      "\r",
      " 74%|███████▍  | 17/23 [01:13<00:25,  4.33s/it]"
     ]
    },
    {
     "name": "stdout",
     "output_type": "stream",
     "text": [
      "('max mins', -1.0, 0.9887857234341407)\n"
     ]
    },
    {
     "name": "stderr",
     "output_type": "stream",
     "text": [
      "\r",
      " 78%|███████▊  | 18/23 [01:18<00:21,  4.33s/it]"
     ]
    },
    {
     "name": "stdout",
     "output_type": "stream",
     "text": [
      "('max mins', -1.0, 0.9453077658223246)\n"
     ]
    },
    {
     "name": "stderr",
     "output_type": "stream",
     "text": [
      "\r",
      " 83%|████████▎ | 19/23 [01:22<00:17,  4.33s/it]"
     ]
    },
    {
     "name": "stdout",
     "output_type": "stream",
     "text": [
      "('max mins', -1.0, 0.9696416970600548)\n"
     ]
    },
    {
     "name": "stderr",
     "output_type": "stream",
     "text": [
      "\r",
      " 87%|████████▋ | 20/23 [01:27<00:13,  4.44s/it]"
     ]
    },
    {
     "name": "stdout",
     "output_type": "stream",
     "text": [
      "('max mins', -0.9206378346384267, 1.0)\n"
     ]
    },
    {
     "name": "stderr",
     "output_type": "stream",
     "text": [
      "\r",
      " 91%|█████████▏| 21/23 [01:31<00:08,  4.41s/it]"
     ]
    },
    {
     "name": "stdout",
     "output_type": "stream",
     "text": [
      "('max mins', -0.9634479508648188, 1.0)\n"
     ]
    },
    {
     "name": "stderr",
     "output_type": "stream",
     "text": [
      "\r",
      " 96%|█████████▌| 22/23 [01:35<00:04,  4.39s/it]"
     ]
    },
    {
     "name": "stdout",
     "output_type": "stream",
     "text": [
      "('max mins', -0.9410304929219014, 1.0)\n"
     ]
    },
    {
     "name": "stderr",
     "output_type": "stream",
     "text": [
      "100%|██████████| 23/23 [01:40<00:00,  4.37s/it]\n"
     ]
    },
    {
     "name": "stdout",
     "output_type": "stream",
     "text": [
      "('Best file pairs are: ', 'non_spikey_T0000106.WAV*non_spikey_T0000107.WAV')\n",
      "Start and end indices around peak:                  start index: 9463187\t\t          end index: 20963187                  total samples:30015488\n",
      "('AV Sync was above threshold: ', 0.8715150530182226)\n",
      "common_fps/Aditya_annotations/2018-08-19/common_fps_video_syncAditya_2018-08-20_0300-0400_24.csv\n",
      "('video_fps obtained is :', 25)\n",
      "Did not find user-provided sample rate - getting it from first file that matches format!\n",
      "('sampling rate is : ', 250000)\n",
      ".....finding best audio segment.....\n"
     ]
    },
    {
     "name": "stderr",
     "output_type": "stream",
     "text": [
      "\r",
      "  0%|          | 0/23 [00:00<?, ?it/s]"
     ]
    },
    {
     "name": "stdout",
     "output_type": "stream",
     "text": [
      "('max mins for upsampled video', -1.0, 0.9896230031841726)\n",
      "('max mins', -0.9948413437389053, 1.0)\n"
     ]
    },
    {
     "name": "stderr",
     "output_type": "stream",
     "text": [
      "\r",
      "  4%|▍         | 1/23 [00:04<01:35,  4.35s/it]"
     ]
    },
    {
     "name": "stdout",
     "output_type": "stream",
     "text": [
      "('max mins', -1.0, 0.9715677166831985)\n"
     ]
    },
    {
     "name": "stderr",
     "output_type": "stream",
     "text": [
      "\r",
      "  9%|▊         | 2/23 [00:08<01:31,  4.36s/it]"
     ]
    },
    {
     "name": "stdout",
     "output_type": "stream",
     "text": [
      "('max mins', -1.0, 0.9695486417782936)\n"
     ]
    },
    {
     "name": "stderr",
     "output_type": "stream",
     "text": [
      "\r",
      " 13%|█▎        | 3/23 [00:13<01:27,  4.36s/it]"
     ]
    },
    {
     "name": "stdout",
     "output_type": "stream",
     "text": [
      "('max mins', -1.0, 0.9499969530777875)\n"
     ]
    },
    {
     "name": "stderr",
     "output_type": "stream",
     "text": [
      "\r",
      " 17%|█▋        | 4/23 [00:17<01:22,  4.35s/it]"
     ]
    },
    {
     "name": "stdout",
     "output_type": "stream",
     "text": [
      "('max mins', -1.0, 0.9746472961620164)\n"
     ]
    },
    {
     "name": "stderr",
     "output_type": "stream",
     "text": [
      "\r",
      " 22%|██▏       | 5/23 [00:22<01:20,  4.45s/it]"
     ]
    },
    {
     "name": "stdout",
     "output_type": "stream",
     "text": [
      "('max mins', -0.9694428020840912, 1.0)\n"
     ]
    },
    {
     "name": "stderr",
     "output_type": "stream",
     "text": [
      "\r",
      " 26%|██▌       | 6/23 [00:26<01:14,  4.41s/it]"
     ]
    },
    {
     "name": "stdout",
     "output_type": "stream",
     "text": [
      "('max mins', -1.0, 0.986671678438572)\n"
     ]
    },
    {
     "name": "stderr",
     "output_type": "stream",
     "text": [
      "\r",
      " 30%|███       | 7/23 [00:30<01:10,  4.39s/it]"
     ]
    },
    {
     "name": "stdout",
     "output_type": "stream",
     "text": [
      "('max mins', -1.0, 0.9799961304452885)\n"
     ]
    },
    {
     "name": "stderr",
     "output_type": "stream",
     "text": [
      "\r",
      " 35%|███▍      | 8/23 [00:35<01:05,  4.37s/it]"
     ]
    },
    {
     "name": "stdout",
     "output_type": "stream",
     "text": [
      "('max mins', -0.9433253572934795, 1.0)\n"
     ]
    },
    {
     "name": "stderr",
     "output_type": "stream",
     "text": [
      "\r",
      " 39%|███▉      | 9/23 [00:39<01:00,  4.35s/it]"
     ]
    },
    {
     "name": "stdout",
     "output_type": "stream",
     "text": [
      "('max mins', -0.9394159942519527, 1.0)\n"
     ]
    },
    {
     "name": "stderr",
     "output_type": "stream",
     "text": [
      "\r",
      " 43%|████▎     | 10/23 [00:43<00:56,  4.34s/it]"
     ]
    },
    {
     "name": "stdout",
     "output_type": "stream",
     "text": [
      "('max mins', -0.9802683633999575, 1.0)\n"
     ]
    },
    {
     "name": "stderr",
     "output_type": "stream",
     "text": [
      "\r",
      " 48%|████▊     | 11/23 [00:48<00:52,  4.33s/it]"
     ]
    },
    {
     "name": "stdout",
     "output_type": "stream",
     "text": [
      "('max mins', -0.9827055924599887, 1.0)\n"
     ]
    },
    {
     "name": "stderr",
     "output_type": "stream",
     "text": [
      "\r",
      " 52%|█████▏    | 12/23 [00:52<00:47,  4.33s/it]"
     ]
    },
    {
     "name": "stdout",
     "output_type": "stream",
     "text": [
      "('max mins', -0.9451426207355637, 1.0)\n"
     ]
    },
    {
     "name": "stderr",
     "output_type": "stream",
     "text": [
      "\r",
      " 57%|█████▋    | 13/23 [00:56<00:43,  4.33s/it]"
     ]
    },
    {
     "name": "stdout",
     "output_type": "stream",
     "text": [
      "('max mins', -0.9617203121839379, 1.0)\n"
     ]
    },
    {
     "name": "stderr",
     "output_type": "stream",
     "text": [
      "\r",
      " 61%|██████    | 14/23 [01:00<00:38,  4.33s/it]"
     ]
    },
    {
     "name": "stdout",
     "output_type": "stream",
     "text": [
      "('max mins', -0.9837532490329566, 1.0)\n"
     ]
    },
    {
     "name": "stderr",
     "output_type": "stream",
     "text": [
      "\r",
      " 65%|██████▌   | 15/23 [01:05<00:34,  4.33s/it]"
     ]
    },
    {
     "name": "stdout",
     "output_type": "stream",
     "text": [
      "('max mins', -0.9615598038589722, 1.0)\n"
     ]
    },
    {
     "name": "stderr",
     "output_type": "stream",
     "text": [
      "\r",
      " 70%|██████▉   | 16/23 [01:09<00:30,  4.32s/it]"
     ]
    },
    {
     "name": "stdout",
     "output_type": "stream",
     "text": [
      "('max mins', -0.9963540111630391, 1.0)\n"
     ]
    },
    {
     "name": "stderr",
     "output_type": "stream",
     "text": [
      "\r",
      " 74%|███████▍  | 17/23 [01:13<00:25,  4.32s/it]"
     ]
    },
    {
     "name": "stdout",
     "output_type": "stream",
     "text": [
      "('max mins', -1.0, 0.9887857234341407)\n"
     ]
    },
    {
     "name": "stderr",
     "output_type": "stream",
     "text": [
      "\r",
      " 78%|███████▊  | 18/23 [01:18<00:21,  4.32s/it]"
     ]
    },
    {
     "name": "stdout",
     "output_type": "stream",
     "text": [
      "('max mins', -1.0, 0.9453077658223246)\n"
     ]
    },
    {
     "name": "stderr",
     "output_type": "stream",
     "text": [
      "\r",
      " 83%|████████▎ | 19/23 [01:22<00:17,  4.32s/it]"
     ]
    },
    {
     "name": "stdout",
     "output_type": "stream",
     "text": [
      "('max mins', -1.0, 0.9696416970600548)\n"
     ]
    },
    {
     "name": "stderr",
     "output_type": "stream",
     "text": [
      "\r",
      " 87%|████████▋ | 20/23 [01:26<00:12,  4.32s/it]"
     ]
    },
    {
     "name": "stdout",
     "output_type": "stream",
     "text": [
      "('max mins', -0.9206378346384267, 1.0)\n"
     ]
    },
    {
     "name": "stderr",
     "output_type": "stream",
     "text": [
      "\r",
      " 91%|█████████▏| 21/23 [01:31<00:08,  4.32s/it]"
     ]
    },
    {
     "name": "stdout",
     "output_type": "stream",
     "text": [
      "('max mins', -0.9634479508648188, 1.0)\n"
     ]
    },
    {
     "name": "stderr",
     "output_type": "stream",
     "text": [
      "\r",
      " 96%|█████████▌| 22/23 [01:35<00:04,  4.33s/it]"
     ]
    },
    {
     "name": "stdout",
     "output_type": "stream",
     "text": [
      "('max mins', -0.9410304929219014, 1.0)\n"
     ]
    },
    {
     "name": "stderr",
     "output_type": "stream",
     "text": [
      "100%|██████████| 23/23 [01:39<00:00,  4.32s/it]\n"
     ]
    },
    {
     "name": "stdout",
     "output_type": "stream",
     "text": [
      "('Best file pairs are: ', 'non_spikey_T0000106.WAV*non_spikey_T0000107.WAV')\n",
      "Start and end indices around peak:                  start index: 11213934\t\t          end index: 22713934                  total samples:30015488\n",
      "('AV Sync was above threshold: ', 0.8784381608762548)\n",
      "common_fps/Aditya_annotations/2018-08-19/common_fps_video_syncAditya_2018-08-20_0300-0400_25.csv\n",
      "('video_fps obtained is :', 25)\n",
      "Did not find user-provided sample rate - getting it from first file that matches format!\n",
      "('sampling rate is : ', 250000)\n",
      ".....finding best audio segment.....\n"
     ]
    },
    {
     "name": "stderr",
     "output_type": "stream",
     "text": [
      "\r",
      "  0%|          | 0/23 [00:00<?, ?it/s]"
     ]
    },
    {
     "name": "stdout",
     "output_type": "stream",
     "text": [
      "('max mins for upsampled video', -0.8570686060744818, 1.0)\n",
      "('max mins', -0.9948413437389053, 1.0)\n"
     ]
    },
    {
     "name": "stderr",
     "output_type": "stream",
     "text": [
      "\r",
      "  4%|▍         | 1/23 [00:04<01:35,  4.36s/it]"
     ]
    },
    {
     "name": "stdout",
     "output_type": "stream",
     "text": [
      "('max mins', -1.0, 0.9715677166831985)\n"
     ]
    },
    {
     "name": "stderr",
     "output_type": "stream",
     "text": [
      "\r",
      "  9%|▊         | 2/23 [00:08<01:31,  4.36s/it]"
     ]
    },
    {
     "name": "stdout",
     "output_type": "stream",
     "text": [
      "('max mins', -1.0, 0.9695486417782936)\n"
     ]
    },
    {
     "name": "stderr",
     "output_type": "stream",
     "text": [
      "\r",
      " 13%|█▎        | 3/23 [00:13<01:27,  4.35s/it]"
     ]
    },
    {
     "name": "stdout",
     "output_type": "stream",
     "text": [
      "('max mins', -1.0, 0.9499969530777875)\n"
     ]
    },
    {
     "name": "stderr",
     "output_type": "stream",
     "text": [
      "\r",
      " 17%|█▋        | 4/23 [00:17<01:22,  4.35s/it]"
     ]
    },
    {
     "name": "stdout",
     "output_type": "stream",
     "text": [
      "('max mins', -1.0, 0.9746472961620164)\n"
     ]
    },
    {
     "name": "stderr",
     "output_type": "stream",
     "text": [
      "\r",
      " 22%|██▏       | 5/23 [00:21<01:18,  4.34s/it]"
     ]
    },
    {
     "name": "stdout",
     "output_type": "stream",
     "text": [
      "('max mins', -0.9694428020840912, 1.0)\n"
     ]
    },
    {
     "name": "stderr",
     "output_type": "stream",
     "text": [
      "\r",
      " 26%|██▌       | 6/23 [00:26<01:13,  4.34s/it]"
     ]
    },
    {
     "name": "stdout",
     "output_type": "stream",
     "text": [
      "('max mins', -1.0, 0.986671678438572)\n"
     ]
    },
    {
     "name": "stderr",
     "output_type": "stream",
     "text": [
      "\r",
      " 30%|███       | 7/23 [00:30<01:09,  4.34s/it]"
     ]
    },
    {
     "name": "stdout",
     "output_type": "stream",
     "text": [
      "('max mins', -1.0, 0.9799961304452885)\n"
     ]
    },
    {
     "name": "stderr",
     "output_type": "stream",
     "text": [
      "\r",
      " 35%|███▍      | 8/23 [00:34<01:05,  4.33s/it]"
     ]
    },
    {
     "name": "stdout",
     "output_type": "stream",
     "text": [
      "('max mins', -0.9433253572934795, 1.0)\n"
     ]
    },
    {
     "name": "stderr",
     "output_type": "stream",
     "text": [
      "\r",
      " 39%|███▉      | 9/23 [00:39<01:00,  4.33s/it]"
     ]
    },
    {
     "name": "stdout",
     "output_type": "stream",
     "text": [
      "('max mins', -0.9394159942519527, 1.0)\n"
     ]
    },
    {
     "name": "stderr",
     "output_type": "stream",
     "text": [
      "\r",
      " 43%|████▎     | 10/23 [00:43<00:56,  4.33s/it]"
     ]
    },
    {
     "name": "stdout",
     "output_type": "stream",
     "text": [
      "('max mins', -0.9802683633999575, 1.0)\n"
     ]
    },
    {
     "name": "stderr",
     "output_type": "stream",
     "text": [
      "\r",
      " 48%|████▊     | 11/23 [00:47<00:51,  4.33s/it]"
     ]
    },
    {
     "name": "stdout",
     "output_type": "stream",
     "text": [
      "('max mins', -0.9827055924599887, 1.0)\n"
     ]
    },
    {
     "name": "stderr",
     "output_type": "stream",
     "text": [
      "\r",
      " 52%|█████▏    | 12/23 [00:52<00:47,  4.34s/it]"
     ]
    },
    {
     "name": "stdout",
     "output_type": "stream",
     "text": [
      "('max mins', -0.9451426207355637, 1.0)\n"
     ]
    },
    {
     "name": "stderr",
     "output_type": "stream",
     "text": [
      "\r",
      " 57%|█████▋    | 13/23 [00:56<00:43,  4.34s/it]"
     ]
    },
    {
     "name": "stdout",
     "output_type": "stream",
     "text": [
      "('max mins', -0.9617203121839379, 1.0)\n"
     ]
    },
    {
     "name": "stderr",
     "output_type": "stream",
     "text": [
      "\r",
      " 61%|██████    | 14/23 [01:00<00:39,  4.34s/it]"
     ]
    },
    {
     "name": "stdout",
     "output_type": "stream",
     "text": [
      "('max mins', -0.9837532490329566, 1.0)\n"
     ]
    },
    {
     "name": "stderr",
     "output_type": "stream",
     "text": [
      "\r",
      " 65%|██████▌   | 15/23 [01:05<00:34,  4.33s/it]"
     ]
    },
    {
     "name": "stdout",
     "output_type": "stream",
     "text": [
      "('max mins', -0.9615598038589722, 1.0)\n"
     ]
    },
    {
     "name": "stderr",
     "output_type": "stream",
     "text": [
      "\r",
      " 70%|██████▉   | 16/23 [01:09<00:30,  4.33s/it]"
     ]
    },
    {
     "name": "stdout",
     "output_type": "stream",
     "text": [
      "('max mins', -0.9963540111630391, 1.0)\n"
     ]
    },
    {
     "name": "stderr",
     "output_type": "stream",
     "text": [
      "\r",
      " 74%|███████▍  | 17/23 [01:13<00:25,  4.33s/it]"
     ]
    },
    {
     "name": "stdout",
     "output_type": "stream",
     "text": [
      "('max mins', -1.0, 0.9887857234341407)\n"
     ]
    },
    {
     "name": "stderr",
     "output_type": "stream",
     "text": [
      "\r",
      " 78%|███████▊  | 18/23 [01:18<00:21,  4.35s/it]"
     ]
    },
    {
     "name": "stdout",
     "output_type": "stream",
     "text": [
      "('max mins', -1.0, 0.9453077658223246)\n"
     ]
    },
    {
     "name": "stderr",
     "output_type": "stream",
     "text": [
      "\r",
      " 83%|████████▎ | 19/23 [01:22<00:17,  4.34s/it]"
     ]
    },
    {
     "name": "stdout",
     "output_type": "stream",
     "text": [
      "('max mins', -1.0, 0.9696416970600548)\n"
     ]
    },
    {
     "name": "stderr",
     "output_type": "stream",
     "text": [
      "\r",
      " 87%|████████▋ | 20/23 [01:26<00:13,  4.35s/it]"
     ]
    },
    {
     "name": "stdout",
     "output_type": "stream",
     "text": [
      "('max mins', -0.9206378346384267, 1.0)\n"
     ]
    },
    {
     "name": "stderr",
     "output_type": "stream",
     "text": [
      "\r",
      " 91%|█████████▏| 21/23 [01:31<00:08,  4.34s/it]"
     ]
    },
    {
     "name": "stdout",
     "output_type": "stream",
     "text": [
      "('max mins', -0.9634479508648188, 1.0)\n"
     ]
    },
    {
     "name": "stderr",
     "output_type": "stream",
     "text": [
      "\r",
      " 96%|█████████▌| 22/23 [01:35<00:04,  4.34s/it]"
     ]
    },
    {
     "name": "stdout",
     "output_type": "stream",
     "text": [
      "('max mins', -0.9410304929219014, 1.0)\n"
     ]
    },
    {
     "name": "stderr",
     "output_type": "stream",
     "text": [
      "100%|██████████| 23/23 [01:39<00:00,  4.33s/it]\n"
     ]
    },
    {
     "name": "stdout",
     "output_type": "stream",
     "text": [
      "('Best file pairs are: ', 'non_spikey_T0000108.WAV*non_spikey_T0000109.WAV')\n",
      "Start and end indices around peak:                  start index: 699018\t\t          end index: 12199018                  total samples:30015488\n",
      "('AV Sync was above threshold: ', 0.8786395291646881)\n",
      "common_fps/Aditya_annotations/2018-08-19/common_fps_video_syncAditya_2018-08-20_0300-0400_26.csv\n",
      "('video_fps obtained is :', 25)\n",
      "Did not find user-provided sample rate - getting it from first file that matches format!\n",
      "('sampling rate is : ', 250000)\n",
      ".....finding best audio segment.....\n"
     ]
    },
    {
     "name": "stderr",
     "output_type": "stream",
     "text": [
      "\r",
      "  0%|          | 0/23 [00:00<?, ?it/s]"
     ]
    },
    {
     "name": "stdout",
     "output_type": "stream",
     "text": [
      "('max mins for upsampled video', -0.8362191305710461, 1.0)\n",
      "('max mins', -0.9948413437389053, 1.0)\n"
     ]
    },
    {
     "name": "stderr",
     "output_type": "stream",
     "text": [
      "\r",
      "  4%|▍         | 1/23 [00:04<01:35,  4.35s/it]"
     ]
    },
    {
     "name": "stdout",
     "output_type": "stream",
     "text": [
      "('max mins', -1.0, 0.9715677166831985)\n"
     ]
    },
    {
     "name": "stderr",
     "output_type": "stream",
     "text": [
      "\r",
      "  9%|▊         | 2/23 [00:08<01:31,  4.35s/it]"
     ]
    },
    {
     "name": "stdout",
     "output_type": "stream",
     "text": [
      "('max mins', -1.0, 0.9695486417782936)\n"
     ]
    },
    {
     "name": "stderr",
     "output_type": "stream",
     "text": [
      "\r",
      " 13%|█▎        | 3/23 [00:13<01:27,  4.35s/it]"
     ]
    },
    {
     "name": "stdout",
     "output_type": "stream",
     "text": [
      "('max mins', -1.0, 0.9499969530777875)\n"
     ]
    },
    {
     "name": "stderr",
     "output_type": "stream",
     "text": [
      "\r",
      " 17%|█▋        | 4/23 [00:17<01:24,  4.44s/it]"
     ]
    },
    {
     "name": "stdout",
     "output_type": "stream",
     "text": [
      "('max mins', -1.0, 0.9746472961620164)\n"
     ]
    },
    {
     "name": "stderr",
     "output_type": "stream",
     "text": [
      "\r",
      " 22%|██▏       | 5/23 [00:22<01:19,  4.41s/it]"
     ]
    },
    {
     "name": "stdout",
     "output_type": "stream",
     "text": [
      "('max mins', -0.9694428020840912, 1.0)\n"
     ]
    },
    {
     "name": "stderr",
     "output_type": "stream",
     "text": [
      "\r",
      " 26%|██▌       | 6/23 [00:26<01:14,  4.39s/it]"
     ]
    },
    {
     "name": "stdout",
     "output_type": "stream",
     "text": [
      "('max mins', -1.0, 0.986671678438572)\n"
     ]
    },
    {
     "name": "stderr",
     "output_type": "stream",
     "text": [
      "\r",
      " 30%|███       | 7/23 [00:30<01:09,  4.37s/it]"
     ]
    },
    {
     "name": "stdout",
     "output_type": "stream",
     "text": [
      "('max mins', -1.0, 0.9799961304452885)\n"
     ]
    },
    {
     "name": "stderr",
     "output_type": "stream",
     "text": [
      "\r",
      " 35%|███▍      | 8/23 [00:35<01:05,  4.36s/it]"
     ]
    },
    {
     "name": "stdout",
     "output_type": "stream",
     "text": [
      "('max mins', -0.9433253572934795, 1.0)\n"
     ]
    },
    {
     "name": "stderr",
     "output_type": "stream",
     "text": [
      "\r",
      " 39%|███▉      | 9/23 [00:39<01:00,  4.36s/it]"
     ]
    },
    {
     "name": "stdout",
     "output_type": "stream",
     "text": [
      "('max mins', -0.9394159942519527, 1.0)\n"
     ]
    },
    {
     "name": "stderr",
     "output_type": "stream",
     "text": [
      "\r",
      " 43%|████▎     | 10/23 [00:43<00:56,  4.35s/it]"
     ]
    },
    {
     "name": "stdout",
     "output_type": "stream",
     "text": [
      "('max mins', -0.9802683633999575, 1.0)\n"
     ]
    },
    {
     "name": "stderr",
     "output_type": "stream",
     "text": [
      "\r",
      " 48%|████▊     | 11/23 [00:48<00:52,  4.35s/it]"
     ]
    },
    {
     "name": "stdout",
     "output_type": "stream",
     "text": [
      "('max mins', -0.9827055924599887, 1.0)\n"
     ]
    },
    {
     "name": "stderr",
     "output_type": "stream",
     "text": [
      "\r",
      " 52%|█████▏    | 12/23 [00:52<00:47,  4.34s/it]"
     ]
    },
    {
     "name": "stdout",
     "output_type": "stream",
     "text": [
      "('max mins', -0.9451426207355637, 1.0)\n"
     ]
    },
    {
     "name": "stderr",
     "output_type": "stream",
     "text": [
      "\r",
      " 57%|█████▋    | 13/23 [00:56<00:43,  4.33s/it]"
     ]
    },
    {
     "name": "stdout",
     "output_type": "stream",
     "text": [
      "('max mins', -0.9617203121839379, 1.0)\n"
     ]
    },
    {
     "name": "stderr",
     "output_type": "stream",
     "text": [
      "\r",
      " 61%|██████    | 14/23 [01:01<00:39,  4.34s/it]"
     ]
    },
    {
     "name": "stdout",
     "output_type": "stream",
     "text": [
      "('max mins', -0.9837532490329566, 1.0)\n"
     ]
    },
    {
     "name": "stderr",
     "output_type": "stream",
     "text": [
      "\r",
      " 65%|██████▌   | 15/23 [01:05<00:34,  4.34s/it]"
     ]
    },
    {
     "name": "stdout",
     "output_type": "stream",
     "text": [
      "('max mins', -0.9615598038589722, 1.0)\n"
     ]
    },
    {
     "name": "stderr",
     "output_type": "stream",
     "text": [
      "\r",
      " 70%|██████▉   | 16/23 [01:09<00:30,  4.34s/it]"
     ]
    },
    {
     "name": "stdout",
     "output_type": "stream",
     "text": [
      "('max mins', -0.9963540111630391, 1.0)\n"
     ]
    },
    {
     "name": "stderr",
     "output_type": "stream",
     "text": [
      "\r",
      " 74%|███████▍  | 17/23 [01:14<00:26,  4.34s/it]"
     ]
    },
    {
     "name": "stdout",
     "output_type": "stream",
     "text": [
      "('max mins', -1.0, 0.9887857234341407)\n"
     ]
    },
    {
     "name": "stderr",
     "output_type": "stream",
     "text": [
      "\r",
      " 78%|███████▊  | 18/23 [01:18<00:21,  4.34s/it]"
     ]
    },
    {
     "name": "stdout",
     "output_type": "stream",
     "text": [
      "('max mins', -1.0, 0.9453077658223246)\n"
     ]
    },
    {
     "name": "stderr",
     "output_type": "stream",
     "text": [
      "\r",
      " 83%|████████▎ | 19/23 [01:22<00:17,  4.34s/it]"
     ]
    },
    {
     "name": "stdout",
     "output_type": "stream",
     "text": [
      "('max mins', -1.0, 0.9696416970600548)\n"
     ]
    },
    {
     "name": "stderr",
     "output_type": "stream",
     "text": [
      "\r",
      " 87%|████████▋ | 20/23 [01:27<00:13,  4.34s/it]"
     ]
    },
    {
     "name": "stdout",
     "output_type": "stream",
     "text": [
      "('max mins', -0.9206378346384267, 1.0)\n"
     ]
    },
    {
     "name": "stderr",
     "output_type": "stream",
     "text": [
      "\r",
      " 91%|█████████▏| 21/23 [01:31<00:08,  4.34s/it]"
     ]
    },
    {
     "name": "stdout",
     "output_type": "stream",
     "text": [
      "('max mins', -0.9634479508648188, 1.0)\n"
     ]
    },
    {
     "name": "stderr",
     "output_type": "stream",
     "text": [
      "\r",
      " 96%|█████████▌| 22/23 [01:35<00:04,  4.34s/it]"
     ]
    },
    {
     "name": "stdout",
     "output_type": "stream",
     "text": [
      "('max mins', -0.9410304929219014, 1.0)\n"
     ]
    },
    {
     "name": "stderr",
     "output_type": "stream",
     "text": [
      "100%|██████████| 23/23 [01:40<00:00,  4.34s/it]\n"
     ]
    },
    {
     "name": "stdout",
     "output_type": "stream",
     "text": [
      "('Best file pairs are: ', 'non_spikey_T0000108.WAV*non_spikey_T0000109.WAV')\n",
      "Start and end indices around peak:                  start index: 2199764\t\t          end index: 13699764                  total samples:30015488\n",
      "('AV Sync was above threshold: ', 0.8773563801770963)\n",
      "common_fps/Aditya_annotations/2018-08-19/common_fps_video_syncAditya_2018-08-20_0300-0400_27.csv\n",
      "('video_fps obtained is :', 25)\n",
      "Did not find user-provided sample rate - getting it from first file that matches format!\n",
      "('sampling rate is : ', 250000)\n",
      ".....finding best audio segment.....\n"
     ]
    },
    {
     "name": "stderr",
     "output_type": "stream",
     "text": [
      "\r",
      "  0%|          | 0/20 [00:00<?, ?it/s]"
     ]
    },
    {
     "name": "stdout",
     "output_type": "stream",
     "text": [
      "('max mins for upsampled video', -1.0, 0.9096073982702478)\n",
      "('max mins', -0.9617203121839379, 1.0)\n"
     ]
    },
    {
     "name": "stderr",
     "output_type": "stream",
     "text": [
      "\r",
      "  5%|▌         | 1/20 [00:04<01:22,  4.35s/it]"
     ]
    },
    {
     "name": "stdout",
     "output_type": "stream",
     "text": [
      "('max mins', -0.9837532490329566, 1.0)\n"
     ]
    },
    {
     "name": "stderr",
     "output_type": "stream",
     "text": [
      "\r",
      " 10%|█         | 2/20 [00:08<01:18,  4.35s/it]"
     ]
    },
    {
     "name": "stdout",
     "output_type": "stream",
     "text": [
      "('max mins', -0.9615598038589722, 1.0)\n"
     ]
    },
    {
     "name": "stderr",
     "output_type": "stream",
     "text": [
      "\r",
      " 15%|█▌        | 3/20 [00:13<01:13,  4.35s/it]"
     ]
    },
    {
     "name": "stdout",
     "output_type": "stream",
     "text": [
      "('max mins', -0.9963540111630391, 1.0)\n"
     ]
    },
    {
     "name": "stderr",
     "output_type": "stream",
     "text": [
      "\r",
      " 20%|██        | 4/20 [00:17<01:09,  4.35s/it]"
     ]
    },
    {
     "name": "stdout",
     "output_type": "stream",
     "text": [
      "('max mins', -1.0, 0.9887857234341407)\n"
     ]
    },
    {
     "name": "stderr",
     "output_type": "stream",
     "text": [
      "\r",
      " 25%|██▌       | 5/20 [00:21<01:05,  4.35s/it]"
     ]
    },
    {
     "name": "stdout",
     "output_type": "stream",
     "text": [
      "('max mins', -1.0, 0.9453077658223246)\n"
     ]
    },
    {
     "name": "stderr",
     "output_type": "stream",
     "text": [
      "\r",
      " 30%|███       | 6/20 [00:26<01:00,  4.35s/it]"
     ]
    },
    {
     "name": "stdout",
     "output_type": "stream",
     "text": [
      "('max mins', -1.0, 0.9696416970600548)\n"
     ]
    },
    {
     "name": "stderr",
     "output_type": "stream",
     "text": [
      "\r",
      " 35%|███▌      | 7/20 [00:30<00:56,  4.35s/it]"
     ]
    },
    {
     "name": "stdout",
     "output_type": "stream",
     "text": [
      "('max mins', -0.9206378346384267, 1.0)\n"
     ]
    },
    {
     "name": "stderr",
     "output_type": "stream",
     "text": [
      "\r",
      " 40%|████      | 8/20 [00:34<00:52,  4.37s/it]"
     ]
    },
    {
     "name": "stdout",
     "output_type": "stream",
     "text": [
      "('max mins', -0.9634479508648188, 1.0)\n"
     ]
    },
    {
     "name": "stderr",
     "output_type": "stream",
     "text": [
      "\r",
      " 45%|████▌     | 9/20 [00:39<00:48,  4.37s/it]"
     ]
    },
    {
     "name": "stdout",
     "output_type": "stream",
     "text": [
      "('max mins', -0.9410304929219014, 1.0)\n"
     ]
    },
    {
     "name": "stderr",
     "output_type": "stream",
     "text": [
      "\r",
      " 50%|█████     | 10/20 [00:43<00:43,  4.36s/it]"
     ]
    },
    {
     "name": "stdout",
     "output_type": "stream",
     "text": [
      "('max mins', -0.9370308391076005, 1.0)\n"
     ]
    },
    {
     "name": "stderr",
     "output_type": "stream",
     "text": [
      "\r",
      " 55%|█████▌    | 11/20 [00:52<00:52,  5.81s/it]"
     ]
    },
    {
     "name": "stdout",
     "output_type": "stream",
     "text": [
      "('max mins', -1.0, 0.9695695784500635)\n"
     ]
    },
    {
     "name": "stderr",
     "output_type": "stream",
     "text": [
      "\r",
      " 60%|██████    | 12/20 [01:01<00:53,  6.64s/it]"
     ]
    },
    {
     "name": "stdout",
     "output_type": "stream",
     "text": [
      "('max mins', -1.0, 0.9633919535141232)\n"
     ]
    },
    {
     "name": "stderr",
     "output_type": "stream",
     "text": [
      "\r",
      " 65%|██████▌   | 13/20 [01:09<00:50,  7.23s/it]"
     ]
    },
    {
     "name": "stdout",
     "output_type": "stream",
     "text": [
      "('max mins', -1.0, 0.9906668655422063)\n"
     ]
    },
    {
     "name": "stderr",
     "output_type": "stream",
     "text": [
      "\r",
      " 70%|███████   | 14/20 [01:18<00:45,  7.64s/it]"
     ]
    },
    {
     "name": "stdout",
     "output_type": "stream",
     "text": [
      "('max mins', -1.0, 0.9788979006815761)\n"
     ]
    },
    {
     "name": "stderr",
     "output_type": "stream",
     "text": [
      "\r",
      " 75%|███████▌  | 15/20 [01:27<00:39,  7.94s/it]"
     ]
    },
    {
     "name": "stdout",
     "output_type": "stream",
     "text": [
      "('max mins', -1.0, 0.9627772202007328)\n"
     ]
    },
    {
     "name": "stderr",
     "output_type": "stream",
     "text": [
      "\r",
      " 80%|████████  | 16/20 [01:35<00:32,  8.15s/it]"
     ]
    },
    {
     "name": "stdout",
     "output_type": "stream",
     "text": [
      "('max mins', -1.0, 0.9677089880784278)\n"
     ]
    },
    {
     "name": "stderr",
     "output_type": "stream",
     "text": [
      "\r",
      " 85%|████████▌ | 17/20 [01:44<00:24,  8.30s/it]"
     ]
    },
    {
     "name": "stdout",
     "output_type": "stream",
     "text": [
      "('max mins', -1.0, 0.9255299371253971)\n"
     ]
    },
    {
     "name": "stderr",
     "output_type": "stream",
     "text": [
      "\r",
      " 90%|█████████ | 18/20 [01:53<00:16,  8.41s/it]"
     ]
    },
    {
     "name": "stdout",
     "output_type": "stream",
     "text": [
      "('max mins', -1.0, 0.9501887718253208)\n"
     ]
    },
    {
     "name": "stderr",
     "output_type": "stream",
     "text": [
      "\r",
      " 95%|█████████▌| 19/20 [02:01<00:08,  8.49s/it]"
     ]
    },
    {
     "name": "stdout",
     "output_type": "stream",
     "text": [
      "('max mins', -1.0, 0.958361788327466)\n"
     ]
    },
    {
     "name": "stderr",
     "output_type": "stream",
     "text": [
      "100%|██████████| 20/20 [02:10<00:00,  8.53s/it]\n"
     ]
    },
    {
     "name": "stdout",
     "output_type": "stream",
     "text": [
      "('Best file pairs are: ', 'non_spikey_T0000110.WAV*non_spikey_T0000111.WAV')\n",
      "Start and end indices around peak:                  start index: 10946028\t\t          end index: 22446028                  total samples:30015488\n",
      "('AV Sync was above threshold: ', 0.8798710875976788)\n",
      "common_fps/Aditya_annotations/2018-08-19/common_fps_video_syncAditya_2018-08-20_0300-0400_28.csv\n",
      "('video_fps obtained is :', 25)\n",
      "Did not find user-provided sample rate - getting it from first file that matches format!\n",
      "('sampling rate is : ', 250000)\n",
      ".....finding best audio segment.....\n"
     ]
    },
    {
     "name": "stderr",
     "output_type": "stream",
     "text": [
      "\r",
      "  0%|          | 0/20 [00:00<?, ?it/s]"
     ]
    },
    {
     "name": "stdout",
     "output_type": "stream",
     "text": [
      "('max mins for upsampled video', -1.0, 0.9098157577413872)\n",
      "('max mins', -0.9617203121839379, 1.0)\n"
     ]
    },
    {
     "name": "stderr",
     "output_type": "stream",
     "text": [
      "\r",
      "  5%|▌         | 1/20 [00:04<01:22,  4.37s/it]"
     ]
    },
    {
     "name": "stdout",
     "output_type": "stream",
     "text": [
      "('max mins', -0.9837532490329566, 1.0)\n"
     ]
    },
    {
     "name": "stderr",
     "output_type": "stream",
     "text": [
      "\r",
      " 10%|█         | 2/20 [00:08<01:18,  4.37s/it]"
     ]
    },
    {
     "name": "stdout",
     "output_type": "stream",
     "text": [
      "('max mins', -0.9615598038589722, 1.0)\n"
     ]
    },
    {
     "name": "stderr",
     "output_type": "stream",
     "text": [
      "\r",
      " 15%|█▌        | 3/20 [00:13<01:14,  4.37s/it]"
     ]
    },
    {
     "name": "stdout",
     "output_type": "stream",
     "text": [
      "('max mins', -0.9963540111630391, 1.0)\n"
     ]
    },
    {
     "name": "stderr",
     "output_type": "stream",
     "text": [
      "\r",
      " 20%|██        | 4/20 [00:17<01:10,  4.40s/it]"
     ]
    },
    {
     "name": "stdout",
     "output_type": "stream",
     "text": [
      "('max mins', -1.0, 0.9887857234341407)\n"
     ]
    },
    {
     "name": "stderr",
     "output_type": "stream",
     "text": [
      "\r",
      " 25%|██▌       | 5/20 [00:22<01:06,  4.41s/it]"
     ]
    },
    {
     "name": "stdout",
     "output_type": "stream",
     "text": [
      "('max mins', -1.0, 0.9453077658223246)\n"
     ]
    },
    {
     "name": "stderr",
     "output_type": "stream",
     "text": [
      "\r",
      " 30%|███       | 6/20 [00:26<01:01,  4.39s/it]"
     ]
    },
    {
     "name": "stdout",
     "output_type": "stream",
     "text": [
      "('max mins', -1.0, 0.9696416970600548)\n"
     ]
    },
    {
     "name": "stderr",
     "output_type": "stream",
     "text": [
      "\r",
      " 35%|███▌      | 7/20 [00:30<00:56,  4.38s/it]"
     ]
    },
    {
     "name": "stdout",
     "output_type": "stream",
     "text": [
      "('max mins', -0.9206378346384267, 1.0)\n"
     ]
    },
    {
     "name": "stderr",
     "output_type": "stream",
     "text": [
      "\r",
      " 40%|████      | 8/20 [00:35<00:52,  4.38s/it]"
     ]
    },
    {
     "name": "stdout",
     "output_type": "stream",
     "text": [
      "('max mins', -0.9634479508648188, 1.0)\n"
     ]
    },
    {
     "name": "stderr",
     "output_type": "stream",
     "text": [
      "\r",
      " 45%|████▌     | 9/20 [00:39<00:48,  4.38s/it]"
     ]
    },
    {
     "name": "stdout",
     "output_type": "stream",
     "text": [
      "('max mins', -0.9410304929219014, 1.0)\n"
     ]
    },
    {
     "name": "stderr",
     "output_type": "stream",
     "text": [
      "\r",
      " 50%|█████     | 10/20 [00:43<00:43,  4.37s/it]"
     ]
    },
    {
     "name": "stdout",
     "output_type": "stream",
     "text": [
      "('max mins', -0.9370308391076005, 1.0)\n"
     ]
    },
    {
     "name": "stderr",
     "output_type": "stream",
     "text": [
      "\r",
      " 55%|█████▌    | 11/20 [00:48<00:39,  4.37s/it]"
     ]
    },
    {
     "name": "stdout",
     "output_type": "stream",
     "text": [
      "('max mins', -1.0, 0.9695695784500635)\n"
     ]
    },
    {
     "name": "stderr",
     "output_type": "stream",
     "text": [
      "\r",
      " 60%|██████    | 12/20 [00:52<00:34,  4.37s/it]"
     ]
    },
    {
     "name": "stdout",
     "output_type": "stream",
     "text": [
      "('max mins', -1.0, 0.9633919535141232)\n"
     ]
    },
    {
     "name": "stderr",
     "output_type": "stream",
     "text": [
      "\r",
      " 65%|██████▌   | 13/20 [00:56<00:30,  4.37s/it]"
     ]
    },
    {
     "name": "stdout",
     "output_type": "stream",
     "text": [
      "('max mins', -1.0, 0.9906668655422063)\n"
     ]
    },
    {
     "name": "stderr",
     "output_type": "stream",
     "text": [
      "\r",
      " 70%|███████   | 14/20 [01:01<00:26,  4.37s/it]"
     ]
    },
    {
     "name": "stdout",
     "output_type": "stream",
     "text": [
      "('max mins', -1.0, 0.9788979006815761)\n"
     ]
    },
    {
     "name": "stderr",
     "output_type": "stream",
     "text": [
      "\r",
      " 75%|███████▌  | 15/20 [01:05<00:21,  4.36s/it]"
     ]
    },
    {
     "name": "stdout",
     "output_type": "stream",
     "text": [
      "('max mins', -1.0, 0.9627772202007328)\n"
     ]
    },
    {
     "name": "stderr",
     "output_type": "stream",
     "text": [
      "\r",
      " 80%|████████  | 16/20 [01:10<00:17,  4.37s/it]"
     ]
    },
    {
     "name": "stdout",
     "output_type": "stream",
     "text": [
      "('max mins', -1.0, 0.9677089880784278)\n"
     ]
    },
    {
     "name": "stderr",
     "output_type": "stream",
     "text": [
      "\r",
      " 85%|████████▌ | 17/20 [01:14<00:13,  4.39s/it]"
     ]
    },
    {
     "name": "stdout",
     "output_type": "stream",
     "text": [
      "('max mins', -1.0, 0.9255299371253971)\n"
     ]
    },
    {
     "name": "stderr",
     "output_type": "stream",
     "text": [
      "\r",
      " 90%|█████████ | 18/20 [01:18<00:08,  4.40s/it]"
     ]
    },
    {
     "name": "stdout",
     "output_type": "stream",
     "text": [
      "('max mins', -1.0, 0.9501887718253208)\n"
     ]
    },
    {
     "name": "stderr",
     "output_type": "stream",
     "text": [
      "\r",
      " 95%|█████████▌| 19/20 [01:24<00:04,  4.68s/it]"
     ]
    },
    {
     "name": "stdout",
     "output_type": "stream",
     "text": [
      "('max mins', -1.0, 0.958361788327466)\n"
     ]
    },
    {
     "name": "stderr",
     "output_type": "stream",
     "text": [
      "100%|██████████| 20/20 [01:29<00:00,  4.88s/it]\n"
     ]
    },
    {
     "name": "stdout",
     "output_type": "stream",
     "text": [
      "('Best file pairs are: ', 'non_spikey_T0000110.WAV*non_spikey_T0000111.WAV')\n",
      "Start and end indices around peak:                  start index: 11195988\t\t          end index: 22695988                  total samples:30015488\n",
      "('AV Sync was above threshold: ', 0.8791808773643855)\n",
      "common_fps/Aditya_annotations/2018-08-19/common_fps_video_syncAditya_2018-08-20_0300-0400_29.csv\n",
      "('video_fps obtained is :', 25)\n",
      "Did not find user-provided sample rate - getting it from first file that matches format!\n",
      "('sampling rate is : ', 250000)\n",
      ".....finding best audio segment.....\n"
     ]
    },
    {
     "name": "stderr",
     "output_type": "stream",
     "text": [
      "\r",
      "  0%|          | 0/20 [00:00<?, ?it/s]"
     ]
    },
    {
     "name": "stdout",
     "output_type": "stream",
     "text": [
      "('max mins for upsampled video', -1.0, 0.9784939120925218)\n",
      "('max mins', -0.9617203121839379, 1.0)\n"
     ]
    },
    {
     "name": "stderr",
     "output_type": "stream",
     "text": [
      "\r",
      "  5%|▌         | 1/20 [00:04<01:33,  4.95s/it]"
     ]
    },
    {
     "name": "stdout",
     "output_type": "stream",
     "text": [
      "('max mins', -0.9837532490329566, 1.0)\n"
     ]
    },
    {
     "name": "stderr",
     "output_type": "stream",
     "text": [
      "\r",
      " 10%|█         | 2/20 [00:10<01:30,  5.05s/it]"
     ]
    },
    {
     "name": "stdout",
     "output_type": "stream",
     "text": [
      "('max mins', -0.9615598038589722, 1.0)\n"
     ]
    },
    {
     "name": "stderr",
     "output_type": "stream",
     "text": [
      "\r",
      " 15%|█▌        | 3/20 [00:15<01:25,  5.02s/it]"
     ]
    },
    {
     "name": "stdout",
     "output_type": "stream",
     "text": [
      "('max mins', -0.9963540111630391, 1.0)\n"
     ]
    },
    {
     "name": "stderr",
     "output_type": "stream",
     "text": [
      "\r",
      " 20%|██        | 4/20 [00:20<01:19,  4.97s/it]"
     ]
    },
    {
     "name": "stdout",
     "output_type": "stream",
     "text": [
      "('max mins', -1.0, 0.9887857234341407)\n"
     ]
    },
    {
     "name": "stderr",
     "output_type": "stream",
     "text": [
      "\r",
      " 25%|██▌       | 5/20 [00:24<01:12,  4.80s/it]"
     ]
    },
    {
     "name": "stdout",
     "output_type": "stream",
     "text": [
      "('max mins', -1.0, 0.9453077658223246)\n"
     ]
    },
    {
     "name": "stderr",
     "output_type": "stream",
     "text": [
      "\r",
      " 30%|███       | 6/20 [00:28<01:05,  4.68s/it]"
     ]
    },
    {
     "name": "stdout",
     "output_type": "stream",
     "text": [
      "('max mins', -1.0, 0.9696416970600548)\n"
     ]
    },
    {
     "name": "stderr",
     "output_type": "stream",
     "text": [
      "\r",
      " 35%|███▌      | 7/20 [00:33<00:59,  4.60s/it]"
     ]
    },
    {
     "name": "stdout",
     "output_type": "stream",
     "text": [
      "('max mins', -0.9206378346384267, 1.0)\n"
     ]
    },
    {
     "name": "stderr",
     "output_type": "stream",
     "text": [
      "\r",
      " 40%|████      | 8/20 [00:37<00:54,  4.54s/it]"
     ]
    },
    {
     "name": "stdout",
     "output_type": "stream",
     "text": [
      "('max mins', -0.9634479508648188, 1.0)\n"
     ]
    },
    {
     "name": "stderr",
     "output_type": "stream",
     "text": [
      "\r",
      " 45%|████▌     | 9/20 [00:42<00:49,  4.49s/it]"
     ]
    },
    {
     "name": "stdout",
     "output_type": "stream",
     "text": [
      "('max mins', -0.9410304929219014, 1.0)\n"
     ]
    },
    {
     "name": "stderr",
     "output_type": "stream",
     "text": [
      "\r",
      " 50%|█████     | 10/20 [00:46<00:45,  4.58s/it]"
     ]
    },
    {
     "name": "stdout",
     "output_type": "stream",
     "text": [
      "('max mins', -0.9370308391076005, 1.0)\n"
     ]
    },
    {
     "name": "stderr",
     "output_type": "stream",
     "text": [
      "\r",
      " 55%|█████▌    | 11/20 [00:51<00:40,  4.52s/it]"
     ]
    },
    {
     "name": "stdout",
     "output_type": "stream",
     "text": [
      "('max mins', -1.0, 0.9695695784500635)\n"
     ]
    },
    {
     "name": "stderr",
     "output_type": "stream",
     "text": [
      "\r",
      " 60%|██████    | 12/20 [00:55<00:35,  4.47s/it]"
     ]
    },
    {
     "name": "stdout",
     "output_type": "stream",
     "text": [
      "('max mins', -1.0, 0.9633919535141232)\n"
     ]
    },
    {
     "name": "stderr",
     "output_type": "stream",
     "text": [
      "\r",
      " 65%|██████▌   | 13/20 [00:59<00:31,  4.44s/it]"
     ]
    },
    {
     "name": "stdout",
     "output_type": "stream",
     "text": [
      "('max mins', -1.0, 0.9906668655422063)\n"
     ]
    },
    {
     "name": "stderr",
     "output_type": "stream",
     "text": [
      "\r",
      " 70%|███████   | 14/20 [01:04<00:26,  4.41s/it]"
     ]
    },
    {
     "name": "stdout",
     "output_type": "stream",
     "text": [
      "('max mins', -1.0, 0.9788979006815761)\n"
     ]
    },
    {
     "name": "stderr",
     "output_type": "stream",
     "text": [
      "\r",
      " 75%|███████▌  | 15/20 [01:08<00:22,  4.41s/it]"
     ]
    },
    {
     "name": "stdout",
     "output_type": "stream",
     "text": [
      "('max mins', -1.0, 0.9627772202007328)\n"
     ]
    },
    {
     "name": "stderr",
     "output_type": "stream",
     "text": [
      "\r",
      " 80%|████████  | 16/20 [01:13<00:17,  4.40s/it]"
     ]
    },
    {
     "name": "stdout",
     "output_type": "stream",
     "text": [
      "('max mins', -1.0, 0.9677089880784278)\n"
     ]
    },
    {
     "name": "stderr",
     "output_type": "stream",
     "text": [
      "\r",
      " 85%|████████▌ | 17/20 [01:17<00:13,  4.39s/it]"
     ]
    },
    {
     "name": "stdout",
     "output_type": "stream",
     "text": [
      "('max mins', -1.0, 0.9255299371253971)\n"
     ]
    },
    {
     "name": "stderr",
     "output_type": "stream",
     "text": [
      "\r",
      " 90%|█████████ | 18/20 [01:21<00:08,  4.38s/it]"
     ]
    },
    {
     "name": "stdout",
     "output_type": "stream",
     "text": [
      "('max mins', -1.0, 0.9501887718253208)\n"
     ]
    },
    {
     "name": "stderr",
     "output_type": "stream",
     "text": [
      "\r",
      " 95%|█████████▌| 19/20 [01:26<00:04,  4.38s/it]"
     ]
    },
    {
     "name": "stdout",
     "output_type": "stream",
     "text": [
      "('max mins', -1.0, 0.958361788327466)\n"
     ]
    },
    {
     "name": "stderr",
     "output_type": "stream",
     "text": [
      "100%|██████████| 20/20 [01:30<00:00,  4.38s/it]\n"
     ]
    },
    {
     "name": "stdout",
     "output_type": "stream",
     "text": [
      "('Best file pairs are: ', 'non_spikey_T0000111.WAV*non_spikey_T0000112.WAV')\n",
      "Start and end indices around peak:                  start index: 4674973\t\t          end index: 16174973                  total samples:30015488\n",
      "('AV Sync was above threshold: ', 0.7108029923791144)\n",
      "common_fps/Aditya_annotations/2018-08-19/common_fps_video_syncAditya_2018-08-20_0300-0400_30.csv\n",
      "('video_fps obtained is :', 25)\n",
      "Did not find user-provided sample rate - getting it from first file that matches format!\n",
      "('sampling rate is : ', 250000)\n",
      ".....finding best audio segment.....\n"
     ]
    },
    {
     "name": "stderr",
     "output_type": "stream",
     "text": [
      "\r",
      "  0%|          | 0/20 [00:00<?, ?it/s]"
     ]
    },
    {
     "name": "stdout",
     "output_type": "stream",
     "text": [
      "('max mins for upsampled video', -0.9672973812475144, 1.0)\n",
      "('max mins', -0.9617203121839379, 1.0)\n"
     ]
    },
    {
     "name": "stderr",
     "output_type": "stream",
     "text": [
      "\r",
      "  5%|▌         | 1/20 [00:04<01:23,  4.40s/it]"
     ]
    },
    {
     "name": "stdout",
     "output_type": "stream",
     "text": [
      "('max mins', -0.9837532490329566, 1.0)\n"
     ]
    },
    {
     "name": "stderr",
     "output_type": "stream",
     "text": [
      "\r",
      " 10%|█         | 2/20 [00:08<01:19,  4.40s/it]"
     ]
    },
    {
     "name": "stdout",
     "output_type": "stream",
     "text": [
      "('max mins', -0.9615598038589722, 1.0)\n"
     ]
    },
    {
     "name": "stderr",
     "output_type": "stream",
     "text": [
      "\r",
      " 15%|█▌        | 3/20 [00:13<01:14,  4.39s/it]"
     ]
    },
    {
     "name": "stdout",
     "output_type": "stream",
     "text": [
      "('max mins', -0.9963540111630391, 1.0)\n"
     ]
    },
    {
     "name": "stderr",
     "output_type": "stream",
     "text": [
      "\r",
      " 20%|██        | 4/20 [00:17<01:10,  4.38s/it]"
     ]
    },
    {
     "name": "stdout",
     "output_type": "stream",
     "text": [
      "('max mins', -1.0, 0.9887857234341407)\n"
     ]
    },
    {
     "name": "stderr",
     "output_type": "stream",
     "text": [
      "\r",
      " 25%|██▌       | 5/20 [00:21<01:05,  4.38s/it]"
     ]
    },
    {
     "name": "stdout",
     "output_type": "stream",
     "text": [
      "('max mins', -1.0, 0.9453077658223246)\n"
     ]
    },
    {
     "name": "stderr",
     "output_type": "stream",
     "text": [
      "\r",
      " 30%|███       | 6/20 [00:26<01:01,  4.37s/it]"
     ]
    },
    {
     "name": "stdout",
     "output_type": "stream",
     "text": [
      "('max mins', -1.0, 0.9696416970600548)\n"
     ]
    },
    {
     "name": "stderr",
     "output_type": "stream",
     "text": [
      "\r",
      " 35%|███▌      | 7/20 [00:30<00:56,  4.37s/it]"
     ]
    },
    {
     "name": "stdout",
     "output_type": "stream",
     "text": [
      "('max mins', -0.9206378346384267, 1.0)\n"
     ]
    },
    {
     "name": "stderr",
     "output_type": "stream",
     "text": [
      "\r",
      " 40%|████      | 8/20 [00:35<00:52,  4.37s/it]"
     ]
    },
    {
     "name": "stdout",
     "output_type": "stream",
     "text": [
      "('max mins', -0.9634479508648188, 1.0)\n"
     ]
    },
    {
     "name": "stderr",
     "output_type": "stream",
     "text": [
      "\r",
      " 45%|████▌     | 9/20 [00:39<00:48,  4.37s/it]"
     ]
    },
    {
     "name": "stdout",
     "output_type": "stream",
     "text": [
      "('max mins', -0.9410304929219014, 1.0)\n"
     ]
    },
    {
     "name": "stderr",
     "output_type": "stream",
     "text": [
      "\r",
      " 50%|█████     | 10/20 [00:43<00:43,  4.37s/it]"
     ]
    },
    {
     "name": "stdout",
     "output_type": "stream",
     "text": [
      "('max mins', -0.9370308391076005, 1.0)\n"
     ]
    },
    {
     "name": "stderr",
     "output_type": "stream",
     "text": [
      "\r",
      " 55%|█████▌    | 11/20 [00:48<00:39,  4.37s/it]"
     ]
    },
    {
     "name": "stdout",
     "output_type": "stream",
     "text": [
      "('max mins', -1.0, 0.9695695784500635)\n"
     ]
    },
    {
     "name": "stderr",
     "output_type": "stream",
     "text": [
      "\r",
      " 60%|██████    | 12/20 [00:52<00:34,  4.37s/it]"
     ]
    },
    {
     "name": "stdout",
     "output_type": "stream",
     "text": [
      "('max mins', -1.0, 0.9633919535141232)\n"
     ]
    },
    {
     "name": "stderr",
     "output_type": "stream",
     "text": [
      "\r",
      " 65%|██████▌   | 13/20 [00:56<00:30,  4.37s/it]"
     ]
    },
    {
     "name": "stdout",
     "output_type": "stream",
     "text": [
      "('max mins', -1.0, 0.9906668655422063)\n"
     ]
    },
    {
     "name": "stderr",
     "output_type": "stream",
     "text": [
      "\r",
      " 70%|███████   | 14/20 [01:01<00:26,  4.37s/it]"
     ]
    },
    {
     "name": "stdout",
     "output_type": "stream",
     "text": [
      "('max mins', -1.0, 0.9788979006815761)\n"
     ]
    },
    {
     "name": "stderr",
     "output_type": "stream",
     "text": [
      "\r",
      " 75%|███████▌  | 15/20 [01:05<00:21,  4.37s/it]"
     ]
    },
    {
     "name": "stdout",
     "output_type": "stream",
     "text": [
      "('max mins', -1.0, 0.9627772202007328)\n"
     ]
    },
    {
     "name": "stderr",
     "output_type": "stream",
     "text": [
      "\r",
      " 80%|████████  | 16/20 [01:10<00:17,  4.42s/it]"
     ]
    },
    {
     "name": "stdout",
     "output_type": "stream",
     "text": [
      "('max mins', -1.0, 0.9677089880784278)\n"
     ]
    },
    {
     "name": "stderr",
     "output_type": "stream",
     "text": [
      "\r",
      " 85%|████████▌ | 17/20 [01:14<00:13,  4.43s/it]"
     ]
    },
    {
     "name": "stdout",
     "output_type": "stream",
     "text": [
      "('max mins', -1.0, 0.9255299371253971)\n"
     ]
    },
    {
     "name": "stderr",
     "output_type": "stream",
     "text": [
      "\r",
      " 90%|█████████ | 18/20 [01:19<00:08,  4.44s/it]"
     ]
    },
    {
     "name": "stdout",
     "output_type": "stream",
     "text": [
      "('max mins', -1.0, 0.9501887718253208)\n"
     ]
    },
    {
     "name": "stderr",
     "output_type": "stream",
     "text": [
      "\r",
      " 95%|█████████▌| 19/20 [01:23<00:04,  4.41s/it]"
     ]
    },
    {
     "name": "stdout",
     "output_type": "stream",
     "text": [
      "('max mins', -1.0, 0.958361788327466)\n"
     ]
    },
    {
     "name": "stderr",
     "output_type": "stream",
     "text": [
      "100%|██████████| 20/20 [01:27<00:00,  4.39s/it]\n"
     ]
    },
    {
     "name": "stdout",
     "output_type": "stream",
     "text": [
      "('Best file pairs are: ', 'non_spikey_T0000111.WAV*non_spikey_T0000112.WAV')\n",
      "Start and end indices around peak:                  start index: 10168152\t\t          end index: 21668152                  total samples:30015488\n",
      "('AV Sync was above threshold: ', 0.8650145591517694)\n",
      "common_fps/Aditya_annotations/2018-08-19/common_fps_video_syncAditya_2018-08-20_0300-0400_31.csv\n",
      "('video_fps obtained is :', 25)\n",
      "Did not find user-provided sample rate - getting it from first file that matches format!\n",
      "('sampling rate is : ', 250000)\n",
      ".....finding best audio segment.....\n"
     ]
    },
    {
     "name": "stderr",
     "output_type": "stream",
     "text": [
      "\r",
      "  0%|          | 0/20 [00:00<?, ?it/s]"
     ]
    },
    {
     "name": "stdout",
     "output_type": "stream",
     "text": [
      "('max mins for upsampled video', -0.9267269188453395, 1.0)\n",
      "('max mins', -0.9617203121839379, 1.0)\n"
     ]
    },
    {
     "name": "stderr",
     "output_type": "stream",
     "text": [
      "\r",
      "  5%|▌         | 1/20 [00:04<01:23,  4.40s/it]"
     ]
    },
    {
     "name": "stdout",
     "output_type": "stream",
     "text": [
      "('max mins', -0.9837532490329566, 1.0)\n"
     ]
    },
    {
     "name": "stderr",
     "output_type": "stream",
     "text": [
      "\r",
      " 10%|█         | 2/20 [00:08<01:18,  4.39s/it]"
     ]
    },
    {
     "name": "stdout",
     "output_type": "stream",
     "text": [
      "('max mins', -0.9615598038589722, 1.0)\n"
     ]
    },
    {
     "name": "stderr",
     "output_type": "stream",
     "text": [
      "\r",
      " 15%|█▌        | 3/20 [00:13<01:14,  4.38s/it]"
     ]
    },
    {
     "name": "stdout",
     "output_type": "stream",
     "text": [
      "('max mins', -0.9963540111630391, 1.0)\n"
     ]
    },
    {
     "name": "stderr",
     "output_type": "stream",
     "text": [
      "\r",
      " 20%|██        | 4/20 [00:17<01:09,  4.37s/it]"
     ]
    },
    {
     "name": "stdout",
     "output_type": "stream",
     "text": [
      "('max mins', -1.0, 0.9887857234341407)\n"
     ]
    },
    {
     "name": "stderr",
     "output_type": "stream",
     "text": [
      "\r",
      " 25%|██▌       | 5/20 [00:21<01:05,  4.37s/it]"
     ]
    },
    {
     "name": "stdout",
     "output_type": "stream",
     "text": [
      "('max mins', -1.0, 0.9453077658223246)\n"
     ]
    },
    {
     "name": "stderr",
     "output_type": "stream",
     "text": [
      "\r",
      " 30%|███       | 6/20 [00:26<01:01,  4.37s/it]"
     ]
    },
    {
     "name": "stdout",
     "output_type": "stream",
     "text": [
      "('max mins', -1.0, 0.9696416970600548)\n"
     ]
    },
    {
     "name": "stderr",
     "output_type": "stream",
     "text": [
      "\r",
      " 35%|███▌      | 7/20 [00:30<00:56,  4.37s/it]"
     ]
    },
    {
     "name": "stdout",
     "output_type": "stream",
     "text": [
      "('max mins', -0.9206378346384267, 1.0)\n"
     ]
    },
    {
     "name": "stderr",
     "output_type": "stream",
     "text": [
      "\r",
      " 40%|████      | 8/20 [00:34<00:52,  4.37s/it]"
     ]
    },
    {
     "name": "stdout",
     "output_type": "stream",
     "text": [
      "('max mins', -0.9634479508648188, 1.0)\n"
     ]
    },
    {
     "name": "stderr",
     "output_type": "stream",
     "text": [
      "\r",
      " 45%|████▌     | 9/20 [00:39<00:48,  4.37s/it]"
     ]
    },
    {
     "name": "stdout",
     "output_type": "stream",
     "text": [
      "('max mins', -0.9410304929219014, 1.0)\n"
     ]
    },
    {
     "name": "stderr",
     "output_type": "stream",
     "text": [
      "\r",
      " 50%|█████     | 10/20 [00:43<00:43,  4.37s/it]"
     ]
    },
    {
     "name": "stdout",
     "output_type": "stream",
     "text": [
      "('max mins', -0.9370308391076005, 1.0)\n"
     ]
    },
    {
     "name": "stderr",
     "output_type": "stream",
     "text": [
      "\r",
      " 55%|█████▌    | 11/20 [00:48<00:39,  4.37s/it]"
     ]
    },
    {
     "name": "stdout",
     "output_type": "stream",
     "text": [
      "('max mins', -1.0, 0.9695695784500635)\n"
     ]
    },
    {
     "name": "stderr",
     "output_type": "stream",
     "text": [
      "\r",
      " 60%|██████    | 12/20 [00:52<00:34,  4.36s/it]"
     ]
    },
    {
     "name": "stdout",
     "output_type": "stream",
     "text": [
      "('max mins', -1.0, 0.9633919535141232)\n"
     ]
    },
    {
     "name": "stderr",
     "output_type": "stream",
     "text": [
      "\r",
      " 65%|██████▌   | 13/20 [00:56<00:30,  4.37s/it]"
     ]
    },
    {
     "name": "stdout",
     "output_type": "stream",
     "text": [
      "('max mins', -1.0, 0.9906668655422063)\n"
     ]
    },
    {
     "name": "stderr",
     "output_type": "stream",
     "text": [
      "\r",
      " 70%|███████   | 14/20 [01:01<00:26,  4.37s/it]"
     ]
    },
    {
     "name": "stdout",
     "output_type": "stream",
     "text": [
      "('max mins', -1.0, 0.9788979006815761)\n"
     ]
    },
    {
     "name": "stderr",
     "output_type": "stream",
     "text": [
      "\r",
      " 75%|███████▌  | 15/20 [01:05<00:21,  4.37s/it]"
     ]
    },
    {
     "name": "stdout",
     "output_type": "stream",
     "text": [
      "('max mins', -1.0, 0.9627772202007328)\n"
     ]
    },
    {
     "name": "stderr",
     "output_type": "stream",
     "text": [
      "\r",
      " 80%|████████  | 16/20 [01:09<00:17,  4.37s/it]"
     ]
    },
    {
     "name": "stdout",
     "output_type": "stream",
     "text": [
      "('max mins', -1.0, 0.9677089880784278)\n"
     ]
    },
    {
     "name": "stderr",
     "output_type": "stream",
     "text": [
      "\r",
      " 85%|████████▌ | 17/20 [01:14<00:13,  4.36s/it]"
     ]
    },
    {
     "name": "stdout",
     "output_type": "stream",
     "text": [
      "('max mins', -1.0, 0.9255299371253971)\n"
     ]
    },
    {
     "name": "stderr",
     "output_type": "stream",
     "text": [
      "\r",
      " 90%|█████████ | 18/20 [01:18<00:08,  4.36s/it]"
     ]
    },
    {
     "name": "stdout",
     "output_type": "stream",
     "text": [
      "('max mins', -1.0, 0.9501887718253208)\n"
     ]
    },
    {
     "name": "stderr",
     "output_type": "stream",
     "text": [
      "\r",
      " 95%|█████████▌| 19/20 [01:22<00:04,  4.36s/it]"
     ]
    },
    {
     "name": "stdout",
     "output_type": "stream",
     "text": [
      "('max mins', -1.0, 0.958361788327466)\n"
     ]
    },
    {
     "name": "stderr",
     "output_type": "stream",
     "text": [
      "100%|██████████| 20/20 [01:27<00:00,  4.36s/it]\n"
     ]
    },
    {
     "name": "stdout",
     "output_type": "stream",
     "text": [
      "('Best file pairs are: ', 'non_spikey_T0000112.WAV*non_spikey_T0000113.WAV')\n",
      "Start and end indices around peak:                  start index: 5905493\t\t          end index: 17405493                  total samples:30015488\n",
      "('AV Sync was above threshold: ', 0.8573811612871857)\n",
      "common_fps/Aditya_annotations/2018-08-19/common_fps_video_syncAditya_2018-08-20_0300-0400_32.csv\n",
      "('video_fps obtained is :', 25)\n",
      "Did not find user-provided sample rate - getting it from first file that matches format!\n",
      "('sampling rate is : ', 250000)\n",
      ".....finding best audio segment.....\n"
     ]
    },
    {
     "name": "stderr",
     "output_type": "stream",
     "text": [
      "\r",
      "  0%|          | 0/20 [00:00<?, ?it/s]"
     ]
    },
    {
     "name": "stdout",
     "output_type": "stream",
     "text": [
      "('max mins for upsampled video', -0.8524366371714723, 1.0)\n",
      "('max mins', -0.9617203121839379, 1.0)\n"
     ]
    },
    {
     "name": "stderr",
     "output_type": "stream",
     "text": [
      "\r",
      "  5%|▌         | 1/20 [00:04<01:22,  4.35s/it]"
     ]
    },
    {
     "name": "stdout",
     "output_type": "stream",
     "text": [
      "('max mins', -0.9837532490329566, 1.0)\n"
     ]
    },
    {
     "name": "stderr",
     "output_type": "stream",
     "text": [
      "\r",
      " 10%|█         | 2/20 [00:09<01:20,  4.45s/it]"
     ]
    },
    {
     "name": "stdout",
     "output_type": "stream",
     "text": [
      "('max mins', -0.9615598038589722, 1.0)\n"
     ]
    },
    {
     "name": "stderr",
     "output_type": "stream",
     "text": [
      "\r",
      " 15%|█▌        | 3/20 [00:13<01:15,  4.45s/it]"
     ]
    },
    {
     "name": "stdout",
     "output_type": "stream",
     "text": [
      "('max mins', -0.9963540111630391, 1.0)\n"
     ]
    },
    {
     "name": "stderr",
     "output_type": "stream",
     "text": [
      "\r",
      " 20%|██        | 4/20 [00:17<01:10,  4.43s/it]"
     ]
    },
    {
     "name": "stdout",
     "output_type": "stream",
     "text": [
      "('max mins', -1.0, 0.9887857234341407)\n"
     ]
    },
    {
     "name": "stderr",
     "output_type": "stream",
     "text": [
      "\r",
      " 25%|██▌       | 5/20 [00:22<01:06,  4.41s/it]"
     ]
    },
    {
     "name": "stdout",
     "output_type": "stream",
     "text": [
      "('max mins', -1.0, 0.9453077658223246)\n"
     ]
    },
    {
     "name": "stderr",
     "output_type": "stream",
     "text": [
      "\r",
      " 30%|███       | 6/20 [00:26<01:01,  4.39s/it]"
     ]
    },
    {
     "name": "stdout",
     "output_type": "stream",
     "text": [
      "('max mins', -1.0, 0.9696416970600548)\n"
     ]
    },
    {
     "name": "stderr",
     "output_type": "stream",
     "text": [
      "\r",
      " 35%|███▌      | 7/20 [00:30<00:56,  4.38s/it]"
     ]
    },
    {
     "name": "stdout",
     "output_type": "stream",
     "text": [
      "('max mins', -0.9206378346384267, 1.0)\n"
     ]
    },
    {
     "name": "stderr",
     "output_type": "stream",
     "text": [
      "\r",
      " 40%|████      | 8/20 [00:35<00:52,  4.37s/it]"
     ]
    },
    {
     "name": "stdout",
     "output_type": "stream",
     "text": [
      "('max mins', -0.9634479508648188, 1.0)\n"
     ]
    },
    {
     "name": "stderr",
     "output_type": "stream",
     "text": [
      "\r",
      " 45%|████▌     | 9/20 [00:39<00:48,  4.37s/it]"
     ]
    },
    {
     "name": "stdout",
     "output_type": "stream",
     "text": [
      "('max mins', -0.9410304929219014, 1.0)\n"
     ]
    },
    {
     "name": "stderr",
     "output_type": "stream",
     "text": [
      "\r",
      " 50%|█████     | 10/20 [00:43<00:43,  4.36s/it]"
     ]
    },
    {
     "name": "stdout",
     "output_type": "stream",
     "text": [
      "('max mins', -0.9370308391076005, 1.0)\n"
     ]
    },
    {
     "name": "stderr",
     "output_type": "stream",
     "text": [
      "\r",
      " 55%|█████▌    | 11/20 [00:48<00:39,  4.36s/it]"
     ]
    },
    {
     "name": "stdout",
     "output_type": "stream",
     "text": [
      "('max mins', -1.0, 0.9695695784500635)\n"
     ]
    },
    {
     "name": "stderr",
     "output_type": "stream",
     "text": [
      "\r",
      " 60%|██████    | 12/20 [00:52<00:35,  4.38s/it]"
     ]
    },
    {
     "name": "stdout",
     "output_type": "stream",
     "text": [
      "('max mins', -1.0, 0.9633919535141232)\n"
     ]
    },
    {
     "name": "stderr",
     "output_type": "stream",
     "text": [
      "\r",
      " 65%|██████▌   | 13/20 [00:57<00:30,  4.39s/it]"
     ]
    },
    {
     "name": "stdout",
     "output_type": "stream",
     "text": [
      "('max mins', -1.0, 0.9906668655422063)\n"
     ]
    },
    {
     "name": "stderr",
     "output_type": "stream",
     "text": [
      "\r",
      " 70%|███████   | 14/20 [01:01<00:26,  4.38s/it]"
     ]
    },
    {
     "name": "stdout",
     "output_type": "stream",
     "text": [
      "('max mins', -1.0, 0.9788979006815761)\n"
     ]
    },
    {
     "name": "stderr",
     "output_type": "stream",
     "text": [
      "\r",
      " 75%|███████▌  | 15/20 [01:05<00:21,  4.37s/it]"
     ]
    },
    {
     "name": "stdout",
     "output_type": "stream",
     "text": [
      "('max mins', -1.0, 0.9627772202007328)\n"
     ]
    },
    {
     "name": "stderr",
     "output_type": "stream",
     "text": [
      "\r",
      " 80%|████████  | 16/20 [01:10<00:17,  4.37s/it]"
     ]
    },
    {
     "name": "stdout",
     "output_type": "stream",
     "text": [
      "('max mins', -1.0, 0.9677089880784278)\n"
     ]
    },
    {
     "name": "stderr",
     "output_type": "stream",
     "text": [
      "\r",
      " 85%|████████▌ | 17/20 [01:14<00:13,  4.37s/it]"
     ]
    },
    {
     "name": "stdout",
     "output_type": "stream",
     "text": [
      "('max mins', -1.0, 0.9255299371253971)\n"
     ]
    },
    {
     "name": "stderr",
     "output_type": "stream",
     "text": [
      "\r",
      " 90%|█████████ | 18/20 [01:18<00:08,  4.36s/it]"
     ]
    },
    {
     "name": "stdout",
     "output_type": "stream",
     "text": [
      "('max mins', -1.0, 0.9501887718253208)\n"
     ]
    },
    {
     "name": "stderr",
     "output_type": "stream",
     "text": [
      "\r",
      " 95%|█████████▌| 19/20 [01:23<00:04,  4.36s/it]"
     ]
    },
    {
     "name": "stdout",
     "output_type": "stream",
     "text": [
      "('max mins', -1.0, 0.958361788327466)\n"
     ]
    },
    {
     "name": "stderr",
     "output_type": "stream",
     "text": [
      "100%|██████████| 20/20 [01:27<00:00,  4.36s/it]\n"
     ]
    },
    {
     "name": "stdout",
     "output_type": "stream",
     "text": [
      "('Best file pairs are: ', 'non_spikey_T0000113.WAV*non_spikey_T0000114.WAV')\n",
      "Start and end indices around peak:                  start index: 13595338\t\t          end index: 25095338                  total samples:30015488\n",
      "('AV Sync was above threshold: ', 0.6196482614249265)\n",
      "common_fps/Aditya_annotations/2018-08-19/common_fps_video_syncAditya_2018-08-20_0300-0400_33.csv\n",
      "('video_fps obtained is :', 25)\n",
      "Did not find user-provided sample rate - getting it from first file that matches format!\n",
      "('sampling rate is : ', 250000)\n",
      ".....finding best audio segment.....\n"
     ]
    },
    {
     "name": "stderr",
     "output_type": "stream",
     "text": [
      "\r",
      "  0%|          | 0/20 [00:00<?, ?it/s]"
     ]
    },
    {
     "name": "stdout",
     "output_type": "stream",
     "text": [
      "('max mins for upsampled video', -1.0, 0.9643129478821015)\n",
      "('max mins', -0.9617203121839379, 1.0)\n"
     ]
    },
    {
     "name": "stderr",
     "output_type": "stream",
     "text": [
      "\r",
      "  5%|▌         | 1/20 [00:04<01:22,  4.35s/it]"
     ]
    },
    {
     "name": "stdout",
     "output_type": "stream",
     "text": [
      "('max mins', -0.9837532490329566, 1.0)\n"
     ]
    },
    {
     "name": "stderr",
     "output_type": "stream",
     "text": [
      "\r",
      " 10%|█         | 2/20 [00:08<01:18,  4.35s/it]"
     ]
    },
    {
     "name": "stdout",
     "output_type": "stream",
     "text": [
      "('max mins', -0.9615598038589722, 1.0)\n"
     ]
    },
    {
     "name": "stderr",
     "output_type": "stream",
     "text": [
      "\r",
      " 15%|█▌        | 3/20 [00:13<01:14,  4.35s/it]"
     ]
    },
    {
     "name": "stdout",
     "output_type": "stream",
     "text": [
      "('max mins', -0.9963540111630391, 1.0)\n"
     ]
    },
    {
     "name": "stderr",
     "output_type": "stream",
     "text": [
      "\r",
      " 20%|██        | 4/20 [00:17<01:09,  4.36s/it]"
     ]
    },
    {
     "name": "stdout",
     "output_type": "stream",
     "text": [
      "('max mins', -1.0, 0.9887857234341407)\n"
     ]
    },
    {
     "name": "stderr",
     "output_type": "stream",
     "text": [
      "\r",
      " 25%|██▌       | 5/20 [00:21<01:05,  4.37s/it]"
     ]
    },
    {
     "name": "stdout",
     "output_type": "stream",
     "text": [
      "('max mins', -1.0, 0.9453077658223246)\n"
     ]
    },
    {
     "name": "stderr",
     "output_type": "stream",
     "text": [
      "\r",
      " 30%|███       | 6/20 [00:26<01:01,  4.36s/it]"
     ]
    },
    {
     "name": "stdout",
     "output_type": "stream",
     "text": [
      "('max mins', -1.0, 0.9696416970600548)\n"
     ]
    },
    {
     "name": "stderr",
     "output_type": "stream",
     "text": [
      "\r",
      " 35%|███▌      | 7/20 [00:30<00:56,  4.36s/it]"
     ]
    },
    {
     "name": "stdout",
     "output_type": "stream",
     "text": [
      "('max mins', -0.9206378346384267, 1.0)\n"
     ]
    },
    {
     "name": "stderr",
     "output_type": "stream",
     "text": [
      "\r",
      " 40%|████      | 8/20 [00:34<00:52,  4.36s/it]"
     ]
    },
    {
     "name": "stdout",
     "output_type": "stream",
     "text": [
      "('max mins', -0.9634479508648188, 1.0)\n"
     ]
    },
    {
     "name": "stderr",
     "output_type": "stream",
     "text": [
      "\r",
      " 45%|████▌     | 9/20 [00:39<00:49,  4.50s/it]"
     ]
    },
    {
     "name": "stdout",
     "output_type": "stream",
     "text": [
      "('max mins', -0.9410304929219014, 1.0)\n"
     ]
    },
    {
     "name": "stderr",
     "output_type": "stream",
     "text": [
      "\r",
      " 50%|█████     | 10/20 [00:44<00:44,  4.46s/it]"
     ]
    },
    {
     "name": "stdout",
     "output_type": "stream",
     "text": [
      "('max mins', -0.9370308391076005, 1.0)\n"
     ]
    },
    {
     "name": "stderr",
     "output_type": "stream",
     "text": [
      "\r",
      " 55%|█████▌    | 11/20 [00:48<00:39,  4.43s/it]"
     ]
    },
    {
     "name": "stdout",
     "output_type": "stream",
     "text": [
      "('max mins', -1.0, 0.9695695784500635)\n"
     ]
    },
    {
     "name": "stderr",
     "output_type": "stream",
     "text": [
      "\r",
      " 60%|██████    | 12/20 [00:52<00:35,  4.40s/it]"
     ]
    },
    {
     "name": "stdout",
     "output_type": "stream",
     "text": [
      "('max mins', -1.0, 0.9633919535141232)\n"
     ]
    },
    {
     "name": "stderr",
     "output_type": "stream",
     "text": [
      "\r",
      " 65%|██████▌   | 13/20 [00:57<00:30,  4.39s/it]"
     ]
    },
    {
     "name": "stdout",
     "output_type": "stream",
     "text": [
      "('max mins', -1.0, 0.9906668655422063)\n"
     ]
    },
    {
     "name": "stderr",
     "output_type": "stream",
     "text": [
      "\r",
      " 70%|███████   | 14/20 [01:01<00:26,  4.38s/it]"
     ]
    },
    {
     "name": "stdout",
     "output_type": "stream",
     "text": [
      "('max mins', -1.0, 0.9788979006815761)\n"
     ]
    },
    {
     "name": "stderr",
     "output_type": "stream",
     "text": [
      "\r",
      " 75%|███████▌  | 15/20 [01:05<00:21,  4.37s/it]"
     ]
    },
    {
     "name": "stdout",
     "output_type": "stream",
     "text": [
      "('max mins', -1.0, 0.9627772202007328)\n"
     ]
    },
    {
     "name": "stderr",
     "output_type": "stream",
     "text": [
      "\r",
      " 80%|████████  | 16/20 [01:10<00:17,  4.36s/it]"
     ]
    },
    {
     "name": "stdout",
     "output_type": "stream",
     "text": [
      "('max mins', -1.0, 0.9677089880784278)\n"
     ]
    },
    {
     "name": "stderr",
     "output_type": "stream",
     "text": [
      "\r",
      " 85%|████████▌ | 17/20 [01:14<00:13,  4.36s/it]"
     ]
    },
    {
     "name": "stdout",
     "output_type": "stream",
     "text": [
      "('max mins', -1.0, 0.9255299371253971)\n"
     ]
    },
    {
     "name": "stderr",
     "output_type": "stream",
     "text": [
      "\r",
      " 90%|█████████ | 18/20 [01:18<00:08,  4.35s/it]"
     ]
    },
    {
     "name": "stdout",
     "output_type": "stream",
     "text": [
      "('max mins', -1.0, 0.9501887718253208)\n"
     ]
    },
    {
     "name": "stderr",
     "output_type": "stream",
     "text": [
      "\r",
      " 95%|█████████▌| 19/20 [01:23<00:04,  4.36s/it]"
     ]
    },
    {
     "name": "stdout",
     "output_type": "stream",
     "text": [
      "('max mins', -1.0, 0.958361788327466)\n"
     ]
    },
    {
     "name": "stderr",
     "output_type": "stream",
     "text": [
      "100%|██████████| 20/20 [01:27<00:00,  4.35s/it]\n"
     ]
    },
    {
     "name": "stdout",
     "output_type": "stream",
     "text": [
      "('Best file pairs are: ', 'non_spikey_T0000115.WAV*non_spikey_T0000116.WAV')\n",
      "Start and end indices around peak:                  start index: 11719467\t\t          end index: 23219467                  total samples:30015488\n",
      "('AV Sync was above threshold: ', 0.5044804739633456)\n",
      "common_fps/Aditya_annotations/2018-08-19/common_fps_video_syncAditya_2018-08-20_0300-0400_34.csv\n",
      "('video_fps obtained is :', 25)\n",
      "Did not find user-provided sample rate - getting it from first file that matches format!\n",
      "('sampling rate is : ', 250000)\n",
      ".....finding best audio segment.....\n"
     ]
    },
    {
     "name": "stderr",
     "output_type": "stream",
     "text": [
      "\r",
      "  0%|          | 0/20 [00:00<?, ?it/s]"
     ]
    },
    {
     "name": "stdout",
     "output_type": "stream",
     "text": [
      "('max mins for upsampled video', -1.0, 0.9741037343356203)\n",
      "('max mins', -0.9617203121839379, 1.0)\n"
     ]
    },
    {
     "name": "stderr",
     "output_type": "stream",
     "text": [
      "\r",
      "  5%|▌         | 1/20 [00:04<01:22,  4.36s/it]"
     ]
    },
    {
     "name": "stdout",
     "output_type": "stream",
     "text": [
      "('max mins', -0.9837532490329566, 1.0)\n"
     ]
    },
    {
     "name": "stderr",
     "output_type": "stream",
     "text": [
      "\r",
      " 10%|█         | 2/20 [00:08<01:18,  4.37s/it]"
     ]
    },
    {
     "name": "stdout",
     "output_type": "stream",
     "text": [
      "('max mins', -0.9615598038589722, 1.0)\n"
     ]
    },
    {
     "name": "stderr",
     "output_type": "stream",
     "text": [
      "\r",
      " 15%|█▌        | 3/20 [00:13<01:14,  4.37s/it]"
     ]
    },
    {
     "name": "stdout",
     "output_type": "stream",
     "text": [
      "('max mins', -0.9963540111630391, 1.0)\n"
     ]
    },
    {
     "name": "stderr",
     "output_type": "stream",
     "text": [
      "\r",
      " 20%|██        | 4/20 [00:17<01:09,  4.36s/it]"
     ]
    },
    {
     "name": "stdout",
     "output_type": "stream",
     "text": [
      "('max mins', -1.0, 0.9887857234341407)\n"
     ]
    },
    {
     "name": "stderr",
     "output_type": "stream",
     "text": [
      "\r",
      " 25%|██▌       | 5/20 [00:21<01:05,  4.36s/it]"
     ]
    },
    {
     "name": "stdout",
     "output_type": "stream",
     "text": [
      "('max mins', -1.0, 0.9453077658223246)\n"
     ]
    },
    {
     "name": "stderr",
     "output_type": "stream",
     "text": [
      "\r",
      " 30%|███       | 6/20 [00:26<01:01,  4.36s/it]"
     ]
    },
    {
     "name": "stdout",
     "output_type": "stream",
     "text": [
      "('max mins', -1.0, 0.9696416970600548)\n"
     ]
    },
    {
     "name": "stderr",
     "output_type": "stream",
     "text": [
      "\r",
      " 35%|███▌      | 7/20 [00:30<00:56,  4.36s/it]"
     ]
    },
    {
     "name": "stdout",
     "output_type": "stream",
     "text": [
      "('max mins', -0.9206378346384267, 1.0)\n"
     ]
    },
    {
     "name": "stderr",
     "output_type": "stream",
     "text": [
      "\r",
      " 40%|████      | 8/20 [00:34<00:52,  4.36s/it]"
     ]
    },
    {
     "name": "stdout",
     "output_type": "stream",
     "text": [
      "('max mins', -0.9634479508648188, 1.0)\n"
     ]
    },
    {
     "name": "stderr",
     "output_type": "stream",
     "text": [
      "\r",
      " 45%|████▌     | 9/20 [00:39<00:47,  4.36s/it]"
     ]
    },
    {
     "name": "stdout",
     "output_type": "stream",
     "text": [
      "('max mins', -0.9410304929219014, 1.0)\n"
     ]
    },
    {
     "name": "stderr",
     "output_type": "stream",
     "text": [
      "\r",
      " 50%|█████     | 10/20 [00:43<00:43,  4.35s/it]"
     ]
    },
    {
     "name": "stdout",
     "output_type": "stream",
     "text": [
      "('max mins', -0.9370308391076005, 1.0)\n"
     ]
    },
    {
     "name": "stderr",
     "output_type": "stream",
     "text": [
      "\r",
      " 55%|█████▌    | 11/20 [00:47<00:39,  4.35s/it]"
     ]
    },
    {
     "name": "stdout",
     "output_type": "stream",
     "text": [
      "('max mins', -1.0, 0.9695695784500635)\n"
     ]
    },
    {
     "name": "stderr",
     "output_type": "stream",
     "text": [
      "\r",
      " 60%|██████    | 12/20 [00:52<00:34,  4.35s/it]"
     ]
    },
    {
     "name": "stdout",
     "output_type": "stream",
     "text": [
      "('max mins', -1.0, 0.9633919535141232)\n"
     ]
    },
    {
     "name": "stderr",
     "output_type": "stream",
     "text": [
      "\r",
      " 65%|██████▌   | 13/20 [00:56<00:30,  4.35s/it]"
     ]
    },
    {
     "name": "stdout",
     "output_type": "stream",
     "text": [
      "('max mins', -1.0, 0.9906668655422063)\n"
     ]
    },
    {
     "name": "stderr",
     "output_type": "stream",
     "text": [
      "\r",
      " 70%|███████   | 14/20 [01:00<00:26,  4.34s/it]"
     ]
    },
    {
     "name": "stdout",
     "output_type": "stream",
     "text": [
      "('max mins', -1.0, 0.9788979006815761)\n"
     ]
    },
    {
     "name": "stderr",
     "output_type": "stream",
     "text": [
      "\r",
      " 75%|███████▌  | 15/20 [01:05<00:21,  4.36s/it]"
     ]
    },
    {
     "name": "stdout",
     "output_type": "stream",
     "text": [
      "('max mins', -1.0, 0.9627772202007328)\n"
     ]
    },
    {
     "name": "stderr",
     "output_type": "stream",
     "text": [
      "\r",
      " 80%|████████  | 16/20 [01:09<00:17,  4.40s/it]"
     ]
    },
    {
     "name": "stdout",
     "output_type": "stream",
     "text": [
      "('max mins', -1.0, 0.9677089880784278)\n"
     ]
    },
    {
     "name": "stderr",
     "output_type": "stream",
     "text": [
      "\r",
      " 85%|████████▌ | 17/20 [01:14<00:13,  4.38s/it]"
     ]
    },
    {
     "name": "stdout",
     "output_type": "stream",
     "text": [
      "('max mins', -1.0, 0.9255299371253971)\n"
     ]
    },
    {
     "name": "stderr",
     "output_type": "stream",
     "text": [
      "\r",
      " 90%|█████████ | 18/20 [01:18<00:08,  4.37s/it]"
     ]
    },
    {
     "name": "stdout",
     "output_type": "stream",
     "text": [
      "('max mins', -1.0, 0.9501887718253208)\n"
     ]
    },
    {
     "name": "stderr",
     "output_type": "stream",
     "text": [
      "\r",
      " 95%|█████████▌| 19/20 [01:22<00:04,  4.36s/it]"
     ]
    },
    {
     "name": "stdout",
     "output_type": "stream",
     "text": [
      "('max mins', -1.0, 0.958361788327466)\n"
     ]
    },
    {
     "name": "stderr",
     "output_type": "stream",
     "text": [
      "100%|██████████| 20/20 [01:27<00:00,  4.36s/it]\n"
     ]
    },
    {
     "name": "stdout",
     "output_type": "stream",
     "text": [
      "('Best file pairs are: ', 'non_spikey_T0000115.WAV*non_spikey_T0000116.WAV')\n",
      "Start and end indices around peak:                  start index: 11968378\t\t          end index: 23468378                  total samples:30015488\n",
      "('AV Sync was above threshold: ', 0.5211381249983612)\n",
      "common_fps/Aditya_annotations/2018-08-19/common_fps_video_syncAditya_2018-08-20_0300-0400_35.csv\n",
      "('video_fps obtained is :', 25)\n",
      "Did not find user-provided sample rate - getting it from first file that matches format!\n",
      "('sampling rate is : ', 250000)\n",
      ".....finding best audio segment.....\n"
     ]
    },
    {
     "name": "stderr",
     "output_type": "stream",
     "text": [
      "\r",
      "  0%|          | 0/20 [00:00<?, ?it/s]"
     ]
    },
    {
     "name": "stdout",
     "output_type": "stream",
     "text": [
      "('max mins for upsampled video', -0.7587403920933113, 1.0)\n",
      "('max mins', -0.9617203121839379, 1.0)\n"
     ]
    },
    {
     "name": "stderr",
     "output_type": "stream",
     "text": [
      "\r",
      "  5%|▌         | 1/20 [00:04<01:22,  4.36s/it]"
     ]
    },
    {
     "name": "stdout",
     "output_type": "stream",
     "text": [
      "('max mins', -0.9837532490329566, 1.0)\n"
     ]
    },
    {
     "name": "stderr",
     "output_type": "stream",
     "text": [
      "\r",
      " 10%|█         | 2/20 [00:08<01:18,  4.37s/it]"
     ]
    },
    {
     "name": "stdout",
     "output_type": "stream",
     "text": [
      "('max mins', -0.9615598038589722, 1.0)\n"
     ]
    },
    {
     "name": "stderr",
     "output_type": "stream",
     "text": [
      "\r",
      " 15%|█▌        | 3/20 [00:13<01:14,  4.36s/it]"
     ]
    },
    {
     "name": "stdout",
     "output_type": "stream",
     "text": [
      "('max mins', -0.9963540111630391, 1.0)\n"
     ]
    },
    {
     "name": "stderr",
     "output_type": "stream",
     "text": [
      "\r",
      " 20%|██        | 4/20 [00:17<01:09,  4.35s/it]"
     ]
    },
    {
     "name": "stdout",
     "output_type": "stream",
     "text": [
      "('max mins', -1.0, 0.9887857234341407)\n"
     ]
    },
    {
     "name": "stderr",
     "output_type": "stream",
     "text": [
      "\r",
      " 25%|██▌       | 5/20 [00:21<01:05,  4.35s/it]"
     ]
    },
    {
     "name": "stdout",
     "output_type": "stream",
     "text": [
      "('max mins', -1.0, 0.9453077658223246)\n"
     ]
    },
    {
     "name": "stderr",
     "output_type": "stream",
     "text": [
      "\r",
      " 30%|███       | 6/20 [00:26<01:00,  4.35s/it]"
     ]
    },
    {
     "name": "stdout",
     "output_type": "stream",
     "text": [
      "('max mins', -1.0, 0.9696416970600548)\n"
     ]
    },
    {
     "name": "stderr",
     "output_type": "stream",
     "text": [
      "\r",
      " 35%|███▌      | 7/20 [00:30<00:56,  4.35s/it]"
     ]
    },
    {
     "name": "stdout",
     "output_type": "stream",
     "text": [
      "('max mins', -0.9206378346384267, 1.0)\n"
     ]
    },
    {
     "name": "stderr",
     "output_type": "stream",
     "text": [
      "\r",
      " 40%|████      | 8/20 [00:34<00:52,  4.35s/it]"
     ]
    },
    {
     "name": "stdout",
     "output_type": "stream",
     "text": [
      "('max mins', -0.9634479508648188, 1.0)\n"
     ]
    },
    {
     "name": "stderr",
     "output_type": "stream",
     "text": [
      "\r",
      " 45%|████▌     | 9/20 [00:39<00:47,  4.35s/it]"
     ]
    },
    {
     "name": "stdout",
     "output_type": "stream",
     "text": [
      "('max mins', -0.9410304929219014, 1.0)\n"
     ]
    },
    {
     "name": "stderr",
     "output_type": "stream",
     "text": [
      "\r",
      " 50%|█████     | 10/20 [00:43<00:43,  4.35s/it]"
     ]
    },
    {
     "name": "stdout",
     "output_type": "stream",
     "text": [
      "('max mins', -0.9370308391076005, 1.0)\n"
     ]
    },
    {
     "name": "stderr",
     "output_type": "stream",
     "text": [
      "\r",
      " 55%|█████▌    | 11/20 [00:47<00:39,  4.34s/it]"
     ]
    },
    {
     "name": "stdout",
     "output_type": "stream",
     "text": [
      "('max mins', -1.0, 0.9695695784500635)\n"
     ]
    },
    {
     "name": "stderr",
     "output_type": "stream",
     "text": [
      "\r",
      " 60%|██████    | 12/20 [00:52<00:34,  4.34s/it]"
     ]
    },
    {
     "name": "stdout",
     "output_type": "stream",
     "text": [
      "('max mins', -1.0, 0.9633919535141232)\n"
     ]
    },
    {
     "name": "stderr",
     "output_type": "stream",
     "text": [
      "\r",
      " 65%|██████▌   | 13/20 [00:56<00:30,  4.34s/it]"
     ]
    },
    {
     "name": "stdout",
     "output_type": "stream",
     "text": [
      "('max mins', -1.0, 0.9906668655422063)\n"
     ]
    },
    {
     "name": "stderr",
     "output_type": "stream",
     "text": [
      "\r",
      " 70%|███████   | 14/20 [01:00<00:26,  4.34s/it]"
     ]
    },
    {
     "name": "stdout",
     "output_type": "stream",
     "text": [
      "('max mins', -1.0, 0.9788979006815761)\n"
     ]
    },
    {
     "name": "stderr",
     "output_type": "stream",
     "text": [
      "\r",
      " 75%|███████▌  | 15/20 [01:05<00:21,  4.34s/it]"
     ]
    },
    {
     "name": "stdout",
     "output_type": "stream",
     "text": [
      "('max mins', -1.0, 0.9627772202007328)\n"
     ]
    },
    {
     "name": "stderr",
     "output_type": "stream",
     "text": [
      "\r",
      " 80%|████████  | 16/20 [01:09<00:17,  4.34s/it]"
     ]
    },
    {
     "name": "stdout",
     "output_type": "stream",
     "text": [
      "('max mins', -1.0, 0.9677089880784278)\n"
     ]
    },
    {
     "name": "stderr",
     "output_type": "stream",
     "text": [
      "\r",
      " 85%|████████▌ | 17/20 [01:13<00:13,  4.34s/it]"
     ]
    },
    {
     "name": "stdout",
     "output_type": "stream",
     "text": [
      "('max mins', -1.0, 0.9255299371253971)\n"
     ]
    },
    {
     "name": "stderr",
     "output_type": "stream",
     "text": [
      "\r",
      " 90%|█████████ | 18/20 [01:18<00:08,  4.35s/it]"
     ]
    },
    {
     "name": "stdout",
     "output_type": "stream",
     "text": [
      "('max mins', -1.0, 0.9501887718253208)\n"
     ]
    },
    {
     "name": "stderr",
     "output_type": "stream",
     "text": [
      "\r",
      " 95%|█████████▌| 19/20 [01:22<00:04,  4.35s/it]"
     ]
    },
    {
     "name": "stdout",
     "output_type": "stream",
     "text": [
      "('max mins', -1.0, 0.958361788327466)\n"
     ]
    },
    {
     "name": "stderr",
     "output_type": "stream",
     "text": [
      "100%|██████████| 20/20 [01:26<00:00,  4.35s/it]\n"
     ]
    },
    {
     "name": "stdout",
     "output_type": "stream",
     "text": [
      "('Best file pairs are: ', 'non_spikey_T0000116.WAV*non_spikey_T0000117.WAV')\n",
      "Start and end indices around peak:                  start index: 1448868\t\t          end index: 12948868                  total samples:30015488\n",
      "('AV Sync was above threshold: ', 0.7605763804827657)\n",
      "common_fps/Aditya_annotations/2018-08-19/common_fps_video_syncAditya_2018-08-20_0300-0400_36.csv\n",
      "('video_fps obtained is :', 25)\n",
      "Did not find user-provided sample rate - getting it from first file that matches format!\n",
      "('sampling rate is : ', 250000)\n",
      ".....finding best audio segment.....\n"
     ]
    },
    {
     "name": "stderr",
     "output_type": "stream",
     "text": [
      "\r",
      "  0%|          | 0/20 [00:00<?, ?it/s]"
     ]
    },
    {
     "name": "stdout",
     "output_type": "stream",
     "text": [
      "('max mins for upsampled video', -0.8632773192507018, 1.0)\n",
      "('max mins', -0.9617203121839379, 1.0)\n"
     ]
    },
    {
     "name": "stderr",
     "output_type": "stream",
     "text": [
      "\r",
      "  5%|▌         | 1/20 [00:04<01:25,  4.50s/it]"
     ]
    },
    {
     "name": "stdout",
     "output_type": "stream",
     "text": [
      "('max mins', -0.9837532490329566, 1.0)\n"
     ]
    },
    {
     "name": "stderr",
     "output_type": "stream",
     "text": [
      "\r",
      " 10%|█         | 2/20 [00:09<01:21,  4.50s/it]"
     ]
    },
    {
     "name": "stdout",
     "output_type": "stream",
     "text": [
      "('max mins', -0.9615598038589722, 1.0)\n"
     ]
    },
    {
     "name": "stderr",
     "output_type": "stream",
     "text": [
      "\r",
      " 15%|█▌        | 3/20 [00:13<01:15,  4.46s/it]"
     ]
    },
    {
     "name": "stdout",
     "output_type": "stream",
     "text": [
      "('max mins', -0.9963540111630391, 1.0)\n"
     ]
    },
    {
     "name": "stderr",
     "output_type": "stream",
     "text": [
      "\r",
      " 20%|██        | 4/20 [00:17<01:10,  4.43s/it]"
     ]
    },
    {
     "name": "stdout",
     "output_type": "stream",
     "text": [
      "('max mins', -1.0, 0.9887857234341407)\n"
     ]
    },
    {
     "name": "stderr",
     "output_type": "stream",
     "text": [
      "\r",
      " 25%|██▌       | 5/20 [00:22<01:06,  4.40s/it]"
     ]
    },
    {
     "name": "stdout",
     "output_type": "stream",
     "text": [
      "('max mins', -1.0, 0.9453077658223246)\n"
     ]
    },
    {
     "name": "stderr",
     "output_type": "stream",
     "text": [
      "\r",
      " 30%|███       | 6/20 [00:26<01:01,  4.39s/it]"
     ]
    },
    {
     "name": "stdout",
     "output_type": "stream",
     "text": [
      "('max mins', -1.0, 0.9696416970600548)\n"
     ]
    },
    {
     "name": "stderr",
     "output_type": "stream",
     "text": [
      "\r",
      " 35%|███▌      | 7/20 [00:30<00:56,  4.38s/it]"
     ]
    },
    {
     "name": "stdout",
     "output_type": "stream",
     "text": [
      "('max mins', -0.9206378346384267, 1.0)\n"
     ]
    },
    {
     "name": "stderr",
     "output_type": "stream",
     "text": [
      "\r",
      " 40%|████      | 8/20 [00:35<00:52,  4.37s/it]"
     ]
    },
    {
     "name": "stdout",
     "output_type": "stream",
     "text": [
      "('max mins', -0.9634479508648188, 1.0)\n"
     ]
    },
    {
     "name": "stderr",
     "output_type": "stream",
     "text": [
      "\r",
      " 45%|████▌     | 9/20 [00:39<00:47,  4.36s/it]"
     ]
    },
    {
     "name": "stdout",
     "output_type": "stream",
     "text": [
      "('max mins', -0.9410304929219014, 1.0)\n"
     ]
    },
    {
     "name": "stderr",
     "output_type": "stream",
     "text": [
      "\r",
      " 50%|█████     | 10/20 [00:43<00:43,  4.36s/it]"
     ]
    },
    {
     "name": "stdout",
     "output_type": "stream",
     "text": [
      "('max mins', -0.9370308391076005, 1.0)\n"
     ]
    },
    {
     "name": "stderr",
     "output_type": "stream",
     "text": [
      "\r",
      " 55%|█████▌    | 11/20 [00:48<00:39,  4.35s/it]"
     ]
    },
    {
     "name": "stdout",
     "output_type": "stream",
     "text": [
      "('max mins', -1.0, 0.9695695784500635)\n"
     ]
    },
    {
     "name": "stderr",
     "output_type": "stream",
     "text": [
      "\r",
      " 60%|██████    | 12/20 [00:52<00:34,  4.35s/it]"
     ]
    },
    {
     "name": "stdout",
     "output_type": "stream",
     "text": [
      "('max mins', -1.0, 0.9633919535141232)\n"
     ]
    },
    {
     "name": "stderr",
     "output_type": "stream",
     "text": [
      "\r",
      " 65%|██████▌   | 13/20 [00:56<00:30,  4.35s/it]"
     ]
    },
    {
     "name": "stdout",
     "output_type": "stream",
     "text": [
      "('max mins', -1.0, 0.9906668655422063)\n"
     ]
    },
    {
     "name": "stderr",
     "output_type": "stream",
     "text": [
      "\r",
      " 70%|███████   | 14/20 [01:01<00:26,  4.35s/it]"
     ]
    },
    {
     "name": "stdout",
     "output_type": "stream",
     "text": [
      "('max mins', -1.0, 0.9788979006815761)\n"
     ]
    },
    {
     "name": "stderr",
     "output_type": "stream",
     "text": [
      "\r",
      " 75%|███████▌  | 15/20 [01:05<00:21,  4.35s/it]"
     ]
    },
    {
     "name": "stdout",
     "output_type": "stream",
     "text": [
      "('max mins', -1.0, 0.9627772202007328)\n"
     ]
    },
    {
     "name": "stderr",
     "output_type": "stream",
     "text": [
      "\r",
      " 80%|████████  | 16/20 [01:09<00:17,  4.34s/it]"
     ]
    },
    {
     "name": "stdout",
     "output_type": "stream",
     "text": [
      "('max mins', -1.0, 0.9677089880784278)\n"
     ]
    },
    {
     "name": "stderr",
     "output_type": "stream",
     "text": [
      "\r",
      " 85%|████████▌ | 17/20 [01:14<00:13,  4.34s/it]"
     ]
    },
    {
     "name": "stdout",
     "output_type": "stream",
     "text": [
      "('max mins', -1.0, 0.9255299371253971)\n"
     ]
    },
    {
     "name": "stderr",
     "output_type": "stream",
     "text": [
      "\r",
      " 90%|█████████ | 18/20 [01:18<00:08,  4.34s/it]"
     ]
    },
    {
     "name": "stdout",
     "output_type": "stream",
     "text": [
      "('max mins', -1.0, 0.9501887718253208)\n"
     ]
    },
    {
     "name": "stderr",
     "output_type": "stream",
     "text": [
      "\r",
      " 95%|█████████▌| 19/20 [01:22<00:04,  4.35s/it]"
     ]
    },
    {
     "name": "stdout",
     "output_type": "stream",
     "text": [
      "('max mins', -1.0, 0.958361788327466)\n"
     ]
    },
    {
     "name": "stderr",
     "output_type": "stream",
     "text": [
      "100%|██████████| 20/20 [01:27<00:00,  4.35s/it]\n"
     ]
    },
    {
     "name": "stdout",
     "output_type": "stream",
     "text": [
      "('Best file pairs are: ', 'non_spikey_T0000116.WAV*non_spikey_T0000117.WAV')\n",
      "Start and end indices around peak:                  start index: 5445126\t\t          end index: 16945126                  total samples:30015488\n",
      "('AV Sync was above threshold: ', 0.8496577165105252)\n",
      "common_fps/Aditya_annotations/2018-08-19/common_fps_video_syncAditya_2018-08-20_0300-0400_38.csv\n",
      "('video_fps obtained is :', 25)\n",
      "Did not find user-provided sample rate - getting it from first file that matches format!\n",
      "('sampling rate is : ', 250000)\n",
      ".....finding best audio segment.....\n"
     ]
    },
    {
     "name": "stderr",
     "output_type": "stream",
     "text": [
      "\r",
      "  0%|          | 0/20 [00:00<?, ?it/s]"
     ]
    },
    {
     "name": "stdout",
     "output_type": "stream",
     "text": [
      "('max mins for upsampled video', -0.8767988059771045, 1.0)\n",
      "('max mins', -0.9617203121839379, 1.0)\n"
     ]
    },
    {
     "name": "stderr",
     "output_type": "stream",
     "text": [
      "\r",
      "  5%|▌         | 1/20 [00:04<01:23,  4.38s/it]"
     ]
    },
    {
     "name": "stdout",
     "output_type": "stream",
     "text": [
      "('max mins', -0.9837532490329566, 1.0)\n"
     ]
    },
    {
     "name": "stderr",
     "output_type": "stream",
     "text": [
      "\r",
      " 10%|█         | 2/20 [00:08<01:18,  4.37s/it]"
     ]
    },
    {
     "name": "stdout",
     "output_type": "stream",
     "text": [
      "('max mins', -0.9615598038589722, 1.0)\n"
     ]
    },
    {
     "name": "stderr",
     "output_type": "stream",
     "text": [
      "\r",
      " 15%|█▌        | 3/20 [00:13<01:14,  4.40s/it]"
     ]
    },
    {
     "name": "stdout",
     "output_type": "stream",
     "text": [
      "('max mins', -0.9963540111630391, 1.0)\n"
     ]
    },
    {
     "name": "stderr",
     "output_type": "stream",
     "text": [
      "\r",
      " 20%|██        | 4/20 [00:17<01:10,  4.39s/it]"
     ]
    },
    {
     "name": "stdout",
     "output_type": "stream",
     "text": [
      "('max mins', -1.0, 0.9887857234341407)\n"
     ]
    },
    {
     "name": "stderr",
     "output_type": "stream",
     "text": [
      "\r",
      " 25%|██▌       | 5/20 [00:21<01:05,  4.37s/it]"
     ]
    },
    {
     "name": "stdout",
     "output_type": "stream",
     "text": [
      "('max mins', -1.0, 0.9453077658223246)\n"
     ]
    },
    {
     "name": "stderr",
     "output_type": "stream",
     "text": [
      "\r",
      " 30%|███       | 6/20 [00:26<01:01,  4.36s/it]"
     ]
    },
    {
     "name": "stdout",
     "output_type": "stream",
     "text": [
      "('max mins', -1.0, 0.9696416970600548)\n"
     ]
    },
    {
     "name": "stderr",
     "output_type": "stream",
     "text": [
      "\r",
      " 35%|███▌      | 7/20 [00:30<00:56,  4.35s/it]"
     ]
    },
    {
     "name": "stdout",
     "output_type": "stream",
     "text": [
      "('max mins', -0.9206378346384267, 1.0)\n"
     ]
    },
    {
     "name": "stderr",
     "output_type": "stream",
     "text": [
      "\r",
      " 40%|████      | 8/20 [00:35<00:53,  4.48s/it]"
     ]
    },
    {
     "name": "stdout",
     "output_type": "stream",
     "text": [
      "('max mins', -0.9634479508648188, 1.0)\n"
     ]
    },
    {
     "name": "stderr",
     "output_type": "stream",
     "text": [
      "\r",
      " 45%|████▌     | 9/20 [00:39<00:48,  4.44s/it]"
     ]
    },
    {
     "name": "stdout",
     "output_type": "stream",
     "text": [
      "('max mins', -0.9410304929219014, 1.0)\n"
     ]
    },
    {
     "name": "stderr",
     "output_type": "stream",
     "text": [
      "\r",
      " 50%|█████     | 10/20 [00:44<00:44,  4.41s/it]"
     ]
    },
    {
     "name": "stdout",
     "output_type": "stream",
     "text": [
      "('max mins', -0.9370308391076005, 1.0)\n"
     ]
    },
    {
     "name": "stderr",
     "output_type": "stream",
     "text": [
      "\r",
      " 55%|█████▌    | 11/20 [00:48<00:39,  4.39s/it]"
     ]
    },
    {
     "name": "stdout",
     "output_type": "stream",
     "text": [
      "('max mins', -1.0, 0.9695695784500635)\n"
     ]
    },
    {
     "name": "stderr",
     "output_type": "stream",
     "text": [
      "\r",
      " 60%|██████    | 12/20 [00:52<00:34,  4.37s/it]"
     ]
    },
    {
     "name": "stdout",
     "output_type": "stream",
     "text": [
      "('max mins', -1.0, 0.9633919535141232)\n"
     ]
    },
    {
     "name": "stderr",
     "output_type": "stream",
     "text": [
      "\r",
      " 65%|██████▌   | 13/20 [00:57<00:30,  4.36s/it]"
     ]
    },
    {
     "name": "stdout",
     "output_type": "stream",
     "text": [
      "('max mins', -1.0, 0.9906668655422063)\n"
     ]
    },
    {
     "name": "stderr",
     "output_type": "stream",
     "text": [
      "\r",
      " 70%|███████   | 14/20 [01:01<00:26,  4.35s/it]"
     ]
    },
    {
     "name": "stdout",
     "output_type": "stream",
     "text": [
      "('max mins', -1.0, 0.9788979006815761)\n"
     ]
    },
    {
     "name": "stderr",
     "output_type": "stream",
     "text": [
      "\r",
      " 75%|███████▌  | 15/20 [01:05<00:21,  4.34s/it]"
     ]
    },
    {
     "name": "stdout",
     "output_type": "stream",
     "text": [
      "('max mins', -1.0, 0.9627772202007328)\n"
     ]
    },
    {
     "name": "stderr",
     "output_type": "stream",
     "text": [
      "\r",
      " 80%|████████  | 16/20 [01:10<00:17,  4.34s/it]"
     ]
    },
    {
     "name": "stdout",
     "output_type": "stream",
     "text": [
      "('max mins', -1.0, 0.9677089880784278)\n"
     ]
    },
    {
     "name": "stderr",
     "output_type": "stream",
     "text": [
      "\r",
      " 85%|████████▌ | 17/20 [01:14<00:13,  4.34s/it]"
     ]
    },
    {
     "name": "stdout",
     "output_type": "stream",
     "text": [
      "('max mins', -1.0, 0.9255299371253971)\n"
     ]
    },
    {
     "name": "stderr",
     "output_type": "stream",
     "text": [
      "\r",
      " 90%|█████████ | 18/20 [01:18<00:08,  4.34s/it]"
     ]
    },
    {
     "name": "stdout",
     "output_type": "stream",
     "text": [
      "('max mins', -1.0, 0.9501887718253208)\n"
     ]
    },
    {
     "name": "stderr",
     "output_type": "stream",
     "text": [
      "\r",
      " 95%|█████████▌| 19/20 [01:23<00:04,  4.34s/it]"
     ]
    },
    {
     "name": "stdout",
     "output_type": "stream",
     "text": [
      "('max mins', -1.0, 0.958361788327466)\n"
     ]
    },
    {
     "name": "stderr",
     "output_type": "stream",
     "text": [
      "100%|██████████| 20/20 [01:27<00:00,  4.34s/it]\n"
     ]
    },
    {
     "name": "stdout",
     "output_type": "stream",
     "text": [
      "('Best file pairs are: ', 'non_spikey_T0000116.WAV*non_spikey_T0000117.WAV')\n",
      "Start and end indices around peak:                  start index: 8945682\t\t          end index: 20445682                  total samples:30015488\n",
      "('AV Sync was above threshold: ', 0.8502824986151364)\n",
      "common_fps/Aditya_annotations/2018-08-19/common_fps_video_syncAditya_2018-08-20_0300-0400_39.csv\n",
      "('video_fps obtained is :', 25)\n",
      "Did not find user-provided sample rate - getting it from first file that matches format!\n",
      "('sampling rate is : ', 250000)\n",
      ".....finding best audio segment.....\n"
     ]
    },
    {
     "name": "stderr",
     "output_type": "stream",
     "text": [
      "\r",
      "  0%|          | 0/20 [00:00<?, ?it/s]"
     ]
    },
    {
     "name": "stdout",
     "output_type": "stream",
     "text": [
      "('max mins for upsampled video', -0.8767988059771045, 1.0)\n",
      "('max mins', -0.9617203121839379, 1.0)\n"
     ]
    },
    {
     "name": "stderr",
     "output_type": "stream",
     "text": [
      "\r",
      "  5%|▌         | 1/20 [00:04<01:22,  4.37s/it]"
     ]
    },
    {
     "name": "stdout",
     "output_type": "stream",
     "text": [
      "('max mins', -0.9837532490329566, 1.0)\n"
     ]
    },
    {
     "name": "stderr",
     "output_type": "stream",
     "text": [
      "\r",
      " 10%|█         | 2/20 [00:08<01:18,  4.37s/it]"
     ]
    },
    {
     "name": "stdout",
     "output_type": "stream",
     "text": [
      "('max mins', -0.9615598038589722, 1.0)\n"
     ]
    },
    {
     "name": "stderr",
     "output_type": "stream",
     "text": [
      "\r",
      " 15%|█▌        | 3/20 [00:13<01:14,  4.36s/it]"
     ]
    },
    {
     "name": "stdout",
     "output_type": "stream",
     "text": [
      "('max mins', -0.9963540111630391, 1.0)\n"
     ]
    },
    {
     "name": "stderr",
     "output_type": "stream",
     "text": [
      "\r",
      " 20%|██        | 4/20 [00:17<01:09,  4.35s/it]"
     ]
    },
    {
     "name": "stdout",
     "output_type": "stream",
     "text": [
      "('max mins', -1.0, 0.9887857234341407)\n"
     ]
    },
    {
     "name": "stderr",
     "output_type": "stream",
     "text": [
      "\r",
      " 25%|██▌       | 5/20 [00:21<01:05,  4.37s/it]"
     ]
    },
    {
     "name": "stdout",
     "output_type": "stream",
     "text": [
      "('max mins', -1.0, 0.9453077658223246)\n"
     ]
    },
    {
     "name": "stderr",
     "output_type": "stream",
     "text": [
      "\r",
      " 30%|███       | 6/20 [00:26<01:01,  4.36s/it]"
     ]
    },
    {
     "name": "stdout",
     "output_type": "stream",
     "text": [
      "('max mins', -1.0, 0.9696416970600548)\n"
     ]
    },
    {
     "name": "stderr",
     "output_type": "stream",
     "text": [
      "\r",
      " 35%|███▌      | 7/20 [00:30<00:56,  4.35s/it]"
     ]
    },
    {
     "name": "stdout",
     "output_type": "stream",
     "text": [
      "('max mins', -0.9206378346384267, 1.0)\n"
     ]
    },
    {
     "name": "stderr",
     "output_type": "stream",
     "text": [
      "\r",
      " 40%|████      | 8/20 [00:34<00:52,  4.34s/it]"
     ]
    },
    {
     "name": "stdout",
     "output_type": "stream",
     "text": [
      "('max mins', -0.9634479508648188, 1.0)\n"
     ]
    },
    {
     "name": "stderr",
     "output_type": "stream",
     "text": [
      "\r",
      " 45%|████▌     | 9/20 [00:39<00:47,  4.34s/it]"
     ]
    },
    {
     "name": "stdout",
     "output_type": "stream",
     "text": [
      "('max mins', -0.9410304929219014, 1.0)\n"
     ]
    },
    {
     "name": "stderr",
     "output_type": "stream",
     "text": [
      "\r",
      " 50%|█████     | 10/20 [00:43<00:43,  4.34s/it]"
     ]
    },
    {
     "name": "stdout",
     "output_type": "stream",
     "text": [
      "('max mins', -0.9370308391076005, 1.0)\n"
     ]
    },
    {
     "name": "stderr",
     "output_type": "stream",
     "text": [
      "\r",
      " 55%|█████▌    | 11/20 [00:47<00:39,  4.34s/it]"
     ]
    },
    {
     "name": "stdout",
     "output_type": "stream",
     "text": [
      "('max mins', -1.0, 0.9695695784500635)\n"
     ]
    },
    {
     "name": "stderr",
     "output_type": "stream",
     "text": [
      "\r",
      " 60%|██████    | 12/20 [00:52<00:34,  4.34s/it]"
     ]
    },
    {
     "name": "stdout",
     "output_type": "stream",
     "text": [
      "('max mins', -1.0, 0.9633919535141232)\n"
     ]
    },
    {
     "name": "stderr",
     "output_type": "stream",
     "text": [
      "\r",
      " 65%|██████▌   | 13/20 [00:56<00:30,  4.34s/it]"
     ]
    },
    {
     "name": "stdout",
     "output_type": "stream",
     "text": [
      "('max mins', -1.0, 0.9906668655422063)\n"
     ]
    },
    {
     "name": "stderr",
     "output_type": "stream",
     "text": [
      "\r",
      " 70%|███████   | 14/20 [01:00<00:26,  4.34s/it]"
     ]
    },
    {
     "name": "stdout",
     "output_type": "stream",
     "text": [
      "('max mins', -1.0, 0.9788979006815761)\n"
     ]
    },
    {
     "name": "stderr",
     "output_type": "stream",
     "text": [
      "\r",
      " 75%|███████▌  | 15/20 [01:05<00:22,  4.50s/it]"
     ]
    },
    {
     "name": "stdout",
     "output_type": "stream",
     "text": [
      "('max mins', -1.0, 0.9627772202007328)\n"
     ]
    },
    {
     "name": "stderr",
     "output_type": "stream",
     "text": [
      "\r",
      " 80%|████████  | 16/20 [01:10<00:17,  4.46s/it]"
     ]
    },
    {
     "name": "stdout",
     "output_type": "stream",
     "text": [
      "('max mins', -1.0, 0.9677089880784278)\n"
     ]
    },
    {
     "name": "stderr",
     "output_type": "stream",
     "text": [
      "\r",
      " 85%|████████▌ | 17/20 [01:14<00:13,  4.42s/it]"
     ]
    },
    {
     "name": "stdout",
     "output_type": "stream",
     "text": [
      "('max mins', -1.0, 0.9255299371253971)\n"
     ]
    },
    {
     "name": "stderr",
     "output_type": "stream",
     "text": [
      "\r",
      " 90%|█████████ | 18/20 [01:18<00:08,  4.39s/it]"
     ]
    },
    {
     "name": "stdout",
     "output_type": "stream",
     "text": [
      "('max mins', -1.0, 0.9501887718253208)\n"
     ]
    },
    {
     "name": "stderr",
     "output_type": "stream",
     "text": [
      "\r",
      " 95%|█████████▌| 19/20 [01:23<00:04,  4.37s/it]"
     ]
    },
    {
     "name": "stdout",
     "output_type": "stream",
     "text": [
      "('max mins', -1.0, 0.958361788327466)\n"
     ]
    },
    {
     "name": "stderr",
     "output_type": "stream",
     "text": [
      "100%|██████████| 20/20 [01:27<00:00,  4.36s/it]\n"
     ]
    },
    {
     "name": "stdout",
     "output_type": "stream",
     "text": [
      "('Best file pairs are: ', 'non_spikey_T0000116.WAV*non_spikey_T0000117.WAV')\n",
      "Start and end indices around peak:                  start index: 8945682\t\t          end index: 20445682                  total samples:30015488\n",
      "('AV Sync was above threshold: ', 0.8502824986151364)\n",
      "common_fps/Aditya_annotations/2018-08-19/common_fps_video_syncAditya_2018-08-20_0300-0400_41.csv\n",
      "('video_fps obtained is :', 25)\n",
      "Did not find user-provided sample rate - getting it from first file that matches format!\n",
      "('sampling rate is : ', 250000)\n",
      ".....finding best audio segment.....\n"
     ]
    },
    {
     "name": "stderr",
     "output_type": "stream",
     "text": [
      "\r",
      "  0%|          | 0/19 [00:00<?, ?it/s]"
     ]
    },
    {
     "name": "stdout",
     "output_type": "stream",
     "text": [
      "('max mins for upsampled video', -0.9218381520023136, 1.0)\n",
      "('max mins', -0.9370308391076005, 1.0)\n"
     ]
    },
    {
     "name": "stderr",
     "output_type": "stream",
     "text": [
      "\r",
      "  5%|▌         | 1/19 [00:04<01:18,  4.35s/it]"
     ]
    },
    {
     "name": "stdout",
     "output_type": "stream",
     "text": [
      "('max mins', -1.0, 0.9695695784500635)\n"
     ]
    },
    {
     "name": "stderr",
     "output_type": "stream",
     "text": [
      "\r",
      " 11%|█         | 2/19 [00:08<01:13,  4.35s/it]"
     ]
    },
    {
     "name": "stdout",
     "output_type": "stream",
     "text": [
      "('max mins', -1.0, 0.9633919535141232)\n"
     ]
    },
    {
     "name": "stderr",
     "output_type": "stream",
     "text": [
      "\r",
      " 16%|█▌        | 3/19 [00:13<01:09,  4.35s/it]"
     ]
    },
    {
     "name": "stdout",
     "output_type": "stream",
     "text": [
      "('max mins', -1.0, 0.9906668655422063)\n"
     ]
    },
    {
     "name": "stderr",
     "output_type": "stream",
     "text": [
      "\r",
      " 21%|██        | 4/19 [00:17<01:05,  4.34s/it]"
     ]
    },
    {
     "name": "stdout",
     "output_type": "stream",
     "text": [
      "('max mins', -1.0, 0.9788979006815761)\n"
     ]
    },
    {
     "name": "stderr",
     "output_type": "stream",
     "text": [
      "\r",
      " 26%|██▋       | 5/19 [00:21<01:00,  4.34s/it]"
     ]
    },
    {
     "name": "stdout",
     "output_type": "stream",
     "text": [
      "('max mins', -1.0, 0.9627772202007328)\n"
     ]
    },
    {
     "name": "stderr",
     "output_type": "stream",
     "text": [
      "\r",
      " 32%|███▏      | 6/19 [00:26<00:56,  4.34s/it]"
     ]
    },
    {
     "name": "stdout",
     "output_type": "stream",
     "text": [
      "('max mins', -1.0, 0.9677089880784278)\n"
     ]
    },
    {
     "name": "stderr",
     "output_type": "stream",
     "text": [
      "\r",
      " 37%|███▋      | 7/19 [00:30<00:53,  4.46s/it]"
     ]
    },
    {
     "name": "stdout",
     "output_type": "stream",
     "text": [
      "('max mins', -1.0, 0.9255299371253971)\n"
     ]
    },
    {
     "name": "stderr",
     "output_type": "stream",
     "text": [
      "\r",
      " 42%|████▏     | 8/19 [00:35<00:48,  4.42s/it]"
     ]
    },
    {
     "name": "stdout",
     "output_type": "stream",
     "text": [
      "('max mins', -1.0, 0.9501887718253208)\n"
     ]
    },
    {
     "name": "stderr",
     "output_type": "stream",
     "text": [
      "\r",
      " 47%|████▋     | 9/19 [00:39<00:43,  4.40s/it]"
     ]
    },
    {
     "name": "stdout",
     "output_type": "stream",
     "text": [
      "('max mins', -1.0, 0.958361788327466)\n"
     ]
    },
    {
     "name": "stderr",
     "output_type": "stream",
     "text": [
      "\r",
      " 53%|█████▎    | 10/19 [00:43<00:39,  4.38s/it]"
     ]
    },
    {
     "name": "stdout",
     "output_type": "stream",
     "text": [
      "('max mins', -0.9934589839614669, 1.0)\n"
     ]
    },
    {
     "name": "stderr",
     "output_type": "stream",
     "text": [
      "\r",
      " 58%|█████▊    | 11/19 [00:52<00:46,  5.81s/it]"
     ]
    },
    {
     "name": "stdout",
     "output_type": "stream",
     "text": [
      "('max mins', -0.9639844543162986, 1.0)\n"
     ]
    },
    {
     "name": "stderr",
     "output_type": "stream",
     "text": [
      "\r",
      " 63%|██████▎   | 12/19 [01:01<00:46,  6.63s/it]"
     ]
    },
    {
     "name": "stdout",
     "output_type": "stream",
     "text": [
      "('max mins', -0.9735643333705267, 1.0)\n"
     ]
    },
    {
     "name": "stderr",
     "output_type": "stream",
     "text": [
      "\r",
      " 68%|██████▊   | 13/19 [01:10<00:43,  7.24s/it]"
     ]
    },
    {
     "name": "stdout",
     "output_type": "stream",
     "text": [
      "('max mins', -0.9761068437889729, 1.0)\n"
     ]
    },
    {
     "name": "stderr",
     "output_type": "stream",
     "text": [
      "\r",
      " 74%|███████▎  | 14/19 [01:18<00:38,  7.68s/it]"
     ]
    },
    {
     "name": "stdout",
     "output_type": "stream",
     "text": [
      "('max mins', -1.0, 0.9541452922954086)\n"
     ]
    },
    {
     "name": "stderr",
     "output_type": "stream",
     "text": [
      "\r",
      " 79%|███████▉  | 15/19 [01:27<00:31,  7.97s/it]"
     ]
    },
    {
     "name": "stdout",
     "output_type": "stream",
     "text": [
      "('max mins', -1.0, 0.9391597627822404)\n"
     ]
    },
    {
     "name": "stderr",
     "output_type": "stream",
     "text": [
      "\r",
      " 84%|████████▍ | 16/19 [01:36<00:24,  8.18s/it]"
     ]
    },
    {
     "name": "stdout",
     "output_type": "stream",
     "text": [
      "('max mins', -1.0, 0.9466729879274512)\n"
     ]
    },
    {
     "name": "stderr",
     "output_type": "stream",
     "text": [
      "\r",
      " 89%|████████▉ | 17/19 [01:44<00:16,  8.33s/it]"
     ]
    },
    {
     "name": "stdout",
     "output_type": "stream",
     "text": [
      "('max mins', -0.9620530788338345, 1.0)\n"
     ]
    },
    {
     "name": "stderr",
     "output_type": "stream",
     "text": [
      "\r",
      " 95%|█████████▍| 18/19 [01:53<00:08,  8.43s/it]"
     ]
    },
    {
     "name": "stdout",
     "output_type": "stream",
     "text": [
      "('max mins', -0.8928210364236441, 1.0)\n"
     ]
    },
    {
     "name": "stderr",
     "output_type": "stream",
     "text": [
      "100%|██████████| 19/19 [01:58<00:00,  7.27s/it]\n"
     ]
    },
    {
     "name": "stdout",
     "output_type": "stream",
     "text": [
      "('Best file pairs are: ', 'non_spikey_T0000118.WAV*non_spikey_T0000119.WAV')\n",
      "Unable to get proper audio match for video segment!\n",
      "('Could not save ', 'common_fps/Aditya_annotations/2018-08-19/common_fps_video_syncAditya_2018-08-20_0300-0400_41.csv')\n",
      "common_fps/Aditya_annotations/2018-08-19/common_fps_video_syncAditya_2018-08-20_0300-0400_42.csv\n",
      "('video_fps obtained is :', 25)\n",
      "Did not find user-provided sample rate - getting it from first file that matches format!\n",
      "('sampling rate is : ', 250000)\n",
      ".....finding best audio segment.....\n"
     ]
    },
    {
     "name": "stderr",
     "output_type": "stream",
     "text": [
      "\r",
      "  0%|          | 0/19 [00:00<?, ?it/s]"
     ]
    },
    {
     "name": "stdout",
     "output_type": "stream",
     "text": [
      "('max mins for upsampled video', -0.9130179287735903, 1.0)\n",
      "('max mins', -0.9370308391076005, 1.0)\n"
     ]
    },
    {
     "name": "stderr",
     "output_type": "stream",
     "text": [
      "\r",
      "  5%|▌         | 1/19 [00:05<01:32,  5.14s/it]"
     ]
    },
    {
     "name": "stdout",
     "output_type": "stream",
     "text": [
      "('max mins', -1.0, 0.9695695784500635)\n"
     ]
    },
    {
     "name": "stderr",
     "output_type": "stream",
     "text": [
      "\r",
      " 11%|█         | 2/19 [00:09<01:23,  4.91s/it]"
     ]
    },
    {
     "name": "stdout",
     "output_type": "stream",
     "text": [
      "('max mins', -1.0, 0.9633919535141232)\n"
     ]
    },
    {
     "name": "stderr",
     "output_type": "stream",
     "text": [
      "\r",
      " 16%|█▌        | 3/19 [00:13<01:16,  4.76s/it]"
     ]
    },
    {
     "name": "stdout",
     "output_type": "stream",
     "text": [
      "('max mins', -1.0, 0.9906668655422063)\n"
     ]
    },
    {
     "name": "stderr",
     "output_type": "stream",
     "text": [
      "\r",
      " 21%|██        | 4/19 [00:18<01:09,  4.65s/it]"
     ]
    },
    {
     "name": "stdout",
     "output_type": "stream",
     "text": [
      "('max mins', -1.0, 0.9788979006815761)\n"
     ]
    },
    {
     "name": "stderr",
     "output_type": "stream",
     "text": [
      "\r",
      " 26%|██▋       | 5/19 [00:22<01:04,  4.57s/it]"
     ]
    },
    {
     "name": "stdout",
     "output_type": "stream",
     "text": [
      "('max mins', -1.0, 0.9627772202007328)\n"
     ]
    },
    {
     "name": "stderr",
     "output_type": "stream",
     "text": [
      "\r",
      " 32%|███▏      | 6/19 [00:27<00:58,  4.52s/it]"
     ]
    },
    {
     "name": "stdout",
     "output_type": "stream",
     "text": [
      "('max mins', -1.0, 0.9677089880784278)\n"
     ]
    },
    {
     "name": "stderr",
     "output_type": "stream",
     "text": [
      "\r",
      " 37%|███▋      | 7/19 [00:31<00:53,  4.48s/it]"
     ]
    },
    {
     "name": "stdout",
     "output_type": "stream",
     "text": [
      "('max mins', -1.0, 0.9255299371253971)\n"
     ]
    },
    {
     "name": "stderr",
     "output_type": "stream",
     "text": [
      "\r",
      " 42%|████▏     | 8/19 [00:35<00:49,  4.46s/it]"
     ]
    },
    {
     "name": "stdout",
     "output_type": "stream",
     "text": [
      "('max mins', -1.0, 0.9501887718253208)\n"
     ]
    },
    {
     "name": "stderr",
     "output_type": "stream",
     "text": [
      "\r",
      " 47%|████▋     | 9/19 [00:40<00:44,  4.44s/it]"
     ]
    },
    {
     "name": "stdout",
     "output_type": "stream",
     "text": [
      "('max mins', -1.0, 0.958361788327466)\n"
     ]
    },
    {
     "name": "stderr",
     "output_type": "stream",
     "text": [
      "\r",
      " 53%|█████▎    | 10/19 [00:44<00:39,  4.42s/it]"
     ]
    },
    {
     "name": "stdout",
     "output_type": "stream",
     "text": [
      "('max mins', -0.9934589839614669, 1.0)\n"
     ]
    },
    {
     "name": "stderr",
     "output_type": "stream",
     "text": [
      "\r",
      " 58%|█████▊    | 11/19 [00:49<00:35,  4.41s/it]"
     ]
    },
    {
     "name": "stdout",
     "output_type": "stream",
     "text": [
      "('max mins', -0.9639844543162986, 1.0)\n"
     ]
    },
    {
     "name": "stderr",
     "output_type": "stream",
     "text": [
      "\r",
      " 63%|██████▎   | 12/19 [00:53<00:30,  4.40s/it]"
     ]
    },
    {
     "name": "stdout",
     "output_type": "stream",
     "text": [
      "('max mins', -0.9735643333705267, 1.0)\n"
     ]
    },
    {
     "name": "stderr",
     "output_type": "stream",
     "text": [
      "\r",
      " 68%|██████▊   | 13/19 [00:57<00:26,  4.40s/it]"
     ]
    },
    {
     "name": "stdout",
     "output_type": "stream",
     "text": [
      "('max mins', -0.9761068437889729, 1.0)\n"
     ]
    },
    {
     "name": "stderr",
     "output_type": "stream",
     "text": [
      "\r",
      " 74%|███████▎  | 14/19 [01:02<00:21,  4.40s/it]"
     ]
    },
    {
     "name": "stdout",
     "output_type": "stream",
     "text": [
      "('max mins', -1.0, 0.9541452922954086)\n"
     ]
    },
    {
     "name": "stderr",
     "output_type": "stream",
     "text": [
      "\r",
      " 79%|███████▉  | 15/19 [01:06<00:17,  4.39s/it]"
     ]
    },
    {
     "name": "stdout",
     "output_type": "stream",
     "text": [
      "('max mins', -1.0, 0.9391597627822404)\n"
     ]
    },
    {
     "name": "stderr",
     "output_type": "stream",
     "text": [
      "\r",
      " 84%|████████▍ | 16/19 [01:10<00:13,  4.39s/it]"
     ]
    },
    {
     "name": "stdout",
     "output_type": "stream",
     "text": [
      "('max mins', -1.0, 0.9466729879274512)\n"
     ]
    },
    {
     "name": "stderr",
     "output_type": "stream",
     "text": [
      "\r",
      " 89%|████████▉ | 17/19 [01:15<00:08,  4.38s/it]"
     ]
    },
    {
     "name": "stdout",
     "output_type": "stream",
     "text": [
      "('max mins', -0.9620530788338345, 1.0)\n"
     ]
    },
    {
     "name": "stderr",
     "output_type": "stream",
     "text": [
      "\r",
      " 95%|█████████▍| 18/19 [01:19<00:04,  4.38s/it]"
     ]
    },
    {
     "name": "stdout",
     "output_type": "stream",
     "text": [
      "('max mins', -0.8928210364236441, 1.0)\n"
     ]
    },
    {
     "name": "stderr",
     "output_type": "stream",
     "text": [
      "100%|██████████| 19/19 [01:23<00:00,  4.14s/it]\n"
     ]
    },
    {
     "name": "stdout",
     "output_type": "stream",
     "text": [
      "('Best file pairs are: ', 'non_spikey_T0000118.WAV*non_spikey_T0000119.WAV')\n",
      "Start and end indices around peak:                  start index: 903007\t\t          end index: 12403007                  total samples:30015488\n",
      "('AV Sync was above threshold: ', 0.8088878432613653)\n",
      "common_fps/Aditya_annotations/2018-08-19/common_fps_video_syncAditya_2018-08-20_0300-0400_55.csv\n",
      "('video_fps obtained is :', 25)\n",
      "Did not find user-provided sample rate - getting it from first file that matches format!\n",
      "('sampling rate is : ', 250000)\n",
      ".....finding best audio segment.....\n"
     ]
    },
    {
     "name": "stderr",
     "output_type": "stream",
     "text": [
      "\r",
      "  0%|          | 0/19 [00:00<?, ?it/s]"
     ]
    },
    {
     "name": "stdout",
     "output_type": "stream",
     "text": [
      "('max mins for upsampled video', -0.8667439739290528, 1.0)\n",
      "('max mins', -0.9370308391076005, 1.0)\n"
     ]
    },
    {
     "name": "stderr",
     "output_type": "stream",
     "text": [
      "\r",
      "  5%|▌         | 1/19 [00:05<01:32,  5.12s/it]"
     ]
    },
    {
     "name": "stdout",
     "output_type": "stream",
     "text": [
      "('max mins', -1.0, 0.9695695784500635)\n"
     ]
    },
    {
     "name": "stderr",
     "output_type": "stream",
     "text": [
      "\r",
      " 11%|█         | 2/19 [00:09<01:23,  4.94s/it]"
     ]
    },
    {
     "name": "stdout",
     "output_type": "stream",
     "text": [
      "('max mins', -1.0, 0.9633919535141232)\n"
     ]
    },
    {
     "name": "stderr",
     "output_type": "stream",
     "text": [
      "\r",
      " 16%|█▌        | 3/19 [00:14<01:16,  4.77s/it]"
     ]
    },
    {
     "name": "stdout",
     "output_type": "stream",
     "text": [
      "('max mins', -1.0, 0.9906668655422063)\n"
     ]
    },
    {
     "name": "stderr",
     "output_type": "stream",
     "text": [
      "\r",
      " 21%|██        | 4/19 [00:18<01:09,  4.65s/it]"
     ]
    },
    {
     "name": "stdout",
     "output_type": "stream",
     "text": [
      "('max mins', -1.0, 0.9788979006815761)\n"
     ]
    },
    {
     "name": "stderr",
     "output_type": "stream",
     "text": [
      "\r",
      " 26%|██▋       | 5/19 [00:22<01:03,  4.56s/it]"
     ]
    },
    {
     "name": "stdout",
     "output_type": "stream",
     "text": [
      "('max mins', -1.0, 0.9627772202007328)\n"
     ]
    },
    {
     "name": "stderr",
     "output_type": "stream",
     "text": [
      "\r",
      " 32%|███▏      | 6/19 [00:27<00:58,  4.51s/it]"
     ]
    },
    {
     "name": "stdout",
     "output_type": "stream",
     "text": [
      "('max mins', -1.0, 0.9677089880784278)\n"
     ]
    },
    {
     "name": "stderr",
     "output_type": "stream",
     "text": [
      "\r",
      " 37%|███▋      | 7/19 [00:31<00:53,  4.47s/it]"
     ]
    },
    {
     "name": "stdout",
     "output_type": "stream",
     "text": [
      "('max mins', -1.0, 0.9255299371253971)\n"
     ]
    },
    {
     "name": "stderr",
     "output_type": "stream",
     "text": [
      "\r",
      " 42%|████▏     | 8/19 [00:35<00:48,  4.44s/it]"
     ]
    },
    {
     "name": "stdout",
     "output_type": "stream",
     "text": [
      "('max mins', -1.0, 0.9501887718253208)\n"
     ]
    },
    {
     "name": "stderr",
     "output_type": "stream",
     "text": [
      "\r",
      " 47%|████▋     | 9/19 [00:40<00:44,  4.42s/it]"
     ]
    },
    {
     "name": "stdout",
     "output_type": "stream",
     "text": [
      "('max mins', -1.0, 0.958361788327466)\n"
     ]
    },
    {
     "name": "stderr",
     "output_type": "stream",
     "text": [
      "\r",
      " 53%|█████▎    | 10/19 [00:44<00:39,  4.41s/it]"
     ]
    },
    {
     "name": "stdout",
     "output_type": "stream",
     "text": [
      "('max mins', -0.9934589839614669, 1.0)\n"
     ]
    },
    {
     "name": "stderr",
     "output_type": "stream",
     "text": [
      "\r",
      " 58%|█████▊    | 11/19 [00:48<00:35,  4.39s/it]"
     ]
    },
    {
     "name": "stdout",
     "output_type": "stream",
     "text": [
      "('max mins', -0.9639844543162986, 1.0)\n"
     ]
    },
    {
     "name": "stderr",
     "output_type": "stream",
     "text": [
      "\r",
      " 63%|██████▎   | 12/19 [00:53<00:30,  4.39s/it]"
     ]
    },
    {
     "name": "stdout",
     "output_type": "stream",
     "text": [
      "('max mins', -0.9735643333705267, 1.0)\n"
     ]
    },
    {
     "name": "stderr",
     "output_type": "stream",
     "text": [
      "\r",
      " 68%|██████▊   | 13/19 [00:57<00:26,  4.39s/it]"
     ]
    },
    {
     "name": "stdout",
     "output_type": "stream",
     "text": [
      "('max mins', -0.9761068437889729, 1.0)\n"
     ]
    },
    {
     "name": "stderr",
     "output_type": "stream",
     "text": [
      "\r",
      " 74%|███████▎  | 14/19 [01:02<00:21,  4.38s/it]"
     ]
    },
    {
     "name": "stdout",
     "output_type": "stream",
     "text": [
      "('max mins', -1.0, 0.9541452922954086)\n"
     ]
    },
    {
     "name": "stderr",
     "output_type": "stream",
     "text": [
      "\r",
      " 79%|███████▉  | 15/19 [01:06<00:17,  4.38s/it]"
     ]
    },
    {
     "name": "stdout",
     "output_type": "stream",
     "text": [
      "('max mins', -1.0, 0.9391597627822404)\n"
     ]
    },
    {
     "name": "stderr",
     "output_type": "stream",
     "text": [
      "\r",
      " 84%|████████▍ | 16/19 [01:10<00:13,  4.38s/it]"
     ]
    },
    {
     "name": "stdout",
     "output_type": "stream",
     "text": [
      "('max mins', -1.0, 0.9466729879274512)\n"
     ]
    },
    {
     "name": "stderr",
     "output_type": "stream",
     "text": [
      "\r",
      " 89%|████████▉ | 17/19 [01:15<00:08,  4.38s/it]"
     ]
    },
    {
     "name": "stdout",
     "output_type": "stream",
     "text": [
      "('max mins', -0.9620530788338345, 1.0)\n"
     ]
    },
    {
     "name": "stderr",
     "output_type": "stream",
     "text": [
      "\r",
      " 95%|█████████▍| 18/19 [01:19<00:04,  4.38s/it]"
     ]
    },
    {
     "name": "stdout",
     "output_type": "stream",
     "text": [
      "('max mins', -0.8928210364236441, 1.0)\n"
     ]
    },
    {
     "name": "stderr",
     "output_type": "stream",
     "text": [
      "100%|██████████| 19/19 [01:23<00:00,  4.12s/it]\n"
     ]
    },
    {
     "name": "stdout",
     "output_type": "stream",
     "text": [
      "('Best file pairs are: ', 'non_spikey_T0000120.WAV*non_spikey_T0000121.WAV')\n",
      "Start and end indices around peak:                  start index: 6839127\t\t          end index: 18339127                  total samples:30015488\n",
      "('AV Sync was above threshold: ', 0.8654084407131883)\n",
      "common_fps/Aditya_annotations/2018-08-19/common_fps_video_syncAditya_2018-08-20_0300-0400_56.csv\n",
      "('video_fps obtained is :', 25)\n",
      "Did not find user-provided sample rate - getting it from first file that matches format!\n",
      "('sampling rate is : ', 250000)\n",
      ".....finding best audio segment.....\n"
     ]
    },
    {
     "name": "stderr",
     "output_type": "stream",
     "text": [
      "\r",
      "  0%|          | 0/19 [00:00<?, ?it/s]"
     ]
    },
    {
     "name": "stdout",
     "output_type": "stream",
     "text": [
      "('max mins for upsampled video', -0.8003660100468215, 1.0)\n",
      "('max mins', -0.9370308391076005, 1.0)\n"
     ]
    },
    {
     "name": "stderr",
     "output_type": "stream",
     "text": [
      "\r",
      "  5%|▌         | 1/19 [00:05<01:32,  5.13s/it]"
     ]
    },
    {
     "name": "stdout",
     "output_type": "stream",
     "text": [
      "('max mins', -1.0, 0.9695695784500635)\n"
     ]
    },
    {
     "name": "stderr",
     "output_type": "stream",
     "text": [
      "\r",
      " 11%|█         | 2/19 [00:09<01:23,  4.90s/it]"
     ]
    },
    {
     "name": "stdout",
     "output_type": "stream",
     "text": [
      "('max mins', -1.0, 0.9633919535141232)\n"
     ]
    },
    {
     "name": "stderr",
     "output_type": "stream",
     "text": [
      "\r",
      " 16%|█▌        | 3/19 [00:13<01:15,  4.74s/it]"
     ]
    },
    {
     "name": "stdout",
     "output_type": "stream",
     "text": [
      "('max mins', -1.0, 0.9906668655422063)\n"
     ]
    },
    {
     "name": "stderr",
     "output_type": "stream",
     "text": [
      "\r",
      " 21%|██        | 4/19 [00:18<01:09,  4.63s/it]"
     ]
    },
    {
     "name": "stdout",
     "output_type": "stream",
     "text": [
      "('max mins', -1.0, 0.9788979006815761)\n"
     ]
    },
    {
     "name": "stderr",
     "output_type": "stream",
     "text": [
      "\r",
      " 26%|██▋       | 5/19 [00:22<01:03,  4.55s/it]"
     ]
    },
    {
     "name": "stdout",
     "output_type": "stream",
     "text": [
      "('max mins', -1.0, 0.9627772202007328)\n"
     ]
    },
    {
     "name": "stderr",
     "output_type": "stream",
     "text": [
      "\r",
      " 32%|███▏      | 6/19 [00:26<00:58,  4.49s/it]"
     ]
    },
    {
     "name": "stdout",
     "output_type": "stream",
     "text": [
      "('max mins', -1.0, 0.9677089880784278)\n"
     ]
    },
    {
     "name": "stderr",
     "output_type": "stream",
     "text": [
      "\r",
      " 37%|███▋      | 7/19 [00:31<00:53,  4.46s/it]"
     ]
    },
    {
     "name": "stdout",
     "output_type": "stream",
     "text": [
      "('max mins', -1.0, 0.9255299371253971)\n"
     ]
    },
    {
     "name": "stderr",
     "output_type": "stream",
     "text": [
      "\r",
      " 42%|████▏     | 8/19 [00:35<00:48,  4.43s/it]"
     ]
    },
    {
     "name": "stdout",
     "output_type": "stream",
     "text": [
      "('max mins', -1.0, 0.9501887718253208)\n"
     ]
    },
    {
     "name": "stderr",
     "output_type": "stream",
     "text": [
      "\r",
      " 47%|████▋     | 9/19 [00:40<00:45,  4.56s/it]"
     ]
    },
    {
     "name": "stdout",
     "output_type": "stream",
     "text": [
      "('max mins', -1.0, 0.958361788327466)\n"
     ]
    },
    {
     "name": "stderr",
     "output_type": "stream",
     "text": [
      "\r",
      " 53%|█████▎    | 10/19 [00:44<00:40,  4.51s/it]"
     ]
    },
    {
     "name": "stdout",
     "output_type": "stream",
     "text": [
      "('max mins', -0.9934589839614669, 1.0)\n"
     ]
    },
    {
     "name": "stderr",
     "output_type": "stream",
     "text": [
      "\r",
      " 58%|█████▊    | 11/19 [00:49<00:35,  4.47s/it]"
     ]
    },
    {
     "name": "stdout",
     "output_type": "stream",
     "text": [
      "('max mins', -0.9639844543162986, 1.0)\n"
     ]
    },
    {
     "name": "stderr",
     "output_type": "stream",
     "text": [
      "\r",
      " 63%|██████▎   | 12/19 [00:53<00:31,  4.43s/it]"
     ]
    },
    {
     "name": "stdout",
     "output_type": "stream",
     "text": [
      "('max mins', -0.9735643333705267, 1.0)\n"
     ]
    },
    {
     "name": "stderr",
     "output_type": "stream",
     "text": [
      "\r",
      " 68%|██████▊   | 13/19 [00:58<00:26,  4.41s/it]"
     ]
    },
    {
     "name": "stdout",
     "output_type": "stream",
     "text": [
      "('max mins', -0.9761068437889729, 1.0)\n"
     ]
    },
    {
     "name": "stderr",
     "output_type": "stream",
     "text": [
      "\r",
      " 74%|███████▎  | 14/19 [01:02<00:21,  4.40s/it]"
     ]
    },
    {
     "name": "stdout",
     "output_type": "stream",
     "text": [
      "('max mins', -1.0, 0.9541452922954086)\n"
     ]
    },
    {
     "name": "stderr",
     "output_type": "stream",
     "text": [
      "\r",
      " 79%|███████▉  | 15/19 [01:06<00:17,  4.39s/it]"
     ]
    },
    {
     "name": "stdout",
     "output_type": "stream",
     "text": [
      "('max mins', -1.0, 0.9391597627822404)\n"
     ]
    },
    {
     "name": "stderr",
     "output_type": "stream",
     "text": [
      "\r",
      " 84%|████████▍ | 16/19 [01:11<00:13,  4.38s/it]"
     ]
    },
    {
     "name": "stdout",
     "output_type": "stream",
     "text": [
      "('max mins', -1.0, 0.9466729879274512)\n"
     ]
    },
    {
     "name": "stderr",
     "output_type": "stream",
     "text": [
      "\r",
      " 89%|████████▉ | 17/19 [01:15<00:08,  4.37s/it]"
     ]
    },
    {
     "name": "stdout",
     "output_type": "stream",
     "text": [
      "('max mins', -0.9620530788338345, 1.0)\n"
     ]
    },
    {
     "name": "stderr",
     "output_type": "stream",
     "text": [
      "\r",
      " 95%|█████████▍| 18/19 [01:19<00:04,  4.38s/it]"
     ]
    },
    {
     "name": "stdout",
     "output_type": "stream",
     "text": [
      "('max mins', -0.8928210364236441, 1.0)\n"
     ]
    },
    {
     "name": "stderr",
     "output_type": "stream",
     "text": [
      "100%|██████████| 19/19 [01:23<00:00,  4.12s/it]\n"
     ]
    },
    {
     "name": "stdout",
     "output_type": "stream",
     "text": [
      "('Best file pairs are: ', 'non_spikey_T0000120.WAV*non_spikey_T0000121.WAV')\n",
      "Start and end indices around peak:                  start index: 7339074\t\t          end index: 18839074                  total samples:30015488\n",
      "('AV Sync was above threshold: ', 0.8639795411361768)\n",
      "common_fps/Aditya_annotations/2018-08-19/common_fps_video_syncAditya_2018-08-20_0300-0400_57.csv\n",
      "('video_fps obtained is :', 25)\n",
      "Did not find user-provided sample rate - getting it from first file that matches format!\n",
      "('sampling rate is : ', 250000)\n",
      ".....finding best audio segment.....\n"
     ]
    },
    {
     "name": "stderr",
     "output_type": "stream",
     "text": [
      "\r",
      "  0%|          | 0/19 [00:00<?, ?it/s]"
     ]
    },
    {
     "name": "stdout",
     "output_type": "stream",
     "text": [
      "('max mins for upsampled video', -0.823817863902408, 1.0)\n",
      "('max mins', -0.9370308391076005, 1.0)\n"
     ]
    },
    {
     "name": "stderr",
     "output_type": "stream",
     "text": [
      "\r",
      "  5%|▌         | 1/19 [00:05<01:32,  5.14s/it]"
     ]
    },
    {
     "name": "stdout",
     "output_type": "stream",
     "text": [
      "('max mins', -1.0, 0.9695695784500635)\n"
     ]
    },
    {
     "name": "stderr",
     "output_type": "stream",
     "text": [
      "\r",
      " 11%|█         | 2/19 [00:09<01:23,  4.91s/it]"
     ]
    },
    {
     "name": "stdout",
     "output_type": "stream",
     "text": [
      "('max mins', -1.0, 0.9633919535141232)\n"
     ]
    },
    {
     "name": "stderr",
     "output_type": "stream",
     "text": [
      "\r",
      " 16%|█▌        | 3/19 [00:13<01:16,  4.75s/it]"
     ]
    },
    {
     "name": "stdout",
     "output_type": "stream",
     "text": [
      "('max mins', -1.0, 0.9906668655422063)\n"
     ]
    },
    {
     "name": "stderr",
     "output_type": "stream",
     "text": [
      "\r",
      " 21%|██        | 4/19 [00:18<01:09,  4.63s/it]"
     ]
    },
    {
     "name": "stdout",
     "output_type": "stream",
     "text": [
      "('max mins', -1.0, 0.9788979006815761)\n"
     ]
    },
    {
     "name": "stderr",
     "output_type": "stream",
     "text": [
      "\r",
      " 26%|██▋       | 5/19 [00:22<01:03,  4.55s/it]"
     ]
    },
    {
     "name": "stdout",
     "output_type": "stream",
     "text": [
      "('max mins', -1.0, 0.9627772202007328)\n"
     ]
    },
    {
     "name": "stderr",
     "output_type": "stream",
     "text": [
      "\r",
      " 32%|███▏      | 6/19 [00:26<00:58,  4.49s/it]"
     ]
    },
    {
     "name": "stdout",
     "output_type": "stream",
     "text": [
      "('max mins', -1.0, 0.9677089880784278)\n"
     ]
    },
    {
     "name": "stderr",
     "output_type": "stream",
     "text": [
      "\r",
      " 37%|███▋      | 7/19 [00:31<00:53,  4.45s/it]"
     ]
    },
    {
     "name": "stdout",
     "output_type": "stream",
     "text": [
      "('max mins', -1.0, 0.9255299371253971)\n"
     ]
    },
    {
     "name": "stderr",
     "output_type": "stream",
     "text": [
      "\r",
      " 42%|████▏     | 8/19 [00:35<00:48,  4.43s/it]"
     ]
    },
    {
     "name": "stdout",
     "output_type": "stream",
     "text": [
      "('max mins', -1.0, 0.9501887718253208)\n"
     ]
    },
    {
     "name": "stderr",
     "output_type": "stream",
     "text": [
      "\r",
      " 47%|████▋     | 9/19 [00:40<00:44,  4.41s/it]"
     ]
    },
    {
     "name": "stdout",
     "output_type": "stream",
     "text": [
      "('max mins', -1.0, 0.958361788327466)\n"
     ]
    },
    {
     "name": "stderr",
     "output_type": "stream",
     "text": [
      "\r",
      " 53%|█████▎    | 10/19 [00:44<00:39,  4.39s/it]"
     ]
    },
    {
     "name": "stdout",
     "output_type": "stream",
     "text": [
      "('max mins', -0.9934589839614669, 1.0)\n"
     ]
    },
    {
     "name": "stderr",
     "output_type": "stream",
     "text": [
      "\r",
      " 58%|█████▊    | 11/19 [00:48<00:35,  4.38s/it]"
     ]
    },
    {
     "name": "stdout",
     "output_type": "stream",
     "text": [
      "('max mins', -0.9639844543162986, 1.0)\n"
     ]
    },
    {
     "name": "stderr",
     "output_type": "stream",
     "text": [
      "\r",
      " 63%|██████▎   | 12/19 [00:53<00:30,  4.38s/it]"
     ]
    },
    {
     "name": "stdout",
     "output_type": "stream",
     "text": [
      "('max mins', -0.9735643333705267, 1.0)\n"
     ]
    },
    {
     "name": "stderr",
     "output_type": "stream",
     "text": [
      "\r",
      " 68%|██████▊   | 13/19 [00:57<00:26,  4.37s/it]"
     ]
    },
    {
     "name": "stdout",
     "output_type": "stream",
     "text": [
      "('max mins', -0.9761068437889729, 1.0)\n"
     ]
    },
    {
     "name": "stderr",
     "output_type": "stream",
     "text": [
      "\r",
      " 74%|███████▎  | 14/19 [01:01<00:21,  4.37s/it]"
     ]
    },
    {
     "name": "stdout",
     "output_type": "stream",
     "text": [
      "('max mins', -1.0, 0.9541452922954086)\n"
     ]
    },
    {
     "name": "stderr",
     "output_type": "stream",
     "text": [
      "\r",
      " 79%|███████▉  | 15/19 [01:06<00:17,  4.37s/it]"
     ]
    },
    {
     "name": "stdout",
     "output_type": "stream",
     "text": [
      "('max mins', -1.0, 0.9391597627822404)\n"
     ]
    },
    {
     "name": "stderr",
     "output_type": "stream",
     "text": [
      "\r",
      " 84%|████████▍ | 16/19 [01:10<00:13,  4.37s/it]"
     ]
    },
    {
     "name": "stdout",
     "output_type": "stream",
     "text": [
      "('max mins', -1.0, 0.9466729879274512)\n"
     ]
    },
    {
     "name": "stderr",
     "output_type": "stream",
     "text": [
      "\r",
      " 89%|████████▉ | 17/19 [01:15<00:09,  4.51s/it]"
     ]
    },
    {
     "name": "stdout",
     "output_type": "stream",
     "text": [
      "('max mins', -0.9620530788338345, 1.0)\n"
     ]
    },
    {
     "name": "stderr",
     "output_type": "stream",
     "text": [
      "\r",
      " 95%|█████████▍| 18/19 [01:19<00:04,  4.47s/it]"
     ]
    },
    {
     "name": "stdout",
     "output_type": "stream",
     "text": [
      "('max mins', -0.8928210364236441, 1.0)\n"
     ]
    },
    {
     "name": "stderr",
     "output_type": "stream",
     "text": [
      "100%|██████████| 19/19 [01:23<00:00,  4.18s/it]\n"
     ]
    },
    {
     "name": "stdout",
     "output_type": "stream",
     "text": [
      "('Best file pairs are: ', 'non_spikey_T0000120.WAV*non_spikey_T0000121.WAV')\n",
      "Start and end indices around peak:                  start index: 11589939\t\t          end index: 23089939                  total samples:30015488\n",
      "('AV Sync was above threshold: ', 0.8563257760542564)\n",
      "common_fps/Aditya_annotations/2018-08-19/common_fps_video_syncAditya_2018-08-20_0300-0400_58.csv\n",
      "('video_fps obtained is :', 25)\n",
      "Did not find user-provided sample rate - getting it from first file that matches format!\n",
      "('sampling rate is : ', 250000)\n",
      ".....finding best audio segment.....\n"
     ]
    },
    {
     "name": "stderr",
     "output_type": "stream",
     "text": [
      "\r",
      "  0%|          | 0/19 [00:00<?, ?it/s]"
     ]
    },
    {
     "name": "stdout",
     "output_type": "stream",
     "text": [
      "('max mins for upsampled video', -0.9363312676003555, 1.0)\n",
      "('max mins', -0.9370308391076005, 1.0)\n"
     ]
    },
    {
     "name": "stderr",
     "output_type": "stream",
     "text": [
      "\r",
      "  5%|▌         | 1/19 [00:05<01:32,  5.14s/it]"
     ]
    },
    {
     "name": "stdout",
     "output_type": "stream",
     "text": [
      "('max mins', -1.0, 0.9695695784500635)\n"
     ]
    },
    {
     "name": "stderr",
     "output_type": "stream",
     "text": [
      "\r",
      " 11%|█         | 2/19 [00:09<01:23,  4.91s/it]"
     ]
    },
    {
     "name": "stdout",
     "output_type": "stream",
     "text": [
      "('max mins', -1.0, 0.9633919535141232)\n"
     ]
    },
    {
     "name": "stderr",
     "output_type": "stream",
     "text": [
      "\r",
      " 16%|█▌        | 3/19 [00:13<01:15,  4.74s/it]"
     ]
    },
    {
     "name": "stdout",
     "output_type": "stream",
     "text": [
      "('max mins', -1.0, 0.9906668655422063)\n"
     ]
    },
    {
     "name": "stderr",
     "output_type": "stream",
     "text": [
      "\r",
      " 21%|██        | 4/19 [00:18<01:09,  4.63s/it]"
     ]
    },
    {
     "name": "stdout",
     "output_type": "stream",
     "text": [
      "('max mins', -1.0, 0.9788979006815761)\n"
     ]
    },
    {
     "name": "stderr",
     "output_type": "stream",
     "text": [
      "\r",
      " 26%|██▋       | 5/19 [00:22<01:03,  4.55s/it]"
     ]
    },
    {
     "name": "stdout",
     "output_type": "stream",
     "text": [
      "('max mins', -1.0, 0.9627772202007328)\n"
     ]
    },
    {
     "name": "stderr",
     "output_type": "stream",
     "text": [
      "\r",
      " 32%|███▏      | 6/19 [00:26<00:58,  4.49s/it]"
     ]
    },
    {
     "name": "stdout",
     "output_type": "stream",
     "text": [
      "('max mins', -1.0, 0.9677089880784278)\n"
     ]
    },
    {
     "name": "stderr",
     "output_type": "stream",
     "text": [
      "\r",
      " 37%|███▋      | 7/19 [00:31<00:53,  4.45s/it]"
     ]
    },
    {
     "name": "stdout",
     "output_type": "stream",
     "text": [
      "('max mins', -1.0, 0.9255299371253971)\n"
     ]
    },
    {
     "name": "stderr",
     "output_type": "stream",
     "text": [
      "\r",
      " 42%|████▏     | 8/19 [00:35<00:48,  4.42s/it]"
     ]
    },
    {
     "name": "stdout",
     "output_type": "stream",
     "text": [
      "('max mins', -1.0, 0.9501887718253208)\n"
     ]
    },
    {
     "name": "stderr",
     "output_type": "stream",
     "text": [
      "\r",
      " 47%|████▋     | 9/19 [00:40<00:44,  4.40s/it]"
     ]
    },
    {
     "name": "stdout",
     "output_type": "stream",
     "text": [
      "('max mins', -1.0, 0.958361788327466)\n"
     ]
    },
    {
     "name": "stderr",
     "output_type": "stream",
     "text": [
      "\r",
      " 53%|█████▎    | 10/19 [00:44<00:39,  4.39s/it]"
     ]
    },
    {
     "name": "stdout",
     "output_type": "stream",
     "text": [
      "('max mins', -0.9934589839614669, 1.0)\n"
     ]
    },
    {
     "name": "stderr",
     "output_type": "stream",
     "text": [
      "\r",
      " 58%|█████▊    | 11/19 [00:48<00:35,  4.38s/it]"
     ]
    },
    {
     "name": "stdout",
     "output_type": "stream",
     "text": [
      "('max mins', -0.9639844543162986, 1.0)\n"
     ]
    },
    {
     "name": "stderr",
     "output_type": "stream",
     "text": [
      "\r",
      " 63%|██████▎   | 12/19 [00:53<00:30,  4.37s/it]"
     ]
    },
    {
     "name": "stdout",
     "output_type": "stream",
     "text": [
      "('max mins', -0.9735643333705267, 1.0)\n"
     ]
    },
    {
     "name": "stderr",
     "output_type": "stream",
     "text": [
      "\r",
      " 68%|██████▊   | 13/19 [00:57<00:26,  4.37s/it]"
     ]
    },
    {
     "name": "stdout",
     "output_type": "stream",
     "text": [
      "('max mins', -0.9761068437889729, 1.0)\n"
     ]
    },
    {
     "name": "stderr",
     "output_type": "stream",
     "text": [
      "\r",
      " 74%|███████▎  | 14/19 [01:01<00:21,  4.36s/it]"
     ]
    },
    {
     "name": "stdout",
     "output_type": "stream",
     "text": [
      "('max mins', -1.0, 0.9541452922954086)\n"
     ]
    },
    {
     "name": "stderr",
     "output_type": "stream",
     "text": [
      "\r",
      " 79%|███████▉  | 15/19 [01:06<00:17,  4.37s/it]"
     ]
    },
    {
     "name": "stdout",
     "output_type": "stream",
     "text": [
      "('max mins', -1.0, 0.9391597627822404)\n"
     ]
    },
    {
     "name": "stderr",
     "output_type": "stream",
     "text": [
      "\r",
      " 84%|████████▍ | 16/19 [01:10<00:13,  4.36s/it]"
     ]
    },
    {
     "name": "stdout",
     "output_type": "stream",
     "text": [
      "('max mins', -1.0, 0.9466729879274512)\n"
     ]
    },
    {
     "name": "stderr",
     "output_type": "stream",
     "text": [
      "\r",
      " 89%|████████▉ | 17/19 [01:14<00:08,  4.36s/it]"
     ]
    },
    {
     "name": "stdout",
     "output_type": "stream",
     "text": [
      "('max mins', -0.9620530788338345, 1.0)\n"
     ]
    },
    {
     "name": "stderr",
     "output_type": "stream",
     "text": [
      "\r",
      " 95%|█████████▍| 18/19 [01:19<00:04,  4.35s/it]"
     ]
    },
    {
     "name": "stdout",
     "output_type": "stream",
     "text": [
      "('max mins', -0.8928210364236441, 1.0)\n"
     ]
    },
    {
     "name": "stderr",
     "output_type": "stream",
     "text": [
      "100%|██████████| 19/19 [01:22<00:00,  4.11s/it]\n"
     ]
    },
    {
     "name": "stdout",
     "output_type": "stream",
     "text": [
      "('Best file pairs are: ', 'non_spikey_T0000122.WAV*non_spikey_T0000123.WAV')\n",
      "Start and end indices around peak:                  start index: 8077602\t\t          end index: 19577602                  total samples:30015488\n",
      "('AV Sync was above threshold: ', 0.8612563404711132)\n",
      "common_fps/Aditya_annotations/2018-08-19/common_fps_video_syncAditya_2018-08-20_0300-0400_61.csv\n",
      "('video_fps obtained is :', 25)\n",
      "Did not find user-provided sample rate - getting it from first file that matches format!\n",
      "('sampling rate is : ', 250000)\n",
      ".....finding best audio segment.....\n"
     ]
    },
    {
     "name": "stderr",
     "output_type": "stream",
     "text": [
      "\r",
      "  0%|          | 0/19 [00:00<?, ?it/s]"
     ]
    },
    {
     "name": "stdout",
     "output_type": "stream",
     "text": [
      "('max mins for upsampled video', -0.8232727184799935, 1.0)\n",
      "('max mins', -0.9370308391076005, 1.0)\n"
     ]
    },
    {
     "name": "stderr",
     "output_type": "stream",
     "text": [
      "\r",
      "  5%|▌         | 1/19 [00:05<01:32,  5.11s/it]"
     ]
    },
    {
     "name": "stdout",
     "output_type": "stream",
     "text": [
      "('max mins', -1.0, 0.9695695784500635)\n"
     ]
    },
    {
     "name": "stderr",
     "output_type": "stream",
     "text": [
      "\r",
      " 11%|█         | 2/19 [00:09<01:23,  4.89s/it]"
     ]
    },
    {
     "name": "stdout",
     "output_type": "stream",
     "text": [
      "('max mins', -1.0, 0.9633919535141232)\n"
     ]
    },
    {
     "name": "stderr",
     "output_type": "stream",
     "text": [
      "\r",
      " 16%|█▌        | 3/19 [00:13<01:15,  4.73s/it]"
     ]
    },
    {
     "name": "stdout",
     "output_type": "stream",
     "text": [
      "('max mins', -1.0, 0.9906668655422063)\n"
     ]
    },
    {
     "name": "stderr",
     "output_type": "stream",
     "text": [
      "\r",
      " 21%|██        | 4/19 [00:18<01:09,  4.62s/it]"
     ]
    },
    {
     "name": "stdout",
     "output_type": "stream",
     "text": [
      "('max mins', -1.0, 0.9788979006815761)\n"
     ]
    },
    {
     "name": "stderr",
     "output_type": "stream",
     "text": [
      "\r",
      " 26%|██▋       | 5/19 [00:22<01:04,  4.61s/it]"
     ]
    },
    {
     "name": "stdout",
     "output_type": "stream",
     "text": [
      "('max mins', -1.0, 0.9627772202007328)\n"
     ]
    },
    {
     "name": "stderr",
     "output_type": "stream",
     "text": [
      "\r",
      " 32%|███▏      | 6/19 [00:27<00:58,  4.53s/it]"
     ]
    },
    {
     "name": "stdout",
     "output_type": "stream",
     "text": [
      "('max mins', -1.0, 0.9677089880784278)\n"
     ]
    },
    {
     "name": "stderr",
     "output_type": "stream",
     "text": [
      "\r",
      " 37%|███▋      | 7/19 [00:31<00:53,  4.47s/it]"
     ]
    },
    {
     "name": "stdout",
     "output_type": "stream",
     "text": [
      "('max mins', -1.0, 0.9255299371253971)\n"
     ]
    },
    {
     "name": "stderr",
     "output_type": "stream",
     "text": [
      "\r",
      " 42%|████▏     | 8/19 [00:35<00:48,  4.43s/it]"
     ]
    },
    {
     "name": "stdout",
     "output_type": "stream",
     "text": [
      "('max mins', -1.0, 0.9501887718253208)\n"
     ]
    },
    {
     "name": "stderr",
     "output_type": "stream",
     "text": [
      "\r",
      " 47%|████▋     | 9/19 [00:40<00:44,  4.41s/it]"
     ]
    },
    {
     "name": "stdout",
     "output_type": "stream",
     "text": [
      "('max mins', -1.0, 0.958361788327466)\n"
     ]
    },
    {
     "name": "stderr",
     "output_type": "stream",
     "text": [
      "\r",
      " 53%|█████▎    | 10/19 [00:44<00:39,  4.39s/it]"
     ]
    },
    {
     "name": "stdout",
     "output_type": "stream",
     "text": [
      "('max mins', -0.9934589839614669, 1.0)\n"
     ]
    },
    {
     "name": "stderr",
     "output_type": "stream",
     "text": [
      "\r",
      " 58%|█████▊    | 11/19 [00:48<00:35,  4.38s/it]"
     ]
    },
    {
     "name": "stdout",
     "output_type": "stream",
     "text": [
      "('max mins', -0.9639844543162986, 1.0)\n"
     ]
    },
    {
     "name": "stderr",
     "output_type": "stream",
     "text": [
      "\r",
      " 63%|██████▎   | 12/19 [00:53<00:30,  4.37s/it]"
     ]
    },
    {
     "name": "stdout",
     "output_type": "stream",
     "text": [
      "('max mins', -0.9735643333705267, 1.0)\n"
     ]
    },
    {
     "name": "stderr",
     "output_type": "stream",
     "text": [
      "\r",
      " 68%|██████▊   | 13/19 [00:57<00:26,  4.37s/it]"
     ]
    },
    {
     "name": "stdout",
     "output_type": "stream",
     "text": [
      "('max mins', -0.9761068437889729, 1.0)\n"
     ]
    },
    {
     "name": "stderr",
     "output_type": "stream",
     "text": [
      "\r",
      " 74%|███████▎  | 14/19 [01:01<00:21,  4.37s/it]"
     ]
    },
    {
     "name": "stdout",
     "output_type": "stream",
     "text": [
      "('max mins', -1.0, 0.9541452922954086)\n"
     ]
    },
    {
     "name": "stderr",
     "output_type": "stream",
     "text": [
      "\r",
      " 79%|███████▉  | 15/19 [01:06<00:17,  4.36s/it]"
     ]
    },
    {
     "name": "stdout",
     "output_type": "stream",
     "text": [
      "('max mins', -1.0, 0.9391597627822404)\n"
     ]
    },
    {
     "name": "stderr",
     "output_type": "stream",
     "text": [
      "\r",
      " 84%|████████▍ | 16/19 [01:10<00:13,  4.36s/it]"
     ]
    },
    {
     "name": "stdout",
     "output_type": "stream",
     "text": [
      "('max mins', -1.0, 0.9466729879274512)\n"
     ]
    },
    {
     "name": "stderr",
     "output_type": "stream",
     "text": [
      "\r",
      " 89%|████████▉ | 17/19 [01:14<00:08,  4.36s/it]"
     ]
    },
    {
     "name": "stdout",
     "output_type": "stream",
     "text": [
      "('max mins', -0.9620530788338345, 1.0)\n"
     ]
    },
    {
     "name": "stderr",
     "output_type": "stream",
     "text": [
      "\r",
      " 95%|█████████▍| 18/19 [01:19<00:04,  4.35s/it]"
     ]
    },
    {
     "name": "stdout",
     "output_type": "stream",
     "text": [
      "('max mins', -0.8928210364236441, 1.0)\n"
     ]
    },
    {
     "name": "stderr",
     "output_type": "stream",
     "text": [
      "100%|██████████| 19/19 [01:22<00:00,  4.11s/it]\n"
     ]
    },
    {
     "name": "stdout",
     "output_type": "stream",
     "text": [
      "('Best file pairs are: ', 'non_spikey_T0000124.WAV*non_spikey_T0000125.WAV')\n",
      "Start and end indices around peak:                  start index: 6446779\t\t          end index: 17946779                  total samples:30015488\n",
      "('AV Sync was above threshold: ', 0.7512996693103974)\n",
      "common_fps/Aditya_annotations/2018-08-19/common_fps_video_syncAditya_2018-08-20_0300-0400_69.csv\n",
      "('video_fps obtained is :', 25)\n",
      "Did not find user-provided sample rate - getting it from first file that matches format!\n",
      "('sampling rate is : ', 250000)\n",
      ".....finding best audio segment.....\n"
     ]
    },
    {
     "name": "stderr",
     "output_type": "stream",
     "text": [
      "\r",
      "  0%|          | 0/19 [00:00<?, ?it/s]"
     ]
    },
    {
     "name": "stdout",
     "output_type": "stream",
     "text": [
      "('max mins for upsampled video', -0.8710521965681712, 1.0)\n",
      "('max mins', -0.9370308391076005, 1.0)\n"
     ]
    },
    {
     "name": "stderr",
     "output_type": "stream",
     "text": [
      "\r",
      "  5%|▌         | 1/19 [00:05<01:31,  5.11s/it]"
     ]
    },
    {
     "name": "stdout",
     "output_type": "stream",
     "text": [
      "('max mins', -1.0, 0.9695695784500635)\n"
     ]
    },
    {
     "name": "stderr",
     "output_type": "stream",
     "text": [
      "\r",
      " 11%|█         | 2/19 [00:09<01:22,  4.88s/it]"
     ]
    },
    {
     "name": "stdout",
     "output_type": "stream",
     "text": [
      "('max mins', -1.0, 0.9633919535141232)\n"
     ]
    },
    {
     "name": "stderr",
     "output_type": "stream",
     "text": [
      "\r",
      " 16%|█▌        | 3/19 [00:13<01:15,  4.71s/it]"
     ]
    },
    {
     "name": "stdout",
     "output_type": "stream",
     "text": [
      "('max mins', -1.0, 0.9906668655422063)\n"
     ]
    },
    {
     "name": "stderr",
     "output_type": "stream",
     "text": [
      "\r",
      " 21%|██        | 4/19 [00:18<01:09,  4.60s/it]"
     ]
    },
    {
     "name": "stdout",
     "output_type": "stream",
     "text": [
      "('max mins', -1.0, 0.9788979006815761)\n"
     ]
    },
    {
     "name": "stderr",
     "output_type": "stream",
     "text": [
      "\r",
      " 26%|██▋       | 5/19 [00:22<01:03,  4.52s/it]"
     ]
    },
    {
     "name": "stdout",
     "output_type": "stream",
     "text": [
      "('max mins', -1.0, 0.9627772202007328)\n"
     ]
    },
    {
     "name": "stderr",
     "output_type": "stream",
     "text": [
      "\r",
      " 32%|███▏      | 6/19 [00:26<00:57,  4.46s/it]"
     ]
    },
    {
     "name": "stdout",
     "output_type": "stream",
     "text": [
      "('max mins', -1.0, 0.9677089880784278)\n"
     ]
    },
    {
     "name": "stderr",
     "output_type": "stream",
     "text": [
      "\r",
      " 37%|███▋      | 7/19 [00:31<00:53,  4.42s/it]"
     ]
    },
    {
     "name": "stdout",
     "output_type": "stream",
     "text": [
      "('max mins', -1.0, 0.9255299371253971)\n"
     ]
    },
    {
     "name": "stderr",
     "output_type": "stream",
     "text": [
      "\r",
      " 42%|████▏     | 8/19 [00:35<00:48,  4.39s/it]"
     ]
    },
    {
     "name": "stdout",
     "output_type": "stream",
     "text": [
      "('max mins', -1.0, 0.9501887718253208)\n"
     ]
    },
    {
     "name": "stderr",
     "output_type": "stream",
     "text": [
      "\r",
      " 47%|████▋     | 9/19 [00:39<00:43,  4.38s/it]"
     ]
    },
    {
     "name": "stdout",
     "output_type": "stream",
     "text": [
      "('max mins', -1.0, 0.958361788327466)\n"
     ]
    },
    {
     "name": "stderr",
     "output_type": "stream",
     "text": [
      "\r",
      " 53%|█████▎    | 10/19 [00:44<00:39,  4.37s/it]"
     ]
    },
    {
     "name": "stdout",
     "output_type": "stream",
     "text": [
      "('max mins', -0.9934589839614669, 1.0)\n"
     ]
    },
    {
     "name": "stderr",
     "output_type": "stream",
     "text": [
      "\r",
      " 58%|█████▊    | 11/19 [00:48<00:34,  4.36s/it]"
     ]
    },
    {
     "name": "stdout",
     "output_type": "stream",
     "text": [
      "('max mins', -0.9639844543162986, 1.0)\n"
     ]
    },
    {
     "name": "stderr",
     "output_type": "stream",
     "text": [
      "\r",
      " 63%|██████▎   | 12/19 [00:52<00:30,  4.40s/it]"
     ]
    },
    {
     "name": "stdout",
     "output_type": "stream",
     "text": [
      "('max mins', -0.9735643333705267, 1.0)\n"
     ]
    },
    {
     "name": "stderr",
     "output_type": "stream",
     "text": [
      "\r",
      " 68%|██████▊   | 13/19 [00:57<00:26,  4.41s/it]"
     ]
    },
    {
     "name": "stdout",
     "output_type": "stream",
     "text": [
      "('max mins', -0.9761068437889729, 1.0)\n"
     ]
    },
    {
     "name": "stderr",
     "output_type": "stream",
     "text": [
      "\r",
      " 74%|███████▎  | 14/19 [01:01<00:21,  4.39s/it]"
     ]
    },
    {
     "name": "stdout",
     "output_type": "stream",
     "text": [
      "('max mins', -1.0, 0.9541452922954086)\n"
     ]
    },
    {
     "name": "stderr",
     "output_type": "stream",
     "text": [
      "\r",
      " 79%|███████▉  | 15/19 [01:06<00:17,  4.37s/it]"
     ]
    },
    {
     "name": "stdout",
     "output_type": "stream",
     "text": [
      "('max mins', -1.0, 0.9391597627822404)\n"
     ]
    },
    {
     "name": "stderr",
     "output_type": "stream",
     "text": [
      "\r",
      " 84%|████████▍ | 16/19 [01:10<00:13,  4.36s/it]"
     ]
    },
    {
     "name": "stdout",
     "output_type": "stream",
     "text": [
      "('max mins', -1.0, 0.9466729879274512)\n"
     ]
    },
    {
     "name": "stderr",
     "output_type": "stream",
     "text": [
      "\r",
      " 89%|████████▉ | 17/19 [01:14<00:08,  4.35s/it]"
     ]
    },
    {
     "name": "stdout",
     "output_type": "stream",
     "text": [
      "('max mins', -0.9620530788338345, 1.0)\n"
     ]
    },
    {
     "name": "stderr",
     "output_type": "stream",
     "text": [
      "\r",
      " 95%|█████████▍| 18/19 [01:19<00:04,  4.35s/it]"
     ]
    },
    {
     "name": "stdout",
     "output_type": "stream",
     "text": [
      "('max mins', -0.8928210364236441, 1.0)\n"
     ]
    },
    {
     "name": "stderr",
     "output_type": "stream",
     "text": [
      "100%|██████████| 19/19 [01:22<00:00,  4.10s/it]\n"
     ]
    },
    {
     "name": "stdout",
     "output_type": "stream",
     "text": [
      "('Best file pairs are: ', 'non_spikey_T0000125.WAV*non_spikey_T0000126.WAV')\n",
      "Start and end indices around peak:                  start index: 15386607\t\t          end index: 26886607                  total samples:30015488\n",
      "('AV Sync was above threshold: ', 0.835569567460479)\n",
      "common_fps/Aditya_annotations/2018-08-19/common_fps_video_syncAditya_2018-08-20_0300-0400_70.csv\n",
      "('video_fps obtained is :', 25)\n",
      "Did not find user-provided sample rate - getting it from first file that matches format!\n",
      "('sampling rate is : ', 250000)\n",
      ".....finding best audio segment.....\n"
     ]
    },
    {
     "name": "stderr",
     "output_type": "stream",
     "text": [
      "\r",
      "  0%|          | 0/19 [00:00<?, ?it/s]"
     ]
    },
    {
     "name": "stdout",
     "output_type": "stream",
     "text": [
      "('max mins for upsampled video', -0.8710521965681712, 1.0)\n",
      "('max mins', -0.9370308391076005, 1.0)\n"
     ]
    },
    {
     "name": "stderr",
     "output_type": "stream",
     "text": [
      "\r",
      "  5%|▌         | 1/19 [00:05<01:31,  5.09s/it]"
     ]
    },
    {
     "name": "stdout",
     "output_type": "stream",
     "text": [
      "('max mins', -1.0, 0.9695695784500635)\n"
     ]
    },
    {
     "name": "stderr",
     "output_type": "stream",
     "text": [
      "\r",
      " 11%|█         | 2/19 [00:09<01:22,  4.87s/it]"
     ]
    },
    {
     "name": "stdout",
     "output_type": "stream",
     "text": [
      "('max mins', -1.0, 0.9633919535141232)\n"
     ]
    },
    {
     "name": "stderr",
     "output_type": "stream",
     "text": [
      "\r",
      " 16%|█▌        | 3/19 [00:13<01:15,  4.71s/it]"
     ]
    },
    {
     "name": "stdout",
     "output_type": "stream",
     "text": [
      "('max mins', -1.0, 0.9906668655422063)\n"
     ]
    },
    {
     "name": "stderr",
     "output_type": "stream",
     "text": [
      "\r",
      " 21%|██        | 4/19 [00:18<01:08,  4.60s/it]"
     ]
    },
    {
     "name": "stdout",
     "output_type": "stream",
     "text": [
      "('max mins', -1.0, 0.9788979006815761)\n"
     ]
    },
    {
     "name": "stderr",
     "output_type": "stream",
     "text": [
      "\r",
      " 26%|██▋       | 5/19 [00:22<01:03,  4.52s/it]"
     ]
    },
    {
     "name": "stdout",
     "output_type": "stream",
     "text": [
      "('max mins', -1.0, 0.9627772202007328)\n"
     ]
    },
    {
     "name": "stderr",
     "output_type": "stream",
     "text": [
      "\r",
      " 32%|███▏      | 6/19 [00:26<00:57,  4.46s/it]"
     ]
    },
    {
     "name": "stdout",
     "output_type": "stream",
     "text": [
      "('max mins', -1.0, 0.9677089880784278)\n"
     ]
    },
    {
     "name": "stderr",
     "output_type": "stream",
     "text": [
      "\r",
      " 37%|███▋      | 7/19 [00:31<00:53,  4.42s/it]"
     ]
    },
    {
     "name": "stdout",
     "output_type": "stream",
     "text": [
      "('max mins', -1.0, 0.9255299371253971)\n"
     ]
    },
    {
     "name": "stderr",
     "output_type": "stream",
     "text": [
      "\r",
      " 42%|████▏     | 8/19 [00:35<00:48,  4.40s/it]"
     ]
    },
    {
     "name": "stdout",
     "output_type": "stream",
     "text": [
      "('max mins', -1.0, 0.9501887718253208)\n"
     ]
    },
    {
     "name": "stderr",
     "output_type": "stream",
     "text": [
      "\r",
      " 47%|████▋     | 9/19 [00:39<00:43,  4.38s/it]"
     ]
    },
    {
     "name": "stdout",
     "output_type": "stream",
     "text": [
      "('max mins', -1.0, 0.958361788327466)\n"
     ]
    },
    {
     "name": "stderr",
     "output_type": "stream",
     "text": [
      "\r",
      " 53%|█████▎    | 10/19 [00:44<00:39,  4.36s/it]"
     ]
    },
    {
     "name": "stdout",
     "output_type": "stream",
     "text": [
      "('max mins', -0.9934589839614669, 1.0)\n"
     ]
    },
    {
     "name": "stderr",
     "output_type": "stream",
     "text": [
      "\r",
      " 58%|█████▊    | 11/19 [00:48<00:34,  4.35s/it]"
     ]
    },
    {
     "name": "stdout",
     "output_type": "stream",
     "text": [
      "('max mins', -0.9639844543162986, 1.0)\n"
     ]
    },
    {
     "name": "stderr",
     "output_type": "stream",
     "text": [
      "\r",
      " 63%|██████▎   | 12/19 [00:52<00:30,  4.35s/it]"
     ]
    },
    {
     "name": "stdout",
     "output_type": "stream",
     "text": [
      "('max mins', -0.9735643333705267, 1.0)\n"
     ]
    },
    {
     "name": "stderr",
     "output_type": "stream",
     "text": [
      "\r",
      " 68%|██████▊   | 13/19 [00:57<00:26,  4.34s/it]"
     ]
    },
    {
     "name": "stdout",
     "output_type": "stream",
     "text": [
      "('max mins', -0.9761068437889729, 1.0)\n"
     ]
    },
    {
     "name": "stderr",
     "output_type": "stream",
     "text": [
      "\r",
      " 74%|███████▎  | 14/19 [01:01<00:21,  4.34s/it]"
     ]
    },
    {
     "name": "stdout",
     "output_type": "stream",
     "text": [
      "('max mins', -1.0, 0.9541452922954086)\n"
     ]
    },
    {
     "name": "stderr",
     "output_type": "stream",
     "text": [
      "\r",
      " 79%|███████▉  | 15/19 [01:05<00:17,  4.34s/it]"
     ]
    },
    {
     "name": "stdout",
     "output_type": "stream",
     "text": [
      "('max mins', -1.0, 0.9391597627822404)\n"
     ]
    },
    {
     "name": "stderr",
     "output_type": "stream",
     "text": [
      "\r",
      " 84%|████████▍ | 16/19 [01:10<00:13,  4.34s/it]"
     ]
    },
    {
     "name": "stdout",
     "output_type": "stream",
     "text": [
      "('max mins', -1.0, 0.9466729879274512)\n"
     ]
    },
    {
     "name": "stderr",
     "output_type": "stream",
     "text": [
      "\r",
      " 89%|████████▉ | 17/19 [01:14<00:08,  4.34s/it]"
     ]
    },
    {
     "name": "stdout",
     "output_type": "stream",
     "text": [
      "('max mins', -0.9620530788338345, 1.0)\n"
     ]
    },
    {
     "name": "stderr",
     "output_type": "stream",
     "text": [
      "\r",
      " 95%|█████████▍| 18/19 [01:18<00:04,  4.34s/it]"
     ]
    },
    {
     "name": "stdout",
     "output_type": "stream",
     "text": [
      "('max mins', -0.8928210364236441, 1.0)\n"
     ]
    },
    {
     "name": "stderr",
     "output_type": "stream",
     "text": [
      "100%|██████████| 19/19 [01:22<00:00,  4.09s/it]\n"
     ]
    },
    {
     "name": "stdout",
     "output_type": "stream",
     "text": [
      "('Best file pairs are: ', 'non_spikey_T0000125.WAV*non_spikey_T0000126.WAV')\n",
      "Start and end indices around peak:                  start index: 15386607\t\t          end index: 26886607                  total samples:30015488\n",
      "('AV Sync was above threshold: ', 0.835569567460479)\n",
      "common_fps/Aditya_annotations/2018-08-19/common_fps_video_syncAditya_2018-08-20_0300-0400_71.csv\n",
      "('video_fps obtained is :', 25)\n",
      "Did not find user-provided sample rate - getting it from first file that matches format!\n",
      "('sampling rate is : ', 250000)\n",
      ".....finding best audio segment.....\n"
     ]
    },
    {
     "name": "stderr",
     "output_type": "stream",
     "text": [
      "\r",
      "  0%|          | 0/19 [00:00<?, ?it/s]"
     ]
    },
    {
     "name": "stdout",
     "output_type": "stream",
     "text": [
      "('max mins for upsampled video', -0.7866289622310545, 1.0)\n",
      "('max mins', -0.9370308391076005, 1.0)\n"
     ]
    },
    {
     "name": "stderr",
     "output_type": "stream",
     "text": [
      "\r",
      "  5%|▌         | 1/19 [00:05<01:36,  5.35s/it]"
     ]
    },
    {
     "name": "stdout",
     "output_type": "stream",
     "text": [
      "('max mins', -1.0, 0.9695695784500635)\n"
     ]
    },
    {
     "name": "stderr",
     "output_type": "stream",
     "text": [
      "\r",
      " 11%|█         | 2/19 [00:09<01:25,  5.05s/it]"
     ]
    },
    {
     "name": "stdout",
     "output_type": "stream",
     "text": [
      "('max mins', -1.0, 0.9633919535141232)\n"
     ]
    },
    {
     "name": "stderr",
     "output_type": "stream",
     "text": [
      "\r",
      " 16%|█▌        | 3/19 [00:14<01:17,  4.83s/it]"
     ]
    },
    {
     "name": "stdout",
     "output_type": "stream",
     "text": [
      "('max mins', -1.0, 0.9906668655422063)\n"
     ]
    },
    {
     "name": "stderr",
     "output_type": "stream",
     "text": [
      "\r",
      " 21%|██        | 4/19 [00:18<01:10,  4.68s/it]"
     ]
    },
    {
     "name": "stdout",
     "output_type": "stream",
     "text": [
      "('max mins', -1.0, 0.9788979006815761)\n"
     ]
    },
    {
     "name": "stderr",
     "output_type": "stream",
     "text": [
      "\r",
      " 26%|██▋       | 5/19 [00:22<01:04,  4.58s/it]"
     ]
    },
    {
     "name": "stdout",
     "output_type": "stream",
     "text": [
      "('max mins', -1.0, 0.9627772202007328)\n"
     ]
    },
    {
     "name": "stderr",
     "output_type": "stream",
     "text": [
      "\r",
      " 32%|███▏      | 6/19 [00:27<00:58,  4.50s/it]"
     ]
    },
    {
     "name": "stdout",
     "output_type": "stream",
     "text": [
      "('max mins', -1.0, 0.9677089880784278)\n"
     ]
    },
    {
     "name": "stderr",
     "output_type": "stream",
     "text": [
      "\r",
      " 37%|███▋      | 7/19 [00:31<00:53,  4.45s/it]"
     ]
    },
    {
     "name": "stdout",
     "output_type": "stream",
     "text": [
      "('max mins', -1.0, 0.9255299371253971)\n"
     ]
    },
    {
     "name": "stderr",
     "output_type": "stream",
     "text": [
      "\r",
      " 42%|████▏     | 8/19 [00:35<00:48,  4.41s/it]"
     ]
    },
    {
     "name": "stdout",
     "output_type": "stream",
     "text": [
      "('max mins', -1.0, 0.9501887718253208)\n"
     ]
    },
    {
     "name": "stderr",
     "output_type": "stream",
     "text": [
      "\r",
      " 47%|████▋     | 9/19 [00:39<00:43,  4.38s/it]"
     ]
    },
    {
     "name": "stdout",
     "output_type": "stream",
     "text": [
      "('max mins', -1.0, 0.958361788327466)\n"
     ]
    },
    {
     "name": "stderr",
     "output_type": "stream",
     "text": [
      "\r",
      " 53%|█████▎    | 10/19 [00:44<00:39,  4.37s/it]"
     ]
    },
    {
     "name": "stdout",
     "output_type": "stream",
     "text": [
      "('max mins', -0.9934589839614669, 1.0)\n"
     ]
    },
    {
     "name": "stderr",
     "output_type": "stream",
     "text": [
      "\r",
      " 58%|█████▊    | 11/19 [00:48<00:34,  4.35s/it]"
     ]
    },
    {
     "name": "stdout",
     "output_type": "stream",
     "text": [
      "('max mins', -0.9639844543162986, 1.0)\n"
     ]
    },
    {
     "name": "stderr",
     "output_type": "stream",
     "text": [
      "\r",
      " 63%|██████▎   | 12/19 [00:52<00:30,  4.35s/it]"
     ]
    },
    {
     "name": "stdout",
     "output_type": "stream",
     "text": [
      "('max mins', -0.9735643333705267, 1.0)\n"
     ]
    },
    {
     "name": "stderr",
     "output_type": "stream",
     "text": [
      "\r",
      " 68%|██████▊   | 13/19 [00:57<00:26,  4.34s/it]"
     ]
    },
    {
     "name": "stdout",
     "output_type": "stream",
     "text": [
      "('max mins', -0.9761068437889729, 1.0)\n"
     ]
    },
    {
     "name": "stderr",
     "output_type": "stream",
     "text": [
      "\r",
      " 74%|███████▎  | 14/19 [01:01<00:21,  4.33s/it]"
     ]
    },
    {
     "name": "stdout",
     "output_type": "stream",
     "text": [
      "('max mins', -1.0, 0.9541452922954086)\n"
     ]
    },
    {
     "name": "stderr",
     "output_type": "stream",
     "text": [
      "\r",
      " 79%|███████▉  | 15/19 [01:05<00:17,  4.33s/it]"
     ]
    },
    {
     "name": "stdout",
     "output_type": "stream",
     "text": [
      "('max mins', -1.0, 0.9391597627822404)\n"
     ]
    },
    {
     "name": "stderr",
     "output_type": "stream",
     "text": [
      "\r",
      " 84%|████████▍ | 16/19 [01:10<00:12,  4.33s/it]"
     ]
    },
    {
     "name": "stdout",
     "output_type": "stream",
     "text": [
      "('max mins', -1.0, 0.9466729879274512)\n"
     ]
    },
    {
     "name": "stderr",
     "output_type": "stream",
     "text": [
      "\r",
      " 89%|████████▉ | 17/19 [01:14<00:08,  4.33s/it]"
     ]
    },
    {
     "name": "stdout",
     "output_type": "stream",
     "text": [
      "('max mins', -0.9620530788338345, 1.0)\n"
     ]
    },
    {
     "name": "stderr",
     "output_type": "stream",
     "text": [
      "\r",
      " 95%|█████████▍| 18/19 [01:18<00:04,  4.33s/it]"
     ]
    },
    {
     "name": "stdout",
     "output_type": "stream",
     "text": [
      "('max mins', -0.8928210364236441, 1.0)\n"
     ]
    },
    {
     "name": "stderr",
     "output_type": "stream",
     "text": [
      "100%|██████████| 19/19 [01:22<00:00,  4.08s/it]\n"
     ]
    },
    {
     "name": "stdout",
     "output_type": "stream",
     "text": [
      "('Best file pairs are: ', 'non_spikey_T0000125.WAV*non_spikey_T0000126.WAV')\n",
      "Start and end indices around peak:                  start index: 17634745\t\t          end index: 29134745                  total samples:30015488\n",
      "('AV Sync was above threshold: ', 0.7630606214541131)\n",
      "common_fps/Aditya_annotations/2018-08-19/common_fps_video_syncAditya_2018-08-20_0300-0400_72.csv\n",
      "('video_fps obtained is :', 25)\n",
      "Did not find user-provided sample rate - getting it from first file that matches format!\n",
      "('sampling rate is : ', 250000)\n",
      ".....finding best audio segment.....\n"
     ]
    },
    {
     "name": "stderr",
     "output_type": "stream",
     "text": [
      "\r",
      "  0%|          | 0/19 [00:00<?, ?it/s]"
     ]
    },
    {
     "name": "stdout",
     "output_type": "stream",
     "text": [
      "('max mins for upsampled video', -0.889041290790232, 1.0)\n",
      "('max mins', -0.9370308391076005, 1.0)\n"
     ]
    },
    {
     "name": "stderr",
     "output_type": "stream",
     "text": [
      "\r",
      "  5%|▌         | 1/19 [00:05<01:31,  5.11s/it]"
     ]
    },
    {
     "name": "stdout",
     "output_type": "stream",
     "text": [
      "('max mins', -1.0, 0.9695695784500635)\n"
     ]
    },
    {
     "name": "stderr",
     "output_type": "stream",
     "text": [
      "\r",
      " 11%|█         | 2/19 [00:09<01:22,  4.88s/it]"
     ]
    },
    {
     "name": "stdout",
     "output_type": "stream",
     "text": [
      "('max mins', -1.0, 0.9633919535141232)\n"
     ]
    },
    {
     "name": "stderr",
     "output_type": "stream",
     "text": [
      "\r",
      " 16%|█▌        | 3/19 [00:13<01:15,  4.72s/it]"
     ]
    },
    {
     "name": "stdout",
     "output_type": "stream",
     "text": [
      "('max mins', -1.0, 0.9906668655422063)\n"
     ]
    },
    {
     "name": "stderr",
     "output_type": "stream",
     "text": [
      "\r",
      " 21%|██        | 4/19 [00:18<01:09,  4.60s/it]"
     ]
    },
    {
     "name": "stdout",
     "output_type": "stream",
     "text": [
      "('max mins', -1.0, 0.9788979006815761)\n"
     ]
    },
    {
     "name": "stderr",
     "output_type": "stream",
     "text": [
      "\r",
      " 26%|██▋       | 5/19 [00:22<01:03,  4.51s/it]"
     ]
    },
    {
     "name": "stdout",
     "output_type": "stream",
     "text": [
      "('max mins', -1.0, 0.9627772202007328)\n"
     ]
    },
    {
     "name": "stderr",
     "output_type": "stream",
     "text": [
      "\r",
      " 32%|███▏      | 6/19 [00:26<00:57,  4.46s/it]"
     ]
    },
    {
     "name": "stdout",
     "output_type": "stream",
     "text": [
      "('max mins', -1.0, 0.9677089880784278)\n"
     ]
    },
    {
     "name": "stderr",
     "output_type": "stream",
     "text": [
      "\r",
      " 37%|███▋      | 7/19 [00:31<00:53,  4.42s/it]"
     ]
    },
    {
     "name": "stdout",
     "output_type": "stream",
     "text": [
      "('max mins', -1.0, 0.9255299371253971)\n"
     ]
    },
    {
     "name": "stderr",
     "output_type": "stream",
     "text": [
      "\r",
      " 42%|████▏     | 8/19 [00:35<00:50,  4.55s/it]"
     ]
    },
    {
     "name": "stdout",
     "output_type": "stream",
     "text": [
      "('max mins', -1.0, 0.9501887718253208)\n"
     ]
    },
    {
     "name": "stderr",
     "output_type": "stream",
     "text": [
      "\r",
      " 47%|████▋     | 9/19 [00:40<00:44,  4.49s/it]"
     ]
    },
    {
     "name": "stdout",
     "output_type": "stream",
     "text": [
      "('max mins', -1.0, 0.958361788327466)\n"
     ]
    },
    {
     "name": "stderr",
     "output_type": "stream",
     "text": [
      "\r",
      " 53%|█████▎    | 10/19 [00:44<00:39,  4.44s/it]"
     ]
    },
    {
     "name": "stdout",
     "output_type": "stream",
     "text": [
      "('max mins', -0.9934589839614669, 1.0)\n"
     ]
    },
    {
     "name": "stderr",
     "output_type": "stream",
     "text": [
      "\r",
      " 58%|█████▊    | 11/19 [00:48<00:35,  4.41s/it]"
     ]
    },
    {
     "name": "stdout",
     "output_type": "stream",
     "text": [
      "('max mins', -0.9639844543162986, 1.0)\n"
     ]
    },
    {
     "name": "stderr",
     "output_type": "stream",
     "text": [
      "\r",
      " 63%|██████▎   | 12/19 [00:53<00:30,  4.38s/it]"
     ]
    },
    {
     "name": "stdout",
     "output_type": "stream",
     "text": [
      "('max mins', -0.9735643333705267, 1.0)\n"
     ]
    },
    {
     "name": "stderr",
     "output_type": "stream",
     "text": [
      "\r",
      " 68%|██████▊   | 13/19 [00:57<00:26,  4.37s/it]"
     ]
    },
    {
     "name": "stdout",
     "output_type": "stream",
     "text": [
      "('max mins', -0.9761068437889729, 1.0)\n"
     ]
    },
    {
     "name": "stderr",
     "output_type": "stream",
     "text": [
      "\r",
      " 74%|███████▎  | 14/19 [01:01<00:21,  4.35s/it]"
     ]
    },
    {
     "name": "stdout",
     "output_type": "stream",
     "text": [
      "('max mins', -1.0, 0.9541452922954086)\n"
     ]
    },
    {
     "name": "stderr",
     "output_type": "stream",
     "text": [
      "\r",
      " 79%|███████▉  | 15/19 [01:06<00:17,  4.34s/it]"
     ]
    },
    {
     "name": "stdout",
     "output_type": "stream",
     "text": [
      "('max mins', -1.0, 0.9391597627822404)\n"
     ]
    },
    {
     "name": "stderr",
     "output_type": "stream",
     "text": [
      "\r",
      " 84%|████████▍ | 16/19 [01:10<00:13,  4.34s/it]"
     ]
    },
    {
     "name": "stdout",
     "output_type": "stream",
     "text": [
      "('max mins', -1.0, 0.9466729879274512)\n"
     ]
    },
    {
     "name": "stderr",
     "output_type": "stream",
     "text": [
      "\r",
      " 89%|████████▉ | 17/19 [01:14<00:08,  4.33s/it]"
     ]
    },
    {
     "name": "stdout",
     "output_type": "stream",
     "text": [
      "('max mins', -0.9620530788338345, 1.0)\n"
     ]
    },
    {
     "name": "stderr",
     "output_type": "stream",
     "text": [
      "\r",
      " 95%|█████████▍| 18/19 [01:19<00:04,  4.33s/it]"
     ]
    },
    {
     "name": "stdout",
     "output_type": "stream",
     "text": [
      "('max mins', -0.8928210364236441, 1.0)\n"
     ]
    },
    {
     "name": "stderr",
     "output_type": "stream",
     "text": [
      "100%|██████████| 19/19 [01:22<00:00,  4.09s/it]\n"
     ]
    },
    {
     "name": "stdout",
     "output_type": "stream",
     "text": [
      "('Best file pairs are: ', 'non_spikey_T0000126.WAV*non_spikey_T0000127.WAV')\n",
      "Start and end indices around peak:                  start index: 6860986\t\t          end index: 18360986                  total samples:30015488\n",
      "('AV Sync was above threshold: ', 0.6106363830059812)\n",
      "common_fps/Aditya_annotations/2018-08-19/common_fps_video_syncAditya_2018-08-20_0300-0400_73.csv\n",
      "('video_fps obtained is :', 25)\n",
      "Did not find user-provided sample rate - getting it from first file that matches format!\n",
      "('sampling rate is : ', 250000)\n",
      ".....finding best audio segment.....\n"
     ]
    },
    {
     "name": "stderr",
     "output_type": "stream",
     "text": [
      "\r",
      "  0%|          | 0/19 [00:00<?, ?it/s]"
     ]
    },
    {
     "name": "stdout",
     "output_type": "stream",
     "text": [
      "('max mins for upsampled video', -0.8281771870815093, 1.0)\n",
      "('max mins', -0.9370308391076005, 1.0)\n"
     ]
    },
    {
     "name": "stderr",
     "output_type": "stream",
     "text": [
      "\r",
      "  5%|▌         | 1/19 [00:05<01:31,  5.10s/it]"
     ]
    },
    {
     "name": "stdout",
     "output_type": "stream",
     "text": [
      "('max mins', -1.0, 0.9695695784500635)\n"
     ]
    },
    {
     "name": "stderr",
     "output_type": "stream",
     "text": [
      "\r",
      " 11%|█         | 2/19 [00:09<01:22,  4.87s/it]"
     ]
    },
    {
     "name": "stdout",
     "output_type": "stream",
     "text": [
      "('max mins', -1.0, 0.9633919535141232)\n"
     ]
    },
    {
     "name": "stderr",
     "output_type": "stream",
     "text": [
      "\r",
      " 16%|█▌        | 3/19 [00:13<01:15,  4.71s/it]"
     ]
    },
    {
     "name": "stdout",
     "output_type": "stream",
     "text": [
      "('max mins', -1.0, 0.9906668655422063)\n"
     ]
    },
    {
     "name": "stderr",
     "output_type": "stream",
     "text": [
      "\r",
      " 21%|██        | 4/19 [00:18<01:08,  4.59s/it]"
     ]
    },
    {
     "name": "stdout",
     "output_type": "stream",
     "text": [
      "('max mins', -1.0, 0.9788979006815761)\n"
     ]
    },
    {
     "name": "stderr",
     "output_type": "stream",
     "text": [
      "\r",
      " 26%|██▋       | 5/19 [00:22<01:03,  4.51s/it]"
     ]
    },
    {
     "name": "stdout",
     "output_type": "stream",
     "text": [
      "('max mins', -1.0, 0.9627772202007328)\n"
     ]
    },
    {
     "name": "stderr",
     "output_type": "stream",
     "text": [
      "\r",
      " 32%|███▏      | 6/19 [00:26<00:57,  4.46s/it]"
     ]
    },
    {
     "name": "stdout",
     "output_type": "stream",
     "text": [
      "('max mins', -1.0, 0.9677089880784278)\n"
     ]
    },
    {
     "name": "stderr",
     "output_type": "stream",
     "text": [
      "\r",
      " 37%|███▋      | 7/19 [00:31<00:53,  4.42s/it]"
     ]
    },
    {
     "name": "stdout",
     "output_type": "stream",
     "text": [
      "('max mins', -1.0, 0.9255299371253971)\n"
     ]
    },
    {
     "name": "stderr",
     "output_type": "stream",
     "text": [
      "\r",
      " 42%|████▏     | 8/19 [00:35<00:48,  4.39s/it]"
     ]
    },
    {
     "name": "stdout",
     "output_type": "stream",
     "text": [
      "('max mins', -1.0, 0.9501887718253208)\n"
     ]
    },
    {
     "name": "stderr",
     "output_type": "stream",
     "text": [
      "\r",
      " 47%|████▋     | 9/19 [00:39<00:43,  4.38s/it]"
     ]
    },
    {
     "name": "stdout",
     "output_type": "stream",
     "text": [
      "('max mins', -1.0, 0.958361788327466)\n"
     ]
    },
    {
     "name": "stderr",
     "output_type": "stream",
     "text": [
      "\r",
      " 53%|█████▎    | 10/19 [00:44<00:39,  4.37s/it]"
     ]
    },
    {
     "name": "stdout",
     "output_type": "stream",
     "text": [
      "('max mins', -0.9934589839614669, 1.0)\n"
     ]
    },
    {
     "name": "stderr",
     "output_type": "stream",
     "text": [
      "\r",
      " 58%|█████▊    | 11/19 [00:48<00:34,  4.35s/it]"
     ]
    },
    {
     "name": "stdout",
     "output_type": "stream",
     "text": [
      "('max mins', -0.9639844543162986, 1.0)\n"
     ]
    },
    {
     "name": "stderr",
     "output_type": "stream",
     "text": [
      "\r",
      " 63%|██████▎   | 12/19 [00:52<00:30,  4.35s/it]"
     ]
    },
    {
     "name": "stdout",
     "output_type": "stream",
     "text": [
      "('max mins', -0.9735643333705267, 1.0)\n"
     ]
    },
    {
     "name": "stderr",
     "output_type": "stream",
     "text": [
      "\r",
      " 68%|██████▊   | 13/19 [00:57<00:26,  4.35s/it]"
     ]
    },
    {
     "name": "stdout",
     "output_type": "stream",
     "text": [
      "('max mins', -0.9761068437889729, 1.0)\n"
     ]
    },
    {
     "name": "stderr",
     "output_type": "stream",
     "text": [
      "\r",
      " 74%|███████▎  | 14/19 [01:01<00:21,  4.35s/it]"
     ]
    },
    {
     "name": "stdout",
     "output_type": "stream",
     "text": [
      "('max mins', -1.0, 0.9541452922954086)\n"
     ]
    },
    {
     "name": "stderr",
     "output_type": "stream",
     "text": [
      "\r",
      " 79%|███████▉  | 15/19 [01:05<00:17,  4.34s/it]"
     ]
    },
    {
     "name": "stdout",
     "output_type": "stream",
     "text": [
      "('max mins', -1.0, 0.9391597627822404)\n"
     ]
    },
    {
     "name": "stderr",
     "output_type": "stream",
     "text": [
      "\r",
      " 84%|████████▍ | 16/19 [01:10<00:13,  4.53s/it]"
     ]
    },
    {
     "name": "stdout",
     "output_type": "stream",
     "text": [
      "('max mins', -1.0, 0.9466729879274512)\n"
     ]
    },
    {
     "name": "stderr",
     "output_type": "stream",
     "text": [
      "\r",
      " 89%|████████▉ | 17/19 [01:15<00:08,  4.48s/it]"
     ]
    },
    {
     "name": "stdout",
     "output_type": "stream",
     "text": [
      "('max mins', -0.9620530788338345, 1.0)\n"
     ]
    },
    {
     "name": "stderr",
     "output_type": "stream",
     "text": [
      "\r",
      " 95%|█████████▍| 18/19 [01:19<00:04,  4.43s/it]"
     ]
    },
    {
     "name": "stdout",
     "output_type": "stream",
     "text": [
      "('max mins', -0.8928210364236441, 1.0)\n"
     ]
    },
    {
     "name": "stderr",
     "output_type": "stream",
     "text": [
      "100%|██████████| 19/19 [01:22<00:00,  4.15s/it]\n"
     ]
    },
    {
     "name": "stdout",
     "output_type": "stream",
     "text": [
      "('Best file pairs are: ', 'non_spikey_T0000126.WAV*non_spikey_T0000127.WAV')\n",
      "Start and end indices around peak:                  start index: 11846826\t\t          end index: 23346826                  total samples:30015488\n",
      "('AV Sync was above threshold: ', 0.8336064334822934)\n",
      "common_fps/Aditya_annotations/2018-08-19/common_fps_video_syncAditya_2018-08-20_0300-0400_74.csv\n",
      "('video_fps obtained is :', 25)\n",
      "Did not find user-provided sample rate - getting it from first file that matches format!\n",
      "('sampling rate is : ', 250000)\n",
      ".....finding best audio segment.....\n"
     ]
    },
    {
     "name": "stderr",
     "output_type": "stream",
     "text": [
      "\r",
      "  0%|          | 0/9 [00:00<?, ?it/s]"
     ]
    },
    {
     "name": "stdout",
     "output_type": "stream",
     "text": [
      "('max mins for upsampled video', -0.8365267392603641, 1.0)\n",
      "('max mins', -0.9934589839614669, 1.0)\n"
     ]
    },
    {
     "name": "stderr",
     "output_type": "stream",
     "text": [
      "\r",
      " 11%|█         | 1/9 [00:05<00:40,  5.11s/it]"
     ]
    },
    {
     "name": "stdout",
     "output_type": "stream",
     "text": [
      "('max mins', -0.9639844543162986, 1.0)\n"
     ]
    },
    {
     "name": "stderr",
     "output_type": "stream",
     "text": [
      "\r",
      " 22%|██▏       | 2/9 [00:09<00:34,  4.87s/it]"
     ]
    },
    {
     "name": "stdout",
     "output_type": "stream",
     "text": [
      "('max mins', -0.9735643333705267, 1.0)\n"
     ]
    },
    {
     "name": "stderr",
     "output_type": "stream",
     "text": [
      "\r",
      " 33%|███▎      | 3/9 [00:13<00:28,  4.71s/it]"
     ]
    },
    {
     "name": "stdout",
     "output_type": "stream",
     "text": [
      "('max mins', -0.9761068437889729, 1.0)\n"
     ]
    },
    {
     "name": "stderr",
     "output_type": "stream",
     "text": [
      "\r",
      " 44%|████▍     | 4/9 [00:18<00:22,  4.59s/it]"
     ]
    },
    {
     "name": "stdout",
     "output_type": "stream",
     "text": [
      "('max mins', -1.0, 0.9541452922954086)\n"
     ]
    },
    {
     "name": "stderr",
     "output_type": "stream",
     "text": [
      "\r",
      " 56%|█████▌    | 5/9 [00:22<00:18,  4.51s/it]"
     ]
    },
    {
     "name": "stdout",
     "output_type": "stream",
     "text": [
      "('max mins', -1.0, 0.9391597627822404)\n"
     ]
    },
    {
     "name": "stderr",
     "output_type": "stream",
     "text": [
      "\r",
      " 67%|██████▋   | 6/9 [00:26<00:13,  4.46s/it]"
     ]
    },
    {
     "name": "stdout",
     "output_type": "stream",
     "text": [
      "('max mins', -1.0, 0.9466729879274512)\n"
     ]
    },
    {
     "name": "stderr",
     "output_type": "stream",
     "text": [
      "\r",
      " 78%|███████▊  | 7/9 [00:31<00:08,  4.42s/it]"
     ]
    },
    {
     "name": "stdout",
     "output_type": "stream",
     "text": [
      "('max mins', -0.9620530788338345, 1.0)\n"
     ]
    },
    {
     "name": "stderr",
     "output_type": "stream",
     "text": [
      "\r",
      " 89%|████████▉ | 8/9 [00:35<00:04,  4.40s/it]"
     ]
    },
    {
     "name": "stdout",
     "output_type": "stream",
     "text": [
      "('max mins', -0.8928210364236441, 1.0)\n"
     ]
    },
    {
     "name": "stderr",
     "output_type": "stream",
     "text": [
      "100%|██████████| 9/9 [00:38<00:00,  4.13s/it]\n"
     ]
    },
    {
     "name": "stdout",
     "output_type": "stream",
     "text": [
      "('Best file pairs are: ', 'non_spikey_T0000126.WAV*non_spikey_T0000127.WAV')\n",
      "Start and end indices around peak:                  start index: 13845339\t\t          end index: 25345339                  total samples:30015488\n",
      "('AV Sync was above threshold: ', 0.8688422884789163)\n",
      "common_fps/Aditya_annotations/2018-08-19/common_fps_video_syncAditya_2018-08-20_0300-0400_75.csv\n",
      "('video_fps obtained is :', 25)\n",
      "Did not find user-provided sample rate - getting it from first file that matches format!\n",
      "('sampling rate is : ', 250000)\n",
      ".....finding best audio segment.....\n"
     ]
    },
    {
     "name": "stderr",
     "output_type": "stream",
     "text": [
      "\r",
      "  0%|          | 0/9 [00:00<?, ?it/s]"
     ]
    },
    {
     "name": "stdout",
     "output_type": "stream",
     "text": [
      "('max mins for upsampled video', -0.7709044722183571, 1.0)\n",
      "('max mins', -0.9934589839614669, 1.0)\n"
     ]
    },
    {
     "name": "stderr",
     "output_type": "stream",
     "text": [
      "\r",
      " 11%|█         | 1/9 [00:05<00:40,  5.08s/it]"
     ]
    },
    {
     "name": "stdout",
     "output_type": "stream",
     "text": [
      "('max mins', -0.9639844543162986, 1.0)\n"
     ]
    },
    {
     "name": "stderr",
     "output_type": "stream",
     "text": [
      "\r",
      " 22%|██▏       | 2/9 [00:09<00:33,  4.85s/it]"
     ]
    },
    {
     "name": "stdout",
     "output_type": "stream",
     "text": [
      "('max mins', -0.9735643333705267, 1.0)\n"
     ]
    },
    {
     "name": "stderr",
     "output_type": "stream",
     "text": [
      "\r",
      " 33%|███▎      | 3/9 [00:13<00:28,  4.69s/it]"
     ]
    },
    {
     "name": "stdout",
     "output_type": "stream",
     "text": [
      "('max mins', -0.9761068437889729, 1.0)\n"
     ]
    },
    {
     "name": "stderr",
     "output_type": "stream",
     "text": [
      "\r",
      " 44%|████▍     | 4/9 [00:18<00:22,  4.58s/it]"
     ]
    },
    {
     "name": "stdout",
     "output_type": "stream",
     "text": [
      "('max mins', -1.0, 0.9541452922954086)\n"
     ]
    },
    {
     "name": "stderr",
     "output_type": "stream",
     "text": [
      "\r",
      " 56%|█████▌    | 5/9 [00:22<00:18,  4.51s/it]"
     ]
    },
    {
     "name": "stdout",
     "output_type": "stream",
     "text": [
      "('max mins', -1.0, 0.9391597627822404)\n"
     ]
    },
    {
     "name": "stderr",
     "output_type": "stream",
     "text": [
      "\r",
      " 67%|██████▋   | 6/9 [00:26<00:13,  4.45s/it]"
     ]
    },
    {
     "name": "stdout",
     "output_type": "stream",
     "text": [
      "('max mins', -1.0, 0.9466729879274512)\n"
     ]
    },
    {
     "name": "stderr",
     "output_type": "stream",
     "text": [
      "\r",
      " 78%|███████▊  | 7/9 [00:31<00:08,  4.41s/it]"
     ]
    },
    {
     "name": "stdout",
     "output_type": "stream",
     "text": [
      "('max mins', -0.9620530788338345, 1.0)\n"
     ]
    },
    {
     "name": "stderr",
     "output_type": "stream",
     "text": [
      "\r",
      " 89%|████████▉ | 8/9 [00:35<00:04,  4.39s/it]"
     ]
    },
    {
     "name": "stdout",
     "output_type": "stream",
     "text": [
      "('max mins', -0.8928210364236441, 1.0)\n"
     ]
    },
    {
     "name": "stderr",
     "output_type": "stream",
     "text": [
      "100%|██████████| 9/9 [00:38<00:00,  4.12s/it]\n"
     ]
    },
    {
     "name": "stdout",
     "output_type": "stream",
     "text": [
      "('Best file pairs are: ', 'non_spikey_T0000127.WAV*non_spikey_T0000128.WAV')\n",
      "Start and end indices around peak:                  start index: 4087262\t\t          end index: 15587262                  total samples:30015488\n",
      "('AV Sync was above threshold: ', 0.8692706024092838)\n",
      "common_fps/Aditya_annotations/2018-08-19/common_fps_video_syncAditya_2018-08-20_0300-0400_78.csv\n",
      "('video_fps obtained is :', 25)\n",
      "Did not find user-provided sample rate - getting it from first file that matches format!\n",
      "('sampling rate is : ', 250000)\n",
      ".....finding best audio segment.....\n"
     ]
    },
    {
     "name": "stderr",
     "output_type": "stream",
     "text": [
      "\r",
      "  0%|          | 0/9 [00:00<?, ?it/s]"
     ]
    },
    {
     "name": "stdout",
     "output_type": "stream",
     "text": [
      "('max mins for upsampled video', -0.8155989111923606, 1.0)\n",
      "('max mins', -0.9934589839614669, 1.0)\n"
     ]
    },
    {
     "name": "stderr",
     "output_type": "stream",
     "text": [
      "\r",
      " 11%|█         | 1/9 [00:05<00:40,  5.08s/it]"
     ]
    },
    {
     "name": "stdout",
     "output_type": "stream",
     "text": [
      "('max mins', -0.9639844543162986, 1.0)\n"
     ]
    },
    {
     "name": "stderr",
     "output_type": "stream",
     "text": [
      "\r",
      " 22%|██▏       | 2/9 [00:09<00:33,  4.85s/it]"
     ]
    },
    {
     "name": "stdout",
     "output_type": "stream",
     "text": [
      "('max mins', -0.9735643333705267, 1.0)\n"
     ]
    },
    {
     "name": "stderr",
     "output_type": "stream",
     "text": [
      "\r",
      " 33%|███▎      | 3/9 [00:13<00:28,  4.70s/it]"
     ]
    },
    {
     "name": "stdout",
     "output_type": "stream",
     "text": [
      "('max mins', -0.9761068437889729, 1.0)\n"
     ]
    },
    {
     "name": "stderr",
     "output_type": "stream",
     "text": [
      "\r",
      " 44%|████▍     | 4/9 [00:18<00:23,  4.73s/it]"
     ]
    },
    {
     "name": "stdout",
     "output_type": "stream",
     "text": [
      "('max mins', -1.0, 0.9541452922954086)\n"
     ]
    },
    {
     "name": "stderr",
     "output_type": "stream",
     "text": [
      "\r",
      " 56%|█████▌    | 5/9 [00:22<00:18,  4.62s/it]"
     ]
    },
    {
     "name": "stdout",
     "output_type": "stream",
     "text": [
      "('max mins', -1.0, 0.9391597627822404)\n"
     ]
    },
    {
     "name": "stderr",
     "output_type": "stream",
     "text": [
      "\r",
      " 67%|██████▋   | 6/9 [00:27<00:13,  4.53s/it]"
     ]
    },
    {
     "name": "stdout",
     "output_type": "stream",
     "text": [
      "('max mins', -1.0, 0.9466729879274512)\n"
     ]
    },
    {
     "name": "stderr",
     "output_type": "stream",
     "text": [
      "\r",
      " 78%|███████▊  | 7/9 [00:31<00:08,  4.47s/it]"
     ]
    },
    {
     "name": "stdout",
     "output_type": "stream",
     "text": [
      "('max mins', -0.9620530788338345, 1.0)\n"
     ]
    },
    {
     "name": "stderr",
     "output_type": "stream",
     "text": [
      "\r",
      " 89%|████████▉ | 8/9 [00:35<00:04,  4.43s/it]"
     ]
    },
    {
     "name": "stdout",
     "output_type": "stream",
     "text": [
      "('max mins', -0.8928210364236441, 1.0)\n"
     ]
    },
    {
     "name": "stderr",
     "output_type": "stream",
     "text": [
      "100%|██████████| 9/9 [00:39<00:00,  4.15s/it]\n"
     ]
    },
    {
     "name": "stdout",
     "output_type": "stream",
     "text": [
      "('Best file pairs are: ', 'non_spikey_T0000127.WAV*non_spikey_T0000128.WAV')\n",
      "Start and end indices around peak:                  start index: 14802466\t\t          end index: 26302466                  total samples:30015488\n",
      "('AV Sync was above threshold: ', 0.6821270480280233)\n",
      "common_fps/Aditya_annotations/2018-08-19/common_fps_video_syncAditya_2018-08-20_0300-0400_79.csv\n",
      "('video_fps obtained is :', 25)\n",
      "Did not find user-provided sample rate - getting it from first file that matches format!\n",
      "('sampling rate is : ', 250000)\n",
      ".....finding best audio segment.....\n"
     ]
    },
    {
     "name": "stderr",
     "output_type": "stream",
     "text": [
      "\r",
      "  0%|          | 0/9 [00:00<?, ?it/s]"
     ]
    },
    {
     "name": "stdout",
     "output_type": "stream",
     "text": [
      "('max mins for upsampled video', -0.9262447794036989, 1.0)\n",
      "('max mins', -0.9934589839614669, 1.0)\n"
     ]
    },
    {
     "name": "stderr",
     "output_type": "stream",
     "text": [
      "\r",
      " 11%|█         | 1/9 [00:05<00:40,  5.07s/it]"
     ]
    },
    {
     "name": "stdout",
     "output_type": "stream",
     "text": [
      "('max mins', -0.9639844543162986, 1.0)\n"
     ]
    },
    {
     "name": "stderr",
     "output_type": "stream",
     "text": [
      "\r",
      " 22%|██▏       | 2/9 [00:09<00:33,  4.84s/it]"
     ]
    },
    {
     "name": "stdout",
     "output_type": "stream",
     "text": [
      "('max mins', -0.9735643333705267, 1.0)\n"
     ]
    },
    {
     "name": "stderr",
     "output_type": "stream",
     "text": [
      "\r",
      " 33%|███▎      | 3/9 [00:13<00:28,  4.68s/it]"
     ]
    },
    {
     "name": "stdout",
     "output_type": "stream",
     "text": [
      "('max mins', -0.9761068437889729, 1.0)\n"
     ]
    },
    {
     "name": "stderr",
     "output_type": "stream",
     "text": [
      "\r",
      " 44%|████▍     | 4/9 [00:18<00:22,  4.57s/it]"
     ]
    },
    {
     "name": "stdout",
     "output_type": "stream",
     "text": [
      "('max mins', -1.0, 0.9541452922954086)\n"
     ]
    },
    {
     "name": "stderr",
     "output_type": "stream",
     "text": [
      "\r",
      " 56%|█████▌    | 5/9 [00:22<00:17,  4.50s/it]"
     ]
    },
    {
     "name": "stdout",
     "output_type": "stream",
     "text": [
      "('max mins', -1.0, 0.9391597627822404)\n"
     ]
    },
    {
     "name": "stderr",
     "output_type": "stream",
     "text": [
      "\r",
      " 67%|██████▋   | 6/9 [00:26<00:13,  4.45s/it]"
     ]
    },
    {
     "name": "stdout",
     "output_type": "stream",
     "text": [
      "('max mins', -1.0, 0.9466729879274512)\n"
     ]
    },
    {
     "name": "stderr",
     "output_type": "stream",
     "text": [
      "\r",
      " 78%|███████▊  | 7/9 [00:30<00:08,  4.41s/it]"
     ]
    },
    {
     "name": "stdout",
     "output_type": "stream",
     "text": [
      "('max mins', -0.9620530788338345, 1.0)\n"
     ]
    },
    {
     "name": "stderr",
     "output_type": "stream",
     "text": [
      "\r",
      " 89%|████████▉ | 8/9 [00:35<00:04,  4.39s/it]"
     ]
    },
    {
     "name": "stdout",
     "output_type": "stream",
     "text": [
      "('max mins', -0.8928210364236441, 1.0)\n"
     ]
    },
    {
     "name": "stderr",
     "output_type": "stream",
     "text": [
      "100%|██████████| 9/9 [00:38<00:00,  4.12s/it]\n"
     ]
    },
    {
     "name": "stdout",
     "output_type": "stream",
     "text": [
      "('Best file pairs are: ', 'non_spikey_T0000128.WAV*non_spikey_T0000129.WAV')\n",
      "Start and end indices around peak:                  start index: 6286596\t\t          end index: 17786596                  total samples:30015488\n",
      "('AV Sync was above threshold: ', 0.8693521073527263)\n",
      "common_fps/Aditya_annotations/2018-08-19/common_fps_video_syncAditya_2018-08-20_0300-0400_80.csv\n",
      "('video_fps obtained is :', 25)\n",
      "Did not find user-provided sample rate - getting it from first file that matches format!\n",
      "('sampling rate is : ', 250000)\n",
      ".....finding best audio segment.....\n"
     ]
    },
    {
     "name": "stderr",
     "output_type": "stream",
     "text": [
      "\r",
      "  0%|          | 0/9 [00:00<?, ?it/s]"
     ]
    },
    {
     "name": "stdout",
     "output_type": "stream",
     "text": [
      "('max mins for upsampled video', -0.930735321792168, 1.0)\n",
      "('max mins', -0.9934589839614669, 1.0)\n"
     ]
    },
    {
     "name": "stderr",
     "output_type": "stream",
     "text": [
      "\r",
      " 11%|█         | 1/9 [00:05<00:40,  5.08s/it]"
     ]
    },
    {
     "name": "stdout",
     "output_type": "stream",
     "text": [
      "('max mins', -0.9639844543162986, 1.0)\n"
     ]
    },
    {
     "name": "stderr",
     "output_type": "stream",
     "text": [
      "\r",
      " 22%|██▏       | 2/9 [00:09<00:33,  4.85s/it]"
     ]
    },
    {
     "name": "stdout",
     "output_type": "stream",
     "text": [
      "('max mins', -0.9735643333705267, 1.0)\n"
     ]
    },
    {
     "name": "stderr",
     "output_type": "stream",
     "text": [
      "\r",
      " 33%|███▎      | 3/9 [00:13<00:28,  4.69s/it]"
     ]
    },
    {
     "name": "stdout",
     "output_type": "stream",
     "text": [
      "('max mins', -0.9761068437889729, 1.0)\n"
     ]
    },
    {
     "name": "stderr",
     "output_type": "stream",
     "text": [
      "\r",
      " 44%|████▍     | 4/9 [00:18<00:22,  4.59s/it]"
     ]
    },
    {
     "name": "stdout",
     "output_type": "stream",
     "text": [
      "('max mins', -1.0, 0.9541452922954086)\n"
     ]
    },
    {
     "name": "stderr",
     "output_type": "stream",
     "text": [
      "\r",
      " 56%|█████▌    | 5/9 [00:22<00:18,  4.51s/it]"
     ]
    },
    {
     "name": "stdout",
     "output_type": "stream",
     "text": [
      "('max mins', -1.0, 0.9391597627822404)\n"
     ]
    },
    {
     "name": "stderr",
     "output_type": "stream",
     "text": [
      "\r",
      " 67%|██████▋   | 6/9 [00:26<00:13,  4.45s/it]"
     ]
    },
    {
     "name": "stdout",
     "output_type": "stream",
     "text": [
      "('max mins', -1.0, 0.9466729879274512)\n"
     ]
    },
    {
     "name": "stderr",
     "output_type": "stream",
     "text": [
      "\r",
      " 78%|███████▊  | 7/9 [00:31<00:08,  4.41s/it]"
     ]
    },
    {
     "name": "stdout",
     "output_type": "stream",
     "text": [
      "('max mins', -0.9620530788338345, 1.0)\n"
     ]
    },
    {
     "name": "stderr",
     "output_type": "stream",
     "text": [
      "\r",
      " 89%|████████▉ | 8/9 [00:35<00:04,  4.39s/it]"
     ]
    },
    {
     "name": "stdout",
     "output_type": "stream",
     "text": [
      "('max mins', -0.8928210364236441, 1.0)\n"
     ]
    },
    {
     "name": "stderr",
     "output_type": "stream",
     "text": [
      "100%|██████████| 9/9 [00:38<00:00,  4.12s/it]\n"
     ]
    },
    {
     "name": "stdout",
     "output_type": "stream",
     "text": [
      "('Best file pairs are: ', 'non_spikey_T0000128.WAV*non_spikey_T0000129.WAV')\n",
      "Start and end indices around peak:                  start index: 6536596\t\t          end index: 18036596                  total samples:30015488\n",
      "('AV Sync was above threshold: ', 0.8682580961643894)\n",
      "common_fps/Aditya_annotations/2018-08-19/common_fps_video_syncAditya_2018-08-20_0300-0400_81.csv\n",
      "('video_fps obtained is :', 25)\n",
      "Did not find user-provided sample rate - getting it from first file that matches format!\n",
      "('sampling rate is : ', 250000)\n",
      ".....finding best audio segment.....\n"
     ]
    },
    {
     "name": "stderr",
     "output_type": "stream",
     "text": [
      "\r",
      "  0%|          | 0/9 [00:00<?, ?it/s]"
     ]
    },
    {
     "name": "stdout",
     "output_type": "stream",
     "text": [
      "('max mins for upsampled video', -0.9209112999525074, 1.0)\n",
      "('max mins', -0.9934589839614669, 1.0)\n"
     ]
    },
    {
     "name": "stderr",
     "output_type": "stream",
     "text": [
      "\r",
      " 11%|█         | 1/9 [00:05<00:40,  5.09s/it]"
     ]
    },
    {
     "name": "stdout",
     "output_type": "stream",
     "text": [
      "('max mins', -0.9639844543162986, 1.0)\n"
     ]
    },
    {
     "name": "stderr",
     "output_type": "stream",
     "text": [
      "\r",
      " 22%|██▏       | 2/9 [00:09<00:34,  4.86s/it]"
     ]
    },
    {
     "name": "stdout",
     "output_type": "stream",
     "text": [
      "('max mins', -0.9735643333705267, 1.0)\n"
     ]
    },
    {
     "name": "stderr",
     "output_type": "stream",
     "text": [
      "\r",
      " 33%|███▎      | 3/9 [00:14<00:28,  4.82s/it]"
     ]
    },
    {
     "name": "stdout",
     "output_type": "stream",
     "text": [
      "('max mins', -0.9761068437889729, 1.0)\n"
     ]
    },
    {
     "name": "stderr",
     "output_type": "stream",
     "text": [
      "\r",
      " 44%|████▍     | 4/9 [00:18<00:23,  4.67s/it]"
     ]
    },
    {
     "name": "stdout",
     "output_type": "stream",
     "text": [
      "('max mins', -1.0, 0.9541452922954086)\n"
     ]
    },
    {
     "name": "stderr",
     "output_type": "stream",
     "text": [
      "\r",
      " 56%|█████▌    | 5/9 [00:22<00:18,  4.57s/it]"
     ]
    },
    {
     "name": "stdout",
     "output_type": "stream",
     "text": [
      "('max mins', -1.0, 0.9391597627822404)\n"
     ]
    },
    {
     "name": "stderr",
     "output_type": "stream",
     "text": [
      "\r",
      " 67%|██████▋   | 6/9 [00:27<00:13,  4.50s/it]"
     ]
    },
    {
     "name": "stdout",
     "output_type": "stream",
     "text": [
      "('max mins', -1.0, 0.9466729879274512)\n"
     ]
    },
    {
     "name": "stderr",
     "output_type": "stream",
     "text": [
      "\r",
      " 78%|███████▊  | 7/9 [00:31<00:08,  4.45s/it]"
     ]
    },
    {
     "name": "stdout",
     "output_type": "stream",
     "text": [
      "('max mins', -0.9620530788338345, 1.0)\n"
     ]
    },
    {
     "name": "stderr",
     "output_type": "stream",
     "text": [
      "\r",
      " 89%|████████▉ | 8/9 [00:35<00:04,  4.41s/it]"
     ]
    },
    {
     "name": "stdout",
     "output_type": "stream",
     "text": [
      "('max mins', -0.8928210364236441, 1.0)\n"
     ]
    },
    {
     "name": "stderr",
     "output_type": "stream",
     "text": [
      "100%|██████████| 9/9 [00:39<00:00,  4.14s/it]\n"
     ]
    },
    {
     "name": "stdout",
     "output_type": "stream",
     "text": [
      "('Best file pairs are: ', 'non_spikey_T0000128.WAV*non_spikey_T0000129.WAV')\n",
      "Start and end indices around peak:                  start index: 6786447\t\t          end index: 18286447                  total samples:30015488\n",
      "('AV Sync was above threshold: ', 0.8702727775521915)\n",
      "common_fps/Aditya_annotations/2018-08-19/common_fps_video_syncAditya_2018-08-20_0300-0400_83.csv\n",
      "('video_fps obtained is :', 25)\n",
      "Did not find user-provided sample rate - getting it from first file that matches format!\n",
      "('sampling rate is : ', 250000)\n",
      ".....finding best audio segment.....\n"
     ]
    },
    {
     "name": "stderr",
     "output_type": "stream",
     "text": [
      "\r",
      "  0%|          | 0/9 [00:00<?, ?it/s]"
     ]
    },
    {
     "name": "stdout",
     "output_type": "stream",
     "text": [
      "('max mins for upsampled video', -0.8317694512586065, 1.0)\n",
      "('max mins', -0.9934589839614669, 1.0)\n"
     ]
    },
    {
     "name": "stderr",
     "output_type": "stream",
     "text": [
      "\r",
      " 11%|█         | 1/9 [00:05<00:40,  5.09s/it]"
     ]
    },
    {
     "name": "stdout",
     "output_type": "stream",
     "text": [
      "('max mins', -0.9639844543162986, 1.0)\n"
     ]
    },
    {
     "name": "stderr",
     "output_type": "stream",
     "text": [
      "\r",
      " 22%|██▏       | 2/9 [00:09<00:34,  4.86s/it]"
     ]
    },
    {
     "name": "stdout",
     "output_type": "stream",
     "text": [
      "('max mins', -0.9735643333705267, 1.0)\n"
     ]
    },
    {
     "name": "stderr",
     "output_type": "stream",
     "text": [
      "\r",
      " 33%|███▎      | 3/9 [00:13<00:28,  4.70s/it]"
     ]
    },
    {
     "name": "stdout",
     "output_type": "stream",
     "text": [
      "('max mins', -0.9761068437889729, 1.0)\n"
     ]
    },
    {
     "name": "stderr",
     "output_type": "stream",
     "text": [
      "\r",
      " 44%|████▍     | 4/9 [00:18<00:22,  4.59s/it]"
     ]
    },
    {
     "name": "stdout",
     "output_type": "stream",
     "text": [
      "('max mins', -1.0, 0.9541452922954086)\n"
     ]
    },
    {
     "name": "stderr",
     "output_type": "stream",
     "text": [
      "\r",
      " 56%|█████▌    | 5/9 [00:22<00:18,  4.52s/it]"
     ]
    },
    {
     "name": "stdout",
     "output_type": "stream",
     "text": [
      "('max mins', -1.0, 0.9391597627822404)\n"
     ]
    },
    {
     "name": "stderr",
     "output_type": "stream",
     "text": [
      "\r",
      " 67%|██████▋   | 6/9 [00:26<00:13,  4.46s/it]"
     ]
    },
    {
     "name": "stdout",
     "output_type": "stream",
     "text": [
      "('max mins', -1.0, 0.9466729879274512)\n"
     ]
    },
    {
     "name": "stderr",
     "output_type": "stream",
     "text": [
      "\r",
      " 78%|███████▊  | 7/9 [00:31<00:08,  4.42s/it]"
     ]
    },
    {
     "name": "stdout",
     "output_type": "stream",
     "text": [
      "('max mins', -0.9620530788338345, 1.0)\n"
     ]
    },
    {
     "name": "stderr",
     "output_type": "stream",
     "text": [
      "\r",
      " 89%|████████▉ | 8/9 [00:35<00:04,  4.39s/it]"
     ]
    },
    {
     "name": "stdout",
     "output_type": "stream",
     "text": [
      "('max mins', -0.8928210364236441, 1.0)\n"
     ]
    },
    {
     "name": "stderr",
     "output_type": "stream",
     "text": [
      "100%|██████████| 9/9 [00:38<00:00,  4.12s/it]\n"
     ]
    },
    {
     "name": "stdout",
     "output_type": "stream",
     "text": [
      "('Best file pairs are: ', 'non_spikey_T0000129.WAV*non_spikey_T0000130.WAV')\n",
      "Start and end indices around peak:                  start index: 4996948\t\t          end index: 16496948                  total samples:30015488\n",
      "('AV Sync was above threshold: ', 0.6427559596743994)\n",
      "common_fps/Aditya_annotations/2018-08-19/common_fps_video_syncAditya_2018-08-20_0300-0400_84.csv\n",
      "('video_fps obtained is :', 25)\n",
      "Did not find user-provided sample rate - getting it from first file that matches format!\n",
      "('sampling rate is : ', 250000)\n",
      ".....finding best audio segment.....\n"
     ]
    },
    {
     "name": "stderr",
     "output_type": "stream",
     "text": [
      "\r",
      "  0%|          | 0/9 [00:00<?, ?it/s]"
     ]
    },
    {
     "name": "stdout",
     "output_type": "stream",
     "text": [
      "('max mins for upsampled video', -0.8317694512586065, 1.0)\n",
      "('max mins', -0.9934589839614669, 1.0)\n"
     ]
    },
    {
     "name": "stderr",
     "output_type": "stream",
     "text": [
      "\r",
      " 11%|█         | 1/9 [00:05<00:40,  5.09s/it]"
     ]
    },
    {
     "name": "stdout",
     "output_type": "stream",
     "text": [
      "('max mins', -0.9639844543162986, 1.0)\n"
     ]
    },
    {
     "name": "stderr",
     "output_type": "stream",
     "text": [
      "\r",
      " 22%|██▏       | 2/9 [00:09<00:34,  4.86s/it]"
     ]
    },
    {
     "name": "stdout",
     "output_type": "stream",
     "text": [
      "('max mins', -0.9735643333705267, 1.0)\n"
     ]
    },
    {
     "name": "stderr",
     "output_type": "stream",
     "text": [
      "\r",
      " 33%|███▎      | 3/9 [00:13<00:28,  4.71s/it]"
     ]
    },
    {
     "name": "stdout",
     "output_type": "stream",
     "text": [
      "('max mins', -0.9761068437889729, 1.0)\n"
     ]
    },
    {
     "name": "stderr",
     "output_type": "stream",
     "text": [
      "\r",
      " 44%|████▍     | 4/9 [00:18<00:22,  4.59s/it]"
     ]
    },
    {
     "name": "stdout",
     "output_type": "stream",
     "text": [
      "('max mins', -1.0, 0.9541452922954086)\n"
     ]
    },
    {
     "name": "stderr",
     "output_type": "stream",
     "text": [
      "\r",
      " 56%|█████▌    | 5/9 [00:22<00:18,  4.51s/it]"
     ]
    },
    {
     "name": "stdout",
     "output_type": "stream",
     "text": [
      "('max mins', -1.0, 0.9391597627822404)\n"
     ]
    },
    {
     "name": "stderr",
     "output_type": "stream",
     "text": [
      "\r",
      " 67%|██████▋   | 6/9 [00:26<00:13,  4.46s/it]"
     ]
    },
    {
     "name": "stdout",
     "output_type": "stream",
     "text": [
      "('max mins', -1.0, 0.9466729879274512)\n"
     ]
    },
    {
     "name": "stderr",
     "output_type": "stream",
     "text": [
      "\r",
      " 78%|███████▊  | 7/9 [00:31<00:08,  4.42s/it]"
     ]
    },
    {
     "name": "stdout",
     "output_type": "stream",
     "text": [
      "('max mins', -0.9620530788338345, 1.0)\n"
     ]
    },
    {
     "name": "stderr",
     "output_type": "stream",
     "text": [
      "\r",
      " 89%|████████▉ | 8/9 [00:35<00:04,  4.39s/it]"
     ]
    },
    {
     "name": "stdout",
     "output_type": "stream",
     "text": [
      "('max mins', -0.8928210364236441, 1.0)\n"
     ]
    },
    {
     "name": "stderr",
     "output_type": "stream",
     "text": [
      "100%|██████████| 9/9 [00:38<00:00,  4.13s/it]\n"
     ]
    },
    {
     "name": "stdout",
     "output_type": "stream",
     "text": [
      "('Best file pairs are: ', 'non_spikey_T0000129.WAV*non_spikey_T0000130.WAV')\n",
      "Start and end indices around peak:                  start index: 4996948\t\t          end index: 16496948                  total samples:30015488\n",
      "('AV Sync was above threshold: ', 0.6427559596743994)\n",
      "common_fps/Aditya_annotations/2018-08-19/common_fps_video_syncAditya_2018-08-20_0300-0400_85.csv\n",
      "('video_fps obtained is :', 25)\n",
      "Did not find user-provided sample rate - getting it from first file that matches format!\n",
      "('sampling rate is : ', 250000)\n",
      ".....finding best audio segment.....\n"
     ]
    },
    {
     "name": "stderr",
     "output_type": "stream",
     "text": [
      "\r",
      "  0%|          | 0/9 [00:00<?, ?it/s]"
     ]
    },
    {
     "name": "stdout",
     "output_type": "stream",
     "text": [
      "('max mins for upsampled video', -0.9056878921453165, 1.0)\n",
      "('max mins', -0.9934589839614669, 1.0)\n"
     ]
    },
    {
     "name": "stderr",
     "output_type": "stream",
     "text": [
      "\r",
      " 11%|█         | 1/9 [00:05<00:46,  5.81s/it]"
     ]
    },
    {
     "name": "stdout",
     "output_type": "stream",
     "text": [
      "('max mins', -0.9639844543162986, 1.0)\n"
     ]
    },
    {
     "name": "stderr",
     "output_type": "stream",
     "text": [
      "\r",
      " 22%|██▏       | 2/9 [00:10<00:37,  5.37s/it]"
     ]
    },
    {
     "name": "stdout",
     "output_type": "stream",
     "text": [
      "('max mins', -0.9735643333705267, 1.0)\n"
     ]
    },
    {
     "name": "stderr",
     "output_type": "stream",
     "text": [
      "\r",
      " 33%|███▎      | 3/9 [00:14<00:30,  5.06s/it]"
     ]
    },
    {
     "name": "stdout",
     "output_type": "stream",
     "text": [
      "('max mins', -0.9761068437889729, 1.0)\n"
     ]
    },
    {
     "name": "stderr",
     "output_type": "stream",
     "text": [
      "\r",
      " 44%|████▍     | 4/9 [00:18<00:24,  4.84s/it]"
     ]
    },
    {
     "name": "stdout",
     "output_type": "stream",
     "text": [
      "('max mins', -1.0, 0.9541452922954086)\n"
     ]
    },
    {
     "name": "stderr",
     "output_type": "stream",
     "text": [
      "\r",
      " 56%|█████▌    | 5/9 [00:23<00:18,  4.69s/it]"
     ]
    },
    {
     "name": "stdout",
     "output_type": "stream",
     "text": [
      "('max mins', -1.0, 0.9391597627822404)\n"
     ]
    },
    {
     "name": "stderr",
     "output_type": "stream",
     "text": [
      "\r",
      " 67%|██████▋   | 6/9 [00:27<00:13,  4.58s/it]"
     ]
    },
    {
     "name": "stdout",
     "output_type": "stream",
     "text": [
      "('max mins', -1.0, 0.9466729879274512)\n"
     ]
    },
    {
     "name": "stderr",
     "output_type": "stream",
     "text": [
      "\r",
      " 78%|███████▊  | 7/9 [00:31<00:09,  4.51s/it]"
     ]
    },
    {
     "name": "stdout",
     "output_type": "stream",
     "text": [
      "('max mins', -0.9620530788338345, 1.0)\n"
     ]
    },
    {
     "name": "stderr",
     "output_type": "stream",
     "text": [
      "\r",
      " 89%|████████▉ | 8/9 [00:36<00:04,  4.46s/it]"
     ]
    },
    {
     "name": "stdout",
     "output_type": "stream",
     "text": [
      "('max mins', -0.8928210364236441, 1.0)\n"
     ]
    },
    {
     "name": "stderr",
     "output_type": "stream",
     "text": [
      "100%|██████████| 9/9 [00:39<00:00,  4.17s/it]\n"
     ]
    },
    {
     "name": "stdout",
     "output_type": "stream",
     "text": [
      "('Best file pairs are: ', 'non_spikey_T0000129.WAV*non_spikey_T0000130.WAV')\n",
      "Start and end indices around peak:                  start index: 8491094\t\t          end index: 19991094                  total samples:30015488\n",
      "('AV Sync was above threshold: ', 0.8178288378198966)\n",
      "common_fps/Aditya_annotations/2018-08-19/common_fps_video_syncAditya_2018-08-20_0300-0400_90.csv\n",
      "('video_fps obtained is :', 25)\n",
      "Did not find user-provided sample rate - getting it from first file that matches format!\n",
      "('sampling rate is : ', 250000)\n",
      ".....finding best audio segment.....\n"
     ]
    },
    {
     "name": "stderr",
     "output_type": "stream",
     "text": [
      "\r",
      "  0%|          | 0/9 [00:00<?, ?it/s]"
     ]
    },
    {
     "name": "stdout",
     "output_type": "stream",
     "text": [
      "('max mins for upsampled video', -1.0, 0.9248196830863195)\n",
      "('max mins', -0.9934589839614669, 1.0)\n"
     ]
    },
    {
     "name": "stderr",
     "output_type": "stream",
     "text": [
      "\r",
      " 11%|█         | 1/9 [00:05<00:40,  5.10s/it]"
     ]
    },
    {
     "name": "stdout",
     "output_type": "stream",
     "text": [
      "('max mins', -0.9639844543162986, 1.0)\n"
     ]
    },
    {
     "name": "stderr",
     "output_type": "stream",
     "text": [
      "\r",
      " 22%|██▏       | 2/9 [00:09<00:34,  4.86s/it]"
     ]
    },
    {
     "name": "stdout",
     "output_type": "stream",
     "text": [
      "('max mins', -0.9735643333705267, 1.0)\n"
     ]
    },
    {
     "name": "stderr",
     "output_type": "stream",
     "text": [
      "\r",
      " 33%|███▎      | 3/9 [00:13<00:28,  4.70s/it]"
     ]
    },
    {
     "name": "stdout",
     "output_type": "stream",
     "text": [
      "('max mins', -0.9761068437889729, 1.0)\n"
     ]
    },
    {
     "name": "stderr",
     "output_type": "stream",
     "text": [
      "\r",
      " 44%|████▍     | 4/9 [00:18<00:22,  4.58s/it]"
     ]
    },
    {
     "name": "stdout",
     "output_type": "stream",
     "text": [
      "('max mins', -1.0, 0.9541452922954086)\n"
     ]
    },
    {
     "name": "stderr",
     "output_type": "stream",
     "text": [
      "\r",
      " 56%|█████▌    | 5/9 [00:22<00:18,  4.50s/it]"
     ]
    },
    {
     "name": "stdout",
     "output_type": "stream",
     "text": [
      "('max mins', -1.0, 0.9391597627822404)\n"
     ]
    },
    {
     "name": "stderr",
     "output_type": "stream",
     "text": [
      "\r",
      " 67%|██████▋   | 6/9 [00:26<00:13,  4.44s/it]"
     ]
    },
    {
     "name": "stdout",
     "output_type": "stream",
     "text": [
      "('max mins', -1.0, 0.9466729879274512)\n"
     ]
    },
    {
     "name": "stderr",
     "output_type": "stream",
     "text": [
      "\r",
      " 78%|███████▊  | 7/9 [00:30<00:08,  4.40s/it]"
     ]
    },
    {
     "name": "stdout",
     "output_type": "stream",
     "text": [
      "('max mins', -0.9620530788338345, 1.0)\n"
     ]
    },
    {
     "name": "stderr",
     "output_type": "stream",
     "text": [
      "\r",
      " 89%|████████▉ | 8/9 [00:35<00:04,  4.38s/it]"
     ]
    },
    {
     "name": "stdout",
     "output_type": "stream",
     "text": [
      "('max mins', -0.8928210364236441, 1.0)\n"
     ]
    },
    {
     "name": "stderr",
     "output_type": "stream",
     "text": [
      "100%|██████████| 9/9 [00:38<00:00,  4.11s/it]\n"
     ]
    },
    {
     "name": "stdout",
     "output_type": "stream",
     "text": [
      "('Best file pairs are: ', 'non_spikey_T0000131.WAV*non_spikey_T0000132.WAV')\n",
      "Start and end indices around peak:                  start index: 12215424\t\t          end index: 23715424                  total samples:30015488\n",
      "('AV Sync was above threshold: ', 0.8480956288301197)\n",
      "common_fps/Aditya_annotations/2018-08-19/common_fps_video_syncAditya_2018-08-20_0300-0400_91.csv\n",
      "('video_fps obtained is :', 25)\n",
      "Did not find user-provided sample rate - getting it from first file that matches format!\n",
      "('sampling rate is : ', 250000)\n",
      ".....finding best audio segment.....\n"
     ]
    },
    {
     "name": "stderr",
     "output_type": "stream",
     "text": [
      "\r",
      "  0%|          | 0/9 [00:00<?, ?it/s]"
     ]
    },
    {
     "name": "stdout",
     "output_type": "stream",
     "text": [
      "('max mins for upsampled video', -1.0, 0.930505671820448)\n",
      "('max mins', -0.9934589839614669, 1.0)\n"
     ]
    },
    {
     "name": "stderr",
     "output_type": "stream",
     "text": [
      "\r",
      " 11%|█         | 1/9 [00:05<00:40,  5.08s/it]"
     ]
    },
    {
     "name": "stdout",
     "output_type": "stream",
     "text": [
      "('max mins', -0.9639844543162986, 1.0)\n"
     ]
    },
    {
     "name": "stderr",
     "output_type": "stream",
     "text": [
      "\r",
      " 22%|██▏       | 2/9 [00:09<00:33,  4.85s/it]"
     ]
    },
    {
     "name": "stdout",
     "output_type": "stream",
     "text": [
      "('max mins', -0.9735643333705267, 1.0)\n"
     ]
    },
    {
     "name": "stderr",
     "output_type": "stream",
     "text": [
      "\r",
      " 33%|███▎      | 3/9 [00:13<00:28,  4.69s/it]"
     ]
    },
    {
     "name": "stdout",
     "output_type": "stream",
     "text": [
      "('max mins', -0.9761068437889729, 1.0)\n"
     ]
    },
    {
     "name": "stderr",
     "output_type": "stream",
     "text": [
      "\r",
      " 44%|████▍     | 4/9 [00:18<00:22,  4.58s/it]"
     ]
    },
    {
     "name": "stdout",
     "output_type": "stream",
     "text": [
      "('max mins', -1.0, 0.9541452922954086)\n"
     ]
    },
    {
     "name": "stderr",
     "output_type": "stream",
     "text": [
      "\r",
      " 56%|█████▌    | 5/9 [00:22<00:18,  4.50s/it]"
     ]
    },
    {
     "name": "stdout",
     "output_type": "stream",
     "text": [
      "('max mins', -1.0, 0.9391597627822404)\n"
     ]
    },
    {
     "name": "stderr",
     "output_type": "stream",
     "text": [
      "\r",
      " 67%|██████▋   | 6/9 [00:26<00:13,  4.45s/it]"
     ]
    },
    {
     "name": "stdout",
     "output_type": "stream",
     "text": [
      "('max mins', -1.0, 0.9466729879274512)\n"
     ]
    },
    {
     "name": "stderr",
     "output_type": "stream",
     "text": [
      "\r",
      " 78%|███████▊  | 7/9 [00:31<00:08,  4.42s/it]"
     ]
    },
    {
     "name": "stdout",
     "output_type": "stream",
     "text": [
      "('max mins', -0.9620530788338345, 1.0)\n"
     ]
    },
    {
     "name": "stderr",
     "output_type": "stream",
     "text": [
      "\r",
      " 89%|████████▉ | 8/9 [00:35<00:04,  4.39s/it]"
     ]
    },
    {
     "name": "stdout",
     "output_type": "stream",
     "text": [
      "('max mins', -0.8928210364236441, 1.0)\n"
     ]
    },
    {
     "name": "stderr",
     "output_type": "stream",
     "text": [
      "100%|██████████| 9/9 [00:39<00:00,  4.35s/it]\n"
     ]
    },
    {
     "name": "stdout",
     "output_type": "stream",
     "text": [
      "('Best file pairs are: ', 'non_spikey_T0000131.WAV*non_spikey_T0000132.WAV')\n",
      "Start and end indices around peak:                  start index: 12714313\t\t          end index: 24214313                  total samples:30015488\n",
      "('AV Sync was above threshold: ', 0.8490772604855595)\n",
      "common_fps/Aditya_annotations/2018-08-19/common_fps_video_syncAditya_2018-08-20_0300-0400_92.csv\n",
      "('video_fps obtained is :', 25)\n",
      "Did not find user-provided sample rate - getting it from first file that matches format!\n",
      "('sampling rate is : ', 250000)\n",
      ".....finding best audio segment.....\n"
     ]
    },
    {
     "name": "stderr",
     "output_type": "stream",
     "text": [
      "\r",
      "  0%|          | 0/9 [00:00<?, ?it/s]"
     ]
    },
    {
     "name": "stdout",
     "output_type": "stream",
     "text": [
      "('max mins for upsampled video', -1.0, 0.8997496004255074)\n",
      "('max mins', -0.9934589839614669, 1.0)\n"
     ]
    },
    {
     "name": "stderr",
     "output_type": "stream",
     "text": [
      "\r",
      " 11%|█         | 1/9 [00:05<00:40,  5.08s/it]"
     ]
    },
    {
     "name": "stdout",
     "output_type": "stream",
     "text": [
      "('max mins', -0.9639844543162986, 1.0)\n"
     ]
    },
    {
     "name": "stderr",
     "output_type": "stream",
     "text": [
      "\r",
      " 22%|██▏       | 2/9 [00:09<00:33,  4.86s/it]"
     ]
    },
    {
     "name": "stdout",
     "output_type": "stream",
     "text": [
      "('max mins', -0.9735643333705267, 1.0)\n"
     ]
    },
    {
     "name": "stderr",
     "output_type": "stream",
     "text": [
      "\r",
      " 33%|███▎      | 3/9 [00:13<00:28,  4.70s/it]"
     ]
    },
    {
     "name": "stdout",
     "output_type": "stream",
     "text": [
      "('max mins', -0.9761068437889729, 1.0)\n"
     ]
    },
    {
     "name": "stderr",
     "output_type": "stream",
     "text": [
      "\r",
      " 44%|████▍     | 4/9 [00:18<00:22,  4.58s/it]"
     ]
    },
    {
     "name": "stdout",
     "output_type": "stream",
     "text": [
      "('max mins', -1.0, 0.9541452922954086)\n"
     ]
    },
    {
     "name": "stderr",
     "output_type": "stream",
     "text": [
      "\r",
      " 56%|█████▌    | 5/9 [00:22<00:18,  4.50s/it]"
     ]
    },
    {
     "name": "stdout",
     "output_type": "stream",
     "text": [
      "('max mins', -1.0, 0.9391597627822404)\n"
     ]
    },
    {
     "name": "stderr",
     "output_type": "stream",
     "text": [
      "\r",
      " 67%|██████▋   | 6/9 [00:26<00:13,  4.45s/it]"
     ]
    },
    {
     "name": "stdout",
     "output_type": "stream",
     "text": [
      "('max mins', -1.0, 0.9466729879274512)\n"
     ]
    },
    {
     "name": "stderr",
     "output_type": "stream",
     "text": [
      "\r",
      " 78%|███████▊  | 7/9 [00:31<00:08,  4.41s/it]"
     ]
    },
    {
     "name": "stdout",
     "output_type": "stream",
     "text": [
      "('max mins', -0.9620530788338345, 1.0)\n"
     ]
    },
    {
     "name": "stderr",
     "output_type": "stream",
     "text": [
      "\r",
      " 89%|████████▉ | 8/9 [00:35<00:04,  4.39s/it]"
     ]
    },
    {
     "name": "stdout",
     "output_type": "stream",
     "text": [
      "('max mins', -0.8928210364236441, 1.0)\n"
     ]
    },
    {
     "name": "stderr",
     "output_type": "stream",
     "text": [
      "100%|██████████| 9/9 [00:38<00:00,  4.12s/it]\n"
     ]
    },
    {
     "name": "stdout",
     "output_type": "stream",
     "text": [
      "('Best file pairs are: ', 'non_spikey_T0000132.WAV*non_spikey_T0000133.WAV')\n",
      "Start and end indices around peak:                  start index: 3452684\t\t          end index: 14952684                  total samples:30015488\n",
      "('AV Sync was above threshold: ', 0.8614974985172993)\n"
     ]
    }
   ],
   "source": [
    "for commonfps_set, file_range in zip(common_fps_chunks, file_ranges_for_chunks):\n",
    "    for each in commonfps_set:\n",
    "        generate_matching_audio(each, audio_folder, audio_sync_spikey=False, \n",
    "                                file_subset=file_range,\n",
    "                                audio_fileformat='*.WAV',\n",
    "                              audiosync_folder='sync_audio/Aditya_annotations/',\n",
    "                               audioannotation_folder='annotation_audio/Aditya_annotations/')"
   ]
  },
  {
   "cell_type": "code",
   "execution_count": 58,
   "metadata": {},
   "outputs": [],
   "source": [
    "import datetime as dt"
   ]
  },
  {
   "cell_type": "code",
   "execution_count": 59,
   "metadata": {},
   "outputs": [
    {
     "name": "stdout",
     "output_type": "stream",
     "text": [
      "('Notebook saved: ', datetime.datetime(2020, 3, 18, 9, 58, 43, 813900))\n"
     ]
    }
   ],
   "source": [
    "print('Notebook saved: ', dt.datetime.now())"
   ]
  }
 ],
 "metadata": {
  "kernelspec": {
   "display_name": "horseshoebat",
   "language": "python",
   "name": "horseshoebat"
  },
  "language_info": {
   "codemirror_mode": {
    "name": "ipython",
    "version": 2
   },
   "file_extension": ".py",
   "mimetype": "text/x-python",
   "name": "python",
   "nbconvert_exporter": "python",
   "pygments_lexer": "ipython2",
   "version": "2.7.15"
  }
 },
 "nbformat": 4,
 "nbformat_minor": 2
}
