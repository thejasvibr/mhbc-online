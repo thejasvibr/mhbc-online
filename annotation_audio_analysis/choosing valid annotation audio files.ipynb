{
 "cells": [
  {
   "cell_type": "markdown",
   "metadata": {},
   "source": [
    "### What this notebook is about\n",
    "This notebook will record and produce a .csv file with all the valid annotation audio files that can be used for further analysis. The main reason this needs to be done is because the annotation audio files can have a mix of bat calls in the dataset from different species. \n",
    "\n",
    "Orlova Chuka (the field site) has multiple bat species, and we have seen *Rhinolophus ferrumequinum*, and *Myotis* genus type calls in the audio. While Aditya was selecting high SNR single calls, he also noted down\n",
    "\n",
    "- which audio clips had non-target species calls. Our target species calls are those of *R. euryale* and *R. mehelyi*. These two target species have a constant frequency range between 102-112 kHZ [1], with *R. euryale* constant frequencies being between 102-109 kHz, and *R. mehelyi* being between 104-112 kHz. The target species are far apart in their call frequency and structure from the non-target species, and thus identification can happen unambiguously. \n",
    "\n",
    "- which clips had overlapping calls even though the video annotation said there was one bat flying. This is not an annotation mistake, and is explainable by bats emitting calls while perched in the roosting spot. The roosting spot is not visible in the field-of-view of the camera. \n",
    "\n",
    "- which annotations were actually the result of annotation errors, and also identified duplicate entries. \n",
    "\n",
    "The double checking of video + audio annotations means that the audio data is even more reliable at this stage. \n",
    "\n",
    "\n",
    "### More concretely ...\n",
    "Aditya's annotations have clear descriptions of whether or not it was possible to get a single call from an annotation audio file. Annotations with blank comments are those where a single call could succesfully be identified. Those with 'No clear call' indicate a valid audio annotation file, but one where a clearly extractable individual call could not be obtained. All other comments such as 'FM calls only', 'HSB calls', indicate the presence of non-target species. Some single call annotations have comments and valid single-call entries which comment on the details of the call selection or peculiarities of that particular annotation audio file, these are treated as valid annotation files too. \n",
    "\n",
    "Another point that I've been checking now (as of 2020-11-26) is whether matched audio that is annotated with 1 bat has overlapping calls. Matched audio that with 1 bat seen in the video but with overlapping calls are being discarded. These incidents are likely to happen when the single bat event is closely preceded by a following bat or a circling even between two or more bats. Even though some of these matched audio files may have faint or short overlapping call sections - they tend to  add noise to the results. \n",
    "\n",
    "### Where are the annotation audio files that need to be chosen?\n",
    "The annotation audio files are all in the  'individual_call_analysis/annotation_audio/'. The audio files are placed according to the video hour that they were matched to. \n",
    "\n",
    "\n",
    "\n",
    "\n",
    "\n",
    "\n",
    "Author : Thejasvi Beleyur \n",
    "\n",
    "Date of initation: July 07, 2020"
   ]
  },
  {
   "cell_type": "code",
   "execution_count": 1,
   "metadata": {
    "execution": {
     "iopub.execute_input": "2020-12-17T14:16:01.429433Z",
     "iopub.status.busy": "2020-12-17T14:16:01.429433Z",
     "iopub.status.idle": "2020-12-17T14:16:01.968252Z",
     "shell.execute_reply": "2020-12-17T14:16:01.968252Z"
    }
   },
   "outputs": [],
   "source": [
    "import sys \n",
    "sys.path.append('../individual_call_analysis/analysis/')\n",
    "import datetime as dt\n",
    "import glob\n",
    "import os\n",
    "import pandas as pd"
   ]
  },
  {
   "cell_type": "code",
   "execution_count": 2,
   "metadata": {
    "execution": {
     "iopub.execute_input": "2020-12-17T14:16:01.968252Z",
     "iopub.status.busy": "2020-12-17T14:16:01.968252Z",
     "iopub.status.idle": "2020-12-17T14:16:02.331540Z",
     "shell.execute_reply": "2020-12-17T14:16:02.331540Z"
    }
   },
   "outputs": [],
   "source": [
    "import format_and_clean\n",
    "from format_and_clean import ind_call_format as icf"
   ]
  },
  {
   "cell_type": "code",
   "execution_count": 3,
   "metadata": {
    "execution": {
     "iopub.execute_input": "2020-12-17T14:16:02.331540Z",
     "iopub.status.busy": "2020-12-17T14:16:02.331540Z",
     "iopub.status.idle": "2020-12-17T14:16:02.347164Z",
     "shell.execute_reply": "2020-12-17T14:16:02.347164Z"
    }
   },
   "outputs": [
    {
     "name": "stdout",
     "output_type": "stream",
     "text": [
      "Notebook run started at: 2020-12-17 15:16:02.331540\n"
     ]
    }
   ],
   "source": [
    "print(f'Notebook run started at: {dt.datetime.now()}')"
   ]
  },
  {
   "cell_type": "code",
   "execution_count": 4,
   "metadata": {
    "execution": {
     "iopub.execute_input": "2020-12-17T14:16:02.353669Z",
     "iopub.status.busy": "2020-12-17T14:16:02.347164Z",
     "iopub.status.idle": "2020-12-17T14:16:02.369312Z",
     "shell.execute_reply": "2020-12-17T14:16:02.369312Z"
    }
   },
   "outputs": [
    {
     "name": "stdout",
     "output_type": "stream",
     "text": [
      "../individual_call_analysis/annotation_audio\n"
     ]
    }
   ],
   "source": [
    "single_call_folder = '../individual_call_analysis/'\n",
    "annot_audio_folder = \"annotation_audio\"\n",
    "audio_folder_path = os.path.join(single_call_folder, annot_audio_folder)\n",
    "print(audio_folder_path)"
   ]
  },
  {
   "cell_type": "code",
   "execution_count": 5,
   "metadata": {
    "execution": {
     "iopub.execute_input": "2020-12-17T14:16:02.369312Z",
     "iopub.status.busy": "2020-12-17T14:16:02.369312Z",
     "iopub.status.idle": "2020-12-17T14:16:02.384923Z",
     "shell.execute_reply": "2020-12-17T14:16:02.384923Z"
    }
   },
   "outputs": [],
   "source": [
    "all_valid_annotation_files = []\n",
    "valid_files  = {}"
   ]
  },
  {
   "cell_type": "markdown",
   "metadata": {},
   "source": [
    "### 2018-08-16_2150-2300_annotation_audio"
   ]
  },
  {
   "cell_type": "code",
   "execution_count": 6,
   "metadata": {
    "execution": {
     "iopub.execute_input": "2020-12-17T14:16:02.384923Z",
     "iopub.status.busy": "2020-12-17T14:16:02.384923Z",
     "iopub.status.idle": "2020-12-17T14:16:02.400586Z",
     "shell.execute_reply": "2020-12-17T14:16:02.400586Z"
    }
   },
   "outputs": [
    {
     "data": {
      "text/plain": [
       "35"
      ]
     },
     "execution_count": 1,
     "metadata": {},
     "output_type": "execute_result"
    }
   ],
   "source": [
    "valid_files_20180816_215002300 = []\n",
    "annot_nums = [18,20,22,24,25,28,30,32,33,36,37,39,40,43,46,47,\n",
    "              49,50,51,52,62,66,69,70,73,74,93,98,100,101,102,\n",
    "              104,108,110,111]\n",
    "\n",
    "for each in annot_nums:\n",
    "    valid_files_20180816_215002300.append('matching_annotaudio_Aditya_2018-08-16_21502300_'+str(each))\n",
    "\n",
    "valid_files['20180816-21502300'] = valid_files_20180816_215002300\n",
    "len(valid_files_20180816_215002300)"
   ]
  },
  {
   "cell_type": "markdown",
   "metadata": {},
   "source": [
    "### 2018-08-16_2300-2400_annotation_audio"
   ]
  },
  {
   "cell_type": "code",
   "execution_count": 7,
   "metadata": {
    "execution": {
     "iopub.execute_input": "2020-12-17T14:16:02.400586Z",
     "iopub.status.busy": "2020-12-17T14:16:02.400586Z",
     "iopub.status.idle": "2020-12-17T14:16:02.416172Z",
     "shell.execute_reply": "2020-12-17T14:16:02.416172Z"
    }
   },
   "outputs": [
    {
     "name": "stdout",
     "output_type": "stream",
     "text": [
      "80\n"
     ]
    }
   ],
   "source": [
    "valid_files_20180816_23002400 = []\n",
    "idnums_20180816_23002400 = [221,223,228,229,235,236,248,250,252,254,255,256,257,260,280,285,288,287,3,7,8,10,\n",
    "                            14,15,18,20,22,23,26,28,29,30,31,41,49,52,59,61,68,69,80,84,85,86,88,89,90,91,92,94,\n",
    "                            95,117,128,135,143,154,156,159,165,169,179,180,181,182,193,196,197,198,199,202,204,207,208,\n",
    "                            211,212,216,217,218,219,220]\n",
    "\n",
    "for each in idnums_20180816_23002400:\n",
    "    valid_files_20180816_23002400.append('matching_annotaudio_Aditya_2018-08-16_2324_'+str(each))\n",
    "\n",
    "valid_files['20180816-23002400'] = valid_files_20180816_23002400\n",
    "\n",
    "    \n",
    "print(len(valid_files_20180816_23002400))"
   ]
  },
  {
   "cell_type": "markdown",
   "metadata": {},
   "source": [
    "### 2018-08-17_0000-0100_am_annotation_audio"
   ]
  },
  {
   "cell_type": "code",
   "execution_count": 8,
   "metadata": {
    "execution": {
     "iopub.execute_input": "2020-12-17T14:16:02.416172Z",
     "iopub.status.busy": "2020-12-17T14:16:02.416172Z",
     "iopub.status.idle": "2020-12-17T14:16:02.431854Z",
     "shell.execute_reply": "2020-12-17T14:16:02.431854Z"
    }
   },
   "outputs": [
    {
     "name": "stdout",
     "output_type": "stream",
     "text": [
      "41\n"
     ]
    }
   ],
   "source": [
    "idnums_20180817_00100 = [3,6,7,8,10,11,13,14,15,16,24,26,28,29,30,32,33,34,35,36,37,\n",
    "                              39,40,44,46,47,49,57,58,63,65,72,74,75,76,77,80,81,82,83,84]\n",
    "valid_files_20180817_00100 = []\n",
    "\n",
    "for each in idnums_20180817_00100:\n",
    "    valid_files_20180817_00100.append('matching_annotaudio_Aditya_2018-08-17_01_'+str(each))\n",
    "    \n",
    "valid_files['20180817-00000100'] = valid_files_20180817_00100\n",
    "\n",
    "print(len(valid_files_20180817_00100))"
   ]
  },
  {
   "cell_type": "markdown",
   "metadata": {},
   "source": [
    "### 2018-08-17_0100-0200_annotation_audio"
   ]
  },
  {
   "cell_type": "code",
   "execution_count": 9,
   "metadata": {
    "execution": {
     "iopub.execute_input": "2020-12-17T14:16:02.431854Z",
     "iopub.status.busy": "2020-12-17T14:16:02.431854Z",
     "iopub.status.idle": "2020-12-17T14:16:02.447437Z",
     "shell.execute_reply": "2020-12-17T14:16:02.447437Z"
    }
   },
   "outputs": [],
   "source": [
    "idnums_20180817_01000200 = [2,4,8,15,16,21,28,29,33,39,44,50,52,53,68,72,73,74,75,78,\n",
    "                            79,80,98,100,101,103,104,110,115,116,117,118,122]\n",
    "\n",
    "validfiles_20180817_01000200 = ['matching_annotaudio_Aditya_2018-08-17_12_'+str(each) for each in idnums_20180817_01000200]    \n",
    "valid_files['20180817_01000200'] = validfiles_20180817_01000200\n"
   ]
  },
  {
   "cell_type": "markdown",
   "metadata": {},
   "source": [
    "### 2018-08-17_0200-0300_annotation_audio"
   ]
  },
  {
   "cell_type": "code",
   "execution_count": 10,
   "metadata": {
    "execution": {
     "iopub.execute_input": "2020-12-17T14:16:02.453966Z",
     "iopub.status.busy": "2020-12-17T14:16:02.453966Z",
     "iopub.status.idle": "2020-12-17T14:16:02.469653Z",
     "shell.execute_reply": "2020-12-17T14:16:02.469653Z"
    }
   },
   "outputs": [
    {
     "name": "stdout",
     "output_type": "stream",
     "text": [
      "54\n"
     ]
    }
   ],
   "source": [
    "idnums_20180817_02000300 = [193,196,24,26,28,30,37,42,45,53,56,58,65,68,69,70,71,72,75,78,81,82,\n",
    "                            91,92,100,102,105,110,112,113,115,117,133,134,137,138,139,142,145,146,\n",
    "                            154,155,157,161,167,168,170,172,173,185,186,187,191,192]\n",
    "validfiles_20180817_02000300 = ['matching_annotaudio_Aditya_2018-08-17_23_'+str(each) for each in idnums_20180817_02000300]\n",
    "valid_files['20180817_02000300'] = validfiles_20180817_02000300\n",
    "\n",
    "print(len(validfiles_20180817_02000300))"
   ]
  },
  {
   "cell_type": "markdown",
   "metadata": {},
   "source": [
    "### 2018-08-17_0300-0400_am_annotation_audio\n",
    "*Note* : The single-call annotation file for this particular file has a misleading name, 'Audio Annotation Datasheet_3-4_16.08.18_corrected(1).csv' - which makes it seem as though the audio corresponds to the 3-4am on the 16th of August. It actually contains the data from the *17*th of August 2018 between 3-4 am. "
   ]
  },
  {
   "cell_type": "code",
   "execution_count": 11,
   "metadata": {
    "execution": {
     "iopub.execute_input": "2020-12-17T14:16:02.469653Z",
     "iopub.status.busy": "2020-12-17T14:16:02.469653Z",
     "iopub.status.idle": "2020-12-17T14:16:02.485220Z",
     "shell.execute_reply": "2020-12-17T14:16:02.485220Z"
    }
   },
   "outputs": [
    {
     "name": "stdout",
     "output_type": "stream",
     "text": [
      "50\n"
     ]
    }
   ],
   "source": [
    "idnums_2018081703000400 = [154,156,157,158,168,170,201,208,211,2,4,12,18,19,\n",
    "                           21,23,27,32,35,38,40,41,49,51,52,54,55,56,57,61,64,\n",
    "                           65,66,67,69,72,77,78,81,120,124,125,132,133,136,\n",
    "                           137,143,147,149,151]\n",
    "validfiles_20180817_03000400 = ['matching_annotaudio_Aditya_2018-08-17_34_'+str(each) for each in idnums_2018081703000400]\n",
    "print(len(validfiles_20180817_03000400))\n",
    "\n",
    "valid_files['20180817_03000400'] = validfiles_20180817_03000400"
   ]
  },
  {
   "cell_type": "markdown",
   "metadata": {},
   "source": [
    "### 2018-08-17_0400-0500_annotation_audio"
   ]
  },
  {
   "cell_type": "code",
   "execution_count": 12,
   "metadata": {
    "execution": {
     "iopub.execute_input": "2020-12-17T14:16:02.485220Z",
     "iopub.status.busy": "2020-12-17T14:16:02.485220Z",
     "iopub.status.idle": "2020-12-17T14:16:02.500901Z",
     "shell.execute_reply": "2020-12-17T14:16:02.500901Z"
    }
   },
   "outputs": [],
   "source": [
    "idnums_valid_2018081704000500 = [3,5,8,56,67,99,116,117,118,119,125,129,135,137,\n",
    "                                 162,164,172,180,185,210,211,231,237,244,318,340,341,342]\n",
    "valid_files_20180817_04000500 = ['matching_annotaudio_Aditya_2018-08-17_45_' +str(each) for each in idnums_valid_2018081704000500]\n",
    "valid_files['20180817_04000500'] = valid_files_20180817_04000500"
   ]
  },
  {
   "cell_type": "markdown",
   "metadata": {},
   "source": [
    "### 2018-08-17_0500-0600_annotation_audio"
   ]
  },
  {
   "cell_type": "code",
   "execution_count": 13,
   "metadata": {
    "execution": {
     "iopub.execute_input": "2020-12-17T14:16:02.500901Z",
     "iopub.status.busy": "2020-12-17T14:16:02.500901Z",
     "iopub.status.idle": "2020-12-17T14:16:02.516488Z",
     "shell.execute_reply": "2020-12-17T14:16:02.516488Z"
    }
   },
   "outputs": [],
   "source": [
    "idnums_2018081705000600 = [1,2,11,23,26,31,33,57,58,59,96,175,191,78,81,108]\n",
    "validfiles_2018081705000600 = ['matching_annotaudio_Aditya_2018-08-17_56_'+str(each) for each in idnums_2018081705000600]\n",
    "valid_files['20180817_05000600'] = validfiles_2018081705000600"
   ]
  },
  {
   "cell_type": "markdown",
   "metadata": {},
   "source": [
    "### 2018-08-19_0120_0200_annotation_audio"
   ]
  },
  {
   "cell_type": "code",
   "execution_count": 14,
   "metadata": {
    "execution": {
     "iopub.execute_input": "2020-12-17T14:16:02.516488Z",
     "iopub.status.busy": "2020-12-17T14:16:02.516488Z",
     "iopub.status.idle": "2020-12-17T14:16:02.532149Z",
     "shell.execute_reply": "2020-12-17T14:16:02.532149Z"
    }
   },
   "outputs": [],
   "source": [
    "idnums_2018081901200200 = [8,13,14,18,19,21,22,23,27,59,62,63,64,65,71,72,73,74\n",
    "                          ,77,79,81,83,87,88,90,93,94,95,96,104,107,109,110,111,\n",
    "                           112,113,117,118,119,120,124,128]\n",
    "validfiles_2018081901200200 = ['matching_annotaudio_Aditya_2018-08-19_0120-0200_'+str(each) for each in idnums_2018081901200200]\n",
    "valid_files['20180819_01200200'] = validfiles_2018081901200200"
   ]
  },
  {
   "cell_type": "markdown",
   "metadata": {},
   "source": [
    "### 2018-08-19_0200-0300_annotation_audio"
   ]
  },
  {
   "cell_type": "code",
   "execution_count": 15,
   "metadata": {
    "execution": {
     "iopub.execute_input": "2020-12-17T14:16:02.532149Z",
     "iopub.status.busy": "2020-12-17T14:16:02.532149Z",
     "iopub.status.idle": "2020-12-17T14:16:02.547774Z",
     "shell.execute_reply": "2020-12-17T14:16:02.547774Z"
    }
   },
   "outputs": [],
   "source": [
    "idnums_2018081902000300 = [2,4,5,6,17,18,19,31,32,34,37,40]\n",
    "validfiles_2018081902000300 = ['matching_annotaudio_Aditya_2018-08-19_23_'+str(each)for each in idnums_2018081902000300]\n",
    "valid_files['20180819_02000300'] = validfiles_2018081902000300"
   ]
  },
  {
   "cell_type": "markdown",
   "metadata": {},
   "source": [
    "### 2018-08-20_0200_0300_annotation_audio"
   ]
  },
  {
   "cell_type": "code",
   "execution_count": 16,
   "metadata": {
    "execution": {
     "iopub.execute_input": "2020-12-17T14:16:02.554281Z",
     "iopub.status.busy": "2020-12-17T14:16:02.554281Z",
     "iopub.status.idle": "2020-12-17T14:16:02.569969Z",
     "shell.execute_reply": "2020-12-17T14:16:02.569969Z"
    }
   },
   "outputs": [],
   "source": [
    "idnums_2018082002000300 = [3,7,8,11,13,16,18,38,39,41,43,44,50,54,55,\n",
    "                           60,61,62,64,66,67,71,73,76,78,79,88,90,91,92]\n",
    "validfiles_2018082002000300 = ['matching_annotaudio_Aditya_2018-08-20_0200-0300_'+str(each) for each in idnums_2018082002000300]\n",
    "valid_files['20180820_02000300'] = validfiles_2018082002000300"
   ]
  },
  {
   "cell_type": "markdown",
   "metadata": {},
   "source": [
    "### 2018-08-20_0300_0400_annotation_audio"
   ]
  },
  {
   "cell_type": "code",
   "execution_count": 17,
   "metadata": {
    "execution": {
     "iopub.execute_input": "2020-12-17T14:16:02.569969Z",
     "iopub.status.busy": "2020-12-17T14:16:02.569969Z",
     "iopub.status.idle": "2020-12-17T14:16:02.585594Z",
     "shell.execute_reply": "2020-12-17T14:16:02.585594Z"
    }
   },
   "outputs": [],
   "source": [
    "idnums_2018082003000400 = [18,19,35,56,58,61,70,79,83,84,85,90,91,92]\n",
    "\n",
    "validfiles_2018082003000400 = ['matching_annotaudio_Aditya_2018-08-20_0300-0400_'+str(each)for each in idnums_2018082003000400]\n",
    "valid_files['20180820_03000400'] = validfiles_2018082003000400"
   ]
  },
  {
   "cell_type": "markdown",
   "metadata": {},
   "source": [
    "### Putting it all together:\n",
    "Now let's join all the valid annotation ids into one big dataframe and save it into a csv file. "
   ]
  },
  {
   "cell_type": "code",
   "execution_count": 18,
   "metadata": {
    "execution": {
     "iopub.execute_input": "2020-12-17T14:16:02.585594Z",
     "iopub.status.busy": "2020-12-17T14:16:02.585594Z",
     "iopub.status.idle": "2020-12-17T14:16:02.601219Z",
     "shell.execute_reply": "2020-12-17T14:16:02.601219Z"
    }
   },
   "outputs": [],
   "source": [
    "from pandas.core.common import flatten\n",
    "import numpy as np"
   ]
  },
  {
   "cell_type": "code",
   "execution_count": 19,
   "metadata": {
    "execution": {
     "iopub.execute_input": "2020-12-17T14:16:02.601219Z",
     "iopub.status.busy": "2020-12-17T14:16:02.601219Z",
     "iopub.status.idle": "2020-12-17T14:16:02.616841Z",
     "shell.execute_reply": "2020-12-17T14:16:02.616841Z"
    }
   },
   "outputs": [],
   "source": [
    "all_valid_files = list(flatten( [entries for key, entries in valid_files.items()]))\n",
    "\n",
    "ids, counts = np.unique(all_valid_files, return_counts=True)\n",
    "if np.max(counts)>1:\n",
    "    raise ValueError('There are repeated ids')"
   ]
  },
  {
   "cell_type": "markdown",
   "metadata": {},
   "source": [
    "### Now having, put together all the valid audio annotations with our target species, let's proceed to save these annotation ids into a csv file. "
   ]
  },
  {
   "cell_type": "code",
   "execution_count": 20,
   "metadata": {
    "execution": {
     "iopub.execute_input": "2020-12-17T14:16:02.616841Z",
     "iopub.status.busy": "2020-12-17T14:16:02.616841Z",
     "iopub.status.idle": "2020-12-17T14:16:03.171877Z",
     "shell.execute_reply": "2020-12-17T14:16:03.171877Z"
    }
   },
   "outputs": [],
   "source": [
    "valid_annotations = pd.DataFrame(data={'valid_annotations': all_valid_files})\n",
    "valid_annotations.to_csv('valid_annotations_rough.csv')"
   ]
  },
  {
   "cell_type": "markdown",
   "metadata": {},
   "source": [
    "## It's not over! The valid annotations still need to be checked for their correctness\n"
   ]
  },
  {
   "cell_type": "markdown",
   "metadata": {
    "scrolled": true
   },
   "source": [
    "### not running this right now because it freezes up the computer when run from the notebook instead of being run as a separate command from the command line. \n",
    "\n",
    "%run -i checking_valid_annotation_audio.py    # generates output in the 'checking_valid_annot_audio' folder with \n",
    "# images of spectrograms and waveforms for each annotation audio file. "
   ]
  },
  {
   "cell_type": "markdown",
   "metadata": {},
   "source": [
    "Because there are so many annotations that were done manually errors do creep in, the final matched audio still need to be checked again for duplicates. Some times even when the audio was apparently matched well, there were no calls in the audio. The spectrogram and waveforms of all audio in the 'valid annotations' file were checked again once more and there are some more audio files that need to be removed for various reasons described below."
   ]
  },
  {
   "cell_type": "markdown",
   "metadata": {},
   "source": [
    "#### List of files which were weird"
   ]
  },
  {
   "cell_type": "code",
   "execution_count": 21,
   "metadata": {
    "execution": {
     "iopub.execute_input": "2020-12-17T14:16:03.171877Z",
     "iopub.status.busy": "2020-12-17T14:16:03.171877Z",
     "iopub.status.idle": "2020-12-17T14:16:03.187502Z",
     "shell.execute_reply": "2020-12-17T14:16:03.187502Z"
    }
   },
   "outputs": [],
   "source": [
    "def add_date_prefix(X, annotnums):\n",
    "    return [X+str(each) for each in annotnums]\n",
    "\n",
    "toremove_20180816_21502300 = add_date_prefix('2018-08-16-21502300', [51,52,66,101,102])\n",
    "toremove_20180816_2324 = add_date_prefix('2018-08-16_23234_', [5, 8, 14,49, 52, 59, 69, 80, 84, 86, 88, 92,117,143, 169,179,193,211,280])\n",
    "toremove_20180817_01 = add_date_prefix('2018-08-17_01_',[11,72])\n",
    "toremove_20180817_12 = add_date_prefix('2018-08-17_01_',[15, 98])\n",
    "toremove_20180817_23 = add_date_prefix('2018-08-17_23_',[24,])\n",
    "toremove_20180817_45 = add_date_prefix('2018-08-17_45_',[129,244,318,340,341])\n",
    "toremove_20180817_56 = add_date_prefix('2018-08-17_56_',[2,26,33,59,81,108,175,191,])\n",
    "toremove_20180819_01200200 = add_date_prefix('2018-08-19_0120-0200_',[107,])\n",
    "toremove_20180820_02000300 = add_date_prefix('2018-08-20_0200-0300_',[50,])\n",
    "toremove_20180820_03000400 = add_date_prefix('2018-08-20_0300-0400_',[70,79])\n",
    "\n",
    "# When I encounter duplicates, I arbitrarily decided to choose the one with the smaller \n",
    "# annotation number\n",
    "duplicates = ['2018-08-16_23234_207','2018-08-16_23234_211',\n",
    "    '2018-08-16_23234_216',\n",
    "    '2018-08-16-21502300_36',\n",
    "    '2018-08-17_01_15',\n",
    "    '2018-08-17_12_28',\n",
    "    '2018-08-17_34_64',\n",
    "    '2018-08-17_34_124',\n",
    "    '2018-08-17_34_132',\n",
    "    '2018-08-17_34_136'\n",
    "    '2018-08-16_2324_207',\n",
    "     '2018-08-16_2324_211',\n",
    "      '2018-08-16_2324_216',\n",
    "  ]\n",
    "\n",
    "all_annots_to_remove = []\n",
    "for each in [toremove_20180816_21502300, toremove_20180816_2324, toremove_20180817_01, toremove_20180817_12, toremove_20180817_23, toremove_20180817_45,toremove_20180817_56,toremove_20180819_01200200,toremove_20180820_02000300,toremove_20180820_03000400]:\n",
    "    all_annots_to_remove += each"
   ]
  },
  {
   "cell_type": "code",
   "execution_count": 22,
   "metadata": {
    "execution": {
     "iopub.execute_input": "2020-12-17T14:16:03.187502Z",
     "iopub.status.busy": "2020-12-17T14:16:03.187502Z",
     "iopub.status.idle": "2020-12-17T14:16:03.203128Z",
     "shell.execute_reply": "2020-12-17T14:16:03.203128Z"
    }
   },
   "outputs": [],
   "source": [
    "\n",
    "to_remove = ['matching_annotaudio_Aditya_' + each for each in all_annots_to_remove]\n",
    "\n"
   ]
  },
  {
   "cell_type": "code",
   "execution_count": 23,
   "metadata": {
    "execution": {
     "iopub.execute_input": "2020-12-17T14:16:03.203128Z",
     "iopub.status.busy": "2020-12-17T14:16:03.203128Z",
     "iopub.status.idle": "2020-12-17T14:16:03.218749Z",
     "shell.execute_reply": "2020-12-17T14:16:03.218749Z"
    }
   },
   "outputs": [
    {
     "data": {
      "text/plain": [
       "(435, 1)"
      ]
     },
     "execution_count": 1,
     "metadata": {},
     "output_type": "execute_result"
    }
   ],
   "source": [
    "valid_annotations.shape"
   ]
  },
  {
   "cell_type": "code",
   "execution_count": 24,
   "metadata": {
    "execution": {
     "iopub.execute_input": "2020-12-17T14:16:03.218749Z",
     "iopub.status.busy": "2020-12-17T14:16:03.218749Z",
     "iopub.status.idle": "2020-12-17T14:16:03.234371Z",
     "shell.execute_reply": "2020-12-17T14:16:03.234371Z"
    }
   },
   "outputs": [],
   "source": [
    "good_annotations = valid_annotations[~valid_annotations['valid_annotations'].isin(to_remove)]"
   ]
  },
  {
   "cell_type": "code",
   "execution_count": 25,
   "metadata": {
    "execution": {
     "iopub.execute_input": "2020-12-17T14:16:03.234371Z",
     "iopub.status.busy": "2020-12-17T14:16:03.234371Z",
     "iopub.status.idle": "2020-12-17T14:16:03.249998Z",
     "shell.execute_reply": "2020-12-17T14:16:03.249998Z"
    }
   },
   "outputs": [
    {
     "data": {
      "text/plain": [
       "(414, 1)"
      ]
     },
     "execution_count": 1,
     "metadata": {},
     "output_type": "execute_result"
    }
   ],
   "source": [
    "good_annotations.shape"
   ]
  },
  {
   "cell_type": "code",
   "execution_count": 26,
   "metadata": {
    "execution": {
     "iopub.execute_input": "2020-12-17T14:16:03.256509Z",
     "iopub.status.busy": "2020-12-17T14:16:03.256509Z",
     "iopub.status.idle": "2020-12-17T14:16:03.272139Z",
     "shell.execute_reply": "2020-12-17T14:16:03.272139Z"
    }
   },
   "outputs": [
    {
     "data": {
      "text/plain": [
       "20"
      ]
     },
     "execution_count": 1,
     "metadata": {},
     "output_type": "execute_result"
    }
   ],
   "source": [
    "len('matching_annotaudio_')"
   ]
  },
  {
   "cell_type": "code",
   "execution_count": 27,
   "metadata": {
    "execution": {
     "iopub.execute_input": "2020-12-17T14:16:03.272139Z",
     "iopub.status.busy": "2020-12-17T14:16:03.272139Z",
     "iopub.status.idle": "2020-12-17T14:16:03.287766Z",
     "shell.execute_reply": "2020-12-17T14:16:03.287766Z"
    }
   },
   "outputs": [
    {
     "name": "stderr",
     "output_type": "stream",
     "text": [
      "C:\\Users\\tbeleyur\\anaconda3\\envs\\mhbc\\lib\\site-packages\\ipykernel_launcher.py:1: SettingWithCopyWarning: \n",
      "A value is trying to be set on a copy of a slice from a DataFrame.\n",
      "Try using .loc[row_indexer,col_indexer] = value instead\n",
      "\n",
      "See the caveats in the documentation: https://pandas.pydata.org/pandas-docs/stable/user_guide/indexing.html#returning-a-view-versus-a-copy\n",
      "  \"\"\"Entry point for launching an IPython kernel.\n"
     ]
    }
   ],
   "source": [
    "good_annotations['video_annot_id'] = good_annotations['valid_annotations'].apply(lambda X: X[20:], 0)"
   ]
  },
  {
   "cell_type": "code",
   "execution_count": 28,
   "metadata": {
    "execution": {
     "iopub.execute_input": "2020-12-17T14:16:03.287766Z",
     "iopub.status.busy": "2020-12-17T14:16:03.287766Z",
     "iopub.status.idle": "2020-12-17T14:16:04.121088Z",
     "shell.execute_reply": "2020-12-17T14:16:04.121088Z"
    }
   },
   "outputs": [
    {
     "name": "stderr",
     "output_type": "stream",
     "text": [
      "C:\\Users\\tbeleyur\\anaconda3\\envs\\mhbc\\lib\\site-packages\\ipykernel_launcher.py:5: SettingWithCopyWarning: \n",
      "A value is trying to be set on a copy of a slice from a DataFrame.\n",
      "Try using .loc[row_indexer,col_indexer] = value instead\n",
      "\n",
      "See the caveats in the documentation: https://pandas.pydata.org/pandas-docs/stable/user_guide/indexing.html#returning-a-view-versus-a-copy\n",
      "  \"\"\"\n"
     ]
    }
   ],
   "source": [
    "# associate the number of bats to the annotation id - this will help in the virtual audio generation. \n",
    "\n",
    "# match the annotation id to the number of bats \n",
    "video_annot_folder = '../whole_data_analysis/annotations/corrected_HBC_video_annotations_Aditya/'\n",
    "good_annotations['num_bats'] = icf.get_numbats_from_annotation_id(good_annotations['video_annot_id'], video_annot_folder)\n",
    "\n"
   ]
  },
  {
   "cell_type": "code",
   "execution_count": 29,
   "metadata": {
    "execution": {
     "iopub.execute_input": "2020-12-17T14:16:04.121088Z",
     "iopub.status.busy": "2020-12-17T14:16:04.121088Z",
     "iopub.status.idle": "2020-12-17T14:16:04.152335Z",
     "shell.execute_reply": "2020-12-17T14:16:04.152335Z"
    }
   },
   "outputs": [],
   "source": [
    "good_annotations.to_csv('verified_annotations.csv')"
   ]
  },
  {
   "cell_type": "markdown",
   "metadata": {},
   "source": [
    "### References\n",
    "\n",
    "1. #### Dietz, C., & Kiefer, A. (2016). Bats of Britain and Europe. Bloomsbury Publishing."
   ]
  },
  {
   "cell_type": "code",
   "execution_count": 30,
   "metadata": {
    "execution": {
     "iopub.execute_input": "2020-12-17T14:16:04.158843Z",
     "iopub.status.busy": "2020-12-17T14:16:04.158843Z",
     "iopub.status.idle": "2020-12-17T14:16:04.174474Z",
     "shell.execute_reply": "2020-12-17T14:16:04.174474Z"
    }
   },
   "outputs": [
    {
     "name": "stdout",
     "output_type": "stream",
     "text": [
      "Notebook run ended at: 2020-12-17 15:16:04.158843\n"
     ]
    }
   ],
   "source": [
    "print(f'Notebook run ended at: {dt.datetime.now()}')"
   ]
  }
 ],
 "metadata": {
  "kernelspec": {
   "display_name": "Python [conda env:mhbc] *",
   "language": "python",
   "name": "conda-env-mhbc-py"
  },
  "language_info": {
   "codemirror_mode": {
    "name": "ipython",
    "version": 3
   },
   "file_extension": ".py",
   "mimetype": "text/x-python",
   "name": "python",
   "nbconvert_exporter": "python",
   "pygments_lexer": "ipython3",
   "version": "3.7.0"
  }
 },
 "nbformat": 4,
 "nbformat_minor": 4
}
