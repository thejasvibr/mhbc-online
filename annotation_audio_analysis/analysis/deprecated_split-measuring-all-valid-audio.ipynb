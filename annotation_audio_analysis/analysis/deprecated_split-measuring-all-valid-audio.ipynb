{
 "cells": [
  {
   "cell_type": "markdown",
   "metadata": {},
   "source": [
    "### What this notebook will do\n",
    "This notebook will deal with the generation of measurements on the annotation audio. Each annotation audio file will be split into smaller segments of 50ms length. 50ms is chosen as it is the same temporal scale as the longest calls. The idea is that if possible, one segment should contain at least one call. \n",
    "\n",
    "The 'valid_annotations' have been chosen in the 'choosing valid annotations...' Jupyter notebook. 'valid annotations' are those with only the target species, where there was detectable audio when a bat was flying, and those that have been double checked to be correctly annotated. See the notebook for more details. \n",
    "\n",
    "In this notebook, the audio corresponding to all the 'valid_annotations' will be  split-measured to generate the raw data for all further statistical analysis that will follow to compare single vs. multi bat call sequences. \n",
    "\n",
    "\n",
    "- Author: Thejasvi Beleyur\n",
    "- Date of initiation: 2020-07-11"
   ]
  },
  {
   "cell_type": "code",
   "execution_count": 1,
   "metadata": {},
   "outputs": [],
   "source": [
    "import datetime as dt\n",
    "import sys \n",
    "sys.path.append('/home/tbeleyur/Documents/packages_dev/correct_call_annotations/')\n",
    "sys.path.append('../')\n",
    "sys.path.append('../../individual_call_analysis/analysis/')\n",
    "\n",
    "import correct_call_annotations.correct_call_annotations as cca\n",
    "import format_and_clean\n",
    "from format_and_clean import ind_call_format as icf\n",
    "import measure_annot_audio\n",
    "\n",
    "from measure_annot_audio import split_measure\n",
    "from measure_annot_audio.inbuilt_measurement_functions import dB\n",
    "import os\n",
    "import matplotlib.pyplot as plt\n",
    "import numpy as np\n",
    "import pandas as pd\n",
    "import soundfile as sf\n",
    "import tqdm"
   ]
  },
  {
   "cell_type": "code",
   "execution_count": 2,
   "metadata": {},
   "outputs": [],
   "source": [
    "%matplotlib notebook"
   ]
  },
  {
   "cell_type": "code",
   "execution_count": 3,
   "metadata": {},
   "outputs": [
    {
     "name": "stdout",
     "output_type": "stream",
     "text": [
      "Notebook started at: 2020-11-17 17:20:02.243088\n"
     ]
    }
   ],
   "source": [
    "print(f'Notebook started at: {dt.datetime.now()}')"
   ]
  },
  {
   "cell_type": "code",
   "execution_count": 4,
   "metadata": {},
   "outputs": [
    {
     "data": {
      "text/html": [
       "<div>\n",
       "<style scoped>\n",
       "    .dataframe tbody tr th:only-of-type {\n",
       "        vertical-align: middle;\n",
       "    }\n",
       "\n",
       "    .dataframe tbody tr th {\n",
       "        vertical-align: top;\n",
       "    }\n",
       "\n",
       "    .dataframe thead th {\n",
       "        text-align: right;\n",
       "    }\n",
       "</style>\n",
       "<table border=\"1\" class=\"dataframe\">\n",
       "  <thead>\n",
       "    <tr style=\"text-align: right;\">\n",
       "      <th></th>\n",
       "      <th>Unnamed: 0</th>\n",
       "      <th>valid_annotations</th>\n",
       "    </tr>\n",
       "  </thead>\n",
       "  <tbody>\n",
       "    <tr>\n",
       "      <th>0</th>\n",
       "      <td>0</td>\n",
       "      <td>matching_annotaudio_Aditya_2018-08-16_21502300_9</td>\n",
       "    </tr>\n",
       "    <tr>\n",
       "      <th>1</th>\n",
       "      <td>1</td>\n",
       "      <td>matching_annotaudio_Aditya_2018-08-16_21502300_12</td>\n",
       "    </tr>\n",
       "    <tr>\n",
       "      <th>2</th>\n",
       "      <td>2</td>\n",
       "      <td>matching_annotaudio_Aditya_2018-08-16_21502300_18</td>\n",
       "    </tr>\n",
       "    <tr>\n",
       "      <th>3</th>\n",
       "      <td>3</td>\n",
       "      <td>matching_annotaudio_Aditya_2018-08-16_21502300_19</td>\n",
       "    </tr>\n",
       "    <tr>\n",
       "      <th>4</th>\n",
       "      <td>4</td>\n",
       "      <td>matching_annotaudio_Aditya_2018-08-16_21502300_20</td>\n",
       "    </tr>\n",
       "    <tr>\n",
       "      <th>...</th>\n",
       "      <td>...</td>\n",
       "      <td>...</td>\n",
       "    </tr>\n",
       "    <tr>\n",
       "      <th>612</th>\n",
       "      <td>624</td>\n",
       "      <td>matching_annotaudio_Aditya_2018-08-20_0300-040...</td>\n",
       "    </tr>\n",
       "    <tr>\n",
       "      <th>613</th>\n",
       "      <td>625</td>\n",
       "      <td>matching_annotaudio_Aditya_2018-08-20_0300-040...</td>\n",
       "    </tr>\n",
       "    <tr>\n",
       "      <th>614</th>\n",
       "      <td>626</td>\n",
       "      <td>matching_annotaudio_Aditya_2018-08-20_0300-040...</td>\n",
       "    </tr>\n",
       "    <tr>\n",
       "      <th>615</th>\n",
       "      <td>627</td>\n",
       "      <td>matching_annotaudio_Aditya_2018-08-20_0300-040...</td>\n",
       "    </tr>\n",
       "    <tr>\n",
       "      <th>616</th>\n",
       "      <td>628</td>\n",
       "      <td>matching_annotaudio_Aditya_2018-08-20_0300-040...</td>\n",
       "    </tr>\n",
       "  </tbody>\n",
       "</table>\n",
       "<p>617 rows × 2 columns</p>\n",
       "</div>"
      ],
      "text/plain": [
       "     Unnamed: 0                                  valid_annotations\n",
       "0             0   matching_annotaudio_Aditya_2018-08-16_21502300_9\n",
       "1             1  matching_annotaudio_Aditya_2018-08-16_21502300_12\n",
       "2             2  matching_annotaudio_Aditya_2018-08-16_21502300_18\n",
       "3             3  matching_annotaudio_Aditya_2018-08-16_21502300_19\n",
       "4             4  matching_annotaudio_Aditya_2018-08-16_21502300_20\n",
       "..          ...                                                ...\n",
       "612         624  matching_annotaudio_Aditya_2018-08-20_0300-040...\n",
       "613         625  matching_annotaudio_Aditya_2018-08-20_0300-040...\n",
       "614         626  matching_annotaudio_Aditya_2018-08-20_0300-040...\n",
       "615         627  matching_annotaudio_Aditya_2018-08-20_0300-040...\n",
       "616         628  matching_annotaudio_Aditya_2018-08-20_0300-040...\n",
       "\n",
       "[617 rows x 2 columns]"
      ]
     },
     "execution_count": 4,
     "metadata": {},
     "output_type": "execute_result"
    }
   ],
   "source": [
    "verif_annots = pd.read_csv('../verified_annotations.csv').reset_index(drop=True) # manually re-checked set of audio files.\n",
    "# See ../choosing valid annotation audio files.ipynb\n",
    "\n",
    "verif_annots"
   ]
  },
  {
   "cell_type": "code",
   "execution_count": 5,
   "metadata": {},
   "outputs": [],
   "source": [
    "all_measures = []"
   ]
  },
  {
   "cell_type": "code",
   "execution_count": 6,
   "metadata": {},
   "outputs": [],
   "source": [
    "fs = 250000\n",
    "kwargs = { 'inter_peak_difference':250, \n",
    "           'spectrum_smoothing_width': 100,\n",
    "           'peak_range': 14,\n",
    "           'fs':fs,\n",
    "           'db_range':46,\n",
    "           'overlap':0.5,\n",
    "           'threshold':95,\n",
    "           'nperseg':512,\n",
    "           'fm_freqs_condition' : lambda X : X<98000,\n",
    "           'non_signal_freqs_condition' : lambda X: X<70000\n",
    "          \n",
    "            }"
   ]
  },
  {
   "cell_type": "code",
   "execution_count": 7,
   "metadata": {
    "scrolled": true
   },
   "outputs": [
    {
     "name": "stderr",
     "output_type": "stream",
     "text": [
      "\r",
      "0it [00:00, ?it/s]"
     ]
    },
    {
     "name": "stdout",
     "output_type": "stream",
     "text": [
      "Match found!\n"
     ]
    },
    {
     "name": "stderr",
     "output_type": "stream",
     "text": [
      "\r",
      "1it [00:00,  5.04it/s]"
     ]
    },
    {
     "name": "stdout",
     "output_type": "stream",
     "text": [
      "Match found!\n"
     ]
    },
    {
     "name": "stderr",
     "output_type": "stream",
     "text": [
      "\r",
      "2it [00:00,  3.95it/s]"
     ]
    },
    {
     "name": "stdout",
     "output_type": "stream",
     "text": [
      "Match found!\n"
     ]
    },
    {
     "name": "stderr",
     "output_type": "stream",
     "text": [
      "\r",
      "3it [00:01,  3.04it/s]"
     ]
    },
    {
     "name": "stdout",
     "output_type": "stream",
     "text": [
      "Match found!\n"
     ]
    },
    {
     "name": "stderr",
     "output_type": "stream",
     "text": [
      "\r",
      "4it [00:01,  2.19it/s]"
     ]
    },
    {
     "name": "stdout",
     "output_type": "stream",
     "text": [
      "Match found!\n"
     ]
    },
    {
     "name": "stderr",
     "output_type": "stream",
     "text": [
      "\r",
      "5it [00:03,  1.40it/s]"
     ]
    },
    {
     "name": "stdout",
     "output_type": "stream",
     "text": [
      "Match found!\n"
     ]
    },
    {
     "name": "stderr",
     "output_type": "stream",
     "text": [
      "\r",
      "6it [00:04,  1.13it/s]"
     ]
    },
    {
     "name": "stdout",
     "output_type": "stream",
     "text": [
      "Match found!\n"
     ]
    },
    {
     "name": "stderr",
     "output_type": "stream",
     "text": [
      "\r",
      "7it [00:04,  1.39it/s]"
     ]
    },
    {
     "name": "stdout",
     "output_type": "stream",
     "text": [
      "Match found!\n"
     ]
    },
    {
     "name": "stderr",
     "output_type": "stream",
     "text": [
      "\r",
      "8it [00:05,  1.58it/s]"
     ]
    },
    {
     "name": "stdout",
     "output_type": "stream",
     "text": [
      "Match found!\n"
     ]
    },
    {
     "name": "stderr",
     "output_type": "stream",
     "text": [
      "\r",
      "9it [00:05,  1.75it/s]"
     ]
    },
    {
     "name": "stdout",
     "output_type": "stream",
     "text": [
      "Match found!\n"
     ]
    },
    {
     "name": "stderr",
     "output_type": "stream",
     "text": [
      "\r",
      "10it [00:07,  1.21it/s]"
     ]
    },
    {
     "name": "stdout",
     "output_type": "stream",
     "text": [
      "Match found!\n"
     ]
    },
    {
     "name": "stderr",
     "output_type": "stream",
     "text": [
      "\r",
      "11it [00:07,  1.46it/s]"
     ]
    },
    {
     "name": "stdout",
     "output_type": "stream",
     "text": [
      "Match found!\n"
     ]
    },
    {
     "name": "stderr",
     "output_type": "stream",
     "text": [
      "\r",
      "12it [00:08,  1.07it/s]"
     ]
    },
    {
     "name": "stdout",
     "output_type": "stream",
     "text": [
      "Match found!\n"
     ]
    },
    {
     "name": "stderr",
     "output_type": "stream",
     "text": [
      "\r",
      "13it [00:10,  1.01s/it]"
     ]
    },
    {
     "name": "stdout",
     "output_type": "stream",
     "text": [
      "Match found!\n"
     ]
    },
    {
     "name": "stderr",
     "output_type": "stream",
     "text": [
      "\r",
      "14it [00:11,  1.02it/s]"
     ]
    },
    {
     "name": "stdout",
     "output_type": "stream",
     "text": [
      "Match found!\n"
     ]
    },
    {
     "name": "stderr",
     "output_type": "stream",
     "text": [
      "\r",
      "15it [00:14,  1.58s/it]"
     ]
    },
    {
     "name": "stdout",
     "output_type": "stream",
     "text": [
      "Match found!\n"
     ]
    },
    {
     "name": "stderr",
     "output_type": "stream",
     "text": [
      "\r",
      "16it [00:15,  1.52s/it]"
     ]
    },
    {
     "name": "stdout",
     "output_type": "stream",
     "text": [
      "Match found!\n"
     ]
    },
    {
     "name": "stderr",
     "output_type": "stream",
     "text": [
      "\r",
      "17it [00:17,  1.60s/it]"
     ]
    },
    {
     "name": "stdout",
     "output_type": "stream",
     "text": [
      "Match found!\n"
     ]
    },
    {
     "name": "stderr",
     "output_type": "stream",
     "text": [
      "\r",
      "18it [00:17,  1.21s/it]"
     ]
    },
    {
     "name": "stdout",
     "output_type": "stream",
     "text": [
      "Match found!\n"
     ]
    },
    {
     "name": "stderr",
     "output_type": "stream",
     "text": [
      "\r",
      "19it [00:18,  1.03s/it]"
     ]
    },
    {
     "name": "stdout",
     "output_type": "stream",
     "text": [
      "Match found!\n"
     ]
    },
    {
     "name": "stderr",
     "output_type": "stream",
     "text": [
      "\r",
      "20it [00:18,  1.08it/s]"
     ]
    },
    {
     "name": "stdout",
     "output_type": "stream",
     "text": [
      "Match found!\n"
     ]
    },
    {
     "name": "stderr",
     "output_type": "stream",
     "text": [
      "\r",
      "21it [00:19,  1.06it/s]"
     ]
    },
    {
     "name": "stdout",
     "output_type": "stream",
     "text": [
      "Match found!\n"
     ]
    },
    {
     "name": "stderr",
     "output_type": "stream",
     "text": [
      "\r",
      "22it [00:20,  1.14it/s]"
     ]
    },
    {
     "name": "stdout",
     "output_type": "stream",
     "text": [
      "Match found!\n"
     ]
    },
    {
     "name": "stderr",
     "output_type": "stream",
     "text": [
      "\r",
      "23it [00:25,  2.03s/it]"
     ]
    },
    {
     "name": "stdout",
     "output_type": "stream",
     "text": [
      "Match found!\n"
     ]
    },
    {
     "name": "stderr",
     "output_type": "stream",
     "text": [
      "\r",
      "24it [00:25,  1.55s/it]"
     ]
    },
    {
     "name": "stdout",
     "output_type": "stream",
     "text": [
      "Match found!\n"
     ]
    },
    {
     "name": "stderr",
     "output_type": "stream",
     "text": [
      "\r",
      "25it [00:27,  1.64s/it]"
     ]
    },
    {
     "name": "stdout",
     "output_type": "stream",
     "text": [
      "Match found!\n"
     ]
    },
    {
     "name": "stderr",
     "output_type": "stream",
     "text": [
      "\r",
      "26it [00:28,  1.37s/it]"
     ]
    },
    {
     "name": "stdout",
     "output_type": "stream",
     "text": [
      "Match found!\n"
     ]
    },
    {
     "name": "stderr",
     "output_type": "stream",
     "text": [
      "\r",
      "27it [00:29,  1.45s/it]"
     ]
    },
    {
     "name": "stdout",
     "output_type": "stream",
     "text": [
      "Match found!\n"
     ]
    },
    {
     "name": "stderr",
     "output_type": "stream",
     "text": [
      "\r",
      "28it [00:30,  1.10s/it]"
     ]
    },
    {
     "name": "stdout",
     "output_type": "stream",
     "text": [
      "Match found!\n"
     ]
    },
    {
     "name": "stderr",
     "output_type": "stream",
     "text": [
      "\r",
      "29it [00:30,  1.02s/it]"
     ]
    },
    {
     "name": "stdout",
     "output_type": "stream",
     "text": [
      "Match found!\n"
     ]
    },
    {
     "name": "stderr",
     "output_type": "stream",
     "text": [
      "\r",
      "30it [00:31,  1.01s/it]"
     ]
    },
    {
     "name": "stdout",
     "output_type": "stream",
     "text": [
      "Match found!\n"
     ]
    },
    {
     "name": "stderr",
     "output_type": "stream",
     "text": [
      "\r",
      "31it [00:32,  1.01it/s]"
     ]
    },
    {
     "name": "stdout",
     "output_type": "stream",
     "text": [
      "Match found!\n"
     ]
    },
    {
     "name": "stderr",
     "output_type": "stream",
     "text": [
      "\r",
      "32it [00:35,  1.59s/it]"
     ]
    },
    {
     "name": "stdout",
     "output_type": "stream",
     "text": [
      "Match found!\n"
     ]
    },
    {
     "name": "stderr",
     "output_type": "stream",
     "text": [
      "\r",
      "33it [00:36,  1.19s/it]"
     ]
    },
    {
     "name": "stdout",
     "output_type": "stream",
     "text": [
      "Match found!\n"
     ]
    },
    {
     "name": "stderr",
     "output_type": "stream",
     "text": [
      "\r",
      "34it [00:37,  1.20s/it]"
     ]
    },
    {
     "name": "stdout",
     "output_type": "stream",
     "text": [
      "Match found!\n"
     ]
    },
    {
     "name": "stderr",
     "output_type": "stream",
     "text": [
      "\r",
      "35it [00:37,  1.04it/s]"
     ]
    },
    {
     "name": "stdout",
     "output_type": "stream",
     "text": [
      "Match found!\n"
     ]
    },
    {
     "name": "stderr",
     "output_type": "stream",
     "text": [
      "\r",
      "36it [00:38,  1.24it/s]"
     ]
    },
    {
     "name": "stdout",
     "output_type": "stream",
     "text": [
      "Match found!\n"
     ]
    },
    {
     "name": "stderr",
     "output_type": "stream",
     "text": [
      "38it [00:38,  1.88it/s]"
     ]
    },
    {
     "name": "stdout",
     "output_type": "stream",
     "text": [
      "Match found!\n",
      "Match found!\n"
     ]
    },
    {
     "name": "stderr",
     "output_type": "stream",
     "text": [
      "40it [00:39,  2.55it/s]"
     ]
    },
    {
     "name": "stdout",
     "output_type": "stream",
     "text": [
      "Match found!\n",
      "Match found!\n"
     ]
    },
    {
     "name": "stderr",
     "output_type": "stream",
     "text": [
      "\r",
      "41it [00:39,  2.71it/s]"
     ]
    },
    {
     "name": "stdout",
     "output_type": "stream",
     "text": [
      "Match found!\n"
     ]
    },
    {
     "name": "stderr",
     "output_type": "stream",
     "text": [
      "43it [00:40,  3.29it/s]"
     ]
    },
    {
     "name": "stdout",
     "output_type": "stream",
     "text": [
      "Match found!\n",
      "Match found!\n"
     ]
    },
    {
     "name": "stderr",
     "output_type": "stream",
     "text": [
      "\r",
      "44it [00:40,  3.20it/s]"
     ]
    },
    {
     "name": "stdout",
     "output_type": "stream",
     "text": [
      "Match found!\n"
     ]
    },
    {
     "name": "stderr",
     "output_type": "stream",
     "text": [
      "\r",
      "45it [00:41,  1.83it/s]"
     ]
    },
    {
     "name": "stdout",
     "output_type": "stream",
     "text": [
      "Match found!\n"
     ]
    },
    {
     "name": "stderr",
     "output_type": "stream",
     "text": [
      "\r",
      "46it [00:42,  1.71it/s]"
     ]
    },
    {
     "name": "stdout",
     "output_type": "stream",
     "text": [
      "Match found!\n"
     ]
    },
    {
     "name": "stderr",
     "output_type": "stream",
     "text": [
      "\r",
      "47it [00:42,  2.04it/s]"
     ]
    },
    {
     "name": "stdout",
     "output_type": "stream",
     "text": [
      "Match found!\n"
     ]
    },
    {
     "name": "stderr",
     "output_type": "stream",
     "text": [
      "49it [00:43,  2.59it/s]"
     ]
    },
    {
     "name": "stdout",
     "output_type": "stream",
     "text": [
      "Match found!\n",
      "Match found!\n"
     ]
    },
    {
     "name": "stderr",
     "output_type": "stream",
     "text": [
      "\r",
      "50it [00:43,  2.80it/s]"
     ]
    },
    {
     "name": "stdout",
     "output_type": "stream",
     "text": [
      "Match found!\n"
     ]
    },
    {
     "name": "stderr",
     "output_type": "stream",
     "text": [
      "52it [00:43,  3.63it/s]"
     ]
    },
    {
     "name": "stdout",
     "output_type": "stream",
     "text": [
      "Match found!\n",
      "Match found!\n"
     ]
    },
    {
     "name": "stderr",
     "output_type": "stream",
     "text": [
      "\r",
      "53it [00:44,  3.57it/s]"
     ]
    },
    {
     "name": "stdout",
     "output_type": "stream",
     "text": [
      "Match found!\n"
     ]
    },
    {
     "name": "stderr",
     "output_type": "stream",
     "text": [
      "\r",
      "54it [00:44,  2.72it/s]"
     ]
    },
    {
     "name": "stdout",
     "output_type": "stream",
     "text": [
      "Match found!\n"
     ]
    },
    {
     "name": "stderr",
     "output_type": "stream",
     "text": [
      "\r",
      "55it [00:45,  2.60it/s]"
     ]
    },
    {
     "name": "stdout",
     "output_type": "stream",
     "text": [
      "Match found!\n"
     ]
    },
    {
     "name": "stderr",
     "output_type": "stream",
     "text": [
      "\r",
      "56it [00:47,  1.01it/s]"
     ]
    },
    {
     "name": "stdout",
     "output_type": "stream",
     "text": [
      "Match found!\n"
     ]
    },
    {
     "name": "stderr",
     "output_type": "stream",
     "text": [
      "\r",
      "57it [00:48,  1.04s/it]"
     ]
    },
    {
     "name": "stdout",
     "output_type": "stream",
     "text": [
      "Match found!\n"
     ]
    },
    {
     "name": "stderr",
     "output_type": "stream",
     "text": [
      "\r",
      "58it [00:48,  1.24it/s]"
     ]
    },
    {
     "name": "stdout",
     "output_type": "stream",
     "text": [
      "Match found!\n"
     ]
    },
    {
     "name": "stderr",
     "output_type": "stream",
     "text": [
      "\r",
      "59it [00:49,  1.37it/s]"
     ]
    },
    {
     "name": "stdout",
     "output_type": "stream",
     "text": [
      "Match found!\n"
     ]
    },
    {
     "name": "stderr",
     "output_type": "stream",
     "text": [
      "61it [00:50,  2.06it/s]"
     ]
    },
    {
     "name": "stdout",
     "output_type": "stream",
     "text": [
      "Match found!\n",
      "Match found!\n"
     ]
    },
    {
     "name": "stderr",
     "output_type": "stream",
     "text": [
      "\r",
      "62it [00:50,  1.85it/s]"
     ]
    },
    {
     "name": "stdout",
     "output_type": "stream",
     "text": [
      "Match found!\n"
     ]
    },
    {
     "name": "stderr",
     "output_type": "stream",
     "text": [
      "\r",
      "63it [00:51,  1.92it/s]"
     ]
    },
    {
     "name": "stdout",
     "output_type": "stream",
     "text": [
      "Match found!\n"
     ]
    },
    {
     "name": "stderr",
     "output_type": "stream",
     "text": [
      "\r",
      "64it [00:52,  1.44it/s]"
     ]
    },
    {
     "name": "stdout",
     "output_type": "stream",
     "text": [
      "Match found!\n"
     ]
    },
    {
     "name": "stderr",
     "output_type": "stream",
     "text": [
      "\r",
      "65it [00:53,  1.20it/s]"
     ]
    },
    {
     "name": "stdout",
     "output_type": "stream",
     "text": [
      "Match found!\n"
     ]
    },
    {
     "name": "stderr",
     "output_type": "stream",
     "text": [
      "\r",
      "66it [00:54,  1.05it/s]"
     ]
    },
    {
     "name": "stdout",
     "output_type": "stream",
     "text": [
      "Match found!\n"
     ]
    },
    {
     "name": "stderr",
     "output_type": "stream",
     "text": [
      "\r",
      "67it [00:55,  1.26it/s]"
     ]
    },
    {
     "name": "stdout",
     "output_type": "stream",
     "text": [
      "Match found!\n"
     ]
    },
    {
     "name": "stderr",
     "output_type": "stream",
     "text": [
      "\r",
      "68it [00:55,  1.47it/s]"
     ]
    },
    {
     "name": "stdout",
     "output_type": "stream",
     "text": [
      "Match found!\n"
     ]
    },
    {
     "name": "stderr",
     "output_type": "stream",
     "text": [
      "\r",
      "69it [00:57,  1.14s/it]"
     ]
    },
    {
     "name": "stdout",
     "output_type": "stream",
     "text": [
      "Match found!\n"
     ]
    },
    {
     "name": "stderr",
     "output_type": "stream",
     "text": [
      "\r",
      "70it [00:58,  1.11it/s]"
     ]
    },
    {
     "name": "stdout",
     "output_type": "stream",
     "text": [
      "Match found!\n"
     ]
    },
    {
     "name": "stderr",
     "output_type": "stream",
     "text": [
      "\r",
      "71it [01:01,  1.70s/it]"
     ]
    },
    {
     "name": "stdout",
     "output_type": "stream",
     "text": [
      "Match found!\n"
     ]
    },
    {
     "name": "stderr",
     "output_type": "stream",
     "text": [
      "\r",
      "72it [01:02,  1.37s/it]"
     ]
    },
    {
     "name": "stdout",
     "output_type": "stream",
     "text": [
      "Match found!\n"
     ]
    },
    {
     "name": "stderr",
     "output_type": "stream",
     "text": [
      "\r",
      "73it [01:02,  1.03s/it]"
     ]
    },
    {
     "name": "stdout",
     "output_type": "stream",
     "text": [
      "Match found!\n"
     ]
    },
    {
     "name": "stderr",
     "output_type": "stream",
     "text": [
      "\r",
      "74it [01:02,  1.17it/s]"
     ]
    },
    {
     "name": "stdout",
     "output_type": "stream",
     "text": [
      "Match found!\n"
     ]
    },
    {
     "name": "stderr",
     "output_type": "stream",
     "text": [
      "\r",
      "75it [01:04,  1.05s/it]"
     ]
    },
    {
     "name": "stdout",
     "output_type": "stream",
     "text": [
      "Match found!\n"
     ]
    },
    {
     "name": "stderr",
     "output_type": "stream",
     "text": [
      "77it [01:06,  1.05it/s]"
     ]
    },
    {
     "name": "stdout",
     "output_type": "stream",
     "text": [
      "Match found!\n",
      "Match found!\n"
     ]
    },
    {
     "name": "stderr",
     "output_type": "stream",
     "text": [
      "\r",
      "78it [01:07,  1.21it/s]"
     ]
    },
    {
     "name": "stdout",
     "output_type": "stream",
     "text": [
      "Match found!\n"
     ]
    },
    {
     "name": "stderr",
     "output_type": "stream",
     "text": [
      "\r",
      "79it [01:08,  1.11it/s]"
     ]
    },
    {
     "name": "stdout",
     "output_type": "stream",
     "text": [
      "Match found!\n"
     ]
    },
    {
     "name": "stderr",
     "output_type": "stream",
     "text": [
      "\r",
      "80it [01:09,  1.04it/s]"
     ]
    },
    {
     "name": "stdout",
     "output_type": "stream",
     "text": [
      "Match found!\n"
     ]
    },
    {
     "name": "stderr",
     "output_type": "stream",
     "text": [
      "82it [01:09,  1.64it/s]"
     ]
    },
    {
     "name": "stdout",
     "output_type": "stream",
     "text": [
      "Match found!\n",
      "Match found!\n"
     ]
    },
    {
     "name": "stderr",
     "output_type": "stream",
     "text": [
      "\r",
      "83it [01:10,  1.60it/s]"
     ]
    },
    {
     "name": "stdout",
     "output_type": "stream",
     "text": [
      "Match found!\n"
     ]
    },
    {
     "name": "stderr",
     "output_type": "stream",
     "text": [
      "\r",
      "84it [01:10,  1.66it/s]"
     ]
    },
    {
     "name": "stdout",
     "output_type": "stream",
     "text": [
      "Match found!\n"
     ]
    },
    {
     "name": "stderr",
     "output_type": "stream",
     "text": [
      "\r",
      "85it [01:11,  1.99it/s]"
     ]
    },
    {
     "name": "stdout",
     "output_type": "stream",
     "text": [
      "Match found!\n"
     ]
    },
    {
     "name": "stderr",
     "output_type": "stream",
     "text": [
      "\r",
      "86it [01:12,  1.33it/s]"
     ]
    },
    {
     "name": "stdout",
     "output_type": "stream",
     "text": [
      "Match found!\n"
     ]
    },
    {
     "name": "stderr",
     "output_type": "stream",
     "text": [
      "\r",
      "87it [01:12,  1.57it/s]"
     ]
    },
    {
     "name": "stdout",
     "output_type": "stream",
     "text": [
      "Match found!\n"
     ]
    },
    {
     "name": "stderr",
     "output_type": "stream",
     "text": [
      "\r",
      "88it [01:13,  1.42it/s]"
     ]
    },
    {
     "name": "stdout",
     "output_type": "stream",
     "text": [
      "Match found!\n"
     ]
    },
    {
     "name": "stderr",
     "output_type": "stream",
     "text": [
      "\r",
      "89it [01:14,  1.58it/s]"
     ]
    },
    {
     "name": "stdout",
     "output_type": "stream",
     "text": [
      "Match found!\n",
      "Match found!\n"
     ]
    },
    {
     "name": "stderr",
     "output_type": "stream",
     "text": [
      "\r",
      "91it [01:14,  1.97it/s]"
     ]
    },
    {
     "name": "stdout",
     "output_type": "stream",
     "text": [
      "Match found!\n"
     ]
    },
    {
     "name": "stderr",
     "output_type": "stream",
     "text": [
      "\r",
      "92it [01:14,  2.27it/s]"
     ]
    },
    {
     "name": "stdout",
     "output_type": "stream",
     "text": [
      "Match found!\n"
     ]
    },
    {
     "name": "stderr",
     "output_type": "stream",
     "text": [
      "\r",
      "93it [01:15,  2.57it/s]"
     ]
    },
    {
     "name": "stdout",
     "output_type": "stream",
     "text": [
      "Match found!\n"
     ]
    },
    {
     "name": "stderr",
     "output_type": "stream",
     "text": [
      "95it [01:16,  2.43it/s]"
     ]
    },
    {
     "name": "stdout",
     "output_type": "stream",
     "text": [
      "Match found!\n",
      "Match found!\n"
     ]
    },
    {
     "name": "stderr",
     "output_type": "stream",
     "text": [
      "\r",
      "96it [01:16,  3.02it/s]"
     ]
    },
    {
     "name": "stdout",
     "output_type": "stream",
     "text": [
      "Match found!\n"
     ]
    },
    {
     "name": "stderr",
     "output_type": "stream",
     "text": [
      "\r",
      "97it [01:16,  2.75it/s]"
     ]
    },
    {
     "name": "stdout",
     "output_type": "stream",
     "text": [
      "Match found!\n"
     ]
    },
    {
     "name": "stderr",
     "output_type": "stream",
     "text": [
      "\r",
      "98it [01:17,  3.00it/s]"
     ]
    },
    {
     "name": "stdout",
     "output_type": "stream",
     "text": [
      "Match found!\n"
     ]
    },
    {
     "name": "stderr",
     "output_type": "stream",
     "text": [
      "\r",
      "99it [01:17,  2.92it/s]"
     ]
    },
    {
     "name": "stdout",
     "output_type": "stream",
     "text": [
      "Match found!\n"
     ]
    },
    {
     "name": "stderr",
     "output_type": "stream",
     "text": [
      "\r",
      "100it [01:18,  2.47it/s]"
     ]
    },
    {
     "name": "stdout",
     "output_type": "stream",
     "text": [
      "Match found!\n"
     ]
    },
    {
     "name": "stderr",
     "output_type": "stream",
     "text": [
      "\r",
      "101it [01:18,  2.57it/s]"
     ]
    },
    {
     "name": "stdout",
     "output_type": "stream",
     "text": [
      "Match found!\n"
     ]
    },
    {
     "name": "stderr",
     "output_type": "stream",
     "text": [
      "103it [01:18,  3.32it/s]"
     ]
    },
    {
     "name": "stdout",
     "output_type": "stream",
     "text": [
      "Match found!\n",
      "Match found!\n"
     ]
    },
    {
     "name": "stderr",
     "output_type": "stream",
     "text": [
      "\r",
      "104it [01:19,  3.42it/s]"
     ]
    },
    {
     "name": "stdout",
     "output_type": "stream",
     "text": [
      "Match found!\n"
     ]
    },
    {
     "name": "stderr",
     "output_type": "stream",
     "text": [
      "\r",
      "105it [01:19,  2.93it/s]"
     ]
    },
    {
     "name": "stdout",
     "output_type": "stream",
     "text": [
      "Match found!\n"
     ]
    },
    {
     "name": "stderr",
     "output_type": "stream",
     "text": [
      "\r",
      "106it [01:19,  2.71it/s]"
     ]
    },
    {
     "name": "stdout",
     "output_type": "stream",
     "text": [
      "Match found!\n"
     ]
    },
    {
     "name": "stderr",
     "output_type": "stream",
     "text": [
      "108it [01:22,  1.51it/s]"
     ]
    },
    {
     "name": "stdout",
     "output_type": "stream",
     "text": [
      "Match found!\n",
      "Match found!\n"
     ]
    },
    {
     "name": "stderr",
     "output_type": "stream",
     "text": [
      "\r",
      "109it [01:23,  1.35it/s]"
     ]
    },
    {
     "name": "stdout",
     "output_type": "stream",
     "text": [
      "Match found!\n"
     ]
    },
    {
     "name": "stderr",
     "output_type": "stream",
     "text": [
      "111it [01:23,  2.23it/s]"
     ]
    },
    {
     "name": "stdout",
     "output_type": "stream",
     "text": [
      "Match found!\n",
      "Match found!\n"
     ]
    },
    {
     "name": "stderr",
     "output_type": "stream",
     "text": [
      "\r",
      "112it [01:25,  1.18it/s]"
     ]
    },
    {
     "name": "stdout",
     "output_type": "stream",
     "text": [
      "Match found!\n"
     ]
    },
    {
     "name": "stderr",
     "output_type": "stream",
     "text": [
      "\r",
      "113it [01:27,  1.31s/it]"
     ]
    },
    {
     "name": "stdout",
     "output_type": "stream",
     "text": [
      "Match found!\n"
     ]
    },
    {
     "name": "stderr",
     "output_type": "stream",
     "text": [
      "\r",
      "114it [01:28,  1.07s/it]"
     ]
    },
    {
     "name": "stdout",
     "output_type": "stream",
     "text": [
      "Match found!\n",
      "Match found!\n"
     ]
    },
    {
     "name": "stderr",
     "output_type": "stream",
     "text": [
      "\r",
      "116it [01:28,  1.27it/s]"
     ]
    },
    {
     "name": "stdout",
     "output_type": "stream",
     "text": [
      "Match found!\n"
     ]
    },
    {
     "name": "stderr",
     "output_type": "stream",
     "text": [
      "\r",
      "117it [01:29,  1.36it/s]"
     ]
    },
    {
     "name": "stdout",
     "output_type": "stream",
     "text": [
      "Match found!\n"
     ]
    },
    {
     "name": "stderr",
     "output_type": "stream",
     "text": [
      "\r",
      "118it [01:29,  1.46it/s]"
     ]
    },
    {
     "name": "stdout",
     "output_type": "stream",
     "text": [
      "Match found!\n"
     ]
    },
    {
     "name": "stderr",
     "output_type": "stream",
     "text": [
      "\r",
      "119it [01:30,  1.46it/s]"
     ]
    },
    {
     "name": "stdout",
     "output_type": "stream",
     "text": [
      "Match found!\n",
      "Match found!\n"
     ]
    },
    {
     "name": "stderr",
     "output_type": "stream",
     "text": [
      "\r",
      "121it [01:30,  1.90it/s]"
     ]
    },
    {
     "name": "stdout",
     "output_type": "stream",
     "text": [
      "Match found!\n"
     ]
    },
    {
     "name": "stderr",
     "output_type": "stream",
     "text": [
      "\r",
      "122it [01:30,  2.16it/s]"
     ]
    },
    {
     "name": "stdout",
     "output_type": "stream",
     "text": [
      "Match found!\n"
     ]
    },
    {
     "name": "stderr",
     "output_type": "stream",
     "text": [
      "\r",
      "123it [01:31,  2.24it/s]"
     ]
    },
    {
     "name": "stdout",
     "output_type": "stream",
     "text": [
      "Match found!\n"
     ]
    },
    {
     "name": "stderr",
     "output_type": "stream",
     "text": [
      "\r",
      "124it [01:31,  2.15it/s]"
     ]
    },
    {
     "name": "stdout",
     "output_type": "stream",
     "text": [
      "Match found!\n"
     ]
    },
    {
     "name": "stderr",
     "output_type": "stream",
     "text": [
      "\r",
      "125it [01:32,  1.84it/s]"
     ]
    },
    {
     "name": "stdout",
     "output_type": "stream",
     "text": [
      "Match found!\n"
     ]
    },
    {
     "name": "stderr",
     "output_type": "stream",
     "text": [
      "\r",
      "126it [01:33,  1.93it/s]"
     ]
    },
    {
     "name": "stdout",
     "output_type": "stream",
     "text": [
      "Match found!\n"
     ]
    },
    {
     "name": "stderr",
     "output_type": "stream",
     "text": [
      "\r",
      "127it [01:33,  1.93it/s]"
     ]
    },
    {
     "name": "stdout",
     "output_type": "stream",
     "text": [
      "Match found!\n"
     ]
    },
    {
     "name": "stderr",
     "output_type": "stream",
     "text": [
      "129it [01:34,  2.47it/s]"
     ]
    },
    {
     "name": "stdout",
     "output_type": "stream",
     "text": [
      "Match found!\n",
      "Match found!\n",
      "Match found!\n"
     ]
    },
    {
     "name": "stderr",
     "output_type": "stream",
     "text": [
      "\r",
      "131it [01:35,  2.33it/s]"
     ]
    },
    {
     "name": "stdout",
     "output_type": "stream",
     "text": [
      "Match found!\n"
     ]
    },
    {
     "name": "stderr",
     "output_type": "stream",
     "text": [
      "\r",
      "132it [01:35,  2.62it/s]"
     ]
    },
    {
     "name": "stdout",
     "output_type": "stream",
     "text": [
      "Match found!\n"
     ]
    },
    {
     "name": "stderr",
     "output_type": "stream",
     "text": [
      "134it [01:35,  3.15it/s]"
     ]
    },
    {
     "name": "stdout",
     "output_type": "stream",
     "text": [
      "Match found!\n",
      "Match found!\n"
     ]
    },
    {
     "name": "stderr",
     "output_type": "stream",
     "text": [
      "136it [01:36,  2.86it/s]"
     ]
    },
    {
     "name": "stdout",
     "output_type": "stream",
     "text": [
      "Match found!\n",
      "Match found!\n"
     ]
    },
    {
     "name": "stderr",
     "output_type": "stream",
     "text": [
      "\r",
      "137it [01:36,  3.64it/s]"
     ]
    },
    {
     "name": "stdout",
     "output_type": "stream",
     "text": [
      "Match found!\n"
     ]
    },
    {
     "name": "stderr",
     "output_type": "stream",
     "text": [
      "\r",
      "138it [01:37,  3.44it/s]"
     ]
    },
    {
     "name": "stdout",
     "output_type": "stream",
     "text": [
      "Match found!\n"
     ]
    },
    {
     "name": "stderr",
     "output_type": "stream",
     "text": [
      "140it [01:37,  3.45it/s]"
     ]
    },
    {
     "name": "stdout",
     "output_type": "stream",
     "text": [
      "Match found!\n",
      "Match found!\n"
     ]
    },
    {
     "name": "stderr",
     "output_type": "stream",
     "text": [
      "\r",
      "141it [01:39,  1.72it/s]"
     ]
    },
    {
     "name": "stdout",
     "output_type": "stream",
     "text": [
      "Match found!\n"
     ]
    },
    {
     "name": "stderr",
     "output_type": "stream",
     "text": [
      "143it [01:40,  1.80it/s]"
     ]
    },
    {
     "name": "stdout",
     "output_type": "stream",
     "text": [
      "Match found!\n",
      "Match found!\n"
     ]
    },
    {
     "name": "stderr",
     "output_type": "stream",
     "text": [
      "\r",
      "144it [01:44,  1.74s/it]"
     ]
    },
    {
     "name": "stdout",
     "output_type": "stream",
     "text": [
      "Match found!\n",
      "Match found!\n"
     ]
    },
    {
     "name": "stderr",
     "output_type": "stream",
     "text": [
      "\r",
      "146it [01:45,  1.26s/it]"
     ]
    },
    {
     "name": "stdout",
     "output_type": "stream",
     "text": [
      "Match found!\n"
     ]
    },
    {
     "name": "stderr",
     "output_type": "stream",
     "text": [
      "\r",
      "147it [01:45,  1.08s/it]"
     ]
    },
    {
     "name": "stdout",
     "output_type": "stream",
     "text": [
      "Match found!\n"
     ]
    },
    {
     "name": "stderr",
     "output_type": "stream",
     "text": [
      "149it [01:46,  1.61it/s]"
     ]
    },
    {
     "name": "stdout",
     "output_type": "stream",
     "text": [
      "Match found!\n",
      "Match found!\n"
     ]
    },
    {
     "name": "stderr",
     "output_type": "stream",
     "text": [
      "\r",
      "150it [01:46,  1.83it/s]"
     ]
    },
    {
     "name": "stdout",
     "output_type": "stream",
     "text": [
      "Match found!\n"
     ]
    },
    {
     "name": "stderr",
     "output_type": "stream",
     "text": [
      "\r",
      "151it [01:47,  1.91it/s]"
     ]
    },
    {
     "name": "stdout",
     "output_type": "stream",
     "text": [
      "Match found!\n"
     ]
    },
    {
     "name": "stderr",
     "output_type": "stream",
     "text": [
      "\r",
      "152it [01:47,  1.94it/s]"
     ]
    },
    {
     "name": "stdout",
     "output_type": "stream",
     "text": [
      "Match found!\n"
     ]
    },
    {
     "name": "stderr",
     "output_type": "stream",
     "text": [
      "154it [01:47,  2.80it/s]"
     ]
    },
    {
     "name": "stdout",
     "output_type": "stream",
     "text": [
      "Match found!\n",
      "Match found!\n"
     ]
    },
    {
     "name": "stderr",
     "output_type": "stream",
     "text": [
      "156it [01:48,  3.12it/s]"
     ]
    },
    {
     "name": "stdout",
     "output_type": "stream",
     "text": [
      "Match found!\n",
      "Match found!\n"
     ]
    },
    {
     "name": "stderr",
     "output_type": "stream",
     "text": [
      "\r",
      "157it [01:49,  2.68it/s]"
     ]
    },
    {
     "name": "stdout",
     "output_type": "stream",
     "text": [
      "Match found!\n"
     ]
    },
    {
     "name": "stderr",
     "output_type": "stream",
     "text": [
      "\r",
      "158it [01:50,  1.77it/s]"
     ]
    },
    {
     "name": "stdout",
     "output_type": "stream",
     "text": [
      "Match found!\n"
     ]
    },
    {
     "name": "stderr",
     "output_type": "stream",
     "text": [
      "\r",
      "159it [01:50,  2.09it/s]"
     ]
    },
    {
     "name": "stdout",
     "output_type": "stream",
     "text": [
      "Match found!\n"
     ]
    },
    {
     "name": "stderr",
     "output_type": "stream",
     "text": [
      "\r",
      "160it [01:50,  2.40it/s]"
     ]
    },
    {
     "name": "stdout",
     "output_type": "stream",
     "text": [
      "Match found!\n"
     ]
    },
    {
     "name": "stderr",
     "output_type": "stream",
     "text": [
      "162it [01:51,  2.86it/s]"
     ]
    },
    {
     "name": "stdout",
     "output_type": "stream",
     "text": [
      "Match found!\n",
      "Match found!\n"
     ]
    },
    {
     "name": "stderr",
     "output_type": "stream",
     "text": [
      "164it [01:51,  4.39it/s]"
     ]
    },
    {
     "name": "stdout",
     "output_type": "stream",
     "text": [
      "Match found!\n",
      "Match found!\n"
     ]
    },
    {
     "name": "stderr",
     "output_type": "stream",
     "text": [
      "\r",
      "165it [01:51,  4.28it/s]"
     ]
    },
    {
     "name": "stdout",
     "output_type": "stream",
     "text": [
      "Match found!\n"
     ]
    },
    {
     "name": "stderr",
     "output_type": "stream",
     "text": [
      "\r",
      "166it [01:52,  3.46it/s]"
     ]
    },
    {
     "name": "stdout",
     "output_type": "stream",
     "text": [
      "Match found!\n",
      "Match found!\n"
     ]
    },
    {
     "name": "stderr",
     "output_type": "stream",
     "text": [
      "\r",
      "168it [01:52,  4.10it/s]"
     ]
    },
    {
     "name": "stdout",
     "output_type": "stream",
     "text": [
      "Match found!\n"
     ]
    },
    {
     "name": "stderr",
     "output_type": "stream",
     "text": [
      "\r",
      "169it [01:53,  2.39it/s]"
     ]
    },
    {
     "name": "stdout",
     "output_type": "stream",
     "text": [
      "Match found!\n"
     ]
    },
    {
     "name": "stderr",
     "output_type": "stream",
     "text": [
      "171it [01:53,  3.16it/s]"
     ]
    },
    {
     "name": "stdout",
     "output_type": "stream",
     "text": [
      "Match found!\n",
      "Match found!\n"
     ]
    },
    {
     "name": "stderr",
     "output_type": "stream",
     "text": [
      "\r",
      "172it [01:53,  3.24it/s]"
     ]
    },
    {
     "name": "stdout",
     "output_type": "stream",
     "text": [
      "Match found!\n"
     ]
    },
    {
     "name": "stderr",
     "output_type": "stream",
     "text": [
      "\r",
      "173it [01:54,  3.15it/s]"
     ]
    },
    {
     "name": "stdout",
     "output_type": "stream",
     "text": [
      "Match found!\n"
     ]
    },
    {
     "name": "stderr",
     "output_type": "stream",
     "text": [
      "\r",
      "174it [01:54,  2.42it/s]"
     ]
    },
    {
     "name": "stdout",
     "output_type": "stream",
     "text": [
      "Match found!\n"
     ]
    },
    {
     "name": "stderr",
     "output_type": "stream",
     "text": [
      "\r",
      "175it [01:55,  2.00it/s]"
     ]
    },
    {
     "name": "stdout",
     "output_type": "stream",
     "text": [
      "Match found!\n"
     ]
    },
    {
     "name": "stderr",
     "output_type": "stream",
     "text": [
      "\r",
      "176it [01:55,  2.34it/s]"
     ]
    },
    {
     "name": "stdout",
     "output_type": "stream",
     "text": [
      "Match found!\n"
     ]
    },
    {
     "name": "stderr",
     "output_type": "stream",
     "text": [
      "\r",
      "177it [01:56,  2.10it/s]"
     ]
    },
    {
     "name": "stdout",
     "output_type": "stream",
     "text": [
      "Match found!\n"
     ]
    },
    {
     "name": "stderr",
     "output_type": "stream",
     "text": [
      "\r",
      "178it [01:56,  2.34it/s]"
     ]
    },
    {
     "name": "stdout",
     "output_type": "stream",
     "text": [
      "Match found!\n"
     ]
    },
    {
     "name": "stderr",
     "output_type": "stream",
     "text": [
      "\r",
      "179it [01:57,  2.72it/s]"
     ]
    },
    {
     "name": "stdout",
     "output_type": "stream",
     "text": [
      "Match found!\n"
     ]
    },
    {
     "name": "stderr",
     "output_type": "stream",
     "text": [
      "\r",
      "180it [01:57,  1.97it/s]"
     ]
    },
    {
     "name": "stdout",
     "output_type": "stream",
     "text": [
      "Match found!\n"
     ]
    },
    {
     "name": "stderr",
     "output_type": "stream",
     "text": [
      "182it [01:58,  2.98it/s]"
     ]
    },
    {
     "name": "stdout",
     "output_type": "stream",
     "text": [
      "Match found!\n",
      "Match found!\n"
     ]
    },
    {
     "name": "stderr",
     "output_type": "stream",
     "text": [
      "\r",
      "183it [01:58,  3.22it/s]"
     ]
    },
    {
     "name": "stdout",
     "output_type": "stream",
     "text": [
      "Match found!\n"
     ]
    },
    {
     "name": "stderr",
     "output_type": "stream",
     "text": [
      "185it [01:59,  3.01it/s]"
     ]
    },
    {
     "name": "stdout",
     "output_type": "stream",
     "text": [
      "Match found!\n",
      "Match found!\n"
     ]
    },
    {
     "name": "stderr",
     "output_type": "stream",
     "text": [
      "\r",
      "186it [01:59,  3.00it/s]"
     ]
    },
    {
     "name": "stdout",
     "output_type": "stream",
     "text": [
      "Match found!\n"
     ]
    },
    {
     "name": "stderr",
     "output_type": "stream",
     "text": [
      "\r",
      "187it [02:00,  1.77it/s]"
     ]
    },
    {
     "name": "stdout",
     "output_type": "stream",
     "text": [
      "Match found!\n"
     ]
    },
    {
     "name": "stderr",
     "output_type": "stream",
     "text": [
      "\r",
      "188it [02:01,  1.94it/s]"
     ]
    },
    {
     "name": "stdout",
     "output_type": "stream",
     "text": [
      "Match found!\n"
     ]
    },
    {
     "name": "stderr",
     "output_type": "stream",
     "text": [
      "\r",
      "189it [02:01,  2.33it/s]"
     ]
    },
    {
     "name": "stdout",
     "output_type": "stream",
     "text": [
      "Match found!\n"
     ]
    },
    {
     "name": "stderr",
     "output_type": "stream",
     "text": [
      "\r",
      "190it [02:02,  1.29it/s]"
     ]
    },
    {
     "name": "stdout",
     "output_type": "stream",
     "text": [
      "Match found!\n"
     ]
    },
    {
     "name": "stderr",
     "output_type": "stream",
     "text": [
      "\r",
      "191it [02:03,  1.18it/s]"
     ]
    },
    {
     "name": "stdout",
     "output_type": "stream",
     "text": [
      "Match found!\n"
     ]
    },
    {
     "name": "stderr",
     "output_type": "stream",
     "text": [
      "\r",
      "192it [02:04,  1.42it/s]"
     ]
    },
    {
     "name": "stdout",
     "output_type": "stream",
     "text": [
      "Match found!\n"
     ]
    },
    {
     "name": "stderr",
     "output_type": "stream",
     "text": [
      "194it [02:04,  2.02it/s]"
     ]
    },
    {
     "name": "stdout",
     "output_type": "stream",
     "text": [
      "Match found!\n",
      "Match found!\n"
     ]
    },
    {
     "name": "stderr",
     "output_type": "stream",
     "text": [
      "\r",
      "195it [02:05,  1.86it/s]"
     ]
    },
    {
     "name": "stdout",
     "output_type": "stream",
     "text": [
      "Match found!\n"
     ]
    },
    {
     "name": "stderr",
     "output_type": "stream",
     "text": [
      "\r",
      "196it [02:06,  1.58it/s]"
     ]
    },
    {
     "name": "stdout",
     "output_type": "stream",
     "text": [
      "Match found!\n"
     ]
    },
    {
     "name": "stderr",
     "output_type": "stream",
     "text": [
      "\r",
      "197it [02:08,  1.19s/it]"
     ]
    },
    {
     "name": "stdout",
     "output_type": "stream",
     "text": [
      "Match found!\n"
     ]
    },
    {
     "name": "stderr",
     "output_type": "stream",
     "text": [
      "\r",
      "198it [02:09,  1.10it/s]"
     ]
    },
    {
     "name": "stdout",
     "output_type": "stream",
     "text": [
      "Match found!\n"
     ]
    },
    {
     "name": "stderr",
     "output_type": "stream",
     "text": [
      "\r",
      "199it [02:11,  1.28s/it]"
     ]
    },
    {
     "name": "stdout",
     "output_type": "stream",
     "text": [
      "Match found!\n"
     ]
    },
    {
     "name": "stderr",
     "output_type": "stream",
     "text": [
      "\r",
      "200it [02:11,  1.01s/it]"
     ]
    },
    {
     "name": "stdout",
     "output_type": "stream",
     "text": [
      "Match found!\n"
     ]
    },
    {
     "name": "stderr",
     "output_type": "stream",
     "text": [
      "\r",
      "201it [02:12,  1.04it/s]"
     ]
    },
    {
     "name": "stdout",
     "output_type": "stream",
     "text": [
      "Match found!\n"
     ]
    },
    {
     "name": "stderr",
     "output_type": "stream",
     "text": [
      "\r",
      "202it [02:13,  1.18it/s]"
     ]
    },
    {
     "name": "stdout",
     "output_type": "stream",
     "text": [
      "Match found!\n"
     ]
    },
    {
     "name": "stderr",
     "output_type": "stream",
     "text": [
      "204it [02:13,  1.75it/s]"
     ]
    },
    {
     "name": "stdout",
     "output_type": "stream",
     "text": [
      "Match found!\n",
      "Match found!\n"
     ]
    },
    {
     "name": "stderr",
     "output_type": "stream",
     "text": [
      "206it [02:15,  1.78it/s]"
     ]
    },
    {
     "name": "stdout",
     "output_type": "stream",
     "text": [
      "Match found!\n",
      "Match found!\n"
     ]
    },
    {
     "name": "stderr",
     "output_type": "stream",
     "text": [
      "\r",
      "207it [02:15,  2.14it/s]"
     ]
    },
    {
     "name": "stdout",
     "output_type": "stream",
     "text": [
      "Match found!\n"
     ]
    },
    {
     "name": "stderr",
     "output_type": "stream",
     "text": [
      "\r",
      "208it [02:15,  2.06it/s]"
     ]
    },
    {
     "name": "stdout",
     "output_type": "stream",
     "text": [
      "Match found!\n"
     ]
    },
    {
     "name": "stderr",
     "output_type": "stream",
     "text": [
      "\r",
      "209it [02:20,  1.87s/it]"
     ]
    },
    {
     "name": "stdout",
     "output_type": "stream",
     "text": [
      "Match found!\n",
      "Match found!\n"
     ]
    },
    {
     "name": "stderr",
     "output_type": "stream",
     "text": [
      "\r",
      "211it [02:23,  1.63s/it]"
     ]
    },
    {
     "name": "stdout",
     "output_type": "stream",
     "text": [
      "Match found!\n"
     ]
    },
    {
     "name": "stderr",
     "output_type": "stream",
     "text": [
      "\r",
      "212it [02:23,  1.34s/it]"
     ]
    },
    {
     "name": "stdout",
     "output_type": "stream",
     "text": [
      "Match found!\n"
     ]
    },
    {
     "name": "stderr",
     "output_type": "stream",
     "text": [
      "214it [02:24,  1.17it/s]"
     ]
    },
    {
     "name": "stdout",
     "output_type": "stream",
     "text": [
      "Match found!\n",
      "Match found!\n"
     ]
    },
    {
     "name": "stderr",
     "output_type": "stream",
     "text": [
      "216it [02:25,  1.88it/s]"
     ]
    },
    {
     "name": "stdout",
     "output_type": "stream",
     "text": [
      "Match found!\n",
      "Match found!\n"
     ]
    },
    {
     "name": "stderr",
     "output_type": "stream",
     "text": [
      "\r",
      "217it [02:25,  1.73it/s]"
     ]
    },
    {
     "name": "stdout",
     "output_type": "stream",
     "text": [
      "Match found!\n"
     ]
    },
    {
     "name": "stderr",
     "output_type": "stream",
     "text": [
      "\r",
      "218it [02:26,  1.50it/s]"
     ]
    },
    {
     "name": "stdout",
     "output_type": "stream",
     "text": [
      "Match found!\n"
     ]
    },
    {
     "name": "stderr",
     "output_type": "stream",
     "text": [
      "220it [02:26,  2.45it/s]"
     ]
    },
    {
     "name": "stdout",
     "output_type": "stream",
     "text": [
      "Match found!\n",
      "Match found!\n"
     ]
    },
    {
     "name": "stderr",
     "output_type": "stream",
     "text": [
      "\r",
      "221it [02:27,  2.50it/s]"
     ]
    },
    {
     "name": "stdout",
     "output_type": "stream",
     "text": [
      "Match found!\n"
     ]
    },
    {
     "name": "stderr",
     "output_type": "stream",
     "text": [
      "\r",
      "222it [02:27,  2.82it/s]"
     ]
    },
    {
     "name": "stdout",
     "output_type": "stream",
     "text": [
      "Match found!\n"
     ]
    },
    {
     "name": "stderr",
     "output_type": "stream",
     "text": [
      "\r",
      "223it [02:27,  2.81it/s]"
     ]
    },
    {
     "name": "stdout",
     "output_type": "stream",
     "text": [
      "Match found!\n"
     ]
    },
    {
     "name": "stderr",
     "output_type": "stream",
     "text": [
      "\r",
      "224it [02:31,  1.31s/it]"
     ]
    },
    {
     "name": "stdout",
     "output_type": "stream",
     "text": [
      "Match found!\n"
     ]
    },
    {
     "name": "stderr",
     "output_type": "stream",
     "text": [
      "\r",
      "225it [02:31,  1.02s/it]"
     ]
    },
    {
     "name": "stdout",
     "output_type": "stream",
     "text": [
      "Match found!\n"
     ]
    },
    {
     "name": "stderr",
     "output_type": "stream",
     "text": [
      "227it [02:32,  1.68it/s]"
     ]
    },
    {
     "name": "stdout",
     "output_type": "stream",
     "text": [
      "Match found!\n",
      "Match found!\n"
     ]
    },
    {
     "name": "stderr",
     "output_type": "stream",
     "text": [
      "\r",
      "228it [02:34,  1.01s/it]"
     ]
    },
    {
     "name": "stdout",
     "output_type": "stream",
     "text": [
      "Match found!\n"
     ]
    },
    {
     "name": "stderr",
     "output_type": "stream",
     "text": [
      "\r",
      "229it [02:35,  1.01s/it]"
     ]
    },
    {
     "name": "stdout",
     "output_type": "stream",
     "text": [
      "Match found!\n"
     ]
    },
    {
     "name": "stderr",
     "output_type": "stream",
     "text": [
      "\r",
      "230it [02:37,  1.28s/it]"
     ]
    },
    {
     "name": "stdout",
     "output_type": "stream",
     "text": [
      "Match found!\n"
     ]
    },
    {
     "name": "stderr",
     "output_type": "stream",
     "text": [
      "\r",
      "231it [02:40,  1.95s/it]"
     ]
    },
    {
     "name": "stdout",
     "output_type": "stream",
     "text": [
      "Match found!\n"
     ]
    },
    {
     "name": "stderr",
     "output_type": "stream",
     "text": [
      "\r",
      "232it [02:42,  1.95s/it]"
     ]
    },
    {
     "name": "stdout",
     "output_type": "stream",
     "text": [
      "Match found!\n"
     ]
    },
    {
     "name": "stderr",
     "output_type": "stream",
     "text": [
      "\r",
      "233it [02:44,  1.80s/it]"
     ]
    },
    {
     "name": "stdout",
     "output_type": "stream",
     "text": [
      "Match found!\n"
     ]
    },
    {
     "name": "stderr",
     "output_type": "stream",
     "text": [
      "\r",
      "234it [02:46,  1.92s/it]"
     ]
    },
    {
     "name": "stdout",
     "output_type": "stream",
     "text": [
      "Match found!\n"
     ]
    },
    {
     "name": "stderr",
     "output_type": "stream",
     "text": [
      "236it [02:48,  1.45s/it]"
     ]
    },
    {
     "name": "stdout",
     "output_type": "stream",
     "text": [
      "Match found!\n",
      "Match found!\n"
     ]
    },
    {
     "name": "stderr",
     "output_type": "stream",
     "text": [
      "\r",
      "237it [02:49,  1.26s/it]"
     ]
    },
    {
     "name": "stdout",
     "output_type": "stream",
     "text": [
      "Match found!\n"
     ]
    },
    {
     "name": "stderr",
     "output_type": "stream",
     "text": [
      "239it [02:50,  1.33it/s]"
     ]
    },
    {
     "name": "stdout",
     "output_type": "stream",
     "text": [
      "Match found!\n",
      "Match found!\n"
     ]
    },
    {
     "name": "stderr",
     "output_type": "stream",
     "text": [
      "\r",
      "240it [02:50,  1.60it/s]"
     ]
    },
    {
     "name": "stdout",
     "output_type": "stream",
     "text": [
      "Match found!\n"
     ]
    },
    {
     "name": "stderr",
     "output_type": "stream",
     "text": [
      "242it [02:51,  2.06it/s]"
     ]
    },
    {
     "name": "stdout",
     "output_type": "stream",
     "text": [
      "Match found!\n",
      "Match found!\n"
     ]
    },
    {
     "name": "stderr",
     "output_type": "stream",
     "text": [
      "\r",
      "243it [02:52,  1.54it/s]"
     ]
    },
    {
     "name": "stdout",
     "output_type": "stream",
     "text": [
      "Match found!\n"
     ]
    },
    {
     "name": "stderr",
     "output_type": "stream",
     "text": [
      "\r",
      "244it [02:52,  1.55it/s]"
     ]
    },
    {
     "name": "stdout",
     "output_type": "stream",
     "text": [
      "Match found!\n"
     ]
    },
    {
     "name": "stderr",
     "output_type": "stream",
     "text": [
      "\r",
      "245it [02:53,  1.90it/s]"
     ]
    },
    {
     "name": "stdout",
     "output_type": "stream",
     "text": [
      "Match found!\n"
     ]
    },
    {
     "name": "stderr",
     "output_type": "stream",
     "text": [
      "\r",
      "246it [02:53,  2.00it/s]"
     ]
    },
    {
     "name": "stdout",
     "output_type": "stream",
     "text": [
      "Match found!\n"
     ]
    },
    {
     "name": "stderr",
     "output_type": "stream",
     "text": [
      "249it [02:54,  1.84it/s]"
     ]
    },
    {
     "name": "stdout",
     "output_type": "stream",
     "text": [
      "Match found!\n",
      "Match found!\n",
      "Match found!\n"
     ]
    },
    {
     "name": "stderr",
     "output_type": "stream",
     "text": [
      "\r",
      "250it [02:55,  1.66it/s]"
     ]
    },
    {
     "name": "stdout",
     "output_type": "stream",
     "text": [
      "Match found!\n"
     ]
    },
    {
     "name": "stderr",
     "output_type": "stream",
     "text": [
      "\r",
      "251it [02:56,  1.41it/s]"
     ]
    },
    {
     "name": "stdout",
     "output_type": "stream",
     "text": [
      "Match found!\n"
     ]
    },
    {
     "name": "stderr",
     "output_type": "stream",
     "text": [
      "\r",
      "252it [02:57,  1.47it/s]"
     ]
    },
    {
     "name": "stdout",
     "output_type": "stream",
     "text": [
      "Match found!\n"
     ]
    },
    {
     "name": "stderr",
     "output_type": "stream",
     "text": [
      "254it [02:57,  2.00it/s]"
     ]
    },
    {
     "name": "stdout",
     "output_type": "stream",
     "text": [
      "Match found!\n",
      "Match found!\n"
     ]
    },
    {
     "name": "stderr",
     "output_type": "stream",
     "text": [
      "\r",
      "255it [02:58,  2.56it/s]"
     ]
    },
    {
     "name": "stdout",
     "output_type": "stream",
     "text": [
      "Match found!\n"
     ]
    },
    {
     "name": "stderr",
     "output_type": "stream",
     "text": [
      "\r",
      "256it [02:58,  2.31it/s]"
     ]
    },
    {
     "name": "stdout",
     "output_type": "stream",
     "text": [
      "Match found!\n"
     ]
    },
    {
     "name": "stderr",
     "output_type": "stream",
     "text": [
      "\r",
      "257it [02:59,  2.02it/s]"
     ]
    },
    {
     "name": "stdout",
     "output_type": "stream",
     "text": [
      "Match found!\n",
      "Match found!\n"
     ]
    },
    {
     "name": "stderr",
     "output_type": "stream",
     "text": [
      "\r",
      "259it [02:59,  2.49it/s]"
     ]
    },
    {
     "name": "stdout",
     "output_type": "stream",
     "text": [
      "Match found!\n",
      "Match found!\n"
     ]
    },
    {
     "name": "stderr",
     "output_type": "stream",
     "text": [
      "\r",
      "261it [03:00,  2.88it/s]"
     ]
    },
    {
     "name": "stdout",
     "output_type": "stream",
     "text": [
      "Match found!\n"
     ]
    },
    {
     "name": "stderr",
     "output_type": "stream",
     "text": [
      "\r",
      "262it [03:00,  3.14it/s]"
     ]
    },
    {
     "name": "stdout",
     "output_type": "stream",
     "text": [
      "Match found!\n"
     ]
    },
    {
     "name": "stderr",
     "output_type": "stream",
     "text": [
      "264it [03:02,  1.49it/s]"
     ]
    },
    {
     "name": "stdout",
     "output_type": "stream",
     "text": [
      "Match found!\n",
      "Match found!\n"
     ]
    },
    {
     "name": "stderr",
     "output_type": "stream",
     "text": [
      "\r",
      "265it [03:03,  1.62it/s]"
     ]
    },
    {
     "name": "stdout",
     "output_type": "stream",
     "text": [
      "Match found!\n"
     ]
    },
    {
     "name": "stderr",
     "output_type": "stream",
     "text": [
      "\r",
      "266it [03:03,  1.57it/s]"
     ]
    },
    {
     "name": "stdout",
     "output_type": "stream",
     "text": [
      "Match found!\n"
     ]
    },
    {
     "name": "stderr",
     "output_type": "stream",
     "text": [
      "\r",
      "267it [03:04,  1.62it/s]"
     ]
    },
    {
     "name": "stdout",
     "output_type": "stream",
     "text": [
      "Match found!\n"
     ]
    },
    {
     "name": "stderr",
     "output_type": "stream",
     "text": [
      "\r",
      "268it [03:05,  1.25it/s]"
     ]
    },
    {
     "name": "stdout",
     "output_type": "stream",
     "text": [
      "Match found!\n"
     ]
    },
    {
     "name": "stderr",
     "output_type": "stream",
     "text": [
      "270it [03:06,  1.75it/s]"
     ]
    },
    {
     "name": "stdout",
     "output_type": "stream",
     "text": [
      "Match found!\n",
      "Match found!\n"
     ]
    },
    {
     "name": "stderr",
     "output_type": "stream",
     "text": [
      "\r",
      "271it [03:06,  1.99it/s]"
     ]
    },
    {
     "name": "stdout",
     "output_type": "stream",
     "text": [
      "Match found!\n"
     ]
    },
    {
     "name": "stderr",
     "output_type": "stream",
     "text": [
      "\r",
      "272it [03:07,  2.18it/s]"
     ]
    },
    {
     "name": "stdout",
     "output_type": "stream",
     "text": [
      "Match found!\n"
     ]
    },
    {
     "name": "stderr",
     "output_type": "stream",
     "text": [
      "\r",
      "273it [03:07,  1.99it/s]"
     ]
    },
    {
     "name": "stdout",
     "output_type": "stream",
     "text": [
      "Match found!\n"
     ]
    },
    {
     "name": "stderr",
     "output_type": "stream",
     "text": [
      "\r",
      "274it [03:08,  1.97it/s]"
     ]
    },
    {
     "name": "stdout",
     "output_type": "stream",
     "text": [
      "Match found!\n"
     ]
    },
    {
     "name": "stderr",
     "output_type": "stream",
     "text": [
      "276it [03:08,  2.63it/s]"
     ]
    },
    {
     "name": "stdout",
     "output_type": "stream",
     "text": [
      "Match found!\n",
      "Match found!\n"
     ]
    },
    {
     "name": "stderr",
     "output_type": "stream",
     "text": [
      "\r",
      "277it [03:09,  2.89it/s]"
     ]
    },
    {
     "name": "stdout",
     "output_type": "stream",
     "text": [
      "Match found!\n"
     ]
    },
    {
     "name": "stderr",
     "output_type": "stream",
     "text": [
      "\r",
      "278it [03:09,  2.02it/s]"
     ]
    },
    {
     "name": "stdout",
     "output_type": "stream",
     "text": [
      "Match found!\n"
     ]
    },
    {
     "name": "stderr",
     "output_type": "stream",
     "text": [
      "\r",
      "279it [03:11,  1.50it/s]"
     ]
    },
    {
     "name": "stdout",
     "output_type": "stream",
     "text": [
      "Match found!\n"
     ]
    },
    {
     "name": "stderr",
     "output_type": "stream",
     "text": [
      "\r",
      "280it [03:11,  1.63it/s]"
     ]
    },
    {
     "name": "stdout",
     "output_type": "stream",
     "text": [
      "Match found!\n"
     ]
    },
    {
     "name": "stderr",
     "output_type": "stream",
     "text": [
      "\r",
      "281it [03:11,  1.96it/s]"
     ]
    },
    {
     "name": "stdout",
     "output_type": "stream",
     "text": [
      "Match found!\n"
     ]
    },
    {
     "name": "stderr",
     "output_type": "stream",
     "text": [
      "\r",
      "282it [03:12,  1.84it/s]"
     ]
    },
    {
     "name": "stdout",
     "output_type": "stream",
     "text": [
      "Match found!\n"
     ]
    },
    {
     "name": "stderr",
     "output_type": "stream",
     "text": [
      "\r",
      "283it [03:12,  2.15it/s]"
     ]
    },
    {
     "name": "stdout",
     "output_type": "stream",
     "text": [
      "Match found!\n"
     ]
    },
    {
     "name": "stderr",
     "output_type": "stream",
     "text": [
      "\r",
      "284it [03:13,  2.12it/s]"
     ]
    },
    {
     "name": "stdout",
     "output_type": "stream",
     "text": [
      "Match found!\n"
     ]
    },
    {
     "name": "stderr",
     "output_type": "stream",
     "text": [
      "\r",
      "285it [03:13,  2.45it/s]"
     ]
    },
    {
     "name": "stdout",
     "output_type": "stream",
     "text": [
      "Match found!\n"
     ]
    },
    {
     "name": "stderr",
     "output_type": "stream",
     "text": [
      "\r",
      "286it [03:13,  2.60it/s]"
     ]
    },
    {
     "name": "stdout",
     "output_type": "stream",
     "text": [
      "Match found!\n"
     ]
    },
    {
     "name": "stderr",
     "output_type": "stream",
     "text": [
      "288it [03:14,  2.66it/s]"
     ]
    },
    {
     "name": "stdout",
     "output_type": "stream",
     "text": [
      "Match found!\n",
      "Match found!\n"
     ]
    },
    {
     "name": "stderr",
     "output_type": "stream",
     "text": [
      "\r",
      "289it [03:15,  1.65it/s]"
     ]
    },
    {
     "name": "stdout",
     "output_type": "stream",
     "text": [
      "Match found!\n"
     ]
    },
    {
     "name": "stderr",
     "output_type": "stream",
     "text": [
      "\r",
      "290it [03:16,  1.56it/s]"
     ]
    },
    {
     "name": "stdout",
     "output_type": "stream",
     "text": [
      "Match found!\n"
     ]
    },
    {
     "name": "stderr",
     "output_type": "stream",
     "text": [
      "\r",
      "291it [03:17,  1.57it/s]"
     ]
    },
    {
     "name": "stdout",
     "output_type": "stream",
     "text": [
      "Match found!\n",
      "Match found!\n"
     ]
    },
    {
     "name": "stderr",
     "output_type": "stream",
     "text": [
      "\r",
      "293it [03:17,  2.09it/s]"
     ]
    },
    {
     "name": "stdout",
     "output_type": "stream",
     "text": [
      "Match found!\n"
     ]
    },
    {
     "name": "stderr",
     "output_type": "stream",
     "text": [
      "\r",
      "294it [03:18,  1.46it/s]"
     ]
    },
    {
     "name": "stdout",
     "output_type": "stream",
     "text": [
      "Match found!\n"
     ]
    },
    {
     "name": "stderr",
     "output_type": "stream",
     "text": [
      "\r",
      "295it [03:18,  1.69it/s]"
     ]
    },
    {
     "name": "stdout",
     "output_type": "stream",
     "text": [
      "Match found!\n"
     ]
    },
    {
     "name": "stderr",
     "output_type": "stream",
     "text": [
      "\r",
      "296it [03:19,  1.76it/s]"
     ]
    },
    {
     "name": "stdout",
     "output_type": "stream",
     "text": [
      "Match found!\n"
     ]
    },
    {
     "name": "stderr",
     "output_type": "stream",
     "text": [
      "\r",
      "297it [03:19,  2.07it/s]"
     ]
    },
    {
     "name": "stdout",
     "output_type": "stream",
     "text": [
      "Match found!\n"
     ]
    },
    {
     "name": "stderr",
     "output_type": "stream",
     "text": [
      "\r",
      "298it [03:20,  2.05it/s]"
     ]
    },
    {
     "name": "stdout",
     "output_type": "stream",
     "text": [
      "Match found!\n"
     ]
    },
    {
     "name": "stderr",
     "output_type": "stream",
     "text": [
      "\r",
      "299it [03:21,  1.51it/s]"
     ]
    },
    {
     "name": "stdout",
     "output_type": "stream",
     "text": [
      "Match found!\n"
     ]
    },
    {
     "name": "stderr",
     "output_type": "stream",
     "text": [
      "\r",
      "300it [03:22,  1.35it/s]"
     ]
    },
    {
     "name": "stdout",
     "output_type": "stream",
     "text": [
      "Match found!\n",
      "Match found!\n"
     ]
    },
    {
     "name": "stderr",
     "output_type": "stream",
     "text": [
      "\r",
      "302it [03:22,  1.80it/s]"
     ]
    },
    {
     "name": "stdout",
     "output_type": "stream",
     "text": [
      "Match found!\n"
     ]
    },
    {
     "name": "stderr",
     "output_type": "stream",
     "text": [
      "\r",
      "303it [03:22,  2.05it/s]"
     ]
    },
    {
     "name": "stdout",
     "output_type": "stream",
     "text": [
      "Match found!\n"
     ]
    },
    {
     "name": "stderr",
     "output_type": "stream",
     "text": [
      "\r",
      "304it [03:23,  2.34it/s]"
     ]
    },
    {
     "name": "stdout",
     "output_type": "stream",
     "text": [
      "Match found!\n"
     ]
    },
    {
     "name": "stderr",
     "output_type": "stream",
     "text": [
      "\r",
      "305it [03:23,  2.48it/s]"
     ]
    },
    {
     "name": "stdout",
     "output_type": "stream",
     "text": [
      "Match found!\n"
     ]
    },
    {
     "name": "stderr",
     "output_type": "stream",
     "text": [
      "\r",
      "306it [03:24,  1.35it/s]"
     ]
    },
    {
     "name": "stdout",
     "output_type": "stream",
     "text": [
      "Match found!\n"
     ]
    },
    {
     "name": "stderr",
     "output_type": "stream",
     "text": [
      "\r",
      "307it [03:26,  1.00s/it]"
     ]
    },
    {
     "name": "stdout",
     "output_type": "stream",
     "text": [
      "Match found!\n"
     ]
    },
    {
     "name": "stderr",
     "output_type": "stream",
     "text": [
      "\r",
      "308it [03:28,  1.16s/it]"
     ]
    },
    {
     "name": "stdout",
     "output_type": "stream",
     "text": [
      "Match found!\n"
     ]
    },
    {
     "name": "stderr",
     "output_type": "stream",
     "text": [
      "\r",
      "309it [03:28,  1.04s/it]"
     ]
    },
    {
     "name": "stdout",
     "output_type": "stream",
     "text": [
      "Match found!\n"
     ]
    },
    {
     "name": "stderr",
     "output_type": "stream",
     "text": [
      "\r",
      "310it [03:29,  1.00s/it]"
     ]
    },
    {
     "name": "stdout",
     "output_type": "stream",
     "text": [
      "Match found!\n"
     ]
    },
    {
     "name": "stderr",
     "output_type": "stream",
     "text": [
      "312it [03:31,  1.25it/s]"
     ]
    },
    {
     "name": "stdout",
     "output_type": "stream",
     "text": [
      "Match found!\n",
      "Match found!\n"
     ]
    },
    {
     "name": "stderr",
     "output_type": "stream",
     "text": [
      "\r",
      "313it [03:31,  1.36it/s]"
     ]
    },
    {
     "name": "stdout",
     "output_type": "stream",
     "text": [
      "Match found!\n"
     ]
    },
    {
     "name": "stderr",
     "output_type": "stream",
     "text": [
      "\r",
      "314it [03:32,  1.13it/s]"
     ]
    },
    {
     "name": "stdout",
     "output_type": "stream",
     "text": [
      "Match found!\n"
     ]
    },
    {
     "name": "stderr",
     "output_type": "stream",
     "text": [
      "\r",
      "315it [03:33,  1.32it/s]"
     ]
    },
    {
     "name": "stdout",
     "output_type": "stream",
     "text": [
      "Match found!\n"
     ]
    },
    {
     "name": "stderr",
     "output_type": "stream",
     "text": [
      "\r",
      "316it [03:34,  1.20it/s]"
     ]
    },
    {
     "name": "stdout",
     "output_type": "stream",
     "text": [
      "Match found!\n"
     ]
    },
    {
     "name": "stderr",
     "output_type": "stream",
     "text": [
      "318it [03:34,  1.90it/s]"
     ]
    },
    {
     "name": "stdout",
     "output_type": "stream",
     "text": [
      "Match found!\n",
      "Match found!\n"
     ]
    },
    {
     "name": "stderr",
     "output_type": "stream",
     "text": [
      "\r",
      "319it [03:35,  2.21it/s]"
     ]
    },
    {
     "name": "stdout",
     "output_type": "stream",
     "text": [
      "Match found!\n"
     ]
    },
    {
     "name": "stderr",
     "output_type": "stream",
     "text": [
      "\r",
      "320it [03:35,  2.11it/s]"
     ]
    },
    {
     "name": "stdout",
     "output_type": "stream",
     "text": [
      "Match found!\n"
     ]
    },
    {
     "name": "stderr",
     "output_type": "stream",
     "text": [
      "\r",
      "321it [03:36,  1.61it/s]"
     ]
    },
    {
     "name": "stdout",
     "output_type": "stream",
     "text": [
      "Match found!\n"
     ]
    },
    {
     "name": "stderr",
     "output_type": "stream",
     "text": [
      "\r",
      "322it [03:38,  1.15it/s]"
     ]
    },
    {
     "name": "stdout",
     "output_type": "stream",
     "text": [
      "Match found!\n"
     ]
    },
    {
     "name": "stderr",
     "output_type": "stream",
     "text": [
      "\r",
      "323it [03:38,  1.23it/s]"
     ]
    },
    {
     "name": "stdout",
     "output_type": "stream",
     "text": [
      "Match found!\n"
     ]
    },
    {
     "name": "stderr",
     "output_type": "stream",
     "text": [
      "325it [03:39,  1.80it/s]"
     ]
    },
    {
     "name": "stdout",
     "output_type": "stream",
     "text": [
      "Match found!\n",
      "Match found!\n"
     ]
    },
    {
     "name": "stderr",
     "output_type": "stream",
     "text": [
      "327it [03:40,  2.20it/s]"
     ]
    },
    {
     "name": "stdout",
     "output_type": "stream",
     "text": [
      "Match found!\n",
      "Match found!\n"
     ]
    },
    {
     "name": "stderr",
     "output_type": "stream",
     "text": [
      "\r",
      "328it [03:40,  2.78it/s]"
     ]
    },
    {
     "name": "stdout",
     "output_type": "stream",
     "text": [
      "Match found!\n"
     ]
    },
    {
     "name": "stderr",
     "output_type": "stream",
     "text": [
      "\r",
      "329it [03:40,  2.91it/s]"
     ]
    },
    {
     "name": "stdout",
     "output_type": "stream",
     "text": [
      "Match found!\n",
      "Match found!\n"
     ]
    },
    {
     "name": "stderr",
     "output_type": "stream",
     "text": [
      "\r",
      "331it [03:43,  1.66it/s]"
     ]
    },
    {
     "name": "stdout",
     "output_type": "stream",
     "text": [
      "Match found!\n",
      "Match found!\n"
     ]
    },
    {
     "name": "stderr",
     "output_type": "stream",
     "text": [
      "\r",
      "333it [03:43,  2.10it/s]"
     ]
    },
    {
     "name": "stdout",
     "output_type": "stream",
     "text": [
      "Match found!\n"
     ]
    },
    {
     "name": "stderr",
     "output_type": "stream",
     "text": [
      "\r",
      "334it [03:45,  1.17it/s]"
     ]
    },
    {
     "name": "stdout",
     "output_type": "stream",
     "text": [
      "Match found!\n"
     ]
    },
    {
     "name": "stderr",
     "output_type": "stream",
     "text": [
      "336it [03:45,  1.90it/s]"
     ]
    },
    {
     "name": "stdout",
     "output_type": "stream",
     "text": [
      "Match found!\n",
      "Match found!\n"
     ]
    },
    {
     "name": "stderr",
     "output_type": "stream",
     "text": [
      "\r",
      "337it [03:46,  2.11it/s]"
     ]
    },
    {
     "name": "stdout",
     "output_type": "stream",
     "text": [
      "Match found!\n"
     ]
    },
    {
     "name": "stderr",
     "output_type": "stream",
     "text": [
      "\r",
      "338it [03:46,  2.48it/s]"
     ]
    },
    {
     "name": "stdout",
     "output_type": "stream",
     "text": [
      "Match found!\n"
     ]
    },
    {
     "name": "stderr",
     "output_type": "stream",
     "text": [
      "\r",
      "339it [03:46,  2.03it/s]"
     ]
    },
    {
     "name": "stdout",
     "output_type": "stream",
     "text": [
      "Match found!\n"
     ]
    },
    {
     "name": "stderr",
     "output_type": "stream",
     "text": [
      "\r",
      "340it [03:47,  2.28it/s]"
     ]
    },
    {
     "name": "stdout",
     "output_type": "stream",
     "text": [
      "Match found!\n"
     ]
    },
    {
     "name": "stderr",
     "output_type": "stream",
     "text": [
      "\r",
      "341it [03:48,  1.87it/s]"
     ]
    },
    {
     "name": "stdout",
     "output_type": "stream",
     "text": [
      "Match found!\n"
     ]
    },
    {
     "name": "stderr",
     "output_type": "stream",
     "text": [
      "\r",
      "342it [03:48,  1.76it/s]"
     ]
    },
    {
     "name": "stdout",
     "output_type": "stream",
     "text": [
      "Match found!\n"
     ]
    },
    {
     "name": "stderr",
     "output_type": "stream",
     "text": [
      "\r",
      "343it [03:50,  1.03it/s]"
     ]
    },
    {
     "name": "stdout",
     "output_type": "stream",
     "text": [
      "Match found!\n"
     ]
    },
    {
     "name": "stderr",
     "output_type": "stream",
     "text": [
      "345it [03:51,  1.42it/s]"
     ]
    },
    {
     "name": "stdout",
     "output_type": "stream",
     "text": [
      "Match found!\n",
      "Match found!\n"
     ]
    },
    {
     "name": "stderr",
     "output_type": "stream",
     "text": [
      "\r",
      "346it [03:51,  1.70it/s]"
     ]
    },
    {
     "name": "stdout",
     "output_type": "stream",
     "text": [
      "Match found!\n"
     ]
    },
    {
     "name": "stderr",
     "output_type": "stream",
     "text": [
      "348it [03:53,  1.49it/s]"
     ]
    },
    {
     "name": "stdout",
     "output_type": "stream",
     "text": [
      "Match found!\n",
      "Match found!\n"
     ]
    },
    {
     "name": "stderr",
     "output_type": "stream",
     "text": [
      "\r",
      "349it [03:54,  1.78it/s]"
     ]
    },
    {
     "name": "stdout",
     "output_type": "stream",
     "text": [
      "Match found!\n"
     ]
    },
    {
     "name": "stderr",
     "output_type": "stream",
     "text": [
      "\r",
      "350it [03:55,  1.30it/s]"
     ]
    },
    {
     "name": "stdout",
     "output_type": "stream",
     "text": [
      "Match found!\n",
      "Match found!\n"
     ]
    },
    {
     "name": "stderr",
     "output_type": "stream",
     "text": [
      "353it [03:56,  2.00it/s]"
     ]
    },
    {
     "name": "stdout",
     "output_type": "stream",
     "text": [
      "Match found!\n",
      "Match found!\n"
     ]
    },
    {
     "name": "stderr",
     "output_type": "stream",
     "text": [
      "\r",
      "354it [03:56,  2.61it/s]"
     ]
    },
    {
     "name": "stdout",
     "output_type": "stream",
     "text": [
      "Match found!\n"
     ]
    },
    {
     "name": "stderr",
     "output_type": "stream",
     "text": [
      "356it [03:57,  2.20it/s]"
     ]
    },
    {
     "name": "stdout",
     "output_type": "stream",
     "text": [
      "Match found!\n",
      "Match found!\n"
     ]
    },
    {
     "name": "stderr",
     "output_type": "stream",
     "text": [
      "\r",
      "357it [03:57,  2.39it/s]"
     ]
    },
    {
     "name": "stdout",
     "output_type": "stream",
     "text": [
      "Match found!\n"
     ]
    },
    {
     "name": "stderr",
     "output_type": "stream",
     "text": [
      "\r",
      "358it [03:58,  2.34it/s]"
     ]
    },
    {
     "name": "stdout",
     "output_type": "stream",
     "text": [
      "Match found!\n"
     ]
    },
    {
     "name": "stderr",
     "output_type": "stream",
     "text": [
      "\r",
      "359it [03:59,  1.60it/s]"
     ]
    },
    {
     "name": "stdout",
     "output_type": "stream",
     "text": [
      "Match found!\n"
     ]
    },
    {
     "name": "stderr",
     "output_type": "stream",
     "text": [
      "\r",
      "360it [04:01,  1.00s/it]"
     ]
    },
    {
     "name": "stdout",
     "output_type": "stream",
     "text": [
      "Match found!\n"
     ]
    },
    {
     "name": "stderr",
     "output_type": "stream",
     "text": [
      "\r",
      "361it [04:02,  1.20s/it]"
     ]
    },
    {
     "name": "stdout",
     "output_type": "stream",
     "text": [
      "Match found!\n"
     ]
    },
    {
     "name": "stderr",
     "output_type": "stream",
     "text": [
      "363it [04:03,  1.44it/s]"
     ]
    },
    {
     "name": "stdout",
     "output_type": "stream",
     "text": [
      "Match found!\n",
      "Match found!\n"
     ]
    },
    {
     "name": "stderr",
     "output_type": "stream",
     "text": [
      "365it [04:03,  2.43it/s]"
     ]
    },
    {
     "name": "stdout",
     "output_type": "stream",
     "text": [
      "Match found!\n",
      "Match found!\n"
     ]
    },
    {
     "name": "stderr",
     "output_type": "stream",
     "text": [
      "\r",
      "366it [04:04,  1.62it/s]"
     ]
    },
    {
     "name": "stdout",
     "output_type": "stream",
     "text": [
      "Match found!\n"
     ]
    },
    {
     "name": "stderr",
     "output_type": "stream",
     "text": [
      "\r",
      "367it [04:05,  1.88it/s]"
     ]
    },
    {
     "name": "stdout",
     "output_type": "stream",
     "text": [
      "Match found!\n"
     ]
    },
    {
     "name": "stderr",
     "output_type": "stream",
     "text": [
      "\r",
      "368it [04:05,  2.20it/s]"
     ]
    },
    {
     "name": "stdout",
     "output_type": "stream",
     "text": [
      "Match found!\n"
     ]
    },
    {
     "name": "stderr",
     "output_type": "stream",
     "text": [
      "\r",
      "369it [04:07,  1.02s/it]"
     ]
    },
    {
     "name": "stdout",
     "output_type": "stream",
     "text": [
      "Match found!\n"
     ]
    },
    {
     "name": "stderr",
     "output_type": "stream",
     "text": [
      "\r",
      "370it [04:07,  1.22it/s]"
     ]
    },
    {
     "name": "stdout",
     "output_type": "stream",
     "text": [
      "Match found!\n"
     ]
    },
    {
     "name": "stderr",
     "output_type": "stream",
     "text": [
      "\r",
      "371it [04:08,  1.47it/s]"
     ]
    },
    {
     "name": "stdout",
     "output_type": "stream",
     "text": [
      "Match found!\n"
     ]
    },
    {
     "name": "stderr",
     "output_type": "stream",
     "text": [
      "\r",
      "372it [04:09,  1.29it/s]"
     ]
    },
    {
     "name": "stdout",
     "output_type": "stream",
     "text": [
      "Match found!\n"
     ]
    },
    {
     "name": "stderr",
     "output_type": "stream",
     "text": [
      "\r",
      "373it [04:09,  1.63it/s]"
     ]
    },
    {
     "name": "stdout",
     "output_type": "stream",
     "text": [
      "Match found!\n"
     ]
    },
    {
     "name": "stderr",
     "output_type": "stream",
     "text": [
      "\r",
      "374it [04:10,  1.21it/s]"
     ]
    },
    {
     "name": "stdout",
     "output_type": "stream",
     "text": [
      "Match found!\n"
     ]
    },
    {
     "name": "stderr",
     "output_type": "stream",
     "text": [
      "\r",
      "375it [04:11,  1.50it/s]"
     ]
    },
    {
     "name": "stdout",
     "output_type": "stream",
     "text": [
      "Match found!\n"
     ]
    },
    {
     "name": "stderr",
     "output_type": "stream",
     "text": [
      "\r",
      "376it [04:11,  1.59it/s]"
     ]
    },
    {
     "name": "stdout",
     "output_type": "stream",
     "text": [
      "Match found!\n"
     ]
    },
    {
     "name": "stderr",
     "output_type": "stream",
     "text": [
      "\r",
      "377it [04:12,  1.84it/s]"
     ]
    },
    {
     "name": "stdout",
     "output_type": "stream",
     "text": [
      "Match found!\n"
     ]
    },
    {
     "name": "stderr",
     "output_type": "stream",
     "text": [
      "379it [04:12,  2.68it/s]"
     ]
    },
    {
     "name": "stdout",
     "output_type": "stream",
     "text": [
      "Match found!\n",
      "Match found!\n"
     ]
    },
    {
     "name": "stderr",
     "output_type": "stream",
     "text": [
      "\r",
      "380it [04:12,  3.14it/s]"
     ]
    },
    {
     "name": "stdout",
     "output_type": "stream",
     "text": [
      "Match found!\n"
     ]
    },
    {
     "name": "stderr",
     "output_type": "stream",
     "text": [
      "382it [04:13,  3.13it/s]"
     ]
    },
    {
     "name": "stdout",
     "output_type": "stream",
     "text": [
      "Match found!\n",
      "Match found!\n"
     ]
    },
    {
     "name": "stderr",
     "output_type": "stream",
     "text": [
      "\r",
      "383it [04:13,  3.10it/s]"
     ]
    },
    {
     "name": "stdout",
     "output_type": "stream",
     "text": [
      "Match found!\n"
     ]
    },
    {
     "name": "stderr",
     "output_type": "stream",
     "text": [
      "\r",
      "384it [04:13,  3.32it/s]"
     ]
    },
    {
     "name": "stdout",
     "output_type": "stream",
     "text": [
      "Match found!\n"
     ]
    },
    {
     "name": "stderr",
     "output_type": "stream",
     "text": [
      "\r",
      "385it [04:15,  1.66it/s]"
     ]
    },
    {
     "name": "stdout",
     "output_type": "stream",
     "text": [
      "Match found!\n"
     ]
    },
    {
     "name": "stderr",
     "output_type": "stream",
     "text": [
      "\r",
      "386it [04:15,  1.94it/s]"
     ]
    },
    {
     "name": "stdout",
     "output_type": "stream",
     "text": [
      "Match found!\n"
     ]
    },
    {
     "name": "stderr",
     "output_type": "stream",
     "text": [
      "\r",
      "387it [04:15,  2.25it/s]"
     ]
    },
    {
     "name": "stdout",
     "output_type": "stream",
     "text": [
      "Match found!\n"
     ]
    },
    {
     "name": "stderr",
     "output_type": "stream",
     "text": [
      "\r",
      "388it [04:16,  2.33it/s]"
     ]
    },
    {
     "name": "stdout",
     "output_type": "stream",
     "text": [
      "Match found!\n"
     ]
    },
    {
     "name": "stderr",
     "output_type": "stream",
     "text": [
      "\r",
      "389it [04:18,  1.03it/s]"
     ]
    },
    {
     "name": "stdout",
     "output_type": "stream",
     "text": [
      "Match found!\n"
     ]
    },
    {
     "name": "stderr",
     "output_type": "stream",
     "text": [
      "\r",
      "390it [04:20,  1.32s/it]"
     ]
    },
    {
     "name": "stdout",
     "output_type": "stream",
     "text": [
      "Match found!\n"
     ]
    },
    {
     "name": "stderr",
     "output_type": "stream",
     "text": [
      "\r",
      "391it [04:30,  3.79s/it]"
     ]
    },
    {
     "name": "stdout",
     "output_type": "stream",
     "text": [
      "Match found!\n"
     ]
    },
    {
     "name": "stderr",
     "output_type": "stream",
     "text": [
      "\r",
      "392it [04:31,  3.05s/it]"
     ]
    },
    {
     "name": "stdout",
     "output_type": "stream",
     "text": [
      "Match found!\n"
     ]
    },
    {
     "name": "stderr",
     "output_type": "stream",
     "text": [
      "\r",
      "393it [04:32,  2.45s/it]"
     ]
    },
    {
     "name": "stdout",
     "output_type": "stream",
     "text": [
      "Match found!\n"
     ]
    },
    {
     "name": "stderr",
     "output_type": "stream",
     "text": [
      "\r",
      "394it [04:33,  1.95s/it]"
     ]
    },
    {
     "name": "stdout",
     "output_type": "stream",
     "text": [
      "Match found!\n"
     ]
    },
    {
     "name": "stderr",
     "output_type": "stream",
     "text": [
      "\r",
      "395it [04:33,  1.44s/it]"
     ]
    },
    {
     "name": "stdout",
     "output_type": "stream",
     "text": [
      "Match found!\n"
     ]
    },
    {
     "name": "stderr",
     "output_type": "stream",
     "text": [
      "397it [04:34,  1.23it/s]"
     ]
    },
    {
     "name": "stdout",
     "output_type": "stream",
     "text": [
      "Match found!\n",
      "Match found!\n"
     ]
    },
    {
     "name": "stderr",
     "output_type": "stream",
     "text": [
      "\r",
      "398it [04:34,  1.54it/s]"
     ]
    },
    {
     "name": "stdout",
     "output_type": "stream",
     "text": [
      "Match found!\n"
     ]
    },
    {
     "name": "stderr",
     "output_type": "stream",
     "text": [
      "\r",
      "399it [04:35,  1.20it/s]"
     ]
    },
    {
     "name": "stdout",
     "output_type": "stream",
     "text": [
      "Match found!\n"
     ]
    },
    {
     "name": "stderr",
     "output_type": "stream",
     "text": [
      "\r",
      "400it [04:36,  1.03it/s]"
     ]
    },
    {
     "name": "stdout",
     "output_type": "stream",
     "text": [
      "Match found!\n"
     ]
    },
    {
     "name": "stderr",
     "output_type": "stream",
     "text": [
      "\r",
      "401it [04:37,  1.33it/s]"
     ]
    },
    {
     "name": "stdout",
     "output_type": "stream",
     "text": [
      "Match found!\n"
     ]
    },
    {
     "name": "stderr",
     "output_type": "stream",
     "text": [
      "\r",
      "402it [04:37,  1.46it/s]"
     ]
    },
    {
     "name": "stdout",
     "output_type": "stream",
     "text": [
      "Match found!\n"
     ]
    },
    {
     "name": "stderr",
     "output_type": "stream",
     "text": [
      "\r",
      "403it [04:38,  1.42it/s]"
     ]
    },
    {
     "name": "stdout",
     "output_type": "stream",
     "text": [
      "Match found!\n"
     ]
    },
    {
     "name": "stderr",
     "output_type": "stream",
     "text": [
      "\r",
      "404it [04:38,  1.52it/s]"
     ]
    },
    {
     "name": "stdout",
     "output_type": "stream",
     "text": [
      "Match found!\n"
     ]
    },
    {
     "name": "stderr",
     "output_type": "stream",
     "text": [
      "406it [04:39,  2.16it/s]"
     ]
    },
    {
     "name": "stdout",
     "output_type": "stream",
     "text": [
      "Match found!\n",
      "Match found!\n"
     ]
    },
    {
     "name": "stderr",
     "output_type": "stream",
     "text": [
      "\r",
      "407it [04:39,  2.80it/s]"
     ]
    },
    {
     "name": "stdout",
     "output_type": "stream",
     "text": [
      "Match found!\n",
      "Match found!\n"
     ]
    },
    {
     "name": "stderr",
     "output_type": "stream",
     "text": [
      "\r",
      "409it [04:40,  2.81it/s]"
     ]
    },
    {
     "name": "stdout",
     "output_type": "stream",
     "text": [
      "Match found!\n"
     ]
    },
    {
     "name": "stderr",
     "output_type": "stream",
     "text": [
      "411it [04:40,  3.17it/s]"
     ]
    },
    {
     "name": "stdout",
     "output_type": "stream",
     "text": [
      "Match found!\n",
      "Match found!\n"
     ]
    },
    {
     "name": "stderr",
     "output_type": "stream",
     "text": [
      "\r",
      "412it [04:42,  1.27it/s]"
     ]
    },
    {
     "name": "stdout",
     "output_type": "stream",
     "text": [
      "Match found!\n"
     ]
    },
    {
     "name": "stderr",
     "output_type": "stream",
     "text": [
      "\r",
      "413it [04:43,  1.58it/s]"
     ]
    },
    {
     "name": "stdout",
     "output_type": "stream",
     "text": [
      "Match found!\n"
     ]
    },
    {
     "name": "stderr",
     "output_type": "stream",
     "text": [
      "\r",
      "414it [04:48,  1.96s/it]"
     ]
    },
    {
     "name": "stdout",
     "output_type": "stream",
     "text": [
      "Match found!\n"
     ]
    },
    {
     "name": "stderr",
     "output_type": "stream",
     "text": [
      "\r",
      "415it [04:51,  2.27s/it]"
     ]
    },
    {
     "name": "stdout",
     "output_type": "stream",
     "text": [
      "Match found!\n"
     ]
    },
    {
     "name": "stderr",
     "output_type": "stream",
     "text": [
      "417it [04:51,  1.22s/it]"
     ]
    },
    {
     "name": "stdout",
     "output_type": "stream",
     "text": [
      "Match found!\n",
      "Match found!\n",
      "Match found!\n"
     ]
    },
    {
     "name": "stderr",
     "output_type": "stream",
     "text": [
      "\r",
      "419it [04:51,  1.09it/s]"
     ]
    },
    {
     "name": "stdout",
     "output_type": "stream",
     "text": [
      "Match found!\n"
     ]
    },
    {
     "name": "stderr",
     "output_type": "stream",
     "text": [
      "421it [04:52,  1.73it/s]"
     ]
    },
    {
     "name": "stdout",
     "output_type": "stream",
     "text": [
      "Match found!\n",
      "Match found!\n"
     ]
    },
    {
     "name": "stderr",
     "output_type": "stream",
     "text": [
      "\r",
      "422it [04:52,  2.14it/s]"
     ]
    },
    {
     "name": "stdout",
     "output_type": "stream",
     "text": [
      "Match found!\n"
     ]
    },
    {
     "name": "stderr",
     "output_type": "stream",
     "text": [
      "\r",
      "423it [04:54,  1.28it/s]"
     ]
    },
    {
     "name": "stdout",
     "output_type": "stream",
     "text": [
      "Match found!\n"
     ]
    },
    {
     "name": "stderr",
     "output_type": "stream",
     "text": [
      "\r",
      "424it [04:54,  1.59it/s]"
     ]
    },
    {
     "name": "stdout",
     "output_type": "stream",
     "text": [
      "Match found!\n"
     ]
    },
    {
     "name": "stderr",
     "output_type": "stream",
     "text": [
      "\r",
      "425it [04:56,  1.03it/s]"
     ]
    },
    {
     "name": "stdout",
     "output_type": "stream",
     "text": [
      "Match found!\n"
     ]
    },
    {
     "name": "stderr",
     "output_type": "stream",
     "text": [
      "\r",
      "426it [04:58,  1.48s/it]"
     ]
    },
    {
     "name": "stdout",
     "output_type": "stream",
     "text": [
      "Match found!\n"
     ]
    },
    {
     "name": "stderr",
     "output_type": "stream",
     "text": [
      "\r",
      "427it [04:59,  1.26s/it]"
     ]
    },
    {
     "name": "stdout",
     "output_type": "stream",
     "text": [
      "Match found!\n"
     ]
    },
    {
     "name": "stderr",
     "output_type": "stream",
     "text": [
      "\r",
      "428it [05:00,  1.10s/it]"
     ]
    },
    {
     "name": "stdout",
     "output_type": "stream",
     "text": [
      "Match found!\n"
     ]
    },
    {
     "name": "stderr",
     "output_type": "stream",
     "text": [
      "\r",
      "429it [05:03,  1.70s/it]"
     ]
    },
    {
     "name": "stdout",
     "output_type": "stream",
     "text": [
      "Match found!\n",
      "Match found!\n"
     ]
    },
    {
     "name": "stderr",
     "output_type": "stream",
     "text": [
      "\r",
      "431it [05:04,  1.34s/it]"
     ]
    },
    {
     "name": "stdout",
     "output_type": "stream",
     "text": [
      "Match found!\n"
     ]
    },
    {
     "name": "stderr",
     "output_type": "stream",
     "text": [
      "\r",
      "432it [05:04,  1.01s/it]"
     ]
    },
    {
     "name": "stdout",
     "output_type": "stream",
     "text": [
      "Match found!\n"
     ]
    },
    {
     "name": "stderr",
     "output_type": "stream",
     "text": [
      "\r",
      "433it [05:05,  1.00it/s]"
     ]
    },
    {
     "name": "stdout",
     "output_type": "stream",
     "text": [
      "Match found!\n"
     ]
    },
    {
     "name": "stderr",
     "output_type": "stream",
     "text": [
      "\r",
      "434it [05:11,  2.31s/it]"
     ]
    },
    {
     "name": "stdout",
     "output_type": "stream",
     "text": [
      "Match found!\n"
     ]
    },
    {
     "name": "stderr",
     "output_type": "stream",
     "text": [
      "\r",
      "435it [05:11,  1.74s/it]"
     ]
    },
    {
     "name": "stdout",
     "output_type": "stream",
     "text": [
      "Match found!\n",
      "Match found!\n"
     ]
    },
    {
     "name": "stderr",
     "output_type": "stream",
     "text": [
      "\r",
      "437it [05:12,  1.35s/it]"
     ]
    },
    {
     "name": "stdout",
     "output_type": "stream",
     "text": [
      "Match found!\n"
     ]
    },
    {
     "name": "stderr",
     "output_type": "stream",
     "text": [
      "\r",
      "438it [05:12,  1.02s/it]"
     ]
    },
    {
     "name": "stdout",
     "output_type": "stream",
     "text": [
      "Match found!\n"
     ]
    },
    {
     "name": "stderr",
     "output_type": "stream",
     "text": [
      "\r",
      "439it [05:13,  1.16it/s]"
     ]
    },
    {
     "name": "stdout",
     "output_type": "stream",
     "text": [
      "Match found!\n"
     ]
    },
    {
     "name": "stderr",
     "output_type": "stream",
     "text": [
      "\r",
      "440it [05:14,  1.13it/s]"
     ]
    },
    {
     "name": "stdout",
     "output_type": "stream",
     "text": [
      "Match found!\n"
     ]
    },
    {
     "name": "stderr",
     "output_type": "stream",
     "text": [
      "\r",
      "441it [05:14,  1.24it/s]"
     ]
    },
    {
     "name": "stdout",
     "output_type": "stream",
     "text": [
      "Match found!\n"
     ]
    },
    {
     "name": "stderr",
     "output_type": "stream",
     "text": [
      "\r",
      "442it [05:14,  1.58it/s]"
     ]
    },
    {
     "name": "stdout",
     "output_type": "stream",
     "text": [
      "Match found!\n"
     ]
    },
    {
     "name": "stderr",
     "output_type": "stream",
     "text": [
      "444it [05:15,  2.07it/s]"
     ]
    },
    {
     "name": "stdout",
     "output_type": "stream",
     "text": [
      "Match found!\n",
      "Match found!\n"
     ]
    },
    {
     "name": "stderr",
     "output_type": "stream",
     "text": [
      "446it [05:16,  2.72it/s]"
     ]
    },
    {
     "name": "stdout",
     "output_type": "stream",
     "text": [
      "Match found!\n",
      "Match found!\n"
     ]
    },
    {
     "name": "stderr",
     "output_type": "stream",
     "text": [
      "448it [05:16,  3.73it/s]"
     ]
    },
    {
     "name": "stdout",
     "output_type": "stream",
     "text": [
      "Match found!\n"
     ]
    },
    {
     "name": "stderr",
     "output_type": "stream",
     "text": [
      "\r",
      "449it [05:16,  4.36it/s]"
     ]
    },
    {
     "name": "stdout",
     "output_type": "stream",
     "text": [
      "Match found!\n",
      "Match found!\n"
     ]
    },
    {
     "name": "stderr",
     "output_type": "stream",
     "text": [
      "451it [05:17,  3.26it/s]"
     ]
    },
    {
     "name": "stdout",
     "output_type": "stream",
     "text": [
      "Match found!\n",
      "Match found!\n"
     ]
    },
    {
     "name": "stderr",
     "output_type": "stream",
     "text": [
      "453it [05:18,  2.43it/s]"
     ]
    },
    {
     "name": "stdout",
     "output_type": "stream",
     "text": [
      "Match found!\n",
      "Match found!\n"
     ]
    },
    {
     "name": "stderr",
     "output_type": "stream",
     "text": [
      "455it [05:19,  3.03it/s]"
     ]
    },
    {
     "name": "stdout",
     "output_type": "stream",
     "text": [
      "Match found!\n",
      "Match found!\n"
     ]
    },
    {
     "name": "stderr",
     "output_type": "stream",
     "text": [
      "\r",
      "456it [05:20,  1.92it/s]"
     ]
    },
    {
     "name": "stdout",
     "output_type": "stream",
     "text": [
      "Match found!\n"
     ]
    },
    {
     "name": "stderr",
     "output_type": "stream",
     "text": [
      "\r",
      "457it [05:21,  1.68it/s]"
     ]
    },
    {
     "name": "stdout",
     "output_type": "stream",
     "text": [
      "Match found!\n"
     ]
    },
    {
     "name": "stderr",
     "output_type": "stream",
     "text": [
      "\r",
      "458it [05:21,  1.66it/s]"
     ]
    },
    {
     "name": "stdout",
     "output_type": "stream",
     "text": [
      "Match found!\n"
     ]
    },
    {
     "name": "stderr",
     "output_type": "stream",
     "text": [
      "\r",
      "459it [05:22,  1.87it/s]"
     ]
    },
    {
     "name": "stdout",
     "output_type": "stream",
     "text": [
      "Match found!\n"
     ]
    },
    {
     "name": "stderr",
     "output_type": "stream",
     "text": [
      "\r",
      "460it [05:23,  1.44it/s]"
     ]
    },
    {
     "name": "stdout",
     "output_type": "stream",
     "text": [
      "Match found!\n"
     ]
    },
    {
     "name": "stderr",
     "output_type": "stream",
     "text": [
      "\r",
      "461it [05:23,  1.65it/s]"
     ]
    },
    {
     "name": "stdout",
     "output_type": "stream",
     "text": [
      "Match found!\n"
     ]
    },
    {
     "name": "stderr",
     "output_type": "stream",
     "text": [
      "\r",
      "462it [05:26,  1.30s/it]"
     ]
    },
    {
     "name": "stdout",
     "output_type": "stream",
     "text": [
      "Match found!\n"
     ]
    },
    {
     "name": "stderr",
     "output_type": "stream",
     "text": [
      "\r",
      "463it [05:28,  1.45s/it]"
     ]
    },
    {
     "name": "stdout",
     "output_type": "stream",
     "text": [
      "Match found!\n"
     ]
    },
    {
     "name": "stderr",
     "output_type": "stream",
     "text": [
      "\r",
      "464it [05:28,  1.20s/it]"
     ]
    },
    {
     "name": "stdout",
     "output_type": "stream",
     "text": [
      "Match found!\n"
     ]
    },
    {
     "name": "stderr",
     "output_type": "stream",
     "text": [
      "\r",
      "465it [05:29,  1.06s/it]"
     ]
    },
    {
     "name": "stdout",
     "output_type": "stream",
     "text": [
      "Match found!\n"
     ]
    },
    {
     "name": "stderr",
     "output_type": "stream",
     "text": [
      "\r",
      "466it [05:30,  1.14it/s]"
     ]
    },
    {
     "name": "stdout",
     "output_type": "stream",
     "text": [
      "Match found!\n"
     ]
    },
    {
     "name": "stderr",
     "output_type": "stream",
     "text": [
      "\r",
      "467it [05:30,  1.21it/s]"
     ]
    },
    {
     "name": "stdout",
     "output_type": "stream",
     "text": [
      "Match found!\n",
      "Match found!\n"
     ]
    },
    {
     "name": "stderr",
     "output_type": "stream",
     "text": [
      "\r",
      "469it [05:30,  1.62it/s]"
     ]
    },
    {
     "name": "stdout",
     "output_type": "stream",
     "text": [
      "Match found!\n",
      "Match found!\n"
     ]
    },
    {
     "name": "stderr",
     "output_type": "stream",
     "text": [
      "472it [05:31,  2.34it/s]"
     ]
    },
    {
     "name": "stdout",
     "output_type": "stream",
     "text": [
      "Match found!\n",
      "Match found!\n"
     ]
    },
    {
     "name": "stderr",
     "output_type": "stream",
     "text": [
      "474it [05:32,  3.35it/s]"
     ]
    },
    {
     "name": "stdout",
     "output_type": "stream",
     "text": [
      "Match found!\n",
      "Match found!\n"
     ]
    },
    {
     "name": "stderr",
     "output_type": "stream",
     "text": [
      "\r",
      "475it [05:32,  4.04it/s]"
     ]
    },
    {
     "name": "stdout",
     "output_type": "stream",
     "text": [
      "Match found!\n"
     ]
    },
    {
     "name": "stderr",
     "output_type": "stream",
     "text": [
      "\r",
      "476it [05:33,  2.49it/s]"
     ]
    },
    {
     "name": "stdout",
     "output_type": "stream",
     "text": [
      "Match found!\n",
      "Match found!\n"
     ]
    },
    {
     "name": "stderr",
     "output_type": "stream",
     "text": [
      "\r",
      "478it [05:33,  2.70it/s]"
     ]
    },
    {
     "name": "stdout",
     "output_type": "stream",
     "text": [
      "Match found!\n"
     ]
    },
    {
     "name": "stderr",
     "output_type": "stream",
     "text": [
      "480it [05:34,  3.10it/s]"
     ]
    },
    {
     "name": "stdout",
     "output_type": "stream",
     "text": [
      "Match found!\n",
      "Match found!\n"
     ]
    },
    {
     "name": "stderr",
     "output_type": "stream",
     "text": [
      "\r",
      "481it [05:35,  1.92it/s]"
     ]
    },
    {
     "name": "stdout",
     "output_type": "stream",
     "text": [
      "Match found!\n"
     ]
    },
    {
     "name": "stderr",
     "output_type": "stream",
     "text": [
      "\r",
      "482it [05:36,  1.81it/s]"
     ]
    },
    {
     "name": "stdout",
     "output_type": "stream",
     "text": [
      "Match found!\n"
     ]
    },
    {
     "name": "stderr",
     "output_type": "stream",
     "text": [
      "\r",
      "483it [05:36,  1.81it/s]"
     ]
    },
    {
     "name": "stdout",
     "output_type": "stream",
     "text": [
      "Match found!\n"
     ]
    },
    {
     "name": "stderr",
     "output_type": "stream",
     "text": [
      "\r",
      "484it [05:37,  1.50it/s]"
     ]
    },
    {
     "name": "stdout",
     "output_type": "stream",
     "text": [
      "Match found!\n"
     ]
    },
    {
     "name": "stderr",
     "output_type": "stream",
     "text": [
      "\r",
      "485it [05:38,  1.55it/s]"
     ]
    },
    {
     "name": "stdout",
     "output_type": "stream",
     "text": [
      "Match found!\n"
     ]
    },
    {
     "name": "stderr",
     "output_type": "stream",
     "text": [
      "\r",
      "486it [05:38,  1.81it/s]"
     ]
    },
    {
     "name": "stdout",
     "output_type": "stream",
     "text": [
      "Match found!\n"
     ]
    },
    {
     "name": "stderr",
     "output_type": "stream",
     "text": [
      "488it [05:38,  2.60it/s]"
     ]
    },
    {
     "name": "stdout",
     "output_type": "stream",
     "text": [
      "Match found!\n",
      "Match found!\n"
     ]
    },
    {
     "name": "stderr",
     "output_type": "stream",
     "text": [
      "\r",
      "489it [05:40,  1.43it/s]"
     ]
    },
    {
     "name": "stdout",
     "output_type": "stream",
     "text": [
      "Match found!\n"
     ]
    },
    {
     "name": "stderr",
     "output_type": "stream",
     "text": [
      "\r",
      "490it [05:40,  1.76it/s]"
     ]
    },
    {
     "name": "stdout",
     "output_type": "stream",
     "text": [
      "Match found!\n"
     ]
    },
    {
     "name": "stderr",
     "output_type": "stream",
     "text": [
      "492it [05:41,  2.53it/s]"
     ]
    },
    {
     "name": "stdout",
     "output_type": "stream",
     "text": [
      "Match found!\n",
      "Match found!\n"
     ]
    },
    {
     "name": "stderr",
     "output_type": "stream",
     "text": [
      "\r",
      "493it [05:42,  1.80it/s]"
     ]
    },
    {
     "name": "stdout",
     "output_type": "stream",
     "text": [
      "Match found!\n"
     ]
    },
    {
     "name": "stderr",
     "output_type": "stream",
     "text": [
      "\r",
      "494it [05:42,  1.93it/s]"
     ]
    },
    {
     "name": "stdout",
     "output_type": "stream",
     "text": [
      "Match found!\n"
     ]
    },
    {
     "name": "stderr",
     "output_type": "stream",
     "text": [
      "\r",
      "495it [05:44,  1.06s/it]"
     ]
    },
    {
     "name": "stdout",
     "output_type": "stream",
     "text": [
      "Match found!\n"
     ]
    },
    {
     "name": "stderr",
     "output_type": "stream",
     "text": [
      "\r",
      "496it [05:45,  1.11it/s]"
     ]
    },
    {
     "name": "stdout",
     "output_type": "stream",
     "text": [
      "Match found!\n"
     ]
    },
    {
     "name": "stderr",
     "output_type": "stream",
     "text": [
      "498it [05:47,  1.16it/s]"
     ]
    },
    {
     "name": "stdout",
     "output_type": "stream",
     "text": [
      "Match found!\n",
      "Match found!\n"
     ]
    },
    {
     "name": "stderr",
     "output_type": "stream",
     "text": [
      "\r",
      "499it [05:50,  1.52s/it]"
     ]
    },
    {
     "name": "stdout",
     "output_type": "stream",
     "text": [
      "Match found!\n"
     ]
    },
    {
     "name": "stderr",
     "output_type": "stream",
     "text": [
      "\r",
      "500it [05:52,  1.61s/it]"
     ]
    },
    {
     "name": "stdout",
     "output_type": "stream",
     "text": [
      "Match found!\n"
     ]
    },
    {
     "name": "stderr",
     "output_type": "stream",
     "text": [
      "\r",
      "501it [05:52,  1.21s/it]"
     ]
    },
    {
     "name": "stdout",
     "output_type": "stream",
     "text": [
      "Match found!\n"
     ]
    },
    {
     "name": "stderr",
     "output_type": "stream",
     "text": [
      "\r",
      "502it [05:54,  1.53s/it]"
     ]
    },
    {
     "name": "stdout",
     "output_type": "stream",
     "text": [
      "Match found!\n"
     ]
    },
    {
     "name": "stderr",
     "output_type": "stream",
     "text": [
      "\r",
      "503it [05:55,  1.37s/it]"
     ]
    },
    {
     "name": "stdout",
     "output_type": "stream",
     "text": [
      "Match found!\n"
     ]
    },
    {
     "name": "stderr",
     "output_type": "stream",
     "text": [
      "505it [05:57,  1.08s/it]"
     ]
    },
    {
     "name": "stdout",
     "output_type": "stream",
     "text": [
      "Match found!\n",
      "Match found!\n"
     ]
    },
    {
     "name": "stderr",
     "output_type": "stream",
     "text": [
      "\r",
      "506it [05:57,  1.20it/s]"
     ]
    },
    {
     "name": "stdout",
     "output_type": "stream",
     "text": [
      "Match found!\n"
     ]
    },
    {
     "name": "stderr",
     "output_type": "stream",
     "text": [
      "\r",
      "507it [05:58,  1.10it/s]"
     ]
    },
    {
     "name": "stdout",
     "output_type": "stream",
     "text": [
      "Match found!\n",
      "Match found!\n"
     ]
    },
    {
     "name": "stderr",
     "output_type": "stream",
     "text": [
      "\r",
      "509it [05:59,  1.44it/s]"
     ]
    },
    {
     "name": "stdout",
     "output_type": "stream",
     "text": [
      "Match found!\n"
     ]
    },
    {
     "name": "stderr",
     "output_type": "stream",
     "text": [
      "\r",
      "510it [05:59,  1.61it/s]"
     ]
    },
    {
     "name": "stdout",
     "output_type": "stream",
     "text": [
      "Match found!\n"
     ]
    },
    {
     "name": "stderr",
     "output_type": "stream",
     "text": [
      "512it [06:00,  2.25it/s]"
     ]
    },
    {
     "name": "stdout",
     "output_type": "stream",
     "text": [
      "Match found!\n",
      "Match found!\n"
     ]
    },
    {
     "name": "stderr",
     "output_type": "stream",
     "text": [
      "514it [06:00,  3.44it/s]"
     ]
    },
    {
     "name": "stdout",
     "output_type": "stream",
     "text": [
      "Match found!\n",
      "Match found!\n"
     ]
    },
    {
     "name": "stderr",
     "output_type": "stream",
     "text": [
      "\r",
      "515it [06:01,  2.53it/s]"
     ]
    },
    {
     "name": "stdout",
     "output_type": "stream",
     "text": [
      "Match found!\n"
     ]
    },
    {
     "name": "stderr",
     "output_type": "stream",
     "text": [
      "\r",
      "516it [06:02,  1.36it/s]"
     ]
    },
    {
     "name": "stdout",
     "output_type": "stream",
     "text": [
      "Match found!\n"
     ]
    },
    {
     "name": "stderr",
     "output_type": "stream",
     "text": [
      "\r",
      "517it [06:03,  1.29it/s]"
     ]
    },
    {
     "name": "stdout",
     "output_type": "stream",
     "text": [
      "Match found!\n"
     ]
    },
    {
     "name": "stderr",
     "output_type": "stream",
     "text": [
      "519it [06:04,  1.74it/s]"
     ]
    },
    {
     "name": "stdout",
     "output_type": "stream",
     "text": [
      "Match found!\n",
      "Match found!\n"
     ]
    },
    {
     "name": "stderr",
     "output_type": "stream",
     "text": [
      "\r",
      "520it [06:04,  1.87it/s]"
     ]
    },
    {
     "name": "stdout",
     "output_type": "stream",
     "text": [
      "Match found!\n"
     ]
    },
    {
     "name": "stderr",
     "output_type": "stream",
     "text": [
      "\r",
      "521it [06:05,  1.72it/s]"
     ]
    },
    {
     "name": "stdout",
     "output_type": "stream",
     "text": [
      "Match found!\n"
     ]
    },
    {
     "name": "stderr",
     "output_type": "stream",
     "text": [
      "\r",
      "522it [06:07,  1.17it/s]"
     ]
    },
    {
     "name": "stdout",
     "output_type": "stream",
     "text": [
      "Match found!\n",
      "Match found!\n"
     ]
    },
    {
     "name": "stderr",
     "output_type": "stream",
     "text": [
      "\r",
      "524it [06:07,  1.58it/s]"
     ]
    },
    {
     "name": "stdout",
     "output_type": "stream",
     "text": [
      "Match found!\n"
     ]
    },
    {
     "name": "stderr",
     "output_type": "stream",
     "text": [
      "\r",
      "525it [06:08,  1.16it/s]"
     ]
    },
    {
     "name": "stdout",
     "output_type": "stream",
     "text": [
      "Match found!\n"
     ]
    },
    {
     "name": "stderr",
     "output_type": "stream",
     "text": [
      "\r",
      "526it [06:09,  1.07it/s]"
     ]
    },
    {
     "name": "stdout",
     "output_type": "stream",
     "text": [
      "Match found!\n"
     ]
    },
    {
     "name": "stderr",
     "output_type": "stream",
     "text": [
      "528it [06:11,  1.33it/s]"
     ]
    },
    {
     "name": "stdout",
     "output_type": "stream",
     "text": [
      "Match found!\n",
      "Match found!\n"
     ]
    },
    {
     "name": "stderr",
     "output_type": "stream",
     "text": [
      "531it [06:11,  2.32it/s]"
     ]
    },
    {
     "name": "stdout",
     "output_type": "stream",
     "text": [
      "Match found!\n",
      "Match found!\n",
      "Match found!\n"
     ]
    },
    {
     "name": "stderr",
     "output_type": "stream",
     "text": [
      "\r",
      "532it [06:12,  2.21it/s]"
     ]
    },
    {
     "name": "stdout",
     "output_type": "stream",
     "text": [
      "Match found!\n"
     ]
    },
    {
     "name": "stderr",
     "output_type": "stream",
     "text": [
      "\r",
      "533it [06:12,  2.10it/s]"
     ]
    },
    {
     "name": "stdout",
     "output_type": "stream",
     "text": [
      "Match found!\n"
     ]
    },
    {
     "name": "stderr",
     "output_type": "stream",
     "text": [
      "\r",
      "534it [06:13,  1.92it/s]"
     ]
    },
    {
     "name": "stdout",
     "output_type": "stream",
     "text": [
      "Match found!\n"
     ]
    },
    {
     "name": "stderr",
     "output_type": "stream",
     "text": [
      "\r",
      "535it [06:13,  1.66it/s]"
     ]
    },
    {
     "name": "stdout",
     "output_type": "stream",
     "text": [
      "Match found!\n"
     ]
    },
    {
     "name": "stderr",
     "output_type": "stream",
     "text": [
      "\r",
      "536it [06:14,  1.77it/s]"
     ]
    },
    {
     "name": "stdout",
     "output_type": "stream",
     "text": [
      "Match found!\n"
     ]
    },
    {
     "name": "stderr",
     "output_type": "stream",
     "text": [
      "\r",
      "537it [06:15,  1.67it/s]"
     ]
    },
    {
     "name": "stdout",
     "output_type": "stream",
     "text": [
      "Match found!\n"
     ]
    },
    {
     "name": "stderr",
     "output_type": "stream",
     "text": [
      "\r",
      "538it [06:15,  1.48it/s]"
     ]
    },
    {
     "name": "stdout",
     "output_type": "stream",
     "text": [
      "Match found!\n"
     ]
    },
    {
     "name": "stderr",
     "output_type": "stream",
     "text": [
      "\r",
      "539it [06:16,  1.73it/s]"
     ]
    },
    {
     "name": "stdout",
     "output_type": "stream",
     "text": [
      "Match found!\n"
     ]
    },
    {
     "name": "stderr",
     "output_type": "stream",
     "text": [
      "\r",
      "540it [06:17,  1.64it/s]"
     ]
    },
    {
     "name": "stdout",
     "output_type": "stream",
     "text": [
      "Match found!\n"
     ]
    },
    {
     "name": "stderr",
     "output_type": "stream",
     "text": [
      "\r",
      "541it [06:17,  1.74it/s]"
     ]
    },
    {
     "name": "stdout",
     "output_type": "stream",
     "text": [
      "Match found!\n"
     ]
    },
    {
     "name": "stderr",
     "output_type": "stream",
     "text": [
      "\r",
      "542it [06:17,  1.90it/s]"
     ]
    },
    {
     "name": "stdout",
     "output_type": "stream",
     "text": [
      "Match found!\n"
     ]
    },
    {
     "name": "stderr",
     "output_type": "stream",
     "text": [
      "\r",
      "543it [06:18,  1.96it/s]"
     ]
    },
    {
     "name": "stdout",
     "output_type": "stream",
     "text": [
      "Match found!\n"
     ]
    },
    {
     "name": "stderr",
     "output_type": "stream",
     "text": [
      "\r",
      "544it [06:18,  2.10it/s]"
     ]
    },
    {
     "name": "stdout",
     "output_type": "stream",
     "text": [
      "Match found!\n"
     ]
    },
    {
     "name": "stderr",
     "output_type": "stream",
     "text": [
      "\r",
      "545it [06:20,  1.23it/s]"
     ]
    },
    {
     "name": "stdout",
     "output_type": "stream",
     "text": [
      "Match found!\n"
     ]
    },
    {
     "name": "stderr",
     "output_type": "stream",
     "text": [
      "\r",
      "546it [06:20,  1.42it/s]"
     ]
    },
    {
     "name": "stdout",
     "output_type": "stream",
     "text": [
      "Match found!\n"
     ]
    },
    {
     "name": "stderr",
     "output_type": "stream",
     "text": [
      "548it [06:21,  2.03it/s]"
     ]
    },
    {
     "name": "stdout",
     "output_type": "stream",
     "text": [
      "Match found!\n",
      "Match found!\n"
     ]
    },
    {
     "name": "stderr",
     "output_type": "stream",
     "text": [
      "\r",
      "549it [06:21,  2.42it/s]"
     ]
    },
    {
     "name": "stdout",
     "output_type": "stream",
     "text": [
      "Match found!\n"
     ]
    },
    {
     "name": "stderr",
     "output_type": "stream",
     "text": [
      "\r",
      "550it [06:22,  2.10it/s]"
     ]
    },
    {
     "name": "stdout",
     "output_type": "stream",
     "text": [
      "Match found!\n"
     ]
    },
    {
     "name": "stderr",
     "output_type": "stream",
     "text": [
      "552it [06:22,  2.75it/s]"
     ]
    },
    {
     "name": "stdout",
     "output_type": "stream",
     "text": [
      "Match found!\n",
      "Match found!\n"
     ]
    },
    {
     "name": "stderr",
     "output_type": "stream",
     "text": [
      "554it [06:23,  3.73it/s]"
     ]
    },
    {
     "name": "stdout",
     "output_type": "stream",
     "text": [
      "Match found!\n",
      "Match found!\n",
      "Match found!\n"
     ]
    },
    {
     "name": "stderr",
     "output_type": "stream",
     "text": [
      "\r",
      "556it [06:23,  3.76it/s]"
     ]
    },
    {
     "name": "stdout",
     "output_type": "stream",
     "text": [
      "Match found!\n"
     ]
    },
    {
     "name": "stderr",
     "output_type": "stream",
     "text": [
      "558it [06:24,  3.84it/s]"
     ]
    },
    {
     "name": "stdout",
     "output_type": "stream",
     "text": [
      "Match found!\n"
     ]
    },
    {
     "name": "stderr",
     "output_type": "stream",
     "text": [
      "\r",
      "559it [06:24,  4.12it/s]"
     ]
    },
    {
     "name": "stdout",
     "output_type": "stream",
     "text": [
      "Match found!\n",
      "Match found!\n"
     ]
    },
    {
     "name": "stderr",
     "output_type": "stream",
     "text": [
      "\r",
      "560it [06:24,  3.31it/s]"
     ]
    },
    {
     "name": "stdout",
     "output_type": "stream",
     "text": [
      "Match found!\n"
     ]
    },
    {
     "name": "stderr",
     "output_type": "stream",
     "text": [
      "\r",
      "561it [06:25,  2.72it/s]"
     ]
    },
    {
     "name": "stdout",
     "output_type": "stream",
     "text": [
      "Match found!\n"
     ]
    },
    {
     "name": "stderr",
     "output_type": "stream",
     "text": [
      "\r",
      "562it [06:25,  2.42it/s]"
     ]
    },
    {
     "name": "stdout",
     "output_type": "stream",
     "text": [
      "Match found!\n"
     ]
    },
    {
     "name": "stderr",
     "output_type": "stream",
     "text": [
      "\r",
      "563it [06:26,  2.12it/s]"
     ]
    },
    {
     "name": "stdout",
     "output_type": "stream",
     "text": [
      "Match found!\n"
     ]
    },
    {
     "name": "stderr",
     "output_type": "stream",
     "text": [
      "\r",
      "564it [06:27,  2.12it/s]"
     ]
    },
    {
     "name": "stdout",
     "output_type": "stream",
     "text": [
      "Match found!\n"
     ]
    },
    {
     "name": "stderr",
     "output_type": "stream",
     "text": [
      "\r",
      "565it [06:27,  2.07it/s]"
     ]
    },
    {
     "name": "stdout",
     "output_type": "stream",
     "text": [
      "Match found!\n"
     ]
    },
    {
     "name": "stderr",
     "output_type": "stream",
     "text": [
      "\r",
      "566it [06:28,  1.84it/s]"
     ]
    },
    {
     "name": "stdout",
     "output_type": "stream",
     "text": [
      "Match found!\n"
     ]
    },
    {
     "name": "stderr",
     "output_type": "stream",
     "text": [
      "\r",
      "567it [06:30,  1.15s/it]"
     ]
    },
    {
     "name": "stdout",
     "output_type": "stream",
     "text": [
      "Match found!\n"
     ]
    },
    {
     "name": "stderr",
     "output_type": "stream",
     "text": [
      "\r",
      "568it [06:31,  1.07it/s]"
     ]
    },
    {
     "name": "stdout",
     "output_type": "stream",
     "text": [
      "Match found!\n"
     ]
    },
    {
     "name": "stderr",
     "output_type": "stream",
     "text": [
      "\r",
      "569it [06:31,  1.37it/s]"
     ]
    },
    {
     "name": "stdout",
     "output_type": "stream",
     "text": [
      "Match found!\n"
     ]
    },
    {
     "name": "stderr",
     "output_type": "stream",
     "text": [
      "\r",
      "570it [06:31,  1.72it/s]"
     ]
    },
    {
     "name": "stdout",
     "output_type": "stream",
     "text": [
      "Match found!\n"
     ]
    },
    {
     "name": "stderr",
     "output_type": "stream",
     "text": [
      "\r",
      "571it [06:32,  1.95it/s]"
     ]
    },
    {
     "name": "stdout",
     "output_type": "stream",
     "text": [
      "Match found!\n"
     ]
    },
    {
     "name": "stderr",
     "output_type": "stream",
     "text": [
      "573it [06:32,  2.74it/s]"
     ]
    },
    {
     "name": "stdout",
     "output_type": "stream",
     "text": [
      "Match found!\n",
      "Match found!\n"
     ]
    },
    {
     "name": "stderr",
     "output_type": "stream",
     "text": [
      "\r",
      "574it [06:33,  2.55it/s]"
     ]
    },
    {
     "name": "stdout",
     "output_type": "stream",
     "text": [
      "Match found!\n"
     ]
    },
    {
     "name": "stderr",
     "output_type": "stream",
     "text": [
      "\r",
      "575it [06:33,  2.61it/s]"
     ]
    },
    {
     "name": "stdout",
     "output_type": "stream",
     "text": [
      "Match found!\n"
     ]
    },
    {
     "name": "stderr",
     "output_type": "stream",
     "text": [
      "\r",
      "576it [06:33,  2.51it/s]"
     ]
    },
    {
     "name": "stdout",
     "output_type": "stream",
     "text": [
      "Match found!\n"
     ]
    },
    {
     "name": "stderr",
     "output_type": "stream",
     "text": [
      "\r",
      "577it [06:34,  2.75it/s]"
     ]
    },
    {
     "name": "stdout",
     "output_type": "stream",
     "text": [
      "Match found!\n"
     ]
    },
    {
     "name": "stderr",
     "output_type": "stream",
     "text": [
      "\r",
      "578it [06:34,  2.54it/s]"
     ]
    },
    {
     "name": "stdout",
     "output_type": "stream",
     "text": [
      "Match found!\n"
     ]
    },
    {
     "name": "stderr",
     "output_type": "stream",
     "text": [
      "\r",
      "579it [06:34,  2.92it/s]"
     ]
    },
    {
     "name": "stdout",
     "output_type": "stream",
     "text": [
      "Match found!\n"
     ]
    },
    {
     "name": "stderr",
     "output_type": "stream",
     "text": [
      "\r",
      "580it [06:35,  2.71it/s]"
     ]
    },
    {
     "name": "stdout",
     "output_type": "stream",
     "text": [
      "Match found!\n"
     ]
    },
    {
     "name": "stderr",
     "output_type": "stream",
     "text": [
      "\r",
      "581it [06:36,  2.04it/s]"
     ]
    },
    {
     "name": "stdout",
     "output_type": "stream",
     "text": [
      "Match found!\n",
      "Match found!\n"
     ]
    },
    {
     "name": "stderr",
     "output_type": "stream",
     "text": [
      "\r",
      "583it [06:36,  2.03it/s]"
     ]
    },
    {
     "name": "stdout",
     "output_type": "stream",
     "text": [
      "Match found!\n"
     ]
    },
    {
     "name": "stderr",
     "output_type": "stream",
     "text": [
      "\r",
      "584it [06:38,  1.53it/s]"
     ]
    },
    {
     "name": "stdout",
     "output_type": "stream",
     "text": [
      "Match found!\n"
     ]
    },
    {
     "name": "stderr",
     "output_type": "stream",
     "text": [
      "\r",
      "585it [06:38,  1.81it/s]"
     ]
    },
    {
     "name": "stdout",
     "output_type": "stream",
     "text": [
      "Match found!\n"
     ]
    },
    {
     "name": "stderr",
     "output_type": "stream",
     "text": [
      "\r",
      "586it [06:38,  2.15it/s]"
     ]
    },
    {
     "name": "stdout",
     "output_type": "stream",
     "text": [
      "Match found!\n"
     ]
    },
    {
     "name": "stderr",
     "output_type": "stream",
     "text": [
      "\r",
      "587it [06:39,  1.88it/s]"
     ]
    },
    {
     "name": "stdout",
     "output_type": "stream",
     "text": [
      "Match found!\n"
     ]
    },
    {
     "name": "stderr",
     "output_type": "stream",
     "text": [
      "589it [06:40,  1.85it/s]"
     ]
    },
    {
     "name": "stdout",
     "output_type": "stream",
     "text": [
      "Match found!\n",
      "Match found!\n"
     ]
    },
    {
     "name": "stderr",
     "output_type": "stream",
     "text": [
      "\r",
      "590it [06:40,  2.04it/s]"
     ]
    },
    {
     "name": "stdout",
     "output_type": "stream",
     "text": [
      "Match found!\n"
     ]
    },
    {
     "name": "stderr",
     "output_type": "stream",
     "text": [
      "\r",
      "591it [06:41,  2.17it/s]"
     ]
    },
    {
     "name": "stdout",
     "output_type": "stream",
     "text": [
      "Match found!\n"
     ]
    },
    {
     "name": "stderr",
     "output_type": "stream",
     "text": [
      "\r",
      "592it [06:42,  1.81it/s]"
     ]
    },
    {
     "name": "stdout",
     "output_type": "stream",
     "text": [
      "Match found!\n"
     ]
    },
    {
     "name": "stderr",
     "output_type": "stream",
     "text": [
      "\r",
      "593it [06:43,  1.50it/s]"
     ]
    },
    {
     "name": "stdout",
     "output_type": "stream",
     "text": [
      "Match found!\n"
     ]
    },
    {
     "name": "stderr",
     "output_type": "stream",
     "text": [
      "595it [06:43,  1.99it/s]"
     ]
    },
    {
     "name": "stdout",
     "output_type": "stream",
     "text": [
      "Match found!\n",
      "Match found!\n"
     ]
    },
    {
     "name": "stderr",
     "output_type": "stream",
     "text": [
      "\r",
      "596it [06:44,  1.88it/s]"
     ]
    },
    {
     "name": "stdout",
     "output_type": "stream",
     "text": [
      "Match found!\n"
     ]
    },
    {
     "name": "stderr",
     "output_type": "stream",
     "text": [
      "\r",
      "597it [06:44,  2.20it/s]"
     ]
    },
    {
     "name": "stdout",
     "output_type": "stream",
     "text": [
      "Match found!\n"
     ]
    },
    {
     "name": "stderr",
     "output_type": "stream",
     "text": [
      "\r",
      "598it [06:45,  2.28it/s]"
     ]
    },
    {
     "name": "stdout",
     "output_type": "stream",
     "text": [
      "Match found!\n"
     ]
    },
    {
     "name": "stderr",
     "output_type": "stream",
     "text": [
      "\r",
      "599it [06:47,  1.16s/it]"
     ]
    },
    {
     "name": "stdout",
     "output_type": "stream",
     "text": [
      "Match found!\n"
     ]
    },
    {
     "name": "stderr",
     "output_type": "stream",
     "text": [
      "\r",
      "600it [06:48,  1.03s/it]"
     ]
    },
    {
     "name": "stdout",
     "output_type": "stream",
     "text": [
      "Match found!\n"
     ]
    },
    {
     "name": "stderr",
     "output_type": "stream",
     "text": [
      "\r",
      "601it [06:49,  1.02it/s]"
     ]
    },
    {
     "name": "stdout",
     "output_type": "stream",
     "text": [
      "Match found!\n"
     ]
    },
    {
     "name": "stderr",
     "output_type": "stream",
     "text": [
      "\r",
      "602it [06:49,  1.29it/s]"
     ]
    },
    {
     "name": "stdout",
     "output_type": "stream",
     "text": [
      "Match found!\n"
     ]
    },
    {
     "name": "stderr",
     "output_type": "stream",
     "text": [
      "\r",
      "603it [06:50,  1.56it/s]"
     ]
    },
    {
     "name": "stdout",
     "output_type": "stream",
     "text": [
      "Match found!\n"
     ]
    },
    {
     "name": "stderr",
     "output_type": "stream",
     "text": [
      "\r",
      "604it [06:50,  1.80it/s]"
     ]
    },
    {
     "name": "stdout",
     "output_type": "stream",
     "text": [
      "Match found!\n",
      "Match found!\n"
     ]
    },
    {
     "name": "stderr",
     "output_type": "stream",
     "text": [
      "\r",
      "606it [06:50,  2.33it/s]"
     ]
    },
    {
     "name": "stdout",
     "output_type": "stream",
     "text": [
      "Match found!\n"
     ]
    },
    {
     "name": "stderr",
     "output_type": "stream",
     "text": [
      "\r",
      "607it [06:52,  1.18it/s]"
     ]
    },
    {
     "name": "stdout",
     "output_type": "stream",
     "text": [
      "Match found!\n"
     ]
    },
    {
     "name": "stderr",
     "output_type": "stream",
     "text": [
      "\r",
      "608it [06:52,  1.44it/s]"
     ]
    },
    {
     "name": "stdout",
     "output_type": "stream",
     "text": [
      "Match found!\n"
     ]
    },
    {
     "name": "stderr",
     "output_type": "stream",
     "text": [
      "\r",
      "609it [06:55,  1.30s/it]"
     ]
    },
    {
     "name": "stdout",
     "output_type": "stream",
     "text": [
      "Match found!\n"
     ]
    },
    {
     "name": "stderr",
     "output_type": "stream",
     "text": [
      "\r",
      "610it [06:55,  1.01s/it]"
     ]
    },
    {
     "name": "stdout",
     "output_type": "stream",
     "text": [
      "Match found!\n"
     ]
    },
    {
     "name": "stderr",
     "output_type": "stream",
     "text": [
      "613it [06:56,  1.63it/s]"
     ]
    },
    {
     "name": "stdout",
     "output_type": "stream",
     "text": [
      "Match found!\n",
      "Match found!\n",
      "Match found!\n"
     ]
    },
    {
     "name": "stderr",
     "output_type": "stream",
     "text": [
      "\r",
      "614it [06:56,  1.79it/s]"
     ]
    },
    {
     "name": "stdout",
     "output_type": "stream",
     "text": [
      "Match found!\n"
     ]
    },
    {
     "name": "stderr",
     "output_type": "stream",
     "text": [
      "616it [06:57,  2.60it/s]"
     ]
    },
    {
     "name": "stdout",
     "output_type": "stream",
     "text": [
      "Match found!\n",
      "Match found!\n"
     ]
    },
    {
     "name": "stderr",
     "output_type": "stream",
     "text": [
      "617it [06:57,  1.48it/s]\n"
     ]
    }
   ],
   "source": [
    "for i, row in tqdm.tqdm(verif_annots.iterrows()):\n",
    "    \n",
    "    audio_folder = '../../individual_call_analysis/hp_annotation_audio/'\n",
    "    file_path = cca.find_file_in_folder(verif_annots['valid_annotations'][i]+'_hp.WAV', audio_folder)\n",
    "    measurements = split_measure.split_measure_audio(file_path[0],\n",
    "                                  **kwargs)\n",
    "    all_measures.append(measurements)\n",
    "\n"
   ]
  },
  {
   "cell_type": "code",
   "execution_count": 8,
   "metadata": {},
   "outputs": [],
   "source": [
    "all_split_measure = pd.concat(all_measures).reset_index(drop=True)"
   ]
  },
  {
   "cell_type": "code",
   "execution_count": 9,
   "metadata": {},
   "outputs": [
    {
     "data": {
      "text/html": [
       "<div>\n",
       "<style scoped>\n",
       "    .dataframe tbody tr th:only-of-type {\n",
       "        vertical-align: middle;\n",
       "    }\n",
       "\n",
       "    .dataframe tbody tr th {\n",
       "        vertical-align: top;\n",
       "    }\n",
       "\n",
       "    .dataframe thead th {\n",
       "        text-align: right;\n",
       "    }\n",
       "</style>\n",
       "<table border=\"1\" class=\"dataframe\">\n",
       "  <thead>\n",
       "    <tr style=\"text-align: right;\">\n",
       "      <th></th>\n",
       "      <th>value</th>\n",
       "      <th>segment_number</th>\n",
       "      <th>measurement</th>\n",
       "      <th>file_name</th>\n",
       "    </tr>\n",
       "  </thead>\n",
       "  <tbody>\n",
       "    <tr>\n",
       "      <th>0</th>\n",
       "      <td>0.032661</td>\n",
       "      <td>0</td>\n",
       "      <td>rms</td>\n",
       "      <td>matching_annotaudio_Aditya_2018-08-16_21502300...</td>\n",
       "    </tr>\n",
       "    <tr>\n",
       "      <th>1</th>\n",
       "      <td>0.102295</td>\n",
       "      <td>0</td>\n",
       "      <td>peak_amplitude</td>\n",
       "      <td>matching_annotaudio_Aditya_2018-08-16_21502300...</td>\n",
       "    </tr>\n",
       "    <tr>\n",
       "      <th>2</th>\n",
       "      <td>104700.000000</td>\n",
       "      <td>0</td>\n",
       "      <td>dominant_frequencies</td>\n",
       "      <td>matching_annotaudio_Aditya_2018-08-16_21502300...</td>\n",
       "    </tr>\n",
       "    <tr>\n",
       "      <th>3</th>\n",
       "      <td>96679.687500</td>\n",
       "      <td>0</td>\n",
       "      <td>fm_terminal_freqs</td>\n",
       "      <td>matching_annotaudio_Aditya_2018-08-16_21502300...</td>\n",
       "    </tr>\n",
       "    <tr>\n",
       "      <th>4</th>\n",
       "      <td>88867.187500</td>\n",
       "      <td>0</td>\n",
       "      <td>fm_terminal_freqs</td>\n",
       "      <td>matching_annotaudio_Aditya_2018-08-16_21502300...</td>\n",
       "    </tr>\n",
       "    <tr>\n",
       "      <th>...</th>\n",
       "      <td>...</td>\n",
       "      <td>...</td>\n",
       "      <td>...</td>\n",
       "      <td>...</td>\n",
       "    </tr>\n",
       "    <tr>\n",
       "      <th>661127</th>\n",
       "      <td>103600.000000</td>\n",
       "      <td>12</td>\n",
       "      <td>dominant_frequencies</td>\n",
       "      <td>matching_annotaudio_Aditya_2018-08-20_0300-040...</td>\n",
       "    </tr>\n",
       "    <tr>\n",
       "      <th>661128</th>\n",
       "      <td>103840.000000</td>\n",
       "      <td>12</td>\n",
       "      <td>dominant_frequencies</td>\n",
       "      <td>matching_annotaudio_Aditya_2018-08-20_0300-040...</td>\n",
       "    </tr>\n",
       "    <tr>\n",
       "      <th>661129</th>\n",
       "      <td>104540.000000</td>\n",
       "      <td>12</td>\n",
       "      <td>dominant_frequencies</td>\n",
       "      <td>matching_annotaudio_Aditya_2018-08-20_0300-040...</td>\n",
       "    </tr>\n",
       "    <tr>\n",
       "      <th>661130</th>\n",
       "      <td>105100.000000</td>\n",
       "      <td>12</td>\n",
       "      <td>dominant_frequencies</td>\n",
       "      <td>matching_annotaudio_Aditya_2018-08-20_0300-040...</td>\n",
       "    </tr>\n",
       "    <tr>\n",
       "      <th>661131</th>\n",
       "      <td>NaN</td>\n",
       "      <td>12</td>\n",
       "      <td>fm_terminal_freqs</td>\n",
       "      <td>matching_annotaudio_Aditya_2018-08-20_0300-040...</td>\n",
       "    </tr>\n",
       "  </tbody>\n",
       "</table>\n",
       "<p>661132 rows × 4 columns</p>\n",
       "</div>"
      ],
      "text/plain": [
       "                value  segment_number           measurement  \\\n",
       "0            0.032661               0                   rms   \n",
       "1            0.102295               0        peak_amplitude   \n",
       "2       104700.000000               0  dominant_frequencies   \n",
       "3        96679.687500               0     fm_terminal_freqs   \n",
       "4        88867.187500               0     fm_terminal_freqs   \n",
       "...               ...             ...                   ...   \n",
       "661127  103600.000000              12  dominant_frequencies   \n",
       "661128  103840.000000              12  dominant_frequencies   \n",
       "661129  104540.000000              12  dominant_frequencies   \n",
       "661130  105100.000000              12  dominant_frequencies   \n",
       "661131            NaN              12     fm_terminal_freqs   \n",
       "\n",
       "                                                file_name  \n",
       "0       matching_annotaudio_Aditya_2018-08-16_21502300...  \n",
       "1       matching_annotaudio_Aditya_2018-08-16_21502300...  \n",
       "2       matching_annotaudio_Aditya_2018-08-16_21502300...  \n",
       "3       matching_annotaudio_Aditya_2018-08-16_21502300...  \n",
       "4       matching_annotaudio_Aditya_2018-08-16_21502300...  \n",
       "...                                                   ...  \n",
       "661127  matching_annotaudio_Aditya_2018-08-20_0300-040...  \n",
       "661128  matching_annotaudio_Aditya_2018-08-20_0300-040...  \n",
       "661129  matching_annotaudio_Aditya_2018-08-20_0300-040...  \n",
       "661130  matching_annotaudio_Aditya_2018-08-20_0300-040...  \n",
       "661131  matching_annotaudio_Aditya_2018-08-20_0300-040...  \n",
       "\n",
       "[661132 rows x 4 columns]"
      ]
     },
     "execution_count": 9,
     "metadata": {},
     "output_type": "execute_result"
    }
   ],
   "source": [
    "all_split_measure"
   ]
  },
  {
   "cell_type": "code",
   "execution_count": 10,
   "metadata": {},
   "outputs": [],
   "source": [
    "all_split_measure['unique_window_id'] = all_split_measure['segment_number'].astype(str) +'_'+all_split_measure['file_name'] "
   ]
  },
  {
   "cell_type": "code",
   "execution_count": 11,
   "metadata": {},
   "outputs": [
    {
     "data": {
      "text/html": [
       "<div>\n",
       "<style scoped>\n",
       "    .dataframe tbody tr th:only-of-type {\n",
       "        vertical-align: middle;\n",
       "    }\n",
       "\n",
       "    .dataframe tbody tr th {\n",
       "        vertical-align: top;\n",
       "    }\n",
       "\n",
       "    .dataframe thead th {\n",
       "        text-align: right;\n",
       "    }\n",
       "</style>\n",
       "<table border=\"1\" class=\"dataframe\">\n",
       "  <thead>\n",
       "    <tr style=\"text-align: right;\">\n",
       "      <th></th>\n",
       "      <th>value</th>\n",
       "      <th>segment_number</th>\n",
       "      <th>measurement</th>\n",
       "      <th>file_name</th>\n",
       "      <th>unique_window_id</th>\n",
       "    </tr>\n",
       "  </thead>\n",
       "  <tbody>\n",
       "    <tr>\n",
       "      <th>0</th>\n",
       "      <td>0.032661</td>\n",
       "      <td>0</td>\n",
       "      <td>rms</td>\n",
       "      <td>matching_annotaudio_Aditya_2018-08-16_21502300...</td>\n",
       "      <td>0_matching_annotaudio_Aditya_2018-08-16_215023...</td>\n",
       "    </tr>\n",
       "    <tr>\n",
       "      <th>1</th>\n",
       "      <td>0.102295</td>\n",
       "      <td>0</td>\n",
       "      <td>peak_amplitude</td>\n",
       "      <td>matching_annotaudio_Aditya_2018-08-16_21502300...</td>\n",
       "      <td>0_matching_annotaudio_Aditya_2018-08-16_215023...</td>\n",
       "    </tr>\n",
       "    <tr>\n",
       "      <th>2</th>\n",
       "      <td>104700.000000</td>\n",
       "      <td>0</td>\n",
       "      <td>dominant_frequencies</td>\n",
       "      <td>matching_annotaudio_Aditya_2018-08-16_21502300...</td>\n",
       "      <td>0_matching_annotaudio_Aditya_2018-08-16_215023...</td>\n",
       "    </tr>\n",
       "    <tr>\n",
       "      <th>3</th>\n",
       "      <td>96679.687500</td>\n",
       "      <td>0</td>\n",
       "      <td>fm_terminal_freqs</td>\n",
       "      <td>matching_annotaudio_Aditya_2018-08-16_21502300...</td>\n",
       "      <td>0_matching_annotaudio_Aditya_2018-08-16_215023...</td>\n",
       "    </tr>\n",
       "    <tr>\n",
       "      <th>4</th>\n",
       "      <td>88867.187500</td>\n",
       "      <td>0</td>\n",
       "      <td>fm_terminal_freqs</td>\n",
       "      <td>matching_annotaudio_Aditya_2018-08-16_21502300...</td>\n",
       "      <td>0_matching_annotaudio_Aditya_2018-08-16_215023...</td>\n",
       "    </tr>\n",
       "    <tr>\n",
       "      <th>...</th>\n",
       "      <td>...</td>\n",
       "      <td>...</td>\n",
       "      <td>...</td>\n",
       "      <td>...</td>\n",
       "      <td>...</td>\n",
       "    </tr>\n",
       "    <tr>\n",
       "      <th>661127</th>\n",
       "      <td>103600.000000</td>\n",
       "      <td>12</td>\n",
       "      <td>dominant_frequencies</td>\n",
       "      <td>matching_annotaudio_Aditya_2018-08-20_0300-040...</td>\n",
       "      <td>12_matching_annotaudio_Aditya_2018-08-20_0300-...</td>\n",
       "    </tr>\n",
       "    <tr>\n",
       "      <th>661128</th>\n",
       "      <td>103840.000000</td>\n",
       "      <td>12</td>\n",
       "      <td>dominant_frequencies</td>\n",
       "      <td>matching_annotaudio_Aditya_2018-08-20_0300-040...</td>\n",
       "      <td>12_matching_annotaudio_Aditya_2018-08-20_0300-...</td>\n",
       "    </tr>\n",
       "    <tr>\n",
       "      <th>661129</th>\n",
       "      <td>104540.000000</td>\n",
       "      <td>12</td>\n",
       "      <td>dominant_frequencies</td>\n",
       "      <td>matching_annotaudio_Aditya_2018-08-20_0300-040...</td>\n",
       "      <td>12_matching_annotaudio_Aditya_2018-08-20_0300-...</td>\n",
       "    </tr>\n",
       "    <tr>\n",
       "      <th>661130</th>\n",
       "      <td>105100.000000</td>\n",
       "      <td>12</td>\n",
       "      <td>dominant_frequencies</td>\n",
       "      <td>matching_annotaudio_Aditya_2018-08-20_0300-040...</td>\n",
       "      <td>12_matching_annotaudio_Aditya_2018-08-20_0300-...</td>\n",
       "    </tr>\n",
       "    <tr>\n",
       "      <th>661131</th>\n",
       "      <td>NaN</td>\n",
       "      <td>12</td>\n",
       "      <td>fm_terminal_freqs</td>\n",
       "      <td>matching_annotaudio_Aditya_2018-08-20_0300-040...</td>\n",
       "      <td>12_matching_annotaudio_Aditya_2018-08-20_0300-...</td>\n",
       "    </tr>\n",
       "  </tbody>\n",
       "</table>\n",
       "<p>661132 rows × 5 columns</p>\n",
       "</div>"
      ],
      "text/plain": [
       "                value  segment_number           measurement  \\\n",
       "0            0.032661               0                   rms   \n",
       "1            0.102295               0        peak_amplitude   \n",
       "2       104700.000000               0  dominant_frequencies   \n",
       "3        96679.687500               0     fm_terminal_freqs   \n",
       "4        88867.187500               0     fm_terminal_freqs   \n",
       "...               ...             ...                   ...   \n",
       "661127  103600.000000              12  dominant_frequencies   \n",
       "661128  103840.000000              12  dominant_frequencies   \n",
       "661129  104540.000000              12  dominant_frequencies   \n",
       "661130  105100.000000              12  dominant_frequencies   \n",
       "661131            NaN              12     fm_terminal_freqs   \n",
       "\n",
       "                                                file_name  \\\n",
       "0       matching_annotaudio_Aditya_2018-08-16_21502300...   \n",
       "1       matching_annotaudio_Aditya_2018-08-16_21502300...   \n",
       "2       matching_annotaudio_Aditya_2018-08-16_21502300...   \n",
       "3       matching_annotaudio_Aditya_2018-08-16_21502300...   \n",
       "4       matching_annotaudio_Aditya_2018-08-16_21502300...   \n",
       "...                                                   ...   \n",
       "661127  matching_annotaudio_Aditya_2018-08-20_0300-040...   \n",
       "661128  matching_annotaudio_Aditya_2018-08-20_0300-040...   \n",
       "661129  matching_annotaudio_Aditya_2018-08-20_0300-040...   \n",
       "661130  matching_annotaudio_Aditya_2018-08-20_0300-040...   \n",
       "661131  matching_annotaudio_Aditya_2018-08-20_0300-040...   \n",
       "\n",
       "                                         unique_window_id  \n",
       "0       0_matching_annotaudio_Aditya_2018-08-16_215023...  \n",
       "1       0_matching_annotaudio_Aditya_2018-08-16_215023...  \n",
       "2       0_matching_annotaudio_Aditya_2018-08-16_215023...  \n",
       "3       0_matching_annotaudio_Aditya_2018-08-16_215023...  \n",
       "4       0_matching_annotaudio_Aditya_2018-08-16_215023...  \n",
       "...                                                   ...  \n",
       "661127  12_matching_annotaudio_Aditya_2018-08-20_0300-...  \n",
       "661128  12_matching_annotaudio_Aditya_2018-08-20_0300-...  \n",
       "661129  12_matching_annotaudio_Aditya_2018-08-20_0300-...  \n",
       "661130  12_matching_annotaudio_Aditya_2018-08-20_0300-...  \n",
       "661131  12_matching_annotaudio_Aditya_2018-08-20_0300-...  \n",
       "\n",
       "[661132 rows x 5 columns]"
      ]
     },
     "execution_count": 11,
     "metadata": {},
     "output_type": "execute_result"
    }
   ],
   "source": [
    "all_split_measure"
   ]
  },
  {
   "cell_type": "code",
   "execution_count": 12,
   "metadata": {},
   "outputs": [
    {
     "data": {
      "application/javascript": [
       "/* Put everything inside the global mpl namespace */\n",
       "window.mpl = {};\n",
       "\n",
       "\n",
       "mpl.get_websocket_type = function() {\n",
       "    if (typeof(WebSocket) !== 'undefined') {\n",
       "        return WebSocket;\n",
       "    } else if (typeof(MozWebSocket) !== 'undefined') {\n",
       "        return MozWebSocket;\n",
       "    } else {\n",
       "        alert('Your browser does not have WebSocket support. ' +\n",
       "              'Please try Chrome, Safari or Firefox ≥ 6. ' +\n",
       "              'Firefox 4 and 5 are also supported but you ' +\n",
       "              'have to enable WebSockets in about:config.');\n",
       "    };\n",
       "}\n",
       "\n",
       "mpl.figure = function(figure_id, websocket, ondownload, parent_element) {\n",
       "    this.id = figure_id;\n",
       "\n",
       "    this.ws = websocket;\n",
       "\n",
       "    this.supports_binary = (this.ws.binaryType != undefined);\n",
       "\n",
       "    if (!this.supports_binary) {\n",
       "        var warnings = document.getElementById(\"mpl-warnings\");\n",
       "        if (warnings) {\n",
       "            warnings.style.display = 'block';\n",
       "            warnings.textContent = (\n",
       "                \"This browser does not support binary websocket messages. \" +\n",
       "                    \"Performance may be slow.\");\n",
       "        }\n",
       "    }\n",
       "\n",
       "    this.imageObj = new Image();\n",
       "\n",
       "    this.context = undefined;\n",
       "    this.message = undefined;\n",
       "    this.canvas = undefined;\n",
       "    this.rubberband_canvas = undefined;\n",
       "    this.rubberband_context = undefined;\n",
       "    this.format_dropdown = undefined;\n",
       "\n",
       "    this.image_mode = 'full';\n",
       "\n",
       "    this.root = $('<div/>');\n",
       "    this._root_extra_style(this.root)\n",
       "    this.root.attr('style', 'display: inline-block');\n",
       "\n",
       "    $(parent_element).append(this.root);\n",
       "\n",
       "    this._init_header(this);\n",
       "    this._init_canvas(this);\n",
       "    this._init_toolbar(this);\n",
       "\n",
       "    var fig = this;\n",
       "\n",
       "    this.waiting = false;\n",
       "\n",
       "    this.ws.onopen =  function () {\n",
       "            fig.send_message(\"supports_binary\", {value: fig.supports_binary});\n",
       "            fig.send_message(\"send_image_mode\", {});\n",
       "            if (mpl.ratio != 1) {\n",
       "                fig.send_message(\"set_dpi_ratio\", {'dpi_ratio': mpl.ratio});\n",
       "            }\n",
       "            fig.send_message(\"refresh\", {});\n",
       "        }\n",
       "\n",
       "    this.imageObj.onload = function() {\n",
       "            if (fig.image_mode == 'full') {\n",
       "                // Full images could contain transparency (where diff images\n",
       "                // almost always do), so we need to clear the canvas so that\n",
       "                // there is no ghosting.\n",
       "                fig.context.clearRect(0, 0, fig.canvas.width, fig.canvas.height);\n",
       "            }\n",
       "            fig.context.drawImage(fig.imageObj, 0, 0);\n",
       "        };\n",
       "\n",
       "    this.imageObj.onunload = function() {\n",
       "        fig.ws.close();\n",
       "    }\n",
       "\n",
       "    this.ws.onmessage = this._make_on_message_function(this);\n",
       "\n",
       "    this.ondownload = ondownload;\n",
       "}\n",
       "\n",
       "mpl.figure.prototype._init_header = function() {\n",
       "    var titlebar = $(\n",
       "        '<div class=\"ui-dialog-titlebar ui-widget-header ui-corner-all ' +\n",
       "        'ui-helper-clearfix\"/>');\n",
       "    var titletext = $(\n",
       "        '<div class=\"ui-dialog-title\" style=\"width: 100%; ' +\n",
       "        'text-align: center; padding: 3px;\"/>');\n",
       "    titlebar.append(titletext)\n",
       "    this.root.append(titlebar);\n",
       "    this.header = titletext[0];\n",
       "}\n",
       "\n",
       "\n",
       "\n",
       "mpl.figure.prototype._canvas_extra_style = function(canvas_div) {\n",
       "\n",
       "}\n",
       "\n",
       "\n",
       "mpl.figure.prototype._root_extra_style = function(canvas_div) {\n",
       "\n",
       "}\n",
       "\n",
       "mpl.figure.prototype._init_canvas = function() {\n",
       "    var fig = this;\n",
       "\n",
       "    var canvas_div = $('<div/>');\n",
       "\n",
       "    canvas_div.attr('style', 'position: relative; clear: both; outline: 0');\n",
       "\n",
       "    function canvas_keyboard_event(event) {\n",
       "        return fig.key_event(event, event['data']);\n",
       "    }\n",
       "\n",
       "    canvas_div.keydown('key_press', canvas_keyboard_event);\n",
       "    canvas_div.keyup('key_release', canvas_keyboard_event);\n",
       "    this.canvas_div = canvas_div\n",
       "    this._canvas_extra_style(canvas_div)\n",
       "    this.root.append(canvas_div);\n",
       "\n",
       "    var canvas = $('<canvas/>');\n",
       "    canvas.addClass('mpl-canvas');\n",
       "    canvas.attr('style', \"left: 0; top: 0; z-index: 0; outline: 0\")\n",
       "\n",
       "    this.canvas = canvas[0];\n",
       "    this.context = canvas[0].getContext(\"2d\");\n",
       "\n",
       "    var backingStore = this.context.backingStorePixelRatio ||\n",
       "\tthis.context.webkitBackingStorePixelRatio ||\n",
       "\tthis.context.mozBackingStorePixelRatio ||\n",
       "\tthis.context.msBackingStorePixelRatio ||\n",
       "\tthis.context.oBackingStorePixelRatio ||\n",
       "\tthis.context.backingStorePixelRatio || 1;\n",
       "\n",
       "    mpl.ratio = (window.devicePixelRatio || 1) / backingStore;\n",
       "\n",
       "    var rubberband = $('<canvas/>');\n",
       "    rubberband.attr('style', \"position: absolute; left: 0; top: 0; z-index: 1;\")\n",
       "\n",
       "    var pass_mouse_events = true;\n",
       "\n",
       "    canvas_div.resizable({\n",
       "        start: function(event, ui) {\n",
       "            pass_mouse_events = false;\n",
       "        },\n",
       "        resize: function(event, ui) {\n",
       "            fig.request_resize(ui.size.width, ui.size.height);\n",
       "        },\n",
       "        stop: function(event, ui) {\n",
       "            pass_mouse_events = true;\n",
       "            fig.request_resize(ui.size.width, ui.size.height);\n",
       "        },\n",
       "    });\n",
       "\n",
       "    function mouse_event_fn(event) {\n",
       "        if (pass_mouse_events)\n",
       "            return fig.mouse_event(event, event['data']);\n",
       "    }\n",
       "\n",
       "    rubberband.mousedown('button_press', mouse_event_fn);\n",
       "    rubberband.mouseup('button_release', mouse_event_fn);\n",
       "    // Throttle sequential mouse events to 1 every 20ms.\n",
       "    rubberband.mousemove('motion_notify', mouse_event_fn);\n",
       "\n",
       "    rubberband.mouseenter('figure_enter', mouse_event_fn);\n",
       "    rubberband.mouseleave('figure_leave', mouse_event_fn);\n",
       "\n",
       "    canvas_div.on(\"wheel\", function (event) {\n",
       "        event = event.originalEvent;\n",
       "        event['data'] = 'scroll'\n",
       "        if (event.deltaY < 0) {\n",
       "            event.step = 1;\n",
       "        } else {\n",
       "            event.step = -1;\n",
       "        }\n",
       "        mouse_event_fn(event);\n",
       "    });\n",
       "\n",
       "    canvas_div.append(canvas);\n",
       "    canvas_div.append(rubberband);\n",
       "\n",
       "    this.rubberband = rubberband;\n",
       "    this.rubberband_canvas = rubberband[0];\n",
       "    this.rubberband_context = rubberband[0].getContext(\"2d\");\n",
       "    this.rubberband_context.strokeStyle = \"#000000\";\n",
       "\n",
       "    this._resize_canvas = function(width, height) {\n",
       "        // Keep the size of the canvas, canvas container, and rubber band\n",
       "        // canvas in synch.\n",
       "        canvas_div.css('width', width)\n",
       "        canvas_div.css('height', height)\n",
       "\n",
       "        canvas.attr('width', width * mpl.ratio);\n",
       "        canvas.attr('height', height * mpl.ratio);\n",
       "        canvas.attr('style', 'width: ' + width + 'px; height: ' + height + 'px;');\n",
       "\n",
       "        rubberband.attr('width', width);\n",
       "        rubberband.attr('height', height);\n",
       "    }\n",
       "\n",
       "    // Set the figure to an initial 600x600px, this will subsequently be updated\n",
       "    // upon first draw.\n",
       "    this._resize_canvas(600, 600);\n",
       "\n",
       "    // Disable right mouse context menu.\n",
       "    $(this.rubberband_canvas).bind(\"contextmenu\",function(e){\n",
       "        return false;\n",
       "    });\n",
       "\n",
       "    function set_focus () {\n",
       "        canvas.focus();\n",
       "        canvas_div.focus();\n",
       "    }\n",
       "\n",
       "    window.setTimeout(set_focus, 100);\n",
       "}\n",
       "\n",
       "mpl.figure.prototype._init_toolbar = function() {\n",
       "    var fig = this;\n",
       "\n",
       "    var nav_element = $('<div/>');\n",
       "    nav_element.attr('style', 'width: 100%');\n",
       "    this.root.append(nav_element);\n",
       "\n",
       "    // Define a callback function for later on.\n",
       "    function toolbar_event(event) {\n",
       "        return fig.toolbar_button_onclick(event['data']);\n",
       "    }\n",
       "    function toolbar_mouse_event(event) {\n",
       "        return fig.toolbar_button_onmouseover(event['data']);\n",
       "    }\n",
       "\n",
       "    for(var toolbar_ind in mpl.toolbar_items) {\n",
       "        var name = mpl.toolbar_items[toolbar_ind][0];\n",
       "        var tooltip = mpl.toolbar_items[toolbar_ind][1];\n",
       "        var image = mpl.toolbar_items[toolbar_ind][2];\n",
       "        var method_name = mpl.toolbar_items[toolbar_ind][3];\n",
       "\n",
       "        if (!name) {\n",
       "            // put a spacer in here.\n",
       "            continue;\n",
       "        }\n",
       "        var button = $('<button/>');\n",
       "        button.addClass('ui-button ui-widget ui-state-default ui-corner-all ' +\n",
       "                        'ui-button-icon-only');\n",
       "        button.attr('role', 'button');\n",
       "        button.attr('aria-disabled', 'false');\n",
       "        button.click(method_name, toolbar_event);\n",
       "        button.mouseover(tooltip, toolbar_mouse_event);\n",
       "\n",
       "        var icon_img = $('<span/>');\n",
       "        icon_img.addClass('ui-button-icon-primary ui-icon');\n",
       "        icon_img.addClass(image);\n",
       "        icon_img.addClass('ui-corner-all');\n",
       "\n",
       "        var tooltip_span = $('<span/>');\n",
       "        tooltip_span.addClass('ui-button-text');\n",
       "        tooltip_span.html(tooltip);\n",
       "\n",
       "        button.append(icon_img);\n",
       "        button.append(tooltip_span);\n",
       "\n",
       "        nav_element.append(button);\n",
       "    }\n",
       "\n",
       "    var fmt_picker_span = $('<span/>');\n",
       "\n",
       "    var fmt_picker = $('<select/>');\n",
       "    fmt_picker.addClass('mpl-toolbar-option ui-widget ui-widget-content');\n",
       "    fmt_picker_span.append(fmt_picker);\n",
       "    nav_element.append(fmt_picker_span);\n",
       "    this.format_dropdown = fmt_picker[0];\n",
       "\n",
       "    for (var ind in mpl.extensions) {\n",
       "        var fmt = mpl.extensions[ind];\n",
       "        var option = $(\n",
       "            '<option/>', {selected: fmt === mpl.default_extension}).html(fmt);\n",
       "        fmt_picker.append(option);\n",
       "    }\n",
       "\n",
       "    // Add hover states to the ui-buttons\n",
       "    $( \".ui-button\" ).hover(\n",
       "        function() { $(this).addClass(\"ui-state-hover\");},\n",
       "        function() { $(this).removeClass(\"ui-state-hover\");}\n",
       "    );\n",
       "\n",
       "    var status_bar = $('<span class=\"mpl-message\"/>');\n",
       "    nav_element.append(status_bar);\n",
       "    this.message = status_bar[0];\n",
       "}\n",
       "\n",
       "mpl.figure.prototype.request_resize = function(x_pixels, y_pixels) {\n",
       "    // Request matplotlib to resize the figure. Matplotlib will then trigger a resize in the client,\n",
       "    // which will in turn request a refresh of the image.\n",
       "    this.send_message('resize', {'width': x_pixels, 'height': y_pixels});\n",
       "}\n",
       "\n",
       "mpl.figure.prototype.send_message = function(type, properties) {\n",
       "    properties['type'] = type;\n",
       "    properties['figure_id'] = this.id;\n",
       "    this.ws.send(JSON.stringify(properties));\n",
       "}\n",
       "\n",
       "mpl.figure.prototype.send_draw_message = function() {\n",
       "    if (!this.waiting) {\n",
       "        this.waiting = true;\n",
       "        this.ws.send(JSON.stringify({type: \"draw\", figure_id: this.id}));\n",
       "    }\n",
       "}\n",
       "\n",
       "\n",
       "mpl.figure.prototype.handle_save = function(fig, msg) {\n",
       "    var format_dropdown = fig.format_dropdown;\n",
       "    var format = format_dropdown.options[format_dropdown.selectedIndex].value;\n",
       "    fig.ondownload(fig, format);\n",
       "}\n",
       "\n",
       "\n",
       "mpl.figure.prototype.handle_resize = function(fig, msg) {\n",
       "    var size = msg['size'];\n",
       "    if (size[0] != fig.canvas.width || size[1] != fig.canvas.height) {\n",
       "        fig._resize_canvas(size[0], size[1]);\n",
       "        fig.send_message(\"refresh\", {});\n",
       "    };\n",
       "}\n",
       "\n",
       "mpl.figure.prototype.handle_rubberband = function(fig, msg) {\n",
       "    var x0 = msg['x0'] / mpl.ratio;\n",
       "    var y0 = (fig.canvas.height - msg['y0']) / mpl.ratio;\n",
       "    var x1 = msg['x1'] / mpl.ratio;\n",
       "    var y1 = (fig.canvas.height - msg['y1']) / mpl.ratio;\n",
       "    x0 = Math.floor(x0) + 0.5;\n",
       "    y0 = Math.floor(y0) + 0.5;\n",
       "    x1 = Math.floor(x1) + 0.5;\n",
       "    y1 = Math.floor(y1) + 0.5;\n",
       "    var min_x = Math.min(x0, x1);\n",
       "    var min_y = Math.min(y0, y1);\n",
       "    var width = Math.abs(x1 - x0);\n",
       "    var height = Math.abs(y1 - y0);\n",
       "\n",
       "    fig.rubberband_context.clearRect(\n",
       "        0, 0, fig.canvas.width / mpl.ratio, fig.canvas.height / mpl.ratio);\n",
       "\n",
       "    fig.rubberband_context.strokeRect(min_x, min_y, width, height);\n",
       "}\n",
       "\n",
       "mpl.figure.prototype.handle_figure_label = function(fig, msg) {\n",
       "    // Updates the figure title.\n",
       "    fig.header.textContent = msg['label'];\n",
       "}\n",
       "\n",
       "mpl.figure.prototype.handle_cursor = function(fig, msg) {\n",
       "    var cursor = msg['cursor'];\n",
       "    switch(cursor)\n",
       "    {\n",
       "    case 0:\n",
       "        cursor = 'pointer';\n",
       "        break;\n",
       "    case 1:\n",
       "        cursor = 'default';\n",
       "        break;\n",
       "    case 2:\n",
       "        cursor = 'crosshair';\n",
       "        break;\n",
       "    case 3:\n",
       "        cursor = 'move';\n",
       "        break;\n",
       "    }\n",
       "    fig.rubberband_canvas.style.cursor = cursor;\n",
       "}\n",
       "\n",
       "mpl.figure.prototype.handle_message = function(fig, msg) {\n",
       "    fig.message.textContent = msg['message'];\n",
       "}\n",
       "\n",
       "mpl.figure.prototype.handle_draw = function(fig, msg) {\n",
       "    // Request the server to send over a new figure.\n",
       "    fig.send_draw_message();\n",
       "}\n",
       "\n",
       "mpl.figure.prototype.handle_image_mode = function(fig, msg) {\n",
       "    fig.image_mode = msg['mode'];\n",
       "}\n",
       "\n",
       "mpl.figure.prototype.updated_canvas_event = function() {\n",
       "    // Called whenever the canvas gets updated.\n",
       "    this.send_message(\"ack\", {});\n",
       "}\n",
       "\n",
       "// A function to construct a web socket function for onmessage handling.\n",
       "// Called in the figure constructor.\n",
       "mpl.figure.prototype._make_on_message_function = function(fig) {\n",
       "    return function socket_on_message(evt) {\n",
       "        if (evt.data instanceof Blob) {\n",
       "            /* FIXME: We get \"Resource interpreted as Image but\n",
       "             * transferred with MIME type text/plain:\" errors on\n",
       "             * Chrome.  But how to set the MIME type?  It doesn't seem\n",
       "             * to be part of the websocket stream */\n",
       "            evt.data.type = \"image/png\";\n",
       "\n",
       "            /* Free the memory for the previous frames */\n",
       "            if (fig.imageObj.src) {\n",
       "                (window.URL || window.webkitURL).revokeObjectURL(\n",
       "                    fig.imageObj.src);\n",
       "            }\n",
       "\n",
       "            fig.imageObj.src = (window.URL || window.webkitURL).createObjectURL(\n",
       "                evt.data);\n",
       "            fig.updated_canvas_event();\n",
       "            fig.waiting = false;\n",
       "            return;\n",
       "        }\n",
       "        else if (typeof evt.data === 'string' && evt.data.slice(0, 21) == \"data:image/png;base64\") {\n",
       "            fig.imageObj.src = evt.data;\n",
       "            fig.updated_canvas_event();\n",
       "            fig.waiting = false;\n",
       "            return;\n",
       "        }\n",
       "\n",
       "        var msg = JSON.parse(evt.data);\n",
       "        var msg_type = msg['type'];\n",
       "\n",
       "        // Call the  \"handle_{type}\" callback, which takes\n",
       "        // the figure and JSON message as its only arguments.\n",
       "        try {\n",
       "            var callback = fig[\"handle_\" + msg_type];\n",
       "        } catch (e) {\n",
       "            console.log(\"No handler for the '\" + msg_type + \"' message type: \", msg);\n",
       "            return;\n",
       "        }\n",
       "\n",
       "        if (callback) {\n",
       "            try {\n",
       "                // console.log(\"Handling '\" + msg_type + \"' message: \", msg);\n",
       "                callback(fig, msg);\n",
       "            } catch (e) {\n",
       "                console.log(\"Exception inside the 'handler_\" + msg_type + \"' callback:\", e, e.stack, msg);\n",
       "            }\n",
       "        }\n",
       "    };\n",
       "}\n",
       "\n",
       "// from http://stackoverflow.com/questions/1114465/getting-mouse-location-in-canvas\n",
       "mpl.findpos = function(e) {\n",
       "    //this section is from http://www.quirksmode.org/js/events_properties.html\n",
       "    var targ;\n",
       "    if (!e)\n",
       "        e = window.event;\n",
       "    if (e.target)\n",
       "        targ = e.target;\n",
       "    else if (e.srcElement)\n",
       "        targ = e.srcElement;\n",
       "    if (targ.nodeType == 3) // defeat Safari bug\n",
       "        targ = targ.parentNode;\n",
       "\n",
       "    // jQuery normalizes the pageX and pageY\n",
       "    // pageX,Y are the mouse positions relative to the document\n",
       "    // offset() returns the position of the element relative to the document\n",
       "    var x = e.pageX - $(targ).offset().left;\n",
       "    var y = e.pageY - $(targ).offset().top;\n",
       "\n",
       "    return {\"x\": x, \"y\": y};\n",
       "};\n",
       "\n",
       "/*\n",
       " * return a copy of an object with only non-object keys\n",
       " * we need this to avoid circular references\n",
       " * http://stackoverflow.com/a/24161582/3208463\n",
       " */\n",
       "function simpleKeys (original) {\n",
       "  return Object.keys(original).reduce(function (obj, key) {\n",
       "    if (typeof original[key] !== 'object')\n",
       "        obj[key] = original[key]\n",
       "    return obj;\n",
       "  }, {});\n",
       "}\n",
       "\n",
       "mpl.figure.prototype.mouse_event = function(event, name) {\n",
       "    var canvas_pos = mpl.findpos(event)\n",
       "\n",
       "    if (name === 'button_press')\n",
       "    {\n",
       "        this.canvas.focus();\n",
       "        this.canvas_div.focus();\n",
       "    }\n",
       "\n",
       "    var x = canvas_pos.x * mpl.ratio;\n",
       "    var y = canvas_pos.y * mpl.ratio;\n",
       "\n",
       "    this.send_message(name, {x: x, y: y, button: event.button,\n",
       "                             step: event.step,\n",
       "                             guiEvent: simpleKeys(event)});\n",
       "\n",
       "    /* This prevents the web browser from automatically changing to\n",
       "     * the text insertion cursor when the button is pressed.  We want\n",
       "     * to control all of the cursor setting manually through the\n",
       "     * 'cursor' event from matplotlib */\n",
       "    event.preventDefault();\n",
       "    return false;\n",
       "}\n",
       "\n",
       "mpl.figure.prototype._key_event_extra = function(event, name) {\n",
       "    // Handle any extra behaviour associated with a key event\n",
       "}\n",
       "\n",
       "mpl.figure.prototype.key_event = function(event, name) {\n",
       "\n",
       "    // Prevent repeat events\n",
       "    if (name == 'key_press')\n",
       "    {\n",
       "        if (event.which === this._key)\n",
       "            return;\n",
       "        else\n",
       "            this._key = event.which;\n",
       "    }\n",
       "    if (name == 'key_release')\n",
       "        this._key = null;\n",
       "\n",
       "    var value = '';\n",
       "    if (event.ctrlKey && event.which != 17)\n",
       "        value += \"ctrl+\";\n",
       "    if (event.altKey && event.which != 18)\n",
       "        value += \"alt+\";\n",
       "    if (event.shiftKey && event.which != 16)\n",
       "        value += \"shift+\";\n",
       "\n",
       "    value += 'k';\n",
       "    value += event.which.toString();\n",
       "\n",
       "    this._key_event_extra(event, name);\n",
       "\n",
       "    this.send_message(name, {key: value,\n",
       "                             guiEvent: simpleKeys(event)});\n",
       "    return false;\n",
       "}\n",
       "\n",
       "mpl.figure.prototype.toolbar_button_onclick = function(name) {\n",
       "    if (name == 'download') {\n",
       "        this.handle_save(this, null);\n",
       "    } else {\n",
       "        this.send_message(\"toolbar_button\", {name: name});\n",
       "    }\n",
       "};\n",
       "\n",
       "mpl.figure.prototype.toolbar_button_onmouseover = function(tooltip) {\n",
       "    this.message.textContent = tooltip;\n",
       "};\n",
       "mpl.toolbar_items = [[\"Home\", \"Reset original view\", \"fa fa-home icon-home\", \"home\"], [\"Back\", \"Back to previous view\", \"fa fa-arrow-left icon-arrow-left\", \"back\"], [\"Forward\", \"Forward to next view\", \"fa fa-arrow-right icon-arrow-right\", \"forward\"], [\"\", \"\", \"\", \"\"], [\"Pan\", \"Pan axes with left mouse, zoom with right\", \"fa fa-arrows icon-move\", \"pan\"], [\"Zoom\", \"Zoom to rectangle\", \"fa fa-square-o icon-check-empty\", \"zoom\"], [\"\", \"\", \"\", \"\"], [\"Download\", \"Download plot\", \"fa fa-floppy-o icon-save\", \"download\"]];\n",
       "\n",
       "mpl.extensions = [\"eps\", \"jpeg\", \"pdf\", \"png\", \"ps\", \"raw\", \"svg\", \"tif\"];\n",
       "\n",
       "mpl.default_extension = \"png\";var comm_websocket_adapter = function(comm) {\n",
       "    // Create a \"websocket\"-like object which calls the given IPython comm\n",
       "    // object with the appropriate methods. Currently this is a non binary\n",
       "    // socket, so there is still some room for performance tuning.\n",
       "    var ws = {};\n",
       "\n",
       "    ws.close = function() {\n",
       "        comm.close()\n",
       "    };\n",
       "    ws.send = function(m) {\n",
       "        //console.log('sending', m);\n",
       "        comm.send(m);\n",
       "    };\n",
       "    // Register the callback with on_msg.\n",
       "    comm.on_msg(function(msg) {\n",
       "        //console.log('receiving', msg['content']['data'], msg);\n",
       "        // Pass the mpl event to the overridden (by mpl) onmessage function.\n",
       "        ws.onmessage(msg['content']['data'])\n",
       "    });\n",
       "    return ws;\n",
       "}\n",
       "\n",
       "mpl.mpl_figure_comm = function(comm, msg) {\n",
       "    // This is the function which gets called when the mpl process\n",
       "    // starts-up an IPython Comm through the \"matplotlib\" channel.\n",
       "\n",
       "    var id = msg.content.data.id;\n",
       "    // Get hold of the div created by the display call when the Comm\n",
       "    // socket was opened in Python.\n",
       "    var element = $(\"#\" + id);\n",
       "    var ws_proxy = comm_websocket_adapter(comm)\n",
       "\n",
       "    function ondownload(figure, format) {\n",
       "        window.open(figure.imageObj.src);\n",
       "    }\n",
       "\n",
       "    var fig = new mpl.figure(id, ws_proxy,\n",
       "                           ondownload,\n",
       "                           element.get(0));\n",
       "\n",
       "    // Call onopen now - mpl needs it, as it is assuming we've passed it a real\n",
       "    // web socket which is closed, not our websocket->open comm proxy.\n",
       "    ws_proxy.onopen();\n",
       "\n",
       "    fig.parent_element = element.get(0);\n",
       "    fig.cell_info = mpl.find_output_cell(\"<div id='\" + id + \"'></div>\");\n",
       "    if (!fig.cell_info) {\n",
       "        console.error(\"Failed to find cell for figure\", id, fig);\n",
       "        return;\n",
       "    }\n",
       "\n",
       "    var output_index = fig.cell_info[2]\n",
       "    var cell = fig.cell_info[0];\n",
       "\n",
       "};\n",
       "\n",
       "mpl.figure.prototype.handle_close = function(fig, msg) {\n",
       "    var width = fig.canvas.width/mpl.ratio\n",
       "    fig.root.unbind('remove')\n",
       "\n",
       "    // Update the output cell to use the data from the current canvas.\n",
       "    fig.push_to_output();\n",
       "    var dataURL = fig.canvas.toDataURL();\n",
       "    // Re-enable the keyboard manager in IPython - without this line, in FF,\n",
       "    // the notebook keyboard shortcuts fail.\n",
       "    IPython.keyboard_manager.enable()\n",
       "    $(fig.parent_element).html('<img src=\"' + dataURL + '\" width=\"' + width + '\">');\n",
       "    fig.close_ws(fig, msg);\n",
       "}\n",
       "\n",
       "mpl.figure.prototype.close_ws = function(fig, msg){\n",
       "    fig.send_message('closing', msg);\n",
       "    // fig.ws.close()\n",
       "}\n",
       "\n",
       "mpl.figure.prototype.push_to_output = function(remove_interactive) {\n",
       "    // Turn the data on the canvas into data in the output cell.\n",
       "    var width = this.canvas.width/mpl.ratio\n",
       "    var dataURL = this.canvas.toDataURL();\n",
       "    this.cell_info[1]['text/html'] = '<img src=\"' + dataURL + '\" width=\"' + width + '\">';\n",
       "}\n",
       "\n",
       "mpl.figure.prototype.updated_canvas_event = function() {\n",
       "    // Tell IPython that the notebook contents must change.\n",
       "    IPython.notebook.set_dirty(true);\n",
       "    this.send_message(\"ack\", {});\n",
       "    var fig = this;\n",
       "    // Wait a second, then push the new image to the DOM so\n",
       "    // that it is saved nicely (might be nice to debounce this).\n",
       "    setTimeout(function () { fig.push_to_output() }, 1000);\n",
       "}\n",
       "\n",
       "mpl.figure.prototype._init_toolbar = function() {\n",
       "    var fig = this;\n",
       "\n",
       "    var nav_element = $('<div/>');\n",
       "    nav_element.attr('style', 'width: 100%');\n",
       "    this.root.append(nav_element);\n",
       "\n",
       "    // Define a callback function for later on.\n",
       "    function toolbar_event(event) {\n",
       "        return fig.toolbar_button_onclick(event['data']);\n",
       "    }\n",
       "    function toolbar_mouse_event(event) {\n",
       "        return fig.toolbar_button_onmouseover(event['data']);\n",
       "    }\n",
       "\n",
       "    for(var toolbar_ind in mpl.toolbar_items){\n",
       "        var name = mpl.toolbar_items[toolbar_ind][0];\n",
       "        var tooltip = mpl.toolbar_items[toolbar_ind][1];\n",
       "        var image = mpl.toolbar_items[toolbar_ind][2];\n",
       "        var method_name = mpl.toolbar_items[toolbar_ind][3];\n",
       "\n",
       "        if (!name) { continue; };\n",
       "\n",
       "        var button = $('<button class=\"btn btn-default\" href=\"#\" title=\"' + name + '\"><i class=\"fa ' + image + ' fa-lg\"></i></button>');\n",
       "        button.click(method_name, toolbar_event);\n",
       "        button.mouseover(tooltip, toolbar_mouse_event);\n",
       "        nav_element.append(button);\n",
       "    }\n",
       "\n",
       "    // Add the status bar.\n",
       "    var status_bar = $('<span class=\"mpl-message\" style=\"text-align:right; float: right;\"/>');\n",
       "    nav_element.append(status_bar);\n",
       "    this.message = status_bar[0];\n",
       "\n",
       "    // Add the close button to the window.\n",
       "    var buttongrp = $('<div class=\"btn-group inline pull-right\"></div>');\n",
       "    var button = $('<button class=\"btn btn-mini btn-primary\" href=\"#\" title=\"Stop Interaction\"><i class=\"fa fa-power-off icon-remove icon-large\"></i></button>');\n",
       "    button.click(function (evt) { fig.handle_close(fig, {}); } );\n",
       "    button.mouseover('Stop Interaction', toolbar_mouse_event);\n",
       "    buttongrp.append(button);\n",
       "    var titlebar = this.root.find($('.ui-dialog-titlebar'));\n",
       "    titlebar.prepend(buttongrp);\n",
       "}\n",
       "\n",
       "mpl.figure.prototype._root_extra_style = function(el){\n",
       "    var fig = this\n",
       "    el.on(\"remove\", function(){\n",
       "\tfig.close_ws(fig, {});\n",
       "    });\n",
       "}\n",
       "\n",
       "mpl.figure.prototype._canvas_extra_style = function(el){\n",
       "    // this is important to make the div 'focusable\n",
       "    el.attr('tabindex', 0)\n",
       "    // reach out to IPython and tell the keyboard manager to turn it's self\n",
       "    // off when our div gets focus\n",
       "\n",
       "    // location in version 3\n",
       "    if (IPython.notebook.keyboard_manager) {\n",
       "        IPython.notebook.keyboard_manager.register_events(el);\n",
       "    }\n",
       "    else {\n",
       "        // location in version 2\n",
       "        IPython.keyboard_manager.register_events(el);\n",
       "    }\n",
       "\n",
       "}\n",
       "\n",
       "mpl.figure.prototype._key_event_extra = function(event, name) {\n",
       "    var manager = IPython.notebook.keyboard_manager;\n",
       "    if (!manager)\n",
       "        manager = IPython.keyboard_manager;\n",
       "\n",
       "    // Check for shift+enter\n",
       "    if (event.shiftKey && event.which == 13) {\n",
       "        this.canvas_div.blur();\n",
       "        // select the cell after this one\n",
       "        var index = IPython.notebook.find_cell_index(this.cell_info[0]);\n",
       "        IPython.notebook.select(index + 1);\n",
       "    }\n",
       "}\n",
       "\n",
       "mpl.figure.prototype.handle_save = function(fig, msg) {\n",
       "    fig.ondownload(fig, null);\n",
       "}\n",
       "\n",
       "\n",
       "mpl.find_output_cell = function(html_output) {\n",
       "    // Return the cell and output element which can be found *uniquely* in the notebook.\n",
       "    // Note - this is a bit hacky, but it is done because the \"notebook_saving.Notebook\"\n",
       "    // IPython event is triggered only after the cells have been serialised, which for\n",
       "    // our purposes (turning an active figure into a static one), is too late.\n",
       "    var cells = IPython.notebook.get_cells();\n",
       "    var ncells = cells.length;\n",
       "    for (var i=0; i<ncells; i++) {\n",
       "        var cell = cells[i];\n",
       "        if (cell.cell_type === 'code'){\n",
       "            for (var j=0; j<cell.output_area.outputs.length; j++) {\n",
       "                var data = cell.output_area.outputs[j];\n",
       "                if (data.data) {\n",
       "                    // IPython >= 3 moved mimebundle to data attribute of output\n",
       "                    data = data.data;\n",
       "                }\n",
       "                if (data['text/html'] == html_output) {\n",
       "                    return [cell, data, j];\n",
       "                }\n",
       "            }\n",
       "        }\n",
       "    }\n",
       "}\n",
       "\n",
       "// Register the function which deals with the matplotlib target/channel.\n",
       "// The kernel may be null if the page has been refreshed.\n",
       "if (IPython.notebook.kernel != null) {\n",
       "    IPython.notebook.kernel.comm_manager.register_target('matplotlib', mpl.mpl_figure_comm);\n",
       "}\n"
      ],
      "text/plain": [
       "<IPython.core.display.Javascript object>"
      ]
     },
     "metadata": {},
     "output_type": "display_data"
    },
    {
     "data": {
      "text/html": [
       "<img src=\"data:image/png;base64,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\" width=\"640\">"
      ],
      "text/plain": [
       "<IPython.core.display.HTML object>"
      ]
     },
     "metadata": {},
     "output_type": "display_data"
    },
    {
     "data": {
      "text/plain": [
       "{'whiskers': [<matplotlib.lines.Line2D at 0x7fcc1f6d6b00>,\n",
       "  <matplotlib.lines.Line2D at 0x7fcc1f6d62b0>],\n",
       " 'caps': [<matplotlib.lines.Line2D at 0x7fcc1f6d6a20>,\n",
       "  <matplotlib.lines.Line2D at 0x7fcc1f6d6400>],\n",
       " 'boxes': [<matplotlib.lines.Line2D at 0x7fcc1f6d63c8>],\n",
       " 'medians': [<matplotlib.lines.Line2D at 0x7fcc1f73d470>],\n",
       " 'fliers': [<matplotlib.lines.Line2D at 0x7fcc1f73da90>],\n",
       " 'means': []}"
      ]
     },
     "execution_count": 12,
     "metadata": {},
     "output_type": "execute_result"
    }
   ],
   "source": [
    "rms_values = all_split_measure[all_split_measure['measurement']=='rms']\n",
    "plt.figure()\n",
    "plt.boxplot(dB(rms_values['value']))"
   ]
  },
  {
   "cell_type": "markdown",
   "metadata": {},
   "source": [
    "### Choosing only those above the silence threshold\n",
    "Now all windows above the silence threshold need to be chosen. Previously, in the notebook *what qualifies as a silent audio segment* I'd set the $silence+20$dB threshold. Right now, I'm wondering if that threshold is too high, and that it'd mean losing out on a lot of data. But first let's see how much data is left with +10 and +20 dB thresholds. "
   ]
  },
  {
   "cell_type": "code",
   "execution_count": 13,
   "metadata": {},
   "outputs": [
    {
     "data": {
      "text/html": [
       "<div>\n",
       "<style scoped>\n",
       "    .dataframe tbody tr th:only-of-type {\n",
       "        vertical-align: middle;\n",
       "    }\n",
       "\n",
       "    .dataframe tbody tr th {\n",
       "        vertical-align: top;\n",
       "    }\n",
       "\n",
       "    .dataframe thead th {\n",
       "        text-align: right;\n",
       "    }\n",
       "</style>\n",
       "<table border=\"1\" class=\"dataframe\">\n",
       "  <thead>\n",
       "    <tr style=\"text-align: right;\">\n",
       "      <th></th>\n",
       "      <th>Unnamed: 0</th>\n",
       "      <th>call_dbpeak_threshold</th>\n",
       "      <th>call_dbrms_threshold</th>\n",
       "    </tr>\n",
       "  </thead>\n",
       "  <tbody>\n",
       "    <tr>\n",
       "      <th>0</th>\n",
       "      <td>0</td>\n",
       "      <td>-23.0</td>\n",
       "      <td>-37.0</td>\n",
       "    </tr>\n",
       "  </tbody>\n",
       "</table>\n",
       "</div>"
      ],
      "text/plain": [
       "   Unnamed: 0  call_dbpeak_threshold  call_dbrms_threshold\n",
       "0           0                  -23.0                 -37.0"
      ]
     },
     "execution_count": 13,
     "metadata": {},
     "output_type": "execute_result"
    }
   ],
   "source": [
    "plus20dB_threshold = pd.read_csv('../call_threshold_levels.csv')\n",
    "plus20dB_threshold"
   ]
  },
  {
   "cell_type": "code",
   "execution_count": 14,
   "metadata": {},
   "outputs": [],
   "source": [
    "measurement_df = all_split_measure"
   ]
  },
  {
   "cell_type": "code",
   "execution_count": 15,
   "metadata": {},
   "outputs": [],
   "source": [
    "def choose_all_windows_above_threshold(measurement_df, threshold):\n",
    "    '''\n",
    "    Chooses all windows with rms greater or equal to the given rms threshold\n",
    "    \n",
    "    \n",
    "    Parameters\n",
    "    ----------\n",
    "    measurement_df : pd.DataFrame\n",
    "        A long dataframe with one measurement value per row\n",
    "        Must have the columns 'measurement', 'unique_window_id'\n",
    "        The 'measurement' column must also have some entries with 'rms' in them. \n",
    "    threshold : float>0\n",
    "        The rms threshold to define windows which are not silent. \n",
    "    \n",
    "    Returns \n",
    "    -------\n",
    "    all_above_threshold : pd.DataFrame\n",
    "        The dataframe with all segments across different files that are greater than or equal to the \n",
    "        chosen threshold rms. \n",
    "    '''\n",
    "\n",
    "    rms_values = measurement_df[measurement_df['measurement']=='rms'].reset_index(drop=True)\n",
    "    above_threshold = rms_values[rms_values['value']>=threshold]\n",
    "    windowids_above_threshold = above_threshold['unique_window_id']\n",
    "    all_above_threshold = measurement_df[measurement_df['unique_window_id'].isin(windowids_above_threshold)].reset_index(drop=True)\n",
    "    return all_above_threshold\n"
   ]
  },
  {
   "cell_type": "code",
   "execution_count": 16,
   "metadata": {},
   "outputs": [
    {
     "data": {
      "text/plain": [
       "(0.01412537544622754, 0.0044668359215096305)"
      ]
     },
     "execution_count": 16,
     "metadata": {},
     "output_type": "execute_result"
    }
   ],
   "source": [
    "threshold_20db = float(10**(plus20dB_threshold['call_dbrms_threshold']/20.0))\n",
    "threshold10db  = float(10**((plus20dB_threshold['call_dbrms_threshold']-10)/20.0))\n",
    "threshold_20db, threshold10db"
   ]
  },
  {
   "cell_type": "code",
   "execution_count": 17,
   "metadata": {},
   "outputs": [],
   "source": [
    "non_silent_measures = choose_all_windows_above_threshold(all_split_measure, threshold_20db)"
   ]
  },
  {
   "cell_type": "code",
   "execution_count": 18,
   "metadata": {},
   "outputs": [
    {
     "data": {
      "application/javascript": [
       "/* Put everything inside the global mpl namespace */\n",
       "window.mpl = {};\n",
       "\n",
       "\n",
       "mpl.get_websocket_type = function() {\n",
       "    if (typeof(WebSocket) !== 'undefined') {\n",
       "        return WebSocket;\n",
       "    } else if (typeof(MozWebSocket) !== 'undefined') {\n",
       "        return MozWebSocket;\n",
       "    } else {\n",
       "        alert('Your browser does not have WebSocket support. ' +\n",
       "              'Please try Chrome, Safari or Firefox ≥ 6. ' +\n",
       "              'Firefox 4 and 5 are also supported but you ' +\n",
       "              'have to enable WebSockets in about:config.');\n",
       "    };\n",
       "}\n",
       "\n",
       "mpl.figure = function(figure_id, websocket, ondownload, parent_element) {\n",
       "    this.id = figure_id;\n",
       "\n",
       "    this.ws = websocket;\n",
       "\n",
       "    this.supports_binary = (this.ws.binaryType != undefined);\n",
       "\n",
       "    if (!this.supports_binary) {\n",
       "        var warnings = document.getElementById(\"mpl-warnings\");\n",
       "        if (warnings) {\n",
       "            warnings.style.display = 'block';\n",
       "            warnings.textContent = (\n",
       "                \"This browser does not support binary websocket messages. \" +\n",
       "                    \"Performance may be slow.\");\n",
       "        }\n",
       "    }\n",
       "\n",
       "    this.imageObj = new Image();\n",
       "\n",
       "    this.context = undefined;\n",
       "    this.message = undefined;\n",
       "    this.canvas = undefined;\n",
       "    this.rubberband_canvas = undefined;\n",
       "    this.rubberband_context = undefined;\n",
       "    this.format_dropdown = undefined;\n",
       "\n",
       "    this.image_mode = 'full';\n",
       "\n",
       "    this.root = $('<div/>');\n",
       "    this._root_extra_style(this.root)\n",
       "    this.root.attr('style', 'display: inline-block');\n",
       "\n",
       "    $(parent_element).append(this.root);\n",
       "\n",
       "    this._init_header(this);\n",
       "    this._init_canvas(this);\n",
       "    this._init_toolbar(this);\n",
       "\n",
       "    var fig = this;\n",
       "\n",
       "    this.waiting = false;\n",
       "\n",
       "    this.ws.onopen =  function () {\n",
       "            fig.send_message(\"supports_binary\", {value: fig.supports_binary});\n",
       "            fig.send_message(\"send_image_mode\", {});\n",
       "            if (mpl.ratio != 1) {\n",
       "                fig.send_message(\"set_dpi_ratio\", {'dpi_ratio': mpl.ratio});\n",
       "            }\n",
       "            fig.send_message(\"refresh\", {});\n",
       "        }\n",
       "\n",
       "    this.imageObj.onload = function() {\n",
       "            if (fig.image_mode == 'full') {\n",
       "                // Full images could contain transparency (where diff images\n",
       "                // almost always do), so we need to clear the canvas so that\n",
       "                // there is no ghosting.\n",
       "                fig.context.clearRect(0, 0, fig.canvas.width, fig.canvas.height);\n",
       "            }\n",
       "            fig.context.drawImage(fig.imageObj, 0, 0);\n",
       "        };\n",
       "\n",
       "    this.imageObj.onunload = function() {\n",
       "        fig.ws.close();\n",
       "    }\n",
       "\n",
       "    this.ws.onmessage = this._make_on_message_function(this);\n",
       "\n",
       "    this.ondownload = ondownload;\n",
       "}\n",
       "\n",
       "mpl.figure.prototype._init_header = function() {\n",
       "    var titlebar = $(\n",
       "        '<div class=\"ui-dialog-titlebar ui-widget-header ui-corner-all ' +\n",
       "        'ui-helper-clearfix\"/>');\n",
       "    var titletext = $(\n",
       "        '<div class=\"ui-dialog-title\" style=\"width: 100%; ' +\n",
       "        'text-align: center; padding: 3px;\"/>');\n",
       "    titlebar.append(titletext)\n",
       "    this.root.append(titlebar);\n",
       "    this.header = titletext[0];\n",
       "}\n",
       "\n",
       "\n",
       "\n",
       "mpl.figure.prototype._canvas_extra_style = function(canvas_div) {\n",
       "\n",
       "}\n",
       "\n",
       "\n",
       "mpl.figure.prototype._root_extra_style = function(canvas_div) {\n",
       "\n",
       "}\n",
       "\n",
       "mpl.figure.prototype._init_canvas = function() {\n",
       "    var fig = this;\n",
       "\n",
       "    var canvas_div = $('<div/>');\n",
       "\n",
       "    canvas_div.attr('style', 'position: relative; clear: both; outline: 0');\n",
       "\n",
       "    function canvas_keyboard_event(event) {\n",
       "        return fig.key_event(event, event['data']);\n",
       "    }\n",
       "\n",
       "    canvas_div.keydown('key_press', canvas_keyboard_event);\n",
       "    canvas_div.keyup('key_release', canvas_keyboard_event);\n",
       "    this.canvas_div = canvas_div\n",
       "    this._canvas_extra_style(canvas_div)\n",
       "    this.root.append(canvas_div);\n",
       "\n",
       "    var canvas = $('<canvas/>');\n",
       "    canvas.addClass('mpl-canvas');\n",
       "    canvas.attr('style', \"left: 0; top: 0; z-index: 0; outline: 0\")\n",
       "\n",
       "    this.canvas = canvas[0];\n",
       "    this.context = canvas[0].getContext(\"2d\");\n",
       "\n",
       "    var backingStore = this.context.backingStorePixelRatio ||\n",
       "\tthis.context.webkitBackingStorePixelRatio ||\n",
       "\tthis.context.mozBackingStorePixelRatio ||\n",
       "\tthis.context.msBackingStorePixelRatio ||\n",
       "\tthis.context.oBackingStorePixelRatio ||\n",
       "\tthis.context.backingStorePixelRatio || 1;\n",
       "\n",
       "    mpl.ratio = (window.devicePixelRatio || 1) / backingStore;\n",
       "\n",
       "    var rubberband = $('<canvas/>');\n",
       "    rubberband.attr('style', \"position: absolute; left: 0; top: 0; z-index: 1;\")\n",
       "\n",
       "    var pass_mouse_events = true;\n",
       "\n",
       "    canvas_div.resizable({\n",
       "        start: function(event, ui) {\n",
       "            pass_mouse_events = false;\n",
       "        },\n",
       "        resize: function(event, ui) {\n",
       "            fig.request_resize(ui.size.width, ui.size.height);\n",
       "        },\n",
       "        stop: function(event, ui) {\n",
       "            pass_mouse_events = true;\n",
       "            fig.request_resize(ui.size.width, ui.size.height);\n",
       "        },\n",
       "    });\n",
       "\n",
       "    function mouse_event_fn(event) {\n",
       "        if (pass_mouse_events)\n",
       "            return fig.mouse_event(event, event['data']);\n",
       "    }\n",
       "\n",
       "    rubberband.mousedown('button_press', mouse_event_fn);\n",
       "    rubberband.mouseup('button_release', mouse_event_fn);\n",
       "    // Throttle sequential mouse events to 1 every 20ms.\n",
       "    rubberband.mousemove('motion_notify', mouse_event_fn);\n",
       "\n",
       "    rubberband.mouseenter('figure_enter', mouse_event_fn);\n",
       "    rubberband.mouseleave('figure_leave', mouse_event_fn);\n",
       "\n",
       "    canvas_div.on(\"wheel\", function (event) {\n",
       "        event = event.originalEvent;\n",
       "        event['data'] = 'scroll'\n",
       "        if (event.deltaY < 0) {\n",
       "            event.step = 1;\n",
       "        } else {\n",
       "            event.step = -1;\n",
       "        }\n",
       "        mouse_event_fn(event);\n",
       "    });\n",
       "\n",
       "    canvas_div.append(canvas);\n",
       "    canvas_div.append(rubberband);\n",
       "\n",
       "    this.rubberband = rubberband;\n",
       "    this.rubberband_canvas = rubberband[0];\n",
       "    this.rubberband_context = rubberband[0].getContext(\"2d\");\n",
       "    this.rubberband_context.strokeStyle = \"#000000\";\n",
       "\n",
       "    this._resize_canvas = function(width, height) {\n",
       "        // Keep the size of the canvas, canvas container, and rubber band\n",
       "        // canvas in synch.\n",
       "        canvas_div.css('width', width)\n",
       "        canvas_div.css('height', height)\n",
       "\n",
       "        canvas.attr('width', width * mpl.ratio);\n",
       "        canvas.attr('height', height * mpl.ratio);\n",
       "        canvas.attr('style', 'width: ' + width + 'px; height: ' + height + 'px;');\n",
       "\n",
       "        rubberband.attr('width', width);\n",
       "        rubberband.attr('height', height);\n",
       "    }\n",
       "\n",
       "    // Set the figure to an initial 600x600px, this will subsequently be updated\n",
       "    // upon first draw.\n",
       "    this._resize_canvas(600, 600);\n",
       "\n",
       "    // Disable right mouse context menu.\n",
       "    $(this.rubberband_canvas).bind(\"contextmenu\",function(e){\n",
       "        return false;\n",
       "    });\n",
       "\n",
       "    function set_focus () {\n",
       "        canvas.focus();\n",
       "        canvas_div.focus();\n",
       "    }\n",
       "\n",
       "    window.setTimeout(set_focus, 100);\n",
       "}\n",
       "\n",
       "mpl.figure.prototype._init_toolbar = function() {\n",
       "    var fig = this;\n",
       "\n",
       "    var nav_element = $('<div/>');\n",
       "    nav_element.attr('style', 'width: 100%');\n",
       "    this.root.append(nav_element);\n",
       "\n",
       "    // Define a callback function for later on.\n",
       "    function toolbar_event(event) {\n",
       "        return fig.toolbar_button_onclick(event['data']);\n",
       "    }\n",
       "    function toolbar_mouse_event(event) {\n",
       "        return fig.toolbar_button_onmouseover(event['data']);\n",
       "    }\n",
       "\n",
       "    for(var toolbar_ind in mpl.toolbar_items) {\n",
       "        var name = mpl.toolbar_items[toolbar_ind][0];\n",
       "        var tooltip = mpl.toolbar_items[toolbar_ind][1];\n",
       "        var image = mpl.toolbar_items[toolbar_ind][2];\n",
       "        var method_name = mpl.toolbar_items[toolbar_ind][3];\n",
       "\n",
       "        if (!name) {\n",
       "            // put a spacer in here.\n",
       "            continue;\n",
       "        }\n",
       "        var button = $('<button/>');\n",
       "        button.addClass('ui-button ui-widget ui-state-default ui-corner-all ' +\n",
       "                        'ui-button-icon-only');\n",
       "        button.attr('role', 'button');\n",
       "        button.attr('aria-disabled', 'false');\n",
       "        button.click(method_name, toolbar_event);\n",
       "        button.mouseover(tooltip, toolbar_mouse_event);\n",
       "\n",
       "        var icon_img = $('<span/>');\n",
       "        icon_img.addClass('ui-button-icon-primary ui-icon');\n",
       "        icon_img.addClass(image);\n",
       "        icon_img.addClass('ui-corner-all');\n",
       "\n",
       "        var tooltip_span = $('<span/>');\n",
       "        tooltip_span.addClass('ui-button-text');\n",
       "        tooltip_span.html(tooltip);\n",
       "\n",
       "        button.append(icon_img);\n",
       "        button.append(tooltip_span);\n",
       "\n",
       "        nav_element.append(button);\n",
       "    }\n",
       "\n",
       "    var fmt_picker_span = $('<span/>');\n",
       "\n",
       "    var fmt_picker = $('<select/>');\n",
       "    fmt_picker.addClass('mpl-toolbar-option ui-widget ui-widget-content');\n",
       "    fmt_picker_span.append(fmt_picker);\n",
       "    nav_element.append(fmt_picker_span);\n",
       "    this.format_dropdown = fmt_picker[0];\n",
       "\n",
       "    for (var ind in mpl.extensions) {\n",
       "        var fmt = mpl.extensions[ind];\n",
       "        var option = $(\n",
       "            '<option/>', {selected: fmt === mpl.default_extension}).html(fmt);\n",
       "        fmt_picker.append(option);\n",
       "    }\n",
       "\n",
       "    // Add hover states to the ui-buttons\n",
       "    $( \".ui-button\" ).hover(\n",
       "        function() { $(this).addClass(\"ui-state-hover\");},\n",
       "        function() { $(this).removeClass(\"ui-state-hover\");}\n",
       "    );\n",
       "\n",
       "    var status_bar = $('<span class=\"mpl-message\"/>');\n",
       "    nav_element.append(status_bar);\n",
       "    this.message = status_bar[0];\n",
       "}\n",
       "\n",
       "mpl.figure.prototype.request_resize = function(x_pixels, y_pixels) {\n",
       "    // Request matplotlib to resize the figure. Matplotlib will then trigger a resize in the client,\n",
       "    // which will in turn request a refresh of the image.\n",
       "    this.send_message('resize', {'width': x_pixels, 'height': y_pixels});\n",
       "}\n",
       "\n",
       "mpl.figure.prototype.send_message = function(type, properties) {\n",
       "    properties['type'] = type;\n",
       "    properties['figure_id'] = this.id;\n",
       "    this.ws.send(JSON.stringify(properties));\n",
       "}\n",
       "\n",
       "mpl.figure.prototype.send_draw_message = function() {\n",
       "    if (!this.waiting) {\n",
       "        this.waiting = true;\n",
       "        this.ws.send(JSON.stringify({type: \"draw\", figure_id: this.id}));\n",
       "    }\n",
       "}\n",
       "\n",
       "\n",
       "mpl.figure.prototype.handle_save = function(fig, msg) {\n",
       "    var format_dropdown = fig.format_dropdown;\n",
       "    var format = format_dropdown.options[format_dropdown.selectedIndex].value;\n",
       "    fig.ondownload(fig, format);\n",
       "}\n",
       "\n",
       "\n",
       "mpl.figure.prototype.handle_resize = function(fig, msg) {\n",
       "    var size = msg['size'];\n",
       "    if (size[0] != fig.canvas.width || size[1] != fig.canvas.height) {\n",
       "        fig._resize_canvas(size[0], size[1]);\n",
       "        fig.send_message(\"refresh\", {});\n",
       "    };\n",
       "}\n",
       "\n",
       "mpl.figure.prototype.handle_rubberband = function(fig, msg) {\n",
       "    var x0 = msg['x0'] / mpl.ratio;\n",
       "    var y0 = (fig.canvas.height - msg['y0']) / mpl.ratio;\n",
       "    var x1 = msg['x1'] / mpl.ratio;\n",
       "    var y1 = (fig.canvas.height - msg['y1']) / mpl.ratio;\n",
       "    x0 = Math.floor(x0) + 0.5;\n",
       "    y0 = Math.floor(y0) + 0.5;\n",
       "    x1 = Math.floor(x1) + 0.5;\n",
       "    y1 = Math.floor(y1) + 0.5;\n",
       "    var min_x = Math.min(x0, x1);\n",
       "    var min_y = Math.min(y0, y1);\n",
       "    var width = Math.abs(x1 - x0);\n",
       "    var height = Math.abs(y1 - y0);\n",
       "\n",
       "    fig.rubberband_context.clearRect(\n",
       "        0, 0, fig.canvas.width / mpl.ratio, fig.canvas.height / mpl.ratio);\n",
       "\n",
       "    fig.rubberband_context.strokeRect(min_x, min_y, width, height);\n",
       "}\n",
       "\n",
       "mpl.figure.prototype.handle_figure_label = function(fig, msg) {\n",
       "    // Updates the figure title.\n",
       "    fig.header.textContent = msg['label'];\n",
       "}\n",
       "\n",
       "mpl.figure.prototype.handle_cursor = function(fig, msg) {\n",
       "    var cursor = msg['cursor'];\n",
       "    switch(cursor)\n",
       "    {\n",
       "    case 0:\n",
       "        cursor = 'pointer';\n",
       "        break;\n",
       "    case 1:\n",
       "        cursor = 'default';\n",
       "        break;\n",
       "    case 2:\n",
       "        cursor = 'crosshair';\n",
       "        break;\n",
       "    case 3:\n",
       "        cursor = 'move';\n",
       "        break;\n",
       "    }\n",
       "    fig.rubberband_canvas.style.cursor = cursor;\n",
       "}\n",
       "\n",
       "mpl.figure.prototype.handle_message = function(fig, msg) {\n",
       "    fig.message.textContent = msg['message'];\n",
       "}\n",
       "\n",
       "mpl.figure.prototype.handle_draw = function(fig, msg) {\n",
       "    // Request the server to send over a new figure.\n",
       "    fig.send_draw_message();\n",
       "}\n",
       "\n",
       "mpl.figure.prototype.handle_image_mode = function(fig, msg) {\n",
       "    fig.image_mode = msg['mode'];\n",
       "}\n",
       "\n",
       "mpl.figure.prototype.updated_canvas_event = function() {\n",
       "    // Called whenever the canvas gets updated.\n",
       "    this.send_message(\"ack\", {});\n",
       "}\n",
       "\n",
       "// A function to construct a web socket function for onmessage handling.\n",
       "// Called in the figure constructor.\n",
       "mpl.figure.prototype._make_on_message_function = function(fig) {\n",
       "    return function socket_on_message(evt) {\n",
       "        if (evt.data instanceof Blob) {\n",
       "            /* FIXME: We get \"Resource interpreted as Image but\n",
       "             * transferred with MIME type text/plain:\" errors on\n",
       "             * Chrome.  But how to set the MIME type?  It doesn't seem\n",
       "             * to be part of the websocket stream */\n",
       "            evt.data.type = \"image/png\";\n",
       "\n",
       "            /* Free the memory for the previous frames */\n",
       "            if (fig.imageObj.src) {\n",
       "                (window.URL || window.webkitURL).revokeObjectURL(\n",
       "                    fig.imageObj.src);\n",
       "            }\n",
       "\n",
       "            fig.imageObj.src = (window.URL || window.webkitURL).createObjectURL(\n",
       "                evt.data);\n",
       "            fig.updated_canvas_event();\n",
       "            fig.waiting = false;\n",
       "            return;\n",
       "        }\n",
       "        else if (typeof evt.data === 'string' && evt.data.slice(0, 21) == \"data:image/png;base64\") {\n",
       "            fig.imageObj.src = evt.data;\n",
       "            fig.updated_canvas_event();\n",
       "            fig.waiting = false;\n",
       "            return;\n",
       "        }\n",
       "\n",
       "        var msg = JSON.parse(evt.data);\n",
       "        var msg_type = msg['type'];\n",
       "\n",
       "        // Call the  \"handle_{type}\" callback, which takes\n",
       "        // the figure and JSON message as its only arguments.\n",
       "        try {\n",
       "            var callback = fig[\"handle_\" + msg_type];\n",
       "        } catch (e) {\n",
       "            console.log(\"No handler for the '\" + msg_type + \"' message type: \", msg);\n",
       "            return;\n",
       "        }\n",
       "\n",
       "        if (callback) {\n",
       "            try {\n",
       "                // console.log(\"Handling '\" + msg_type + \"' message: \", msg);\n",
       "                callback(fig, msg);\n",
       "            } catch (e) {\n",
       "                console.log(\"Exception inside the 'handler_\" + msg_type + \"' callback:\", e, e.stack, msg);\n",
       "            }\n",
       "        }\n",
       "    };\n",
       "}\n",
       "\n",
       "// from http://stackoverflow.com/questions/1114465/getting-mouse-location-in-canvas\n",
       "mpl.findpos = function(e) {\n",
       "    //this section is from http://www.quirksmode.org/js/events_properties.html\n",
       "    var targ;\n",
       "    if (!e)\n",
       "        e = window.event;\n",
       "    if (e.target)\n",
       "        targ = e.target;\n",
       "    else if (e.srcElement)\n",
       "        targ = e.srcElement;\n",
       "    if (targ.nodeType == 3) // defeat Safari bug\n",
       "        targ = targ.parentNode;\n",
       "\n",
       "    // jQuery normalizes the pageX and pageY\n",
       "    // pageX,Y are the mouse positions relative to the document\n",
       "    // offset() returns the position of the element relative to the document\n",
       "    var x = e.pageX - $(targ).offset().left;\n",
       "    var y = e.pageY - $(targ).offset().top;\n",
       "\n",
       "    return {\"x\": x, \"y\": y};\n",
       "};\n",
       "\n",
       "/*\n",
       " * return a copy of an object with only non-object keys\n",
       " * we need this to avoid circular references\n",
       " * http://stackoverflow.com/a/24161582/3208463\n",
       " */\n",
       "function simpleKeys (original) {\n",
       "  return Object.keys(original).reduce(function (obj, key) {\n",
       "    if (typeof original[key] !== 'object')\n",
       "        obj[key] = original[key]\n",
       "    return obj;\n",
       "  }, {});\n",
       "}\n",
       "\n",
       "mpl.figure.prototype.mouse_event = function(event, name) {\n",
       "    var canvas_pos = mpl.findpos(event)\n",
       "\n",
       "    if (name === 'button_press')\n",
       "    {\n",
       "        this.canvas.focus();\n",
       "        this.canvas_div.focus();\n",
       "    }\n",
       "\n",
       "    var x = canvas_pos.x * mpl.ratio;\n",
       "    var y = canvas_pos.y * mpl.ratio;\n",
       "\n",
       "    this.send_message(name, {x: x, y: y, button: event.button,\n",
       "                             step: event.step,\n",
       "                             guiEvent: simpleKeys(event)});\n",
       "\n",
       "    /* This prevents the web browser from automatically changing to\n",
       "     * the text insertion cursor when the button is pressed.  We want\n",
       "     * to control all of the cursor setting manually through the\n",
       "     * 'cursor' event from matplotlib */\n",
       "    event.preventDefault();\n",
       "    return false;\n",
       "}\n",
       "\n",
       "mpl.figure.prototype._key_event_extra = function(event, name) {\n",
       "    // Handle any extra behaviour associated with a key event\n",
       "}\n",
       "\n",
       "mpl.figure.prototype.key_event = function(event, name) {\n",
       "\n",
       "    // Prevent repeat events\n",
       "    if (name == 'key_press')\n",
       "    {\n",
       "        if (event.which === this._key)\n",
       "            return;\n",
       "        else\n",
       "            this._key = event.which;\n",
       "    }\n",
       "    if (name == 'key_release')\n",
       "        this._key = null;\n",
       "\n",
       "    var value = '';\n",
       "    if (event.ctrlKey && event.which != 17)\n",
       "        value += \"ctrl+\";\n",
       "    if (event.altKey && event.which != 18)\n",
       "        value += \"alt+\";\n",
       "    if (event.shiftKey && event.which != 16)\n",
       "        value += \"shift+\";\n",
       "\n",
       "    value += 'k';\n",
       "    value += event.which.toString();\n",
       "\n",
       "    this._key_event_extra(event, name);\n",
       "\n",
       "    this.send_message(name, {key: value,\n",
       "                             guiEvent: simpleKeys(event)});\n",
       "    return false;\n",
       "}\n",
       "\n",
       "mpl.figure.prototype.toolbar_button_onclick = function(name) {\n",
       "    if (name == 'download') {\n",
       "        this.handle_save(this, null);\n",
       "    } else {\n",
       "        this.send_message(\"toolbar_button\", {name: name});\n",
       "    }\n",
       "};\n",
       "\n",
       "mpl.figure.prototype.toolbar_button_onmouseover = function(tooltip) {\n",
       "    this.message.textContent = tooltip;\n",
       "};\n",
       "mpl.toolbar_items = [[\"Home\", \"Reset original view\", \"fa fa-home icon-home\", \"home\"], [\"Back\", \"Back to previous view\", \"fa fa-arrow-left icon-arrow-left\", \"back\"], [\"Forward\", \"Forward to next view\", \"fa fa-arrow-right icon-arrow-right\", \"forward\"], [\"\", \"\", \"\", \"\"], [\"Pan\", \"Pan axes with left mouse, zoom with right\", \"fa fa-arrows icon-move\", \"pan\"], [\"Zoom\", \"Zoom to rectangle\", \"fa fa-square-o icon-check-empty\", \"zoom\"], [\"\", \"\", \"\", \"\"], [\"Download\", \"Download plot\", \"fa fa-floppy-o icon-save\", \"download\"]];\n",
       "\n",
       "mpl.extensions = [\"eps\", \"jpeg\", \"pdf\", \"png\", \"ps\", \"raw\", \"svg\", \"tif\"];\n",
       "\n",
       "mpl.default_extension = \"png\";var comm_websocket_adapter = function(comm) {\n",
       "    // Create a \"websocket\"-like object which calls the given IPython comm\n",
       "    // object with the appropriate methods. Currently this is a non binary\n",
       "    // socket, so there is still some room for performance tuning.\n",
       "    var ws = {};\n",
       "\n",
       "    ws.close = function() {\n",
       "        comm.close()\n",
       "    };\n",
       "    ws.send = function(m) {\n",
       "        //console.log('sending', m);\n",
       "        comm.send(m);\n",
       "    };\n",
       "    // Register the callback with on_msg.\n",
       "    comm.on_msg(function(msg) {\n",
       "        //console.log('receiving', msg['content']['data'], msg);\n",
       "        // Pass the mpl event to the overridden (by mpl) onmessage function.\n",
       "        ws.onmessage(msg['content']['data'])\n",
       "    });\n",
       "    return ws;\n",
       "}\n",
       "\n",
       "mpl.mpl_figure_comm = function(comm, msg) {\n",
       "    // This is the function which gets called when the mpl process\n",
       "    // starts-up an IPython Comm through the \"matplotlib\" channel.\n",
       "\n",
       "    var id = msg.content.data.id;\n",
       "    // Get hold of the div created by the display call when the Comm\n",
       "    // socket was opened in Python.\n",
       "    var element = $(\"#\" + id);\n",
       "    var ws_proxy = comm_websocket_adapter(comm)\n",
       "\n",
       "    function ondownload(figure, format) {\n",
       "        window.open(figure.imageObj.src);\n",
       "    }\n",
       "\n",
       "    var fig = new mpl.figure(id, ws_proxy,\n",
       "                           ondownload,\n",
       "                           element.get(0));\n",
       "\n",
       "    // Call onopen now - mpl needs it, as it is assuming we've passed it a real\n",
       "    // web socket which is closed, not our websocket->open comm proxy.\n",
       "    ws_proxy.onopen();\n",
       "\n",
       "    fig.parent_element = element.get(0);\n",
       "    fig.cell_info = mpl.find_output_cell(\"<div id='\" + id + \"'></div>\");\n",
       "    if (!fig.cell_info) {\n",
       "        console.error(\"Failed to find cell for figure\", id, fig);\n",
       "        return;\n",
       "    }\n",
       "\n",
       "    var output_index = fig.cell_info[2]\n",
       "    var cell = fig.cell_info[0];\n",
       "\n",
       "};\n",
       "\n",
       "mpl.figure.prototype.handle_close = function(fig, msg) {\n",
       "    var width = fig.canvas.width/mpl.ratio\n",
       "    fig.root.unbind('remove')\n",
       "\n",
       "    // Update the output cell to use the data from the current canvas.\n",
       "    fig.push_to_output();\n",
       "    var dataURL = fig.canvas.toDataURL();\n",
       "    // Re-enable the keyboard manager in IPython - without this line, in FF,\n",
       "    // the notebook keyboard shortcuts fail.\n",
       "    IPython.keyboard_manager.enable()\n",
       "    $(fig.parent_element).html('<img src=\"' + dataURL + '\" width=\"' + width + '\">');\n",
       "    fig.close_ws(fig, msg);\n",
       "}\n",
       "\n",
       "mpl.figure.prototype.close_ws = function(fig, msg){\n",
       "    fig.send_message('closing', msg);\n",
       "    // fig.ws.close()\n",
       "}\n",
       "\n",
       "mpl.figure.prototype.push_to_output = function(remove_interactive) {\n",
       "    // Turn the data on the canvas into data in the output cell.\n",
       "    var width = this.canvas.width/mpl.ratio\n",
       "    var dataURL = this.canvas.toDataURL();\n",
       "    this.cell_info[1]['text/html'] = '<img src=\"' + dataURL + '\" width=\"' + width + '\">';\n",
       "}\n",
       "\n",
       "mpl.figure.prototype.updated_canvas_event = function() {\n",
       "    // Tell IPython that the notebook contents must change.\n",
       "    IPython.notebook.set_dirty(true);\n",
       "    this.send_message(\"ack\", {});\n",
       "    var fig = this;\n",
       "    // Wait a second, then push the new image to the DOM so\n",
       "    // that it is saved nicely (might be nice to debounce this).\n",
       "    setTimeout(function () { fig.push_to_output() }, 1000);\n",
       "}\n",
       "\n",
       "mpl.figure.prototype._init_toolbar = function() {\n",
       "    var fig = this;\n",
       "\n",
       "    var nav_element = $('<div/>');\n",
       "    nav_element.attr('style', 'width: 100%');\n",
       "    this.root.append(nav_element);\n",
       "\n",
       "    // Define a callback function for later on.\n",
       "    function toolbar_event(event) {\n",
       "        return fig.toolbar_button_onclick(event['data']);\n",
       "    }\n",
       "    function toolbar_mouse_event(event) {\n",
       "        return fig.toolbar_button_onmouseover(event['data']);\n",
       "    }\n",
       "\n",
       "    for(var toolbar_ind in mpl.toolbar_items){\n",
       "        var name = mpl.toolbar_items[toolbar_ind][0];\n",
       "        var tooltip = mpl.toolbar_items[toolbar_ind][1];\n",
       "        var image = mpl.toolbar_items[toolbar_ind][2];\n",
       "        var method_name = mpl.toolbar_items[toolbar_ind][3];\n",
       "\n",
       "        if (!name) { continue; };\n",
       "\n",
       "        var button = $('<button class=\"btn btn-default\" href=\"#\" title=\"' + name + '\"><i class=\"fa ' + image + ' fa-lg\"></i></button>');\n",
       "        button.click(method_name, toolbar_event);\n",
       "        button.mouseover(tooltip, toolbar_mouse_event);\n",
       "        nav_element.append(button);\n",
       "    }\n",
       "\n",
       "    // Add the status bar.\n",
       "    var status_bar = $('<span class=\"mpl-message\" style=\"text-align:right; float: right;\"/>');\n",
       "    nav_element.append(status_bar);\n",
       "    this.message = status_bar[0];\n",
       "\n",
       "    // Add the close button to the window.\n",
       "    var buttongrp = $('<div class=\"btn-group inline pull-right\"></div>');\n",
       "    var button = $('<button class=\"btn btn-mini btn-primary\" href=\"#\" title=\"Stop Interaction\"><i class=\"fa fa-power-off icon-remove icon-large\"></i></button>');\n",
       "    button.click(function (evt) { fig.handle_close(fig, {}); } );\n",
       "    button.mouseover('Stop Interaction', toolbar_mouse_event);\n",
       "    buttongrp.append(button);\n",
       "    var titlebar = this.root.find($('.ui-dialog-titlebar'));\n",
       "    titlebar.prepend(buttongrp);\n",
       "}\n",
       "\n",
       "mpl.figure.prototype._root_extra_style = function(el){\n",
       "    var fig = this\n",
       "    el.on(\"remove\", function(){\n",
       "\tfig.close_ws(fig, {});\n",
       "    });\n",
       "}\n",
       "\n",
       "mpl.figure.prototype._canvas_extra_style = function(el){\n",
       "    // this is important to make the div 'focusable\n",
       "    el.attr('tabindex', 0)\n",
       "    // reach out to IPython and tell the keyboard manager to turn it's self\n",
       "    // off when our div gets focus\n",
       "\n",
       "    // location in version 3\n",
       "    if (IPython.notebook.keyboard_manager) {\n",
       "        IPython.notebook.keyboard_manager.register_events(el);\n",
       "    }\n",
       "    else {\n",
       "        // location in version 2\n",
       "        IPython.keyboard_manager.register_events(el);\n",
       "    }\n",
       "\n",
       "}\n",
       "\n",
       "mpl.figure.prototype._key_event_extra = function(event, name) {\n",
       "    var manager = IPython.notebook.keyboard_manager;\n",
       "    if (!manager)\n",
       "        manager = IPython.keyboard_manager;\n",
       "\n",
       "    // Check for shift+enter\n",
       "    if (event.shiftKey && event.which == 13) {\n",
       "        this.canvas_div.blur();\n",
       "        // select the cell after this one\n",
       "        var index = IPython.notebook.find_cell_index(this.cell_info[0]);\n",
       "        IPython.notebook.select(index + 1);\n",
       "    }\n",
       "}\n",
       "\n",
       "mpl.figure.prototype.handle_save = function(fig, msg) {\n",
       "    fig.ondownload(fig, null);\n",
       "}\n",
       "\n",
       "\n",
       "mpl.find_output_cell = function(html_output) {\n",
       "    // Return the cell and output element which can be found *uniquely* in the notebook.\n",
       "    // Note - this is a bit hacky, but it is done because the \"notebook_saving.Notebook\"\n",
       "    // IPython event is triggered only after the cells have been serialised, which for\n",
       "    // our purposes (turning an active figure into a static one), is too late.\n",
       "    var cells = IPython.notebook.get_cells();\n",
       "    var ncells = cells.length;\n",
       "    for (var i=0; i<ncells; i++) {\n",
       "        var cell = cells[i];\n",
       "        if (cell.cell_type === 'code'){\n",
       "            for (var j=0; j<cell.output_area.outputs.length; j++) {\n",
       "                var data = cell.output_area.outputs[j];\n",
       "                if (data.data) {\n",
       "                    // IPython >= 3 moved mimebundle to data attribute of output\n",
       "                    data = data.data;\n",
       "                }\n",
       "                if (data['text/html'] == html_output) {\n",
       "                    return [cell, data, j];\n",
       "                }\n",
       "            }\n",
       "        }\n",
       "    }\n",
       "}\n",
       "\n",
       "// Register the function which deals with the matplotlib target/channel.\n",
       "// The kernel may be null if the page has been refreshed.\n",
       "if (IPython.notebook.kernel != null) {\n",
       "    IPython.notebook.kernel.comm_manager.register_target('matplotlib', mpl.mpl_figure_comm);\n",
       "}\n"
      ],
      "text/plain": [
       "<IPython.core.display.Javascript object>"
      ]
     },
     "metadata": {},
     "output_type": "display_data"
    },
    {
     "data": {
      "text/html": [
       "<img src=\"data:image/png;base64,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\" width=\"1000\">"
      ],
      "text/plain": [
       "<IPython.core.display.HTML object>"
      ]
     },
     "metadata": {},
     "output_type": "display_data"
    },
    {
     "data": {
      "text/plain": [
       "Text(0.5, 0, 'Lower frequency, \\n -46dB from peak frequency power')"
      ]
     },
     "execution_count": 18,
     "metadata": {},
     "output_type": "execute_result"
    }
   ],
   "source": [
    "dom_freq = non_silent_measures[non_silent_measures['measurement']=='dominant_frequencies']\n",
    "minusx_df = non_silent_measures[non_silent_measures['measurement']=='fm_terminal_freqs']\n",
    "\n",
    "\n",
    "\n",
    "plt.figure(figsize=(10,8))\n",
    "a0 = plt.subplot(121)\n",
    "plt.boxplot(dom_freq['value'].dropna())\n",
    "plt.xlabel('Dominant frequencies')\n",
    "plt.subplot(122, sharey=a0)\n",
    "plt.boxplot(minusx_df['value'].dropna())\n",
    "plt.xlabel('Lower frequency, \\n -46dB from peak frequency power')"
   ]
  },
  {
   "cell_type": "code",
   "execution_count": 19,
   "metadata": {},
   "outputs": [
    {
     "data": {
      "application/javascript": [
       "/* Put everything inside the global mpl namespace */\n",
       "window.mpl = {};\n",
       "\n",
       "\n",
       "mpl.get_websocket_type = function() {\n",
       "    if (typeof(WebSocket) !== 'undefined') {\n",
       "        return WebSocket;\n",
       "    } else if (typeof(MozWebSocket) !== 'undefined') {\n",
       "        return MozWebSocket;\n",
       "    } else {\n",
       "        alert('Your browser does not have WebSocket support. ' +\n",
       "              'Please try Chrome, Safari or Firefox ≥ 6. ' +\n",
       "              'Firefox 4 and 5 are also supported but you ' +\n",
       "              'have to enable WebSockets in about:config.');\n",
       "    };\n",
       "}\n",
       "\n",
       "mpl.figure = function(figure_id, websocket, ondownload, parent_element) {\n",
       "    this.id = figure_id;\n",
       "\n",
       "    this.ws = websocket;\n",
       "\n",
       "    this.supports_binary = (this.ws.binaryType != undefined);\n",
       "\n",
       "    if (!this.supports_binary) {\n",
       "        var warnings = document.getElementById(\"mpl-warnings\");\n",
       "        if (warnings) {\n",
       "            warnings.style.display = 'block';\n",
       "            warnings.textContent = (\n",
       "                \"This browser does not support binary websocket messages. \" +\n",
       "                    \"Performance may be slow.\");\n",
       "        }\n",
       "    }\n",
       "\n",
       "    this.imageObj = new Image();\n",
       "\n",
       "    this.context = undefined;\n",
       "    this.message = undefined;\n",
       "    this.canvas = undefined;\n",
       "    this.rubberband_canvas = undefined;\n",
       "    this.rubberband_context = undefined;\n",
       "    this.format_dropdown = undefined;\n",
       "\n",
       "    this.image_mode = 'full';\n",
       "\n",
       "    this.root = $('<div/>');\n",
       "    this._root_extra_style(this.root)\n",
       "    this.root.attr('style', 'display: inline-block');\n",
       "\n",
       "    $(parent_element).append(this.root);\n",
       "\n",
       "    this._init_header(this);\n",
       "    this._init_canvas(this);\n",
       "    this._init_toolbar(this);\n",
       "\n",
       "    var fig = this;\n",
       "\n",
       "    this.waiting = false;\n",
       "\n",
       "    this.ws.onopen =  function () {\n",
       "            fig.send_message(\"supports_binary\", {value: fig.supports_binary});\n",
       "            fig.send_message(\"send_image_mode\", {});\n",
       "            if (mpl.ratio != 1) {\n",
       "                fig.send_message(\"set_dpi_ratio\", {'dpi_ratio': mpl.ratio});\n",
       "            }\n",
       "            fig.send_message(\"refresh\", {});\n",
       "        }\n",
       "\n",
       "    this.imageObj.onload = function() {\n",
       "            if (fig.image_mode == 'full') {\n",
       "                // Full images could contain transparency (where diff images\n",
       "                // almost always do), so we need to clear the canvas so that\n",
       "                // there is no ghosting.\n",
       "                fig.context.clearRect(0, 0, fig.canvas.width, fig.canvas.height);\n",
       "            }\n",
       "            fig.context.drawImage(fig.imageObj, 0, 0);\n",
       "        };\n",
       "\n",
       "    this.imageObj.onunload = function() {\n",
       "        fig.ws.close();\n",
       "    }\n",
       "\n",
       "    this.ws.onmessage = this._make_on_message_function(this);\n",
       "\n",
       "    this.ondownload = ondownload;\n",
       "}\n",
       "\n",
       "mpl.figure.prototype._init_header = function() {\n",
       "    var titlebar = $(\n",
       "        '<div class=\"ui-dialog-titlebar ui-widget-header ui-corner-all ' +\n",
       "        'ui-helper-clearfix\"/>');\n",
       "    var titletext = $(\n",
       "        '<div class=\"ui-dialog-title\" style=\"width: 100%; ' +\n",
       "        'text-align: center; padding: 3px;\"/>');\n",
       "    titlebar.append(titletext)\n",
       "    this.root.append(titlebar);\n",
       "    this.header = titletext[0];\n",
       "}\n",
       "\n",
       "\n",
       "\n",
       "mpl.figure.prototype._canvas_extra_style = function(canvas_div) {\n",
       "\n",
       "}\n",
       "\n",
       "\n",
       "mpl.figure.prototype._root_extra_style = function(canvas_div) {\n",
       "\n",
       "}\n",
       "\n",
       "mpl.figure.prototype._init_canvas = function() {\n",
       "    var fig = this;\n",
       "\n",
       "    var canvas_div = $('<div/>');\n",
       "\n",
       "    canvas_div.attr('style', 'position: relative; clear: both; outline: 0');\n",
       "\n",
       "    function canvas_keyboard_event(event) {\n",
       "        return fig.key_event(event, event['data']);\n",
       "    }\n",
       "\n",
       "    canvas_div.keydown('key_press', canvas_keyboard_event);\n",
       "    canvas_div.keyup('key_release', canvas_keyboard_event);\n",
       "    this.canvas_div = canvas_div\n",
       "    this._canvas_extra_style(canvas_div)\n",
       "    this.root.append(canvas_div);\n",
       "\n",
       "    var canvas = $('<canvas/>');\n",
       "    canvas.addClass('mpl-canvas');\n",
       "    canvas.attr('style', \"left: 0; top: 0; z-index: 0; outline: 0\")\n",
       "\n",
       "    this.canvas = canvas[0];\n",
       "    this.context = canvas[0].getContext(\"2d\");\n",
       "\n",
       "    var backingStore = this.context.backingStorePixelRatio ||\n",
       "\tthis.context.webkitBackingStorePixelRatio ||\n",
       "\tthis.context.mozBackingStorePixelRatio ||\n",
       "\tthis.context.msBackingStorePixelRatio ||\n",
       "\tthis.context.oBackingStorePixelRatio ||\n",
       "\tthis.context.backingStorePixelRatio || 1;\n",
       "\n",
       "    mpl.ratio = (window.devicePixelRatio || 1) / backingStore;\n",
       "\n",
       "    var rubberband = $('<canvas/>');\n",
       "    rubberband.attr('style', \"position: absolute; left: 0; top: 0; z-index: 1;\")\n",
       "\n",
       "    var pass_mouse_events = true;\n",
       "\n",
       "    canvas_div.resizable({\n",
       "        start: function(event, ui) {\n",
       "            pass_mouse_events = false;\n",
       "        },\n",
       "        resize: function(event, ui) {\n",
       "            fig.request_resize(ui.size.width, ui.size.height);\n",
       "        },\n",
       "        stop: function(event, ui) {\n",
       "            pass_mouse_events = true;\n",
       "            fig.request_resize(ui.size.width, ui.size.height);\n",
       "        },\n",
       "    });\n",
       "\n",
       "    function mouse_event_fn(event) {\n",
       "        if (pass_mouse_events)\n",
       "            return fig.mouse_event(event, event['data']);\n",
       "    }\n",
       "\n",
       "    rubberband.mousedown('button_press', mouse_event_fn);\n",
       "    rubberband.mouseup('button_release', mouse_event_fn);\n",
       "    // Throttle sequential mouse events to 1 every 20ms.\n",
       "    rubberband.mousemove('motion_notify', mouse_event_fn);\n",
       "\n",
       "    rubberband.mouseenter('figure_enter', mouse_event_fn);\n",
       "    rubberband.mouseleave('figure_leave', mouse_event_fn);\n",
       "\n",
       "    canvas_div.on(\"wheel\", function (event) {\n",
       "        event = event.originalEvent;\n",
       "        event['data'] = 'scroll'\n",
       "        if (event.deltaY < 0) {\n",
       "            event.step = 1;\n",
       "        } else {\n",
       "            event.step = -1;\n",
       "        }\n",
       "        mouse_event_fn(event);\n",
       "    });\n",
       "\n",
       "    canvas_div.append(canvas);\n",
       "    canvas_div.append(rubberband);\n",
       "\n",
       "    this.rubberband = rubberband;\n",
       "    this.rubberband_canvas = rubberband[0];\n",
       "    this.rubberband_context = rubberband[0].getContext(\"2d\");\n",
       "    this.rubberband_context.strokeStyle = \"#000000\";\n",
       "\n",
       "    this._resize_canvas = function(width, height) {\n",
       "        // Keep the size of the canvas, canvas container, and rubber band\n",
       "        // canvas in synch.\n",
       "        canvas_div.css('width', width)\n",
       "        canvas_div.css('height', height)\n",
       "\n",
       "        canvas.attr('width', width * mpl.ratio);\n",
       "        canvas.attr('height', height * mpl.ratio);\n",
       "        canvas.attr('style', 'width: ' + width + 'px; height: ' + height + 'px;');\n",
       "\n",
       "        rubberband.attr('width', width);\n",
       "        rubberband.attr('height', height);\n",
       "    }\n",
       "\n",
       "    // Set the figure to an initial 600x600px, this will subsequently be updated\n",
       "    // upon first draw.\n",
       "    this._resize_canvas(600, 600);\n",
       "\n",
       "    // Disable right mouse context menu.\n",
       "    $(this.rubberband_canvas).bind(\"contextmenu\",function(e){\n",
       "        return false;\n",
       "    });\n",
       "\n",
       "    function set_focus () {\n",
       "        canvas.focus();\n",
       "        canvas_div.focus();\n",
       "    }\n",
       "\n",
       "    window.setTimeout(set_focus, 100);\n",
       "}\n",
       "\n",
       "mpl.figure.prototype._init_toolbar = function() {\n",
       "    var fig = this;\n",
       "\n",
       "    var nav_element = $('<div/>');\n",
       "    nav_element.attr('style', 'width: 100%');\n",
       "    this.root.append(nav_element);\n",
       "\n",
       "    // Define a callback function for later on.\n",
       "    function toolbar_event(event) {\n",
       "        return fig.toolbar_button_onclick(event['data']);\n",
       "    }\n",
       "    function toolbar_mouse_event(event) {\n",
       "        return fig.toolbar_button_onmouseover(event['data']);\n",
       "    }\n",
       "\n",
       "    for(var toolbar_ind in mpl.toolbar_items) {\n",
       "        var name = mpl.toolbar_items[toolbar_ind][0];\n",
       "        var tooltip = mpl.toolbar_items[toolbar_ind][1];\n",
       "        var image = mpl.toolbar_items[toolbar_ind][2];\n",
       "        var method_name = mpl.toolbar_items[toolbar_ind][3];\n",
       "\n",
       "        if (!name) {\n",
       "            // put a spacer in here.\n",
       "            continue;\n",
       "        }\n",
       "        var button = $('<button/>');\n",
       "        button.addClass('ui-button ui-widget ui-state-default ui-corner-all ' +\n",
       "                        'ui-button-icon-only');\n",
       "        button.attr('role', 'button');\n",
       "        button.attr('aria-disabled', 'false');\n",
       "        button.click(method_name, toolbar_event);\n",
       "        button.mouseover(tooltip, toolbar_mouse_event);\n",
       "\n",
       "        var icon_img = $('<span/>');\n",
       "        icon_img.addClass('ui-button-icon-primary ui-icon');\n",
       "        icon_img.addClass(image);\n",
       "        icon_img.addClass('ui-corner-all');\n",
       "\n",
       "        var tooltip_span = $('<span/>');\n",
       "        tooltip_span.addClass('ui-button-text');\n",
       "        tooltip_span.html(tooltip);\n",
       "\n",
       "        button.append(icon_img);\n",
       "        button.append(tooltip_span);\n",
       "\n",
       "        nav_element.append(button);\n",
       "    }\n",
       "\n",
       "    var fmt_picker_span = $('<span/>');\n",
       "\n",
       "    var fmt_picker = $('<select/>');\n",
       "    fmt_picker.addClass('mpl-toolbar-option ui-widget ui-widget-content');\n",
       "    fmt_picker_span.append(fmt_picker);\n",
       "    nav_element.append(fmt_picker_span);\n",
       "    this.format_dropdown = fmt_picker[0];\n",
       "\n",
       "    for (var ind in mpl.extensions) {\n",
       "        var fmt = mpl.extensions[ind];\n",
       "        var option = $(\n",
       "            '<option/>', {selected: fmt === mpl.default_extension}).html(fmt);\n",
       "        fmt_picker.append(option);\n",
       "    }\n",
       "\n",
       "    // Add hover states to the ui-buttons\n",
       "    $( \".ui-button\" ).hover(\n",
       "        function() { $(this).addClass(\"ui-state-hover\");},\n",
       "        function() { $(this).removeClass(\"ui-state-hover\");}\n",
       "    );\n",
       "\n",
       "    var status_bar = $('<span class=\"mpl-message\"/>');\n",
       "    nav_element.append(status_bar);\n",
       "    this.message = status_bar[0];\n",
       "}\n",
       "\n",
       "mpl.figure.prototype.request_resize = function(x_pixels, y_pixels) {\n",
       "    // Request matplotlib to resize the figure. Matplotlib will then trigger a resize in the client,\n",
       "    // which will in turn request a refresh of the image.\n",
       "    this.send_message('resize', {'width': x_pixels, 'height': y_pixels});\n",
       "}\n",
       "\n",
       "mpl.figure.prototype.send_message = function(type, properties) {\n",
       "    properties['type'] = type;\n",
       "    properties['figure_id'] = this.id;\n",
       "    this.ws.send(JSON.stringify(properties));\n",
       "}\n",
       "\n",
       "mpl.figure.prototype.send_draw_message = function() {\n",
       "    if (!this.waiting) {\n",
       "        this.waiting = true;\n",
       "        this.ws.send(JSON.stringify({type: \"draw\", figure_id: this.id}));\n",
       "    }\n",
       "}\n",
       "\n",
       "\n",
       "mpl.figure.prototype.handle_save = function(fig, msg) {\n",
       "    var format_dropdown = fig.format_dropdown;\n",
       "    var format = format_dropdown.options[format_dropdown.selectedIndex].value;\n",
       "    fig.ondownload(fig, format);\n",
       "}\n",
       "\n",
       "\n",
       "mpl.figure.prototype.handle_resize = function(fig, msg) {\n",
       "    var size = msg['size'];\n",
       "    if (size[0] != fig.canvas.width || size[1] != fig.canvas.height) {\n",
       "        fig._resize_canvas(size[0], size[1]);\n",
       "        fig.send_message(\"refresh\", {});\n",
       "    };\n",
       "}\n",
       "\n",
       "mpl.figure.prototype.handle_rubberband = function(fig, msg) {\n",
       "    var x0 = msg['x0'] / mpl.ratio;\n",
       "    var y0 = (fig.canvas.height - msg['y0']) / mpl.ratio;\n",
       "    var x1 = msg['x1'] / mpl.ratio;\n",
       "    var y1 = (fig.canvas.height - msg['y1']) / mpl.ratio;\n",
       "    x0 = Math.floor(x0) + 0.5;\n",
       "    y0 = Math.floor(y0) + 0.5;\n",
       "    x1 = Math.floor(x1) + 0.5;\n",
       "    y1 = Math.floor(y1) + 0.5;\n",
       "    var min_x = Math.min(x0, x1);\n",
       "    var min_y = Math.min(y0, y1);\n",
       "    var width = Math.abs(x1 - x0);\n",
       "    var height = Math.abs(y1 - y0);\n",
       "\n",
       "    fig.rubberband_context.clearRect(\n",
       "        0, 0, fig.canvas.width / mpl.ratio, fig.canvas.height / mpl.ratio);\n",
       "\n",
       "    fig.rubberband_context.strokeRect(min_x, min_y, width, height);\n",
       "}\n",
       "\n",
       "mpl.figure.prototype.handle_figure_label = function(fig, msg) {\n",
       "    // Updates the figure title.\n",
       "    fig.header.textContent = msg['label'];\n",
       "}\n",
       "\n",
       "mpl.figure.prototype.handle_cursor = function(fig, msg) {\n",
       "    var cursor = msg['cursor'];\n",
       "    switch(cursor)\n",
       "    {\n",
       "    case 0:\n",
       "        cursor = 'pointer';\n",
       "        break;\n",
       "    case 1:\n",
       "        cursor = 'default';\n",
       "        break;\n",
       "    case 2:\n",
       "        cursor = 'crosshair';\n",
       "        break;\n",
       "    case 3:\n",
       "        cursor = 'move';\n",
       "        break;\n",
       "    }\n",
       "    fig.rubberband_canvas.style.cursor = cursor;\n",
       "}\n",
       "\n",
       "mpl.figure.prototype.handle_message = function(fig, msg) {\n",
       "    fig.message.textContent = msg['message'];\n",
       "}\n",
       "\n",
       "mpl.figure.prototype.handle_draw = function(fig, msg) {\n",
       "    // Request the server to send over a new figure.\n",
       "    fig.send_draw_message();\n",
       "}\n",
       "\n",
       "mpl.figure.prototype.handle_image_mode = function(fig, msg) {\n",
       "    fig.image_mode = msg['mode'];\n",
       "}\n",
       "\n",
       "mpl.figure.prototype.updated_canvas_event = function() {\n",
       "    // Called whenever the canvas gets updated.\n",
       "    this.send_message(\"ack\", {});\n",
       "}\n",
       "\n",
       "// A function to construct a web socket function for onmessage handling.\n",
       "// Called in the figure constructor.\n",
       "mpl.figure.prototype._make_on_message_function = function(fig) {\n",
       "    return function socket_on_message(evt) {\n",
       "        if (evt.data instanceof Blob) {\n",
       "            /* FIXME: We get \"Resource interpreted as Image but\n",
       "             * transferred with MIME type text/plain:\" errors on\n",
       "             * Chrome.  But how to set the MIME type?  It doesn't seem\n",
       "             * to be part of the websocket stream */\n",
       "            evt.data.type = \"image/png\";\n",
       "\n",
       "            /* Free the memory for the previous frames */\n",
       "            if (fig.imageObj.src) {\n",
       "                (window.URL || window.webkitURL).revokeObjectURL(\n",
       "                    fig.imageObj.src);\n",
       "            }\n",
       "\n",
       "            fig.imageObj.src = (window.URL || window.webkitURL).createObjectURL(\n",
       "                evt.data);\n",
       "            fig.updated_canvas_event();\n",
       "            fig.waiting = false;\n",
       "            return;\n",
       "        }\n",
       "        else if (typeof evt.data === 'string' && evt.data.slice(0, 21) == \"data:image/png;base64\") {\n",
       "            fig.imageObj.src = evt.data;\n",
       "            fig.updated_canvas_event();\n",
       "            fig.waiting = false;\n",
       "            return;\n",
       "        }\n",
       "\n",
       "        var msg = JSON.parse(evt.data);\n",
       "        var msg_type = msg['type'];\n",
       "\n",
       "        // Call the  \"handle_{type}\" callback, which takes\n",
       "        // the figure and JSON message as its only arguments.\n",
       "        try {\n",
       "            var callback = fig[\"handle_\" + msg_type];\n",
       "        } catch (e) {\n",
       "            console.log(\"No handler for the '\" + msg_type + \"' message type: \", msg);\n",
       "            return;\n",
       "        }\n",
       "\n",
       "        if (callback) {\n",
       "            try {\n",
       "                // console.log(\"Handling '\" + msg_type + \"' message: \", msg);\n",
       "                callback(fig, msg);\n",
       "            } catch (e) {\n",
       "                console.log(\"Exception inside the 'handler_\" + msg_type + \"' callback:\", e, e.stack, msg);\n",
       "            }\n",
       "        }\n",
       "    };\n",
       "}\n",
       "\n",
       "// from http://stackoverflow.com/questions/1114465/getting-mouse-location-in-canvas\n",
       "mpl.findpos = function(e) {\n",
       "    //this section is from http://www.quirksmode.org/js/events_properties.html\n",
       "    var targ;\n",
       "    if (!e)\n",
       "        e = window.event;\n",
       "    if (e.target)\n",
       "        targ = e.target;\n",
       "    else if (e.srcElement)\n",
       "        targ = e.srcElement;\n",
       "    if (targ.nodeType == 3) // defeat Safari bug\n",
       "        targ = targ.parentNode;\n",
       "\n",
       "    // jQuery normalizes the pageX and pageY\n",
       "    // pageX,Y are the mouse positions relative to the document\n",
       "    // offset() returns the position of the element relative to the document\n",
       "    var x = e.pageX - $(targ).offset().left;\n",
       "    var y = e.pageY - $(targ).offset().top;\n",
       "\n",
       "    return {\"x\": x, \"y\": y};\n",
       "};\n",
       "\n",
       "/*\n",
       " * return a copy of an object with only non-object keys\n",
       " * we need this to avoid circular references\n",
       " * http://stackoverflow.com/a/24161582/3208463\n",
       " */\n",
       "function simpleKeys (original) {\n",
       "  return Object.keys(original).reduce(function (obj, key) {\n",
       "    if (typeof original[key] !== 'object')\n",
       "        obj[key] = original[key]\n",
       "    return obj;\n",
       "  }, {});\n",
       "}\n",
       "\n",
       "mpl.figure.prototype.mouse_event = function(event, name) {\n",
       "    var canvas_pos = mpl.findpos(event)\n",
       "\n",
       "    if (name === 'button_press')\n",
       "    {\n",
       "        this.canvas.focus();\n",
       "        this.canvas_div.focus();\n",
       "    }\n",
       "\n",
       "    var x = canvas_pos.x * mpl.ratio;\n",
       "    var y = canvas_pos.y * mpl.ratio;\n",
       "\n",
       "    this.send_message(name, {x: x, y: y, button: event.button,\n",
       "                             step: event.step,\n",
       "                             guiEvent: simpleKeys(event)});\n",
       "\n",
       "    /* This prevents the web browser from automatically changing to\n",
       "     * the text insertion cursor when the button is pressed.  We want\n",
       "     * to control all of the cursor setting manually through the\n",
       "     * 'cursor' event from matplotlib */\n",
       "    event.preventDefault();\n",
       "    return false;\n",
       "}\n",
       "\n",
       "mpl.figure.prototype._key_event_extra = function(event, name) {\n",
       "    // Handle any extra behaviour associated with a key event\n",
       "}\n",
       "\n",
       "mpl.figure.prototype.key_event = function(event, name) {\n",
       "\n",
       "    // Prevent repeat events\n",
       "    if (name == 'key_press')\n",
       "    {\n",
       "        if (event.which === this._key)\n",
       "            return;\n",
       "        else\n",
       "            this._key = event.which;\n",
       "    }\n",
       "    if (name == 'key_release')\n",
       "        this._key = null;\n",
       "\n",
       "    var value = '';\n",
       "    if (event.ctrlKey && event.which != 17)\n",
       "        value += \"ctrl+\";\n",
       "    if (event.altKey && event.which != 18)\n",
       "        value += \"alt+\";\n",
       "    if (event.shiftKey && event.which != 16)\n",
       "        value += \"shift+\";\n",
       "\n",
       "    value += 'k';\n",
       "    value += event.which.toString();\n",
       "\n",
       "    this._key_event_extra(event, name);\n",
       "\n",
       "    this.send_message(name, {key: value,\n",
       "                             guiEvent: simpleKeys(event)});\n",
       "    return false;\n",
       "}\n",
       "\n",
       "mpl.figure.prototype.toolbar_button_onclick = function(name) {\n",
       "    if (name == 'download') {\n",
       "        this.handle_save(this, null);\n",
       "    } else {\n",
       "        this.send_message(\"toolbar_button\", {name: name});\n",
       "    }\n",
       "};\n",
       "\n",
       "mpl.figure.prototype.toolbar_button_onmouseover = function(tooltip) {\n",
       "    this.message.textContent = tooltip;\n",
       "};\n",
       "mpl.toolbar_items = [[\"Home\", \"Reset original view\", \"fa fa-home icon-home\", \"home\"], [\"Back\", \"Back to previous view\", \"fa fa-arrow-left icon-arrow-left\", \"back\"], [\"Forward\", \"Forward to next view\", \"fa fa-arrow-right icon-arrow-right\", \"forward\"], [\"\", \"\", \"\", \"\"], [\"Pan\", \"Pan axes with left mouse, zoom with right\", \"fa fa-arrows icon-move\", \"pan\"], [\"Zoom\", \"Zoom to rectangle\", \"fa fa-square-o icon-check-empty\", \"zoom\"], [\"\", \"\", \"\", \"\"], [\"Download\", \"Download plot\", \"fa fa-floppy-o icon-save\", \"download\"]];\n",
       "\n",
       "mpl.extensions = [\"eps\", \"jpeg\", \"pdf\", \"png\", \"ps\", \"raw\", \"svg\", \"tif\"];\n",
       "\n",
       "mpl.default_extension = \"png\";var comm_websocket_adapter = function(comm) {\n",
       "    // Create a \"websocket\"-like object which calls the given IPython comm\n",
       "    // object with the appropriate methods. Currently this is a non binary\n",
       "    // socket, so there is still some room for performance tuning.\n",
       "    var ws = {};\n",
       "\n",
       "    ws.close = function() {\n",
       "        comm.close()\n",
       "    };\n",
       "    ws.send = function(m) {\n",
       "        //console.log('sending', m);\n",
       "        comm.send(m);\n",
       "    };\n",
       "    // Register the callback with on_msg.\n",
       "    comm.on_msg(function(msg) {\n",
       "        //console.log('receiving', msg['content']['data'], msg);\n",
       "        // Pass the mpl event to the overridden (by mpl) onmessage function.\n",
       "        ws.onmessage(msg['content']['data'])\n",
       "    });\n",
       "    return ws;\n",
       "}\n",
       "\n",
       "mpl.mpl_figure_comm = function(comm, msg) {\n",
       "    // This is the function which gets called when the mpl process\n",
       "    // starts-up an IPython Comm through the \"matplotlib\" channel.\n",
       "\n",
       "    var id = msg.content.data.id;\n",
       "    // Get hold of the div created by the display call when the Comm\n",
       "    // socket was opened in Python.\n",
       "    var element = $(\"#\" + id);\n",
       "    var ws_proxy = comm_websocket_adapter(comm)\n",
       "\n",
       "    function ondownload(figure, format) {\n",
       "        window.open(figure.imageObj.src);\n",
       "    }\n",
       "\n",
       "    var fig = new mpl.figure(id, ws_proxy,\n",
       "                           ondownload,\n",
       "                           element.get(0));\n",
       "\n",
       "    // Call onopen now - mpl needs it, as it is assuming we've passed it a real\n",
       "    // web socket which is closed, not our websocket->open comm proxy.\n",
       "    ws_proxy.onopen();\n",
       "\n",
       "    fig.parent_element = element.get(0);\n",
       "    fig.cell_info = mpl.find_output_cell(\"<div id='\" + id + \"'></div>\");\n",
       "    if (!fig.cell_info) {\n",
       "        console.error(\"Failed to find cell for figure\", id, fig);\n",
       "        return;\n",
       "    }\n",
       "\n",
       "    var output_index = fig.cell_info[2]\n",
       "    var cell = fig.cell_info[0];\n",
       "\n",
       "};\n",
       "\n",
       "mpl.figure.prototype.handle_close = function(fig, msg) {\n",
       "    var width = fig.canvas.width/mpl.ratio\n",
       "    fig.root.unbind('remove')\n",
       "\n",
       "    // Update the output cell to use the data from the current canvas.\n",
       "    fig.push_to_output();\n",
       "    var dataURL = fig.canvas.toDataURL();\n",
       "    // Re-enable the keyboard manager in IPython - without this line, in FF,\n",
       "    // the notebook keyboard shortcuts fail.\n",
       "    IPython.keyboard_manager.enable()\n",
       "    $(fig.parent_element).html('<img src=\"' + dataURL + '\" width=\"' + width + '\">');\n",
       "    fig.close_ws(fig, msg);\n",
       "}\n",
       "\n",
       "mpl.figure.prototype.close_ws = function(fig, msg){\n",
       "    fig.send_message('closing', msg);\n",
       "    // fig.ws.close()\n",
       "}\n",
       "\n",
       "mpl.figure.prototype.push_to_output = function(remove_interactive) {\n",
       "    // Turn the data on the canvas into data in the output cell.\n",
       "    var width = this.canvas.width/mpl.ratio\n",
       "    var dataURL = this.canvas.toDataURL();\n",
       "    this.cell_info[1]['text/html'] = '<img src=\"' + dataURL + '\" width=\"' + width + '\">';\n",
       "}\n",
       "\n",
       "mpl.figure.prototype.updated_canvas_event = function() {\n",
       "    // Tell IPython that the notebook contents must change.\n",
       "    IPython.notebook.set_dirty(true);\n",
       "    this.send_message(\"ack\", {});\n",
       "    var fig = this;\n",
       "    // Wait a second, then push the new image to the DOM so\n",
       "    // that it is saved nicely (might be nice to debounce this).\n",
       "    setTimeout(function () { fig.push_to_output() }, 1000);\n",
       "}\n",
       "\n",
       "mpl.figure.prototype._init_toolbar = function() {\n",
       "    var fig = this;\n",
       "\n",
       "    var nav_element = $('<div/>');\n",
       "    nav_element.attr('style', 'width: 100%');\n",
       "    this.root.append(nav_element);\n",
       "\n",
       "    // Define a callback function for later on.\n",
       "    function toolbar_event(event) {\n",
       "        return fig.toolbar_button_onclick(event['data']);\n",
       "    }\n",
       "    function toolbar_mouse_event(event) {\n",
       "        return fig.toolbar_button_onmouseover(event['data']);\n",
       "    }\n",
       "\n",
       "    for(var toolbar_ind in mpl.toolbar_items){\n",
       "        var name = mpl.toolbar_items[toolbar_ind][0];\n",
       "        var tooltip = mpl.toolbar_items[toolbar_ind][1];\n",
       "        var image = mpl.toolbar_items[toolbar_ind][2];\n",
       "        var method_name = mpl.toolbar_items[toolbar_ind][3];\n",
       "\n",
       "        if (!name) { continue; };\n",
       "\n",
       "        var button = $('<button class=\"btn btn-default\" href=\"#\" title=\"' + name + '\"><i class=\"fa ' + image + ' fa-lg\"></i></button>');\n",
       "        button.click(method_name, toolbar_event);\n",
       "        button.mouseover(tooltip, toolbar_mouse_event);\n",
       "        nav_element.append(button);\n",
       "    }\n",
       "\n",
       "    // Add the status bar.\n",
       "    var status_bar = $('<span class=\"mpl-message\" style=\"text-align:right; float: right;\"/>');\n",
       "    nav_element.append(status_bar);\n",
       "    this.message = status_bar[0];\n",
       "\n",
       "    // Add the close button to the window.\n",
       "    var buttongrp = $('<div class=\"btn-group inline pull-right\"></div>');\n",
       "    var button = $('<button class=\"btn btn-mini btn-primary\" href=\"#\" title=\"Stop Interaction\"><i class=\"fa fa-power-off icon-remove icon-large\"></i></button>');\n",
       "    button.click(function (evt) { fig.handle_close(fig, {}); } );\n",
       "    button.mouseover('Stop Interaction', toolbar_mouse_event);\n",
       "    buttongrp.append(button);\n",
       "    var titlebar = this.root.find($('.ui-dialog-titlebar'));\n",
       "    titlebar.prepend(buttongrp);\n",
       "}\n",
       "\n",
       "mpl.figure.prototype._root_extra_style = function(el){\n",
       "    var fig = this\n",
       "    el.on(\"remove\", function(){\n",
       "\tfig.close_ws(fig, {});\n",
       "    });\n",
       "}\n",
       "\n",
       "mpl.figure.prototype._canvas_extra_style = function(el){\n",
       "    // this is important to make the div 'focusable\n",
       "    el.attr('tabindex', 0)\n",
       "    // reach out to IPython and tell the keyboard manager to turn it's self\n",
       "    // off when our div gets focus\n",
       "\n",
       "    // location in version 3\n",
       "    if (IPython.notebook.keyboard_manager) {\n",
       "        IPython.notebook.keyboard_manager.register_events(el);\n",
       "    }\n",
       "    else {\n",
       "        // location in version 2\n",
       "        IPython.keyboard_manager.register_events(el);\n",
       "    }\n",
       "\n",
       "}\n",
       "\n",
       "mpl.figure.prototype._key_event_extra = function(event, name) {\n",
       "    var manager = IPython.notebook.keyboard_manager;\n",
       "    if (!manager)\n",
       "        manager = IPython.keyboard_manager;\n",
       "\n",
       "    // Check for shift+enter\n",
       "    if (event.shiftKey && event.which == 13) {\n",
       "        this.canvas_div.blur();\n",
       "        // select the cell after this one\n",
       "        var index = IPython.notebook.find_cell_index(this.cell_info[0]);\n",
       "        IPython.notebook.select(index + 1);\n",
       "    }\n",
       "}\n",
       "\n",
       "mpl.figure.prototype.handle_save = function(fig, msg) {\n",
       "    fig.ondownload(fig, null);\n",
       "}\n",
       "\n",
       "\n",
       "mpl.find_output_cell = function(html_output) {\n",
       "    // Return the cell and output element which can be found *uniquely* in the notebook.\n",
       "    // Note - this is a bit hacky, but it is done because the \"notebook_saving.Notebook\"\n",
       "    // IPython event is triggered only after the cells have been serialised, which for\n",
       "    // our purposes (turning an active figure into a static one), is too late.\n",
       "    var cells = IPython.notebook.get_cells();\n",
       "    var ncells = cells.length;\n",
       "    for (var i=0; i<ncells; i++) {\n",
       "        var cell = cells[i];\n",
       "        if (cell.cell_type === 'code'){\n",
       "            for (var j=0; j<cell.output_area.outputs.length; j++) {\n",
       "                var data = cell.output_area.outputs[j];\n",
       "                if (data.data) {\n",
       "                    // IPython >= 3 moved mimebundle to data attribute of output\n",
       "                    data = data.data;\n",
       "                }\n",
       "                if (data['text/html'] == html_output) {\n",
       "                    return [cell, data, j];\n",
       "                }\n",
       "            }\n",
       "        }\n",
       "    }\n",
       "}\n",
       "\n",
       "// Register the function which deals with the matplotlib target/channel.\n",
       "// The kernel may be null if the page has been refreshed.\n",
       "if (IPython.notebook.kernel != null) {\n",
       "    IPython.notebook.kernel.comm_manager.register_target('matplotlib', mpl.mpl_figure_comm);\n",
       "}\n"
      ],
      "text/plain": [
       "<IPython.core.display.Javascript object>"
      ]
     },
     "metadata": {},
     "output_type": "display_data"
    },
    {
     "data": {
      "text/html": [
       "<img src=\"data:image/png;base64,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\" width=\"640\">"
      ],
      "text/plain": [
       "<IPython.core.display.HTML object>"
      ]
     },
     "metadata": {},
     "output_type": "display_data"
    },
    {
     "data": {
      "text/plain": [
       "{'whiskers': [<matplotlib.lines.Line2D at 0x7fcc1c886400>,\n",
       "  <matplotlib.lines.Line2D at 0x7fcc1c886780>],\n",
       " 'caps': [<matplotlib.lines.Line2D at 0x7fcc1c886b00>,\n",
       "  <matplotlib.lines.Line2D at 0x7fcc1c886e80>],\n",
       " 'boxes': [<matplotlib.lines.Line2D at 0x7fcc1c8862b0>],\n",
       " 'medians': [<matplotlib.lines.Line2D at 0x7fcc1c88c240>],\n",
       " 'fliers': [<matplotlib.lines.Line2D at 0x7fcc1c88c5c0>],\n",
       " 'means': []}"
      ]
     },
     "execution_count": 19,
     "metadata": {},
     "output_type": "execute_result"
    }
   ],
   "source": [
    "rms_df = non_silent_measures[non_silent_measures['measurement']=='rms']\n",
    "\n",
    "plt.figure()\n",
    "plt.boxplot(dB(rms_df['value']))"
   ]
  },
  {
   "cell_type": "code",
   "execution_count": 20,
   "metadata": {},
   "outputs": [
    {
     "data": {
      "application/javascript": [
       "/* Put everything inside the global mpl namespace */\n",
       "window.mpl = {};\n",
       "\n",
       "\n",
       "mpl.get_websocket_type = function() {\n",
       "    if (typeof(WebSocket) !== 'undefined') {\n",
       "        return WebSocket;\n",
       "    } else if (typeof(MozWebSocket) !== 'undefined') {\n",
       "        return MozWebSocket;\n",
       "    } else {\n",
       "        alert('Your browser does not have WebSocket support. ' +\n",
       "              'Please try Chrome, Safari or Firefox ≥ 6. ' +\n",
       "              'Firefox 4 and 5 are also supported but you ' +\n",
       "              'have to enable WebSockets in about:config.');\n",
       "    };\n",
       "}\n",
       "\n",
       "mpl.figure = function(figure_id, websocket, ondownload, parent_element) {\n",
       "    this.id = figure_id;\n",
       "\n",
       "    this.ws = websocket;\n",
       "\n",
       "    this.supports_binary = (this.ws.binaryType != undefined);\n",
       "\n",
       "    if (!this.supports_binary) {\n",
       "        var warnings = document.getElementById(\"mpl-warnings\");\n",
       "        if (warnings) {\n",
       "            warnings.style.display = 'block';\n",
       "            warnings.textContent = (\n",
       "                \"This browser does not support binary websocket messages. \" +\n",
       "                    \"Performance may be slow.\");\n",
       "        }\n",
       "    }\n",
       "\n",
       "    this.imageObj = new Image();\n",
       "\n",
       "    this.context = undefined;\n",
       "    this.message = undefined;\n",
       "    this.canvas = undefined;\n",
       "    this.rubberband_canvas = undefined;\n",
       "    this.rubberband_context = undefined;\n",
       "    this.format_dropdown = undefined;\n",
       "\n",
       "    this.image_mode = 'full';\n",
       "\n",
       "    this.root = $('<div/>');\n",
       "    this._root_extra_style(this.root)\n",
       "    this.root.attr('style', 'display: inline-block');\n",
       "\n",
       "    $(parent_element).append(this.root);\n",
       "\n",
       "    this._init_header(this);\n",
       "    this._init_canvas(this);\n",
       "    this._init_toolbar(this);\n",
       "\n",
       "    var fig = this;\n",
       "\n",
       "    this.waiting = false;\n",
       "\n",
       "    this.ws.onopen =  function () {\n",
       "            fig.send_message(\"supports_binary\", {value: fig.supports_binary});\n",
       "            fig.send_message(\"send_image_mode\", {});\n",
       "            if (mpl.ratio != 1) {\n",
       "                fig.send_message(\"set_dpi_ratio\", {'dpi_ratio': mpl.ratio});\n",
       "            }\n",
       "            fig.send_message(\"refresh\", {});\n",
       "        }\n",
       "\n",
       "    this.imageObj.onload = function() {\n",
       "            if (fig.image_mode == 'full') {\n",
       "                // Full images could contain transparency (where diff images\n",
       "                // almost always do), so we need to clear the canvas so that\n",
       "                // there is no ghosting.\n",
       "                fig.context.clearRect(0, 0, fig.canvas.width, fig.canvas.height);\n",
       "            }\n",
       "            fig.context.drawImage(fig.imageObj, 0, 0);\n",
       "        };\n",
       "\n",
       "    this.imageObj.onunload = function() {\n",
       "        fig.ws.close();\n",
       "    }\n",
       "\n",
       "    this.ws.onmessage = this._make_on_message_function(this);\n",
       "\n",
       "    this.ondownload = ondownload;\n",
       "}\n",
       "\n",
       "mpl.figure.prototype._init_header = function() {\n",
       "    var titlebar = $(\n",
       "        '<div class=\"ui-dialog-titlebar ui-widget-header ui-corner-all ' +\n",
       "        'ui-helper-clearfix\"/>');\n",
       "    var titletext = $(\n",
       "        '<div class=\"ui-dialog-title\" style=\"width: 100%; ' +\n",
       "        'text-align: center; padding: 3px;\"/>');\n",
       "    titlebar.append(titletext)\n",
       "    this.root.append(titlebar);\n",
       "    this.header = titletext[0];\n",
       "}\n",
       "\n",
       "\n",
       "\n",
       "mpl.figure.prototype._canvas_extra_style = function(canvas_div) {\n",
       "\n",
       "}\n",
       "\n",
       "\n",
       "mpl.figure.prototype._root_extra_style = function(canvas_div) {\n",
       "\n",
       "}\n",
       "\n",
       "mpl.figure.prototype._init_canvas = function() {\n",
       "    var fig = this;\n",
       "\n",
       "    var canvas_div = $('<div/>');\n",
       "\n",
       "    canvas_div.attr('style', 'position: relative; clear: both; outline: 0');\n",
       "\n",
       "    function canvas_keyboard_event(event) {\n",
       "        return fig.key_event(event, event['data']);\n",
       "    }\n",
       "\n",
       "    canvas_div.keydown('key_press', canvas_keyboard_event);\n",
       "    canvas_div.keyup('key_release', canvas_keyboard_event);\n",
       "    this.canvas_div = canvas_div\n",
       "    this._canvas_extra_style(canvas_div)\n",
       "    this.root.append(canvas_div);\n",
       "\n",
       "    var canvas = $('<canvas/>');\n",
       "    canvas.addClass('mpl-canvas');\n",
       "    canvas.attr('style', \"left: 0; top: 0; z-index: 0; outline: 0\")\n",
       "\n",
       "    this.canvas = canvas[0];\n",
       "    this.context = canvas[0].getContext(\"2d\");\n",
       "\n",
       "    var backingStore = this.context.backingStorePixelRatio ||\n",
       "\tthis.context.webkitBackingStorePixelRatio ||\n",
       "\tthis.context.mozBackingStorePixelRatio ||\n",
       "\tthis.context.msBackingStorePixelRatio ||\n",
       "\tthis.context.oBackingStorePixelRatio ||\n",
       "\tthis.context.backingStorePixelRatio || 1;\n",
       "\n",
       "    mpl.ratio = (window.devicePixelRatio || 1) / backingStore;\n",
       "\n",
       "    var rubberband = $('<canvas/>');\n",
       "    rubberband.attr('style', \"position: absolute; left: 0; top: 0; z-index: 1;\")\n",
       "\n",
       "    var pass_mouse_events = true;\n",
       "\n",
       "    canvas_div.resizable({\n",
       "        start: function(event, ui) {\n",
       "            pass_mouse_events = false;\n",
       "        },\n",
       "        resize: function(event, ui) {\n",
       "            fig.request_resize(ui.size.width, ui.size.height);\n",
       "        },\n",
       "        stop: function(event, ui) {\n",
       "            pass_mouse_events = true;\n",
       "            fig.request_resize(ui.size.width, ui.size.height);\n",
       "        },\n",
       "    });\n",
       "\n",
       "    function mouse_event_fn(event) {\n",
       "        if (pass_mouse_events)\n",
       "            return fig.mouse_event(event, event['data']);\n",
       "    }\n",
       "\n",
       "    rubberband.mousedown('button_press', mouse_event_fn);\n",
       "    rubberband.mouseup('button_release', mouse_event_fn);\n",
       "    // Throttle sequential mouse events to 1 every 20ms.\n",
       "    rubberband.mousemove('motion_notify', mouse_event_fn);\n",
       "\n",
       "    rubberband.mouseenter('figure_enter', mouse_event_fn);\n",
       "    rubberband.mouseleave('figure_leave', mouse_event_fn);\n",
       "\n",
       "    canvas_div.on(\"wheel\", function (event) {\n",
       "        event = event.originalEvent;\n",
       "        event['data'] = 'scroll'\n",
       "        if (event.deltaY < 0) {\n",
       "            event.step = 1;\n",
       "        } else {\n",
       "            event.step = -1;\n",
       "        }\n",
       "        mouse_event_fn(event);\n",
       "    });\n",
       "\n",
       "    canvas_div.append(canvas);\n",
       "    canvas_div.append(rubberband);\n",
       "\n",
       "    this.rubberband = rubberband;\n",
       "    this.rubberband_canvas = rubberband[0];\n",
       "    this.rubberband_context = rubberband[0].getContext(\"2d\");\n",
       "    this.rubberband_context.strokeStyle = \"#000000\";\n",
       "\n",
       "    this._resize_canvas = function(width, height) {\n",
       "        // Keep the size of the canvas, canvas container, and rubber band\n",
       "        // canvas in synch.\n",
       "        canvas_div.css('width', width)\n",
       "        canvas_div.css('height', height)\n",
       "\n",
       "        canvas.attr('width', width * mpl.ratio);\n",
       "        canvas.attr('height', height * mpl.ratio);\n",
       "        canvas.attr('style', 'width: ' + width + 'px; height: ' + height + 'px;');\n",
       "\n",
       "        rubberband.attr('width', width);\n",
       "        rubberband.attr('height', height);\n",
       "    }\n",
       "\n",
       "    // Set the figure to an initial 600x600px, this will subsequently be updated\n",
       "    // upon first draw.\n",
       "    this._resize_canvas(600, 600);\n",
       "\n",
       "    // Disable right mouse context menu.\n",
       "    $(this.rubberband_canvas).bind(\"contextmenu\",function(e){\n",
       "        return false;\n",
       "    });\n",
       "\n",
       "    function set_focus () {\n",
       "        canvas.focus();\n",
       "        canvas_div.focus();\n",
       "    }\n",
       "\n",
       "    window.setTimeout(set_focus, 100);\n",
       "}\n",
       "\n",
       "mpl.figure.prototype._init_toolbar = function() {\n",
       "    var fig = this;\n",
       "\n",
       "    var nav_element = $('<div/>');\n",
       "    nav_element.attr('style', 'width: 100%');\n",
       "    this.root.append(nav_element);\n",
       "\n",
       "    // Define a callback function for later on.\n",
       "    function toolbar_event(event) {\n",
       "        return fig.toolbar_button_onclick(event['data']);\n",
       "    }\n",
       "    function toolbar_mouse_event(event) {\n",
       "        return fig.toolbar_button_onmouseover(event['data']);\n",
       "    }\n",
       "\n",
       "    for(var toolbar_ind in mpl.toolbar_items) {\n",
       "        var name = mpl.toolbar_items[toolbar_ind][0];\n",
       "        var tooltip = mpl.toolbar_items[toolbar_ind][1];\n",
       "        var image = mpl.toolbar_items[toolbar_ind][2];\n",
       "        var method_name = mpl.toolbar_items[toolbar_ind][3];\n",
       "\n",
       "        if (!name) {\n",
       "            // put a spacer in here.\n",
       "            continue;\n",
       "        }\n",
       "        var button = $('<button/>');\n",
       "        button.addClass('ui-button ui-widget ui-state-default ui-corner-all ' +\n",
       "                        'ui-button-icon-only');\n",
       "        button.attr('role', 'button');\n",
       "        button.attr('aria-disabled', 'false');\n",
       "        button.click(method_name, toolbar_event);\n",
       "        button.mouseover(tooltip, toolbar_mouse_event);\n",
       "\n",
       "        var icon_img = $('<span/>');\n",
       "        icon_img.addClass('ui-button-icon-primary ui-icon');\n",
       "        icon_img.addClass(image);\n",
       "        icon_img.addClass('ui-corner-all');\n",
       "\n",
       "        var tooltip_span = $('<span/>');\n",
       "        tooltip_span.addClass('ui-button-text');\n",
       "        tooltip_span.html(tooltip);\n",
       "\n",
       "        button.append(icon_img);\n",
       "        button.append(tooltip_span);\n",
       "\n",
       "        nav_element.append(button);\n",
       "    }\n",
       "\n",
       "    var fmt_picker_span = $('<span/>');\n",
       "\n",
       "    var fmt_picker = $('<select/>');\n",
       "    fmt_picker.addClass('mpl-toolbar-option ui-widget ui-widget-content');\n",
       "    fmt_picker_span.append(fmt_picker);\n",
       "    nav_element.append(fmt_picker_span);\n",
       "    this.format_dropdown = fmt_picker[0];\n",
       "\n",
       "    for (var ind in mpl.extensions) {\n",
       "        var fmt = mpl.extensions[ind];\n",
       "        var option = $(\n",
       "            '<option/>', {selected: fmt === mpl.default_extension}).html(fmt);\n",
       "        fmt_picker.append(option);\n",
       "    }\n",
       "\n",
       "    // Add hover states to the ui-buttons\n",
       "    $( \".ui-button\" ).hover(\n",
       "        function() { $(this).addClass(\"ui-state-hover\");},\n",
       "        function() { $(this).removeClass(\"ui-state-hover\");}\n",
       "    );\n",
       "\n",
       "    var status_bar = $('<span class=\"mpl-message\"/>');\n",
       "    nav_element.append(status_bar);\n",
       "    this.message = status_bar[0];\n",
       "}\n",
       "\n",
       "mpl.figure.prototype.request_resize = function(x_pixels, y_pixels) {\n",
       "    // Request matplotlib to resize the figure. Matplotlib will then trigger a resize in the client,\n",
       "    // which will in turn request a refresh of the image.\n",
       "    this.send_message('resize', {'width': x_pixels, 'height': y_pixels});\n",
       "}\n",
       "\n",
       "mpl.figure.prototype.send_message = function(type, properties) {\n",
       "    properties['type'] = type;\n",
       "    properties['figure_id'] = this.id;\n",
       "    this.ws.send(JSON.stringify(properties));\n",
       "}\n",
       "\n",
       "mpl.figure.prototype.send_draw_message = function() {\n",
       "    if (!this.waiting) {\n",
       "        this.waiting = true;\n",
       "        this.ws.send(JSON.stringify({type: \"draw\", figure_id: this.id}));\n",
       "    }\n",
       "}\n",
       "\n",
       "\n",
       "mpl.figure.prototype.handle_save = function(fig, msg) {\n",
       "    var format_dropdown = fig.format_dropdown;\n",
       "    var format = format_dropdown.options[format_dropdown.selectedIndex].value;\n",
       "    fig.ondownload(fig, format);\n",
       "}\n",
       "\n",
       "\n",
       "mpl.figure.prototype.handle_resize = function(fig, msg) {\n",
       "    var size = msg['size'];\n",
       "    if (size[0] != fig.canvas.width || size[1] != fig.canvas.height) {\n",
       "        fig._resize_canvas(size[0], size[1]);\n",
       "        fig.send_message(\"refresh\", {});\n",
       "    };\n",
       "}\n",
       "\n",
       "mpl.figure.prototype.handle_rubberband = function(fig, msg) {\n",
       "    var x0 = msg['x0'] / mpl.ratio;\n",
       "    var y0 = (fig.canvas.height - msg['y0']) / mpl.ratio;\n",
       "    var x1 = msg['x1'] / mpl.ratio;\n",
       "    var y1 = (fig.canvas.height - msg['y1']) / mpl.ratio;\n",
       "    x0 = Math.floor(x0) + 0.5;\n",
       "    y0 = Math.floor(y0) + 0.5;\n",
       "    x1 = Math.floor(x1) + 0.5;\n",
       "    y1 = Math.floor(y1) + 0.5;\n",
       "    var min_x = Math.min(x0, x1);\n",
       "    var min_y = Math.min(y0, y1);\n",
       "    var width = Math.abs(x1 - x0);\n",
       "    var height = Math.abs(y1 - y0);\n",
       "\n",
       "    fig.rubberband_context.clearRect(\n",
       "        0, 0, fig.canvas.width / mpl.ratio, fig.canvas.height / mpl.ratio);\n",
       "\n",
       "    fig.rubberband_context.strokeRect(min_x, min_y, width, height);\n",
       "}\n",
       "\n",
       "mpl.figure.prototype.handle_figure_label = function(fig, msg) {\n",
       "    // Updates the figure title.\n",
       "    fig.header.textContent = msg['label'];\n",
       "}\n",
       "\n",
       "mpl.figure.prototype.handle_cursor = function(fig, msg) {\n",
       "    var cursor = msg['cursor'];\n",
       "    switch(cursor)\n",
       "    {\n",
       "    case 0:\n",
       "        cursor = 'pointer';\n",
       "        break;\n",
       "    case 1:\n",
       "        cursor = 'default';\n",
       "        break;\n",
       "    case 2:\n",
       "        cursor = 'crosshair';\n",
       "        break;\n",
       "    case 3:\n",
       "        cursor = 'move';\n",
       "        break;\n",
       "    }\n",
       "    fig.rubberband_canvas.style.cursor = cursor;\n",
       "}\n",
       "\n",
       "mpl.figure.prototype.handle_message = function(fig, msg) {\n",
       "    fig.message.textContent = msg['message'];\n",
       "}\n",
       "\n",
       "mpl.figure.prototype.handle_draw = function(fig, msg) {\n",
       "    // Request the server to send over a new figure.\n",
       "    fig.send_draw_message();\n",
       "}\n",
       "\n",
       "mpl.figure.prototype.handle_image_mode = function(fig, msg) {\n",
       "    fig.image_mode = msg['mode'];\n",
       "}\n",
       "\n",
       "mpl.figure.prototype.updated_canvas_event = function() {\n",
       "    // Called whenever the canvas gets updated.\n",
       "    this.send_message(\"ack\", {});\n",
       "}\n",
       "\n",
       "// A function to construct a web socket function for onmessage handling.\n",
       "// Called in the figure constructor.\n",
       "mpl.figure.prototype._make_on_message_function = function(fig) {\n",
       "    return function socket_on_message(evt) {\n",
       "        if (evt.data instanceof Blob) {\n",
       "            /* FIXME: We get \"Resource interpreted as Image but\n",
       "             * transferred with MIME type text/plain:\" errors on\n",
       "             * Chrome.  But how to set the MIME type?  It doesn't seem\n",
       "             * to be part of the websocket stream */\n",
       "            evt.data.type = \"image/png\";\n",
       "\n",
       "            /* Free the memory for the previous frames */\n",
       "            if (fig.imageObj.src) {\n",
       "                (window.URL || window.webkitURL).revokeObjectURL(\n",
       "                    fig.imageObj.src);\n",
       "            }\n",
       "\n",
       "            fig.imageObj.src = (window.URL || window.webkitURL).createObjectURL(\n",
       "                evt.data);\n",
       "            fig.updated_canvas_event();\n",
       "            fig.waiting = false;\n",
       "            return;\n",
       "        }\n",
       "        else if (typeof evt.data === 'string' && evt.data.slice(0, 21) == \"data:image/png;base64\") {\n",
       "            fig.imageObj.src = evt.data;\n",
       "            fig.updated_canvas_event();\n",
       "            fig.waiting = false;\n",
       "            return;\n",
       "        }\n",
       "\n",
       "        var msg = JSON.parse(evt.data);\n",
       "        var msg_type = msg['type'];\n",
       "\n",
       "        // Call the  \"handle_{type}\" callback, which takes\n",
       "        // the figure and JSON message as its only arguments.\n",
       "        try {\n",
       "            var callback = fig[\"handle_\" + msg_type];\n",
       "        } catch (e) {\n",
       "            console.log(\"No handler for the '\" + msg_type + \"' message type: \", msg);\n",
       "            return;\n",
       "        }\n",
       "\n",
       "        if (callback) {\n",
       "            try {\n",
       "                // console.log(\"Handling '\" + msg_type + \"' message: \", msg);\n",
       "                callback(fig, msg);\n",
       "            } catch (e) {\n",
       "                console.log(\"Exception inside the 'handler_\" + msg_type + \"' callback:\", e, e.stack, msg);\n",
       "            }\n",
       "        }\n",
       "    };\n",
       "}\n",
       "\n",
       "// from http://stackoverflow.com/questions/1114465/getting-mouse-location-in-canvas\n",
       "mpl.findpos = function(e) {\n",
       "    //this section is from http://www.quirksmode.org/js/events_properties.html\n",
       "    var targ;\n",
       "    if (!e)\n",
       "        e = window.event;\n",
       "    if (e.target)\n",
       "        targ = e.target;\n",
       "    else if (e.srcElement)\n",
       "        targ = e.srcElement;\n",
       "    if (targ.nodeType == 3) // defeat Safari bug\n",
       "        targ = targ.parentNode;\n",
       "\n",
       "    // jQuery normalizes the pageX and pageY\n",
       "    // pageX,Y are the mouse positions relative to the document\n",
       "    // offset() returns the position of the element relative to the document\n",
       "    var x = e.pageX - $(targ).offset().left;\n",
       "    var y = e.pageY - $(targ).offset().top;\n",
       "\n",
       "    return {\"x\": x, \"y\": y};\n",
       "};\n",
       "\n",
       "/*\n",
       " * return a copy of an object with only non-object keys\n",
       " * we need this to avoid circular references\n",
       " * http://stackoverflow.com/a/24161582/3208463\n",
       " */\n",
       "function simpleKeys (original) {\n",
       "  return Object.keys(original).reduce(function (obj, key) {\n",
       "    if (typeof original[key] !== 'object')\n",
       "        obj[key] = original[key]\n",
       "    return obj;\n",
       "  }, {});\n",
       "}\n",
       "\n",
       "mpl.figure.prototype.mouse_event = function(event, name) {\n",
       "    var canvas_pos = mpl.findpos(event)\n",
       "\n",
       "    if (name === 'button_press')\n",
       "    {\n",
       "        this.canvas.focus();\n",
       "        this.canvas_div.focus();\n",
       "    }\n",
       "\n",
       "    var x = canvas_pos.x * mpl.ratio;\n",
       "    var y = canvas_pos.y * mpl.ratio;\n",
       "\n",
       "    this.send_message(name, {x: x, y: y, button: event.button,\n",
       "                             step: event.step,\n",
       "                             guiEvent: simpleKeys(event)});\n",
       "\n",
       "    /* This prevents the web browser from automatically changing to\n",
       "     * the text insertion cursor when the button is pressed.  We want\n",
       "     * to control all of the cursor setting manually through the\n",
       "     * 'cursor' event from matplotlib */\n",
       "    event.preventDefault();\n",
       "    return false;\n",
       "}\n",
       "\n",
       "mpl.figure.prototype._key_event_extra = function(event, name) {\n",
       "    // Handle any extra behaviour associated with a key event\n",
       "}\n",
       "\n",
       "mpl.figure.prototype.key_event = function(event, name) {\n",
       "\n",
       "    // Prevent repeat events\n",
       "    if (name == 'key_press')\n",
       "    {\n",
       "        if (event.which === this._key)\n",
       "            return;\n",
       "        else\n",
       "            this._key = event.which;\n",
       "    }\n",
       "    if (name == 'key_release')\n",
       "        this._key = null;\n",
       "\n",
       "    var value = '';\n",
       "    if (event.ctrlKey && event.which != 17)\n",
       "        value += \"ctrl+\";\n",
       "    if (event.altKey && event.which != 18)\n",
       "        value += \"alt+\";\n",
       "    if (event.shiftKey && event.which != 16)\n",
       "        value += \"shift+\";\n",
       "\n",
       "    value += 'k';\n",
       "    value += event.which.toString();\n",
       "\n",
       "    this._key_event_extra(event, name);\n",
       "\n",
       "    this.send_message(name, {key: value,\n",
       "                             guiEvent: simpleKeys(event)});\n",
       "    return false;\n",
       "}\n",
       "\n",
       "mpl.figure.prototype.toolbar_button_onclick = function(name) {\n",
       "    if (name == 'download') {\n",
       "        this.handle_save(this, null);\n",
       "    } else {\n",
       "        this.send_message(\"toolbar_button\", {name: name});\n",
       "    }\n",
       "};\n",
       "\n",
       "mpl.figure.prototype.toolbar_button_onmouseover = function(tooltip) {\n",
       "    this.message.textContent = tooltip;\n",
       "};\n",
       "mpl.toolbar_items = [[\"Home\", \"Reset original view\", \"fa fa-home icon-home\", \"home\"], [\"Back\", \"Back to previous view\", \"fa fa-arrow-left icon-arrow-left\", \"back\"], [\"Forward\", \"Forward to next view\", \"fa fa-arrow-right icon-arrow-right\", \"forward\"], [\"\", \"\", \"\", \"\"], [\"Pan\", \"Pan axes with left mouse, zoom with right\", \"fa fa-arrows icon-move\", \"pan\"], [\"Zoom\", \"Zoom to rectangle\", \"fa fa-square-o icon-check-empty\", \"zoom\"], [\"\", \"\", \"\", \"\"], [\"Download\", \"Download plot\", \"fa fa-floppy-o icon-save\", \"download\"]];\n",
       "\n",
       "mpl.extensions = [\"eps\", \"jpeg\", \"pdf\", \"png\", \"ps\", \"raw\", \"svg\", \"tif\"];\n",
       "\n",
       "mpl.default_extension = \"png\";var comm_websocket_adapter = function(comm) {\n",
       "    // Create a \"websocket\"-like object which calls the given IPython comm\n",
       "    // object with the appropriate methods. Currently this is a non binary\n",
       "    // socket, so there is still some room for performance tuning.\n",
       "    var ws = {};\n",
       "\n",
       "    ws.close = function() {\n",
       "        comm.close()\n",
       "    };\n",
       "    ws.send = function(m) {\n",
       "        //console.log('sending', m);\n",
       "        comm.send(m);\n",
       "    };\n",
       "    // Register the callback with on_msg.\n",
       "    comm.on_msg(function(msg) {\n",
       "        //console.log('receiving', msg['content']['data'], msg);\n",
       "        // Pass the mpl event to the overridden (by mpl) onmessage function.\n",
       "        ws.onmessage(msg['content']['data'])\n",
       "    });\n",
       "    return ws;\n",
       "}\n",
       "\n",
       "mpl.mpl_figure_comm = function(comm, msg) {\n",
       "    // This is the function which gets called when the mpl process\n",
       "    // starts-up an IPython Comm through the \"matplotlib\" channel.\n",
       "\n",
       "    var id = msg.content.data.id;\n",
       "    // Get hold of the div created by the display call when the Comm\n",
       "    // socket was opened in Python.\n",
       "    var element = $(\"#\" + id);\n",
       "    var ws_proxy = comm_websocket_adapter(comm)\n",
       "\n",
       "    function ondownload(figure, format) {\n",
       "        window.open(figure.imageObj.src);\n",
       "    }\n",
       "\n",
       "    var fig = new mpl.figure(id, ws_proxy,\n",
       "                           ondownload,\n",
       "                           element.get(0));\n",
       "\n",
       "    // Call onopen now - mpl needs it, as it is assuming we've passed it a real\n",
       "    // web socket which is closed, not our websocket->open comm proxy.\n",
       "    ws_proxy.onopen();\n",
       "\n",
       "    fig.parent_element = element.get(0);\n",
       "    fig.cell_info = mpl.find_output_cell(\"<div id='\" + id + \"'></div>\");\n",
       "    if (!fig.cell_info) {\n",
       "        console.error(\"Failed to find cell for figure\", id, fig);\n",
       "        return;\n",
       "    }\n",
       "\n",
       "    var output_index = fig.cell_info[2]\n",
       "    var cell = fig.cell_info[0];\n",
       "\n",
       "};\n",
       "\n",
       "mpl.figure.prototype.handle_close = function(fig, msg) {\n",
       "    var width = fig.canvas.width/mpl.ratio\n",
       "    fig.root.unbind('remove')\n",
       "\n",
       "    // Update the output cell to use the data from the current canvas.\n",
       "    fig.push_to_output();\n",
       "    var dataURL = fig.canvas.toDataURL();\n",
       "    // Re-enable the keyboard manager in IPython - without this line, in FF,\n",
       "    // the notebook keyboard shortcuts fail.\n",
       "    IPython.keyboard_manager.enable()\n",
       "    $(fig.parent_element).html('<img src=\"' + dataURL + '\" width=\"' + width + '\">');\n",
       "    fig.close_ws(fig, msg);\n",
       "}\n",
       "\n",
       "mpl.figure.prototype.close_ws = function(fig, msg){\n",
       "    fig.send_message('closing', msg);\n",
       "    // fig.ws.close()\n",
       "}\n",
       "\n",
       "mpl.figure.prototype.push_to_output = function(remove_interactive) {\n",
       "    // Turn the data on the canvas into data in the output cell.\n",
       "    var width = this.canvas.width/mpl.ratio\n",
       "    var dataURL = this.canvas.toDataURL();\n",
       "    this.cell_info[1]['text/html'] = '<img src=\"' + dataURL + '\" width=\"' + width + '\">';\n",
       "}\n",
       "\n",
       "mpl.figure.prototype.updated_canvas_event = function() {\n",
       "    // Tell IPython that the notebook contents must change.\n",
       "    IPython.notebook.set_dirty(true);\n",
       "    this.send_message(\"ack\", {});\n",
       "    var fig = this;\n",
       "    // Wait a second, then push the new image to the DOM so\n",
       "    // that it is saved nicely (might be nice to debounce this).\n",
       "    setTimeout(function () { fig.push_to_output() }, 1000);\n",
       "}\n",
       "\n",
       "mpl.figure.prototype._init_toolbar = function() {\n",
       "    var fig = this;\n",
       "\n",
       "    var nav_element = $('<div/>');\n",
       "    nav_element.attr('style', 'width: 100%');\n",
       "    this.root.append(nav_element);\n",
       "\n",
       "    // Define a callback function for later on.\n",
       "    function toolbar_event(event) {\n",
       "        return fig.toolbar_button_onclick(event['data']);\n",
       "    }\n",
       "    function toolbar_mouse_event(event) {\n",
       "        return fig.toolbar_button_onmouseover(event['data']);\n",
       "    }\n",
       "\n",
       "    for(var toolbar_ind in mpl.toolbar_items){\n",
       "        var name = mpl.toolbar_items[toolbar_ind][0];\n",
       "        var tooltip = mpl.toolbar_items[toolbar_ind][1];\n",
       "        var image = mpl.toolbar_items[toolbar_ind][2];\n",
       "        var method_name = mpl.toolbar_items[toolbar_ind][3];\n",
       "\n",
       "        if (!name) { continue; };\n",
       "\n",
       "        var button = $('<button class=\"btn btn-default\" href=\"#\" title=\"' + name + '\"><i class=\"fa ' + image + ' fa-lg\"></i></button>');\n",
       "        button.click(method_name, toolbar_event);\n",
       "        button.mouseover(tooltip, toolbar_mouse_event);\n",
       "        nav_element.append(button);\n",
       "    }\n",
       "\n",
       "    // Add the status bar.\n",
       "    var status_bar = $('<span class=\"mpl-message\" style=\"text-align:right; float: right;\"/>');\n",
       "    nav_element.append(status_bar);\n",
       "    this.message = status_bar[0];\n",
       "\n",
       "    // Add the close button to the window.\n",
       "    var buttongrp = $('<div class=\"btn-group inline pull-right\"></div>');\n",
       "    var button = $('<button class=\"btn btn-mini btn-primary\" href=\"#\" title=\"Stop Interaction\"><i class=\"fa fa-power-off icon-remove icon-large\"></i></button>');\n",
       "    button.click(function (evt) { fig.handle_close(fig, {}); } );\n",
       "    button.mouseover('Stop Interaction', toolbar_mouse_event);\n",
       "    buttongrp.append(button);\n",
       "    var titlebar = this.root.find($('.ui-dialog-titlebar'));\n",
       "    titlebar.prepend(buttongrp);\n",
       "}\n",
       "\n",
       "mpl.figure.prototype._root_extra_style = function(el){\n",
       "    var fig = this\n",
       "    el.on(\"remove\", function(){\n",
       "\tfig.close_ws(fig, {});\n",
       "    });\n",
       "}\n",
       "\n",
       "mpl.figure.prototype._canvas_extra_style = function(el){\n",
       "    // this is important to make the div 'focusable\n",
       "    el.attr('tabindex', 0)\n",
       "    // reach out to IPython and tell the keyboard manager to turn it's self\n",
       "    // off when our div gets focus\n",
       "\n",
       "    // location in version 3\n",
       "    if (IPython.notebook.keyboard_manager) {\n",
       "        IPython.notebook.keyboard_manager.register_events(el);\n",
       "    }\n",
       "    else {\n",
       "        // location in version 2\n",
       "        IPython.keyboard_manager.register_events(el);\n",
       "    }\n",
       "\n",
       "}\n",
       "\n",
       "mpl.figure.prototype._key_event_extra = function(event, name) {\n",
       "    var manager = IPython.notebook.keyboard_manager;\n",
       "    if (!manager)\n",
       "        manager = IPython.keyboard_manager;\n",
       "\n",
       "    // Check for shift+enter\n",
       "    if (event.shiftKey && event.which == 13) {\n",
       "        this.canvas_div.blur();\n",
       "        // select the cell after this one\n",
       "        var index = IPython.notebook.find_cell_index(this.cell_info[0]);\n",
       "        IPython.notebook.select(index + 1);\n",
       "    }\n",
       "}\n",
       "\n",
       "mpl.figure.prototype.handle_save = function(fig, msg) {\n",
       "    fig.ondownload(fig, null);\n",
       "}\n",
       "\n",
       "\n",
       "mpl.find_output_cell = function(html_output) {\n",
       "    // Return the cell and output element which can be found *uniquely* in the notebook.\n",
       "    // Note - this is a bit hacky, but it is done because the \"notebook_saving.Notebook\"\n",
       "    // IPython event is triggered only after the cells have been serialised, which for\n",
       "    // our purposes (turning an active figure into a static one), is too late.\n",
       "    var cells = IPython.notebook.get_cells();\n",
       "    var ncells = cells.length;\n",
       "    for (var i=0; i<ncells; i++) {\n",
       "        var cell = cells[i];\n",
       "        if (cell.cell_type === 'code'){\n",
       "            for (var j=0; j<cell.output_area.outputs.length; j++) {\n",
       "                var data = cell.output_area.outputs[j];\n",
       "                if (data.data) {\n",
       "                    // IPython >= 3 moved mimebundle to data attribute of output\n",
       "                    data = data.data;\n",
       "                }\n",
       "                if (data['text/html'] == html_output) {\n",
       "                    return [cell, data, j];\n",
       "                }\n",
       "            }\n",
       "        }\n",
       "    }\n",
       "}\n",
       "\n",
       "// Register the function which deals with the matplotlib target/channel.\n",
       "// The kernel may be null if the page has been refreshed.\n",
       "if (IPython.notebook.kernel != null) {\n",
       "    IPython.notebook.kernel.comm_manager.register_target('matplotlib', mpl.mpl_figure_comm);\n",
       "}\n"
      ],
      "text/plain": [
       "<IPython.core.display.Javascript object>"
      ]
     },
     "metadata": {},
     "output_type": "display_data"
    },
    {
     "data": {
      "text/html": [
       "<img src=\"data:image/png;base64,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\" width=\"640\">"
      ],
      "text/plain": [
       "<IPython.core.display.HTML object>"
      ]
     },
     "metadata": {},
     "output_type": "display_data"
    },
    {
     "data": {
      "text/plain": [
       "{'whiskers': [<matplotlib.lines.Line2D at 0x7fcc1c82b710>,\n",
       "  <matplotlib.lines.Line2D at 0x7fcc1c82ba90>],\n",
       " 'caps': [<matplotlib.lines.Line2D at 0x7fcc1c82be10>,\n",
       "  <matplotlib.lines.Line2D at 0x7fcc1c8301d0>],\n",
       " 'boxes': [<matplotlib.lines.Line2D at 0x7fcc1c82b5c0>],\n",
       " 'medians': [<matplotlib.lines.Line2D at 0x7fcc1c830550>],\n",
       " 'fliers': [<matplotlib.lines.Line2D at 0x7fcc1c8308d0>],\n",
       " 'means': []}"
      ]
     },
     "execution_count": 20,
     "metadata": {},
     "output_type": "execute_result"
    }
   ],
   "source": [
    "tf_df = non_silent_measures[non_silent_measures['measurement']=='fm_terminal_freqs']\n",
    "\n",
    "plt.figure()\n",
    "plt.boxplot(tf_df['value'].dropna())"
   ]
  },
  {
   "cell_type": "markdown",
   "metadata": {},
   "source": [
    "### Assigning the number of bats to each annotation audio\n",
    "Now that we have all of our measurements in place, it's time to compare each of the measurements across single and multi bat contexts."
   ]
  },
  {
   "cell_type": "code",
   "execution_count": 21,
   "metadata": {},
   "outputs": [],
   "source": [
    "non_silent_measures['video_annot_id'] = non_silent_measures['file_name'].str.lstrip('matching_annotaudio_')\n",
    "# remove the '_hp' from the video_annot_ida\n",
    "\n",
    "non_silent_measures['video_annot_id'] = non_silent_measures['video_annot_id'].str.rstrip('_hp.WAV')"
   ]
  },
  {
   "cell_type": "code",
   "execution_count": 22,
   "metadata": {},
   "outputs": [
    {
     "data": {
      "text/plain": [
       "'Aditya_2018-08-16_21502300_9'"
      ]
     },
     "execution_count": 22,
     "metadata": {},
     "output_type": "execute_result"
    }
   ],
   "source": [
    "non_silent_measures['video_annot_id'][0]"
   ]
  },
  {
   "cell_type": "code",
   "execution_count": 23,
   "metadata": {},
   "outputs": [],
   "source": [
    "video_annot_folder = '../../whole_data_analysis/annotations/corrected_HBC_video_annotations_Aditya/'\n",
    "non_silent_measures['num_bats'] = icf.get_numbats_from_annotation_id(non_silent_measures['video_annot_id'], video_annot_folder)"
   ]
  },
  {
   "cell_type": "markdown",
   "metadata": {},
   "source": [
    "#### The numbers below represent the *rows* with the following bat numbers in the annotation audio - and not the number of annotations itself!!"
   ]
  },
  {
   "cell_type": "code",
   "execution_count": 25,
   "metadata": {},
   "outputs": [
    {
     "name": "stdout",
     "output_type": "stream",
     "text": [
      "[1 2 3 4] [15430  6306  1975   471]\n"
     ]
    }
   ],
   "source": [
    "group_size, counts = np.unique(non_silent_measures['num_bats'], return_counts=True)\n",
    "print(group_size, counts)"
   ]
  },
  {
   "cell_type": "code",
   "execution_count": 26,
   "metadata": {},
   "outputs": [],
   "source": [
    "non_silent_measures.to_csv('non_silent_measurements_20dBthreshold.csv')"
   ]
  },
  {
   "cell_type": "code",
   "execution_count": 27,
   "metadata": {},
   "outputs": [
    {
     "name": "stdout",
     "output_type": "stream",
     "text": [
      "Notebook ended at: 2020-11-17 17:27:30.318487\n"
     ]
    }
   ],
   "source": [
    "print(f'Notebook ended at: {dt.datetime.now()}')"
   ]
  }
 ],
 "metadata": {
  "kernelspec": {
   "display_name": "Python [conda env:mhbc] *",
   "language": "python",
   "name": "conda-env-mhbc-py"
  },
  "language_info": {
   "codemirror_mode": {
    "name": "ipython",
    "version": 3
   },
   "file_extension": ".py",
   "mimetype": "text/x-python",
   "name": "python",
   "nbconvert_exporter": "python",
   "pygments_lexer": "ipython3",
   "version": "3.7.0"
  }
 },
 "nbformat": 4,
 "nbformat_minor": 4
}
