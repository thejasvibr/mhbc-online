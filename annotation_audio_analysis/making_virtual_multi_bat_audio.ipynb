{
 "cells": [
  {
   "cell_type": "markdown",
   "metadata": {},
   "source": [
    "This notebook will make 'virtual multi bat' audio files. I use the word 'virtual' here sensu Obrist 1995, Ratcliffe et al. 2004, and Fawcett & Ratcliffe 2015. In the previous experiments the 'virtual' refers to the fact that the authors are comparing the actual difference between acoustic measures when alone vs when they are together, or the difference in call parameters when alone vs in groups. \n",
    "\n",
    "Unlike in previous studies which calculated the *difference* in the acoustic measures across single and multi bat contexts, here we will mix the audio data and the generate measures. This raw audio will then be used for analysis. In the end, the observed multi bat audio will be compared to the virtual multi bat audio. If the parameters in the observed and multi bat audio are similar, this is strong evidence that there isn't much of a change in the echolocation behaviour. If there is a difference in the observed multi bat and virtual multi bat, the parameter with the most change is actually informative. \n",
    "\n",
    "### Where are the 'single audio' files from \n",
    "In a previous notebook ('analysis/Resampling the measurements.ipynb'), I actually ran a comparison of single vs multi bat annotation audio parameters. To perform this analysis I relied on measurements of the annotation audio with 50ms split windows set of valid single and multi annotation audio files ('non_silent_measurements_20dBthreshold.csv'). I will use the single calls in this 'valid set' to generate the virtual multi bat audio.\n",
    "\n",
    "\n",
    "### How will the virtual audio files be made\n",
    "\n",
    "The WAV files will be loaded and added directly without any further processing. I will use the high-passed audio to reduce the amount of processing I will have to do. I will *not* do any kind of normalisation because the entire point of this exercise is to see if parameters like amplitude will increase or decrease in multi-bat situations. \n",
    "\n",
    "Ideally each multi bat audio file will be matched by a virtual multi bat file of the same length. This will help in keeping things the same eg. # of audio segments that will originate from the virtual audio file vs from the observed audio file. \n",
    "\n",
    "\n",
    "#### Making interval-separated virtual audio files \n",
    "The matched audio files come from annotations that are often made very close to each other in time. This is because bat activity is autocorrelated in time. It may even be that the same bat flies in and out over short periods of time. To reduce this we will create virtual multi-bat files from single bat files that are spaced at least 5 minutes from each other. This will reduce the amount of pseudo-replication seen in our virtual multi-bat audio files. If we do not perform this step, many of the virtual multi-bat audio files may actually have audio recordings from the same bat added together - resulting in an underestimation of the variation in the data.\n",
    "\n",
    "\n",
    "- Author: Thejasvi Beleyur\n",
    "- Date: 2020-07-20\n",
    "\n",
    "\n",
    "### References\n",
    "- Obrist, M. K. (1995). Flexible bat echolocation: the influence of individual, habitat and conspecifics on sonar signal design. Behavioral ecology and sociobiology, 36(3), 207-219.\n",
    "- Ratcliffe, J. M., Hofstede, H. M. T., Avila-Flores, R., Fenton, M. B., McCracken, G. F., Biscardi, S., ... & Spanjer, G. (2004). Conspecifics influence call design in the Brazilian free-tailed bat, Tadarida brasiliensis. Canadian Journal of Zoology, 82(6), 966-971.\n",
    "- Fawcett, K., & Ratcliffe, J. M. (2015). Clutter and conspecifics: a comparison of their influence on echolocation and flight behaviour in Daubenton’s bat, Myotis daubentonii. Journal of Comparative Physiology A, 201(3), 295-304."
   ]
  },
  {
   "cell_type": "code",
   "execution_count": 1,
   "metadata": {
    "execution": {
     "iopub.execute_input": "2020-12-17T14:16:06.588101Z",
     "iopub.status.busy": "2020-12-17T14:16:06.586079Z",
     "iopub.status.idle": "2020-12-17T14:16:07.243004Z",
     "shell.execute_reply": "2020-12-17T14:16:07.243004Z"
    }
   },
   "outputs": [],
   "source": [
    "%matplotlib notebook\n"
   ]
  },
  {
   "cell_type": "code",
   "execution_count": 2,
   "metadata": {
    "execution": {
     "iopub.execute_input": "2020-12-17T14:16:07.249510Z",
     "iopub.status.busy": "2020-12-17T14:16:07.249510Z",
     "iopub.status.idle": "2020-12-17T14:16:08.550164Z",
     "shell.execute_reply": "2020-12-17T14:16:08.550164Z"
    }
   },
   "outputs": [],
   "source": [
    "import datetime as dt\n",
    "import glob\n",
    "import os\n",
    "import random\n",
    "random.seed(82320)\n",
    "import sys\n",
    "sys.path.append('../correct_call_annotations/')\n",
    "sys.path.append('../')\n",
    "sys.path.append('../combined_analysis/')\n",
    "sys.path.append('../individual_call_analysis/analysis/')\n",
    "\n",
    "import correct_call_annotations.correct_call_annotations as cca\n",
    "\n",
    "import reduce_pseudorep\n",
    "from reduce_pseudorep import annots_by_time\n",
    "import format_and_clean \n",
    "from format_and_clean import ind_call_format as icf\n",
    "\n",
    "\n",
    "import soundfile as sf\n",
    "import tqdm\n",
    "import numpy as np \n",
    "import pandas as pd\n",
    "from pandas.core.common import flatten\n",
    "import matplotlib.pyplot as plt \n",
    "plt.rcParams['agg.path.chunksize'] = 10000"
   ]
  },
  {
   "cell_type": "code",
   "execution_count": 3,
   "metadata": {
    "execution": {
     "iopub.execute_input": "2020-12-17T14:16:08.550164Z",
     "iopub.status.busy": "2020-12-17T14:16:08.550164Z",
     "iopub.status.idle": "2020-12-17T14:16:08.565788Z",
     "shell.execute_reply": "2020-12-17T14:16:08.565788Z"
    }
   },
   "outputs": [],
   "source": [
    "%matplotlib notebook"
   ]
  },
  {
   "cell_type": "code",
   "execution_count": 4,
   "metadata": {
    "execution": {
     "iopub.execute_input": "2020-12-17T14:16:08.565788Z",
     "iopub.status.busy": "2020-12-17T14:16:08.565788Z",
     "iopub.status.idle": "2020-12-17T14:16:08.581412Z",
     "shell.execute_reply": "2020-12-17T14:16:08.581412Z"
    }
   },
   "outputs": [
    {
     "name": "stdout",
     "output_type": "stream",
     "text": [
      "Notebook run started at 2020-12-17 15:16:08.565788\n"
     ]
    }
   ],
   "source": [
    "print(f'Notebook run started at {dt.datetime.now()}')"
   ]
  },
  {
   "cell_type": "code",
   "execution_count": 5,
   "metadata": {
    "execution": {
     "iopub.execute_input": "2020-12-17T14:16:08.581412Z",
     "iopub.status.busy": "2020-12-17T14:16:08.581412Z",
     "iopub.status.idle": "2020-12-17T14:16:08.597036Z",
     "shell.execute_reply": "2020-12-17T14:16:08.597036Z"
    }
   },
   "outputs": [],
   "source": [
    "verified_annotations = pd.read_csv('verified_annotations.csv')"
   ]
  },
  {
   "cell_type": "code",
   "execution_count": 6,
   "metadata": {
    "execution": {
     "iopub.execute_input": "2020-12-17T14:16:08.603543Z",
     "iopub.status.busy": "2020-12-17T14:16:08.603543Z",
     "iopub.status.idle": "2020-12-17T14:16:08.619175Z",
     "shell.execute_reply": "2020-12-17T14:16:08.619175Z"
    }
   },
   "outputs": [
    {
     "data": {
      "text/plain": [
       "(array([1, 2, 3, 4], dtype=int64), array([302,  86,  20,   6], dtype=int64))"
      ]
     },
     "execution_count": 1,
     "metadata": {},
     "output_type": "execute_result"
    }
   ],
   "source": [
    "np.unique(verified_annotations['num_bats'], return_counts=True)"
   ]
  },
  {
   "cell_type": "code",
   "execution_count": null,
   "metadata": {},
   "outputs": [],
   "source": []
  },
  {
   "cell_type": "markdown",
   "metadata": {},
   "source": [
    "### Getting annotation time stamps. \n"
   ]
  },
  {
   "cell_type": "code",
   "execution_count": 7,
   "metadata": {
    "execution": {
     "iopub.execute_input": "2020-12-17T14:16:08.619175Z",
     "iopub.status.busy": "2020-12-17T14:16:08.619175Z",
     "iopub.status.idle": "2020-12-17T14:16:11.050419Z",
     "shell.execute_reply": "2020-12-17T14:16:11.050419Z"
    }
   },
   "outputs": [],
   "source": [
    "video_annotations_folder = '../whole_data_analysis/annotations/corrected_HBC_video_annotations_Aditya/'\n",
    "verified_annotations['annot_end_time'] = icf.get_startstoptime_from_annotation_id(verified_annotations['video_annot_id'],\n",
    "                                                                             video_annotations_folder,\n",
    "                                                                                 endtime=True)\n",
    "verified_annotations['annot_start_time'] = icf.get_startstoptime_from_annotation_id(verified_annotations['video_annot_id'],\n",
    "                                                                             video_annotations_folder,\n",
    "                                                                                 endtime=False)"
   ]
  },
  {
   "cell_type": "code",
   "execution_count": 8,
   "metadata": {
    "execution": {
     "iopub.execute_input": "2020-12-17T14:16:11.070520Z",
     "iopub.status.busy": "2020-12-17T14:16:11.068501Z",
     "iopub.status.idle": "2020-12-17T14:16:11.110726Z",
     "shell.execute_reply": "2020-12-17T14:16:11.110726Z"
    }
   },
   "outputs": [],
   "source": [
    "verified_annotations['posix_end_time'] = verified_annotations['annot_end_time'].apply(icf.convert_annotation_time_to_posix)\n",
    "verified_annotations['posix_start_time'] = verified_annotations['annot_start_time'].apply(icf.convert_annotation_time_to_posix)"
   ]
  },
  {
   "cell_type": "code",
   "execution_count": 9,
   "metadata": {
    "execution": {
     "iopub.execute_input": "2020-12-17T14:16:11.118745Z",
     "iopub.status.busy": "2020-12-17T14:16:11.110726Z",
     "iopub.status.idle": "2020-12-17T14:16:11.130795Z",
     "shell.execute_reply": "2020-12-17T14:16:11.130795Z"
    }
   },
   "outputs": [],
   "source": [
    "# sort all the annotations according to their posix start time \n",
    "verified_annotations = verified_annotations.sort_values(by='posix_start_time')"
   ]
  },
  {
   "cell_type": "code",
   "execution_count": 10,
   "metadata": {
    "execution": {
     "iopub.execute_input": "2020-12-17T14:16:11.150871Z",
     "iopub.status.busy": "2020-12-17T14:16:11.148851Z",
     "iopub.status.idle": "2020-12-17T14:16:11.194577Z",
     "shell.execute_reply": "2020-12-17T14:16:11.194577Z"
    }
   },
   "outputs": [
    {
     "data": {
      "text/html": [
       "<div>\n",
       "<style scoped>\n",
       "    .dataframe tbody tr th:only-of-type {\n",
       "        vertical-align: middle;\n",
       "    }\n",
       "\n",
       "    .dataframe tbody tr th {\n",
       "        vertical-align: top;\n",
       "    }\n",
       "\n",
       "    .dataframe thead th {\n",
       "        text-align: right;\n",
       "    }\n",
       "</style>\n",
       "<table border=\"1\" class=\"dataframe\">\n",
       "  <thead>\n",
       "    <tr style=\"text-align: right;\">\n",
       "      <th></th>\n",
       "      <th>Unnamed: 0</th>\n",
       "      <th>valid_annotations</th>\n",
       "      <th>video_annot_id</th>\n",
       "      <th>num_bats</th>\n",
       "      <th>annot_end_time</th>\n",
       "      <th>annot_start_time</th>\n",
       "      <th>posix_end_time</th>\n",
       "      <th>posix_start_time</th>\n",
       "    </tr>\n",
       "  </thead>\n",
       "  <tbody>\n",
       "    <tr>\n",
       "      <th>0</th>\n",
       "      <td>0</td>\n",
       "      <td>matching_annotaudio_Aditya_2018-08-16_21502300_18</td>\n",
       "      <td>Aditya_2018-08-16_21502300_18</td>\n",
       "      <td>1</td>\n",
       "      <td>2018-08-16 22:24:26</td>\n",
       "      <td>2018-08-16 22:24:25</td>\n",
       "      <td>1.534451e+09</td>\n",
       "      <td>1.534451e+09</td>\n",
       "    </tr>\n",
       "    <tr>\n",
       "      <th>1</th>\n",
       "      <td>1</td>\n",
       "      <td>matching_annotaudio_Aditya_2018-08-16_21502300_20</td>\n",
       "      <td>Aditya_2018-08-16_21502300_20</td>\n",
       "      <td>1</td>\n",
       "      <td>2018-08-16 22:25:24</td>\n",
       "      <td>2018-08-16 22:25:21</td>\n",
       "      <td>1.534451e+09</td>\n",
       "      <td>1.534451e+09</td>\n",
       "    </tr>\n",
       "    <tr>\n",
       "      <th>2</th>\n",
       "      <td>2</td>\n",
       "      <td>matching_annotaudio_Aditya_2018-08-16_21502300_22</td>\n",
       "      <td>Aditya_2018-08-16_21502300_22</td>\n",
       "      <td>1</td>\n",
       "      <td>2018-08-16 22:25:47</td>\n",
       "      <td>2018-08-16 22:25:44</td>\n",
       "      <td>1.534451e+09</td>\n",
       "      <td>1.534451e+09</td>\n",
       "    </tr>\n",
       "    <tr>\n",
       "      <th>3</th>\n",
       "      <td>3</td>\n",
       "      <td>matching_annotaudio_Aditya_2018-08-16_21502300_24</td>\n",
       "      <td>Aditya_2018-08-16_21502300_24</td>\n",
       "      <td>1</td>\n",
       "      <td>2018-08-16 22:28:17</td>\n",
       "      <td>2018-08-16 22:28:16</td>\n",
       "      <td>1.534451e+09</td>\n",
       "      <td>1.534451e+09</td>\n",
       "    </tr>\n",
       "    <tr>\n",
       "      <th>4</th>\n",
       "      <td>4</td>\n",
       "      <td>matching_annotaudio_Aditya_2018-08-16_21502300_25</td>\n",
       "      <td>Aditya_2018-08-16_21502300_25</td>\n",
       "      <td>1</td>\n",
       "      <td>2018-08-16 22:28:47</td>\n",
       "      <td>2018-08-16 22:28:46</td>\n",
       "      <td>1.534451e+09</td>\n",
       "      <td>1.534451e+09</td>\n",
       "    </tr>\n",
       "    <tr>\n",
       "      <th>...</th>\n",
       "      <td>...</td>\n",
       "      <td>...</td>\n",
       "      <td>...</td>\n",
       "      <td>...</td>\n",
       "      <td>...</td>\n",
       "      <td>...</td>\n",
       "      <td>...</td>\n",
       "      <td>...</td>\n",
       "    </tr>\n",
       "    <tr>\n",
       "      <th>409</th>\n",
       "      <td>430</td>\n",
       "      <td>matching_annotaudio_Aditya_2018-08-20_0300-040...</td>\n",
       "      <td>Aditya_2018-08-20_0300-0400_84</td>\n",
       "      <td>1</td>\n",
       "      <td>2018-08-20 03:35:29</td>\n",
       "      <td>2018-08-20 03:35:29</td>\n",
       "      <td>1.534729e+09</td>\n",
       "      <td>1.534729e+09</td>\n",
       "    </tr>\n",
       "    <tr>\n",
       "      <th>410</th>\n",
       "      <td>431</td>\n",
       "      <td>matching_annotaudio_Aditya_2018-08-20_0300-040...</td>\n",
       "      <td>Aditya_2018-08-20_0300-0400_85</td>\n",
       "      <td>1</td>\n",
       "      <td>2018-08-20 03:35:44</td>\n",
       "      <td>2018-08-20 03:35:43</td>\n",
       "      <td>1.534729e+09</td>\n",
       "      <td>1.534729e+09</td>\n",
       "    </tr>\n",
       "    <tr>\n",
       "      <th>411</th>\n",
       "      <td>432</td>\n",
       "      <td>matching_annotaudio_Aditya_2018-08-20_0300-040...</td>\n",
       "      <td>Aditya_2018-08-20_0300-0400_90</td>\n",
       "      <td>1</td>\n",
       "      <td>2018-08-20 03:37:58</td>\n",
       "      <td>2018-08-20 03:37:58</td>\n",
       "      <td>1.534729e+09</td>\n",
       "      <td>1.534729e+09</td>\n",
       "    </tr>\n",
       "    <tr>\n",
       "      <th>412</th>\n",
       "      <td>433</td>\n",
       "      <td>matching_annotaudio_Aditya_2018-08-20_0300-040...</td>\n",
       "      <td>Aditya_2018-08-20_0300-0400_91</td>\n",
       "      <td>1</td>\n",
       "      <td>2018-08-20 03:38:01</td>\n",
       "      <td>2018-08-20 03:38:00</td>\n",
       "      <td>1.534729e+09</td>\n",
       "      <td>1.534729e+09</td>\n",
       "    </tr>\n",
       "    <tr>\n",
       "      <th>413</th>\n",
       "      <td>434</td>\n",
       "      <td>matching_annotaudio_Aditya_2018-08-20_0300-040...</td>\n",
       "      <td>Aditya_2018-08-20_0300-0400_92</td>\n",
       "      <td>1</td>\n",
       "      <td>2018-08-20 03:38:24</td>\n",
       "      <td>2018-08-20 03:38:23</td>\n",
       "      <td>1.534729e+09</td>\n",
       "      <td>1.534729e+09</td>\n",
       "    </tr>\n",
       "  </tbody>\n",
       "</table>\n",
       "<p>414 rows × 8 columns</p>\n",
       "</div>"
      ],
      "text/plain": [
       "     Unnamed: 0                                  valid_annotations  \\\n",
       "0             0  matching_annotaudio_Aditya_2018-08-16_21502300_18   \n",
       "1             1  matching_annotaudio_Aditya_2018-08-16_21502300_20   \n",
       "2             2  matching_annotaudio_Aditya_2018-08-16_21502300_22   \n",
       "3             3  matching_annotaudio_Aditya_2018-08-16_21502300_24   \n",
       "4             4  matching_annotaudio_Aditya_2018-08-16_21502300_25   \n",
       "..          ...                                                ...   \n",
       "409         430  matching_annotaudio_Aditya_2018-08-20_0300-040...   \n",
       "410         431  matching_annotaudio_Aditya_2018-08-20_0300-040...   \n",
       "411         432  matching_annotaudio_Aditya_2018-08-20_0300-040...   \n",
       "412         433  matching_annotaudio_Aditya_2018-08-20_0300-040...   \n",
       "413         434  matching_annotaudio_Aditya_2018-08-20_0300-040...   \n",
       "\n",
       "                     video_annot_id  num_bats       annot_end_time  \\\n",
       "0     Aditya_2018-08-16_21502300_18         1  2018-08-16 22:24:26   \n",
       "1     Aditya_2018-08-16_21502300_20         1  2018-08-16 22:25:24   \n",
       "2     Aditya_2018-08-16_21502300_22         1  2018-08-16 22:25:47   \n",
       "3     Aditya_2018-08-16_21502300_24         1  2018-08-16 22:28:17   \n",
       "4     Aditya_2018-08-16_21502300_25         1  2018-08-16 22:28:47   \n",
       "..                              ...       ...                  ...   \n",
       "409  Aditya_2018-08-20_0300-0400_84         1  2018-08-20 03:35:29   \n",
       "410  Aditya_2018-08-20_0300-0400_85         1  2018-08-20 03:35:44   \n",
       "411  Aditya_2018-08-20_0300-0400_90         1  2018-08-20 03:37:58   \n",
       "412  Aditya_2018-08-20_0300-0400_91         1  2018-08-20 03:38:01   \n",
       "413  Aditya_2018-08-20_0300-0400_92         1  2018-08-20 03:38:24   \n",
       "\n",
       "        annot_start_time  posix_end_time  posix_start_time  \n",
       "0    2018-08-16 22:24:25    1.534451e+09      1.534451e+09  \n",
       "1    2018-08-16 22:25:21    1.534451e+09      1.534451e+09  \n",
       "2    2018-08-16 22:25:44    1.534451e+09      1.534451e+09  \n",
       "3    2018-08-16 22:28:16    1.534451e+09      1.534451e+09  \n",
       "4    2018-08-16 22:28:46    1.534451e+09      1.534451e+09  \n",
       "..                   ...             ...               ...  \n",
       "409  2018-08-20 03:35:29    1.534729e+09      1.534729e+09  \n",
       "410  2018-08-20 03:35:43    1.534729e+09      1.534729e+09  \n",
       "411  2018-08-20 03:37:58    1.534729e+09      1.534729e+09  \n",
       "412  2018-08-20 03:38:00    1.534729e+09      1.534729e+09  \n",
       "413  2018-08-20 03:38:23    1.534729e+09      1.534729e+09  \n",
       "\n",
       "[414 rows x 8 columns]"
      ]
     },
     "execution_count": 1,
     "metadata": {},
     "output_type": "execute_result"
    }
   ],
   "source": [
    "verified_annotations"
   ]
  },
  {
   "cell_type": "markdown",
   "metadata": {},
   "source": [
    "### Get the total number of single and multi bat annotation files"
   ]
  },
  {
   "cell_type": "code",
   "execution_count": 11,
   "metadata": {
    "execution": {
     "iopub.execute_input": "2020-12-17T14:16:11.210201Z",
     "iopub.status.busy": "2020-12-17T14:16:11.210201Z",
     "iopub.status.idle": "2020-12-17T14:16:11.241449Z",
     "shell.execute_reply": "2020-12-17T14:16:11.241449Z"
    }
   },
   "outputs": [
    {
     "name": "stdout",
     "output_type": "stream",
     "text": [
      "302 86 20 6 256\n"
     ]
    }
   ],
   "source": [
    "multi_bat_files = [verified_annotations[verified_annotations['num_bats']==each] for each in [2,3,4]]\n",
    "pairs, triplets, quadruplets = multi_bat_files\n",
    "\n",
    "singles = verified_annotations[verified_annotations['num_bats']==1].reset_index(drop=True)\n",
    "multibats = pd.concat(multi_bat_files).reset_index(drop=True)\n",
    "\n",
    "num_pairs = len(np.unique(pairs['video_annot_id']))\n",
    "num_triplets = len(np.unique(triplets['video_annot_id']))\n",
    "num_quadruplets = len(np.unique(quadruplets['video_annot_id']))\n",
    "num_singles = len(np.unique(singles['video_annot_id']))\n",
    "\n",
    "total_single_calls_needed = num_pairs*2 + num_triplets*3 + num_quadruplets*4\n",
    "print(num_singles, num_pairs, num_triplets, num_quadruplets, total_single_calls_needed)\n"
   ]
  },
  {
   "cell_type": "markdown",
   "metadata": {},
   "source": [
    "### There are sufficient single annotation audio files to make all required virtual multi bat audio files *uniquely*!\n",
    "There are right now 361 single audio files, while, we need only a total of 256 files. This is good news in that there will be no need to repeat any files. "
   ]
  },
  {
   "cell_type": "code",
   "execution_count": 12,
   "metadata": {
    "execution": {
     "iopub.execute_input": "2020-12-17T14:16:11.279206Z",
     "iopub.status.busy": "2020-12-17T14:16:11.279206Z",
     "iopub.status.idle": "2020-12-17T14:16:11.294836Z",
     "shell.execute_reply": "2020-12-17T14:16:11.294836Z"
    }
   },
   "outputs": [
    {
     "data": {
      "text/html": [
       "<div>\n",
       "<style scoped>\n",
       "    .dataframe tbody tr th:only-of-type {\n",
       "        vertical-align: middle;\n",
       "    }\n",
       "\n",
       "    .dataframe tbody tr th {\n",
       "        vertical-align: top;\n",
       "    }\n",
       "\n",
       "    .dataframe thead th {\n",
       "        text-align: right;\n",
       "    }\n",
       "</style>\n",
       "<table border=\"1\" class=\"dataframe\">\n",
       "  <thead>\n",
       "    <tr style=\"text-align: right;\">\n",
       "      <th></th>\n",
       "      <th>Unnamed: 0</th>\n",
       "      <th>valid_annotations</th>\n",
       "      <th>video_annot_id</th>\n",
       "      <th>num_bats</th>\n",
       "      <th>annot_end_time</th>\n",
       "      <th>annot_start_time</th>\n",
       "      <th>posix_end_time</th>\n",
       "      <th>posix_start_time</th>\n",
       "    </tr>\n",
       "  </thead>\n",
       "  <tbody>\n",
       "    <tr>\n",
       "      <th>0</th>\n",
       "      <td>0</td>\n",
       "      <td>matching_annotaudio_Aditya_2018-08-16_21502300_18</td>\n",
       "      <td>Aditya_2018-08-16_21502300_18</td>\n",
       "      <td>1</td>\n",
       "      <td>2018-08-16 22:24:26</td>\n",
       "      <td>2018-08-16 22:24:25</td>\n",
       "      <td>1.534451e+09</td>\n",
       "      <td>1.534451e+09</td>\n",
       "    </tr>\n",
       "    <tr>\n",
       "      <th>1</th>\n",
       "      <td>1</td>\n",
       "      <td>matching_annotaudio_Aditya_2018-08-16_21502300_20</td>\n",
       "      <td>Aditya_2018-08-16_21502300_20</td>\n",
       "      <td>1</td>\n",
       "      <td>2018-08-16 22:25:24</td>\n",
       "      <td>2018-08-16 22:25:21</td>\n",
       "      <td>1.534451e+09</td>\n",
       "      <td>1.534451e+09</td>\n",
       "    </tr>\n",
       "    <tr>\n",
       "      <th>2</th>\n",
       "      <td>2</td>\n",
       "      <td>matching_annotaudio_Aditya_2018-08-16_21502300_22</td>\n",
       "      <td>Aditya_2018-08-16_21502300_22</td>\n",
       "      <td>1</td>\n",
       "      <td>2018-08-16 22:25:47</td>\n",
       "      <td>2018-08-16 22:25:44</td>\n",
       "      <td>1.534451e+09</td>\n",
       "      <td>1.534451e+09</td>\n",
       "    </tr>\n",
       "    <tr>\n",
       "      <th>3</th>\n",
       "      <td>3</td>\n",
       "      <td>matching_annotaudio_Aditya_2018-08-16_21502300_24</td>\n",
       "      <td>Aditya_2018-08-16_21502300_24</td>\n",
       "      <td>1</td>\n",
       "      <td>2018-08-16 22:28:17</td>\n",
       "      <td>2018-08-16 22:28:16</td>\n",
       "      <td>1.534451e+09</td>\n",
       "      <td>1.534451e+09</td>\n",
       "    </tr>\n",
       "    <tr>\n",
       "      <th>4</th>\n",
       "      <td>4</td>\n",
       "      <td>matching_annotaudio_Aditya_2018-08-16_21502300_25</td>\n",
       "      <td>Aditya_2018-08-16_21502300_25</td>\n",
       "      <td>1</td>\n",
       "      <td>2018-08-16 22:28:47</td>\n",
       "      <td>2018-08-16 22:28:46</td>\n",
       "      <td>1.534451e+09</td>\n",
       "      <td>1.534451e+09</td>\n",
       "    </tr>\n",
       "    <tr>\n",
       "      <th>...</th>\n",
       "      <td>...</td>\n",
       "      <td>...</td>\n",
       "      <td>...</td>\n",
       "      <td>...</td>\n",
       "      <td>...</td>\n",
       "      <td>...</td>\n",
       "      <td>...</td>\n",
       "      <td>...</td>\n",
       "    </tr>\n",
       "    <tr>\n",
       "      <th>409</th>\n",
       "      <td>430</td>\n",
       "      <td>matching_annotaudio_Aditya_2018-08-20_0300-040...</td>\n",
       "      <td>Aditya_2018-08-20_0300-0400_84</td>\n",
       "      <td>1</td>\n",
       "      <td>2018-08-20 03:35:29</td>\n",
       "      <td>2018-08-20 03:35:29</td>\n",
       "      <td>1.534729e+09</td>\n",
       "      <td>1.534729e+09</td>\n",
       "    </tr>\n",
       "    <tr>\n",
       "      <th>410</th>\n",
       "      <td>431</td>\n",
       "      <td>matching_annotaudio_Aditya_2018-08-20_0300-040...</td>\n",
       "      <td>Aditya_2018-08-20_0300-0400_85</td>\n",
       "      <td>1</td>\n",
       "      <td>2018-08-20 03:35:44</td>\n",
       "      <td>2018-08-20 03:35:43</td>\n",
       "      <td>1.534729e+09</td>\n",
       "      <td>1.534729e+09</td>\n",
       "    </tr>\n",
       "    <tr>\n",
       "      <th>411</th>\n",
       "      <td>432</td>\n",
       "      <td>matching_annotaudio_Aditya_2018-08-20_0300-040...</td>\n",
       "      <td>Aditya_2018-08-20_0300-0400_90</td>\n",
       "      <td>1</td>\n",
       "      <td>2018-08-20 03:37:58</td>\n",
       "      <td>2018-08-20 03:37:58</td>\n",
       "      <td>1.534729e+09</td>\n",
       "      <td>1.534729e+09</td>\n",
       "    </tr>\n",
       "    <tr>\n",
       "      <th>412</th>\n",
       "      <td>433</td>\n",
       "      <td>matching_annotaudio_Aditya_2018-08-20_0300-040...</td>\n",
       "      <td>Aditya_2018-08-20_0300-0400_91</td>\n",
       "      <td>1</td>\n",
       "      <td>2018-08-20 03:38:01</td>\n",
       "      <td>2018-08-20 03:38:00</td>\n",
       "      <td>1.534729e+09</td>\n",
       "      <td>1.534729e+09</td>\n",
       "    </tr>\n",
       "    <tr>\n",
       "      <th>413</th>\n",
       "      <td>434</td>\n",
       "      <td>matching_annotaudio_Aditya_2018-08-20_0300-040...</td>\n",
       "      <td>Aditya_2018-08-20_0300-0400_92</td>\n",
       "      <td>1</td>\n",
       "      <td>2018-08-20 03:38:24</td>\n",
       "      <td>2018-08-20 03:38:23</td>\n",
       "      <td>1.534729e+09</td>\n",
       "      <td>1.534729e+09</td>\n",
       "    </tr>\n",
       "  </tbody>\n",
       "</table>\n",
       "<p>414 rows × 8 columns</p>\n",
       "</div>"
      ],
      "text/plain": [
       "     Unnamed: 0                                  valid_annotations  \\\n",
       "0             0  matching_annotaudio_Aditya_2018-08-16_21502300_18   \n",
       "1             1  matching_annotaudio_Aditya_2018-08-16_21502300_20   \n",
       "2             2  matching_annotaudio_Aditya_2018-08-16_21502300_22   \n",
       "3             3  matching_annotaudio_Aditya_2018-08-16_21502300_24   \n",
       "4             4  matching_annotaudio_Aditya_2018-08-16_21502300_25   \n",
       "..          ...                                                ...   \n",
       "409         430  matching_annotaudio_Aditya_2018-08-20_0300-040...   \n",
       "410         431  matching_annotaudio_Aditya_2018-08-20_0300-040...   \n",
       "411         432  matching_annotaudio_Aditya_2018-08-20_0300-040...   \n",
       "412         433  matching_annotaudio_Aditya_2018-08-20_0300-040...   \n",
       "413         434  matching_annotaudio_Aditya_2018-08-20_0300-040...   \n",
       "\n",
       "                     video_annot_id  num_bats       annot_end_time  \\\n",
       "0     Aditya_2018-08-16_21502300_18         1  2018-08-16 22:24:26   \n",
       "1     Aditya_2018-08-16_21502300_20         1  2018-08-16 22:25:24   \n",
       "2     Aditya_2018-08-16_21502300_22         1  2018-08-16 22:25:47   \n",
       "3     Aditya_2018-08-16_21502300_24         1  2018-08-16 22:28:17   \n",
       "4     Aditya_2018-08-16_21502300_25         1  2018-08-16 22:28:47   \n",
       "..                              ...       ...                  ...   \n",
       "409  Aditya_2018-08-20_0300-0400_84         1  2018-08-20 03:35:29   \n",
       "410  Aditya_2018-08-20_0300-0400_85         1  2018-08-20 03:35:44   \n",
       "411  Aditya_2018-08-20_0300-0400_90         1  2018-08-20 03:37:58   \n",
       "412  Aditya_2018-08-20_0300-0400_91         1  2018-08-20 03:38:01   \n",
       "413  Aditya_2018-08-20_0300-0400_92         1  2018-08-20 03:38:24   \n",
       "\n",
       "        annot_start_time  posix_end_time  posix_start_time  \n",
       "0    2018-08-16 22:24:25    1.534451e+09      1.534451e+09  \n",
       "1    2018-08-16 22:25:21    1.534451e+09      1.534451e+09  \n",
       "2    2018-08-16 22:25:44    1.534451e+09      1.534451e+09  \n",
       "3    2018-08-16 22:28:16    1.534451e+09      1.534451e+09  \n",
       "4    2018-08-16 22:28:46    1.534451e+09      1.534451e+09  \n",
       "..                   ...             ...               ...  \n",
       "409  2018-08-20 03:35:29    1.534729e+09      1.534729e+09  \n",
       "410  2018-08-20 03:35:43    1.534729e+09      1.534729e+09  \n",
       "411  2018-08-20 03:37:58    1.534729e+09      1.534729e+09  \n",
       "412  2018-08-20 03:38:00    1.534729e+09      1.534729e+09  \n",
       "413  2018-08-20 03:38:23    1.534729e+09      1.534729e+09  \n",
       "\n",
       "[414 rows x 8 columns]"
      ]
     },
     "execution_count": 1,
     "metadata": {},
     "output_type": "execute_result"
    }
   ],
   "source": [
    "verified_annotations"
   ]
  },
  {
   "cell_type": "markdown",
   "metadata": {},
   "source": [
    "### How long are the observed multi bat audio files ?\n",
    "The duration of the multi bat audio files are important because the duration decides how many audio segments can maximally be part of the analysed dataset. Of course, the actual number of segments that are above the threshold will decrease this. It still helps to reduce the disparity between the virtual and observed multi bat audio files."
   ]
  },
  {
   "cell_type": "code",
   "execution_count": 13,
   "metadata": {
    "execution": {
     "iopub.execute_input": "2020-12-17T14:16:11.326084Z",
     "iopub.status.busy": "2020-12-17T14:16:11.326084Z",
     "iopub.status.idle": "2020-12-17T14:16:11.341708Z",
     "shell.execute_reply": "2020-12-17T14:16:11.341708Z"
    }
   },
   "outputs": [
    {
     "data": {
      "text/html": [
       "<div>\n",
       "<style scoped>\n",
       "    .dataframe tbody tr th:only-of-type {\n",
       "        vertical-align: middle;\n",
       "    }\n",
       "\n",
       "    .dataframe tbody tr th {\n",
       "        vertical-align: top;\n",
       "    }\n",
       "\n",
       "    .dataframe thead th {\n",
       "        text-align: right;\n",
       "    }\n",
       "</style>\n",
       "<table border=\"1\" class=\"dataframe\">\n",
       "  <thead>\n",
       "    <tr style=\"text-align: right;\">\n",
       "      <th></th>\n",
       "      <th>Unnamed: 0</th>\n",
       "      <th>valid_annotations</th>\n",
       "      <th>video_annot_id</th>\n",
       "      <th>num_bats</th>\n",
       "      <th>annot_end_time</th>\n",
       "      <th>annot_start_time</th>\n",
       "      <th>posix_end_time</th>\n",
       "      <th>posix_start_time</th>\n",
       "    </tr>\n",
       "  </thead>\n",
       "  <tbody>\n",
       "    <tr>\n",
       "      <th>9</th>\n",
       "      <td>9</td>\n",
       "      <td>matching_annotaudio_Aditya_2018-08-16_21502300_36</td>\n",
       "      <td>Aditya_2018-08-16_21502300_36</td>\n",
       "      <td>2</td>\n",
       "      <td>2018-08-16 22:37:46</td>\n",
       "      <td>2018-08-16 22:37:39</td>\n",
       "      <td>1.534452e+09</td>\n",
       "      <td>1.534452e+09</td>\n",
       "    </tr>\n",
       "    <tr>\n",
       "      <th>10</th>\n",
       "      <td>10</td>\n",
       "      <td>matching_annotaudio_Aditya_2018-08-16_21502300_37</td>\n",
       "      <td>Aditya_2018-08-16_21502300_37</td>\n",
       "      <td>2</td>\n",
       "      <td>2018-08-16 22:37:46</td>\n",
       "      <td>2018-08-16 22:37:39</td>\n",
       "      <td>1.534452e+09</td>\n",
       "      <td>1.534452e+09</td>\n",
       "    </tr>\n",
       "    <tr>\n",
       "      <th>11</th>\n",
       "      <td>11</td>\n",
       "      <td>matching_annotaudio_Aditya_2018-08-16_21502300_39</td>\n",
       "      <td>Aditya_2018-08-16_21502300_39</td>\n",
       "      <td>2</td>\n",
       "      <td>2018-08-16 22:37:50</td>\n",
       "      <td>2018-08-16 22:37:47</td>\n",
       "      <td>1.534452e+09</td>\n",
       "      <td>1.534452e+09</td>\n",
       "    </tr>\n",
       "    <tr>\n",
       "      <th>12</th>\n",
       "      <td>12</td>\n",
       "      <td>matching_annotaudio_Aditya_2018-08-16_21502300_40</td>\n",
       "      <td>Aditya_2018-08-16_21502300_40</td>\n",
       "      <td>2</td>\n",
       "      <td>2018-08-16 22:37:52</td>\n",
       "      <td>2018-08-16 22:37:48</td>\n",
       "      <td>1.534452e+09</td>\n",
       "      <td>1.534452e+09</td>\n",
       "    </tr>\n",
       "    <tr>\n",
       "      <th>13</th>\n",
       "      <td>13</td>\n",
       "      <td>matching_annotaudio_Aditya_2018-08-16_21502300_43</td>\n",
       "      <td>Aditya_2018-08-16_21502300_43</td>\n",
       "      <td>2</td>\n",
       "      <td>2018-08-16 22:38:07</td>\n",
       "      <td>2018-08-16 22:38:05</td>\n",
       "      <td>1.534452e+09</td>\n",
       "      <td>1.534452e+09</td>\n",
       "    </tr>\n",
       "    <tr>\n",
       "      <th>...</th>\n",
       "      <td>...</td>\n",
       "      <td>...</td>\n",
       "      <td>...</td>\n",
       "      <td>...</td>\n",
       "      <td>...</td>\n",
       "      <td>...</td>\n",
       "      <td>...</td>\n",
       "      <td>...</td>\n",
       "    </tr>\n",
       "    <tr>\n",
       "      <th>391</th>\n",
       "      <td>410</td>\n",
       "      <td>matching_annotaudio_Aditya_2018-08-20_0200-030...</td>\n",
       "      <td>Aditya_2018-08-20_0200-0300_66</td>\n",
       "      <td>2</td>\n",
       "      <td>2018-08-20 02:44:51</td>\n",
       "      <td>2018-08-20 02:44:49</td>\n",
       "      <td>1.534726e+09</td>\n",
       "      <td>1.534726e+09</td>\n",
       "    </tr>\n",
       "    <tr>\n",
       "      <th>394</th>\n",
       "      <td>413</td>\n",
       "      <td>matching_annotaudio_Aditya_2018-08-20_0200-030...</td>\n",
       "      <td>Aditya_2018-08-20_0200-0300_73</td>\n",
       "      <td>2</td>\n",
       "      <td>2018-08-20 02:45:45</td>\n",
       "      <td>2018-08-20 02:45:44</td>\n",
       "      <td>1.534726e+09</td>\n",
       "      <td>1.534726e+09</td>\n",
       "    </tr>\n",
       "    <tr>\n",
       "      <th>396</th>\n",
       "      <td>415</td>\n",
       "      <td>matching_annotaudio_Aditya_2018-08-20_0200-030...</td>\n",
       "      <td>Aditya_2018-08-20_0200-0300_78</td>\n",
       "      <td>2</td>\n",
       "      <td>2018-08-20 02:50:08</td>\n",
       "      <td>2018-08-20 02:50:07</td>\n",
       "      <td>1.534726e+09</td>\n",
       "      <td>1.534726e+09</td>\n",
       "    </tr>\n",
       "    <tr>\n",
       "      <th>401</th>\n",
       "      <td>420</td>\n",
       "      <td>matching_annotaudio_Aditya_2018-08-20_0200-030...</td>\n",
       "      <td>Aditya_2018-08-20_0200-0300_92</td>\n",
       "      <td>2</td>\n",
       "      <td>2018-08-20 02:58:49</td>\n",
       "      <td>2018-08-20 02:58:42</td>\n",
       "      <td>1.534727e+09</td>\n",
       "      <td>1.534727e+09</td>\n",
       "    </tr>\n",
       "    <tr>\n",
       "      <th>408</th>\n",
       "      <td>429</td>\n",
       "      <td>matching_annotaudio_Aditya_2018-08-20_0300-040...</td>\n",
       "      <td>Aditya_2018-08-20_0300-0400_83</td>\n",
       "      <td>2</td>\n",
       "      <td>2018-08-20 03:35:29</td>\n",
       "      <td>2018-08-20 03:35:29</td>\n",
       "      <td>1.534729e+09</td>\n",
       "      <td>1.534729e+09</td>\n",
       "    </tr>\n",
       "  </tbody>\n",
       "</table>\n",
       "<p>86 rows × 8 columns</p>\n",
       "</div>"
      ],
      "text/plain": [
       "     Unnamed: 0                                  valid_annotations  \\\n",
       "9             9  matching_annotaudio_Aditya_2018-08-16_21502300_36   \n",
       "10           10  matching_annotaudio_Aditya_2018-08-16_21502300_37   \n",
       "11           11  matching_annotaudio_Aditya_2018-08-16_21502300_39   \n",
       "12           12  matching_annotaudio_Aditya_2018-08-16_21502300_40   \n",
       "13           13  matching_annotaudio_Aditya_2018-08-16_21502300_43   \n",
       "..          ...                                                ...   \n",
       "391         410  matching_annotaudio_Aditya_2018-08-20_0200-030...   \n",
       "394         413  matching_annotaudio_Aditya_2018-08-20_0200-030...   \n",
       "396         415  matching_annotaudio_Aditya_2018-08-20_0200-030...   \n",
       "401         420  matching_annotaudio_Aditya_2018-08-20_0200-030...   \n",
       "408         429  matching_annotaudio_Aditya_2018-08-20_0300-040...   \n",
       "\n",
       "                     video_annot_id  num_bats       annot_end_time  \\\n",
       "9     Aditya_2018-08-16_21502300_36         2  2018-08-16 22:37:46   \n",
       "10    Aditya_2018-08-16_21502300_37         2  2018-08-16 22:37:46   \n",
       "11    Aditya_2018-08-16_21502300_39         2  2018-08-16 22:37:50   \n",
       "12    Aditya_2018-08-16_21502300_40         2  2018-08-16 22:37:52   \n",
       "13    Aditya_2018-08-16_21502300_43         2  2018-08-16 22:38:07   \n",
       "..                              ...       ...                  ...   \n",
       "391  Aditya_2018-08-20_0200-0300_66         2  2018-08-20 02:44:51   \n",
       "394  Aditya_2018-08-20_0200-0300_73         2  2018-08-20 02:45:45   \n",
       "396  Aditya_2018-08-20_0200-0300_78         2  2018-08-20 02:50:08   \n",
       "401  Aditya_2018-08-20_0200-0300_92         2  2018-08-20 02:58:49   \n",
       "408  Aditya_2018-08-20_0300-0400_83         2  2018-08-20 03:35:29   \n",
       "\n",
       "        annot_start_time  posix_end_time  posix_start_time  \n",
       "9    2018-08-16 22:37:39    1.534452e+09      1.534452e+09  \n",
       "10   2018-08-16 22:37:39    1.534452e+09      1.534452e+09  \n",
       "11   2018-08-16 22:37:47    1.534452e+09      1.534452e+09  \n",
       "12   2018-08-16 22:37:48    1.534452e+09      1.534452e+09  \n",
       "13   2018-08-16 22:38:05    1.534452e+09      1.534452e+09  \n",
       "..                   ...             ...               ...  \n",
       "391  2018-08-20 02:44:49    1.534726e+09      1.534726e+09  \n",
       "394  2018-08-20 02:45:44    1.534726e+09      1.534726e+09  \n",
       "396  2018-08-20 02:50:07    1.534726e+09      1.534726e+09  \n",
       "401  2018-08-20 02:58:42    1.534727e+09      1.534727e+09  \n",
       "408  2018-08-20 03:35:29    1.534729e+09      1.534729e+09  \n",
       "\n",
       "[86 rows x 8 columns]"
      ]
     },
     "execution_count": 1,
     "metadata": {},
     "output_type": "execute_result"
    }
   ],
   "source": [
    "pairs"
   ]
  },
  {
   "cell_type": "code",
   "execution_count": 14,
   "metadata": {
    "execution": {
     "iopub.execute_input": "2020-12-17T14:16:11.341708Z",
     "iopub.status.busy": "2020-12-17T14:16:11.341708Z",
     "iopub.status.idle": "2020-12-17T14:16:11.357332Z",
     "shell.execute_reply": "2020-12-17T14:16:11.357332Z"
    }
   },
   "outputs": [],
   "source": [
    "multi_bat = []\n",
    "for each in multi_bat_files:\n",
    "    for file in each['valid_annotations']:\n",
    "        multi_bat.append(file+'_hp.WAV')"
   ]
  },
  {
   "cell_type": "code",
   "execution_count": 15,
   "metadata": {
    "execution": {
     "iopub.execute_input": "2020-12-17T14:16:11.357332Z",
     "iopub.status.busy": "2020-12-17T14:16:11.357332Z",
     "iopub.status.idle": "2020-12-17T14:16:14.428505Z",
     "shell.execute_reply": "2020-12-17T14:16:14.428505Z"
    },
    "scrolled": true
   },
   "outputs": [
    {
     "name": "stderr",
     "output_type": "stream",
     "text": [
      "\r",
      "  0%|                                                                                          | 0/112 [00:00<?, ?it/s]"
     ]
    },
    {
     "name": "stdout",
     "output_type": "stream",
     "text": [
      "Match found!\n"
     ]
    },
    {
     "name": "stderr",
     "output_type": "stream",
     "text": [
      "\r",
      "  3%|██▏                                                                               | 3/112 [00:00<00:04, 26.17it/s]"
     ]
    },
    {
     "name": "stdout",
     "output_type": "stream",
     "text": [
      "Match found!\n",
      "Match found!\n",
      "Match found!\n",
      "Match found!\n",
      "Match found!\n",
      "Match found!\n",
      "Match found!\n"
     ]
    },
    {
     "name": "stderr",
     "output_type": "stream",
     "text": [
      "\r",
      "  7%|█████▊                                                                            | 8/112 [00:00<00:03, 30.06it/s]"
     ]
    },
    {
     "name": "stdout",
     "output_type": "stream",
     "text": [
      "Match found!\n"
     ]
    },
    {
     "name": "stderr",
     "output_type": "stream",
     "text": [
      "\r",
      " 11%|████████▋                                                                        | 12/112 [00:00<00:03, 31.52it/s]"
     ]
    },
    {
     "name": "stdout",
     "output_type": "stream",
     "text": [
      "Match found!\n",
      "Match found!\n",
      "Match found!\n",
      "Match found!\n",
      "Match found!\n",
      "Match found!\n",
      "Match found!\n",
      "Match found!\n"
     ]
    },
    {
     "name": "stderr",
     "output_type": "stream",
     "text": [
      "\r",
      " 15%|████████████▎                                                                    | 17/112 [00:00<00:02, 34.82it/s]"
     ]
    },
    {
     "name": "stdout",
     "output_type": "stream",
     "text": [
      "Match found!\n"
     ]
    },
    {
     "name": "stderr",
     "output_type": "stream",
     "text": [
      "\r",
      " 19%|███████████████▏                                                                 | 21/112 [00:00<00:02, 35.96it/s]"
     ]
    },
    {
     "name": "stderr",
     "output_type": "stream",
     "text": [
      "\r",
      " 23%|██████████████████▊                                                              | 26/112 [00:00<00:02, 39.24it/s]"
     ]
    },
    {
     "name": "stdout",
     "output_type": "stream",
     "text": [
      "Match found!\n",
      "Match found!\n",
      "Match found!\n",
      "Match found!\n",
      "Match found!\n",
      "Match found!\n",
      "Match found!\n",
      "Match found!\n"
     ]
    },
    {
     "name": "stdout",
     "output_type": "stream",
     "text": [
      "Match found!\n",
      "Match found!\n"
     ]
    },
    {
     "name": "stderr",
     "output_type": "stream",
     "text": [
      "\r",
      " 27%|█████████████████████▋                                                           | 30/112 [00:00<00:02, 37.69it/s]"
     ]
    },
    {
     "name": "stdout",
     "output_type": "stream",
     "text": [
      "Match found!\n",
      "Match found!\n",
      "Match found!\n",
      "Match found!\n",
      "Match found!\n"
     ]
    },
    {
     "name": "stderr",
     "output_type": "stream",
     "text": [
      "\r",
      " 30%|████████████████████████▌                                                        | 34/112 [00:00<00:02, 34.90it/s]"
     ]
    },
    {
     "name": "stdout",
     "output_type": "stream",
     "text": [
      "Match found!\n"
     ]
    },
    {
     "name": "stderr",
     "output_type": "stream",
     "text": [
      "\r",
      " 34%|███████████████████████████▍                                                     | 38/112 [00:01<00:02, 32.66it/s]"
     ]
    },
    {
     "name": "stdout",
     "output_type": "stream",
     "text": [
      "Match found!\n",
      "Match found!\n",
      "Match found!\n",
      "Match found!\n",
      "Match found!\n",
      "Match found!\n"
     ]
    },
    {
     "name": "stderr",
     "output_type": "stream",
     "text": [
      "\r",
      " 38%|██████████████████████████████▍                                                  | 42/112 [00:01<00:02, 33.64it/s]"
     ]
    },
    {
     "name": "stderr",
     "output_type": "stream",
     "text": [
      "\r",
      " 41%|█████████████████████████████████▎                                               | 46/112 [00:01<00:01, 35.26it/s]"
     ]
    },
    {
     "name": "stdout",
     "output_type": "stream",
     "text": [
      "Match found!\n",
      "Match found!\n",
      "Match found!\n",
      "Match found!\n",
      "Match found!\n",
      "Match found!\n",
      "Match found!\n",
      "Match found!\n"
     ]
    },
    {
     "name": "stderr",
     "output_type": "stream",
     "text": [
      "\r",
      " 45%|████████████████████████████████████▏                                            | 50/112 [00:01<00:01, 35.03it/s]"
     ]
    },
    {
     "name": "stderr",
     "output_type": "stream",
     "text": [
      "\r",
      " 48%|███████████████████████████████████████                                          | 54/112 [00:01<00:01, 36.36it/s]"
     ]
    },
    {
     "name": "stdout",
     "output_type": "stream",
     "text": [
      "Match found!\n",
      "Match found!\n",
      "Match found!\n",
      "Match found!\n",
      "Match found!\n",
      "Match found!\n",
      "Match found!\n"
     ]
    },
    {
     "name": "stderr",
     "output_type": "stream",
     "text": [
      "\r",
      " 52%|█████████████████████████████████████████▉                                       | 58/112 [00:01<00:01, 35.79it/s]"
     ]
    },
    {
     "name": "stderr",
     "output_type": "stream",
     "text": [
      "\r",
      " 56%|█████████████████████████████████████████████▌                                   | 63/112 [00:01<00:01, 38.51it/s]"
     ]
    },
    {
     "name": "stdout",
     "output_type": "stream",
     "text": [
      "Match found!\n",
      "Match found!\n",
      "Match found!\n",
      "Match found!\n",
      "Match found!\n",
      "Match found!\n",
      "Match found!\n",
      "Match found!\n",
      "Match found!\n"
     ]
    },
    {
     "name": "stderr",
     "output_type": "stream",
     "text": [
      "\r",
      " 60%|████████████████████████████████████████████████▍                                | 67/112 [00:01<00:01, 37.22it/s]"
     ]
    },
    {
     "name": "stdout",
     "output_type": "stream",
     "text": [
      "Match found!\n",
      "Match found!\n",
      "Match found!\n",
      "Match found!\n",
      "Match found!\n",
      "Match found!\n"
     ]
    },
    {
     "name": "stderr",
     "output_type": "stream",
     "text": [
      "\r",
      " 63%|███████████████████████████████████████████████████▎                             | 71/112 [00:01<00:01, 33.52it/s]"
     ]
    },
    {
     "name": "stderr",
     "output_type": "stream",
     "text": [
      "\r",
      " 67%|██████████████████████████████████████████████████████▏                          | 75/112 [00:02<00:01, 31.22it/s]"
     ]
    },
    {
     "name": "stdout",
     "output_type": "stream",
     "text": [
      "Match found!\n",
      "Match found!\n",
      "Match found!\n",
      "Match found!\n",
      "Match found!\n",
      "Match found!\n"
     ]
    },
    {
     "name": "stderr",
     "output_type": "stream",
     "text": [
      "\r",
      " 71%|█████████████████████████████████████████████████████████▏                       | 79/112 [00:02<00:01, 32.55it/s]"
     ]
    },
    {
     "name": "stderr",
     "output_type": "stream",
     "text": [
      "\r",
      " 76%|█████████████████████████████████████████████████████████████▍                   | 85/112 [00:02<00:00, 36.92it/s]"
     ]
    },
    {
     "name": "stdout",
     "output_type": "stream",
     "text": [
      "Match found!\n",
      "Match found!\n",
      "Match found!\n",
      "Match found!\n",
      "Match found!\n",
      "Match found!\n",
      "Match found!\n",
      "Match found!\n",
      "Match found!\n",
      "Match found!\n"
     ]
    },
    {
     "name": "stderr",
     "output_type": "stream",
     "text": [
      "\r",
      " 79%|████████████████████████████████████████████████████████████████▎                | 89/112 [00:02<00:00, 37.76it/s]"
     ]
    },
    {
     "name": "stderr",
     "output_type": "stream",
     "text": [
      "\r",
      " 83%|███████████████████████████████████████████████████████████████████▎             | 93/112 [00:02<00:00, 35.21it/s]"
     ]
    },
    {
     "name": "stdout",
     "output_type": "stream",
     "text": [
      "Match found!\n",
      "Match found!\n",
      "Match found!\n",
      "Match found!\n",
      "Match found!\n",
      "Match found!\n",
      "Match found!\n"
     ]
    },
    {
     "name": "stderr",
     "output_type": "stream",
     "text": [
      "\r",
      " 88%|██████████████████████████████████████████████████████████████████████▉          | 98/112 [00:02<00:00, 37.27it/s]"
     ]
    },
    {
     "name": "stdout",
     "output_type": "stream",
     "text": [
      "Match found!\n",
      "Match found!\n",
      "Match found!\n",
      "Match found!\n",
      "Match found!\n",
      "Match found!\n",
      "Match found!\n",
      "Match found!\n",
      "Match found!\n",
      "Match found!\n"
     ]
    },
    {
     "name": "stderr",
     "output_type": "stream",
     "text": [
      "\r",
      " 92%|█████████████████████████████████████████████████████████████████████████▌      | 103/112 [00:02<00:00, 40.32it/s]"
     ]
    },
    {
     "name": "stderr",
     "output_type": "stream",
     "text": [
      "\r",
      " 96%|█████████████████████████████████████████████████████████████████████████████▏  | 108/112 [00:02<00:00, 37.63it/s]"
     ]
    },
    {
     "name": "stdout",
     "output_type": "stream",
     "text": [
      "Match found!\n",
      "Match found!\n",
      "Match found!\n",
      "Match found!\n",
      "Match found!\n",
      "Match found!\n",
      "Match found!\n"
     ]
    },
    {
     "name": "stderr",
     "output_type": "stream",
     "text": [
      "\r",
      "100%|████████████████████████████████████████████████████████████████████████████████| 112/112 [00:03<00:00, 35.13it/s]"
     ]
    },
    {
     "name": "stderr",
     "output_type": "stream",
     "text": [
      "\r",
      "100%|████████████████████████████████████████████████████████████████████████████████| 112/112 [00:03<00:00, 36.65it/s]"
     ]
    },
    {
     "name": "stdout",
     "output_type": "stream",
     "text": [
      "Match found!\n",
      "Match found!\n"
     ]
    },
    {
     "name": "stderr",
     "output_type": "stream",
     "text": [
      "\n"
     ]
    }
   ],
   "source": [
    "audio_folder = '../individual_call_analysis/hp_annotation_audio/'\n",
    "file_durations = []\n",
    "for file_name in tqdm.tqdm(multi_bat):        \n",
    "    file_path = cca.find_file_in_folder(file_name, audio_folder)\n",
    "    file_durations.append(sf.info(file_path[0]).duration)\n",
    "    "
   ]
  },
  {
   "cell_type": "code",
   "execution_count": 16,
   "metadata": {
    "execution": {
     "iopub.execute_input": "2020-12-17T14:16:14.428505Z",
     "iopub.status.busy": "2020-12-17T14:16:14.428505Z",
     "iopub.status.idle": "2020-12-17T14:16:14.523118Z",
     "shell.execute_reply": "2020-12-17T14:16:14.523118Z"
    }
   },
   "outputs": [
    {
     "data": {
      "application/javascript": [
       "/* Put everything inside the global mpl namespace */\n",
       "/* global mpl */\n",
       "window.mpl = {};\n",
       "\n",
       "mpl.get_websocket_type = function () {\n",
       "    if (typeof WebSocket !== 'undefined') {\n",
       "        return WebSocket;\n",
       "    } else if (typeof MozWebSocket !== 'undefined') {\n",
       "        return MozWebSocket;\n",
       "    } else {\n",
       "        alert(\n",
       "            'Your browser does not have WebSocket support. ' +\n",
       "                'Please try Chrome, Safari or Firefox ≥ 6. ' +\n",
       "                'Firefox 4 and 5 are also supported but you ' +\n",
       "                'have to enable WebSockets in about:config.'\n",
       "        );\n",
       "    }\n",
       "};\n",
       "\n",
       "mpl.figure = function (figure_id, websocket, ondownload, parent_element) {\n",
       "    this.id = figure_id;\n",
       "\n",
       "    this.ws = websocket;\n",
       "\n",
       "    this.supports_binary = this.ws.binaryType !== undefined;\n",
       "\n",
       "    if (!this.supports_binary) {\n",
       "        var warnings = document.getElementById('mpl-warnings');\n",
       "        if (warnings) {\n",
       "            warnings.style.display = 'block';\n",
       "            warnings.textContent =\n",
       "                'This browser does not support binary websocket messages. ' +\n",
       "                'Performance may be slow.';\n",
       "        }\n",
       "    }\n",
       "\n",
       "    this.imageObj = new Image();\n",
       "\n",
       "    this.context = undefined;\n",
       "    this.message = undefined;\n",
       "    this.canvas = undefined;\n",
       "    this.rubberband_canvas = undefined;\n",
       "    this.rubberband_context = undefined;\n",
       "    this.format_dropdown = undefined;\n",
       "\n",
       "    this.image_mode = 'full';\n",
       "\n",
       "    this.root = document.createElement('div');\n",
       "    this.root.setAttribute('style', 'display: inline-block');\n",
       "    this._root_extra_style(this.root);\n",
       "\n",
       "    parent_element.appendChild(this.root);\n",
       "\n",
       "    this._init_header(this);\n",
       "    this._init_canvas(this);\n",
       "    this._init_toolbar(this);\n",
       "\n",
       "    var fig = this;\n",
       "\n",
       "    this.waiting = false;\n",
       "\n",
       "    this.ws.onopen = function () {\n",
       "        fig.send_message('supports_binary', { value: fig.supports_binary });\n",
       "        fig.send_message('send_image_mode', {});\n",
       "        if (fig.ratio !== 1) {\n",
       "            fig.send_message('set_dpi_ratio', { dpi_ratio: fig.ratio });\n",
       "        }\n",
       "        fig.send_message('refresh', {});\n",
       "    };\n",
       "\n",
       "    this.imageObj.onload = function () {\n",
       "        if (fig.image_mode === 'full') {\n",
       "            // Full images could contain transparency (where diff images\n",
       "            // almost always do), so we need to clear the canvas so that\n",
       "            // there is no ghosting.\n",
       "            fig.context.clearRect(0, 0, fig.canvas.width, fig.canvas.height);\n",
       "        }\n",
       "        fig.context.drawImage(fig.imageObj, 0, 0);\n",
       "    };\n",
       "\n",
       "    this.imageObj.onunload = function () {\n",
       "        fig.ws.close();\n",
       "    };\n",
       "\n",
       "    this.ws.onmessage = this._make_on_message_function(this);\n",
       "\n",
       "    this.ondownload = ondownload;\n",
       "};\n",
       "\n",
       "mpl.figure.prototype._init_header = function () {\n",
       "    var titlebar = document.createElement('div');\n",
       "    titlebar.classList =\n",
       "        'ui-dialog-titlebar ui-widget-header ui-corner-all ui-helper-clearfix';\n",
       "    var titletext = document.createElement('div');\n",
       "    titletext.classList = 'ui-dialog-title';\n",
       "    titletext.setAttribute(\n",
       "        'style',\n",
       "        'width: 100%; text-align: center; padding: 3px;'\n",
       "    );\n",
       "    titlebar.appendChild(titletext);\n",
       "    this.root.appendChild(titlebar);\n",
       "    this.header = titletext;\n",
       "};\n",
       "\n",
       "mpl.figure.prototype._canvas_extra_style = function (_canvas_div) {};\n",
       "\n",
       "mpl.figure.prototype._root_extra_style = function (_canvas_div) {};\n",
       "\n",
       "mpl.figure.prototype._init_canvas = function () {\n",
       "    var fig = this;\n",
       "\n",
       "    var canvas_div = (this.canvas_div = document.createElement('div'));\n",
       "    canvas_div.setAttribute(\n",
       "        'style',\n",
       "        'border: 1px solid #ddd;' +\n",
       "            'box-sizing: content-box;' +\n",
       "            'clear: both;' +\n",
       "            'min-height: 1px;' +\n",
       "            'min-width: 1px;' +\n",
       "            'outline: 0;' +\n",
       "            'overflow: hidden;' +\n",
       "            'position: relative;' +\n",
       "            'resize: both;'\n",
       "    );\n",
       "\n",
       "    function on_keyboard_event_closure(name) {\n",
       "        return function (event) {\n",
       "            return fig.key_event(event, name);\n",
       "        };\n",
       "    }\n",
       "\n",
       "    canvas_div.addEventListener(\n",
       "        'keydown',\n",
       "        on_keyboard_event_closure('key_press')\n",
       "    );\n",
       "    canvas_div.addEventListener(\n",
       "        'keyup',\n",
       "        on_keyboard_event_closure('key_release')\n",
       "    );\n",
       "\n",
       "    this._canvas_extra_style(canvas_div);\n",
       "    this.root.appendChild(canvas_div);\n",
       "\n",
       "    var canvas = (this.canvas = document.createElement('canvas'));\n",
       "    canvas.classList.add('mpl-canvas');\n",
       "    canvas.setAttribute('style', 'box-sizing: content-box;');\n",
       "\n",
       "    this.context = canvas.getContext('2d');\n",
       "\n",
       "    var backingStore =\n",
       "        this.context.backingStorePixelRatio ||\n",
       "        this.context.webkitBackingStorePixelRatio ||\n",
       "        this.context.mozBackingStorePixelRatio ||\n",
       "        this.context.msBackingStorePixelRatio ||\n",
       "        this.context.oBackingStorePixelRatio ||\n",
       "        this.context.backingStorePixelRatio ||\n",
       "        1;\n",
       "\n",
       "    this.ratio = (window.devicePixelRatio || 1) / backingStore;\n",
       "    if (this.ratio !== 1) {\n",
       "        fig.send_message('set_dpi_ratio', { dpi_ratio: this.ratio });\n",
       "    }\n",
       "\n",
       "    var rubberband_canvas = (this.rubberband_canvas = document.createElement(\n",
       "        'canvas'\n",
       "    ));\n",
       "    rubberband_canvas.setAttribute(\n",
       "        'style',\n",
       "        'box-sizing: content-box; position: absolute; left: 0; top: 0; z-index: 1;'\n",
       "    );\n",
       "\n",
       "    // Apply a ponyfill if ResizeObserver is not implemented by browser.\n",
       "    if (this.ResizeObserver === undefined) {\n",
       "        if (window.ResizeObserver !== undefined) {\n",
       "            this.ResizeObserver = window.ResizeObserver;\n",
       "        } else {\n",
       "            var obs = _JSXTOOLS_RESIZE_OBSERVER({});\n",
       "            this.ResizeObserver = obs.ResizeObserver;\n",
       "        }\n",
       "    }\n",
       "\n",
       "    this.resizeObserverInstance = new this.ResizeObserver(function (entries) {\n",
       "        var nentries = entries.length;\n",
       "        for (var i = 0; i < nentries; i++) {\n",
       "            var entry = entries[i];\n",
       "            var width, height;\n",
       "            if (entry.contentBoxSize) {\n",
       "                if (entry.contentBoxSize instanceof Array) {\n",
       "                    // Chrome 84 implements new version of spec.\n",
       "                    width = entry.contentBoxSize[0].inlineSize;\n",
       "                    height = entry.contentBoxSize[0].blockSize;\n",
       "                } else {\n",
       "                    // Firefox implements old version of spec.\n",
       "                    width = entry.contentBoxSize.inlineSize;\n",
       "                    height = entry.contentBoxSize.blockSize;\n",
       "                }\n",
       "            } else {\n",
       "                // Chrome <84 implements even older version of spec.\n",
       "                width = entry.contentRect.width;\n",
       "                height = entry.contentRect.height;\n",
       "            }\n",
       "\n",
       "            // Keep the size of the canvas and rubber band canvas in sync with\n",
       "            // the canvas container.\n",
       "            if (entry.devicePixelContentBoxSize) {\n",
       "                // Chrome 84 implements new version of spec.\n",
       "                canvas.setAttribute(\n",
       "                    'width',\n",
       "                    entry.devicePixelContentBoxSize[0].inlineSize\n",
       "                );\n",
       "                canvas.setAttribute(\n",
       "                    'height',\n",
       "                    entry.devicePixelContentBoxSize[0].blockSize\n",
       "                );\n",
       "            } else {\n",
       "                canvas.setAttribute('width', width * fig.ratio);\n",
       "                canvas.setAttribute('height', height * fig.ratio);\n",
       "            }\n",
       "            canvas.setAttribute(\n",
       "                'style',\n",
       "                'width: ' + width + 'px; height: ' + height + 'px;'\n",
       "            );\n",
       "\n",
       "            rubberband_canvas.setAttribute('width', width);\n",
       "            rubberband_canvas.setAttribute('height', height);\n",
       "\n",
       "            // And update the size in Python. We ignore the initial 0/0 size\n",
       "            // that occurs as the element is placed into the DOM, which should\n",
       "            // otherwise not happen due to the minimum size styling.\n",
       "            if (width != 0 && height != 0) {\n",
       "                fig.request_resize(width, height);\n",
       "            }\n",
       "        }\n",
       "    });\n",
       "    this.resizeObserverInstance.observe(canvas_div);\n",
       "\n",
       "    function on_mouse_event_closure(name) {\n",
       "        return function (event) {\n",
       "            return fig.mouse_event(event, name);\n",
       "        };\n",
       "    }\n",
       "\n",
       "    rubberband_canvas.addEventListener(\n",
       "        'mousedown',\n",
       "        on_mouse_event_closure('button_press')\n",
       "    );\n",
       "    rubberband_canvas.addEventListener(\n",
       "        'mouseup',\n",
       "        on_mouse_event_closure('button_release')\n",
       "    );\n",
       "    // Throttle sequential mouse events to 1 every 20ms.\n",
       "    rubberband_canvas.addEventListener(\n",
       "        'mousemove',\n",
       "        on_mouse_event_closure('motion_notify')\n",
       "    );\n",
       "\n",
       "    rubberband_canvas.addEventListener(\n",
       "        'mouseenter',\n",
       "        on_mouse_event_closure('figure_enter')\n",
       "    );\n",
       "    rubberband_canvas.addEventListener(\n",
       "        'mouseleave',\n",
       "        on_mouse_event_closure('figure_leave')\n",
       "    );\n",
       "\n",
       "    canvas_div.addEventListener('wheel', function (event) {\n",
       "        if (event.deltaY < 0) {\n",
       "            event.step = 1;\n",
       "        } else {\n",
       "            event.step = -1;\n",
       "        }\n",
       "        on_mouse_event_closure('scroll')(event);\n",
       "    });\n",
       "\n",
       "    canvas_div.appendChild(canvas);\n",
       "    canvas_div.appendChild(rubberband_canvas);\n",
       "\n",
       "    this.rubberband_context = rubberband_canvas.getContext('2d');\n",
       "    this.rubberband_context.strokeStyle = '#000000';\n",
       "\n",
       "    this._resize_canvas = function (width, height, forward) {\n",
       "        if (forward) {\n",
       "            canvas_div.style.width = width + 'px';\n",
       "            canvas_div.style.height = height + 'px';\n",
       "        }\n",
       "    };\n",
       "\n",
       "    // Disable right mouse context menu.\n",
       "    this.rubberband_canvas.addEventListener('contextmenu', function (_e) {\n",
       "        event.preventDefault();\n",
       "        return false;\n",
       "    });\n",
       "\n",
       "    function set_focus() {\n",
       "        canvas.focus();\n",
       "        canvas_div.focus();\n",
       "    }\n",
       "\n",
       "    window.setTimeout(set_focus, 100);\n",
       "};\n",
       "\n",
       "mpl.figure.prototype._init_toolbar = function () {\n",
       "    var fig = this;\n",
       "\n",
       "    var toolbar = document.createElement('div');\n",
       "    toolbar.classList = 'mpl-toolbar';\n",
       "    this.root.appendChild(toolbar);\n",
       "\n",
       "    function on_click_closure(name) {\n",
       "        return function (_event) {\n",
       "            return fig.toolbar_button_onclick(name);\n",
       "        };\n",
       "    }\n",
       "\n",
       "    function on_mouseover_closure(tooltip) {\n",
       "        return function (event) {\n",
       "            if (!event.currentTarget.disabled) {\n",
       "                return fig.toolbar_button_onmouseover(tooltip);\n",
       "            }\n",
       "        };\n",
       "    }\n",
       "\n",
       "    fig.buttons = {};\n",
       "    var buttonGroup = document.createElement('div');\n",
       "    buttonGroup.classList = 'mpl-button-group';\n",
       "    for (var toolbar_ind in mpl.toolbar_items) {\n",
       "        var name = mpl.toolbar_items[toolbar_ind][0];\n",
       "        var tooltip = mpl.toolbar_items[toolbar_ind][1];\n",
       "        var image = mpl.toolbar_items[toolbar_ind][2];\n",
       "        var method_name = mpl.toolbar_items[toolbar_ind][3];\n",
       "\n",
       "        if (!name) {\n",
       "            /* Instead of a spacer, we start a new button group. */\n",
       "            if (buttonGroup.hasChildNodes()) {\n",
       "                toolbar.appendChild(buttonGroup);\n",
       "            }\n",
       "            buttonGroup = document.createElement('div');\n",
       "            buttonGroup.classList = 'mpl-button-group';\n",
       "            continue;\n",
       "        }\n",
       "\n",
       "        var button = (fig.buttons[name] = document.createElement('button'));\n",
       "        button.classList = 'mpl-widget';\n",
       "        button.setAttribute('role', 'button');\n",
       "        button.setAttribute('aria-disabled', 'false');\n",
       "        button.addEventListener('click', on_click_closure(method_name));\n",
       "        button.addEventListener('mouseover', on_mouseover_closure(tooltip));\n",
       "\n",
       "        var icon_img = document.createElement('img');\n",
       "        icon_img.src = '_images/' + image + '.png';\n",
       "        icon_img.srcset = '_images/' + image + '_large.png 2x';\n",
       "        icon_img.alt = tooltip;\n",
       "        button.appendChild(icon_img);\n",
       "\n",
       "        buttonGroup.appendChild(button);\n",
       "    }\n",
       "\n",
       "    if (buttonGroup.hasChildNodes()) {\n",
       "        toolbar.appendChild(buttonGroup);\n",
       "    }\n",
       "\n",
       "    var fmt_picker = document.createElement('select');\n",
       "    fmt_picker.classList = 'mpl-widget';\n",
       "    toolbar.appendChild(fmt_picker);\n",
       "    this.format_dropdown = fmt_picker;\n",
       "\n",
       "    for (var ind in mpl.extensions) {\n",
       "        var fmt = mpl.extensions[ind];\n",
       "        var option = document.createElement('option');\n",
       "        option.selected = fmt === mpl.default_extension;\n",
       "        option.innerHTML = fmt;\n",
       "        fmt_picker.appendChild(option);\n",
       "    }\n",
       "\n",
       "    var status_bar = document.createElement('span');\n",
       "    status_bar.classList = 'mpl-message';\n",
       "    toolbar.appendChild(status_bar);\n",
       "    this.message = status_bar;\n",
       "};\n",
       "\n",
       "mpl.figure.prototype.request_resize = function (x_pixels, y_pixels) {\n",
       "    // Request matplotlib to resize the figure. Matplotlib will then trigger a resize in the client,\n",
       "    // which will in turn request a refresh of the image.\n",
       "    this.send_message('resize', { width: x_pixels, height: y_pixels });\n",
       "};\n",
       "\n",
       "mpl.figure.prototype.send_message = function (type, properties) {\n",
       "    properties['type'] = type;\n",
       "    properties['figure_id'] = this.id;\n",
       "    this.ws.send(JSON.stringify(properties));\n",
       "};\n",
       "\n",
       "mpl.figure.prototype.send_draw_message = function () {\n",
       "    if (!this.waiting) {\n",
       "        this.waiting = true;\n",
       "        this.ws.send(JSON.stringify({ type: 'draw', figure_id: this.id }));\n",
       "    }\n",
       "};\n",
       "\n",
       "mpl.figure.prototype.handle_save = function (fig, _msg) {\n",
       "    var format_dropdown = fig.format_dropdown;\n",
       "    var format = format_dropdown.options[format_dropdown.selectedIndex].value;\n",
       "    fig.ondownload(fig, format);\n",
       "};\n",
       "\n",
       "mpl.figure.prototype.handle_resize = function (fig, msg) {\n",
       "    var size = msg['size'];\n",
       "    if (size[0] !== fig.canvas.width || size[1] !== fig.canvas.height) {\n",
       "        fig._resize_canvas(size[0], size[1], msg['forward']);\n",
       "        fig.send_message('refresh', {});\n",
       "    }\n",
       "};\n",
       "\n",
       "mpl.figure.prototype.handle_rubberband = function (fig, msg) {\n",
       "    var x0 = msg['x0'] / fig.ratio;\n",
       "    var y0 = (fig.canvas.height - msg['y0']) / fig.ratio;\n",
       "    var x1 = msg['x1'] / fig.ratio;\n",
       "    var y1 = (fig.canvas.height - msg['y1']) / fig.ratio;\n",
       "    x0 = Math.floor(x0) + 0.5;\n",
       "    y0 = Math.floor(y0) + 0.5;\n",
       "    x1 = Math.floor(x1) + 0.5;\n",
       "    y1 = Math.floor(y1) + 0.5;\n",
       "    var min_x = Math.min(x0, x1);\n",
       "    var min_y = Math.min(y0, y1);\n",
       "    var width = Math.abs(x1 - x0);\n",
       "    var height = Math.abs(y1 - y0);\n",
       "\n",
       "    fig.rubberband_context.clearRect(\n",
       "        0,\n",
       "        0,\n",
       "        fig.canvas.width / fig.ratio,\n",
       "        fig.canvas.height / fig.ratio\n",
       "    );\n",
       "\n",
       "    fig.rubberband_context.strokeRect(min_x, min_y, width, height);\n",
       "};\n",
       "\n",
       "mpl.figure.prototype.handle_figure_label = function (fig, msg) {\n",
       "    // Updates the figure title.\n",
       "    fig.header.textContent = msg['label'];\n",
       "};\n",
       "\n",
       "mpl.figure.prototype.handle_cursor = function (fig, msg) {\n",
       "    var cursor = msg['cursor'];\n",
       "    switch (cursor) {\n",
       "        case 0:\n",
       "            cursor = 'pointer';\n",
       "            break;\n",
       "        case 1:\n",
       "            cursor = 'default';\n",
       "            break;\n",
       "        case 2:\n",
       "            cursor = 'crosshair';\n",
       "            break;\n",
       "        case 3:\n",
       "            cursor = 'move';\n",
       "            break;\n",
       "    }\n",
       "    fig.rubberband_canvas.style.cursor = cursor;\n",
       "};\n",
       "\n",
       "mpl.figure.prototype.handle_message = function (fig, msg) {\n",
       "    fig.message.textContent = msg['message'];\n",
       "};\n",
       "\n",
       "mpl.figure.prototype.handle_draw = function (fig, _msg) {\n",
       "    // Request the server to send over a new figure.\n",
       "    fig.send_draw_message();\n",
       "};\n",
       "\n",
       "mpl.figure.prototype.handle_image_mode = function (fig, msg) {\n",
       "    fig.image_mode = msg['mode'];\n",
       "};\n",
       "\n",
       "mpl.figure.prototype.handle_history_buttons = function (fig, msg) {\n",
       "    for (var key in msg) {\n",
       "        if (!(key in fig.buttons)) {\n",
       "            continue;\n",
       "        }\n",
       "        fig.buttons[key].disabled = !msg[key];\n",
       "        fig.buttons[key].setAttribute('aria-disabled', !msg[key]);\n",
       "    }\n",
       "};\n",
       "\n",
       "mpl.figure.prototype.handle_navigate_mode = function (fig, msg) {\n",
       "    if (msg['mode'] === 'PAN') {\n",
       "        fig.buttons['Pan'].classList.add('active');\n",
       "        fig.buttons['Zoom'].classList.remove('active');\n",
       "    } else if (msg['mode'] === 'ZOOM') {\n",
       "        fig.buttons['Pan'].classList.remove('active');\n",
       "        fig.buttons['Zoom'].classList.add('active');\n",
       "    } else {\n",
       "        fig.buttons['Pan'].classList.remove('active');\n",
       "        fig.buttons['Zoom'].classList.remove('active');\n",
       "    }\n",
       "};\n",
       "\n",
       "mpl.figure.prototype.updated_canvas_event = function () {\n",
       "    // Called whenever the canvas gets updated.\n",
       "    this.send_message('ack', {});\n",
       "};\n",
       "\n",
       "// A function to construct a web socket function for onmessage handling.\n",
       "// Called in the figure constructor.\n",
       "mpl.figure.prototype._make_on_message_function = function (fig) {\n",
       "    return function socket_on_message(evt) {\n",
       "        if (evt.data instanceof Blob) {\n",
       "            /* FIXME: We get \"Resource interpreted as Image but\n",
       "             * transferred with MIME type text/plain:\" errors on\n",
       "             * Chrome.  But how to set the MIME type?  It doesn't seem\n",
       "             * to be part of the websocket stream */\n",
       "            evt.data.type = 'image/png';\n",
       "\n",
       "            /* Free the memory for the previous frames */\n",
       "            if (fig.imageObj.src) {\n",
       "                (window.URL || window.webkitURL).revokeObjectURL(\n",
       "                    fig.imageObj.src\n",
       "                );\n",
       "            }\n",
       "\n",
       "            fig.imageObj.src = (window.URL || window.webkitURL).createObjectURL(\n",
       "                evt.data\n",
       "            );\n",
       "            fig.updated_canvas_event();\n",
       "            fig.waiting = false;\n",
       "            return;\n",
       "        } else if (\n",
       "            typeof evt.data === 'string' &&\n",
       "            evt.data.slice(0, 21) === 'data:image/png;base64'\n",
       "        ) {\n",
       "            fig.imageObj.src = evt.data;\n",
       "            fig.updated_canvas_event();\n",
       "            fig.waiting = false;\n",
       "            return;\n",
       "        }\n",
       "\n",
       "        var msg = JSON.parse(evt.data);\n",
       "        var msg_type = msg['type'];\n",
       "\n",
       "        // Call the  \"handle_{type}\" callback, which takes\n",
       "        // the figure and JSON message as its only arguments.\n",
       "        try {\n",
       "            var callback = fig['handle_' + msg_type];\n",
       "        } catch (e) {\n",
       "            console.log(\n",
       "                \"No handler for the '\" + msg_type + \"' message type: \",\n",
       "                msg\n",
       "            );\n",
       "            return;\n",
       "        }\n",
       "\n",
       "        if (callback) {\n",
       "            try {\n",
       "                // console.log(\"Handling '\" + msg_type + \"' message: \", msg);\n",
       "                callback(fig, msg);\n",
       "            } catch (e) {\n",
       "                console.log(\n",
       "                    \"Exception inside the 'handler_\" + msg_type + \"' callback:\",\n",
       "                    e,\n",
       "                    e.stack,\n",
       "                    msg\n",
       "                );\n",
       "            }\n",
       "        }\n",
       "    };\n",
       "};\n",
       "\n",
       "// from http://stackoverflow.com/questions/1114465/getting-mouse-location-in-canvas\n",
       "mpl.findpos = function (e) {\n",
       "    //this section is from http://www.quirksmode.org/js/events_properties.html\n",
       "    var targ;\n",
       "    if (!e) {\n",
       "        e = window.event;\n",
       "    }\n",
       "    if (e.target) {\n",
       "        targ = e.target;\n",
       "    } else if (e.srcElement) {\n",
       "        targ = e.srcElement;\n",
       "    }\n",
       "    if (targ.nodeType === 3) {\n",
       "        // defeat Safari bug\n",
       "        targ = targ.parentNode;\n",
       "    }\n",
       "\n",
       "    // pageX,Y are the mouse positions relative to the document\n",
       "    var boundingRect = targ.getBoundingClientRect();\n",
       "    var x = e.pageX - (boundingRect.left + document.body.scrollLeft);\n",
       "    var y = e.pageY - (boundingRect.top + document.body.scrollTop);\n",
       "\n",
       "    return { x: x, y: y };\n",
       "};\n",
       "\n",
       "/*\n",
       " * return a copy of an object with only non-object keys\n",
       " * we need this to avoid circular references\n",
       " * http://stackoverflow.com/a/24161582/3208463\n",
       " */\n",
       "function simpleKeys(original) {\n",
       "    return Object.keys(original).reduce(function (obj, key) {\n",
       "        if (typeof original[key] !== 'object') {\n",
       "            obj[key] = original[key];\n",
       "        }\n",
       "        return obj;\n",
       "    }, {});\n",
       "}\n",
       "\n",
       "mpl.figure.prototype.mouse_event = function (event, name) {\n",
       "    var canvas_pos = mpl.findpos(event);\n",
       "\n",
       "    if (name === 'button_press') {\n",
       "        this.canvas.focus();\n",
       "        this.canvas_div.focus();\n",
       "    }\n",
       "\n",
       "    var x = canvas_pos.x * this.ratio;\n",
       "    var y = canvas_pos.y * this.ratio;\n",
       "\n",
       "    this.send_message(name, {\n",
       "        x: x,\n",
       "        y: y,\n",
       "        button: event.button,\n",
       "        step: event.step,\n",
       "        guiEvent: simpleKeys(event),\n",
       "    });\n",
       "\n",
       "    /* This prevents the web browser from automatically changing to\n",
       "     * the text insertion cursor when the button is pressed.  We want\n",
       "     * to control all of the cursor setting manually through the\n",
       "     * 'cursor' event from matplotlib */\n",
       "    event.preventDefault();\n",
       "    return false;\n",
       "};\n",
       "\n",
       "mpl.figure.prototype._key_event_extra = function (_event, _name) {\n",
       "    // Handle any extra behaviour associated with a key event\n",
       "};\n",
       "\n",
       "mpl.figure.prototype.key_event = function (event, name) {\n",
       "    // Prevent repeat events\n",
       "    if (name === 'key_press') {\n",
       "        if (event.which === this._key) {\n",
       "            return;\n",
       "        } else {\n",
       "            this._key = event.which;\n",
       "        }\n",
       "    }\n",
       "    if (name === 'key_release') {\n",
       "        this._key = null;\n",
       "    }\n",
       "\n",
       "    var value = '';\n",
       "    if (event.ctrlKey && event.which !== 17) {\n",
       "        value += 'ctrl+';\n",
       "    }\n",
       "    if (event.altKey && event.which !== 18) {\n",
       "        value += 'alt+';\n",
       "    }\n",
       "    if (event.shiftKey && event.which !== 16) {\n",
       "        value += 'shift+';\n",
       "    }\n",
       "\n",
       "    value += 'k';\n",
       "    value += event.which.toString();\n",
       "\n",
       "    this._key_event_extra(event, name);\n",
       "\n",
       "    this.send_message(name, { key: value, guiEvent: simpleKeys(event) });\n",
       "    return false;\n",
       "};\n",
       "\n",
       "mpl.figure.prototype.toolbar_button_onclick = function (name) {\n",
       "    if (name === 'download') {\n",
       "        this.handle_save(this, null);\n",
       "    } else {\n",
       "        this.send_message('toolbar_button', { name: name });\n",
       "    }\n",
       "};\n",
       "\n",
       "mpl.figure.prototype.toolbar_button_onmouseover = function (tooltip) {\n",
       "    this.message.textContent = tooltip;\n",
       "};\n",
       "\n",
       "///////////////// REMAINING CONTENT GENERATED BY embed_js.py /////////////////\n",
       "// prettier-ignore\n",
       "var _JSXTOOLS_RESIZE_OBSERVER=function(A){var t,i=new WeakMap,n=new WeakMap,a=new WeakMap,r=new WeakMap,o=new Set;function s(e){if(!(this instanceof s))throw new TypeError(\"Constructor requires 'new' operator\");i.set(this,e)}function h(){throw new TypeError(\"Function is not a constructor\")}function c(e,t,i,n){e=0 in arguments?Number(arguments[0]):0,t=1 in arguments?Number(arguments[1]):0,i=2 in arguments?Number(arguments[2]):0,n=3 in arguments?Number(arguments[3]):0,this.right=(this.x=this.left=e)+(this.width=i),this.bottom=(this.y=this.top=t)+(this.height=n),Object.freeze(this)}function d(){t=requestAnimationFrame(d);var s=new WeakMap,p=new Set;o.forEach((function(t){r.get(t).forEach((function(i){var r=t instanceof window.SVGElement,o=a.get(t),d=r?0:parseFloat(o.paddingTop),f=r?0:parseFloat(o.paddingRight),l=r?0:parseFloat(o.paddingBottom),u=r?0:parseFloat(o.paddingLeft),g=r?0:parseFloat(o.borderTopWidth),m=r?0:parseFloat(o.borderRightWidth),w=r?0:parseFloat(o.borderBottomWidth),b=u+f,F=d+l,v=(r?0:parseFloat(o.borderLeftWidth))+m,W=g+w,y=r?0:t.offsetHeight-W-t.clientHeight,E=r?0:t.offsetWidth-v-t.clientWidth,R=b+v,z=F+W,M=r?t.width:parseFloat(o.width)-R-E,O=r?t.height:parseFloat(o.height)-z-y;if(n.has(t)){var k=n.get(t);if(k[0]===M&&k[1]===O)return}n.set(t,[M,O]);var S=Object.create(h.prototype);S.target=t,S.contentRect=new c(u,d,M,O),s.has(i)||(s.set(i,[]),p.add(i)),s.get(i).push(S)}))})),p.forEach((function(e){i.get(e).call(e,s.get(e),e)}))}return s.prototype.observe=function(i){if(i instanceof window.Element){r.has(i)||(r.set(i,new Set),o.add(i),a.set(i,window.getComputedStyle(i)));var n=r.get(i);n.has(this)||n.add(this),cancelAnimationFrame(t),t=requestAnimationFrame(d)}},s.prototype.unobserve=function(i){if(i instanceof window.Element&&r.has(i)){var n=r.get(i);n.has(this)&&(n.delete(this),n.size||(r.delete(i),o.delete(i))),n.size||r.delete(i),o.size||cancelAnimationFrame(t)}},A.DOMRectReadOnly=c,A.ResizeObserver=s,A.ResizeObserverEntry=h,A}; // eslint-disable-line\n",
       "mpl.toolbar_items = [[\"Home\", \"Reset original view\", \"fa fa-home icon-home\", \"home\"], [\"Back\", \"Back to previous view\", \"fa fa-arrow-left icon-arrow-left\", \"back\"], [\"Forward\", \"Forward to next view\", \"fa fa-arrow-right icon-arrow-right\", \"forward\"], [\"\", \"\", \"\", \"\"], [\"Pan\", \"Left button pans, Right button zooms\\nx/y fixes axis, CTRL fixes aspect\", \"fa fa-arrows icon-move\", \"pan\"], [\"Zoom\", \"Zoom to rectangle\\nx/y fixes axis, CTRL fixes aspect\", \"fa fa-square-o icon-check-empty\", \"zoom\"], [\"\", \"\", \"\", \"\"], [\"Download\", \"Download plot\", \"fa fa-floppy-o icon-save\", \"download\"]];\n",
       "\n",
       "mpl.extensions = [\"eps\", \"jpeg\", \"pdf\", \"png\", \"ps\", \"raw\", \"svg\", \"tif\"];\n",
       "\n",
       "mpl.default_extension = \"png\";/* global mpl */\n",
       "\n",
       "var comm_websocket_adapter = function (comm) {\n",
       "    // Create a \"websocket\"-like object which calls the given IPython comm\n",
       "    // object with the appropriate methods. Currently this is a non binary\n",
       "    // socket, so there is still some room for performance tuning.\n",
       "    var ws = {};\n",
       "\n",
       "    ws.close = function () {\n",
       "        comm.close();\n",
       "    };\n",
       "    ws.send = function (m) {\n",
       "        //console.log('sending', m);\n",
       "        comm.send(m);\n",
       "    };\n",
       "    // Register the callback with on_msg.\n",
       "    comm.on_msg(function (msg) {\n",
       "        //console.log('receiving', msg['content']['data'], msg);\n",
       "        // Pass the mpl event to the overridden (by mpl) onmessage function.\n",
       "        ws.onmessage(msg['content']['data']);\n",
       "    });\n",
       "    return ws;\n",
       "};\n",
       "\n",
       "mpl.mpl_figure_comm = function (comm, msg) {\n",
       "    // This is the function which gets called when the mpl process\n",
       "    // starts-up an IPython Comm through the \"matplotlib\" channel.\n",
       "\n",
       "    var id = msg.content.data.id;\n",
       "    // Get hold of the div created by the display call when the Comm\n",
       "    // socket was opened in Python.\n",
       "    var element = document.getElementById(id);\n",
       "    var ws_proxy = comm_websocket_adapter(comm);\n",
       "\n",
       "    function ondownload(figure, _format) {\n",
       "        window.open(figure.canvas.toDataURL());\n",
       "    }\n",
       "\n",
       "    var fig = new mpl.figure(id, ws_proxy, ondownload, element);\n",
       "\n",
       "    // Call onopen now - mpl needs it, as it is assuming we've passed it a real\n",
       "    // web socket which is closed, not our websocket->open comm proxy.\n",
       "    ws_proxy.onopen();\n",
       "\n",
       "    fig.parent_element = element;\n",
       "    fig.cell_info = mpl.find_output_cell(\"<div id='\" + id + \"'></div>\");\n",
       "    if (!fig.cell_info) {\n",
       "        console.error('Failed to find cell for figure', id, fig);\n",
       "        return;\n",
       "    }\n",
       "    fig.cell_info[0].output_area.element.on(\n",
       "        'cleared',\n",
       "        { fig: fig },\n",
       "        fig._remove_fig_handler\n",
       "    );\n",
       "};\n",
       "\n",
       "mpl.figure.prototype.handle_close = function (fig, msg) {\n",
       "    var width = fig.canvas.width / fig.ratio;\n",
       "    fig.cell_info[0].output_area.element.off(\n",
       "        'cleared',\n",
       "        fig._remove_fig_handler\n",
       "    );\n",
       "    fig.resizeObserverInstance.unobserve(fig.canvas_div);\n",
       "\n",
       "    // Update the output cell to use the data from the current canvas.\n",
       "    fig.push_to_output();\n",
       "    var dataURL = fig.canvas.toDataURL();\n",
       "    // Re-enable the keyboard manager in IPython - without this line, in FF,\n",
       "    // the notebook keyboard shortcuts fail.\n",
       "    IPython.keyboard_manager.enable();\n",
       "    fig.parent_element.innerHTML =\n",
       "        '<img src=\"' + dataURL + '\" width=\"' + width + '\">';\n",
       "    fig.close_ws(fig, msg);\n",
       "};\n",
       "\n",
       "mpl.figure.prototype.close_ws = function (fig, msg) {\n",
       "    fig.send_message('closing', msg);\n",
       "    // fig.ws.close()\n",
       "};\n",
       "\n",
       "mpl.figure.prototype.push_to_output = function (_remove_interactive) {\n",
       "    // Turn the data on the canvas into data in the output cell.\n",
       "    var width = this.canvas.width / this.ratio;\n",
       "    var dataURL = this.canvas.toDataURL();\n",
       "    this.cell_info[1]['text/html'] =\n",
       "        '<img src=\"' + dataURL + '\" width=\"' + width + '\">';\n",
       "};\n",
       "\n",
       "mpl.figure.prototype.updated_canvas_event = function () {\n",
       "    // Tell IPython that the notebook contents must change.\n",
       "    IPython.notebook.set_dirty(true);\n",
       "    this.send_message('ack', {});\n",
       "    var fig = this;\n",
       "    // Wait a second, then push the new image to the DOM so\n",
       "    // that it is saved nicely (might be nice to debounce this).\n",
       "    setTimeout(function () {\n",
       "        fig.push_to_output();\n",
       "    }, 1000);\n",
       "};\n",
       "\n",
       "mpl.figure.prototype._init_toolbar = function () {\n",
       "    var fig = this;\n",
       "\n",
       "    var toolbar = document.createElement('div');\n",
       "    toolbar.classList = 'btn-toolbar';\n",
       "    this.root.appendChild(toolbar);\n",
       "\n",
       "    function on_click_closure(name) {\n",
       "        return function (_event) {\n",
       "            return fig.toolbar_button_onclick(name);\n",
       "        };\n",
       "    }\n",
       "\n",
       "    function on_mouseover_closure(tooltip) {\n",
       "        return function (event) {\n",
       "            if (!event.currentTarget.disabled) {\n",
       "                return fig.toolbar_button_onmouseover(tooltip);\n",
       "            }\n",
       "        };\n",
       "    }\n",
       "\n",
       "    fig.buttons = {};\n",
       "    var buttonGroup = document.createElement('div');\n",
       "    buttonGroup.classList = 'btn-group';\n",
       "    var button;\n",
       "    for (var toolbar_ind in mpl.toolbar_items) {\n",
       "        var name = mpl.toolbar_items[toolbar_ind][0];\n",
       "        var tooltip = mpl.toolbar_items[toolbar_ind][1];\n",
       "        var image = mpl.toolbar_items[toolbar_ind][2];\n",
       "        var method_name = mpl.toolbar_items[toolbar_ind][3];\n",
       "\n",
       "        if (!name) {\n",
       "            /* Instead of a spacer, we start a new button group. */\n",
       "            if (buttonGroup.hasChildNodes()) {\n",
       "                toolbar.appendChild(buttonGroup);\n",
       "            }\n",
       "            buttonGroup = document.createElement('div');\n",
       "            buttonGroup.classList = 'btn-group';\n",
       "            continue;\n",
       "        }\n",
       "\n",
       "        button = fig.buttons[name] = document.createElement('button');\n",
       "        button.classList = 'btn btn-default';\n",
       "        button.href = '#';\n",
       "        button.title = name;\n",
       "        button.innerHTML = '<i class=\"fa ' + image + ' fa-lg\"></i>';\n",
       "        button.addEventListener('click', on_click_closure(method_name));\n",
       "        button.addEventListener('mouseover', on_mouseover_closure(tooltip));\n",
       "        buttonGroup.appendChild(button);\n",
       "    }\n",
       "\n",
       "    if (buttonGroup.hasChildNodes()) {\n",
       "        toolbar.appendChild(buttonGroup);\n",
       "    }\n",
       "\n",
       "    // Add the status bar.\n",
       "    var status_bar = document.createElement('span');\n",
       "    status_bar.classList = 'mpl-message pull-right';\n",
       "    toolbar.appendChild(status_bar);\n",
       "    this.message = status_bar;\n",
       "\n",
       "    // Add the close button to the window.\n",
       "    var buttongrp = document.createElement('div');\n",
       "    buttongrp.classList = 'btn-group inline pull-right';\n",
       "    button = document.createElement('button');\n",
       "    button.classList = 'btn btn-mini btn-primary';\n",
       "    button.href = '#';\n",
       "    button.title = 'Stop Interaction';\n",
       "    button.innerHTML = '<i class=\"fa fa-power-off icon-remove icon-large\"></i>';\n",
       "    button.addEventListener('click', function (_evt) {\n",
       "        fig.handle_close(fig, {});\n",
       "    });\n",
       "    button.addEventListener(\n",
       "        'mouseover',\n",
       "        on_mouseover_closure('Stop Interaction')\n",
       "    );\n",
       "    buttongrp.appendChild(button);\n",
       "    var titlebar = this.root.querySelector('.ui-dialog-titlebar');\n",
       "    titlebar.insertBefore(buttongrp, titlebar.firstChild);\n",
       "};\n",
       "\n",
       "mpl.figure.prototype._remove_fig_handler = function (event) {\n",
       "    var fig = event.data.fig;\n",
       "    if (event.target !== this) {\n",
       "        // Ignore bubbled events from children.\n",
       "        return;\n",
       "    }\n",
       "    fig.close_ws(fig, {});\n",
       "};\n",
       "\n",
       "mpl.figure.prototype._root_extra_style = function (el) {\n",
       "    el.style.boxSizing = 'content-box'; // override notebook setting of border-box.\n",
       "};\n",
       "\n",
       "mpl.figure.prototype._canvas_extra_style = function (el) {\n",
       "    // this is important to make the div 'focusable\n",
       "    el.setAttribute('tabindex', 0);\n",
       "    // reach out to IPython and tell the keyboard manager to turn it's self\n",
       "    // off when our div gets focus\n",
       "\n",
       "    // location in version 3\n",
       "    if (IPython.notebook.keyboard_manager) {\n",
       "        IPython.notebook.keyboard_manager.register_events(el);\n",
       "    } else {\n",
       "        // location in version 2\n",
       "        IPython.keyboard_manager.register_events(el);\n",
       "    }\n",
       "};\n",
       "\n",
       "mpl.figure.prototype._key_event_extra = function (event, _name) {\n",
       "    var manager = IPython.notebook.keyboard_manager;\n",
       "    if (!manager) {\n",
       "        manager = IPython.keyboard_manager;\n",
       "    }\n",
       "\n",
       "    // Check for shift+enter\n",
       "    if (event.shiftKey && event.which === 13) {\n",
       "        this.canvas_div.blur();\n",
       "        // select the cell after this one\n",
       "        var index = IPython.notebook.find_cell_index(this.cell_info[0]);\n",
       "        IPython.notebook.select(index + 1);\n",
       "    }\n",
       "};\n",
       "\n",
       "mpl.figure.prototype.handle_save = function (fig, _msg) {\n",
       "    fig.ondownload(fig, null);\n",
       "};\n",
       "\n",
       "mpl.find_output_cell = function (html_output) {\n",
       "    // Return the cell and output element which can be found *uniquely* in the notebook.\n",
       "    // Note - this is a bit hacky, but it is done because the \"notebook_saving.Notebook\"\n",
       "    // IPython event is triggered only after the cells have been serialised, which for\n",
       "    // our purposes (turning an active figure into a static one), is too late.\n",
       "    var cells = IPython.notebook.get_cells();\n",
       "    var ncells = cells.length;\n",
       "    for (var i = 0; i < ncells; i++) {\n",
       "        var cell = cells[i];\n",
       "        if (cell.cell_type === 'code') {\n",
       "            for (var j = 0; j < cell.output_area.outputs.length; j++) {\n",
       "                var data = cell.output_area.outputs[j];\n",
       "                if (data.data) {\n",
       "                    // IPython >= 3 moved mimebundle to data attribute of output\n",
       "                    data = data.data;\n",
       "                }\n",
       "                if (data['text/html'] === html_output) {\n",
       "                    return [cell, data, j];\n",
       "                }\n",
       "            }\n",
       "        }\n",
       "    }\n",
       "};\n",
       "\n",
       "// Register the function which deals with the matplotlib target/channel.\n",
       "// The kernel may be null if the page has been refreshed.\n",
       "if (IPython.notebook.kernel !== null) {\n",
       "    IPython.notebook.kernel.comm_manager.register_target(\n",
       "        'matplotlib',\n",
       "        mpl.mpl_figure_comm\n",
       "    );\n",
       "}\n"
      ],
      "text/plain": [
       "<IPython.core.display.Javascript object>"
      ]
     },
     "metadata": {},
     "output_type": "display_data"
    },
    {
     "data": {
      "text/html": [
       "<div id='96d77204-6f09-4d82-93db-1fecd10cd858'></div>"
      ],
      "text/plain": [
       "<IPython.core.display.HTML object>"
      ]
     },
     "metadata": {},
     "output_type": "display_data"
    },
    {
     "data": {
      "text/plain": [
       "Text(1.15, [0.22], 'minimum: 0.12')"
      ]
     },
     "execution_count": 1,
     "metadata": {},
     "output_type": "execute_result"
    }
   ],
   "source": [
    "plt.figure()\n",
    "plt.boxplot(file_durations);\n",
    "plt.ylabel('Multi bat audio duration, s', fontsize=12)\n",
    "plt.hlines(np.percentile(file_durations, [0,100]), 0.75, 1.25)\n",
    "plt.text( 1.15, np.percentile(file_durations, [50]),f'median: {np.percentile(file_durations, 50)}',)\n",
    "plt.text( 1.15, np.percentile(file_durations, [99.5])+0.1,f'max: {np.percentile(file_durations, 100)}',)\n",
    "plt.text( 1.15, np.percentile(file_durations, [0])+0.1,f'minimum: {np.percentile(file_durations, 0)}',)"
   ]
  },
  {
   "cell_type": "markdown",
   "metadata": {},
   "source": [
    "There is some more thought to be put into how to make virtual multi bat audio files. There may be situations, especially when adding a long-ish file with a short-ish file, where the addition of the two files doesn't really change anything because the calls in one file and the other don't overlap as the active call regions don't overlap. To prevent such cases, it is important to create virtual files that are *matched* with each other in duration, and more importantly, matched with an observed multi bat file in duration. The following set of steps will be followed while creating a virtual multi bat file:\n",
    "\n",
    "1. Choose one multi bat audio file and get its duration, $multibat_{duration}$\n",
    "1. Generate a time-interval separated list of audio files\n",
    "1. Search for all single bat audio files with a duration that is 90-110% of $multibat_{duration}$ \n",
    "1. Choose $N$ files from this pool of audio files (where $N$ is either 2 (pair) or 3(triplet))\n",
    "\n",
    "    1. Check to see if the chosen files have already been used to make a virtual multi bat file (see Step 4)\n",
    "    \n",
    "    1. If they have go to step 3 and choose again\n",
    "    \n",
    "    1. If after 100,000 tries the same files are coming up, then skip finding a matching audio file for this particular multi bat file.\n",
    "\n",
    "1. Store the names of the single bat audio files used to make virtual multi bat files. \n",
    "\n",
    "1. Add the waveforms of the chosen $N$ files to create a virtual audio file. \n"
   ]
  },
  {
   "cell_type": "code",
   "execution_count": 17,
   "metadata": {
    "execution": {
     "iopub.execute_input": "2020-12-17T14:16:14.533160Z",
     "iopub.status.busy": "2020-12-17T14:16:14.533160Z",
     "iopub.status.idle": "2020-12-17T14:16:14.543223Z",
     "shell.execute_reply": "2020-12-17T14:16:14.543223Z"
    }
   },
   "outputs": [],
   "source": [
    "def make_virtual_multi_bat_audio(multi_bat_data, single_bat_files, max_tries = 100*10**3,\n",
    "                                **kwargs):\n",
    "    '''\n",
    "    Makes multiple virtual audio files by adding duration matched audio files together based on \n",
    "    the number of bats that an observed audio file had. \n",
    "    \n",
    "    All resulting virtual audio files are made of  unique file mixtures, ie. if there's a \n",
    "    virtual audio file made with A+B+C, then A,B,C is not used for any other virtual audio files\n",
    "    in the coming iterations. There may be files with just AB or AC in the virtual audio file \n",
    "    mixtures. \n",
    "        \n",
    "    Parameters\n",
    "    ----------\n",
    "    multi_bat_data: pd.DataFrame\n",
    "        DataFrame with names of the multi bat audio files,\n",
    "        the number of bats that the corresponding annotation \n",
    "        had, and the duration of the audio file. The compulsory\n",
    "        columns are: 'file_name', 'num_bats', 'duration'\n",
    "    single_bat_data:\n",
    "        The names of files with single bat audio in them. The \n",
    "        compulsory columns are: 'file_name', 'duration', 'posix_start_time' and 'posix_end_time'\n",
    "    time_interval : float>0\n",
    "        The minimum time interval between single bat audio files in seconds. \n",
    "    max_tries : int, optional\n",
    "        The maximum number of random samplings to try before giving up and moving onto the \n",
    "        next multi bat audio file. In the ideal case each virtual multi bat audio needs\n",
    "        to be from a unique single bat audio file within the acceptable duration range, \n",
    "        *And* that hasn't been chosen before. Defaults to 100,000 trials.\n",
    "    duration_width : 0<float <1, optional \n",
    "        When files are chosen that are of similar length to a multi bat file, they need to be within \n",
    "        1 +/- duration_width of the multi bat file's duration. \n",
    "\n",
    "    Returns\n",
    "    -------\n",
    "    matched_files: dictionary\n",
    "        Keys contain the multi bat audio file name and the items contain \n",
    "        the duration matched single bat audio files in a list. \n",
    "    '''\n",
    "    already_chosen = []\n",
    "    duration_width = kwargs.get('duration_width', 0.1)\n",
    "    time_interval = kwargs['time_interval']\n",
    "    matched_files = {}\n",
    "    \n",
    "    all_singlebat_times = np.column_stack((single_bat_files['posix_start_time'],\n",
    "                                           single_bat_files['posix_end_time']))\n",
    "    \n",
    "    for i, row in multi_bat_data.iterrows():\n",
    "        filename, numbats, multibat_duration, _, _ = row\n",
    "        \n",
    "        interval_sep_inds = annots_by_time.generate_time_separated_folds(all_singlebat_times, \n",
    "                                                         time_interval,num_runs=1)\n",
    "        interval_separated_single_bat_files = single_bat_files.loc[interval_sep_inds[0],:].reset_index(drop=True)\n",
    "        valid_rows = np.logical_and(interval_separated_single_bat_files['duration']<(1+duration_width)*multibat_duration,\n",
    "                                   interval_separated_single_bat_files['duration']>=(1-duration_width)*multibat_duration)\n",
    "        valid_data = interval_separated_single_bat_files[valid_rows]\n",
    "        \n",
    "        if valid_data.shape[0] == 0:\n",
    "            continue\n",
    "        #print(valid_data)\n",
    "        unique_files_not_found = True\n",
    "        tries = 0\n",
    "        while np.logical_and(unique_files_not_found, tries<max_tries):\n",
    "            try:\n",
    "                chosen_files = random.sample(valid_data['file_name'].to_list(), k=numbats)\n",
    "            except:\n",
    "                print('Error:',valid_data['file_name'],numbats)\n",
    "            chosen_file_set = frozenset(chosen_files)\n",
    "            overlap = len(chosen_file_set.intersection(frozenset(already_chosen)))\n",
    "            if overlap <1:\n",
    "                unique_files_not_found = False\n",
    "                matched_files[filename] = chosen_files\n",
    "                already_chosen.append(chosen_file_set)\n",
    "                tries = 0\n",
    "            else:\n",
    "                tries += 1\n",
    "            if tries>=max_tries:\n",
    "                print(f'Unable to find correct matches for {filename}')\n",
    "    \n",
    "    return matched_files"
   ]
  },
  {
   "cell_type": "code",
   "execution_count": 18,
   "metadata": {
    "execution": {
     "iopub.execute_input": "2020-12-17T14:16:14.543223Z",
     "iopub.status.busy": "2020-12-17T14:16:14.543223Z",
     "iopub.status.idle": "2020-12-17T14:16:14.563297Z",
     "shell.execute_reply": "2020-12-17T14:16:14.563297Z"
    }
   },
   "outputs": [],
   "source": [
    "q = frozenset(['a','b'])\n",
    "r = frozenset(['a','c'])"
   ]
  },
  {
   "cell_type": "code",
   "execution_count": 19,
   "metadata": {
    "execution": {
     "iopub.execute_input": "2020-12-17T14:16:14.563297Z",
     "iopub.status.busy": "2020-12-17T14:16:14.563297Z",
     "iopub.status.idle": "2020-12-17T14:16:14.583381Z",
     "shell.execute_reply": "2020-12-17T14:16:14.583381Z"
    }
   },
   "outputs": [
    {
     "data": {
      "text/plain": [
       "frozenset({'a'})"
      ]
     },
     "execution_count": 1,
     "metadata": {},
     "output_type": "execute_result"
    }
   ],
   "source": [
    "q.intersection(r)"
   ]
  },
  {
   "cell_type": "code",
   "execution_count": 20,
   "metadata": {
    "execution": {
     "iopub.execute_input": "2020-12-17T14:16:14.583381Z",
     "iopub.status.busy": "2020-12-17T14:16:14.583381Z",
     "iopub.status.idle": "2020-12-17T14:16:14.603484Z",
     "shell.execute_reply": "2020-12-17T14:16:14.601468Z"
    }
   },
   "outputs": [],
   "source": [
    "from random import sample"
   ]
  },
  {
   "cell_type": "code",
   "execution_count": 21,
   "metadata": {
    "execution": {
     "iopub.execute_input": "2020-12-17T14:16:14.603484Z",
     "iopub.status.busy": "2020-12-17T14:16:14.603484Z",
     "iopub.status.idle": "2020-12-17T14:16:14.623608Z",
     "shell.execute_reply": "2020-12-17T14:16:14.623608Z"
    }
   },
   "outputs": [],
   "source": [
    "audio_folder = '../individual_call_analysis/hp_annotation_audio/'\n",
    "\n",
    "def make_fileinfo_dataframe(df, audio_folder):\n",
    "    '''\n",
    "    DataFrame with at least the following columns: 'file_name', 'num_bats',\n",
    "    'posix_end_time'\n",
    "    \n",
    "    '''\n",
    "\n",
    "    file_durations = []\n",
    "    num_bats = []\n",
    "    all_file_names = []\n",
    "    posix_end_time = []\n",
    "    posix_start_time = []\n",
    "    for file_name in tqdm.tqdm(np.unique(df['file_name'])):        \n",
    "\n",
    "        file_path = cca.find_file_in_folder(file_name, audio_folder)\n",
    "        file_durations.append(sf.info(file_path[0]).duration)\n",
    "\n",
    "        one_annot = df[df['file_name']==file_name]\n",
    "        num_bats.append(int(np.unique(one_annot['num_bats'])))\n",
    "        ind = one_annot.index[0]\n",
    "        posix_end_time.append(one_annot.loc[ind,'posix_end_time'])\n",
    "        posix_start_time.append(one_annot.loc[ind,'posix_start_time'])\n",
    "        all_file_names.append(file_name)\n",
    "\n",
    "    df_fileinfo = pd.DataFrame(data={'file_name':all_file_names,\n",
    "                                           'num_bats':num_bats,\n",
    "                                           'duration':file_durations,\n",
    "                                    'posix_end_time':posix_end_time,\n",
    "                                    'posix_start_time':posix_start_time})\n",
    "    return df_fileinfo"
   ]
  },
  {
   "cell_type": "code",
   "execution_count": 22,
   "metadata": {
    "execution": {
     "iopub.execute_input": "2020-12-17T14:16:14.623608Z",
     "iopub.status.busy": "2020-12-17T14:16:14.623608Z",
     "iopub.status.idle": "2020-12-17T14:16:14.641632Z",
     "shell.execute_reply": "2020-12-17T14:16:14.641632Z"
    }
   },
   "outputs": [],
   "source": [
    "for each in [multibats, singles]:\n",
    "    each['file_name'] = each.apply(lambda X: X['valid_annotations']+'_hp.WAV',1)"
   ]
  },
  {
   "cell_type": "code",
   "execution_count": 23,
   "metadata": {
    "execution": {
     "iopub.execute_input": "2020-12-17T14:16:14.641632Z",
     "iopub.status.busy": "2020-12-17T14:16:14.641632Z",
     "iopub.status.idle": "2020-12-17T14:16:20.951252Z",
     "shell.execute_reply": "2020-12-17T14:16:20.951252Z"
    },
    "scrolled": true
   },
   "outputs": [
    {
     "name": "stderr",
     "output_type": "stream",
     "text": [
      "\r",
      "  0%|                                                                                          | 0/112 [00:00<?, ?it/s]"
     ]
    },
    {
     "name": "stderr",
     "output_type": "stream",
     "text": [
      "\r",
      "  6%|█████▏                                                                            | 7/112 [00:00<00:01, 69.81it/s]"
     ]
    },
    {
     "name": "stdout",
     "output_type": "stream",
     "text": [
      "Match found!\n",
      "Match found!\n",
      "Match found!\n",
      "Match found!\n",
      "Match found!\n",
      "Match found!\n",
      "Match found!\n",
      "Match found!\n",
      "Match found!\n",
      "Match found!\n",
      "Match found!\n",
      "Match found!\n",
      "Match found!\n",
      "Match found!\n"
     ]
    },
    {
     "name": "stderr",
     "output_type": "stream",
     "text": [
      "\r",
      " 12%|██████████▏                                                                      | 14/112 [00:00<00:01, 69.81it/s]"
     ]
    },
    {
     "name": "stderr",
     "output_type": "stream",
     "text": [
      "\r",
      " 19%|███████████████▏                                                                 | 21/112 [00:00<00:01, 69.82it/s]"
     ]
    },
    {
     "name": "stdout",
     "output_type": "stream",
     "text": [
      "Match found!\n",
      "Match found!\n",
      "Match found!\n",
      "Match found!\n",
      "Match found!\n",
      "Match found!\n",
      "Match found!\n",
      "Match found!\n",
      "Match found!\n",
      "Match found!\n",
      "Match found!\n",
      "Match found!\n",
      "Match found!\n"
     ]
    },
    {
     "name": "stderr",
     "output_type": "stream",
     "text": [
      "\r",
      " 25%|████████████████████▎                                                            | 28/112 [00:00<00:01, 69.82it/s]"
     ]
    },
    {
     "name": "stderr",
     "output_type": "stream",
     "text": [
      "\r",
      " 31%|█████████████████████████▎                                                       | 35/112 [00:00<00:01, 69.82it/s]"
     ]
    },
    {
     "name": "stdout",
     "output_type": "stream",
     "text": [
      "Match found!\n",
      "Match found!\n",
      "Match found!\n",
      "Match found!\n",
      "Match found!\n",
      "Match found!\n",
      "Match found!\n",
      "Match found!\n",
      "Match found!\n",
      "Match found!\n",
      "Match found!\n",
      "Match found!\n",
      "Match found!\n"
     ]
    },
    {
     "name": "stderr",
     "output_type": "stream",
     "text": [
      "\r",
      " 37%|█████████████████████████████▋                                                   | 41/112 [00:00<00:01, 66.49it/s]"
     ]
    },
    {
     "name": "stderr",
     "output_type": "stream",
     "text": [
      "\r",
      " 42%|█████████████████████████████████▉                                               | 47/112 [00:00<00:01, 64.35it/s]"
     ]
    },
    {
     "name": "stdout",
     "output_type": "stream",
     "text": [
      "Match found!\n",
      "Match found!\n",
      "Match found!\n",
      "Match found!\n",
      "Match found!\n",
      "Match found!\n",
      "Match found!\n",
      "Match found!\n",
      "Match found!\n",
      "Match found!\n",
      "Match found!\n",
      "Match found!\n",
      "Match found!\n"
     ]
    },
    {
     "name": "stderr",
     "output_type": "stream",
     "text": [
      "\r",
      " 47%|██████████████████████████████████████▎                                          | 53/112 [00:00<00:00, 62.93it/s]"
     ]
    },
    {
     "name": "stderr",
     "output_type": "stream",
     "text": [
      "\r",
      " 54%|███████████████████████████████████████████▍                                     | 60/112 [00:00<00:00, 62.21it/s]"
     ]
    },
    {
     "name": "stdout",
     "output_type": "stream",
     "text": [
      "Match found!\n",
      "Match found!\n",
      "Match found!\n",
      "Match found!\n",
      "Match found!\n",
      "Match found!\n",
      "Match found!\n",
      "Match found!\n",
      "Match found!\n",
      "Match found!\n",
      "Match found!\n",
      "Match found!\n",
      "Match found!\n"
     ]
    },
    {
     "name": "stderr",
     "output_type": "stream",
     "text": [
      "\r",
      " 60%|████████████████████████████████████████████████▍                                | 67/112 [00:01<00:00, 61.66it/s]"
     ]
    },
    {
     "name": "stderr",
     "output_type": "stream",
     "text": [
      "\r",
      " 65%|████████████████████████████████████████████████████▊                            | 73/112 [00:01<00:00, 61.10it/s]"
     ]
    },
    {
     "name": "stdout",
     "output_type": "stream",
     "text": [
      "Match found!\n",
      "Match found!\n",
      "Match found!\n",
      "Match found!\n",
      "Match found!\n",
      "Match found!\n",
      "Match found!\n",
      "Match found!\n",
      "Match found!\n",
      "Match found!\n",
      "Match found!\n",
      "Match found!\n",
      "Match found!\n",
      "Match found!\n"
     ]
    },
    {
     "name": "stderr",
     "output_type": "stream",
     "text": [
      "\r",
      " 71%|█████████████████████████████████████████████████████████▊                       | 80/112 [00:01<00:00, 63.48it/s]"
     ]
    },
    {
     "name": "stderr",
     "output_type": "stream",
     "text": [
      "\r",
      " 78%|██████████████████████████████████████████████████████████████▉                  | 87/112 [00:01<00:00, 65.26it/s]"
     ]
    },
    {
     "name": "stdout",
     "output_type": "stream",
     "text": [
      "Match found!\n",
      "Match found!\n",
      "Match found!\n",
      "Match found!\n",
      "Match found!\n",
      "Match found!\n",
      "Match found!\n",
      "Match found!\n",
      "Match found!\n",
      "Match found!\n",
      "Match found!\n",
      "Match found!\n",
      "Match found!\n",
      "Match found!\n"
     ]
    },
    {
     "name": "stderr",
     "output_type": "stream",
     "text": [
      "\r",
      " 84%|███████████████████████████████████████████████████████████████████▉             | 94/112 [00:01<00:00, 66.55it/s]"
     ]
    },
    {
     "name": "stderr",
     "output_type": "stream",
     "text": [
      "\r",
      " 90%|████████████████████████████████████████████████████████████████████████▏       | 101/112 [00:01<00:00, 64.59it/s]"
     ]
    },
    {
     "name": "stdout",
     "output_type": "stream",
     "text": [
      "Match found!\n",
      "Match found!\n",
      "Match found!\n",
      "Match found!\n",
      "Match found!\n",
      "Match found!\n",
      "Match found!\n",
      "Match found!\n",
      "Match found!\n",
      "Match found!\n",
      "Match found!\n",
      "Match found!\n"
     ]
    },
    {
     "name": "stderr",
     "output_type": "stream",
     "text": [
      "\r",
      " 96%|█████████████████████████████████████████████████████████████████████████████▏  | 108/112 [00:01<00:00, 60.70it/s]"
     ]
    },
    {
     "name": "stderr",
     "output_type": "stream",
     "text": [
      "\r",
      "100%|████████████████████████████████████████████████████████████████████████████████| 112/112 [00:01<00:00, 64.54it/s]"
     ]
    },
    {
     "name": "stderr",
     "output_type": "stream",
     "text": [
      "\n",
      "\r",
      "  0%|                                                                                          | 0/302 [00:00<?, ?it/s]"
     ]
    },
    {
     "name": "stdout",
     "output_type": "stream",
     "text": [
      "Match found!\n",
      "Match found!\n",
      "Match found!\n",
      "Match found!\n",
      "Match found!\n",
      "Match found!\n",
      "Match found!\n",
      "Match found!\n",
      "Match found!\n",
      "Match found!\n",
      "Match found!\n",
      "Match found!\n"
     ]
    },
    {
     "name": "stderr",
     "output_type": "stream",
     "text": [
      "\r",
      "  2%|█▉                                                                                | 7/302 [00:00<00:04, 60.41it/s]"
     ]
    },
    {
     "name": "stderr",
     "output_type": "stream",
     "text": [
      "\r",
      "  5%|███▊                                                                             | 14/302 [00:00<00:04, 62.95it/s]"
     ]
    },
    {
     "name": "stdout",
     "output_type": "stream",
     "text": [
      "Match found!\n",
      "Match found!\n",
      "Match found!\n",
      "Match found!\n",
      "Match found!\n",
      "Match found!\n",
      "Match found!\n",
      "Match found!\n",
      "Match found!\n",
      "Match found!\n",
      "Match found!\n",
      "Match found!\n",
      "Match found!\n"
     ]
    },
    {
     "name": "stderr",
     "output_type": "stream",
     "text": [
      "\r",
      "  7%|█████▋                                                                           | 21/302 [00:00<00:04, 64.86it/s]"
     ]
    },
    {
     "name": "stderr",
     "output_type": "stream",
     "text": [
      "\r",
      "  9%|███████▌                                                                         | 28/302 [00:00<00:04, 66.28it/s]"
     ]
    },
    {
     "name": "stdout",
     "output_type": "stream",
     "text": [
      "Match found!\n",
      "Match found!\n",
      "Match found!\n",
      "Match found!\n",
      "Match found!\n",
      "Match found!\n",
      "Match found!\n",
      "Match found!\n",
      "Match found!\n",
      "Match found!\n",
      "Match found!\n",
      "Match found!\n",
      "Match found!\n",
      "Match found!\n"
     ]
    },
    {
     "name": "stderr",
     "output_type": "stream",
     "text": [
      "\r",
      " 12%|█████████▍                                                                       | 35/302 [00:00<00:03, 67.30it/s]"
     ]
    },
    {
     "name": "stderr",
     "output_type": "stream",
     "text": [
      "\r",
      " 14%|███████████▎                                                                     | 42/302 [00:00<00:03, 68.03it/s]"
     ]
    },
    {
     "name": "stdout",
     "output_type": "stream",
     "text": [
      "Match found!\n",
      "Match found!\n",
      "Match found!\n",
      "Match found!\n",
      "Match found!\n",
      "Match found!\n",
      "Match found!\n",
      "Match found!\n",
      "Match found!\n",
      "Match found!\n",
      "Match found!\n",
      "Match found!\n",
      "Match found!\n",
      "Match found!\n",
      "Match found!\n"
     ]
    },
    {
     "name": "stderr",
     "output_type": "stream",
     "text": [
      "\r",
      " 16%|█████████████▏                                                                   | 49/302 [00:00<00:03, 68.56it/s]"
     ]
    },
    {
     "name": "stderr",
     "output_type": "stream",
     "text": [
      "\r",
      " 19%|███████████████                                                                  | 56/302 [00:00<00:03, 65.89it/s]"
     ]
    },
    {
     "name": "stdout",
     "output_type": "stream",
     "text": [
      "Match found!\n",
      "Match found!\n",
      "Match found!\n",
      "Match found!\n",
      "Match found!\n",
      "Match found!\n",
      "Match found!\n",
      "Match found!\n",
      "Match found!\n",
      "Match found!\n",
      "Match found!\n",
      "Match found!\n"
     ]
    },
    {
     "name": "stderr",
     "output_type": "stream",
     "text": [
      "\r",
      " 21%|████████████████▉                                                                | 63/302 [00:00<00:03, 64.14it/s]"
     ]
    },
    {
     "name": "stderr",
     "output_type": "stream",
     "text": [
      "\r",
      " 23%|██████████████████▊                                                              | 70/302 [00:01<00:03, 65.75it/s]"
     ]
    },
    {
     "name": "stdout",
     "output_type": "stream",
     "text": [
      "Match found!\n",
      "Match found!\n",
      "Match found!\n",
      "Match found!\n",
      "Match found!\n",
      "Match found!\n",
      "Match found!\n",
      "Match found!\n",
      "Match found!\n",
      "Match found!\n",
      "Match found!\n",
      "Match found!\n",
      "Match found!\n",
      "Match found!\n"
     ]
    },
    {
     "name": "stderr",
     "output_type": "stream",
     "text": [
      "\r",
      " 25%|████████████████████▋                                                            | 77/302 [00:01<00:03, 66.91it/s]"
     ]
    },
    {
     "name": "stderr",
     "output_type": "stream",
     "text": [
      "\r",
      " 28%|██████████████████████▌                                                          | 84/302 [00:01<00:03, 66.50it/s]"
     ]
    },
    {
     "name": "stdout",
     "output_type": "stream",
     "text": [
      "Match found!\n",
      "Match found!\n",
      "Match found!\n",
      "Match found!\n",
      "Match found!\n",
      "Match found!\n",
      "Match found!\n",
      "Match found!\n",
      "Match found!\n",
      "Match found!\n",
      "Match found!\n",
      "Match found!\n",
      "Match found!\n",
      "Match found!\n"
     ]
    },
    {
     "name": "stderr",
     "output_type": "stream",
     "text": [
      "\r",
      " 30%|████████████████████████▍                                                        | 91/302 [00:01<00:03, 67.46it/s]"
     ]
    },
    {
     "name": "stderr",
     "output_type": "stream",
     "text": [
      "\r",
      " 32%|██████████████████████████▎                                                      | 98/302 [00:01<00:02, 68.15it/s]"
     ]
    },
    {
     "name": "stdout",
     "output_type": "stream",
     "text": [
      "Match found!\n",
      "Match found!\n",
      "Match found!\n",
      "Match found!\n",
      "Match found!\n",
      "Match found!\n",
      "Match found!\n",
      "Match found!\n",
      "Match found!\n",
      "Match found!\n",
      "Match found!\n",
      "Match found!\n",
      "Match found!\n",
      "Match found!\n"
     ]
    },
    {
     "name": "stderr",
     "output_type": "stream",
     "text": [
      "\r",
      " 35%|███████████████████████████▊                                                    | 105/302 [00:01<00:02, 68.65it/s]"
     ]
    },
    {
     "name": "stderr",
     "output_type": "stream",
     "text": [
      "\r",
      " 37%|█████████████████████████████▋                                                  | 112/302 [00:01<00:02, 69.00it/s]"
     ]
    },
    {
     "name": "stdout",
     "output_type": "stream",
     "text": [
      "Match found!\n",
      "Match found!\n",
      "Match found!\n",
      "Match found!\n",
      "Match found!\n",
      "Match found!\n",
      "Match found!\n",
      "Match found!\n",
      "Match found!\n",
      "Match found!\n",
      "Match found!\n",
      "Match found!\n",
      "Match found!\n",
      "Match found!\n"
     ]
    },
    {
     "name": "stderr",
     "output_type": "stream",
     "text": [
      "\r",
      " 39%|███████████████████████████████▌                                                | 119/302 [00:01<00:02, 69.24it/s]"
     ]
    },
    {
     "name": "stderr",
     "output_type": "stream",
     "text": [
      "\r",
      " 42%|█████████████████████████████████▍                                              | 126/302 [00:01<00:02, 69.41it/s]"
     ]
    },
    {
     "name": "stdout",
     "output_type": "stream",
     "text": [
      "Match found!\n",
      "Match found!\n",
      "Match found!\n",
      "Match found!\n",
      "Match found!\n",
      "Match found!\n",
      "Match found!\n",
      "Match found!\n",
      "Match found!\n",
      "Match found!\n",
      "Match found!\n",
      "Match found!\n",
      "Match found!\n",
      "Match found!\n",
      "Match found!\n"
     ]
    },
    {
     "name": "stderr",
     "output_type": "stream",
     "text": [
      "\r",
      " 44%|███████████████████████████████████▏                                            | 133/302 [00:01<00:02, 69.54it/s]"
     ]
    },
    {
     "name": "stderr",
     "output_type": "stream",
     "text": [
      "\r",
      " 46%|█████████████████████████████████████                                           | 140/302 [00:02<00:02, 69.62it/s]"
     ]
    },
    {
     "name": "stdout",
     "output_type": "stream",
     "text": [
      "Match found!\n",
      "Match found!\n",
      "Match found!\n",
      "Match found!\n",
      "Match found!\n",
      "Match found!\n",
      "Match found!\n",
      "Match found!\n",
      "Match found!\n",
      "Match found!\n",
      "Match found!\n",
      "Match found!\n",
      "Match found!\n"
     ]
    },
    {
     "name": "stderr",
     "output_type": "stream",
     "text": [
      "\r",
      " 49%|██████████████████████████████████████▉                                         | 147/302 [00:02<00:02, 69.68it/s]"
     ]
    },
    {
     "name": "stderr",
     "output_type": "stream",
     "text": [
      "\r",
      " 51%|████████████████████████████████████████▊                                       | 154/302 [00:02<00:02, 69.72it/s]"
     ]
    },
    {
     "name": "stdout",
     "output_type": "stream",
     "text": [
      "Match found!\n",
      "Match found!\n",
      "Match found!\n",
      "Match found!\n",
      "Match found!\n",
      "Match found!\n",
      "Match found!\n",
      "Match found!\n",
      "Match found!\n",
      "Match found!\n",
      "Match found!\n",
      "Match found!\n",
      "Match found!\n"
     ]
    },
    {
     "name": "stderr",
     "output_type": "stream",
     "text": [
      "\r",
      " 53%|██████████████████████████████████████████▋                                     | 161/302 [00:02<00:02, 63.79it/s]"
     ]
    },
    {
     "name": "stdout",
     "output_type": "stream",
     "text": [
      "Match found!\n",
      "Match found!\n",
      "Match found!\n",
      "Match found!\n",
      "Match found!\n",
      "Match found!\n",
      "Match found!\n",
      "Match found!\n",
      "Match found!\n",
      "Match found!\n",
      "Match found!\n"
     ]
    },
    {
     "name": "stderr",
     "output_type": "stream",
     "text": [
      "\r",
      " 56%|████████████████████████████████████████████▌                                   | 168/302 [00:02<00:02, 60.21it/s]"
     ]
    },
    {
     "name": "stderr",
     "output_type": "stream",
     "text": [
      "\r",
      " 58%|██████████████████████████████████████████████▎                                 | 175/302 [00:02<00:02, 60.27it/s]"
     ]
    },
    {
     "name": "stdout",
     "output_type": "stream",
     "text": [
      "Match found!\n",
      "Match found!\n",
      "Match found!\n",
      "Match found!\n",
      "Match found!\n",
      "Match found!\n",
      "Match found!\n",
      "Match found!\n",
      "Match found!\n",
      "Match found!\n",
      "Match found!\n",
      "Match found!\n",
      "Match found!\n"
     ]
    },
    {
     "name": "stderr",
     "output_type": "stream",
     "text": [
      "\r",
      " 60%|████████████████████████████████████████████████▏                               | 182/302 [00:02<00:01, 62.84it/s]"
     ]
    },
    {
     "name": "stderr",
     "output_type": "stream",
     "text": [
      "\r",
      " 63%|██████████████████████████████████████████████████                              | 189/302 [00:02<00:01, 64.78it/s]"
     ]
    },
    {
     "name": "stdout",
     "output_type": "stream",
     "text": [
      "Match found!\n",
      "Match found!\n",
      "Match found!\n",
      "Match found!\n",
      "Match found!\n",
      "Match found!\n",
      "Match found!\n",
      "Match found!\n",
      "Match found!\n",
      "Match found!\n",
      "Match found!\n",
      "Match found!\n",
      "Match found!\n"
     ]
    },
    {
     "name": "stderr",
     "output_type": "stream",
     "text": [
      "\r",
      " 65%|███████████████████████████████████████████████████▉                            | 196/302 [00:02<00:01, 66.22it/s]"
     ]
    },
    {
     "name": "stderr",
     "output_type": "stream",
     "text": [
      "\r",
      " 67%|█████████████████████████████████████████████████████▊                          | 203/302 [00:03<00:01, 67.26it/s]"
     ]
    },
    {
     "name": "stdout",
     "output_type": "stream",
     "text": [
      "Match found!\n",
      "Match found!\n",
      "Match found!\n",
      "Match found!\n",
      "Match found!\n",
      "Match found!\n",
      "Match found!\n",
      "Match found!\n",
      "Match found!\n",
      "Match found!\n",
      "Match found!\n",
      "Match found!\n",
      "Match found!\n",
      "Match found!\n",
      "Match found!\n"
     ]
    },
    {
     "name": "stderr",
     "output_type": "stream",
     "text": [
      "\r",
      " 70%|███████████████████████████████████████████████████████▋                        | 210/302 [00:03<00:01, 68.01it/s]"
     ]
    },
    {
     "name": "stderr",
     "output_type": "stream",
     "text": [
      "\r",
      " 72%|█████████████████████████████████████████████████████████▍                      | 217/302 [00:03<00:01, 68.54it/s]"
     ]
    },
    {
     "name": "stdout",
     "output_type": "stream",
     "text": [
      "Match found!\n",
      "Match found!\n",
      "Match found!\n",
      "Match found!\n",
      "Match found!\n",
      "Match found!\n",
      "Match found!\n",
      "Match found!\n",
      "Match found!\n",
      "Match found!\n",
      "Match found!\n",
      "Match found!\n",
      "Match found!\n"
     ]
    },
    {
     "name": "stderr",
     "output_type": "stream",
     "text": [
      "\r",
      " 74%|███████████████████████████████████████████████████████████▎                    | 224/302 [00:03<00:01, 64.69it/s]"
     ]
    },
    {
     "name": "stderr",
     "output_type": "stream",
     "text": [
      "\r",
      " 76%|█████████████████████████████████████████████████████████████▏                  | 231/302 [00:03<00:01, 63.34it/s]"
     ]
    },
    {
     "name": "stdout",
     "output_type": "stream",
     "text": [
      "Match found!\n",
      "Match found!\n",
      "Match found!\n",
      "Match found!\n",
      "Match found!\n",
      "Match found!\n",
      "Match found!\n",
      "Match found!\n",
      "Match found!\n",
      "Match found!\n",
      "Match found!\n"
     ]
    },
    {
     "name": "stderr",
     "output_type": "stream",
     "text": [
      "\r",
      " 79%|███████████████████████████████████████████████████████████████                 | 238/302 [00:03<00:01, 59.93it/s]"
     ]
    },
    {
     "name": "stderr",
     "output_type": "stream",
     "text": [
      "\r",
      " 81%|████████████████████████████████████████████████████████████████▉               | 245/302 [00:03<00:00, 62.59it/s]"
     ]
    },
    {
     "name": "stdout",
     "output_type": "stream",
     "text": [
      "Match found!\n",
      "Match found!\n",
      "Match found!\n",
      "Match found!\n",
      "Match found!\n",
      "Match found!\n",
      "Match found!\n",
      "Match found!\n",
      "Match found!\n",
      "Match found!\n",
      "Match found!\n",
      "Match found!\n",
      "Match found!\n"
     ]
    },
    {
     "name": "stderr",
     "output_type": "stream",
     "text": [
      "\r",
      " 83%|██████████████████████████████████████████████████████████████████▊             | 252/302 [00:03<00:00, 64.59it/s]"
     ]
    },
    {
     "name": "stdout",
     "output_type": "stream",
     "text": [
      "Match found!\n",
      "Match found!\n",
      "Match found!\n",
      "Match found!\n",
      "Match found!\n",
      "Match found!\n",
      "Match found!\n",
      "Match found!\n",
      "Match found!\n",
      "Match found!\n",
      "Match found!\n",
      "Match found!\n",
      "Match found!\n"
     ]
    },
    {
     "name": "stderr",
     "output_type": "stream",
     "text": [
      "\r",
      " 86%|████████████████████████████████████████████████████████████████████▌           | 259/302 [00:03<00:00, 66.07it/s]"
     ]
    },
    {
     "name": "stderr",
     "output_type": "stream",
     "text": [
      "\r",
      " 88%|██████████████████████████████████████████████████████████████████████▍         | 266/302 [00:04<00:00, 67.15it/s]"
     ]
    },
    {
     "name": "stdout",
     "output_type": "stream",
     "text": [
      "Match found!\n",
      "Match found!\n",
      "Match found!\n",
      "Match found!\n",
      "Match found!\n",
      "Match found!\n",
      "Match found!\n",
      "Match found!\n",
      "Match found!\n",
      "Match found!\n",
      "Match found!\n",
      "Match found!\n",
      "Match found!\n",
      "Match found!\n"
     ]
    },
    {
     "name": "stderr",
     "output_type": "stream",
     "text": [
      "\r",
      " 90%|████████████████████████████████████████████████████████████████████████▎       | 273/302 [00:04<00:00, 67.93it/s]"
     ]
    },
    {
     "name": "stderr",
     "output_type": "stream",
     "text": [
      "\r",
      " 93%|██████████████████████████████████████████████████████████████████████████▏     | 280/302 [00:04<00:00, 65.48it/s]"
     ]
    },
    {
     "name": "stdout",
     "output_type": "stream",
     "text": [
      "Match found!\n",
      "Match found!\n",
      "Match found!\n",
      "Match found!\n",
      "Match found!\n",
      "Match found!\n",
      "Match found!\n",
      "Match found!\n",
      "Match found!\n",
      "Match found!\n",
      "Match found!\n",
      "Match found!\n",
      "Match found!\n",
      "Match found!\n"
     ]
    },
    {
     "name": "stderr",
     "output_type": "stream",
     "text": [
      "\r",
      " 95%|████████████████████████████████████████████████████████████████████████████    | 287/302 [00:04<00:00, 66.72it/s]"
     ]
    },
    {
     "name": "stderr",
     "output_type": "stream",
     "text": [
      "\r",
      " 97%|█████████████████████████████████████████████████████████████████████████████▉  | 294/302 [00:04<00:00, 67.62it/s]"
     ]
    },
    {
     "name": "stdout",
     "output_type": "stream",
     "text": [
      "Match found!\n",
      "Match found!\n",
      "Match found!\n",
      "Match found!\n",
      "Match found!\n",
      "Match found!\n",
      "Match found!\n",
      "Match found!\n",
      "Match found!\n",
      "Match found!\n",
      "Match found!\n",
      "Match found!\n",
      "Match found!\n",
      "Match found!\n"
     ]
    },
    {
     "name": "stderr",
     "output_type": "stream",
     "text": [
      "\r",
      "100%|███████████████████████████████████████████████████████████████████████████████▋| 301/302 [00:04<00:00, 68.27it/s]"
     ]
    },
    {
     "name": "stderr",
     "output_type": "stream",
     "text": [
      "\r",
      "100%|████████████████████████████████████████████████████████████████████████████████| 302/302 [00:04<00:00, 66.48it/s]"
     ]
    },
    {
     "name": "stdout",
     "output_type": "stream",
     "text": [
      "Match found!\n"
     ]
    },
    {
     "name": "stderr",
     "output_type": "stream",
     "text": [
      "\n"
     ]
    }
   ],
   "source": [
    "multibat_fileinfo = make_fileinfo_dataframe(multibats, audio_folder)\n",
    "singlebat_fileinfo = make_fileinfo_dataframe(singles, audio_folder)"
   ]
  },
  {
   "cell_type": "code",
   "execution_count": 24,
   "metadata": {
    "execution": {
     "iopub.execute_input": "2020-12-17T14:16:20.957757Z",
     "iopub.status.busy": "2020-12-17T14:16:20.951252Z",
     "iopub.status.idle": "2020-12-17T14:16:27.321051Z",
     "shell.execute_reply": "2020-12-17T14:16:27.321051Z"
    },
    "scrolled": true
   },
   "outputs": [
    {
     "name": "stderr",
     "output_type": "stream",
     "text": [
      "\r",
      "  0%|                                                                                           | 0/25 [00:00<?, ?it/s]"
     ]
    },
    {
     "name": "stdout",
     "output_type": "stream",
     "text": [
      "Error: 1    matching_annotaudio_Aditya_2018-08-17_12_4_hp.WAV\n",
      "Name: file_name, dtype: object 2\n",
      "Error: 1    matching_annotaudio_Aditya_2018-08-17_12_4_hp.WAV\n",
      "Name: file_name, dtype: object 2\n",
      "Error: 9    matching_annotaudio_Aditya_2018-08-19_23_6_hp.WAV\n",
      "Name: file_name, dtype: object 2\n",
      "Error: 19    matching_annotaudio_Aditya_2018-08-16_21502300...\n",
      "36    matching_annotaudio_Aditya_2018-08-17_34_18_hp...\n",
      "Name: file_name, dtype: object 3\n",
      "Error: 10    matching_annotaudio_Aditya_2018-08-19_23_6_hp.WAV\n",
      "Name: file_name, dtype: object 3\n"
     ]
    },
    {
     "name": "stdout",
     "output_type": "stream",
     "text": [
      "Error: 3    matching_annotaudio_Aditya_2018-08-17_12_4_hp.WAV\n",
      "Name: file_name, dtype: object 2\n",
      "Error: 9    matching_annotaudio_Aditya_2018-08-19_23_6_hp.WAV\n",
      "Name: file_name, dtype: object 3\n"
     ]
    },
    {
     "name": "stderr",
     "output_type": "stream",
     "text": [
      "\r",
      "  4%|███▎                                                                               | 1/25 [00:00<00:05,  4.20it/s]"
     ]
    },
    {
     "name": "stdout",
     "output_type": "stream",
     "text": [
      "Error: 10    matching_annotaudio_Aditya_2018-08-19_23_6_hp.WAV\n",
      "Name: file_name, dtype: object 3\n",
      "Error: 3    matching_annotaudio_Aditya_2018-08-17_12_4_hp.WAV\n",
      "Name: file_name, dtype: object 2\n",
      "Error: 3    matching_annotaudio_Aditya_2018-08-17_12_4_hp.WAV\n",
      "Name: file_name, dtype: object 2\n",
      "Error: 10    matching_annotaudio_Aditya_2018-08-19_23_6_hp.WAV\n",
      "Name: file_name, dtype: object 2\n"
     ]
    },
    {
     "name": "stdout",
     "output_type": "stream",
     "text": [
      "Error: 17    matching_annotaudio_Aditya_2018-08-16_21502300...\n",
      "36    matching_annotaudio_Aditya_2018-08-17_34_18_hp...\n",
      "Name: file_name, dtype: object 3\n",
      "Error: 10    matching_annotaudio_Aditya_2018-08-19_23_6_hp.WAV\n",
      "Name: file_name, dtype: object 3\n"
     ]
    },
    {
     "name": "stderr",
     "output_type": "stream",
     "text": [
      "\r",
      "  8%|██████▋                                                                            | 2/25 [00:00<00:06,  3.75it/s]"
     ]
    },
    {
     "name": "stdout",
     "output_type": "stream",
     "text": [
      "Error: 3    matching_annotaudio_Aditya_2018-08-17_12_4_hp.WAV\n",
      "Name: file_name, dtype: object 2\n",
      "Error: 9    matching_annotaudio_Aditya_2018-08-19_23_6_hp.WAV\n",
      "Name: file_name, dtype: object 3\n",
      "Error: 9    matching_annotaudio_Aditya_2018-08-19_23_6_hp.WAV\n",
      "Name: file_name, dtype: object 3\n",
      "Error: 1    matching_annotaudio_Aditya_2018-08-17_12_4_hp.WAV\n",
      "Name: file_name, dtype: object 2\n",
      "Error: 3    matching_annotaudio_Aditya_2018-08-17_12_4_hp.WAV\n",
      "Name: file_name, dtype: object 2\n",
      "Error: 10    matching_annotaudio_Aditya_2018-08-19_23_6_hp.WAV\n",
      "Name: file_name, dtype: object 2\n"
     ]
    },
    {
     "name": "stderr",
     "output_type": "stream",
     "text": [
      "\r",
      " 12%|█████████▉                                                                         | 3/25 [00:00<00:05,  3.88it/s]"
     ]
    },
    {
     "name": "stdout",
     "output_type": "stream",
     "text": [
      "Error: 17    matching_annotaudio_Aditya_2018-08-16_21502300...\n",
      "36    matching_annotaudio_Aditya_2018-08-17_34_18_hp...\n",
      "Name: file_name, dtype: object 3\n",
      "Error: 10    matching_annotaudio_Aditya_2018-08-19_23_6_hp.WAV\n",
      "Name: file_name, dtype: object 3\n",
      "Error: 1    matching_annotaudio_Aditya_2018-08-17_12_4_hp.WAV\n",
      "Name: file_name, dtype: object 2\n",
      "Error: 10    matching_annotaudio_Aditya_2018-08-19_23_6_hp.WAV\n",
      "Name: file_name, dtype: object 3\n",
      "Error: 10    matching_annotaudio_Aditya_2018-08-19_23_6_hp.WAV\n",
      "Name: file_name, dtype: object 3\n",
      "Error: 3    matching_annotaudio_Aditya_2018-08-17_12_4_hp.WAV\n",
      "Name: file_name, dtype: object 2\n",
      "Error: 1    matching_annotaudio_Aditya_2018-08-17_12_4_hp.WAV\n",
      "Name: file_name, dtype: object 2\n",
      "Error: 10    matching_annotaudio_Aditya_2018-08-19_23_6_hp.WAV\n",
      "Name: file_name, dtype: object 2\n"
     ]
    },
    {
     "name": "stderr",
     "output_type": "stream",
     "text": [
      "\r",
      " 16%|█████████████▎                                                                     | 4/25 [00:01<00:05,  3.92it/s]"
     ]
    },
    {
     "name": "stdout",
     "output_type": "stream",
     "text": [
      "Error: 16    matching_annotaudio_Aditya_2018-08-16_21502300...\n",
      "37    matching_annotaudio_Aditya_2018-08-17_34_18_hp...\n",
      "Name: file_name, dtype: object 3\n",
      "Error: 10    matching_annotaudio_Aditya_2018-08-19_23_6_hp.WAV\n",
      "Name: file_name, dtype: object 3\n",
      "Error: 3    matching_annotaudio_Aditya_2018-08-17_12_4_hp.WAV\n",
      "Name: file_name, dtype: object 2\n",
      "Error: 10    matching_annotaudio_Aditya_2018-08-19_23_6_hp.WAV\n",
      "Name: file_name, dtype: object 3\n",
      "Error: 10    matching_annotaudio_Aditya_2018-08-19_23_6_hp.WAV\n",
      "Name: file_name, dtype: object 3\n",
      "Error: 1    matching_annotaudio_Aditya_2018-08-17_12_4_hp.WAV\n",
      "Name: file_name, dtype: object 2\n",
      "Error: 1    matching_annotaudio_Aditya_2018-08-17_12_4_hp.WAV\n",
      "Name: file_name, dtype: object 2\n",
      "Error: 9    matching_annotaudio_Aditya_2018-08-19_23_6_hp.WAV\n",
      "Name: file_name, dtype: object 2\n"
     ]
    },
    {
     "name": "stderr",
     "output_type": "stream",
     "text": [
      "\r",
      " 20%|████████████████▌                                                                  | 5/25 [00:01<00:05,  3.93it/s]"
     ]
    },
    {
     "name": "stdout",
     "output_type": "stream",
     "text": [
      "Error: 19    matching_annotaudio_Aditya_2018-08-16_21502300...\n",
      "38    matching_annotaudio_Aditya_2018-08-17_34_18_hp...\n",
      "Name: file_name, dtype: object 3\n",
      "Error: 9    matching_annotaudio_Aditya_2018-08-19_23_6_hp.WAV\n",
      "Name: file_name, dtype: object 3\n",
      "Error: 1    matching_annotaudio_Aditya_2018-08-17_12_4_hp.WAV\n",
      "Name: file_name, dtype: object 2\n",
      "Error: 10    matching_annotaudio_Aditya_2018-08-19_23_6_hp.WAV\n",
      "Name: file_name, dtype: object 3\n",
      "Error: 10    matching_annotaudio_Aditya_2018-08-19_23_6_hp.WAV\n",
      "22    matching_annotaudio_Aditya_2018-08-16_2324_135...\n",
      "Name: file_name, dtype: object 3\n",
      "Error: 1    matching_annotaudio_Aditya_2018-08-17_12_4_hp.WAV\n",
      "Name: file_name, dtype: object 2\n",
      "Error: 3    matching_annotaudio_Aditya_2018-08-17_12_4_hp.WAV\n",
      "Name: file_name, dtype: object 2\n"
     ]
    },
    {
     "name": "stderr",
     "output_type": "stream",
     "text": [
      "\r",
      " 24%|███████████████████▉                                                               | 6/25 [00:01<00:04,  3.89it/s]"
     ]
    },
    {
     "name": "stdout",
     "output_type": "stream",
     "text": [
      "Error: 10    matching_annotaudio_Aditya_2018-08-19_23_6_hp.WAV\n",
      "Name: file_name, dtype: object 2\n",
      "Error: 17    matching_annotaudio_Aditya_2018-08-16_21502300...\n",
      "36    matching_annotaudio_Aditya_2018-08-17_34_18_hp...\n",
      "Name: file_name, dtype: object 3\n",
      "Error: 10    matching_annotaudio_Aditya_2018-08-19_23_6_hp.WAV\n",
      "Name: file_name, dtype: object 3\n",
      "Error: 1    matching_annotaudio_Aditya_2018-08-17_12_4_hp.WAV\n",
      "Name: file_name, dtype: object 2\n",
      "Error: 10    matching_annotaudio_Aditya_2018-08-19_23_6_hp.WAV\n",
      "Name: file_name, dtype: object 3\n",
      "Error: 9    matching_annotaudio_Aditya_2018-08-19_23_6_hp.WAV\n",
      "Name: file_name, dtype: object 3\n",
      "Error: 3    matching_annotaudio_Aditya_2018-08-17_12_4_hp.WAV\n",
      "Name: file_name, dtype: object 2\n"
     ]
    },
    {
     "name": "stdout",
     "output_type": "stream",
     "text": [
      "Error: 3    matching_annotaudio_Aditya_2018-08-17_12_4_hp.WAV\n",
      "Name: file_name, dtype: object 2\n",
      "Error: 9    matching_annotaudio_Aditya_2018-08-19_23_6_hp.WAV\n",
      "Name: file_name, dtype: object 2\n",
      "Error: 17    matching_annotaudio_Aditya_2018-08-16_21502300...\n",
      "36    matching_annotaudio_Aditya_2018-08-17_34_18_hp...\n",
      "Name: file_name, dtype: object 3\n",
      "Error: 9    matching_annotaudio_Aditya_2018-08-19_23_6_hp.WAV\n",
      "Name: file_name, dtype: object 3\n",
      "Error: 1    matching_annotaudio_Aditya_2018-08-17_12_4_hp.WAV\n",
      "Name: file_name, dtype: object 2\n",
      "Error: 10    matching_annotaudio_Aditya_2018-08-19_23_6_hp.WAV\n",
      "Name: file_name, dtype: object 3\n",
      "Error:"
     ]
    },
    {
     "name": "stderr",
     "output_type": "stream",
     "text": [
      "\r",
      " 28%|███████████████████████▏                                                           | 7/25 [00:01<00:04,  3.98it/s]"
     ]
    },
    {
     "name": "stdout",
     "output_type": "stream",
     "text": [
      " 9    matching_annotaudio_Aditya_2018-08-19_23_6_hp.WAV\n",
      "Name: file_name, dtype: object 3\n",
      "Error: 3    matching_annotaudio_Aditya_2018-08-17_12_4_hp.WAV\n",
      "Name: file_name, dtype: object 2\n",
      "Error: 1    matching_annotaudio_Aditya_2018-08-17_12_4_hp.WAV\n",
      "Name: file_name, dtype: object 2\n",
      "Error: 10    matching_annotaudio_Aditya_2018-08-19_23_6_hp.WAV\n",
      "Name: file_name, dtype: object 2\n",
      "Error: 18    matching_annotaudio_Aditya_2018-08-16_21502300...\n",
      "35    matching_annotaudio_Aditya_2018-08-17_34_18_hp...\n",
      "Name: file_name, dtype: object 3\n",
      "Error: 10    matching_annotaudio_Aditya_2018-08-19_23_6_hp.WAV\n",
      "Name: file_name, dtype: object 3\n",
      "Error: 3    matching_annotaudio_Aditya_2018-08-17_12_4_hp.WAV\n",
      "Name: file_name, dtype: object 2\n"
     ]
    },
    {
     "name": "stderr",
     "output_type": "stream",
     "text": [
      "\r",
      " 32%|██████████████████████████▌                                                        | 8/25 [00:02<00:04,  4.00it/s]"
     ]
    },
    {
     "name": "stdout",
     "output_type": "stream",
     "text": [
      "Error: 9    matching_annotaudio_Aditya_2018-08-19_23_6_hp.WAV\n",
      "Name: file_name, dtype: object 3\n",
      "Error: 9    matching_annotaudio_Aditya_2018-08-19_23_6_hp.WAV\n",
      "Name: file_name, dtype: object 3\n",
      "Error: 1    matching_annotaudio_Aditya_2018-08-17_12_4_hp.WAV\n",
      "Name: file_name, dtype: object 2\n",
      "Error: 1    matching_annotaudio_Aditya_2018-08-17_12_4_hp.WAV\n",
      "Name: file_name, dtype: object 2\n",
      "Error: 10    matching_annotaudio_Aditya_2018-08-19_23_6_hp.WAV\n",
      "Name: file_name, dtype: object 2\n",
      "Error: 17    matching_annotaudio_Aditya_2018-08-16_21502300...\n",
      "36    matching_annotaudio_Aditya_2018-08-17_34_18_hp...\n",
      "Name: file_name, dtype: object 3\n",
      "Error: 10    matching_annotaudio_Aditya_2018-08-19_23_6_hp.WAV\n",
      "Name: file_name, dtype: object 3\n"
     ]
    },
    {
     "name": "stderr",
     "output_type": "stream",
     "text": [
      "\r",
      " 36%|█████████████████████████████▉                                                     | 9/25 [00:02<00:03,  4.09it/s]"
     ]
    },
    {
     "name": "stdout",
     "output_type": "stream",
     "text": [
      "Error: 3    matching_annotaudio_Aditya_2018-08-17_12_4_hp.WAV\n",
      "Name: file_name, dtype: object 2\n",
      "Error: 10    matching_annotaudio_Aditya_2018-08-19_23_6_hp.WAV\n",
      "Name: file_name, dtype: object 3\n",
      "Error: 10    matching_annotaudio_Aditya_2018-08-19_23_6_hp.WAV\n",
      "Name: file_name, dtype: object 3\n",
      "Error: 3    matching_annotaudio_Aditya_2018-08-17_12_4_hp.WAV\n",
      "Name: file_name, dtype: object 2\n",
      "Error: 1    matching_annotaudio_Aditya_2018-08-17_12_4_hp.WAV\n",
      "Name: file_name, dtype: object 2\n",
      "Error: 10    matching_annotaudio_Aditya_2018-08-19_23_6_hp.WAV\n",
      "Name: file_name, dtype: object 2\n",
      "Error: 17    matching_annotaudio_Aditya_2018-08-16_21502300...\n",
      "35    matching_annotaudio_Aditya_2018-08-17_34_18_hp...\n",
      "Name: file_name, dtype: object 3\n",
      "Error: 9    matching_annotaudio_Aditya_2018-08-19_23_6_hp.WAV\n",
      "Name: file_name, dtype: object 3\n"
     ]
    },
    {
     "name": "stderr",
     "output_type": "stream",
     "text": [
      "\r",
      " 40%|████████████████████████████████▊                                                 | 10/25 [00:02<00:03,  4.04it/s]"
     ]
    },
    {
     "name": "stdout",
     "output_type": "stream",
     "text": [
      "Error: 1    matching_annotaudio_Aditya_2018-08-17_12_4_hp.WAV\n",
      "Name: file_name, dtype: object 2\n",
      "Error: 9    matching_annotaudio_Aditya_2018-08-19_23_6_hp.WAV\n",
      "Name: file_name, dtype: object 3\n",
      "Error: 10    matching_annotaudio_Aditya_2018-08-19_23_6_hp.WAV\n",
      "Name: file_name, dtype: object 3\n",
      "Error: 3    matching_annotaudio_Aditya_2018-08-17_12_4_hp.WAV\n",
      "Name: file_name, dtype: object 2\n",
      "Error: 3    matching_annotaudio_Aditya_2018-08-17_12_4_hp.WAV\n",
      "Name: file_name, dtype: object 2\n",
      "Error: 9    matching_annotaudio_Aditya_2018-08-19_23_6_hp.WAV\n",
      "Name: file_name, dtype: object 2\n",
      "Error: 17    matching_annotaudio_Aditya_2018-08-16_21502300...\n",
      "36    matching_annotaudio_Aditya_2018-08-17_34_18_hp...\n",
      "Name: file_name, dtype: object 3\n",
      "Error: 10    matching_annotaudio_Aditya_2018-08-19_23_6_hp.WAV\n",
      "Name: file_name, dtype: object 3\n"
     ]
    },
    {
     "name": "stderr",
     "output_type": "stream",
     "text": [
      "\r",
      " 44%|████████████████████████████████████                                              | 11/25 [00:02<00:03,  4.12it/s]"
     ]
    },
    {
     "name": "stdout",
     "output_type": "stream",
     "text": [
      "Error: 1    matching_annotaudio_Aditya_2018-08-17_12_4_hp.WAV\n",
      "Name: file_name, dtype: object 2\n",
      "Error: 10    matching_annotaudio_Aditya_2018-08-19_23_6_hp.WAV\n",
      "Name: file_name, dtype: object 3\n",
      "Error: 9    matching_annotaudio_Aditya_2018-08-19_23_6_hp.WAV\n",
      "Name: file_name, dtype: object 3\n",
      "Error: 1    matching_annotaudio_Aditya_2018-08-17_12_4_hp.WAV\n",
      "Name: file_name, dtype: object 2\n",
      "Error: 1    matching_annotaudio_Aditya_2018-08-17_12_4_hp.WAV\n",
      "Name: file_name, dtype: object 2\n",
      "Error: 9    matching_annotaudio_Aditya_2018-08-19_23_6_hp.WAV\n",
      "Name: file_name, dtype: object 2\n",
      "Error: 18    matching_annotaudio_Aditya_2018-08-16_21502300...\n",
      "35    matching_annotaudio_Aditya_2018-08-17_34_18_hp...\n",
      "Name: file_name, dtype: object 3\n",
      "Error: 9    matching_annotaudio_Aditya_2018-08-19_23_6_hp.WAV\n",
      "Name: file_name, dtype: object 3\n"
     ]
    },
    {
     "name": "stderr",
     "output_type": "stream",
     "text": [
      "\r",
      " 48%|███████████████████████████████████████▎                                          | 12/25 [00:03<00:03,  3.84it/s]"
     ]
    },
    {
     "name": "stdout",
     "output_type": "stream",
     "text": [
      "Error: 1    matching_annotaudio_Aditya_2018-08-17_12_4_hp.WAV\n",
      "Name: file_name, dtype: object 2\n",
      "Error: 9    matching_annotaudio_Aditya_2018-08-19_23_6_hp.WAV\n",
      "Name: file_name, dtype: object 3\n",
      "Error: 10    matching_annotaudio_Aditya_2018-08-19_23_6_hp.WAV\n",
      "Name: file_name, dtype: object 3\n",
      "Error: 3    matching_annotaudio_Aditya_2018-08-17_12_4_hp.WAV\n",
      "Name: file_name, dtype: object 2\n",
      "Error: 1    matching_annotaudio_Aditya_2018-08-17_12_4_hp.WAV\n",
      "Name: file_name, dtype: object 2\n",
      "Error: 10    matching_annotaudio_Aditya_2018-08-19_23_6_hp.WAV\n",
      "Name: file_name, dtype: object 2\n",
      "Error: 19    matching_annotaudio_Aditya_2018-08-16_21502300...\n",
      "37    matching_annotaudio_Aditya_2018-08-17_34_18_hp...\n",
      "Name: file_name, dtype: object 3\n"
     ]
    },
    {
     "name": "stderr",
     "output_type": "stream",
     "text": [
      "\r",
      " 52%|██████████████████████████████████████████▋                                       | 13/25 [00:03<00:03,  3.87it/s]"
     ]
    },
    {
     "name": "stdout",
     "output_type": "stream",
     "text": [
      "Error: 10    matching_annotaudio_Aditya_2018-08-19_23_6_hp.WAV\n",
      "Name: file_name, dtype: object 3\n",
      "Error: 1    matching_annotaudio_Aditya_2018-08-17_12_4_hp.WAV\n",
      "Name: file_name, dtype: object 2\n",
      "Error: 9    matching_annotaudio_Aditya_2018-08-19_23_6_hp.WAV\n",
      "Name: file_name, dtype: object 3\n",
      "Error: 9    matching_annotaudio_Aditya_2018-08-19_23_6_hp.WAV\n",
      "Name: file_name, dtype: object 3\n",
      "Error: 1    matching_annotaudio_Aditya_2018-08-17_12_4_hp.WAV\n",
      "Name: file_name, dtype: object 2\n",
      "Error: 9    matching_annotaudio_Aditya_2018-08-19_23_6_hp.WAV\n",
      "Name: file_name, dtype: object 2\n"
     ]
    },
    {
     "name": "stderr",
     "output_type": "stream",
     "text": [
      "\r",
      " 56%|█████████████████████████████████████████████▉                                    | 14/25 [00:03<00:02,  3.92it/s]"
     ]
    },
    {
     "name": "stdout",
     "output_type": "stream",
     "text": [
      "Error: 37    matching_annotaudio_Aditya_2018-08-17_34_18_hp...\n",
      "Name: file_name, dtype: object 2\n",
      "Error: 18    matching_annotaudio_Aditya_2018-08-16_21502300...\n",
      "35    matching_annotaudio_Aditya_2018-08-17_34_18_hp...\n",
      "Name: file_name, dtype: object 3\n",
      "Error: 9    matching_annotaudio_Aditya_2018-08-19_23_6_hp.WAV\n",
      "Name: file_name, dtype: object 3\n",
      "Error: 1    matching_annotaudio_Aditya_2018-08-17_12_4_hp.WAV\n",
      "Name: file_name, dtype: object 2\n",
      "Error: 10    matching_annotaudio_Aditya_2018-08-19_23_6_hp.WAV\n",
      "Name: file_name, dtype: object 3\n",
      "Error: 9    matching_annotaudio_Aditya_2018-08-19_23_6_hp.WAV\n",
      "Name: file_name, dtype: object 3\n",
      "Error: 1    matching_annotaudio_Aditya_2018-08-17_12_4_hp.WAV\n",
      "Name: file_name, dtype: object 2\n",
      "Error: 3    matching_annotaudio_Aditya_2018-08-17_12_4_hp.WAV\n",
      "Name: file_name, dtype: object 2\n",
      "Error: 10    matching_annotaudio_Aditya_2018-08-19_23_6_hp.WAV\n",
      "Name: file_name, dtype: object 2\n"
     ]
    },
    {
     "name": "stderr",
     "output_type": "stream",
     "text": [
      "\r",
      " 60%|█████████████████████████████████████████████████▏                                | 15/25 [00:03<00:02,  4.00it/s]"
     ]
    },
    {
     "name": "stdout",
     "output_type": "stream",
     "text": [
      "Error: 19    matching_annotaudio_Aditya_2018-08-16_21502300...\n",
      "37    matching_annotaudio_Aditya_2018-08-17_34_18_hp...\n",
      "Name: file_name, dtype: object 3\n",
      "Error: 10    matching_annotaudio_Aditya_2018-08-19_23_6_hp.WAV\n",
      "Name: file_name, dtype: object 3\n",
      "Error: 3    matching_annotaudio_Aditya_2018-08-17_12_4_hp.WAV\n",
      "Name: file_name, dtype: object 2\n",
      "Error: 9    matching_annotaudio_Aditya_2018-08-19_23_6_hp.WAV\n",
      "Name: file_name, dtype: object 3\n",
      "Error: 10    matching_annotaudio_Aditya_2018-08-19_23_6_hp.WAV\n",
      "Name: file_name, dtype: object 3\n",
      "Error: 3    matching_annotaudio_Aditya_2018-08-17_12_4_hp.WAV\n",
      "Name: file_name, dtype: object 2\n",
      "Error: 3    matching_annotaudio_Aditya_2018-08-17_12_4_hp.WAV\n",
      "Name: file_name, dtype: object 2\n",
      "Error: 9    matching_annotaudio_Aditya_2018-08-19_23_6_hp.WAV\n",
      "Name: file_name, dtype: object 2\n"
     ]
    },
    {
     "name": "stderr",
     "output_type": "stream",
     "text": [
      "\r",
      " 64%|████████████████████████████████████████████████████▍                             | 16/25 [00:04<00:02,  3.80it/s]"
     ]
    },
    {
     "name": "stdout",
     "output_type": "stream",
     "text": [
      "Error: 17    matching_annotaudio_Aditya_2018-08-16_21502300...\n",
      "36    matching_annotaudio_Aditya_2018-08-17_34_18_hp...\n",
      "Name: file_name, dtype: object 3\n",
      "Error: 9    matching_annotaudio_Aditya_2018-08-19_23_6_hp.WAV\n",
      "Name: file_name, dtype: object 3\n",
      "Error: 1    matching_annotaudio_Aditya_2018-08-17_12_4_hp.WAV\n",
      "Name: file_name, dtype: object 2\n",
      "Error: 9    matching_annotaudio_Aditya_2018-08-19_23_6_hp.WAV\n",
      "Name: file_name, dtype: object 3\n",
      "Error: 10    matching_annotaudio_Aditya_2018-08-19_23_6_hp.WAV\n",
      "Name: file_name, dtype: object 3\n",
      "Error: 1    matching_annotaudio_Aditya_2018-08-17_12_4_hp.WAV\n",
      "Name: file_name, dtype: object 2\n",
      "Error: 1    matching_annotaudio_Aditya_2018-08-17_12_4_hp.WAV\n",
      "Name: file_name, dtype: object 2\n",
      "Error: 10    matching_annotaudio_Aditya_2018-08-19_23_6_hp.WAV\n",
      "Name: file_name, dtype: object 2\n"
     ]
    },
    {
     "name": "stderr",
     "output_type": "stream",
     "text": [
      "\r",
      " 68%|███████████████████████████████████████████████████████▊                          | 17/25 [00:04<00:02,  3.91it/s]"
     ]
    },
    {
     "name": "stdout",
     "output_type": "stream",
     "text": [
      "Error: 17    matching_annotaudio_Aditya_2018-08-16_21502300...\n",
      "36    matching_annotaudio_Aditya_2018-08-17_34_18_hp...\n",
      "Name: file_name, dtype: object 3\n",
      "Error: 9    matching_annotaudio_Aditya_2018-08-19_23_6_hp.WAV\n",
      "Name: file_name, dtype: object 3\n",
      "Error: 3    matching_annotaudio_Aditya_2018-08-17_12_4_hp.WAV\n",
      "Name: file_name, dtype: object 2\n",
      "Error: 37    matching_annotaudio_Aditya_2018-08-17_34_18_hp...\n",
      "Name: file_name, dtype: object 2\n",
      "Error: 9    matching_annotaudio_Aditya_2018-08-19_23_6_hp.WAV\n",
      "Name: file_name, dtype: object 3\n",
      "Error: 9    matching_annotaudio_Aditya_2018-08-19_23_6_hp.WAV\n",
      "Name: file_name, dtype: object 3\n",
      "Error: 1    matching_annotaudio_Aditya_2018-08-17_12_4_hp.WAV\n",
      "Name: file_name, dtype: object 2\n",
      "Error: 1    matching_annotaudio_Aditya_2018-08-17_12_4_hp.WAV\n",
      "Name: file_name, dtype: object 2\n",
      "Error: 10    matching_annotaudio_Aditya_2018-08-19_23_6_hp.WAV\n",
      "Name: file_name, dtype: object 2\n"
     ]
    },
    {
     "name": "stderr",
     "output_type": "stream",
     "text": [
      "\r",
      " 72%|███████████████████████████████████████████████████████████                       | 18/25 [00:04<00:01,  3.95it/s]"
     ]
    },
    {
     "name": "stdout",
     "output_type": "stream",
     "text": [
      "Error: 18    matching_annotaudio_Aditya_2018-08-16_21502300...\n",
      "37    matching_annotaudio_Aditya_2018-08-17_34_18_hp...\n",
      "Name: file_name, dtype: object 3\n",
      "Error: 9    matching_annotaudio_Aditya_2018-08-19_23_6_hp.WAV\n",
      "Name: file_name, dtype: object 3\n",
      "Error: 18    matching_annotaudio_Aditya_2018-08-20_0200-030...\n",
      "Name: file_name, dtype: object 4\n",
      "Error: 1    matching_annotaudio_Aditya_2018-08-17_12_4_hp.WAV\n",
      "Name: file_name, dtype: object 2\n",
      "Error: 10    matching_annotaudio_Aditya_2018-08-19_23_6_hp.WAV\n",
      "Name: file_name, dtype: object 3\n",
      "Error: 9    matching_annotaudio_Aditya_2018-08-19_23_6_hp.WAV\n",
      "Name: file_name, dtype: object 3\n",
      "Error: 1    matching_annotaudio_Aditya_2018-08-17_12_4_hp.WAV\n",
      "Name: file_name, dtype: object 2\n",
      "Error: 3    matching_annotaudio_Aditya_2018-08-17_12_4_hp.WAV\n",
      "Name: file_name, dtype: object 2\n",
      "Error: 9    matching_annotaudio_Aditya_2018-08-19_23_6_hp.WAV\n",
      "Name: file_name, dtype: object 2\n"
     ]
    },
    {
     "name": "stderr",
     "output_type": "stream",
     "text": [
      "\r",
      " 76%|██████████████████████████████████████████████████████████████▎                   | 19/25 [00:04<00:01,  3.95it/s]"
     ]
    },
    {
     "name": "stdout",
     "output_type": "stream",
     "text": [
      "Error: 18    matching_annotaudio_Aditya_2018-08-16_21502300...\n",
      "37    matching_annotaudio_Aditya_2018-08-17_34_18_hp...\n",
      "Name: file_name, dtype: object 3\n",
      "Error: 10    matching_annotaudio_Aditya_2018-08-19_23_6_hp.WAV\n",
      "Name: file_name, dtype: object 3\n",
      "Error: 18    matching_annotaudio_Aditya_2018-08-20_0200-030...\n",
      "Name: file_name, dtype: object 4\n",
      "Error: 1    matching_annotaudio_Aditya_2018-08-17_12_4_hp.WAV\n",
      "Name: file_name, dtype: object 2\n",
      "Error: 10    matching_annotaudio_Aditya_2018-08-19_23_6_hp.WAV\n",
      "Name: file_name, dtype: object 3\n",
      "Error: 9    matching_annotaudio_Aditya_2018-08-19_23_6_hp.WAV\n",
      "Name: file_name, dtype: object 3\n",
      "Error: 3    matching_annotaudio_Aditya_2018-08-17_12_4_hp.WAV\n",
      "Name: file_name, dtype: object 2\n",
      "Error: 1    matching_annotaudio_Aditya_2018-08-17_12_4_hp.WAV\n",
      "Name: file_name, dtype: object 2\n",
      "Error: 10    matching_annotaudio_Aditya_2018-08-19_23_6_hp.WAV\n",
      "Name: file_name, dtype: object 2\n"
     ]
    },
    {
     "name": "stderr",
     "output_type": "stream",
     "text": [
      "\r",
      " 80%|█████████████████████████████████████████████████████████████████▌                | 20/25 [00:05<00:01,  4.05it/s]"
     ]
    },
    {
     "name": "stdout",
     "output_type": "stream",
     "text": [
      "Error: 18    matching_annotaudio_Aditya_2018-08-16_21502300...\n",
      "35    matching_annotaudio_Aditya_2018-08-17_34_18_hp...\n",
      "Name: file_name, dtype: object 3\n",
      "Error: 10    matching_annotaudio_Aditya_2018-08-19_23_6_hp.WAV\n",
      "Name: file_name, dtype: object 3\n",
      "Error: 1    matching_annotaudio_Aditya_2018-08-17_12_4_hp.WAV\n",
      "Name: file_name, dtype: object 2\n",
      "Error: 9    matching_annotaudio_Aditya_2018-08-19_23_6_hp.WAV\n",
      "Name: file_name, dtype: object 3\n",
      "Error: 10    matching_annotaudio_Aditya_2018-08-19_23_6_hp.WAV\n",
      "Name: file_name, dtype: object 3\n",
      "Error: 3    matching_annotaudio_Aditya_2018-08-17_12_4_hp.WAV\n",
      "Name: file_name, dtype: object 2\n",
      "Error: 1    matching_annotaudio_Aditya_2018-08-17_12_4_hp.WAV\n",
      "Name: file_name, dtype: object 2\n",
      "Error: 10    matching_annotaudio_Aditya_2018-08-19_23_6_hp.WAV\n",
      "Name: file_name, dtype: object 2\n"
     ]
    },
    {
     "name": "stderr",
     "output_type": "stream",
     "text": [
      "\r",
      " 84%|████████████████████████████████████████████████████████████████████▉             | 21/25 [00:05<00:00,  4.09it/s]"
     ]
    },
    {
     "name": "stdout",
     "output_type": "stream",
     "text": [
      "Error: 19    matching_annotaudio_Aditya_2018-08-16_21502300...\n",
      "36    matching_annotaudio_Aditya_2018-08-17_34_18_hp...\n",
      "Name: file_name, dtype: object 3\n",
      "Error: 9    matching_annotaudio_Aditya_2018-08-19_23_6_hp.WAV\n",
      "Name: file_name, dtype: object 3\n",
      "Error: 1    matching_annotaudio_Aditya_2018-08-17_12_4_hp.WAV\n",
      "Name: file_name, dtype: object 2\n",
      "Error: 10    matching_annotaudio_Aditya_2018-08-19_23_6_hp.WAV\n",
      "Name: file_name, dtype: object 3\n",
      "Error: 9    matching_annotaudio_Aditya_2018-08-19_23_6_hp.WAV\n",
      "Name: file_name, dtype: object 3\n",
      "Error: 1    matching_annotaudio_Aditya_2018-08-17_12_4_hp.WAV\n",
      "Name: file_name, dtype: object 2\n",
      "Error: 1    matching_annotaudio_Aditya_2018-08-17_12_4_hp.WAV\n",
      "Name: file_name, dtype: object 2\n",
      "Error: 10    matching_annotaudio_Aditya_2018-08-19_23_6_hp.WAV\n",
      "Name: file_name, dtype: object 2\n"
     ]
    },
    {
     "name": "stdout",
     "output_type": "stream",
     "text": [
      "Error: 18    matching_annotaudio_Aditya_2018-08-16_21502300...\n",
      "35    matching_annotaudio_Aditya_2018-08-17_34_18_hp...\n",
      "Name: file_name, dtype: object 3\n",
      "Error: 10    matching_annotaudio_Aditya_2018-08-19_23_6_hp.WAV\n",
      "Name: file_name, dtype: object 3\n",
      "Error: 1    matching_annotaudio_Aditya_2018-08-17_12_4_hp.WAV\n",
      "Name: file_name, dtype: object 2\n",
      "Error: 10    matching_annotaudio_Aditya_2018-08-19_23_6_hp.WAV\n",
      "Name: file_name, dtype: object 3\n",
      "Error: 9    matching_annotaudio_Aditya_2018-08-19_23_6_hp.WAV\n",
      "Name: file_name, dtype: object 3\n"
     ]
    },
    {
     "name": "stderr",
     "output_type": "stream",
     "text": [
      "\r",
      " 88%|████████████████████████████████████████████████████████████████████████▏         | 22/25 [00:05<00:00,  3.93it/s]"
     ]
    },
    {
     "name": "stdout",
     "output_type": "stream",
     "text": [
      "Error: 1    matching_annotaudio_Aditya_2018-08-17_12_4_hp.WAV\n",
      "Name: file_name, dtype: object 2\n",
      "Error: 1    matching_annotaudio_Aditya_2018-08-17_12_4_hp.WAV\n",
      "Name: file_name, dtype: object 2\n",
      "Error: 9    matching_annotaudio_Aditya_2018-08-19_23_6_hp.WAV\n",
      "Name: file_name, dtype: object 2\n",
      "Error: 17    matching_annotaudio_Aditya_2018-08-16_21502300...\n",
      "36    matching_annotaudio_Aditya_2018-08-17_34_18_hp...\n",
      "Name: file_name, dtype: object 3\n",
      "Error: 9    matching_annotaudio_Aditya_2018-08-19_23_6_hp.WAV\n",
      "Name: file_name, dtype: object 3\n",
      "Error: 1    matching_annotaudio_Aditya_2018-08-17_12_4_hp.WAV\n",
      "Name: file_name, dtype: object 2\n"
     ]
    },
    {
     "name": "stderr",
     "output_type": "stream",
     "text": [
      "\r",
      " 92%|███████████████████████████████████████████████████████████████████████████▍      | 23/25 [00:05<00:00,  3.86it/s]"
     ]
    },
    {
     "name": "stdout",
     "output_type": "stream",
     "text": [
      "Error: 9    matching_annotaudio_Aditya_2018-08-19_23_6_hp.WAV\n",
      "Name: file_name, dtype: object 3\n",
      "Error: 9    matching_annotaudio_Aditya_2018-08-19_23_6_hp.WAV\n",
      "Name: file_name, dtype: object 3\n",
      "Error: 3    matching_annotaudio_Aditya_2018-08-17_12_4_hp.WAV\n",
      "Name: file_name, dtype: object 2\n",
      "Error: 3    matching_annotaudio_Aditya_2018-08-17_12_4_hp.WAV\n",
      "Name: file_name, dtype: object 2\n",
      "Error: 10    matching_annotaudio_Aditya_2018-08-19_23_6_hp.WAV\n",
      "Name: file_name, dtype: object 2\n",
      "Error: 17    matching_annotaudio_Aditya_2018-08-16_21502300...\n",
      "36    matching_annotaudio_Aditya_2018-08-17_34_18_hp...\n",
      "Name: file_name, dtype: object 3\n",
      "Error: 9    matching_annotaudio_Aditya_2018-08-19_23_6_hp.WAV\n",
      "Name: file_name, dtype: object 3\n"
     ]
    },
    {
     "name": "stderr",
     "output_type": "stream",
     "text": [
      "\r",
      " 96%|██████████████████████████████████████████████████████████████████████████████▋   | 24/25 [00:06<00:00,  3.91it/s]"
     ]
    },
    {
     "name": "stdout",
     "output_type": "stream",
     "text": [
      "Error: 3    matching_annotaudio_Aditya_2018-08-17_12_4_hp.WAV\n",
      "Name: file_name, dtype: object 2\n",
      "Error: 17    matching_annotaudio_Aditya_2018-08-16_21502300...\n",
      "Name: file_name, dtype: object 2\n",
      "Error: 9    matching_annotaudio_Aditya_2018-08-19_23_6_hp.WAV\n",
      "Name: file_name, dtype: object 3\n",
      "Error: 9    matching_annotaudio_Aditya_2018-08-19_23_6_hp.WAV\n",
      "Name: file_name, dtype: object 3\n",
      "Error: 1    matching_annotaudio_Aditya_2018-08-17_12_4_hp.WAV\n",
      "Name: file_name, dtype: object 2\n",
      "Error: 1    matching_annotaudio_Aditya_2018-08-17_12_4_hp.WAV\n",
      "Name: file_name, dtype: object 2\n",
      "Error: 10    matching_annotaudio_Aditya_2018-08-19_23_6_hp.WAV\n",
      "Name: file_name, dtype: object 2\n",
      "Error: 17    matching_annotaudio_Aditya_2018-08-16_21502300...\n",
      "36    matching_annotaudio_Aditya_2018-08-17_34_18_hp...\n",
      "Name: file_name, dtype: object 3\n",
      "Error:"
     ]
    },
    {
     "name": "stderr",
     "output_type": "stream",
     "text": [
      "\r",
      "100%|██████████████████████████████████████████████████████████████████████████████████| 25/25 [00:06<00:00,  3.99it/s]"
     ]
    },
    {
     "name": "stderr",
     "output_type": "stream",
     "text": [
      "\r",
      "100%|██████████████████████████████████████████████████████████████████████████████████| 25/25 [00:06<00:00,  3.93it/s]"
     ]
    },
    {
     "name": "stdout",
     "output_type": "stream",
     "text": [
      " 9    matching_annotaudio_Aditya_2018-08-19_23_6_hp.WAV\n",
      "Name: file_name, dtype: object 3\n",
      "Error: 1    matching_annotaudio_Aditya_2018-08-17_12_4_hp.WAV\n",
      "Name: file_name, dtype: object 2\n",
      "Error: 10    matching_annotaudio_Aditya_2018-08-19_23_6_hp.WAV\n",
      "Name: file_name, dtype: object 3\n",
      "Error: 9    matching_annotaudio_Aditya_2018-08-19_23_6_hp.WAV\n",
      "Name: file_name, dtype: object 3\n"
     ]
    },
    {
     "name": "stderr",
     "output_type": "stream",
     "text": [
      "\n"
     ]
    }
   ],
   "source": [
    "# repeat the matching exercise N times and choose the run with most number of unique file mixtures\n",
    "multibat_matched_runs = {}\n",
    "for i in tqdm.trange(25):\n",
    "    multibat_matched_runs[i] = make_virtual_multi_bat_audio(multibat_fileinfo, singlebat_fileinfo, duration_width=0.2,\n",
    "                                                       time_interval=300)"
   ]
  },
  {
   "cell_type": "code",
   "execution_count": 25,
   "metadata": {
    "execution": {
     "iopub.execute_input": "2020-12-17T14:16:27.321051Z",
     "iopub.status.busy": "2020-12-17T14:16:27.321051Z",
     "iopub.status.idle": "2020-12-17T14:16:27.336675Z",
     "shell.execute_reply": "2020-12-17T14:16:27.336675Z"
    }
   },
   "outputs": [
    {
     "data": {
      "text/plain": [
       "file_name           matching_annotaudio_Aditya_2018-08-16_21502300...\n",
       "num_bats                                                            2\n",
       "duration                                                         0.76\n",
       "posix_end_time                                            1.53445e+09\n",
       "posix_start_time                                          1.53445e+09\n",
       "Name: 0, dtype: object"
      ]
     },
     "execution_count": 1,
     "metadata": {},
     "output_type": "execute_result"
    }
   ],
   "source": [
    " multibat_fileinfo.loc[0,:]"
   ]
  },
  {
   "cell_type": "code",
   "execution_count": 26,
   "metadata": {
    "execution": {
     "iopub.execute_input": "2020-12-17T14:16:27.336675Z",
     "iopub.status.busy": "2020-12-17T14:16:27.336675Z",
     "iopub.status.idle": "2020-12-17T14:16:27.352269Z",
     "shell.execute_reply": "2020-12-17T14:16:27.352269Z"
    }
   },
   "outputs": [
    {
     "name": "stdout",
     "output_type": "stream",
     "text": [
      "0 81\n",
      "1 84\n",
      "2 81\n",
      "3 80\n",
      "4 79\n",
      "5 81\n",
      "6 79\n",
      "7 82\n",
      "8 79\n",
      "9 85\n",
      "10 84\n",
      "11 82\n",
      "12 82\n",
      "13 81\n",
      "14 81\n",
      "15 84\n",
      "16 78\n",
      "17 83\n",
      "18 81\n",
      "19 80\n",
      "20 83\n",
      "21 85\n",
      "22 80\n",
      "23 83\n",
      "24 81\n"
     ]
    }
   ],
   "source": [
    "num_unique_filemixes = []\n",
    "for i, each in multibat_matched_runs.items():\n",
    "    filemix_set = [frozenset(filemixes) for keys, filemixes in each.items()]\n",
    "    unique_filemixes = len(frozenset(filemix_set))\n",
    "    print(i, unique_filemixes)\n",
    "    num_unique_filemixes.append(unique_filemixes)"
   ]
  },
  {
   "cell_type": "code",
   "execution_count": 27,
   "metadata": {
    "execution": {
     "iopub.execute_input": "2020-12-17T14:16:27.352269Z",
     "iopub.status.busy": "2020-12-17T14:16:27.352269Z",
     "iopub.status.idle": "2020-12-17T14:16:27.367939Z",
     "shell.execute_reply": "2020-12-17T14:16:27.367939Z"
    }
   },
   "outputs": [],
   "source": [
    "multibat_matched = multibat_matched_runs[int(np.argmax(num_unique_filemixes))]"
   ]
  },
  {
   "cell_type": "markdown",
   "metadata": {},
   "source": [
    "There are some file mixes that are repeated - let's get rid of those! We'll do this by removing the second repeated file mix."
   ]
  },
  {
   "cell_type": "code",
   "execution_count": 28,
   "metadata": {
    "execution": {
     "iopub.execute_input": "2020-12-17T14:16:27.373945Z",
     "iopub.status.busy": "2020-12-17T14:16:27.373945Z",
     "iopub.status.idle": "2020-12-17T14:16:27.389631Z",
     "shell.execute_reply": "2020-12-17T14:16:27.389631Z"
    }
   },
   "outputs": [],
   "source": [
    "multibat_matched_unique = {}\n",
    "\n",
    "filemixes_tillnow = []\n",
    "for obsfile, filemix in multibat_matched.items():\n",
    "   \n",
    "    already_encountered = filemix in filemixes_tillnow\n",
    "    if not already_encountered:\n",
    "        multibat_matched_unique[obsfile] = filemix\n",
    "        filemixes_tillnow.append(filemix)\n"
   ]
  },
  {
   "cell_type": "code",
   "execution_count": 29,
   "metadata": {
    "execution": {
     "iopub.execute_input": "2020-12-17T14:16:27.389631Z",
     "iopub.status.busy": "2020-12-17T14:16:27.389631Z",
     "iopub.status.idle": "2020-12-17T14:16:27.405255Z",
     "shell.execute_reply": "2020-12-17T14:16:27.405255Z"
    }
   },
   "outputs": [
    {
     "data": {
      "text/plain": [
       "104"
      ]
     },
     "execution_count": 1,
     "metadata": {},
     "output_type": "execute_result"
    }
   ],
   "source": [
    "len(multibat_matched)"
   ]
  },
  {
   "cell_type": "code",
   "execution_count": 30,
   "metadata": {
    "execution": {
     "iopub.execute_input": "2020-12-17T14:16:27.405255Z",
     "iopub.status.busy": "2020-12-17T14:16:27.405255Z",
     "iopub.status.idle": "2020-12-17T14:16:27.420838Z",
     "shell.execute_reply": "2020-12-17T14:16:27.420838Z"
    }
   },
   "outputs": [
    {
     "data": {
      "text/plain": [
       "89"
      ]
     },
     "execution_count": 1,
     "metadata": {},
     "output_type": "execute_result"
    }
   ],
   "source": [
    "len(multibat_matched_unique)"
   ]
  },
  {
   "cell_type": "code",
   "execution_count": 31,
   "metadata": {
    "execution": {
     "iopub.execute_input": "2020-12-17T14:16:27.420838Z",
     "iopub.status.busy": "2020-12-17T14:16:27.420838Z",
     "iopub.status.idle": "2020-12-17T14:16:35.156563Z",
     "shell.execute_reply": "2020-12-17T14:16:35.156563Z"
    },
    "scrolled": true
   },
   "outputs": [
    {
     "name": "stdout",
     "output_type": "stream",
     "text": [
      "Match found!\n",
      "Match found!\n",
      "Match found!\n",
      "Match found!\n"
     ]
    },
    {
     "name": "stdout",
     "output_type": "stream",
     "text": [
      "Match found!\n",
      "Match found!\n",
      "Match found!\n",
      "Match found!\n"
     ]
    },
    {
     "name": "stdout",
     "output_type": "stream",
     "text": [
      "Match found!\n",
      "Match found!\n",
      "Match found!\n",
      "Match found!\n"
     ]
    },
    {
     "name": "stdout",
     "output_type": "stream",
     "text": [
      "Match found!\n",
      "Match found!\n",
      "Match found!\n",
      "Match found!\n",
      "Match found!\n",
      "Match found!\n",
      "Match found!\n"
     ]
    },
    {
     "name": "stdout",
     "output_type": "stream",
     "text": [
      "Match found!\n",
      "Match found!\n",
      "Match found!\n",
      "Match found!\n",
      "Match found!\n",
      "Match found!\n",
      "Match found!\n",
      "Match found!\n"
     ]
    },
    {
     "name": "stdout",
     "output_type": "stream",
     "text": [
      "Match found!\n",
      "Match found!\n",
      "Match found!\n",
      "Match found!\n",
      "Match found!\n",
      "Match found!\n",
      "Match found!\n"
     ]
    },
    {
     "name": "stdout",
     "output_type": "stream",
     "text": [
      "Match found!\n",
      "Match found!\n",
      "Match found!\n",
      "Match found!\n",
      "Match found!\n",
      "Match found!\n"
     ]
    },
    {
     "name": "stdout",
     "output_type": "stream",
     "text": [
      "Match found!\n",
      "Match found!\n"
     ]
    },
    {
     "name": "stdout",
     "output_type": "stream",
     "text": [
      "Match found!\n",
      "Match found!\n",
      "Match found!\n",
      "Match found!\n"
     ]
    },
    {
     "name": "stdout",
     "output_type": "stream",
     "text": [
      "Match found!\n",
      "Match found!\n",
      "Match found!\n",
      "Match found!\n",
      "Match found!\n",
      "Match found!\n",
      "Match found!\n"
     ]
    },
    {
     "name": "stdout",
     "output_type": "stream",
     "text": [
      "Match found!\n",
      "Match found!\n"
     ]
    },
    {
     "name": "stdout",
     "output_type": "stream",
     "text": [
      "Match found!\n",
      "Match found!\n",
      "Match found!\n",
      "Match found!\n",
      "Match found!\n",
      "Match found!\n",
      "Match found!\n"
     ]
    },
    {
     "name": "stdout",
     "output_type": "stream",
     "text": [
      "Match found!\n",
      "Match found!\n",
      "Match found!\n",
      "Match found!\n",
      "Match found!\n",
      "Match found!\n",
      "Match found!\n",
      "Match found!\n"
     ]
    },
    {
     "name": "stdout",
     "output_type": "stream",
     "text": [
      "Match found!\n",
      "Match found!\n",
      "Match found!\n",
      "Match found!\n",
      "Match found!\n",
      "Match found!\n",
      "Match found!\n",
      "Match found!\n"
     ]
    },
    {
     "name": "stdout",
     "output_type": "stream",
     "text": [
      "Match found!\n",
      "Match found!\n",
      "Match found!\n",
      "Match found!\n",
      "Match found!\n",
      "Match found!\n",
      "Match found!\n"
     ]
    },
    {
     "name": "stdout",
     "output_type": "stream",
     "text": [
      "Match found!\n",
      "Match found!\n",
      "Match found!\n",
      "Match found!\n",
      "Match found!\n"
     ]
    },
    {
     "name": "stdout",
     "output_type": "stream",
     "text": [
      "Match found!\n",
      "Match found!\n",
      "Match found!\n",
      "Match found!\n",
      "Match found!\n",
      "Match found!\n"
     ]
    },
    {
     "name": "stdout",
     "output_type": "stream",
     "text": [
      "Match found!\n",
      "Match found!\n",
      "Match found!\n",
      "Match found!\n",
      "Match found!\n",
      "Match found!\n",
      "Match found!\n"
     ]
    },
    {
     "name": "stdout",
     "output_type": "stream",
     "text": [
      "Match found!\n",
      "Match found!\n",
      "Match found!\n",
      "Match found!\n",
      "Match found!\n",
      "Match found!\n",
      "Match found!\n",
      "Match found!\n",
      "Match found!\n",
      "Match found!\n"
     ]
    },
    {
     "name": "stdout",
     "output_type": "stream",
     "text": [
      "Match found!\n",
      "Match found!\n",
      "Match found!\n",
      "Match found!\n",
      "Match found!\n",
      "Match found!\n",
      "Match found!\n",
      "Match found!\n",
      "Match found!\n"
     ]
    },
    {
     "name": "stdout",
     "output_type": "stream",
     "text": [
      "Match found!\n",
      "Match found!\n",
      "Match found!\n",
      "Match found!\n",
      "Match found!\n",
      "Match found!\n"
     ]
    },
    {
     "name": "stdout",
     "output_type": "stream",
     "text": [
      "Match found!\n",
      "Match found!\n",
      "Match found!\n",
      "Match found!\n",
      "Match found!\n",
      "Match found!\n"
     ]
    },
    {
     "name": "stdout",
     "output_type": "stream",
     "text": [
      "Match found!\n",
      "Match found!\n",
      "Match found!\n",
      "Match found!\n",
      "Match found!\n",
      "Match found!\n",
      "Match found!\n"
     ]
    },
    {
     "name": "stdout",
     "output_type": "stream",
     "text": [
      "Match found!\n",
      "Match found!\n",
      "Match found!\n",
      "Match found!\n",
      "Match found!\n",
      "Match found!\n",
      "Match found!\n"
     ]
    },
    {
     "name": "stdout",
     "output_type": "stream",
     "text": [
      "Match found!\n",
      "Match found!\n",
      "Match found!\n",
      "Match found!\n",
      "Match found!\n"
     ]
    },
    {
     "name": "stdout",
     "output_type": "stream",
     "text": [
      "Match found!\n",
      "Match found!\n",
      "Match found!\n",
      "Match found!\n",
      "Match found!\n",
      "Match found!\n",
      "Match found!\n",
      "Match found!\n"
     ]
    },
    {
     "name": "stdout",
     "output_type": "stream",
     "text": [
      "Match found!\n",
      "Match found!\n",
      "Match found!\n",
      "Match found!\n",
      "Match found!\n",
      "Match found!\n",
      "Match found!\n",
      "Match found!\n",
      "Match found!\n",
      "Match found!\n"
     ]
    },
    {
     "name": "stdout",
     "output_type": "stream",
     "text": [
      "Match found!\n",
      "Match found!\n",
      "Match found!\n",
      "Match found!\n",
      "Match found!\n",
      "Match found!\n",
      "Match found!\n",
      "Match found!\n"
     ]
    },
    {
     "name": "stdout",
     "output_type": "stream",
     "text": [
      "Match found!\n",
      "Match found!\n",
      "Match found!\n",
      "Match found!\n"
     ]
    },
    {
     "name": "stdout",
     "output_type": "stream",
     "text": [
      "Match found!\n",
      "Match found!\n",
      "Match found!\n"
     ]
    },
    {
     "name": "stdout",
     "output_type": "stream",
     "text": [
      "Match found!\n",
      "Match found!\n",
      "Match found!\n",
      "Match found!\n",
      "Match found!\n",
      "Match found!\n",
      "Match found!\n"
     ]
    },
    {
     "name": "stdout",
     "output_type": "stream",
     "text": [
      "Match found!\n",
      "Match found!\n",
      "Match found!\n",
      "Match found!\n",
      "Match found!\n"
     ]
    },
    {
     "name": "stdout",
     "output_type": "stream",
     "text": [
      "Match found!\n",
      "Match found!\n",
      "Match found!\n",
      "Match found!\n"
     ]
    }
   ],
   "source": [
    "virtual_audio_folder = 'virtual_multi_bat_audio/'\n",
    "if not os.path.isdir(virtual_audio_folder):\n",
    "    os.mkdir(virtual_audio_folder)\n",
    "else:\n",
    "    # delete all files in the folder if it already exists\n",
    "    files = glob.glob(virtual_audio_folder+'*')\n",
    "    for f in files:\n",
    "        os.remove(f)\n",
    "\n",
    "for multibatfile, matched_files in multibat_matched_unique.items():\n",
    "    # load the 1st channel of all the audio files\n",
    "    audio_data = []\n",
    "    for each in matched_files:\n",
    "        filepath = cca.find_file_in_folder(each, audio_folder)[0]\n",
    "        audio, fs = sf.read(filepath)\n",
    "        audio_data.append(audio[:,0])\n",
    "    smallest_audio = np.min([each.size for each in audio_data])\n",
    "    combined_audio = np.zeros(smallest_audio)\n",
    "    \n",
    "    for singleaudio in audio_data:\n",
    "        combined_audio += singleaudio[:smallest_audio]\n",
    "    final_path = os.path.join(virtual_audio_folder,multibatfile[:-4]+'_singlebatmixed.WAV')\n",
    "    sf.write(final_path, combined_audio, fs)\n",
    "        "
   ]
  },
  {
   "cell_type": "markdown",
   "metadata": {},
   "source": [
    "### Also save the source file information for all the virtual multi bat audio files\n"
   ]
  },
  {
   "cell_type": "code",
   "execution_count": 32,
   "metadata": {
    "execution": {
     "iopub.execute_input": "2020-12-17T14:16:35.156563Z",
     "iopub.status.busy": "2020-12-17T14:16:35.156563Z",
     "iopub.status.idle": "2020-12-17T14:16:35.310326Z",
     "shell.execute_reply": "2020-12-17T14:16:35.310326Z"
    }
   },
   "outputs": [],
   "source": [
    "obs_multibat_files = list(multibat_matched.keys())\n",
    "source_single_files = [ str(each[1])[2:-2] for each in list(multibat_matched.items())]\n",
    "\n",
    "virtual_multibat_fileaddition = pd.DataFrame(data={'multibat_filename': obs_multibat_files,\n",
    "                                                  'source_single_bat_files': source_single_files})\n",
    "\n",
    "def fix_filenaming(each):\n",
    "    part1, part2 = each.split('.')\n",
    "    actual_name = part1+'_singlebatmixed.'+part2\n",
    "    return actual_name\n",
    "\n",
    "virtual_multibat_fileaddition['actual_virtual_filenames'] = virtual_multibat_fileaddition['multibat_filename'].apply(fix_filenaming)\n",
    "\n",
    "virtual_multibat_fileaddition.to_csv('source_files_for_virtual_multibat_audio.csv')"
   ]
  },
  {
   "cell_type": "code",
   "execution_count": 33,
   "metadata": {
    "execution": {
     "iopub.execute_input": "2020-12-17T14:16:35.310326Z",
     "iopub.status.busy": "2020-12-17T14:16:35.310326Z",
     "iopub.status.idle": "2020-12-17T14:16:35.611107Z",
     "shell.execute_reply": "2020-12-17T14:16:35.611107Z"
    }
   },
   "outputs": [
    {
     "data": {
      "application/javascript": [
       "/* Put everything inside the global mpl namespace */\n",
       "/* global mpl */\n",
       "window.mpl = {};\n",
       "\n",
       "mpl.get_websocket_type = function () {\n",
       "    if (typeof WebSocket !== 'undefined') {\n",
       "        return WebSocket;\n",
       "    } else if (typeof MozWebSocket !== 'undefined') {\n",
       "        return MozWebSocket;\n",
       "    } else {\n",
       "        alert(\n",
       "            'Your browser does not have WebSocket support. ' +\n",
       "                'Please try Chrome, Safari or Firefox ≥ 6. ' +\n",
       "                'Firefox 4 and 5 are also supported but you ' +\n",
       "                'have to enable WebSockets in about:config.'\n",
       "        );\n",
       "    }\n",
       "};\n",
       "\n",
       "mpl.figure = function (figure_id, websocket, ondownload, parent_element) {\n",
       "    this.id = figure_id;\n",
       "\n",
       "    this.ws = websocket;\n",
       "\n",
       "    this.supports_binary = this.ws.binaryType !== undefined;\n",
       "\n",
       "    if (!this.supports_binary) {\n",
       "        var warnings = document.getElementById('mpl-warnings');\n",
       "        if (warnings) {\n",
       "            warnings.style.display = 'block';\n",
       "            warnings.textContent =\n",
       "                'This browser does not support binary websocket messages. ' +\n",
       "                'Performance may be slow.';\n",
       "        }\n",
       "    }\n",
       "\n",
       "    this.imageObj = new Image();\n",
       "\n",
       "    this.context = undefined;\n",
       "    this.message = undefined;\n",
       "    this.canvas = undefined;\n",
       "    this.rubberband_canvas = undefined;\n",
       "    this.rubberband_context = undefined;\n",
       "    this.format_dropdown = undefined;\n",
       "\n",
       "    this.image_mode = 'full';\n",
       "\n",
       "    this.root = document.createElement('div');\n",
       "    this.root.setAttribute('style', 'display: inline-block');\n",
       "    this._root_extra_style(this.root);\n",
       "\n",
       "    parent_element.appendChild(this.root);\n",
       "\n",
       "    this._init_header(this);\n",
       "    this._init_canvas(this);\n",
       "    this._init_toolbar(this);\n",
       "\n",
       "    var fig = this;\n",
       "\n",
       "    this.waiting = false;\n",
       "\n",
       "    this.ws.onopen = function () {\n",
       "        fig.send_message('supports_binary', { value: fig.supports_binary });\n",
       "        fig.send_message('send_image_mode', {});\n",
       "        if (fig.ratio !== 1) {\n",
       "            fig.send_message('set_dpi_ratio', { dpi_ratio: fig.ratio });\n",
       "        }\n",
       "        fig.send_message('refresh', {});\n",
       "    };\n",
       "\n",
       "    this.imageObj.onload = function () {\n",
       "        if (fig.image_mode === 'full') {\n",
       "            // Full images could contain transparency (where diff images\n",
       "            // almost always do), so we need to clear the canvas so that\n",
       "            // there is no ghosting.\n",
       "            fig.context.clearRect(0, 0, fig.canvas.width, fig.canvas.height);\n",
       "        }\n",
       "        fig.context.drawImage(fig.imageObj, 0, 0);\n",
       "    };\n",
       "\n",
       "    this.imageObj.onunload = function () {\n",
       "        fig.ws.close();\n",
       "    };\n",
       "\n",
       "    this.ws.onmessage = this._make_on_message_function(this);\n",
       "\n",
       "    this.ondownload = ondownload;\n",
       "};\n",
       "\n",
       "mpl.figure.prototype._init_header = function () {\n",
       "    var titlebar = document.createElement('div');\n",
       "    titlebar.classList =\n",
       "        'ui-dialog-titlebar ui-widget-header ui-corner-all ui-helper-clearfix';\n",
       "    var titletext = document.createElement('div');\n",
       "    titletext.classList = 'ui-dialog-title';\n",
       "    titletext.setAttribute(\n",
       "        'style',\n",
       "        'width: 100%; text-align: center; padding: 3px;'\n",
       "    );\n",
       "    titlebar.appendChild(titletext);\n",
       "    this.root.appendChild(titlebar);\n",
       "    this.header = titletext;\n",
       "};\n",
       "\n",
       "mpl.figure.prototype._canvas_extra_style = function (_canvas_div) {};\n",
       "\n",
       "mpl.figure.prototype._root_extra_style = function (_canvas_div) {};\n",
       "\n",
       "mpl.figure.prototype._init_canvas = function () {\n",
       "    var fig = this;\n",
       "\n",
       "    var canvas_div = (this.canvas_div = document.createElement('div'));\n",
       "    canvas_div.setAttribute(\n",
       "        'style',\n",
       "        'border: 1px solid #ddd;' +\n",
       "            'box-sizing: content-box;' +\n",
       "            'clear: both;' +\n",
       "            'min-height: 1px;' +\n",
       "            'min-width: 1px;' +\n",
       "            'outline: 0;' +\n",
       "            'overflow: hidden;' +\n",
       "            'position: relative;' +\n",
       "            'resize: both;'\n",
       "    );\n",
       "\n",
       "    function on_keyboard_event_closure(name) {\n",
       "        return function (event) {\n",
       "            return fig.key_event(event, name);\n",
       "        };\n",
       "    }\n",
       "\n",
       "    canvas_div.addEventListener(\n",
       "        'keydown',\n",
       "        on_keyboard_event_closure('key_press')\n",
       "    );\n",
       "    canvas_div.addEventListener(\n",
       "        'keyup',\n",
       "        on_keyboard_event_closure('key_release')\n",
       "    );\n",
       "\n",
       "    this._canvas_extra_style(canvas_div);\n",
       "    this.root.appendChild(canvas_div);\n",
       "\n",
       "    var canvas = (this.canvas = document.createElement('canvas'));\n",
       "    canvas.classList.add('mpl-canvas');\n",
       "    canvas.setAttribute('style', 'box-sizing: content-box;');\n",
       "\n",
       "    this.context = canvas.getContext('2d');\n",
       "\n",
       "    var backingStore =\n",
       "        this.context.backingStorePixelRatio ||\n",
       "        this.context.webkitBackingStorePixelRatio ||\n",
       "        this.context.mozBackingStorePixelRatio ||\n",
       "        this.context.msBackingStorePixelRatio ||\n",
       "        this.context.oBackingStorePixelRatio ||\n",
       "        this.context.backingStorePixelRatio ||\n",
       "        1;\n",
       "\n",
       "    this.ratio = (window.devicePixelRatio || 1) / backingStore;\n",
       "    if (this.ratio !== 1) {\n",
       "        fig.send_message('set_dpi_ratio', { dpi_ratio: this.ratio });\n",
       "    }\n",
       "\n",
       "    var rubberband_canvas = (this.rubberband_canvas = document.createElement(\n",
       "        'canvas'\n",
       "    ));\n",
       "    rubberband_canvas.setAttribute(\n",
       "        'style',\n",
       "        'box-sizing: content-box; position: absolute; left: 0; top: 0; z-index: 1;'\n",
       "    );\n",
       "\n",
       "    // Apply a ponyfill if ResizeObserver is not implemented by browser.\n",
       "    if (this.ResizeObserver === undefined) {\n",
       "        if (window.ResizeObserver !== undefined) {\n",
       "            this.ResizeObserver = window.ResizeObserver;\n",
       "        } else {\n",
       "            var obs = _JSXTOOLS_RESIZE_OBSERVER({});\n",
       "            this.ResizeObserver = obs.ResizeObserver;\n",
       "        }\n",
       "    }\n",
       "\n",
       "    this.resizeObserverInstance = new this.ResizeObserver(function (entries) {\n",
       "        var nentries = entries.length;\n",
       "        for (var i = 0; i < nentries; i++) {\n",
       "            var entry = entries[i];\n",
       "            var width, height;\n",
       "            if (entry.contentBoxSize) {\n",
       "                if (entry.contentBoxSize instanceof Array) {\n",
       "                    // Chrome 84 implements new version of spec.\n",
       "                    width = entry.contentBoxSize[0].inlineSize;\n",
       "                    height = entry.contentBoxSize[0].blockSize;\n",
       "                } else {\n",
       "                    // Firefox implements old version of spec.\n",
       "                    width = entry.contentBoxSize.inlineSize;\n",
       "                    height = entry.contentBoxSize.blockSize;\n",
       "                }\n",
       "            } else {\n",
       "                // Chrome <84 implements even older version of spec.\n",
       "                width = entry.contentRect.width;\n",
       "                height = entry.contentRect.height;\n",
       "            }\n",
       "\n",
       "            // Keep the size of the canvas and rubber band canvas in sync with\n",
       "            // the canvas container.\n",
       "            if (entry.devicePixelContentBoxSize) {\n",
       "                // Chrome 84 implements new version of spec.\n",
       "                canvas.setAttribute(\n",
       "                    'width',\n",
       "                    entry.devicePixelContentBoxSize[0].inlineSize\n",
       "                );\n",
       "                canvas.setAttribute(\n",
       "                    'height',\n",
       "                    entry.devicePixelContentBoxSize[0].blockSize\n",
       "                );\n",
       "            } else {\n",
       "                canvas.setAttribute('width', width * fig.ratio);\n",
       "                canvas.setAttribute('height', height * fig.ratio);\n",
       "            }\n",
       "            canvas.setAttribute(\n",
       "                'style',\n",
       "                'width: ' + width + 'px; height: ' + height + 'px;'\n",
       "            );\n",
       "\n",
       "            rubberband_canvas.setAttribute('width', width);\n",
       "            rubberband_canvas.setAttribute('height', height);\n",
       "\n",
       "            // And update the size in Python. We ignore the initial 0/0 size\n",
       "            // that occurs as the element is placed into the DOM, which should\n",
       "            // otherwise not happen due to the minimum size styling.\n",
       "            if (width != 0 && height != 0) {\n",
       "                fig.request_resize(width, height);\n",
       "            }\n",
       "        }\n",
       "    });\n",
       "    this.resizeObserverInstance.observe(canvas_div);\n",
       "\n",
       "    function on_mouse_event_closure(name) {\n",
       "        return function (event) {\n",
       "            return fig.mouse_event(event, name);\n",
       "        };\n",
       "    }\n",
       "\n",
       "    rubberband_canvas.addEventListener(\n",
       "        'mousedown',\n",
       "        on_mouse_event_closure('button_press')\n",
       "    );\n",
       "    rubberband_canvas.addEventListener(\n",
       "        'mouseup',\n",
       "        on_mouse_event_closure('button_release')\n",
       "    );\n",
       "    // Throttle sequential mouse events to 1 every 20ms.\n",
       "    rubberband_canvas.addEventListener(\n",
       "        'mousemove',\n",
       "        on_mouse_event_closure('motion_notify')\n",
       "    );\n",
       "\n",
       "    rubberband_canvas.addEventListener(\n",
       "        'mouseenter',\n",
       "        on_mouse_event_closure('figure_enter')\n",
       "    );\n",
       "    rubberband_canvas.addEventListener(\n",
       "        'mouseleave',\n",
       "        on_mouse_event_closure('figure_leave')\n",
       "    );\n",
       "\n",
       "    canvas_div.addEventListener('wheel', function (event) {\n",
       "        if (event.deltaY < 0) {\n",
       "            event.step = 1;\n",
       "        } else {\n",
       "            event.step = -1;\n",
       "        }\n",
       "        on_mouse_event_closure('scroll')(event);\n",
       "    });\n",
       "\n",
       "    canvas_div.appendChild(canvas);\n",
       "    canvas_div.appendChild(rubberband_canvas);\n",
       "\n",
       "    this.rubberband_context = rubberband_canvas.getContext('2d');\n",
       "    this.rubberband_context.strokeStyle = '#000000';\n",
       "\n",
       "    this._resize_canvas = function (width, height, forward) {\n",
       "        if (forward) {\n",
       "            canvas_div.style.width = width + 'px';\n",
       "            canvas_div.style.height = height + 'px';\n",
       "        }\n",
       "    };\n",
       "\n",
       "    // Disable right mouse context menu.\n",
       "    this.rubberband_canvas.addEventListener('contextmenu', function (_e) {\n",
       "        event.preventDefault();\n",
       "        return false;\n",
       "    });\n",
       "\n",
       "    function set_focus() {\n",
       "        canvas.focus();\n",
       "        canvas_div.focus();\n",
       "    }\n",
       "\n",
       "    window.setTimeout(set_focus, 100);\n",
       "};\n",
       "\n",
       "mpl.figure.prototype._init_toolbar = function () {\n",
       "    var fig = this;\n",
       "\n",
       "    var toolbar = document.createElement('div');\n",
       "    toolbar.classList = 'mpl-toolbar';\n",
       "    this.root.appendChild(toolbar);\n",
       "\n",
       "    function on_click_closure(name) {\n",
       "        return function (_event) {\n",
       "            return fig.toolbar_button_onclick(name);\n",
       "        };\n",
       "    }\n",
       "\n",
       "    function on_mouseover_closure(tooltip) {\n",
       "        return function (event) {\n",
       "            if (!event.currentTarget.disabled) {\n",
       "                return fig.toolbar_button_onmouseover(tooltip);\n",
       "            }\n",
       "        };\n",
       "    }\n",
       "\n",
       "    fig.buttons = {};\n",
       "    var buttonGroup = document.createElement('div');\n",
       "    buttonGroup.classList = 'mpl-button-group';\n",
       "    for (var toolbar_ind in mpl.toolbar_items) {\n",
       "        var name = mpl.toolbar_items[toolbar_ind][0];\n",
       "        var tooltip = mpl.toolbar_items[toolbar_ind][1];\n",
       "        var image = mpl.toolbar_items[toolbar_ind][2];\n",
       "        var method_name = mpl.toolbar_items[toolbar_ind][3];\n",
       "\n",
       "        if (!name) {\n",
       "            /* Instead of a spacer, we start a new button group. */\n",
       "            if (buttonGroup.hasChildNodes()) {\n",
       "                toolbar.appendChild(buttonGroup);\n",
       "            }\n",
       "            buttonGroup = document.createElement('div');\n",
       "            buttonGroup.classList = 'mpl-button-group';\n",
       "            continue;\n",
       "        }\n",
       "\n",
       "        var button = (fig.buttons[name] = document.createElement('button'));\n",
       "        button.classList = 'mpl-widget';\n",
       "        button.setAttribute('role', 'button');\n",
       "        button.setAttribute('aria-disabled', 'false');\n",
       "        button.addEventListener('click', on_click_closure(method_name));\n",
       "        button.addEventListener('mouseover', on_mouseover_closure(tooltip));\n",
       "\n",
       "        var icon_img = document.createElement('img');\n",
       "        icon_img.src = '_images/' + image + '.png';\n",
       "        icon_img.srcset = '_images/' + image + '_large.png 2x';\n",
       "        icon_img.alt = tooltip;\n",
       "        button.appendChild(icon_img);\n",
       "\n",
       "        buttonGroup.appendChild(button);\n",
       "    }\n",
       "\n",
       "    if (buttonGroup.hasChildNodes()) {\n",
       "        toolbar.appendChild(buttonGroup);\n",
       "    }\n",
       "\n",
       "    var fmt_picker = document.createElement('select');\n",
       "    fmt_picker.classList = 'mpl-widget';\n",
       "    toolbar.appendChild(fmt_picker);\n",
       "    this.format_dropdown = fmt_picker;\n",
       "\n",
       "    for (var ind in mpl.extensions) {\n",
       "        var fmt = mpl.extensions[ind];\n",
       "        var option = document.createElement('option');\n",
       "        option.selected = fmt === mpl.default_extension;\n",
       "        option.innerHTML = fmt;\n",
       "        fmt_picker.appendChild(option);\n",
       "    }\n",
       "\n",
       "    var status_bar = document.createElement('span');\n",
       "    status_bar.classList = 'mpl-message';\n",
       "    toolbar.appendChild(status_bar);\n",
       "    this.message = status_bar;\n",
       "};\n",
       "\n",
       "mpl.figure.prototype.request_resize = function (x_pixels, y_pixels) {\n",
       "    // Request matplotlib to resize the figure. Matplotlib will then trigger a resize in the client,\n",
       "    // which will in turn request a refresh of the image.\n",
       "    this.send_message('resize', { width: x_pixels, height: y_pixels });\n",
       "};\n",
       "\n",
       "mpl.figure.prototype.send_message = function (type, properties) {\n",
       "    properties['type'] = type;\n",
       "    properties['figure_id'] = this.id;\n",
       "    this.ws.send(JSON.stringify(properties));\n",
       "};\n",
       "\n",
       "mpl.figure.prototype.send_draw_message = function () {\n",
       "    if (!this.waiting) {\n",
       "        this.waiting = true;\n",
       "        this.ws.send(JSON.stringify({ type: 'draw', figure_id: this.id }));\n",
       "    }\n",
       "};\n",
       "\n",
       "mpl.figure.prototype.handle_save = function (fig, _msg) {\n",
       "    var format_dropdown = fig.format_dropdown;\n",
       "    var format = format_dropdown.options[format_dropdown.selectedIndex].value;\n",
       "    fig.ondownload(fig, format);\n",
       "};\n",
       "\n",
       "mpl.figure.prototype.handle_resize = function (fig, msg) {\n",
       "    var size = msg['size'];\n",
       "    if (size[0] !== fig.canvas.width || size[1] !== fig.canvas.height) {\n",
       "        fig._resize_canvas(size[0], size[1], msg['forward']);\n",
       "        fig.send_message('refresh', {});\n",
       "    }\n",
       "};\n",
       "\n",
       "mpl.figure.prototype.handle_rubberband = function (fig, msg) {\n",
       "    var x0 = msg['x0'] / fig.ratio;\n",
       "    var y0 = (fig.canvas.height - msg['y0']) / fig.ratio;\n",
       "    var x1 = msg['x1'] / fig.ratio;\n",
       "    var y1 = (fig.canvas.height - msg['y1']) / fig.ratio;\n",
       "    x0 = Math.floor(x0) + 0.5;\n",
       "    y0 = Math.floor(y0) + 0.5;\n",
       "    x1 = Math.floor(x1) + 0.5;\n",
       "    y1 = Math.floor(y1) + 0.5;\n",
       "    var min_x = Math.min(x0, x1);\n",
       "    var min_y = Math.min(y0, y1);\n",
       "    var width = Math.abs(x1 - x0);\n",
       "    var height = Math.abs(y1 - y0);\n",
       "\n",
       "    fig.rubberband_context.clearRect(\n",
       "        0,\n",
       "        0,\n",
       "        fig.canvas.width / fig.ratio,\n",
       "        fig.canvas.height / fig.ratio\n",
       "    );\n",
       "\n",
       "    fig.rubberband_context.strokeRect(min_x, min_y, width, height);\n",
       "};\n",
       "\n",
       "mpl.figure.prototype.handle_figure_label = function (fig, msg) {\n",
       "    // Updates the figure title.\n",
       "    fig.header.textContent = msg['label'];\n",
       "};\n",
       "\n",
       "mpl.figure.prototype.handle_cursor = function (fig, msg) {\n",
       "    var cursor = msg['cursor'];\n",
       "    switch (cursor) {\n",
       "        case 0:\n",
       "            cursor = 'pointer';\n",
       "            break;\n",
       "        case 1:\n",
       "            cursor = 'default';\n",
       "            break;\n",
       "        case 2:\n",
       "            cursor = 'crosshair';\n",
       "            break;\n",
       "        case 3:\n",
       "            cursor = 'move';\n",
       "            break;\n",
       "    }\n",
       "    fig.rubberband_canvas.style.cursor = cursor;\n",
       "};\n",
       "\n",
       "mpl.figure.prototype.handle_message = function (fig, msg) {\n",
       "    fig.message.textContent = msg['message'];\n",
       "};\n",
       "\n",
       "mpl.figure.prototype.handle_draw = function (fig, _msg) {\n",
       "    // Request the server to send over a new figure.\n",
       "    fig.send_draw_message();\n",
       "};\n",
       "\n",
       "mpl.figure.prototype.handle_image_mode = function (fig, msg) {\n",
       "    fig.image_mode = msg['mode'];\n",
       "};\n",
       "\n",
       "mpl.figure.prototype.handle_history_buttons = function (fig, msg) {\n",
       "    for (var key in msg) {\n",
       "        if (!(key in fig.buttons)) {\n",
       "            continue;\n",
       "        }\n",
       "        fig.buttons[key].disabled = !msg[key];\n",
       "        fig.buttons[key].setAttribute('aria-disabled', !msg[key]);\n",
       "    }\n",
       "};\n",
       "\n",
       "mpl.figure.prototype.handle_navigate_mode = function (fig, msg) {\n",
       "    if (msg['mode'] === 'PAN') {\n",
       "        fig.buttons['Pan'].classList.add('active');\n",
       "        fig.buttons['Zoom'].classList.remove('active');\n",
       "    } else if (msg['mode'] === 'ZOOM') {\n",
       "        fig.buttons['Pan'].classList.remove('active');\n",
       "        fig.buttons['Zoom'].classList.add('active');\n",
       "    } else {\n",
       "        fig.buttons['Pan'].classList.remove('active');\n",
       "        fig.buttons['Zoom'].classList.remove('active');\n",
       "    }\n",
       "};\n",
       "\n",
       "mpl.figure.prototype.updated_canvas_event = function () {\n",
       "    // Called whenever the canvas gets updated.\n",
       "    this.send_message('ack', {});\n",
       "};\n",
       "\n",
       "// A function to construct a web socket function for onmessage handling.\n",
       "// Called in the figure constructor.\n",
       "mpl.figure.prototype._make_on_message_function = function (fig) {\n",
       "    return function socket_on_message(evt) {\n",
       "        if (evt.data instanceof Blob) {\n",
       "            /* FIXME: We get \"Resource interpreted as Image but\n",
       "             * transferred with MIME type text/plain:\" errors on\n",
       "             * Chrome.  But how to set the MIME type?  It doesn't seem\n",
       "             * to be part of the websocket stream */\n",
       "            evt.data.type = 'image/png';\n",
       "\n",
       "            /* Free the memory for the previous frames */\n",
       "            if (fig.imageObj.src) {\n",
       "                (window.URL || window.webkitURL).revokeObjectURL(\n",
       "                    fig.imageObj.src\n",
       "                );\n",
       "            }\n",
       "\n",
       "            fig.imageObj.src = (window.URL || window.webkitURL).createObjectURL(\n",
       "                evt.data\n",
       "            );\n",
       "            fig.updated_canvas_event();\n",
       "            fig.waiting = false;\n",
       "            return;\n",
       "        } else if (\n",
       "            typeof evt.data === 'string' &&\n",
       "            evt.data.slice(0, 21) === 'data:image/png;base64'\n",
       "        ) {\n",
       "            fig.imageObj.src = evt.data;\n",
       "            fig.updated_canvas_event();\n",
       "            fig.waiting = false;\n",
       "            return;\n",
       "        }\n",
       "\n",
       "        var msg = JSON.parse(evt.data);\n",
       "        var msg_type = msg['type'];\n",
       "\n",
       "        // Call the  \"handle_{type}\" callback, which takes\n",
       "        // the figure and JSON message as its only arguments.\n",
       "        try {\n",
       "            var callback = fig['handle_' + msg_type];\n",
       "        } catch (e) {\n",
       "            console.log(\n",
       "                \"No handler for the '\" + msg_type + \"' message type: \",\n",
       "                msg\n",
       "            );\n",
       "            return;\n",
       "        }\n",
       "\n",
       "        if (callback) {\n",
       "            try {\n",
       "                // console.log(\"Handling '\" + msg_type + \"' message: \", msg);\n",
       "                callback(fig, msg);\n",
       "            } catch (e) {\n",
       "                console.log(\n",
       "                    \"Exception inside the 'handler_\" + msg_type + \"' callback:\",\n",
       "                    e,\n",
       "                    e.stack,\n",
       "                    msg\n",
       "                );\n",
       "            }\n",
       "        }\n",
       "    };\n",
       "};\n",
       "\n",
       "// from http://stackoverflow.com/questions/1114465/getting-mouse-location-in-canvas\n",
       "mpl.findpos = function (e) {\n",
       "    //this section is from http://www.quirksmode.org/js/events_properties.html\n",
       "    var targ;\n",
       "    if (!e) {\n",
       "        e = window.event;\n",
       "    }\n",
       "    if (e.target) {\n",
       "        targ = e.target;\n",
       "    } else if (e.srcElement) {\n",
       "        targ = e.srcElement;\n",
       "    }\n",
       "    if (targ.nodeType === 3) {\n",
       "        // defeat Safari bug\n",
       "        targ = targ.parentNode;\n",
       "    }\n",
       "\n",
       "    // pageX,Y are the mouse positions relative to the document\n",
       "    var boundingRect = targ.getBoundingClientRect();\n",
       "    var x = e.pageX - (boundingRect.left + document.body.scrollLeft);\n",
       "    var y = e.pageY - (boundingRect.top + document.body.scrollTop);\n",
       "\n",
       "    return { x: x, y: y };\n",
       "};\n",
       "\n",
       "/*\n",
       " * return a copy of an object with only non-object keys\n",
       " * we need this to avoid circular references\n",
       " * http://stackoverflow.com/a/24161582/3208463\n",
       " */\n",
       "function simpleKeys(original) {\n",
       "    return Object.keys(original).reduce(function (obj, key) {\n",
       "        if (typeof original[key] !== 'object') {\n",
       "            obj[key] = original[key];\n",
       "        }\n",
       "        return obj;\n",
       "    }, {});\n",
       "}\n",
       "\n",
       "mpl.figure.prototype.mouse_event = function (event, name) {\n",
       "    var canvas_pos = mpl.findpos(event);\n",
       "\n",
       "    if (name === 'button_press') {\n",
       "        this.canvas.focus();\n",
       "        this.canvas_div.focus();\n",
       "    }\n",
       "\n",
       "    var x = canvas_pos.x * this.ratio;\n",
       "    var y = canvas_pos.y * this.ratio;\n",
       "\n",
       "    this.send_message(name, {\n",
       "        x: x,\n",
       "        y: y,\n",
       "        button: event.button,\n",
       "        step: event.step,\n",
       "        guiEvent: simpleKeys(event),\n",
       "    });\n",
       "\n",
       "    /* This prevents the web browser from automatically changing to\n",
       "     * the text insertion cursor when the button is pressed.  We want\n",
       "     * to control all of the cursor setting manually through the\n",
       "     * 'cursor' event from matplotlib */\n",
       "    event.preventDefault();\n",
       "    return false;\n",
       "};\n",
       "\n",
       "mpl.figure.prototype._key_event_extra = function (_event, _name) {\n",
       "    // Handle any extra behaviour associated with a key event\n",
       "};\n",
       "\n",
       "mpl.figure.prototype.key_event = function (event, name) {\n",
       "    // Prevent repeat events\n",
       "    if (name === 'key_press') {\n",
       "        if (event.which === this._key) {\n",
       "            return;\n",
       "        } else {\n",
       "            this._key = event.which;\n",
       "        }\n",
       "    }\n",
       "    if (name === 'key_release') {\n",
       "        this._key = null;\n",
       "    }\n",
       "\n",
       "    var value = '';\n",
       "    if (event.ctrlKey && event.which !== 17) {\n",
       "        value += 'ctrl+';\n",
       "    }\n",
       "    if (event.altKey && event.which !== 18) {\n",
       "        value += 'alt+';\n",
       "    }\n",
       "    if (event.shiftKey && event.which !== 16) {\n",
       "        value += 'shift+';\n",
       "    }\n",
       "\n",
       "    value += 'k';\n",
       "    value += event.which.toString();\n",
       "\n",
       "    this._key_event_extra(event, name);\n",
       "\n",
       "    this.send_message(name, { key: value, guiEvent: simpleKeys(event) });\n",
       "    return false;\n",
       "};\n",
       "\n",
       "mpl.figure.prototype.toolbar_button_onclick = function (name) {\n",
       "    if (name === 'download') {\n",
       "        this.handle_save(this, null);\n",
       "    } else {\n",
       "        this.send_message('toolbar_button', { name: name });\n",
       "    }\n",
       "};\n",
       "\n",
       "mpl.figure.prototype.toolbar_button_onmouseover = function (tooltip) {\n",
       "    this.message.textContent = tooltip;\n",
       "};\n",
       "\n",
       "///////////////// REMAINING CONTENT GENERATED BY embed_js.py /////////////////\n",
       "// prettier-ignore\n",
       "var _JSXTOOLS_RESIZE_OBSERVER=function(A){var t,i=new WeakMap,n=new WeakMap,a=new WeakMap,r=new WeakMap,o=new Set;function s(e){if(!(this instanceof s))throw new TypeError(\"Constructor requires 'new' operator\");i.set(this,e)}function h(){throw new TypeError(\"Function is not a constructor\")}function c(e,t,i,n){e=0 in arguments?Number(arguments[0]):0,t=1 in arguments?Number(arguments[1]):0,i=2 in arguments?Number(arguments[2]):0,n=3 in arguments?Number(arguments[3]):0,this.right=(this.x=this.left=e)+(this.width=i),this.bottom=(this.y=this.top=t)+(this.height=n),Object.freeze(this)}function d(){t=requestAnimationFrame(d);var s=new WeakMap,p=new Set;o.forEach((function(t){r.get(t).forEach((function(i){var r=t instanceof window.SVGElement,o=a.get(t),d=r?0:parseFloat(o.paddingTop),f=r?0:parseFloat(o.paddingRight),l=r?0:parseFloat(o.paddingBottom),u=r?0:parseFloat(o.paddingLeft),g=r?0:parseFloat(o.borderTopWidth),m=r?0:parseFloat(o.borderRightWidth),w=r?0:parseFloat(o.borderBottomWidth),b=u+f,F=d+l,v=(r?0:parseFloat(o.borderLeftWidth))+m,W=g+w,y=r?0:t.offsetHeight-W-t.clientHeight,E=r?0:t.offsetWidth-v-t.clientWidth,R=b+v,z=F+W,M=r?t.width:parseFloat(o.width)-R-E,O=r?t.height:parseFloat(o.height)-z-y;if(n.has(t)){var k=n.get(t);if(k[0]===M&&k[1]===O)return}n.set(t,[M,O]);var S=Object.create(h.prototype);S.target=t,S.contentRect=new c(u,d,M,O),s.has(i)||(s.set(i,[]),p.add(i)),s.get(i).push(S)}))})),p.forEach((function(e){i.get(e).call(e,s.get(e),e)}))}return s.prototype.observe=function(i){if(i instanceof window.Element){r.has(i)||(r.set(i,new Set),o.add(i),a.set(i,window.getComputedStyle(i)));var n=r.get(i);n.has(this)||n.add(this),cancelAnimationFrame(t),t=requestAnimationFrame(d)}},s.prototype.unobserve=function(i){if(i instanceof window.Element&&r.has(i)){var n=r.get(i);n.has(this)&&(n.delete(this),n.size||(r.delete(i),o.delete(i))),n.size||r.delete(i),o.size||cancelAnimationFrame(t)}},A.DOMRectReadOnly=c,A.ResizeObserver=s,A.ResizeObserverEntry=h,A}; // eslint-disable-line\n",
       "mpl.toolbar_items = [[\"Home\", \"Reset original view\", \"fa fa-home icon-home\", \"home\"], [\"Back\", \"Back to previous view\", \"fa fa-arrow-left icon-arrow-left\", \"back\"], [\"Forward\", \"Forward to next view\", \"fa fa-arrow-right icon-arrow-right\", \"forward\"], [\"\", \"\", \"\", \"\"], [\"Pan\", \"Left button pans, Right button zooms\\nx/y fixes axis, CTRL fixes aspect\", \"fa fa-arrows icon-move\", \"pan\"], [\"Zoom\", \"Zoom to rectangle\\nx/y fixes axis, CTRL fixes aspect\", \"fa fa-square-o icon-check-empty\", \"zoom\"], [\"\", \"\", \"\", \"\"], [\"Download\", \"Download plot\", \"fa fa-floppy-o icon-save\", \"download\"]];\n",
       "\n",
       "mpl.extensions = [\"eps\", \"jpeg\", \"pdf\", \"png\", \"ps\", \"raw\", \"svg\", \"tif\"];\n",
       "\n",
       "mpl.default_extension = \"png\";/* global mpl */\n",
       "\n",
       "var comm_websocket_adapter = function (comm) {\n",
       "    // Create a \"websocket\"-like object which calls the given IPython comm\n",
       "    // object with the appropriate methods. Currently this is a non binary\n",
       "    // socket, so there is still some room for performance tuning.\n",
       "    var ws = {};\n",
       "\n",
       "    ws.close = function () {\n",
       "        comm.close();\n",
       "    };\n",
       "    ws.send = function (m) {\n",
       "        //console.log('sending', m);\n",
       "        comm.send(m);\n",
       "    };\n",
       "    // Register the callback with on_msg.\n",
       "    comm.on_msg(function (msg) {\n",
       "        //console.log('receiving', msg['content']['data'], msg);\n",
       "        // Pass the mpl event to the overridden (by mpl) onmessage function.\n",
       "        ws.onmessage(msg['content']['data']);\n",
       "    });\n",
       "    return ws;\n",
       "};\n",
       "\n",
       "mpl.mpl_figure_comm = function (comm, msg) {\n",
       "    // This is the function which gets called when the mpl process\n",
       "    // starts-up an IPython Comm through the \"matplotlib\" channel.\n",
       "\n",
       "    var id = msg.content.data.id;\n",
       "    // Get hold of the div created by the display call when the Comm\n",
       "    // socket was opened in Python.\n",
       "    var element = document.getElementById(id);\n",
       "    var ws_proxy = comm_websocket_adapter(comm);\n",
       "\n",
       "    function ondownload(figure, _format) {\n",
       "        window.open(figure.canvas.toDataURL());\n",
       "    }\n",
       "\n",
       "    var fig = new mpl.figure(id, ws_proxy, ondownload, element);\n",
       "\n",
       "    // Call onopen now - mpl needs it, as it is assuming we've passed it a real\n",
       "    // web socket which is closed, not our websocket->open comm proxy.\n",
       "    ws_proxy.onopen();\n",
       "\n",
       "    fig.parent_element = element;\n",
       "    fig.cell_info = mpl.find_output_cell(\"<div id='\" + id + \"'></div>\");\n",
       "    if (!fig.cell_info) {\n",
       "        console.error('Failed to find cell for figure', id, fig);\n",
       "        return;\n",
       "    }\n",
       "    fig.cell_info[0].output_area.element.on(\n",
       "        'cleared',\n",
       "        { fig: fig },\n",
       "        fig._remove_fig_handler\n",
       "    );\n",
       "};\n",
       "\n",
       "mpl.figure.prototype.handle_close = function (fig, msg) {\n",
       "    var width = fig.canvas.width / fig.ratio;\n",
       "    fig.cell_info[0].output_area.element.off(\n",
       "        'cleared',\n",
       "        fig._remove_fig_handler\n",
       "    );\n",
       "    fig.resizeObserverInstance.unobserve(fig.canvas_div);\n",
       "\n",
       "    // Update the output cell to use the data from the current canvas.\n",
       "    fig.push_to_output();\n",
       "    var dataURL = fig.canvas.toDataURL();\n",
       "    // Re-enable the keyboard manager in IPython - without this line, in FF,\n",
       "    // the notebook keyboard shortcuts fail.\n",
       "    IPython.keyboard_manager.enable();\n",
       "    fig.parent_element.innerHTML =\n",
       "        '<img src=\"' + dataURL + '\" width=\"' + width + '\">';\n",
       "    fig.close_ws(fig, msg);\n",
       "};\n",
       "\n",
       "mpl.figure.prototype.close_ws = function (fig, msg) {\n",
       "    fig.send_message('closing', msg);\n",
       "    // fig.ws.close()\n",
       "};\n",
       "\n",
       "mpl.figure.prototype.push_to_output = function (_remove_interactive) {\n",
       "    // Turn the data on the canvas into data in the output cell.\n",
       "    var width = this.canvas.width / this.ratio;\n",
       "    var dataURL = this.canvas.toDataURL();\n",
       "    this.cell_info[1]['text/html'] =\n",
       "        '<img src=\"' + dataURL + '\" width=\"' + width + '\">';\n",
       "};\n",
       "\n",
       "mpl.figure.prototype.updated_canvas_event = function () {\n",
       "    // Tell IPython that the notebook contents must change.\n",
       "    IPython.notebook.set_dirty(true);\n",
       "    this.send_message('ack', {});\n",
       "    var fig = this;\n",
       "    // Wait a second, then push the new image to the DOM so\n",
       "    // that it is saved nicely (might be nice to debounce this).\n",
       "    setTimeout(function () {\n",
       "        fig.push_to_output();\n",
       "    }, 1000);\n",
       "};\n",
       "\n",
       "mpl.figure.prototype._init_toolbar = function () {\n",
       "    var fig = this;\n",
       "\n",
       "    var toolbar = document.createElement('div');\n",
       "    toolbar.classList = 'btn-toolbar';\n",
       "    this.root.appendChild(toolbar);\n",
       "\n",
       "    function on_click_closure(name) {\n",
       "        return function (_event) {\n",
       "            return fig.toolbar_button_onclick(name);\n",
       "        };\n",
       "    }\n",
       "\n",
       "    function on_mouseover_closure(tooltip) {\n",
       "        return function (event) {\n",
       "            if (!event.currentTarget.disabled) {\n",
       "                return fig.toolbar_button_onmouseover(tooltip);\n",
       "            }\n",
       "        };\n",
       "    }\n",
       "\n",
       "    fig.buttons = {};\n",
       "    var buttonGroup = document.createElement('div');\n",
       "    buttonGroup.classList = 'btn-group';\n",
       "    var button;\n",
       "    for (var toolbar_ind in mpl.toolbar_items) {\n",
       "        var name = mpl.toolbar_items[toolbar_ind][0];\n",
       "        var tooltip = mpl.toolbar_items[toolbar_ind][1];\n",
       "        var image = mpl.toolbar_items[toolbar_ind][2];\n",
       "        var method_name = mpl.toolbar_items[toolbar_ind][3];\n",
       "\n",
       "        if (!name) {\n",
       "            /* Instead of a spacer, we start a new button group. */\n",
       "            if (buttonGroup.hasChildNodes()) {\n",
       "                toolbar.appendChild(buttonGroup);\n",
       "            }\n",
       "            buttonGroup = document.createElement('div');\n",
       "            buttonGroup.classList = 'btn-group';\n",
       "            continue;\n",
       "        }\n",
       "\n",
       "        button = fig.buttons[name] = document.createElement('button');\n",
       "        button.classList = 'btn btn-default';\n",
       "        button.href = '#';\n",
       "        button.title = name;\n",
       "        button.innerHTML = '<i class=\"fa ' + image + ' fa-lg\"></i>';\n",
       "        button.addEventListener('click', on_click_closure(method_name));\n",
       "        button.addEventListener('mouseover', on_mouseover_closure(tooltip));\n",
       "        buttonGroup.appendChild(button);\n",
       "    }\n",
       "\n",
       "    if (buttonGroup.hasChildNodes()) {\n",
       "        toolbar.appendChild(buttonGroup);\n",
       "    }\n",
       "\n",
       "    // Add the status bar.\n",
       "    var status_bar = document.createElement('span');\n",
       "    status_bar.classList = 'mpl-message pull-right';\n",
       "    toolbar.appendChild(status_bar);\n",
       "    this.message = status_bar;\n",
       "\n",
       "    // Add the close button to the window.\n",
       "    var buttongrp = document.createElement('div');\n",
       "    buttongrp.classList = 'btn-group inline pull-right';\n",
       "    button = document.createElement('button');\n",
       "    button.classList = 'btn btn-mini btn-primary';\n",
       "    button.href = '#';\n",
       "    button.title = 'Stop Interaction';\n",
       "    button.innerHTML = '<i class=\"fa fa-power-off icon-remove icon-large\"></i>';\n",
       "    button.addEventListener('click', function (_evt) {\n",
       "        fig.handle_close(fig, {});\n",
       "    });\n",
       "    button.addEventListener(\n",
       "        'mouseover',\n",
       "        on_mouseover_closure('Stop Interaction')\n",
       "    );\n",
       "    buttongrp.appendChild(button);\n",
       "    var titlebar = this.root.querySelector('.ui-dialog-titlebar');\n",
       "    titlebar.insertBefore(buttongrp, titlebar.firstChild);\n",
       "};\n",
       "\n",
       "mpl.figure.prototype._remove_fig_handler = function (event) {\n",
       "    var fig = event.data.fig;\n",
       "    if (event.target !== this) {\n",
       "        // Ignore bubbled events from children.\n",
       "        return;\n",
       "    }\n",
       "    fig.close_ws(fig, {});\n",
       "};\n",
       "\n",
       "mpl.figure.prototype._root_extra_style = function (el) {\n",
       "    el.style.boxSizing = 'content-box'; // override notebook setting of border-box.\n",
       "};\n",
       "\n",
       "mpl.figure.prototype._canvas_extra_style = function (el) {\n",
       "    // this is important to make the div 'focusable\n",
       "    el.setAttribute('tabindex', 0);\n",
       "    // reach out to IPython and tell the keyboard manager to turn it's self\n",
       "    // off when our div gets focus\n",
       "\n",
       "    // location in version 3\n",
       "    if (IPython.notebook.keyboard_manager) {\n",
       "        IPython.notebook.keyboard_manager.register_events(el);\n",
       "    } else {\n",
       "        // location in version 2\n",
       "        IPython.keyboard_manager.register_events(el);\n",
       "    }\n",
       "};\n",
       "\n",
       "mpl.figure.prototype._key_event_extra = function (event, _name) {\n",
       "    var manager = IPython.notebook.keyboard_manager;\n",
       "    if (!manager) {\n",
       "        manager = IPython.keyboard_manager;\n",
       "    }\n",
       "\n",
       "    // Check for shift+enter\n",
       "    if (event.shiftKey && event.which === 13) {\n",
       "        this.canvas_div.blur();\n",
       "        // select the cell after this one\n",
       "        var index = IPython.notebook.find_cell_index(this.cell_info[0]);\n",
       "        IPython.notebook.select(index + 1);\n",
       "    }\n",
       "};\n",
       "\n",
       "mpl.figure.prototype.handle_save = function (fig, _msg) {\n",
       "    fig.ondownload(fig, null);\n",
       "};\n",
       "\n",
       "mpl.find_output_cell = function (html_output) {\n",
       "    // Return the cell and output element which can be found *uniquely* in the notebook.\n",
       "    // Note - this is a bit hacky, but it is done because the \"notebook_saving.Notebook\"\n",
       "    // IPython event is triggered only after the cells have been serialised, which for\n",
       "    // our purposes (turning an active figure into a static one), is too late.\n",
       "    var cells = IPython.notebook.get_cells();\n",
       "    var ncells = cells.length;\n",
       "    for (var i = 0; i < ncells; i++) {\n",
       "        var cell = cells[i];\n",
       "        if (cell.cell_type === 'code') {\n",
       "            for (var j = 0; j < cell.output_area.outputs.length; j++) {\n",
       "                var data = cell.output_area.outputs[j];\n",
       "                if (data.data) {\n",
       "                    // IPython >= 3 moved mimebundle to data attribute of output\n",
       "                    data = data.data;\n",
       "                }\n",
       "                if (data['text/html'] === html_output) {\n",
       "                    return [cell, data, j];\n",
       "                }\n",
       "            }\n",
       "        }\n",
       "    }\n",
       "};\n",
       "\n",
       "// Register the function which deals with the matplotlib target/channel.\n",
       "// The kernel may be null if the page has been refreshed.\n",
       "if (IPython.notebook.kernel !== null) {\n",
       "    IPython.notebook.kernel.comm_manager.register_target(\n",
       "        'matplotlib',\n",
       "        mpl.mpl_figure_comm\n",
       "    );\n",
       "}\n"
      ],
      "text/plain": [
       "<IPython.core.display.Javascript object>"
      ]
     },
     "metadata": {},
     "output_type": "display_data"
    },
    {
     "data": {
      "text/html": [
       "<div id='99b54aec-82f9-4d1b-a7a5-36a13c8018b4'></div>"
      ],
      "text/plain": [
       "<IPython.core.display.HTML object>"
      ]
     },
     "metadata": {},
     "output_type": "display_data"
    },
    {
     "data": {
      "text/plain": [
       "(array([[6.33347740e-13, 5.49569677e-13, 6.25005606e-13, ...,\n",
       "         6.41614927e-13, 6.70312101e-13, 6.07532601e-13],\n",
       "        [3.21480324e-13, 2.60976449e-13, 3.20224333e-13, ...,\n",
       "         3.45458214e-13, 3.64432201e-13, 3.06510023e-13],\n",
       "        [1.60978964e-15, 1.70651796e-16, 1.62446614e-17, ...,\n",
       "         3.03553631e-15, 2.35936951e-15, 1.10300262e-15],\n",
       "        ...,\n",
       "        [4.28985321e-11, 4.57509024e-11, 4.31093045e-12, ...,\n",
       "         1.86572874e-11, 3.68712076e-11, 1.32492244e-10],\n",
       "        [2.14719004e-11, 1.72138147e-10, 5.50819513e-11, ...,\n",
       "         4.74158710e-11, 1.56276279e-13, 1.22874210e-10],\n",
       "        [2.18696143e-12, 8.60661887e-11, 8.01223250e-12, ...,\n",
       "         1.71916082e-11, 8.88742753e-12, 7.28680057e-11]]),\n",
       " array([     0.    ,    976.5625,   1953.125 ,   2929.6875,   3906.25  ,\n",
       "          4882.8125,   5859.375 ,   6835.9375,   7812.5   ,   8789.0625,\n",
       "          9765.625 ,  10742.1875,  11718.75  ,  12695.3125,  13671.875 ,\n",
       "         14648.4375,  15625.    ,  16601.5625,  17578.125 ,  18554.6875,\n",
       "         19531.25  ,  20507.8125,  21484.375 ,  22460.9375,  23437.5   ,\n",
       "         24414.0625,  25390.625 ,  26367.1875,  27343.75  ,  28320.3125,\n",
       "         29296.875 ,  30273.4375,  31250.    ,  32226.5625,  33203.125 ,\n",
       "         34179.6875,  35156.25  ,  36132.8125,  37109.375 ,  38085.9375,\n",
       "         39062.5   ,  40039.0625,  41015.625 ,  41992.1875,  42968.75  ,\n",
       "         43945.3125,  44921.875 ,  45898.4375,  46875.    ,  47851.5625,\n",
       "         48828.125 ,  49804.6875,  50781.25  ,  51757.8125,  52734.375 ,\n",
       "         53710.9375,  54687.5   ,  55664.0625,  56640.625 ,  57617.1875,\n",
       "         58593.75  ,  59570.3125,  60546.875 ,  61523.4375,  62500.    ,\n",
       "         63476.5625,  64453.125 ,  65429.6875,  66406.25  ,  67382.8125,\n",
       "         68359.375 ,  69335.9375,  70312.5   ,  71289.0625,  72265.625 ,\n",
       "         73242.1875,  74218.75  ,  75195.3125,  76171.875 ,  77148.4375,\n",
       "         78125.    ,  79101.5625,  80078.125 ,  81054.6875,  82031.25  ,\n",
       "         83007.8125,  83984.375 ,  84960.9375,  85937.5   ,  86914.0625,\n",
       "         87890.625 ,  88867.1875,  89843.75  ,  90820.3125,  91796.875 ,\n",
       "         92773.4375,  93750.    ,  94726.5625,  95703.125 ,  96679.6875,\n",
       "         97656.25  ,  98632.8125,  99609.375 , 100585.9375, 101562.5   ,\n",
       "        102539.0625, 103515.625 , 104492.1875, 105468.75  , 106445.3125,\n",
       "        107421.875 , 108398.4375, 109375.    , 110351.5625, 111328.125 ,\n",
       "        112304.6875, 113281.25  , 114257.8125, 115234.375 , 116210.9375,\n",
       "        117187.5   , 118164.0625, 119140.625 , 120117.1875, 121093.75  ,\n",
       "        122070.3125, 123046.875 , 124023.4375, 125000.    ]),\n",
       " array([5.120000e-04, 1.024000e-03, 1.536000e-03, ..., 5.598208e+00,\n",
       "        5.598720e+00, 5.599232e+00]),\n",
       " <matplotlib.image.AxesImage at 0x1f9d6098f98>)"
      ]
     },
     "execution_count": 1,
     "metadata": {},
     "output_type": "execute_result"
    }
   ],
   "source": [
    "plt.figure()\n",
    "ax1 = plt.subplot(211)\n",
    "plt.plot(np.linspace(0,combined_audio.size/fs, combined_audio.size),combined_audio)\n",
    "ax2 = plt.subplot(212, sharex=ax1)\n",
    "plt.specgram(combined_audio, Fs=fs);\n"
   ]
  },
  {
   "cell_type": "code",
   "execution_count": 34,
   "metadata": {
    "execution": {
     "iopub.execute_input": "2020-12-17T14:16:35.611107Z",
     "iopub.status.busy": "2020-12-17T14:16:35.611107Z",
     "iopub.status.idle": "2020-12-17T14:16:35.626731Z",
     "shell.execute_reply": "2020-12-17T14:16:35.626731Z"
    }
   },
   "outputs": [
    {
     "name": "stdout",
     "output_type": "stream",
     "text": [
      "Notebook run ended at 2020-12-17 15:16:35.611107\n"
     ]
    }
   ],
   "source": [
    "print(f'Notebook run ended at {dt.datetime.now()}')"
   ]
  }
 ],
 "metadata": {
  "kernelspec": {
   "display_name": "Python 3",
   "language": "python",
   "name": "python3"
  },
  "language_info": {
   "codemirror_mode": {
    "name": "ipython",
    "version": 3
   },
   "file_extension": ".py",
   "mimetype": "text/x-python",
   "name": "python",
   "nbconvert_exporter": "python",
   "pygments_lexer": "ipython3",
   "version": "3.7.0"
  }
 },
 "nbformat": 4,
 "nbformat_minor": 4
}
